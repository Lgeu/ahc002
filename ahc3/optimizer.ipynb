{
 "cells": [
  {
   "cell_type": "markdown",
   "metadata": {},
   "source": [
    "こういう感じのコメントを付ける\n",
    "\n",
    "```\n",
    "constexpr double LINE_LENGTH_LOSS_STEPPING_PROGRESS_RATE = 0.7001976706415303;  // OPTIMIZE [0.0, 1.0]\n",
    "constexpr double  LINE_LENGTH_LOSS_WEIGHT = 8.009299591633644e-06;  // OPTIMIZE [1e-8, 1e-4] LOG\n",
    "constexpr int N_RANDOM_FACE_CHOICE = 3;  // OPTIMIZE [1, 10]\n",
    "std::string hoge=\"hoge\";//OPTIMIZE{\"11\", \"unnn\" ,\"ooo\"}\n",
    "```\n",
    "\n",
    "`[` と `,` の間の文字列が Python の式として評価され、その結果の型が最適化に使われる\n",
    "\n",
    "/* でのコメントアウトは効かないので注意"
   ]
  },
  {
   "cell_type": "code",
   "execution_count": 1,
   "metadata": {},
   "outputs": [],
   "source": [
    "import re\n",
    "import sys\n",
    "from time import sleep\n",
    "from pprint import pprint\n",
    "from functools import partial\n",
    "\n",
    "import optuna\n",
    "try:\n",
    "    import pandas as pd\n",
    "except:\n",
    "    pass\n",
    "\n",
    "\n",
    "FILENAME = \"answer.cpp\""
   ]
  },
  {
   "cell_type": "code",
   "execution_count": 2,
   "metadata": {},
   "outputs": [
    {
     "name": "stdout",
     "output_type": "stream",
     "text": [
      "mkdir: cannot create directory ‘optimize_tmp’: File exists\r\n"
     ]
    }
   ],
   "source": [
    "!mkdir optimize_tmp"
   ]
  },
  {
   "cell_type": "code",
   "execution_count": 3,
   "metadata": {},
   "outputs": [
    {
     "name": "stdout",
     "output_type": "stream",
     "text": [
      "\u001b[01m\u001b[Kanswer.cpp:\u001b[m\u001b[K In constructor ‘\u001b[01m\u001b[KState::State(const Input&)\u001b[m\u001b[K’:\r\n",
      "\u001b[01m\u001b[Kanswer.cpp:393:30:\u001b[m\u001b[K \u001b[01;35m\u001b[Kwarning: \u001b[m\u001b[K‘\u001b[01m\u001b[KState::dfs_path\u001b[m\u001b[K’ will be initialized after [\u001b[01;35m\u001b[K-Wreorder\u001b[m\u001b[K]\r\n",
      "  393 |  Stack<Direction, MAX_DEPTH> \u001b[01;35m\u001b[Kdfs_path\u001b[m\u001b[K;\r\n",
      "      |                              \u001b[01;35m\u001b[K^~~~~~~~\u001b[m\u001b[K\r\n",
      "\u001b[01m\u001b[Kanswer.cpp:391:22:\u001b[m\u001b[K \u001b[01;35m\u001b[Kwarning: \u001b[m\u001b[K  ‘\u001b[01m\u001b[KStack<int, 2500> State::closed\u001b[m\u001b[K’ [\u001b[01;35m\u001b[K-Wreorder\u001b[m\u001b[K]\r\n",
      "  391 |  Stack<int, 50 * 50> \u001b[01;35m\u001b[Kclosed\u001b[m\u001b[K;\r\n",
      "      |                      \u001b[01;35m\u001b[K^~~~~~\u001b[m\u001b[K\r\n",
      "\u001b[01m\u001b[Kanswer.cpp:401:2:\u001b[m\u001b[K \u001b[01;35m\u001b[Kwarning: \u001b[m\u001b[K  when initialized here [\u001b[01;35m\u001b[K-Wreorder\u001b[m\u001b[K]\r\n",
      "  401 |  \u001b[01;35m\u001b[KState\u001b[m\u001b[K(const Input& a_input) : input(a_input), path(), dfs_path(), closed(),\r\n",
      "      |  \u001b[01;35m\u001b[K^~~~~\u001b[m\u001b[K\r\n"
     ]
    }
   ],
   "source": [
    "# 元のファイルのコンパイル\n",
    "!g++ {FILENAME} -std=gnu++17 -Wall -Wextra -O2 -DONLINE_JUDGE -o {FILENAME}.out"
   ]
  },
  {
   "cell_type": "code",
   "execution_count": 6,
   "metadata": {
    "scrolled": true
   },
   "outputs": [
    {
     "name": "stdout",
     "output_type": "stream",
     "text": [
      "\u001b[0m\u001b[0m\u001b[1m\u001b[32m   Compiling\u001b[0m libc v0.2.93\n",
      "\u001b[0m\u001b[0m\u001b[1m\u001b[32m   Compiling\u001b[0m getrandom v0.1.16\n",
      "\u001b[0m\u001b[0m\u001b[1m\u001b[32m   Compiling\u001b[0m proc-macro2 v0.4.30\n",
      "\u001b[0m\u001b[0m\u001b[1m\u001b[32m   Compiling\u001b[0m cfg-if v1.0.0\n",
      "\u001b[0m\u001b[0m\u001b[1m\u001b[32m   Compiling\u001b[0m unicode-xid v0.1.0\n",
      "\u001b[0m\u001b[0m\u001b[1m\u001b[32m   Compiling\u001b[0m syn v0.15.44\n",
      "\u001b[0m\u001b[0m\u001b[1m\u001b[32m   Compiling\u001b[0m ppv-lite86 v0.2.10\n",
      "\u001b[0m\u001b[0m\u001b[1m\u001b[32m   Compiling\u001b[0m either v1.6.1\n",
      "\u001b[0m\u001b[0m\u001b[1m\u001b[32m   Compiling\u001b[0m lazy_static v1.4.0\n",
      "\u001b[0m\u001b[0m\u001b[1m\u001b[32m   Compiling\u001b[0m svg v0.9.1\n",
      "\u001b[K\u001b[0m\u001b[0m\u001b[1m\u001b[32m   Compiling\u001b[0m itertools v0.9.0          ] 3/28: getrandom(build.rs), ppv-...\n",
      "\u001b[K\u001b[0m\u001b[0m\u001b[1m\u001b[32m   Compiling\u001b[0m quote v0.6.13            ] 13/28: libc, itertools, svg, pro...\n",
      "\u001b[K\u001b[0m\u001b[0m\u001b[1m\u001b[32m   Compiling\u001b[0m rand_core v0.5.1         ] 18/28: getrandom, syn              \n",
      "\u001b[K\u001b[0m\u001b[0m\u001b[1m\u001b[32m   Compiling\u001b[0m rand_pcg v0.2.1>         ] 19/28: syn, rand_core              \n",
      "\u001b[0m\u001b[0m\u001b[1m\u001b[32m   Compiling\u001b[0m rand_chacha v0.2.2\n",
      "\u001b[K\u001b[0m\u001b[0m\u001b[1m\u001b[32m   Compiling\u001b[0m rand v0.7.3======>       ] 21/28: syn, rand_chacha            \n",
      "\u001b[K\u001b[0m\u001b[0m\u001b[1m\u001b[32m   Compiling\u001b[0m proconio-derive v0.1.9   ] 23/28: syn                         \n",
      "\u001b[K\u001b[0m\u001b[0m\u001b[1m\u001b[32m   Compiling\u001b[0m proconio v0.3.6=====>    ] 24/28: proconio-derive             \n",
      "\u001b[K\u001b[0m\u001b[0m\u001b[1m\u001b[32m   Compiling\u001b[0m tools v1.0.0 (/home/nagis/ahc3/tools)conio                    \n",
      "\u001b[K\u001b[0m\u001b[0m\u001b[1m\u001b[32m    Finished\u001b[0m release [optimized] target(s) in 11.72sin)                    \n",
      "\u001b[0m\u001b[0m\u001b[1m\u001b[32m     Running\u001b[0m `tools/target/release/gen`\n",
      "Usage: tools/target/release/gen seeds.txt\n"
     ]
    }
   ],
   "source": [
    "# テストケース生成\n",
    "!wget https://img.atcoder.jp/ahc002/c993bb7f09d9f8857fc90951fc6af11d.zip\n",
    "!unzip c993bb7f09d9f8857fc90951fc6af11d.zip\n",
    "\n",
    "SEED = 201\n",
    "N_TESTCASES = 50\n",
    "!seq {SEED} {SEED+N_TESTCASES-1} | cargo run --release --manifest-path ./tools/Cargo.toml --bin gen"
   ]
  },
  {
   "cell_type": "code",
   "execution_count": 7,
   "metadata": {},
   "outputs": [],
   "source": [
    "!tools/target/release/gen tools/seeds.txt"
   ]
  },
  {
   "cell_type": "code",
   "execution_count": 8,
   "metadata": {},
   "outputs": [
    {
     "name": "stdout",
     "output_type": "stream",
     "text": [
      "answer.cpp\tc993bb7f09d9f8857fc90951fc6af11d.zip  optimize_tmp     tools\r\n",
      "answer.cpp.out\tin\t\t\t\t      optimizer.ipynb\r\n"
     ]
    }
   ],
   "source": [
    "!ls"
   ]
  },
  {
   "cell_type": "code",
   "execution_count": 8,
   "metadata": {
    "scrolled": true
   },
   "outputs": [
    {
     "name": "stdout",
     "output_type": "stream",
     "text": [
      "5 variables were found.\n"
     ]
    },
    {
     "data": {
      "text/html": [
       "<div>\n",
       "<style scoped>\n",
       "    .dataframe tbody tr th:only-of-type {\n",
       "        vertical-align: middle;\n",
       "    }\n",
       "\n",
       "    .dataframe tbody tr th {\n",
       "        vertical-align: top;\n",
       "    }\n",
       "\n",
       "    .dataframe thead th {\n",
       "        text-align: right;\n",
       "    }\n",
       "</style>\n",
       "<table border=\"1\" class=\"dataframe\">\n",
       "  <thead>\n",
       "    <tr style=\"text-align: right;\">\n",
       "      <th></th>\n",
       "      <th>name</th>\n",
       "      <th>method</th>\n",
       "      <th>min</th>\n",
       "      <th>max</th>\n",
       "      <th>log</th>\n",
       "      <th>left</th>\n",
       "      <th>right</th>\n",
       "    </tr>\n",
       "  </thead>\n",
       "  <tbody>\n",
       "    <tr>\n",
       "      <th>0</th>\n",
       "      <td>COEF_CENTER_L1</td>\n",
       "      <td>suggest_float</td>\n",
       "      <td>-100.0</td>\n",
       "      <td>100.0</td>\n",
       "      <td>False</td>\n",
       "      <td>\\t\\tconstexpr double COEF_CENTER_L1 =</td>\n",
       "      <td>;  // OPTIMIZE [-100.0, 100.0]</td>\n",
       "    </tr>\n",
       "    <tr>\n",
       "      <th>1</th>\n",
       "      <td>COEF_CENTER_L1_SQ</td>\n",
       "      <td>suggest_float</td>\n",
       "      <td>0.0</td>\n",
       "      <td>200.0</td>\n",
       "      <td>False</td>\n",
       "      <td>\\t\\tconstexpr double COEF_CENTER_L1_SQ =</td>\n",
       "      <td>;  // OPTIMIZE [0.0, 200.0]</td>\n",
       "    </tr>\n",
       "    <tr>\n",
       "      <th>2</th>\n",
       "      <td>COEF_POINT</td>\n",
       "      <td>suggest_float</td>\n",
       "      <td>0.0</td>\n",
       "      <td>100.0</td>\n",
       "      <td>False</td>\n",
       "      <td>\\t\\tconstexpr double COEF_POINT =</td>\n",
       "      <td>;  // OPTIMIZE [0.0, 100.0]</td>\n",
       "    </tr>\n",
       "    <tr>\n",
       "      <th>3</th>\n",
       "      <td>COEF_DIST</td>\n",
       "      <td>suggest_float</td>\n",
       "      <td>0.0</td>\n",
       "      <td>10000.0</td>\n",
       "      <td>False</td>\n",
       "      <td>\\t\\tconstexpr double COEF_DIST =</td>\n",
       "      <td>;  // OPTIMIZE [0.0, 10000.0]</td>\n",
       "    </tr>\n",
       "    <tr>\n",
       "      <th>4</th>\n",
       "      <td>COEF_TWIST</td>\n",
       "      <td>suggest_float</td>\n",
       "      <td>0.0</td>\n",
       "      <td>1000000.0</td>\n",
       "      <td>False</td>\n",
       "      <td>\\t\\tconstexpr double COEF_TWIST =</td>\n",
       "      <td>;  // OPTIMIZE [0.0, 1000000.0]</td>\n",
       "    </tr>\n",
       "  </tbody>\n",
       "</table>\n",
       "</div>"
      ],
      "text/plain": [
       "                name         method    min        max    log  \\\n",
       "0     COEF_CENTER_L1  suggest_float -100.0      100.0  False   \n",
       "1  COEF_CENTER_L1_SQ  suggest_float    0.0      200.0  False   \n",
       "2         COEF_POINT  suggest_float    0.0      100.0  False   \n",
       "3          COEF_DIST  suggest_float    0.0    10000.0  False   \n",
       "4         COEF_TWIST  suggest_float    0.0  1000000.0  False   \n",
       "\n",
       "                                        left                            right  \n",
       "0     \\t\\tconstexpr double COEF_CENTER_L1 =    ;  // OPTIMIZE [-100.0, 100.0]  \n",
       "1  \\t\\tconstexpr double COEF_CENTER_L1_SQ =       ;  // OPTIMIZE [0.0, 200.0]  \n",
       "2         \\t\\tconstexpr double COEF_POINT =       ;  // OPTIMIZE [0.0, 100.0]  \n",
       "3          \\t\\tconstexpr double COEF_DIST =     ;  // OPTIMIZE [0.0, 10000.0]  \n",
       "4         \\t\\tconstexpr double COEF_TWIST =   ;  // OPTIMIZE [0.0, 1000000.0]  "
      ]
     },
     "metadata": {},
     "output_type": "display_data"
    }
   ],
   "source": [
    "# ここでエラー出力は何かおかしいかもしれない\n",
    "\n",
    "\n",
    "# パラメータ抽出\n",
    "with open(FILENAME) as f:\n",
    "    answer = f.read()\n",
    "\n",
    "\n",
    "variables_optimize = []\n",
    "\n",
    "for left, value, right, options in re.findall(r\"^([^/\\n]*=\\s*)(.+?)(\\s*;\\s*//(?:.*\\W)?OPTIMIZE(\\W.*))$\", answer, re.MULTILINE):\n",
    "    name = left.replace(\"=\", \"\").strip().split()[-1]\n",
    "    \n",
    "    searched = re.search(r\".*\\[(?P<min>.*),(?P<max>.*)\\].*\", options)\n",
    "    if searched:\n",
    "        min_value = max_value = None\n",
    "        try:\n",
    "            min_value = eval(searched.group(\"min\"))\n",
    "            max_value = eval(searched.group(\"max\"))\n",
    "            assert min_value <= max_value\n",
    "        except Exception as e:\n",
    "            print(f\"searched={searched}\", file=sys.stderr)\n",
    "            print(e, file=sys.stderr)\n",
    "            continue\n",
    "        log = \"LOG\" in options  # 雑、直したほうが良い\n",
    "        if type(min_value) != type(max_value):\n",
    "            print(f\"searched={searched}\", file=sys.stderr)\n",
    "            print(\"types not matched\", file=sys.stderr)\n",
    "            continue\n",
    "        if isinstance(min_value, int):\n",
    "            method = \"suggest_int\"\n",
    "        elif isinstance(min_value, float):\n",
    "            method = \"suggest_float\"\n",
    "        else:\n",
    "            print(f\"searched={searched}\", file=sys.stderr)\n",
    "            print(f\"unknown type ({type(min_value)})\", file=sys.stderr)\n",
    "            continue\n",
    "        variables_optimize.append({\n",
    "            \"name\": name,\n",
    "            \"method\": method,\n",
    "            \"min\": min_value,\n",
    "            \"max\": max_value,\n",
    "            \"log\": log,\n",
    "            \"left\": left,\n",
    "            \"right\": right,\n",
    "        })\n",
    "    elif searched := re.search(r\".*\\{(?P<choices>.*?)\\}.*\", options):\n",
    "        choices = list(map(lambda x: x.strip(), searched.group(\"choices\").split(\",\")))\n",
    "        variables_optimize.append({\n",
    "            \"name\": name,\n",
    "            \"method\": \"suggest_categorical\",\n",
    "            \"choices\": choices,\n",
    "            \"left\": left,\n",
    "            \"right\": right,\n",
    "        })\n",
    "    else:\n",
    "        print(f\"searched={searched}\", file=sys.stderr)\n",
    "        print(f\"pattern was matched but options are incorrect.\", file=sys.stderr)\n",
    "\n",
    "print(len(variables_optimize), \"variables were found.\")\n",
    "if globals().get(\"pd\"):\n",
    "    display(pd.DataFrame(variables_optimize))\n",
    "else:\n",
    "    pprint(variables_optimize)"
   ]
  },
  {
   "cell_type": "code",
   "execution_count": 9,
   "metadata": {},
   "outputs": [],
   "source": [
    "def escape(string):  # 正規表現の中でそのまま使いたい文字列をエスケープ\n",
    "    res = !echo '{string}' | sed -e 's/[]\\/$*.^[]/\\\\&/g'\n",
    "    return res[0]\n",
    "\n",
    "def escape_sed(string):  # sed の置換後の文字列用のエスケープ\n",
    "    res = !echo '{string}' | sed -e 's/[\\/&]/\\\\&/g'\n",
    "    return res[0]\n",
    "\n",
    "\n",
    "def objective_with_index(trial, n_internal_parallel):\n",
    "    index_parallel = trial.number % 100\n",
    "    print(f\"{index_parallel=}\")\n",
    "    \n",
    "    parameters_changed_filename = f\"{index_parallel}_{FILENAME}\"\n",
    "    directory_input = \"./in\"  # \"/\" をつけない\n",
    "    \n",
    "    !mkdir {index_parallel}_out\n",
    "    !mkdir {index_parallel}_score\n",
    "    !rm {index_parallel}_out/*\n",
    "    !rm {index_parallel}_score/*\n",
    "    \n",
    "    # ファイル作成\n",
    "    !cp {FILENAME} {parameters_changed_filename}\n",
    "    sed_options = [f\"-i {parameters_changed_filename}\"]\n",
    "    for variable in variables_optimize:\n",
    "        if variable[\"method\"] == \"suggest_categorical\":\n",
    "            val =  trial.suggest_categorical(variable[\"name\"], variable[\"choices\"])\n",
    "        else:\n",
    "            val = getattr(trial, variable[\"method\"])(variable[\"name\"], variable[\"min\"], variable[\"max\"])\n",
    "        left = variable[\"left\"]\n",
    "        right = variable[\"right\"]\n",
    "        sed_options.append(f\"\"\"-e 's/^{escape(left)}.*{escape(right)}$/{escape_sed(left)}{val}{escape_sed(right)}/'\"\"\")\n",
    "    command_sed = f\"sed {' '.join(sed_options)}\"\n",
    "    print(command_sed)\n",
    "    !{command_sed}\n",
    "    \n",
    "    # コンパイル\n",
    "    command_compile = f\"g++ {parameters_changed_filename} -std=gnu++17 -O2 -DONLINE_JUDGE -o {parameters_changed_filename}.out\"\n",
    "    print(command_compile)\n",
    "    !{command_compile}\n",
    "    # 実行・採点コマンド (@ はファイル名)\n",
    "    command_exec = (\n",
    "        f\"./{parameters_changed_filename}.out < {directory_input}/@ > ./{index_parallel}_out/@;\"\n",
    "        f\"cargo run --release --manifest-path ./tools/Cargo.toml --bin vis {directory_input}/@ ./{index_parallel}_out/@ 2> /dev/null | sed -e s/[^0-9]//g > ./{index_parallel}_score/@;\"\n",
    "    )\n",
    "    # 並列実行 (sed はパスのディレクトリ部分を消してファイル名にしてる)\n",
    "    !find {directory_input}/* | sed 's!^.*/!!' | xargs -I@ -P {n_internal_parallel} sh -c '{command_exec}'\n",
    "    \n",
    "    # 集計\n",
    "    file_paths = !find ./{index_parallel}_score/*\n",
    "    sum_score = 0\n",
    "    for file_path in file_paths:  \n",
    "        with open(file_path) as f:\n",
    "            sum_score += int(f.read())\n",
    "    return sum_score\n",
    "\n"
   ]
  },
  {
   "cell_type": "code",
   "execution_count": 10,
   "metadata": {},
   "outputs": [
    {
     "data": {
      "text/plain": [
       "[{'name': 'COEF_CENTER_L1',\n",
       "  'method': 'suggest_float',\n",
       "  'min': -100.0,\n",
       "  'max': 100.0,\n",
       "  'log': False,\n",
       "  'left': '\\t\\tconstexpr double COEF_CENTER_L1 = ',\n",
       "  'right': ';  // OPTIMIZE [-100.0, 100.0]'},\n",
       " {'name': 'COEF_CENTER_L1_SQ',\n",
       "  'method': 'suggest_float',\n",
       "  'min': 0.0,\n",
       "  'max': 200.0,\n",
       "  'log': False,\n",
       "  'left': '\\t\\tconstexpr double COEF_CENTER_L1_SQ = ',\n",
       "  'right': ';  // OPTIMIZE [0.0, 200.0]'},\n",
       " {'name': 'COEF_POINT',\n",
       "  'method': 'suggest_float',\n",
       "  'min': 0.0,\n",
       "  'max': 100.0,\n",
       "  'log': False,\n",
       "  'left': '\\t\\tconstexpr double COEF_POINT = ',\n",
       "  'right': ';  // OPTIMIZE [0.0, 100.0]'},\n",
       " {'name': 'COEF_DIST',\n",
       "  'method': 'suggest_float',\n",
       "  'min': 0.0,\n",
       "  'max': 10000.0,\n",
       "  'log': False,\n",
       "  'left': '\\t\\tconstexpr double COEF_DIST = ',\n",
       "  'right': ';  // OPTIMIZE [0.0, 10000.0]'},\n",
       " {'name': 'COEF_TWIST',\n",
       "  'method': 'suggest_float',\n",
       "  'min': 0.0,\n",
       "  'max': 1000000.0,\n",
       "  'log': False,\n",
       "  'left': '\\t\\tconstexpr double COEF_TWIST = ',\n",
       "  'right': ';  // OPTIMIZE [0.0, 1000000.0]'}]"
      ]
     },
     "execution_count": 10,
     "metadata": {},
     "output_type": "execute_result"
    }
   ],
   "source": [
    "variables_optimize"
   ]
  },
  {
   "cell_type": "code",
   "execution_count": 12,
   "metadata": {},
   "outputs": [],
   "source": [
    "variables_optimize[0][\"max\"] = 100000.0"
   ]
  },
  {
   "cell_type": "code",
   "execution_count": 14,
   "metadata": {
    "scrolled": true
   },
   "outputs": [
    {
     "name": "stderr",
     "output_type": "stream",
     "text": [
      "\u001b[32m[I 2021-04-25 15:50:02,667]\u001b[0m Using an existing study with name 'study' instead of creating a new one.\u001b[0m\n"
     ]
    },
    {
     "name": "stdout",
     "output_type": "stream",
     "text": [
      "index_parallel=31\n",
      "index_parallel=27\n",
      "index_parallel=28\n",
      "index_parallel=30\n",
      "index_parallel=29\n",
      "mkdir: cannot create directory ‘31_out’: File exists\n",
      "mkdir: cannot create directory ‘27_out’: File exists\n",
      "index_parallel=32\n",
      "mkdir: cannot create directory ‘28_out’: File exists\n",
      "mkdir: cannot create directory ‘30_out’: File exists\n",
      "mkdir: cannot create directory ‘29_out’: File exists\n",
      "mkdir: cannot create directory ‘32_out’: File exists\n",
      "mkdir: cannot create directory ‘27_score’: File exists\n",
      "mkdir: cannot create directory ‘28_score’: File exists\n",
      "mkdir: cannot create directory ‘31_score’: File exists\n",
      "mkdir: cannot create directory ‘30_score’: File exists\n",
      "mkdir: cannot create directory ‘32_score’: File exists\n",
      "mkdir: cannot create directory ‘29_score’: File exists\n",
      "sed -i 27_answer.cpp -e 's/^\t\tconstexpr double COEF_CENTER_L1 = .*;  \\/\\/ OPTIMIZE \\[-100\\.0, 100\\.0\\]$/\t\tconstexpr double COEF_CENTER_L1 = 10.847007590217345;  \\/\\/ OPTIMIZE [-100.0, 100.0]/' -e 's/^\t\tconstexpr double COEF_CENTER_L1_SQ = .*;  \\/\\/ OPTIMIZE \\[0\\.0, 200\\.0\\]$/\t\tconstexpr double COEF_CENTER_L1_SQ = 0.46217459095208646;  \\/\\/ OPTIMIZE [0.0, 200.0]/' -e 's/^\t\tconstexpr double COEF_POINT = .*;  \\/\\/ OPTIMIZE \\[0\\.0, 100\\.0\\]$/\t\tconstexpr double COEF_POINT = 95.98407932509232;  \\/\\/ OPTIMIZE [0.0, 100.0]/' -e 's/^\t\tconstexpr double COEF_DIST = .*;  \\/\\/ OPTIMIZE \\[0\\.0, 10000\\.0\\]$/\t\tconstexpr double COEF_DIST = 1.405529489607689;  \\/\\/ OPTIMIZE [0.0, 10000.0]/' -e 's/^\t\tconstexpr double COEF_TWIST = .*;  \\/\\/ OPTIMIZE \\[0\\.0, 1000000\\.0\\]$/\t\tconstexpr double COEF_TWIST = 561935.3223297969;  \\/\\/ OPTIMIZE [0.0, 1000000.0]/'\n",
      "g++ 27_answer.cpp -std=gnu++17 -O2 -DONLINE_JUDGE -o 27_answer.cpp.out\n",
      "sed -i 29_answer.cpp -e 's/^\t\tconstexpr double COEF_CENTER_L1 = .*;  \\/\\/ OPTIMIZE \\[-100\\.0, 100\\.0\\]$/\t\tconstexpr double COEF_CENTER_L1 = 1563.7596655553866;  \\/\\/ OPTIMIZE [-100.0, 100.0]/' -e 's/^\t\tconstexpr double COEF_CENTER_L1_SQ = .*;  \\/\\/ OPTIMIZE \\[0\\.0, 200\\.0\\]$/\t\tconstexpr double COEF_CENTER_L1_SQ = 0.5302813761685954;  \\/\\/ OPTIMIZE [0.0, 200.0]/' -e 's/^\t\tconstexpr double COEF_POINT = .*;  \\/\\/ OPTIMIZE \\[0\\.0, 100\\.0\\]$/\t\tconstexpr double COEF_POINT = 96.25179489492473;  \\/\\/ OPTIMIZE [0.0, 100.0]/' -e 's/^\t\tconstexpr double COEF_DIST = .*;  \\/\\/ OPTIMIZE \\[0\\.0, 10000\\.0\\]$/\t\tconstexpr double COEF_DIST = 177.38561495124213;  \\/\\/ OPTIMIZE [0.0, 10000.0]/' -e 's/^\t\tconstexpr double COEF_TWIST = .*;  \\/\\/ OPTIMIZE \\[0\\.0, 1000000\\.0\\]$/\t\tconstexpr double COEF_TWIST = 704297.2688271113;  \\/\\/ OPTIMIZE [0.0, 1000000.0]/'\n",
      "g++ 29_answer.cpp -std=gnu++17 -O2 -DONLINE_JUDGE -o 29_answer.cpp.out\n",
      "sed -i 28_answer.cpp -e 's/^\t\tconstexpr double COEF_CENTER_L1 = .*;  \\/\\/ OPTIMIZE \\[-100\\.0, 100\\.0\\]$/\t\tconstexpr double COEF_CENTER_L1 = 1607.7364337478245;  \\/\\/ OPTIMIZE [-100.0, 100.0]/' -e 's/^\t\tconstexpr double COEF_CENTER_L1_SQ = .*;  \\/\\/ OPTIMIZE \\[0\\.0, 200\\.0\\]$/\t\tconstexpr double COEF_CENTER_L1_SQ = 9.668292840292404;  \\/\\/ OPTIMIZE [0.0, 200.0]/' -e 's/^\t\tconstexpr double COEF_POINT = .*;  \\/\\/ OPTIMIZE \\[0\\.0, 100\\.0\\]$/\t\tconstexpr double COEF_POINT = 92.84245445154922;  \\/\\/ OPTIMIZE [0.0, 100.0]/' -e 's/^\t\tconstexpr double COEF_DIST = .*;  \\/\\/ OPTIMIZE \\[0\\.0, 10000\\.0\\]$/\t\tconstexpr double COEF_DIST = 4.4168473082886806;  \\/\\/ OPTIMIZE [0.0, 10000.0]/' -e 's/^\t\tconstexpr double COEF_TWIST = .*;  \\/\\/ OPTIMIZE \\[0\\.0, 1000000\\.0\\]$/\t\tconstexpr double COEF_TWIST = 653563.8500646763;  \\/\\/ OPTIMIZE [0.0, 1000000.0]/'\n",
      "sed -i 32_answer.cpp -e 's/^\t\tconstexpr double COEF_CENTER_L1 = .*;  \\/\\/ OPTIMIZE \\[-100\\.0, 100\\.0\\]$/\t\tconstexpr double COEF_CENTER_L1 = 37004.57201587735;  \\/\\/ OPTIMIZE [-100.0, 100.0]/' -e 's/^\t\tconstexpr double COEF_CENTER_L1_SQ = .*;  \\/\\/ OPTIMIZE \\[0\\.0, 200\\.0\\]$/\t\tconstexpr double COEF_CENTER_L1_SQ = 0.32092144803301226;  \\/\\/ OPTIMIZE [0.0, 200.0]/' -e 's/^\t\tconstexpr double COEF_POINT = .*;  \\/\\/ OPTIMIZE \\[0\\.0, 100\\.0\\]$/\t\tconstexpr double COEF_POINT = 95.99867651499586;  \\/\\/ OPTIMIZE [0.0, 100.0]/' -e 's/^\t\tconstexpr double COEF_DIST = .*;  \\/\\/ OPTIMIZE \\[0\\.0, 10000\\.0\\]$/\t\tconstexpr double COEF_DIST = 180.15663550698724;  \\/\\/ OPTIMIZE [0.0, 10000.0]/' -e 's/^\t\tconstexpr double COEF_TWIST = .*;  \\/\\/ OPTIMIZE \\[0\\.0, 1000000\\.0\\]$/\t\tconstexpr double COEF_TWIST = 711329.833896799;  \\/\\/ OPTIMIZE [0.0, 1000000.0]/'\n",
      "sed -i 31_answer.cpp -e 's/^\t\tconstexpr double COEF_CENTER_L1 = .*;  \\/\\/ OPTIMIZE \\[-100\\.0, 100\\.0\\]$/\t\tconstexpr double COEF_CENTER_L1 = 62.48297463331187;  \\/\\/ OPTIMIZE [-100.0, 100.0]/' -e 's/^\t\tconstexpr double COEF_CENTER_L1_SQ = .*;  \\/\\/ OPTIMIZE \\[0\\.0, 200\\.0\\]$/\t\tconstexpr double COEF_CENTER_L1_SQ = 0.07918514124829912;  \\/\\/ OPTIMIZE [0.0, 200.0]/' -e 's/^\t\tconstexpr double COEF_POINT = .*;  \\/\\/ OPTIMIZE \\[0\\.0, 100\\.0\\]$/\t\tconstexpr double COEF_POINT = 96.10072206029017;  \\/\\/ OPTIMIZE [0.0, 100.0]/' -e 's/^\t\tconstexpr double COEF_DIST = .*;  \\/\\/ OPTIMIZE \\[0\\.0, 10000\\.0\\]$/\t\tconstexpr double COEF_DIST = 188.05204138497228;  \\/\\/ OPTIMIZE [0.0, 10000.0]/' -e 's/^\t\tconstexpr double COEF_TWIST = .*;  \\/\\/ OPTIMIZE \\[0\\.0, 1000000\\.0\\]$/\t\tconstexpr double COEF_TWIST = 655602.884518826;  \\/\\/ OPTIMIZE [0.0, 1000000.0]/'\n",
      "sed -i 30_answer.cpp -e 's/^\t\tconstexpr double COEF_CENTER_L1 = .*;  \\/\\/ OPTIMIZE \\[-100\\.0, 100\\.0\\]$/\t\tconstexpr double COEF_CENTER_L1 = 45.99196534047246;  \\/\\/ OPTIMIZE [-100.0, 100.0]/' -e 's/^\t\tconstexpr double COEF_CENTER_L1_SQ = .*;  \\/\\/ OPTIMIZE \\[0\\.0, 200\\.0\\]$/\t\tconstexpr double COEF_CENTER_L1_SQ = 9.803473855495296;  \\/\\/ OPTIMIZE [0.0, 200.0]/' -e 's/^\t\tconstexpr double COEF_POINT = .*;  \\/\\/ OPTIMIZE \\[0\\.0, 100\\.0\\]$/\t\tconstexpr double COEF_POINT = 92.63274047944766;  \\/\\/ OPTIMIZE [0.0, 100.0]/' -e 's/^\t\tconstexpr double COEF_DIST = .*;  \\/\\/ OPTIMIZE \\[0\\.0, 10000\\.0\\]$/\t\tconstexpr double COEF_DIST = 183.15751991679647;  \\/\\/ OPTIMIZE [0.0, 10000.0]/' -e 's/^\t\tconstexpr double COEF_TWIST = .*;  \\/\\/ OPTIMIZE \\[0\\.0, 1000000\\.0\\]$/\t\tconstexpr double COEF_TWIST = 670627.3187570015;  \\/\\/ OPTIMIZE [0.0, 1000000.0]/'\n",
      "g++ 28_answer.cpp -std=gnu++17 -O2 -DONLINE_JUDGE -o 28_answer.cpp.out\n",
      "g++ 32_answer.cpp -std=gnu++17 -O2 -DONLINE_JUDGE -o 32_answer.cpp.out\n",
      "g++ 31_answer.cpp -std=gnu++17 -O2 -DONLINE_JUDGE -o 31_answer.cpp.out\n",
      "g++ 30_answer.cpp -std=gnu++17 -O2 -DONLINE_JUDGE -o 30_answer.cpp.out\n"
     ]
    },
    {
     "name": "stderr",
     "output_type": "stream",
     "text": [
      "\u001b[32m[I 2021-04-25 15:50:25,400]\u001b[0m Trial 832 finished with value: 938248.0 and parameters: {'COEF_CENTER_L1': 37004.57201587735, 'COEF_CENTER_L1_SQ': 0.32092144803301226, 'COEF_POINT': 95.99867651499586, 'COEF_DIST': 180.15663550698724, 'COEF_TWIST': 711329.833896799}. Best is trial 431 with value: 1924103.0.\u001b[0m\n"
     ]
    },
    {
     "name": "stdout",
     "output_type": "stream",
     "text": [
      "callback ok\n",
      "index_parallel=33\n",
      "mkdir: cannot create directory ‘33_out’: File exists\n",
      "mkdir: cannot create directory ‘33_score’: File exists\n",
      "sed -i 33_answer.cpp -e 's/^\t\tconstexpr double COEF_CENTER_L1 = .*;  \\/\\/ OPTIMIZE \\[-100\\.0, 100\\.0\\]$/\t\tconstexpr double COEF_CENTER_L1 = 1484.7979555958473;  \\/\\/ OPTIMIZE [-100.0, 100.0]/' -e 's/^\t\tconstexpr double COEF_CENTER_L1_SQ = .*;  \\/\\/ OPTIMIZE \\[0\\.0, 200\\.0\\]$/\t\tconstexpr double COEF_CENTER_L1_SQ = 9.421119654587013;  \\/\\/ OPTIMIZE [0.0, 200.0]/' -e 's/^\t\tconstexpr double COEF_POINT = .*;  \\/\\/ OPTIMIZE \\[0\\.0, 100\\.0\\]$/\t\tconstexpr double COEF_POINT = 96.07985647054926;  \\/\\/ OPTIMIZE [0.0, 100.0]/' -e 's/^\t\tconstexpr double COEF_DIST = .*;  \\/\\/ OPTIMIZE \\[0\\.0, 10000\\.0\\]$/\t\tconstexpr double COEF_DIST = 11.203002646992516;  \\/\\/ OPTIMIZE [0.0, 10000.0]/' -e 's/^\t\tconstexpr double COEF_TWIST = .*;  \\/\\/ OPTIMIZE \\[0\\.0, 1000000\\.0\\]$/\t\tconstexpr double COEF_TWIST = 731591.8866672533;  \\/\\/ OPTIMIZE [0.0, 1000000.0]/'\n",
      "g++ 33_answer.cpp -std=gnu++17 -O2 -DONLINE_JUDGE -o 33_answer.cpp.out\n"
     ]
    },
    {
     "name": "stderr",
     "output_type": "stream",
     "text": [
      "\u001b[32m[I 2021-04-25 15:50:39,454]\u001b[0m Trial 827 finished with value: 1427962.0 and parameters: {'COEF_CENTER_L1': 10.847007590217345, 'COEF_CENTER_L1_SQ': 0.46217459095208646, 'COEF_POINT': 95.98407932509232, 'COEF_DIST': 1.405529489607689, 'COEF_TWIST': 561935.3223297969}. Best is trial 431 with value: 1924103.0.\u001b[0m\n"
     ]
    },
    {
     "name": "stdout",
     "output_type": "stream",
     "text": [
      "callback ok\n",
      "index_parallel=34\n",
      "mkdir: cannot create directory ‘34_out’: File exists\n",
      "mkdir: cannot create directory ‘34_score’: File exists\n"
     ]
    },
    {
     "name": "stderr",
     "output_type": "stream",
     "text": [
      "\u001b[32m[I 2021-04-25 15:50:39,851]\u001b[0m Trial 831 finished with value: 1390501.0 and parameters: {'COEF_CENTER_L1': 62.48297463331187, 'COEF_CENTER_L1_SQ': 0.07918514124829912, 'COEF_POINT': 96.10072206029017, 'COEF_DIST': 188.05204138497228, 'COEF_TWIST': 655602.884518826}. Best is trial 431 with value: 1924103.0.\u001b[0m\n"
     ]
    },
    {
     "name": "stdout",
     "output_type": "stream",
     "text": [
      "callback ok\n",
      "index_parallel=35\n",
      "mkdir: cannot create directory ‘35_out’: File exists\n"
     ]
    },
    {
     "name": "stderr",
     "output_type": "stream",
     "text": [
      "\u001b[32m[I 2021-04-25 15:50:39,997]\u001b[0m Trial 830 finished with value: 1342600.0 and parameters: {'COEF_CENTER_L1': 45.99196534047246, 'COEF_CENTER_L1_SQ': 9.803473855495296, 'COEF_POINT': 92.63274047944766, 'COEF_DIST': 183.15751991679647, 'COEF_TWIST': 670627.3187570015}. Best is trial 431 with value: 1924103.0.\u001b[0m\n"
     ]
    },
    {
     "name": "stdout",
     "output_type": "stream",
     "text": [
      "callback ok\n",
      "index_parallel=36\n",
      "mkdir: cannot create directory ‘36_out’: File exists\n",
      "mkdir: cannot create directory ‘35_score’: File exists\n",
      "mkdir: cannot create directory ‘36_score’: File exists\n"
     ]
    },
    {
     "name": "stderr",
     "output_type": "stream",
     "text": [
      "\u001b[32m[I 2021-04-25 15:50:40,627]\u001b[0m Trial 828 finished with value: 1754109.0 and parameters: {'COEF_CENTER_L1': 1607.7364337478245, 'COEF_CENTER_L1_SQ': 9.668292840292404, 'COEF_POINT': 92.84245445154922, 'COEF_DIST': 4.4168473082886806, 'COEF_TWIST': 653563.8500646763}. Best is trial 431 with value: 1924103.0.\u001b[0m\n"
     ]
    },
    {
     "name": "stdout",
     "output_type": "stream",
     "text": [
      "callback ok\n",
      "index_parallel=37\n",
      "mkdir: cannot create directory ‘37_out’: File exists\n",
      "mkdir: cannot create directory ‘37_score’: File exists\n",
      "sed -i 34_answer.cpp -e 's/^\t\tconstexpr double COEF_CENTER_L1 = .*;  \\/\\/ OPTIMIZE \\[-100\\.0, 100\\.0\\]$/\t\tconstexpr double COEF_CENTER_L1 = -53.56080041953874;  \\/\\/ OPTIMIZE [-100.0, 100.0]/' -e 's/^\t\tconstexpr double COEF_CENTER_L1_SQ = .*;  \\/\\/ OPTIMIZE \\[0\\.0, 200\\.0\\]$/\t\tconstexpr double COEF_CENTER_L1_SQ = 9.022280960935003;  \\/\\/ OPTIMIZE [0.0, 200.0]/' -e 's/^\t\tconstexpr double COEF_POINT = .*;  \\/\\/ OPTIMIZE \\[0\\.0, 100\\.0\\]$/\t\tconstexpr double COEF_POINT = 92.48219816050185;  \\/\\/ OPTIMIZE [0.0, 100.0]/' -e 's/^\t\tconstexpr double COEF_DIST = .*;  \\/\\/ OPTIMIZE \\[0\\.0, 10000\\.0\\]$/\t\tconstexpr double COEF_DIST = 4.812426042539434;  \\/\\/ OPTIMIZE [0.0, 10000.0]/' -e 's/^\t\tconstexpr double COEF_TWIST = .*;  \\/\\/ OPTIMIZE \\[0\\.0, 1000000\\.0\\]$/\t\tconstexpr double COEF_TWIST = 731905.2136920008;  \\/\\/ OPTIMIZE [0.0, 1000000.0]/'\n",
      "g++ 34_answer.cpp -std=gnu++17 -O2 -DONLINE_JUDGE -o 34_answer.cpp.out\n",
      "sed -i 35_answer.cpp -e 's/^\t\tconstexpr double COEF_CENTER_L1 = .*;  \\/\\/ OPTIMIZE \\[-100\\.0, 100\\.0\\]$/\t\tconstexpr double COEF_CENTER_L1 = 1679.2446445718817;  \\/\\/ OPTIMIZE [-100.0, 100.0]/' -e 's/^\t\tconstexpr double COEF_CENTER_L1_SQ = .*;  \\/\\/ OPTIMIZE \\[0\\.0, 200\\.0\\]$/\t\tconstexpr double COEF_CENTER_L1_SQ = 0.02322734200640486;  \\/\\/ OPTIMIZE [0.0, 200.0]/' -e 's/^\t\tconstexpr double COEF_POINT = .*;  \\/\\/ OPTIMIZE \\[0\\.0, 100\\.0\\]$/\t\tconstexpr double COEF_POINT = 92.96407026174724;  \\/\\/ OPTIMIZE [0.0, 100.0]/' -e 's/^\t\tconstexpr double COEF_DIST = .*;  \\/\\/ OPTIMIZE \\[0\\.0, 10000\\.0\\]$/\t\tconstexpr double COEF_DIST = 11.740451073016402;  \\/\\/ OPTIMIZE [0.0, 10000.0]/' -e 's/^\t\tconstexpr double COEF_TWIST = .*;  \\/\\/ OPTIMIZE \\[0\\.0, 1000000\\.0\\]$/\t\tconstexpr double COEF_TWIST = 733648.5720995459;  \\/\\/ OPTIMIZE [0.0, 1000000.0]/'\n",
      "g++ 35_answer.cpp -std=gnu++17 -O2 -DONLINE_JUDGE -o 35_answer.cpp.out\n",
      "sed -i 36_answer.cpp -e 's/^\t\tconstexpr double COEF_CENTER_L1 = .*;  \\/\\/ OPTIMIZE \\[-100\\.0, 100\\.0\\]$/\t\tconstexpr double COEF_CENTER_L1 = -54.42312880840018;  \\/\\/ OPTIMIZE [-100.0, 100.0]/' -e 's/^\t\tconstexpr double COEF_CENTER_L1_SQ = .*;  \\/\\/ OPTIMIZE \\[0\\.0, 200\\.0\\]$/\t\tconstexpr double COEF_CENTER_L1_SQ = 8.056624875843003;  \\/\\/ OPTIMIZE [0.0, 200.0]/' -e 's/^\t\tconstexpr double COEF_POINT = .*;  \\/\\/ OPTIMIZE \\[0\\.0, 100\\.0\\]$/\t\tconstexpr double COEF_POINT = 93.5951769729142;  \\/\\/ OPTIMIZE [0.0, 100.0]/' -e 's/^\t\tconstexpr double COEF_DIST = .*;  \\/\\/ OPTIMIZE \\[0\\.0, 10000\\.0\\]$/\t\tconstexpr double COEF_DIST = 162.52383155014454;  \\/\\/ OPTIMIZE [0.0, 10000.0]/' -e 's/^\t\tconstexpr double COEF_TWIST = .*;  \\/\\/ OPTIMIZE \\[0\\.0, 1000000\\.0\\]$/\t\tconstexpr double COEF_TWIST = 729055.0495732734;  \\/\\/ OPTIMIZE [0.0, 1000000.0]/'\n",
      "g++ 36_answer.cpp -std=gnu++17 -O2 -DONLINE_JUDGE -o 36_answer.cpp.out\n",
      "sed -i 37_answer.cpp -e 's/^\t\tconstexpr double COEF_CENTER_L1 = .*;  \\/\\/ OPTIMIZE \\[-100\\.0, 100\\.0\\]$/\t\tconstexpr double COEF_CENTER_L1 = 1634.8999390816086;  \\/\\/ OPTIMIZE [-100.0, 100.0]/' -e 's/^\t\tconstexpr double COEF_CENTER_L1_SQ = .*;  \\/\\/ OPTIMIZE \\[0\\.0, 200\\.0\\]$/\t\tconstexpr double COEF_CENTER_L1_SQ = 8.16439547276963;  \\/\\/ OPTIMIZE [0.0, 200.0]/' -e 's/^\t\tconstexpr double COEF_POINT = .*;  \\/\\/ OPTIMIZE \\[0\\.0, 100\\.0\\]$/\t\tconstexpr double COEF_POINT = 93.04404698084575;  \\/\\/ OPTIMIZE [0.0, 100.0]/' -e 's/^\t\tconstexpr double COEF_DIST = .*;  \\/\\/ OPTIMIZE \\[0\\.0, 10000\\.0\\]$/\t\tconstexpr double COEF_DIST = 10.769442204885378;  \\/\\/ OPTIMIZE [0.0, 10000.0]/' -e 's/^\t\tconstexpr double COEF_TWIST = .*;  \\/\\/ OPTIMIZE \\[0\\.0, 1000000\\.0\\]$/\t\tconstexpr double COEF_TWIST = 725490.5780217542;  \\/\\/ OPTIMIZE [0.0, 1000000.0]/'\n",
      "g++ 37_answer.cpp -std=gnu++17 -O2 -DONLINE_JUDGE -o 37_answer.cpp.out\n"
     ]
    },
    {
     "name": "stderr",
     "output_type": "stream",
     "text": [
      "\u001b[32m[I 2021-04-25 15:50:42,575]\u001b[0m Trial 829 finished with value: 1744566.0 and parameters: {'COEF_CENTER_L1': 1563.7596655553866, 'COEF_CENTER_L1_SQ': 0.5302813761685954, 'COEF_POINT': 96.25179489492473, 'COEF_DIST': 177.38561495124213, 'COEF_TWIST': 704297.2688271113}. Best is trial 431 with value: 1924103.0.\u001b[0m\n"
     ]
    },
    {
     "name": "stdout",
     "output_type": "stream",
     "text": [
      "callback ok\n",
      "index_parallel=38\n",
      "mkdir: cannot create directory ‘38_out’: File exists\n",
      "mkdir: cannot create directory ‘38_score’: File exists\n",
      "sed -i 38_answer.cpp -e 's/^\t\tconstexpr double COEF_CENTER_L1 = .*;  \\/\\/ OPTIMIZE \\[-100\\.0, 100\\.0\\]$/\t\tconstexpr double COEF_CENTER_L1 = 2189.5623928824534;  \\/\\/ OPTIMIZE [-100.0, 100.0]/' -e 's/^\t\tconstexpr double COEF_CENTER_L1_SQ = .*;  \\/\\/ OPTIMIZE \\[0\\.0, 200\\.0\\]$/\t\tconstexpr double COEF_CENTER_L1_SQ = 7.760235292202674;  \\/\\/ OPTIMIZE [0.0, 200.0]/' -e 's/^\t\tconstexpr double COEF_POINT = .*;  \\/\\/ OPTIMIZE \\[0\\.0, 100\\.0\\]$/\t\tconstexpr double COEF_POINT = 93.76309277926396;  \\/\\/ OPTIMIZE [0.0, 100.0]/' -e 's/^\t\tconstexpr double COEF_DIST = .*;  \\/\\/ OPTIMIZE \\[0\\.0, 10000\\.0\\]$/\t\tconstexpr double COEF_DIST = 464.3291763175843;  \\/\\/ OPTIMIZE [0.0, 10000.0]/' -e 's/^\t\tconstexpr double COEF_TWIST = .*;  \\/\\/ OPTIMIZE \\[0\\.0, 1000000\\.0\\]$/\t\tconstexpr double COEF_TWIST = 728996.9235549986;  \\/\\/ OPTIMIZE [0.0, 1000000.0]/'\n",
      "g++ 38_answer.cpp -std=gnu++17 -O2 -DONLINE_JUDGE -o 38_answer.cpp.out\n"
     ]
    },
    {
     "name": "stderr",
     "output_type": "stream",
     "text": [
      "\u001b[32m[I 2021-04-25 15:51:03,314]\u001b[0m Trial 833 finished with value: 1885129.0 and parameters: {'COEF_CENTER_L1': 1484.7979555958473, 'COEF_CENTER_L1_SQ': 9.421119654587013, 'COEF_POINT': 96.07985647054926, 'COEF_DIST': 11.203002646992516, 'COEF_TWIST': 731591.8866672533}. Best is trial 431 with value: 1924103.0.\u001b[0m\n"
     ]
    },
    {
     "name": "stdout",
     "output_type": "stream",
     "text": [
      "callback ok\n",
      "index_parallel=39\n",
      "mkdir: cannot create directory ‘39_out’: File exists\n",
      "mkdir: cannot create directory ‘39_score’: File exists\n",
      "sed -i 39_answer.cpp -e 's/^\t\tconstexpr double COEF_CENTER_L1 = .*;  \\/\\/ OPTIMIZE \\[-100\\.0, 100\\.0\\]$/\t\tconstexpr double COEF_CENTER_L1 = 1893.6911283487314;  \\/\\/ OPTIMIZE [-100.0, 100.0]/' -e 's/^\t\tconstexpr double COEF_CENTER_L1_SQ = .*;  \\/\\/ OPTIMIZE \\[0\\.0, 200\\.0\\]$/\t\tconstexpr double COEF_CENTER_L1_SQ = 7.745458223029865;  \\/\\/ OPTIMIZE [0.0, 200.0]/' -e 's/^\t\tconstexpr double COEF_POINT = .*;  \\/\\/ OPTIMIZE \\[0\\.0, 100\\.0\\]$/\t\tconstexpr double COEF_POINT = 92.88868447706547;  \\/\\/ OPTIMIZE [0.0, 100.0]/' -e 's/^\t\tconstexpr double COEF_DIST = .*;  \\/\\/ OPTIMIZE \\[0\\.0, 10000\\.0\\]$/\t\tconstexpr double COEF_DIST = 183.69650187187813;  \\/\\/ OPTIMIZE [0.0, 10000.0]/' -e 's/^\t\tconstexpr double COEF_TWIST = .*;  \\/\\/ OPTIMIZE \\[0\\.0, 1000000\\.0\\]$/\t\tconstexpr double COEF_TWIST = 731548.5475340167;  \\/\\/ OPTIMIZE [0.0, 1000000.0]/'\n",
      "g++ 39_answer.cpp -std=gnu++17 -O2 -DONLINE_JUDGE -o 39_answer.cpp.out\n"
     ]
    },
    {
     "name": "stderr",
     "output_type": "stream",
     "text": [
      "\u001b[32m[I 2021-04-25 15:51:15,038]\u001b[0m Trial 834 finished with value: 1375977.0 and parameters: {'COEF_CENTER_L1': -53.56080041953874, 'COEF_CENTER_L1_SQ': 9.022280960935003, 'COEF_POINT': 92.48219816050185, 'COEF_DIST': 4.812426042539434, 'COEF_TWIST': 731905.2136920008}. Best is trial 431 with value: 1924103.0.\u001b[0m\n"
     ]
    },
    {
     "name": "stdout",
     "output_type": "stream",
     "text": [
      "callback ok\n",
      "index_parallel=40\n",
      "mkdir: cannot create directory ‘40_out’: File exists\n",
      "mkdir: cannot create directory ‘40_score’: File exists\n"
     ]
    },
    {
     "name": "stderr",
     "output_type": "stream",
     "text": [
      "\u001b[32m[I 2021-04-25 15:51:15,980]\u001b[0m Trial 836 finished with value: 1378962.0 and parameters: {'COEF_CENTER_L1': -54.42312880840018, 'COEF_CENTER_L1_SQ': 8.056624875843003, 'COEF_POINT': 93.5951769729142, 'COEF_DIST': 162.52383155014454, 'COEF_TWIST': 729055.0495732734}. Best is trial 431 with value: 1924103.0.\u001b[0m\n"
     ]
    },
    {
     "name": "stdout",
     "output_type": "stream",
     "text": [
      "callback ok\n",
      "index_parallel=41\n",
      "mkdir: cannot create directory ‘41_out’: File exists\n",
      "mkdir: cannot create directory ‘41_score’: File exists\n",
      "sed -i 40_answer.cpp -e 's/^\t\tconstexpr double COEF_CENTER_L1 = .*;  \\/\\/ OPTIMIZE \\[-100\\.0, 100\\.0\\]$/\t\tconstexpr double COEF_CENTER_L1 = -89.73423433746962;  \\/\\/ OPTIMIZE [-100.0, 100.0]/' -e 's/^\t\tconstexpr double COEF_CENTER_L1_SQ = .*;  \\/\\/ OPTIMIZE \\[0\\.0, 200\\.0\\]$/\t\tconstexpr double COEF_CENTER_L1_SQ = 0.10113424309250618;  \\/\\/ OPTIMIZE [0.0, 200.0]/' -e 's/^\t\tconstexpr double COEF_POINT = .*;  \\/\\/ OPTIMIZE \\[0\\.0, 100\\.0\\]$/\t\tconstexpr double COEF_POINT = 96.20708444267964;  \\/\\/ OPTIMIZE [0.0, 100.0]/' -e 's/^\t\tconstexpr double COEF_DIST = .*;  \\/\\/ OPTIMIZE \\[0\\.0, 10000\\.0\\]$/\t\tconstexpr double COEF_DIST = 9.436083237071657;  \\/\\/ OPTIMIZE [0.0, 10000.0]/' -e 's/^\t\tconstexpr double COEF_TWIST = .*;  \\/\\/ OPTIMIZE \\[0\\.0, 1000000\\.0\\]$/\t\tconstexpr double COEF_TWIST = 713895.3182304112;  \\/\\/ OPTIMIZE [0.0, 1000000.0]/'\n",
      "g++ 40_answer.cpp -std=gnu++17 -O2 -DONLINE_JUDGE -o 40_answer.cpp.out\n",
      "sed -i 41_answer.cpp -e 's/^\t\tconstexpr double COEF_CENTER_L1 = .*;  \\/\\/ OPTIMIZE \\[-100\\.0, 100\\.0\\]$/\t\tconstexpr double COEF_CENTER_L1 = 1956.6750858328671;  \\/\\/ OPTIMIZE [-100.0, 100.0]/' -e 's/^\t\tconstexpr double COEF_CENTER_L1_SQ = .*;  \\/\\/ OPTIMIZE \\[0\\.0, 200\\.0\\]$/\t\tconstexpr double COEF_CENTER_L1_SQ = 6.529749751501407;  \\/\\/ OPTIMIZE [0.0, 200.0]/' -e 's/^\t\tconstexpr double COEF_POINT = .*;  \\/\\/ OPTIMIZE \\[0\\.0, 100\\.0\\]$/\t\tconstexpr double COEF_POINT = 96.52423433852108;  \\/\\/ OPTIMIZE [0.0, 100.0]/' -e 's/^\t\tconstexpr double COEF_DIST = .*;  \\/\\/ OPTIMIZE \\[0\\.0, 10000\\.0\\]$/\t\tconstexpr double COEF_DIST = 13.921094539187454;  \\/\\/ OPTIMIZE [0.0, 10000.0]/' -e 's/^\t\tconstexpr double COEF_TWIST = .*;  \\/\\/ OPTIMIZE \\[0\\.0, 1000000\\.0\\]$/\t\tconstexpr double COEF_TWIST = 711499.6028485904;  \\/\\/ OPTIMIZE [0.0, 1000000.0]/'\n",
      "g++ 41_answer.cpp -std=gnu++17 -O2 -DONLINE_JUDGE -o 41_answer.cpp.out\n"
     ]
    },
    {
     "name": "stderr",
     "output_type": "stream",
     "text": [
      "\u001b[32m[I 2021-04-25 15:51:18,229]\u001b[0m Trial 837 finished with value: 1817911.0 and parameters: {'COEF_CENTER_L1': 1634.8999390816086, 'COEF_CENTER_L1_SQ': 8.16439547276963, 'COEF_POINT': 93.04404698084575, 'COEF_DIST': 10.769442204885378, 'COEF_TWIST': 725490.5780217542}. Best is trial 431 with value: 1924103.0.\u001b[0m\n"
     ]
    },
    {
     "name": "stdout",
     "output_type": "stream",
     "text": [
      "callback ok\n",
      "index_parallel=42\n",
      "mkdir: cannot create directory ‘42_out’: File exists\n",
      "mkdir: cannot create directory ‘42_score’: File exists\n"
     ]
    },
    {
     "name": "stderr",
     "output_type": "stream",
     "text": [
      "\u001b[32m[I 2021-04-25 15:51:19,184]\u001b[0m Trial 835 finished with value: 1783432.0 and parameters: {'COEF_CENTER_L1': 1679.2446445718817, 'COEF_CENTER_L1_SQ': 0.02322734200640486, 'COEF_POINT': 92.96407026174724, 'COEF_DIST': 11.740451073016402, 'COEF_TWIST': 733648.5720995459}. Best is trial 431 with value: 1924103.0.\u001b[0m\n"
     ]
    },
    {
     "name": "stdout",
     "output_type": "stream",
     "text": [
      "callback ok\n",
      "index_parallel=43\n",
      "mkdir: cannot create directory ‘43_out’: File exists\n"
     ]
    },
    {
     "name": "stderr",
     "output_type": "stream",
     "text": [
      "\u001b[32m[I 2021-04-25 15:51:19,562]\u001b[0m Trial 838 finished with value: 1728473.0 and parameters: {'COEF_CENTER_L1': 2189.5623928824534, 'COEF_CENTER_L1_SQ': 7.760235292202674, 'COEF_POINT': 93.76309277926396, 'COEF_DIST': 464.3291763175843, 'COEF_TWIST': 728996.9235549986}. Best is trial 431 with value: 1924103.0.\u001b[0m\n"
     ]
    },
    {
     "name": "stdout",
     "output_type": "stream",
     "text": [
      "mkdir: cannot create directory ‘43_score’: File exists\n",
      "callback ok\n",
      "index_parallel=44\n",
      "mkdir: cannot create directory ‘44_out’: File exists\n",
      "sed -i 42_answer.cpp -e 's/^\t\tconstexpr double COEF_CENTER_L1 = .*;  \\/\\/ OPTIMIZE \\[-100\\.0, 100\\.0\\]$/\t\tconstexpr double COEF_CENTER_L1 = 3356.3871836432045;  \\/\\/ OPTIMIZE [-100.0, 100.0]/' -e 's/^\t\tconstexpr double COEF_CENTER_L1_SQ = .*;  \\/\\/ OPTIMIZE \\[0\\.0, 200\\.0\\]$/\t\tconstexpr double COEF_CENTER_L1_SQ = 0.48426069258382753;  \\/\\/ OPTIMIZE [0.0, 200.0]/' -e 's/^\t\tconstexpr double COEF_POINT = .*;  \\/\\/ OPTIMIZE \\[0\\.0, 100\\.0\\]$/\t\tconstexpr double COEF_POINT = 96.4784628794017;  \\/\\/ OPTIMIZE [0.0, 100.0]/' -e 's/^\t\tconstexpr double COEF_DIST = .*;  \\/\\/ OPTIMIZE \\[0\\.0, 10000\\.0\\]$/\t\tconstexpr double COEF_DIST = 455.77161164676494;  \\/\\/ OPTIMIZE [0.0, 10000.0]/' -e 's/^\t\tconstexpr double COEF_TWIST = .*;  \\/\\/ OPTIMIZE \\[0\\.0, 1000000\\.0\\]$/\t\tconstexpr double COEF_TWIST = 697807.9861406877;  \\/\\/ OPTIMIZE [0.0, 1000000.0]/'\n",
      "mkdir: cannot create directory ‘44_score’: File exists\n",
      "g++ 42_answer.cpp -std=gnu++17 -O2 -DONLINE_JUDGE -o 42_answer.cpp.out\n",
      "sed -i 43_answer.cpp -e 's/^\t\tconstexpr double COEF_CENTER_L1 = .*;  \\/\\/ OPTIMIZE \\[-100\\.0, 100\\.0\\]$/\t\tconstexpr double COEF_CENTER_L1 = 4094.829173499388;  \\/\\/ OPTIMIZE [-100.0, 100.0]/' -e 's/^\t\tconstexpr double COEF_CENTER_L1_SQ = .*;  \\/\\/ OPTIMIZE \\[0\\.0, 200\\.0\\]$/\t\tconstexpr double COEF_CENTER_L1_SQ = 3.665091821471145;  \\/\\/ OPTIMIZE [0.0, 200.0]/' -e 's/^\t\tconstexpr double COEF_POINT = .*;  \\/\\/ OPTIMIZE \\[0\\.0, 100\\.0\\]$/\t\tconstexpr double COEF_POINT = 97.02579371564539;  \\/\\/ OPTIMIZE [0.0, 100.0]/' -e 's/^\t\tconstexpr double COEF_DIST = .*;  \\/\\/ OPTIMIZE \\[0\\.0, 10000\\.0\\]$/\t\tconstexpr double COEF_DIST = 3.884193545334483;  \\/\\/ OPTIMIZE [0.0, 10000.0]/' -e 's/^\t\tconstexpr double COEF_TWIST = .*;  \\/\\/ OPTIMIZE \\[0\\.0, 1000000\\.0\\]$/\t\tconstexpr double COEF_TWIST = 695555.5468399278;  \\/\\/ OPTIMIZE [0.0, 1000000.0]/'\n",
      "g++ 43_answer.cpp -std=gnu++17 -O2 -DONLINE_JUDGE -o 43_answer.cpp.out\n",
      "sed -i 44_answer.cpp -e 's/^\t\tconstexpr double COEF_CENTER_L1 = .*;  \\/\\/ OPTIMIZE \\[-100\\.0, 100\\.0\\]$/\t\tconstexpr double COEF_CENTER_L1 = 4124.603113171507;  \\/\\/ OPTIMIZE [-100.0, 100.0]/' -e 's/^\t\tconstexpr double COEF_CENTER_L1_SQ = .*;  \\/\\/ OPTIMIZE \\[0\\.0, 200\\.0\\]$/\t\tconstexpr double COEF_CENTER_L1_SQ = 4.0668561790259306;  \\/\\/ OPTIMIZE [0.0, 200.0]/' -e 's/^\t\tconstexpr double COEF_POINT = .*;  \\/\\/ OPTIMIZE \\[0\\.0, 100\\.0\\]$/\t\tconstexpr double COEF_POINT = 96.59721933460062;  \\/\\/ OPTIMIZE [0.0, 100.0]/' -e 's/^\t\tconstexpr double COEF_DIST = .*;  \\/\\/ OPTIMIZE \\[0\\.0, 10000\\.0\\]$/\t\tconstexpr double COEF_DIST = 198.66419627925893;  \\/\\/ OPTIMIZE [0.0, 10000.0]/' -e 's/^\t\tconstexpr double COEF_TWIST = .*;  \\/\\/ OPTIMIZE \\[0\\.0, 1000000\\.0\\]$/\t\tconstexpr double COEF_TWIST = 708562.6763184922;  \\/\\/ OPTIMIZE [0.0, 1000000.0]/'\n",
      "g++ 44_answer.cpp -std=gnu++17 -O2 -DONLINE_JUDGE -o 44_answer.cpp.out\n"
     ]
    },
    {
     "name": "stderr",
     "output_type": "stream",
     "text": [
      "\u001b[32m[I 2021-04-25 15:51:40,196]\u001b[0m Trial 839 finished with value: 1818677.0 and parameters: {'COEF_CENTER_L1': 1893.6911283487314, 'COEF_CENTER_L1_SQ': 7.745458223029865, 'COEF_POINT': 92.88868447706547, 'COEF_DIST': 183.69650187187813, 'COEF_TWIST': 731548.5475340167}. Best is trial 431 with value: 1924103.0.\u001b[0m\n"
     ]
    },
    {
     "name": "stdout",
     "output_type": "stream",
     "text": [
      "callback ok\n",
      "index_parallel=45\n",
      "mkdir: cannot create directory ‘45_out’: File exists\n",
      "mkdir: cannot create directory ‘45_score’: File exists\n",
      "sed -i 45_answer.cpp -e 's/^\t\tconstexpr double COEF_CENTER_L1 = .*;  \\/\\/ OPTIMIZE \\[-100\\.0, 100\\.0\\]$/\t\tconstexpr double COEF_CENTER_L1 = 4196.189337400455;  \\/\\/ OPTIMIZE [-100.0, 100.0]/' -e 's/^\t\tconstexpr double COEF_CENTER_L1_SQ = .*;  \\/\\/ OPTIMIZE \\[0\\.0, 200\\.0\\]$/\t\tconstexpr double COEF_CENTER_L1_SQ = 5.871813858895617;  \\/\\/ OPTIMIZE [0.0, 200.0]/' -e 's/^\t\tconstexpr double COEF_POINT = .*;  \\/\\/ OPTIMIZE \\[0\\.0, 100\\.0\\]$/\t\tconstexpr double COEF_POINT = 96.71949378027813;  \\/\\/ OPTIMIZE [0.0, 100.0]/' -e 's/^\t\tconstexpr double COEF_DIST = .*;  \\/\\/ OPTIMIZE \\[0\\.0, 10000\\.0\\]$/\t\tconstexpr double COEF_DIST = 3.6162821526163498;  \\/\\/ OPTIMIZE [0.0, 10000.0]/' -e 's/^\t\tconstexpr double COEF_TWIST = .*;  \\/\\/ OPTIMIZE \\[0\\.0, 1000000\\.0\\]$/\t\tconstexpr double COEF_TWIST = 695698.2543855042;  \\/\\/ OPTIMIZE [0.0, 1000000.0]/'\n",
      "g++ 45_answer.cpp -std=gnu++17 -O2 -DONLINE_JUDGE -o 45_answer.cpp.out\n"
     ]
    },
    {
     "name": "stderr",
     "output_type": "stream",
     "text": [
      "\u001b[32m[I 2021-04-25 15:51:50,224]\u001b[0m Trial 840 finished with value: 1460258.0 and parameters: {'COEF_CENTER_L1': -89.73423433746962, 'COEF_CENTER_L1_SQ': 0.10113424309250618, 'COEF_POINT': 96.20708444267964, 'COEF_DIST': 9.436083237071657, 'COEF_TWIST': 713895.3182304112}. Best is trial 431 with value: 1924103.0.\u001b[0m\n"
     ]
    },
    {
     "name": "stdout",
     "output_type": "stream",
     "text": [
      "callback ok\n",
      "index_parallel=46\n",
      "mkdir: cannot create directory ‘46_out’: File exists\n",
      "mkdir: cannot create directory ‘46_score’: File exists\n",
      "sed -i 46_answer.cpp -e 's/^\t\tconstexpr double COEF_CENTER_L1 = .*;  \\/\\/ OPTIMIZE \\[-100\\.0, 100\\.0\\]$/\t\tconstexpr double COEF_CENTER_L1 = 4459.689541771519;  \\/\\/ OPTIMIZE [-100.0, 100.0]/' -e 's/^\t\tconstexpr double COEF_CENTER_L1_SQ = .*;  \\/\\/ OPTIMIZE \\[0\\.0, 200\\.0\\]$/\t\tconstexpr double COEF_CENTER_L1_SQ = 19.93963554115426;  \\/\\/ OPTIMIZE [0.0, 200.0]/' -e 's/^\t\tconstexpr double COEF_POINT = .*;  \\/\\/ OPTIMIZE \\[0\\.0, 100\\.0\\]$/\t\tconstexpr double COEF_POINT = 96.64842140158298;  \\/\\/ OPTIMIZE [0.0, 100.0]/' -e 's/^\t\tconstexpr double COEF_DIST = .*;  \\/\\/ OPTIMIZE \\[0\\.0, 10000\\.0\\]$/\t\tconstexpr double COEF_DIST = 1.567519554419119;  \\/\\/ OPTIMIZE [0.0, 10000.0]/' -e 's/^\t\tconstexpr double COEF_TWIST = .*;  \\/\\/ OPTIMIZE \\[0\\.0, 1000000\\.0\\]$/\t\tconstexpr double COEF_TWIST = 680696.2858279992;  \\/\\/ OPTIMIZE [0.0, 1000000.0]/'\n",
      "g++ 46_answer.cpp -std=gnu++17 -O2 -DONLINE_JUDGE -o 46_answer.cpp.out\n"
     ]
    },
    {
     "name": "stderr",
     "output_type": "stream",
     "text": [
      "\u001b[32m[I 2021-04-25 15:51:52,491]\u001b[0m Trial 841 finished with value: 1780201.0 and parameters: {'COEF_CENTER_L1': 1956.6750858328671, 'COEF_CENTER_L1_SQ': 6.529749751501407, 'COEF_POINT': 96.52423433852108, 'COEF_DIST': 13.921094539187454, 'COEF_TWIST': 711499.6028485904}. Best is trial 431 with value: 1924103.0.\u001b[0m\n"
     ]
    },
    {
     "name": "stdout",
     "output_type": "stream",
     "text": [
      "callback ok\n",
      "index_parallel=47\n",
      "mkdir: cannot create directory ‘47_out’: File exists\n",
      "mkdir: cannot create directory ‘47_score’: File exists\n",
      "sed -i 47_answer.cpp -e 's/^\t\tconstexpr double COEF_CENTER_L1 = .*;  \\/\\/ OPTIMIZE \\[-100\\.0, 100\\.0\\]$/\t\tconstexpr double COEF_CENTER_L1 = 3915.96719581024;  \\/\\/ OPTIMIZE [-100.0, 100.0]/' -e 's/^\t\tconstexpr double COEF_CENTER_L1_SQ = .*;  \\/\\/ OPTIMIZE \\[0\\.0, 200\\.0\\]$/\t\tconstexpr double COEF_CENTER_L1_SQ = 0.1838982210429343;  \\/\\/ OPTIMIZE [0.0, 200.0]/' -e 's/^\t\tconstexpr double COEF_POINT = .*;  \\/\\/ OPTIMIZE \\[0\\.0, 100\\.0\\]$/\t\tconstexpr double COEF_POINT = 80.31569771242684;  \\/\\/ OPTIMIZE [0.0, 100.0]/' -e 's/^\t\tconstexpr double COEF_DIST = .*;  \\/\\/ OPTIMIZE \\[0\\.0, 10000\\.0\\]$/\t\tconstexpr double COEF_DIST = 404.43936797219584;  \\/\\/ OPTIMIZE [0.0, 10000.0]/' -e 's/^\t\tconstexpr double COEF_TWIST = .*;  \\/\\/ OPTIMIZE \\[0\\.0, 1000000\\.0\\]$/\t\tconstexpr double COEF_TWIST = 695461.4019178627;  \\/\\/ OPTIMIZE [0.0, 1000000.0]/'\n"
     ]
    },
    {
     "name": "stderr",
     "output_type": "stream",
     "text": [
      "\u001b[32m[I 2021-04-25 15:51:53,971]\u001b[0m Trial 843 finished with value: 1727649.0 and parameters: {'COEF_CENTER_L1': 4094.829173499388, 'COEF_CENTER_L1_SQ': 3.665091821471145, 'COEF_POINT': 97.02579371564539, 'COEF_DIST': 3.884193545334483, 'COEF_TWIST': 695555.5468399278}. Best is trial 431 with value: 1924103.0.\u001b[0m\n"
     ]
    },
    {
     "name": "stdout",
     "output_type": "stream",
     "text": [
      "callback ok\n",
      "index_parallel=48\n",
      "g++ 47_answer.cpp -std=gnu++17 -O2 -DONLINE_JUDGE -o 47_answer.cpp.out\n",
      "mkdir: cannot create directory ‘48_out’: File exists\n",
      "mkdir: cannot create directory ‘48_score’: File exists\n"
     ]
    },
    {
     "name": "stderr",
     "output_type": "stream",
     "text": [
      "\u001b[32m[I 2021-04-25 15:51:54,508]\u001b[0m Trial 842 finished with value: 1810418.0 and parameters: {'COEF_CENTER_L1': 3356.3871836432045, 'COEF_CENTER_L1_SQ': 0.48426069258382753, 'COEF_POINT': 96.4784628794017, 'COEF_DIST': 455.77161164676494, 'COEF_TWIST': 697807.9861406877}. Best is trial 431 with value: 1924103.0.\u001b[0m\n"
     ]
    },
    {
     "name": "stdout",
     "output_type": "stream",
     "text": [
      "callback ok\n",
      "index_parallel=49\n",
      "mkdir: cannot create directory ‘49_out’: File exists\n"
     ]
    },
    {
     "name": "stderr",
     "output_type": "stream",
     "text": [
      "\u001b[32m[I 2021-04-25 15:51:54,648]\u001b[0m Trial 844 finished with value: 1751161.0 and parameters: {'COEF_CENTER_L1': 4124.603113171507, 'COEF_CENTER_L1_SQ': 4.0668561790259306, 'COEF_POINT': 96.59721933460062, 'COEF_DIST': 198.66419627925893, 'COEF_TWIST': 708562.6763184922}. Best is trial 431 with value: 1924103.0.\u001b[0m\n"
     ]
    },
    {
     "name": "stdout",
     "output_type": "stream",
     "text": [
      "callback ok\n",
      "index_parallel=50\n",
      "mkdir: cannot create directory ‘50_out’: File exists\n",
      "mkdir: cannot create directory ‘49_score’: File exists\n",
      "mkdir: cannot create directory ‘50_score’: File exists\n",
      "sed -i 48_answer.cpp -e 's/^\t\tconstexpr double COEF_CENTER_L1 = .*;  \\/\\/ OPTIMIZE \\[-100\\.0, 100\\.0\\]$/\t\tconstexpr double COEF_CENTER_L1 = -90.16311549915372;  \\/\\/ OPTIMIZE [-100.0, 100.0]/' -e 's/^\t\tconstexpr double COEF_CENTER_L1_SQ = .*;  \\/\\/ OPTIMIZE \\[0\\.0, 200\\.0\\]$/\t\tconstexpr double COEF_CENTER_L1_SQ = 20.45128322865102;  \\/\\/ OPTIMIZE [0.0, 200.0]/' -e 's/^\t\tconstexpr double COEF_POINT = .*;  \\/\\/ OPTIMIZE \\[0\\.0, 100\\.0\\]$/\t\tconstexpr double COEF_POINT = 90.65742763031261;  \\/\\/ OPTIMIZE [0.0, 100.0]/' -e 's/^\t\tconstexpr double COEF_DIST = .*;  \\/\\/ OPTIMIZE \\[0\\.0, 10000\\.0\\]$/\t\tconstexpr double COEF_DIST = 347.4106116043141;  \\/\\/ OPTIMIZE [0.0, 10000.0]/' -e 's/^\t\tconstexpr double COEF_TWIST = .*;  \\/\\/ OPTIMIZE \\[0\\.0, 1000000\\.0\\]$/\t\tconstexpr double COEF_TWIST = 678525.7651092147;  \\/\\/ OPTIMIZE [0.0, 1000000.0]/'\n",
      "g++ 48_answer.cpp -std=gnu++17 -O2 -DONLINE_JUDGE -o 48_answer.cpp.out\n",
      "sed -i 49_answer.cpp -e 's/^\t\tconstexpr double COEF_CENTER_L1 = .*;  \\/\\/ OPTIMIZE \\[-100\\.0, 100\\.0\\]$/\t\tconstexpr double COEF_CENTER_L1 = 6267.340100214518;  \\/\\/ OPTIMIZE [-100.0, 100.0]/' -e 's/^\t\tconstexpr double COEF_CENTER_L1_SQ = .*;  \\/\\/ OPTIMIZE \\[0\\.0, 200\\.0\\]$/\t\tconstexpr double COEF_CENTER_L1_SQ = 19.739202852021457;  \\/\\/ OPTIMIZE [0.0, 200.0]/' -e 's/^\t\tconstexpr double COEF_POINT = .*;  \\/\\/ OPTIMIZE \\[0\\.0, 100\\.0\\]$/\t\tconstexpr double COEF_POINT = 90.60473499061217;  \\/\\/ OPTIMIZE [0.0, 100.0]/' -e 's/^\t\tconstexpr double COEF_DIST = .*;  \\/\\/ OPTIMIZE \\[0\\.0, 10000\\.0\\]$/\t\tconstexpr double COEF_DIST = 361.1029276820238;  \\/\\/ OPTIMIZE [0.0, 10000.0]/' -e 's/^\t\tconstexpr double COEF_TWIST = .*;  \\/\\/ OPTIMIZE \\[0\\.0, 1000000\\.0\\]$/\t\tconstexpr double COEF_TWIST = 676259.5500353721;  \\/\\/ OPTIMIZE [0.0, 1000000.0]/'\n",
      "sed -i 50_answer.cpp -e 's/^\t\tconstexpr double COEF_CENTER_L1 = .*;  \\/\\/ OPTIMIZE \\[-100\\.0, 100\\.0\\]$/\t\tconstexpr double COEF_CENTER_L1 = 6837.677624986705;  \\/\\/ OPTIMIZE [-100.0, 100.0]/' -e 's/^\t\tconstexpr double COEF_CENTER_L1_SQ = .*;  \\/\\/ OPTIMIZE \\[0\\.0, 200\\.0\\]$/\t\tconstexpr double COEF_CENTER_L1_SQ = 19.970505847632015;  \\/\\/ OPTIMIZE [0.0, 200.0]/' -e 's/^\t\tconstexpr double COEF_POINT = .*;  \\/\\/ OPTIMIZE \\[0\\.0, 100\\.0\\]$/\t\tconstexpr double COEF_POINT = 99.84438609812473;  \\/\\/ OPTIMIZE [0.0, 100.0]/' -e 's/^\t\tconstexpr double COEF_DIST = .*;  \\/\\/ OPTIMIZE \\[0\\.0, 10000\\.0\\]$/\t\tconstexpr double COEF_DIST = 368.9952401966506;  \\/\\/ OPTIMIZE [0.0, 10000.0]/' -e 's/^\t\tconstexpr double COEF_TWIST = .*;  \\/\\/ OPTIMIZE \\[0\\.0, 1000000\\.0\\]$/\t\tconstexpr double COEF_TWIST = 676861.2429082581;  \\/\\/ OPTIMIZE [0.0, 1000000.0]/'\n",
      "g++ 49_answer.cpp -std=gnu++17 -O2 -DONLINE_JUDGE -o 49_answer.cpp.out\n",
      "g++ 50_answer.cpp -std=gnu++17 -O2 -DONLINE_JUDGE -o 50_answer.cpp.out\n"
     ]
    },
    {
     "name": "stderr",
     "output_type": "stream",
     "text": [
      "\u001b[32m[I 2021-04-25 15:52:10,239]\u001b[0m Trial 845 finished with value: 1592785.0 and parameters: {'COEF_CENTER_L1': 4196.189337400455, 'COEF_CENTER_L1_SQ': 5.871813858895617, 'COEF_POINT': 96.71949378027813, 'COEF_DIST': 3.6162821526163498, 'COEF_TWIST': 695698.2543855042}. Best is trial 431 with value: 1924103.0.\u001b[0m\n"
     ]
    },
    {
     "name": "stdout",
     "output_type": "stream",
     "text": [
      "callback ok\n",
      "index_parallel=51\n",
      "mkdir: cannot create directory ‘51_out’: File exists\n",
      "mkdir: cannot create directory ‘51_score’: File exists\n",
      "sed -i 51_answer.cpp -e 's/^\t\tconstexpr double COEF_CENTER_L1 = .*;  \\/\\/ OPTIMIZE \\[-100\\.0, 100\\.0\\]$/\t\tconstexpr double COEF_CENTER_L1 = -28.516420920425844;  \\/\\/ OPTIMIZE [-100.0, 100.0]/' -e 's/^\t\tconstexpr double COEF_CENTER_L1_SQ = .*;  \\/\\/ OPTIMIZE \\[0\\.0, 200\\.0\\]$/\t\tconstexpr double COEF_CENTER_L1_SQ = 19.01870941056843;  \\/\\/ OPTIMIZE [0.0, 200.0]/' -e 's/^\t\tconstexpr double COEF_POINT = .*;  \\/\\/ OPTIMIZE \\[0\\.0, 100\\.0\\]$/\t\tconstexpr double COEF_POINT = 99.89383738999402;  \\/\\/ OPTIMIZE [0.0, 100.0]/' -e 's/^\t\tconstexpr double COEF_DIST = .*;  \\/\\/ OPTIMIZE \\[0\\.0, 10000\\.0\\]$/\t\tconstexpr double COEF_DIST = 299.954909386729;  \\/\\/ OPTIMIZE [0.0, 10000.0]/' -e 's/^\t\tconstexpr double COEF_TWIST = .*;  \\/\\/ OPTIMIZE \\[0\\.0, 1000000\\.0\\]$/\t\tconstexpr double COEF_TWIST = 775084.7816850847;  \\/\\/ OPTIMIZE [0.0, 1000000.0]/'\n",
      "g++ 51_answer.cpp -std=gnu++17 -O2 -DONLINE_JUDGE -o 51_answer.cpp.out\n"
     ]
    },
    {
     "name": "stderr",
     "output_type": "stream",
     "text": [
      "\u001b[32m[I 2021-04-25 15:52:17,172]\u001b[0m Trial 846 finished with value: 1403677.0 and parameters: {'COEF_CENTER_L1': 4459.689541771519, 'COEF_CENTER_L1_SQ': 19.93963554115426, 'COEF_POINT': 96.64842140158298, 'COEF_DIST': 1.567519554419119, 'COEF_TWIST': 680696.2858279992}. Best is trial 431 with value: 1924103.0.\u001b[0m\n"
     ]
    },
    {
     "name": "stdout",
     "output_type": "stream",
     "text": [
      "callback ok\n",
      "index_parallel=52\n",
      "mkdir: cannot create directory ‘52_out’: File exists\n",
      "mkdir: cannot create directory ‘52_score’: File exists\n",
      "sed -i 52_answer.cpp -e 's/^\t\tconstexpr double COEF_CENTER_L1 = .*;  \\/\\/ OPTIMIZE \\[-100\\.0, 100\\.0\\]$/\t\tconstexpr double COEF_CENTER_L1 = 9401.251013403271;  \\/\\/ OPTIMIZE [-100.0, 100.0]/' -e 's/^\t\tconstexpr double COEF_CENTER_L1_SQ = .*;  \\/\\/ OPTIMIZE \\[0\\.0, 200\\.0\\]$/\t\tconstexpr double COEF_CENTER_L1_SQ = 12.178926538511517;  \\/\\/ OPTIMIZE [0.0, 200.0]/' -e 's/^\t\tconstexpr double COEF_POINT = .*;  \\/\\/ OPTIMIZE \\[0\\.0, 100\\.0\\]$/\t\tconstexpr double COEF_POINT = 90.72211396897494;  \\/\\/ OPTIMIZE [0.0, 100.0]/' -e 's/^\t\tconstexpr double COEF_DIST = .*;  \\/\\/ OPTIMIZE \\[0\\.0, 10000\\.0\\]$/\t\tconstexpr double COEF_DIST = 321.4259175982134;  \\/\\/ OPTIMIZE [0.0, 10000.0]/' -e 's/^\t\tconstexpr double COEF_TWIST = .*;  \\/\\/ OPTIMIZE \\[0\\.0, 1000000\\.0\\]$/\t\tconstexpr double COEF_TWIST = 743135.2590667438;  \\/\\/ OPTIMIZE [0.0, 1000000.0]/'\n",
      "g++ 52_answer.cpp -std=gnu++17 -O2 -DONLINE_JUDGE -o 52_answer.cpp.out\n"
     ]
    },
    {
     "name": "stderr",
     "output_type": "stream",
     "text": [
      "\u001b[32m[I 2021-04-25 15:52:21,126]\u001b[0m Trial 849 finished with value: 1333309.0 and parameters: {'COEF_CENTER_L1': 6267.340100214518, 'COEF_CENTER_L1_SQ': 19.739202852021457, 'COEF_POINT': 90.60473499061217, 'COEF_DIST': 361.1029276820238, 'COEF_TWIST': 676259.5500353721}. Best is trial 431 with value: 1924103.0.\u001b[0m\n"
     ]
    },
    {
     "name": "stdout",
     "output_type": "stream",
     "text": [
      "callback ok\n",
      "index_parallel=53\n",
      "mkdir: cannot create directory ‘53_out’: File exists\n",
      "mkdir: cannot create directory ‘53_score’: File exists\n"
     ]
    },
    {
     "name": "stderr",
     "output_type": "stream",
     "text": [
      "\u001b[32m[I 2021-04-25 15:52:22,171]\u001b[0m Trial 850 finished with value: 1402909.0 and parameters: {'COEF_CENTER_L1': 6837.677624986705, 'COEF_CENTER_L1_SQ': 19.970505847632015, 'COEF_POINT': 99.84438609812473, 'COEF_DIST': 368.9952401966506, 'COEF_TWIST': 676861.2429082581}. Best is trial 431 with value: 1924103.0.\u001b[0m\n"
     ]
    },
    {
     "name": "stdout",
     "output_type": "stream",
     "text": [
      "callback ok\n",
      "index_parallel=54\n",
      "mkdir: cannot create directory ‘54_out’: File exists\n",
      "sed -i 53_answer.cpp -e 's/^\t\tconstexpr double COEF_CENTER_L1 = .*;  \\/\\/ OPTIMIZE \\[-100\\.0, 100\\.0\\]$/\t\tconstexpr double COEF_CENTER_L1 = 9548.49065722161;  \\/\\/ OPTIMIZE [-100.0, 100.0]/' -e 's/^\t\tconstexpr double COEF_CENTER_L1_SQ = .*;  \\/\\/ OPTIMIZE \\[0\\.0, 200\\.0\\]$/\t\tconstexpr double COEF_CENTER_L1_SQ = 11.85759520247958;  \\/\\/ OPTIMIZE [0.0, 200.0]/' -e 's/^\t\tconstexpr double COEF_POINT = .*;  \\/\\/ OPTIMIZE \\[0\\.0, 100\\.0\\]$/\t\tconstexpr double COEF_POINT = 94.78326700447492;  \\/\\/ OPTIMIZE [0.0, 100.0]/' -e 's/^\t\tconstexpr double COEF_DIST = .*;  \\/\\/ OPTIMIZE \\[0\\.0, 10000\\.0\\]$/\t\tconstexpr double COEF_DIST = 216.76492409313823;  \\/\\/ OPTIMIZE [0.0, 10000.0]/' -e 's/^\t\tconstexpr double COEF_TWIST = .*;  \\/\\/ OPTIMIZE \\[0\\.0, 1000000\\.0\\]$/\t\tconstexpr double COEF_TWIST = 745348.6489659633;  \\/\\/ OPTIMIZE [0.0, 1000000.0]/'\n",
      "mkdir: cannot create directory ‘54_score’: File exists\n",
      "g++ 53_answer.cpp -std=gnu++17 -O2 -DONLINE_JUDGE -o 53_answer.cpp.out\n",
      "sed -i 54_answer.cpp -e 's/^\t\tconstexpr double COEF_CENTER_L1 = .*;  \\/\\/ OPTIMIZE \\[-100\\.0, 100\\.0\\]$/\t\tconstexpr double COEF_CENTER_L1 = 8760.897395857237;  \\/\\/ OPTIMIZE [-100.0, 100.0]/' -e 's/^\t\tconstexpr double COEF_CENTER_L1_SQ = .*;  \\/\\/ OPTIMIZE \\[0\\.0, 200\\.0\\]$/\t\tconstexpr double COEF_CENTER_L1_SQ = 0.07922018679175347;  \\/\\/ OPTIMIZE [0.0, 200.0]/' -e 's/^\t\tconstexpr double COEF_POINT = .*;  \\/\\/ OPTIMIZE \\[0\\.0, 100\\.0\\]$/\t\tconstexpr double COEF_POINT = 99.94719089960837;  \\/\\/ OPTIMIZE [0.0, 100.0]/' -e 's/^\t\tconstexpr double COEF_DIST = .*;  \\/\\/ OPTIMIZE \\[0\\.0, 10000\\.0\\]$/\t\tconstexpr double COEF_DIST = 193.6466580551301;  \\/\\/ OPTIMIZE [0.0, 10000.0]/' -e 's/^\t\tconstexpr double COEF_TWIST = .*;  \\/\\/ OPTIMIZE \\[0\\.0, 1000000\\.0\\]$/\t\tconstexpr double COEF_TWIST = 779667.9376098063;  \\/\\/ OPTIMIZE [0.0, 1000000.0]/'\n",
      "g++ 54_answer.cpp -std=gnu++17 -O2 -DONLINE_JUDGE -o 54_answer.cpp.out\n"
     ]
    },
    {
     "name": "stderr",
     "output_type": "stream",
     "text": [
      "\u001b[32m[I 2021-04-25 15:52:28,130]\u001b[0m Trial 847 finished with value: 1888358.0 and parameters: {'COEF_CENTER_L1': 3915.96719581024, 'COEF_CENTER_L1_SQ': 0.1838982210429343, 'COEF_POINT': 80.31569771242684, 'COEF_DIST': 404.43936797219584, 'COEF_TWIST': 695461.4019178627}. Best is trial 431 with value: 1924103.0.\u001b[0m\n"
     ]
    },
    {
     "name": "stdout",
     "output_type": "stream",
     "text": [
      "callback ok\n",
      "index_parallel=55\n",
      "mkdir: cannot create directory ‘55_out’: File exists\n",
      "mkdir: cannot create directory ‘55_score’: File exists\n",
      "sed -i 55_answer.cpp -e 's/^\t\tconstexpr double COEF_CENTER_L1 = .*;  \\/\\/ OPTIMIZE \\[-100\\.0, 100\\.0\\]$/\t\tconstexpr double COEF_CENTER_L1 = 5627.413617306482;  \\/\\/ OPTIMIZE [-100.0, 100.0]/' -e 's/^\t\tconstexpr double COEF_CENTER_L1_SQ = .*;  \\/\\/ OPTIMIZE \\[0\\.0, 200\\.0\\]$/\t\tconstexpr double COEF_CENTER_L1_SQ = 0.13643008585896332;  \\/\\/ OPTIMIZE [0.0, 200.0]/' -e 's/^\t\tconstexpr double COEF_POINT = .*;  \\/\\/ OPTIMIZE \\[0\\.0, 100\\.0\\]$/\t\tconstexpr double COEF_POINT = 99.80302173593361;  \\/\\/ OPTIMIZE [0.0, 100.0]/' -e 's/^\t\tconstexpr double COEF_DIST = .*;  \\/\\/ OPTIMIZE \\[0\\.0, 10000\\.0\\]$/\t\tconstexpr double COEF_DIST = 504.3144068701095;  \\/\\/ OPTIMIZE [0.0, 10000.0]/' -e 's/^\t\tconstexpr double COEF_TWIST = .*;  \\/\\/ OPTIMIZE \\[0\\.0, 1000000\\.0\\]$/\t\tconstexpr double COEF_TWIST = 772706.2881939763;  \\/\\/ OPTIMIZE [0.0, 1000000.0]/'\n",
      "g++ 55_answer.cpp -std=gnu++17 -O2 -DONLINE_JUDGE -o 55_answer.cpp.out\n"
     ]
    },
    {
     "name": "stderr",
     "output_type": "stream",
     "text": [
      "\u001b[32m[I 2021-04-25 15:52:30,148]\u001b[0m Trial 848 finished with value: 1489250.0 and parameters: {'COEF_CENTER_L1': -90.16311549915372, 'COEF_CENTER_L1_SQ': 20.45128322865102, 'COEF_POINT': 90.65742763031261, 'COEF_DIST': 347.4106116043141, 'COEF_TWIST': 678525.7651092147}. Best is trial 431 with value: 1924103.0.\u001b[0m\n"
     ]
    },
    {
     "name": "stdout",
     "output_type": "stream",
     "text": [
      "callback ok\n",
      "index_parallel=56\n",
      "mkdir: cannot create directory ‘56_out’: File exists\n",
      "mkdir: cannot create directory ‘56_score’: File exists\n",
      "sed -i 56_answer.cpp -e 's/^\t\tconstexpr double COEF_CENTER_L1 = .*;  \\/\\/ OPTIMIZE \\[-100\\.0, 100\\.0\\]$/\t\tconstexpr double COEF_CENTER_L1 = 10136.635533954039;  \\/\\/ OPTIMIZE [-100.0, 100.0]/' -e 's/^\t\tconstexpr double COEF_CENTER_L1_SQ = .*;  \\/\\/ OPTIMIZE \\[0\\.0, 200\\.0\\]$/\t\tconstexpr double COEF_CENTER_L1_SQ = 12.191636740991544;  \\/\\/ OPTIMIZE [0.0, 200.0]/' -e 's/^\t\tconstexpr double COEF_POINT = .*;  \\/\\/ OPTIMIZE \\[0\\.0, 100\\.0\\]$/\t\tconstexpr double COEF_POINT = 73.5140888530391;  \\/\\/ OPTIMIZE [0.0, 100.0]/' -e 's/^\t\tconstexpr double COEF_DIST = .*;  \\/\\/ OPTIMIZE \\[0\\.0, 10000\\.0\\]$/\t\tconstexpr double COEF_DIST = 510.92040616195584;  \\/\\/ OPTIMIZE [0.0, 10000.0]/' -e 's/^\t\tconstexpr double COEF_TWIST = .*;  \\/\\/ OPTIMIZE \\[0\\.0, 1000000\\.0\\]$/\t\tconstexpr double COEF_TWIST = 746264.7287759597;  \\/\\/ OPTIMIZE [0.0, 1000000.0]/'\n",
      "g++ 56_answer.cpp -std=gnu++17 -O2 -DONLINE_JUDGE -o 56_answer.cpp.out\n"
     ]
    },
    {
     "name": "stderr",
     "output_type": "stream",
     "text": [
      "\u001b[32m[I 2021-04-25 15:52:41,815]\u001b[0m Trial 852 finished with value: 1280139.0 and parameters: {'COEF_CENTER_L1': 9401.251013403271, 'COEF_CENTER_L1_SQ': 12.178926538511517, 'COEF_POINT': 90.72211396897494, 'COEF_DIST': 321.4259175982134, 'COEF_TWIST': 743135.2590667438}. Best is trial 431 with value: 1924103.0.\u001b[0m\n"
     ]
    },
    {
     "name": "stdout",
     "output_type": "stream",
     "text": [
      "callback ok\n",
      "index_parallel=57\n",
      "mkdir: cannot create directory ‘57_out’: File exists\n",
      "mkdir: cannot create directory ‘57_score’: File exists\n",
      "sed -i 57_answer.cpp -e 's/^\t\tconstexpr double COEF_CENTER_L1 = .*;  \\/\\/ OPTIMIZE \\[-100\\.0, 100\\.0\\]$/\t\tconstexpr double COEF_CENTER_L1 = 5975.155500389391;  \\/\\/ OPTIMIZE [-100.0, 100.0]/' -e 's/^\t\tconstexpr double COEF_CENTER_L1_SQ = .*;  \\/\\/ OPTIMIZE \\[0\\.0, 200\\.0\\]$/\t\tconstexpr double COEF_CENTER_L1_SQ = 12.789155092263073;  \\/\\/ OPTIMIZE [0.0, 200.0]/' -e 's/^\t\tconstexpr double COEF_POINT = .*;  \\/\\/ OPTIMIZE \\[0\\.0, 100\\.0\\]$/\t\tconstexpr double COEF_POINT = 79.7801723421426;  \\/\\/ OPTIMIZE [0.0, 100.0]/' -e 's/^\t\tconstexpr double COEF_DIST = .*;  \\/\\/ OPTIMIZE \\[0\\.0, 10000\\.0\\]$/\t\tconstexpr double COEF_DIST = 577.9904493240634;  \\/\\/ OPTIMIZE [0.0, 10000.0]/' -e 's/^\t\tconstexpr double COEF_TWIST = .*;  \\/\\/ OPTIMIZE \\[0\\.0, 1000000\\.0\\]$/\t\tconstexpr double COEF_TWIST = 779022.1565857683;  \\/\\/ OPTIMIZE [0.0, 1000000.0]/'\n",
      "g++ 57_answer.cpp -std=gnu++17 -O2 -DONLINE_JUDGE -o 57_answer.cpp.out\n"
     ]
    },
    {
     "name": "stderr",
     "output_type": "stream",
     "text": [
      "\u001b[32m[I 2021-04-25 15:52:45,358]\u001b[0m Trial 851 finished with value: 1395627.0 and parameters: {'COEF_CENTER_L1': -28.516420920425844, 'COEF_CENTER_L1_SQ': 19.01870941056843, 'COEF_POINT': 99.89383738999402, 'COEF_DIST': 299.954909386729, 'COEF_TWIST': 775084.7816850847}. Best is trial 431 with value: 1924103.0.\u001b[0m\n"
     ]
    },
    {
     "name": "stdout",
     "output_type": "stream",
     "text": [
      "callback ok\n",
      "index_parallel=58\n",
      "mkdir: cannot create directory ‘58_out’: File exists\n",
      "mkdir: cannot create directory ‘58_score’: File exists\n"
     ]
    },
    {
     "name": "stderr",
     "output_type": "stream",
     "text": [
      "\u001b[32m[I 2021-04-25 15:52:46,337]\u001b[0m Trial 853 finished with value: 1272838.0 and parameters: {'COEF_CENTER_L1': 9548.49065722161, 'COEF_CENTER_L1_SQ': 11.85759520247958, 'COEF_POINT': 94.78326700447492, 'COEF_DIST': 216.76492409313823, 'COEF_TWIST': 745348.6489659633}. Best is trial 431 with value: 1924103.0.\u001b[0m\n"
     ]
    },
    {
     "name": "stdout",
     "output_type": "stream",
     "text": [
      "callback ok\n",
      "index_parallel=59\n",
      "mkdir: cannot create directory ‘59_out’: File exists\n",
      "sed -i 58_answer.cpp -e 's/^\t\tconstexpr double COEF_CENTER_L1 = .*;  \\/\\/ OPTIMIZE \\[-100\\.0, 100\\.0\\]$/\t\tconstexpr double COEF_CENTER_L1 = 5439.4631114763715;  \\/\\/ OPTIMIZE [-100.0, 100.0]/' -e 's/^\t\tconstexpr double COEF_CENTER_L1_SQ = .*;  \\/\\/ OPTIMIZE \\[0\\.0, 200\\.0\\]$/\t\tconstexpr double COEF_CENTER_L1_SQ = 0.2725831876839262;  \\/\\/ OPTIMIZE [0.0, 200.0]/' -e 's/^\t\tconstexpr double COEF_POINT = .*;  \\/\\/ OPTIMIZE \\[0\\.0, 100\\.0\\]$/\t\tconstexpr double COEF_POINT = 79.97107030267883;  \\/\\/ OPTIMIZE [0.0, 100.0]/' -e 's/^\t\tconstexpr double COEF_DIST = .*;  \\/\\/ OPTIMIZE \\[0\\.0, 10000\\.0\\]$/\t\tconstexpr double COEF_DIST = 524.3171783761413;  \\/\\/ OPTIMIZE [0.0, 10000.0]/' -e 's/^\t\tconstexpr double COEF_TWIST = .*;  \\/\\/ OPTIMIZE \\[0\\.0, 1000000\\.0\\]$/\t\tconstexpr double COEF_TWIST = 789752.7854902573;  \\/\\/ OPTIMIZE [0.0, 1000000.0]/'\n",
      "mkdir: cannot create directory ‘59_score’: File exists\n",
      "g++ 58_answer.cpp -std=gnu++17 -O2 -DONLINE_JUDGE -o 58_answer.cpp.out\n",
      "sed -i 59_answer.cpp -e 's/^\t\tconstexpr double COEF_CENTER_L1 = .*;  \\/\\/ OPTIMIZE \\[-100\\.0, 100\\.0\\]$/\t\tconstexpr double COEF_CENTER_L1 = -89.82424266783028;  \\/\\/ OPTIMIZE [-100.0, 100.0]/' -e 's/^\t\tconstexpr double COEF_CENTER_L1_SQ = .*;  \\/\\/ OPTIMIZE \\[0\\.0, 200\\.0\\]$/\t\tconstexpr double COEF_CENTER_L1_SQ = 0.3325659916363395;  \\/\\/ OPTIMIZE [0.0, 200.0]/' -e 's/^\t\tconstexpr double COEF_POINT = .*;  \\/\\/ OPTIMIZE \\[0\\.0, 100\\.0\\]$/\t\tconstexpr double COEF_POINT = 80.45339275038162;  \\/\\/ OPTIMIZE [0.0, 100.0]/' -e 's/^\t\tconstexpr double COEF_DIST = .*;  \\/\\/ OPTIMIZE \\[0\\.0, 10000\\.0\\]$/\t\tconstexpr double COEF_DIST = 531.7162921819672;  \\/\\/ OPTIMIZE [0.0, 10000.0]/' -e 's/^\t\tconstexpr double COEF_TWIST = .*;  \\/\\/ OPTIMIZE \\[0\\.0, 1000000\\.0\\]$/\t\tconstexpr double COEF_TWIST = 796169.0979471052;  \\/\\/ OPTIMIZE [0.0, 1000000.0]/'\n",
      "g++ 59_answer.cpp -std=gnu++17 -O2 -DONLINE_JUDGE -o 59_answer.cpp.out\n"
     ]
    },
    {
     "name": "stderr",
     "output_type": "stream",
     "text": [
      "\u001b[32m[I 2021-04-25 15:52:48,250]\u001b[0m Trial 854 finished with value: 1432843.0 and parameters: {'COEF_CENTER_L1': 8760.897395857237, 'COEF_CENTER_L1_SQ': 0.07922018679175347, 'COEF_POINT': 99.94719089960837, 'COEF_DIST': 193.6466580551301, 'COEF_TWIST': 779667.9376098063}. Best is trial 431 with value: 1924103.0.\u001b[0m\n"
     ]
    },
    {
     "name": "stdout",
     "output_type": "stream",
     "text": [
      "callback ok\n",
      "index_parallel=60\n",
      "mkdir: cannot create directory ‘60_out’: File exists\n",
      "mkdir: cannot create directory ‘60_score’: File exists\n",
      "sed -i 60_answer.cpp -e 's/^\t\tconstexpr double COEF_CENTER_L1 = .*;  \\/\\/ OPTIMIZE \\[-100\\.0, 100\\.0\\]$/\t\tconstexpr double COEF_CENTER_L1 = 5633.25132004509;  \\/\\/ OPTIMIZE [-100.0, 100.0]/' -e 's/^\t\tconstexpr double COEF_CENTER_L1_SQ = .*;  \\/\\/ OPTIMIZE \\[0\\.0, 200\\.0\\]$/\t\tconstexpr double COEF_CENTER_L1_SQ = 3.814512258207609;  \\/\\/ OPTIMIZE [0.0, 200.0]/' -e 's/^\t\tconstexpr double COEF_POINT = .*;  \\/\\/ OPTIMIZE \\[0\\.0, 100\\.0\\]$/\t\tconstexpr double COEF_POINT = 84.06831220989208;  \\/\\/ OPTIMIZE [0.0, 100.0]/' -e 's/^\t\tconstexpr double COEF_DIST = .*;  \\/\\/ OPTIMIZE \\[0\\.0, 10000\\.0\\]$/\t\tconstexpr double COEF_DIST = 501.8304959958102;  \\/\\/ OPTIMIZE [0.0, 10000.0]/' -e 's/^\t\tconstexpr double COEF_TWIST = .*;  \\/\\/ OPTIMIZE \\[0\\.0, 1000000\\.0\\]$/\t\tconstexpr double COEF_TWIST = 794362.7428184286;  \\/\\/ OPTIMIZE [0.0, 1000000.0]/'\n",
      "g++ 60_answer.cpp -std=gnu++17 -O2 -DONLINE_JUDGE -o 60_answer.cpp.out\n"
     ]
    },
    {
     "name": "stderr",
     "output_type": "stream",
     "text": [
      "\u001b[32m[I 2021-04-25 15:52:54,486]\u001b[0m Trial 856 finished with value: 1256362.0 and parameters: {'COEF_CENTER_L1': 10136.635533954039, 'COEF_CENTER_L1_SQ': 12.191636740991544, 'COEF_POINT': 73.5140888530391, 'COEF_DIST': 510.92040616195584, 'COEF_TWIST': 746264.7287759597}. Best is trial 431 with value: 1924103.0.\u001b[0m\n"
     ]
    },
    {
     "name": "stdout",
     "output_type": "stream",
     "text": [
      "callback ok\n",
      "index_parallel=61\n",
      "mkdir: cannot create directory ‘61_out’: File exists\n",
      "mkdir: cannot create directory ‘61_score’: File exists\n",
      "sed -i 61_answer.cpp -e 's/^\t\tconstexpr double COEF_CENTER_L1 = .*;  \\/\\/ OPTIMIZE \\[-100\\.0, 100\\.0\\]$/\t\tconstexpr double COEF_CENTER_L1 = 6009.363275894439;  \\/\\/ OPTIMIZE [-100.0, 100.0]/' -e 's/^\t\tconstexpr double COEF_CENTER_L1_SQ = .*;  \\/\\/ OPTIMIZE \\[0\\.0, 200\\.0\\]$/\t\tconstexpr double COEF_CENTER_L1_SQ = 0.2839067245561373;  \\/\\/ OPTIMIZE [0.0, 200.0]/' -e 's/^\t\tconstexpr double COEF_POINT = .*;  \\/\\/ OPTIMIZE \\[0\\.0, 100\\.0\\]$/\t\tconstexpr double COEF_POINT = 85.19936372806795;  \\/\\/ OPTIMIZE [0.0, 100.0]/' -e 's/^\t\tconstexpr double COEF_DIST = .*;  \\/\\/ OPTIMIZE \\[0\\.0, 10000\\.0\\]$/\t\tconstexpr double COEF_DIST = 451.78037681445716;  \\/\\/ OPTIMIZE [0.0, 10000.0]/' -e 's/^\t\tconstexpr double COEF_TWIST = .*;  \\/\\/ OPTIMIZE \\[0\\.0, 1000000\\.0\\]$/\t\tconstexpr double COEF_TWIST = 791589.2581840238;  \\/\\/ OPTIMIZE [0.0, 1000000.0]/'\n",
      "g++ 61_answer.cpp -std=gnu++17 -O2 -DONLINE_JUDGE -o 61_answer.cpp.out\n"
     ]
    },
    {
     "name": "stderr",
     "output_type": "stream",
     "text": [
      "\u001b[32m[I 2021-04-25 15:52:58,818]\u001b[0m Trial 855 finished with value: 1702680.0 and parameters: {'COEF_CENTER_L1': 5627.413617306482, 'COEF_CENTER_L1_SQ': 0.13643008585896332, 'COEF_POINT': 99.80302173593361, 'COEF_DIST': 504.3144068701095, 'COEF_TWIST': 772706.2881939763}. Best is trial 431 with value: 1924103.0.\u001b[0m\n"
     ]
    },
    {
     "name": "stdout",
     "output_type": "stream",
     "text": [
      "callback ok\n",
      "index_parallel=62\n",
      "mkdir: cannot create directory ‘62_out’: File exists\n",
      "mkdir: cannot create directory ‘62_score’: File exists\n",
      "sed -i 62_answer.cpp -e 's/^\t\tconstexpr double COEF_CENTER_L1 = .*;  \\/\\/ OPTIMIZE \\[-100\\.0, 100\\.0\\]$/\t\tconstexpr double COEF_CENTER_L1 = 3279.194413187215;  \\/\\/ OPTIMIZE [-100.0, 100.0]/' -e 's/^\t\tconstexpr double COEF_CENTER_L1_SQ = .*;  \\/\\/ OPTIMIZE \\[0\\.0, 200\\.0\\]$/\t\tconstexpr double COEF_CENTER_L1_SQ = 3.8741098817442556;  \\/\\/ OPTIMIZE [0.0, 200.0]/' -e 's/^\t\tconstexpr double COEF_POINT = .*;  \\/\\/ OPTIMIZE \\[0\\.0, 100\\.0\\]$/\t\tconstexpr double COEF_POINT = 81.21684670632355;  \\/\\/ OPTIMIZE [0.0, 100.0]/' -e 's/^\t\tconstexpr double COEF_DIST = .*;  \\/\\/ OPTIMIZE \\[0\\.0, 10000\\.0\\]$/\t\tconstexpr double COEF_DIST = 554.7820761668607;  \\/\\/ OPTIMIZE [0.0, 10000.0]/' -e 's/^\t\tconstexpr double COEF_TWIST = .*;  \\/\\/ OPTIMIZE \\[0\\.0, 1000000\\.0\\]$/\t\tconstexpr double COEF_TWIST = 800169.326925891;  \\/\\/ OPTIMIZE [0.0, 1000000.0]/'\n",
      "g++ 62_answer.cpp -std=gnu++17 -O2 -DONLINE_JUDGE -o 62_answer.cpp.out\n"
     ]
    },
    {
     "name": "stderr",
     "output_type": "stream",
     "text": [
      "\u001b[32m[I 2021-04-25 15:53:09,981]\u001b[0m Trial 857 finished with value: 1444770.0 and parameters: {'COEF_CENTER_L1': 5975.155500389391, 'COEF_CENTER_L1_SQ': 12.789155092263073, 'COEF_POINT': 79.7801723421426, 'COEF_DIST': 577.9904493240634, 'COEF_TWIST': 779022.1565857683}. Best is trial 431 with value: 1924103.0.\u001b[0m\n"
     ]
    },
    {
     "name": "stdout",
     "output_type": "stream",
     "text": [
      "callback ok\n",
      "index_parallel=63\n",
      "mkdir: cannot create directory ‘63_out’: File exists\n",
      "mkdir: cannot create directory ‘63_score’: File exists\n",
      "sed -i 63_answer.cpp -e 's/^\t\tconstexpr double COEF_CENTER_L1 = .*;  \\/\\/ OPTIMIZE \\[-100\\.0, 100\\.0\\]$/\t\tconstexpr double COEF_CENTER_L1 = 3105.6859894651025;  \\/\\/ OPTIMIZE [-100.0, 100.0]/' -e 's/^\t\tconstexpr double COEF_CENTER_L1_SQ = .*;  \\/\\/ OPTIMIZE \\[0\\.0, 200\\.0\\]$/\t\tconstexpr double COEF_CENTER_L1_SQ = 3.8747213104056883;  \\/\\/ OPTIMIZE [0.0, 200.0]/' -e 's/^\t\tconstexpr double COEF_POINT = .*;  \\/\\/ OPTIMIZE \\[0\\.0, 100\\.0\\]$/\t\tconstexpr double COEF_POINT = 84.77416851484286;  \\/\\/ OPTIMIZE [0.0, 100.0]/' -e 's/^\t\tconstexpr double COEF_DIST = .*;  \\/\\/ OPTIMIZE \\[0\\.0, 10000\\.0\\]$/\t\tconstexpr double COEF_DIST = 435.3965138893357;  \\/\\/ OPTIMIZE [0.0, 10000.0]/' -e 's/^\t\tconstexpr double COEF_TWIST = .*;  \\/\\/ OPTIMIZE \\[0\\.0, 1000000\\.0\\]$/\t\tconstexpr double COEF_TWIST = 598657.5999891735;  \\/\\/ OPTIMIZE [0.0, 1000000.0]/'\n",
      "g++ 63_answer.cpp -std=gnu++17 -O2 -DONLINE_JUDGE -o 63_answer.cpp.out\n"
     ]
    },
    {
     "name": "stderr",
     "output_type": "stream",
     "text": [
      "\u001b[32m[I 2021-04-25 15:53:19,905]\u001b[0m Trial 858 finished with value: 1812704.0 and parameters: {'COEF_CENTER_L1': 5439.4631114763715, 'COEF_CENTER_L1_SQ': 0.2725831876839262, 'COEF_POINT': 79.97107030267883, 'COEF_DIST': 524.3171783761413, 'COEF_TWIST': 789752.7854902573}. Best is trial 431 with value: 1924103.0.\u001b[0m\n"
     ]
    },
    {
     "name": "stdout",
     "output_type": "stream",
     "text": [
      "callback ok\n",
      "index_parallel=64\n",
      "mkdir: cannot create directory ‘64_out’: File exists\n",
      "mkdir: cannot create directory ‘64_score’: File exists\n"
     ]
    },
    {
     "name": "stderr",
     "output_type": "stream",
     "text": [
      "\u001b[32m[I 2021-04-25 15:53:21,284]\u001b[0m Trial 859 finished with value: 1389425.0 and parameters: {'COEF_CENTER_L1': -89.82424266783028, 'COEF_CENTER_L1_SQ': 0.3325659916363395, 'COEF_POINT': 80.45339275038162, 'COEF_DIST': 531.7162921819672, 'COEF_TWIST': 796169.0979471052}. Best is trial 431 with value: 1924103.0.\u001b[0m\n",
      "\u001b[32m[I 2021-04-25 15:53:21,291]\u001b[0m Trial 860 finished with value: 1686754.0 and parameters: {'COEF_CENTER_L1': 5633.25132004509, 'COEF_CENTER_L1_SQ': 3.814512258207609, 'COEF_POINT': 84.06831220989208, 'COEF_DIST': 501.8304959958102, 'COEF_TWIST': 794362.7428184286}. Best is trial 431 with value: 1924103.0.\u001b[0m\n"
     ]
    },
    {
     "name": "stdout",
     "output_type": "stream",
     "text": [
      "callback ok\n",
      "callback ok\n",
      "sed -i 64_answer.cpp -e 's/^\t\tconstexpr double COEF_CENTER_L1 = .*;  \\/\\/ OPTIMIZE \\[-100\\.0, 100\\.0\\]$/\t\tconstexpr double COEF_CENTER_L1 = 2890.8291856291517;  \\/\\/ OPTIMIZE [-100.0, 100.0]/' -e 's/^\t\tconstexpr double COEF_CENTER_L1_SQ = .*;  \\/\\/ OPTIMIZE \\[0\\.0, 200\\.0\\]$/\t\tconstexpr double COEF_CENTER_L1_SQ = 4.96020420967118;  \\/\\/ OPTIMIZE [0.0, 200.0]/' -e 's/^\t\tconstexpr double COEF_POINT = .*;  \\/\\/ OPTIMIZE \\[0\\.0, 100\\.0\\]$/\t\tconstexpr double COEF_POINT = 98.45485002049786;  \\/\\/ OPTIMIZE [0.0, 100.0]/' -e 's/^\t\tconstexpr double COEF_DIST = .*;  \\/\\/ OPTIMIZE \\[0\\.0, 10000\\.0\\]$/\t\tconstexpr double COEF_DIST = 195.58847098911878;  \\/\\/ OPTIMIZE [0.0, 10000.0]/' -e 's/^\t\tconstexpr double COEF_TWIST = .*;  \\/\\/ OPTIMIZE \\[0\\.0, 1000000\\.0\\]$/\t\tconstexpr double COEF_TWIST = 758548.765998232;  \\/\\/ OPTIMIZE [0.0, 1000000.0]/'\n",
      "index_parallel=65\n",
      "mkdir: cannot create directory ‘65_out’: File exists\n",
      "index_parallel=66\n",
      "mkdir: cannot create directory ‘66_out’: File exists\n",
      "g++ 64_answer.cpp -std=gnu++17 -O2 -DONLINE_JUDGE -o 64_answer.cpp.out\n",
      "mkdir: cannot create directory ‘65_score’: File exists\n",
      "mkdir: cannot create directory ‘66_score’: File exists\n",
      "sed -i 65_answer.cpp -e 's/^\t\tconstexpr double COEF_CENTER_L1 = .*;  \\/\\/ OPTIMIZE \\[-100\\.0, 100\\.0\\]$/\t\tconstexpr double COEF_CENTER_L1 = 2781.486510986965;  \\/\\/ OPTIMIZE [-100.0, 100.0]/' -e 's/^\t\tconstexpr double COEF_CENTER_L1_SQ = .*;  \\/\\/ OPTIMIZE \\[0\\.0, 200\\.0\\]$/\t\tconstexpr double COEF_CENTER_L1_SQ = 83.38488029650739;  \\/\\/ OPTIMIZE [0.0, 200.0]/' -e 's/^\t\tconstexpr double COEF_POINT = .*;  \\/\\/ OPTIMIZE \\[0\\.0, 100\\.0\\]$/\t\tconstexpr double COEF_POINT = 98.12703677771829;  \\/\\/ OPTIMIZE [0.0, 100.0]/' -e 's/^\t\tconstexpr double COEF_DIST = .*;  \\/\\/ OPTIMIZE \\[0\\.0, 10000\\.0\\]$/\t\tconstexpr double COEF_DIST = 0.545330750012571;  \\/\\/ OPTIMIZE [0.0, 10000.0]/' -e 's/^\t\tconstexpr double COEF_TWIST = .*;  \\/\\/ OPTIMIZE \\[0\\.0, 1000000\\.0\\]$/\t\tconstexpr double COEF_TWIST = 811360.4326270702;  \\/\\/ OPTIMIZE [0.0, 1000000.0]/'\n",
      "sed -i 66_answer.cpp -e 's/^\t\tconstexpr double COEF_CENTER_L1 = .*;  \\/\\/ OPTIMIZE \\[-100\\.0, 100\\.0\\]$/\t\tconstexpr double COEF_CENTER_L1 = 3159.94410387152;  \\/\\/ OPTIMIZE [-100.0, 100.0]/' -e 's/^\t\tconstexpr double COEF_CENTER_L1_SQ = .*;  \\/\\/ OPTIMIZE \\[0\\.0, 200\\.0\\]$/\t\tconstexpr double COEF_CENTER_L1_SQ = 7.8073969477264225;  \\/\\/ OPTIMIZE [0.0, 200.0]/' -e 's/^\t\tconstexpr double COEF_POINT = .*;  \\/\\/ OPTIMIZE \\[0\\.0, 100\\.0\\]$/\t\tconstexpr double COEF_POINT = 98.11245076357471;  \\/\\/ OPTIMIZE [0.0, 100.0]/' -e 's/^\t\tconstexpr double COEF_DIST = .*;  \\/\\/ OPTIMIZE \\[0\\.0, 10000\\.0\\]$/\t\tconstexpr double COEF_DIST = 190.22242517608586;  \\/\\/ OPTIMIZE [0.0, 10000.0]/' -e 's/^\t\tconstexpr double COEF_TWIST = .*;  \\/\\/ OPTIMIZE \\[0\\.0, 1000000\\.0\\]$/\t\tconstexpr double COEF_TWIST = 813988.6082212104;  \\/\\/ OPTIMIZE [0.0, 1000000.0]/'\n",
      "g++ 65_answer.cpp -std=gnu++17 -O2 -DONLINE_JUDGE -o 65_answer.cpp.out\n",
      "g++ 66_answer.cpp -std=gnu++17 -O2 -DONLINE_JUDGE -o 66_answer.cpp.out\n"
     ]
    },
    {
     "name": "stderr",
     "output_type": "stream",
     "text": [
      "\u001b[32m[I 2021-04-25 15:53:25,459]\u001b[0m Trial 861 finished with value: 1638305.0 and parameters: {'COEF_CENTER_L1': 6009.363275894439, 'COEF_CENTER_L1_SQ': 0.2839067245561373, 'COEF_POINT': 85.19936372806795, 'COEF_DIST': 451.78037681445716, 'COEF_TWIST': 791589.2581840238}. Best is trial 431 with value: 1924103.0.\u001b[0m\n"
     ]
    },
    {
     "name": "stdout",
     "output_type": "stream",
     "text": [
      "callback ok\n",
      "index_parallel=67\n",
      "mkdir: cannot create directory ‘67_out’: File exists\n",
      "mkdir: cannot create directory ‘67_score’: File exists\n",
      "sed -i 67_answer.cpp -e 's/^\t\tconstexpr double COEF_CENTER_L1 = .*;  \\/\\/ OPTIMIZE \\[-100\\.0, 100\\.0\\]$/\t\tconstexpr double COEF_CENTER_L1 = 2895.4107006022386;  \\/\\/ OPTIMIZE [-100.0, 100.0]/' -e 's/^\t\tconstexpr double COEF_CENTER_L1_SQ = .*;  \\/\\/ OPTIMIZE \\[0\\.0, 200\\.0\\]$/\t\tconstexpr double COEF_CENTER_L1_SQ = 6.665583505604427;  \\/\\/ OPTIMIZE [0.0, 200.0]/' -e 's/^\t\tconstexpr double COEF_POINT = .*;  \\/\\/ OPTIMIZE \\[0\\.0, 100\\.0\\]$/\t\tconstexpr double COEF_POINT = 98.35739663461352;  \\/\\/ OPTIMIZE [0.0, 100.0]/' -e 's/^\t\tconstexpr double COEF_DIST = .*;  \\/\\/ OPTIMIZE \\[0\\.0, 10000\\.0\\]$/\t\tconstexpr double COEF_DIST = 189.13189781034583;  \\/\\/ OPTIMIZE [0.0, 10000.0]/' -e 's/^\t\tconstexpr double COEF_TWIST = .*;  \\/\\/ OPTIMIZE \\[0\\.0, 1000000\\.0\\]$/\t\tconstexpr double COEF_TWIST = 751568.84239381;  \\/\\/ OPTIMIZE [0.0, 1000000.0]/'\n",
      "g++ 67_answer.cpp -std=gnu++17 -O2 -DONLINE_JUDGE -o 67_answer.cpp.out\n"
     ]
    },
    {
     "name": "stderr",
     "output_type": "stream",
     "text": [
      "\u001b[32m[I 2021-04-25 15:53:36,330]\u001b[0m Trial 862 finished with value: 1814432.0 and parameters: {'COEF_CENTER_L1': 3279.194413187215, 'COEF_CENTER_L1_SQ': 3.8741098817442556, 'COEF_POINT': 81.21684670632355, 'COEF_DIST': 554.7820761668607, 'COEF_TWIST': 800169.326925891}. Best is trial 431 with value: 1924103.0.\u001b[0m\n"
     ]
    },
    {
     "name": "stdout",
     "output_type": "stream",
     "text": [
      "callback ok\n",
      "index_parallel=68\n",
      "mkdir: cannot create directory ‘68_out’: File exists\n",
      "mkdir: cannot create directory ‘68_score’: File exists\n",
      "sed -i 68_answer.cpp -e 's/^\t\tconstexpr double COEF_CENTER_L1 = .*;  \\/\\/ OPTIMIZE \\[-100\\.0, 100\\.0\\]$/\t\tconstexpr double COEF_CENTER_L1 = 1915.36032297363;  \\/\\/ OPTIMIZE [-100.0, 100.0]/' -e 's/^\t\tconstexpr double COEF_CENTER_L1_SQ = .*;  \\/\\/ OPTIMIZE \\[0\\.0, 200\\.0\\]$/\t\tconstexpr double COEF_CENTER_L1_SQ = 8.140855283076569;  \\/\\/ OPTIMIZE [0.0, 200.0]/' -e 's/^\t\tconstexpr double COEF_POINT = .*;  \\/\\/ OPTIMIZE \\[0\\.0, 100\\.0\\]$/\t\tconstexpr double COEF_POINT = 99.98426336941773;  \\/\\/ OPTIMIZE [0.0, 100.0]/' -e 's/^\t\tconstexpr double COEF_DIST = .*;  \\/\\/ OPTIMIZE \\[0\\.0, 10000\\.0\\]$/\t\tconstexpr double COEF_DIST = 194.19974379897718;  \\/\\/ OPTIMIZE [0.0, 10000.0]/' -e 's/^\t\tconstexpr double COEF_TWIST = .*;  \\/\\/ OPTIMIZE \\[0\\.0, 1000000\\.0\\]$/\t\tconstexpr double COEF_TWIST = 754323.7687851087;  \\/\\/ OPTIMIZE [0.0, 1000000.0]/'\n",
      "g++ 68_answer.cpp -std=gnu++17 -O2 -DONLINE_JUDGE -o 68_answer.cpp.out\n"
     ]
    },
    {
     "name": "stderr",
     "output_type": "stream",
     "text": [
      "\u001b[32m[I 2021-04-25 15:53:44,918]\u001b[0m Trial 863 finished with value: 1825851.0 and parameters: {'COEF_CENTER_L1': 3105.6859894651025, 'COEF_CENTER_L1_SQ': 3.8747213104056883, 'COEF_POINT': 84.77416851484286, 'COEF_DIST': 435.3965138893357, 'COEF_TWIST': 598657.5999891735}. Best is trial 431 with value: 1924103.0.\u001b[0m\n"
     ]
    },
    {
     "name": "stdout",
     "output_type": "stream",
     "text": [
      "callback ok\n",
      "index_parallel=69\n",
      "mkdir: cannot create directory ‘69_out’: File exists\n",
      "mkdir: cannot create directory ‘69_score’: File exists\n",
      "sed -i 69_answer.cpp -e 's/^\t\tconstexpr double COEF_CENTER_L1 = .*;  \\/\\/ OPTIMIZE \\[-100\\.0, 100\\.0\\]$/\t\tconstexpr double COEF_CENTER_L1 = 1834.8097224090914;  \\/\\/ OPTIMIZE [-100.0, 100.0]/' -e 's/^\t\tconstexpr double COEF_CENTER_L1_SQ = .*;  \\/\\/ OPTIMIZE \\[0\\.0, 200\\.0\\]$/\t\tconstexpr double COEF_CENTER_L1_SQ = 8.949278924076733;  \\/\\/ OPTIMIZE [0.0, 200.0]/' -e 's/^\t\tconstexpr double COEF_POINT = .*;  \\/\\/ OPTIMIZE \\[0\\.0, 100\\.0\\]$/\t\tconstexpr double COEF_POINT = 78.00481745772274;  \\/\\/ OPTIMIZE [0.0, 100.0]/' -e 's/^\t\tconstexpr double COEF_DIST = .*;  \\/\\/ OPTIMIZE \\[0\\.0, 10000\\.0\\]$/\t\tconstexpr double COEF_DIST = 10.69400076960265;  \\/\\/ OPTIMIZE [0.0, 10000.0]/' -e 's/^\t\tconstexpr double COEF_TWIST = .*;  \\/\\/ OPTIMIZE \\[0\\.0, 1000000\\.0\\]$/\t\tconstexpr double COEF_TWIST = 739302.3039861992;  \\/\\/ OPTIMIZE [0.0, 1000000.0]/'\n",
      "g++ 69_answer.cpp -std=gnu++17 -O2 -DONLINE_JUDGE -o 69_answer.cpp.out\n"
     ]
    },
    {
     "name": "stderr",
     "output_type": "stream",
     "text": [
      "\u001b[32m[I 2021-04-25 15:53:47,211]\u001b[0m Trial 865 finished with value: 1252326.0 and parameters: {'COEF_CENTER_L1': 2781.486510986965, 'COEF_CENTER_L1_SQ': 83.38488029650739, 'COEF_POINT': 98.12703677771829, 'COEF_DIST': 0.545330750012571, 'COEF_TWIST': 811360.4326270702}. Best is trial 431 with value: 1924103.0.\u001b[0m\n"
     ]
    },
    {
     "name": "stdout",
     "output_type": "stream",
     "text": [
      "callback ok\n",
      "index_parallel=70\n",
      "mkdir: cannot create directory ‘70_out’: File exists\n",
      "mkdir: cannot create directory ‘70_score’: File exists\n",
      "sed -i 70_answer.cpp -e 's/^\t\tconstexpr double COEF_CENTER_L1 = .*;  \\/\\/ OPTIMIZE \\[-100\\.0, 100\\.0\\]$/\t\tconstexpr double COEF_CENTER_L1 = 1596.9365395522013;  \\/\\/ OPTIMIZE [-100.0, 100.0]/' -e 's/^\t\tconstexpr double COEF_CENTER_L1_SQ = .*;  \\/\\/ OPTIMIZE \\[0\\.0, 200\\.0\\]$/\t\tconstexpr double COEF_CENTER_L1_SQ = 9.840842992931982;  \\/\\/ OPTIMIZE [0.0, 200.0]/' -e 's/^\t\tconstexpr double COEF_POINT = .*;  \\/\\/ OPTIMIZE \\[0\\.0, 100\\.0\\]$/\t\tconstexpr double COEF_POINT = 94.88948257847012;  \\/\\/ OPTIMIZE [0.0, 100.0]/' -e 's/^\t\tconstexpr double COEF_DIST = .*;  \\/\\/ OPTIMIZE \\[0\\.0, 10000\\.0\\]$/\t\tconstexpr double COEF_DIST = 178.4703818544709;  \\/\\/ OPTIMIZE [0.0, 10000.0]/' -e 's/^\t\tconstexpr double COEF_TWIST = .*;  \\/\\/ OPTIMIZE \\[0\\.0, 1000000\\.0\\]$/\t\tconstexpr double COEF_TWIST = 747817.7766474043;  \\/\\/ OPTIMIZE [0.0, 1000000.0]/'\n",
      "g++ 70_answer.cpp -std=gnu++17 -O2 -DONLINE_JUDGE -o 70_answer.cpp.out\n"
     ]
    },
    {
     "name": "stderr",
     "output_type": "stream",
     "text": [
      "\u001b[32m[I 2021-04-25 15:53:54,551]\u001b[0m Trial 864 finished with value: 1758254.0 and parameters: {'COEF_CENTER_L1': 2890.8291856291517, 'COEF_CENTER_L1_SQ': 4.96020420967118, 'COEF_POINT': 98.45485002049786, 'COEF_DIST': 195.58847098911878, 'COEF_TWIST': 758548.765998232}. Best is trial 431 with value: 1924103.0.\u001b[0m\n"
     ]
    },
    {
     "name": "stdout",
     "output_type": "stream",
     "text": [
      "callback ok\n",
      "index_parallel=71\n",
      "mkdir: cannot create directory ‘71_out’: File exists\n",
      "mkdir: cannot create directory ‘71_score’: File exists\n",
      "sed -i 71_answer.cpp -e 's/^\t\tconstexpr double COEF_CENTER_L1 = .*;  \\/\\/ OPTIMIZE \\[-100\\.0, 100\\.0\\]$/\t\tconstexpr double COEF_CENTER_L1 = 1484.6642818547652;  \\/\\/ OPTIMIZE [-100.0, 100.0]/' -e 's/^\t\tconstexpr double COEF_CENTER_L1_SQ = .*;  \\/\\/ OPTIMIZE \\[0\\.0, 200\\.0\\]$/\t\tconstexpr double COEF_CENTER_L1_SQ = 8.877269788284526;  \\/\\/ OPTIMIZE [0.0, 200.0]/' -e 's/^\t\tconstexpr double COEF_POINT = .*;  \\/\\/ OPTIMIZE \\[0\\.0, 100\\.0\\]$/\t\tconstexpr double COEF_POINT = 94.6218357513359;  \\/\\/ OPTIMIZE [0.0, 100.0]/' -e 's/^\t\tconstexpr double COEF_DIST = .*;  \\/\\/ OPTIMIZE \\[0\\.0, 10000\\.0\\]$/\t\tconstexpr double COEF_DIST = 182.86990012938477;  \\/\\/ OPTIMIZE [0.0, 10000.0]/' -e 's/^\t\tconstexpr double COEF_TWIST = .*;  \\/\\/ OPTIMIZE \\[0\\.0, 1000000\\.0\\]$/\t\tconstexpr double COEF_TWIST = 427475.52988082066;  \\/\\/ OPTIMIZE [0.0, 1000000.0]/'\n",
      "g++ 71_answer.cpp -std=gnu++17 -O2 -DONLINE_JUDGE -o 71_answer.cpp.out\n"
     ]
    },
    {
     "name": "stderr",
     "output_type": "stream",
     "text": [
      "\u001b[32m[I 2021-04-25 15:53:56,792]\u001b[0m Trial 866 finished with value: 1818243.0 and parameters: {'COEF_CENTER_L1': 3159.94410387152, 'COEF_CENTER_L1_SQ': 7.8073969477264225, 'COEF_POINT': 98.11245076357471, 'COEF_DIST': 190.22242517608586, 'COEF_TWIST': 813988.6082212104}. Best is trial 431 with value: 1924103.0.\u001b[0m\n"
     ]
    },
    {
     "name": "stdout",
     "output_type": "stream",
     "text": [
      "callback ok\n",
      "index_parallel=72\n",
      "mkdir: cannot create directory ‘72_out’: File exists\n",
      "mkdir: cannot create directory ‘72_score’: File exists\n",
      "sed -i 72_answer.cpp -e 's/^\t\tconstexpr double COEF_CENTER_L1 = .*;  \\/\\/ OPTIMIZE \\[-100\\.0, 100\\.0\\]$/\t\tconstexpr double COEF_CENTER_L1 = 47.188894170862795;  \\/\\/ OPTIMIZE [-100.0, 100.0]/' -e 's/^\t\tconstexpr double COEF_CENTER_L1_SQ = .*;  \\/\\/ OPTIMIZE \\[0\\.0, 200\\.0\\]$/\t\tconstexpr double COEF_CENTER_L1_SQ = 9.329521328942116;  \\/\\/ OPTIMIZE [0.0, 200.0]/' -e 's/^\t\tconstexpr double COEF_POINT = .*;  \\/\\/ OPTIMIZE \\[0\\.0, 100\\.0\\]$/\t\tconstexpr double COEF_POINT = 76.93899281134343;  \\/\\/ OPTIMIZE [0.0, 100.0]/' -e 's/^\t\tconstexpr double COEF_DIST = .*;  \\/\\/ OPTIMIZE \\[0\\.0, 10000\\.0\\]$/\t\tconstexpr double COEF_DIST = 177.10709792896526;  \\/\\/ OPTIMIZE [0.0, 10000.0]/' -e 's/^\t\tconstexpr double COEF_TWIST = .*;  \\/\\/ OPTIMIZE \\[0\\.0, 1000000\\.0\\]$/\t\tconstexpr double COEF_TWIST = 731822.3109961973;  \\/\\/ OPTIMIZE [0.0, 1000000.0]/'\n",
      "g++ 72_answer.cpp -std=gnu++17 -O2 -DONLINE_JUDGE -o 72_answer.cpp.out\n"
     ]
    },
    {
     "name": "stderr",
     "output_type": "stream",
     "text": [
      "\u001b[32m[I 2021-04-25 15:54:00,068]\u001b[0m Trial 867 finished with value: 1774854.0 and parameters: {'COEF_CENTER_L1': 2895.4107006022386, 'COEF_CENTER_L1_SQ': 6.665583505604427, 'COEF_POINT': 98.35739663461352, 'COEF_DIST': 189.13189781034583, 'COEF_TWIST': 751568.84239381}. Best is trial 431 with value: 1924103.0.\u001b[0m\n"
     ]
    },
    {
     "name": "stdout",
     "output_type": "stream",
     "text": [
      "callback ok\n",
      "index_parallel=73\n",
      "mkdir: cannot create directory ‘73_out’: File exists\n",
      "mkdir: cannot create directory ‘73_score’: File exists\n",
      "sed -i 73_answer.cpp -e 's/^\t\tconstexpr double COEF_CENTER_L1 = .*;  \\/\\/ OPTIMIZE \\[-100\\.0, 100\\.0\\]$/\t\tconstexpr double COEF_CENTER_L1 = -48.61544055356967;  \\/\\/ OPTIMIZE [-100.0, 100.0]/' -e 's/^\t\tconstexpr double COEF_CENTER_L1_SQ = .*;  \\/\\/ OPTIMIZE \\[0\\.0, 200\\.0\\]$/\t\tconstexpr double COEF_CENTER_L1_SQ = 10.21531452307768;  \\/\\/ OPTIMIZE [0.0, 200.0]/' -e 's/^\t\tconstexpr double COEF_POINT = .*;  \\/\\/ OPTIMIZE \\[0\\.0, 100\\.0\\]$/\t\tconstexpr double COEF_POINT = 95.10842976720836;  \\/\\/ OPTIMIZE [0.0, 100.0]/' -e 's/^\t\tconstexpr double COEF_DIST = .*;  \\/\\/ OPTIMIZE \\[0\\.0, 10000\\.0\\]$/\t\tconstexpr double COEF_DIST = 184.7052777240144;  \\/\\/ OPTIMIZE [0.0, 10000.0]/' -e 's/^\t\tconstexpr double COEF_TWIST = .*;  \\/\\/ OPTIMIZE \\[0\\.0, 1000000\\.0\\]$/\t\tconstexpr double COEF_TWIST = 718841.4793215898;  \\/\\/ OPTIMIZE [0.0, 1000000.0]/'\n",
      "g++ 73_answer.cpp -std=gnu++17 -O2 -DONLINE_JUDGE -o 73_answer.cpp.out\n"
     ]
    },
    {
     "name": "stderr",
     "output_type": "stream",
     "text": [
      "\u001b[32m[I 2021-04-25 15:54:13,267]\u001b[0m Trial 868 finished with value: 1813251.0 and parameters: {'COEF_CENTER_L1': 1915.36032297363, 'COEF_CENTER_L1_SQ': 8.140855283076569, 'COEF_POINT': 99.98426336941773, 'COEF_DIST': 194.19974379897718, 'COEF_TWIST': 754323.7687851087}. Best is trial 431 with value: 1924103.0.\u001b[0m\n"
     ]
    },
    {
     "name": "stdout",
     "output_type": "stream",
     "text": [
      "callback ok\n",
      "index_parallel=74\n",
      "mkdir: cannot create directory ‘74_out’: File exists\n",
      "mkdir: cannot create directory ‘74_score’: File exists\n",
      "sed -i 74_answer.cpp -e 's/^\t\tconstexpr double COEF_CENTER_L1 = .*;  \\/\\/ OPTIMIZE \\[-100\\.0, 100\\.0\\]$/\t\tconstexpr double COEF_CENTER_L1 = -84.44295952718426;  \\/\\/ OPTIMIZE [-100.0, 100.0]/' -e 's/^\t\tconstexpr double COEF_CENTER_L1_SQ = .*;  \\/\\/ OPTIMIZE \\[0\\.0, 200\\.0\\]$/\t\tconstexpr double COEF_CENTER_L1_SQ = 10.174561778652716;  \\/\\/ OPTIMIZE [0.0, 200.0]/' -e 's/^\t\tconstexpr double COEF_POINT = .*;  \\/\\/ OPTIMIZE \\[0\\.0, 100\\.0\\]$/\t\tconstexpr double COEF_POINT = 95.37302814090197;  \\/\\/ OPTIMIZE [0.0, 100.0]/' -e 's/^\t\tconstexpr double COEF_DIST = .*;  \\/\\/ OPTIMIZE \\[0\\.0, 10000\\.0\\]$/\t\tconstexpr double COEF_DIST = 191.78525953587118;  \\/\\/ OPTIMIZE [0.0, 10000.0]/' -e 's/^\t\tconstexpr double COEF_TWIST = .*;  \\/\\/ OPTIMIZE \\[0\\.0, 1000000\\.0\\]$/\t\tconstexpr double COEF_TWIST = 732626.413287024;  \\/\\/ OPTIMIZE [0.0, 1000000.0]/'\n",
      "g++ 74_answer.cpp -std=gnu++17 -O2 -DONLINE_JUDGE -o 74_answer.cpp.out\n"
     ]
    },
    {
     "name": "stderr",
     "output_type": "stream",
     "text": [
      "\u001b[32m[I 2021-04-25 15:54:22,094]\u001b[0m Trial 869 finished with value: 1815815.0 and parameters: {'COEF_CENTER_L1': 1834.8097224090914, 'COEF_CENTER_L1_SQ': 8.949278924076733, 'COEF_POINT': 78.00481745772274, 'COEF_DIST': 10.69400076960265, 'COEF_TWIST': 739302.3039861992}. Best is trial 431 with value: 1924103.0.\u001b[0m\n"
     ]
    },
    {
     "name": "stdout",
     "output_type": "stream",
     "text": [
      "callback ok\n",
      "index_parallel=75\n",
      "mkdir: cannot create directory ‘75_out’: File exists\n",
      "mkdir: cannot create directory ‘75_score’: File exists\n",
      "sed -i 75_answer.cpp -e 's/^\t\tconstexpr double COEF_CENTER_L1 = .*;  \\/\\/ OPTIMIZE \\[-100\\.0, 100\\.0\\]$/\t\tconstexpr double COEF_CENTER_L1 = 1308.2246739227414;  \\/\\/ OPTIMIZE [-100.0, 100.0]/' -e 's/^\t\tconstexpr double COEF_CENTER_L1_SQ = .*;  \\/\\/ OPTIMIZE \\[0\\.0, 200\\.0\\]$/\t\tconstexpr double COEF_CENTER_L1_SQ = 11.561471123503711;  \\/\\/ OPTIMIZE [0.0, 200.0]/' -e 's/^\t\tconstexpr double COEF_POINT = .*;  \\/\\/ OPTIMIZE \\[0\\.0, 100\\.0\\]$/\t\tconstexpr double COEF_POINT = 94.59393030139206;  \\/\\/ OPTIMIZE [0.0, 100.0]/' -e 's/^\t\tconstexpr double COEF_DIST = .*;  \\/\\/ OPTIMIZE \\[0\\.0, 10000\\.0\\]$/\t\tconstexpr double COEF_DIST = 14.410509706178056;  \\/\\/ OPTIMIZE [0.0, 10000.0]/' -e 's/^\t\tconstexpr double COEF_TWIST = .*;  \\/\\/ OPTIMIZE \\[0\\.0, 1000000\\.0\\]$/\t\tconstexpr double COEF_TWIST = 722054.8640473335;  \\/\\/ OPTIMIZE [0.0, 1000000.0]/'\n",
      "g++ 75_answer.cpp -std=gnu++17 -O2 -DONLINE_JUDGE -o 75_answer.cpp.out\n"
     ]
    },
    {
     "name": "stderr",
     "output_type": "stream",
     "text": [
      "\u001b[32m[I 2021-04-25 15:54:26,453]\u001b[0m Trial 870 finished with value: 1898199.0 and parameters: {'COEF_CENTER_L1': 1596.9365395522013, 'COEF_CENTER_L1_SQ': 9.840842992931982, 'COEF_POINT': 94.88948257847012, 'COEF_DIST': 178.4703818544709, 'COEF_TWIST': 747817.7766474043}. Best is trial 431 with value: 1924103.0.\u001b[0m\n"
     ]
    },
    {
     "name": "stdout",
     "output_type": "stream",
     "text": [
      "callback ok\n",
      "index_parallel=76\n",
      "mkdir: cannot create directory ‘76_out’: File exists\n",
      "mkdir: cannot create directory ‘76_score’: File exists\n",
      "sed -i 76_answer.cpp -e 's/^\t\tconstexpr double COEF_CENTER_L1 = .*;  \\/\\/ OPTIMIZE \\[-100\\.0, 100\\.0\\]$/\t\tconstexpr double COEF_CENTER_L1 = 1472.4287059121111;  \\/\\/ OPTIMIZE [-100.0, 100.0]/' -e 's/^\t\tconstexpr double COEF_CENTER_L1_SQ = .*;  \\/\\/ OPTIMIZE \\[0\\.0, 200\\.0\\]$/\t\tconstexpr double COEF_CENTER_L1_SQ = 14.549843263752145;  \\/\\/ OPTIMIZE [0.0, 200.0]/' -e 's/^\t\tconstexpr double COEF_POINT = .*;  \\/\\/ OPTIMIZE \\[0\\.0, 100\\.0\\]$/\t\tconstexpr double COEF_POINT = 95.21313311175761;  \\/\\/ OPTIMIZE [0.0, 100.0]/' -e 's/^\t\tconstexpr double COEF_DIST = .*;  \\/\\/ OPTIMIZE \\[0\\.0, 10000\\.0\\]$/\t\tconstexpr double COEF_DIST = 16.882065881750815;  \\/\\/ OPTIMIZE [0.0, 10000.0]/' -e 's/^\t\tconstexpr double COEF_TWIST = .*;  \\/\\/ OPTIMIZE \\[0\\.0, 1000000\\.0\\]$/\t\tconstexpr double COEF_TWIST = 774019.744568253;  \\/\\/ OPTIMIZE [0.0, 1000000.0]/'\n",
      "g++ 76_answer.cpp -std=gnu++17 -O2 -DONLINE_JUDGE -o 76_answer.cpp.out\n"
     ]
    },
    {
     "name": "stderr",
     "output_type": "stream",
     "text": [
      "\u001b[32m[I 2021-04-25 15:54:29,332]\u001b[0m Trial 871 finished with value: 1783778.0 and parameters: {'COEF_CENTER_L1': 1484.6642818547652, 'COEF_CENTER_L1_SQ': 8.877269788284526, 'COEF_POINT': 94.6218357513359, 'COEF_DIST': 182.86990012938477, 'COEF_TWIST': 427475.52988082066}. Best is trial 431 with value: 1924103.0.\u001b[0m\n"
     ]
    },
    {
     "name": "stdout",
     "output_type": "stream",
     "text": [
      "callback ok\n",
      "index_parallel=77\n",
      "mkdir: cannot create directory ‘77_out’: File exists\n",
      "mkdir: cannot create directory ‘77_score’: File exists\n",
      "sed -i 77_answer.cpp -e 's/^\t\tconstexpr double COEF_CENTER_L1 = .*;  \\/\\/ OPTIMIZE \\[-100\\.0, 100\\.0\\]$/\t\tconstexpr double COEF_CENTER_L1 = -53.457707690909274;  \\/\\/ OPTIMIZE [-100.0, 100.0]/' -e 's/^\t\tconstexpr double COEF_CENTER_L1_SQ = .*;  \\/\\/ OPTIMIZE \\[0\\.0, 200\\.0\\]$/\t\tconstexpr double COEF_CENTER_L1_SQ = 15.666238941160724;  \\/\\/ OPTIMIZE [0.0, 200.0]/' -e 's/^\t\tconstexpr double COEF_POINT = .*;  \\/\\/ OPTIMIZE \\[0\\.0, 100\\.0\\]$/\t\tconstexpr double COEF_POINT = 95.2061711809117;  \\/\\/ OPTIMIZE [0.0, 100.0]/' -e 's/^\t\tconstexpr double COEF_DIST = .*;  \\/\\/ OPTIMIZE \\[0\\.0, 10000\\.0\\]$/\t\tconstexpr double COEF_DIST = 14.19142085941859;  \\/\\/ OPTIMIZE [0.0, 10000.0]/' -e 's/^\t\tconstexpr double COEF_TWIST = .*;  \\/\\/ OPTIMIZE \\[0\\.0, 1000000\\.0\\]$/\t\tconstexpr double COEF_TWIST = 762115.319774204;  \\/\\/ OPTIMIZE [0.0, 1000000.0]/'\n",
      "g++ 77_answer.cpp -std=gnu++17 -O2 -DONLINE_JUDGE -o 77_answer.cpp.out\n"
     ]
    },
    {
     "name": "stderr",
     "output_type": "stream",
     "text": [
      "\u001b[32m[I 2021-04-25 15:54:31,079]\u001b[0m Trial 872 finished with value: 1308518.0 and parameters: {'COEF_CENTER_L1': 47.188894170862795, 'COEF_CENTER_L1_SQ': 9.329521328942116, 'COEF_POINT': 76.93899281134343, 'COEF_DIST': 177.10709792896526, 'COEF_TWIST': 731822.3109961973}. Best is trial 431 with value: 1924103.0.\u001b[0m\n"
     ]
    },
    {
     "name": "stdout",
     "output_type": "stream",
     "text": [
      "callback ok\n",
      "index_parallel=78\n",
      "mkdir: cannot create directory ‘78_out’: File exists\n",
      "mkdir: cannot create directory ‘78_score’: File exists\n",
      "sed -i 78_answer.cpp -e 's/^\t\tconstexpr double COEF_CENTER_L1 = .*;  \\/\\/ OPTIMIZE \\[-100\\.0, 100\\.0\\]$/\t\tconstexpr double COEF_CENTER_L1 = 119.91991228468123;  \\/\\/ OPTIMIZE [-100.0, 100.0]/' -e 's/^\t\tconstexpr double COEF_CENTER_L1_SQ = .*;  \\/\\/ OPTIMIZE \\[0\\.0, 200\\.0\\]$/\t\tconstexpr double COEF_CENTER_L1_SQ = 15.37346856646868;  \\/\\/ OPTIMIZE [0.0, 200.0]/' -e 's/^\t\tconstexpr double COEF_POINT = .*;  \\/\\/ OPTIMIZE \\[0\\.0, 100\\.0\\]$/\t\tconstexpr double COEF_POINT = 95.43612639269047;  \\/\\/ OPTIMIZE [0.0, 100.0]/' -e 's/^\t\tconstexpr double COEF_DIST = .*;  \\/\\/ OPTIMIZE \\[0\\.0, 10000\\.0\\]$/\t\tconstexpr double COEF_DIST = 750.9440992121275;  \\/\\/ OPTIMIZE [0.0, 10000.0]/' -e 's/^\t\tconstexpr double COEF_TWIST = .*;  \\/\\/ OPTIMIZE \\[0\\.0, 1000000\\.0\\]$/\t\tconstexpr double COEF_TWIST = 776716.2914670719;  \\/\\/ OPTIMIZE [0.0, 1000000.0]/'\n",
      "g++ 78_answer.cpp -std=gnu++17 -O2 -DONLINE_JUDGE -o 78_answer.cpp.out\n"
     ]
    },
    {
     "name": "stderr",
     "output_type": "stream",
     "text": [
      "\u001b[32m[I 2021-04-25 15:54:35,078]\u001b[0m Trial 873 finished with value: 1362946.0 and parameters: {'COEF_CENTER_L1': -48.61544055356967, 'COEF_CENTER_L1_SQ': 10.21531452307768, 'COEF_POINT': 95.10842976720836, 'COEF_DIST': 184.7052777240144, 'COEF_TWIST': 718841.4793215898}. Best is trial 431 with value: 1924103.0.\u001b[0m\n"
     ]
    },
    {
     "name": "stdout",
     "output_type": "stream",
     "text": [
      "callback ok\n",
      "index_parallel=79\n",
      "mkdir: cannot create directory ‘79_out’: File exists\n",
      "mkdir: cannot create directory ‘79_score’: File exists\n",
      "sed -i 79_answer.cpp -e 's/^\t\tconstexpr double COEF_CENTER_L1 = .*;  \\/\\/ OPTIMIZE \\[-100\\.0, 100\\.0\\]$/\t\tconstexpr double COEF_CENTER_L1 = 1.4357178711300094;  \\/\\/ OPTIMIZE [-100.0, 100.0]/' -e 's/^\t\tconstexpr double COEF_CENTER_L1_SQ = .*;  \\/\\/ OPTIMIZE \\[0\\.0, 200\\.0\\]$/\t\tconstexpr double COEF_CENTER_L1_SQ = 14.589499679951691;  \\/\\/ OPTIMIZE [0.0, 200.0]/' -e 's/^\t\tconstexpr double COEF_POINT = .*;  \\/\\/ OPTIMIZE \\[0\\.0, 100\\.0\\]$/\t\tconstexpr double COEF_POINT = 95.21949575810905;  \\/\\/ OPTIMIZE [0.0, 100.0]/' -e 's/^\t\tconstexpr double COEF_DIST = .*;  \\/\\/ OPTIMIZE \\[0\\.0, 10000\\.0\\]$/\t\tconstexpr double COEF_DIST = 7.573441733261298;  \\/\\/ OPTIMIZE [0.0, 10000.0]/' -e 's/^\t\tconstexpr double COEF_TWIST = .*;  \\/\\/ OPTIMIZE \\[0\\.0, 1000000\\.0\\]$/\t\tconstexpr double COEF_TWIST = 769119.7856418462;  \\/\\/ OPTIMIZE [0.0, 1000000.0]/'\n",
      "g++ 79_answer.cpp -std=gnu++17 -O2 -DONLINE_JUDGE -o 79_answer.cpp.out\n"
     ]
    },
    {
     "name": "stderr",
     "output_type": "stream",
     "text": [
      "\u001b[32m[I 2021-04-25 15:54:47,836]\u001b[0m Trial 874 finished with value: 1384198.0 and parameters: {'COEF_CENTER_L1': -84.44295952718426, 'COEF_CENTER_L1_SQ': 10.174561778652716, 'COEF_POINT': 95.37302814090197, 'COEF_DIST': 191.78525953587118, 'COEF_TWIST': 732626.413287024}. Best is trial 431 with value: 1924103.0.\u001b[0m\n"
     ]
    },
    {
     "name": "stdout",
     "output_type": "stream",
     "text": [
      "callback ok\n",
      "index_parallel=80\n",
      "mkdir: cannot create directory ‘80_out’: File exists\n",
      "mkdir: cannot create directory ‘80_score’: File exists\n",
      "sed -i 80_answer.cpp -e 's/^\t\tconstexpr double COEF_CENTER_L1 = .*;  \\/\\/ OPTIMIZE \\[-100\\.0, 100\\.0\\]$/\t\tconstexpr double COEF_CENTER_L1 = 5146.75874892599;  \\/\\/ OPTIMIZE [-100.0, 100.0]/' -e 's/^\t\tconstexpr double COEF_CENTER_L1_SQ = .*;  \\/\\/ OPTIMIZE \\[0\\.0, 200\\.0\\]$/\t\tconstexpr double COEF_CENTER_L1_SQ = 16.121327482077465;  \\/\\/ OPTIMIZE [0.0, 200.0]/' -e 's/^\t\tconstexpr double COEF_POINT = .*;  \\/\\/ OPTIMIZE \\[0\\.0, 100\\.0\\]$/\t\tconstexpr double COEF_POINT = 95.39335483489464;  \\/\\/ OPTIMIZE [0.0, 100.0]/' -e 's/^\t\tconstexpr double COEF_DIST = .*;  \\/\\/ OPTIMIZE \\[0\\.0, 10000\\.0\\]$/\t\tconstexpr double COEF_DIST = 17.89291689194412;  \\/\\/ OPTIMIZE [0.0, 10000.0]/' -e 's/^\t\tconstexpr double COEF_TWIST = .*;  \\/\\/ OPTIMIZE \\[0\\.0, 1000000\\.0\\]$/\t\tconstexpr double COEF_TWIST = 768263.9976431421;  \\/\\/ OPTIMIZE [0.0, 1000000.0]/'\n",
      "g++ 80_answer.cpp -std=gnu++17 -O2 -DONLINE_JUDGE -o 80_answer.cpp.out\n"
     ]
    },
    {
     "name": "stderr",
     "output_type": "stream",
     "text": [
      "\u001b[32m[I 2021-04-25 15:55:00,269]\u001b[0m Trial 875 finished with value: 1871281.0 and parameters: {'COEF_CENTER_L1': 1308.2246739227414, 'COEF_CENTER_L1_SQ': 11.561471123503711, 'COEF_POINT': 94.59393030139206, 'COEF_DIST': 14.410509706178056, 'COEF_TWIST': 722054.8640473335}. Best is trial 431 with value: 1924103.0.\u001b[0m\n"
     ]
    },
    {
     "name": "stdout",
     "output_type": "stream",
     "text": [
      "callback ok\n",
      "index_parallel=81\n",
      "mkdir: cannot create directory ‘81_out’: File exists\n",
      "mkdir: cannot create directory ‘81_score’: File exists\n",
      "sed -i 81_answer.cpp -e 's/^\t\tconstexpr double COEF_CENTER_L1 = .*;  \\/\\/ OPTIMIZE \\[-100\\.0, 100\\.0\\]$/\t\tconstexpr double COEF_CENTER_L1 = -79.27349563205985;  \\/\\/ OPTIMIZE [-100.0, 100.0]/' -e 's/^\t\tconstexpr double COEF_CENTER_L1_SQ = .*;  \\/\\/ OPTIMIZE \\[0\\.0, 200\\.0\\]$/\t\tconstexpr double COEF_CENTER_L1_SQ = 16.032848425779626;  \\/\\/ OPTIMIZE [0.0, 200.0]/' -e 's/^\t\tconstexpr double COEF_POINT = .*;  \\/\\/ OPTIMIZE \\[0\\.0, 100\\.0\\]$/\t\tconstexpr double COEF_POINT = 92.76649772752317;  \\/\\/ OPTIMIZE [0.0, 100.0]/' -e 's/^\t\tconstexpr double COEF_DIST = .*;  \\/\\/ OPTIMIZE \\[0\\.0, 10000\\.0\\]$/\t\tconstexpr double COEF_DIST = 737.5656195587728;  \\/\\/ OPTIMIZE [0.0, 10000.0]/' -e 's/^\t\tconstexpr double COEF_TWIST = .*;  \\/\\/ OPTIMIZE \\[0\\.0, 1000000\\.0\\]$/\t\tconstexpr double COEF_TWIST = 747584.6512983479;  \\/\\/ OPTIMIZE [0.0, 1000000.0]/'\n",
      "g++ 81_answer.cpp -std=gnu++17 -O2 -DONLINE_JUDGE -o 81_answer.cpp.out\n"
     ]
    },
    {
     "name": "stderr",
     "output_type": "stream",
     "text": [
      "\u001b[32m[I 2021-04-25 15:55:03,327]\u001b[0m Trial 876 finished with value: 1822068.0 and parameters: {'COEF_CENTER_L1': 1472.4287059121111, 'COEF_CENTER_L1_SQ': 14.549843263752145, 'COEF_POINT': 95.21313311175761, 'COEF_DIST': 16.882065881750815, 'COEF_TWIST': 774019.744568253}. Best is trial 431 with value: 1924103.0.\u001b[0m\n"
     ]
    },
    {
     "name": "stdout",
     "output_type": "stream",
     "text": [
      "callback ok\n",
      "index_parallel=82\n",
      "mkdir: cannot create directory ‘82_out’: File exists\n",
      "mkdir: cannot create directory ‘82_score’: File exists\n",
      "sed -i 82_answer.cpp -e 's/^\t\tconstexpr double COEF_CENTER_L1 = .*;  \\/\\/ OPTIMIZE \\[-100\\.0, 100\\.0\\]$/\t\tconstexpr double COEF_CENTER_L1 = 1657.2889738248555;  \\/\\/ OPTIMIZE [-100.0, 100.0]/' -e 's/^\t\tconstexpr double COEF_CENTER_L1_SQ = .*;  \\/\\/ OPTIMIZE \\[0\\.0, 200\\.0\\]$/\t\tconstexpr double COEF_CENTER_L1_SQ = 17.28269762770778;  \\/\\/ OPTIMIZE [0.0, 200.0]/' -e 's/^\t\tconstexpr double COEF_POINT = .*;  \\/\\/ OPTIMIZE \\[0\\.0, 100\\.0\\]$/\t\tconstexpr double COEF_POINT = 92.79078626740313;  \\/\\/ OPTIMIZE [0.0, 100.0]/' -e 's/^\t\tconstexpr double COEF_DIST = .*;  \\/\\/ OPTIMIZE \\[0\\.0, 10000\\.0\\]$/\t\tconstexpr double COEF_DIST = 10.181572516544382;  \\/\\/ OPTIMIZE [0.0, 10000.0]/' -e 's/^\t\tconstexpr double COEF_TWIST = .*;  \\/\\/ OPTIMIZE \\[0\\.0, 1000000\\.0\\]$/\t\tconstexpr double COEF_TWIST = 745876.5826836893;  \\/\\/ OPTIMIZE [0.0, 1000000.0]/'\n",
      "g++ 82_answer.cpp -std=gnu++17 -O2 -DONLINE_JUDGE -o 82_answer.cpp.out\n"
     ]
    },
    {
     "name": "stderr",
     "output_type": "stream",
     "text": [
      "\u001b[32m[I 2021-04-25 15:55:04,898]\u001b[0m Trial 877 finished with value: 1378818.0 and parameters: {'COEF_CENTER_L1': -53.457707690909274, 'COEF_CENTER_L1_SQ': 15.666238941160724, 'COEF_POINT': 95.2061711809117, 'COEF_DIST': 14.19142085941859, 'COEF_TWIST': 762115.319774204}. Best is trial 431 with value: 1924103.0.\u001b[0m\n"
     ]
    },
    {
     "name": "stdout",
     "output_type": "stream",
     "text": [
      "callback ok\n",
      "index_parallel=83\n",
      "mkdir: cannot create directory ‘83_out’: File exists\n"
     ]
    },
    {
     "name": "stderr",
     "output_type": "stream",
     "text": [
      "\u001b[32m[I 2021-04-25 15:55:05,067]\u001b[0m Trial 878 finished with value: 1254808.0 and parameters: {'COEF_CENTER_L1': 119.91991228468123, 'COEF_CENTER_L1_SQ': 15.37346856646868, 'COEF_POINT': 95.43612639269047, 'COEF_DIST': 750.9440992121275, 'COEF_TWIST': 776716.2914670719}. Best is trial 431 with value: 1924103.0.\u001b[0m\n"
     ]
    },
    {
     "name": "stdout",
     "output_type": "stream",
     "text": [
      "mkdir: cannot create directory ‘83_score’: File exists\n",
      "callback ok\n",
      "index_parallel=84\n",
      "mkdir: cannot create directory ‘84_out’: File exists\n",
      "mkdir: cannot create directory ‘84_score’: File exists\n",
      "sed -i 83_answer.cpp -e 's/^\t\tconstexpr double COEF_CENTER_L1 = .*;  \\/\\/ OPTIMIZE \\[-100\\.0, 100\\.0\\]$/\t\tconstexpr double COEF_CENTER_L1 = -12.09618944792237;  \\/\\/ OPTIMIZE [-100.0, 100.0]/' -e 's/^\t\tconstexpr double COEF_CENTER_L1_SQ = .*;  \\/\\/ OPTIMIZE \\[0\\.0, 200\\.0\\]$/\t\tconstexpr double COEF_CENTER_L1_SQ = 17.373486608650094;  \\/\\/ OPTIMIZE [0.0, 200.0]/' -e 's/^\t\tconstexpr double COEF_POINT = .*;  \\/\\/ OPTIMIZE \\[0\\.0, 100\\.0\\]$/\t\tconstexpr double COEF_POINT = 92.60739127624794;  \\/\\/ OPTIMIZE [0.0, 100.0]/' -e 's/^\t\tconstexpr double COEF_DIST = .*;  \\/\\/ OPTIMIZE \\[0\\.0, 10000\\.0\\]$/\t\tconstexpr double COEF_DIST = 3.085691630942847;  \\/\\/ OPTIMIZE [0.0, 10000.0]/' -e 's/^\t\tconstexpr double COEF_TWIST = .*;  \\/\\/ OPTIMIZE \\[0\\.0, 1000000\\.0\\]$/\t\tconstexpr double COEF_TWIST = 740823.8644395662;  \\/\\/ OPTIMIZE [0.0, 1000000.0]/'\n",
      "g++ 83_answer.cpp -std=gnu++17 -O2 -DONLINE_JUDGE -o 83_answer.cpp.out\n",
      "sed -i 84_answer.cpp -e 's/^\t\tconstexpr double COEF_CENTER_L1 = .*;  \\/\\/ OPTIMIZE \\[-100\\.0, 100\\.0\\]$/\t\tconstexpr double COEF_CENTER_L1 = 4360.378440343102;  \\/\\/ OPTIMIZE [-100.0, 100.0]/' -e 's/^\t\tconstexpr double COEF_CENTER_L1_SQ = .*;  \\/\\/ OPTIMIZE \\[0\\.0, 200\\.0\\]$/\t\tconstexpr double COEF_CENTER_L1_SQ = 17.197862606064227;  \\/\\/ OPTIMIZE [0.0, 200.0]/' -e 's/^\t\tconstexpr double COEF_POINT = .*;  \\/\\/ OPTIMIZE \\[0\\.0, 100\\.0\\]$/\t\tconstexpr double COEF_POINT = 93.22119965915626;  \\/\\/ OPTIMIZE [0.0, 100.0]/' -e 's/^\t\tconstexpr double COEF_DIST = .*;  \\/\\/ OPTIMIZE \\[0\\.0, 10000\\.0\\]$/\t\tconstexpr double COEF_DIST = 3.89771747515133;  \\/\\/ OPTIMIZE [0.0, 10000.0]/' -e 's/^\t\tconstexpr double COEF_TWIST = .*;  \\/\\/ OPTIMIZE \\[0\\.0, 1000000\\.0\\]$/\t\tconstexpr double COEF_TWIST = 739327.5624775419;  \\/\\/ OPTIMIZE [0.0, 1000000.0]/'\n",
      "g++ 84_answer.cpp -std=gnu++17 -O2 -DONLINE_JUDGE -o 84_answer.cpp.out\n"
     ]
    },
    {
     "name": "stderr",
     "output_type": "stream",
     "text": [
      "\u001b[32m[I 2021-04-25 15:55:09,917]\u001b[0m Trial 879 finished with value: 1410421.0 and parameters: {'COEF_CENTER_L1': 1.4357178711300094, 'COEF_CENTER_L1_SQ': 14.589499679951691, 'COEF_POINT': 95.21949575810905, 'COEF_DIST': 7.573441733261298, 'COEF_TWIST': 769119.7856418462}. Best is trial 431 with value: 1924103.0.\u001b[0m\n"
     ]
    },
    {
     "name": "stdout",
     "output_type": "stream",
     "text": [
      "callback ok\n",
      "index_parallel=85\n",
      "mkdir: cannot create directory ‘85_out’: File exists\n",
      "mkdir: cannot create directory ‘85_score’: File exists\n",
      "sed -i 85_answer.cpp -e 's/^\t\tconstexpr double COEF_CENTER_L1 = .*;  \\/\\/ OPTIMIZE \\[-100\\.0, 100\\.0\\]$/\t\tconstexpr double COEF_CENTER_L1 = 4650.079524212621;  \\/\\/ OPTIMIZE [-100.0, 100.0]/' -e 's/^\t\tconstexpr double COEF_CENTER_L1_SQ = .*;  \\/\\/ OPTIMIZE \\[0\\.0, 200\\.0\\]$/\t\tconstexpr double COEF_CENTER_L1_SQ = 23.59833483325451;  \\/\\/ OPTIMIZE [0.0, 200.0]/' -e 's/^\t\tconstexpr double COEF_POINT = .*;  \\/\\/ OPTIMIZE \\[0\\.0, 100\\.0\\]$/\t\tconstexpr double COEF_POINT = 92.59105650745943;  \\/\\/ OPTIMIZE [0.0, 100.0]/' -e 's/^\t\tconstexpr double COEF_DIST = .*;  \\/\\/ OPTIMIZE \\[0\\.0, 10000\\.0\\]$/\t\tconstexpr double COEF_DIST = 9.681298641498763;  \\/\\/ OPTIMIZE [0.0, 10000.0]/' -e 's/^\t\tconstexpr double COEF_TWIST = .*;  \\/\\/ OPTIMIZE \\[0\\.0, 1000000\\.0\\]$/\t\tconstexpr double COEF_TWIST = 746016.214118145;  \\/\\/ OPTIMIZE [0.0, 1000000.0]/'\n",
      "g++ 85_answer.cpp -std=gnu++17 -O2 -DONLINE_JUDGE -o 85_answer.cpp.out\n"
     ]
    },
    {
     "name": "stderr",
     "output_type": "stream",
     "text": [
      "\u001b[32m[I 2021-04-25 15:55:14,662]\u001b[0m Trial 880 finished with value: 1469396.0 and parameters: {'COEF_CENTER_L1': 5146.75874892599, 'COEF_CENTER_L1_SQ': 16.121327482077465, 'COEF_POINT': 95.39335483489464, 'COEF_DIST': 17.89291689194412, 'COEF_TWIST': 768263.9976431421}. Best is trial 431 with value: 1924103.0.\u001b[0m\n"
     ]
    },
    {
     "name": "stdout",
     "output_type": "stream",
     "text": [
      "callback ok\n",
      "index_parallel=86\n",
      "mkdir: cannot create directory ‘86_out’: File exists\n",
      "mkdir: cannot create directory ‘86_score’: File exists\n",
      "sed -i 86_answer.cpp -e 's/^\t\tconstexpr double COEF_CENTER_L1 = .*;  \\/\\/ OPTIMIZE \\[-100\\.0, 100\\.0\\]$/\t\tconstexpr double COEF_CENTER_L1 = -61.31543119333264;  \\/\\/ OPTIMIZE [-100.0, 100.0]/' -e 's/^\t\tconstexpr double COEF_CENTER_L1_SQ = .*;  \\/\\/ OPTIMIZE \\[0\\.0, 200\\.0\\]$/\t\tconstexpr double COEF_CENTER_L1_SQ = 24.93610859886856;  \\/\\/ OPTIMIZE [0.0, 200.0]/' -e 's/^\t\tconstexpr double COEF_POINT = .*;  \\/\\/ OPTIMIZE \\[0\\.0, 100\\.0\\]$/\t\tconstexpr double COEF_POINT = 92.7647144650993;  \\/\\/ OPTIMIZE [0.0, 100.0]/' -e 's/^\t\tconstexpr double COEF_DIST = .*;  \\/\\/ OPTIMIZE \\[0\\.0, 10000\\.0\\]$/\t\tconstexpr double COEF_DIST = 0.25090930509561904;  \\/\\/ OPTIMIZE [0.0, 10000.0]/' -e 's/^\t\tconstexpr double COEF_TWIST = .*;  \\/\\/ OPTIMIZE \\[0\\.0, 1000000\\.0\\]$/\t\tconstexpr double COEF_TWIST = 743202.7782008111;  \\/\\/ OPTIMIZE [0.0, 1000000.0]/'\n",
      "g++ 86_answer.cpp -std=gnu++17 -O2 -DONLINE_JUDGE -o 86_answer.cpp.out\n"
     ]
    },
    {
     "name": "stderr",
     "output_type": "stream",
     "text": [
      "\u001b[32m[I 2021-04-25 15:55:35,319]\u001b[0m Trial 881 finished with value: 1321192.0 and parameters: {'COEF_CENTER_L1': -79.27349563205985, 'COEF_CENTER_L1_SQ': 16.032848425779626, 'COEF_POINT': 92.76649772752317, 'COEF_DIST': 737.5656195587728, 'COEF_TWIST': 747584.6512983479}. Best is trial 431 with value: 1924103.0.\u001b[0m\n"
     ]
    },
    {
     "name": "stdout",
     "output_type": "stream",
     "text": [
      "callback ok\n",
      "index_parallel=87\n",
      "mkdir: cannot create directory ‘87_out’: File exists\n",
      "mkdir: cannot create directory ‘87_score’: File exists\n"
     ]
    },
    {
     "name": "stderr",
     "output_type": "stream",
     "text": [
      "\u001b[32m[I 2021-04-25 15:55:35,716]\u001b[0m Trial 884 finished with value: 1505583.0 and parameters: {'COEF_CENTER_L1': 4360.378440343102, 'COEF_CENTER_L1_SQ': 17.197862606064227, 'COEF_POINT': 93.22119965915626, 'COEF_DIST': 3.89771747515133, 'COEF_TWIST': 739327.5624775419}. Best is trial 431 with value: 1924103.0.\u001b[0m\n"
     ]
    },
    {
     "name": "stdout",
     "output_type": "stream",
     "text": [
      "callback ok\n",
      "index_parallel=88\n",
      "mkdir: cannot create directory ‘88_out’: File exists\n",
      "mkdir: cannot create directory ‘88_score’: File exists\n",
      "sed -i 87_answer.cpp -e 's/^\t\tconstexpr double COEF_CENTER_L1 = .*;  \\/\\/ OPTIMIZE \\[-100\\.0, 100\\.0\\]$/\t\tconstexpr double COEF_CENTER_L1 = -59.57813689294903;  \\/\\/ OPTIMIZE [-100.0, 100.0]/' -e 's/^\t\tconstexpr double COEF_CENTER_L1_SQ = .*;  \\/\\/ OPTIMIZE \\[0\\.0, 200\\.0\\]$/\t\tconstexpr double COEF_CENTER_L1_SQ = 185.65248596283578;  \\/\\/ OPTIMIZE [0.0, 200.0]/' -e 's/^\t\tconstexpr double COEF_POINT = .*;  \\/\\/ OPTIMIZE \\[0\\.0, 100\\.0\\]$/\t\tconstexpr double COEF_POINT = 92.76256602588612;  \\/\\/ OPTIMIZE [0.0, 100.0]/' -e 's/^\t\tconstexpr double COEF_DIST = .*;  \\/\\/ OPTIMIZE \\[0\\.0, 10000\\.0\\]$/\t\tconstexpr double COEF_DIST = 358.42514255519615;  \\/\\/ OPTIMIZE [0.0, 10000.0]/' -e 's/^\t\tconstexpr double COEF_TWIST = .*;  \\/\\/ OPTIMIZE \\[0\\.0, 1000000\\.0\\]$/\t\tconstexpr double COEF_TWIST = 722543.9711077567;  \\/\\/ OPTIMIZE [0.0, 1000000.0]/'\n",
      "g++ 87_answer.cpp -std=gnu++17 -O2 -DONLINE_JUDGE -o 87_answer.cpp.out\n",
      "sed -i 88_answer.cpp -e 's/^\t\tconstexpr double COEF_CENTER_L1 = .*;  \\/\\/ OPTIMIZE \\[-100\\.0, 100\\.0\\]$/\t\tconstexpr double COEF_CENTER_L1 = 2206.666317867831;  \\/\\/ OPTIMIZE [-100.0, 100.0]/' -e 's/^\t\tconstexpr double COEF_CENTER_L1_SQ = .*;  \\/\\/ OPTIMIZE \\[0\\.0, 200\\.0\\]$/\t\tconstexpr double COEF_CENTER_L1_SQ = 11.64564745831959;  \\/\\/ OPTIMIZE [0.0, 200.0]/' -e 's/^\t\tconstexpr double COEF_POINT = .*;  \\/\\/ OPTIMIZE \\[0\\.0, 100\\.0\\]$/\t\tconstexpr double COEF_POINT = 92.30208990213164;  \\/\\/ OPTIMIZE [0.0, 100.0]/' -e 's/^\t\tconstexpr double COEF_DIST = .*;  \\/\\/ OPTIMIZE \\[0\\.0, 10000\\.0\\]$/\t\tconstexpr double COEF_DIST = 341.0752343775093;  \\/\\/ OPTIMIZE [0.0, 10000.0]/' -e 's/^\t\tconstexpr double COEF_TWIST = .*;  \\/\\/ OPTIMIZE \\[0\\.0, 1000000\\.0\\]$/\t\tconstexpr double COEF_TWIST = 728513.7648834605;  \\/\\/ OPTIMIZE [0.0, 1000000.0]/'\n",
      "g++ 88_answer.cpp -std=gnu++17 -O2 -DONLINE_JUDGE -o 88_answer.cpp.out\n"
     ]
    },
    {
     "name": "stderr",
     "output_type": "stream",
     "text": [
      "\u001b[32m[I 2021-04-25 15:55:38,228]\u001b[0m Trial 885 finished with value: 1432897.0 and parameters: {'COEF_CENTER_L1': 4650.079524212621, 'COEF_CENTER_L1_SQ': 23.59833483325451, 'COEF_POINT': 92.59105650745943, 'COEF_DIST': 9.681298641498763, 'COEF_TWIST': 746016.214118145}. Best is trial 431 with value: 1924103.0.\u001b[0m\n"
     ]
    },
    {
     "name": "stdout",
     "output_type": "stream",
     "text": [
      "callback ok\n",
      "index_parallel=89\n",
      "mkdir: cannot create directory ‘89_out’: File exists\n",
      "mkdir: cannot create directory ‘89_score’: File exists\n"
     ]
    },
    {
     "name": "stderr",
     "output_type": "stream",
     "text": [
      "\u001b[32m[I 2021-04-25 15:55:38,521]\u001b[0m Trial 882 finished with value: 1742625.0 and parameters: {'COEF_CENTER_L1': 1657.2889738248555, 'COEF_CENTER_L1_SQ': 17.28269762770778, 'COEF_POINT': 92.79078626740313, 'COEF_DIST': 10.181572516544382, 'COEF_TWIST': 745876.5826836893}. Best is trial 431 with value: 1924103.0.\u001b[0m\n"
     ]
    },
    {
     "name": "stdout",
     "output_type": "stream",
     "text": [
      "callback ok\n",
      "index_parallel=90\n",
      "mkdir: cannot create directory ‘90_out’: File exists\n",
      "mkdir: cannot create directory ‘90_score’: File exists\n",
      "sed -i 89_answer.cpp -e 's/^\t\tconstexpr double COEF_CENTER_L1 = .*;  \\/\\/ OPTIMIZE \\[-100\\.0, 100\\.0\\]$/\t\tconstexpr double COEF_CENTER_L1 = 1692.0148015998261;  \\/\\/ OPTIMIZE [-100.0, 100.0]/' -e 's/^\t\tconstexpr double COEF_CENTER_L1_SQ = .*;  \\/\\/ OPTIMIZE \\[0\\.0, 200\\.0\\]$/\t\tconstexpr double COEF_CENTER_L1_SQ = 12.564598513018161;  \\/\\/ OPTIMIZE [0.0, 200.0]/' -e 's/^\t\tconstexpr double COEF_POINT = .*;  \\/\\/ OPTIMIZE \\[0\\.0, 100\\.0\\]$/\t\tconstexpr double COEF_POINT = 97.7071789260092;  \\/\\/ OPTIMIZE [0.0, 100.0]/' -e 's/^\t\tconstexpr double COEF_DIST = .*;  \\/\\/ OPTIMIZE \\[0\\.0, 10000\\.0\\]$/\t\tconstexpr double COEF_DIST = 1.1276979286078201;  \\/\\/ OPTIMIZE [0.0, 10000.0]/' -e 's/^\t\tconstexpr double COEF_TWIST = .*;  \\/\\/ OPTIMIZE \\[0\\.0, 1000000\\.0\\]$/\t\tconstexpr double COEF_TWIST = 718037.4345157413;  \\/\\/ OPTIMIZE [0.0, 1000000.0]/'\n",
      "g++ 89_answer.cpp -std=gnu++17 -O2 -DONLINE_JUDGE -o 89_answer.cpp.out\n",
      "sed -i 90_answer.cpp -e 's/^\t\tconstexpr double COEF_CENTER_L1 = .*;  \\/\\/ OPTIMIZE \\[-100\\.0, 100\\.0\\]$/\t\tconstexpr double COEF_CENTER_L1 = 1746.2958876132916;  \\/\\/ OPTIMIZE [-100.0, 100.0]/' -e 's/^\t\tconstexpr double COEF_CENTER_L1_SQ = .*;  \\/\\/ OPTIMIZE \\[0\\.0, 200\\.0\\]$/\t\tconstexpr double COEF_CENTER_L1_SQ = 11.711989787437279;  \\/\\/ OPTIMIZE [0.0, 200.0]/' -e 's/^\t\tconstexpr double COEF_POINT = .*;  \\/\\/ OPTIMIZE \\[0\\.0, 100\\.0\\]$/\t\tconstexpr double COEF_POINT = 97.63549199700566;  \\/\\/ OPTIMIZE [0.0, 100.0]/' -e 's/^\t\tconstexpr double COEF_DIST = .*;  \\/\\/ OPTIMIZE \\[0\\.0, 10000\\.0\\]$/\t\tconstexpr double COEF_DIST = 371.96194039218204;  \\/\\/ OPTIMIZE [0.0, 10000.0]/' -e 's/^\t\tconstexpr double COEF_TWIST = .*;  \\/\\/ OPTIMIZE \\[0\\.0, 1000000\\.0\\]$/\t\tconstexpr double COEF_TWIST = 722685.747862885;  \\/\\/ OPTIMIZE [0.0, 1000000.0]/'\n",
      "g++ 90_answer.cpp -std=gnu++17 -O2 -DONLINE_JUDGE -o 90_answer.cpp.out\n"
     ]
    },
    {
     "name": "stderr",
     "output_type": "stream",
     "text": [
      "\u001b[32m[I 2021-04-25 15:55:40,447]\u001b[0m Trial 883 finished with value: 1448504.0 and parameters: {'COEF_CENTER_L1': -12.09618944792237, 'COEF_CENTER_L1_SQ': 17.373486608650094, 'COEF_POINT': 92.60739127624794, 'COEF_DIST': 3.085691630942847, 'COEF_TWIST': 740823.8644395662}. Best is trial 431 with value: 1924103.0.\u001b[0m\n"
     ]
    },
    {
     "name": "stdout",
     "output_type": "stream",
     "text": [
      "callback ok\n",
      "index_parallel=91\n",
      "mkdir: cannot create directory ‘91_out’: File exists\n",
      "mkdir: cannot create directory ‘91_score’: File exists\n",
      "sed -i 91_answer.cpp -e 's/^\t\tconstexpr double COEF_CENTER_L1 = .*;  \\/\\/ OPTIMIZE \\[-100\\.0, 100\\.0\\]$/\t\tconstexpr double COEF_CENTER_L1 = 2028.0481235227485;  \\/\\/ OPTIMIZE [-100.0, 100.0]/' -e 's/^\t\tconstexpr double COEF_CENTER_L1_SQ = .*;  \\/\\/ OPTIMIZE \\[0\\.0, 200\\.0\\]$/\t\tconstexpr double COEF_CENTER_L1_SQ = 11.62082573866122;  \\/\\/ OPTIMIZE [0.0, 200.0]/' -e 's/^\t\tconstexpr double COEF_POINT = .*;  \\/\\/ OPTIMIZE \\[0\\.0, 100\\.0\\]$/\t\tconstexpr double COEF_POINT = 98.24060789589157;  \\/\\/ OPTIMIZE [0.0, 100.0]/' -e 's/^\t\tconstexpr double COEF_DIST = .*;  \\/\\/ OPTIMIZE \\[0\\.0, 10000\\.0\\]$/\t\tconstexpr double COEF_DIST = 362.24718809335553;  \\/\\/ OPTIMIZE [0.0, 10000.0]/' -e 's/^\t\tconstexpr double COEF_TWIST = .*;  \\/\\/ OPTIMIZE \\[0\\.0, 1000000\\.0\\]$/\t\tconstexpr double COEF_TWIST = 715804.2245572812;  \\/\\/ OPTIMIZE [0.0, 1000000.0]/'\n",
      "g++ 91_answer.cpp -std=gnu++17 -O2 -DONLINE_JUDGE -o 91_answer.cpp.out\n"
     ]
    },
    {
     "name": "stderr",
     "output_type": "stream",
     "text": [
      "\u001b[32m[I 2021-04-25 15:55:51,998]\u001b[0m Trial 886 finished with value: 1676197.0 and parameters: {'COEF_CENTER_L1': -61.31543119333264, 'COEF_CENTER_L1_SQ': 24.93610859886856, 'COEF_POINT': 92.7647144650993, 'COEF_DIST': 0.25090930509561904, 'COEF_TWIST': 743202.7782008111}. Best is trial 431 with value: 1924103.0.\u001b[0m\n"
     ]
    },
    {
     "name": "stdout",
     "output_type": "stream",
     "text": [
      "callback ok\n",
      "index_parallel=92\n",
      "mkdir: cannot create directory ‘92_out’: File exists\n",
      "mkdir: cannot create directory ‘92_score’: File exists\n",
      "sed -i 92_answer.cpp -e 's/^\t\tconstexpr double COEF_CENTER_L1 = .*;  \\/\\/ OPTIMIZE \\[-100\\.0, 100\\.0\\]$/\t\tconstexpr double COEF_CENTER_L1 = 1686.8836298346037;  \\/\\/ OPTIMIZE [-100.0, 100.0]/' -e 's/^\t\tconstexpr double COEF_CENTER_L1_SQ = .*;  \\/\\/ OPTIMIZE \\[0\\.0, 200\\.0\\]$/\t\tconstexpr double COEF_CENTER_L1_SQ = 11.796147344853509;  \\/\\/ OPTIMIZE [0.0, 200.0]/' -e 's/^\t\tconstexpr double COEF_POINT = .*;  \\/\\/ OPTIMIZE \\[0\\.0, 100\\.0\\]$/\t\tconstexpr double COEF_POINT = 98.038857811926;  \\/\\/ OPTIMIZE [0.0, 100.0]/' -e 's/^\t\tconstexpr double COEF_DIST = .*;  \\/\\/ OPTIMIZE \\[0\\.0, 10000\\.0\\]$/\t\tconstexpr double COEF_DIST = 360.85320115260646;  \\/\\/ OPTIMIZE [0.0, 10000.0]/' -e 's/^\t\tconstexpr double COEF_TWIST = .*;  \\/\\/ OPTIMIZE \\[0\\.0, 1000000\\.0\\]$/\t\tconstexpr double COEF_TWIST = 714860.4347205666;  \\/\\/ OPTIMIZE [0.0, 1000000.0]/'\n",
      "g++ 92_answer.cpp -std=gnu++17 -O2 -DONLINE_JUDGE -o 92_answer.cpp.out\n"
     ]
    },
    {
     "name": "stderr",
     "output_type": "stream",
     "text": [
      "\u001b[32m[I 2021-04-25 15:55:54,849]\u001b[0m Trial 887 finished with value: 861939.0 and parameters: {'COEF_CENTER_L1': -59.57813689294903, 'COEF_CENTER_L1_SQ': 185.65248596283578, 'COEF_POINT': 92.76256602588612, 'COEF_DIST': 358.42514255519615, 'COEF_TWIST': 722543.9711077567}. Best is trial 431 with value: 1924103.0.\u001b[0m\n"
     ]
    },
    {
     "name": "stdout",
     "output_type": "stream",
     "text": [
      "callback ok\n",
      "index_parallel=93\n",
      "mkdir: cannot create directory ‘93_out’: File exists\n",
      "mkdir: cannot create directory ‘93_score’: File exists\n",
      "sed -i 93_answer.cpp -e 's/^\t\tconstexpr double COEF_CENTER_L1 = .*;  \\/\\/ OPTIMIZE \\[-100\\.0, 100\\.0\\]$/\t\tconstexpr double COEF_CENTER_L1 = 1754.821741966424;  \\/\\/ OPTIMIZE [-100.0, 100.0]/' -e 's/^\t\tconstexpr double COEF_CENTER_L1_SQ = .*;  \\/\\/ OPTIMIZE \\[0\\.0, 200\\.0\\]$/\t\tconstexpr double COEF_CENTER_L1_SQ = 13.673028120651136;  \\/\\/ OPTIMIZE [0.0, 200.0]/' -e 's/^\t\tconstexpr double COEF_POINT = .*;  \\/\\/ OPTIMIZE \\[0\\.0, 100\\.0\\]$/\t\tconstexpr double COEF_POINT = 97.32115532793205;  \\/\\/ OPTIMIZE [0.0, 100.0]/' -e 's/^\t\tconstexpr double COEF_DIST = .*;  \\/\\/ OPTIMIZE \\[0\\.0, 10000\\.0\\]$/\t\tconstexpr double COEF_DIST = 360.1624532326394;  \\/\\/ OPTIMIZE [0.0, 10000.0]/' -e 's/^\t\tconstexpr double COEF_TWIST = .*;  \\/\\/ OPTIMIZE \\[0\\.0, 1000000\\.0\\]$/\t\tconstexpr double COEF_TWIST = 709479.2331899606;  \\/\\/ OPTIMIZE [0.0, 1000000.0]/'\n",
      "g++ 93_answer.cpp -std=gnu++17 -O2 -DONLINE_JUDGE -o 93_answer.cpp.out\n"
     ]
    },
    {
     "name": "stderr",
     "output_type": "stream",
     "text": [
      "\u001b[32m[I 2021-04-25 15:56:11,499]\u001b[0m Trial 888 finished with value: 1722360.0 and parameters: {'COEF_CENTER_L1': 2206.666317867831, 'COEF_CENTER_L1_SQ': 11.64564745831959, 'COEF_POINT': 92.30208990213164, 'COEF_DIST': 341.0752343775093, 'COEF_TWIST': 728513.7648834605}. Best is trial 431 with value: 1924103.0.\u001b[0m\n"
     ]
    },
    {
     "name": "stdout",
     "output_type": "stream",
     "text": [
      "callback ok\n",
      "index_parallel=94\n",
      "mkdir: cannot create directory ‘94_out’: File exists\n",
      "mkdir: cannot create directory ‘94_score’: File exists\n",
      "sed -i 94_answer.cpp -e 's/^\t\tconstexpr double COEF_CENTER_L1 = .*;  \\/\\/ OPTIMIZE \\[-100\\.0, 100\\.0\\]$/\t\tconstexpr double COEF_CENTER_L1 = 3804.4620207101134;  \\/\\/ OPTIMIZE [-100.0, 100.0]/' -e 's/^\t\tconstexpr double COEF_CENTER_L1_SQ = .*;  \\/\\/ OPTIMIZE \\[0\\.0, 200\\.0\\]$/\t\tconstexpr double COEF_CENTER_L1_SQ = 11.78968997256433;  \\/\\/ OPTIMIZE [0.0, 200.0]/' -e 's/^\t\tconstexpr double COEF_POINT = .*;  \\/\\/ OPTIMIZE \\[0\\.0, 100\\.0\\]$/\t\tconstexpr double COEF_POINT = 99.96932979630208;  \\/\\/ OPTIMIZE [0.0, 100.0]/' -e 's/^\t\tconstexpr double COEF_DIST = .*;  \\/\\/ OPTIMIZE \\[0\\.0, 10000\\.0\\]$/\t\tconstexpr double COEF_DIST = 327.59785741668014;  \\/\\/ OPTIMIZE [0.0, 10000.0]/' -e 's/^\t\tconstexpr double COEF_TWIST = .*;  \\/\\/ OPTIMIZE \\[0\\.0, 1000000\\.0\\]$/\t\tconstexpr double COEF_TWIST = 713689.5779428246;  \\/\\/ OPTIMIZE [0.0, 1000000.0]/'\n",
      "g++ 94_answer.cpp -std=gnu++17 -O2 -DONLINE_JUDGE -o 94_answer.cpp.out\n"
     ]
    },
    {
     "name": "stderr",
     "output_type": "stream",
     "text": [
      "\u001b[32m[I 2021-04-25 15:56:14,584]\u001b[0m Trial 889 finished with value: 1720408.0 and parameters: {'COEF_CENTER_L1': 1692.0148015998261, 'COEF_CENTER_L1_SQ': 12.564598513018161, 'COEF_POINT': 97.7071789260092, 'COEF_DIST': 1.1276979286078201, 'COEF_TWIST': 718037.4345157413}. Best is trial 431 with value: 1924103.0.\u001b[0m\n"
     ]
    },
    {
     "name": "stdout",
     "output_type": "stream",
     "text": [
      "callback ok\n",
      "index_parallel=95\n",
      "mkdir: cannot create directory ‘95_out’: File exists\n",
      "mkdir: cannot create directory ‘95_score’: File exists\n",
      "sed -i 95_answer.cpp -e 's/^\t\tconstexpr double COEF_CENTER_L1 = .*;  \\/\\/ OPTIMIZE \\[-100\\.0, 100\\.0\\]$/\t\tconstexpr double COEF_CENTER_L1 = 3954.1548326286365;  \\/\\/ OPTIMIZE [-100.0, 100.0]/' -e 's/^\t\tconstexpr double COEF_CENTER_L1_SQ = .*;  \\/\\/ OPTIMIZE \\[0\\.0, 200\\.0\\]$/\t\tconstexpr double COEF_CENTER_L1_SQ = 11.436038570751801;  \\/\\/ OPTIMIZE [0.0, 200.0]/' -e 's/^\t\tconstexpr double COEF_POINT = .*;  \\/\\/ OPTIMIZE \\[0\\.0, 100\\.0\\]$/\t\tconstexpr double COEF_POINT = 90.03017095152882;  \\/\\/ OPTIMIZE [0.0, 100.0]/' -e 's/^\t\tconstexpr double COEF_DIST = .*;  \\/\\/ OPTIMIZE \\[0\\.0, 10000\\.0\\]$/\t\tconstexpr double COEF_DIST = 351.71485874185106;  \\/\\/ OPTIMIZE [0.0, 10000.0]/' -e 's/^\t\tconstexpr double COEF_TWIST = .*;  \\/\\/ OPTIMIZE \\[0\\.0, 1000000\\.0\\]$/\t\tconstexpr double COEF_TWIST = 712350.6014326484;  \\/\\/ OPTIMIZE [0.0, 1000000.0]/'\n",
      "g++ 95_answer.cpp -std=gnu++17 -O2 -DONLINE_JUDGE -o 95_answer.cpp.out\n"
     ]
    },
    {
     "name": "stderr",
     "output_type": "stream",
     "text": [
      "\u001b[32m[I 2021-04-25 15:56:16,150]\u001b[0m Trial 890 finished with value: 1812380.0 and parameters: {'COEF_CENTER_L1': 1746.2958876132916, 'COEF_CENTER_L1_SQ': 11.711989787437279, 'COEF_POINT': 97.63549199700566, 'COEF_DIST': 371.96194039218204, 'COEF_TWIST': 722685.747862885}. Best is trial 431 with value: 1924103.0.\u001b[0m\n"
     ]
    },
    {
     "name": "stdout",
     "output_type": "stream",
     "text": [
      "callback ok\n",
      "index_parallel=96\n",
      "mkdir: cannot create directory ‘96_out’: File exists\n",
      "mkdir: cannot create directory ‘96_score’: File exists\n"
     ]
    },
    {
     "name": "stderr",
     "output_type": "stream",
     "text": [
      "\u001b[32m[I 2021-04-25 15:56:16,474]\u001b[0m Trial 891 finished with value: 1729086.0 and parameters: {'COEF_CENTER_L1': 2028.0481235227485, 'COEF_CENTER_L1_SQ': 11.62082573866122, 'COEF_POINT': 98.24060789589157, 'COEF_DIST': 362.24718809335553, 'COEF_TWIST': 715804.2245572812}. Best is trial 431 with value: 1924103.0.\u001b[0m\n"
     ]
    },
    {
     "name": "stdout",
     "output_type": "stream",
     "text": [
      "callback ok\n",
      "index_parallel=97\n",
      "mkdir: cannot create directory ‘97_out’: File exists\n",
      "mkdir: cannot create directory ‘97_score’: File exists\n",
      "sed -i 96_answer.cpp -e 's/^\t\tconstexpr double COEF_CENTER_L1 = .*;  \\/\\/ OPTIMIZE \\[-100\\.0, 100\\.0\\]$/\t\tconstexpr double COEF_CENTER_L1 = 3858.0515659668786;  \\/\\/ OPTIMIZE [-100.0, 100.0]/' -e 's/^\t\tconstexpr double COEF_CENTER_L1_SQ = .*;  \\/\\/ OPTIMIZE \\[0\\.0, 200\\.0\\]$/\t\tconstexpr double COEF_CENTER_L1_SQ = 7.732013364647763;  \\/\\/ OPTIMIZE [0.0, 200.0]/' -e 's/^\t\tconstexpr double COEF_POINT = .*;  \\/\\/ OPTIMIZE \\[0\\.0, 100\\.0\\]$/\t\tconstexpr double COEF_POINT = 89.38279338732791;  \\/\\/ OPTIMIZE [0.0, 100.0]/' -e 's/^\t\tconstexpr double COEF_DIST = .*;  \\/\\/ OPTIMIZE \\[0\\.0, 10000\\.0\\]$/\t\tconstexpr double COEF_DIST = 321.21191433664427;  \\/\\/ OPTIMIZE [0.0, 10000.0]/' -e 's/^\t\tconstexpr double COEF_TWIST = .*;  \\/\\/ OPTIMIZE \\[0\\.0, 1000000\\.0\\]$/\t\tconstexpr double COEF_TWIST = 760505.0635003906;  \\/\\/ OPTIMIZE [0.0, 1000000.0]/'\n",
      "g++ 96_answer.cpp -std=gnu++17 -O2 -DONLINE_JUDGE -o 96_answer.cpp.out\n",
      "sed -i 97_answer.cpp -e 's/^\t\tconstexpr double COEF_CENTER_L1 = .*;  \\/\\/ OPTIMIZE \\[-100\\.0, 100\\.0\\]$/\t\tconstexpr double COEF_CENTER_L1 = 4162.503914147438;  \\/\\/ OPTIMIZE [-100.0, 100.0]/' -e 's/^\t\tconstexpr double COEF_CENTER_L1_SQ = .*;  \\/\\/ OPTIMIZE \\[0\\.0, 200\\.0\\]$/\t\tconstexpr double COEF_CENTER_L1_SQ = 93.70674542045641;  \\/\\/ OPTIMIZE [0.0, 200.0]/' -e 's/^\t\tconstexpr double COEF_POINT = .*;  \\/\\/ OPTIMIZE \\[0\\.0, 100\\.0\\]$/\t\tconstexpr double COEF_POINT = 89.38251776343098;  \\/\\/ OPTIMIZE [0.0, 100.0]/' -e 's/^\t\tconstexpr double COEF_DIST = .*;  \\/\\/ OPTIMIZE \\[0\\.0, 10000\\.0\\]$/\t\tconstexpr double COEF_DIST = 1.7018544733596523;  \\/\\/ OPTIMIZE [0.0, 10000.0]/' -e 's/^\t\tconstexpr double COEF_TWIST = .*;  \\/\\/ OPTIMIZE \\[0\\.0, 1000000\\.0\\]$/\t\tconstexpr double COEF_TWIST = 761088.9479784247;  \\/\\/ OPTIMIZE [0.0, 1000000.0]/'\n",
      "g++ 97_answer.cpp -std=gnu++17 -O2 -DONLINE_JUDGE -o 97_answer.cpp.out\n"
     ]
    },
    {
     "name": "stderr",
     "output_type": "stream",
     "text": [
      "\u001b[32m[I 2021-04-25 15:56:29,055]\u001b[0m Trial 892 finished with value: 1800543.0 and parameters: {'COEF_CENTER_L1': 1686.8836298346037, 'COEF_CENTER_L1_SQ': 11.796147344853509, 'COEF_POINT': 98.038857811926, 'COEF_DIST': 360.85320115260646, 'COEF_TWIST': 714860.4347205666}. Best is trial 431 with value: 1924103.0.\u001b[0m\n"
     ]
    },
    {
     "name": "stdout",
     "output_type": "stream",
     "text": [
      "callback ok\n"
     ]
    },
    {
     "name": "stderr",
     "output_type": "stream",
     "text": [
      "\u001b[32m[I 2021-04-25 15:56:30,873]\u001b[0m Trial 893 finished with value: 1781619.0 and parameters: {'COEF_CENTER_L1': 1754.821741966424, 'COEF_CENTER_L1_SQ': 13.673028120651136, 'COEF_POINT': 97.32115532793205, 'COEF_DIST': 360.1624532326394, 'COEF_TWIST': 709479.2331899606}. Best is trial 431 with value: 1924103.0.\u001b[0m\n"
     ]
    },
    {
     "name": "stdout",
     "output_type": "stream",
     "text": [
      "callback ok\n"
     ]
    },
    {
     "name": "stderr",
     "output_type": "stream",
     "text": [
      "\u001b[32m[I 2021-04-25 15:56:37,729]\u001b[0m Trial 897 finished with value: 1094487.0 and parameters: {'COEF_CENTER_L1': 4162.503914147438, 'COEF_CENTER_L1_SQ': 93.70674542045641, 'COEF_POINT': 89.38251776343098, 'COEF_DIST': 1.7018544733596523, 'COEF_TWIST': 761088.9479784247}. Best is trial 431 with value: 1924103.0.\u001b[0m\n"
     ]
    },
    {
     "name": "stdout",
     "output_type": "stream",
     "text": [
      "callback ok\n"
     ]
    },
    {
     "name": "stderr",
     "output_type": "stream",
     "text": [
      "\u001b[32m[I 2021-04-25 15:56:40,976]\u001b[0m Trial 894 finished with value: 1750891.0 and parameters: {'COEF_CENTER_L1': 3804.4620207101134, 'COEF_CENTER_L1_SQ': 11.78968997256433, 'COEF_POINT': 99.96932979630208, 'COEF_DIST': 327.59785741668014, 'COEF_TWIST': 713689.5779428246}. Best is trial 431 with value: 1924103.0.\u001b[0m\n"
     ]
    },
    {
     "name": "stdout",
     "output_type": "stream",
     "text": [
      "callback ok\n"
     ]
    },
    {
     "name": "stderr",
     "output_type": "stream",
     "text": [
      "\u001b[32m[I 2021-04-25 15:56:42,987]\u001b[0m Trial 895 finished with value: 1732966.0 and parameters: {'COEF_CENTER_L1': 3954.1548326286365, 'COEF_CENTER_L1_SQ': 11.436038570751801, 'COEF_POINT': 90.03017095152882, 'COEF_DIST': 351.71485874185106, 'COEF_TWIST': 712350.6014326484}. Best is trial 431 with value: 1924103.0.\u001b[0m\n"
     ]
    },
    {
     "name": "stdout",
     "output_type": "stream",
     "text": [
      "callback ok\n"
     ]
    },
    {
     "name": "stderr",
     "output_type": "stream",
     "text": [
      "\u001b[32m[I 2021-04-25 15:56:45,304]\u001b[0m Trial 896 finished with value: 1786482.0 and parameters: {'COEF_CENTER_L1': 3858.0515659668786, 'COEF_CENTER_L1_SQ': 7.732013364647763, 'COEF_POINT': 89.38279338732791, 'COEF_DIST': 321.21191433664427, 'COEF_TWIST': 760505.0635003906}. Best is trial 431 with value: 1924103.0.\u001b[0m\n"
     ]
    },
    {
     "name": "stdout",
     "output_type": "stream",
     "text": [
      "callback ok\n"
     ]
    },
    {
     "ename": "KeyboardInterrupt",
     "evalue": "",
     "output_type": "error",
     "traceback": [
      "\u001b[0;31m---------------------------------------------------------------------------\u001b[0m",
      "\u001b[0;31mKeyboardInterrupt\u001b[0m                         Traceback (most recent call last)",
      "\u001b[0;32m<ipython-input-14-4b2ebb3e5863>\u001b[0m in \u001b[0;36m<module>\u001b[0;34m\u001b[0m\n\u001b[1;32m     16\u001b[0m \u001b[0;34m\u001b[0m\u001b[0m\n\u001b[1;32m     17\u001b[0m \u001b[0mobjective\u001b[0m \u001b[0;34m=\u001b[0m \u001b[0mpartial\u001b[0m\u001b[0;34m(\u001b[0m\u001b[0mobjective_with_index\u001b[0m\u001b[0;34m,\u001b[0m \u001b[0mn_internal_parallel\u001b[0m\u001b[0;34m=\u001b[0m\u001b[0;36m4\u001b[0m\u001b[0;34m)\u001b[0m\u001b[0;34m\u001b[0m\u001b[0;34m\u001b[0m\u001b[0m\n\u001b[0;32m---> 18\u001b[0;31m \u001b[0mstudy\u001b[0m\u001b[0;34m.\u001b[0m\u001b[0moptimize\u001b[0m\u001b[0;34m(\u001b[0m\u001b[0mobjective\u001b[0m\u001b[0;34m,\u001b[0m \u001b[0mn_trials\u001b[0m\u001b[0;34m=\u001b[0m\u001b[0;36m3000\u001b[0m\u001b[0;34m,\u001b[0m \u001b[0mtimeout\u001b[0m\u001b[0;34m=\u001b[0m\u001b[0;36m3600\u001b[0m\u001b[0;34m,\u001b[0m \u001b[0mn_jobs\u001b[0m\u001b[0;34m=\u001b[0m\u001b[0;36m6\u001b[0m\u001b[0;34m,\u001b[0m \u001b[0mcallbacks\u001b[0m\u001b[0;34m=\u001b[0m\u001b[0;34m[\u001b[0m\u001b[0mcallback\u001b[0m\u001b[0;34m]\u001b[0m\u001b[0;34m)\u001b[0m\u001b[0;34m\u001b[0m\u001b[0;34m\u001b[0m\u001b[0m\n\u001b[0m",
      "\u001b[0;32m~/anaconda3/lib/python3.8/site-packages/optuna/study.py\u001b[0m in \u001b[0;36moptimize\u001b[0;34m(self, func, n_trials, timeout, n_jobs, catch, callbacks, gc_after_trial, show_progress_bar)\u001b[0m\n\u001b[1;32m    398\u001b[0m             )\n\u001b[1;32m    399\u001b[0m \u001b[0;34m\u001b[0m\u001b[0m\n\u001b[0;32m--> 400\u001b[0;31m         _optimize(\n\u001b[0m\u001b[1;32m    401\u001b[0m             \u001b[0mstudy\u001b[0m\u001b[0;34m=\u001b[0m\u001b[0mself\u001b[0m\u001b[0;34m,\u001b[0m\u001b[0;34m\u001b[0m\u001b[0;34m\u001b[0m\u001b[0m\n\u001b[1;32m    402\u001b[0m             \u001b[0mfunc\u001b[0m\u001b[0;34m=\u001b[0m\u001b[0mfunc\u001b[0m\u001b[0;34m,\u001b[0m\u001b[0;34m\u001b[0m\u001b[0;34m\u001b[0m\u001b[0m\n",
      "\u001b[0;32m~/anaconda3/lib/python3.8/site-packages/optuna/_optimize.py\u001b[0m in \u001b[0;36m_optimize\u001b[0;34m(study, func, n_trials, timeout, n_jobs, catch, callbacks, gc_after_trial, show_progress_bar)\u001b[0m\n\u001b[1;32m    101\u001b[0m \u001b[0;34m\u001b[0m\u001b[0m\n\u001b[1;32m    102\u001b[0m                     \u001b[0;32mif\u001b[0m \u001b[0mlen\u001b[0m\u001b[0;34m(\u001b[0m\u001b[0mfutures\u001b[0m\u001b[0;34m)\u001b[0m \u001b[0;34m>=\u001b[0m \u001b[0mn_jobs\u001b[0m\u001b[0;34m:\u001b[0m\u001b[0;34m\u001b[0m\u001b[0;34m\u001b[0m\u001b[0m\n\u001b[0;32m--> 103\u001b[0;31m                         \u001b[0mcompleted\u001b[0m\u001b[0;34m,\u001b[0m \u001b[0mfutures\u001b[0m \u001b[0;34m=\u001b[0m \u001b[0mwait\u001b[0m\u001b[0;34m(\u001b[0m\u001b[0mfutures\u001b[0m\u001b[0;34m,\u001b[0m \u001b[0mreturn_when\u001b[0m\u001b[0;34m=\u001b[0m\u001b[0mFIRST_COMPLETED\u001b[0m\u001b[0;34m)\u001b[0m\u001b[0;34m\u001b[0m\u001b[0;34m\u001b[0m\u001b[0m\n\u001b[0m\u001b[1;32m    104\u001b[0m                         \u001b[0;31m# Raise if exception occurred in executing the completed futures.\u001b[0m\u001b[0;34m\u001b[0m\u001b[0;34m\u001b[0m\u001b[0;34m\u001b[0m\u001b[0m\n\u001b[1;32m    105\u001b[0m                         \u001b[0;32mfor\u001b[0m \u001b[0mf\u001b[0m \u001b[0;32min\u001b[0m \u001b[0mcompleted\u001b[0m\u001b[0;34m:\u001b[0m\u001b[0;34m\u001b[0m\u001b[0;34m\u001b[0m\u001b[0m\n",
      "\u001b[0;32m~/anaconda3/lib/python3.8/concurrent/futures/_base.py\u001b[0m in \u001b[0;36mwait\u001b[0;34m(fs, timeout, return_when)\u001b[0m\n\u001b[1;32m    303\u001b[0m         \u001b[0mwaiter\u001b[0m \u001b[0;34m=\u001b[0m \u001b[0m_create_and_install_waiters\u001b[0m\u001b[0;34m(\u001b[0m\u001b[0mfs\u001b[0m\u001b[0;34m,\u001b[0m \u001b[0mreturn_when\u001b[0m\u001b[0;34m)\u001b[0m\u001b[0;34m\u001b[0m\u001b[0;34m\u001b[0m\u001b[0m\n\u001b[1;32m    304\u001b[0m \u001b[0;34m\u001b[0m\u001b[0m\n\u001b[0;32m--> 305\u001b[0;31m     \u001b[0mwaiter\u001b[0m\u001b[0;34m.\u001b[0m\u001b[0mevent\u001b[0m\u001b[0;34m.\u001b[0m\u001b[0mwait\u001b[0m\u001b[0;34m(\u001b[0m\u001b[0mtimeout\u001b[0m\u001b[0;34m)\u001b[0m\u001b[0;34m\u001b[0m\u001b[0;34m\u001b[0m\u001b[0m\n\u001b[0m\u001b[1;32m    306\u001b[0m     \u001b[0;32mfor\u001b[0m \u001b[0mf\u001b[0m \u001b[0;32min\u001b[0m \u001b[0mfs\u001b[0m\u001b[0;34m:\u001b[0m\u001b[0;34m\u001b[0m\u001b[0;34m\u001b[0m\u001b[0m\n\u001b[1;32m    307\u001b[0m         \u001b[0;32mwith\u001b[0m \u001b[0mf\u001b[0m\u001b[0;34m.\u001b[0m\u001b[0m_condition\u001b[0m\u001b[0;34m:\u001b[0m\u001b[0;34m\u001b[0m\u001b[0;34m\u001b[0m\u001b[0m\n",
      "\u001b[0;32m~/anaconda3/lib/python3.8/threading.py\u001b[0m in \u001b[0;36mwait\u001b[0;34m(self, timeout)\u001b[0m\n\u001b[1;32m    556\u001b[0m             \u001b[0msignaled\u001b[0m \u001b[0;34m=\u001b[0m \u001b[0mself\u001b[0m\u001b[0;34m.\u001b[0m\u001b[0m_flag\u001b[0m\u001b[0;34m\u001b[0m\u001b[0;34m\u001b[0m\u001b[0m\n\u001b[1;32m    557\u001b[0m             \u001b[0;32mif\u001b[0m \u001b[0;32mnot\u001b[0m \u001b[0msignaled\u001b[0m\u001b[0;34m:\u001b[0m\u001b[0;34m\u001b[0m\u001b[0;34m\u001b[0m\u001b[0m\n\u001b[0;32m--> 558\u001b[0;31m                 \u001b[0msignaled\u001b[0m \u001b[0;34m=\u001b[0m \u001b[0mself\u001b[0m\u001b[0;34m.\u001b[0m\u001b[0m_cond\u001b[0m\u001b[0;34m.\u001b[0m\u001b[0mwait\u001b[0m\u001b[0;34m(\u001b[0m\u001b[0mtimeout\u001b[0m\u001b[0;34m)\u001b[0m\u001b[0;34m\u001b[0m\u001b[0;34m\u001b[0m\u001b[0m\n\u001b[0m\u001b[1;32m    559\u001b[0m             \u001b[0;32mreturn\u001b[0m \u001b[0msignaled\u001b[0m\u001b[0;34m\u001b[0m\u001b[0;34m\u001b[0m\u001b[0m\n\u001b[1;32m    560\u001b[0m \u001b[0;34m\u001b[0m\u001b[0m\n",
      "\u001b[0;32m~/anaconda3/lib/python3.8/threading.py\u001b[0m in \u001b[0;36mwait\u001b[0;34m(self, timeout)\u001b[0m\n\u001b[1;32m    300\u001b[0m         \u001b[0;32mtry\u001b[0m\u001b[0;34m:\u001b[0m    \u001b[0;31m# restore state no matter what (e.g., KeyboardInterrupt)\u001b[0m\u001b[0;34m\u001b[0m\u001b[0;34m\u001b[0m\u001b[0m\n\u001b[1;32m    301\u001b[0m             \u001b[0;32mif\u001b[0m \u001b[0mtimeout\u001b[0m \u001b[0;32mis\u001b[0m \u001b[0;32mNone\u001b[0m\u001b[0;34m:\u001b[0m\u001b[0;34m\u001b[0m\u001b[0;34m\u001b[0m\u001b[0m\n\u001b[0;32m--> 302\u001b[0;31m                 \u001b[0mwaiter\u001b[0m\u001b[0;34m.\u001b[0m\u001b[0macquire\u001b[0m\u001b[0;34m(\u001b[0m\u001b[0;34m)\u001b[0m\u001b[0;34m\u001b[0m\u001b[0;34m\u001b[0m\u001b[0m\n\u001b[0m\u001b[1;32m    303\u001b[0m                 \u001b[0mgotit\u001b[0m \u001b[0;34m=\u001b[0m \u001b[0;32mTrue\u001b[0m\u001b[0;34m\u001b[0m\u001b[0;34m\u001b[0m\u001b[0m\n\u001b[1;32m    304\u001b[0m             \u001b[0;32melse\u001b[0m\u001b[0;34m:\u001b[0m\u001b[0;34m\u001b[0m\u001b[0;34m\u001b[0m\u001b[0m\n",
      "\u001b[0;31mKeyboardInterrupt\u001b[0m: "
     ]
    }
   ],
   "source": [
    "storage_path = f\"study.db\"\n",
    "storage = f\"sqlite:///{storage_path}\"\n",
    "study_name = \"study\"\n",
    "study = optuna.create_study(storage=storage, load_if_exists=True, study_name=study_name, direction=\"maximize\")\n",
    "\n",
    "def callback(study, trial):\n",
    "    try:\n",
    "        if study.best_value == trial.value:  ############# 要変更\n",
    "            print(f\"Updated! {study.best_value} -> {trial.value}\")\n",
    "            index_parallel = trial.number % 100\n",
    "            parameters_changed_filename = f\"{index_parallel}_{FILENAME}\"\n",
    "            !cp {parameters_changed_filename} 00000optimized.cpp\n",
    "        print(\"callback ok\")\n",
    "    except:\n",
    "        print(\":(\")\n",
    "\n",
    "objective = partial(objective_with_index, n_internal_parallel=4)\n",
    "study.optimize(objective, n_trials=3000, timeout=3600, n_jobs=6, callbacks=[callback])"
   ]
  },
  {
   "cell_type": "code",
   "execution_count": null,
   "metadata": {},
   "outputs": [],
   "source": [
    "# $ apt install sysstat\n",
    "# $ mpstat -P ALL 5\n",
    "# とかやると CPU 負荷を見られる"
   ]
  },
  {
   "cell_type": "code",
   "execution_count": 19,
   "metadata": {},
   "outputs": [
    {
     "name": "stdout",
     "output_type": "stream",
     "text": [
      "48621734068.0\n",
      "{'ANNEALING_A': -9.663753766636084,\n",
      " 'ANNEALING_B': 0.23708439451937813,\n",
      " 'ANNEALING_END': 0.004139552269746777,\n",
      " 'ANNEALING_START': 0.4830473145504588,\n",
      " 'GRADIENT_CLIPPING': 0.00019811172822438805,\n",
      " 'GRADIENT_DESCENT_LR': 10380014.948175553,\n",
      " 'GRADIENT_DESCENT_MOMENTUM': 0.3276696959783839,\n",
      " 'GRADIENT_DESCENT_STEPS': 30,\n",
      " 'GRADIENT_DESCENT_STEPS_STEPPING_PROGRESS_RATE': 0.9031609842262478,\n",
      " 'LINE_LENGTH_LOSS_STEPPING_PROGRESS_RATE': 0.021698592868210798,\n",
      " 'LINE_LENGTH_LOSS_WEIGHT': 9.614201554394316e-07,\n",
      " 'N_RANDOM_FACE_CHOICE': 8,\n",
      " 'hoge': '\"ooo\"'}\n"
     ]
    }
   ],
   "source": [
    "print(f\"{study.best_value}\")\n",
    "pprint(study.best_params)"
   ]
  },
  {
   "cell_type": "code",
   "execution_count": null,
   "metadata": {},
   "outputs": [],
   "source": []
  }
 ],
 "metadata": {
  "kernelspec": {
   "display_name": "Python 3",
   "language": "python",
   "name": "python3"
  },
  "language_info": {
   "codemirror_mode": {
    "name": "ipython",
    "version": 3
   },
   "file_extension": ".py",
   "mimetype": "text/x-python",
   "name": "python",
   "nbconvert_exporter": "python",
   "pygments_lexer": "ipython3",
   "version": "3.8.5"
  }
 },
 "nbformat": 4,
 "nbformat_minor": 4
}
