{
 "cells": [
  {
   "cell_type": "markdown",
   "metadata": {},
   "source": [
    "こういう感じのコメントを付ける\n",
    "\n",
    "```\n",
    "constexpr double LINE_LENGTH_LOSS_STEPPING_PROGRESS_RATE = 0.7001976706415303;  // OPTIMIZE [0.0, 1.0]\n",
    "constexpr double  LINE_LENGTH_LOSS_WEIGHT = 8.009299591633644e-06;  // OPTIMIZE [1e-8, 1e-4] LOG\n",
    "constexpr int N_RANDOM_FACE_CHOICE = 3;  // OPTIMIZE [1, 10]\n",
    "std::string hoge=\"hoge\";//OPTIMIZE{\"11\", \"unnn\" ,\"ooo\"}\n",
    "```\n",
    "\n",
    "`[` と `,` の間の文字列が Python の式として評価され、その結果の型が最適化に使われる\n",
    "\n",
    "/* でのコメントアウトは効かないので注意"
   ]
  },
  {
   "cell_type": "code",
   "execution_count": 1,
   "metadata": {},
   "outputs": [],
   "source": [
    "import re\n",
    "import sys\n",
    "from time import sleep\n",
    "from pprint import pprint\n",
    "from functools import partial\n",
    "\n",
    "import optuna\n",
    "try:\n",
    "    import pandas as pd\n",
    "except:\n",
    "    pass\n",
    "\n",
    "\n",
    "FILENAME = \"answer.cpp\""
   ]
  },
  {
   "cell_type": "code",
   "execution_count": 2,
   "metadata": {},
   "outputs": [],
   "source": [
    "!mkdir optimize_tmp"
   ]
  },
  {
   "cell_type": "code",
   "execution_count": 3,
   "metadata": {},
   "outputs": [
    {
     "name": "stdout",
     "output_type": "stream",
     "text": [
      "\u001b[01m\u001b[Kanswer.cpp:\u001b[m\u001b[K In constructor ‘\u001b[01m\u001b[KState::State(const Input&)\u001b[m\u001b[K’:\r\n",
      "\u001b[01m\u001b[Kanswer.cpp:393:30:\u001b[m\u001b[K \u001b[01;35m\u001b[Kwarning: \u001b[m\u001b[K‘\u001b[01m\u001b[KState::dfs_path\u001b[m\u001b[K’ will be initialized after [\u001b[01;35m\u001b[K-Wreorder\u001b[m\u001b[K]\r\n",
      "  393 |  Stack<Direction, MAX_DEPTH> \u001b[01;35m\u001b[Kdfs_path\u001b[m\u001b[K;\r\n",
      "      |                              \u001b[01;35m\u001b[K^~~~~~~~\u001b[m\u001b[K\r\n",
      "\u001b[01m\u001b[Kanswer.cpp:391:22:\u001b[m\u001b[K \u001b[01;35m\u001b[Kwarning: \u001b[m\u001b[K  ‘\u001b[01m\u001b[KStack<int, 2500> State::closed\u001b[m\u001b[K’ [\u001b[01;35m\u001b[K-Wreorder\u001b[m\u001b[K]\r\n",
      "  391 |  Stack<int, 50 * 50> \u001b[01;35m\u001b[Kclosed\u001b[m\u001b[K;\r\n",
      "      |                      \u001b[01;35m\u001b[K^~~~~~\u001b[m\u001b[K\r\n",
      "\u001b[01m\u001b[Kanswer.cpp:401:2:\u001b[m\u001b[K \u001b[01;35m\u001b[Kwarning: \u001b[m\u001b[K  when initialized here [\u001b[01;35m\u001b[K-Wreorder\u001b[m\u001b[K]\r\n",
      "  401 |  \u001b[01;35m\u001b[KState\u001b[m\u001b[K(const Input& a_input) : input(a_input), path(), dfs_path(), closed(),\r\n",
      "      |  \u001b[01;35m\u001b[K^~~~~\u001b[m\u001b[K\r\n"
     ]
    }
   ],
   "source": [
    "# 元のファイルのコンパイル\n",
    "!g++ {FILENAME} -std=gnu++17 -Wall -Wextra -O2 -DONLINE_JUDGE -o {FILENAME}.out"
   ]
  },
  {
   "cell_type": "code",
   "execution_count": 6,
   "metadata": {
    "scrolled": true
   },
   "outputs": [
    {
     "name": "stdout",
     "output_type": "stream",
     "text": [
      "\u001b[0m\u001b[0m\u001b[1m\u001b[32m   Compiling\u001b[0m libc v0.2.93\n",
      "\u001b[0m\u001b[0m\u001b[1m\u001b[32m   Compiling\u001b[0m getrandom v0.1.16\n",
      "\u001b[0m\u001b[0m\u001b[1m\u001b[32m   Compiling\u001b[0m proc-macro2 v0.4.30\n",
      "\u001b[0m\u001b[0m\u001b[1m\u001b[32m   Compiling\u001b[0m cfg-if v1.0.0\n",
      "\u001b[0m\u001b[0m\u001b[1m\u001b[32m   Compiling\u001b[0m unicode-xid v0.1.0\n",
      "\u001b[0m\u001b[0m\u001b[1m\u001b[32m   Compiling\u001b[0m syn v0.15.44\n",
      "\u001b[0m\u001b[0m\u001b[1m\u001b[32m   Compiling\u001b[0m ppv-lite86 v0.2.10\n",
      "\u001b[0m\u001b[0m\u001b[1m\u001b[32m   Compiling\u001b[0m either v1.6.1\n",
      "\u001b[0m\u001b[0m\u001b[1m\u001b[32m   Compiling\u001b[0m lazy_static v1.4.0\n",
      "\u001b[0m\u001b[0m\u001b[1m\u001b[32m   Compiling\u001b[0m svg v0.9.1\n",
      "\u001b[K\u001b[0m\u001b[0m\u001b[1m\u001b[32m   Compiling\u001b[0m itertools v0.9.0          ] 3/28: getrandom(build.rs), ppv-...\n",
      "\u001b[K\u001b[0m\u001b[0m\u001b[1m\u001b[32m   Compiling\u001b[0m quote v0.6.13            ] 13/28: libc, itertools, svg, pro...\n",
      "\u001b[K\u001b[0m\u001b[0m\u001b[1m\u001b[32m   Compiling\u001b[0m rand_core v0.5.1         ] 18/28: getrandom, syn              \n",
      "\u001b[K\u001b[0m\u001b[0m\u001b[1m\u001b[32m   Compiling\u001b[0m rand_pcg v0.2.1>         ] 19/28: syn, rand_core              \n",
      "\u001b[0m\u001b[0m\u001b[1m\u001b[32m   Compiling\u001b[0m rand_chacha v0.2.2\n",
      "\u001b[K\u001b[0m\u001b[0m\u001b[1m\u001b[32m   Compiling\u001b[0m rand v0.7.3======>       ] 21/28: syn, rand_chacha            \n",
      "\u001b[K\u001b[0m\u001b[0m\u001b[1m\u001b[32m   Compiling\u001b[0m proconio-derive v0.1.9   ] 23/28: syn                         \n",
      "\u001b[K\u001b[0m\u001b[0m\u001b[1m\u001b[32m   Compiling\u001b[0m proconio v0.3.6=====>    ] 24/28: proconio-derive             \n",
      "\u001b[K\u001b[0m\u001b[0m\u001b[1m\u001b[32m   Compiling\u001b[0m tools v1.0.0 (/home/nagis/ahc3/tools)conio                    \n",
      "\u001b[K\u001b[0m\u001b[0m\u001b[1m\u001b[32m    Finished\u001b[0m release [optimized] target(s) in 11.72sin)                    \n",
      "\u001b[0m\u001b[0m\u001b[1m\u001b[32m     Running\u001b[0m `tools/target/release/gen`\n",
      "Usage: tools/target/release/gen seeds.txt\n"
     ]
    }
   ],
   "source": [
    "# テストケース生成\n",
    "!wget https://img.atcoder.jp/ahc002/c993bb7f09d9f8857fc90951fc6af11d.zip\n",
    "!unzip c993bb7f09d9f8857fc90951fc6af11d.zip\n",
    "\n",
    "SEED = 201\n",
    "N_TESTCASES = 50\n",
    "!seq {SEED} {SEED+N_TESTCASES-1} | cargo run --release --manifest-path ./tools/Cargo.toml --bin gen"
   ]
  },
  {
   "cell_type": "code",
   "execution_count": 7,
   "metadata": {},
   "outputs": [],
   "source": [
    "!tools/target/release/gen tools/seeds.txt"
   ]
  },
  {
   "cell_type": "code",
   "execution_count": 8,
   "metadata": {},
   "outputs": [
    {
     "name": "stdout",
     "output_type": "stream",
     "text": [
      "answer.cpp\tc993bb7f09d9f8857fc90951fc6af11d.zip  optimize_tmp     tools\r\n",
      "answer.cpp.out\tin\t\t\t\t      optimizer.ipynb\r\n"
     ]
    }
   ],
   "source": [
    "!ls"
   ]
  },
  {
   "cell_type": "code",
   "execution_count": 9,
   "metadata": {
    "scrolled": true
   },
   "outputs": [
    {
     "name": "stdout",
     "output_type": "stream",
     "text": [
      "5 variables were found.\n"
     ]
    },
    {
     "data": {
      "text/html": [
       "<div>\n",
       "<style scoped>\n",
       "    .dataframe tbody tr th:only-of-type {\n",
       "        vertical-align: middle;\n",
       "    }\n",
       "\n",
       "    .dataframe tbody tr th {\n",
       "        vertical-align: top;\n",
       "    }\n",
       "\n",
       "    .dataframe thead th {\n",
       "        text-align: right;\n",
       "    }\n",
       "</style>\n",
       "<table border=\"1\" class=\"dataframe\">\n",
       "  <thead>\n",
       "    <tr style=\"text-align: right;\">\n",
       "      <th></th>\n",
       "      <th>name</th>\n",
       "      <th>method</th>\n",
       "      <th>min</th>\n",
       "      <th>max</th>\n",
       "      <th>log</th>\n",
       "      <th>left</th>\n",
       "      <th>right</th>\n",
       "    </tr>\n",
       "  </thead>\n",
       "  <tbody>\n",
       "    <tr>\n",
       "      <th>0</th>\n",
       "      <td>COEF_CENTER_L1</td>\n",
       "      <td>suggest_float</td>\n",
       "      <td>-100.0</td>\n",
       "      <td>100.0</td>\n",
       "      <td>False</td>\n",
       "      <td>\\t\\tconstexpr double COEF_CENTER_L1 =</td>\n",
       "      <td>;  // OPTIMIZE [-100.0, 100.0]</td>\n",
       "    </tr>\n",
       "    <tr>\n",
       "      <th>1</th>\n",
       "      <td>COEF_CENTER_L1_SQ</td>\n",
       "      <td>suggest_float</td>\n",
       "      <td>0.0</td>\n",
       "      <td>200.0</td>\n",
       "      <td>False</td>\n",
       "      <td>\\t\\tconstexpr double COEF_CENTER_L1_SQ =</td>\n",
       "      <td>;  // OPTIMIZE [0.0, 200.0]</td>\n",
       "    </tr>\n",
       "    <tr>\n",
       "      <th>2</th>\n",
       "      <td>COEF_POINT</td>\n",
       "      <td>suggest_float</td>\n",
       "      <td>0.0</td>\n",
       "      <td>100.0</td>\n",
       "      <td>False</td>\n",
       "      <td>\\t\\tconstexpr double COEF_POINT =</td>\n",
       "      <td>;  // OPTIMIZE [0.0, 100.0]</td>\n",
       "    </tr>\n",
       "    <tr>\n",
       "      <th>3</th>\n",
       "      <td>COEF_DIST</td>\n",
       "      <td>suggest_float</td>\n",
       "      <td>0.0</td>\n",
       "      <td>10000.0</td>\n",
       "      <td>False</td>\n",
       "      <td>\\t\\tconstexpr double COEF_DIST =</td>\n",
       "      <td>;  // OPTIMIZE [0.0, 10000.0]</td>\n",
       "    </tr>\n",
       "    <tr>\n",
       "      <th>4</th>\n",
       "      <td>COEF_TWIST</td>\n",
       "      <td>suggest_float</td>\n",
       "      <td>0.0</td>\n",
       "      <td>1000000.0</td>\n",
       "      <td>False</td>\n",
       "      <td>\\t\\tconstexpr double COEF_TWIST =</td>\n",
       "      <td>;  // OPTIMIZE [0.0, 1000000.0]</td>\n",
       "    </tr>\n",
       "  </tbody>\n",
       "</table>\n",
       "</div>"
      ],
      "text/plain": [
       "                name         method    min        max    log  \\\n",
       "0     COEF_CENTER_L1  suggest_float -100.0      100.0  False   \n",
       "1  COEF_CENTER_L1_SQ  suggest_float    0.0      200.0  False   \n",
       "2         COEF_POINT  suggest_float    0.0      100.0  False   \n",
       "3          COEF_DIST  suggest_float    0.0    10000.0  False   \n",
       "4         COEF_TWIST  suggest_float    0.0  1000000.0  False   \n",
       "\n",
       "                                        left                            right  \n",
       "0     \\t\\tconstexpr double COEF_CENTER_L1 =    ;  // OPTIMIZE [-100.0, 100.0]  \n",
       "1  \\t\\tconstexpr double COEF_CENTER_L1_SQ =       ;  // OPTIMIZE [0.0, 200.0]  \n",
       "2         \\t\\tconstexpr double COEF_POINT =       ;  // OPTIMIZE [0.0, 100.0]  \n",
       "3          \\t\\tconstexpr double COEF_DIST =     ;  // OPTIMIZE [0.0, 10000.0]  \n",
       "4         \\t\\tconstexpr double COEF_TWIST =   ;  // OPTIMIZE [0.0, 1000000.0]  "
      ]
     },
     "metadata": {},
     "output_type": "display_data"
    }
   ],
   "source": [
    "# ここでエラー出力は何かおかしいかもしれない\n",
    "\n",
    "\n",
    "# パラメータ抽出\n",
    "with open(FILENAME) as f:\n",
    "    answer = f.read()\n",
    "\n",
    "\n",
    "variables_optimize = []\n",
    "\n",
    "for left, value, right, options in re.findall(r\"^([^/\\n]*=\\s*)(.+?)(\\s*;\\s*//(?:.*\\W)?OPTIMIZE(\\W.*))$\", answer, re.MULTILINE):\n",
    "    name = left.replace(\"=\", \"\").strip().split()[-1]\n",
    "    \n",
    "    searched = re.search(r\".*\\[(?P<min>.*),(?P<max>.*)\\].*\", options)\n",
    "    if searched:\n",
    "        min_value = max_value = None\n",
    "        try:\n",
    "            min_value = eval(searched.group(\"min\"))\n",
    "            max_value = eval(searched.group(\"max\"))\n",
    "            assert min_value <= max_value\n",
    "        except Exception as e:\n",
    "            print(f\"searched={searched}\", file=sys.stderr)\n",
    "            print(e, file=sys.stderr)\n",
    "            continue\n",
    "        log = \"LOG\" in options  # 雑、直したほうが良い\n",
    "        if type(min_value) != type(max_value):\n",
    "            print(f\"searched={searched}\", file=sys.stderr)\n",
    "            print(\"types not matched\", file=sys.stderr)\n",
    "            continue\n",
    "        if isinstance(min_value, int):\n",
    "            method = \"suggest_int\"\n",
    "        elif isinstance(min_value, float):\n",
    "            method = \"suggest_float\"\n",
    "        else:\n",
    "            print(f\"searched={searched}\", file=sys.stderr)\n",
    "            print(f\"unknown type ({type(min_value)})\", file=sys.stderr)\n",
    "            continue\n",
    "        variables_optimize.append({\n",
    "            \"name\": name,\n",
    "            \"method\": method,\n",
    "            \"min\": min_value,\n",
    "            \"max\": max_value,\n",
    "            \"log\": log,\n",
    "            \"left\": left,\n",
    "            \"right\": right,\n",
    "        })\n",
    "    elif searched := re.search(r\".*\\{(?P<choices>.*?)\\}.*\", options):\n",
    "        choices = list(map(lambda x: x.strip(), searched.group(\"choices\").split(\",\")))\n",
    "        variables_optimize.append({\n",
    "            \"name\": name,\n",
    "            \"method\": \"suggest_categorical\",\n",
    "            \"choices\": choices,\n",
    "            \"left\": left,\n",
    "            \"right\": right,\n",
    "        })\n",
    "    else:\n",
    "        print(f\"searched={searched}\", file=sys.stderr)\n",
    "        print(f\"pattern was matched but options are incorrect.\", file=sys.stderr)\n",
    "\n",
    "print(len(variables_optimize), \"variables were found.\")\n",
    "if globals().get(\"pd\"):\n",
    "    display(pd.DataFrame(variables_optimize))\n",
    "else:\n",
    "    pprint(variables_optimize)"
   ]
  },
  {
   "cell_type": "code",
   "execution_count": 10,
   "metadata": {},
   "outputs": [],
   "source": [
    "def escape(string):  # 正規表現の中でそのまま使いたい文字列をエスケープ\n",
    "    res = !echo '{string}' | sed -e 's/[]\\/$*.^[]/\\\\&/g'\n",
    "    return res[0]\n",
    "\n",
    "def escape_sed(string):  # sed の置換後の文字列用のエスケープ\n",
    "    res = !echo '{string}' | sed -e 's/[\\/&]/\\\\&/g'\n",
    "    return res[0]\n",
    "\n",
    "\n",
    "def objective_with_index(trial, n_internal_parallel):\n",
    "    index_parallel = trial.number % 100\n",
    "    print(f\"{index_parallel=}\")\n",
    "    \n",
    "    parameters_changed_filename = f\"{index_parallel}_{FILENAME}\"\n",
    "    directory_input = \"./in\"  # \"/\" をつけない\n",
    "    \n",
    "    !mkdir {index_parallel}_out\n",
    "    !mkdir {index_parallel}_score\n",
    "    !rm {index_parallel}_out/*\n",
    "    !rm {index_parallel}_score/*\n",
    "    \n",
    "    # ファイル作成\n",
    "    !cp {FILENAME} {parameters_changed_filename}\n",
    "    sed_options = [f\"-i {parameters_changed_filename}\"]\n",
    "    for variable in variables_optimize:\n",
    "        if variable[\"method\"] == \"suggest_categorical\":\n",
    "            val =  trial.suggest_categorical(variable[\"name\"], variable[\"choices\"])\n",
    "        else:\n",
    "            val = getattr(trial, variable[\"method\"])(variable[\"name\"], variable[\"min\"], variable[\"max\"])\n",
    "        left = variable[\"left\"]\n",
    "        right = variable[\"right\"]\n",
    "        sed_options.append(f\"\"\"-e 's/^{escape(left)}.*{escape(right)}$/{escape_sed(left)}{val}{escape_sed(right)}/'\"\"\")\n",
    "    command_sed = f\"sed {' '.join(sed_options)}\"\n",
    "    print(command_sed)\n",
    "    !{command_sed}\n",
    "    \n",
    "    # コンパイル\n",
    "    command_compile = f\"g++ {parameters_changed_filename} -std=gnu++17 -O2 -DONLINE_JUDGE -o {parameters_changed_filename}.out\"\n",
    "    print(command_compile)\n",
    "    !{command_compile}\n",
    "    # 実行・採点コマンド (@ はファイル名)\n",
    "    command_exec = (\n",
    "        f\"./{parameters_changed_filename}.out < {directory_input}/@ > ./{index_parallel}_out/@;\"\n",
    "        f\"cargo run --release --manifest-path ./tools/Cargo.toml --bin vis {directory_input}/@ ./{index_parallel}_out/@ 2> /dev/null | sed -e s/[^0-9]//g > ./{index_parallel}_score/@;\"\n",
    "    )\n",
    "    # 並列実行 (sed はパスのディレクトリ部分を消してファイル名にしてる)\n",
    "    !find {directory_input}/* | sed 's!^.*/!!' | xargs -I@ -P {n_internal_parallel} sh -c '{command_exec}'\n",
    "    \n",
    "    # 集計\n",
    "    file_paths = !find ./{index_parallel}_score/*\n",
    "    sum_score = 0\n",
    "    for file_path in file_paths:  \n",
    "        with open(file_path) as f:\n",
    "            sum_score += int(f.read())\n",
    "    return sum_score\n",
    "\n"
   ]
  },
  {
   "cell_type": "code",
   "execution_count": null,
   "metadata": {},
   "outputs": [
    {
     "name": "stderr",
     "output_type": "stream",
     "text": [
      "\u001b[32m[I 2021-04-25 13:35:50,057]\u001b[0m A new study created in RDB with name: study\u001b[0m\n"
     ]
    },
    {
     "name": "stdout",
     "output_type": "stream",
     "text": [
      "index_parallel=0\n",
      "index_parallel=3\n",
      "index_parallel=2\n"
     ]
    },
    {
     "name": "stderr",
     "output_type": "stream",
     "text": [
      "/home/nagis/anaconda3/lib/python3.8/site-packages/optuna/study.py:393: FutureWarning: `n_jobs` argument has been deprecated in v2.7.0. This feature will be removed in v4.0.0. See https://github.com/optuna/optuna/releases/tag/v2.7.0.\n",
      "  warnings.warn(\n"
     ]
    },
    {
     "name": "stdout",
     "output_type": "stream",
     "text": [
      "index_parallel=1\n",
      "index_parallel=4\n",
      "index_parallel=5\n",
      "rm: cannot remove '0_out/*': No such file or directory\n",
      "rm: cannot remove '3_out/*': No such file or directory\n",
      "rm: cannot remove '2_out/*': No such file or directory\n",
      "rm: cannot remove '4_out/*': No such file or directory\n",
      "rm: cannot remove '1_out/*': No such file or directory\n",
      "rm: cannot remove '5_out/*': No such file or directory\n",
      "rm: cannot remove '0_score/*': No such file or directory\n",
      "rm: cannot remove '3_score/*': No such file or directory\n",
      "rm: cannot remove '2_score/*': No such file or directory\n",
      "rm: cannot remove '4_score/*': No such file or directory\n",
      "rm: cannot remove '1_score/*': No such file or directory\n",
      "rm: cannot remove '5_score/*': No such file or directory\n",
      "sed -i 3_answer.cpp -e 's/^\t\tconstexpr double COEF_CENTER_L1 = .*;  \\/\\/ OPTIMIZE \\[-100\\.0, 100\\.0\\]$/\t\tconstexpr double COEF_CENTER_L1 = 13.082257135262239;  \\/\\/ OPTIMIZE [-100.0, 100.0]/' -e 's/^\t\tconstexpr double COEF_CENTER_L1_SQ = .*;  \\/\\/ OPTIMIZE \\[0\\.0, 200\\.0\\]$/\t\tconstexpr double COEF_CENTER_L1_SQ = 144.2754774480251;  \\/\\/ OPTIMIZE [0.0, 200.0]/' -e 's/^\t\tconstexpr double COEF_POINT = .*;  \\/\\/ OPTIMIZE \\[0\\.0, 100\\.0\\]$/\t\tconstexpr double COEF_POINT = 26.231214991402897;  \\/\\/ OPTIMIZE [0.0, 100.0]/' -e 's/^\t\tconstexpr double COEF_DIST = .*;  \\/\\/ OPTIMIZE \\[0\\.0, 10000\\.0\\]$/\t\tconstexpr double COEF_DIST = 9565.0377495932;  \\/\\/ OPTIMIZE [0.0, 10000.0]/' -e 's/^\t\tconstexpr double COEF_TWIST = .*;  \\/\\/ OPTIMIZE \\[0\\.0, 1000000\\.0\\]$/\t\tconstexpr double COEF_TWIST = 579875.9435996764;  \\/\\/ OPTIMIZE [0.0, 1000000.0]/'\n",
      "sed -i 2_answer.cpp -e 's/^\t\tconstexpr double COEF_CENTER_L1 = .*;  \\/\\/ OPTIMIZE \\[-100\\.0, 100\\.0\\]$/\t\tconstexpr double COEF_CENTER_L1 = 3.5609839336463693;  \\/\\/ OPTIMIZE [-100.0, 100.0]/' -e 's/^\t\tconstexpr double COEF_CENTER_L1_SQ = .*;  \\/\\/ OPTIMIZE \\[0\\.0, 200\\.0\\]$/\t\tconstexpr double COEF_CENTER_L1_SQ = 112.61846477846174;  \\/\\/ OPTIMIZE [0.0, 200.0]/' -e 's/^\t\tconstexpr double COEF_POINT = .*;  \\/\\/ OPTIMIZE \\[0\\.0, 100\\.0\\]$/\t\tconstexpr double COEF_POINT = 84.7370632749976;  \\/\\/ OPTIMIZE [0.0, 100.0]/' -e 's/^\t\tconstexpr double COEF_DIST = .*;  \\/\\/ OPTIMIZE \\[0\\.0, 10000\\.0\\]$/\t\tconstexpr double COEF_DIST = 1220.015709365434;  \\/\\/ OPTIMIZE [0.0, 10000.0]/' -e 's/^\t\tconstexpr double COEF_TWIST = .*;  \\/\\/ OPTIMIZE \\[0\\.0, 1000000\\.0\\]$/\t\tconstexpr double COEF_TWIST = 86570.94561125967;  \\/\\/ OPTIMIZE [0.0, 1000000.0]/'\n",
      "sed -i 0_answer.cpp -e 's/^\t\tconstexpr double COEF_CENTER_L1 = .*;  \\/\\/ OPTIMIZE \\[-100\\.0, 100\\.0\\]$/\t\tconstexpr double COEF_CENTER_L1 = 18.6046295783905;  \\/\\/ OPTIMIZE [-100.0, 100.0]/' -e 's/^\t\tconstexpr double COEF_CENTER_L1_SQ = .*;  \\/\\/ OPTIMIZE \\[0\\.0, 200\\.0\\]$/\t\tconstexpr double COEF_CENTER_L1_SQ = 118.94532063887343;  \\/\\/ OPTIMIZE [0.0, 200.0]/' -e 's/^\t\tconstexpr double COEF_POINT = .*;  \\/\\/ OPTIMIZE \\[0\\.0, 100\\.0\\]$/\t\tconstexpr double COEF_POINT = 72.1636047328641;  \\/\\/ OPTIMIZE [0.0, 100.0]/' -e 's/^\t\tconstexpr double COEF_DIST = .*;  \\/\\/ OPTIMIZE \\[0\\.0, 10000\\.0\\]$/\t\tconstexpr double COEF_DIST = 6151.071380664234;  \\/\\/ OPTIMIZE [0.0, 10000.0]/' -e 's/^\t\tconstexpr double COEF_TWIST = .*;  \\/\\/ OPTIMIZE \\[0\\.0, 1000000\\.0\\]$/\t\tconstexpr double COEF_TWIST = 745793.6662805619;  \\/\\/ OPTIMIZE [0.0, 1000000.0]/'\n",
      "g++ 3_answer.cpp -std=gnu++17 -O2 -DONLINE_JUDGE -o 3_answer.cpp.out\n",
      "sed -i 1_answer.cpp -e 's/^\t\tconstexpr double COEF_CENTER_L1 = .*;  \\/\\/ OPTIMIZE \\[-100\\.0, 100\\.0\\]$/\t\tconstexpr double COEF_CENTER_L1 = -84.70195246580501;  \\/\\/ OPTIMIZE [-100.0, 100.0]/' -e 's/^\t\tconstexpr double COEF_CENTER_L1_SQ = .*;  \\/\\/ OPTIMIZE \\[0\\.0, 200\\.0\\]$/\t\tconstexpr double COEF_CENTER_L1_SQ = 185.50644734541262;  \\/\\/ OPTIMIZE [0.0, 200.0]/' -e 's/^\t\tconstexpr double COEF_POINT = .*;  \\/\\/ OPTIMIZE \\[0\\.0, 100\\.0\\]$/\t\tconstexpr double COEF_POINT = 4.158149981866077;  \\/\\/ OPTIMIZE [0.0, 100.0]/' -e 's/^\t\tconstexpr double COEF_DIST = .*;  \\/\\/ OPTIMIZE \\[0\\.0, 10000\\.0\\]$/\t\tconstexpr double COEF_DIST = 8186.96061487237;  \\/\\/ OPTIMIZE [0.0, 10000.0]/' -e 's/^\t\tconstexpr double COEF_TWIST = .*;  \\/\\/ OPTIMIZE \\[0\\.0, 1000000\\.0\\]$/\t\tconstexpr double COEF_TWIST = 933486.8108208575;  \\/\\/ OPTIMIZE [0.0, 1000000.0]/'\n",
      "g++ 2_answer.cpp -std=gnu++17 -O2 -DONLINE_JUDGE -o 2_answer.cpp.out\n",
      "sed -i 4_answer.cpp -e 's/^\t\tconstexpr double COEF_CENTER_L1 = .*;  \\/\\/ OPTIMIZE \\[-100\\.0, 100\\.0\\]$/\t\tconstexpr double COEF_CENTER_L1 = -37.628710008474386;  \\/\\/ OPTIMIZE [-100.0, 100.0]/' -e 's/^\t\tconstexpr double COEF_CENTER_L1_SQ = .*;  \\/\\/ OPTIMIZE \\[0\\.0, 200\\.0\\]$/\t\tconstexpr double COEF_CENTER_L1_SQ = 58.46096663249811;  \\/\\/ OPTIMIZE [0.0, 200.0]/' -e 's/^\t\tconstexpr double COEF_POINT = .*;  \\/\\/ OPTIMIZE \\[0\\.0, 100\\.0\\]$/\t\tconstexpr double COEF_POINT = 12.13304841440258;  \\/\\/ OPTIMIZE [0.0, 100.0]/' -e 's/^\t\tconstexpr double COEF_DIST = .*;  \\/\\/ OPTIMIZE \\[0\\.0, 10000\\.0\\]$/\t\tconstexpr double COEF_DIST = 8212.401410126835;  \\/\\/ OPTIMIZE [0.0, 10000.0]/' -e 's/^\t\tconstexpr double COEF_TWIST = .*;  \\/\\/ OPTIMIZE \\[0\\.0, 1000000\\.0\\]$/\t\tconstexpr double COEF_TWIST = 725630.4053131447;  \\/\\/ OPTIMIZE [0.0, 1000000.0]/'\n",
      "g++ 0_answer.cpp -std=gnu++17 -O2 -DONLINE_JUDGE -o 0_answer.cpp.out\n",
      "sed -i 5_answer.cpp -e 's/^\t\tconstexpr double COEF_CENTER_L1 = .*;  \\/\\/ OPTIMIZE \\[-100\\.0, 100\\.0\\]$/\t\tconstexpr double COEF_CENTER_L1 = 62.91021860322499;  \\/\\/ OPTIMIZE [-100.0, 100.0]/' -e 's/^\t\tconstexpr double COEF_CENTER_L1_SQ = .*;  \\/\\/ OPTIMIZE \\[0\\.0, 200\\.0\\]$/\t\tconstexpr double COEF_CENTER_L1_SQ = 58.813546767172234;  \\/\\/ OPTIMIZE [0.0, 200.0]/' -e 's/^\t\tconstexpr double COEF_POINT = .*;  \\/\\/ OPTIMIZE \\[0\\.0, 100\\.0\\]$/\t\tconstexpr double COEF_POINT = 73.12146388934964;  \\/\\/ OPTIMIZE [0.0, 100.0]/' -e 's/^\t\tconstexpr double COEF_DIST = .*;  \\/\\/ OPTIMIZE \\[0\\.0, 10000\\.0\\]$/\t\tconstexpr double COEF_DIST = 571.9683058028191;  \\/\\/ OPTIMIZE [0.0, 10000.0]/' -e 's/^\t\tconstexpr double COEF_TWIST = .*;  \\/\\/ OPTIMIZE \\[0\\.0, 1000000\\.0\\]$/\t\tconstexpr double COEF_TWIST = 154753.20073712984;  \\/\\/ OPTIMIZE [0.0, 1000000.0]/'\n",
      "g++ 1_answer.cpp -std=gnu++17 -O2 -DONLINE_JUDGE -o 1_answer.cpp.out\n",
      "g++ 4_answer.cpp -std=gnu++17 -O2 -DONLINE_JUDGE -o 4_answer.cpp.out\n",
      "g++ 5_answer.cpp -std=gnu++17 -O2 -DONLINE_JUDGE -o 5_answer.cpp.out\n"
     ]
    },
    {
     "name": "stderr",
     "output_type": "stream",
     "text": [
      "\u001b[32m[I 2021-04-25 13:36:10,054]\u001b[0m Trial 2 finished with value: 711256.0 and parameters: {'COEF_CENTER_L1': 3.5609839336463693, 'COEF_CENTER_L1_SQ': 112.61846477846174, 'COEF_POINT': 84.7370632749976, 'COEF_DIST': 1220.015709365434, 'COEF_TWIST': 86570.94561125967}. Best is trial 2 with value: 711256.0.\u001b[0m\n"
     ]
    },
    {
     "name": "stdout",
     "output_type": "stream",
     "text": [
      "Updated! 711256.0 -> 711256.0\n",
      "callback ok\n",
      "index_parallel=6\n",
      "rm: cannot remove '6_out/*': No such file or directory\n",
      "rm: cannot remove '6_score/*': No such file or directory\n",
      "sed -i 6_answer.cpp -e 's/^\t\tconstexpr double COEF_CENTER_L1 = .*;  \\/\\/ OPTIMIZE \\[-100\\.0, 100\\.0\\]$/\t\tconstexpr double COEF_CENTER_L1 = 48.416913527193714;  \\/\\/ OPTIMIZE [-100.0, 100.0]/' -e 's/^\t\tconstexpr double COEF_CENTER_L1_SQ = .*;  \\/\\/ OPTIMIZE \\[0\\.0, 200\\.0\\]$/\t\tconstexpr double COEF_CENTER_L1_SQ = 78.37404864146052;  \\/\\/ OPTIMIZE [0.0, 200.0]/' -e 's/^\t\tconstexpr double COEF_POINT = .*;  \\/\\/ OPTIMIZE \\[0\\.0, 100\\.0\\]$/\t\tconstexpr double COEF_POINT = 40.92137096278208;  \\/\\/ OPTIMIZE [0.0, 100.0]/' -e 's/^\t\tconstexpr double COEF_DIST = .*;  \\/\\/ OPTIMIZE \\[0\\.0, 10000\\.0\\]$/\t\tconstexpr double COEF_DIST = 8242.8041504362;  \\/\\/ OPTIMIZE [0.0, 10000.0]/' -e 's/^\t\tconstexpr double COEF_TWIST = .*;  \\/\\/ OPTIMIZE \\[0\\.0, 1000000\\.0\\]$/\t\tconstexpr double COEF_TWIST = 870726.3562798271;  \\/\\/ OPTIMIZE [0.0, 1000000.0]/'\n",
      "g++ 6_answer.cpp -std=gnu++17 -O2 -DONLINE_JUDGE -o 6_answer.cpp.out\n"
     ]
    },
    {
     "name": "stderr",
     "output_type": "stream",
     "text": [
      "\u001b[32m[I 2021-04-25 13:36:12,198]\u001b[0m Trial 5 finished with value: 888491.0 and parameters: {'COEF_CENTER_L1': 62.91021860322499, 'COEF_CENTER_L1_SQ': 58.813546767172234, 'COEF_POINT': 73.12146388934964, 'COEF_DIST': 571.9683058028191, 'COEF_TWIST': 154753.20073712984}. Best is trial 5 with value: 888491.0.\u001b[0m\n"
     ]
    },
    {
     "name": "stdout",
     "output_type": "stream",
     "text": [
      "Updated! 888491.0 -> 888491.0\n",
      "callback ok\n",
      "index_parallel=7\n",
      "rm: cannot remove '7_out/*': No such file or directory\n",
      "rm: cannot remove '7_score/*': No such file or directory\n",
      "sed -i 7_answer.cpp -e 's/^\t\tconstexpr double COEF_CENTER_L1 = .*;  \\/\\/ OPTIMIZE \\[-100\\.0, 100\\.0\\]$/\t\tconstexpr double COEF_CENTER_L1 = -83.76856257184133;  \\/\\/ OPTIMIZE [-100.0, 100.0]/' -e 's/^\t\tconstexpr double COEF_CENTER_L1_SQ = .*;  \\/\\/ OPTIMIZE \\[0\\.0, 200\\.0\\]$/\t\tconstexpr double COEF_CENTER_L1_SQ = 133.42138549880488;  \\/\\/ OPTIMIZE [0.0, 200.0]/' -e 's/^\t\tconstexpr double COEF_POINT = .*;  \\/\\/ OPTIMIZE \\[0\\.0, 100\\.0\\]$/\t\tconstexpr double COEF_POINT = 88.13943963801665;  \\/\\/ OPTIMIZE [0.0, 100.0]/' -e 's/^\t\tconstexpr double COEF_DIST = .*;  \\/\\/ OPTIMIZE \\[0\\.0, 10000\\.0\\]$/\t\tconstexpr double COEF_DIST = 8928.1040625666;  \\/\\/ OPTIMIZE [0.0, 10000.0]/' -e 's/^\t\tconstexpr double COEF_TWIST = .*;  \\/\\/ OPTIMIZE \\[0\\.0, 1000000\\.0\\]$/\t\tconstexpr double COEF_TWIST = 969883.2424753751;  \\/\\/ OPTIMIZE [0.0, 1000000.0]/'\n",
      "g++ 7_answer.cpp -std=gnu++17 -O2 -DONLINE_JUDGE -o 7_answer.cpp.out\n"
     ]
    },
    {
     "name": "stderr",
     "output_type": "stream",
     "text": [
      "\u001b[32m[I 2021-04-25 13:36:21,637]\u001b[0m Trial 3 finished with value: 1243299.0 and parameters: {'COEF_CENTER_L1': 13.082257135262239, 'COEF_CENTER_L1_SQ': 144.2754774480251, 'COEF_POINT': 26.231214991402897, 'COEF_DIST': 9565.0377495932, 'COEF_TWIST': 579875.9435996764}. Best is trial 3 with value: 1243299.0.\u001b[0m\n"
     ]
    },
    {
     "name": "stdout",
     "output_type": "stream",
     "text": [
      "Updated! 1243299.0 -> 1243299.0\n",
      "callback ok\n",
      "index_parallel=8\n",
      "rm: cannot remove '8_out/*': No such file or directory\n",
      "rm: cannot remove '8_score/*': No such file or directory\n"
     ]
    },
    {
     "name": "stderr",
     "output_type": "stream",
     "text": [
      "\u001b[32m[I 2021-04-25 13:36:22,970]\u001b[0m Trial 1 finished with value: 1371764.0 and parameters: {'COEF_CENTER_L1': -84.70195246580501, 'COEF_CENTER_L1_SQ': 185.50644734541262, 'COEF_POINT': 4.158149981866077, 'COEF_DIST': 8186.96061487237, 'COEF_TWIST': 933486.8108208575}. Best is trial 1 with value: 1371764.0.\u001b[0m\n"
     ]
    },
    {
     "name": "stdout",
     "output_type": "stream",
     "text": [
      "sed -i 8_answer.cpp -e 's/^\t\tconstexpr double COEF_CENTER_L1 = .*;  \\/\\/ OPTIMIZE \\[-100\\.0, 100\\.0\\]$/\t\tconstexpr double COEF_CENTER_L1 = 5.97895084300653;  \\/\\/ OPTIMIZE [-100.0, 100.0]/' -e 's/^\t\tconstexpr double COEF_CENTER_L1_SQ = .*;  \\/\\/ OPTIMIZE \\[0\\.0, 200\\.0\\]$/\t\tconstexpr double COEF_CENTER_L1_SQ = 188.6586487599359;  \\/\\/ OPTIMIZE [0.0, 200.0]/' -e 's/^\t\tconstexpr double COEF_POINT = .*;  \\/\\/ OPTIMIZE \\[0\\.0, 100\\.0\\]$/\t\tconstexpr double COEF_POINT = 81.05255288223209;  \\/\\/ OPTIMIZE [0.0, 100.0]/' -e 's/^\t\tconstexpr double COEF_DIST = .*;  \\/\\/ OPTIMIZE \\[0\\.0, 10000\\.0\\]$/\t\tconstexpr double COEF_DIST = 6759.734165611664;  \\/\\/ OPTIMIZE [0.0, 10000.0]/' -e 's/^\t\tconstexpr double COEF_TWIST = .*;  \\/\\/ OPTIMIZE \\[0\\.0, 1000000\\.0\\]$/\t\tconstexpr double COEF_TWIST = 295856.72374433145;  \\/\\/ OPTIMIZE [0.0, 1000000.0]/'\n",
      "Updated! 1371764.0 -> 1371764.0\n"
     ]
    },
    {
     "name": "stderr",
     "output_type": "stream",
     "text": [
      "\u001b[32m[I 2021-04-25 13:36:23,135]\u001b[0m Trial 0 finished with value: 1376509.0 and parameters: {'COEF_CENTER_L1': 18.6046295783905, 'COEF_CENTER_L1_SQ': 118.94532063887343, 'COEF_POINT': 72.1636047328641, 'COEF_DIST': 6151.071380664234, 'COEF_TWIST': 745793.6662805619}. Best is trial 0 with value: 1376509.0.\u001b[0m\n"
     ]
    },
    {
     "name": "stdout",
     "output_type": "stream",
     "text": [
      "g++ 8_answer.cpp -std=gnu++17 -O2 -DONLINE_JUDGE -o 8_answer.cpp.out\n",
      "Updated! 1376509.0 -> 1376509.0\n",
      "callback ok\n",
      "index_parallel=9\n",
      "callback ok\n",
      "index_parallel=10\n",
      "rm: cannot remove '9_out/*': No such file or directory\n",
      "rm: cannot remove '10_out/*': No such file or directory\n",
      "rm: cannot remove '9_score/*': No such file or directory\n",
      "rm: cannot remove '10_score/*': No such file or directory\n",
      "sed -i 9_answer.cpp -e 's/^\t\tconstexpr double COEF_CENTER_L1 = .*;  \\/\\/ OPTIMIZE \\[-100\\.0, 100\\.0\\]$/\t\tconstexpr double COEF_CENTER_L1 = -78.15880238835305;  \\/\\/ OPTIMIZE [-100.0, 100.0]/' -e 's/^\t\tconstexpr double COEF_CENTER_L1_SQ = .*;  \\/\\/ OPTIMIZE \\[0\\.0, 200\\.0\\]$/\t\tconstexpr double COEF_CENTER_L1_SQ = 196.55268700837678;  \\/\\/ OPTIMIZE [0.0, 200.0]/' -e 's/^\t\tconstexpr double COEF_POINT = .*;  \\/\\/ OPTIMIZE \\[0\\.0, 100\\.0\\]$/\t\tconstexpr double COEF_POINT = 98.82281341336093;  \\/\\/ OPTIMIZE [0.0, 100.0]/' -e 's/^\t\tconstexpr double COEF_DIST = .*;  \\/\\/ OPTIMIZE \\[0\\.0, 10000\\.0\\]$/\t\tconstexpr double COEF_DIST = 9053.36348779608;  \\/\\/ OPTIMIZE [0.0, 10000.0]/' -e 's/^\t\tconstexpr double COEF_TWIST = .*;  \\/\\/ OPTIMIZE \\[0\\.0, 1000000\\.0\\]$/\t\tconstexpr double COEF_TWIST = 719911.2511612885;  \\/\\/ OPTIMIZE [0.0, 1000000.0]/'\n",
      "g++ 9_answer.cpp -std=gnu++17 -O2 -DONLINE_JUDGE -o 9_answer.cpp.out\n",
      "sed -i 10_answer.cpp -e 's/^\t\tconstexpr double COEF_CENTER_L1 = .*;  \\/\\/ OPTIMIZE \\[-100\\.0, 100\\.0\\]$/\t\tconstexpr double COEF_CENTER_L1 = -43.809882147524036;  \\/\\/ OPTIMIZE [-100.0, 100.0]/' -e 's/^\t\tconstexpr double COEF_CENTER_L1_SQ = .*;  \\/\\/ OPTIMIZE \\[0\\.0, 200\\.0\\]$/\t\tconstexpr double COEF_CENTER_L1_SQ = 5.263355469939457;  \\/\\/ OPTIMIZE [0.0, 200.0]/' -e 's/^\t\tconstexpr double COEF_POINT = .*;  \\/\\/ OPTIMIZE \\[0\\.0, 100\\.0\\]$/\t\tconstexpr double COEF_POINT = 15.65996871514146;  \\/\\/ OPTIMIZE [0.0, 100.0]/' -e 's/^\t\tconstexpr double COEF_DIST = .*;  \\/\\/ OPTIMIZE \\[0\\.0, 10000\\.0\\]$/\t\tconstexpr double COEF_DIST = 6759.280440131196;  \\/\\/ OPTIMIZE [0.0, 10000.0]/' -e 's/^\t\tconstexpr double COEF_TWIST = .*;  \\/\\/ OPTIMIZE \\[0\\.0, 1000000\\.0\\]$/\t\tconstexpr double COEF_TWIST = 853988.6053891608;  \\/\\/ OPTIMIZE [0.0, 1000000.0]/'\n",
      "g++ 10_answer.cpp -std=gnu++17 -O2 -DONLINE_JUDGE -o 10_answer.cpp.out\n"
     ]
    },
    {
     "name": "stderr",
     "output_type": "stream",
     "text": [
      "\u001b[32m[I 2021-04-25 13:36:25,505]\u001b[0m Trial 4 finished with value: 1186335.0 and parameters: {'COEF_CENTER_L1': -37.628710008474386, 'COEF_CENTER_L1_SQ': 58.46096663249811, 'COEF_POINT': 12.13304841440258, 'COEF_DIST': 8212.401410126835, 'COEF_TWIST': 725630.4053131447}. Best is trial 0 with value: 1376509.0.\u001b[0m\n"
     ]
    },
    {
     "name": "stdout",
     "output_type": "stream",
     "text": [
      "callback ok\n",
      "index_parallel=11\n",
      "rm: cannot remove '11_out/*': No such file or directory\n",
      "rm: cannot remove '11_score/*': No such file or directory\n",
      "sed -i 11_answer.cpp -e 's/^\t\tconstexpr double COEF_CENTER_L1 = .*;  \\/\\/ OPTIMIZE \\[-100\\.0, 100\\.0\\]$/\t\tconstexpr double COEF_CENTER_L1 = -96.60180082731704;  \\/\\/ OPTIMIZE [-100.0, 100.0]/' -e 's/^\t\tconstexpr double COEF_CENTER_L1_SQ = .*;  \\/\\/ OPTIMIZE \\[0\\.0, 200\\.0\\]$/\t\tconstexpr double COEF_CENTER_L1_SQ = 85.1390746663149;  \\/\\/ OPTIMIZE [0.0, 200.0]/' -e 's/^\t\tconstexpr double COEF_POINT = .*;  \\/\\/ OPTIMIZE \\[0\\.0, 100\\.0\\]$/\t\tconstexpr double COEF_POINT = 57.371789341383405;  \\/\\/ OPTIMIZE [0.0, 100.0]/' -e 's/^\t\tconstexpr double COEF_DIST = .*;  \\/\\/ OPTIMIZE \\[0\\.0, 10000\\.0\\]$/\t\tconstexpr double COEF_DIST = 3162.642229659176;  \\/\\/ OPTIMIZE [0.0, 10000.0]/' -e 's/^\t\tconstexpr double COEF_TWIST = .*;  \\/\\/ OPTIMIZE \\[0\\.0, 1000000\\.0\\]$/\t\tconstexpr double COEF_TWIST = 734007.5463800306;  \\/\\/ OPTIMIZE [0.0, 1000000.0]/'\n",
      "g++ 11_answer.cpp -std=gnu++17 -O2 -DONLINE_JUDGE -o 11_answer.cpp.out\n"
     ]
    }
   ],
   "source": [
    "storage_path = f\"study.db\"\n",
    "storage = f\"sqlite:///{storage_path}\"\n",
    "study_name = \"study\"\n",
    "study = optuna.create_study(storage=storage, load_if_exists=True, study_name=study_name, direction=\"maximize\")\n",
    "\n",
    "def callback(study, trial):\n",
    "    try:\n",
    "        if study.best_value == trial.value:  ############# 要変更\n",
    "            print(f\"Updated! {study.best_value} -> {trial.value}\")\n",
    "            index_parallel = trial.number % 100\n",
    "            parameters_changed_filename = f\"{index_parallel}_{FILENAME}\"\n",
    "            !cp {parameters_changed_filename} 00000optimized.cpp\n",
    "        print(\"callback ok\")\n",
    "    except:\n",
    "        print(\":(\")\n",
    "\n",
    "objective = partial(objective_with_index, n_internal_parallel=4)\n",
    "study.optimize(objective, n_trials=3000, timeout=3600, n_jobs=6, callbacks=[callback])"
   ]
  },
  {
   "cell_type": "code",
   "execution_count": null,
   "metadata": {},
   "outputs": [],
   "source": [
    "# $ apt install sysstat\n",
    "# $ mpstat -P ALL 5\n",
    "# とかやると CPU 負荷を見られる"
   ]
  },
  {
   "cell_type": "code",
   "execution_count": 19,
   "metadata": {},
   "outputs": [
    {
     "name": "stdout",
     "output_type": "stream",
     "text": [
      "48621734068.0\n",
      "{'ANNEALING_A': -9.663753766636084,\n",
      " 'ANNEALING_B': 0.23708439451937813,\n",
      " 'ANNEALING_END': 0.004139552269746777,\n",
      " 'ANNEALING_START': 0.4830473145504588,\n",
      " 'GRADIENT_CLIPPING': 0.00019811172822438805,\n",
      " 'GRADIENT_DESCENT_LR': 10380014.948175553,\n",
      " 'GRADIENT_DESCENT_MOMENTUM': 0.3276696959783839,\n",
      " 'GRADIENT_DESCENT_STEPS': 30,\n",
      " 'GRADIENT_DESCENT_STEPS_STEPPING_PROGRESS_RATE': 0.9031609842262478,\n",
      " 'LINE_LENGTH_LOSS_STEPPING_PROGRESS_RATE': 0.021698592868210798,\n",
      " 'LINE_LENGTH_LOSS_WEIGHT': 9.614201554394316e-07,\n",
      " 'N_RANDOM_FACE_CHOICE': 8,\n",
      " 'hoge': '\"ooo\"'}\n"
     ]
    }
   ],
   "source": [
    "print(f\"{study.best_value}\")\n",
    "pprint(study.best_params)"
   ]
  },
  {
   "cell_type": "code",
   "execution_count": null,
   "metadata": {},
   "outputs": [],
   "source": []
  }
 ],
 "metadata": {
  "kernelspec": {
   "display_name": "Python 3",
   "language": "python",
   "name": "python3"
  },
  "language_info": {
   "codemirror_mode": {
    "name": "ipython",
    "version": 3
   },
   "file_extension": ".py",
   "mimetype": "text/x-python",
   "name": "python",
   "nbconvert_exporter": "python",
   "pygments_lexer": "ipython3",
   "version": "3.8.5"
  }
 },
 "nbformat": 4,
 "nbformat_minor": 4
}
