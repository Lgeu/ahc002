{
 "cells": [
  {
   "cell_type": "markdown",
   "metadata": {},
   "source": [
    "こういう感じのコメントを付ける\n",
    "\n",
    "```\n",
    "constexpr double LINE_LENGTH_LOSS_STEPPING_PROGRESS_RATE = 0.7001976706415303;  // OPTIMIZE [0.0, 1.0]\n",
    "constexpr double  LINE_LENGTH_LOSS_WEIGHT = 8.009299591633644e-06;  // OPTIMIZE [1e-8, 1e-4] LOG\n",
    "constexpr int N_RANDOM_FACE_CHOICE = 3;  // OPTIMIZE [1, 10]\n",
    "std::string hoge=\"hoge\";//OPTIMIZE{\"11\", \"unnn\" ,\"ooo\"}\n",
    "```\n",
    "\n",
    "`[` と `,` の間の文字列が Python の式として評価され、その結果の型が最適化に使われる\n",
    "\n",
    "/* でのコメントアウトは効かないので注意"
   ]
  },
  {
   "cell_type": "code",
   "execution_count": 1,
   "metadata": {},
   "outputs": [],
   "source": [
    "import re\n",
    "import sys\n",
    "from time import sleep\n",
    "from pprint import pprint\n",
    "from functools import partial\n",
    "\n",
    "import optuna\n",
    "try:\n",
    "    import pandas as pd\n",
    "except:\n",
    "    pass\n",
    "\n",
    "\n",
    "FILENAME = \"answer.cpp\""
   ]
  },
  {
   "cell_type": "code",
   "execution_count": 2,
   "metadata": {},
   "outputs": [],
   "source": [
    "!mkdir optimize_tmp"
   ]
  },
  {
   "cell_type": "code",
   "execution_count": 4,
   "metadata": {},
   "outputs": [
    {
     "name": "stdout",
     "output_type": "stream",
     "text": [
      "\u001b[01m\u001b[Kanswer.cpp:\u001b[m\u001b[K In constructor ‘\u001b[01m\u001b[KState::State(const Input&)\u001b[m\u001b[K’:\r\n",
      "\u001b[01m\u001b[Kanswer.cpp:393:30:\u001b[m\u001b[K \u001b[01;35m\u001b[Kwarning: \u001b[m\u001b[K‘\u001b[01m\u001b[KState::dfs_path\u001b[m\u001b[K’ will be initialized after [\u001b[01;35m\u001b[K-Wreorder\u001b[m\u001b[K]\r\n",
      "  393 |  Stack<Direction, MAX_DEPTH> \u001b[01;35m\u001b[Kdfs_path\u001b[m\u001b[K;\r\n",
      "      |                              \u001b[01;35m\u001b[K^~~~~~~~\u001b[m\u001b[K\r\n",
      "\u001b[01m\u001b[Kanswer.cpp:391:22:\u001b[m\u001b[K \u001b[01;35m\u001b[Kwarning: \u001b[m\u001b[K  ‘\u001b[01m\u001b[KStack<int, 2500> State::closed\u001b[m\u001b[K’ [\u001b[01;35m\u001b[K-Wreorder\u001b[m\u001b[K]\r\n",
      "  391 |  Stack<int, 50 * 50> \u001b[01;35m\u001b[Kclosed\u001b[m\u001b[K;\r\n",
      "      |                      \u001b[01;35m\u001b[K^~~~~~\u001b[m\u001b[K\r\n",
      "\u001b[01m\u001b[Kanswer.cpp:401:2:\u001b[m\u001b[K \u001b[01;35m\u001b[Kwarning: \u001b[m\u001b[K  when initialized here [\u001b[01;35m\u001b[K-Wreorder\u001b[m\u001b[K]\r\n",
      "  401 |  \u001b[01;35m\u001b[KState\u001b[m\u001b[K(const Input& a_input) : input(a_input), path(), dfs_path(), closed(),\r\n",
      "      |  \u001b[01;35m\u001b[K^~~~~\u001b[m\u001b[K\r\n"
     ]
    }
   ],
   "source": [
    "# 元のファイルのコンパイル\n",
    "!g++ {FILENAME} -std=gnu++17 -Wall -Wextra -O2 -DONLINE_JUDGE -o {FILENAME}.out"
   ]
  },
  {
   "cell_type": "code",
   "execution_count": null,
   "metadata": {
    "scrolled": true
   },
   "outputs": [
    {
     "name": "stdout",
     "output_type": "stream",
     "text": [
      "--2021-04-25 13:07:58--  https://img.atcoder.jp/ahc002/c993bb7f09d9f8857fc90951fc6af11d.zip\n",
      "Resolving img.atcoder.jp (img.atcoder.jp)... 13.249.87.24, 13.249.87.87, 13.249.87.58, ...\n",
      "Connecting to img.atcoder.jp (img.atcoder.jp)|13.249.87.24|:443... connected.\n",
      "HTTP request sent, awaiting response... 200 OK\n",
      "Length: 31143 (30K) [application/zip]\n",
      "Saving to: ‘c993bb7f09d9f8857fc90951fc6af11d.zip’\n",
      "\n",
      "c993bb7f09d9f8857fc 100%[===================>]  30.41K  --.-KB/s    in 0.1s    \n",
      "\n",
      "2021-04-25 13:07:59 (243 KB/s) - ‘c993bb7f09d9f8857fc90951fc6af11d.zip’ saved [31143/31143]\n",
      "\n",
      "Archive:  c993bb7f09d9f8857fc90951fc6af11d.zip\n",
      "   creating: tools/\n",
      "  inflating: tools/Cargo.toml        \n",
      "  inflating: tools/README.html       \n",
      "  inflating: tools/README.md         \n",
      "  inflating: tools/seeds.txt         \n",
      "  inflating: tools/vis.html          \n",
      "  inflating: tools/Cargo.lock        \n",
      "  inflating: tools/out.svg           \n",
      "  inflating: tools/out.txt           \n",
      "   creating: tools/src/\n",
      "  inflating: tools/src/lib.rs        \n",
      "   creating: tools/src/bin/\n",
      "  inflating: tools/src/bin/gen.rs    \n",
      "  inflating: tools/src/bin/vis.rs    \n",
      "\u001b[K\u001b[0m\u001b[0m\u001b[1m\u001b[32m  Downloaded\u001b[0m itertools v0.9.0                                              \n",
      "\u001b[K\u001b[0m\u001b[0m\u001b[1m\u001b[32m  Downloaded\u001b[0m either v1.6.1ing bytes: 510.9 KB                              \n",
      "\u001b[K\u001b[0m\u001b[0m\u001b[1m\u001b[32m  Downloaded\u001b[0m libc v0.2.93ning bytes: 248.8 KB                              \n",
      "\u001b[K\u001b[0m\u001b[0m\u001b[1m\u001b[32m  Downloaded\u001b[0m proconio-derive v0.1.9...                                     \n",
      "\u001b[K\u001b[0m\u001b[0m\u001b[1m\u001b[32m  Downloaded\u001b[0m 4 crates (629.0 KB) in 0.38s                                  \n",
      "\u001b[0m\u001b[0m\u001b[1m\u001b[32m   Compiling\u001b[0m libc v0.2.93\n",
      "\u001b[0m\u001b[0m\u001b[1m\u001b[32m   Compiling\u001b[0m proc-macro2 v0.4.30\n",
      "\u001b[0m\u001b[0m\u001b[1m\u001b[32m   Compiling\u001b[0m getrandom v0.1.16\n",
      "\u001b[0m\u001b[0m\u001b[1m\u001b[32m   Compiling\u001b[0m unicode-xid v0.1.0\n",
      "\u001b[0m\u001b[0m\u001b[1m\u001b[32m   Compiling\u001b[0m cfg-if v1.0.0\n",
      "\u001b[0m\u001b[0m\u001b[1m\u001b[32m   Compiling\u001b[0m syn v0.15.44\n",
      "\u001b[0m\u001b[0m\u001b[1m\u001b[32m   Compiling\u001b[0m ppv-lite86 v0.2.10\n",
      "\u001b[0m\u001b[0m\u001b[1m\u001b[32m   Compiling\u001b[0m lazy_static v1.4.0\n",
      "\u001b[0m\u001b[0m\u001b[1m\u001b[32m   Compiling\u001b[0m either v1.6.1\n",
      "\u001b[0m\u001b[0m\u001b[1m\u001b[32m   Compiling\u001b[0m svg v0.9.1\n",
      "\u001b[K\u001b[0m\u001b[0m\u001b[1m\u001b[32m   Compiling\u001b[0m itertools v0.9.0          ] 3/28: either, syn(build.rs), pr...\n",
      "\u001b[K\u001b[0m\u001b[0m\u001b[1m\u001b[32m   Compiling\u001b[0m quote v0.6.13            ] 13/28: itertools, libc, proc-mac...\n",
      "\u001b[K\u001b[0m\u001b[0m\u001b[1m\u001b[32m   Compiling\u001b[0m rand_core v0.5.1         ] 17/28: getrandom, itertools, syn   \n",
      "\u001b[K\u001b[0m\u001b[0m\u001b[1m\u001b[32m   Compiling\u001b[0m rand_pcg v0.2.1>         ] 19/28: rand_core, syn              \n",
      "\u001b[0m\u001b[0m\u001b[1m\u001b[32m   Compiling\u001b[0m rand_chacha v0.2.2\n",
      "\u001b[K\u001b[0m\u001b[0m\u001b[1m\u001b[32m   Compiling\u001b[0m rand v0.7.3======>       ] 21/28: syn, rand_chacha            \n",
      "\u001b[0m\u001b[0m\u001b[1m\u001b[36m    Building\u001b[0m [=====================>     ] 23/28: syn                         \r"
     ]
    }
   ],
   "source": [
    "# テストケース生成\n",
    "!wget https://img.atcoder.jp/ahc002/c993bb7f09d9f8857fc90951fc6af11d.zip\n",
    "!unzip c993bb7f09d9f8857fc90951fc6af11d.zip\n",
    "\n",
    "SEED = 201\n",
    "N_TESTCASES = 50\n",
    "!seq {SEED} {SEED+N_TESTCASES-1} | cargo run --release --manifest-path ./tools/Cargo.toml --bin gen"
   ]
  },
  {
   "cell_type": "code",
   "execution_count": 4,
   "metadata": {},
   "outputs": [
    {
     "name": "stdout",
     "output_type": "stream",
     "text": [
      "0_answer.cpp\t  answer.cpp.out\r\n",
      "0_answer.cpp.out  ded8fd3366b4ff0b0d7d053f553cdb84.zip\r\n",
      "0_out\t\t  ded8fd3366b4ff0b0d7d053f553cdb84.zip.1\r\n",
      "0_score\t\t  in\r\n",
      "Untitled.ipynb\t  out.svg\r\n",
      "answer.cpp\t  tools\r\n"
     ]
    }
   ],
   "source": [
    "!ls"
   ]
  },
  {
   "cell_type": "code",
   "execution_count": 5,
   "metadata": {
    "scrolled": true
   },
   "outputs": [
    {
     "name": "stdout",
     "output_type": "stream",
     "text": [
      "13 variables were found.\n"
     ]
    },
    {
     "data": {
      "text/html": [
       "<div>\n",
       "<style scoped>\n",
       "    .dataframe tbody tr th:only-of-type {\n",
       "        vertical-align: middle;\n",
       "    }\n",
       "\n",
       "    .dataframe tbody tr th {\n",
       "        vertical-align: top;\n",
       "    }\n",
       "\n",
       "    .dataframe thead th {\n",
       "        text-align: right;\n",
       "    }\n",
       "</style>\n",
       "<table border=\"1\" class=\"dataframe\">\n",
       "  <thead>\n",
       "    <tr style=\"text-align: right;\">\n",
       "      <th></th>\n",
       "      <th>name</th>\n",
       "      <th>method</th>\n",
       "      <th>min</th>\n",
       "      <th>max</th>\n",
       "      <th>log</th>\n",
       "      <th>left</th>\n",
       "      <th>right</th>\n",
       "      <th>choices</th>\n",
       "    </tr>\n",
       "  </thead>\n",
       "  <tbody>\n",
       "    <tr>\n",
       "      <th>0</th>\n",
       "      <td>ANNEALING_A</td>\n",
       "      <td>suggest_float</td>\n",
       "      <td>-1.000000e+01</td>\n",
       "      <td>0.000000e+00</td>\n",
       "      <td>False</td>\n",
       "      <td>constexpr double ANNEALING_A =</td>\n",
       "      <td>;  // OPTIMIZE [-10.0, 0.0]</td>\n",
       "      <td>NaN</td>\n",
       "    </tr>\n",
       "    <tr>\n",
       "      <th>1</th>\n",
       "      <td>ANNEALING_B</td>\n",
       "      <td>suggest_float</td>\n",
       "      <td>0.000000e+00</td>\n",
       "      <td>7.000000e+00</td>\n",
       "      <td>False</td>\n",
       "      <td>constexpr double ANNEALING_B =</td>\n",
       "      <td>;  // OPTIMIZE [0.0, 7.0]</td>\n",
       "      <td>NaN</td>\n",
       "    </tr>\n",
       "    <tr>\n",
       "      <th>2</th>\n",
       "      <td>ANNEALING_END</td>\n",
       "      <td>suggest_float</td>\n",
       "      <td>1.000000e-04</td>\n",
       "      <td>5.000000e-03</td>\n",
       "      <td>True</td>\n",
       "      <td>constexpr double ANNEALING_END =</td>\n",
       "      <td>;  // OPTIMIZE [1e-4, 0.005] LOG</td>\n",
       "      <td>NaN</td>\n",
       "    </tr>\n",
       "    <tr>\n",
       "      <th>3</th>\n",
       "      <td>ANNEALING_START</td>\n",
       "      <td>suggest_float</td>\n",
       "      <td>1.000000e-03</td>\n",
       "      <td>5.000000e-01</td>\n",
       "      <td>True</td>\n",
       "      <td>constexpr double ANNEALING_START =</td>\n",
       "      <td>;  // OPTIMIZE [0.001, 0.5] LOG</td>\n",
       "      <td>NaN</td>\n",
       "    </tr>\n",
       "    <tr>\n",
       "      <th>4</th>\n",
       "      <td>GRADIENT_CLIPPING</td>\n",
       "      <td>suggest_float</td>\n",
       "      <td>1.000000e-07</td>\n",
       "      <td>2.000000e-04</td>\n",
       "      <td>True</td>\n",
       "      <td>constexpr double GRADIENT_CLIPPING =</td>\n",
       "      <td>;  // OPTIMIZE [1e-7, 2e-4] LOG</td>\n",
       "      <td>NaN</td>\n",
       "    </tr>\n",
       "    <tr>\n",
       "      <th>5</th>\n",
       "      <td>GRADIENT_DESCENT_LR</td>\n",
       "      <td>suggest_float</td>\n",
       "      <td>1.000000e+05</td>\n",
       "      <td>5.000000e+07</td>\n",
       "      <td>True</td>\n",
       "      <td>constexpr double GRADIENT_DESCENT_LR =</td>\n",
       "      <td>;  // OPTIMIZE [100000.0, 50000000.0] LOG</td>\n",
       "      <td>NaN</td>\n",
       "    </tr>\n",
       "    <tr>\n",
       "      <th>6</th>\n",
       "      <td>GRADIENT_DESCENT_MOMENTUM</td>\n",
       "      <td>suggest_float</td>\n",
       "      <td>0.000000e+00</td>\n",
       "      <td>1.000000e+00</td>\n",
       "      <td>False</td>\n",
       "      <td>constexpr double GRADIENT_DESCENT_MOMENTUM =</td>\n",
       "      <td>;  // OPTIMIZE [0.0, 1.0]</td>\n",
       "      <td>NaN</td>\n",
       "    </tr>\n",
       "    <tr>\n",
       "      <th>7</th>\n",
       "      <td>GRADIENT_DESCENT_STEPS</td>\n",
       "      <td>suggest_int</td>\n",
       "      <td>1.000000e+00</td>\n",
       "      <td>3.000000e+01</td>\n",
       "      <td>False</td>\n",
       "      <td>constexpr int GRADIENT_DESCENT_STEPS =</td>\n",
       "      <td>;  // OPTIMIZE [1, 30]</td>\n",
       "      <td>NaN</td>\n",
       "    </tr>\n",
       "    <tr>\n",
       "      <th>8</th>\n",
       "      <td>GRADIENT_DESCENT_STEPS_STEPPING_PROGRESS_RATE</td>\n",
       "      <td>suggest_float</td>\n",
       "      <td>0.000000e+00</td>\n",
       "      <td>1.000000e+00</td>\n",
       "      <td>False</td>\n",
       "      <td>constexpr double GRADIENT_DESCENT_STEPS_STEPPI...</td>\n",
       "      <td>;  // OPTIMIZE [0.0, 1.0]</td>\n",
       "      <td>NaN</td>\n",
       "    </tr>\n",
       "    <tr>\n",
       "      <th>9</th>\n",
       "      <td>LINE_LENGTH_LOSS_STEPPING_PROGRESS_RATE</td>\n",
       "      <td>suggest_float</td>\n",
       "      <td>0.000000e+00</td>\n",
       "      <td>1.000000e+00</td>\n",
       "      <td>False</td>\n",
       "      <td>constexpr double LINE_LENGTH_LOSS_STEPPING_PRO...</td>\n",
       "      <td>;  // OPTIMIZE [0.0, 1.0]</td>\n",
       "      <td>NaN</td>\n",
       "    </tr>\n",
       "    <tr>\n",
       "      <th>10</th>\n",
       "      <td>LINE_LENGTH_LOSS_WEIGHT</td>\n",
       "      <td>suggest_float</td>\n",
       "      <td>1.000000e-08</td>\n",
       "      <td>1.000000e-04</td>\n",
       "      <td>True</td>\n",
       "      <td>constexpr double  LINE_LENGTH_LOSS_WEIGHT =</td>\n",
       "      <td>;  // OPTIMIZE [1e-8, 1e-4] LOG</td>\n",
       "      <td>NaN</td>\n",
       "    </tr>\n",
       "    <tr>\n",
       "      <th>11</th>\n",
       "      <td>N_RANDOM_FACE_CHOICE</td>\n",
       "      <td>suggest_int</td>\n",
       "      <td>1.000000e+00</td>\n",
       "      <td>1.000000e+01</td>\n",
       "      <td>False</td>\n",
       "      <td>constexpr int N_RANDOM_FACE_CHOICE =</td>\n",
       "      <td>;  // OPTIMIZE [1, 10]</td>\n",
       "      <td>NaN</td>\n",
       "    </tr>\n",
       "    <tr>\n",
       "      <th>12</th>\n",
       "      <td>hoge</td>\n",
       "      <td>suggest_categorical</td>\n",
       "      <td>NaN</td>\n",
       "      <td>NaN</td>\n",
       "      <td>NaN</td>\n",
       "      <td>std::string hoge=</td>\n",
       "      <td>; //OPTIMIZE{\"11\", \"unnn\" ,\"ooo\"}</td>\n",
       "      <td>[\"11\", \"unnn\", \"ooo\"]</td>\n",
       "    </tr>\n",
       "  </tbody>\n",
       "</table>\n",
       "</div>"
      ],
      "text/plain": [
       "                                             name               method  \\\n",
       "0                                     ANNEALING_A        suggest_float   \n",
       "1                                     ANNEALING_B        suggest_float   \n",
       "2                                   ANNEALING_END        suggest_float   \n",
       "3                                 ANNEALING_START        suggest_float   \n",
       "4                               GRADIENT_CLIPPING        suggest_float   \n",
       "5                             GRADIENT_DESCENT_LR        suggest_float   \n",
       "6                       GRADIENT_DESCENT_MOMENTUM        suggest_float   \n",
       "7                          GRADIENT_DESCENT_STEPS          suggest_int   \n",
       "8   GRADIENT_DESCENT_STEPS_STEPPING_PROGRESS_RATE        suggest_float   \n",
       "9         LINE_LENGTH_LOSS_STEPPING_PROGRESS_RATE        suggest_float   \n",
       "10                        LINE_LENGTH_LOSS_WEIGHT        suggest_float   \n",
       "11                           N_RANDOM_FACE_CHOICE          suggest_int   \n",
       "12                                           hoge  suggest_categorical   \n",
       "\n",
       "             min           max    log  \\\n",
       "0  -1.000000e+01  0.000000e+00  False   \n",
       "1   0.000000e+00  7.000000e+00  False   \n",
       "2   1.000000e-04  5.000000e-03   True   \n",
       "3   1.000000e-03  5.000000e-01   True   \n",
       "4   1.000000e-07  2.000000e-04   True   \n",
       "5   1.000000e+05  5.000000e+07   True   \n",
       "6   0.000000e+00  1.000000e+00  False   \n",
       "7   1.000000e+00  3.000000e+01  False   \n",
       "8   0.000000e+00  1.000000e+00  False   \n",
       "9   0.000000e+00  1.000000e+00  False   \n",
       "10  1.000000e-08  1.000000e-04   True   \n",
       "11  1.000000e+00  1.000000e+01  False   \n",
       "12           NaN           NaN    NaN   \n",
       "\n",
       "                                                 left  \\\n",
       "0                     constexpr double ANNEALING_A =    \n",
       "1                     constexpr double ANNEALING_B =    \n",
       "2                   constexpr double ANNEALING_END =    \n",
       "3                 constexpr double ANNEALING_START =    \n",
       "4               constexpr double GRADIENT_CLIPPING =    \n",
       "5             constexpr double GRADIENT_DESCENT_LR =    \n",
       "6       constexpr double GRADIENT_DESCENT_MOMENTUM =    \n",
       "7             constexpr int GRADIENT_DESCENT_STEPS =    \n",
       "8   constexpr double GRADIENT_DESCENT_STEPS_STEPPI...   \n",
       "9   constexpr double LINE_LENGTH_LOSS_STEPPING_PRO...   \n",
       "10       constexpr double  LINE_LENGTH_LOSS_WEIGHT =    \n",
       "11              constexpr int N_RANDOM_FACE_CHOICE =    \n",
       "12                                  std::string hoge=   \n",
       "\n",
       "                                        right                choices  \n",
       "0                 ;  // OPTIMIZE [-10.0, 0.0]                    NaN  \n",
       "1                   ;  // OPTIMIZE [0.0, 7.0]                    NaN  \n",
       "2            ;  // OPTIMIZE [1e-4, 0.005] LOG                    NaN  \n",
       "3             ;  // OPTIMIZE [0.001, 0.5] LOG                    NaN  \n",
       "4             ;  // OPTIMIZE [1e-7, 2e-4] LOG                    NaN  \n",
       "5   ;  // OPTIMIZE [100000.0, 50000000.0] LOG                    NaN  \n",
       "6                   ;  // OPTIMIZE [0.0, 1.0]                    NaN  \n",
       "7                      ;  // OPTIMIZE [1, 30]                    NaN  \n",
       "8                   ;  // OPTIMIZE [0.0, 1.0]                    NaN  \n",
       "9                   ;  // OPTIMIZE [0.0, 1.0]                    NaN  \n",
       "10            ;  // OPTIMIZE [1e-8, 1e-4] LOG                    NaN  \n",
       "11                     ;  // OPTIMIZE [1, 10]                    NaN  \n",
       "12          ; //OPTIMIZE{\"11\", \"unnn\" ,\"ooo\"}  [\"11\", \"unnn\", \"ooo\"]  "
      ]
     },
     "metadata": {},
     "output_type": "display_data"
    }
   ],
   "source": [
    "# ここでエラー出力は何かおかしいかもしれない\n",
    "\n",
    "\n",
    "# パラメータ抽出\n",
    "with open(FILENAME) as f:\n",
    "    answer = f.read()\n",
    "\n",
    "\n",
    "variables_optimize = []\n",
    "\n",
    "for left, value, right, options in re.findall(r\"^([^/\\n]*=\\s*)(.+?)(\\s*;\\s*//(?:.*\\W)?OPTIMIZE(\\W.*))$\", answer, re.MULTILINE):\n",
    "    name = left.replace(\"=\", \"\").strip().split()[-1]\n",
    "    \n",
    "    searched = re.search(r\".*\\[(?P<min>.*),(?P<max>.*)\\].*\", options)\n",
    "    if searched:\n",
    "        min_value = max_value = None\n",
    "        try:\n",
    "            min_value = eval(searched.group(\"min\"))\n",
    "            max_value = eval(searched.group(\"max\"))\n",
    "            assert min_value <= max_value\n",
    "        except Exception as e:\n",
    "            print(f\"searched={searched}\", file=sys.stderr)\n",
    "            print(e, file=sys.stderr)\n",
    "            continue\n",
    "        log = \"LOG\" in options  # 雑、直したほうが良い\n",
    "        if type(min_value) != type(max_value):\n",
    "            print(f\"searched={searched}\", file=sys.stderr)\n",
    "            print(\"types not matched\", file=sys.stderr)\n",
    "            continue\n",
    "        if isinstance(min_value, int):\n",
    "            method = \"suggest_int\"\n",
    "        elif isinstance(min_value, float):\n",
    "            method = \"suggest_float\"\n",
    "        else:\n",
    "            print(f\"searched={searched}\", file=sys.stderr)\n",
    "            print(f\"unknown type ({type(min_value)})\", file=sys.stderr)\n",
    "            continue\n",
    "        variables_optimize.append({\n",
    "            \"name\": name,\n",
    "            \"method\": method,\n",
    "            \"min\": min_value,\n",
    "            \"max\": max_value,\n",
    "            \"log\": log,\n",
    "            \"left\": left,\n",
    "            \"right\": right,\n",
    "        })\n",
    "    elif searched := re.search(r\".*\\{(?P<choices>.*?)\\}.*\", options):\n",
    "        choices = list(map(lambda x: x.strip(), searched.group(\"choices\").split(\",\")))\n",
    "        variables_optimize.append({\n",
    "            \"name\": name,\n",
    "            \"method\": \"suggest_categorical\",\n",
    "            \"choices\": choices,\n",
    "            \"left\": left,\n",
    "            \"right\": right,\n",
    "        })\n",
    "    else:\n",
    "        print(f\"searched={searched}\", file=sys.stderr)\n",
    "        print(f\"pattern was matched but options are incorrect.\", file=sys.stderr)\n",
    "\n",
    "print(len(variables_optimize), \"variables were found.\")\n",
    "if globals().get(\"pd\"):\n",
    "    display(pd.DataFrame(variables_optimize))\n",
    "else:\n",
    "    pprint(variables_optimize)"
   ]
  },
  {
   "cell_type": "code",
   "execution_count": 12,
   "metadata": {},
   "outputs": [],
   "source": [
    "def escape(string):  # 正規表現の中でそのまま使いたい文字列をエスケープ\n",
    "    res = !echo '{string}' | sed -e 's/[]\\/$*.^[]/\\\\&/g'\n",
    "    return res[0]\n",
    "\n",
    "def escape_sed(string):  # sed の置換後の文字列用のエスケープ\n",
    "    res = !echo '{string}' | sed -e 's/[\\/&]/\\\\&/g'\n",
    "    return res[0]\n",
    "\n",
    "\n",
    "def objective_with_index(trial, n_internal_parallel):\n",
    "    index_parallel = trial.number % 100\n",
    "    print(f\"{index_parallel=}\")\n",
    "    \n",
    "    parameters_changed_filename = f\"{index_parallel}_{FILENAME}\"\n",
    "    directory_input = \"./in\"  # \"/\" をつけない\n",
    "    \n",
    "    !mkdir {index_parallel}_out\n",
    "    !mkdir {index_parallel}_score\n",
    "    !rm {index_parallel}_out/*\n",
    "    !rm {index_parallel}_score/*\n",
    "    \n",
    "    # ファイル作成\n",
    "    !cp {FILENAME} {parameters_changed_filename}\n",
    "    sed_options = [f\"-i {parameters_changed_filename}\"]\n",
    "    for variable in variables_optimize:\n",
    "        if variable[\"method\"] == \"suggest_categorical\":\n",
    "            val =  trial.suggest_categorical(variable[\"name\"], variable[\"choices\"])\n",
    "        else:\n",
    "            val = getattr(trial, variable[\"method\"])(variable[\"name\"], variable[\"min\"], variable[\"max\"])\n",
    "        left = variable[\"left\"]\n",
    "        right = variable[\"right\"]\n",
    "        sed_options.append(f\"\"\"-e 's/^{escape(left)}.*{escape(right)}$/{escape_sed(left)}{val}{escape_sed(right)}/'\"\"\")\n",
    "    command_sed = f\"sed {' '.join(sed_options)}\"\n",
    "    print(command_sed)\n",
    "    !{command_sed}\n",
    "    \n",
    "    # コンパイル\n",
    "    command_compile = f\"g++ {parameters_changed_filename} -std=gnu++17 -O2 -DONLINE_JUDGE -o {parameters_changed_filename}.out\"\n",
    "    print(command_compile)\n",
    "    !{command_compile}\n",
    "    # 実行・採点コマンド (@ はファイル名)\n",
    "    command_exec = (\n",
    "        f\"./{parameters_changed_filename}.out < {directory_input}/@ > ./{index_parallel}_out/@;\"\n",
    "        f\"cargo run --release --manifest-path ./tools/Cargo.toml --bin vis {directory_input}/@ ./{index_parallel}_out/@ 2> /dev/null > ./{index_parallel}_score/@;\"\n",
    "    )\n",
    "    # 並列実行 (sed はパスのディレクトリ部分を消してファイル名にしてる)\n",
    "    !find {directory_input}/* | sed 's!^.*/!!' | xargs -I@ -P {n_internal_parallel} sh -c '{command_exec}'\n",
    "    \n",
    "    # 集計\n",
    "    file_paths = !find ./{index_parallel}_score/*\n",
    "    sum_score = 0\n",
    "    for file_path in file_paths:  \n",
    "        with open(file_path) as f:\n",
    "            sum_score += int(f.read())\n",
    "    return sum_score\n",
    "\n"
   ]
  },
  {
   "cell_type": "code",
   "execution_count": null,
   "metadata": {},
   "outputs": [
    {
     "name": "stderr",
     "output_type": "stream",
     "text": [
      "\u001b[32m[I 2021-04-25 09:16:12,056]\u001b[0m Using an existing study with name 'study' instead of creating a new one.\u001b[0m\n"
     ]
    },
    {
     "name": "stdout",
     "output_type": "stream",
     "text": [
      "index_parallel=16\n",
      "index_parallel=17\n",
      "rm: cannot remove '16_out/*': No such file or directory\n",
      "rm: cannot remove '17_out/*': No such file or directory\n",
      "rm: cannot remove '16_score/*': No such file or directory\n",
      "rm: cannot remove '17_score/*': No such file or directory\n",
      "sed -i 16_answer.cpp -e 's/^constexpr double ANNEALING_A = .*;  \\/\\/ OPTIMIZE \\[-10\\.0, 0\\.0\\]$/constexpr double ANNEALING_A = -4.79631344920557;  \\/\\/ OPTIMIZE [-10.0, 0.0]/' -e 's/^constexpr double ANNEALING_B = .*;  \\/\\/ OPTIMIZE \\[0\\.0, 7\\.0\\]$/constexpr double ANNEALING_B = 2.0471652429177714;  \\/\\/ OPTIMIZE [0.0, 7.0]/' -e 's/^constexpr double ANNEALING_END = .*;  \\/\\/ OPTIMIZE \\[1e-4, 0\\.005\\] LOG$/constexpr double ANNEALING_END = 0.0034692240667774502;  \\/\\/ OPTIMIZE [1e-4, 0.005] LOG/' -e 's/^constexpr double ANNEALING_START = .*;  \\/\\/ OPTIMIZE \\[0\\.001, 0\\.5\\] LOG$/constexpr double ANNEALING_START = 0.3042142468886198;  \\/\\/ OPTIMIZE [0.001, 0.5] LOG/' -e 's/^constexpr double GRADIENT_CLIPPING = .*;  \\/\\/ OPTIMIZE \\[1e-7, 2e-4\\] LOG$/constexpr double GRADIENT_CLIPPING = 0.0001768353456953665;  \\/\\/ OPTIMIZE [1e-7, 2e-4] LOG/' -e 's/^constexpr double GRADIENT_DESCENT_LR = .*;  \\/\\/ OPTIMIZE \\[100000\\.0, 50000000\\.0\\] LOG$/constexpr double GRADIENT_DESCENT_LR = 34768973.06109707;  \\/\\/ OPTIMIZE [100000.0, 50000000.0] LOG/' -e 's/^constexpr double GRADIENT_DESCENT_MOMENTUM = .*;  \\/\\/ OPTIMIZE \\[0\\.0, 1\\.0\\]$/constexpr double GRADIENT_DESCENT_MOMENTUM = 0.41632461215971794;  \\/\\/ OPTIMIZE [0.0, 1.0]/' -e 's/^constexpr int GRADIENT_DESCENT_STEPS = .*;  \\/\\/ OPTIMIZE \\[1, 30\\]$/constexpr int GRADIENT_DESCENT_STEPS = 19;  \\/\\/ OPTIMIZE [1, 30]/' -e 's/^constexpr double GRADIENT_DESCENT_STEPS_STEPPING_PROGRESS_RATE = .*;  \\/\\/ OPTIMIZE \\[0\\.0, 1\\.0\\]$/constexpr double GRADIENT_DESCENT_STEPS_STEPPING_PROGRESS_RATE = 0.7950111655166527;  \\/\\/ OPTIMIZE [0.0, 1.0]/' -e 's/^constexpr double LINE_LENGTH_LOSS_STEPPING_PROGRESS_RATE = .*;  \\/\\/ OPTIMIZE \\[0\\.0, 1\\.0\\]$/constexpr double LINE_LENGTH_LOSS_STEPPING_PROGRESS_RATE = 0.28305797987780573;  \\/\\/ OPTIMIZE [0.0, 1.0]/' -e 's/^constexpr double  LINE_LENGTH_LOSS_WEIGHT = .*;  \\/\\/ OPTIMIZE \\[1e-8, 1e-4\\] LOG$/constexpr double  LINE_LENGTH_LOSS_WEIGHT = 6.021760710918684e-07;  \\/\\/ OPTIMIZE [1e-8, 1e-4] LOG/' -e 's/^constexpr int N_RANDOM_FACE_CHOICE = .*;  \\/\\/ OPTIMIZE \\[1, 10\\]$/constexpr int N_RANDOM_FACE_CHOICE = 7;  \\/\\/ OPTIMIZE [1, 10]/' -e 's/^std::string hoge=.*; \\/\\/OPTIMIZE{\"11\", \"unnn\" ,\"ooo\"}$/std::string hoge=\"unnn\"; \\/\\/OPTIMIZE{\"11\", \"unnn\" ,\"ooo\"}/'\n",
      "sed -i 17_answer.cpp -e 's/^constexpr double ANNEALING_A = .*;  \\/\\/ OPTIMIZE \\[-10\\.0, 0\\.0\\]$/constexpr double ANNEALING_A = -4.4473510681802555;  \\/\\/ OPTIMIZE [-10.0, 0.0]/' -e 's/^constexpr double ANNEALING_B = .*;  \\/\\/ OPTIMIZE \\[0\\.0, 7\\.0\\]$/constexpr double ANNEALING_B = 2.279907945036374;  \\/\\/ OPTIMIZE [0.0, 7.0]/' -e 's/^constexpr double ANNEALING_END = .*;  \\/\\/ OPTIMIZE \\[1e-4, 0\\.005\\] LOG$/constexpr double ANNEALING_END = 0.004872754054543668;  \\/\\/ OPTIMIZE [1e-4, 0.005] LOG/' -e 's/^constexpr double ANNEALING_START = .*;  \\/\\/ OPTIMIZE \\[0\\.001, 0\\.5\\] LOG$/constexpr double ANNEALING_START = 0.29089273345425276;  \\/\\/ OPTIMIZE [0.001, 0.5] LOG/' -e 's/^constexpr double GRADIENT_CLIPPING = .*;  \\/\\/ OPTIMIZE \\[1e-7, 2e-4\\] LOG$/constexpr double GRADIENT_CLIPPING = 0.00017732555083951556;  \\/\\/ OPTIMIZE [1e-7, 2e-4] LOG/' -e 's/^constexpr double GRADIENT_DESCENT_LR = .*;  \\/\\/ OPTIMIZE \\[100000\\.0, 50000000\\.0\\] LOG$/constexpr double GRADIENT_DESCENT_LR = 34250944.198658526;  \\/\\/ OPTIMIZE [100000.0, 50000000.0] LOG/' -e 's/^constexpr double GRADIENT_DESCENT_MOMENTUM = .*;  \\/\\/ OPTIMIZE \\[0\\.0, 1\\.0\\]$/constexpr double GRADIENT_DESCENT_MOMENTUM = 0.41285146637702963;  \\/\\/ OPTIMIZE [0.0, 1.0]/' -e 's/^constexpr int GRADIENT_DESCENT_STEPS = .*;  \\/\\/ OPTIMIZE \\[1, 30\\]$/constexpr int GRADIENT_DESCENT_STEPS = 19;  \\/\\/ OPTIMIZE [1, 30]/' -e 's/^constexpr double GRADIENT_DESCENT_STEPS_STEPPING_PROGRESS_RATE = .*;  \\/\\/ OPTIMIZE \\[0\\.0, 1\\.0\\]$/constexpr double GRADIENT_DESCENT_STEPS_STEPPING_PROGRESS_RATE = 0.8277648946897849;  \\/\\/ OPTIMIZE [0.0, 1.0]/' -e 's/^constexpr double LINE_LENGTH_LOSS_STEPPING_PROGRESS_RATE = .*;  \\/\\/ OPTIMIZE \\[0\\.0, 1\\.0\\]$/constexpr double LINE_LENGTH_LOSS_STEPPING_PROGRESS_RATE = 0.31199455899452183;  \\/\\/ OPTIMIZE [0.0, 1.0]/' -e 's/^constexpr double  LINE_LENGTH_LOSS_WEIGHT = .*;  \\/\\/ OPTIMIZE \\[1e-8, 1e-4\\] LOG$/constexpr double  LINE_LENGTH_LOSS_WEIGHT = 1.3820775735889815e-05;  \\/\\/ OPTIMIZE [1e-8, 1e-4] LOG/' -e 's/^constexpr int N_RANDOM_FACE_CHOICE = .*;  \\/\\/ OPTIMIZE \\[1, 10\\]$/constexpr int N_RANDOM_FACE_CHOICE = 7;  \\/\\/ OPTIMIZE [1, 10]/' -e 's/^std::string hoge=.*; \\/\\/OPTIMIZE{\"11\", \"unnn\" ,\"ooo\"}$/std::string hoge=\"unnn\"; \\/\\/OPTIMIZE{\"11\", \"unnn\" ,\"ooo\"}/'\n",
      "g++ 16_answer.cpp -std=gnu++17 -O2 -DONLINE_JUDGE -o 16_answer.cpp.out\n",
      "g++ 17_answer.cpp -std=gnu++17 -O2 -DONLINE_JUDGE -o 17_answer.cpp.out\n"
     ]
    },
    {
     "name": "stderr",
     "output_type": "stream",
     "text": [
      "\u001b[32m[I 2021-04-25 09:17:29,603]\u001b[0m Trial 16 finished with value: 48371587308.0 and parameters: {'ANNEALING_A': -4.79631344920557, 'ANNEALING_B': 2.0471652429177714, 'ANNEALING_END': 0.0034692240667774502, 'ANNEALING_START': 0.3042142468886198, 'GRADIENT_CLIPPING': 0.0001768353456953665, 'GRADIENT_DESCENT_LR': 34768973.06109707, 'GRADIENT_DESCENT_MOMENTUM': 0.41632461215971794, 'GRADIENT_DESCENT_STEPS': 19, 'GRADIENT_DESCENT_STEPS_STEPPING_PROGRESS_RATE': 0.7950111655166527, 'LINE_LENGTH_LOSS_STEPPING_PROGRESS_RATE': 0.28305797987780573, 'LINE_LENGTH_LOSS_WEIGHT': 6.021760710918684e-07, 'N_RANDOM_FACE_CHOICE': 7, 'hoge': '\"unnn\"'}. Best is trial 11 with value: 48621734068.0.\u001b[0m\n"
     ]
    },
    {
     "name": "stdout",
     "output_type": "stream",
     "text": [
      "callback ok\n",
      "index_parallel=18\n"
     ]
    },
    {
     "name": "stderr",
     "output_type": "stream",
     "text": [
      "\u001b[32m[I 2021-04-25 09:17:29,686]\u001b[0m Trial 17 finished with value: 48433881048.0 and parameters: {'ANNEALING_A': -4.4473510681802555, 'ANNEALING_B': 2.279907945036374, 'ANNEALING_END': 0.004872754054543668, 'ANNEALING_START': 0.29089273345425276, 'GRADIENT_CLIPPING': 0.00017732555083951556, 'GRADIENT_DESCENT_LR': 34250944.198658526, 'GRADIENT_DESCENT_MOMENTUM': 0.41285146637702963, 'GRADIENT_DESCENT_STEPS': 19, 'GRADIENT_DESCENT_STEPS_STEPPING_PROGRESS_RATE': 0.8277648946897849, 'LINE_LENGTH_LOSS_STEPPING_PROGRESS_RATE': 0.31199455899452183, 'LINE_LENGTH_LOSS_WEIGHT': 1.3820775735889815e-05, 'N_RANDOM_FACE_CHOICE': 7, 'hoge': '\"unnn\"'}. Best is trial 11 with value: 48621734068.0.\u001b[0m\n"
     ]
    },
    {
     "name": "stdout",
     "output_type": "stream",
     "text": [
      "callback ok\n",
      "index_parallel=19\n",
      "rm: cannot remove '18_out/*': No such file or directory\n",
      "rm: cannot remove '19_out/*': No such file or directory\n",
      "rm: cannot remove '18_score/*': No such file or directory\n",
      "rm: cannot remove '19_score/*': No such file or directory\n",
      "sed -i 18_answer.cpp -e 's/^constexpr double ANNEALING_A = .*;  \\/\\/ OPTIMIZE \\[-10\\.0, 0\\.0\\]$/constexpr double ANNEALING_A = -8.041102209554698;  \\/\\/ OPTIMIZE [-10.0, 0.0]/' -e 's/^constexpr double ANNEALING_B = .*;  \\/\\/ OPTIMIZE \\[0\\.0, 7\\.0\\]$/constexpr double ANNEALING_B = 0.8307714454246883;  \\/\\/ OPTIMIZE [0.0, 7.0]/' -e 's/^constexpr double ANNEALING_END = .*;  \\/\\/ OPTIMIZE \\[1e-4, 0\\.005\\] LOG$/constexpr double ANNEALING_END = 0.004422708728794747;  \\/\\/ OPTIMIZE [1e-4, 0.005] LOG/' -e 's/^constexpr double ANNEALING_START = .*;  \\/\\/ OPTIMIZE \\[0\\.001, 0\\.5\\] LOG$/constexpr double ANNEALING_START = 0.44055325798037936;  \\/\\/ OPTIMIZE [0.001, 0.5] LOG/' -e 's/^constexpr double GRADIENT_CLIPPING = .*;  \\/\\/ OPTIMIZE \\[1e-7, 2e-4\\] LOG$/constexpr double GRADIENT_CLIPPING = 0.0001327269016325855;  \\/\\/ OPTIMIZE [1e-7, 2e-4] LOG/' -e 's/^constexpr double GRADIENT_DESCENT_LR = .*;  \\/\\/ OPTIMIZE \\[100000\\.0, 50000000\\.0\\] LOG$/constexpr double GRADIENT_DESCENT_LR = 16904495.516505945;  \\/\\/ OPTIMIZE [100000.0, 50000000.0] LOG/' -e 's/^constexpr double GRADIENT_DESCENT_MOMENTUM = .*;  \\/\\/ OPTIMIZE \\[0\\.0, 1\\.0\\]$/constexpr double GRADIENT_DESCENT_MOMENTUM = 0.0282742258364283;  \\/\\/ OPTIMIZE [0.0, 1.0]/' -e 's/^constexpr int GRADIENT_DESCENT_STEPS = .*;  \\/\\/ OPTIMIZE \\[1, 30\\]$/constexpr int GRADIENT_DESCENT_STEPS = 26;  \\/\\/ OPTIMIZE [1, 30]/' -e 's/^constexpr double GRADIENT_DESCENT_STEPS_STEPPING_PROGRESS_RATE = .*;  \\/\\/ OPTIMIZE \\[0\\.0, 1\\.0\\]$/constexpr double GRADIENT_DESCENT_STEPS_STEPPING_PROGRESS_RATE = 0.20160718550369328;  \\/\\/ OPTIMIZE [0.0, 1.0]/' -e 's/^constexpr double LINE_LENGTH_LOSS_STEPPING_PROGRESS_RATE = .*;  \\/\\/ OPTIMIZE \\[0\\.0, 1\\.0\\]$/constexpr double LINE_LENGTH_LOSS_STEPPING_PROGRESS_RATE = 0.10762325389602502;  \\/\\/ OPTIMIZE [0.0, 1.0]/' -e 's/^constexpr double  LINE_LENGTH_LOSS_WEIGHT = .*;  \\/\\/ OPTIMIZE \\[1e-8, 1e-4\\] LOG$/constexpr double  LINE_LENGTH_LOSS_WEIGHT = 3.070810651765999e-05;  \\/\\/ OPTIMIZE [1e-8, 1e-4] LOG/' -e 's/^constexpr int N_RANDOM_FACE_CHOICE = .*;  \\/\\/ OPTIMIZE \\[1, 10\\]$/constexpr int N_RANDOM_FACE_CHOICE = 9;  \\/\\/ OPTIMIZE [1, 10]/' -e 's/^std::string hoge=.*; \\/\\/OPTIMIZE{\"11\", \"unnn\" ,\"ooo\"}$/std::string hoge=\"ooo\"; \\/\\/OPTIMIZE{\"11\", \"unnn\" ,\"ooo\"}/'\n",
      "sed -i 19_answer.cpp -e 's/^constexpr double ANNEALING_A = .*;  \\/\\/ OPTIMIZE \\[-10\\.0, 0\\.0\\]$/constexpr double ANNEALING_A = -8.242955808618149;  \\/\\/ OPTIMIZE [-10.0, 0.0]/' -e 's/^constexpr double ANNEALING_B = .*;  \\/\\/ OPTIMIZE \\[0\\.0, 7\\.0\\]$/constexpr double ANNEALING_B = 0.7884185257141088;  \\/\\/ OPTIMIZE [0.0, 7.0]/' -e 's/^constexpr double ANNEALING_END = .*;  \\/\\/ OPTIMIZE \\[1e-4, 0\\.005\\] LOG$/constexpr double ANNEALING_END = 0.004407799261506164;  \\/\\/ OPTIMIZE [1e-4, 0.005] LOG/' -e 's/^constexpr double ANNEALING_START = .*;  \\/\\/ OPTIMIZE \\[0\\.001, 0\\.5\\] LOG$/constexpr double ANNEALING_START = 0.44848266884895066;  \\/\\/ OPTIMIZE [0.001, 0.5] LOG/' -e 's/^constexpr double GRADIENT_CLIPPING = .*;  \\/\\/ OPTIMIZE \\[1e-7, 2e-4\\] LOG$/constexpr double GRADIENT_CLIPPING = 7.856117802146753e-05;  \\/\\/ OPTIMIZE [1e-7, 2e-4] LOG/' -e 's/^constexpr double GRADIENT_DESCENT_LR = .*;  \\/\\/ OPTIMIZE \\[100000\\.0, 50000000\\.0\\] LOG$/constexpr double GRADIENT_DESCENT_LR = 16588577.978058312;  \\/\\/ OPTIMIZE [100000.0, 50000000.0] LOG/' -e 's/^constexpr double GRADIENT_DESCENT_MOMENTUM = .*;  \\/\\/ OPTIMIZE \\[0\\.0, 1\\.0\\]$/constexpr double GRADIENT_DESCENT_MOMENTUM = 0.6390284849621104;  \\/\\/ OPTIMIZE [0.0, 1.0]/' -e 's/^constexpr int GRADIENT_DESCENT_STEPS = .*;  \\/\\/ OPTIMIZE \\[1, 30\\]$/constexpr int GRADIENT_DESCENT_STEPS = 27;  \\/\\/ OPTIMIZE [1, 30]/' -e 's/^constexpr double GRADIENT_DESCENT_STEPS_STEPPING_PROGRESS_RATE = .*;  \\/\\/ OPTIMIZE \\[0\\.0, 1\\.0\\]$/constexpr double GRADIENT_DESCENT_STEPS_STEPPING_PROGRESS_RATE = 0.24615153707919732;  \\/\\/ OPTIMIZE [0.0, 1.0]/' -e 's/^constexpr double LINE_LENGTH_LOSS_STEPPING_PROGRESS_RATE = .*;  \\/\\/ OPTIMIZE \\[0\\.0, 1\\.0\\]$/constexpr double LINE_LENGTH_LOSS_STEPPING_PROGRESS_RATE = 0.09047877182476624;  \\/\\/ OPTIMIZE [0.0, 1.0]/' -e 's/^constexpr double  LINE_LENGTH_LOSS_WEIGHT = .*;  \\/\\/ OPTIMIZE \\[1e-8, 1e-4\\] LOG$/constexpr double  LINE_LENGTH_LOSS_WEIGHT = 3.221530499195323e-05;  \\/\\/ OPTIMIZE [1e-8, 1e-4] LOG/' -e 's/^constexpr int N_RANDOM_FACE_CHOICE = .*;  \\/\\/ OPTIMIZE \\[1, 10\\]$/constexpr int N_RANDOM_FACE_CHOICE = 9;  \\/\\/ OPTIMIZE [1, 10]/' -e 's/^std::string hoge=.*; \\/\\/OPTIMIZE{\"11\", \"unnn\" ,\"ooo\"}$/std::string hoge=\"ooo\"; \\/\\/OPTIMIZE{\"11\", \"unnn\" ,\"ooo\"}/'\n",
      "g++ 18_answer.cpp -std=gnu++17 -O2 -DONLINE_JUDGE -o 18_answer.cpp.out\n",
      "g++ 19_answer.cpp -std=gnu++17 -O2 -DONLINE_JUDGE -o 19_answer.cpp.out\n"
     ]
    },
    {
     "name": "stderr",
     "output_type": "stream",
     "text": [
      "\u001b[32m[I 2021-04-25 09:18:46,926]\u001b[0m Trial 18 finished with value: 48415988748.0 and parameters: {'ANNEALING_A': -8.041102209554698, 'ANNEALING_B': 0.8307714454246883, 'ANNEALING_END': 0.004422708728794747, 'ANNEALING_START': 0.44055325798037936, 'GRADIENT_CLIPPING': 0.0001327269016325855, 'GRADIENT_DESCENT_LR': 16904495.516505945, 'GRADIENT_DESCENT_MOMENTUM': 0.0282742258364283, 'GRADIENT_DESCENT_STEPS': 26, 'GRADIENT_DESCENT_STEPS_STEPPING_PROGRESS_RATE': 0.20160718550369328, 'LINE_LENGTH_LOSS_STEPPING_PROGRESS_RATE': 0.10762325389602502, 'LINE_LENGTH_LOSS_WEIGHT': 3.070810651765999e-05, 'N_RANDOM_FACE_CHOICE': 9, 'hoge': '\"ooo\"'}. Best is trial 11 with value: 48621734068.0.\u001b[0m\n"
     ]
    },
    {
     "name": "stdout",
     "output_type": "stream",
     "text": [
      "callback ok\n",
      "index_parallel=20\n"
     ]
    },
    {
     "name": "stderr",
     "output_type": "stream",
     "text": [
      "\u001b[32m[I 2021-04-25 09:18:47,001]\u001b[0m Trial 19 finished with value: 48366611355.0 and parameters: {'ANNEALING_A': -8.242955808618149, 'ANNEALING_B': 0.7884185257141088, 'ANNEALING_END': 0.004407799261506164, 'ANNEALING_START': 0.44848266884895066, 'GRADIENT_CLIPPING': 7.856117802146753e-05, 'GRADIENT_DESCENT_LR': 16588577.978058312, 'GRADIENT_DESCENT_MOMENTUM': 0.6390284849621104, 'GRADIENT_DESCENT_STEPS': 27, 'GRADIENT_DESCENT_STEPS_STEPPING_PROGRESS_RATE': 0.24615153707919732, 'LINE_LENGTH_LOSS_STEPPING_PROGRESS_RATE': 0.09047877182476624, 'LINE_LENGTH_LOSS_WEIGHT': 3.221530499195323e-05, 'N_RANDOM_FACE_CHOICE': 9, 'hoge': '\"ooo\"'}. Best is trial 11 with value: 48621734068.0.\u001b[0m\n"
     ]
    },
    {
     "name": "stdout",
     "output_type": "stream",
     "text": [
      "callback ok\n",
      "index_parallel=21\n",
      "rm: cannot remove '20_out/*': No such file or directory\n",
      "rm: cannot remove '21_out/*': No such file or directory\n",
      "rm: cannot remove '20_score/*': No such file or directory\n",
      "rm: cannot remove '21_score/*': No such file or directory\n",
      "sed -i 20_answer.cpp -e 's/^constexpr double ANNEALING_A = .*;  \\/\\/ OPTIMIZE \\[-10\\.0, 0\\.0\\]$/constexpr double ANNEALING_A = -9.354232844572476;  \\/\\/ OPTIMIZE [-10.0, 0.0]/' -e 's/^constexpr double ANNEALING_B = .*;  \\/\\/ OPTIMIZE \\[0\\.0, 7\\.0\\]$/constexpr double ANNEALING_B = 3.457467537882024;  \\/\\/ OPTIMIZE [0.0, 7.0]/' -e 's/^constexpr double ANNEALING_END = .*;  \\/\\/ OPTIMIZE \\[1e-4, 0\\.005\\] LOG$/constexpr double ANNEALING_END = 0.003240840661723399;  \\/\\/ OPTIMIZE [1e-4, 0.005] LOG/' -e 's/^constexpr double ANNEALING_START = .*;  \\/\\/ OPTIMIZE \\[0\\.001, 0\\.5\\] LOG$/constexpr double ANNEALING_START = 0.3696274741881939;  \\/\\/ OPTIMIZE [0.001, 0.5] LOG/' -e 's/^constexpr double GRADIENT_CLIPPING = .*;  \\/\\/ OPTIMIZE \\[1e-7, 2e-4\\] LOG$/constexpr double GRADIENT_CLIPPING = 0.0001985271054875342;  \\/\\/ OPTIMIZE [1e-7, 2e-4] LOG/' -e 's/^constexpr double GRADIENT_DESCENT_LR = .*;  \\/\\/ OPTIMIZE \\[100000\\.0, 50000000\\.0\\] LOG$/constexpr double GRADIENT_DESCENT_LR = 5963043.679082144;  \\/\\/ OPTIMIZE [100000.0, 50000000.0] LOG/' -e 's/^constexpr double GRADIENT_DESCENT_MOMENTUM = .*;  \\/\\/ OPTIMIZE \\[0\\.0, 1\\.0\\]$/constexpr double GRADIENT_DESCENT_MOMENTUM = 0.3126084619636321;  \\/\\/ OPTIMIZE [0.0, 1.0]/' -e 's/^constexpr int GRADIENT_DESCENT_STEPS = .*;  \\/\\/ OPTIMIZE \\[1, 30\\]$/constexpr int GRADIENT_DESCENT_STEPS = 8;  \\/\\/ OPTIMIZE [1, 30]/' -e 's/^constexpr double GRADIENT_DESCENT_STEPS_STEPPING_PROGRESS_RATE = .*;  \\/\\/ OPTIMIZE \\[0\\.0, 1\\.0\\]$/constexpr double GRADIENT_DESCENT_STEPS_STEPPING_PROGRESS_RATE = 0.5565540030428046;  \\/\\/ OPTIMIZE [0.0, 1.0]/' -e 's/^constexpr double LINE_LENGTH_LOSS_STEPPING_PROGRESS_RATE = .*;  \\/\\/ OPTIMIZE \\[0\\.0, 1\\.0\\]$/constexpr double LINE_LENGTH_LOSS_STEPPING_PROGRESS_RATE = 0.34600804528795004;  \\/\\/ OPTIMIZE [0.0, 1.0]/' -e 's/^constexpr double  LINE_LENGTH_LOSS_WEIGHT = .*;  \\/\\/ OPTIMIZE \\[1e-8, 1e-4\\] LOG$/constexpr double  LINE_LENGTH_LOSS_WEIGHT = 5.685566249356362e-05;  \\/\\/ OPTIMIZE [1e-8, 1e-4] LOG/' -e 's/^constexpr int N_RANDOM_FACE_CHOICE = .*;  \\/\\/ OPTIMIZE \\[1, 10\\]$/constexpr int N_RANDOM_FACE_CHOICE = 4;  \\/\\/ OPTIMIZE [1, 10]/' -e 's/^std::string hoge=.*; \\/\\/OPTIMIZE{\"11\", \"unnn\" ,\"ooo\"}$/std::string hoge=\"11\"; \\/\\/OPTIMIZE{\"11\", \"unnn\" ,\"ooo\"}/'\n",
      "sed -i 21_answer.cpp -e 's/^constexpr double ANNEALING_A = .*;  \\/\\/ OPTIMIZE \\[-10\\.0, 0\\.0\\]$/constexpr double ANNEALING_A = -9.216877669301464;  \\/\\/ OPTIMIZE [-10.0, 0.0]/' -e 's/^constexpr double ANNEALING_B = .*;  \\/\\/ OPTIMIZE \\[0\\.0, 7\\.0\\]$/constexpr double ANNEALING_B = 3.475316263132769;  \\/\\/ OPTIMIZE [0.0, 7.0]/' -e 's/^constexpr double ANNEALING_END = .*;  \\/\\/ OPTIMIZE \\[1e-4, 0\\.005\\] LOG$/constexpr double ANNEALING_END = 0.003303218136858921;  \\/\\/ OPTIMIZE [1e-4, 0.005] LOG/' -e 's/^constexpr double ANNEALING_START = .*;  \\/\\/ OPTIMIZE \\[0\\.001, 0\\.5\\] LOG$/constexpr double ANNEALING_START = 0.36734477223430323;  \\/\\/ OPTIMIZE [0.001, 0.5] LOG/' -e 's/^constexpr double GRADIENT_CLIPPING = .*;  \\/\\/ OPTIMIZE \\[1e-7, 2e-4\\] LOG$/constexpr double GRADIENT_CLIPPING = 0.0001971476424350642;  \\/\\/ OPTIMIZE [1e-7, 2e-4] LOG/' -e 's/^constexpr double GRADIENT_DESCENT_LR = .*;  \\/\\/ OPTIMIZE \\[100000\\.0, 50000000\\.0\\] LOG$/constexpr double GRADIENT_DESCENT_LR = 6161368.33969302;  \\/\\/ OPTIMIZE [100000.0, 50000000.0] LOG/' -e 's/^constexpr double GRADIENT_DESCENT_MOMENTUM = .*;  \\/\\/ OPTIMIZE \\[0\\.0, 1\\.0\\]$/constexpr double GRADIENT_DESCENT_MOMENTUM = 0.32330259158939156;  \\/\\/ OPTIMIZE [0.0, 1.0]/' -e 's/^constexpr int GRADIENT_DESCENT_STEPS = .*;  \\/\\/ OPTIMIZE \\[1, 30\\]$/constexpr int GRADIENT_DESCENT_STEPS = 9;  \\/\\/ OPTIMIZE [1, 30]/' -e 's/^constexpr double GRADIENT_DESCENT_STEPS_STEPPING_PROGRESS_RATE = .*;  \\/\\/ OPTIMIZE \\[0\\.0, 1\\.0\\]$/constexpr double GRADIENT_DESCENT_STEPS_STEPPING_PROGRESS_RATE = 0.4962653677277464;  \\/\\/ OPTIMIZE [0.0, 1.0]/' -e 's/^constexpr double LINE_LENGTH_LOSS_STEPPING_PROGRESS_RATE = .*;  \\/\\/ OPTIMIZE \\[0\\.0, 1\\.0\\]$/constexpr double LINE_LENGTH_LOSS_STEPPING_PROGRESS_RATE = 0.39491800773055563;  \\/\\/ OPTIMIZE [0.0, 1.0]/' -e 's/^constexpr double  LINE_LENGTH_LOSS_WEIGHT = .*;  \\/\\/ OPTIMIZE \\[1e-8, 1e-4\\] LOG$/constexpr double  LINE_LENGTH_LOSS_WEIGHT = 6.335582240577661e-05;  \\/\\/ OPTIMIZE [1e-8, 1e-4] LOG/' -e 's/^constexpr int N_RANDOM_FACE_CHOICE = .*;  \\/\\/ OPTIMIZE \\[1, 10\\]$/constexpr int N_RANDOM_FACE_CHOICE = 4;  \\/\\/ OPTIMIZE [1, 10]/' -e 's/^std::string hoge=.*; \\/\\/OPTIMIZE{\"11\", \"unnn\" ,\"ooo\"}$/std::string hoge=\"11\"; \\/\\/OPTIMIZE{\"11\", \"unnn\" ,\"ooo\"}/'\n",
      "g++ 20_answer.cpp -std=gnu++17 -O2 -DONLINE_JUDGE -o 20_answer.cpp.out\n",
      "g++ 21_answer.cpp -std=gnu++17 -O2 -DONLINE_JUDGE -o 21_answer.cpp.out\n"
     ]
    },
    {
     "name": "stderr",
     "output_type": "stream",
     "text": [
      "\u001b[32m[I 2021-04-25 09:20:04,357]\u001b[0m Trial 20 finished with value: 48627282805.0 and parameters: {'ANNEALING_A': -9.354232844572476, 'ANNEALING_B': 3.457467537882024, 'ANNEALING_END': 0.003240840661723399, 'ANNEALING_START': 0.3696274741881939, 'GRADIENT_CLIPPING': 0.0001985271054875342, 'GRADIENT_DESCENT_LR': 5963043.679082144, 'GRADIENT_DESCENT_MOMENTUM': 0.3126084619636321, 'GRADIENT_DESCENT_STEPS': 8, 'GRADIENT_DESCENT_STEPS_STEPPING_PROGRESS_RATE': 0.5565540030428046, 'LINE_LENGTH_LOSS_STEPPING_PROGRESS_RATE': 0.34600804528795004, 'LINE_LENGTH_LOSS_WEIGHT': 5.685566249356362e-05, 'N_RANDOM_FACE_CHOICE': 4, 'hoge': '\"11\"'}. Best is trial 20 with value: 48627282805.0.\u001b[0m\n"
     ]
    },
    {
     "name": "stdout",
     "output_type": "stream",
     "text": [
      "Updated! 48627282805.0 -> 48627282805.0\n"
     ]
    },
    {
     "name": "stderr",
     "output_type": "stream",
     "text": [
      "\u001b[32m[I 2021-04-25 09:20:04,420]\u001b[0m Trial 21 finished with value: 48604431493.0 and parameters: {'ANNEALING_A': -9.216877669301464, 'ANNEALING_B': 3.475316263132769, 'ANNEALING_END': 0.003303218136858921, 'ANNEALING_START': 0.36734477223430323, 'GRADIENT_CLIPPING': 0.0001971476424350642, 'GRADIENT_DESCENT_LR': 6161368.33969302, 'GRADIENT_DESCENT_MOMENTUM': 0.32330259158939156, 'GRADIENT_DESCENT_STEPS': 9, 'GRADIENT_DESCENT_STEPS_STEPPING_PROGRESS_RATE': 0.4962653677277464, 'LINE_LENGTH_LOSS_STEPPING_PROGRESS_RATE': 0.39491800773055563, 'LINE_LENGTH_LOSS_WEIGHT': 6.335582240577661e-05, 'N_RANDOM_FACE_CHOICE': 4, 'hoge': '\"11\"'}. Best is trial 20 with value: 48627282805.0.\u001b[0m\n"
     ]
    },
    {
     "name": "stdout",
     "output_type": "stream",
     "text": [
      "callback ok\n",
      "index_parallel=22\n",
      "callback ok\n",
      "index_parallel=23\n",
      "rm: cannot remove '22_out/*': No such file or directory\n",
      "rm: cannot remove '23_out/*': No such file or directory\n",
      "rm: cannot remove '22_score/*': No such file or directory\n",
      "rm: cannot remove '23_score/*': No such file or directory\n",
      "sed -i 22_answer.cpp -e 's/^constexpr double ANNEALING_A = .*;  \\/\\/ OPTIMIZE \\[-10\\.0, 0\\.0\\]$/constexpr double ANNEALING_A = -9.31848351660546;  \\/\\/ OPTIMIZE [-10.0, 0.0]/' -e 's/^constexpr double ANNEALING_B = .*;  \\/\\/ OPTIMIZE \\[0\\.0, 7\\.0\\]$/constexpr double ANNEALING_B = 3.5992004337591204;  \\/\\/ OPTIMIZE [0.0, 7.0]/' -e 's/^constexpr double ANNEALING_END = .*;  \\/\\/ OPTIMIZE \\[1e-4, 0\\.005\\] LOG$/constexpr double ANNEALING_END = 0.0026926270903880702;  \\/\\/ OPTIMIZE [1e-4, 0.005] LOG/' -e 's/^constexpr double ANNEALING_START = .*;  \\/\\/ OPTIMIZE \\[0\\.001, 0\\.5\\] LOG$/constexpr double ANNEALING_START = 0.34773527746499544;  \\/\\/ OPTIMIZE [0.001, 0.5] LOG/' -e 's/^constexpr double GRADIENT_CLIPPING = .*;  \\/\\/ OPTIMIZE \\[1e-7, 2e-4\\] LOG$/constexpr double GRADIENT_CLIPPING = 0.0001537652997501314;  \\/\\/ OPTIMIZE [1e-7, 2e-4] LOG/' -e 's/^constexpr double GRADIENT_DESCENT_LR = .*;  \\/\\/ OPTIMIZE \\[100000\\.0, 50000000\\.0\\] LOG$/constexpr double GRADIENT_DESCENT_LR = 5250616.641533032;  \\/\\/ OPTIMIZE [100000.0, 50000000.0] LOG/' -e 's/^constexpr double GRADIENT_DESCENT_MOMENTUM = .*;  \\/\\/ OPTIMIZE \\[0\\.0, 1\\.0\\]$/constexpr double GRADIENT_DESCENT_MOMENTUM = 0.3502215730647997;  \\/\\/ OPTIMIZE [0.0, 1.0]/' -e 's/^constexpr int GRADIENT_DESCENT_STEPS = .*;  \\/\\/ OPTIMIZE \\[1, 30\\]$/constexpr int GRADIENT_DESCENT_STEPS = 6;  \\/\\/ OPTIMIZE [1, 30]/' -e 's/^constexpr double GRADIENT_DESCENT_STEPS_STEPPING_PROGRESS_RATE = .*;  \\/\\/ OPTIMIZE \\[0\\.0, 1\\.0\\]$/constexpr double GRADIENT_DESCENT_STEPS_STEPPING_PROGRESS_RATE = 0.5481822064875846;  \\/\\/ OPTIMIZE [0.0, 1.0]/' -e 's/^constexpr double LINE_LENGTH_LOSS_STEPPING_PROGRESS_RATE = .*;  \\/\\/ OPTIMIZE \\[0\\.0, 1\\.0\\]$/constexpr double LINE_LENGTH_LOSS_STEPPING_PROGRESS_RATE = 0.35161880156067327;  \\/\\/ OPTIMIZE [0.0, 1.0]/' -e 's/^constexpr double  LINE_LENGTH_LOSS_WEIGHT = .*;  \\/\\/ OPTIMIZE \\[1e-8, 1e-4\\] LOG$/constexpr double  LINE_LENGTH_LOSS_WEIGHT = 5.912125014018021e-05;  \\/\\/ OPTIMIZE [1e-8, 1e-4] LOG/' -e 's/^constexpr int N_RANDOM_FACE_CHOICE = .*;  \\/\\/ OPTIMIZE \\[1, 10\\]$/constexpr int N_RANDOM_FACE_CHOICE = 4;  \\/\\/ OPTIMIZE [1, 10]/' -e 's/^std::string hoge=.*; \\/\\/OPTIMIZE{\"11\", \"unnn\" ,\"ooo\"}$/std::string hoge=\"11\"; \\/\\/OPTIMIZE{\"11\", \"unnn\" ,\"ooo\"}/'\n",
      "sed -i 23_answer.cpp -e 's/^constexpr double ANNEALING_A = .*;  \\/\\/ OPTIMIZE \\[-10\\.0, 0\\.0\\]$/constexpr double ANNEALING_A = -9.425040919076922;  \\/\\/ OPTIMIZE [-10.0, 0.0]/' -e 's/^constexpr double ANNEALING_B = .*;  \\/\\/ OPTIMIZE \\[0\\.0, 7\\.0\\]$/constexpr double ANNEALING_B = 3.343955680620718;  \\/\\/ OPTIMIZE [0.0, 7.0]/' -e 's/^constexpr double ANNEALING_END = .*;  \\/\\/ OPTIMIZE \\[1e-4, 0\\.005\\] LOG$/constexpr double ANNEALING_END = 0.0025291540761933243;  \\/\\/ OPTIMIZE [1e-4, 0.005] LOG/' -e 's/^constexpr double ANNEALING_START = .*;  \\/\\/ OPTIMIZE \\[0\\.001, 0\\.5\\] LOG$/constexpr double ANNEALING_START = 0.359330131820238;  \\/\\/ OPTIMIZE [0.001, 0.5] LOG/' -e 's/^constexpr double GRADIENT_CLIPPING = .*;  \\/\\/ OPTIMIZE \\[1e-7, 2e-4\\] LOG$/constexpr double GRADIENT_CLIPPING = 0.00019979745118244398;  \\/\\/ OPTIMIZE [1e-7, 2e-4] LOG/' -e 's/^constexpr double GRADIENT_DESCENT_LR = .*;  \\/\\/ OPTIMIZE \\[100000\\.0, 50000000\\.0\\] LOG$/constexpr double GRADIENT_DESCENT_LR = 5897482.5690010525;  \\/\\/ OPTIMIZE [100000.0, 50000000.0] LOG/' -e 's/^constexpr double GRADIENT_DESCENT_MOMENTUM = .*;  \\/\\/ OPTIMIZE \\[0\\.0, 1\\.0\\]$/constexpr double GRADIENT_DESCENT_MOMENTUM = 0.34547036179563584;  \\/\\/ OPTIMIZE [0.0, 1.0]/' -e 's/^constexpr int GRADIENT_DESCENT_STEPS = .*;  \\/\\/ OPTIMIZE \\[1, 30\\]$/constexpr int GRADIENT_DESCENT_STEPS = 7;  \\/\\/ OPTIMIZE [1, 30]/' -e 's/^constexpr double GRADIENT_DESCENT_STEPS_STEPPING_PROGRESS_RATE = .*;  \\/\\/ OPTIMIZE \\[0\\.0, 1\\.0\\]$/constexpr double GRADIENT_DESCENT_STEPS_STEPPING_PROGRESS_RATE = 0.4821840458613965;  \\/\\/ OPTIMIZE [0.0, 1.0]/' -e 's/^constexpr double LINE_LENGTH_LOSS_STEPPING_PROGRESS_RATE = .*;  \\/\\/ OPTIMIZE \\[0\\.0, 1\\.0\\]$/constexpr double LINE_LENGTH_LOSS_STEPPING_PROGRESS_RATE = 0.390641354940412;  \\/\\/ OPTIMIZE [0.0, 1.0]/' -e 's/^constexpr double  LINE_LENGTH_LOSS_WEIGHT = .*;  \\/\\/ OPTIMIZE \\[1e-8, 1e-4\\] LOG$/constexpr double  LINE_LENGTH_LOSS_WEIGHT = 5.7662223471704715e-05;  \\/\\/ OPTIMIZE [1e-8, 1e-4] LOG/' -e 's/^constexpr int N_RANDOM_FACE_CHOICE = .*;  \\/\\/ OPTIMIZE \\[1, 10\\]$/constexpr int N_RANDOM_FACE_CHOICE = 4;  \\/\\/ OPTIMIZE [1, 10]/' -e 's/^std::string hoge=.*; \\/\\/OPTIMIZE{\"11\", \"unnn\" ,\"ooo\"}$/std::string hoge=\"11\"; \\/\\/OPTIMIZE{\"11\", \"unnn\" ,\"ooo\"}/'\n",
      "g++ 22_answer.cpp -std=gnu++17 -O2 -DONLINE_JUDGE -o 22_answer.cpp.out\n",
      "g++ 23_answer.cpp -std=gnu++17 -O2 -DONLINE_JUDGE -o 23_answer.cpp.out\n"
     ]
    },
    {
     "name": "stderr",
     "output_type": "stream",
     "text": [
      "\u001b[32m[I 2021-04-25 09:21:22,024]\u001b[0m Trial 22 finished with value: 48719537859.0 and parameters: {'ANNEALING_A': -9.31848351660546, 'ANNEALING_B': 3.5992004337591204, 'ANNEALING_END': 0.0026926270903880702, 'ANNEALING_START': 0.34773527746499544, 'GRADIENT_CLIPPING': 0.0001537652997501314, 'GRADIENT_DESCENT_LR': 5250616.641533032, 'GRADIENT_DESCENT_MOMENTUM': 0.3502215730647997, 'GRADIENT_DESCENT_STEPS': 6, 'GRADIENT_DESCENT_STEPS_STEPPING_PROGRESS_RATE': 0.5481822064875846, 'LINE_LENGTH_LOSS_STEPPING_PROGRESS_RATE': 0.35161880156067327, 'LINE_LENGTH_LOSS_WEIGHT': 5.912125014018021e-05, 'N_RANDOM_FACE_CHOICE': 4, 'hoge': '\"11\"'}. Best is trial 22 with value: 48719537859.0.\u001b[0m\n",
      "\u001b[32m[I 2021-04-25 09:21:22,030]\u001b[0m Trial 23 finished with value: 48713565966.0 and parameters: {'ANNEALING_A': -9.425040919076922, 'ANNEALING_B': 3.343955680620718, 'ANNEALING_END': 0.0025291540761933243, 'ANNEALING_START': 0.359330131820238, 'GRADIENT_CLIPPING': 0.00019979745118244398, 'GRADIENT_DESCENT_LR': 5897482.5690010525, 'GRADIENT_DESCENT_MOMENTUM': 0.34547036179563584, 'GRADIENT_DESCENT_STEPS': 7, 'GRADIENT_DESCENT_STEPS_STEPPING_PROGRESS_RATE': 0.4821840458613965, 'LINE_LENGTH_LOSS_STEPPING_PROGRESS_RATE': 0.390641354940412, 'LINE_LENGTH_LOSS_WEIGHT': 5.7662223471704715e-05, 'N_RANDOM_FACE_CHOICE': 4, 'hoge': '\"11\"'}. Best is trial 22 with value: 48719537859.0.\u001b[0m\n"
     ]
    },
    {
     "name": "stdout",
     "output_type": "stream",
     "text": [
      "callback ok\n",
      "Updated! 48719537859.0 -> 48719537859.0\n",
      "index_parallel=24\n",
      "callback ok\n",
      "index_parallel=25\n",
      "rm: cannot remove '24_out/*': No such file or directory\n",
      "rm: cannot remove '24_score/*': No such file or directory\n",
      "rm: cannot remove '25_out/*': No such file or directory\n",
      "rm: cannot remove '25_score/*': No such file or directory\n",
      "sed -i 24_answer.cpp -e 's/^constexpr double ANNEALING_A = .*;  \\/\\/ OPTIMIZE \\[-10\\.0, 0\\.0\\]$/constexpr double ANNEALING_A = -7.25863612810886;  \\/\\/ OPTIMIZE [-10.0, 0.0]/' -e 's/^constexpr double ANNEALING_B = .*;  \\/\\/ OPTIMIZE \\[0\\.0, 7\\.0\\]$/constexpr double ANNEALING_B = 4.1219272910150595;  \\/\\/ OPTIMIZE [0.0, 7.0]/' -e 's/^constexpr double ANNEALING_END = .*;  \\/\\/ OPTIMIZE \\[1e-4, 0\\.005\\] LOG$/constexpr double ANNEALING_END = 0.002406826199873484;  \\/\\/ OPTIMIZE [1e-4, 0.005] LOG/' -e 's/^constexpr double ANNEALING_START = .*;  \\/\\/ OPTIMIZE \\[0\\.001, 0\\.5\\] LOG$/constexpr double ANNEALING_START = 0.25344434604409904;  \\/\\/ OPTIMIZE [0.001, 0.5] LOG/' -e 's/^constexpr double GRADIENT_CLIPPING = .*;  \\/\\/ OPTIMIZE \\[1e-7, 2e-4\\] LOG$/constexpr double GRADIENT_CLIPPING = 0.00015390844087167534;  \\/\\/ OPTIMIZE [1e-7, 2e-4] LOG/' -e 's/^constexpr double GRADIENT_DESCENT_LR = .*;  \\/\\/ OPTIMIZE \\[100000\\.0, 50000000\\.0\\] LOG$/constexpr double GRADIENT_DESCENT_LR = 627714.5937844245;  \\/\\/ OPTIMIZE [100000.0, 50000000.0] LOG/' -e 's/^constexpr double GRADIENT_DESCENT_MOMENTUM = .*;  \\/\\/ OPTIMIZE \\[0\\.0, 1\\.0\\]$/constexpr double GRADIENT_DESCENT_MOMENTUM = 0.45535814643034406;  \\/\\/ OPTIMIZE [0.0, 1.0]/' -e 's/^constexpr int GRADIENT_DESCENT_STEPS = .*;  \\/\\/ OPTIMIZE \\[1, 30\\]$/constexpr int GRADIENT_DESCENT_STEPS = 4;  \\/\\/ OPTIMIZE [1, 30]/' -e 's/^constexpr double GRADIENT_DESCENT_STEPS_STEPPING_PROGRESS_RATE = .*;  \\/\\/ OPTIMIZE \\[0\\.0, 1\\.0\\]$/constexpr double GRADIENT_DESCENT_STEPS_STEPPING_PROGRESS_RATE = 0.4943870665591723;  \\/\\/ OPTIMIZE [0.0, 1.0]/' -e 's/^constexpr double LINE_LENGTH_LOSS_STEPPING_PROGRESS_RATE = .*;  \\/\\/ OPTIMIZE \\[0\\.0, 1\\.0\\]$/constexpr double LINE_LENGTH_LOSS_STEPPING_PROGRESS_RATE = 0.3669876862590154;  \\/\\/ OPTIMIZE [0.0, 1.0]/' -e 's/^constexpr double  LINE_LENGTH_LOSS_WEIGHT = .*;  \\/\\/ OPTIMIZE \\[1e-8, 1e-4\\] LOG$/constexpr double  LINE_LENGTH_LOSS_WEIGHT = 5.798902127190943e-05;  \\/\\/ OPTIMIZE [1e-8, 1e-4] LOG/' -e 's/^constexpr int N_RANDOM_FACE_CHOICE = .*;  \\/\\/ OPTIMIZE \\[1, 10\\]$/constexpr int N_RANDOM_FACE_CHOICE = 3;  \\/\\/ OPTIMIZE [1, 10]/' -e 's/^std::string hoge=.*; \\/\\/OPTIMIZE{\"11\", \"unnn\" ,\"ooo\"}$/std::string hoge=\"11\"; \\/\\/OPTIMIZE{\"11\", \"unnn\" ,\"ooo\"}/'\n",
      "sed -i 25_answer.cpp -e 's/^constexpr double ANNEALING_A = .*;  \\/\\/ OPTIMIZE \\[-10\\.0, 0\\.0\\]$/constexpr double ANNEALING_A = -7.012632071928149;  \\/\\/ OPTIMIZE [-10.0, 0.0]/' -e 's/^constexpr double ANNEALING_B = .*;  \\/\\/ OPTIMIZE \\[0\\.0, 7\\.0\\]$/constexpr double ANNEALING_B = 4.79617401169363;  \\/\\/ OPTIMIZE [0.0, 7.0]/' -e 's/^constexpr double ANNEALING_END = .*;  \\/\\/ OPTIMIZE \\[1e-4, 0\\.005\\] LOG$/constexpr double ANNEALING_END = 0.002503456281199578;  \\/\\/ OPTIMIZE [1e-4, 0.005] LOG/' -e 's/^constexpr double ANNEALING_START = .*;  \\/\\/ OPTIMIZE \\[0\\.001, 0\\.5\\] LOG$/constexpr double ANNEALING_START = 0.2620261893455108;  \\/\\/ OPTIMIZE [0.001, 0.5] LOG/' -e 's/^constexpr double GRADIENT_CLIPPING = .*;  \\/\\/ OPTIMIZE \\[1e-7, 2e-4\\] LOG$/constexpr double GRADIENT_CLIPPING = 0.00015506244427689037;  \\/\\/ OPTIMIZE [1e-7, 2e-4] LOG/' -e 's/^constexpr double GRADIENT_DESCENT_LR = .*;  \\/\\/ OPTIMIZE \\[100000\\.0, 50000000\\.0\\] LOG$/constexpr double GRADIENT_DESCENT_LR = 137898.88868915476;  \\/\\/ OPTIMIZE [100000.0, 50000000.0] LOG/' -e 's/^constexpr double GRADIENT_DESCENT_MOMENTUM = .*;  \\/\\/ OPTIMIZE \\[0\\.0, 1\\.0\\]$/constexpr double GRADIENT_DESCENT_MOMENTUM = 0.45564861588062683;  \\/\\/ OPTIMIZE [0.0, 1.0]/' -e 's/^constexpr int GRADIENT_DESCENT_STEPS = .*;  \\/\\/ OPTIMIZE \\[1, 30\\]$/constexpr int GRADIENT_DESCENT_STEPS = 4;  \\/\\/ OPTIMIZE [1, 30]/' -e 's/^constexpr double GRADIENT_DESCENT_STEPS_STEPPING_PROGRESS_RATE = .*;  \\/\\/ OPTIMIZE \\[0\\.0, 1\\.0\\]$/constexpr double GRADIENT_DESCENT_STEPS_STEPPING_PROGRESS_RATE = 0.5596564512881149;  \\/\\/ OPTIMIZE [0.0, 1.0]/' -e 's/^constexpr double LINE_LENGTH_LOSS_STEPPING_PROGRESS_RATE = .*;  \\/\\/ OPTIMIZE \\[0\\.0, 1\\.0\\]$/constexpr double LINE_LENGTH_LOSS_STEPPING_PROGRESS_RATE = 0.3608831240905631;  \\/\\/ OPTIMIZE [0.0, 1.0]/' -e 's/^constexpr double  LINE_LENGTH_LOSS_WEIGHT = .*;  \\/\\/ OPTIMIZE \\[1e-8, 1e-4\\] LOG$/constexpr double  LINE_LENGTH_LOSS_WEIGHT = 5.748017568150902e-05;  \\/\\/ OPTIMIZE [1e-8, 1e-4] LOG/' -e 's/^constexpr int N_RANDOM_FACE_CHOICE = .*;  \\/\\/ OPTIMIZE \\[1, 10\\]$/constexpr int N_RANDOM_FACE_CHOICE = 3;  \\/\\/ OPTIMIZE [1, 10]/' -e 's/^std::string hoge=.*; \\/\\/OPTIMIZE{\"11\", \"unnn\" ,\"ooo\"}$/std::string hoge=\"11\"; \\/\\/OPTIMIZE{\"11\", \"unnn\" ,\"ooo\"}/'\n",
      "g++ 24_answer.cpp -std=gnu++17 -O2 -DONLINE_JUDGE -o 24_answer.cpp.out\n",
      "g++ 25_answer.cpp -std=gnu++17 -O2 -DONLINE_JUDGE -o 25_answer.cpp.out\n"
     ]
    }
   ],
   "source": [
    "storage_path = f\"study.db\"\n",
    "storage = f\"sqlite:///{storage_path}\"\n",
    "study_name = \"study\"\n",
    "study = optuna.create_study(storage=storage, load_if_exists=True, study_name=study_name, direction=\"maximize\")\n",
    "\n",
    "def callback(study, trial):\n",
    "    try:\n",
    "        if study.best_value == trial.value:  ############# 要変更\n",
    "            print(f\"Updated! {study.best_value} -> {trial.value}\")\n",
    "            index_parallel = trial.number % 100\n",
    "            parameters_changed_filename = f\"{index_parallel}_{FILENAME}\"\n",
    "            !cp {parameters_changed_filename} 00000optimized.cpp\n",
    "        print(\"callback ok\")\n",
    "    except:\n",
    "        print(\":(\")\n",
    "\n",
    "objective = partial(objective_with_index, n_internal_parallel=4)\n",
    "study.optimize(objective, n_trials=3000, timeout=3600, n_jobs=2, callbacks=[callback])"
   ]
  },
  {
   "cell_type": "code",
   "execution_count": null,
   "metadata": {},
   "outputs": [],
   "source": [
    "# $ apt install sysstat\n",
    "# $ mpstat -P ALL 5\n",
    "# とかやると CPU 負荷を見られる"
   ]
  },
  {
   "cell_type": "code",
   "execution_count": 19,
   "metadata": {},
   "outputs": [
    {
     "name": "stdout",
     "output_type": "stream",
     "text": [
      "48621734068.0\n",
      "{'ANNEALING_A': -9.663753766636084,\n",
      " 'ANNEALING_B': 0.23708439451937813,\n",
      " 'ANNEALING_END': 0.004139552269746777,\n",
      " 'ANNEALING_START': 0.4830473145504588,\n",
      " 'GRADIENT_CLIPPING': 0.00019811172822438805,\n",
      " 'GRADIENT_DESCENT_LR': 10380014.948175553,\n",
      " 'GRADIENT_DESCENT_MOMENTUM': 0.3276696959783839,\n",
      " 'GRADIENT_DESCENT_STEPS': 30,\n",
      " 'GRADIENT_DESCENT_STEPS_STEPPING_PROGRESS_RATE': 0.9031609842262478,\n",
      " 'LINE_LENGTH_LOSS_STEPPING_PROGRESS_RATE': 0.021698592868210798,\n",
      " 'LINE_LENGTH_LOSS_WEIGHT': 9.614201554394316e-07,\n",
      " 'N_RANDOM_FACE_CHOICE': 8,\n",
      " 'hoge': '\"ooo\"'}\n"
     ]
    }
   ],
   "source": [
    "print(f\"{study.best_value}\")\n",
    "pprint(study.best_params)"
   ]
  },
  {
   "cell_type": "code",
   "execution_count": null,
   "metadata": {},
   "outputs": [],
   "source": []
  }
 ],
 "metadata": {
  "kernelspec": {
   "display_name": "Python 3",
   "language": "python",
   "name": "python3"
  },
  "language_info": {
   "codemirror_mode": {
    "name": "ipython",
    "version": 3
   },
   "file_extension": ".py",
   "mimetype": "text/x-python",
   "name": "python",
   "nbconvert_exporter": "python",
   "pygments_lexer": "ipython3",
   "version": "3.8.5"
  }
 },
 "nbformat": 4,
 "nbformat_minor": 4
}
