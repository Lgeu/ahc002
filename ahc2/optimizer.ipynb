{
 "cells": [
  {
   "cell_type": "markdown",
   "metadata": {},
   "source": [
    "こういう感じのコメントを付ける\n",
    "\n",
    "```\n",
    "constexpr double LINE_LENGTH_LOSS_STEPPING_PROGRESS_RATE = 0.7001976706415303;  // OPTIMIZE [0.0, 1.0]\n",
    "constexpr double  LINE_LENGTH_LOSS_WEIGHT = 8.009299591633644e-06;  // OPTIMIZE [1e-8, 1e-4] LOG\n",
    "constexpr int N_RANDOM_FACE_CHOICE = 3;  // OPTIMIZE [1, 10]\n",
    "std::string hoge=\"hoge\";//OPTIMIZE{\"11\", \"unnn\" ,\"ooo\"}\n",
    "```\n",
    "\n",
    "`[` と `,` の間の文字列が Python の式として評価され、その結果の型が最適化に使われる\n",
    "\n",
    "/* でのコメントアウトは効かないので注意"
   ]
  },
  {
   "cell_type": "code",
   "execution_count": 1,
   "metadata": {},
   "outputs": [],
   "source": [
    "import re\n",
    "import sys\n",
    "from time import sleep\n",
    "from pprint import pprint\n",
    "from functools import partial\n",
    "\n",
    "import optuna\n",
    "try:\n",
    "    import pandas as pd\n",
    "except:\n",
    "    pass\n",
    "\n",
    "\n",
    "FILENAME = \"answer.cpp\""
   ]
  },
  {
   "cell_type": "code",
   "execution_count": 2,
   "metadata": {},
   "outputs": [],
   "source": [
    "!mkdir optimize_tmp"
   ]
  },
  {
   "cell_type": "code",
   "execution_count": 4,
   "metadata": {},
   "outputs": [
    {
     "name": "stdout",
     "output_type": "stream",
     "text": [
      "\u001b[01m\u001b[Kanswer.cpp:\u001b[m\u001b[K In constructor ‘\u001b[01m\u001b[KState::State(const Input&)\u001b[m\u001b[K’:\r\n",
      "\u001b[01m\u001b[Kanswer.cpp:393:30:\u001b[m\u001b[K \u001b[01;35m\u001b[Kwarning: \u001b[m\u001b[K‘\u001b[01m\u001b[KState::dfs_path\u001b[m\u001b[K’ will be initialized after [\u001b[01;35m\u001b[K-Wreorder\u001b[m\u001b[K]\r\n",
      "  393 |  Stack<Direction, MAX_DEPTH> \u001b[01;35m\u001b[Kdfs_path\u001b[m\u001b[K;\r\n",
      "      |                              \u001b[01;35m\u001b[K^~~~~~~~\u001b[m\u001b[K\r\n",
      "\u001b[01m\u001b[Kanswer.cpp:391:22:\u001b[m\u001b[K \u001b[01;35m\u001b[Kwarning: \u001b[m\u001b[K  ‘\u001b[01m\u001b[KStack<int, 2500> State::closed\u001b[m\u001b[K’ [\u001b[01;35m\u001b[K-Wreorder\u001b[m\u001b[K]\r\n",
      "  391 |  Stack<int, 50 * 50> \u001b[01;35m\u001b[Kclosed\u001b[m\u001b[K;\r\n",
      "      |                      \u001b[01;35m\u001b[K^~~~~~\u001b[m\u001b[K\r\n",
      "\u001b[01m\u001b[Kanswer.cpp:401:2:\u001b[m\u001b[K \u001b[01;35m\u001b[Kwarning: \u001b[m\u001b[K  when initialized here [\u001b[01;35m\u001b[K-Wreorder\u001b[m\u001b[K]\r\n",
      "  401 |  \u001b[01;35m\u001b[KState\u001b[m\u001b[K(const Input& a_input) : input(a_input), path(), dfs_path(), closed(),\r\n",
      "      |  \u001b[01;35m\u001b[K^~~~~\u001b[m\u001b[K\r\n"
     ]
    }
   ],
   "source": [
    "# 元のファイルのコンパイル\n",
    "!g++ {FILENAME} -std=gnu++17 -Wall -Wextra -O2 -DONLINE_JUDGE -o {FILENAME}.out"
   ]
  },
  {
   "cell_type": "code",
   "execution_count": 5,
   "metadata": {
    "scrolled": true
   },
   "outputs": [
    {
     "name": "stdout",
     "output_type": "stream",
     "text": [
      "--2021-04-25 13:07:58--  https://img.atcoder.jp/ahc002/c993bb7f09d9f8857fc90951fc6af11d.zip\n",
      "Resolving img.atcoder.jp (img.atcoder.jp)... 13.249.87.24, 13.249.87.87, 13.249.87.58, ...\n",
      "Connecting to img.atcoder.jp (img.atcoder.jp)|13.249.87.24|:443... connected.\n",
      "HTTP request sent, awaiting response... 200 OK\n",
      "Length: 31143 (30K) [application/zip]\n",
      "Saving to: ‘c993bb7f09d9f8857fc90951fc6af11d.zip’\n",
      "\n",
      "c993bb7f09d9f8857fc 100%[===================>]  30.41K  --.-KB/s    in 0.1s    \n",
      "\n",
      "2021-04-25 13:07:59 (243 KB/s) - ‘c993bb7f09d9f8857fc90951fc6af11d.zip’ saved [31143/31143]\n",
      "\n",
      "Archive:  c993bb7f09d9f8857fc90951fc6af11d.zip\n",
      "   creating: tools/\n",
      "  inflating: tools/Cargo.toml        \n",
      "  inflating: tools/README.html       \n",
      "  inflating: tools/README.md         \n",
      "  inflating: tools/seeds.txt         \n",
      "  inflating: tools/vis.html          \n",
      "  inflating: tools/Cargo.lock        \n",
      "  inflating: tools/out.svg           \n",
      "  inflating: tools/out.txt           \n",
      "   creating: tools/src/\n",
      "  inflating: tools/src/lib.rs        \n",
      "   creating: tools/src/bin/\n",
      "  inflating: tools/src/bin/gen.rs    \n",
      "  inflating: tools/src/bin/vis.rs    \n",
      "\u001b[K\u001b[0m\u001b[0m\u001b[1m\u001b[32m  Downloaded\u001b[0m itertools v0.9.0                                              \n",
      "\u001b[K\u001b[0m\u001b[0m\u001b[1m\u001b[32m  Downloaded\u001b[0m either v1.6.1ing bytes: 510.9 KB                              \n",
      "\u001b[K\u001b[0m\u001b[0m\u001b[1m\u001b[32m  Downloaded\u001b[0m libc v0.2.93ning bytes: 248.8 KB                              \n",
      "\u001b[K\u001b[0m\u001b[0m\u001b[1m\u001b[32m  Downloaded\u001b[0m proconio-derive v0.1.9...                                     \n",
      "\u001b[K\u001b[0m\u001b[0m\u001b[1m\u001b[32m  Downloaded\u001b[0m 4 crates (629.0 KB) in 0.38s                                  \n",
      "\u001b[0m\u001b[0m\u001b[1m\u001b[32m   Compiling\u001b[0m libc v0.2.93\n",
      "\u001b[0m\u001b[0m\u001b[1m\u001b[32m   Compiling\u001b[0m proc-macro2 v0.4.30\n",
      "\u001b[0m\u001b[0m\u001b[1m\u001b[32m   Compiling\u001b[0m getrandom v0.1.16\n",
      "\u001b[0m\u001b[0m\u001b[1m\u001b[32m   Compiling\u001b[0m unicode-xid v0.1.0\n",
      "\u001b[0m\u001b[0m\u001b[1m\u001b[32m   Compiling\u001b[0m cfg-if v1.0.0\n",
      "\u001b[0m\u001b[0m\u001b[1m\u001b[32m   Compiling\u001b[0m syn v0.15.44\n",
      "\u001b[0m\u001b[0m\u001b[1m\u001b[32m   Compiling\u001b[0m ppv-lite86 v0.2.10\n",
      "\u001b[0m\u001b[0m\u001b[1m\u001b[32m   Compiling\u001b[0m lazy_static v1.4.0\n",
      "\u001b[0m\u001b[0m\u001b[1m\u001b[32m   Compiling\u001b[0m either v1.6.1\n",
      "\u001b[0m\u001b[0m\u001b[1m\u001b[32m   Compiling\u001b[0m svg v0.9.1\n",
      "\u001b[K\u001b[0m\u001b[0m\u001b[1m\u001b[32m   Compiling\u001b[0m itertools v0.9.0          ] 3/28: either, syn(build.rs), pr...\n",
      "\u001b[K\u001b[0m\u001b[0m\u001b[1m\u001b[32m   Compiling\u001b[0m quote v0.6.13            ] 13/28: itertools, libc, proc-mac...\n",
      "\u001b[K\u001b[0m\u001b[0m\u001b[1m\u001b[32m   Compiling\u001b[0m rand_core v0.5.1         ] 17/28: getrandom, itertools, syn   \n",
      "\u001b[K\u001b[0m\u001b[0m\u001b[1m\u001b[32m   Compiling\u001b[0m rand_pcg v0.2.1>         ] 19/28: rand_core, syn              \n",
      "\u001b[0m\u001b[0m\u001b[1m\u001b[32m   Compiling\u001b[0m rand_chacha v0.2.2\n",
      "\u001b[K\u001b[0m\u001b[0m\u001b[1m\u001b[32m   Compiling\u001b[0m rand v0.7.3======>       ] 21/28: syn, rand_chacha            \n",
      "\u001b[K\u001b[0m\u001b[0m\u001b[1m\u001b[32m   Compiling\u001b[0m proconio-derive v0.1.9   ] 23/28: syn                         \n",
      "\u001b[K\u001b[0m\u001b[0m\u001b[1m\u001b[32m   Compiling\u001b[0m proconio v0.3.6=====>    ] 24/28: proconio-derive             \n",
      "\u001b[K\u001b[0m\u001b[0m\u001b[1m\u001b[32m   Compiling\u001b[0m tools v1.0.0 (/home/nagis/ahc2/tools)conio                    \n",
      "\u001b[K\u001b[0m\u001b[0m\u001b[1m\u001b[32m    Finished\u001b[0m release [optimized] target(s) in 13.08sin)                    \n",
      "\u001b[0m\u001b[0m\u001b[1m\u001b[32m     Running\u001b[0m `tools/target/release/gen`\n",
      "Usage: tools/target/release/gen seeds.txt\n"
     ]
    }
   ],
   "source": [
    "# テストケース生成\n",
    "!wget https://img.atcoder.jp/ahc002/c993bb7f09d9f8857fc90951fc6af11d.zip\n",
    "!unzip c993bb7f09d9f8857fc90951fc6af11d.zip\n",
    "\n",
    "SEED = 201\n",
    "N_TESTCASES = 50\n",
    "!seq {SEED} {SEED+N_TESTCASES-1} | cargo run --release --manifest-path ./tools/Cargo.toml --bin gen"
   ]
  },
  {
   "cell_type": "code",
   "execution_count": 8,
   "metadata": {},
   "outputs": [],
   "source": [
    "!tools/target/release/gen tools/seeds.txt"
   ]
  },
  {
   "cell_type": "code",
   "execution_count": 10,
   "metadata": {},
   "outputs": [
    {
     "name": "stdout",
     "output_type": "stream",
     "text": [
      "answer.cpp\tc993bb7f09d9f8857fc90951fc6af11d.zip  optimize_tmp     tools\r\n",
      "answer.cpp.out\tin\t\t\t\t      optimizer.ipynb\r\n"
     ]
    }
   ],
   "source": [
    "!ls"
   ]
  },
  {
   "cell_type": "code",
   "execution_count": 11,
   "metadata": {
    "scrolled": true
   },
   "outputs": [
    {
     "name": "stdout",
     "output_type": "stream",
     "text": [
      "4 variables were found.\n"
     ]
    },
    {
     "data": {
      "text/html": [
       "<div>\n",
       "<style scoped>\n",
       "    .dataframe tbody tr th:only-of-type {\n",
       "        vertical-align: middle;\n",
       "    }\n",
       "\n",
       "    .dataframe tbody tr th {\n",
       "        vertical-align: top;\n",
       "    }\n",
       "\n",
       "    .dataframe thead th {\n",
       "        text-align: right;\n",
       "    }\n",
       "</style>\n",
       "<table border=\"1\" class=\"dataframe\">\n",
       "  <thead>\n",
       "    <tr style=\"text-align: right;\">\n",
       "      <th></th>\n",
       "      <th>name</th>\n",
       "      <th>method</th>\n",
       "      <th>min</th>\n",
       "      <th>max</th>\n",
       "      <th>log</th>\n",
       "      <th>left</th>\n",
       "      <th>right</th>\n",
       "    </tr>\n",
       "  </thead>\n",
       "  <tbody>\n",
       "    <tr>\n",
       "      <th>0</th>\n",
       "      <td>COEF_CENTER_L1</td>\n",
       "      <td>suggest_float</td>\n",
       "      <td>-100.0</td>\n",
       "      <td>100.0</td>\n",
       "      <td>False</td>\n",
       "      <td>\\t\\tconstexpr double COEF_CENTER_L1 =</td>\n",
       "      <td>;  // OPTIMIZE [-100.0, 100.0]</td>\n",
       "    </tr>\n",
       "    <tr>\n",
       "      <th>1</th>\n",
       "      <td>COEF_CENTER_L1_SQ</td>\n",
       "      <td>suggest_float</td>\n",
       "      <td>0.0</td>\n",
       "      <td>100.0</td>\n",
       "      <td>False</td>\n",
       "      <td>\\t\\tconstexpr double COEF_CENTER_L1_SQ =</td>\n",
       "      <td>;  // OPTIMIZE [0.0, 100.0]</td>\n",
       "    </tr>\n",
       "    <tr>\n",
       "      <th>2</th>\n",
       "      <td>COEF_POINT</td>\n",
       "      <td>suggest_float</td>\n",
       "      <td>0.0</td>\n",
       "      <td>100.0</td>\n",
       "      <td>False</td>\n",
       "      <td>\\t\\tconstexpr double COEF_POINT =</td>\n",
       "      <td>;  // OPTIMIZE [0.0, 100.0]</td>\n",
       "    </tr>\n",
       "    <tr>\n",
       "      <th>3</th>\n",
       "      <td>COEF_DIST</td>\n",
       "      <td>suggest_float</td>\n",
       "      <td>0.0</td>\n",
       "      <td>10000.0</td>\n",
       "      <td>False</td>\n",
       "      <td>\\t\\tconstexpr double COEF_DIST =</td>\n",
       "      <td>;  // OPTIMIZE [0.0, 10000.0]</td>\n",
       "    </tr>\n",
       "  </tbody>\n",
       "</table>\n",
       "</div>"
      ],
      "text/plain": [
       "                name         method    min      max    log  \\\n",
       "0     COEF_CENTER_L1  suggest_float -100.0    100.0  False   \n",
       "1  COEF_CENTER_L1_SQ  suggest_float    0.0    100.0  False   \n",
       "2         COEF_POINT  suggest_float    0.0    100.0  False   \n",
       "3          COEF_DIST  suggest_float    0.0  10000.0  False   \n",
       "\n",
       "                                        left                           right  \n",
       "0     \\t\\tconstexpr double COEF_CENTER_L1 =   ;  // OPTIMIZE [-100.0, 100.0]  \n",
       "1  \\t\\tconstexpr double COEF_CENTER_L1_SQ =      ;  // OPTIMIZE [0.0, 100.0]  \n",
       "2         \\t\\tconstexpr double COEF_POINT =      ;  // OPTIMIZE [0.0, 100.0]  \n",
       "3          \\t\\tconstexpr double COEF_DIST =    ;  // OPTIMIZE [0.0, 10000.0]  "
      ]
     },
     "metadata": {},
     "output_type": "display_data"
    }
   ],
   "source": [
    "# ここでエラー出力は何かおかしいかもしれない\n",
    "\n",
    "\n",
    "# パラメータ抽出\n",
    "with open(FILENAME) as f:\n",
    "    answer = f.read()\n",
    "\n",
    "\n",
    "variables_optimize = []\n",
    "\n",
    "for left, value, right, options in re.findall(r\"^([^/\\n]*=\\s*)(.+?)(\\s*;\\s*//(?:.*\\W)?OPTIMIZE(\\W.*))$\", answer, re.MULTILINE):\n",
    "    name = left.replace(\"=\", \"\").strip().split()[-1]\n",
    "    \n",
    "    searched = re.search(r\".*\\[(?P<min>.*),(?P<max>.*)\\].*\", options)\n",
    "    if searched:\n",
    "        min_value = max_value = None\n",
    "        try:\n",
    "            min_value = eval(searched.group(\"min\"))\n",
    "            max_value = eval(searched.group(\"max\"))\n",
    "            assert min_value <= max_value\n",
    "        except Exception as e:\n",
    "            print(f\"searched={searched}\", file=sys.stderr)\n",
    "            print(e, file=sys.stderr)\n",
    "            continue\n",
    "        log = \"LOG\" in options  # 雑、直したほうが良い\n",
    "        if type(min_value) != type(max_value):\n",
    "            print(f\"searched={searched}\", file=sys.stderr)\n",
    "            print(\"types not matched\", file=sys.stderr)\n",
    "            continue\n",
    "        if isinstance(min_value, int):\n",
    "            method = \"suggest_int\"\n",
    "        elif isinstance(min_value, float):\n",
    "            method = \"suggest_float\"\n",
    "        else:\n",
    "            print(f\"searched={searched}\", file=sys.stderr)\n",
    "            print(f\"unknown type ({type(min_value)})\", file=sys.stderr)\n",
    "            continue\n",
    "        variables_optimize.append({\n",
    "            \"name\": name,\n",
    "            \"method\": method,\n",
    "            \"min\": min_value,\n",
    "            \"max\": max_value,\n",
    "            \"log\": log,\n",
    "            \"left\": left,\n",
    "            \"right\": right,\n",
    "        })\n",
    "    elif searched := re.search(r\".*\\{(?P<choices>.*?)\\}.*\", options):\n",
    "        choices = list(map(lambda x: x.strip(), searched.group(\"choices\").split(\",\")))\n",
    "        variables_optimize.append({\n",
    "            \"name\": name,\n",
    "            \"method\": \"suggest_categorical\",\n",
    "            \"choices\": choices,\n",
    "            \"left\": left,\n",
    "            \"right\": right,\n",
    "        })\n",
    "    else:\n",
    "        print(f\"searched={searched}\", file=sys.stderr)\n",
    "        print(f\"pattern was matched but options are incorrect.\", file=sys.stderr)\n",
    "\n",
    "print(len(variables_optimize), \"variables were found.\")\n",
    "if globals().get(\"pd\"):\n",
    "    display(pd.DataFrame(variables_optimize))\n",
    "else:\n",
    "    pprint(variables_optimize)"
   ]
  },
  {
   "cell_type": "code",
   "execution_count": 18,
   "metadata": {},
   "outputs": [],
   "source": [
    "def escape(string):  # 正規表現の中でそのまま使いたい文字列をエスケープ\n",
    "    res = !echo '{string}' | sed -e 's/[]\\/$*.^[]/\\\\&/g'\n",
    "    return res[0]\n",
    "\n",
    "def escape_sed(string):  # sed の置換後の文字列用のエスケープ\n",
    "    res = !echo '{string}' | sed -e 's/[\\/&]/\\\\&/g'\n",
    "    return res[0]\n",
    "\n",
    "\n",
    "def objective_with_index(trial, n_internal_parallel):\n",
    "    index_parallel = trial.number % 100\n",
    "    print(f\"{index_parallel=}\")\n",
    "    \n",
    "    parameters_changed_filename = f\"{index_parallel}_{FILENAME}\"\n",
    "    directory_input = \"./in\"  # \"/\" をつけない\n",
    "    \n",
    "    !mkdir {index_parallel}_out\n",
    "    !mkdir {index_parallel}_score\n",
    "    !rm {index_parallel}_out/*\n",
    "    !rm {index_parallel}_score/*\n",
    "    \n",
    "    # ファイル作成\n",
    "    !cp {FILENAME} {parameters_changed_filename}\n",
    "    sed_options = [f\"-i {parameters_changed_filename}\"]\n",
    "    for variable in variables_optimize:\n",
    "        if variable[\"method\"] == \"suggest_categorical\":\n",
    "            val =  trial.suggest_categorical(variable[\"name\"], variable[\"choices\"])\n",
    "        else:\n",
    "            val = getattr(trial, variable[\"method\"])(variable[\"name\"], variable[\"min\"], variable[\"max\"])\n",
    "        left = variable[\"left\"]\n",
    "        right = variable[\"right\"]\n",
    "        sed_options.append(f\"\"\"-e 's/^{escape(left)}.*{escape(right)}$/{escape_sed(left)}{val}{escape_sed(right)}/'\"\"\")\n",
    "    command_sed = f\"sed {' '.join(sed_options)}\"\n",
    "    print(command_sed)\n",
    "    !{command_sed}\n",
    "    \n",
    "    # コンパイル\n",
    "    command_compile = f\"g++ {parameters_changed_filename} -std=gnu++17 -O2 -DONLINE_JUDGE -o {parameters_changed_filename}.out\"\n",
    "    print(command_compile)\n",
    "    !{command_compile}\n",
    "    # 実行・採点コマンド (@ はファイル名)\n",
    "    command_exec = (\n",
    "        f\"./{parameters_changed_filename}.out < {directory_input}/@ > ./{index_parallel}_out/@;\"\n",
    "        f\"cargo run --release --manifest-path ./tools/Cargo.toml --bin vis {directory_input}/@ ./{index_parallel}_out/@ 2> /dev/null | sed -e s/[^0-9]//g > ./{index_parallel}_score/@;\"\n",
    "    )\n",
    "    # 並列実行 (sed はパスのディレクトリ部分を消してファイル名にしてる)\n",
    "    !find {directory_input}/* | sed 's!^.*/!!' | xargs -I@ -P {n_internal_parallel} sh -c '{command_exec}'\n",
    "    \n",
    "    # 集計\n",
    "    file_paths = !find ./{index_parallel}_score/*\n",
    "    sum_score = 0\n",
    "    for file_path in file_paths:  \n",
    "        with open(file_path) as f:\n",
    "            sum_score += int(f.read())\n",
    "    return sum_score\n",
    "\n"
   ]
  },
  {
   "cell_type": "code",
   "execution_count": 20,
   "metadata": {},
   "outputs": [
    {
     "name": "stderr",
     "output_type": "stream",
     "text": [
      "\u001b[32m[I 2021-04-25 13:16:33,136]\u001b[0m Using an existing study with name 'study' instead of creating a new one.\u001b[0m\n"
     ]
    },
    {
     "name": "stdout",
     "output_type": "stream",
     "text": [
      "index_parallel=12\n",
      "index_parallel=13\n",
      "index_parallel=10\n",
      "index_parallel=14\n",
      "index_parallel=11\n",
      "index_parallel=15\n",
      "rm: cannot remove '13_out/*': No such file or directory\n",
      "rm: cannot remove '10_out/*': No such file or directory\n",
      "rm: cannot remove '12_out/*': No such file or directory\n",
      "rm: cannot remove '11_out/*': No such file or directory\n",
      "rm: cannot remove '14_out/*': No such file or directory\n",
      "rm: cannot remove '15_out/*': No such file or directory\n",
      "rm: cannot remove '12_score/*': No such file or directory\n",
      "rm: cannot remove '10_score/*': No such file or directory\n",
      "rm: cannot remove '13_score/*': No such file or directory\n",
      "rm: cannot remove '14_score/*': No such file or directory\n",
      "rm: cannot remove '11_score/*': No such file or directory\n",
      "rm: cannot remove '15_score/*': No such file or directory\n",
      "sed -i 11_answer.cpp -e 's/^\t\tconstexpr double COEF_CENTER_L1 = .*;  \\/\\/ OPTIMIZE \\[-100\\.0, 100\\.0\\]$/\t\tconstexpr double COEF_CENTER_L1 = -31.947897903881596;  \\/\\/ OPTIMIZE [-100.0, 100.0]/' -e 's/^\t\tconstexpr double COEF_CENTER_L1_SQ = .*;  \\/\\/ OPTIMIZE \\[0\\.0, 100\\.0\\]$/\t\tconstexpr double COEF_CENTER_L1_SQ = 15.146232479255373;  \\/\\/ OPTIMIZE [0.0, 100.0]/' -e 's/^\t\tconstexpr double COEF_POINT = .*;  \\/\\/ OPTIMIZE \\[0\\.0, 100\\.0\\]$/\t\tconstexpr double COEF_POINT = 20.57074719378418;  \\/\\/ OPTIMIZE [0.0, 100.0]/' -e 's/^\t\tconstexpr double COEF_DIST = .*;  \\/\\/ OPTIMIZE \\[0\\.0, 10000\\.0\\]$/\t\tconstexpr double COEF_DIST = 7352.810367787639;  \\/\\/ OPTIMIZE [0.0, 10000.0]/'\n",
      "sed -i 10_answer.cpp -e 's/^\t\tconstexpr double COEF_CENTER_L1 = .*;  \\/\\/ OPTIMIZE \\[-100\\.0, 100\\.0\\]$/\t\tconstexpr double COEF_CENTER_L1 = -39.50803360992359;  \\/\\/ OPTIMIZE [-100.0, 100.0]/' -e 's/^\t\tconstexpr double COEF_CENTER_L1_SQ = .*;  \\/\\/ OPTIMIZE \\[0\\.0, 100\\.0\\]$/\t\tconstexpr double COEF_CENTER_L1_SQ = 29.30153106434714;  \\/\\/ OPTIMIZE [0.0, 100.0]/' -e 's/^\t\tconstexpr double COEF_POINT = .*;  \\/\\/ OPTIMIZE \\[0\\.0, 100\\.0\\]$/\t\tconstexpr double COEF_POINT = 57.9903340573231;  \\/\\/ OPTIMIZE [0.0, 100.0]/' -e 's/^\t\tconstexpr double COEF_DIST = .*;  \\/\\/ OPTIMIZE \\[0\\.0, 10000\\.0\\]$/\t\tconstexpr double COEF_DIST = 2648.630075673831;  \\/\\/ OPTIMIZE [0.0, 10000.0]/'\n",
      "g++ 11_answer.cpp -std=gnu++17 -O2 -DONLINE_JUDGE -o 11_answer.cpp.out\n",
      "sed -i 15_answer.cpp -e 's/^\t\tconstexpr double COEF_CENTER_L1 = .*;  \\/\\/ OPTIMIZE \\[-100\\.0, 100\\.0\\]$/\t\tconstexpr double COEF_CENTER_L1 = -18.154110756829382;  \\/\\/ OPTIMIZE [-100.0, 100.0]/' -e 's/^\t\tconstexpr double COEF_CENTER_L1_SQ = .*;  \\/\\/ OPTIMIZE \\[0\\.0, 100\\.0\\]$/\t\tconstexpr double COEF_CENTER_L1_SQ = 99.93892995152294;  \\/\\/ OPTIMIZE [0.0, 100.0]/' -e 's/^\t\tconstexpr double COEF_POINT = .*;  \\/\\/ OPTIMIZE \\[0\\.0, 100\\.0\\]$/\t\tconstexpr double COEF_POINT = 31.378239891181426;  \\/\\/ OPTIMIZE [0.0, 100.0]/' -e 's/^\t\tconstexpr double COEF_DIST = .*;  \\/\\/ OPTIMIZE \\[0\\.0, 10000\\.0\\]$/\t\tconstexpr double COEF_DIST = 8750.189276372976;  \\/\\/ OPTIMIZE [0.0, 10000.0]/'\n",
      "g++ 10_answer.cpp -std=gnu++17 -O2 -DONLINE_JUDGE -o 10_answer.cpp.out\n",
      "sed -i 12_answer.cpp -e 's/^\t\tconstexpr double COEF_CENTER_L1 = .*;  \\/\\/ OPTIMIZE \\[-100\\.0, 100\\.0\\]$/\t\tconstexpr double COEF_CENTER_L1 = -99.84840121012472;  \\/\\/ OPTIMIZE [-100.0, 100.0]/' -e 's/^\t\tconstexpr double COEF_CENTER_L1_SQ = .*;  \\/\\/ OPTIMIZE \\[0\\.0, 100\\.0\\]$/\t\tconstexpr double COEF_CENTER_L1_SQ = 11.448239095213442;  \\/\\/ OPTIMIZE [0.0, 100.0]/' -e 's/^\t\tconstexpr double COEF_POINT = .*;  \\/\\/ OPTIMIZE \\[0\\.0, 100\\.0\\]$/\t\tconstexpr double COEF_POINT = 56.826225811548035;  \\/\\/ OPTIMIZE [0.0, 100.0]/' -e 's/^\t\tconstexpr double COEF_DIST = .*;  \\/\\/ OPTIMIZE \\[0\\.0, 10000\\.0\\]$/\t\tconstexpr double COEF_DIST = 9540.613763888014;  \\/\\/ OPTIMIZE [0.0, 10000.0]/'\n",
      "sed -i 13_answer.cpp -e 's/^\t\tconstexpr double COEF_CENTER_L1 = .*;  \\/\\/ OPTIMIZE \\[-100\\.0, 100\\.0\\]$/\t\tconstexpr double COEF_CENTER_L1 = 47.32662952370174;  \\/\\/ OPTIMIZE [-100.0, 100.0]/' -e 's/^\t\tconstexpr double COEF_CENTER_L1_SQ = .*;  \\/\\/ OPTIMIZE \\[0\\.0, 100\\.0\\]$/\t\tconstexpr double COEF_CENTER_L1_SQ = 87.51447583393954;  \\/\\/ OPTIMIZE [0.0, 100.0]/' -e 's/^\t\tconstexpr double COEF_POINT = .*;  \\/\\/ OPTIMIZE \\[0\\.0, 100\\.0\\]$/\t\tconstexpr double COEF_POINT = 64.77541334611914;  \\/\\/ OPTIMIZE [0.0, 100.0]/' -e 's/^\t\tconstexpr double COEF_DIST = .*;  \\/\\/ OPTIMIZE \\[0\\.0, 10000\\.0\\]$/\t\tconstexpr double COEF_DIST = 9188.449573166406;  \\/\\/ OPTIMIZE [0.0, 10000.0]/'\n",
      "g++ 15_answer.cpp -std=gnu++17 -O2 -DONLINE_JUDGE -o 15_answer.cpp.out\n",
      "sed -i 14_answer.cpp -e 's/^\t\tconstexpr double COEF_CENTER_L1 = .*;  \\/\\/ OPTIMIZE \\[-100\\.0, 100\\.0\\]$/\t\tconstexpr double COEF_CENTER_L1 = 47.28296117123324;  \\/\\/ OPTIMIZE [-100.0, 100.0]/' -e 's/^\t\tconstexpr double COEF_CENTER_L1_SQ = .*;  \\/\\/ OPTIMIZE \\[0\\.0, 100\\.0\\]$/\t\tconstexpr double COEF_CENTER_L1_SQ = 51.84141770788834;  \\/\\/ OPTIMIZE [0.0, 100.0]/' -e 's/^\t\tconstexpr double COEF_POINT = .*;  \\/\\/ OPTIMIZE \\[0\\.0, 100\\.0\\]$/\t\tconstexpr double COEF_POINT = 79.23993660077736;  \\/\\/ OPTIMIZE [0.0, 100.0]/' -e 's/^\t\tconstexpr double COEF_DIST = .*;  \\/\\/ OPTIMIZE \\[0\\.0, 10000\\.0\\]$/\t\tconstexpr double COEF_DIST = 5561.327966440141;  \\/\\/ OPTIMIZE [0.0, 10000.0]/'\n",
      "g++ 12_answer.cpp -std=gnu++17 -O2 -DONLINE_JUDGE -o 12_answer.cpp.out\n",
      "g++ 13_answer.cpp -std=gnu++17 -O2 -DONLINE_JUDGE -o 13_answer.cpp.out\n",
      "g++ 14_answer.cpp -std=gnu++17 -O2 -DONLINE_JUDGE -o 14_answer.cpp.out\n"
     ]
    },
    {
     "name": "stderr",
     "output_type": "stream",
     "text": [
      "\u001b[32m[I 2021-04-25 13:16:43,400]\u001b[0m Trial 10 finished with value: 880778.0 and parameters: {'COEF_CENTER_L1': -39.50803360992359, 'COEF_CENTER_L1_SQ': 29.30153106434714, 'COEF_POINT': 57.9903340573231, 'COEF_DIST': 2648.630075673831}. Best is trial 7 with value: 1255171.0.\u001b[0m\n"
     ]
    },
    {
     "name": "stdout",
     "output_type": "stream",
     "text": [
      "callback ok\n",
      "index_parallel=16\n"
     ]
    },
    {
     "name": "stderr",
     "output_type": "stream",
     "text": [
      "\u001b[32m[I 2021-04-25 13:16:43,492]\u001b[0m Trial 15 finished with value: 849604.0 and parameters: {'COEF_CENTER_L1': -18.154110756829382, 'COEF_CENTER_L1_SQ': 99.93892995152294, 'COEF_POINT': 31.378239891181426, 'COEF_DIST': 8750.189276372976}. Best is trial 7 with value: 1255171.0.\u001b[0m\n"
     ]
    },
    {
     "name": "stdout",
     "output_type": "stream",
     "text": [
      "callback ok\n",
      "index_parallel=17\n"
     ]
    },
    {
     "name": "stderr",
     "output_type": "stream",
     "text": [
      "\u001b[32m[I 2021-04-25 13:16:43,718]\u001b[0m Trial 13 finished with value: 769196.0 and parameters: {'COEF_CENTER_L1': 47.32662952370174, 'COEF_CENTER_L1_SQ': 87.51447583393954, 'COEF_POINT': 64.77541334611914, 'COEF_DIST': 9188.449573166406}. Best is trial 7 with value: 1255171.0.\u001b[0m\n"
     ]
    },
    {
     "name": "stdout",
     "output_type": "stream",
     "text": [
      "rm: cannot remove '16_out/*': No such file or directory\n",
      "callback ok\n",
      "rm: cannot remove '17_out/*': No such file or directory\n",
      "index_parallel=18\n"
     ]
    },
    {
     "name": "stderr",
     "output_type": "stream",
     "text": [
      "\u001b[32m[I 2021-04-25 13:16:43,837]\u001b[0m Trial 14 finished with value: 852861.0 and parameters: {'COEF_CENTER_L1': 47.28296117123324, 'COEF_CENTER_L1_SQ': 51.84141770788834, 'COEF_POINT': 79.23993660077736, 'COEF_DIST': 5561.327966440141}. Best is trial 7 with value: 1291724.0.\u001b[0m\n",
      "\u001b[32m[I 2021-04-25 13:16:43,839]\u001b[0m Trial 11 finished with value: 1291724.0 and parameters: {'COEF_CENTER_L1': -31.947897903881596, 'COEF_CENTER_L1_SQ': 15.146232479255373, 'COEF_POINT': 20.57074719378418, 'COEF_DIST': 7352.810367787639}. Best is trial 11 with value: 1291724.0.\u001b[0m\n"
     ]
    },
    {
     "name": "stdout",
     "output_type": "stream",
     "text": [
      "rm: cannot remove '16_score/*': No such file or directory\n",
      "callback ok\n",
      "rm: cannot remove '17_score/*': No such file or directory\n",
      "Updated! 1291724.0 -> 1291724.0\n",
      "index_parallel=19\n"
     ]
    },
    {
     "name": "stderr",
     "output_type": "stream",
     "text": [
      "\u001b[32m[I 2021-04-25 13:16:43,965]\u001b[0m Trial 12 finished with value: 1383274.0 and parameters: {'COEF_CENTER_L1': -99.84840121012472, 'COEF_CENTER_L1_SQ': 11.448239095213442, 'COEF_POINT': 56.826225811548035, 'COEF_DIST': 9540.613763888014}. Best is trial 12 with value: 1383274.0.\u001b[0m\n"
     ]
    },
    {
     "name": "stdout",
     "output_type": "stream",
     "text": [
      "Updated! 1383274.0 -> 1383274.0\n",
      "rm: cannot remove '18_out/*': No such file or directory\n",
      "callback ok\n",
      "index_parallel=20\n",
      "callback ok\n",
      "rm: cannot remove '18_score/*': No such file or directory\n",
      "rm: cannot remove '19_out/*': No such file or directory\n",
      "index_parallel=21\n",
      "rm: cannot remove '19_score/*': No such file or directory\n",
      "rm: cannot remove '20_out/*': No such file or directory\n",
      "rm: cannot remove '21_out/*': No such file or directory\n",
      "rm: cannot remove '20_score/*': No such file or directory\n",
      "sed -i 16_answer.cpp -e 's/^\t\tconstexpr double COEF_CENTER_L1 = .*;  \\/\\/ OPTIMIZE \\[-100\\.0, 100\\.0\\]$/\t\tconstexpr double COEF_CENTER_L1 = -96.44349151852533;  \\/\\/ OPTIMIZE [-100.0, 100.0]/' -e 's/^\t\tconstexpr double COEF_CENTER_L1_SQ = .*;  \\/\\/ OPTIMIZE \\[0\\.0, 100\\.0\\]$/\t\tconstexpr double COEF_CENTER_L1_SQ = 35.9646419587401;  \\/\\/ OPTIMIZE [0.0, 100.0]/' -e 's/^\t\tconstexpr double COEF_POINT = .*;  \\/\\/ OPTIMIZE \\[0\\.0, 100\\.0\\]$/\t\tconstexpr double COEF_POINT = 91.32117219510396;  \\/\\/ OPTIMIZE [0.0, 100.0]/' -e 's/^\t\tconstexpr double COEF_DIST = .*;  \\/\\/ OPTIMIZE \\[0\\.0, 10000\\.0\\]$/\t\tconstexpr double COEF_DIST = 1164.7966502299587;  \\/\\/ OPTIMIZE [0.0, 10000.0]/'\n",
      "rm: cannot remove '21_score/*': No such file or directory\n",
      "sed -i 17_answer.cpp -e 's/^\t\tconstexpr double COEF_CENTER_L1 = .*;  \\/\\/ OPTIMIZE \\[-100\\.0, 100\\.0\\]$/\t\tconstexpr double COEF_CENTER_L1 = -98.13974318568786;  \\/\\/ OPTIMIZE [-100.0, 100.0]/' -e 's/^\t\tconstexpr double COEF_CENTER_L1_SQ = .*;  \\/\\/ OPTIMIZE \\[0\\.0, 100\\.0\\]$/\t\tconstexpr double COEF_CENTER_L1_SQ = 36.62089752476934;  \\/\\/ OPTIMIZE [0.0, 100.0]/' -e 's/^\t\tconstexpr double COEF_POINT = .*;  \\/\\/ OPTIMIZE \\[0\\.0, 100\\.0\\]$/\t\tconstexpr double COEF_POINT = 97.6555107937742;  \\/\\/ OPTIMIZE [0.0, 100.0]/' -e 's/^\t\tconstexpr double COEF_DIST = .*;  \\/\\/ OPTIMIZE \\[0\\.0, 10000\\.0\\]$/\t\tconstexpr double COEF_DIST = 527.275066349469;  \\/\\/ OPTIMIZE [0.0, 10000.0]/'\n",
      "g++ 16_answer.cpp -std=gnu++17 -O2 -DONLINE_JUDGE -o 16_answer.cpp.out\n",
      "g++ 17_answer.cpp -std=gnu++17 -O2 -DONLINE_JUDGE -o 17_answer.cpp.out\n",
      "sed -i 18_answer.cpp -e 's/^\t\tconstexpr double COEF_CENTER_L1 = .*;  \\/\\/ OPTIMIZE \\[-100\\.0, 100\\.0\\]$/\t\tconstexpr double COEF_CENTER_L1 = -99.73476102000922;  \\/\\/ OPTIMIZE [-100.0, 100.0]/' -e 's/^\t\tconstexpr double COEF_CENTER_L1_SQ = .*;  \\/\\/ OPTIMIZE \\[0\\.0, 100\\.0\\]$/\t\tconstexpr double COEF_CENTER_L1_SQ = 36.376137834326244;  \\/\\/ OPTIMIZE [0.0, 100.0]/' -e 's/^\t\tconstexpr double COEF_POINT = .*;  \\/\\/ OPTIMIZE \\[0\\.0, 100\\.0\\]$/\t\tconstexpr double COEF_POINT = 94.50953357050865;  \\/\\/ OPTIMIZE [0.0, 100.0]/' -e 's/^\t\tconstexpr double COEF_DIST = .*;  \\/\\/ OPTIMIZE \\[0\\.0, 10000\\.0\\]$/\t\tconstexpr double COEF_DIST = 1093.1275049427973;  \\/\\/ OPTIMIZE [0.0, 10000.0]/'\n",
      "g++ 18_answer.cpp -std=gnu++17 -O2 -DONLINE_JUDGE -o 18_answer.cpp.out\n",
      "sed -i 19_answer.cpp -e 's/^\t\tconstexpr double COEF_CENTER_L1 = .*;  \\/\\/ OPTIMIZE \\[-100\\.0, 100\\.0\\]$/\t\tconstexpr double COEF_CENTER_L1 = -96.67949626247398;  \\/\\/ OPTIMIZE [-100.0, 100.0]/' -e 's/^\t\tconstexpr double COEF_CENTER_L1_SQ = .*;  \\/\\/ OPTIMIZE \\[0\\.0, 100\\.0\\]$/\t\tconstexpr double COEF_CENTER_L1_SQ = 34.1683723244374;  \\/\\/ OPTIMIZE [0.0, 100.0]/' -e 's/^\t\tconstexpr double COEF_POINT = .*;  \\/\\/ OPTIMIZE \\[0\\.0, 100\\.0\\]$/\t\tconstexpr double COEF_POINT = 97.04035476078658;  \\/\\/ OPTIMIZE [0.0, 100.0]/' -e 's/^\t\tconstexpr double COEF_DIST = .*;  \\/\\/ OPTIMIZE \\[0\\.0, 10000\\.0\\]$/\t\tconstexpr double COEF_DIST = 473.92072148517855;  \\/\\/ OPTIMIZE [0.0, 10000.0]/'\n",
      "sed -i 20_answer.cpp -e 's/^\t\tconstexpr double COEF_CENTER_L1 = .*;  \\/\\/ OPTIMIZE \\[-100\\.0, 100\\.0\\]$/\t\tconstexpr double COEF_CENTER_L1 = -99.02942980181444;  \\/\\/ OPTIMIZE [-100.0, 100.0]/' -e 's/^\t\tconstexpr double COEF_CENTER_L1_SQ = .*;  \\/\\/ OPTIMIZE \\[0\\.0, 100\\.0\\]$/\t\tconstexpr double COEF_CENTER_L1_SQ = 32.437996188791544;  \\/\\/ OPTIMIZE [0.0, 100.0]/' -e 's/^\t\tconstexpr double COEF_POINT = .*;  \\/\\/ OPTIMIZE \\[0\\.0, 100\\.0\\]$/\t\tconstexpr double COEF_POINT = 95.38682512494998;  \\/\\/ OPTIMIZE [0.0, 100.0]/' -e 's/^\t\tconstexpr double COEF_DIST = .*;  \\/\\/ OPTIMIZE \\[0\\.0, 10000\\.0\\]$/\t\tconstexpr double COEF_DIST = 1608.9565403486695;  \\/\\/ OPTIMIZE [0.0, 10000.0]/'\n",
      "g++ 19_answer.cpp -std=gnu++17 -O2 -DONLINE_JUDGE -o 19_answer.cpp.out\n",
      "sed -i 21_answer.cpp -e 's/^\t\tconstexpr double COEF_CENTER_L1 = .*;  \\/\\/ OPTIMIZE \\[-100\\.0, 100\\.0\\]$/\t\tconstexpr double COEF_CENTER_L1 = -88.80047511891364;  \\/\\/ OPTIMIZE [-100.0, 100.0]/' -e 's/^\t\tconstexpr double COEF_CENTER_L1_SQ = .*;  \\/\\/ OPTIMIZE \\[0\\.0, 100\\.0\\]$/\t\tconstexpr double COEF_CENTER_L1_SQ = 35.20829309483094;  \\/\\/ OPTIMIZE [0.0, 100.0]/' -e 's/^\t\tconstexpr double COEF_POINT = .*;  \\/\\/ OPTIMIZE \\[0\\.0, 100\\.0\\]$/\t\tconstexpr double COEF_POINT = 98.18792425957488;  \\/\\/ OPTIMIZE [0.0, 100.0]/' -e 's/^\t\tconstexpr double COEF_DIST = .*;  \\/\\/ OPTIMIZE \\[0\\.0, 10000\\.0\\]$/\t\tconstexpr double COEF_DIST = 1350.5374656200675;  \\/\\/ OPTIMIZE [0.0, 10000.0]/'\n",
      "g++ 20_answer.cpp -std=gnu++17 -O2 -DONLINE_JUDGE -o 20_answer.cpp.out\n",
      "g++ 21_answer.cpp -std=gnu++17 -O2 -DONLINE_JUDGE -o 21_answer.cpp.out\n"
     ]
    },
    {
     "name": "stderr",
     "output_type": "stream",
     "text": [
      "\u001b[32m[I 2021-04-25 13:16:52,895]\u001b[0m Trial 17 finished with value: 666212.0 and parameters: {'COEF_CENTER_L1': -98.13974318568786, 'COEF_CENTER_L1_SQ': 36.62089752476934, 'COEF_POINT': 97.6555107937742, 'COEF_DIST': 527.275066349469}. Best is trial 12 with value: 1383274.0.\u001b[0m\n"
     ]
    },
    {
     "name": "stdout",
     "output_type": "stream",
     "text": [
      "callback ok\n",
      "index_parallel=22\n"
     ]
    },
    {
     "name": "stderr",
     "output_type": "stream",
     "text": [
      "\u001b[32m[I 2021-04-25 13:16:52,982]\u001b[0m Trial 16 finished with value: 868753.0 and parameters: {'COEF_CENTER_L1': -96.44349151852533, 'COEF_CENTER_L1_SQ': 35.9646419587401, 'COEF_POINT': 91.32117219510396, 'COEF_DIST': 1164.7966502299587}. Best is trial 12 with value: 1383274.0.\u001b[0m\n"
     ]
    },
    {
     "name": "stdout",
     "output_type": "stream",
     "text": [
      "callback ok\n",
      "index_parallel=23\n",
      "rm: cannot remove '22_out/*': No such file or directory\n",
      "rm: cannot remove '23_out/*': No such file or directory\n",
      "rm: cannot remove '22_score/*': No such file or directory\n"
     ]
    },
    {
     "name": "stderr",
     "output_type": "stream",
     "text": [
      "\u001b[32m[I 2021-04-25 13:16:53,354]\u001b[0m Trial 18 finished with value: 736404.0 and parameters: {'COEF_CENTER_L1': -99.73476102000922, 'COEF_CENTER_L1_SQ': 36.376137834326244, 'COEF_POINT': 94.50953357050865, 'COEF_DIST': 1093.1275049427973}. Best is trial 12 with value: 1383274.0.\u001b[0m\n"
     ]
    },
    {
     "name": "stdout",
     "output_type": "stream",
     "text": [
      "callback ok\n",
      "rm: cannot remove '23_score/*': No such file or directory\n",
      "index_parallel=24\n"
     ]
    },
    {
     "name": "stderr",
     "output_type": "stream",
     "text": [
      "\u001b[32m[I 2021-04-25 13:16:53,601]\u001b[0m Trial 19 finished with value: 655974.0 and parameters: {'COEF_CENTER_L1': -96.67949626247398, 'COEF_CENTER_L1_SQ': 34.1683723244374, 'COEF_POINT': 97.04035476078658, 'COEF_DIST': 473.92072148517855}. Best is trial 12 with value: 1383274.0.\u001b[0m\n"
     ]
    },
    {
     "name": "stdout",
     "output_type": "stream",
     "text": [
      "callback ok\n",
      "rm: cannot remove '24_out/*': No such file or directory\n",
      "index_parallel=25\n",
      "rm: cannot remove '24_score/*': No such file or directory\n"
     ]
    },
    {
     "name": "stderr",
     "output_type": "stream",
     "text": [
      "\u001b[32m[I 2021-04-25 13:16:54,008]\u001b[0m Trial 20 finished with value: 876422.0 and parameters: {'COEF_CENTER_L1': -99.02942980181444, 'COEF_CENTER_L1_SQ': 32.437996188791544, 'COEF_POINT': 95.38682512494998, 'COEF_DIST': 1608.9565403486695}. Best is trial 12 with value: 1383274.0.\u001b[0m\n",
      "\u001b[32m[I 2021-04-25 13:16:54,020]\u001b[0m Trial 21 finished with value: 849681.0 and parameters: {'COEF_CENTER_L1': -88.80047511891364, 'COEF_CENTER_L1_SQ': 35.20829309483094, 'COEF_POINT': 98.18792425957488, 'COEF_DIST': 1350.5374656200675}. Best is trial 12 with value: 1383274.0.\u001b[0m\n"
     ]
    },
    {
     "name": "stdout",
     "output_type": "stream",
     "text": [
      "rm: cannot remove '25_out/*': No such file or directory\n",
      "callback ok\n",
      "sed -i 22_answer.cpp -e 's/^\t\tconstexpr double COEF_CENTER_L1 = .*;  \\/\\/ OPTIMIZE \\[-100\\.0, 100\\.0\\]$/\t\tconstexpr double COEF_CENTER_L1 = -63.07798423729534;  \\/\\/ OPTIMIZE [-100.0, 100.0]/' -e 's/^\t\tconstexpr double COEF_CENTER_L1_SQ = .*;  \\/\\/ OPTIMIZE \\[0\\.0, 100\\.0\\]$/\t\tconstexpr double COEF_CENTER_L1_SQ = 3.0138967193404795;  \\/\\/ OPTIMIZE [0.0, 100.0]/' -e 's/^\t\tconstexpr double COEF_POINT = .*;  \\/\\/ OPTIMIZE \\[0\\.0, 100\\.0\\]$/\t\tconstexpr double COEF_POINT = 38.53949592853383;  \\/\\/ OPTIMIZE [0.0, 100.0]/' -e 's/^\t\tconstexpr double COEF_DIST = .*;  \\/\\/ OPTIMIZE \\[0\\.0, 10000\\.0\\]$/\t\tconstexpr double COEF_DIST = 6915.484288340438;  \\/\\/ OPTIMIZE [0.0, 10000.0]/'\n",
      "callback ok\n",
      "rm: cannot remove '25_score/*': No such file or directory\n",
      "index_parallel=27\n",
      "g++ 22_answer.cpp -std=gnu++17 -O2 -DONLINE_JUDGE -o 22_answer.cpp.out\n",
      "index_parallel=26\n",
      "sed -i 23_answer.cpp -e 's/^\t\tconstexpr double COEF_CENTER_L1 = .*;  \\/\\/ OPTIMIZE \\[-100\\.0, 100\\.0\\]$/\t\tconstexpr double COEF_CENTER_L1 = -60.28485590215848;  \\/\\/ OPTIMIZE [-100.0, 100.0]/' -e 's/^\t\tconstexpr double COEF_CENTER_L1_SQ = .*;  \\/\\/ OPTIMIZE \\[0\\.0, 100\\.0\\]$/\t\tconstexpr double COEF_CENTER_L1_SQ = 0.6766004682219986;  \\/\\/ OPTIMIZE [0.0, 100.0]/' -e 's/^\t\tconstexpr double COEF_POINT = .*;  \\/\\/ OPTIMIZE \\[0\\.0, 100\\.0\\]$/\t\tconstexpr double COEF_POINT = 38.992090888105;  \\/\\/ OPTIMIZE [0.0, 100.0]/' -e 's/^\t\tconstexpr double COEF_DIST = .*;  \\/\\/ OPTIMIZE \\[0\\.0, 10000\\.0\\]$/\t\tconstexpr double COEF_DIST = 9961.318239022165;  \\/\\/ OPTIMIZE [0.0, 10000.0]/'\n",
      "g++ 23_answer.cpp -std=gnu++17 -O2 -DONLINE_JUDGE -o 23_answer.cpp.out\n",
      "rm: cannot remove '27_out/*': No such file or directory\n",
      "sed -i 24_answer.cpp -e 's/^\t\tconstexpr double COEF_CENTER_L1 = .*;  \\/\\/ OPTIMIZE \\[-100\\.0, 100\\.0\\]$/\t\tconstexpr double COEF_CENTER_L1 = -61.78081372669156;  \\/\\/ OPTIMIZE [-100.0, 100.0]/' -e 's/^\t\tconstexpr double COEF_CENTER_L1_SQ = .*;  \\/\\/ OPTIMIZE \\[0\\.0, 100\\.0\\]$/\t\tconstexpr double COEF_CENTER_L1_SQ = 1.9673765375294092;  \\/\\/ OPTIMIZE [0.0, 100.0]/' -e 's/^\t\tconstexpr double COEF_POINT = .*;  \\/\\/ OPTIMIZE \\[0\\.0, 100\\.0\\]$/\t\tconstexpr double COEF_POINT = 38.59959065730797;  \\/\\/ OPTIMIZE [0.0, 100.0]/' -e 's/^\t\tconstexpr double COEF_DIST = .*;  \\/\\/ OPTIMIZE \\[0\\.0, 10000\\.0\\]$/\t\tconstexpr double COEF_DIST = 9823.592743374218;  \\/\\/ OPTIMIZE [0.0, 10000.0]/'\n",
      "rm: cannot remove '26_out/*': No such file or directory\n",
      "rm: cannot remove '27_score/*': No such file or directory\n",
      "g++ 24_answer.cpp -std=gnu++17 -O2 -DONLINE_JUDGE -o 24_answer.cpp.out\n",
      "rm: cannot remove '26_score/*': No such file or directory\n",
      "sed -i 25_answer.cpp -e 's/^\t\tconstexpr double COEF_CENTER_L1 = .*;  \\/\\/ OPTIMIZE \\[-100\\.0, 100\\.0\\]$/\t\tconstexpr double COEF_CENTER_L1 = -60.6017208573065;  \\/\\/ OPTIMIZE [-100.0, 100.0]/' -e 's/^\t\tconstexpr double COEF_CENTER_L1_SQ = .*;  \\/\\/ OPTIMIZE \\[0\\.0, 100\\.0\\]$/\t\tconstexpr double COEF_CENTER_L1_SQ = 1.2602794732032763;  \\/\\/ OPTIMIZE [0.0, 100.0]/' -e 's/^\t\tconstexpr double COEF_POINT = .*;  \\/\\/ OPTIMIZE \\[0\\.0, 100\\.0\\]$/\t\tconstexpr double COEF_POINT = 40.11500490758364;  \\/\\/ OPTIMIZE [0.0, 100.0]/' -e 's/^\t\tconstexpr double COEF_DIST = .*;  \\/\\/ OPTIMIZE \\[0\\.0, 10000\\.0\\]$/\t\tconstexpr double COEF_DIST = 9728.970467430247;  \\/\\/ OPTIMIZE [0.0, 10000.0]/'\n",
      "g++ 25_answer.cpp -std=gnu++17 -O2 -DONLINE_JUDGE -o 25_answer.cpp.out\n",
      "sed -i 27_answer.cpp -e 's/^\t\tconstexpr double COEF_CENTER_L1 = .*;  \\/\\/ OPTIMIZE \\[-100\\.0, 100\\.0\\]$/\t\tconstexpr double COEF_CENTER_L1 = -52.737998403345685;  \\/\\/ OPTIMIZE [-100.0, 100.0]/' -e 's/^\t\tconstexpr double COEF_CENTER_L1_SQ = .*;  \\/\\/ OPTIMIZE \\[0\\.0, 100\\.0\\]$/\t\tconstexpr double COEF_CENTER_L1_SQ = 0.34636599952899516;  \\/\\/ OPTIMIZE [0.0, 100.0]/' -e 's/^\t\tconstexpr double COEF_POINT = .*;  \\/\\/ OPTIMIZE \\[0\\.0, 100\\.0\\]$/\t\tconstexpr double COEF_POINT = 41.86933837493515;  \\/\\/ OPTIMIZE [0.0, 100.0]/' -e 's/^\t\tconstexpr double COEF_DIST = .*;  \\/\\/ OPTIMIZE \\[0\\.0, 10000\\.0\\]$/\t\tconstexpr double COEF_DIST = 6801.900206555158;  \\/\\/ OPTIMIZE [0.0, 10000.0]/'\n",
      "sed -i 26_answer.cpp -e 's/^\t\tconstexpr double COEF_CENTER_L1 = .*;  \\/\\/ OPTIMIZE \\[-100\\.0, 100\\.0\\]$/\t\tconstexpr double COEF_CENTER_L1 = -63.22064284929891;  \\/\\/ OPTIMIZE [-100.0, 100.0]/' -e 's/^\t\tconstexpr double COEF_CENTER_L1_SQ = .*;  \\/\\/ OPTIMIZE \\[0\\.0, 100\\.0\\]$/\t\tconstexpr double COEF_CENTER_L1_SQ = 0.5644107370294211;  \\/\\/ OPTIMIZE [0.0, 100.0]/' -e 's/^\t\tconstexpr double COEF_POINT = .*;  \\/\\/ OPTIMIZE \\[0\\.0, 100\\.0\\]$/\t\tconstexpr double COEF_POINT = 39.06888437499893;  \\/\\/ OPTIMIZE [0.0, 100.0]/' -e 's/^\t\tconstexpr double COEF_DIST = .*;  \\/\\/ OPTIMIZE \\[0\\.0, 10000\\.0\\]$/\t\tconstexpr double COEF_DIST = 9793.324429600509;  \\/\\/ OPTIMIZE [0.0, 10000.0]/'\n",
      "g++ 27_answer.cpp -std=gnu++17 -O2 -DONLINE_JUDGE -o 27_answer.cpp.out\n",
      "g++ 26_answer.cpp -std=gnu++17 -O2 -DONLINE_JUDGE -o 26_answer.cpp.out\n"
     ]
    },
    {
     "name": "stderr",
     "output_type": "stream",
     "text": [
      "\u001b[32m[I 2021-04-25 13:17:03,042]\u001b[0m Trial 22 finished with value: 1461823.0 and parameters: {'COEF_CENTER_L1': -63.07798423729534, 'COEF_CENTER_L1_SQ': 3.0138967193404795, 'COEF_POINT': 38.53949592853383, 'COEF_DIST': 6915.484288340438}. Best is trial 22 with value: 1461823.0.\u001b[0m\n"
     ]
    },
    {
     "name": "stdout",
     "output_type": "stream",
     "text": [
      "Updated! 1461823.0 -> 1461823.0\n",
      "callback ok\n",
      "index_parallel=28\n",
      "rm: cannot remove '28_out/*': No such file or directory\n"
     ]
    },
    {
     "name": "stderr",
     "output_type": "stream",
     "text": [
      "\u001b[32m[I 2021-04-25 13:17:03,468]\u001b[0m Trial 23 finished with value: 1479048.0 and parameters: {'COEF_CENTER_L1': -60.28485590215848, 'COEF_CENTER_L1_SQ': 0.6766004682219986, 'COEF_POINT': 38.992090888105, 'COEF_DIST': 9961.318239022165}. Best is trial 23 with value: 1479048.0.\u001b[0m\n"
     ]
    },
    {
     "name": "stdout",
     "output_type": "stream",
     "text": [
      "Updated! 1479048.0 -> 1479048.0\n"
     ]
    },
    {
     "name": "stderr",
     "output_type": "stream",
     "text": [
      "\u001b[32m[I 2021-04-25 13:17:03,558]\u001b[0m Trial 24 finished with value: 1460020.0 and parameters: {'COEF_CENTER_L1': -61.78081372669156, 'COEF_CENTER_L1_SQ': 1.9673765375294092, 'COEF_POINT': 38.59959065730797, 'COEF_DIST': 9823.592743374218}. Best is trial 23 with value: 1479048.0.\u001b[0m\n"
     ]
    },
    {
     "name": "stdout",
     "output_type": "stream",
     "text": [
      "callback okrm: cannot remove '28_score/*': No such file or directory\n",
      "\n",
      "index_parallel=29\n",
      "callback ok\n",
      "index_parallel=30\n"
     ]
    },
    {
     "name": "stderr",
     "output_type": "stream",
     "text": [
      "\u001b[32m[I 2021-04-25 13:17:03,740]\u001b[0m Trial 25 finished with value: 1378112.0 and parameters: {'COEF_CENTER_L1': -60.6017208573065, 'COEF_CENTER_L1_SQ': 1.2602794732032763, 'COEF_POINT': 40.11500490758364, 'COEF_DIST': 9728.970467430247}. Best is trial 23 with value: 1479048.0.\u001b[0m\n"
     ]
    },
    {
     "name": "stdout",
     "output_type": "stream",
     "text": [
      "callback ok\n",
      "index_parallel=31\n",
      "rm: cannot remove '29_out/*': No such file or directory\n",
      "rm: cannot remove '30_out/*': No such file or directory\n",
      "rm: cannot remove '29_score/*': No such file or directory\n",
      "rm: cannot remove '30_score/*': No such file or directory\n",
      "rm: cannot remove '31_out/*': No such file or directory\n",
      "sed -i 28_answer.cpp -e 's/^\t\tconstexpr double COEF_CENTER_L1 = .*;  \\/\\/ OPTIMIZE \\[-100\\.0, 100\\.0\\]$/\t\tconstexpr double COEF_CENTER_L1 = -62.50609041000796;  \\/\\/ OPTIMIZE [-100.0, 100.0]/' -e 's/^\t\tconstexpr double COEF_CENTER_L1_SQ = .*;  \\/\\/ OPTIMIZE \\[0\\.0, 100\\.0\\]$/\t\tconstexpr double COEF_CENTER_L1_SQ = 1.3584740032583156;  \\/\\/ OPTIMIZE [0.0, 100.0]/' -e 's/^\t\tconstexpr double COEF_POINT = .*;  \\/\\/ OPTIMIZE \\[0\\.0, 100\\.0\\]$/\t\tconstexpr double COEF_POINT = 2.0957504527853317;  \\/\\/ OPTIMIZE [0.0, 100.0]/' -e 's/^\t\tconstexpr double COEF_DIST = .*;  \\/\\/ OPTIMIZE \\[0\\.0, 10000\\.0\\]$/\t\tconstexpr double COEF_DIST = 4232.903540061955;  \\/\\/ OPTIMIZE [0.0, 10000.0]/'\n",
      "rm: cannot remove '31_score/*': No such file or directory\n",
      "g++ 28_answer.cpp -std=gnu++17 -O2 -DONLINE_JUDGE -o 28_answer.cpp.out\n"
     ]
    },
    {
     "name": "stderr",
     "output_type": "stream",
     "text": [
      "\u001b[32m[I 2021-04-25 13:17:04,500]\u001b[0m Trial 26 finished with value: 1447166.0 and parameters: {'COEF_CENTER_L1': -63.22064284929891, 'COEF_CENTER_L1_SQ': 0.5644107370294211, 'COEF_POINT': 39.06888437499893, 'COEF_DIST': 9793.324429600509}. Best is trial 23 with value: 1479048.0.\u001b[0m\n",
      "\u001b[32m[I 2021-04-25 13:17:04,501]\u001b[0m Trial 27 finished with value: 1422727.0 and parameters: {'COEF_CENTER_L1': -52.737998403345685, 'COEF_CENTER_L1_SQ': 0.34636599952899516, 'COEF_POINT': 41.86933837493515, 'COEF_DIST': 6801.900206555158}. Best is trial 23 with value: 1479048.0.\u001b[0m\n"
     ]
    },
    {
     "name": "stdout",
     "output_type": "stream",
     "text": [
      "callback ok\n",
      "callback ok\n",
      "index_parallel=32\n",
      "index_parallel=33\n",
      "sed -i 29_answer.cpp -e 's/^\t\tconstexpr double COEF_CENTER_L1 = .*;  \\/\\/ OPTIMIZE \\[-100\\.0, 100\\.0\\]$/\t\tconstexpr double COEF_CENTER_L1 = 20.114058576473905;  \\/\\/ OPTIMIZE [-100.0, 100.0]/' -e 's/^\t\tconstexpr double COEF_CENTER_L1_SQ = .*;  \\/\\/ OPTIMIZE \\[0\\.0, 100\\.0\\]$/\t\tconstexpr double COEF_CENTER_L1_SQ = 20.88202629975669;  \\/\\/ OPTIMIZE [0.0, 100.0]/' -e 's/^\t\tconstexpr double COEF_POINT = .*;  \\/\\/ OPTIMIZE \\[0\\.0, 100\\.0\\]$/\t\tconstexpr double COEF_POINT = 28.173657379050177;  \\/\\/ OPTIMIZE [0.0, 100.0]/' -e 's/^\t\tconstexpr double COEF_DIST = .*;  \\/\\/ OPTIMIZE \\[0\\.0, 10000\\.0\\]$/\t\tconstexpr double COEF_DIST = 8351.16714561914;  \\/\\/ OPTIMIZE [0.0, 10000.0]/'\n",
      "sed -i 30_answer.cpp -e 's/^\t\tconstexpr double COEF_CENTER_L1 = .*;  \\/\\/ OPTIMIZE \\[-100\\.0, 100\\.0\\]$/\t\tconstexpr double COEF_CENTER_L1 = 21.882511629446924;  \\/\\/ OPTIMIZE [-100.0, 100.0]/' -e 's/^\t\tconstexpr double COEF_CENTER_L1_SQ = .*;  \\/\\/ OPTIMIZE \\[0\\.0, 100\\.0\\]$/\t\tconstexpr double COEF_CENTER_L1_SQ = 24.20890938255579;  \\/\\/ OPTIMIZE [0.0, 100.0]/' -e 's/^\t\tconstexpr double COEF_POINT = .*;  \\/\\/ OPTIMIZE \\[0\\.0, 100\\.0\\]$/\t\tconstexpr double COEF_POINT = 31.412204531892286;  \\/\\/ OPTIMIZE [0.0, 100.0]/' -e 's/^\t\tconstexpr double COEF_DIST = .*;  \\/\\/ OPTIMIZE \\[0\\.0, 10000\\.0\\]$/\t\tconstexpr double COEF_DIST = 8535.43541155382;  \\/\\/ OPTIMIZE [0.0, 10000.0]/'\n",
      "g++ 29_answer.cpp -std=gnu++17 -O2 -DONLINE_JUDGE -o 29_answer.cpp.out\n",
      "rm: cannot remove '32_out/*': No such file or directory\n",
      "rm: cannot remove '33_out/*': No such file or directory\n",
      "g++ 30_answer.cpp -std=gnu++17 -O2 -DONLINE_JUDGE -o 30_answer.cpp.out\n",
      "sed -i 31_answer.cpp -e 's/^\t\tconstexpr double COEF_CENTER_L1 = .*;  \\/\\/ OPTIMIZE \\[-100\\.0, 100\\.0\\]$/\t\tconstexpr double COEF_CENTER_L1 = -78.48739041448539;  \\/\\/ OPTIMIZE [-100.0, 100.0]/' -e 's/^\t\tconstexpr double COEF_CENTER_L1_SQ = .*;  \\/\\/ OPTIMIZE \\[0\\.0, 100\\.0\\]$/\t\tconstexpr double COEF_CENTER_L1_SQ = 24.397173091203506;  \\/\\/ OPTIMIZE [0.0, 100.0]/' -e 's/^\t\tconstexpr double COEF_POINT = .*;  \\/\\/ OPTIMIZE \\[0\\.0, 100\\.0\\]$/\t\tconstexpr double COEF_POINT = 29.760191320445916;  \\/\\/ OPTIMIZE [0.0, 100.0]/' -e 's/^\t\tconstexpr double COEF_DIST = .*;  \\/\\/ OPTIMIZE \\[0\\.0, 10000\\.0\\]$/\t\tconstexpr double COEF_DIST = 8322.823246323103;  \\/\\/ OPTIMIZE [0.0, 10000.0]/'\n",
      "rm: cannot remove '32_score/*': No such file or directory\n",
      "rm: cannot remove '33_score/*': No such file or directory\n",
      "g++ 31_answer.cpp -std=gnu++17 -O2 -DONLINE_JUDGE -o 31_answer.cpp.out\n",
      "sed -i 32_answer.cpp -e 's/^\t\tconstexpr double COEF_CENTER_L1 = .*;  \\/\\/ OPTIMIZE \\[-100\\.0, 100\\.0\\]$/\t\tconstexpr double COEF_CENTER_L1 = -75.77243876328633;  \\/\\/ OPTIMIZE [-100.0, 100.0]/' -e 's/^\t\tconstexpr double COEF_CENTER_L1_SQ = .*;  \\/\\/ OPTIMIZE \\[0\\.0, 100\\.0\\]$/\t\tconstexpr double COEF_CENTER_L1_SQ = 23.218037241262092;  \\/\\/ OPTIMIZE [0.0, 100.0]/' -e 's/^\t\tconstexpr double COEF_POINT = .*;  \\/\\/ OPTIMIZE \\[0\\.0, 100\\.0\\]$/\t\tconstexpr double COEF_POINT = 3.503929883381524;  \\/\\/ OPTIMIZE [0.0, 100.0]/' -e 's/^\t\tconstexpr double COEF_DIST = .*;  \\/\\/ OPTIMIZE \\[0\\.0, 10000\\.0\\]$/\t\tconstexpr double COEF_DIST = 8461.251945626202;  \\/\\/ OPTIMIZE [0.0, 10000.0]/'\n",
      "sed -i 33_answer.cpp -e 's/^\t\tconstexpr double COEF_CENTER_L1 = .*;  \\/\\/ OPTIMIZE \\[-100\\.0, 100\\.0\\]$/\t\tconstexpr double COEF_CENTER_L1 = -74.39437910312088;  \\/\\/ OPTIMIZE [-100.0, 100.0]/' -e 's/^\t\tconstexpr double COEF_CENTER_L1_SQ = .*;  \\/\\/ OPTIMIZE \\[0\\.0, 100\\.0\\]$/\t\tconstexpr double COEF_CENTER_L1_SQ = 22.84942962197116;  \\/\\/ OPTIMIZE [0.0, 100.0]/' -e 's/^\t\tconstexpr double COEF_POINT = .*;  \\/\\/ OPTIMIZE \\[0\\.0, 100\\.0\\]$/\t\tconstexpr double COEF_POINT = 27.46600318244446;  \\/\\/ OPTIMIZE [0.0, 100.0]/' -e 's/^\t\tconstexpr double COEF_DIST = .*;  \\/\\/ OPTIMIZE \\[0\\.0, 10000\\.0\\]$/\t\tconstexpr double COEF_DIST = 8452.179439137211;  \\/\\/ OPTIMIZE [0.0, 10000.0]/'\n",
      "g++ 32_answer.cpp -std=gnu++17 -O2 -DONLINE_JUDGE -o 32_answer.cpp.out\n",
      "g++ 33_answer.cpp -std=gnu++17 -O2 -DONLINE_JUDGE -o 33_answer.cpp.out\n"
     ]
    },
    {
     "name": "stderr",
     "output_type": "stream",
     "text": [
      "\u001b[32m[I 2021-04-25 13:17:12,640]\u001b[0m Trial 28 finished with value: 1244098.0 and parameters: {'COEF_CENTER_L1': -62.50609041000796, 'COEF_CENTER_L1_SQ': 1.3584740032583156, 'COEF_POINT': 2.0957504527853317, 'COEF_DIST': 4232.903540061955}. Best is trial 23 with value: 1479048.0.\u001b[0m\n"
     ]
    },
    {
     "name": "stdout",
     "output_type": "stream",
     "text": [
      "callback ok\n",
      "index_parallel=34\n",
      "rm: cannot remove '34_out/*': No such file or directory\n",
      "rm: cannot remove '34_score/*': No such file or directory\n"
     ]
    },
    {
     "name": "stderr",
     "output_type": "stream",
     "text": [
      "\u001b[32m[I 2021-04-25 13:17:13,512]\u001b[0m Trial 29 finished with value: 1085718.0 and parameters: {'COEF_CENTER_L1': 20.114058576473905, 'COEF_CENTER_L1_SQ': 20.88202629975669, 'COEF_POINT': 28.173657379050177, 'COEF_DIST': 8351.16714561914}. Best is trial 23 with value: 1479048.0.\u001b[0m\n"
     ]
    },
    {
     "name": "stdout",
     "output_type": "stream",
     "text": [
      "callback ok\n"
     ]
    },
    {
     "name": "stderr",
     "output_type": "stream",
     "text": [
      "\u001b[32m[I 2021-04-25 13:17:13,614]\u001b[0m Trial 30 finished with value: 1086633.0 and parameters: {'COEF_CENTER_L1': 21.882511629446924, 'COEF_CENTER_L1_SQ': 24.20890938255579, 'COEF_POINT': 31.412204531892286, 'COEF_DIST': 8535.43541155382}. Best is trial 23 with value: 1479048.0.\u001b[0m\n"
     ]
    },
    {
     "name": "stdout",
     "output_type": "stream",
     "text": [
      "index_parallel=35\n"
     ]
    },
    {
     "name": "stderr",
     "output_type": "stream",
     "text": [
      "\u001b[32m[I 2021-04-25 13:17:13,654]\u001b[0m Trial 31 finished with value: 1045812.0 and parameters: {'COEF_CENTER_L1': -78.48739041448539, 'COEF_CENTER_L1_SQ': 24.397173091203506, 'COEF_POINT': 29.760191320445916, 'COEF_DIST': 8322.823246323103}. Best is trial 23 with value: 1479048.0.\u001b[0m\n"
     ]
    },
    {
     "name": "stdout",
     "output_type": "stream",
     "text": [
      "callback ok\n",
      "sed -i 34_answer.cpp -e 's/^\t\tconstexpr double COEF_CENTER_L1 = .*;  \\/\\/ OPTIMIZE \\[-100\\.0, 100\\.0\\]$/\t\tconstexpr double COEF_CENTER_L1 = -76.31977823903948;  \\/\\/ OPTIMIZE [-100.0, 100.0]/' -e 's/^\t\tconstexpr double COEF_CENTER_L1_SQ = .*;  \\/\\/ OPTIMIZE \\[0\\.0, 100\\.0\\]$/\t\tconstexpr double COEF_CENTER_L1_SQ = 21.997220574399428;  \\/\\/ OPTIMIZE [0.0, 100.0]/' -e 's/^\t\tconstexpr double COEF_POINT = .*;  \\/\\/ OPTIMIZE \\[0\\.0, 100\\.0\\]$/\t\tconstexpr double COEF_POINT = 48.94504610094414;  \\/\\/ OPTIMIZE [0.0, 100.0]/' -e 's/^\t\tconstexpr double COEF_DIST = .*;  \\/\\/ OPTIMIZE \\[0\\.0, 10000\\.0\\]$/\t\tconstexpr double COEF_DIST = 6332.868964319325;  \\/\\/ OPTIMIZE [0.0, 10000.0]/'\n",
      "callback ok\n",
      "index_parallel=36\n",
      "index_parallel=37\n",
      "g++ 34_answer.cpp -std=gnu++17 -O2 -DONLINE_JUDGE -o 34_answer.cpp.out\n",
      "rm: cannot remove '35_out/*': No such file or directory\n",
      "rm: cannot remove '36_out/*': No such file or directory\n",
      "rm: cannot remove '37_out/*': No such file or directory\n",
      "rm: cannot remove '35_score/*': No such file or directory\n",
      "rm: cannot remove '36_score/*': No such file or directory\n",
      "rm: cannot remove '37_score/*': No such file or directory\n"
     ]
    },
    {
     "name": "stderr",
     "output_type": "stream",
     "text": [
      "\u001b[32m[I 2021-04-25 13:17:14,203]\u001b[0m Trial 32 finished with value: 1085256.0 and parameters: {'COEF_CENTER_L1': -75.77243876328633, 'COEF_CENTER_L1_SQ': 23.218037241262092, 'COEF_POINT': 3.503929883381524, 'COEF_DIST': 8461.251945626202}. Best is trial 23 with value: 1479048.0.\u001b[0m\n"
     ]
    },
    {
     "name": "stdout",
     "output_type": "stream",
     "text": [
      "callback ok\n",
      "index_parallel=38\n"
     ]
    },
    {
     "name": "stderr",
     "output_type": "stream",
     "text": [
      "\u001b[32m[I 2021-04-25 13:17:14,430]\u001b[0m Trial 33 finished with value: 1068093.0 and parameters: {'COEF_CENTER_L1': -74.39437910312088, 'COEF_CENTER_L1_SQ': 22.84942962197116, 'COEF_POINT': 27.46600318244446, 'COEF_DIST': 8452.179439137211}. Best is trial 23 with value: 1479048.0.\u001b[0m\n"
     ]
    },
    {
     "name": "stdout",
     "output_type": "stream",
     "text": [
      "rm: cannot remove '38_out/*': No such file or directory\n",
      "callback ok\n",
      "index_parallel=39\n",
      "rm: cannot remove '38_score/*': No such file or directory\n",
      "sed -i 35_answer.cpp -e 's/^\t\tconstexpr double COEF_CENTER_L1 = .*;  \\/\\/ OPTIMIZE \\[-100\\.0, 100\\.0\\]$/\t\tconstexpr double COEF_CENTER_L1 = 99.41642000912223;  \\/\\/ OPTIMIZE [-100.0, 100.0]/' -e 's/^\t\tconstexpr double COEF_CENTER_L1_SQ = .*;  \\/\\/ OPTIMIZE \\[0\\.0, 100\\.0\\]$/\t\tconstexpr double COEF_CENTER_L1_SQ = 5.049890622894431;  \\/\\/ OPTIMIZE [0.0, 100.0]/' -e 's/^\t\tconstexpr double COEF_POINT = .*;  \\/\\/ OPTIMIZE \\[0\\.0, 100\\.0\\]$/\t\tconstexpr double COEF_POINT = 47.537944007141185;  \\/\\/ OPTIMIZE [0.0, 100.0]/' -e 's/^\t\tconstexpr double COEF_DIST = .*;  \\/\\/ OPTIMIZE \\[0\\.0, 10000\\.0\\]$/\t\tconstexpr double COEF_DIST = 5974.285134996571;  \\/\\/ OPTIMIZE [0.0, 10000.0]/'\n",
      "rm: cannot remove '39_out/*': No such file or directory\n",
      "g++ 35_answer.cpp -std=gnu++17 -O2 -DONLINE_JUDGE -o 35_answer.cpp.out\n",
      "sed -i 36_answer.cpp -e 's/^\t\tconstexpr double COEF_CENTER_L1 = .*;  \\/\\/ OPTIMIZE \\[-100\\.0, 100\\.0\\]$/\t\tconstexpr double COEF_CENTER_L1 = 95.16649753043657;  \\/\\/ OPTIMIZE [-100.0, 100.0]/' -e 's/^\t\tconstexpr double COEF_CENTER_L1_SQ = .*;  \\/\\/ OPTIMIZE \\[0\\.0, 100\\.0\\]$/\t\tconstexpr double COEF_CENTER_L1_SQ = 6.6550862209463055;  \\/\\/ OPTIMIZE [0.0, 100.0]/' -e 's/^\t\tconstexpr double COEF_POINT = .*;  \\/\\/ OPTIMIZE \\[0\\.0, 100\\.0\\]$/\t\tconstexpr double COEF_POINT = 45.32494060596285;  \\/\\/ OPTIMIZE [0.0, 100.0]/' -e 's/^\t\tconstexpr double COEF_DIST = .*;  \\/\\/ OPTIMIZE \\[0\\.0, 10000\\.0\\]$/\t\tconstexpr double COEF_DIST = 6788.538086801617;  \\/\\/ OPTIMIZE [0.0, 10000.0]/'\n",
      "rm: cannot remove '39_score/*': No such file or directory\n",
      "sed -i 37_answer.cpp -e 's/^\t\tconstexpr double COEF_CENTER_L1 = .*;  \\/\\/ OPTIMIZE \\[-100\\.0, 100\\.0\\]$/\t\tconstexpr double COEF_CENTER_L1 = 94.13303700278115;  \\/\\/ OPTIMIZE [-100.0, 100.0]/' -e 's/^\t\tconstexpr double COEF_CENTER_L1_SQ = .*;  \\/\\/ OPTIMIZE \\[0\\.0, 100\\.0\\]$/\t\tconstexpr double COEF_CENTER_L1_SQ = 6.346857265725591;  \\/\\/ OPTIMIZE [0.0, 100.0]/' -e 's/^\t\tconstexpr double COEF_POINT = .*;  \\/\\/ OPTIMIZE \\[0\\.0, 100\\.0\\]$/\t\tconstexpr double COEF_POINT = 47.40203738717436;  \\/\\/ OPTIMIZE [0.0, 100.0]/' -e 's/^\t\tconstexpr double COEF_DIST = .*;  \\/\\/ OPTIMIZE \\[0\\.0, 10000\\.0\\]$/\t\tconstexpr double COEF_DIST = 6468.198651388642;  \\/\\/ OPTIMIZE [0.0, 10000.0]/'\n",
      "g++ 36_answer.cpp -std=gnu++17 -O2 -DONLINE_JUDGE -o 36_answer.cpp.out\n",
      "g++ 37_answer.cpp -std=gnu++17 -O2 -DONLINE_JUDGE -o 37_answer.cpp.out\n",
      "sed -i 38_answer.cpp -e 's/^\t\tconstexpr double COEF_CENTER_L1 = .*;  \\/\\/ OPTIMIZE \\[-100\\.0, 100\\.0\\]$/\t\tconstexpr double COEF_CENTER_L1 = 84.85581423285605;  \\/\\/ OPTIMIZE [-100.0, 100.0]/' -e 's/^\t\tconstexpr double COEF_CENTER_L1_SQ = .*;  \\/\\/ OPTIMIZE \\[0\\.0, 100\\.0\\]$/\t\tconstexpr double COEF_CENTER_L1_SQ = 7.413968456277445;  \\/\\/ OPTIMIZE [0.0, 100.0]/' -e 's/^\t\tconstexpr double COEF_POINT = .*;  \\/\\/ OPTIMIZE \\[0\\.0, 100\\.0\\]$/\t\tconstexpr double COEF_POINT = 46.26506369260538;  \\/\\/ OPTIMIZE [0.0, 100.0]/' -e 's/^\t\tconstexpr double COEF_DIST = .*;  \\/\\/ OPTIMIZE \\[0\\.0, 10000\\.0\\]$/\t\tconstexpr double COEF_DIST = 6930.76343581006;  \\/\\/ OPTIMIZE [0.0, 10000.0]/'\n",
      "g++ 38_answer.cpp -std=gnu++17 -O2 -DONLINE_JUDGE -o 38_answer.cpp.out\n",
      "sed -i 39_answer.cpp -e 's/^\t\tconstexpr double COEF_CENTER_L1 = .*;  \\/\\/ OPTIMIZE \\[-100\\.0, 100\\.0\\]$/\t\tconstexpr double COEF_CENTER_L1 = 89.95224484101877;  \\/\\/ OPTIMIZE [-100.0, 100.0]/' -e 's/^\t\tconstexpr double COEF_CENTER_L1_SQ = .*;  \\/\\/ OPTIMIZE \\[0\\.0, 100\\.0\\]$/\t\tconstexpr double COEF_CENTER_L1_SQ = 7.038319047417332;  \\/\\/ OPTIMIZE [0.0, 100.0]/' -e 's/^\t\tconstexpr double COEF_POINT = .*;  \\/\\/ OPTIMIZE \\[0\\.0, 100\\.0\\]$/\t\tconstexpr double COEF_POINT = 46.93312179647634;  \\/\\/ OPTIMIZE [0.0, 100.0]/' -e 's/^\t\tconstexpr double COEF_DIST = .*;  \\/\\/ OPTIMIZE \\[0\\.0, 10000\\.0\\]$/\t\tconstexpr double COEF_DIST = 6785.666044075453;  \\/\\/ OPTIMIZE [0.0, 10000.0]/'\n",
      "g++ 39_answer.cpp -std=gnu++17 -O2 -DONLINE_JUDGE -o 39_answer.cpp.out\n"
     ]
    },
    {
     "name": "stderr",
     "output_type": "stream",
     "text": [
      "\u001b[32m[I 2021-04-25 13:17:21,798]\u001b[0m Trial 34 finished with value: 992125.0 and parameters: {'COEF_CENTER_L1': -76.31977823903948, 'COEF_CENTER_L1_SQ': 21.997220574399428, 'COEF_POINT': 48.94504610094414, 'COEF_DIST': 6332.868964319325}. Best is trial 23 with value: 1479048.0.\u001b[0m\n"
     ]
    },
    {
     "name": "stdout",
     "output_type": "stream",
     "text": [
      "callback ok\n",
      "index_parallel=40\n",
      "rm: cannot remove '40_out/*': No such file or directory\n",
      "rm: cannot remove '40_score/*': No such file or directory\n",
      "sed -i 40_answer.cpp -e 's/^\t\tconstexpr double COEF_CENTER_L1 = .*;  \\/\\/ OPTIMIZE \\[-100\\.0, 100\\.0\\]$/\t\tconstexpr double COEF_CENTER_L1 = 97.57845360189114;  \\/\\/ OPTIMIZE [-100.0, 100.0]/' -e 's/^\t\tconstexpr double COEF_CENTER_L1_SQ = .*;  \\/\\/ OPTIMIZE \\[0\\.0, 100\\.0\\]$/\t\tconstexpr double COEF_CENTER_L1_SQ = 5.288307093811012;  \\/\\/ OPTIMIZE [0.0, 100.0]/' -e 's/^\t\tconstexpr double COEF_POINT = .*;  \\/\\/ OPTIMIZE \\[0\\.0, 100\\.0\\]$/\t\tconstexpr double COEF_POINT = 47.37116111870516;  \\/\\/ OPTIMIZE [0.0, 100.0]/' -e 's/^\t\tconstexpr double COEF_DIST = .*;  \\/\\/ OPTIMIZE \\[0\\.0, 10000\\.0\\]$/\t\tconstexpr double COEF_DIST = 3416.7836249733296;  \\/\\/ OPTIMIZE [0.0, 10000.0]/'\n",
      "g++ 40_answer.cpp -std=gnu++17 -O2 -DONLINE_JUDGE -o 40_answer.cpp.out\n"
     ]
    },
    {
     "name": "stderr",
     "output_type": "stream",
     "text": [
      "\u001b[32m[I 2021-04-25 13:17:23,867]\u001b[0m Trial 35 finished with value: 1406893.0 and parameters: {'COEF_CENTER_L1': 99.41642000912223, 'COEF_CENTER_L1_SQ': 5.049890622894431, 'COEF_POINT': 47.537944007141185, 'COEF_DIST': 5974.285134996571}. Best is trial 23 with value: 1479048.0.\u001b[0m\n"
     ]
    },
    {
     "name": "stdout",
     "output_type": "stream",
     "text": [
      "callback ok\n",
      "index_parallel=41\n"
     ]
    },
    {
     "name": "stderr",
     "output_type": "stream",
     "text": [
      "\u001b[32m[I 2021-04-25 13:17:24,091]\u001b[0m Trial 36 finished with value: 1368630.0 and parameters: {'COEF_CENTER_L1': 95.16649753043657, 'COEF_CENTER_L1_SQ': 6.6550862209463055, 'COEF_POINT': 45.32494060596285, 'COEF_DIST': 6788.538086801617}. Best is trial 23 with value: 1479048.0.\u001b[0m\n"
     ]
    },
    {
     "name": "stdout",
     "output_type": "stream",
     "text": [
      "callback ok\n",
      "index_parallel=42\n",
      "rm: cannot remove '41_out/*': No such file or directory\n"
     ]
    },
    {
     "name": "stderr",
     "output_type": "stream",
     "text": [
      "\u001b[32m[I 2021-04-25 13:17:24,183]\u001b[0m Trial 37 finished with value: 1396943.0 and parameters: {'COEF_CENTER_L1': 94.13303700278115, 'COEF_CENTER_L1_SQ': 6.346857265725591, 'COEF_POINT': 47.40203738717436, 'COEF_DIST': 6468.198651388642}. Best is trial 23 with value: 1479048.0.\u001b[0m\n"
     ]
    },
    {
     "name": "stdout",
     "output_type": "stream",
     "text": [
      "callback ok\n",
      "index_parallel=43\n",
      "rm: cannot remove '41_score/*': No such file or directory\n"
     ]
    },
    {
     "name": "stderr",
     "output_type": "stream",
     "text": [
      "\u001b[32m[I 2021-04-25 13:17:24,333]\u001b[0m Trial 38 finished with value: 1404481.0 and parameters: {'COEF_CENTER_L1': 84.85581423285605, 'COEF_CENTER_L1_SQ': 7.413968456277445, 'COEF_POINT': 46.26506369260538, 'COEF_DIST': 6930.76343581006}. Best is trial 23 with value: 1479048.0.\u001b[0m\n"
     ]
    },
    {
     "name": "stdout",
     "output_type": "stream",
     "text": [
      "callback ok\n",
      "rm: cannot remove '42_out/*': No such file or directory\n",
      "index_parallel=44\n",
      "rm: cannot remove '43_out/*': No such file or directory\n",
      "rm: cannot remove '42_score/*': No such file or directory\n"
     ]
    },
    {
     "name": "stderr",
     "output_type": "stream",
     "text": [
      "\u001b[32m[I 2021-04-25 13:17:24,545]\u001b[0m Trial 39 finished with value: 1379068.0 and parameters: {'COEF_CENTER_L1': 89.95224484101877, 'COEF_CENTER_L1_SQ': 7.038319047417332, 'COEF_POINT': 46.93312179647634, 'COEF_DIST': 6785.666044075453}. Best is trial 23 with value: 1479048.0.\u001b[0m\n"
     ]
    },
    {
     "name": "stdout",
     "output_type": "stream",
     "text": [
      "rm: cannot remove '43_score/*': No such file or directory\n",
      "callback ok\n",
      "rm: cannot remove '44_out/*': No such file or directory\n",
      "index_parallel=45\n",
      "rm: cannot remove '44_score/*': No such file or directory\n",
      "rm: cannot remove '45_out/*': No such file or directory\n",
      "sed -i 41_answer.cpp -e 's/^\t\tconstexpr double COEF_CENTER_L1 = .*;  \\/\\/ OPTIMIZE \\[-100\\.0, 100\\.0\\]$/\t\tconstexpr double COEF_CENTER_L1 = -48.882831585610134;  \\/\\/ OPTIMIZE [-100.0, 100.0]/' -e 's/^\t\tconstexpr double COEF_CENTER_L1_SQ = .*;  \\/\\/ OPTIMIZE \\[0\\.0, 100\\.0\\]$/\t\tconstexpr double COEF_CENTER_L1_SQ = 14.403565787890201;  \\/\\/ OPTIMIZE [0.0, 100.0]/' -e 's/^\t\tconstexpr double COEF_POINT = .*;  \\/\\/ OPTIMIZE \\[0\\.0, 100\\.0\\]$/\t\tconstexpr double COEF_POINT = 37.52252525326241;  \\/\\/ OPTIMIZE [0.0, 100.0]/' -e 's/^\t\tconstexpr double COEF_DIST = .*;  \\/\\/ OPTIMIZE \\[0\\.0, 10000\\.0\\]$/\t\tconstexpr double COEF_DIST = 9888.615890711266;  \\/\\/ OPTIMIZE [0.0, 10000.0]/'\n",
      "rm: cannot remove '45_score/*': No such file or directory\n",
      "g++ 41_answer.cpp -std=gnu++17 -O2 -DONLINE_JUDGE -o 41_answer.cpp.out\n",
      "sed -i 42_answer.cpp -e 's/^\t\tconstexpr double COEF_CENTER_L1 = .*;  \\/\\/ OPTIMIZE \\[-100\\.0, 100\\.0\\]$/\t\tconstexpr double COEF_CENTER_L1 = -41.14351715222005;  \\/\\/ OPTIMIZE [-100.0, 100.0]/' -e 's/^\t\tconstexpr double COEF_CENTER_L1_SQ = .*;  \\/\\/ OPTIMIZE \\[0\\.0, 100\\.0\\]$/\t\tconstexpr double COEF_CENTER_L1_SQ = 15.47053260308363;  \\/\\/ OPTIMIZE [0.0, 100.0]/' -e 's/^\t\tconstexpr double COEF_POINT = .*;  \\/\\/ OPTIMIZE \\[0\\.0, 100\\.0\\]$/\t\tconstexpr double COEF_POINT = 36.72317681416932;  \\/\\/ OPTIMIZE [0.0, 100.0]/' -e 's/^\t\tconstexpr double COEF_DIST = .*;  \\/\\/ OPTIMIZE \\[0\\.0, 10000\\.0\\]$/\t\tconstexpr double COEF_DIST = 4347.7385191101785;  \\/\\/ OPTIMIZE [0.0, 10000.0]/'\n",
      "sed -i 43_answer.cpp -e 's/^\t\tconstexpr double COEF_CENTER_L1 = .*;  \\/\\/ OPTIMIZE \\[-100\\.0, 100\\.0\\]$/\t\tconstexpr double COEF_CENTER_L1 = -44.43089818860302;  \\/\\/ OPTIMIZE [-100.0, 100.0]/' -e 's/^\t\tconstexpr double COEF_CENTER_L1_SQ = .*;  \\/\\/ OPTIMIZE \\[0\\.0, 100\\.0\\]$/\t\tconstexpr double COEF_CENTER_L1_SQ = 16.326978980106;  \\/\\/ OPTIMIZE [0.0, 100.0]/' -e 's/^\t\tconstexpr double COEF_POINT = .*;  \\/\\/ OPTIMIZE \\[0\\.0, 100\\.0\\]$/\t\tconstexpr double COEF_POINT = 38.230975898610595;  \\/\\/ OPTIMIZE [0.0, 100.0]/' -e 's/^\t\tconstexpr double COEF_DIST = .*;  \\/\\/ OPTIMIZE \\[0\\.0, 10000\\.0\\]$/\t\tconstexpr double COEF_DIST = 9883.410712023953;  \\/\\/ OPTIMIZE [0.0, 10000.0]/'\n",
      "g++ 42_answer.cpp -std=gnu++17 -O2 -DONLINE_JUDGE -o 42_answer.cpp.out\n",
      "g++ 43_answer.cpp -std=gnu++17 -O2 -DONLINE_JUDGE -o 43_answer.cpp.out\n",
      "sed -i 44_answer.cpp -e 's/^\t\tconstexpr double COEF_CENTER_L1 = .*;  \\/\\/ OPTIMIZE \\[-100\\.0, 100\\.0\\]$/\t\tconstexpr double COEF_CENTER_L1 = -47.4241957727007;  \\/\\/ OPTIMIZE [-100.0, 100.0]/' -e 's/^\t\tconstexpr double COEF_CENTER_L1_SQ = .*;  \\/\\/ OPTIMIZE \\[0\\.0, 100\\.0\\]$/\t\tconstexpr double COEF_CENTER_L1_SQ = 12.583780065287336;  \\/\\/ OPTIMIZE [0.0, 100.0]/' -e 's/^\t\tconstexpr double COEF_POINT = .*;  \\/\\/ OPTIMIZE \\[0\\.0, 100\\.0\\]$/\t\tconstexpr double COEF_POINT = 37.25302085972352;  \\/\\/ OPTIMIZE [0.0, 100.0]/' -e 's/^\t\tconstexpr double COEF_DIST = .*;  \\/\\/ OPTIMIZE \\[0\\.0, 10000\\.0\\]$/\t\tconstexpr double COEF_DIST = 9884.89847293748;  \\/\\/ OPTIMIZE [0.0, 10000.0]/'\n",
      "sed -i 45_answer.cpp -e 's/^\t\tconstexpr double COEF_CENTER_L1 = .*;  \\/\\/ OPTIMIZE \\[-100\\.0, 100\\.0\\]$/\t\tconstexpr double COEF_CENTER_L1 = -45.220529720344516;  \\/\\/ OPTIMIZE [-100.0, 100.0]/' -e 's/^\t\tconstexpr double COEF_CENTER_L1_SQ = .*;  \\/\\/ OPTIMIZE \\[0\\.0, 100\\.0\\]$/\t\tconstexpr double COEF_CENTER_L1_SQ = 15.136983059383102;  \\/\\/ OPTIMIZE [0.0, 100.0]/' -e 's/^\t\tconstexpr double COEF_POINT = .*;  \\/\\/ OPTIMIZE \\[0\\.0, 100\\.0\\]$/\t\tconstexpr double COEF_POINT = 39.312406670577346;  \\/\\/ OPTIMIZE [0.0, 100.0]/' -e 's/^\t\tconstexpr double COEF_DIST = .*;  \\/\\/ OPTIMIZE \\[0\\.0, 10000\\.0\\]$/\t\tconstexpr double COEF_DIST = 4466.444128920948;  \\/\\/ OPTIMIZE [0.0, 10000.0]/'\n",
      "g++ 44_answer.cpp -std=gnu++17 -O2 -DONLINE_JUDGE -o 44_answer.cpp.out\n",
      "g++ 45_answer.cpp -std=gnu++17 -O2 -DONLINE_JUDGE -o 45_answer.cpp.out\n"
     ]
    },
    {
     "name": "stderr",
     "output_type": "stream",
     "text": [
      "\u001b[32m[I 2021-04-25 13:17:30,845]\u001b[0m Trial 40 finished with value: 1298442.0 and parameters: {'COEF_CENTER_L1': 97.57845360189114, 'COEF_CENTER_L1_SQ': 5.288307093811012, 'COEF_POINT': 47.37116111870516, 'COEF_DIST': 3416.7836249733296}. Best is trial 23 with value: 1479048.0.\u001b[0m\n"
     ]
    },
    {
     "name": "stdout",
     "output_type": "stream",
     "text": [
      "callback ok\n",
      "index_parallel=46\n",
      "rm: cannot remove '46_out/*': No such file or directory\n",
      "rm: cannot remove '46_score/*': No such file or directory\n",
      "sed -i 46_answer.cpp -e 's/^\t\tconstexpr double COEF_CENTER_L1 = .*;  \\/\\/ OPTIMIZE \\[-100\\.0, 100\\.0\\]$/\t\tconstexpr double COEF_CENTER_L1 = -43.18874317294457;  \\/\\/ OPTIMIZE [-100.0, 100.0]/' -e 's/^\t\tconstexpr double COEF_CENTER_L1_SQ = .*;  \\/\\/ OPTIMIZE \\[0\\.0, 100\\.0\\]$/\t\tconstexpr double COEF_CENTER_L1_SQ = 15.089453044396192;  \\/\\/ OPTIMIZE [0.0, 100.0]/' -e 's/^\t\tconstexpr double COEF_POINT = .*;  \\/\\/ OPTIMIZE \\[0\\.0, 100\\.0\\]$/\t\tconstexpr double COEF_POINT = 37.89984206881278;  \\/\\/ OPTIMIZE [0.0, 100.0]/' -e 's/^\t\tconstexpr double COEF_DIST = .*;  \\/\\/ OPTIMIZE \\[0\\.0, 10000\\.0\\]$/\t\tconstexpr double COEF_DIST = 9789.983197115227;  \\/\\/ OPTIMIZE [0.0, 10000.0]/'\n",
      "g++ 46_answer.cpp -std=gnu++17 -O2 -DONLINE_JUDGE -o 46_answer.cpp.out\n"
     ]
    },
    {
     "name": "stderr",
     "output_type": "stream",
     "text": [
      "\u001b[32m[I 2021-04-25 13:17:33,982]\u001b[0m Trial 41 finished with value: 1339281.0 and parameters: {'COEF_CENTER_L1': -48.882831585610134, 'COEF_CENTER_L1_SQ': 14.403565787890201, 'COEF_POINT': 37.52252525326241, 'COEF_DIST': 9888.615890711266}. Best is trial 23 with value: 1479048.0.\u001b[0m\n"
     ]
    },
    {
     "name": "stdout",
     "output_type": "stream",
     "text": [
      "callback ok\n",
      "index_parallel=47\n"
     ]
    },
    {
     "name": "stderr",
     "output_type": "stream",
     "text": [
      "\u001b[32m[I 2021-04-25 13:17:34,275]\u001b[0m Trial 42 finished with value: 1029208.0 and parameters: {'COEF_CENTER_L1': -41.14351715222005, 'COEF_CENTER_L1_SQ': 15.47053260308363, 'COEF_POINT': 36.72317681416932, 'COEF_DIST': 4347.7385191101785}. Best is trial 23 with value: 1479048.0.\u001b[0m\n"
     ]
    },
    {
     "name": "stdout",
     "output_type": "stream",
     "text": [
      "rm: cannot remove '47_out/*': No such file or directory\n",
      "callback ok\n",
      "index_parallel=48\n",
      "rm: cannot remove '47_score/*': No such file or directory\n",
      "rm: cannot remove '48_out/*': No such file or directory\n"
     ]
    },
    {
     "name": "stderr",
     "output_type": "stream",
     "text": [
      "\u001b[32m[I 2021-04-25 13:17:34,589]\u001b[0m Trial 43 finished with value: 1330763.0 and parameters: {'COEF_CENTER_L1': -44.43089818860302, 'COEF_CENTER_L1_SQ': 16.326978980106, 'COEF_POINT': 38.230975898610595, 'COEF_DIST': 9883.410712023953}. Best is trial 23 with value: 1479048.0.\u001b[0m\n"
     ]
    },
    {
     "name": "stdout",
     "output_type": "stream",
     "text": [
      "callback ok\n",
      "index_parallel=49\n",
      "rm: cannot remove '48_score/*': No such file or directory\n",
      "rm: cannot remove '49_out/*': No such file or directory\n"
     ]
    },
    {
     "name": "stderr",
     "output_type": "stream",
     "text": [
      "\u001b[32m[I 2021-04-25 13:17:34,898]\u001b[0m Trial 44 finished with value: 1374800.0 and parameters: {'COEF_CENTER_L1': -47.4241957727007, 'COEF_CENTER_L1_SQ': 12.583780065287336, 'COEF_POINT': 37.25302085972352, 'COEF_DIST': 9884.89847293748}. Best is trial 23 with value: 1479048.0.\u001b[0m\n",
      "\u001b[32m[I 2021-04-25 13:17:34,914]\u001b[0m Trial 45 finished with value: 1001583.0 and parameters: {'COEF_CENTER_L1': -45.220529720344516, 'COEF_CENTER_L1_SQ': 15.136983059383102, 'COEF_POINT': 39.312406670577346, 'COEF_DIST': 4466.444128920948}. Best is trial 23 with value: 1479048.0.\u001b[0m\n"
     ]
    },
    {
     "name": "stdout",
     "output_type": "stream",
     "text": [
      "callback ok\n",
      "rm: cannot remove '49_score/*': No such file or directory\n",
      "index_parallel=50\n",
      "callback ok\n",
      "sed -i 47_answer.cpp -e 's/^\t\tconstexpr double COEF_CENTER_L1 = .*;  \\/\\/ OPTIMIZE \\[-100\\.0, 100\\.0\\]$/\t\tconstexpr double COEF_CENTER_L1 = -28.56051671961786;  \\/\\/ OPTIMIZE [-100.0, 100.0]/' -e 's/^\t\tconstexpr double COEF_CENTER_L1_SQ = .*;  \\/\\/ OPTIMIZE \\[0\\.0, 100\\.0\\]$/\t\tconstexpr double COEF_CENTER_L1_SQ = 65.27882438249748;  \\/\\/ OPTIMIZE [0.0, 100.0]/' -e 's/^\t\tconstexpr double COEF_POINT = .*;  \\/\\/ OPTIMIZE \\[0\\.0, 100\\.0\\]$/\t\tconstexpr double COEF_POINT = 18.24938854413999;  \\/\\/ OPTIMIZE [0.0, 100.0]/' -e 's/^\t\tconstexpr double COEF_DIST = .*;  \\/\\/ OPTIMIZE \\[0\\.0, 10000\\.0\\]$/\t\tconstexpr double COEF_DIST = 9072.347988675865;  \\/\\/ OPTIMIZE [0.0, 10000.0]/'\n",
      "index_parallel=51\n",
      "g++ 47_answer.cpp -std=gnu++17 -O2 -DONLINE_JUDGE -o 47_answer.cpp.out\n",
      "rm: cannot remove '50_out/*': No such file or directory\n",
      "sed -i 48_answer.cpp -e 's/^\t\tconstexpr double COEF_CENTER_L1 = .*;  \\/\\/ OPTIMIZE \\[-100\\.0, 100\\.0\\]$/\t\tconstexpr double COEF_CENTER_L1 = -30.53604174357372;  \\/\\/ OPTIMIZE [-100.0, 100.0]/' -e 's/^\t\tconstexpr double COEF_CENTER_L1_SQ = .*;  \\/\\/ OPTIMIZE \\[0\\.0, 100\\.0\\]$/\t\tconstexpr double COEF_CENTER_L1_SQ = 62.98747900014992;  \\/\\/ OPTIMIZE [0.0, 100.0]/' -e 's/^\t\tconstexpr double COEF_POINT = .*;  \\/\\/ OPTIMIZE \\[0\\.0, 100\\.0\\]$/\t\tconstexpr double COEF_POINT = 12.238355660725873;  \\/\\/ OPTIMIZE [0.0, 100.0]/' -e 's/^\t\tconstexpr double COEF_DIST = .*;  \\/\\/ OPTIMIZE \\[0\\.0, 10000\\.0\\]$/\t\tconstexpr double COEF_DIST = 7756.898335153812;  \\/\\/ OPTIMIZE [0.0, 10000.0]/'\n",
      "rm: cannot remove '50_score/*': No such file or directory\n",
      "rm: cannot remove '51_out/*': No such file or directory\n",
      "g++ 48_answer.cpp -std=gnu++17 -O2 -DONLINE_JUDGE -o 48_answer.cpp.out\n",
      "rm: cannot remove '51_score/*': No such file or directory\n",
      "sed -i 49_answer.cpp -e 's/^\t\tconstexpr double COEF_CENTER_L1 = .*;  \\/\\/ OPTIMIZE \\[-100\\.0, 100\\.0\\]$/\t\tconstexpr double COEF_CENTER_L1 = -29.787127707817355;  \\/\\/ OPTIMIZE [-100.0, 100.0]/' -e 's/^\t\tconstexpr double COEF_CENTER_L1_SQ = .*;  \\/\\/ OPTIMIZE \\[0\\.0, 100\\.0\\]$/\t\tconstexpr double COEF_CENTER_L1_SQ = 66.79420916353862;  \\/\\/ OPTIMIZE [0.0, 100.0]/' -e 's/^\t\tconstexpr double COEF_POINT = .*;  \\/\\/ OPTIMIZE \\[0\\.0, 100\\.0\\]$/\t\tconstexpr double COEF_POINT = 17.986029691857077;  \\/\\/ OPTIMIZE [0.0, 100.0]/' -e 's/^\t\tconstexpr double COEF_DIST = .*;  \\/\\/ OPTIMIZE \\[0\\.0, 10000\\.0\\]$/\t\tconstexpr double COEF_DIST = 9387.23056261137;  \\/\\/ OPTIMIZE [0.0, 10000.0]/'\n",
      "g++ 49_answer.cpp -std=gnu++17 -O2 -DONLINE_JUDGE -o 49_answer.cpp.out\n",
      "sed -i 50_answer.cpp -e 's/^\t\tconstexpr double COEF_CENTER_L1 = .*;  \\/\\/ OPTIMIZE \\[-100\\.0, 100\\.0\\]$/\t\tconstexpr double COEF_CENTER_L1 = -28.107912541034352;  \\/\\/ OPTIMIZE [-100.0, 100.0]/' -e 's/^\t\tconstexpr double COEF_CENTER_L1_SQ = .*;  \\/\\/ OPTIMIZE \\[0\\.0, 100\\.0\\]$/\t\tconstexpr double COEF_CENTER_L1_SQ = 85.08607268966549;  \\/\\/ OPTIMIZE [0.0, 100.0]/' -e 's/^\t\tconstexpr double COEF_POINT = .*;  \\/\\/ OPTIMIZE \\[0\\.0, 100\\.0\\]$/\t\tconstexpr double COEF_POINT = 16.23584808942843;  \\/\\/ OPTIMIZE [0.0, 100.0]/' -e 's/^\t\tconstexpr double COEF_DIST = .*;  \\/\\/ OPTIMIZE \\[0\\.0, 10000\\.0\\]$/\t\tconstexpr double COEF_DIST = 7813.944265467249;  \\/\\/ OPTIMIZE [0.0, 10000.0]/'\n",
      "sed -i 51_answer.cpp -e 's/^\t\tconstexpr double COEF_CENTER_L1 = .*;  \\/\\/ OPTIMIZE \\[-100\\.0, 100\\.0\\]$/\t\tconstexpr double COEF_CENTER_L1 = -30.920173527390077;  \\/\\/ OPTIMIZE [-100.0, 100.0]/' -e 's/^\t\tconstexpr double COEF_CENTER_L1_SQ = .*;  \\/\\/ OPTIMIZE \\[0\\.0, 100\\.0\\]$/\t\tconstexpr double COEF_CENTER_L1_SQ = 71.50075124731416;  \\/\\/ OPTIMIZE [0.0, 100.0]/' -e 's/^\t\tconstexpr double COEF_POINT = .*;  \\/\\/ OPTIMIZE \\[0\\.0, 100\\.0\\]$/\t\tconstexpr double COEF_POINT = 17.22333856820888;  \\/\\/ OPTIMIZE [0.0, 100.0]/' -e 's/^\t\tconstexpr double COEF_DIST = .*;  \\/\\/ OPTIMIZE \\[0\\.0, 10000\\.0\\]$/\t\tconstexpr double COEF_DIST = 7759.4457621511465;  \\/\\/ OPTIMIZE [0.0, 10000.0]/'\n",
      "g++ 50_answer.cpp -std=gnu++17 -O2 -DONLINE_JUDGE -o 50_answer.cpp.out\n",
      "g++ 51_answer.cpp -std=gnu++17 -O2 -DONLINE_JUDGE -o 51_answer.cpp.out\n"
     ]
    },
    {
     "name": "stderr",
     "output_type": "stream",
     "text": [
      "\u001b[32m[I 2021-04-25 13:17:39,891]\u001b[0m Trial 46 finished with value: 1335593.0 and parameters: {'COEF_CENTER_L1': -43.18874317294457, 'COEF_CENTER_L1_SQ': 15.089453044396192, 'COEF_POINT': 37.89984206881278, 'COEF_DIST': 9789.983197115227}. Best is trial 23 with value: 1479048.0.\u001b[0m\n"
     ]
    },
    {
     "name": "stdout",
     "output_type": "stream",
     "text": [
      "callback ok\n",
      "index_parallel=52\n",
      "rm: cannot remove '52_out/*': No such file or directory\n",
      "rm: cannot remove '52_score/*': No such file or directory\n",
      "sed -i 52_answer.cpp -e 's/^\t\tconstexpr double COEF_CENTER_L1 = .*;  \\/\\/ OPTIMIZE \\[-100\\.0, 100\\.0\\]$/\t\tconstexpr double COEF_CENTER_L1 = -64.3813666206339;  \\/\\/ OPTIMIZE [-100.0, 100.0]/' -e 's/^\t\tconstexpr double COEF_CENTER_L1_SQ = .*;  \\/\\/ OPTIMIZE \\[0\\.0, 100\\.0\\]$/\t\tconstexpr double COEF_CENTER_L1_SQ = 67.68035327477892;  \\/\\/ OPTIMIZE [0.0, 100.0]/' -e 's/^\t\tconstexpr double COEF_POINT = .*;  \\/\\/ OPTIMIZE \\[0\\.0, 100\\.0\\]$/\t\tconstexpr double COEF_POINT = 20.320629335391683;  \\/\\/ OPTIMIZE [0.0, 100.0]/' -e 's/^\t\tconstexpr double COEF_DIST = .*;  \\/\\/ OPTIMIZE \\[0\\.0, 10000\\.0\\]$/\t\tconstexpr double COEF_DIST = 7835.579582409608;  \\/\\/ OPTIMIZE [0.0, 10000.0]/'\n",
      "g++ 52_answer.cpp -std=gnu++17 -O2 -DONLINE_JUDGE -o 52_answer.cpp.out\n"
     ]
    },
    {
     "name": "stderr",
     "output_type": "stream",
     "text": [
      "\u001b[32m[I 2021-04-25 13:17:43,400]\u001b[0m Trial 47 finished with value: 786892.0 and parameters: {'COEF_CENTER_L1': -28.56051671961786, 'COEF_CENTER_L1_SQ': 65.27882438249748, 'COEF_POINT': 18.24938854413999, 'COEF_DIST': 9072.347988675865}. Best is trial 23 with value: 1479048.0.\u001b[0m\n"
     ]
    },
    {
     "name": "stdout",
     "output_type": "stream",
     "text": [
      "callback ok\n",
      "index_parallel=53\n",
      "rm: cannot remove '53_out/*': No such file or directory\n",
      "rm: cannot remove '53_score/*': No such file or directory\n"
     ]
    },
    {
     "name": "stderr",
     "output_type": "stream",
     "text": [
      "\u001b[32m[I 2021-04-25 13:17:43,866]\u001b[0m Trial 48 finished with value: 797256.0 and parameters: {'COEF_CENTER_L1': -30.53604174357372, 'COEF_CENTER_L1_SQ': 62.98747900014992, 'COEF_POINT': 12.238355660725873, 'COEF_DIST': 7756.898335153812}. Best is trial 23 with value: 1479048.0.\u001b[0m\n"
     ]
    },
    {
     "name": "stdout",
     "output_type": "stream",
     "text": [
      "callback ok\n",
      "index_parallel=54\n"
     ]
    },
    {
     "name": "stderr",
     "output_type": "stream",
     "text": [
      "\u001b[32m[I 2021-04-25 13:17:44,339]\u001b[0m Trial 49 finished with value: 780879.0 and parameters: {'COEF_CENTER_L1': -29.787127707817355, 'COEF_CENTER_L1_SQ': 66.79420916353862, 'COEF_POINT': 17.986029691857077, 'COEF_DIST': 9387.23056261137}. Best is trial 23 with value: 1479048.0.\u001b[0m\n"
     ]
    },
    {
     "name": "stdout",
     "output_type": "stream",
     "text": [
      "callback ok\n",
      "rm: cannot remove '54_out/*': No such file or directory\n",
      "rm: cannot remove '54_score/*': No such file or directory\n",
      "index_parallel=55\n"
     ]
    },
    {
     "name": "stderr",
     "output_type": "stream",
     "text": [
      "\u001b[32m[I 2021-04-25 13:17:44,999]\u001b[0m Trial 50 finished with value: 791403.0 and parameters: {'COEF_CENTER_L1': -28.107912541034352, 'COEF_CENTER_L1_SQ': 85.08607268966549, 'COEF_POINT': 16.23584808942843, 'COEF_DIST': 7813.944265467249}. Best is trial 23 with value: 1479048.0.\u001b[0m\n",
      "\u001b[32m[I 2021-04-25 13:17:45,061]\u001b[0m Trial 51 finished with value: 819854.0 and parameters: {'COEF_CENTER_L1': -30.920173527390077, 'COEF_CENTER_L1_SQ': 71.50075124731416, 'COEF_POINT': 17.22333856820888, 'COEF_DIST': 7759.4457621511465}. Best is trial 23 with value: 1479048.0.\u001b[0m\n"
     ]
    },
    {
     "name": "stdout",
     "output_type": "stream",
     "text": [
      "callback ok\n",
      "rm: cannot remove '55_out/*': No such file or directory\n",
      "callback ok\n",
      "sed -i 53_answer.cpp -e 's/^\t\tconstexpr double COEF_CENTER_L1 = .*;  \\/\\/ OPTIMIZE \\[-100\\.0, 100\\.0\\]$/\t\tconstexpr double COEF_CENTER_L1 = -61.484037409397;  \\/\\/ OPTIMIZE [-100.0, 100.0]/' -e 's/^\t\tconstexpr double COEF_CENTER_L1_SQ = .*;  \\/\\/ OPTIMIZE \\[0\\.0, 100\\.0\\]$/\t\tconstexpr double COEF_CENTER_L1_SQ = 0.842529392176091;  \\/\\/ OPTIMIZE [0.0, 100.0]/' -e 's/^\t\tconstexpr double COEF_POINT = .*;  \\/\\/ OPTIMIZE \\[0\\.0, 100\\.0\\]$/\t\tconstexpr double COEF_POINT = 57.49125771770788;  \\/\\/ OPTIMIZE [0.0, 100.0]/' -e 's/^\t\tconstexpr double COEF_DIST = .*;  \\/\\/ OPTIMIZE \\[0\\.0, 10000\\.0\\]$/\t\tconstexpr double COEF_DIST = 5216.302361944973;  \\/\\/ OPTIMIZE [0.0, 10000.0]/'\n",
      "index_parallel=56\n",
      "rm: cannot remove '55_score/*': No such file or directory\n",
      "index_parallel=57\n",
      "g++ 53_answer.cpp -std=gnu++17 -O2 -DONLINE_JUDGE -o 53_answer.cpp.out\n",
      "rm: cannot remove '56_out/*': No such file or directory\n",
      "rm: cannot remove '57_out/*': No such file or directory\n",
      "rm: cannot remove '56_score/*': No such file or directory\n",
      "sed -i 54_answer.cpp -e 's/^\t\tconstexpr double COEF_CENTER_L1 = .*;  \\/\\/ OPTIMIZE \\[-100\\.0, 100\\.0\\]$/\t\tconstexpr double COEF_CENTER_L1 = -60.67494537882832;  \\/\\/ OPTIMIZE [-100.0, 100.0]/' -e 's/^\t\tconstexpr double COEF_CENTER_L1_SQ = .*;  \\/\\/ OPTIMIZE \\[0\\.0, 100\\.0\\]$/\t\tconstexpr double COEF_CENTER_L1_SQ = 0.7665503977782047;  \\/\\/ OPTIMIZE [0.0, 100.0]/' -e 's/^\t\tconstexpr double COEF_POINT = .*;  \\/\\/ OPTIMIZE \\[0\\.0, 100\\.0\\]$/\t\tconstexpr double COEF_POINT = 60.160502626543476;  \\/\\/ OPTIMIZE [0.0, 100.0]/' -e 's/^\t\tconstexpr double COEF_DIST = .*;  \\/\\/ OPTIMIZE \\[0\\.0, 10000\\.0\\]$/\t\tconstexpr double COEF_DIST = 9050.041528115888;  \\/\\/ OPTIMIZE [0.0, 10000.0]/'\n",
      "rm: cannot remove '57_score/*': No such file or directory\n",
      "g++ 54_answer.cpp -std=gnu++17 -O2 -DONLINE_JUDGE -o 54_answer.cpp.out\n",
      "sed -i 55_answer.cpp -e 's/^\t\tconstexpr double COEF_CENTER_L1 = .*;  \\/\\/ OPTIMIZE \\[-100\\.0, 100\\.0\\]$/\t\tconstexpr double COEF_CENTER_L1 = -58.96091716083795;  \\/\\/ OPTIMIZE [-100.0, 100.0]/' -e 's/^\t\tconstexpr double COEF_CENTER_L1_SQ = .*;  \\/\\/ OPTIMIZE \\[0\\.0, 100\\.0\\]$/\t\tconstexpr double COEF_CENTER_L1_SQ = 0.1208644336536529;  \\/\\/ OPTIMIZE [0.0, 100.0]/' -e 's/^\t\tconstexpr double COEF_POINT = .*;  \\/\\/ OPTIMIZE \\[0\\.0, 100\\.0\\]$/\t\tconstexpr double COEF_POINT = 60.35034358073153;  \\/\\/ OPTIMIZE [0.0, 100.0]/' -e 's/^\t\tconstexpr double COEF_DIST = .*;  \\/\\/ OPTIMIZE \\[0\\.0, 10000\\.0\\]$/\t\tconstexpr double COEF_DIST = 5530.9300638068635;  \\/\\/ OPTIMIZE [0.0, 10000.0]/'\n",
      "g++ 55_answer.cpp -std=gnu++17 -O2 -DONLINE_JUDGE -o 55_answer.cpp.out\n",
      "sed -i 56_answer.cpp -e 's/^\t\tconstexpr double COEF_CENTER_L1 = .*;  \\/\\/ OPTIMIZE \\[-100\\.0, 100\\.0\\]$/\t\tconstexpr double COEF_CENTER_L1 = -62.57180800896777;  \\/\\/ OPTIMIZE [-100.0, 100.0]/' -e 's/^\t\tconstexpr double COEF_CENTER_L1_SQ = .*;  \\/\\/ OPTIMIZE \\[0\\.0, 100\\.0\\]$/\t\tconstexpr double COEF_CENTER_L1_SQ = 0.7555849882912284;  \\/\\/ OPTIMIZE [0.0, 100.0]/' -e 's/^\t\tconstexpr double COEF_POINT = .*;  \\/\\/ OPTIMIZE \\[0\\.0, 100\\.0\\]$/\t\tconstexpr double COEF_POINT = 54.42911633590219;  \\/\\/ OPTIMIZE [0.0, 100.0]/' -e 's/^\t\tconstexpr double COEF_DIST = .*;  \\/\\/ OPTIMIZE \\[0\\.0, 10000\\.0\\]$/\t\tconstexpr double COEF_DIST = 5338.954522757869;  \\/\\/ OPTIMIZE [0.0, 10000.0]/'\n",
      "sed -i 57_answer.cpp -e 's/^\t\tconstexpr double COEF_CENTER_L1 = .*;  \\/\\/ OPTIMIZE \\[-100\\.0, 100\\.0\\]$/\t\tconstexpr double COEF_CENTER_L1 = -59.64056424869582;  \\/\\/ OPTIMIZE [-100.0, 100.0]/' -e 's/^\t\tconstexpr double COEF_CENTER_L1_SQ = .*;  \\/\\/ OPTIMIZE \\[0\\.0, 100\\.0\\]$/\t\tconstexpr double COEF_CENTER_L1_SQ = 0.8663983435027399;  \\/\\/ OPTIMIZE [0.0, 100.0]/' -e 's/^\t\tconstexpr double COEF_POINT = .*;  \\/\\/ OPTIMIZE \\[0\\.0, 100\\.0\\]$/\t\tconstexpr double COEF_POINT = 61.04430384032046;  \\/\\/ OPTIMIZE [0.0, 100.0]/' -e 's/^\t\tconstexpr double COEF_DIST = .*;  \\/\\/ OPTIMIZE \\[0\\.0, 10000\\.0\\]$/\t\tconstexpr double COEF_DIST = 5232.97173831834;  \\/\\/ OPTIMIZE [0.0, 10000.0]/'\n",
      "g++ 56_answer.cpp -std=gnu++17 -O2 -DONLINE_JUDGE -o 56_answer.cpp.out\n",
      "g++ 57_answer.cpp -std=gnu++17 -O2 -DONLINE_JUDGE -o 57_answer.cpp.out\n"
     ]
    },
    {
     "name": "stderr",
     "output_type": "stream",
     "text": [
      "\u001b[32m[I 2021-04-25 13:17:48,175]\u001b[0m Trial 52 finished with value: 770983.0 and parameters: {'COEF_CENTER_L1': -64.3813666206339, 'COEF_CENTER_L1_SQ': 67.68035327477892, 'COEF_POINT': 20.320629335391683, 'COEF_DIST': 7835.579582409608}. Best is trial 23 with value: 1479048.0.\u001b[0m\n"
     ]
    },
    {
     "name": "stdout",
     "output_type": "stream",
     "text": [
      "callback ok\n",
      "index_parallel=58\n",
      "rm: cannot remove '58_out/*': No such file or directory\n",
      "rm: cannot remove '58_score/*': No such file or directory\n",
      "sed -i 58_answer.cpp -e 's/^\t\tconstexpr double COEF_CENTER_L1 = .*;  \\/\\/ OPTIMIZE \\[-100\\.0, 100\\.0\\]$/\t\tconstexpr double COEF_CENTER_L1 = -84.88094791209414;  \\/\\/ OPTIMIZE [-100.0, 100.0]/' -e 's/^\t\tconstexpr double COEF_CENTER_L1_SQ = .*;  \\/\\/ OPTIMIZE \\[0\\.0, 100\\.0\\]$/\t\tconstexpr double COEF_CENTER_L1_SQ = 2.688536370176601;  \\/\\/ OPTIMIZE [0.0, 100.0]/' -e 's/^\t\tconstexpr double COEF_POINT = .*;  \\/\\/ OPTIMIZE \\[0\\.0, 100\\.0\\]$/\t\tconstexpr double COEF_POINT = 53.60952328067843;  \\/\\/ OPTIMIZE [0.0, 100.0]/' -e 's/^\t\tconstexpr double COEF_DIST = .*;  \\/\\/ OPTIMIZE \\[0\\.0, 10000\\.0\\]$/\t\tconstexpr double COEF_DIST = 5248.679061800853;  \\/\\/ OPTIMIZE [0.0, 10000.0]/'\n",
      "g++ 58_answer.cpp -std=gnu++17 -O2 -DONLINE_JUDGE -o 58_answer.cpp.out\n"
     ]
    },
    {
     "name": "stderr",
     "output_type": "stream",
     "text": [
      "\u001b[32m[I 2021-04-25 13:17:54,532]\u001b[0m Trial 53 finished with value: 1460518.0 and parameters: {'COEF_CENTER_L1': -61.484037409397, 'COEF_CENTER_L1_SQ': 0.842529392176091, 'COEF_POINT': 57.49125771770788, 'COEF_DIST': 5216.302361944973}. Best is trial 23 with value: 1479048.0.\u001b[0m\n"
     ]
    },
    {
     "name": "stdout",
     "output_type": "stream",
     "text": [
      "callback ok\n",
      "index_parallel=59\n",
      "rm: cannot remove '59_out/*': No such file or directory\n"
     ]
    },
    {
     "name": "stderr",
     "output_type": "stream",
     "text": [
      "\u001b[32m[I 2021-04-25 13:17:55,458]\u001b[0m Trial 54 finished with value: 1442689.0 and parameters: {'COEF_CENTER_L1': -60.67494537882832, 'COEF_CENTER_L1_SQ': 0.7665503977782047, 'COEF_POINT': 60.160502626543476, 'COEF_DIST': 9050.041528115888}. Best is trial 23 with value: 1479048.0.\u001b[0m\n"
     ]
    },
    {
     "name": "stdout",
     "output_type": "stream",
     "text": [
      "callback ok\n",
      "rm: cannot remove '59_score/*': No such file or directory\n",
      "index_parallel=60\n",
      "rm: cannot remove '60_out/*': No such file or directory\n",
      "rm: cannot remove '60_score/*': No such file or directory\n"
     ]
    },
    {
     "name": "stderr",
     "output_type": "stream",
     "text": [
      "\u001b[32m[I 2021-04-25 13:17:56,068]\u001b[0m Trial 55 finished with value: 1436782.0 and parameters: {'COEF_CENTER_L1': -58.96091716083795, 'COEF_CENTER_L1_SQ': 0.1208644336536529, 'COEF_POINT': 60.35034358073153, 'COEF_DIST': 5530.9300638068635}. Best is trial 23 with value: 1479048.0.\u001b[0m\n"
     ]
    },
    {
     "name": "stdout",
     "output_type": "stream",
     "text": [
      "callback ok\n",
      "index_parallel=61\n",
      "rm: cannot remove '61_out/*': No such file or directory\n",
      "rm: cannot remove '61_score/*': No such file or directory\n"
     ]
    },
    {
     "name": "stderr",
     "output_type": "stream",
     "text": [
      "\u001b[32m[I 2021-04-25 13:17:56,809]\u001b[0m Trial 56 finished with value: 1448336.0 and parameters: {'COEF_CENTER_L1': -62.57180800896777, 'COEF_CENTER_L1_SQ': 0.7555849882912284, 'COEF_POINT': 54.42911633590219, 'COEF_DIST': 5338.954522757869}. Best is trial 23 with value: 1479048.0.\u001b[0m\n",
      "\u001b[32m[I 2021-04-25 13:17:56,810]\u001b[0m Trial 57 finished with value: 1449552.0 and parameters: {'COEF_CENTER_L1': -59.64056424869582, 'COEF_CENTER_L1_SQ': 0.8663983435027399, 'COEF_POINT': 61.04430384032046, 'COEF_DIST': 5232.97173831834}. Best is trial 23 with value: 1479048.0.\u001b[0m\n"
     ]
    },
    {
     "name": "stdout",
     "output_type": "stream",
     "text": [
      "callback ok\n",
      "callback ok\n",
      "sed -i 59_answer.cpp -e 's/^\t\tconstexpr double COEF_CENTER_L1 = .*;  \\/\\/ OPTIMIZE \\[-100\\.0, 100\\.0\\]$/\t\tconstexpr double COEF_CENTER_L1 = -7.849416549296123;  \\/\\/ OPTIMIZE [-100.0, 100.0]/' -e 's/^\t\tconstexpr double COEF_CENTER_L1_SQ = .*;  \\/\\/ OPTIMIZE \\[0\\.0, 100\\.0\\]$/\t\tconstexpr double COEF_CENTER_L1_SQ = 43.72640297057161;  \\/\\/ OPTIMIZE [0.0, 100.0]/' -e 's/^\t\tconstexpr double COEF_POINT = .*;  \\/\\/ OPTIMIZE \\[0\\.0, 100\\.0\\]$/\t\tconstexpr double COEF_POINT = 70.82730555142433;  \\/\\/ OPTIMIZE [0.0, 100.0]/' -e 's/^\t\tconstexpr double COEF_DIST = .*;  \\/\\/ OPTIMIZE \\[0\\.0, 10000\\.0\\]$/\t\tconstexpr double COEF_DIST = 5100.182396515135;  \\/\\/ OPTIMIZE [0.0, 10000.0]/'\n",
      "g++ 59_answer.cpp -std=gnu++17 -O2 -DONLINE_JUDGE -o 59_answer.cpp.out\n",
      "index_parallel=62\n",
      "index_parallel=63\n",
      "sed -i 60_answer.cpp -e 's/^\t\tconstexpr double COEF_CENTER_L1 = .*;  \\/\\/ OPTIMIZE \\[-100\\.0, 100\\.0\\]$/\t\tconstexpr double COEF_CENTER_L1 = -70.40822193827822;  \\/\\/ OPTIMIZE [-100.0, 100.0]/' -e 's/^\t\tconstexpr double COEF_CENTER_L1_SQ = .*;  \\/\\/ OPTIMIZE \\[0\\.0, 100\\.0\\]$/\t\tconstexpr double COEF_CENTER_L1_SQ = 10.649252664588996;  \\/\\/ OPTIMIZE [0.0, 100.0]/' -e 's/^\t\tconstexpr double COEF_POINT = .*;  \\/\\/ OPTIMIZE \\[0\\.0, 100\\.0\\]$/\t\tconstexpr double COEF_POINT = 53.70527809921997;  \\/\\/ OPTIMIZE [0.0, 100.0]/' -e 's/^\t\tconstexpr double COEF_DIST = .*;  \\/\\/ OPTIMIZE \\[0\\.0, 10000\\.0\\]$/\t\tconstexpr double COEF_DIST = 5035.240711856769;  \\/\\/ OPTIMIZE [0.0, 10000.0]/'\n",
      "rm: cannot remove '62_out/*': No such file or directory\n",
      "rm: cannot remove '63_out/*': No such file or directory\n",
      "g++ 60_answer.cpp -std=gnu++17 -O2 -DONLINE_JUDGE -o 60_answer.cpp.out\n",
      "sed -i 61_answer.cpp -e 's/^\t\tconstexpr double COEF_CENTER_L1 = .*;  \\/\\/ OPTIMIZE \\[-100\\.0, 100\\.0\\]$/\t\tconstexpr double COEF_CENTER_L1 = -88.16463359102332;  \\/\\/ OPTIMIZE [-100.0, 100.0]/' -e 's/^\t\tconstexpr double COEF_CENTER_L1_SQ = .*;  \\/\\/ OPTIMIZE \\[0\\.0, 100\\.0\\]$/\t\tconstexpr double COEF_CENTER_L1_SQ = 9.751454481923144;  \\/\\/ OPTIMIZE [0.0, 100.0]/' -e 's/^\t\tconstexpr double COEF_POINT = .*;  \\/\\/ OPTIMIZE \\[0\\.0, 100\\.0\\]$/\t\tconstexpr double COEF_POINT = 72.31970527550024;  \\/\\/ OPTIMIZE [0.0, 100.0]/' -e 's/^\t\tconstexpr double COEF_DIST = .*;  \\/\\/ OPTIMIZE \\[0\\.0, 10000\\.0\\]$/\t\tconstexpr double COEF_DIST = 4833.940126623813;  \\/\\/ OPTIMIZE [0.0, 10000.0]/'\n",
      "rm: cannot remove '62_score/*': No such file or directory\n",
      "rm: cannot remove '63_score/*': No such file or directory\n",
      "g++ 61_answer.cpp -std=gnu++17 -O2 -DONLINE_JUDGE -o 61_answer.cpp.out\n",
      "sed -i 62_answer.cpp -e 's/^\t\tconstexpr double COEF_CENTER_L1 = .*;  \\/\\/ OPTIMIZE \\[-100\\.0, 100\\.0\\]$/\t\tconstexpr double COEF_CENTER_L1 = -3.2308447466543555;  \\/\\/ OPTIMIZE [-100.0, 100.0]/' -e 's/^\t\tconstexpr double COEF_CENTER_L1_SQ = .*;  \\/\\/ OPTIMIZE \\[0\\.0, 100\\.0\\]$/\t\tconstexpr double COEF_CENTER_L1_SQ = 41.700979800265124;  \\/\\/ OPTIMIZE [0.0, 100.0]/' -e 's/^\t\tconstexpr double COEF_POINT = .*;  \\/\\/ OPTIMIZE \\[0\\.0, 100\\.0\\]$/\t\tconstexpr double COEF_POINT = 73.9846795391412;  \\/\\/ OPTIMIZE [0.0, 100.0]/' -e 's/^\t\tconstexpr double COEF_DIST = .*;  \\/\\/ OPTIMIZE \\[0\\.0, 10000\\.0\\]$/\t\tconstexpr double COEF_DIST = 5173.785684187252;  \\/\\/ OPTIMIZE [0.0, 10000.0]/'\n",
      "sed -i 63_answer.cpp -e 's/^\t\tconstexpr double COEF_CENTER_L1 = .*;  \\/\\/ OPTIMIZE \\[-100\\.0, 100\\.0\\]$/\t\tconstexpr double COEF_CENTER_L1 = -87.7233656827679;  \\/\\/ OPTIMIZE [-100.0, 100.0]/' -e 's/^\t\tconstexpr double COEF_CENTER_L1_SQ = .*;  \\/\\/ OPTIMIZE \\[0\\.0, 100\\.0\\]$/\t\tconstexpr double COEF_CENTER_L1_SQ = 10.550474130346876;  \\/\\/ OPTIMIZE [0.0, 100.0]/' -e 's/^\t\tconstexpr double COEF_POINT = .*;  \\/\\/ OPTIMIZE \\[0\\.0, 100\\.0\\]$/\t\tconstexpr double COEF_POINT = 72.33652734196967;  \\/\\/ OPTIMIZE [0.0, 100.0]/' -e 's/^\t\tconstexpr double COEF_DIST = .*;  \\/\\/ OPTIMIZE \\[0\\.0, 10000\\.0\\]$/\t\tconstexpr double COEF_DIST = 4957.523152133085;  \\/\\/ OPTIMIZE [0.0, 10000.0]/'\n",
      "g++ 62_answer.cpp -std=gnu++17 -O2 -DONLINE_JUDGE -o 62_answer.cpp.out\n",
      "g++ 63_answer.cpp -std=gnu++17 -O2 -DONLINE_JUDGE -o 63_answer.cpp.out\n"
     ]
    },
    {
     "name": "stderr",
     "output_type": "stream",
     "text": [
      "\u001b[32m[I 2021-04-25 13:17:58,649]\u001b[0m Trial 58 finished with value: 1459961.0 and parameters: {'COEF_CENTER_L1': -84.88094791209414, 'COEF_CENTER_L1_SQ': 2.688536370176601, 'COEF_POINT': 53.60952328067843, 'COEF_DIST': 5248.679061800853}. Best is trial 23 with value: 1479048.0.\u001b[0m\n"
     ]
    },
    {
     "name": "stdout",
     "output_type": "stream",
     "text": [
      "callback ok\n",
      "index_parallel=64\n",
      "rm: cannot remove '64_out/*': No such file or directory\n",
      "rm: cannot remove '64_score/*': No such file or directory\n",
      "sed -i 64_answer.cpp -e 's/^\t\tconstexpr double COEF_CENTER_L1 = .*;  \\/\\/ OPTIMIZE \\[-100\\.0, 100\\.0\\]$/\t\tconstexpr double COEF_CENTER_L1 = -81.66357711642173;  \\/\\/ OPTIMIZE [-100.0, 100.0]/' -e 's/^\t\tconstexpr double COEF_CENTER_L1_SQ = .*;  \\/\\/ OPTIMIZE \\[0\\.0, 100\\.0\\]$/\t\tconstexpr double COEF_CENTER_L1_SQ = 11.019660755046512;  \\/\\/ OPTIMIZE [0.0, 100.0]/' -e 's/^\t\tconstexpr double COEF_POINT = .*;  \\/\\/ OPTIMIZE \\[0\\.0, 100\\.0\\]$/\t\tconstexpr double COEF_POINT = 75.29697762125306;  \\/\\/ OPTIMIZE [0.0, 100.0]/' -e 's/^\t\tconstexpr double COEF_DIST = .*;  \\/\\/ OPTIMIZE \\[0\\.0, 10000\\.0\\]$/\t\tconstexpr double COEF_DIST = 4882.536122512243;  \\/\\/ OPTIMIZE [0.0, 10000.0]/'\n",
      "g++ 64_answer.cpp -std=gnu++17 -O2 -DONLINE_JUDGE -o 64_answer.cpp.out\n"
     ]
    },
    {
     "name": "stderr",
     "output_type": "stream",
     "text": [
      "\u001b[32m[I 2021-04-25 13:18:05,507]\u001b[0m Trial 59 finished with value: 718265.0 and parameters: {'COEF_CENTER_L1': -7.849416549296123, 'COEF_CENTER_L1_SQ': 43.72640297057161, 'COEF_POINT': 70.82730555142433, 'COEF_DIST': 5100.182396515135}. Best is trial 23 with value: 1479048.0.\u001b[0m\n"
     ]
    },
    {
     "name": "stdout",
     "output_type": "stream",
     "text": [
      "callback ok\n",
      "index_parallel=65\n",
      "rm: cannot remove '65_out/*': No such file or directory\n",
      "rm: cannot remove '65_score/*': No such file or directory\n"
     ]
    },
    {
     "name": "stderr",
     "output_type": "stream",
     "text": [
      "\u001b[32m[I 2021-04-25 13:18:07,076]\u001b[0m Trial 60 finished with value: 1273096.0 and parameters: {'COEF_CENTER_L1': -70.40822193827822, 'COEF_CENTER_L1_SQ': 10.649252664588996, 'COEF_POINT': 53.70527809921997, 'COEF_DIST': 5035.240711856769}. Best is trial 23 with value: 1479048.0.\u001b[0m\n"
     ]
    },
    {
     "name": "stdout",
     "output_type": "stream",
     "text": [
      "sed -i 65_answer.cpp -e 's/^\t\tconstexpr double COEF_CENTER_L1 = .*;  \\/\\/ OPTIMIZE \\[-100\\.0, 100\\.0\\]$/\t\tconstexpr double COEF_CENTER_L1 = -85.11678730323763;  \\/\\/ OPTIMIZE [-100.0, 100.0]/' -e 's/^\t\tconstexpr double COEF_CENTER_L1_SQ = .*;  \\/\\/ OPTIMIZE \\[0\\.0, 100\\.0\\]$/\t\tconstexpr double COEF_CENTER_L1_SQ = 9.276574825713173;  \\/\\/ OPTIMIZE [0.0, 100.0]/' -e 's/^\t\tconstexpr double COEF_POINT = .*;  \\/\\/ OPTIMIZE \\[0\\.0, 100\\.0\\]$/\t\tconstexpr double COEF_POINT = 69.19294815268898;  \\/\\/ OPTIMIZE [0.0, 100.0]/' -e 's/^\t\tconstexpr double COEF_DIST = .*;  \\/\\/ OPTIMIZE \\[0\\.0, 10000\\.0\\]$/\t\tconstexpr double COEF_DIST = 3302.991734190852;  \\/\\/ OPTIMIZE [0.0, 10000.0]/'\n"
     ]
    },
    {
     "name": "stderr",
     "output_type": "stream",
     "text": [
      "\u001b[32m[I 2021-04-25 13:18:07,426]\u001b[0m Trial 61 finished with value: 1314220.0 and parameters: {'COEF_CENTER_L1': -88.16463359102332, 'COEF_CENTER_L1_SQ': 9.751454481923144, 'COEF_POINT': 72.31970527550024, 'COEF_DIST': 4833.940126623813}. Best is trial 23 with value: 1479048.0.\u001b[0m\n"
     ]
    },
    {
     "name": "stdout",
     "output_type": "stream",
     "text": [
      "callback ok\n",
      "callback ok\n",
      "g++ 65_answer.cpp -std=gnu++17 -O2 -DONLINE_JUDGE -o 65_answer.cpp.out\n"
     ]
    },
    {
     "name": "stderr",
     "output_type": "stream",
     "text": [
      "\u001b[32m[I 2021-04-25 13:18:07,478]\u001b[0m Trial 62 finished with value: 820586.0 and parameters: {'COEF_CENTER_L1': -3.2308447466543555, 'COEF_CENTER_L1_SQ': 41.700979800265124, 'COEF_POINT': 73.9846795391412, 'COEF_DIST': 5173.785684187252}. Best is trial 23 with value: 1479048.0.\u001b[0m\n"
     ]
    },
    {
     "name": "stdout",
     "output_type": "stream",
     "text": [
      "index_parallel=66\n",
      "index_parallel=67\n",
      "callback ok\n",
      "index_parallel=68\n"
     ]
    },
    {
     "name": "stderr",
     "output_type": "stream",
     "text": [
      "\u001b[32m[I 2021-04-25 13:18:07,715]\u001b[0m Trial 63 finished with value: 1299845.0 and parameters: {'COEF_CENTER_L1': -87.7233656827679, 'COEF_CENTER_L1_SQ': 10.550474130346876, 'COEF_POINT': 72.33652734196967, 'COEF_DIST': 4957.523152133085}. Best is trial 23 with value: 1479048.0.\u001b[0m\n"
     ]
    },
    {
     "name": "stdout",
     "output_type": "stream",
     "text": [
      "callback ok\n",
      "rm: cannot remove '66_out/*': No such file or directory\n",
      "index_parallel=69\n",
      "rm: cannot remove '67_out/*': No such file or directory\n",
      "rm: cannot remove '66_score/*': No such file or directory\n",
      "rm: cannot remove '67_score/*': No such file or directory\n",
      "rm: cannot remove '68_out/*': No such file or directory\n",
      "rm: cannot remove '69_out/*': No such file or directory\n",
      "rm: cannot remove '68_score/*': No such file or directory\n",
      "rm: cannot remove '69_score/*': No such file or directory\n",
      "sed -i 66_answer.cpp -e 's/^\t\tconstexpr double COEF_CENTER_L1 = .*;  \\/\\/ OPTIMIZE \\[-100\\.0, 100\\.0\\]$/\t\tconstexpr double COEF_CENTER_L1 = -85.40214404696808;  \\/\\/ OPTIMIZE [-100.0, 100.0]/' -e 's/^\t\tconstexpr double COEF_CENTER_L1_SQ = .*;  \\/\\/ OPTIMIZE \\[0\\.0, 100\\.0\\]$/\t\tconstexpr double COEF_CENTER_L1_SQ = 3.1579407351538715;  \\/\\/ OPTIMIZE [0.0, 100.0]/' -e 's/^\t\tconstexpr double COEF_POINT = .*;  \\/\\/ OPTIMIZE \\[0\\.0, 100\\.0\\]$/\t\tconstexpr double COEF_POINT = 67.84811504725891;  \\/\\/ OPTIMIZE [0.0, 100.0]/' -e 's/^\t\tconstexpr double COEF_DIST = .*;  \\/\\/ OPTIMIZE \\[0\\.0, 10000\\.0\\]$/\t\tconstexpr double COEF_DIST = 3615.6256612410834;  \\/\\/ OPTIMIZE [0.0, 10000.0]/'\n",
      "sed -i 67_answer.cpp -e 's/^\t\tconstexpr double COEF_CENTER_L1 = .*;  \\/\\/ OPTIMIZE \\[-100\\.0, 100\\.0\\]$/\t\tconstexpr double COEF_CENTER_L1 = -68.62982369866617;  \\/\\/ OPTIMIZE [-100.0, 100.0]/' -e 's/^\t\tconstexpr double COEF_CENTER_L1_SQ = .*;  \\/\\/ OPTIMIZE \\[0\\.0, 100\\.0\\]$/\t\tconstexpr double COEF_CENTER_L1_SQ = 18.917996074850468;  \\/\\/ OPTIMIZE [0.0, 100.0]/' -e 's/^\t\tconstexpr double COEF_POINT = .*;  \\/\\/ OPTIMIZE \\[0\\.0, 100\\.0\\]$/\t\tconstexpr double COEF_POINT = 65.67441593742859;  \\/\\/ OPTIMIZE [0.0, 100.0]/' -e 's/^\t\tconstexpr double COEF_DIST = .*;  \\/\\/ OPTIMIZE \\[0\\.0, 10000\\.0\\]$/\t\tconstexpr double COEF_DIST = 3321.365460144403;  \\/\\/ OPTIMIZE [0.0, 10000.0]/'\n",
      "g++ 66_answer.cpp -std=gnu++17 -O2 -DONLINE_JUDGE -o 66_answer.cpp.out\n",
      "g++ 67_answer.cpp -std=gnu++17 -O2 -DONLINE_JUDGE -o 67_answer.cpp.out\n"
     ]
    },
    {
     "name": "stderr",
     "output_type": "stream",
     "text": [
      "\u001b[32m[I 2021-04-25 13:18:08,851]\u001b[0m Trial 64 finished with value: 1326299.0 and parameters: {'COEF_CENTER_L1': -81.66357711642173, 'COEF_CENTER_L1_SQ': 11.019660755046512, 'COEF_POINT': 75.29697762125306, 'COEF_DIST': 4882.536122512243}. Best is trial 23 with value: 1479048.0.\u001b[0m\n"
     ]
    },
    {
     "name": "stdout",
     "output_type": "stream",
     "text": [
      "callback ok\n",
      "sed -i 68_answer.cpp -e 's/^\t\tconstexpr double COEF_CENTER_L1 = .*;  \\/\\/ OPTIMIZE \\[-100\\.0, 100\\.0\\]$/\t\tconstexpr double COEF_CENTER_L1 = -17.836186164579907;  \\/\\/ OPTIMIZE [-100.0, 100.0]/' -e 's/^\t\tconstexpr double COEF_CENTER_L1_SQ = .*;  \\/\\/ OPTIMIZE \\[0\\.0, 100\\.0\\]$/\t\tconstexpr double COEF_CENTER_L1_SQ = 4.184572215561475;  \\/\\/ OPTIMIZE [0.0, 100.0]/' -e 's/^\t\tconstexpr double COEF_POINT = .*;  \\/\\/ OPTIMIZE \\[0\\.0, 100\\.0\\]$/\t\tconstexpr double COEF_POINT = 52.28538316179665;  \\/\\/ OPTIMIZE [0.0, 100.0]/' -e 's/^\t\tconstexpr double COEF_DIST = .*;  \\/\\/ OPTIMIZE \\[0\\.0, 10000\\.0\\]$/\t\tconstexpr double COEF_DIST = 3689.7499297602676;  \\/\\/ OPTIMIZE [0.0, 10000.0]/'\n",
      "index_parallel=70\n",
      "sed -i 69_answer.cpp -e 's/^\t\tconstexpr double COEF_CENTER_L1 = .*;  \\/\\/ OPTIMIZE \\[-100\\.0, 100\\.0\\]$/\t\tconstexpr double COEF_CENTER_L1 = -84.2559703942449;  \\/\\/ OPTIMIZE [-100.0, 100.0]/' -e 's/^\t\tconstexpr double COEF_CENTER_L1_SQ = .*;  \\/\\/ OPTIMIZE \\[0\\.0, 100\\.0\\]$/\t\tconstexpr double COEF_CENTER_L1_SQ = 3.088599520149865;  \\/\\/ OPTIMIZE [0.0, 100.0]/' -e 's/^\t\tconstexpr double COEF_POINT = .*;  \\/\\/ OPTIMIZE \\[0\\.0, 100\\.0\\]$/\t\tconstexpr double COEF_POINT = 61.733121869526315;  \\/\\/ OPTIMIZE [0.0, 100.0]/' -e 's/^\t\tconstexpr double COEF_DIST = .*;  \\/\\/ OPTIMIZE \\[0\\.0, 10000\\.0\\]$/\t\tconstexpr double COEF_DIST = 3612.552380637352;  \\/\\/ OPTIMIZE [0.0, 10000.0]/'\n",
      "g++ 68_answer.cpp -std=gnu++17 -O2 -DONLINE_JUDGE -o 68_answer.cpp.out\n",
      "g++ 69_answer.cpp -std=gnu++17 -O2 -DONLINE_JUDGE -o 69_answer.cpp.out\n",
      "rm: cannot remove '70_out/*': No such file or directory\n",
      "rm: cannot remove '70_score/*': No such file or directory\n",
      "sed -i 70_answer.cpp -e 's/^\t\tconstexpr double COEF_CENTER_L1 = .*;  \\/\\/ OPTIMIZE \\[-100\\.0, 100\\.0\\]$/\t\tconstexpr double COEF_CENTER_L1 = -83.68816524837607;  \\/\\/ OPTIMIZE [-100.0, 100.0]/' -e 's/^\t\tconstexpr double COEF_CENTER_L1_SQ = .*;  \\/\\/ OPTIMIZE \\[0\\.0, 100\\.0\\]$/\t\tconstexpr double COEF_CENTER_L1_SQ = 3.1735042530908704;  \\/\\/ OPTIMIZE [0.0, 100.0]/' -e 's/^\t\tconstexpr double COEF_POINT = .*;  \\/\\/ OPTIMIZE \\[0\\.0, 100\\.0\\]$/\t\tconstexpr double COEF_POINT = 52.03199429899653;  \\/\\/ OPTIMIZE [0.0, 100.0]/' -e 's/^\t\tconstexpr double COEF_DIST = .*;  \\/\\/ OPTIMIZE \\[0\\.0, 10000\\.0\\]$/\t\tconstexpr double COEF_DIST = 3269.7747325148594;  \\/\\/ OPTIMIZE [0.0, 10000.0]/'\n",
      "g++ 70_answer.cpp -std=gnu++17 -O2 -DONLINE_JUDGE -o 70_answer.cpp.out\n"
     ]
    },
    {
     "name": "stderr",
     "output_type": "stream",
     "text": [
      "\u001b[32m[I 2021-04-25 13:18:15,807]\u001b[0m Trial 65 finished with value: 1253701.0 and parameters: {'COEF_CENTER_L1': -85.11678730323763, 'COEF_CENTER_L1_SQ': 9.276574825713173, 'COEF_POINT': 69.19294815268898, 'COEF_DIST': 3302.991734190852}. Best is trial 23 with value: 1479048.0.\u001b[0m\n"
     ]
    },
    {
     "name": "stdout",
     "output_type": "stream",
     "text": [
      "callback ok\n",
      "index_parallel=71\n",
      "rm: cannot remove '71_out/*': No such file or directory\n",
      "rm: cannot remove '71_score/*': No such file or directory\n",
      "sed -i 71_answer.cpp -e 's/^\t\tconstexpr double COEF_CENTER_L1 = .*;  \\/\\/ OPTIMIZE \\[-100\\.0, 100\\.0\\]$/\t\tconstexpr double COEF_CENTER_L1 = -53.12587341132975;  \\/\\/ OPTIMIZE [-100.0, 100.0]/' -e 's/^\t\tconstexpr double COEF_CENTER_L1_SQ = .*;  \\/\\/ OPTIMIZE \\[0\\.0, 100\\.0\\]$/\t\tconstexpr double COEF_CENTER_L1_SQ = 3.689543109448698;  \\/\\/ OPTIMIZE [0.0, 100.0]/' -e 's/^\t\tconstexpr double COEF_POINT = .*;  \\/\\/ OPTIMIZE \\[0\\.0, 100\\.0\\]$/\t\tconstexpr double COEF_POINT = 66.16134494693114;  \\/\\/ OPTIMIZE [0.0, 100.0]/' -e 's/^\t\tconstexpr double COEF_DIST = .*;  \\/\\/ OPTIMIZE \\[0\\.0, 10000\\.0\\]$/\t\tconstexpr double COEF_DIST = 3641.072718197047;  \\/\\/ OPTIMIZE [0.0, 10000.0]/'\n",
      "g++ 71_answer.cpp -std=gnu++17 -O2 -DONLINE_JUDGE -o 71_answer.cpp.out\n"
     ]
    },
    {
     "name": "stderr",
     "output_type": "stream",
     "text": [
      "\u001b[32m[I 2021-04-25 13:18:17,750]\u001b[0m Trial 67 finished with value: 830047.0 and parameters: {'COEF_CENTER_L1': -68.62982369866617, 'COEF_CENTER_L1_SQ': 18.917996074850468, 'COEF_POINT': 65.67441593742859, 'COEF_DIST': 3321.365460144403}. Best is trial 23 with value: 1479048.0.\u001b[0m\n"
     ]
    },
    {
     "name": "stdout",
     "output_type": "stream",
     "text": [
      "callback ok\n",
      "index_parallel=72\n",
      "rm: cannot remove '72_out/*': No such file or directory\n"
     ]
    },
    {
     "name": "stderr",
     "output_type": "stream",
     "text": [
      "\u001b[32m[I 2021-04-25 13:18:18,230]\u001b[0m Trial 66 finished with value: 1417779.0 and parameters: {'COEF_CENTER_L1': -85.40214404696808, 'COEF_CENTER_L1_SQ': 3.1579407351538715, 'COEF_POINT': 67.84811504725891, 'COEF_DIST': 3615.6256612410834}. Best is trial 23 with value: 1479048.0.\u001b[0m\n"
     ]
    },
    {
     "name": "stdout",
     "output_type": "stream",
     "text": [
      "callback ok\n",
      "rm: cannot remove '72_score/*': No such file or directory\n",
      "index_parallel=73\n"
     ]
    },
    {
     "name": "stderr",
     "output_type": "stream",
     "text": [
      "\u001b[32m[I 2021-04-25 13:18:18,770]\u001b[0m Trial 69 finished with value: 1415339.0 and parameters: {'COEF_CENTER_L1': -84.2559703942449, 'COEF_CENTER_L1_SQ': 3.088599520149865, 'COEF_POINT': 61.733121869526315, 'COEF_DIST': 3612.552380637352}. Best is trial 23 with value: 1479048.0.\u001b[0m\n",
      "\u001b[32m[I 2021-04-25 13:18:18,781]\u001b[0m Trial 68 finished with value: 1386334.0 and parameters: {'COEF_CENTER_L1': -17.836186164579907, 'COEF_CENTER_L1_SQ': 4.184572215561475, 'COEF_POINT': 52.28538316179665, 'COEF_DIST': 3689.7499297602676}. Best is trial 23 with value: 1479048.0.\u001b[0m\n"
     ]
    },
    {
     "name": "stdout",
     "output_type": "stream",
     "text": [
      "rm: cannot remove '73_out/*': No such file or directory\n",
      "callback ok\n",
      "callback ok\n",
      "index_parallel=74\n",
      "index_parallel=75\n",
      "rm: cannot remove '73_score/*': No such file or directory\n",
      "rm: cannot remove '75_out/*': No such file or directory\n",
      "rm: cannot remove '74_out/*': No such file or directory\n",
      "sed -i 72_answer.cpp -e 's/^\t\tconstexpr double COEF_CENTER_L1 = .*;  \\/\\/ OPTIMIZE \\[-100\\.0, 100\\.0\\]$/\t\tconstexpr double COEF_CENTER_L1 = -52.97116024938073;  \\/\\/ OPTIMIZE [-100.0, 100.0]/' -e 's/^\t\tconstexpr double COEF_CENTER_L1_SQ = .*;  \\/\\/ OPTIMIZE \\[0\\.0, 100\\.0\\]$/\t\tconstexpr double COEF_CENTER_L1_SQ = 0.11203357322730811;  \\/\\/ OPTIMIZE [0.0, 100.0]/' -e 's/^\t\tconstexpr double COEF_POINT = .*;  \\/\\/ OPTIMIZE \\[0\\.0, 100\\.0\\]$/\t\tconstexpr double COEF_POINT = 54.98257775039506;  \\/\\/ OPTIMIZE [0.0, 100.0]/' -e 's/^\t\tconstexpr double COEF_DIST = .*;  \\/\\/ OPTIMIZE \\[0\\.0, 10000\\.0\\]$/\t\tconstexpr double COEF_DIST = 5830.795603953722;  \\/\\/ OPTIMIZE [0.0, 10000.0]/'\n",
      "rm: cannot remove '74_score/*': No such file or directory\n",
      "rm: cannot remove '75_score/*': No such file or directory\n",
      "g++ 72_answer.cpp -std=gnu++17 -O2 -DONLINE_JUDGE -o 72_answer.cpp.out\n"
     ]
    },
    {
     "name": "stderr",
     "output_type": "stream",
     "text": [
      "\u001b[32m[I 2021-04-25 13:18:19,393]\u001b[0m Trial 70 finished with value: 1415366.0 and parameters: {'COEF_CENTER_L1': -83.68816524837607, 'COEF_CENTER_L1_SQ': 3.1735042530908704, 'COEF_POINT': 52.03199429899653, 'COEF_DIST': 3269.7747325148594}. Best is trial 23 with value: 1479048.0.\u001b[0m\n"
     ]
    },
    {
     "name": "stdout",
     "output_type": "stream",
     "text": [
      "callback ok\n",
      "index_parallel=76\n",
      "rm: cannot remove '76_out/*': No such file or directory\n",
      "rm: cannot remove '76_score/*': No such file or directory\n",
      "sed -i 73_answer.cpp -e 's/^\t\tconstexpr double COEF_CENTER_L1 = .*;  \\/\\/ OPTIMIZE \\[-100\\.0, 100\\.0\\]$/\t\tconstexpr double COEF_CENTER_L1 = -56.5764020041728;  \\/\\/ OPTIMIZE [-100.0, 100.0]/' -e 's/^\t\tconstexpr double COEF_CENTER_L1_SQ = .*;  \\/\\/ OPTIMIZE \\[0\\.0, 100\\.0\\]$/\t\tconstexpr double COEF_CENTER_L1_SQ = 0.6354547451672391;  \\/\\/ OPTIMIZE [0.0, 100.0]/' -e 's/^\t\tconstexpr double COEF_POINT = .*;  \\/\\/ OPTIMIZE \\[0\\.0, 100\\.0\\]$/\t\tconstexpr double COEF_POINT = 57.43350841799873;  \\/\\/ OPTIMIZE [0.0, 100.0]/' -e 's/^\t\tconstexpr double COEF_DIST = .*;  \\/\\/ OPTIMIZE \\[0\\.0, 10000\\.0\\]$/\t\tconstexpr double COEF_DIST = 5750.343415640052;  \\/\\/ OPTIMIZE [0.0, 10000.0]/'\n",
      "g++ 73_answer.cpp -std=gnu++17 -O2 -DONLINE_JUDGE -o 73_answer.cpp.out\n",
      "sed -i 74_answer.cpp -e 's/^\t\tconstexpr double COEF_CENTER_L1 = .*;  \\/\\/ OPTIMIZE \\[-100\\.0, 100\\.0\\]$/\t\tconstexpr double COEF_CENTER_L1 = -53.09825859342706;  \\/\\/ OPTIMIZE [-100.0, 100.0]/' -e 's/^\t\tconstexpr double COEF_CENTER_L1_SQ = .*;  \\/\\/ OPTIMIZE \\[0\\.0, 100\\.0\\]$/\t\tconstexpr double COEF_CENTER_L1_SQ = 0.2397819744844787;  \\/\\/ OPTIMIZE [0.0, 100.0]/' -e 's/^\t\tconstexpr double COEF_POINT = .*;  \\/\\/ OPTIMIZE \\[0\\.0, 100\\.0\\]$/\t\tconstexpr double COEF_POINT = 57.57994135426427;  \\/\\/ OPTIMIZE [0.0, 100.0]/' -e 's/^\t\tconstexpr double COEF_DIST = .*;  \\/\\/ OPTIMIZE \\[0\\.0, 10000\\.0\\]$/\t\tconstexpr double COEF_DIST = 5947.784793174842;  \\/\\/ OPTIMIZE [0.0, 10000.0]/'\n",
      "sed -i 75_answer.cpp -e 's/^\t\tconstexpr double COEF_CENTER_L1 = .*;  \\/\\/ OPTIMIZE \\[-100\\.0, 100\\.0\\]$/\t\tconstexpr double COEF_CENTER_L1 = -54.94372663202669;  \\/\\/ OPTIMIZE [-100.0, 100.0]/' -e 's/^\t\tconstexpr double COEF_CENTER_L1_SQ = .*;  \\/\\/ OPTIMIZE \\[0\\.0, 100\\.0\\]$/\t\tconstexpr double COEF_CENTER_L1_SQ = 28.257981237946236;  \\/\\/ OPTIMIZE [0.0, 100.0]/' -e 's/^\t\tconstexpr double COEF_POINT = .*;  \\/\\/ OPTIMIZE \\[0\\.0, 100\\.0\\]$/\t\tconstexpr double COEF_POINT = 56.10930328820556;  \\/\\/ OPTIMIZE [0.0, 100.0]/' -e 's/^\t\tconstexpr double COEF_DIST = .*;  \\/\\/ OPTIMIZE \\[0\\.0, 10000\\.0\\]$/\t\tconstexpr double COEF_DIST = 5794.5838858110765;  \\/\\/ OPTIMIZE [0.0, 10000.0]/'\n",
      "g++ 74_answer.cpp -std=gnu++17 -O2 -DONLINE_JUDGE -o 74_answer.cpp.out\n",
      "g++ 75_answer.cpp -std=gnu++17 -O2 -DONLINE_JUDGE -o 75_answer.cpp.out\n",
      "sed -i 76_answer.cpp -e 's/^\t\tconstexpr double COEF_CENTER_L1 = .*;  \\/\\/ OPTIMIZE \\[-100\\.0, 100\\.0\\]$/\t\tconstexpr double COEF_CENTER_L1 = -54.40658943808735;  \\/\\/ OPTIMIZE [-100.0, 100.0]/' -e 's/^\t\tconstexpr double COEF_CENTER_L1_SQ = .*;  \\/\\/ OPTIMIZE \\[0\\.0, 100\\.0\\]$/\t\tconstexpr double COEF_CENTER_L1_SQ = 0.19557560708384258;  \\/\\/ OPTIMIZE [0.0, 100.0]/' -e 's/^\t\tconstexpr double COEF_POINT = .*;  \\/\\/ OPTIMIZE \\[0\\.0, 100\\.0\\]$/\t\tconstexpr double COEF_POINT = 57.28287713365016;  \\/\\/ OPTIMIZE [0.0, 100.0]/' -e 's/^\t\tconstexpr double COEF_DIST = .*;  \\/\\/ OPTIMIZE \\[0\\.0, 10000\\.0\\]$/\t\tconstexpr double COEF_DIST = 5919.090163578503;  \\/\\/ OPTIMIZE [0.0, 10000.0]/'\n",
      "g++ 76_answer.cpp -std=gnu++17 -O2 -DONLINE_JUDGE -o 76_answer.cpp.out\n"
     ]
    },
    {
     "name": "stderr",
     "output_type": "stream",
     "text": [
      "\u001b[32m[I 2021-04-25 13:18:25,244]\u001b[0m Trial 71 finished with value: 1388741.0 and parameters: {'COEF_CENTER_L1': -53.12587341132975, 'COEF_CENTER_L1_SQ': 3.689543109448698, 'COEF_POINT': 66.16134494693114, 'COEF_DIST': 3641.072718197047}. Best is trial 23 with value: 1479048.0.\u001b[0m\n"
     ]
    },
    {
     "name": "stdout",
     "output_type": "stream",
     "text": [
      "callback ok\n",
      "index_parallel=77\n",
      "rm: cannot remove '77_out/*': No such file or directory\n",
      "rm: cannot remove '77_score/*': No such file or directory\n",
      "sed -i 77_answer.cpp -e 's/^\t\tconstexpr double COEF_CENTER_L1 = .*;  \\/\\/ OPTIMIZE \\[-100\\.0, 100\\.0\\]$/\t\tconstexpr double COEF_CENTER_L1 = -55.673295769442596;  \\/\\/ OPTIMIZE [-100.0, 100.0]/' -e 's/^\t\tconstexpr double COEF_CENTER_L1_SQ = .*;  \\/\\/ OPTIMIZE \\[0\\.0, 100\\.0\\]$/\t\tconstexpr double COEF_CENTER_L1_SQ = 0.36889483931448297;  \\/\\/ OPTIMIZE [0.0, 100.0]/' -e 's/^\t\tconstexpr double COEF_POINT = .*;  \\/\\/ OPTIMIZE \\[0\\.0, 100\\.0\\]$/\t\tconstexpr double COEF_POINT = 56.356204456914064;  \\/\\/ OPTIMIZE [0.0, 100.0]/' -e 's/^\t\tconstexpr double COEF_DIST = .*;  \\/\\/ OPTIMIZE \\[0\\.0, 10000\\.0\\]$/\t\tconstexpr double COEF_DIST = 5915.652505030152;  \\/\\/ OPTIMIZE [0.0, 10000.0]/'\n",
      "g++ 77_answer.cpp -std=gnu++17 -O2 -DONLINE_JUDGE -o 77_answer.cpp.out\n"
     ]
    },
    {
     "name": "stderr",
     "output_type": "stream",
     "text": [
      "\u001b[32m[I 2021-04-25 13:18:28,736]\u001b[0m Trial 72 finished with value: 1424350.0 and parameters: {'COEF_CENTER_L1': -52.97116024938073, 'COEF_CENTER_L1_SQ': 0.11203357322730811, 'COEF_POINT': 54.98257775039506, 'COEF_DIST': 5830.795603953722}. Best is trial 23 with value: 1479048.0.\u001b[0m\n"
     ]
    },
    {
     "name": "stdout",
     "output_type": "stream",
     "text": [
      "callback ok\n",
      "index_parallel=78\n",
      "rm: cannot remove '78_out/*': No such file or directory\n",
      "rm: cannot remove '78_score/*': No such file or directory\n"
     ]
    },
    {
     "name": "stderr",
     "output_type": "stream",
     "text": [
      "\u001b[32m[I 2021-04-25 13:18:29,941]\u001b[0m Trial 75 finished with value: 844867.0 and parameters: {'COEF_CENTER_L1': -54.94372663202669, 'COEF_CENTER_L1_SQ': 28.257981237946236, 'COEF_POINT': 56.10930328820556, 'COEF_DIST': 5794.5838858110765}. Best is trial 23 with value: 1479048.0.\u001b[0m\n",
      "\u001b[32m[I 2021-04-25 13:18:29,945]\u001b[0m Trial 73 finished with value: 1444438.0 and parameters: {'COEF_CENTER_L1': -56.5764020041728, 'COEF_CENTER_L1_SQ': 0.6354547451672391, 'COEF_POINT': 57.43350841799873, 'COEF_DIST': 5750.343415640052}. Best is trial 23 with value: 1479048.0.\u001b[0m\n",
      "\u001b[32m[I 2021-04-25 13:18:30,096]\u001b[0m Trial 74 finished with value: 1467609.0 and parameters: {'COEF_CENTER_L1': -53.09825859342706, 'COEF_CENTER_L1_SQ': 0.2397819744844787, 'COEF_POINT': 57.57994135426427, 'COEF_DIST': 5947.784793174842}. Best is trial 23 with value: 1479048.0.\u001b[0m\n"
     ]
    },
    {
     "name": "stdout",
     "output_type": "stream",
     "text": [
      "callback ok\n",
      "callback ok\n",
      "callback ok\n",
      "index_parallel=79\n",
      "index_parallel=80\n",
      "index_parallel=81\n"
     ]
    },
    {
     "name": "stderr",
     "output_type": "stream",
     "text": [
      "\u001b[32m[I 2021-04-25 13:18:30,492]\u001b[0m Trial 76 finished with value: 1455969.0 and parameters: {'COEF_CENTER_L1': -54.40658943808735, 'COEF_CENTER_L1_SQ': 0.19557560708384258, 'COEF_POINT': 57.28287713365016, 'COEF_DIST': 5919.090163578503}. Best is trial 23 with value: 1479048.0.\u001b[0m\n"
     ]
    },
    {
     "name": "stdout",
     "output_type": "stream",
     "text": [
      "rm: cannot remove '79_out/*': No such file or directory\n",
      "callback ok\n",
      "index_parallel=82\n",
      "rm: cannot remove '79_score/*': No such file or directory\n",
      "sed -i 78_answer.cpp -e 's/^\t\tconstexpr double COEF_CENTER_L1 = .*;  \\/\\/ OPTIMIZE \\[-100\\.0, 100\\.0\\]$/\t\tconstexpr double COEF_CENTER_L1 = -68.25225111972236;  \\/\\/ OPTIMIZE [-100.0, 100.0]/' -e 's/^\t\tconstexpr double COEF_CENTER_L1_SQ = .*;  \\/\\/ OPTIMIZE \\[0\\.0, 100\\.0\\]$/\t\tconstexpr double COEF_CENTER_L1_SQ = 6.938804382538971;  \\/\\/ OPTIMIZE [0.0, 100.0]/' -e 's/^\t\tconstexpr double COEF_POINT = .*;  \\/\\/ OPTIMIZE \\[0\\.0, 100\\.0\\]$/\t\tconstexpr double COEF_POINT = 33.81590275810341;  \\/\\/ OPTIMIZE [0.0, 100.0]/' -e 's/^\t\tconstexpr double COEF_DIST = .*;  \\/\\/ OPTIMIZE \\[0\\.0, 10000\\.0\\]$/\t\tconstexpr double COEF_DIST = 6163.992539538224;  \\/\\/ OPTIMIZE [0.0, 10000.0]/'\n",
      "rm: cannot remove '81_out/*': No such file or directory\n",
      "rm: cannot remove '80_out/*': No such file or directory\n",
      "g++ 78_answer.cpp -std=gnu++17 -O2 -DONLINE_JUDGE -o 78_answer.cpp.out\n",
      "rm: cannot remove '81_score/*': No such file or directory\n",
      "rm: cannot remove '80_score/*': No such file or directory\n",
      "rm: cannot remove '82_out/*': No such file or directory\n",
      "rm: cannot remove '82_score/*': No such file or directory\n",
      "sed -i 79_answer.cpp -e 's/^\t\tconstexpr double COEF_CENTER_L1 = .*;  \\/\\/ OPTIMIZE \\[-100\\.0, 100\\.0\\]$/\t\tconstexpr double COEF_CENTER_L1 = -68.90720934321362;  \\/\\/ OPTIMIZE [-100.0, 100.0]/' -e 's/^\t\tconstexpr double COEF_CENTER_L1_SQ = .*;  \\/\\/ OPTIMIZE \\[0\\.0, 100\\.0\\]$/\t\tconstexpr double COEF_CENTER_L1_SQ = 7.695870016860638;  \\/\\/ OPTIMIZE [0.0, 100.0]/' -e 's/^\t\tconstexpr double COEF_POINT = .*;  \\/\\/ OPTIMIZE \\[0\\.0, 100\\.0\\]$/\t\tconstexpr double COEF_POINT = 43.28804795055665;  \\/\\/ OPTIMIZE [0.0, 100.0]/' -e 's/^\t\tconstexpr double COEF_DIST = .*;  \\/\\/ OPTIMIZE \\[0\\.0, 10000\\.0\\]$/\t\tconstexpr double COEF_DIST = 6161.564507869673;  \\/\\/ OPTIMIZE [0.0, 10000.0]/'\n",
      "g++ 79_answer.cpp -std=gnu++17 -O2 -DONLINE_JUDGE -o 79_answer.cpp.out\n",
      "sed -i 82_answer.cpp -e 's/^\t\tconstexpr double COEF_CENTER_L1 = .*;  \\/\\/ OPTIMIZE \\[-100\\.0, 100\\.0\\]$/\t\tconstexpr double COEF_CENTER_L1 = -72.52995161635133;  \\/\\/ OPTIMIZE [-100.0, 100.0]/' -e 's/^\t\tconstexpr double COEF_CENTER_L1_SQ = .*;  \\/\\/ OPTIMIZE \\[0\\.0, 100\\.0\\]$/\t\tconstexpr double COEF_CENTER_L1_SQ = 8.57387376924871;  \\/\\/ OPTIMIZE [0.0, 100.0]/' -e 's/^\t\tconstexpr double COEF_POINT = .*;  \\/\\/ OPTIMIZE \\[0\\.0, 100\\.0\\]$/\t\tconstexpr double COEF_POINT = 33.525886390735224;  \\/\\/ OPTIMIZE [0.0, 100.0]/' -e 's/^\t\tconstexpr double COEF_DIST = .*;  \\/\\/ OPTIMIZE \\[0\\.0, 10000\\.0\\]$/\t\tconstexpr double COEF_DIST = 7135.378728151173;  \\/\\/ OPTIMIZE [0.0, 10000.0]/'\n",
      "sed -i 81_answer.cpp -e 's/^\t\tconstexpr double COEF_CENTER_L1 = .*;  \\/\\/ OPTIMIZE \\[-100\\.0, 100\\.0\\]$/\t\tconstexpr double COEF_CENTER_L1 = -69.8447960862689;  \\/\\/ OPTIMIZE [-100.0, 100.0]/' -e 's/^\t\tconstexpr double COEF_CENTER_L1_SQ = .*;  \\/\\/ OPTIMIZE \\[0\\.0, 100\\.0\\]$/\t\tconstexpr double COEF_CENTER_L1_SQ = 7.60572976981757;  \\/\\/ OPTIMIZE [0.0, 100.0]/' -e 's/^\t\tconstexpr double COEF_POINT = .*;  \\/\\/ OPTIMIZE \\[0\\.0, 100\\.0\\]$/\t\tconstexpr double COEF_POINT = 33.91052020442336;  \\/\\/ OPTIMIZE [0.0, 100.0]/' -e 's/^\t\tconstexpr double COEF_DIST = .*;  \\/\\/ OPTIMIZE \\[0\\.0, 10000\\.0\\]$/\t\tconstexpr double COEF_DIST = 6237.103668626476;  \\/\\/ OPTIMIZE [0.0, 10000.0]/'\n",
      "g++ 82_answer.cpp -std=gnu++17 -O2 -DONLINE_JUDGE -o 82_answer.cpp.out\n",
      "sed -i 80_answer.cpp -e 's/^\t\tconstexpr double COEF_CENTER_L1 = .*;  \\/\\/ OPTIMIZE \\[-100\\.0, 100\\.0\\]$/\t\tconstexpr double COEF_CENTER_L1 = -68.09406858954894;  \\/\\/ OPTIMIZE [-100.0, 100.0]/' -e 's/^\t\tconstexpr double COEF_CENTER_L1_SQ = .*;  \\/\\/ OPTIMIZE \\[0\\.0, 100\\.0\\]$/\t\tconstexpr double COEF_CENTER_L1_SQ = 7.235860869254231;  \\/\\/ OPTIMIZE [0.0, 100.0]/' -e 's/^\t\tconstexpr double COEF_POINT = .*;  \\/\\/ OPTIMIZE \\[0\\.0, 100\\.0\\]$/\t\tconstexpr double COEF_POINT = 42.02982137261027;  \\/\\/ OPTIMIZE [0.0, 100.0]/' -e 's/^\t\tconstexpr double COEF_DIST = .*;  \\/\\/ OPTIMIZE \\[0\\.0, 10000\\.0\\]$/\t\tconstexpr double COEF_DIST = 6255.347066766823;  \\/\\/ OPTIMIZE [0.0, 10000.0]/'\n",
      "g++ 81_answer.cpp -std=gnu++17 -O2 -DONLINE_JUDGE -o 81_answer.cpp.out\n",
      "g++ 80_answer.cpp -std=gnu++17 -O2 -DONLINE_JUDGE -o 80_answer.cpp.out\n"
     ]
    },
    {
     "name": "stderr",
     "output_type": "stream",
     "text": [
      "\u001b[32m[I 2021-04-25 13:18:33,958]\u001b[0m Trial 77 finished with value: 1448024.0 and parameters: {'COEF_CENTER_L1': -55.673295769442596, 'COEF_CENTER_L1_SQ': 0.36889483931448297, 'COEF_POINT': 56.356204456914064, 'COEF_DIST': 5915.652505030152}. Best is trial 23 with value: 1479048.0.\u001b[0m\n"
     ]
    },
    {
     "name": "stdout",
     "output_type": "stream",
     "text": [
      "callback ok\n",
      "index_parallel=83\n",
      "rm: cannot remove '83_out/*': No such file or directory\n",
      "rm: cannot remove '83_score/*': No such file or directory\n",
      "sed -i 83_answer.cpp -e 's/^\t\tconstexpr double COEF_CENTER_L1 = .*;  \\/\\/ OPTIMIZE \\[-100\\.0, 100\\.0\\]$/\t\tconstexpr double COEF_CENTER_L1 = -70.30347839265315;  \\/\\/ OPTIMIZE [-100.0, 100.0]/' -e 's/^\t\tconstexpr double COEF_CENTER_L1_SQ = .*;  \\/\\/ OPTIMIZE \\[0\\.0, 100\\.0\\]$/\t\tconstexpr double COEF_CENTER_L1_SQ = 6.708930963580382;  \\/\\/ OPTIMIZE [0.0, 100.0]/' -e 's/^\t\tconstexpr double COEF_POINT = .*;  \\/\\/ OPTIMIZE \\[0\\.0, 100\\.0\\]$/\t\tconstexpr double COEF_POINT = 43.0751262603076;  \\/\\/ OPTIMIZE [0.0, 100.0]/' -e 's/^\t\tconstexpr double COEF_DIST = .*;  \\/\\/ OPTIMIZE \\[0\\.0, 10000\\.0\\]$/\t\tconstexpr double COEF_DIST = 6417.571950690357;  \\/\\/ OPTIMIZE [0.0, 10000.0]/'\n",
      "g++ 83_answer.cpp -std=gnu++17 -O2 -DONLINE_JUDGE -o 83_answer.cpp.out\n"
     ]
    },
    {
     "name": "stderr",
     "output_type": "stream",
     "text": [
      "\u001b[32m[I 2021-04-25 13:18:39,656]\u001b[0m Trial 78 finished with value: 1420168.0 and parameters: {'COEF_CENTER_L1': -68.25225111972236, 'COEF_CENTER_L1_SQ': 6.938804382538971, 'COEF_POINT': 33.81590275810341, 'COEF_DIST': 6163.992539538224}. Best is trial 23 with value: 1479048.0.\u001b[0m\n"
     ]
    },
    {
     "name": "stdout",
     "output_type": "stream",
     "text": [
      "callback ok\n",
      "index_parallel=84\n",
      "rm: cannot remove '84_out/*': No such file or directory\n",
      "rm: cannot remove '84_score/*': No such file or directory\n"
     ]
    },
    {
     "name": "stderr",
     "output_type": "stream",
     "text": [
      "\u001b[32m[I 2021-04-25 13:18:41,175]\u001b[0m Trial 79 finished with value: 1406229.0 and parameters: {'COEF_CENTER_L1': -68.90720934321362, 'COEF_CENTER_L1_SQ': 7.695870016860638, 'COEF_POINT': 43.28804795055665, 'COEF_DIST': 6161.564507869673}. Best is trial 23 with value: 1479048.0.\u001b[0m\n"
     ]
    },
    {
     "name": "stdout",
     "output_type": "stream",
     "text": [
      "sed -i 84_answer.cpp -e 's/^\t\tconstexpr double COEF_CENTER_L1 = .*;  \\/\\/ OPTIMIZE \\[-100\\.0, 100\\.0\\]$/\t\tconstexpr double COEF_CENTER_L1 = -35.564503459835294;  \\/\\/ OPTIMIZE [-100.0, 100.0]/' -e 's/^\t\tconstexpr double COEF_CENTER_L1_SQ = .*;  \\/\\/ OPTIMIZE \\[0\\.0, 100\\.0\\]$/\t\tconstexpr double COEF_CENTER_L1_SQ = 8.200021277276527;  \\/\\/ OPTIMIZE [0.0, 100.0]/' -e 's/^\t\tconstexpr double COEF_POINT = .*;  \\/\\/ OPTIMIZE \\[0\\.0, 100\\.0\\]$/\t\tconstexpr double COEF_POINT = 44.30777801933549;  \\/\\/ OPTIMIZE [0.0, 100.0]/' -e 's/^\t\tconstexpr double COEF_DIST = .*;  \\/\\/ OPTIMIZE \\[0\\.0, 10000\\.0\\]$/\t\tconstexpr double COEF_DIST = 4574.683546969002;  \\/\\/ OPTIMIZE [0.0, 10000.0]/'\n",
      "callback ok\n",
      "g++ 84_answer.cpp -std=gnu++17 -O2 -DONLINE_JUDGE -o 84_answer.cpp.out\n",
      "index_parallel=85\n"
     ]
    },
    {
     "name": "stderr",
     "output_type": "stream",
     "text": [
      "\u001b[32m[I 2021-04-25 13:18:41,652]\u001b[0m Trial 82 finished with value: 1397792.0 and parameters: {'COEF_CENTER_L1': -72.52995161635133, 'COEF_CENTER_L1_SQ': 8.57387376924871, 'COEF_POINT': 33.525886390735224, 'COEF_DIST': 7135.378728151173}. Best is trial 23 with value: 1479048.0.\u001b[0m\n"
     ]
    },
    {
     "name": "stdout",
     "output_type": "stream",
     "text": [
      "callback ok\n",
      "rm: cannot remove '85_out/*': No such file or directory\n",
      "index_parallel=86\n"
     ]
    },
    {
     "name": "stderr",
     "output_type": "stream",
     "text": [
      "\u001b[32m[I 2021-04-25 13:18:41,975]\u001b[0m Trial 81 finished with value: 1401519.0 and parameters: {'COEF_CENTER_L1': -69.8447960862689, 'COEF_CENTER_L1_SQ': 7.60572976981757, 'COEF_POINT': 33.91052020442336, 'COEF_DIST': 6237.103668626476}. Best is trial 23 with value: 1479048.0.\u001b[0m\n",
      "\u001b[32m[I 2021-04-25 13:18:41,978]\u001b[0m Trial 80 finished with value: 1435657.0 and parameters: {'COEF_CENTER_L1': -68.09406858954894, 'COEF_CENTER_L1_SQ': 7.235860869254231, 'COEF_POINT': 42.02982137261027, 'COEF_DIST': 6255.347066766823}. Best is trial 23 with value: 1479048.0.\u001b[0m\n"
     ]
    },
    {
     "name": "stdout",
     "output_type": "stream",
     "text": [
      "rm: cannot remove '85_score/*': No such file or directory\n",
      "callback ok\n",
      "callback ok\n",
      "index_parallel=87\n",
      "index_parallel=88\n",
      "rm: cannot remove '86_out/*': No such file or directory\n",
      "rm: cannot remove '87_out/*': No such file or directory\n",
      "rm: cannot remove '86_score/*': No such file or directory\n",
      "rm: cannot remove '88_out/*': No such file or directory\n",
      "rm: cannot remove '87_score/*': No such file or directory\n",
      "rm: cannot remove '88_score/*': No such file or directory\n",
      "sed -i 85_answer.cpp -e 's/^\t\tconstexpr double COEF_CENTER_L1 = .*;  \\/\\/ OPTIMIZE \\[-100\\.0, 100\\.0\\]$/\t\tconstexpr double COEF_CENTER_L1 = -37.708857241069026;  \\/\\/ OPTIMIZE [-100.0, 100.0]/' -e 's/^\t\tconstexpr double COEF_CENTER_L1_SQ = .*;  \\/\\/ OPTIMIZE \\[0\\.0, 100\\.0\\]$/\t\tconstexpr double COEF_CENTER_L1_SQ = 4.489692607859766;  \\/\\/ OPTIMIZE [0.0, 100.0]/' -e 's/^\t\tconstexpr double COEF_POINT = .*;  \\/\\/ OPTIMIZE \\[0\\.0, 100\\.0\\]$/\t\tconstexpr double COEF_POINT = 50.61124697676523;  \\/\\/ OPTIMIZE [0.0, 100.0]/' -e 's/^\t\tconstexpr double COEF_DIST = .*;  \\/\\/ OPTIMIZE \\[0\\.0, 10000\\.0\\]$/\t\tconstexpr double COEF_DIST = 5447.742029233574;  \\/\\/ OPTIMIZE [0.0, 10000.0]/'\n",
      "g++ 85_answer.cpp -std=gnu++17 -O2 -DONLINE_JUDGE -o 85_answer.cpp.out\n",
      "sed -i 86_answer.cpp -e 's/^\t\tconstexpr double COEF_CENTER_L1 = .*;  \\/\\/ OPTIMIZE \\[-100\\.0, 100\\.0\\]$/\t\tconstexpr double COEF_CENTER_L1 = -38.8374000810389;  \\/\\/ OPTIMIZE [-100.0, 100.0]/' -e 's/^\t\tconstexpr double COEF_CENTER_L1_SQ = .*;  \\/\\/ OPTIMIZE \\[0\\.0, 100\\.0\\]$/\t\tconstexpr double COEF_CENTER_L1_SQ = 18.339978796483056;  \\/\\/ OPTIMIZE [0.0, 100.0]/' -e 's/^\t\tconstexpr double COEF_POINT = .*;  \\/\\/ OPTIMIZE \\[0\\.0, 100\\.0\\]$/\t\tconstexpr double COEF_POINT = 63.188162964493046;  \\/\\/ OPTIMIZE [0.0, 100.0]/' -e 's/^\t\tconstexpr double COEF_DIST = .*;  \\/\\/ OPTIMIZE \\[0\\.0, 10000\\.0\\]$/\t\tconstexpr double COEF_DIST = 4619.094990457015;  \\/\\/ OPTIMIZE [0.0, 10000.0]/'\n",
      "g++ 86_answer.cpp -std=gnu++17 -O2 -DONLINE_JUDGE -o 86_answer.cpp.out\n",
      "sed -i 87_answer.cpp -e 's/^\t\tconstexpr double COEF_CENTER_L1 = .*;  \\/\\/ OPTIMIZE \\[-100\\.0, 100\\.0\\]$/\t\tconstexpr double COEF_CENTER_L1 = -93.44901245835459;  \\/\\/ OPTIMIZE [-100.0, 100.0]/' -e 's/^\t\tconstexpr double COEF_CENTER_L1_SQ = .*;  \\/\\/ OPTIMIZE \\[0\\.0, 100\\.0\\]$/\t\tconstexpr double COEF_CENTER_L1_SQ = 12.367279812054813;  \\/\\/ OPTIMIZE [0.0, 100.0]/' -e 's/^\t\tconstexpr double COEF_POINT = .*;  \\/\\/ OPTIMIZE \\[0\\.0, 100\\.0\\]$/\t\tconstexpr double COEF_POINT = 62.95130585657775;  \\/\\/ OPTIMIZE [0.0, 100.0]/' -e 's/^\t\tconstexpr double COEF_DIST = .*;  \\/\\/ OPTIMIZE \\[0\\.0, 10000\\.0\\]$/\t\tconstexpr double COEF_DIST = 4670.042058297825;  \\/\\/ OPTIMIZE [0.0, 10000.0]/'\n",
      "sed -i 88_answer.cpp -e 's/^\t\tconstexpr double COEF_CENTER_L1 = .*;  \\/\\/ OPTIMIZE \\[-100\\.0, 100\\.0\\]$/\t\tconstexpr double COEF_CENTER_L1 = -36.206187055320285;  \\/\\/ OPTIMIZE [-100.0, 100.0]/' -e 's/^\t\tconstexpr double COEF_CENTER_L1_SQ = .*;  \\/\\/ OPTIMIZE \\[0\\.0, 100\\.0\\]$/\t\tconstexpr double COEF_CENTER_L1_SQ = 18.976611667507168;  \\/\\/ OPTIMIZE [0.0, 100.0]/' -e 's/^\t\tconstexpr double COEF_POINT = .*;  \\/\\/ OPTIMIZE \\[0\\.0, 100\\.0\\]$/\t\tconstexpr double COEF_POINT = 24.626552235013843;  \\/\\/ OPTIMIZE [0.0, 100.0]/' -e 's/^\t\tconstexpr double COEF_DIST = .*;  \\/\\/ OPTIMIZE \\[0\\.0, 10000\\.0\\]$/\t\tconstexpr double COEF_DIST = 4525.151650838393;  \\/\\/ OPTIMIZE [0.0, 10000.0]/'\n",
      "g++ 87_answer.cpp -std=gnu++17 -O2 -DONLINE_JUDGE -o 87_answer.cpp.out\n",
      "g++ 88_answer.cpp -std=gnu++17 -O2 -DONLINE_JUDGE -o 88_answer.cpp.out\n"
     ]
    },
    {
     "name": "stderr",
     "output_type": "stream",
     "text": [
      "\u001b[32m[I 2021-04-25 13:18:43,886]\u001b[0m Trial 83 finished with value: 1451246.0 and parameters: {'COEF_CENTER_L1': -70.30347839265315, 'COEF_CENTER_L1_SQ': 6.708930963580382, 'COEF_POINT': 43.0751262603076, 'COEF_DIST': 6417.571950690357}. Best is trial 23 with value: 1479048.0.\u001b[0m\n"
     ]
    },
    {
     "name": "stdout",
     "output_type": "stream",
     "text": [
      "callback ok\n",
      "index_parallel=89\n",
      "rm: cannot remove '89_out/*': No such file or directory\n",
      "rm: cannot remove '89_score/*': No such file or directory\n",
      "sed -i 89_answer.cpp -e 's/^\t\tconstexpr double COEF_CENTER_L1 = .*;  \\/\\/ OPTIMIZE \\[-100\\.0, 100\\.0\\]$/\t\tconstexpr double COEF_CENTER_L1 = -93.94858504350711;  \\/\\/ OPTIMIZE [-100.0, 100.0]/' -e 's/^\t\tconstexpr double COEF_CENTER_L1_SQ = .*;  \\/\\/ OPTIMIZE \\[0\\.0, 100\\.0\\]$/\t\tconstexpr double COEF_CENTER_L1_SQ = 19.893977768869732;  \\/\\/ OPTIMIZE [0.0, 100.0]/' -e 's/^\t\tconstexpr double COEF_POINT = .*;  \\/\\/ OPTIMIZE \\[0\\.0, 100\\.0\\]$/\t\tconstexpr double COEF_POINT = 50.36377801336837;  \\/\\/ OPTIMIZE [0.0, 100.0]/' -e 's/^\t\tconstexpr double COEF_DIST = .*;  \\/\\/ OPTIMIZE \\[0\\.0, 10000\\.0\\]$/\t\tconstexpr double COEF_DIST = 6570.514543961924;  \\/\\/ OPTIMIZE [0.0, 10000.0]/'\n",
      "g++ 89_answer.cpp -std=gnu++17 -O2 -DONLINE_JUDGE -o 89_answer.cpp.out\n"
     ]
    },
    {
     "name": "stderr",
     "output_type": "stream",
     "text": [
      "\u001b[32m[I 2021-04-25 13:18:49,721]\u001b[0m Trial 84 finished with value: 1313489.0 and parameters: {'COEF_CENTER_L1': -35.564503459835294, 'COEF_CENTER_L1_SQ': 8.200021277276527, 'COEF_POINT': 44.30777801933549, 'COEF_DIST': 4574.683546969002}. Best is trial 23 with value: 1479048.0.\u001b[0m\n"
     ]
    },
    {
     "name": "stdout",
     "output_type": "stream",
     "text": [
      "callback ok\n",
      "index_parallel=90\n",
      "rm: cannot remove '90_out/*': No such file or directory\n",
      "rm: cannot remove '90_score/*': No such file or directory\n",
      "sed -i 90_answer.cpp -e 's/^\t\tconstexpr double COEF_CENTER_L1 = .*;  \\/\\/ OPTIMIZE \\[-100\\.0, 100\\.0\\]$/\t\tconstexpr double COEF_CENTER_L1 = -38.330238832357225;  \\/\\/ OPTIMIZE [-100.0, 100.0]/' -e 's/^\t\tconstexpr double COEF_CENTER_L1_SQ = .*;  \\/\\/ OPTIMIZE \\[0\\.0, 100\\.0\\]$/\t\tconstexpr double COEF_CENTER_L1_SQ = 12.981803194084094;  \\/\\/ OPTIMIZE [0.0, 100.0]/' -e 's/^\t\tconstexpr double COEF_POINT = .*;  \\/\\/ OPTIMIZE \\[0\\.0, 100\\.0\\]$/\t\tconstexpr double COEF_POINT = 27.01434650828763;  \\/\\/ OPTIMIZE [0.0, 100.0]/' -e 's/^\t\tconstexpr double COEF_DIST = .*;  \\/\\/ OPTIMIZE \\[0\\.0, 10000\\.0\\]$/\t\tconstexpr double COEF_DIST = 6506.1826921382735;  \\/\\/ OPTIMIZE [0.0, 10000.0]/'\n",
      "g++ 90_answer.cpp -std=gnu++17 -O2 -DONLINE_JUDGE -o 90_answer.cpp.out\n"
     ]
    },
    {
     "name": "stderr",
     "output_type": "stream",
     "text": [
      "\u001b[32m[I 2021-04-25 13:18:51,818]\u001b[0m Trial 85 finished with value: 1502006.0 and parameters: {'COEF_CENTER_L1': -37.708857241069026, 'COEF_CENTER_L1_SQ': 4.489692607859766, 'COEF_POINT': 50.61124697676523, 'COEF_DIST': 5447.742029233574}. Best is trial 85 with value: 1502006.0.\u001b[0m\n"
     ]
    },
    {
     "name": "stdout",
     "output_type": "stream",
     "text": [
      "Updated! 1502006.0 -> 1502006.0\n",
      "callback ok\n",
      "index_parallel=91\n"
     ]
    },
    {
     "name": "stderr",
     "output_type": "stream",
     "text": [
      "\u001b[32m[I 2021-04-25 13:18:52,354]\u001b[0m Trial 86 finished with value: 971403.0 and parameters: {'COEF_CENTER_L1': -38.8374000810389, 'COEF_CENTER_L1_SQ': 18.339978796483056, 'COEF_POINT': 63.188162964493046, 'COEF_DIST': 4619.094990457015}. Best is trial 85 with value: 1502006.0.\u001b[0m\n"
     ]
    },
    {
     "name": "stdout",
     "output_type": "stream",
     "text": [
      "callback ok\n",
      "index_parallel=92\n",
      "rm: cannot remove '91_out/*': No such file or directory\n"
     ]
    },
    {
     "name": "stderr",
     "output_type": "stream",
     "text": [
      "\u001b[32m[I 2021-04-25 13:18:52,635]\u001b[0m Trial 88 finished with value: 905204.0 and parameters: {'COEF_CENTER_L1': -36.206187055320285, 'COEF_CENTER_L1_SQ': 18.976611667507168, 'COEF_POINT': 24.626552235013843, 'COEF_DIST': 4525.151650838393}. Best is trial 85 with value: 1502006.0.\u001b[0m\n"
     ]
    },
    {
     "name": "stdout",
     "output_type": "stream",
     "text": [
      "callback ok\n",
      "rm: cannot remove '91_score/*': No such file or directory\n",
      "rm: cannot remove '92_out/*': No such file or directory\n",
      "index_parallel=93\n",
      "rm: cannot remove '92_score/*': No such file or directory\n"
     ]
    },
    {
     "name": "stderr",
     "output_type": "stream",
     "text": [
      "\u001b[32m[I 2021-04-25 13:18:52,868]\u001b[0m Trial 87 finished with value: 1241437.0 and parameters: {'COEF_CENTER_L1': -93.44901245835459, 'COEF_CENTER_L1_SQ': 12.367279812054813, 'COEF_POINT': 62.95130585657775, 'COEF_DIST': 4670.042058297825}. Best is trial 85 with value: 1502006.0.\u001b[0m\n"
     ]
    },
    {
     "name": "stdout",
     "output_type": "stream",
     "text": [
      "callback ok\n",
      "index_parallel=94\n",
      "rm: cannot remove '93_out/*': No such file or directory\n",
      "rm: cannot remove '93_score/*': No such file or directory\n",
      "rm: cannot remove '94_out/*': No such file or directory\n",
      "rm: cannot remove '94_score/*': No such file or directory\n",
      "sed -i 91_answer.cpp -e 's/^\t\tconstexpr double COEF_CENTER_L1 = .*;  \\/\\/ OPTIMIZE \\[-100\\.0, 100\\.0\\]$/\t\tconstexpr double COEF_CENTER_L1 = -48.98809626780997;  \\/\\/ OPTIMIZE [-100.0, 100.0]/' -e 's/^\t\tconstexpr double COEF_CENTER_L1_SQ = .*;  \\/\\/ OPTIMIZE \\[0\\.0, 100\\.0\\]$/\t\tconstexpr double COEF_CENTER_L1_SQ = 4.15568880033805;  \\/\\/ OPTIMIZE [0.0, 100.0]/' -e 's/^\t\tconstexpr double COEF_POINT = .*;  \\/\\/ OPTIMIZE \\[0\\.0, 100\\.0\\]$/\t\tconstexpr double COEF_POINT = 50.02052316691299;  \\/\\/ OPTIMIZE [0.0, 100.0]/' -e 's/^\t\tconstexpr double COEF_DIST = .*;  \\/\\/ OPTIMIZE \\[0\\.0, 10000\\.0\\]$/\t\tconstexpr double COEF_DIST = 4092.1521033706567;  \\/\\/ OPTIMIZE [0.0, 10000.0]/'\n",
      "g++ 91_answer.cpp -std=gnu++17 -O2 -DONLINE_JUDGE -o 91_answer.cpp.out\n"
     ]
    },
    {
     "name": "stderr",
     "output_type": "stream",
     "text": [
      "\u001b[32m[I 2021-04-25 13:18:54,295]\u001b[0m Trial 89 finished with value: 1056554.0 and parameters: {'COEF_CENTER_L1': -93.94858504350711, 'COEF_CENTER_L1_SQ': 19.893977768869732, 'COEF_POINT': 50.36377801336837, 'COEF_DIST': 6570.514543961924}. Best is trial 85 with value: 1502006.0.\u001b[0m\n"
     ]
    },
    {
     "name": "stdout",
     "output_type": "stream",
     "text": [
      "sed -i 92_answer.cpp -e 's/^\t\tconstexpr double COEF_CENTER_L1 = .*;  \\/\\/ OPTIMIZE \\[-100\\.0, 100\\.0\\]$/\t\tconstexpr double COEF_CENTER_L1 = -78.75127311387865;  \\/\\/ OPTIMIZE [-100.0, 100.0]/' -e 's/^\t\tconstexpr double COEF_CENTER_L1_SQ = .*;  \\/\\/ OPTIMIZE \\[0\\.0, 100\\.0\\]$/\t\tconstexpr double COEF_CENTER_L1_SQ = 4.356367172463073;  \\/\\/ OPTIMIZE [0.0, 100.0]/' -e 's/^\t\tconstexpr double COEF_POINT = .*;  \\/\\/ OPTIMIZE \\[0\\.0, 100\\.0\\]$/\t\tconstexpr double COEF_POINT = 50.42155805615468;  \\/\\/ OPTIMIZE [0.0, 100.0]/' -e 's/^\t\tconstexpr double COEF_DIST = .*;  \\/\\/ OPTIMIZE \\[0\\.0, 10000\\.0\\]$/\t\tconstexpr double COEF_DIST = 5454.996755960702;  \\/\\/ OPTIMIZE [0.0, 10000.0]/'\n",
      "callback ok\n",
      "g++ 92_answer.cpp -std=gnu++17 -O2 -DONLINE_JUDGE -o 92_answer.cpp.out\n",
      "index_parallel=95\n",
      "sed -i 93_answer.cpp -e 's/^\t\tconstexpr double COEF_CENTER_L1 = .*;  \\/\\/ OPTIMIZE \\[-100\\.0, 100\\.0\\]$/\t\tconstexpr double COEF_CENTER_L1 = -78.84319996019272;  \\/\\/ OPTIMIZE [-100.0, 100.0]/' -e 's/^\t\tconstexpr double COEF_CENTER_L1_SQ = .*;  \\/\\/ OPTIMIZE \\[0\\.0, 100\\.0\\]$/\t\tconstexpr double COEF_CENTER_L1_SQ = 4.7032301372761856;  \\/\\/ OPTIMIZE [0.0, 100.0]/' -e 's/^\t\tconstexpr double COEF_POINT = .*;  \\/\\/ OPTIMIZE \\[0\\.0, 100\\.0\\]$/\t\tconstexpr double COEF_POINT = 50.58631764588523;  \\/\\/ OPTIMIZE [0.0, 100.0]/' -e 's/^\t\tconstexpr double COEF_DIST = .*;  \\/\\/ OPTIMIZE \\[0\\.0, 10000\\.0\\]$/\t\tconstexpr double COEF_DIST = 4047.9074903163496;  \\/\\/ OPTIMIZE [0.0, 10000.0]/'\n",
      "sed -i 94_answer.cpp -e 's/^\t\tconstexpr double COEF_CENTER_L1 = .*;  \\/\\/ OPTIMIZE \\[-100\\.0, 100\\.0\\]$/\t\tconstexpr double COEF_CENTER_L1 = -76.91963858910842;  \\/\\/ OPTIMIZE [-100.0, 100.0]/' -e 's/^\t\tconstexpr double COEF_CENTER_L1_SQ = .*;  \\/\\/ OPTIMIZE \\[0\\.0, 100\\.0\\]$/\t\tconstexpr double COEF_CENTER_L1_SQ = 4.212456218527154;  \\/\\/ OPTIMIZE [0.0, 100.0]/' -e 's/^\t\tconstexpr double COEF_POINT = .*;  \\/\\/ OPTIMIZE \\[0\\.0, 100\\.0\\]$/\t\tconstexpr double COEF_POINT = 40.841639214502194;  \\/\\/ OPTIMIZE [0.0, 100.0]/' -e 's/^\t\tconstexpr double COEF_DIST = .*;  \\/\\/ OPTIMIZE \\[0\\.0, 10000\\.0\\]$/\t\tconstexpr double COEF_DIST = 5530.585220042688;  \\/\\/ OPTIMIZE [0.0, 10000.0]/'\n",
      "g++ 93_answer.cpp -std=gnu++17 -O2 -DONLINE_JUDGE -o 93_answer.cpp.out\n",
      "g++ 94_answer.cpp -std=gnu++17 -O2 -DONLINE_JUDGE -o 94_answer.cpp.out\n",
      "rm: cannot remove '95_out/*': No such file or directory\n",
      "rm: cannot remove '95_score/*': No such file or directory\n",
      "sed -i 95_answer.cpp -e 's/^\t\tconstexpr double COEF_CENTER_L1 = .*;  \\/\\/ OPTIMIZE \\[-100\\.0, 100\\.0\\]$/\t\tconstexpr double COEF_CENTER_L1 = -78.30827153154273;  \\/\\/ OPTIMIZE [-100.0, 100.0]/' -e 's/^\t\tconstexpr double COEF_CENTER_L1_SQ = .*;  \\/\\/ OPTIMIZE \\[0\\.0, 100\\.0\\]$/\t\tconstexpr double COEF_CENTER_L1_SQ = 4.93203956000332;  \\/\\/ OPTIMIZE [0.0, 100.0]/' -e 's/^\t\tconstexpr double COEF_POINT = .*;  \\/\\/ OPTIMIZE \\[0\\.0, 100\\.0\\]$/\t\tconstexpr double COEF_POINT = 40.66062071456965;  \\/\\/ OPTIMIZE [0.0, 100.0]/' -e 's/^\t\tconstexpr double COEF_DIST = .*;  \\/\\/ OPTIMIZE \\[0\\.0, 10000\\.0\\]$/\t\tconstexpr double COEF_DIST = 7260.645101313328;  \\/\\/ OPTIMIZE [0.0, 10000.0]/'\n",
      "g++ 95_answer.cpp -std=gnu++17 -O2 -DONLINE_JUDGE -o 95_answer.cpp.out\n"
     ]
    },
    {
     "name": "stderr",
     "output_type": "stream",
     "text": [
      "\u001b[32m[I 2021-04-25 13:18:59,482]\u001b[0m Trial 90 finished with value: 1275097.0 and parameters: {'COEF_CENTER_L1': -38.330238832357225, 'COEF_CENTER_L1_SQ': 12.981803194084094, 'COEF_POINT': 27.01434650828763, 'COEF_DIST': 6506.1826921382735}. Best is trial 85 with value: 1502006.0.\u001b[0m\n"
     ]
    },
    {
     "name": "stdout",
     "output_type": "stream",
     "text": [
      "callback ok\n",
      "index_parallel=96\n",
      "rm: cannot remove '96_out/*': No such file or directory\n",
      "rm: cannot remove '96_score/*': No such file or directory\n",
      "sed -i 96_answer.cpp -e 's/^\t\tconstexpr double COEF_CENTER_L1 = .*;  \\/\\/ OPTIMIZE \\[-100\\.0, 100\\.0\\]$/\t\tconstexpr double COEF_CENTER_L1 = -77.2271162768215;  \\/\\/ OPTIMIZE [-100.0, 100.0]/' -e 's/^\t\tconstexpr double COEF_CENTER_L1_SQ = .*;  \\/\\/ OPTIMIZE \\[0\\.0, 100\\.0\\]$/\t\tconstexpr double COEF_CENTER_L1_SQ = 4.569699443496016;  \\/\\/ OPTIMIZE [0.0, 100.0]/' -e 's/^\t\tconstexpr double COEF_POINT = .*;  \\/\\/ OPTIMIZE \\[0\\.0, 100\\.0\\]$/\t\tconstexpr double COEF_POINT = 51.05391665403635;  \\/\\/ OPTIMIZE [0.0, 100.0]/' -e 's/^\t\tconstexpr double COEF_DIST = .*;  \\/\\/ OPTIMIZE \\[0\\.0, 10000\\.0\\]$/\t\tconstexpr double COEF_DIST = 5493.075358938656;  \\/\\/ OPTIMIZE [0.0, 10000.0]/'\n",
      "g++ 96_answer.cpp -std=gnu++17 -O2 -DONLINE_JUDGE -o 96_answer.cpp.out\n"
     ]
    },
    {
     "name": "stderr",
     "output_type": "stream",
     "text": [
      "\u001b[32m[I 2021-04-25 13:19:03,362]\u001b[0m Trial 91 finished with value: 1425803.0 and parameters: {'COEF_CENTER_L1': -48.98809626780997, 'COEF_CENTER_L1_SQ': 4.15568880033805, 'COEF_POINT': 50.02052316691299, 'COEF_DIST': 4092.1521033706567}. Best is trial 85 with value: 1502006.0.\u001b[0m\n"
     ]
    },
    {
     "name": "stdout",
     "output_type": "stream",
     "text": [
      "callback ok\n",
      "index_parallel=97\n",
      "rm: cannot remove '97_out/*': No such file or directory\n",
      "rm: cannot remove '97_score/*': No such file or directory\n"
     ]
    },
    {
     "name": "stderr",
     "output_type": "stream",
     "text": [
      "\u001b[32m[I 2021-04-25 13:19:03,952]\u001b[0m Trial 92 finished with value: 1486322.0 and parameters: {'COEF_CENTER_L1': -78.75127311387865, 'COEF_CENTER_L1_SQ': 4.356367172463073, 'COEF_POINT': 50.42155805615468, 'COEF_DIST': 5454.996755960702}. Best is trial 85 with value: 1502006.0.\u001b[0m\n"
     ]
    },
    {
     "name": "stdout",
     "output_type": "stream",
     "text": [
      "callback ok\n",
      "index_parallel=98\n",
      "rm: cannot remove '98_out/*': No such file or directory\n",
      "rm: cannot remove '98_score/*': No such file or directory\n"
     ]
    },
    {
     "name": "stderr",
     "output_type": "stream",
     "text": [
      "\u001b[32m[I 2021-04-25 13:19:04,717]\u001b[0m Trial 94 finished with value: 1496856.0 and parameters: {'COEF_CENTER_L1': -76.91963858910842, 'COEF_CENTER_L1_SQ': 4.212456218527154, 'COEF_POINT': 40.841639214502194, 'COEF_DIST': 5530.585220042688}. Best is trial 85 with value: 1502006.0.\u001b[0m\n",
      "\u001b[32m[I 2021-04-25 13:19:04,755]\u001b[0m Trial 93 finished with value: 1402961.0 and parameters: {'COEF_CENTER_L1': -78.84319996019272, 'COEF_CENTER_L1_SQ': 4.7032301372761856, 'COEF_POINT': 50.58631764588523, 'COEF_DIST': 4047.9074903163496}. Best is trial 85 with value: 1502006.0.\u001b[0m\n"
     ]
    },
    {
     "name": "stdout",
     "output_type": "stream",
     "text": [
      "callback ok\n",
      "callback ok\n",
      "index_parallel=99index_parallel=0\n",
      "\n",
      "mkdir: cannot create directory ‘0_out’: File exists\n"
     ]
    },
    {
     "name": "stderr",
     "output_type": "stream",
     "text": [
      "\u001b[32m[I 2021-04-25 13:19:05,260]\u001b[0m Trial 95 finished with value: 1510473.0 and parameters: {'COEF_CENTER_L1': -78.30827153154273, 'COEF_CENTER_L1_SQ': 4.93203956000332, 'COEF_POINT': 40.66062071456965, 'COEF_DIST': 7260.645101313328}. Best is trial 95 with value: 1510473.0.\u001b[0m\n"
     ]
    },
    {
     "name": "stdout",
     "output_type": "stream",
     "text": [
      "sed -i 97_answer.cpp -e 's/^\t\tconstexpr double COEF_CENTER_L1 = .*;  \\/\\/ OPTIMIZE \\[-100\\.0, 100\\.0\\]$/\t\tconstexpr double COEF_CENTER_L1 = -77.20987552301193;  \\/\\/ OPTIMIZE [-100.0, 100.0]/' -e 's/^\t\tconstexpr double COEF_CENTER_L1_SQ = .*;  \\/\\/ OPTIMIZE \\[0\\.0, 100\\.0\\]$/\t\tconstexpr double COEF_CENTER_L1_SQ = 4.36769102774012;  \\/\\/ OPTIMIZE [0.0, 100.0]/' -e 's/^\t\tconstexpr double COEF_POINT = .*;  \\/\\/ OPTIMIZE \\[0\\.0, 100\\.0\\]$/\t\tconstexpr double COEF_POINT = 39.80361715072392;  \\/\\/ OPTIMIZE [0.0, 100.0]/' -e 's/^\t\tconstexpr double COEF_DIST = .*;  \\/\\/ OPTIMIZE \\[0\\.0, 10000\\.0\\]$/\t\tconstexpr double COEF_DIST = 5601.30193143087;  \\/\\/ OPTIMIZE [0.0, 10000.0]/'\n",
      "mkdir: cannot create directory ‘0_score’: File exists\n",
      "Updated! 1510473.0 -> 1510473.0\n",
      "g++ 97_answer.cpp -std=gnu++17 -O2 -DONLINE_JUDGE -o 97_answer.cpp.out\n",
      "sed -i 98_answer.cpp -e 's/^\t\tconstexpr double COEF_CENTER_L1 = .*;  \\/\\/ OPTIMIZE \\[-100\\.0, 100\\.0\\]$/\t\tconstexpr double COEF_CENTER_L1 = -76.29101562449145;  \\/\\/ OPTIMIZE [-100.0, 100.0]/' -e 's/^\t\tconstexpr double COEF_CENTER_L1_SQ = .*;  \\/\\/ OPTIMIZE \\[0\\.0, 100\\.0\\]$/\t\tconstexpr double COEF_CENTER_L1_SQ = 5.257350294227277;  \\/\\/ OPTIMIZE [0.0, 100.0]/' -e 's/^\t\tconstexpr double COEF_POINT = .*;  \\/\\/ OPTIMIZE \\[0\\.0, 100\\.0\\]$/\t\tconstexpr double COEF_POINT = 40.48963278067194;  \\/\\/ OPTIMIZE [0.0, 100.0]/' -e 's/^\t\tconstexpr double COEF_DIST = .*;  \\/\\/ OPTIMIZE \\[0\\.0, 10000\\.0\\]$/\t\tconstexpr double COEF_DIST = 7361.964161650455;  \\/\\/ OPTIMIZE [0.0, 10000.0]/'\n",
      "rm: cannot remove '99_out/*': No such file or directory\n",
      "callback ok\n",
      "index_parallel=1\n",
      "mkdir: cannot create directory ‘1_out’: File exists\n",
      "g++ 98_answer.cpp -std=gnu++17 -O2 -DONLINE_JUDGE -o 98_answer.cpp.out\n",
      "rm: cannot remove '99_score/*': No such file or directory\n",
      "mkdir: cannot create directory ‘1_score’: File exists\n",
      "sed -i 99_answer.cpp -e 's/^\t\tconstexpr double COEF_CENTER_L1 = .*;  \\/\\/ OPTIMIZE \\[-100\\.0, 100\\.0\\]$/\t\tconstexpr double COEF_CENTER_L1 = -75.27792417073793;  \\/\\/ OPTIMIZE [-100.0, 100.0]/' -e 's/^\t\tconstexpr double COEF_CENTER_L1_SQ = .*;  \\/\\/ OPTIMIZE \\[0\\.0, 100\\.0\\]$/\t\tconstexpr double COEF_CENTER_L1_SQ = 12.76482024467667;  \\/\\/ OPTIMIZE [0.0, 100.0]/' -e 's/^\t\tconstexpr double COEF_POINT = .*;  \\/\\/ OPTIMIZE \\[0\\.0, 100\\.0\\]$/\t\tconstexpr double COEF_POINT = 39.581608879008364;  \\/\\/ OPTIMIZE [0.0, 100.0]/' -e 's/^\t\tconstexpr double COEF_DIST = .*;  \\/\\/ OPTIMIZE \\[0\\.0, 10000\\.0\\]$/\t\tconstexpr double COEF_DIST = 5499.075599031541;  \\/\\/ OPTIMIZE [0.0, 10000.0]/'\n",
      "sed -i 0_answer.cpp -e 's/^\t\tconstexpr double COEF_CENTER_L1 = .*;  \\/\\/ OPTIMIZE \\[-100\\.0, 100\\.0\\]$/\t\tconstexpr double COEF_CENTER_L1 = -76.07610580052562;  \\/\\/ OPTIMIZE [-100.0, 100.0]/' -e 's/^\t\tconstexpr double COEF_CENTER_L1_SQ = .*;  \\/\\/ OPTIMIZE \\[0\\.0, 100\\.0\\]$/\t\tconstexpr double COEF_CENTER_L1_SQ = 13.466479258386851;  \\/\\/ OPTIMIZE [0.0, 100.0]/' -e 's/^\t\tconstexpr double COEF_POINT = .*;  \\/\\/ OPTIMIZE \\[0\\.0, 100\\.0\\]$/\t\tconstexpr double COEF_POINT = 41.11920032769787;  \\/\\/ OPTIMIZE [0.0, 100.0]/' -e 's/^\t\tconstexpr double COEF_DIST = .*;  \\/\\/ OPTIMIZE \\[0\\.0, 10000\\.0\\]$/\t\tconstexpr double COEF_DIST = 7402.982073910646;  \\/\\/ OPTIMIZE [0.0, 10000.0]/'\n",
      "g++ 99_answer.cpp -std=gnu++17 -O2 -DONLINE_JUDGE -o 99_answer.cpp.out\n",
      "g++ 0_answer.cpp -std=gnu++17 -O2 -DONLINE_JUDGE -o 0_answer.cpp.out\n",
      "sed -i 1_answer.cpp -e 's/^\t\tconstexpr double COEF_CENTER_L1 = .*;  \\/\\/ OPTIMIZE \\[-100\\.0, 100\\.0\\]$/\t\tconstexpr double COEF_CENTER_L1 = -76.71745281706325;  \\/\\/ OPTIMIZE [-100.0, 100.0]/' -e 's/^\t\tconstexpr double COEF_CENTER_L1_SQ = .*;  \\/\\/ OPTIMIZE \\[0\\.0, 100\\.0\\]$/\t\tconstexpr double COEF_CENTER_L1_SQ = 12.463695431851582;  \\/\\/ OPTIMIZE [0.0, 100.0]/' -e 's/^\t\tconstexpr double COEF_POINT = .*;  \\/\\/ OPTIMIZE \\[0\\.0, 100\\.0\\]$/\t\tconstexpr double COEF_POINT = 39.690818669617386;  \\/\\/ OPTIMIZE [0.0, 100.0]/' -e 's/^\t\tconstexpr double COEF_DIST = .*;  \\/\\/ OPTIMIZE \\[0\\.0, 10000\\.0\\]$/\t\tconstexpr double COEF_DIST = 5536.840138720208;  \\/\\/ OPTIMIZE [0.0, 10000.0]/'\n",
      "g++ 1_answer.cpp -std=gnu++17 -O2 -DONLINE_JUDGE -o 1_answer.cpp.out\n"
     ]
    },
    {
     "name": "stderr",
     "output_type": "stream",
     "text": [
      "\u001b[32m[I 2021-04-25 13:19:09,007]\u001b[0m Trial 96 finished with value: 1465379.0 and parameters: {'COEF_CENTER_L1': -77.2271162768215, 'COEF_CENTER_L1_SQ': 4.569699443496016, 'COEF_POINT': 51.05391665403635, 'COEF_DIST': 5493.075358938656}. Best is trial 95 with value: 1510473.0.\u001b[0m\n"
     ]
    },
    {
     "name": "stdout",
     "output_type": "stream",
     "text": [
      "callback ok\n",
      "index_parallel=2\n",
      "mkdir: cannot create directory ‘2_out’: File exists\n",
      "mkdir: cannot create directory ‘2_score’: File exists\n",
      "sed -i 2_answer.cpp -e 's/^\t\tconstexpr double COEF_CENTER_L1 = .*;  \\/\\/ OPTIMIZE \\[-100\\.0, 100\\.0\\]$/\t\tconstexpr double COEF_CENTER_L1 = -77.41792167962063;  \\/\\/ OPTIMIZE [-100.0, 100.0]/' -e 's/^\t\tconstexpr double COEF_CENTER_L1_SQ = .*;  \\/\\/ OPTIMIZE \\[0\\.0, 100\\.0\\]$/\t\tconstexpr double COEF_CENTER_L1_SQ = 4.9979737499405985;  \\/\\/ OPTIMIZE [0.0, 100.0]/' -e 's/^\t\tconstexpr double COEF_POINT = .*;  \\/\\/ OPTIMIZE \\[0\\.0, 100\\.0\\]$/\t\tconstexpr double COEF_POINT = 40.93990520669281;  \\/\\/ OPTIMIZE [0.0, 100.0]/' -e 's/^\t\tconstexpr double COEF_DIST = .*;  \\/\\/ OPTIMIZE \\[0\\.0, 10000\\.0\\]$/\t\tconstexpr double COEF_DIST = 5539.721369406951;  \\/\\/ OPTIMIZE [0.0, 10000.0]/'\n",
      "g++ 2_answer.cpp -std=gnu++17 -O2 -DONLINE_JUDGE -o 2_answer.cpp.out\n"
     ]
    },
    {
     "name": "stderr",
     "output_type": "stream",
     "text": [
      "\u001b[32m[I 2021-04-25 13:19:14,786]\u001b[0m Trial 97 finished with value: 1491776.0 and parameters: {'COEF_CENTER_L1': -77.20987552301193, 'COEF_CENTER_L1_SQ': 4.36769102774012, 'COEF_POINT': 39.80361715072392, 'COEF_DIST': 5601.30193143087}. Best is trial 95 with value: 1510473.0.\u001b[0m\n"
     ]
    },
    {
     "name": "stdout",
     "output_type": "stream",
     "text": [
      "callback ok\n",
      "index_parallel=3\n",
      "mkdir: cannot create directory ‘3_out’: File exists\n",
      "mkdir: cannot create directory ‘3_score’: File exists\n"
     ]
    },
    {
     "name": "stderr",
     "output_type": "stream",
     "text": [
      "\u001b[32m[I 2021-04-25 13:19:15,312]\u001b[0m Trial 98 finished with value: 1519681.0 and parameters: {'COEF_CENTER_L1': -76.29101562449145, 'COEF_CENTER_L1_SQ': 5.257350294227277, 'COEF_POINT': 40.48963278067194, 'COEF_DIST': 7361.964161650455}. Best is trial 98 with value: 1519681.0.\u001b[0m\n"
     ]
    },
    {
     "name": "stdout",
     "output_type": "stream",
     "text": [
      "Updated! 1519681.0 -> 1519681.0\n",
      "callback ok\n",
      "index_parallel=4\n",
      "mkdir: cannot create directory ‘4_out’: File exists\n",
      "mkdir: cannot create directory ‘4_score’: File exists\n"
     ]
    },
    {
     "name": "stderr",
     "output_type": "stream",
     "text": [
      "\u001b[32m[I 2021-04-25 13:19:16,534]\u001b[0m Trial 99 finished with value: 1298209.0 and parameters: {'COEF_CENTER_L1': -75.27792417073793, 'COEF_CENTER_L1_SQ': 12.76482024467667, 'COEF_POINT': 39.581608879008364, 'COEF_DIST': 5499.075599031541}. Best is trial 98 with value: 1519681.0.\u001b[0m\n",
      "\u001b[32m[I 2021-04-25 13:19:16,544]\u001b[0m Trial 100 finished with value: 1306480.0 and parameters: {'COEF_CENTER_L1': -76.07610580052562, 'COEF_CENTER_L1_SQ': 13.466479258386851, 'COEF_POINT': 41.11920032769787, 'COEF_DIST': 7402.982073910646}. Best is trial 98 with value: 1519681.0.\u001b[0m\n",
      "\u001b[32m[I 2021-04-25 13:19:16,549]\u001b[0m Trial 101 finished with value: 1317126.0 and parameters: {'COEF_CENTER_L1': -76.71745281706325, 'COEF_CENTER_L1_SQ': 12.463695431851582, 'COEF_POINT': 39.690818669617386, 'COEF_DIST': 5536.840138720208}. Best is trial 98 with value: 1519681.0.\u001b[0m\n"
     ]
    },
    {
     "name": "stdout",
     "output_type": "stream",
     "text": [
      "sed -i 3_answer.cpp -e 's/^\t\tconstexpr double COEF_CENTER_L1 = .*;  \\/\\/ OPTIMIZE \\[-100\\.0, 100\\.0\\]$/\t\tconstexpr double COEF_CENTER_L1 = -80.12862770956927;  \\/\\/ OPTIMIZE [-100.0, 100.0]/' -e 's/^\t\tconstexpr double COEF_CENTER_L1_SQ = .*;  \\/\\/ OPTIMIZE \\[0\\.0, 100\\.0\\]$/\t\tconstexpr double COEF_CENTER_L1_SQ = 12.879658725909696;  \\/\\/ OPTIMIZE [0.0, 100.0]/' -e 's/^\t\tconstexpr double COEF_POINT = .*;  \\/\\/ OPTIMIZE \\[0\\.0, 100\\.0\\]$/\t\tconstexpr double COEF_POINT = 35.804514956392815;  \\/\\/ OPTIMIZE [0.0, 100.0]/' -e 's/^\t\tconstexpr double COEF_DIST = .*;  \\/\\/ OPTIMIZE \\[0\\.0, 10000\\.0\\]$/\t\tconstexpr double COEF_DIST = 7036.656132352032;  \\/\\/ OPTIMIZE [0.0, 10000.0]/'\n",
      "callback ok\n",
      "callback ok\n",
      "callback ok\n",
      "index_parallel=5\n",
      "index_parallel=6\n",
      "g++ 3_answer.cpp -std=gnu++17 -O2 -DONLINE_JUDGE -o 3_answer.cpp.out\n",
      "mkdir: cannot create directory ‘6_out’: File exists\n",
      "mkdir: cannot create directory ‘5_out’: File exists\n",
      "index_parallel=7\n",
      "mkdir: cannot create directory ‘7_out’: File exists\n",
      "mkdir: cannot create directory ‘6_score’: File exists\n",
      "mkdir: cannot create directory ‘5_score’: File exists\n",
      "mkdir: cannot create directory ‘7_score’: File exists\n",
      "sed -i 4_answer.cpp -e 's/^\t\tconstexpr double COEF_CENTER_L1 = .*;  \\/\\/ OPTIMIZE \\[-100\\.0, 100\\.0\\]$/\t\tconstexpr double COEF_CENTER_L1 = -90.71423812949051;  \\/\\/ OPTIMIZE [-100.0, 100.0]/' -e 's/^\t\tconstexpr double COEF_CENTER_L1_SQ = .*;  \\/\\/ OPTIMIZE \\[0\\.0, 100\\.0\\]$/\t\tconstexpr double COEF_CENTER_L1_SQ = 5.410259763178529;  \\/\\/ OPTIMIZE [0.0, 100.0]/' -e 's/^\t\tconstexpr double COEF_POINT = .*;  \\/\\/ OPTIMIZE \\[0\\.0, 100\\.0\\]$/\t\tconstexpr double COEF_POINT = 35.83188091237002;  \\/\\/ OPTIMIZE [0.0, 100.0]/' -e 's/^\t\tconstexpr double COEF_DIST = .*;  \\/\\/ OPTIMIZE \\[0\\.0, 10000\\.0\\]$/\t\tconstexpr double COEF_DIST = 7236.261134933394;  \\/\\/ OPTIMIZE [0.0, 10000.0]/'\n",
      "g++ 4_answer.cpp -std=gnu++17 -O2 -DONLINE_JUDGE -o 4_answer.cpp.out\n",
      "sed -i 6_answer.cpp -e 's/^\t\tconstexpr double COEF_CENTER_L1 = .*;  \\/\\/ OPTIMIZE \\[-100\\.0, 100\\.0\\]$/\t\tconstexpr double COEF_CENTER_L1 = -92.16906943331956;  \\/\\/ OPTIMIZE [-100.0, 100.0]/' -e 's/^\t\tconstexpr double COEF_CENTER_L1_SQ = .*;  \\/\\/ OPTIMIZE \\[0\\.0, 100\\.0\\]$/\t\tconstexpr double COEF_CENTER_L1_SQ = 16.402854699030833;  \\/\\/ OPTIMIZE [0.0, 100.0]/' -e 's/^\t\tconstexpr double COEF_POINT = .*;  \\/\\/ OPTIMIZE \\[0\\.0, 100\\.0\\]$/\t\tconstexpr double COEF_POINT = 45.15028358360091;  \\/\\/ OPTIMIZE [0.0, 100.0]/' -e 's/^\t\tconstexpr double COEF_DIST = .*;  \\/\\/ OPTIMIZE \\[0\\.0, 10000\\.0\\]$/\t\tconstexpr double COEF_DIST = 7571.926118736477;  \\/\\/ OPTIMIZE [0.0, 10000.0]/'\n",
      "g++ 6_answer.cpp -std=gnu++17 -O2 -DONLINE_JUDGE -o 6_answer.cpp.out\n",
      "sed -i 5_answer.cpp -e 's/^\t\tconstexpr double COEF_CENTER_L1 = .*;  \\/\\/ OPTIMIZE \\[-100\\.0, 100\\.0\\]$/\t\tconstexpr double COEF_CENTER_L1 = -91.8991181025938;  \\/\\/ OPTIMIZE [-100.0, 100.0]/' -e 's/^\t\tconstexpr double COEF_CENTER_L1_SQ = .*;  \\/\\/ OPTIMIZE \\[0\\.0, 100\\.0\\]$/\t\tconstexpr double COEF_CENTER_L1_SQ = 5.133287282254249;  \\/\\/ OPTIMIZE [0.0, 100.0]/' -e 's/^\t\tconstexpr double COEF_POINT = .*;  \\/\\/ OPTIMIZE \\[0\\.0, 100\\.0\\]$/\t\tconstexpr double COEF_POINT = 35.452083931028504;  \\/\\/ OPTIMIZE [0.0, 100.0]/' -e 's/^\t\tconstexpr double COEF_DIST = .*;  \\/\\/ OPTIMIZE \\[0\\.0, 10000\\.0\\]$/\t\tconstexpr double COEF_DIST = 7043.601330043844;  \\/\\/ OPTIMIZE [0.0, 10000.0]/'\n",
      "g++ 5_answer.cpp -std=gnu++17 -O2 -DONLINE_JUDGE -o 5_answer.cpp.out\n",
      "sed -i 7_answer.cpp -e 's/^\t\tconstexpr double COEF_CENTER_L1 = .*;  \\/\\/ OPTIMIZE \\[-100\\.0, 100\\.0\\]$/\t\tconstexpr double COEF_CENTER_L1 = -65.47753498707957;  \\/\\/ OPTIMIZE [-100.0, 100.0]/' -e 's/^\t\tconstexpr double COEF_CENTER_L1_SQ = .*;  \\/\\/ OPTIMIZE \\[0\\.0, 100\\.0\\]$/\t\tconstexpr double COEF_CENTER_L1_SQ = 5.276157464888377;  \\/\\/ OPTIMIZE [0.0, 100.0]/' -e 's/^\t\tconstexpr double COEF_POINT = .*;  \\/\\/ OPTIMIZE \\[0\\.0, 100\\.0\\]$/\t\tconstexpr double COEF_POINT = 35.28170327684032;  \\/\\/ OPTIMIZE [0.0, 100.0]/' -e 's/^\t\tconstexpr double COEF_DIST = .*;  \\/\\/ OPTIMIZE \\[0\\.0, 10000\\.0\\]$/\t\tconstexpr double COEF_DIST = 7398.277010553649;  \\/\\/ OPTIMIZE [0.0, 10000.0]/'\n",
      "g++ 7_answer.cpp -std=gnu++17 -O2 -DONLINE_JUDGE -o 7_answer.cpp.out\n"
     ]
    },
    {
     "name": "stderr",
     "output_type": "stream",
     "text": [
      "\u001b[32m[I 2021-04-25 13:19:19,387]\u001b[0m Trial 102 finished with value: 1483262.0 and parameters: {'COEF_CENTER_L1': -77.41792167962063, 'COEF_CENTER_L1_SQ': 4.9979737499405985, 'COEF_POINT': 40.93990520669281, 'COEF_DIST': 5539.721369406951}. Best is trial 98 with value: 1519681.0.\u001b[0m\n"
     ]
    },
    {
     "name": "stdout",
     "output_type": "stream",
     "text": [
      "callback ok\n",
      "index_parallel=8\n",
      "mkdir: cannot create directory ‘8_out’: File exists\n",
      "mkdir: cannot create directory ‘8_score’: File exists\n",
      "sed -i 8_answer.cpp -e 's/^\t\tconstexpr double COEF_CENTER_L1 = .*;  \\/\\/ OPTIMIZE \\[-100\\.0, 100\\.0\\]$/\t\tconstexpr double COEF_CENTER_L1 = -91.5642658888966;  \\/\\/ OPTIMIZE [-100.0, 100.0]/' -e 's/^\t\tconstexpr double COEF_CENTER_L1_SQ = .*;  \\/\\/ OPTIMIZE \\[0\\.0, 100\\.0\\]$/\t\tconstexpr double COEF_CENTER_L1_SQ = 16.46931502415457;  \\/\\/ OPTIMIZE [0.0, 100.0]/' -e 's/^\t\tconstexpr double COEF_POINT = .*;  \\/\\/ OPTIMIZE \\[0\\.0, 100\\.0\\]$/\t\tconstexpr double COEF_POINT = 45.552013995712684;  \\/\\/ OPTIMIZE [0.0, 100.0]/' -e 's/^\t\tconstexpr double COEF_DIST = .*;  \\/\\/ OPTIMIZE \\[0\\.0, 10000\\.0\\]$/\t\tconstexpr double COEF_DIST = 8057.512245953698;  \\/\\/ OPTIMIZE [0.0, 10000.0]/'\n",
      "g++ 8_answer.cpp -std=gnu++17 -O2 -DONLINE_JUDGE -o 8_answer.cpp.out\n"
     ]
    },
    {
     "name": "stderr",
     "output_type": "stream",
     "text": [
      "\u001b[32m[I 2021-04-25 13:19:25,838]\u001b[0m Trial 103 finished with value: 1289360.0 and parameters: {'COEF_CENTER_L1': -80.12862770956927, 'COEF_CENTER_L1_SQ': 12.879658725909696, 'COEF_POINT': 35.804514956392815, 'COEF_DIST': 7036.656132352032}. Best is trial 98 with value: 1519681.0.\u001b[0m\n"
     ]
    },
    {
     "name": "stdout",
     "output_type": "stream",
     "text": [
      "callback ok\n",
      "index_parallel=9\n",
      "mkdir: cannot create directory ‘9_out’: File exists\n"
     ]
    },
    {
     "name": "stderr",
     "output_type": "stream",
     "text": [
      "\u001b[32m[I 2021-04-25 13:19:26,146]\u001b[0m Trial 104 finished with value: 1487639.0 and parameters: {'COEF_CENTER_L1': -90.71423812949051, 'COEF_CENTER_L1_SQ': 5.410259763178529, 'COEF_POINT': 35.83188091237002, 'COEF_DIST': 7236.261134933394}. Best is trial 98 with value: 1519681.0.\u001b[0m\n"
     ]
    },
    {
     "name": "stdout",
     "output_type": "stream",
     "text": [
      "callback ok\n",
      "mkdir: cannot create directory ‘9_score’: File exists\n",
      "index_parallel=10\n",
      "mkdir: cannot create directory ‘10_out’: File exists\n",
      "mkdir: cannot create directory ‘10_score’: File exists\n",
      "sed -i 9_answer.cpp -e 's/^\t\tconstexpr double COEF_CENTER_L1 = .*;  \\/\\/ OPTIMIZE \\[-100\\.0, 100\\.0\\]$/\t\tconstexpr double COEF_CENTER_L1 = -91.731156339301;  \\/\\/ OPTIMIZE [-100.0, 100.0]/' -e 's/^\t\tconstexpr double COEF_CENTER_L1_SQ = .*;  \\/\\/ OPTIMIZE \\[0\\.0, 100\\.0\\]$/\t\tconstexpr double COEF_CENTER_L1_SQ = 16.24803133062865;  \\/\\/ OPTIMIZE [0.0, 100.0]/' -e 's/^\t\tconstexpr double COEF_POINT = .*;  \\/\\/ OPTIMIZE \\[0\\.0, 100\\.0\\]$/\t\tconstexpr double COEF_POINT = 30.16280572783875;  \\/\\/ OPTIMIZE [0.0, 100.0]/' -e 's/^\t\tconstexpr double COEF_DIST = .*;  \\/\\/ OPTIMIZE \\[0\\.0, 10000\\.0\\]$/\t\tconstexpr double COEF_DIST = 8123.171173196253;  \\/\\/ OPTIMIZE [0.0, 10000.0]/'\n",
      "g++ 9_answer.cpp -std=gnu++17 -O2 -DONLINE_JUDGE -o 9_answer.cpp.out\n",
      "sed -i 10_answer.cpp -e 's/^\t\tconstexpr double COEF_CENTER_L1 = .*;  \\/\\/ OPTIMIZE \\[-100\\.0, 100\\.0\\]$/\t\tconstexpr double COEF_CENTER_L1 = -92.10143606865634;  \\/\\/ OPTIMIZE [-100.0, 100.0]/' -e 's/^\t\tconstexpr double COEF_CENTER_L1_SQ = .*;  \\/\\/ OPTIMIZE \\[0\\.0, 100\\.0\\]$/\t\tconstexpr double COEF_CENTER_L1_SQ = 9.900089190334315;  \\/\\/ OPTIMIZE [0.0, 100.0]/' -e 's/^\t\tconstexpr double COEF_POINT = .*;  \\/\\/ OPTIMIZE \\[0\\.0, 100\\.0\\]$/\t\tconstexpr double COEF_POINT = 30.50861423241303;  \\/\\/ OPTIMIZE [0.0, 100.0]/' -e 's/^\t\tconstexpr double COEF_DIST = .*;  \\/\\/ OPTIMIZE \\[0\\.0, 10000\\.0\\]$/\t\tconstexpr double COEF_DIST = 7364.929615970696;  \\/\\/ OPTIMIZE [0.0, 10000.0]/'\n",
      "g++ 10_answer.cpp -std=gnu++17 -O2 -DONLINE_JUDGE -o 10_answer.cpp.out\n"
     ]
    },
    {
     "name": "stderr",
     "output_type": "stream",
     "text": [
      "\u001b[32m[I 2021-04-25 13:19:29,848]\u001b[0m Trial 105 finished with value: 1517906.0 and parameters: {'COEF_CENTER_L1': -91.8991181025938, 'COEF_CENTER_L1_SQ': 5.133287282254249, 'COEF_POINT': 35.452083931028504, 'COEF_DIST': 7043.601330043844}. Best is trial 98 with value: 1519681.0.\u001b[0m\n"
     ]
    },
    {
     "name": "stdout",
     "output_type": "stream",
     "text": [
      "callback ok\n",
      "index_parallel=11\n",
      "mkdir: cannot create directory ‘11_out’: File exists\n"
     ]
    },
    {
     "name": "stderr",
     "output_type": "stream",
     "text": [
      "\u001b[32m[I 2021-04-25 13:19:29,961]\u001b[0m Trial 107 finished with value: 1547025.0 and parameters: {'COEF_CENTER_L1': -65.47753498707957, 'COEF_CENTER_L1_SQ': 5.276157464888377, 'COEF_POINT': 35.28170327684032, 'COEF_DIST': 7398.277010553649}. Best is trial 107 with value: 1547025.0.\u001b[0m\n"
     ]
    },
    {
     "name": "stdout",
     "output_type": "stream",
     "text": [
      "Updated! 1547025.0 -> 1547025.0\n"
     ]
    },
    {
     "name": "stderr",
     "output_type": "stream",
     "text": [
      "\u001b[32m[I 2021-04-25 13:19:30,031]\u001b[0m Trial 106 finished with value: 1292877.0 and parameters: {'COEF_CENTER_L1': -92.16906943331956, 'COEF_CENTER_L1_SQ': 16.402854699030833, 'COEF_POINT': 45.15028358360091, 'COEF_DIST': 7571.926118736477}. Best is trial 98 with value: 1547025.0.\u001b[0m\n"
     ]
    },
    {
     "name": "stdout",
     "output_type": "stream",
     "text": [
      "callback ok\n",
      "mkdir: cannot create directory ‘11_score’: File exists\n",
      "callback ok\n",
      "index_parallel=12\n",
      "mkdir: cannot create directory ‘12_out’: File exists\n",
      "mkdir: cannot create directory ‘12_score’: File exists\n",
      "index_parallel=13\n",
      "mkdir: cannot create directory ‘13_out’: File exists\n",
      "mkdir: cannot create directory ‘13_score’: File exists\n",
      "sed -i 11_answer.cpp -e 's/^\t\tconstexpr double COEF_CENTER_L1 = .*;  \\/\\/ OPTIMIZE \\[-100\\.0, 100\\.0\\]$/\t\tconstexpr double COEF_CENTER_L1 = -98.74924100394652;  \\/\\/ OPTIMIZE [-100.0, 100.0]/' -e 's/^\t\tconstexpr double COEF_CENTER_L1_SQ = .*;  \\/\\/ OPTIMIZE \\[0\\.0, 100\\.0\\]$/\t\tconstexpr double COEF_CENTER_L1_SQ = 9.812578838710525;  \\/\\/ OPTIMIZE [0.0, 100.0]/' -e 's/^\t\tconstexpr double COEF_POINT = .*;  \\/\\/ OPTIMIZE \\[0\\.0, 100\\.0\\]$/\t\tconstexpr double COEF_POINT = 31.52499308340163;  \\/\\/ OPTIMIZE [0.0, 100.0]/' -e 's/^\t\tconstexpr double COEF_DIST = .*;  \\/\\/ OPTIMIZE \\[0\\.0, 10000\\.0\\]$/\t\tconstexpr double COEF_DIST = 7994.38304724111;  \\/\\/ OPTIMIZE [0.0, 10000.0]/'\n",
      "g++ 11_answer.cpp -std=gnu++17 -O2 -DONLINE_JUDGE -o 11_answer.cpp.out\n",
      "sed -i 12_answer.cpp -e 's/^\t\tconstexpr double COEF_CENTER_L1 = .*;  \\/\\/ OPTIMIZE \\[-100\\.0, 100\\.0\\]$/\t\tconstexpr double COEF_CENTER_L1 = -99.85089289651427;  \\/\\/ OPTIMIZE [-100.0, 100.0]/' -e 's/^\t\tconstexpr double COEF_CENTER_L1_SQ = .*;  \\/\\/ OPTIMIZE \\[0\\.0, 100\\.0\\]$/\t\tconstexpr double COEF_CENTER_L1_SQ = 9.919126369635013;  \\/\\/ OPTIMIZE [0.0, 100.0]/' -e 's/^\t\tconstexpr double COEF_POINT = .*;  \\/\\/ OPTIMIZE \\[0\\.0, 100\\.0\\]$/\t\tconstexpr double COEF_POINT = 30.538162457733055;  \\/\\/ OPTIMIZE [0.0, 100.0]/' -e 's/^\t\tconstexpr double COEF_DIST = .*;  \\/\\/ OPTIMIZE \\[0\\.0, 10000\\.0\\]$/\t\tconstexpr double COEF_DIST = 6682.565029695991;  \\/\\/ OPTIMIZE [0.0, 10000.0]/'\n"
     ]
    },
    {
     "name": "stderr",
     "output_type": "stream",
     "text": [
      "\u001b[32m[I 2021-04-25 13:19:32,773]\u001b[0m Trial 108 finished with value: 1325201.0 and parameters: {'COEF_CENTER_L1': -91.5642658888966, 'COEF_CENTER_L1_SQ': 16.46931502415457, 'COEF_POINT': 45.552013995712684, 'COEF_DIST': 8057.512245953698}. Best is trial 107 with value: 1547025.0.\u001b[0m\n"
     ]
    },
    {
     "name": "stdout",
     "output_type": "stream",
     "text": [
      "callback ok\n",
      "sed -i 13_answer.cpp -e 's/^\t\tconstexpr double COEF_CENTER_L1 = .*;  \\/\\/ OPTIMIZE \\[-100\\.0, 100\\.0\\]$/\t\tconstexpr double COEF_CENTER_L1 = -92.33897646011826;  \\/\\/ OPTIMIZE [-100.0, 100.0]/' -e 's/^\t\tconstexpr double COEF_CENTER_L1_SQ = .*;  \\/\\/ OPTIMIZE \\[0\\.0, 100\\.0\\]$/\t\tconstexpr double COEF_CENTER_L1_SQ = 9.832323155510647;  \\/\\/ OPTIMIZE [0.0, 100.0]/' -e 's/^\t\tconstexpr double COEF_POINT = .*;  \\/\\/ OPTIMIZE \\[0\\.0, 100\\.0\\]$/\t\tconstexpr double COEF_POINT = 30.907832417422973;  \\/\\/ OPTIMIZE [0.0, 100.0]/' -e 's/^\t\tconstexpr double COEF_DIST = .*;  \\/\\/ OPTIMIZE \\[0\\.0, 10000\\.0\\]$/\t\tconstexpr double COEF_DIST = 7189.485915628635;  \\/\\/ OPTIMIZE [0.0, 10000.0]/'\n",
      "g++ 12_answer.cpp -std=gnu++17 -O2 -DONLINE_JUDGE -o 12_answer.cpp.out\n",
      "g++ 13_answer.cpp -std=gnu++17 -O2 -DONLINE_JUDGE -o 13_answer.cpp.out\n",
      "index_parallel=14\n",
      "mkdir: cannot create directory ‘14_out’: File exists\n",
      "mkdir: cannot create directory ‘14_score’: File exists\n",
      "sed -i 14_answer.cpp -e 's/^\t\tconstexpr double COEF_CENTER_L1 = .*;  \\/\\/ OPTIMIZE \\[-100\\.0, 100\\.0\\]$/\t\tconstexpr double COEF_CENTER_L1 = -99.7629032819076;  \\/\\/ OPTIMIZE [-100.0, 100.0]/' -e 's/^\t\tconstexpr double COEF_CENTER_L1_SQ = .*;  \\/\\/ OPTIMIZE \\[0\\.0, 100\\.0\\]$/\t\tconstexpr double COEF_CENTER_L1_SQ = 9.983393739887997;  \\/\\/ OPTIMIZE [0.0, 100.0]/' -e 's/^\t\tconstexpr double COEF_POINT = .*;  \\/\\/ OPTIMIZE \\[0\\.0, 100\\.0\\]$/\t\tconstexpr double COEF_POINT = 30.839958078908403;  \\/\\/ OPTIMIZE [0.0, 100.0]/' -e 's/^\t\tconstexpr double COEF_DIST = .*;  \\/\\/ OPTIMIZE \\[0\\.0, 10000\\.0\\]$/\t\tconstexpr double COEF_DIST = 8103.569450126813;  \\/\\/ OPTIMIZE [0.0, 10000.0]/'\n",
      "g++ 14_answer.cpp -std=gnu++17 -O2 -DONLINE_JUDGE -o 14_answer.cpp.out\n"
     ]
    },
    {
     "name": "stderr",
     "output_type": "stream",
     "text": [
      "\u001b[32m[I 2021-04-25 13:19:36,999]\u001b[0m Trial 109 finished with value: 1331931.0 and parameters: {'COEF_CENTER_L1': -91.731156339301, 'COEF_CENTER_L1_SQ': 16.24803133062865, 'COEF_POINT': 30.16280572783875, 'COEF_DIST': 8123.171173196253}. Best is trial 107 with value: 1547025.0.\u001b[0m\n"
     ]
    },
    {
     "name": "stdout",
     "output_type": "stream",
     "text": [
      "callback ok\n",
      "index_parallel=15\n",
      "mkdir: cannot create directory ‘15_out’: File exists\n"
     ]
    },
    {
     "name": "stderr",
     "output_type": "stream",
     "text": [
      "\u001b[32m[I 2021-04-25 13:19:37,413]\u001b[0m Trial 110 finished with value: 1403367.0 and parameters: {'COEF_CENTER_L1': -92.10143606865634, 'COEF_CENTER_L1_SQ': 9.900089190334315, 'COEF_POINT': 30.50861423241303, 'COEF_DIST': 7364.929615970696}. Best is trial 107 with value: 1547025.0.\u001b[0m\n"
     ]
    },
    {
     "name": "stdout",
     "output_type": "stream",
     "text": [
      "callback ok\n",
      "mkdir: cannot create directory ‘15_score’: File exists\n",
      "index_parallel=16\n",
      "mkdir: cannot create directory ‘16_out’: File exists\n",
      "mkdir: cannot create directory ‘16_score’: File exists\n",
      "sed -i 15_answer.cpp -e 's/^\t\tconstexpr double COEF_CENTER_L1 = .*;  \\/\\/ OPTIMIZE \\[-100\\.0, 100\\.0\\]$/\t\tconstexpr double COEF_CENTER_L1 = -99.67623111667874;  \\/\\/ OPTIMIZE [-100.0, 100.0]/' -e 's/^\t\tconstexpr double COEF_CENTER_L1_SQ = .*;  \\/\\/ OPTIMIZE \\[0\\.0, 100\\.0\\]$/\t\tconstexpr double COEF_CENTER_L1_SQ = 4.704464290448665;  \\/\\/ OPTIMIZE [0.0, 100.0]/' -e 's/^\t\tconstexpr double COEF_POINT = .*;  \\/\\/ OPTIMIZE \\[0\\.0, 100\\.0\\]$/\t\tconstexpr double COEF_POINT = 35.8869942828467;  \\/\\/ OPTIMIZE [0.0, 100.0]/' -e 's/^\t\tconstexpr double COEF_DIST = .*;  \\/\\/ OPTIMIZE \\[0\\.0, 10000\\.0\\]$/\t\tconstexpr double COEF_DIST = 8748.108344967826;  \\/\\/ OPTIMIZE [0.0, 10000.0]/'\n",
      "g++ 15_answer.cpp -std=gnu++17 -O2 -DONLINE_JUDGE -o 15_answer.cpp.out\n",
      "sed -i 16_answer.cpp -e 's/^\t\tconstexpr double COEF_CENTER_L1 = .*;  \\/\\/ OPTIMIZE \\[-100\\.0, 100\\.0\\]$/\t\tconstexpr double COEF_CENTER_L1 = -97.1078954634732;  \\/\\/ OPTIMIZE [-100.0, 100.0]/' -e 's/^\t\tconstexpr double COEF_CENTER_L1_SQ = .*;  \\/\\/ OPTIMIZE \\[0\\.0, 100\\.0\\]$/\t\tconstexpr double COEF_CENTER_L1_SQ = 5.626912548702985;  \\/\\/ OPTIMIZE [0.0, 100.0]/' -e 's/^\t\tconstexpr double COEF_POINT = .*;  \\/\\/ OPTIMIZE \\[0\\.0, 100\\.0\\]$/\t\tconstexpr double COEF_POINT = 32.62354866469194;  \\/\\/ OPTIMIZE [0.0, 100.0]/' -e 's/^\t\tconstexpr double COEF_DIST = .*;  \\/\\/ OPTIMIZE \\[0\\.0, 10000\\.0\\]$/\t\tconstexpr double COEF_DIST = 6729.430165398931;  \\/\\/ OPTIMIZE [0.0, 10000.0]/'\n",
      "g++ 16_answer.cpp -std=gnu++17 -O2 -DONLINE_JUDGE -o 16_answer.cpp.out\n"
     ]
    },
    {
     "name": "stderr",
     "output_type": "stream",
     "text": [
      "\u001b[32m[I 2021-04-25 13:19:42,079]\u001b[0m Trial 111 finished with value: 1393650.0 and parameters: {'COEF_CENTER_L1': -98.74924100394652, 'COEF_CENTER_L1_SQ': 9.812578838710525, 'COEF_POINT': 31.52499308340163, 'COEF_DIST': 7994.38304724111}. Best is trial 107 with value: 1547025.0.\u001b[0m\n"
     ]
    },
    {
     "name": "stdout",
     "output_type": "stream",
     "text": [
      "callback ok\n",
      "index_parallel=17\n",
      "mkdir: cannot create directory ‘17_out’: File exists\n",
      "mkdir: cannot create directory ‘17_score’: File exists\n",
      "sed -i 17_answer.cpp -e 's/^\t\tconstexpr double COEF_CENTER_L1 = .*;  \\/\\/ OPTIMIZE \\[-100\\.0, 100\\.0\\]$/\t\tconstexpr double COEF_CENTER_L1 = 16.254541197975925;  \\/\\/ OPTIMIZE [-100.0, 100.0]/' -e 's/^\t\tconstexpr double COEF_CENTER_L1_SQ = .*;  \\/\\/ OPTIMIZE \\[0\\.0, 100\\.0\\]$/\t\tconstexpr double COEF_CENTER_L1_SQ = 5.84288071919613;  \\/\\/ OPTIMIZE [0.0, 100.0]/' -e 's/^\t\tconstexpr double COEF_POINT = .*;  \\/\\/ OPTIMIZE \\[0\\.0, 100\\.0\\]$/\t\tconstexpr double COEF_POINT = 36.230613888666184;  \\/\\/ OPTIMIZE [0.0, 100.0]/' -e 's/^\t\tconstexpr double COEF_DIST = .*;  \\/\\/ OPTIMIZE \\[0\\.0, 10000\\.0\\]$/\t\tconstexpr double COEF_DIST = 7567.54085955154;  \\/\\/ OPTIMIZE [0.0, 10000.0]/'\n",
      "g++ 17_answer.cpp -std=gnu++17 -O2 -DONLINE_JUDGE -o 17_answer.cpp.out\n"
     ]
    },
    {
     "name": "stderr",
     "output_type": "stream",
     "text": [
      "\u001b[32m[I 2021-04-25 13:19:44,093]\u001b[0m Trial 114 finished with value: 1399280.0 and parameters: {'COEF_CENTER_L1': -99.7629032819076, 'COEF_CENTER_L1_SQ': 9.983393739887997, 'COEF_POINT': 30.839958078908403, 'COEF_DIST': 8103.569450126813}. Best is trial 107 with value: 1547025.0.\u001b[0m\n",
      "\u001b[32m[I 2021-04-25 13:19:44,100]\u001b[0m Trial 112 finished with value: 1415268.0 and parameters: {'COEF_CENTER_L1': -99.85089289651427, 'COEF_CENTER_L1_SQ': 9.919126369635013, 'COEF_POINT': 30.538162457733055, 'COEF_DIST': 6682.565029695991}. Best is trial 107 with value: 1547025.0.\u001b[0m\n"
     ]
    },
    {
     "name": "stdout",
     "output_type": "stream",
     "text": [
      "callback ok\n",
      "callback ok\n",
      "index_parallel=18\n",
      "mkdir: cannot create directory ‘18_out’: File exists\n",
      "mkdir: cannot create directory ‘18_score’: File exists\n",
      "index_parallel=19\n",
      "mkdir: cannot create directory ‘19_out’: File exists\n"
     ]
    },
    {
     "name": "stderr",
     "output_type": "stream",
     "text": [
      "\u001b[32m[I 2021-04-25 13:19:44,437]\u001b[0m Trial 113 finished with value: 1398986.0 and parameters: {'COEF_CENTER_L1': -92.33897646011826, 'COEF_CENTER_L1_SQ': 9.832323155510647, 'COEF_POINT': 30.907832417422973, 'COEF_DIST': 7189.485915628635}. Best is trial 107 with value: 1547025.0.\u001b[0m\n"
     ]
    },
    {
     "name": "stdout",
     "output_type": "stream",
     "text": [
      "callback ok\n",
      "mkdir: cannot create directory ‘19_score’: File exists\n",
      "index_parallel=20\n",
      "mkdir: cannot create directory ‘20_out’: File exists\n",
      "mkdir: cannot create directory ‘20_score’: File exists\n",
      "sed -i 19_answer.cpp -e 's/^\t\tconstexpr double COEF_CENTER_L1 = .*;  \\/\\/ OPTIMIZE \\[-100\\.0, 100\\.0\\]$/\t\tconstexpr double COEF_CENTER_L1 = -65.07376838727558;  \\/\\/ OPTIMIZE [-100.0, 100.0]/' -e 's/^\t\tconstexpr double COEF_CENTER_L1_SQ = .*;  \\/\\/ OPTIMIZE \\[0\\.0, 100\\.0\\]$/\t\tconstexpr double COEF_CENTER_L1_SQ = 5.93768313326995;  \\/\\/ OPTIMIZE [0.0, 100.0]/' -e 's/^\t\tconstexpr double COEF_POINT = .*;  \\/\\/ OPTIMIZE \\[0\\.0, 100\\.0\\]$/\t\tconstexpr double COEF_POINT = 35.605127794552985;  \\/\\/ OPTIMIZE [0.0, 100.0]/' -e 's/^\t\tconstexpr double COEF_DIST = .*;  \\/\\/ OPTIMIZE \\[0\\.0, 10000\\.0\\]$/\t\tconstexpr double COEF_DIST = 7493.229192309398;  \\/\\/ OPTIMIZE [0.0, 10000.0]/'\n",
      "g++ 19_answer.cpp -std=gnu++17 -O2 -DONLINE_JUDGE -o 19_answer.cpp.out\n",
      "sed -i 18_answer.cpp -e 's/^\t\tconstexpr double COEF_CENTER_L1 = .*;  \\/\\/ OPTIMIZE \\[-100\\.0, 100\\.0\\]$/\t\tconstexpr double COEF_CENTER_L1 = -81.4195281390679;  \\/\\/ OPTIMIZE [-100.0, 100.0]/' -e 's/^\t\tconstexpr double COEF_CENTER_L1_SQ = .*;  \\/\\/ OPTIMIZE \\[0\\.0, 100\\.0\\]$/\t\tconstexpr double COEF_CENTER_L1_SQ = 5.705234983317738;  \\/\\/ OPTIMIZE [0.0, 100.0]/' -e 's/^\t\tconstexpr double COEF_POINT = .*;  \\/\\/ OPTIMIZE \\[0\\.0, 100\\.0\\]$/\t\tconstexpr double COEF_POINT = 35.22839923474078;  \\/\\/ OPTIMIZE [0.0, 100.0]/' -e 's/^\t\tconstexpr double COEF_DIST = .*;  \\/\\/ OPTIMIZE \\[0\\.0, 10000\\.0\\]$/\t\tconstexpr double COEF_DIST = 8598.426721885675;  \\/\\/ OPTIMIZE [0.0, 10000.0]/'\n",
      "g++ 18_answer.cpp -std=gnu++17 -O2 -DONLINE_JUDGE -o 18_answer.cpp.out\n",
      "sed -i 20_answer.cpp -e 's/^\t\tconstexpr double COEF_CENTER_L1 = .*;  \\/\\/ OPTIMIZE \\[-100\\.0, 100\\.0\\]$/\t\tconstexpr double COEF_CENTER_L1 = 10.793063313220308;  \\/\\/ OPTIMIZE [-100.0, 100.0]/' -e 's/^\t\tconstexpr double COEF_CENTER_L1_SQ = .*;  \\/\\/ OPTIMIZE \\[0\\.0, 100\\.0\\]$/\t\tconstexpr double COEF_CENTER_L1_SQ = 2.991507235458599;  \\/\\/ OPTIMIZE [0.0, 100.0]/' -e 's/^\t\tconstexpr double COEF_POINT = .*;  \\/\\/ OPTIMIZE \\[0\\.0, 100\\.0\\]$/\t\tconstexpr double COEF_POINT = 35.72746324113752;  \\/\\/ OPTIMIZE [0.0, 100.0]/' -e 's/^\t\tconstexpr double COEF_DIST = .*;  \\/\\/ OPTIMIZE \\[0\\.0, 10000\\.0\\]$/\t\tconstexpr double COEF_DIST = 8807.254194567164;  \\/\\/ OPTIMIZE [0.0, 10000.0]/'\n",
      "g++ 20_answer.cpp -std=gnu++17 -O2 -DONLINE_JUDGE -o 20_answer.cpp.out\n"
     ]
    },
    {
     "name": "stderr",
     "output_type": "stream",
     "text": [
      "\u001b[32m[I 2021-04-25 13:19:48,795]\u001b[0m Trial 116 finished with value: 1507237.0 and parameters: {'COEF_CENTER_L1': -97.1078954634732, 'COEF_CENTER_L1_SQ': 5.626912548702985, 'COEF_POINT': 32.62354866469194, 'COEF_DIST': 6729.430165398931}. Best is trial 107 with value: 1547025.0.\u001b[0m\n",
      "\u001b[32m[I 2021-04-25 13:19:48,808]\u001b[0m Trial 115 finished with value: 1471503.0 and parameters: {'COEF_CENTER_L1': -99.67623111667874, 'COEF_CENTER_L1_SQ': 4.704464290448665, 'COEF_POINT': 35.8869942828467, 'COEF_DIST': 8748.108344967826}. Best is trial 107 with value: 1547025.0.\u001b[0m\n"
     ]
    },
    {
     "name": "stdout",
     "output_type": "stream",
     "text": [
      "callback ok\n",
      "callback ok\n",
      "index_parallel=21\n",
      "mkdir: cannot create directory ‘21_out’: File exists\n",
      "mkdir: cannot create directory ‘21_score’: File exists\n",
      "index_parallel=22\n",
      "mkdir: cannot create directory ‘22_out’: File exists\n",
      "mkdir: cannot create directory ‘22_score’: File exists\n",
      "sed -i 21_answer.cpp -e 's/^\t\tconstexpr double COEF_CENTER_L1 = .*;  \\/\\/ OPTIMIZE \\[-100\\.0, 100\\.0\\]$/\t\tconstexpr double COEF_CENTER_L1 = -81.20375363746003;  \\/\\/ OPTIMIZE [-100.0, 100.0]/' -e 's/^\t\tconstexpr double COEF_CENTER_L1_SQ = .*;  \\/\\/ OPTIMIZE \\[0\\.0, 100\\.0\\]$/\t\tconstexpr double COEF_CENTER_L1_SQ = 2.18167965877685;  \\/\\/ OPTIMIZE [0.0, 100.0]/' -e 's/^\t\tconstexpr double COEF_POINT = .*;  \\/\\/ OPTIMIZE \\[0\\.0, 100\\.0\\]$/\t\tconstexpr double COEF_POINT = 34.30423257353056;  \\/\\/ OPTIMIZE [0.0, 100.0]/' -e 's/^\t\tconstexpr double COEF_DIST = .*;  \\/\\/ OPTIMIZE \\[0\\.0, 10000\\.0\\]$/\t\tconstexpr double COEF_DIST = 7494.057017481146;  \\/\\/ OPTIMIZE [0.0, 10000.0]/'\n",
      "g++ 21_answer.cpp -std=gnu++17 -O2 -DONLINE_JUDGE -o 21_answer.cpp.out\n",
      "sed -i 22_answer.cpp -e 's/^\t\tconstexpr double COEF_CENTER_L1 = .*;  \\/\\/ OPTIMIZE \\[-100\\.0, 100\\.0\\]$/\t\tconstexpr double COEF_CENTER_L1 = -65.559924996072;  \\/\\/ OPTIMIZE [-100.0, 100.0]/' -e 's/^\t\tconstexpr double COEF_CENTER_L1_SQ = .*;  \\/\\/ OPTIMIZE \\[0\\.0, 100\\.0\\]$/\t\tconstexpr double COEF_CENTER_L1_SQ = 5.613372676576947;  \\/\\/ OPTIMIZE [0.0, 100.0]/' -e 's/^\t\tconstexpr double COEF_POINT = .*;  \\/\\/ OPTIMIZE \\[0\\.0, 100\\.0\\]$/\t\tconstexpr double COEF_POINT = 48.272094632425;  \\/\\/ OPTIMIZE [0.0, 100.0]/' -e 's/^\t\tconstexpr double COEF_DIST = .*;  \\/\\/ OPTIMIZE \\[0\\.0, 10000\\.0\\]$/\t\tconstexpr double COEF_DIST = 7590.576861437525;  \\/\\/ OPTIMIZE [0.0, 10000.0]/'\n",
      "g++ 22_answer.cpp -std=gnu++17 -O2 -DONLINE_JUDGE -o 22_answer.cpp.out\n"
     ]
    },
    {
     "name": "stderr",
     "output_type": "stream",
     "text": [
      "\u001b[32m[I 2021-04-25 13:19:53,049]\u001b[0m Trial 117 finished with value: 1482628.0 and parameters: {'COEF_CENTER_L1': 16.254541197975925, 'COEF_CENTER_L1_SQ': 5.84288071919613, 'COEF_POINT': 36.230613888666184, 'COEF_DIST': 7567.54085955154}. Best is trial 107 with value: 1547025.0.\u001b[0m\n"
     ]
    },
    {
     "name": "stdout",
     "output_type": "stream",
     "text": [
      "callback ok\n",
      "index_parallel=23\n",
      "mkdir: cannot create directory ‘23_out’: File exists\n",
      "mkdir: cannot create directory ‘23_score’: File exists\n",
      "sed -i 23_answer.cpp -e 's/^\t\tconstexpr double COEF_CENTER_L1 = .*;  \\/\\/ OPTIMIZE \\[-100\\.0, 100\\.0\\]$/\t\tconstexpr double COEF_CENTER_L1 = 10.379302419068708;  \\/\\/ OPTIMIZE [-100.0, 100.0]/' -e 's/^\t\tconstexpr double COEF_CENTER_L1_SQ = .*;  \\/\\/ OPTIMIZE \\[0\\.0, 100\\.0\\]$/\t\tconstexpr double COEF_CENTER_L1_SQ = 5.828581428659476;  \\/\\/ OPTIMIZE [0.0, 100.0]/' -e 's/^\t\tconstexpr double COEF_POINT = .*;  \\/\\/ OPTIMIZE \\[0\\.0, 100\\.0\\]$/\t\tconstexpr double COEF_POINT = 26.099489851315088;  \\/\\/ OPTIMIZE [0.0, 100.0]/' -e 's/^\t\tconstexpr double COEF_DIST = .*;  \\/\\/ OPTIMIZE \\[0\\.0, 10000\\.0\\]$/\t\tconstexpr double COEF_DIST = 7571.14999165581;  \\/\\/ OPTIMIZE [0.0, 10000.0]/'\n",
      "g++ 23_answer.cpp -std=gnu++17 -O2 -DONLINE_JUDGE -o 23_answer.cpp.out\n"
     ]
    },
    {
     "name": "stderr",
     "output_type": "stream",
     "text": [
      "\u001b[32m[I 2021-04-25 13:19:56,412]\u001b[0m Trial 118 finished with value: 1529348.0 and parameters: {'COEF_CENTER_L1': -81.4195281390679, 'COEF_CENTER_L1_SQ': 5.705234983317738, 'COEF_POINT': 35.22839923474078, 'COEF_DIST': 8598.426721885675}. Best is trial 107 with value: 1547025.0.\u001b[0m\n"
     ]
    },
    {
     "name": "stdout",
     "output_type": "stream",
     "text": [
      "callback ok\n",
      "index_parallel=24\n",
      "mkdir: cannot create directory ‘24_out’: File exists\n"
     ]
    },
    {
     "name": "stderr",
     "output_type": "stream",
     "text": [
      "\u001b[32m[I 2021-04-25 13:19:56,627]\u001b[0m Trial 119 finished with value: 1536139.0 and parameters: {'COEF_CENTER_L1': -65.07376838727558, 'COEF_CENTER_L1_SQ': 5.93768313326995, 'COEF_POINT': 35.605127794552985, 'COEF_DIST': 7493.229192309398}. Best is trial 107 with value: 1547025.0.\u001b[0m\n"
     ]
    },
    {
     "name": "stdout",
     "output_type": "stream",
     "text": [
      "callback ok\n",
      "index_parallel=25\n",
      "mkdir: cannot create directory ‘25_out’: File exists\n",
      "mkdir: cannot create directory ‘24_score’: File exists\n",
      "mkdir: cannot create directory ‘25_score’: File exists\n"
     ]
    },
    {
     "name": "stderr",
     "output_type": "stream",
     "text": [
      "\u001b[32m[I 2021-04-25 13:19:56,966]\u001b[0m Trial 120 finished with value: 1496684.0 and parameters: {'COEF_CENTER_L1': 10.793063313220308, 'COEF_CENTER_L1_SQ': 2.991507235458599, 'COEF_POINT': 35.72746324113752, 'COEF_DIST': 8807.254194567164}. Best is trial 107 with value: 1547025.0.\u001b[0m\n"
     ]
    },
    {
     "name": "stdout",
     "output_type": "stream",
     "text": [
      "callback ok\n",
      "index_parallel=26\n",
      "mkdir: cannot create directory ‘26_out’: File exists\n",
      "mkdir: cannot create directory ‘26_score’: File exists\n",
      "sed -i 24_answer.cpp -e 's/^\t\tconstexpr double COEF_CENTER_L1 = .*;  \\/\\/ OPTIMIZE \\[-100\\.0, 100\\.0\\]$/\t\tconstexpr double COEF_CENTER_L1 = 11.67084054447013;  \\/\\/ OPTIMIZE [-100.0, 100.0]/' -e 's/^\t\tconstexpr double COEF_CENTER_L1_SQ = .*;  \\/\\/ OPTIMIZE \\[0\\.0, 100\\.0\\]$/\t\tconstexpr double COEF_CENTER_L1_SQ = 2.229706954813704;  \\/\\/ OPTIMIZE [0.0, 100.0]/' -e 's/^\t\tconstexpr double COEF_POINT = .*;  \\/\\/ OPTIMIZE \\[0\\.0, 100\\.0\\]$/\t\tconstexpr double COEF_POINT = 26.10043368397725;  \\/\\/ OPTIMIZE [0.0, 100.0]/' -e 's/^\t\tconstexpr double COEF_DIST = .*;  \\/\\/ OPTIMIZE \\[0\\.0, 10000\\.0\\]$/\t\tconstexpr double COEF_DIST = 6867.405414430972;  \\/\\/ OPTIMIZE [0.0, 10000.0]/'\n",
      "g++ 24_answer.cpp -std=gnu++17 -O2 -DONLINE_JUDGE -o 24_answer.cpp.out\n",
      "sed -i 25_answer.cpp -e 's/^\t\tconstexpr double COEF_CENTER_L1 = .*;  \\/\\/ OPTIMIZE \\[-100\\.0, 100\\.0\\]$/\t\tconstexpr double COEF_CENTER_L1 = 16.871718984043948;  \\/\\/ OPTIMIZE [-100.0, 100.0]/' -e 's/^\t\tconstexpr double COEF_CENTER_L1_SQ = .*;  \\/\\/ OPTIMIZE \\[0\\.0, 100\\.0\\]$/\t\tconstexpr double COEF_CENTER_L1_SQ = 1.6849572843782261;  \\/\\/ OPTIMIZE [0.0, 100.0]/' -e 's/^\t\tconstexpr double COEF_POINT = .*;  \\/\\/ OPTIMIZE \\[0\\.0, 100\\.0\\]$/\t\tconstexpr double COEF_POINT = 27.10055783716504;  \\/\\/ OPTIMIZE [0.0, 100.0]/' -e 's/^\t\tconstexpr double COEF_DIST = .*;  \\/\\/ OPTIMIZE \\[0\\.0, 10000\\.0\\]$/\t\tconstexpr double COEF_DIST = 8646.420052501397;  \\/\\/ OPTIMIZE [0.0, 10000.0]/'\n",
      "g++ 25_answer.cpp -std=gnu++17 -O2 -DONLINE_JUDGE -o 25_answer.cpp.out\n",
      "sed -i 26_answer.cpp -e 's/^\t\tconstexpr double COEF_CENTER_L1 = .*;  \\/\\/ OPTIMIZE \\[-100\\.0, 100\\.0\\]$/\t\tconstexpr double COEF_CENTER_L1 = 13.317440048479948;  \\/\\/ OPTIMIZE [-100.0, 100.0]/' -e 's/^\t\tconstexpr double COEF_CENTER_L1_SQ = .*;  \\/\\/ OPTIMIZE \\[0\\.0, 100\\.0\\]$/\t\tconstexpr double COEF_CENTER_L1_SQ = 2.5373336093508416;  \\/\\/ OPTIMIZE [0.0, 100.0]/' -e 's/^\t\tconstexpr double COEF_POINT = .*;  \\/\\/ OPTIMIZE \\[0\\.0, 100\\.0\\]$/\t\tconstexpr double COEF_POINT = 26.862692197867187;  \\/\\/ OPTIMIZE [0.0, 100.0]/' -e 's/^\t\tconstexpr double COEF_DIST = .*;  \\/\\/ OPTIMIZE \\[0\\.0, 10000\\.0\\]$/\t\tconstexpr double COEF_DIST = 6920.66415398064;  \\/\\/ OPTIMIZE [0.0, 10000.0]/'\n",
      "g++ 26_answer.cpp -std=gnu++17 -O2 -DONLINE_JUDGE -o 26_answer.cpp.out\n"
     ]
    },
    {
     "name": "stderr",
     "output_type": "stream",
     "text": [
      "\u001b[32m[I 2021-04-25 13:20:00,424]\u001b[0m Trial 121 finished with value: 1478384.0 and parameters: {'COEF_CENTER_L1': -81.20375363746003, 'COEF_CENTER_L1_SQ': 2.18167965877685, 'COEF_POINT': 34.30423257353056, 'COEF_DIST': 7494.057017481146}. Best is trial 107 with value: 1547025.0.\u001b[0m\n"
     ]
    },
    {
     "name": "stdout",
     "output_type": "stream",
     "text": [
      "callback ok\n",
      "index_parallel=27\n",
      "mkdir: cannot create directory ‘27_out’: File exists\n"
     ]
    },
    {
     "name": "stderr",
     "output_type": "stream",
     "text": [
      "\u001b[32m[I 2021-04-25 13:20:00,577]\u001b[0m Trial 122 finished with value: 1536616.0 and parameters: {'COEF_CENTER_L1': -65.559924996072, 'COEF_CENTER_L1_SQ': 5.613372676576947, 'COEF_POINT': 48.272094632425, 'COEF_DIST': 7590.576861437525}. Best is trial 107 with value: 1547025.0.\u001b[0m\n"
     ]
    },
    {
     "name": "stdout",
     "output_type": "stream",
     "text": [
      "callback ok\n",
      "index_parallel=28\n",
      "mkdir: cannot create directory ‘28_out’: File exists\n",
      "mkdir: cannot create directory ‘27_score’: File exists\n",
      "mkdir: cannot create directory ‘28_score’: File exists\n",
      "sed -i 27_answer.cpp -e 's/^\t\tconstexpr double COEF_CENTER_L1 = .*;  \\/\\/ OPTIMIZE \\[-100\\.0, 100\\.0\\]$/\t\tconstexpr double COEF_CENTER_L1 = 5.453865512998057;  \\/\\/ OPTIMIZE [-100.0, 100.0]/' -e 's/^\t\tconstexpr double COEF_CENTER_L1_SQ = .*;  \\/\\/ OPTIMIZE \\[0\\.0, 100\\.0\\]$/\t\tconstexpr double COEF_CENTER_L1_SQ = 1.9604539378898203;  \\/\\/ OPTIMIZE [0.0, 100.0]/' -e 's/^\t\tconstexpr double COEF_POINT = .*;  \\/\\/ OPTIMIZE \\[0\\.0, 100\\.0\\]$/\t\tconstexpr double COEF_POINT = 42.85018378176026;  \\/\\/ OPTIMIZE [0.0, 100.0]/' -e 's/^\t\tconstexpr double COEF_DIST = .*;  \\/\\/ OPTIMIZE \\[0\\.0, 10000\\.0\\]$/\t\tconstexpr double COEF_DIST = 6932.699999414612;  \\/\\/ OPTIMIZE [0.0, 10000.0]/'\n",
      "g++ 27_answer.cpp -std=gnu++17 -O2 -DONLINE_JUDGE -o 27_answer.cpp.out\n",
      "sed -i 28_answer.cpp -e 's/^\t\tconstexpr double COEF_CENTER_L1 = .*;  \\/\\/ OPTIMIZE \\[-100\\.0, 100\\.0\\]$/\t\tconstexpr double COEF_CENTER_L1 = 2.6040238307054793;  \\/\\/ OPTIMIZE [-100.0, 100.0]/' -e 's/^\t\tconstexpr double COEF_CENTER_L1_SQ = .*;  \\/\\/ OPTIMIZE \\[0\\.0, 100\\.0\\]$/\t\tconstexpr double COEF_CENTER_L1_SQ = 2.1714055464677826;  \\/\\/ OPTIMIZE [0.0, 100.0]/' -e 's/^\t\tconstexpr double COEF_POINT = .*;  \\/\\/ OPTIMIZE \\[0\\.0, 100\\.0\\]$/\t\tconstexpr double COEF_POINT = 24.645337259385244;  \\/\\/ OPTIMIZE [0.0, 100.0]/' -e 's/^\t\tconstexpr double COEF_DIST = .*;  \\/\\/ OPTIMIZE \\[0\\.0, 10000\\.0\\]$/\t\tconstexpr double COEF_DIST = 8696.519107219927;  \\/\\/ OPTIMIZE [0.0, 10000.0]/'\n",
      "g++ 28_answer.cpp -std=gnu++17 -O2 -DONLINE_JUDGE -o 28_answer.cpp.out\n"
     ]
    },
    {
     "name": "stderr",
     "output_type": "stream",
     "text": [
      "\u001b[32m[I 2021-04-25 13:20:04,243]\u001b[0m Trial 123 finished with value: 1488321.0 and parameters: {'COEF_CENTER_L1': 10.379302419068708, 'COEF_CENTER_L1_SQ': 5.828581428659476, 'COEF_POINT': 26.099489851315088, 'COEF_DIST': 7571.14999165581}. Best is trial 107 with value: 1547025.0.\u001b[0m\n"
     ]
    },
    {
     "name": "stdout",
     "output_type": "stream",
     "text": [
      "callback ok\n",
      "index_parallel=29\n",
      "mkdir: cannot create directory ‘29_out’: File exists\n",
      "mkdir: cannot create directory ‘29_score’: File exists\n",
      "sed -i 29_answer.cpp -e 's/^\t\tconstexpr double COEF_CENTER_L1 = .*;  \\/\\/ OPTIMIZE \\[-100\\.0, 100\\.0\\]$/\t\tconstexpr double COEF_CENTER_L1 = -65.01161352647046;  \\/\\/ OPTIMIZE [-100.0, 100.0]/' -e 's/^\t\tconstexpr double COEF_CENTER_L1_SQ = .*;  \\/\\/ OPTIMIZE \\[0\\.0, 100\\.0\\]$/\t\tconstexpr double COEF_CENTER_L1_SQ = 2.4769790009864656;  \\/\\/ OPTIMIZE [0.0, 100.0]/' -e 's/^\t\tconstexpr double COEF_POINT = .*;  \\/\\/ OPTIMIZE \\[0\\.0, 100\\.0\\]$/\t\tconstexpr double COEF_POINT = 28.33450213499802;  \\/\\/ OPTIMIZE [0.0, 100.0]/' -e 's/^\t\tconstexpr double COEF_DIST = .*;  \\/\\/ OPTIMIZE \\[0\\.0, 10000\\.0\\]$/\t\tconstexpr double COEF_DIST = 8612.132017689686;  \\/\\/ OPTIMIZE [0.0, 10000.0]/'\n",
      "g++ 29_answer.cpp -std=gnu++17 -O2 -DONLINE_JUDGE -o 29_answer.cpp.out\n"
     ]
    },
    {
     "name": "stderr",
     "output_type": "stream",
     "text": [
      "\u001b[32m[I 2021-04-25 13:20:10,203]\u001b[0m Trial 124 finished with value: 1496177.0 and parameters: {'COEF_CENTER_L1': 11.67084054447013, 'COEF_CENTER_L1_SQ': 2.229706954813704, 'COEF_POINT': 26.10043368397725, 'COEF_DIST': 6867.405414430972}. Best is trial 107 with value: 1547025.0.\u001b[0m\n"
     ]
    },
    {
     "name": "stdout",
     "output_type": "stream",
     "text": [
      "callback ok\n",
      "index_parallel=30\n",
      "mkdir: cannot create directory ‘30_out’: File exists\n",
      "mkdir: cannot create directory ‘30_score’: File exists\n"
     ]
    },
    {
     "name": "stderr",
     "output_type": "stream",
     "text": [
      "\u001b[32m[I 2021-04-25 13:20:10,700]\u001b[0m Trial 125 finished with value: 1513522.0 and parameters: {'COEF_CENTER_L1': 16.871718984043948, 'COEF_CENTER_L1_SQ': 1.6849572843782261, 'COEF_POINT': 27.10055783716504, 'COEF_DIST': 8646.420052501397}. Best is trial 107 with value: 1547025.0.\u001b[0m\n",
      "\u001b[32m[I 2021-04-25 13:20:10,722]\u001b[0m Trial 126 finished with value: 1496930.0 and parameters: {'COEF_CENTER_L1': 13.317440048479948, 'COEF_CENTER_L1_SQ': 2.5373336093508416, 'COEF_POINT': 26.862692197867187, 'COEF_DIST': 6920.66415398064}. Best is trial 107 with value: 1547025.0.\u001b[0m\n"
     ]
    },
    {
     "name": "stdout",
     "output_type": "stream",
     "text": [
      "callback ok\n",
      "index_parallel=31\n",
      "mkdir: cannot create directory ‘31_out’: File exists\n",
      "callback ok\n",
      "mkdir: cannot create directory ‘31_score’: File exists\n",
      "index_parallel=32\n",
      "mkdir: cannot create directory ‘32_out’: File exists\n",
      "mkdir: cannot create directory ‘32_score’: File exists\n",
      "sed -i 30_answer.cpp -e 's/^\t\tconstexpr double COEF_CENTER_L1 = .*;  \\/\\/ OPTIMIZE \\[-100\\.0, 100\\.0\\]$/\t\tconstexpr double COEF_CENTER_L1 = 30.664131669814164;  \\/\\/ OPTIMIZE [-100.0, 100.0]/' -e 's/^\t\tconstexpr double COEF_CENTER_L1_SQ = .*;  \\/\\/ OPTIMIZE \\[0\\.0, 100\\.0\\]$/\t\tconstexpr double COEF_CENTER_L1_SQ = 2.393160384349655;  \\/\\/ OPTIMIZE [0.0, 100.0]/' -e 's/^\t\tconstexpr double COEF_POINT = .*;  \\/\\/ OPTIMIZE \\[0\\.0, 100\\.0\\]$/\t\tconstexpr double COEF_POINT = 20.54879302504657;  \\/\\/ OPTIMIZE [0.0, 100.0]/' -e 's/^\t\tconstexpr double COEF_DIST = .*;  \\/\\/ OPTIMIZE \\[0\\.0, 10000\\.0\\]$/\t\tconstexpr double COEF_DIST = 6989.378685703374;  \\/\\/ OPTIMIZE [0.0, 10000.0]/'\n"
     ]
    },
    {
     "name": "stderr",
     "output_type": "stream",
     "text": [
      "\u001b[32m[I 2021-04-25 13:20:12,948]\u001b[0m Trial 127 finished with value: 1518215.0 and parameters: {'COEF_CENTER_L1': 5.453865512998057, 'COEF_CENTER_L1_SQ': 1.9604539378898203, 'COEF_POINT': 42.85018378176026, 'COEF_DIST': 6932.699999414612}. Best is trial 107 with value: 1547025.0.\u001b[0m\n"
     ]
    },
    {
     "name": "stdout",
     "output_type": "stream",
     "text": [
      "g++ 30_answer.cpp -std=gnu++17 -O2 -DONLINE_JUDGE -o 30_answer.cpp.out\n",
      "callback ok\n"
     ]
    },
    {
     "name": "stderr",
     "output_type": "stream",
     "text": [
      "\u001b[32m[I 2021-04-25 13:20:13,095]\u001b[0m Trial 128 finished with value: 1513340.0 and parameters: {'COEF_CENTER_L1': 2.6040238307054793, 'COEF_CENTER_L1_SQ': 2.1714055464677826, 'COEF_POINT': 24.645337259385244, 'COEF_DIST': 8696.519107219927}. Best is trial 107 with value: 1547025.0.\u001b[0m\n"
     ]
    },
    {
     "name": "stdout",
     "output_type": "stream",
     "text": [
      "sed -i 31_answer.cpp -e 's/^\t\tconstexpr double COEF_CENTER_L1 = .*;  \\/\\/ OPTIMIZE \\[-100\\.0, 100\\.0\\]$/\t\tconstexpr double COEF_CENTER_L1 = 51.42394545931532;  \\/\\/ OPTIMIZE [-100.0, 100.0]/' -e 's/^\t\tconstexpr double COEF_CENTER_L1_SQ = .*;  \\/\\/ OPTIMIZE \\[0\\.0, 100\\.0\\]$/\t\tconstexpr double COEF_CENTER_L1_SQ = 2.4951246170622046;  \\/\\/ OPTIMIZE [0.0, 100.0]/' -e 's/^\t\tconstexpr double COEF_POINT = .*;  \\/\\/ OPTIMIZE \\[0\\.0, 100\\.0\\]$/\t\tconstexpr double COEF_POINT = 24.072438350121924;  \\/\\/ OPTIMIZE [0.0, 100.0]/' -e 's/^\t\tconstexpr double COEF_DIST = .*;  \\/\\/ OPTIMIZE \\[0\\.0, 10000\\.0\\]$/\t\tconstexpr double COEF_DIST = 9258.976086011335;  \\/\\/ OPTIMIZE [0.0, 10000.0]/'\n",
      "sed -i 32_answer.cpp -e 's/^\t\tconstexpr double COEF_CENTER_L1 = .*;  \\/\\/ OPTIMIZE \\[-100\\.0, 100\\.0\\]$/\t\tconstexpr double COEF_CENTER_L1 = 42.101796074182545;  \\/\\/ OPTIMIZE [-100.0, 100.0]/' -e 's/^\t\tconstexpr double COEF_CENTER_L1_SQ = .*;  \\/\\/ OPTIMIZE \\[0\\.0, 100\\.0\\]$/\t\tconstexpr double COEF_CENTER_L1_SQ = 2.2858588007994385;  \\/\\/ OPTIMIZE [0.0, 100.0]/' -e 's/^\t\tconstexpr double COEF_POINT = .*;  \\/\\/ OPTIMIZE \\[0\\.0, 100\\.0\\]$/\t\tconstexpr double COEF_POINT = 28.526720312339954;  \\/\\/ OPTIMIZE [0.0, 100.0]/' -e 's/^\t\tconstexpr double COEF_DIST = .*;  \\/\\/ OPTIMIZE \\[0\\.0, 10000\\.0\\]$/\t\tconstexpr double COEF_DIST = 9515.61157392634;  \\/\\/ OPTIMIZE [0.0, 10000.0]/'\n",
      "index_parallel=33\n",
      "mkdir: cannot create directory ‘33_out’: File exists\n",
      "callback ok\n",
      "g++ 31_answer.cpp -std=gnu++17 -O2 -DONLINE_JUDGE -o 31_answer.cpp.out\n",
      "index_parallel=34\n",
      "mkdir: cannot create directory ‘34_out’: File exists\n",
      "g++ 32_answer.cpp -std=gnu++17 -O2 -DONLINE_JUDGE -o 32_answer.cpp.out\n",
      "mkdir: cannot create directory ‘33_score’: File exists\n",
      "mkdir: cannot create directory ‘34_score’: File exists\n",
      "sed -i 33_answer.cpp -e 's/^\t\tconstexpr double COEF_CENTER_L1 = .*;  \\/\\/ OPTIMIZE \\[-100\\.0, 100\\.0\\]$/\t\tconstexpr double COEF_CENTER_L1 = 30.075484078825667;  \\/\\/ OPTIMIZE [-100.0, 100.0]/' -e 's/^\t\tconstexpr double COEF_CENTER_L1_SQ = .*;  \\/\\/ OPTIMIZE \\[0\\.0, 100\\.0\\]$/\t\tconstexpr double COEF_CENTER_L1_SQ = 7.918980838623935;  \\/\\/ OPTIMIZE [0.0, 100.0]/' -e 's/^\t\tconstexpr double COEF_POINT = .*;  \\/\\/ OPTIMIZE \\[0\\.0, 100\\.0\\]$/\t\tconstexpr double COEF_POINT = 22.37924361367147;  \\/\\/ OPTIMIZE [0.0, 100.0]/' -e 's/^\t\tconstexpr double COEF_DIST = .*;  \\/\\/ OPTIMIZE \\[0\\.0, 10000\\.0\\]$/\t\tconstexpr double COEF_DIST = 7001.44258444454;  \\/\\/ OPTIMIZE [0.0, 10000.0]/'\n",
      "sed -i 34_answer.cpp -e 's/^\t\tconstexpr double COEF_CENTER_L1 = .*;  \\/\\/ OPTIMIZE \\[-100\\.0, 100\\.0\\]$/\t\tconstexpr double COEF_CENTER_L1 = 27.195263151699915;  \\/\\/ OPTIMIZE [-100.0, 100.0]/' -e 's/^\t\tconstexpr double COEF_CENTER_L1_SQ = .*;  \\/\\/ OPTIMIZE \\[0\\.0, 100\\.0\\]$/\t\tconstexpr double COEF_CENTER_L1_SQ = 7.773475827115238;  \\/\\/ OPTIMIZE [0.0, 100.0]/' -e 's/^\t\tconstexpr double COEF_POINT = .*;  \\/\\/ OPTIMIZE \\[0\\.0, 100\\.0\\]$/\t\tconstexpr double COEF_POINT = 23.466198645098647;  \\/\\/ OPTIMIZE [0.0, 100.0]/' -e 's/^\t\tconstexpr double COEF_DIST = .*;  \\/\\/ OPTIMIZE \\[0\\.0, 10000\\.0\\]$/\t\tconstexpr double COEF_DIST = 9492.390234346278;  \\/\\/ OPTIMIZE [0.0, 10000.0]/'\n",
      "g++ 33_answer.cpp -std=gnu++17 -O2 -DONLINE_JUDGE -o 33_answer.cpp.out\n",
      "g++ 34_answer.cpp -std=gnu++17 -O2 -DONLINE_JUDGE -o 34_answer.cpp.out\n"
     ]
    },
    {
     "name": "stderr",
     "output_type": "stream",
     "text": [
      "\u001b[32m[I 2021-04-25 13:20:14,799]\u001b[0m Trial 129 finished with value: 1472227.0 and parameters: {'COEF_CENTER_L1': -65.01161352647046, 'COEF_CENTER_L1_SQ': 2.4769790009864656, 'COEF_POINT': 28.33450213499802, 'COEF_DIST': 8612.132017689686}. Best is trial 107 with value: 1547025.0.\u001b[0m\n"
     ]
    },
    {
     "name": "stdout",
     "output_type": "stream",
     "text": [
      "callback ok\n",
      "index_parallel=35\n",
      "mkdir: cannot create directory ‘35_out’: File exists\n",
      "mkdir: cannot create directory ‘35_score’: File exists\n",
      "sed -i 35_answer.cpp -e 's/^\t\tconstexpr double COEF_CENTER_L1 = .*;  \\/\\/ OPTIMIZE \\[-100\\.0, 100\\.0\\]$/\t\tconstexpr double COEF_CENTER_L1 = 26.429870046307336;  \\/\\/ OPTIMIZE [-100.0, 100.0]/' -e 's/^\t\tconstexpr double COEF_CENTER_L1_SQ = .*;  \\/\\/ OPTIMIZE \\[0\\.0, 100\\.0\\]$/\t\tconstexpr double COEF_CENTER_L1_SQ = 7.932455057316719;  \\/\\/ OPTIMIZE [0.0, 100.0]/' -e 's/^\t\tconstexpr double COEF_POINT = .*;  \\/\\/ OPTIMIZE \\[0\\.0, 100\\.0\\]$/\t\tconstexpr double COEF_POINT = 21.316780062132686;  \\/\\/ OPTIMIZE [0.0, 100.0]/' -e 's/^\t\tconstexpr double COEF_DIST = .*;  \\/\\/ OPTIMIZE \\[0\\.0, 10000\\.0\\]$/\t\tconstexpr double COEF_DIST = 8263.159648459598;  \\/\\/ OPTIMIZE [0.0, 10000.0]/'\n",
      "g++ 35_answer.cpp -std=gnu++17 -O2 -DONLINE_JUDGE -o 35_answer.cpp.out\n"
     ]
    },
    {
     "name": "stderr",
     "output_type": "stream",
     "text": [
      "\u001b[32m[I 2021-04-25 13:20:22,974]\u001b[0m Trial 130 finished with value: 1506712.0 and parameters: {'COEF_CENTER_L1': 30.664131669814164, 'COEF_CENTER_L1_SQ': 2.393160384349655, 'COEF_POINT': 20.54879302504657, 'COEF_DIST': 6989.378685703374}. Best is trial 107 with value: 1547025.0.\u001b[0m\n"
     ]
    },
    {
     "name": "stdout",
     "output_type": "stream",
     "text": [
      "callback ok\n",
      "index_parallel=36\n",
      "mkdir: cannot create directory ‘36_out’: File exists\n"
     ]
    },
    {
     "name": "stderr",
     "output_type": "stream",
     "text": [
      "\u001b[32m[I 2021-04-25 13:20:23,442]\u001b[0m Trial 132 finished with value: 1500432.0 and parameters: {'COEF_CENTER_L1': 42.101796074182545, 'COEF_CENTER_L1_SQ': 2.2858588007994385, 'COEF_POINT': 28.526720312339954, 'COEF_DIST': 9515.61157392634}. Best is trial 107 with value: 1547025.0.\u001b[0m\n",
      "\u001b[32m[I 2021-04-25 13:20:23,471]\u001b[0m Trial 131 finished with value: 1520754.0 and parameters: {'COEF_CENTER_L1': 51.42394545931532, 'COEF_CENTER_L1_SQ': 2.4951246170622046, 'COEF_POINT': 24.072438350121924, 'COEF_DIST': 9258.976086011335}. Best is trial 107 with value: 1547025.0.\u001b[0m\n"
     ]
    },
    {
     "name": "stdout",
     "output_type": "stream",
     "text": [
      "callback ok\n",
      "mkdir: cannot create directory ‘36_score’: File exists\n",
      "index_parallel=37\n",
      "mkdir: cannot create directory ‘37_out’: File exists\n",
      "callback ok\n",
      "mkdir: cannot create directory ‘37_score’: File exists\n",
      "index_parallel=38\n",
      "mkdir: cannot create directory ‘38_out’: File exists\n",
      "mkdir: cannot create directory ‘38_score’: File exists\n"
     ]
    },
    {
     "name": "stderr",
     "output_type": "stream",
     "text": [
      "\u001b[32m[I 2021-04-25 13:20:24,282]\u001b[0m Trial 133 finished with value: 1332935.0 and parameters: {'COEF_CENTER_L1': 30.075484078825667, 'COEF_CENTER_L1_SQ': 7.918980838623935, 'COEF_POINT': 22.37924361367147, 'COEF_DIST': 7001.44258444454}. Best is trial 107 with value: 1547025.0.\u001b[0m\n"
     ]
    },
    {
     "name": "stdout",
     "output_type": "stream",
     "text": [
      "callback ok\n"
     ]
    },
    {
     "name": "stderr",
     "output_type": "stream",
     "text": [
      "\u001b[32m[I 2021-04-25 13:20:24,719]\u001b[0m Trial 134 finished with value: 1420928.0 and parameters: {'COEF_CENTER_L1': 27.195263151699915, 'COEF_CENTER_L1_SQ': 7.773475827115238, 'COEF_POINT': 23.466198645098647, 'COEF_DIST': 9492.390234346278}. Best is trial 107 with value: 1547025.0.\u001b[0m\n"
     ]
    },
    {
     "name": "stdout",
     "output_type": "stream",
     "text": [
      "index_parallel=39\n",
      "callback ok\n",
      "mkdir: cannot create directory ‘39_out’: File exists\n",
      "mkdir: cannot create directory ‘39_score’: File exists\n",
      "sed -i 36_answer.cpp -e 's/^\t\tconstexpr double COEF_CENTER_L1 = .*;  \\/\\/ OPTIMIZE \\[-100\\.0, 100\\.0\\]$/\t\tconstexpr double COEF_CENTER_L1 = 25.01385410574239;  \\/\\/ OPTIMIZE [-100.0, 100.0]/' -e 's/^\t\tconstexpr double COEF_CENTER_L1_SQ = .*;  \\/\\/ OPTIMIZE \\[0\\.0, 100\\.0\\]$/\t\tconstexpr double COEF_CENTER_L1_SQ = 0.15049091610253917;  \\/\\/ OPTIMIZE [0.0, 100.0]/' -e 's/^\t\tconstexpr double COEF_POINT = .*;  \\/\\/ OPTIMIZE \\[0\\.0, 100\\.0\\]$/\t\tconstexpr double COEF_POINT = 20.09107993143886;  \\/\\/ OPTIMIZE [0.0, 100.0]/' -e 's/^\t\tconstexpr double COEF_DIST = .*;  \\/\\/ OPTIMIZE \\[0\\.0, 10000\\.0\\]$/\t\tconstexpr double COEF_DIST = 8181.684091448105;  \\/\\/ OPTIMIZE [0.0, 10000.0]/'\n",
      "index_parallel=40\n",
      "mkdir: cannot create directory ‘40_out’: File exists\n",
      "g++ 36_answer.cpp -std=gnu++17 -O2 -DONLINE_JUDGE -o 36_answer.cpp.out\n",
      "sed -i 37_answer.cpp -e 's/^\t\tconstexpr double COEF_CENTER_L1 = .*;  \\/\\/ OPTIMIZE \\[-100\\.0, 100\\.0\\]$/\t\tconstexpr double COEF_CENTER_L1 = 5.242540608511135;  \\/\\/ OPTIMIZE [-100.0, 100.0]/' -e 's/^\t\tconstexpr double COEF_CENTER_L1_SQ = .*;  \\/\\/ OPTIMIZE \\[0\\.0, 100\\.0\\]$/\t\tconstexpr double COEF_CENTER_L1_SQ = 0.4871103188421049;  \\/\\/ OPTIMIZE [0.0, 100.0]/' -e 's/^\t\tconstexpr double COEF_POINT = .*;  \\/\\/ OPTIMIZE \\[0\\.0, 100\\.0\\]$/\t\tconstexpr double COEF_POINT = 19.07010589529879;  \\/\\/ OPTIMIZE [0.0, 100.0]/' -e 's/^\t\tconstexpr double COEF_DIST = .*;  \\/\\/ OPTIMIZE \\[0\\.0, 10000\\.0\\]$/\t\tconstexpr double COEF_DIST = 9234.002832642382;  \\/\\/ OPTIMIZE [0.0, 10000.0]/'\n",
      "mkdir: cannot create directory ‘40_score’: File exists\n",
      "g++ 37_answer.cpp -std=gnu++17 -O2 -DONLINE_JUDGE -o 37_answer.cpp.out\n",
      "sed -i 38_answer.cpp -e 's/^\t\tconstexpr double COEF_CENTER_L1 = .*;  \\/\\/ OPTIMIZE \\[-100\\.0, 100\\.0\\]$/\t\tconstexpr double COEF_CENTER_L1 = 58.20622684880139;  \\/\\/ OPTIMIZE [-100.0, 100.0]/' -e 's/^\t\tconstexpr double COEF_CENTER_L1_SQ = .*;  \\/\\/ OPTIMIZE \\[0\\.0, 100\\.0\\]$/\t\tconstexpr double COEF_CENTER_L1_SQ = 0.05262889664196324;  \\/\\/ OPTIMIZE [0.0, 100.0]/' -e 's/^\t\tconstexpr double COEF_POINT = .*;  \\/\\/ OPTIMIZE \\[0\\.0, 100\\.0\\]$/\t\tconstexpr double COEF_POINT = 13.009641245032764;  \\/\\/ OPTIMIZE [0.0, 100.0]/' -e 's/^\t\tconstexpr double COEF_DIST = .*;  \\/\\/ OPTIMIZE \\[0\\.0, 10000\\.0\\]$/\t\tconstexpr double COEF_DIST = 8278.439248768671;  \\/\\/ OPTIMIZE [0.0, 10000.0]/'\n",
      "g++ 38_answer.cpp -std=gnu++17 -O2 -DONLINE_JUDGE -o 38_answer.cpp.out\n"
     ]
    },
    {
     "name": "stderr",
     "output_type": "stream",
     "text": [
      "\u001b[32m[I 2021-04-25 13:20:25,639]\u001b[0m Trial 135 finished with value: 1374606.0 and parameters: {'COEF_CENTER_L1': 26.429870046307336, 'COEF_CENTER_L1_SQ': 7.932455057316719, 'COEF_POINT': 21.316780062132686, 'COEF_DIST': 8263.159648459598}. Best is trial 107 with value: 1547025.0.\u001b[0m\n"
     ]
    },
    {
     "name": "stdout",
     "output_type": "stream",
     "text": [
      "callback ok\n",
      "index_parallel=41\n",
      "mkdir: cannot create directory ‘41_out’: File exists\n",
      "mkdir: cannot create directory ‘41_score’: File exists\n",
      "sed -i 39_answer.cpp -e 's/^\t\tconstexpr double COEF_CENTER_L1 = .*;  \\/\\/ OPTIMIZE \\[-100\\.0, 100\\.0\\]$/\t\tconstexpr double COEF_CENTER_L1 = 2.792469688220214;  \\/\\/ OPTIMIZE [-100.0, 100.0]/' -e 's/^\t\tconstexpr double COEF_CENTER_L1_SQ = .*;  \\/\\/ OPTIMIZE \\[0\\.0, 100\\.0\\]$/\t\tconstexpr double COEF_CENTER_L1_SQ = 54.99733307895362;  \\/\\/ OPTIMIZE [0.0, 100.0]/' -e 's/^\t\tconstexpr double COEF_POINT = .*;  \\/\\/ OPTIMIZE \\[0\\.0, 100\\.0\\]$/\t\tconstexpr double COEF_POINT = 19.586569815134133;  \\/\\/ OPTIMIZE [0.0, 100.0]/' -e 's/^\t\tconstexpr double COEF_DIST = .*;  \\/\\/ OPTIMIZE \\[0\\.0, 10000\\.0\\]$/\t\tconstexpr double COEF_DIST = 9138.71185725415;  \\/\\/ OPTIMIZE [0.0, 10000.0]/'\n",
      "g++ 39_answer.cpp -std=gnu++17 -O2 -DONLINE_JUDGE -o 39_answer.cpp.out\n",
      "sed -i 40_answer.cpp -e 's/^\t\tconstexpr double COEF_CENTER_L1 = .*;  \\/\\/ OPTIMIZE \\[-100\\.0, 100\\.0\\]$/\t\tconstexpr double COEF_CENTER_L1 = 67.20360774825555;  \\/\\/ OPTIMIZE [-100.0, 100.0]/' -e 's/^\t\tconstexpr double COEF_CENTER_L1_SQ = .*;  \\/\\/ OPTIMIZE \\[0\\.0, 100\\.0\\]$/\t\tconstexpr double COEF_CENTER_L1_SQ = 51.320268789015834;  \\/\\/ OPTIMIZE [0.0, 100.0]/' -e 's/^\t\tconstexpr double COEF_POINT = .*;  \\/\\/ OPTIMIZE \\[0\\.0, 100\\.0\\]$/\t\tconstexpr double COEF_POINT = 32.81172771540359;  \\/\\/ OPTIMIZE [0.0, 100.0]/' -e 's/^\t\tconstexpr double COEF_DIST = .*;  \\/\\/ OPTIMIZE \\[0\\.0, 10000\\.0\\]$/\t\tconstexpr double COEF_DIST = 9044.54569593361;  \\/\\/ OPTIMIZE [0.0, 10000.0]/'\n",
      "g++ 40_answer.cpp -std=gnu++17 -O2 -DONLINE_JUDGE -o 40_answer.cpp.out\n",
      "sed -i 41_answer.cpp -e 's/^\t\tconstexpr double COEF_CENTER_L1 = .*;  \\/\\/ OPTIMIZE \\[-100\\.0, 100\\.0\\]$/\t\tconstexpr double COEF_CENTER_L1 = 70.55049224657822;  \\/\\/ OPTIMIZE [-100.0, 100.0]/' -e 's/^\t\tconstexpr double COEF_CENTER_L1_SQ = .*;  \\/\\/ OPTIMIZE \\[0\\.0, 100\\.0\\]$/\t\tconstexpr double COEF_CENTER_L1_SQ = 0.3272537054533;  \\/\\/ OPTIMIZE [0.0, 100.0]/' -e 's/^\t\tconstexpr double COEF_POINT = .*;  \\/\\/ OPTIMIZE \\[0\\.0, 100\\.0\\]$/\t\tconstexpr double COEF_POINT = 20.22749041555166;  \\/\\/ OPTIMIZE [0.0, 100.0]/' -e 's/^\t\tconstexpr double COEF_DIST = .*;  \\/\\/ OPTIMIZE \\[0\\.0, 10000\\.0\\]$/\t\tconstexpr double COEF_DIST = 9162.858313470204;  \\/\\/ OPTIMIZE [0.0, 10000.0]/'\n",
      "g++ 41_answer.cpp -std=gnu++17 -O2 -DONLINE_JUDGE -o 41_answer.cpp.out\n"
     ]
    },
    {
     "name": "stderr",
     "output_type": "stream",
     "text": [
      "\u001b[32m[I 2021-04-25 13:20:34,675]\u001b[0m Trial 136 finished with value: 1500689.0 and parameters: {'COEF_CENTER_L1': 25.01385410574239, 'COEF_CENTER_L1_SQ': 0.15049091610253917, 'COEF_POINT': 20.09107993143886, 'COEF_DIST': 8181.684091448105}. Best is trial 107 with value: 1547025.0.\u001b[0m\n"
     ]
    },
    {
     "name": "stdout",
     "output_type": "stream",
     "text": [
      "callback ok\n",
      "index_parallel=42\n",
      "mkdir: cannot create directory ‘42_out’: File exists\n",
      "mkdir: cannot create directory ‘42_score’: File exists\n"
     ]
    },
    {
     "name": "stderr",
     "output_type": "stream",
     "text": [
      "\u001b[32m[I 2021-04-25 13:20:35,092]\u001b[0m Trial 137 finished with value: 1514674.0 and parameters: {'COEF_CENTER_L1': 5.242540608511135, 'COEF_CENTER_L1_SQ': 0.4871103188421049, 'COEF_POINT': 19.07010589529879, 'COEF_DIST': 9234.002832642382}. Best is trial 107 with value: 1547025.0.\u001b[0m\n"
     ]
    },
    {
     "name": "stdout",
     "output_type": "stream",
     "text": [
      "callback ok\n",
      "index_parallel=43\n",
      "mkdir: cannot create directory ‘43_out’: File exists\n",
      "mkdir: cannot create directory ‘43_score’: File exists\n"
     ]
    },
    {
     "name": "stderr",
     "output_type": "stream",
     "text": [
      "\u001b[32m[I 2021-04-25 13:20:35,933]\u001b[0m Trial 138 finished with value: 1535944.0 and parameters: {'COEF_CENTER_L1': 58.20622684880139, 'COEF_CENTER_L1_SQ': 0.05262889664196324, 'COEF_POINT': 13.009641245032764, 'COEF_DIST': 8278.439248768671}. Best is trial 107 with value: 1547025.0.\u001b[0m\n"
     ]
    },
    {
     "name": "stdout",
     "output_type": "stream",
     "text": [
      "callback ok\n",
      "index_parallel=44\n",
      "mkdir: cannot create directory ‘44_out’: File exists\n"
     ]
    },
    {
     "name": "stderr",
     "output_type": "stream",
     "text": [
      "\u001b[32m[I 2021-04-25 13:20:36,325]\u001b[0m Trial 139 finished with value: 778184.0 and parameters: {'COEF_CENTER_L1': 2.792469688220214, 'COEF_CENTER_L1_SQ': 54.99733307895362, 'COEF_POINT': 19.586569815134133, 'COEF_DIST': 9138.71185725415}. Best is trial 107 with value: 1547025.0.\u001b[0m\n",
      "\u001b[32m[I 2021-04-25 13:20:36,379]\u001b[0m Trial 140 finished with value: 752330.0 and parameters: {'COEF_CENTER_L1': 67.20360774825555, 'COEF_CENTER_L1_SQ': 51.320268789015834, 'COEF_POINT': 32.81172771540359, 'COEF_DIST': 9044.54569593361}. Best is trial 107 with value: 1547025.0.\u001b[0m\n"
     ]
    },
    {
     "name": "stdout",
     "output_type": "stream",
     "text": [
      "callback ok\n",
      "sed -i 42_answer.cpp -e 's/^\t\tconstexpr double COEF_CENTER_L1 = .*;  \\/\\/ OPTIMIZE \\[-100\\.0, 100\\.0\\]$/\t\tconstexpr double COEF_CENTER_L1 = 3.5260181914979363;  \\/\\/ OPTIMIZE [-100.0, 100.0]/' -e 's/^\t\tconstexpr double COEF_CENTER_L1_SQ = .*;  \\/\\/ OPTIMIZE \\[0\\.0, 100\\.0\\]$/\t\tconstexpr double COEF_CENTER_L1_SQ = 0.15844097269535434;  \\/\\/ OPTIMIZE [0.0, 100.0]/' -e 's/^\t\tconstexpr double COEF_POINT = .*;  \\/\\/ OPTIMIZE \\[0\\.0, 100\\.0\\]$/\t\tconstexpr double COEF_POINT = 12.04746381687299;  \\/\\/ OPTIMIZE [0.0, 100.0]/' -e 's/^\t\tconstexpr double COEF_DIST = .*;  \\/\\/ OPTIMIZE \\[0\\.0, 10000\\.0\\]$/\t\tconstexpr double COEF_DIST = 8471.511595733406;  \\/\\/ OPTIMIZE [0.0, 10000.0]/'\n",
      "mkdir: cannot create directory ‘44_score’: File exists\n",
      "g++ 42_answer.cpp -std=gnu++17 -O2 -DONLINE_JUDGE -o 42_answer.cpp.out\n",
      "index_parallel=45\n",
      "mkdir: cannot create directory ‘45_out’: File exists\n",
      "callback ok\n"
     ]
    },
    {
     "name": "stderr",
     "output_type": "stream",
     "text": [
      "\u001b[32m[I 2021-04-25 13:20:38,574]\u001b[0m Trial 141 finished with value: 1499284.0 and parameters: {'COEF_CENTER_L1': 70.55049224657822, 'COEF_CENTER_L1_SQ': 0.3272537054533, 'COEF_POINT': 20.22749041555166, 'COEF_DIST': 9162.858313470204}. Best is trial 107 with value: 1547025.0.\u001b[0m\n"
     ]
    },
    {
     "name": "stdout",
     "output_type": "stream",
     "text": [
      "index_parallel=46\n",
      "mkdir: cannot create directory ‘45_score’: File exists\n",
      "mkdir: cannot create directory ‘46_out’: File exists\n",
      "callback ok\n",
      "index_parallel=47\n",
      "mkdir: cannot create directory ‘47_out’: File exists\n",
      "mkdir: cannot create directory ‘46_score’: File exists\n",
      "sed -i 43_answer.cpp -e 's/^\t\tconstexpr double COEF_CENTER_L1 = .*;  \\/\\/ OPTIMIZE \\[-100\\.0, 100\\.0\\]$/\t\tconstexpr double COEF_CENTER_L1 = 71.57514140665852;  \\/\\/ OPTIMIZE [-100.0, 100.0]/' -e 's/^\t\tconstexpr double COEF_CENTER_L1_SQ = .*;  \\/\\/ OPTIMIZE \\[0\\.0, 100\\.0\\]$/\t\tconstexpr double COEF_CENTER_L1_SQ = 6.4416895273456145;  \\/\\/ OPTIMIZE [0.0, 100.0]/' -e 's/^\t\tconstexpr double COEF_POINT = .*;  \\/\\/ OPTIMIZE \\[0\\.0, 100\\.0\\]$/\t\tconstexpr double COEF_POINT = 14.617668734326628;  \\/\\/ OPTIMIZE [0.0, 100.0]/' -e 's/^\t\tconstexpr double COEF_DIST = .*;  \\/\\/ OPTIMIZE \\[0\\.0, 10000\\.0\\]$/\t\tconstexpr double COEF_DIST = 8866.735509143831;  \\/\\/ OPTIMIZE [0.0, 10000.0]/'\n",
      "mkdir: cannot create directory ‘47_score’: File exists\n",
      "sed -i 44_answer.cpp -e 's/^\t\tconstexpr double COEF_CENTER_L1 = .*;  \\/\\/ OPTIMIZE \\[-100\\.0, 100\\.0\\]$/\t\tconstexpr double COEF_CENTER_L1 = -7.113260275864269;  \\/\\/ OPTIMIZE [-100.0, 100.0]/' -e 's/^\t\tconstexpr double COEF_CENTER_L1_SQ = .*;  \\/\\/ OPTIMIZE \\[0\\.0, 100\\.0\\]$/\t\tconstexpr double COEF_CENTER_L1_SQ = 6.208548943031346;  \\/\\/ OPTIMIZE [0.0, 100.0]/' -e 's/^\t\tconstexpr double COEF_POINT = .*;  \\/\\/ OPTIMIZE \\[0\\.0, 100\\.0\\]$/\t\tconstexpr double COEF_POINT = 12.250360211036678;  \\/\\/ OPTIMIZE [0.0, 100.0]/' -e 's/^\t\tconstexpr double COEF_DIST = .*;  \\/\\/ OPTIMIZE \\[0\\.0, 10000\\.0\\]$/\t\tconstexpr double COEF_DIST = 8444.907259554724;  \\/\\/ OPTIMIZE [0.0, 10000.0]/'\n",
      "g++ 43_answer.cpp -std=gnu++17 -O2 -DONLINE_JUDGE -o 43_answer.cpp.out\n",
      "g++ 44_answer.cpp -std=gnu++17 -O2 -DONLINE_JUDGE -o 44_answer.cpp.out\n",
      "sed -i 45_answer.cpp -e 's/^\t\tconstexpr double COEF_CENTER_L1 = .*;  \\/\\/ OPTIMIZE \\[-100\\.0, 100\\.0\\]$/\t\tconstexpr double COEF_CENTER_L1 = -4.256763029930177;  \\/\\/ OPTIMIZE [-100.0, 100.0]/' -e 's/^\t\tconstexpr double COEF_CENTER_L1_SQ = .*;  \\/\\/ OPTIMIZE \\[0\\.0, 100\\.0\\]$/\t\tconstexpr double COEF_CENTER_L1_SQ = 0.0635859708877069;  \\/\\/ OPTIMIZE [0.0, 100.0]/' -e 's/^\t\tconstexpr double COEF_POINT = .*;  \\/\\/ OPTIMIZE \\[0\\.0, 100\\.0\\]$/\t\tconstexpr double COEF_POINT = 10.492635216456973;  \\/\\/ OPTIMIZE [0.0, 100.0]/' -e 's/^\t\tconstexpr double COEF_DIST = .*;  \\/\\/ OPTIMIZE \\[0\\.0, 10000\\.0\\]$/\t\tconstexpr double COEF_DIST = 8489.746020156017;  \\/\\/ OPTIMIZE [0.0, 10000.0]/'\n",
      "g++ 45_answer.cpp -std=gnu++17 -O2 -DONLINE_JUDGE -o 45_answer.cpp.out\n",
      "sed -i 46_answer.cpp -e 's/^\t\tconstexpr double COEF_CENTER_L1 = .*;  \\/\\/ OPTIMIZE \\[-100\\.0, 100\\.0\\]$/\t\tconstexpr double COEF_CENTER_L1 = -3.9406324349789354;  \\/\\/ OPTIMIZE [-100.0, 100.0]/' -e 's/^\t\tconstexpr double COEF_CENTER_L1_SQ = .*;  \\/\\/ OPTIMIZE \\[0\\.0, 100\\.0\\]$/\t\tconstexpr double COEF_CENTER_L1_SQ = 6.644614577880753;  \\/\\/ OPTIMIZE [0.0, 100.0]/' -e 's/^\t\tconstexpr double COEF_POINT = .*;  \\/\\/ OPTIMIZE \\[0\\.0, 100\\.0\\]$/\t\tconstexpr double COEF_POINT = 16.906378463745906;  \\/\\/ OPTIMIZE [0.0, 100.0]/' -e 's/^\t\tconstexpr double COEF_DIST = .*;  \\/\\/ OPTIMIZE \\[0\\.0, 10000\\.0\\]$/\t\tconstexpr double COEF_DIST = 8416.445379531375;  \\/\\/ OPTIMIZE [0.0, 10000.0]/'\n",
      "sed -i 47_answer.cpp -e 's/^\t\tconstexpr double COEF_CENTER_L1 = .*;  \\/\\/ OPTIMIZE \\[-100\\.0, 100\\.0\\]$/\t\tconstexpr double COEF_CENTER_L1 = -8.898112785789557;  \\/\\/ OPTIMIZE [-100.0, 100.0]/' -e 's/^\t\tconstexpr double COEF_CENTER_L1_SQ = .*;  \\/\\/ OPTIMIZE \\[0\\.0, 100\\.0\\]$/\t\tconstexpr double COEF_CENTER_L1_SQ = 6.24445242142632;  \\/\\/ OPTIMIZE [0.0, 100.0]/' -e 's/^\t\tconstexpr double COEF_POINT = .*;  \\/\\/ OPTIMIZE \\[0\\.0, 100\\.0\\]$/\t\tconstexpr double COEF_POINT = 10.051389510421256;  \\/\\/ OPTIMIZE [0.0, 100.0]/' -e 's/^\t\tconstexpr double COEF_DIST = .*;  \\/\\/ OPTIMIZE \\[0\\.0, 10000\\.0\\]$/\t\tconstexpr double COEF_DIST = 8444.506164455743;  \\/\\/ OPTIMIZE [0.0, 10000.0]/'\n",
      "g++ 46_answer.cpp -std=gnu++17 -O2 -DONLINE_JUDGE -o 46_answer.cpp.out\n",
      "g++ 47_answer.cpp -std=gnu++17 -O2 -DONLINE_JUDGE -o 47_answer.cpp.out\n"
     ]
    },
    {
     "name": "stderr",
     "output_type": "stream",
     "text": [
      "\u001b[32m[I 2021-04-25 13:20:45,756]\u001b[0m Trial 142 finished with value: 1556780.0 and parameters: {'COEF_CENTER_L1': 3.5260181914979363, 'COEF_CENTER_L1_SQ': 0.15844097269535434, 'COEF_POINT': 12.04746381687299, 'COEF_DIST': 8471.511595733406}. Best is trial 142 with value: 1556780.0.\u001b[0m\n"
     ]
    },
    {
     "name": "stdout",
     "output_type": "stream",
     "text": [
      "Updated! 1556780.0 -> 1556780.0\n",
      "callback ok\n",
      "index_parallel=48\n",
      "mkdir: cannot create directory ‘48_out’: File exists\n",
      "mkdir: cannot create directory ‘48_score’: File exists\n",
      "sed -i 48_answer.cpp -e 's/^\t\tconstexpr double COEF_CENTER_L1 = .*;  \\/\\/ OPTIMIZE \\[-100\\.0, 100\\.0\\]$/\t\tconstexpr double COEF_CENTER_L1 = -8.650574769048514;  \\/\\/ OPTIMIZE [-100.0, 100.0]/' -e 's/^\t\tconstexpr double COEF_CENTER_L1_SQ = .*;  \\/\\/ OPTIMIZE \\[0\\.0, 100\\.0\\]$/\t\tconstexpr double COEF_CENTER_L1_SQ = 79.94057616016178;  \\/\\/ OPTIMIZE [0.0, 100.0]/' -e 's/^\t\tconstexpr double COEF_POINT = .*;  \\/\\/ OPTIMIZE \\[0\\.0, 100\\.0\\]$/\t\tconstexpr double COEF_POINT = 11.097034382238643;  \\/\\/ OPTIMIZE [0.0, 100.0]/' -e 's/^\t\tconstexpr double COEF_DIST = .*;  \\/\\/ OPTIMIZE \\[0\\.0, 10000\\.0\\]$/\t\tconstexpr double COEF_DIST = 8515.45300803298;  \\/\\/ OPTIMIZE [0.0, 10000.0]/'\n",
      "g++ 48_answer.cpp -std=gnu++17 -O2 -DONLINE_JUDGE -o 48_answer.cpp.out\n"
     ]
    },
    {
     "name": "stderr",
     "output_type": "stream",
     "text": [
      "\u001b[32m[I 2021-04-25 13:20:49,122]\u001b[0m Trial 144 finished with value: 1405425.0 and parameters: {'COEF_CENTER_L1': -7.113260275864269, 'COEF_CENTER_L1_SQ': 6.208548943031346, 'COEF_POINT': 12.250360211036678, 'COEF_DIST': 8444.907259554724}. Best is trial 142 with value: 1556780.0.\u001b[0m\n",
      "\u001b[32m[I 2021-04-25 13:20:49,149]\u001b[0m Trial 143 finished with value: 1385434.0 and parameters: {'COEF_CENTER_L1': 71.57514140665852, 'COEF_CENTER_L1_SQ': 6.4416895273456145, 'COEF_POINT': 14.617668734326628, 'COEF_DIST': 8866.735509143831}. Best is trial 142 with value: 1556780.0.\u001b[0m\n"
     ]
    },
    {
     "name": "stdout",
     "output_type": "stream",
     "text": [
      "callback ok\n",
      "index_parallel=49\n",
      "mkdir: cannot create directory ‘49_out’: File exists\n",
      "callback ok\n",
      "mkdir: cannot create directory ‘49_score’: File exists\n",
      "index_parallel=50\n",
      "mkdir: cannot create directory ‘50_out’: File exists\n"
     ]
    },
    {
     "name": "stderr",
     "output_type": "stream",
     "text": [
      "\u001b[32m[I 2021-04-25 13:20:50,500]\u001b[0m Trial 145 finished with value: 1434927.0 and parameters: {'COEF_CENTER_L1': -4.256763029930177, 'COEF_CENTER_L1_SQ': 0.0635859708877069, 'COEF_POINT': 10.492635216456973, 'COEF_DIST': 8489.746020156017}. Best is trial 142 with value: 1556780.0.\u001b[0m\n"
     ]
    },
    {
     "name": "stdout",
     "output_type": "stream",
     "text": [
      "mkdir: cannot create directory ‘50_score’: File exists\n",
      "callback ok\n",
      "index_parallel=51\n",
      "mkdir: cannot create directory ‘51_out’: File exists\n",
      "mkdir: cannot create directory ‘51_score’: File exists\n"
     ]
    },
    {
     "name": "stderr",
     "output_type": "stream",
     "text": [
      "\u001b[32m[I 2021-04-25 13:20:51,075]\u001b[0m Trial 146 finished with value: 1452078.0 and parameters: {'COEF_CENTER_L1': -3.9406324349789354, 'COEF_CENTER_L1_SQ': 6.644614577880753, 'COEF_POINT': 16.906378463745906, 'COEF_DIST': 8416.445379531375}. Best is trial 142 with value: 1556780.0.\u001b[0m\n"
     ]
    },
    {
     "name": "stdout",
     "output_type": "stream",
     "text": [
      "callback ok\n",
      "sed -i 49_answer.cpp -e 's/^\t\tconstexpr double COEF_CENTER_L1 = .*;  \\/\\/ OPTIMIZE \\[-100\\.0, 100\\.0\\]$/\t\tconstexpr double COEF_CENTER_L1 = 5.108721564461579;  \\/\\/ OPTIMIZE [-100.0, 100.0]/' -e 's/^\t\tconstexpr double COEF_CENTER_L1_SQ = .*;  \\/\\/ OPTIMIZE \\[0\\.0, 100\\.0\\]$/\t\tconstexpr double COEF_CENTER_L1_SQ = 0.011823725559209297;  \\/\\/ OPTIMIZE [0.0, 100.0]/' -e 's/^\t\tconstexpr double COEF_POINT = .*;  \\/\\/ OPTIMIZE \\[0\\.0, 100\\.0\\]$/\t\tconstexpr double COEF_POINT = 6.420465954949762;  \\/\\/ OPTIMIZE [0.0, 100.0]/' -e 's/^\t\tconstexpr double COEF_DIST = .*;  \\/\\/ OPTIMIZE \\[0\\.0, 10000\\.0\\]$/\t\tconstexpr double COEF_DIST = 8925.6886230445;  \\/\\/ OPTIMIZE [0.0, 10000.0]/'\n",
      "g++ 49_answer.cpp -std=gnu++17 -O2 -DONLINE_JUDGE -o 49_answer.cpp.out\n",
      "index_parallel=52\n",
      "mkdir: cannot create directory ‘52_out’: File exists\n"
     ]
    },
    {
     "name": "stderr",
     "output_type": "stream",
     "text": [
      "\u001b[32m[I 2021-04-25 13:20:51,927]\u001b[0m Trial 147 finished with value: 1405264.0 and parameters: {'COEF_CENTER_L1': -8.898112785789557, 'COEF_CENTER_L1_SQ': 6.24445242142632, 'COEF_POINT': 10.051389510421256, 'COEF_DIST': 8444.506164455743}. Best is trial 142 with value: 1556780.0.\u001b[0m\n"
     ]
    },
    {
     "name": "stdout",
     "output_type": "stream",
     "text": [
      "mkdir: cannot create directory ‘52_score’: File exists\n",
      "callback ok\n",
      "sed -i 50_answer.cpp -e 's/^\t\tconstexpr double COEF_CENTER_L1 = .*;  \\/\\/ OPTIMIZE \\[-100\\.0, 100\\.0\\]$/\t\tconstexpr double COEF_CENTER_L1 = 58.09341874974362;  \\/\\/ OPTIMIZE [-100.0, 100.0]/' -e 's/^\t\tconstexpr double COEF_CENTER_L1_SQ = .*;  \\/\\/ OPTIMIZE \\[0\\.0, 100\\.0\\]$/\t\tconstexpr double COEF_CENTER_L1_SQ = 93.61777160359355;  \\/\\/ OPTIMIZE [0.0, 100.0]/' -e 's/^\t\tconstexpr double COEF_POINT = .*;  \\/\\/ OPTIMIZE \\[0\\.0, 100\\.0\\]$/\t\tconstexpr double COEF_POINT = 15.631880873185644;  \\/\\/ OPTIMIZE [0.0, 100.0]/' -e 's/^\t\tconstexpr double COEF_DIST = .*;  \\/\\/ OPTIMIZE \\[0\\.0, 10000\\.0\\]$/\t\tconstexpr double COEF_DIST = 7760.48119652021;  \\/\\/ OPTIMIZE [0.0, 10000.0]/'\n",
      "index_parallel=53\n",
      "g++ 50_answer.cpp -std=gnu++17 -O2 -DONLINE_JUDGE -o 50_answer.cpp.outmkdir: cannot create directory ‘53_out’: File exists\n",
      "\n",
      "mkdir: cannot create directory ‘53_score’: File exists\n",
      "sed -i 51_answer.cpp -e 's/^\t\tconstexpr double COEF_CENTER_L1 = .*;  \\/\\/ OPTIMIZE \\[-100\\.0, 100\\.0\\]$/\t\tconstexpr double COEF_CENTER_L1 = 5.786083579771875;  \\/\\/ OPTIMIZE [-100.0, 100.0]/' -e 's/^\t\tconstexpr double COEF_CENTER_L1_SQ = .*;  \\/\\/ OPTIMIZE \\[0\\.0, 100\\.0\\]$/\t\tconstexpr double COEF_CENTER_L1_SQ = 0.3684303145176875;  \\/\\/ OPTIMIZE [0.0, 100.0]/' -e 's/^\t\tconstexpr double COEF_POINT = .*;  \\/\\/ OPTIMIZE \\[0\\.0, 100\\.0\\]$/\t\tconstexpr double COEF_POINT = 6.030219478932487;  \\/\\/ OPTIMIZE [0.0, 100.0]/' -e 's/^\t\tconstexpr double COEF_DIST = .*;  \\/\\/ OPTIMIZE \\[0\\.0, 10000\\.0\\]$/\t\tconstexpr double COEF_DIST = 7843.959252060031;  \\/\\/ OPTIMIZE [0.0, 10000.0]/'\n",
      "g++ 51_answer.cpp -std=gnu++17 -O2 -DONLINE_JUDGE -o 51_answer.cpp.out\n",
      "sed -i 52_answer.cpp -e 's/^\t\tconstexpr double COEF_CENTER_L1 = .*;  \\/\\/ OPTIMIZE \\[-100\\.0, 100\\.0\\]$/\t\tconstexpr double COEF_CENTER_L1 = 5.811804113430966;  \\/\\/ OPTIMIZE [-100.0, 100.0]/' -e 's/^\t\tconstexpr double COEF_CENTER_L1_SQ = .*;  \\/\\/ OPTIMIZE \\[0\\.0, 100\\.0\\]$/\t\tconstexpr double COEF_CENTER_L1_SQ = 88.21252211010263;  \\/\\/ OPTIMIZE [0.0, 100.0]/' -e 's/^\t\tconstexpr double COEF_POINT = .*;  \\/\\/ OPTIMIZE \\[0\\.0, 100\\.0\\]$/\t\tconstexpr double COEF_POINT = 5.025105815456776;  \\/\\/ OPTIMIZE [0.0, 100.0]/' -e 's/^\t\tconstexpr double COEF_DIST = .*;  \\/\\/ OPTIMIZE \\[0\\.0, 10000\\.0\\]$/\t\tconstexpr double COEF_DIST = 7695.652702094175;  \\/\\/ OPTIMIZE [0.0, 10000.0]/'\n",
      "g++ 52_answer.cpp -std=gnu++17 -O2 -DONLINE_JUDGE -o 52_answer.cpp.out\n",
      "sed -i 53_answer.cpp -e 's/^\t\tconstexpr double COEF_CENTER_L1 = .*;  \\/\\/ OPTIMIZE \\[-100\\.0, 100\\.0\\]$/\t\tconstexpr double COEF_CENTER_L1 = 6.9920250906348835;  \\/\\/ OPTIMIZE [-100.0, 100.0]/' -e 's/^\t\tconstexpr double COEF_CENTER_L1_SQ = .*;  \\/\\/ OPTIMIZE \\[0\\.0, 100\\.0\\]$/\t\tconstexpr double COEF_CENTER_L1_SQ = 96.14026109679904;  \\/\\/ OPTIMIZE [0.0, 100.0]/' -e 's/^\t\tconstexpr double COEF_POINT = .*;  \\/\\/ OPTIMIZE \\[0\\.0, 100\\.0\\]$/\t\tconstexpr double COEF_POINT = 25.198747666958834;  \\/\\/ OPTIMIZE [0.0, 100.0]/' -e 's/^\t\tconstexpr double COEF_DIST = .*;  \\/\\/ OPTIMIZE \\[0\\.0, 10000\\.0\\]$/\t\tconstexpr double COEF_DIST = 7850.295521156516;  \\/\\/ OPTIMIZE [0.0, 10000.0]/'\n",
      "g++ 53_answer.cpp -std=gnu++17 -O2 -DONLINE_JUDGE -o 53_answer.cpp.out\n"
     ]
    },
    {
     "name": "stderr",
     "output_type": "stream",
     "text": [
      "\u001b[32m[I 2021-04-25 13:20:55,066]\u001b[0m Trial 148 finished with value: 814327.0 and parameters: {'COEF_CENTER_L1': -8.650574769048514, 'COEF_CENTER_L1_SQ': 79.94057616016178, 'COEF_POINT': 11.097034382238643, 'COEF_DIST': 8515.45300803298}. Best is trial 142 with value: 1556780.0.\u001b[0m\n"
     ]
    },
    {
     "name": "stdout",
     "output_type": "stream",
     "text": [
      "callback ok\n",
      "index_parallel=54\n",
      "mkdir: cannot create directory ‘54_out’: File exists\n",
      "mkdir: cannot create directory ‘54_score’: File exists\n",
      "sed -i 54_answer.cpp -e 's/^\t\tconstexpr double COEF_CENTER_L1 = .*;  \\/\\/ OPTIMIZE \\[-100\\.0, 100\\.0\\]$/\t\tconstexpr double COEF_CENTER_L1 = 59.535734633707754;  \\/\\/ OPTIMIZE [-100.0, 100.0]/' -e 's/^\t\tconstexpr double COEF_CENTER_L1_SQ = .*;  \\/\\/ OPTIMIZE \\[0\\.0, 100\\.0\\]$/\t\tconstexpr double COEF_CENTER_L1_SQ = 1.4532345530005806;  \\/\\/ OPTIMIZE [0.0, 100.0]/' -e 's/^\t\tconstexpr double COEF_POINT = .*;  \\/\\/ OPTIMIZE \\[0\\.0, 100\\.0\\]$/\t\tconstexpr double COEF_POINT = 24.181294255022234;  \\/\\/ OPTIMIZE [0.0, 100.0]/' -e 's/^\t\tconstexpr double COEF_DIST = .*;  \\/\\/ OPTIMIZE \\[0\\.0, 10000\\.0\\]$/\t\tconstexpr double COEF_DIST = 7880.643359583504;  \\/\\/ OPTIMIZE [0.0, 10000.0]/'\n",
      "g++ 54_answer.cpp -std=gnu++17 -O2 -DONLINE_JUDGE -o 54_answer.cpp.out\n"
     ]
    },
    {
     "name": "stderr",
     "output_type": "stream",
     "text": [
      "\u001b[32m[I 2021-04-25 13:21:02,242]\u001b[0m Trial 149 finished with value: 1511551.0 and parameters: {'COEF_CENTER_L1': 5.108721564461579, 'COEF_CENTER_L1_SQ': 0.011823725559209297, 'COEF_POINT': 6.420465954949762, 'COEF_DIST': 8925.6886230445}. Best is trial 142 with value: 1556780.0.\u001b[0m\n",
      "\u001b[32m[I 2021-04-25 13:21:02,259]\u001b[0m Trial 150 finished with value: 832236.0 and parameters: {'COEF_CENTER_L1': 58.09341874974362, 'COEF_CENTER_L1_SQ': 93.61777160359355, 'COEF_POINT': 15.631880873185644, 'COEF_DIST': 7760.48119652021}. Best is trial 142 with value: 1556780.0.\u001b[0m\n"
     ]
    },
    {
     "name": "stdout",
     "output_type": "stream",
     "text": [
      "callback ok\n",
      "callback ok\n",
      "index_parallel=55\n",
      "mkdir: cannot create directory ‘55_out’: File exists\n",
      "index_parallel=56\n",
      "mkdir: cannot create directory ‘55_score’: File exists\n",
      "mkdir: cannot create directory ‘56_out’: File exists\n",
      "mkdir: cannot create directory ‘56_score’: File exists\n"
     ]
    },
    {
     "name": "stderr",
     "output_type": "stream",
     "text": [
      "\u001b[32m[I 2021-04-25 13:21:03,581]\u001b[0m Trial 152 finished with value: 842866.0 and parameters: {'COEF_CENTER_L1': 5.811804113430966, 'COEF_CENTER_L1_SQ': 88.21252211010263, 'COEF_POINT': 5.025105815456776, 'COEF_DIST': 7695.652702094175}. Best is trial 142 with value: 1556780.0.\u001b[0m\n",
      "\u001b[32m[I 2021-04-25 13:21:03,584]\u001b[0m Trial 151 finished with value: 1498618.0 and parameters: {'COEF_CENTER_L1': 5.786083579771875, 'COEF_CENTER_L1_SQ': 0.3684303145176875, 'COEF_POINT': 6.030219478932487, 'COEF_DIST': 7843.959252060031}. Best is trial 142 with value: 1556780.0.\u001b[0m\n"
     ]
    },
    {
     "name": "stdout",
     "output_type": "stream",
     "text": [
      "callback ok\n"
     ]
    },
    {
     "name": "stderr",
     "output_type": "stream",
     "text": [
      "\u001b[32m[I 2021-04-25 13:21:03,665]\u001b[0m Trial 153 finished with value: 838204.0 and parameters: {'COEF_CENTER_L1': 6.9920250906348835, 'COEF_CENTER_L1_SQ': 96.14026109679904, 'COEF_POINT': 25.198747666958834, 'COEF_DIST': 7850.295521156516}. Best is trial 142 with value: 1556780.0.\u001b[0m\n"
     ]
    },
    {
     "name": "stdout",
     "output_type": "stream",
     "text": [
      "callback ok\n",
      "index_parallel=57\n",
      "mkdir: cannot create directory ‘57_out’: File exists\n",
      "callback ok\n",
      "index_parallel=59\n",
      "mkdir: cannot create directory ‘59_out’: File exists\n",
      "mkdir: cannot create directory ‘57_score’: File exists\n",
      "index_parallel=58\n",
      "mkdir: cannot create directory ‘58_out’: File exists\n",
      "mkdir: cannot create directory ‘59_score’: File exists\n",
      "mkdir: cannot create directory ‘58_score’: File exists\n",
      "sed -i 55_answer.cpp -e 's/^\t\tconstexpr double COEF_CENTER_L1 = .*;  \\/\\/ OPTIMIZE \\[-100\\.0, 100\\.0\\]$/\t\tconstexpr double COEF_CENTER_L1 = -14.03014285125138;  \\/\\/ OPTIMIZE [-100.0, 100.0]/' -e 's/^\t\tconstexpr double COEF_CENTER_L1_SQ = .*;  \\/\\/ OPTIMIZE \\[0\\.0, 100\\.0\\]$/\t\tconstexpr double COEF_CENTER_L1_SQ = 0.10564449425030045;  \\/\\/ OPTIMIZE [0.0, 100.0]/' -e 's/^\t\tconstexpr double COEF_POINT = .*;  \\/\\/ OPTIMIZE \\[0\\.0, 100\\.0\\]$/\t\tconstexpr double COEF_POINT = 7.289634106430297;  \\/\\/ OPTIMIZE [0.0, 100.0]/' -e 's/^\t\tconstexpr double COEF_DIST = .*;  \\/\\/ OPTIMIZE \\[0\\.0, 10000\\.0\\]$/\t\tconstexpr double COEF_DIST = 9374.172056638643;  \\/\\/ OPTIMIZE [0.0, 10000.0]/'\n",
      "sed -i 56_answer.cpp -e 's/^\t\tconstexpr double COEF_CENTER_L1 = .*;  \\/\\/ OPTIMIZE \\[-100\\.0, 100\\.0\\]$/\t\tconstexpr double COEF_CENTER_L1 = -14.78251388614574;  \\/\\/ OPTIMIZE [-100.0, 100.0]/' -e 's/^\t\tconstexpr double COEF_CENTER_L1_SQ = .*;  \\/\\/ OPTIMIZE \\[0\\.0, 100\\.0\\]$/\t\tconstexpr double COEF_CENTER_L1_SQ = 0.09682575457242315;  \\/\\/ OPTIMIZE [0.0, 100.0]/' -e 's/^\t\tconstexpr double COEF_POINT = .*;  \\/\\/ OPTIMIZE \\[0\\.0, 100\\.0\\]$/\t\tconstexpr double COEF_POINT = 0.12426416783864713;  \\/\\/ OPTIMIZE [0.0, 100.0]/' -e 's/^\t\tconstexpr double COEF_DIST = .*;  \\/\\/ OPTIMIZE \\[0\\.0, 10000\\.0\\]$/\t\tconstexpr double COEF_DIST = 9315.773562333428;  \\/\\/ OPTIMIZE [0.0, 10000.0]/'\n",
      "g++ 55_answer.cpp -std=gnu++17 -O2 -DONLINE_JUDGE -o 55_answer.cpp.out\n",
      "g++ 56_answer.cpp -std=gnu++17 -O2 -DONLINE_JUDGE -o 56_answer.cpp.out\n",
      "sed -i 57_answer.cpp -e 's/^\t\tconstexpr double COEF_CENTER_L1 = .*;  \\/\\/ OPTIMIZE \\[-100\\.0, 100\\.0\\]$/\t\tconstexpr double COEF_CENTER_L1 = 2.039310323482394;  \\/\\/ OPTIMIZE [-100.0, 100.0]/' -e 's/^\t\tconstexpr double COEF_CENTER_L1_SQ = .*;  \\/\\/ OPTIMIZE \\[0\\.0, 100\\.0\\]$/\t\tconstexpr double COEF_CENTER_L1_SQ = 0.005646788398306235;  \\/\\/ OPTIMIZE [0.0, 100.0]/' -e 's/^\t\tconstexpr double COEF_POINT = .*;  \\/\\/ OPTIMIZE \\[0\\.0, 100\\.0\\]$/\t\tconstexpr double COEF_POINT = 14.648000398015562;  \\/\\/ OPTIMIZE [0.0, 100.0]/' -e 's/^\t\tconstexpr double COEF_DIST = .*;  \\/\\/ OPTIMIZE \\[0\\.0, 10000\\.0\\]$/\t\tconstexpr double COEF_DIST = 9320.144882924975;  \\/\\/ OPTIMIZE [0.0, 10000.0]/'\n",
      "g++ 57_answer.cpp -std=gnu++17 -O2 -DONLINE_JUDGE -o 57_answer.cpp.out\n",
      "sed -i 59_answer.cpp -e 's/^\t\tconstexpr double COEF_CENTER_L1 = .*;  \\/\\/ OPTIMIZE \\[-100\\.0, 100\\.0\\]$/\t\tconstexpr double COEF_CENTER_L1 = 0.35355502938175576;  \\/\\/ OPTIMIZE [-100.0, 100.0]/' -e 's/^\t\tconstexpr double COEF_CENTER_L1_SQ = .*;  \\/\\/ OPTIMIZE \\[0\\.0, 100\\.0\\]$/\t\tconstexpr double COEF_CENTER_L1_SQ = 1.9536168541686667;  \\/\\/ OPTIMIZE [0.0, 100.0]/' -e 's/^\t\tconstexpr double COEF_POINT = .*;  \\/\\/ OPTIMIZE \\[0\\.0, 100\\.0\\]$/\t\tconstexpr double COEF_POINT = 14.528030881107028;  \\/\\/ OPTIMIZE [0.0, 100.0]/' -e 's/^\t\tconstexpr double COEF_DIST = .*;  \\/\\/ OPTIMIZE \\[0\\.0, 10000\\.0\\]$/\t\tconstexpr double COEF_DIST = 8638.171249179624;  \\/\\/ OPTIMIZE [0.0, 10000.0]/'\n",
      "sed -i 58_answer.cpp -e 's/^\t\tconstexpr double COEF_CENTER_L1 = .*;  \\/\\/ OPTIMIZE \\[-100\\.0, 100\\.0\\]$/\t\tconstexpr double COEF_CENTER_L1 = 0.7669052636225675;  \\/\\/ OPTIMIZE [-100.0, 100.0]/' -e 's/^\t\tconstexpr double COEF_CENTER_L1_SQ = .*;  \\/\\/ OPTIMIZE \\[0\\.0, 100\\.0\\]$/\t\tconstexpr double COEF_CENTER_L1_SQ = 1.7195331324692007;  \\/\\/ OPTIMIZE [0.0, 100.0]/' -e 's/^\t\tconstexpr double COEF_POINT = .*;  \\/\\/ OPTIMIZE \\[0\\.0, 100\\.0\\]$/\t\tconstexpr double COEF_POINT = 38.006281091290376;  \\/\\/ OPTIMIZE [0.0, 100.0]/' -e 's/^\t\tconstexpr double COEF_DIST = .*;  \\/\\/ OPTIMIZE \\[0\\.0, 10000\\.0\\]$/\t\tconstexpr double COEF_DIST = 8712.189078576248;  \\/\\/ OPTIMIZE [0.0, 10000.0]/'\n",
      "g++ 59_answer.cpp -std=gnu++17 -O2 -DONLINE_JUDGE -o 59_answer.cpp.out\n",
      "g++ 58_answer.cpp -std=gnu++17 -O2 -DONLINE_JUDGE -o 58_answer.cpp.out\n"
     ]
    },
    {
     "name": "stderr",
     "output_type": "stream",
     "text": [
      "\u001b[32m[I 2021-04-25 13:21:06,338]\u001b[0m Trial 154 finished with value: 1515099.0 and parameters: {'COEF_CENTER_L1': 59.535734633707754, 'COEF_CENTER_L1_SQ': 1.4532345530005806, 'COEF_POINT': 24.181294255022234, 'COEF_DIST': 7880.643359583504}. Best is trial 142 with value: 1556780.0.\u001b[0m\n"
     ]
    },
    {
     "name": "stdout",
     "output_type": "stream",
     "text": [
      "callback ok\n",
      "index_parallel=60\n",
      "mkdir: cannot create directory ‘60_out’: File exists\n",
      "mkdir: cannot create directory ‘60_score’: File exists\n",
      "sed -i 60_answer.cpp -e 's/^\t\tconstexpr double COEF_CENTER_L1 = .*;  \\/\\/ OPTIMIZE \\[-100\\.0, 100\\.0\\]$/\t\tconstexpr double COEF_CENTER_L1 = 61.16102114862335;  \\/\\/ OPTIMIZE [-100.0, 100.0]/' -e 's/^\t\tconstexpr double COEF_CENTER_L1_SQ = .*;  \\/\\/ OPTIMIZE \\[0\\.0, 100\\.0\\]$/\t\tconstexpr double COEF_CENTER_L1_SQ = 0.046496853251139836;  \\/\\/ OPTIMIZE [0.0, 100.0]/' -e 's/^\t\tconstexpr double COEF_POINT = .*;  \\/\\/ OPTIMIZE \\[0\\.0, 100\\.0\\]$/\t\tconstexpr double COEF_POINT = 7.081036365624036;  \\/\\/ OPTIMIZE [0.0, 100.0]/' -e 's/^\t\tconstexpr double COEF_DIST = .*;  \\/\\/ OPTIMIZE \\[0\\.0, 10000\\.0\\]$/\t\tconstexpr double COEF_DIST = 8884.514677756251;  \\/\\/ OPTIMIZE [0.0, 10000.0]/'\n",
      "g++ 60_answer.cpp -std=gnu++17 -O2 -DONLINE_JUDGE -o 60_answer.cpp.out\n"
     ]
    },
    {
     "name": "stderr",
     "output_type": "stream",
     "text": [
      "\u001b[32m[I 2021-04-25 13:21:14,854]\u001b[0m Trial 156 finished with value: 1314007.0 and parameters: {'COEF_CENTER_L1': -14.78251388614574, 'COEF_CENTER_L1_SQ': 0.09682575457242315, 'COEF_POINT': 0.12426416783864713, 'COEF_DIST': 9315.773562333428}. Best is trial 142 with value: 1556780.0.\u001b[0m\n",
      "\u001b[32m[I 2021-04-25 13:21:14,871]\u001b[0m Trial 155 finished with value: 1491843.0 and parameters: {'COEF_CENTER_L1': -14.03014285125138, 'COEF_CENTER_L1_SQ': 0.10564449425030045, 'COEF_POINT': 7.289634106430297, 'COEF_DIST': 9374.172056638643}. Best is trial 142 with value: 1556780.0.\u001b[0m\n"
     ]
    },
    {
     "name": "stdout",
     "output_type": "stream",
     "text": [
      "callback ok\n",
      "index_parallel=61\n",
      "callback ok\n",
      "mkdir: cannot create directory ‘61_out’: File exists\n",
      "index_parallel=62\n",
      "mkdir: cannot create directory ‘61_score’: File exists\n",
      "mkdir: cannot create directory ‘62_out’: File exists\n",
      "mkdir: cannot create directory ‘62_score’: File exists\n"
     ]
    },
    {
     "name": "stderr",
     "output_type": "stream",
     "text": [
      "\u001b[32m[I 2021-04-25 13:21:16,350]\u001b[0m Trial 158 finished with value: 1518380.0 and parameters: {'COEF_CENTER_L1': 0.7669052636225675, 'COEF_CENTER_L1_SQ': 1.7195331324692007, 'COEF_POINT': 38.006281091290376, 'COEF_DIST': 8712.189078576248}. Best is trial 142 with value: 1556780.0.\u001b[0m\n",
      "\u001b[32m[I 2021-04-25 13:21:16,480]\u001b[0m Trial 159 finished with value: 1517809.0 and parameters: {'COEF_CENTER_L1': 0.35355502938175576, 'COEF_CENTER_L1_SQ': 1.9536168541686667, 'COEF_POINT': 14.528030881107028, 'COEF_DIST': 8638.171249179624}. Best is trial 142 with value: 1556780.0.\u001b[0m\n",
      "\u001b[32m[I 2021-04-25 13:21:16,489]\u001b[0m Trial 157 finished with value: 1403715.0 and parameters: {'COEF_CENTER_L1': 2.039310323482394, 'COEF_CENTER_L1_SQ': 0.005646788398306235, 'COEF_POINT': 14.648000398015562, 'COEF_DIST': 9320.144882924975}. Best is trial 142 with value: 1556780.0.\u001b[0m\n"
     ]
    },
    {
     "name": "stdout",
     "output_type": "stream",
     "text": [
      "callback ok\n",
      "callback okcallback ok\n",
      "\n",
      "index_parallel=63\n",
      "index_parallel=64\n",
      "mkdir: cannot create directory ‘63_out’: File exists\n",
      "mkdir: cannot create directory ‘64_out’: File exists\n",
      "mkdir: cannot create directory ‘63_score’: File exists\n",
      "mkdir: cannot create directory ‘64_score’: File exists\n",
      "index_parallel=65\n",
      "mkdir: cannot create directory ‘65_out’: File exists\n",
      "sed -i 61_answer.cpp -e 's/^\t\tconstexpr double COEF_CENTER_L1 = .*;  \\/\\/ OPTIMIZE \\[-100\\.0, 100\\.0\\]$/\t\tconstexpr double COEF_CENTER_L1 = 54.184307185586675;  \\/\\/ OPTIMIZE [-100.0, 100.0]/' -e 's/^\t\tconstexpr double COEF_CENTER_L1_SQ = .*;  \\/\\/ OPTIMIZE \\[0\\.0, 100\\.0\\]$/\t\tconstexpr double COEF_CENTER_L1_SQ = 2.8078533718811367;  \\/\\/ OPTIMIZE [0.0, 100.0]/' -e 's/^\t\tconstexpr double COEF_POINT = .*;  \\/\\/ OPTIMIZE \\[0\\.0, 100\\.0\\]$/\t\tconstexpr double COEF_POINT = 24.351012776141967;  \\/\\/ OPTIMIZE [0.0, 100.0]/' -e 's/^\t\tconstexpr double COEF_DIST = .*;  \\/\\/ OPTIMIZE \\[0\\.0, 10000\\.0\\]$/\t\tconstexpr double COEF_DIST = 8698.50320078294;  \\/\\/ OPTIMIZE [0.0, 10000.0]/'\n",
      "mkdir: cannot create directory ‘65_score’: File exists\n",
      "sed -i 62_answer.cpp -e 's/^\t\tconstexpr double COEF_CENTER_L1 = .*;  \\/\\/ OPTIMIZE \\[-100\\.0, 100\\.0\\]$/\t\tconstexpr double COEF_CENTER_L1 = 57.656483424139935;  \\/\\/ OPTIMIZE [-100.0, 100.0]/' -e 's/^\t\tconstexpr double COEF_CENTER_L1_SQ = .*;  \\/\\/ OPTIMIZE \\[0\\.0, 100\\.0\\]$/\t\tconstexpr double COEF_CENTER_L1_SQ = 2.853705958927847;  \\/\\/ OPTIMIZE [0.0, 100.0]/' -e 's/^\t\tconstexpr double COEF_POINT = .*;  \\/\\/ OPTIMIZE \\[0\\.0, 100\\.0\\]$/\t\tconstexpr double COEF_POINT = 18.01300542834281;  \\/\\/ OPTIMIZE [0.0, 100.0]/' -e 's/^\t\tconstexpr double COEF_DIST = .*;  \\/\\/ OPTIMIZE \\[0\\.0, 10000\\.0\\]$/\t\tconstexpr double COEF_DIST = 8712.286815426169;  \\/\\/ OPTIMIZE [0.0, 10000.0]/'\n",
      "g++ 61_answer.cpp -std=gnu++17 -O2 -DONLINE_JUDGE -o 61_answer.cpp.out\n",
      "g++ 62_answer.cpp -std=gnu++17 -O2 -DONLINE_JUDGE -o 62_answer.cpp.out\n",
      "sed -i 63_answer.cpp -e 's/^\t\tconstexpr double COEF_CENTER_L1 = .*;  \\/\\/ OPTIMIZE \\[-100\\.0, 100\\.0\\]$/\t\tconstexpr double COEF_CENTER_L1 = 58.77108258260889;  \\/\\/ OPTIMIZE [-100.0, 100.0]/' -e 's/^\t\tconstexpr double COEF_CENTER_L1_SQ = .*;  \\/\\/ OPTIMIZE \\[0\\.0, 100\\.0\\]$/\t\tconstexpr double COEF_CENTER_L1_SQ = 2.3451119473777746;  \\/\\/ OPTIMIZE [0.0, 100.0]/' -e 's/^\t\tconstexpr double COEF_POINT = .*;  \\/\\/ OPTIMIZE \\[0\\.0, 100\\.0\\]$/\t\tconstexpr double COEF_POINT = 9.073610344448827;  \\/\\/ OPTIMIZE [0.0, 100.0]/' -e 's/^\t\tconstexpr double COEF_DIST = .*;  \\/\\/ OPTIMIZE \\[0\\.0, 10000\\.0\\]$/\t\tconstexpr double COEF_DIST = 8783.39914641668;  \\/\\/ OPTIMIZE [0.0, 10000.0]/'\n",
      "sed -i 64_answer.cpp -e 's/^\t\tconstexpr double COEF_CENTER_L1 = .*;  \\/\\/ OPTIMIZE \\[-100\\.0, 100\\.0\\]$/\t\tconstexpr double COEF_CENTER_L1 = 56.35624270584621;  \\/\\/ OPTIMIZE [-100.0, 100.0]/' -e 's/^\t\tconstexpr double COEF_CENTER_L1_SQ = .*;  \\/\\/ OPTIMIZE \\[0\\.0, 100\\.0\\]$/\t\tconstexpr double COEF_CENTER_L1_SQ = 2.8106093817429145;  \\/\\/ OPTIMIZE [0.0, 100.0]/' -e 's/^\t\tconstexpr double COEF_POINT = .*;  \\/\\/ OPTIMIZE \\[0\\.0, 100\\.0\\]$/\t\tconstexpr double COEF_POINT = 13.437720813182564;  \\/\\/ OPTIMIZE [0.0, 100.0]/' -e 's/^\t\tconstexpr double COEF_DIST = .*;  \\/\\/ OPTIMIZE \\[0\\.0, 10000\\.0\\]$/\t\tconstexpr double COEF_DIST = 8753.54014442229;  \\/\\/ OPTIMIZE [0.0, 10000.0]/'\n",
      "g++ 63_answer.cpp -std=gnu++17 -O2 -DONLINE_JUDGE -o 63_answer.cpp.out\n"
     ]
    },
    {
     "name": "stderr",
     "output_type": "stream",
     "text": [
      "\u001b[32m[I 2021-04-25 13:21:17,893]\u001b[0m Trial 160 finished with value: 1542451.0 and parameters: {'COEF_CENTER_L1': 61.16102114862335, 'COEF_CENTER_L1_SQ': 0.046496853251139836, 'COEF_POINT': 7.081036365624036, 'COEF_DIST': 8884.514677756251}. Best is trial 142 with value: 1556780.0.\u001b[0m\n"
     ]
    },
    {
     "name": "stdout",
     "output_type": "stream",
     "text": [
      "callback ok\n",
      "g++ 64_answer.cpp -std=gnu++17 -O2 -DONLINE_JUDGE -o 64_answer.cpp.out\n",
      "index_parallel=66\n",
      "mkdir: cannot create directory ‘66_out’: File exists\n",
      "sed -i 65_answer.cpp -e 's/^\t\tconstexpr double COEF_CENTER_L1 = .*;  \\/\\/ OPTIMIZE \\[-100\\.0, 100\\.0\\]$/\t\tconstexpr double COEF_CENTER_L1 = 49.8059805476133;  \\/\\/ OPTIMIZE [-100.0, 100.0]/' -e 's/^\t\tconstexpr double COEF_CENTER_L1_SQ = .*;  \\/\\/ OPTIMIZE \\[0\\.0, 100\\.0\\]$/\t\tconstexpr double COEF_CENTER_L1_SQ = 2.201122138994251;  \\/\\/ OPTIMIZE [0.0, 100.0]/' -e 's/^\t\tconstexpr double COEF_POINT = .*;  \\/\\/ OPTIMIZE \\[0\\.0, 100\\.0\\]$/\t\tconstexpr double COEF_POINT = 13.360029703080325;  \\/\\/ OPTIMIZE [0.0, 100.0]/' -e 's/^\t\tconstexpr double COEF_DIST = .*;  \\/\\/ OPTIMIZE \\[0\\.0, 10000\\.0\\]$/\t\tconstexpr double COEF_DIST = 8670.976941839805;  \\/\\/ OPTIMIZE [0.0, 10000.0]/'\n",
      "mkdir: cannot create directory ‘66_score’: File exists\n",
      "g++ 65_answer.cpp -std=gnu++17 -O2 -DONLINE_JUDGE -o 65_answer.cpp.out\n",
      "sed -i 66_answer.cpp -e 's/^\t\tconstexpr double COEF_CENTER_L1 = .*;  \\/\\/ OPTIMIZE \\[-100\\.0, 100\\.0\\]$/\t\tconstexpr double COEF_CENTER_L1 = 53.78121850835796;  \\/\\/ OPTIMIZE [-100.0, 100.0]/' -e 's/^\t\tconstexpr double COEF_CENTER_L1_SQ = .*;  \\/\\/ OPTIMIZE \\[0\\.0, 100\\.0\\]$/\t\tconstexpr double COEF_CENTER_L1_SQ = 2.9313356164566398;  \\/\\/ OPTIMIZE [0.0, 100.0]/' -e 's/^\t\tconstexpr double COEF_POINT = .*;  \\/\\/ OPTIMIZE \\[0\\.0, 100\\.0\\]$/\t\tconstexpr double COEF_POINT = 9.10226608072568;  \\/\\/ OPTIMIZE [0.0, 100.0]/' -e 's/^\t\tconstexpr double COEF_DIST = .*;  \\/\\/ OPTIMIZE \\[0\\.0, 10000\\.0\\]$/\t\tconstexpr double COEF_DIST = 8942.008890667139;  \\/\\/ OPTIMIZE [0.0, 10000.0]/'\n",
      "g++ 66_answer.cpp -std=gnu++17 -O2 -DONLINE_JUDGE -o 66_answer.cpp.out\n"
     ]
    },
    {
     "name": "stderr",
     "output_type": "stream",
     "text": [
      "\u001b[32m[I 2021-04-25 13:21:26,998]\u001b[0m Trial 161 finished with value: 1495595.0 and parameters: {'COEF_CENTER_L1': 54.184307185586675, 'COEF_CENTER_L1_SQ': 2.8078533718811367, 'COEF_POINT': 24.351012776141967, 'COEF_DIST': 8698.50320078294}. Best is trial 142 with value: 1556780.0.\u001b[0m\n"
     ]
    },
    {
     "name": "stdout",
     "output_type": "stream",
     "text": [
      "callback ok\n",
      "index_parallel=67\n",
      "mkdir: cannot create directory ‘67_out’: File exists\n"
     ]
    },
    {
     "name": "stderr",
     "output_type": "stream",
     "text": [
      "\u001b[32m[I 2021-04-25 13:21:27,246]\u001b[0m Trial 162 finished with value: 1498761.0 and parameters: {'COEF_CENTER_L1': 57.656483424139935, 'COEF_CENTER_L1_SQ': 2.853705958927847, 'COEF_POINT': 18.01300542834281, 'COEF_DIST': 8712.286815426169}. Best is trial 142 with value: 1556780.0.\u001b[0m\n"
     ]
    },
    {
     "name": "stdout",
     "output_type": "stream",
     "text": [
      "callback ok\n",
      "mkdir: cannot create directory ‘67_score’: File exists\n",
      "index_parallel=68\n",
      "mkdir: cannot create directory ‘68_out’: File exists\n",
      "mkdir: cannot create directory ‘68_score’: File exists\n"
     ]
    },
    {
     "name": "stderr",
     "output_type": "stream",
     "text": [
      "\u001b[32m[I 2021-04-25 13:21:27,823]\u001b[0m Trial 163 finished with value: 1472452.0 and parameters: {'COEF_CENTER_L1': 58.77108258260889, 'COEF_CENTER_L1_SQ': 2.3451119473777746, 'COEF_POINT': 9.073610344448827, 'COEF_DIST': 8783.39914641668}. Best is trial 142 with value: 1556780.0.\u001b[0m\n"
     ]
    },
    {
     "name": "stdout",
     "output_type": "stream",
     "text": [
      "callback ok\n"
     ]
    },
    {
     "name": "stderr",
     "output_type": "stream",
     "text": [
      "\u001b[32m[I 2021-04-25 13:21:28,399]\u001b[0m Trial 165 finished with value: 1482894.0 and parameters: {'COEF_CENTER_L1': 49.8059805476133, 'COEF_CENTER_L1_SQ': 2.201122138994251, 'COEF_POINT': 13.360029703080325, 'COEF_DIST': 8670.976941839805}. Best is trial 142 with value: 1556780.0.\u001b[0m\n",
      "\u001b[32m[I 2021-04-25 13:21:28,409]\u001b[0m Trial 164 finished with value: 1448298.0 and parameters: {'COEF_CENTER_L1': 56.35624270584621, 'COEF_CENTER_L1_SQ': 2.8106093817429145, 'COEF_POINT': 13.437720813182564, 'COEF_DIST': 8753.54014442229}. Best is trial 142 with value: 1556780.0.\u001b[0m\n"
     ]
    },
    {
     "name": "stdout",
     "output_type": "stream",
     "text": [
      "index_parallel=69\n",
      "mkdir: cannot create directory ‘69_out’: File exists\n",
      "callback ok\n",
      "callback ok\n",
      "index_parallel=70\n",
      "mkdir: cannot create directory ‘69_score’: File exists\n",
      "mkdir: cannot create directory ‘70_out’: File exists\n",
      "index_parallel=71\n",
      "mkdir: cannot create directory ‘71_out’: File exists\n",
      "mkdir: cannot create directory ‘70_score’: File exists\n"
     ]
    },
    {
     "name": "stderr",
     "output_type": "stream",
     "text": [
      "\u001b[32m[I 2021-04-25 13:21:28,802]\u001b[0m Trial 166 finished with value: 1433843.0 and parameters: {'COEF_CENTER_L1': 53.78121850835796, 'COEF_CENTER_L1_SQ': 2.9313356164566398, 'COEF_POINT': 9.10226608072568, 'COEF_DIST': 8942.008890667139}. Best is trial 142 with value: 1556780.0.\u001b[0m\n"
     ]
    },
    {
     "name": "stdout",
     "output_type": "stream",
     "text": [
      "mkdir: cannot create directory ‘71_score’: File exists\n",
      "callback ok\n",
      "sed -i 67_answer.cpp -e 's/^\t\tconstexpr double COEF_CENTER_L1 = .*;  \\/\\/ OPTIMIZE \\[-100\\.0, 100\\.0\\]$/\t\tconstexpr double COEF_CENTER_L1 = 48.56316041035262;  \\/\\/ OPTIMIZE [-100.0, 100.0]/' -e 's/^\t\tconstexpr double COEF_CENTER_L1_SQ = .*;  \\/\\/ OPTIMIZE \\[0\\.0, 100\\.0\\]$/\t\tconstexpr double COEF_CENTER_L1_SQ = 11.043399250410854;  \\/\\/ OPTIMIZE [0.0, 100.0]/' -e 's/^\t\tconstexpr double COEF_POINT = .*;  \\/\\/ OPTIMIZE \\[0\\.0, 100\\.0\\]$/\t\tconstexpr double COEF_POINT = 48.04021333307761;  \\/\\/ OPTIMIZE [0.0, 100.0]/' -e 's/^\t\tconstexpr double COEF_DIST = .*;  \\/\\/ OPTIMIZE \\[0\\.0, 10000\\.0\\]$/\t\tconstexpr double COEF_DIST = 8269.92175137224;  \\/\\/ OPTIMIZE [0.0, 10000.0]/'\n",
      "index_parallel=72\n",
      "sed -i 68_answer.cpp -e 's/^\t\tconstexpr double COEF_CENTER_L1 = .*;  \\/\\/ OPTIMIZE \\[-100\\.0, 100\\.0\\]$/\t\tconstexpr double COEF_CENTER_L1 = 68.23667733694371;  \\/\\/ OPTIMIZE [-100.0, 100.0]/' -e 's/^\t\tconstexpr double COEF_CENTER_L1_SQ = .*;  \\/\\/ OPTIMIZE \\[0\\.0, 100\\.0\\]$/\t\tconstexpr double COEF_CENTER_L1_SQ = 8.716000429698134;  \\/\\/ OPTIMIZE [0.0, 100.0]/' -e 's/^\t\tconstexpr double COEF_POINT = .*;  \\/\\/ OPTIMIZE \\[0\\.0, 100\\.0\\]$/\t\tconstexpr double COEF_POINT = 48.159194020828686;  \\/\\/ OPTIMIZE [0.0, 100.0]/' -e 's/^\t\tconstexpr double COEF_DIST = .*;  \\/\\/ OPTIMIZE \\[0\\.0, 10000\\.0\\]$/\t\tconstexpr double COEF_DIST = 8026.189273788392;  \\/\\/ OPTIMIZE [0.0, 10000.0]/'\n",
      "mkdir: cannot create directory ‘72_out’: File exists\n",
      "g++ 67_answer.cpp -std=gnu++17 -O2 -DONLINE_JUDGE -o 67_answer.cpp.out\n",
      "g++ 68_answer.cpp -std=gnu++17 -O2 -DONLINE_JUDGE -o 68_answer.cpp.out\n",
      "mkdir: cannot create directory ‘72_score’: File exists\n",
      "sed -i 69_answer.cpp -e 's/^\t\tconstexpr double COEF_CENTER_L1 = .*;  \\/\\/ OPTIMIZE \\[-100\\.0, 100\\.0\\]$/\t\tconstexpr double COEF_CENTER_L1 = 62.12391140548108;  \\/\\/ OPTIMIZE [-100.0, 100.0]/' -e 's/^\t\tconstexpr double COEF_CENTER_L1_SQ = .*;  \\/\\/ OPTIMIZE \\[0\\.0, 100\\.0\\]$/\t\tconstexpr double COEF_CENTER_L1_SQ = 8.676087863831121;  \\/\\/ OPTIMIZE [0.0, 100.0]/' -e 's/^\t\tconstexpr double COEF_POINT = .*;  \\/\\/ OPTIMIZE \\[0\\.0, 100\\.0\\]$/\t\tconstexpr double COEF_POINT = 48.15608773226283;  \\/\\/ OPTIMIZE [0.0, 100.0]/' -e 's/^\t\tconstexpr double COEF_DIST = .*;  \\/\\/ OPTIMIZE \\[0\\.0, 10000\\.0\\]$/\t\tconstexpr double COEF_DIST = 8152.271510141988;  \\/\\/ OPTIMIZE [0.0, 10000.0]/'\n",
      "g++ 69_answer.cpp -std=gnu++17 -O2 -DONLINE_JUDGE -o 69_answer.cpp.out\n",
      "sed -i 72_answer.cpp -e 's/^\t\tconstexpr double COEF_CENTER_L1 = .*;  \\/\\/ OPTIMIZE \\[-100\\.0, 100\\.0\\]$/\t\tconstexpr double COEF_CENTER_L1 = 17.13240989381506;  \\/\\/ OPTIMIZE [-100.0, 100.0]/' -e 's/^\t\tconstexpr double COEF_CENTER_L1_SQ = .*;  \\/\\/ OPTIMIZE \\[0\\.0, 100\\.0\\]$/\t\tconstexpr double COEF_CENTER_L1_SQ = 8.351241969819858;  \\/\\/ OPTIMIZE [0.0, 100.0]/' -e 's/^\t\tconstexpr double COEF_POINT = .*;  \\/\\/ OPTIMIZE \\[0\\.0, 100\\.0\\]$/\t\tconstexpr double COEF_POINT = 43.695869943722776;  \\/\\/ OPTIMIZE [0.0, 100.0]/' -e 's/^\t\tconstexpr double COEF_DIST = .*;  \\/\\/ OPTIMIZE \\[0\\.0, 10000\\.0\\]$/\t\tconstexpr double COEF_DIST = 9710.054649002584;  \\/\\/ OPTIMIZE [0.0, 10000.0]/'\n",
      "sed -i 71_answer.cpp -e 's/^\t\tconstexpr double COEF_CENTER_L1 = .*;  \\/\\/ OPTIMIZE \\[-100\\.0, 100\\.0\\]$/\t\tconstexpr double COEF_CENTER_L1 = 65.39353489643413;  \\/\\/ OPTIMIZE [-100.0, 100.0]/' -e 's/^\t\tconstexpr double COEF_CENTER_L1_SQ = .*;  \\/\\/ OPTIMIZE \\[0\\.0, 100\\.0\\]$/\t\tconstexpr double COEF_CENTER_L1_SQ = 8.793452969578416;  \\/\\/ OPTIMIZE [0.0, 100.0]/' -e 's/^\t\tconstexpr double COEF_POINT = .*;  \\/\\/ OPTIMIZE \\[0\\.0, 100\\.0\\]$/\t\tconstexpr double COEF_POINT = 22.89622825459424;  \\/\\/ OPTIMIZE [0.0, 100.0]/' -e 's/^\t\tconstexpr double COEF_DIST = .*;  \\/\\/ OPTIMIZE \\[0\\.0, 10000\\.0\\]$/\t\tconstexpr double COEF_DIST = 9692.653676940634;  \\/\\/ OPTIMIZE [0.0, 10000.0]/'\n",
      "sed -i 70_answer.cpp -e 's/^\t\tconstexpr double COEF_CENTER_L1 = .*;  \\/\\/ OPTIMIZE \\[-100\\.0, 100\\.0\\]$/\t\tconstexpr double COEF_CENTER_L1 = 61.5906192954171;  \\/\\/ OPTIMIZE [-100.0, 100.0]/' -e 's/^\t\tconstexpr double COEF_CENTER_L1_SQ = .*;  \\/\\/ OPTIMIZE \\[0\\.0, 100\\.0\\]$/\t\tconstexpr double COEF_CENTER_L1_SQ = 8.248000708300387;  \\/\\/ OPTIMIZE [0.0, 100.0]/' -e 's/^\t\tconstexpr double COEF_POINT = .*;  \\/\\/ OPTIMIZE \\[0\\.0, 100\\.0\\]$/\t\tconstexpr double COEF_POINT = 22.675135677837993;  \\/\\/ OPTIMIZE [0.0, 100.0]/' -e 's/^\t\tconstexpr double COEF_DIST = .*;  \\/\\/ OPTIMIZE \\[0\\.0, 10000\\.0\\]$/\t\tconstexpr double COEF_DIST = 8326.551379798408;  \\/\\/ OPTIMIZE [0.0, 10000.0]/'\n",
      "g++ 72_answer.cpp -std=gnu++17 -O2 -DONLINE_JUDGE -o 72_answer.cpp.out\n",
      "g++ 71_answer.cpp -std=gnu++17 -O2 -DONLINE_JUDGE -o 71_answer.cpp.out\n",
      "g++ 70_answer.cpp -std=gnu++17 -O2 -DONLINE_JUDGE -o 70_answer.cpp.out\n"
     ]
    },
    {
     "name": "stderr",
     "output_type": "stream",
     "text": [
      "\u001b[32m[I 2021-04-25 13:21:38,044]\u001b[0m Trial 168 finished with value: 1392061.0 and parameters: {'COEF_CENTER_L1': 68.23667733694371, 'COEF_CENTER_L1_SQ': 8.716000429698134, 'COEF_POINT': 48.159194020828686, 'COEF_DIST': 8026.189273788392}. Best is trial 142 with value: 1556780.0.\u001b[0m\n"
     ]
    },
    {
     "name": "stdout",
     "output_type": "stream",
     "text": [
      "callback ok\n"
     ]
    },
    {
     "name": "stderr",
     "output_type": "stream",
     "text": [
      "\u001b[32m[I 2021-04-25 13:21:38,073]\u001b[0m Trial 167 finished with value: 1352129.0 and parameters: {'COEF_CENTER_L1': 48.56316041035262, 'COEF_CENTER_L1_SQ': 11.043399250410854, 'COEF_POINT': 48.04021333307761, 'COEF_DIST': 8269.92175137224}. Best is trial 142 with value: 1556780.0.\u001b[0m\n"
     ]
    },
    {
     "name": "stdout",
     "output_type": "stream",
     "text": [
      "index_parallel=73\n",
      "mkdir: cannot create directory ‘73_out’: File exists\n",
      "callback ok\n",
      "mkdir: cannot create directory ‘73_score’: File exists\n",
      "index_parallel=74\n",
      "mkdir: cannot create directory ‘74_out’: File exists\n",
      "mkdir: cannot create directory ‘74_score’: File exists\n"
     ]
    },
    {
     "name": "stderr",
     "output_type": "stream",
     "text": [
      "\u001b[32m[I 2021-04-25 13:21:40,864]\u001b[0m Trial 169 finished with value: 1389834.0 and parameters: {'COEF_CENTER_L1': 62.12391140548108, 'COEF_CENTER_L1_SQ': 8.676087863831121, 'COEF_POINT': 48.15608773226283, 'COEF_DIST': 8152.271510141988}. Best is trial 142 with value: 1556780.0.\u001b[0m\n",
      "\u001b[32m[I 2021-04-25 13:21:40,966]\u001b[0m Trial 170 finished with value: 1360504.0 and parameters: {'COEF_CENTER_L1': 61.5906192954171, 'COEF_CENTER_L1_SQ': 8.248000708300387, 'COEF_POINT': 22.675135677837993, 'COEF_DIST': 8326.551379798408}. Best is trial 142 with value: 1556780.0.\u001b[0m\n",
      "\u001b[32m[I 2021-04-25 13:21:40,970]\u001b[0m Trial 171 finished with value: 1340698.0 and parameters: {'COEF_CENTER_L1': 65.39353489643413, 'COEF_CENTER_L1_SQ': 8.793452969578416, 'COEF_POINT': 22.89622825459424, 'COEF_DIST': 9692.653676940634}. Best is trial 142 with value: 1556780.0.\u001b[0m\n"
     ]
    },
    {
     "name": "stdout",
     "output_type": "stream",
     "text": [
      "callback ok\n"
     ]
    },
    {
     "name": "stderr",
     "output_type": "stream",
     "text": [
      "\u001b[32m[I 2021-04-25 13:21:40,976]\u001b[0m Trial 172 finished with value: 1477302.0 and parameters: {'COEF_CENTER_L1': 17.13240989381506, 'COEF_CENTER_L1_SQ': 8.351241969819858, 'COEF_POINT': 43.695869943722776, 'COEF_DIST': 9710.054649002584}. Best is trial 142 with value: 1556780.0.\u001b[0m\n"
     ]
    },
    {
     "name": "stdout",
     "output_type": "stream",
     "text": [
      "sed -i 73_answer.cpp -e 's/^\t\tconstexpr double COEF_CENTER_L1 = .*;  \\/\\/ OPTIMIZE \\[-100\\.0, 100\\.0\\]$/\t\tconstexpr double COEF_CENTER_L1 = -0.3119359748248286;  \\/\\/ OPTIMIZE [-100.0, 100.0]/' -e 's/^\t\tconstexpr double COEF_CENTER_L1_SQ = .*;  \\/\\/ OPTIMIZE \\[0\\.0, 100\\.0\\]$/\t\tconstexpr double COEF_CENTER_L1_SQ = 4.517055646307829;  \\/\\/ OPTIMIZE [0.0, 100.0]/' -e 's/^\t\tconstexpr double COEF_POINT = .*;  \\/\\/ OPTIMIZE \\[0\\.0, 100\\.0\\]$/\t\tconstexpr double COEF_POINT = 23.384411257705928;  \\/\\/ OPTIMIZE [0.0, 100.0]/' -e 's/^\t\tconstexpr double COEF_DIST = .*;  \\/\\/ OPTIMIZE \\[0\\.0, 10000\\.0\\]$/\t\tconstexpr double COEF_DIST = 7377.028815797409;  \\/\\/ OPTIMIZE [0.0, 10000.0]/'\n",
      "index_parallel=75\n",
      "callback ok\n",
      "mkdir: cannot create directory ‘75_out’: File exists\n",
      "callback ok\n",
      "callback ok\n",
      "sed -i 74_answer.cpp -e 's/^\t\tconstexpr double COEF_CENTER_L1 = .*;  \\/\\/ OPTIMIZE \\[-100\\.0, 100\\.0\\]$/\t\tconstexpr double COEF_CENTER_L1 = 41.7989180647258;  \\/\\/ OPTIMIZE [-100.0, 100.0]/' -e 's/^\t\tconstexpr double COEF_CENTER_L1_SQ = .*;  \\/\\/ OPTIMIZE \\[0\\.0, 100\\.0\\]$/\t\tconstexpr double COEF_CENTER_L1_SQ = 4.668227402671237;  \\/\\/ OPTIMIZE [0.0, 100.0]/' -e 's/^\t\tconstexpr double COEF_POINT = .*;  \\/\\/ OPTIMIZE \\[0\\.0, 100\\.0\\]$/\t\tconstexpr double COEF_POINT = 43.637792257629336;  \\/\\/ OPTIMIZE [0.0, 100.0]/' -e 's/^\t\tconstexpr double COEF_DIST = .*;  \\/\\/ OPTIMIZE \\[0\\.0, 10000\\.0\\]$/\t\tconstexpr double COEF_DIST = 7403.707998248643;  \\/\\/ OPTIMIZE [0.0, 10000.0]/'\n",
      "g++ 73_answer.cpp -std=gnu++17 -O2 -DONLINE_JUDGE -o 73_answer.cpp.out\n",
      "index_parallel=77index_parallel=76\n",
      "\n",
      "mkdir: cannot create directory ‘76_out’: File exists\n",
      "mkdir: cannot create directory ‘77_out’: File exists\n",
      "index_parallel=78\n",
      "mkdir: cannot create directory ‘75_score’: File exists\n",
      "mkdir: cannot create directory ‘78_out’: File exists\n",
      "g++ 74_answer.cpp -std=gnu++17 -O2 -DONLINE_JUDGE -o 74_answer.cpp.out\n",
      "mkdir: cannot create directory ‘76_score’: File exists\n",
      "mkdir: cannot create directory ‘77_score’: File exists\n",
      "mkdir: cannot create directory ‘78_score’: File exists\n",
      "sed -i 75_answer.cpp -e 's/^\t\tconstexpr double COEF_CENTER_L1 = .*;  \\/\\/ OPTIMIZE \\[-100\\.0, 100\\.0\\]$/\t\tconstexpr double COEF_CENTER_L1 = -0.7747303345639649;  \\/\\/ OPTIMIZE [-100.0, 100.0]/' -e 's/^\t\tconstexpr double COEF_CENTER_L1_SQ = .*;  \\/\\/ OPTIMIZE \\[0\\.0, 100\\.0\\]$/\t\tconstexpr double COEF_CENTER_L1_SQ = 4.535550926379731;  \\/\\/ OPTIMIZE [0.0, 100.0]/' -e 's/^\t\tconstexpr double COEF_POINT = .*;  \\/\\/ OPTIMIZE \\[0\\.0, 100\\.0\\]$/\t\tconstexpr double COEF_POINT = 39.09150984772628;  \\/\\/ OPTIMIZE [0.0, 100.0]/' -e 's/^\t\tconstexpr double COEF_DIST = .*;  \\/\\/ OPTIMIZE \\[0\\.0, 10000\\.0\\]$/\t\tconstexpr double COEF_DIST = 7411.96799149471;  \\/\\/ OPTIMIZE [0.0, 10000.0]/'\n",
      "g++ 75_answer.cpp -std=gnu++17 -O2 -DONLINE_JUDGE -o 75_answer.cpp.out\n",
      "sed -i 77_answer.cpp -e 's/^\t\tconstexpr double COEF_CENTER_L1 = .*;  \\/\\/ OPTIMIZE \\[-100\\.0, 100\\.0\\]$/\t\tconstexpr double COEF_CENTER_L1 = -0.4383430593177797;  \\/\\/ OPTIMIZE [-100.0, 100.0]/' -e 's/^\t\tconstexpr double COEF_CENTER_L1_SQ = .*;  \\/\\/ OPTIMIZE \\[0\\.0, 100\\.0\\]$/\t\tconstexpr double COEF_CENTER_L1_SQ = 4.3577067021170794;  \\/\\/ OPTIMIZE [0.0, 100.0]/' -e 's/^\t\tconstexpr double COEF_POINT = .*;  \\/\\/ OPTIMIZE \\[0\\.0, 100\\.0\\]$/\t\tconstexpr double COEF_POINT = 37.65099395686806;  \\/\\/ OPTIMIZE [0.0, 100.0]/' -e 's/^\t\tconstexpr double COEF_DIST = .*;  \\/\\/ OPTIMIZE \\[0\\.0, 10000\\.0\\]$/\t\tconstexpr double COEF_DIST = 7367.361501768082;  \\/\\/ OPTIMIZE [0.0, 10000.0]/'\n",
      "sed -i 76_answer.cpp -e 's/^\t\tconstexpr double COEF_CENTER_L1 = .*;  \\/\\/ OPTIMIZE \\[-100\\.0, 100\\.0\\]$/\t\tconstexpr double COEF_CENTER_L1 = 80.33491707344317;  \\/\\/ OPTIMIZE [-100.0, 100.0]/' -e 's/^\t\tconstexpr double COEF_CENTER_L1_SQ = .*;  \\/\\/ OPTIMIZE \\[0\\.0, 100\\.0\\]$/\t\tconstexpr double COEF_CENTER_L1_SQ = 4.669480944517588;  \\/\\/ OPTIMIZE [0.0, 100.0]/' -e 's/^\t\tconstexpr double COEF_POINT = .*;  \\/\\/ OPTIMIZE \\[0\\.0, 100\\.0\\]$/\t\tconstexpr double COEF_POINT = 37.480119094131894;  \\/\\/ OPTIMIZE [0.0, 100.0]/' -e 's/^\t\tconstexpr double COEF_DIST = .*;  \\/\\/ OPTIMIZE \\[0\\.0, 10000\\.0\\]$/\t\tconstexpr double COEF_DIST = 9041.115696804663;  \\/\\/ OPTIMIZE [0.0, 10000.0]/'\n",
      "sed -i 78_answer.cpp -e 's/^\t\tconstexpr double COEF_CENTER_L1 = .*;  \\/\\/ OPTIMIZE \\[-100\\.0, 100\\.0\\]$/\t\tconstexpr double COEF_CENTER_L1 = 2.1710181408508133;  \\/\\/ OPTIMIZE [-100.0, 100.0]/' -e 's/^\t\tconstexpr double COEF_CENTER_L1_SQ = .*;  \\/\\/ OPTIMIZE \\[0\\.0, 100\\.0\\]$/\t\tconstexpr double COEF_CENTER_L1_SQ = 0.0121378386736688;  \\/\\/ OPTIMIZE [0.0, 100.0]/' -e 's/^\t\tconstexpr double COEF_POINT = .*;  \\/\\/ OPTIMIZE \\[0\\.0, 100\\.0\\]$/\t\tconstexpr double COEF_POINT = 38.63132590810574;  \\/\\/ OPTIMIZE [0.0, 100.0]/' -e 's/^\t\tconstexpr double COEF_DIST = .*;  \\/\\/ OPTIMIZE \\[0\\.0, 10000\\.0\\]$/\t\tconstexpr double COEF_DIST = 9031.513756554188;  \\/\\/ OPTIMIZE [0.0, 10000.0]/'\n",
      "g++ 77_answer.cpp -std=gnu++17 -O2 -DONLINE_JUDGE -o 77_answer.cpp.out\n",
      "g++ 76_answer.cpp -std=gnu++17 -O2 -DONLINE_JUDGE -o 76_answer.cpp.out\n",
      "g++ 78_answer.cpp -std=gnu++17 -O2 -DONLINE_JUDGE -o 78_answer.cpp.out\n"
     ]
    },
    {
     "name": "stderr",
     "output_type": "stream",
     "text": [
      "\u001b[32m[I 2021-04-25 13:21:50,970]\u001b[0m Trial 173 finished with value: 1505393.0 and parameters: {'COEF_CENTER_L1': -0.3119359748248286, 'COEF_CENTER_L1_SQ': 4.517055646307829, 'COEF_POINT': 23.384411257705928, 'COEF_DIST': 7377.028815797409}. Best is trial 142 with value: 1556780.0.\u001b[0m\n"
     ]
    },
    {
     "name": "stdout",
     "output_type": "stream",
     "text": [
      "callback ok\n",
      "index_parallel=79\n",
      "mkdir: cannot create directory ‘79_out’: File exists\n"
     ]
    },
    {
     "name": "stderr",
     "output_type": "stream",
     "text": [
      "\u001b[32m[I 2021-04-25 13:21:51,361]\u001b[0m Trial 174 finished with value: 1466736.0 and parameters: {'COEF_CENTER_L1': 41.7989180647258, 'COEF_CENTER_L1_SQ': 4.668227402671237, 'COEF_POINT': 43.637792257629336, 'COEF_DIST': 7403.707998248643}. Best is trial 142 with value: 1556780.0.\u001b[0m\n"
     ]
    },
    {
     "name": "stdout",
     "output_type": "stream",
     "text": [
      "callback ok\n",
      "mkdir: cannot create directory ‘79_score’: File exists\n",
      "index_parallel=80\n",
      "mkdir: cannot create directory ‘80_out’: File exists\n",
      "mkdir: cannot create directory ‘80_score’: File exists\n",
      "sed -i 79_answer.cpp -e 's/^\t\tconstexpr double COEF_CENTER_L1 = .*;  \\/\\/ OPTIMIZE \\[-100\\.0, 100\\.0\\]$/\t\tconstexpr double COEF_CENTER_L1 = 78.64377565380536;  \\/\\/ OPTIMIZE [-100.0, 100.0]/' -e 's/^\t\tconstexpr double COEF_CENTER_L1_SQ = .*;  \\/\\/ OPTIMIZE \\[0\\.0, 100\\.0\\]$/\t\tconstexpr double COEF_CENTER_L1_SQ = 1.2934042452227552;  \\/\\/ OPTIMIZE [0.0, 100.0]/' -e 's/^\t\tconstexpr double COEF_POINT = .*;  \\/\\/ OPTIMIZE \\[0\\.0, 100\\.0\\]$/\t\tconstexpr double COEF_POINT = 37.60817784210106;  \\/\\/ OPTIMIZE [0.0, 100.0]/' -e 's/^\t\tconstexpr double COEF_DIST = .*;  \\/\\/ OPTIMIZE \\[0\\.0, 10000\\.0\\]$/\t\tconstexpr double COEF_DIST = 9225.563677570053;  \\/\\/ OPTIMIZE [0.0, 10000.0]/'\n",
      "g++ 79_answer.cpp -std=gnu++17 -O2 -DONLINE_JUDGE -o 79_answer.cpp.out\n"
     ]
    },
    {
     "name": "stderr",
     "output_type": "stream",
     "text": [
      "\u001b[32m[I 2021-04-25 13:21:53,181]\u001b[0m Trial 175 finished with value: 1520312.0 and parameters: {'COEF_CENTER_L1': -0.7747303345639649, 'COEF_CENTER_L1_SQ': 4.535550926379731, 'COEF_POINT': 39.09150984772628, 'COEF_DIST': 7411.96799149471}. Best is trial 142 with value: 1556780.0.\u001b[0m\n",
      "\u001b[32m[I 2021-04-25 13:21:53,190]\u001b[0m Trial 177 finished with value: 1525785.0 and parameters: {'COEF_CENTER_L1': -0.4383430593177797, 'COEF_CENTER_L1_SQ': 4.3577067021170794, 'COEF_POINT': 37.65099395686806, 'COEF_DIST': 7367.361501768082}. Best is trial 142 with value: 1556780.0.\u001b[0m\n"
     ]
    },
    {
     "name": "stdout",
     "output_type": "stream",
     "text": [
      "sed -i 80_answer.cpp -e 's/^\t\tconstexpr double COEF_CENTER_L1 = .*;  \\/\\/ OPTIMIZE \\[-100\\.0, 100\\.0\\]$/\t\tconstexpr double COEF_CENTER_L1 = 78.2574006933859;  \\/\\/ OPTIMIZE [-100.0, 100.0]/' -e 's/^\t\tconstexpr double COEF_CENTER_L1_SQ = .*;  \\/\\/ OPTIMIZE \\[0\\.0, 100\\.0\\]$/\t\tconstexpr double COEF_CENTER_L1_SQ = 1.1311687770381704;  \\/\\/ OPTIMIZE [0.0, 100.0]/' -e 's/^\t\tconstexpr double COEF_POINT = .*;  \\/\\/ OPTIMIZE \\[0\\.0, 100\\.0\\]$/\t\tconstexpr double COEF_POINT = 38.137971091687874;  \\/\\/ OPTIMIZE [0.0, 100.0]/' -e 's/^\t\tconstexpr double COEF_DIST = .*;  \\/\\/ OPTIMIZE \\[0\\.0, 10000\\.0\\]$/\t\tconstexpr double COEF_DIST = 7606.446567127518;  \\/\\/ OPTIMIZE [0.0, 10000.0]/'callback ok\n",
      "\n",
      "callback ok\n",
      "index_parallel=81\n",
      "mkdir: cannot create directory ‘81_out’: File exists\n",
      "index_parallel=82\n",
      "mkdir: cannot create directory ‘82_out’: File exists\n"
     ]
    },
    {
     "name": "stderr",
     "output_type": "stream",
     "text": [
      "\u001b[32m[I 2021-04-25 13:21:53,355]\u001b[0m Trial 176 finished with value: 1504259.0 and parameters: {'COEF_CENTER_L1': 80.33491707344317, 'COEF_CENTER_L1_SQ': 4.669480944517588, 'COEF_POINT': 37.480119094131894, 'COEF_DIST': 9041.115696804663}. Best is trial 142 with value: 1556780.0.\u001b[0m\n"
     ]
    },
    {
     "name": "stdout",
     "output_type": "stream",
     "text": [
      "g++ 80_answer.cpp -std=gnu++17 -O2 -DONLINE_JUDGE -o 80_answer.cpp.out\n",
      "callback ok\n"
     ]
    },
    {
     "name": "stderr",
     "output_type": "stream",
     "text": [
      "\u001b[32m[I 2021-04-25 13:21:53,399]\u001b[0m Trial 178 finished with value: 1415085.0 and parameters: {'COEF_CENTER_L1': 2.1710181408508133, 'COEF_CENTER_L1_SQ': 0.0121378386736688, 'COEF_POINT': 38.63132590810574, 'COEF_DIST': 9031.513756554188}. Best is trial 142 with value: 1556780.0.\u001b[0m\n"
     ]
    },
    {
     "name": "stdout",
     "output_type": "stream",
     "text": [
      "index_parallel=83\n",
      "mkdir: cannot create directory ‘81_score’: File exists\n",
      "mkdir: cannot create directory ‘83_out’: File exists\n",
      "callback ok\n",
      "index_parallel=84\n",
      "mkdir: cannot create directory ‘82_score’: File exists\n",
      "mkdir: cannot create directory ‘84_out’: File exists\n",
      "mkdir: cannot create directory ‘83_score’: File exists\n",
      "mkdir: cannot create directory ‘84_score’: File exists\n",
      "sed -i 81_answer.cpp -e 's/^\t\tconstexpr double COEF_CENTER_L1 = .*;  \\/\\/ OPTIMIZE \\[-100\\.0, 100\\.0\\]$/\t\tconstexpr double COEF_CENTER_L1 = 74.56845072555163;  \\/\\/ OPTIMIZE [-100.0, 100.0]/' -e 's/^\t\tconstexpr double COEF_CENTER_L1_SQ = .*;  \\/\\/ OPTIMIZE \\[0\\.0, 100\\.0\\]$/\t\tconstexpr double COEF_CENTER_L1_SQ = 1.2878699481335312;  \\/\\/ OPTIMIZE [0.0, 100.0]/' -e 's/^\t\tconstexpr double COEF_POINT = .*;  \\/\\/ OPTIMIZE \\[0\\.0, 100\\.0\\]$/\t\tconstexpr double COEF_POINT = 34.50607630902381;  \\/\\/ OPTIMIZE [0.0, 100.0]/' -e 's/^\t\tconstexpr double COEF_DIST = .*;  \\/\\/ OPTIMIZE \\[0\\.0, 10000\\.0\\]$/\t\tconstexpr double COEF_DIST = 7633.745619279516;  \\/\\/ OPTIMIZE [0.0, 10000.0]/'\n",
      "sed -i 82_answer.cpp -e 's/^\t\tconstexpr double COEF_CENTER_L1 = .*;  \\/\\/ OPTIMIZE \\[-100\\.0, 100\\.0\\]$/\t\tconstexpr double COEF_CENTER_L1 = 77.77999583294113;  \\/\\/ OPTIMIZE [-100.0, 100.0]/' -e 's/^\t\tconstexpr double COEF_CENTER_L1_SQ = .*;  \\/\\/ OPTIMIZE \\[0\\.0, 100\\.0\\]$/\t\tconstexpr double COEF_CENTER_L1_SQ = 6.133794823504109;  \\/\\/ OPTIMIZE [0.0, 100.0]/' -e 's/^\t\tconstexpr double COEF_POINT = .*;  \\/\\/ OPTIMIZE \\[0\\.0, 100\\.0\\]$/\t\tconstexpr double COEF_POINT = 34.78362929931893;  \\/\\/ OPTIMIZE [0.0, 100.0]/' -e 's/^\t\tconstexpr double COEF_DIST = .*;  \\/\\/ OPTIMIZE \\[0\\.0, 10000\\.0\\]$/\t\tconstexpr double COEF_DIST = 7605.624299264852;  \\/\\/ OPTIMIZE [0.0, 10000.0]/'\n",
      "g++ 81_answer.cpp -std=gnu++17 -O2 -DONLINE_JUDGE -o 81_answer.cpp.out\n",
      "g++ 82_answer.cpp -std=gnu++17 -O2 -DONLINE_JUDGE -o 82_answer.cpp.out\n",
      "sed -i 83_answer.cpp -e 's/^\t\tconstexpr double COEF_CENTER_L1 = .*;  \\/\\/ OPTIMIZE \\[-100\\.0, 100\\.0\\]$/\t\tconstexpr double COEF_CENTER_L1 = -2.3488821726084543;  \\/\\/ OPTIMIZE [-100.0, 100.0]/' -e 's/^\t\tconstexpr double COEF_CENTER_L1_SQ = .*;  \\/\\/ OPTIMIZE \\[0\\.0, 100\\.0\\]$/\t\tconstexpr double COEF_CENTER_L1_SQ = 1.3241303426664275;  \\/\\/ OPTIMIZE [0.0, 100.0]/' -e 's/^\t\tconstexpr double COEF_POINT = .*;  \\/\\/ OPTIMIZE \\[0\\.0, 100\\.0\\]$/\t\tconstexpr double COEF_POINT = 3.0344793511694217;  \\/\\/ OPTIMIZE [0.0, 100.0]/' -e 's/^\t\tconstexpr double COEF_DIST = .*;  \\/\\/ OPTIMIZE \\[0\\.0, 10000\\.0\\]$/\t\tconstexpr double COEF_DIST = 7627.5095032755235;  \\/\\/ OPTIMIZE [0.0, 10000.0]/'\n",
      "sed -i 84_answer.cpp -e 's/^\t\tconstexpr double COEF_CENTER_L1 = .*;  \\/\\/ OPTIMIZE \\[-100\\.0, 100\\.0\\]$/\t\tconstexpr double COEF_CENTER_L1 = -1.814713825919654;  \\/\\/ OPTIMIZE [-100.0, 100.0]/' -e 's/^\t\tconstexpr double COEF_CENTER_L1_SQ = .*;  \\/\\/ OPTIMIZE \\[0\\.0, 100\\.0\\]$/\t\tconstexpr double COEF_CENTER_L1_SQ = 1.2195148793132764;  \\/\\/ OPTIMIZE [0.0, 100.0]/' -e 's/^\t\tconstexpr double COEF_POINT = .*;  \\/\\/ OPTIMIZE \\[0\\.0, 100\\.0\\]$/\t\tconstexpr double COEF_POINT = 34.87080264552069;  \\/\\/ OPTIMIZE [0.0, 100.0]/' -e 's/^\t\tconstexpr double COEF_DIST = .*;  \\/\\/ OPTIMIZE \\[0\\.0, 10000\\.0\\]$/\t\tconstexpr double COEF_DIST = 7189.881526950431;  \\/\\/ OPTIMIZE [0.0, 10000.0]/'\n",
      "g++ 83_answer.cpp -std=gnu++17 -O2 -DONLINE_JUDGE -o 83_answer.cpp.out\n",
      "g++ 84_answer.cpp -std=gnu++17 -O2 -DONLINE_JUDGE -o 84_answer.cpp.out\n"
     ]
    },
    {
     "name": "stderr",
     "output_type": "stream",
     "text": [
      "\u001b[32m[I 2021-04-25 13:22:02,549]\u001b[0m Trial 179 finished with value: 1475299.0 and parameters: {'COEF_CENTER_L1': 78.64377565380536, 'COEF_CENTER_L1_SQ': 1.2934042452227552, 'COEF_POINT': 37.60817784210106, 'COEF_DIST': 9225.563677570053}. Best is trial 142 with value: 1556780.0.\u001b[0m\n"
     ]
    },
    {
     "name": "stdout",
     "output_type": "stream",
     "text": [
      "callback ok\n",
      "index_parallel=85\n",
      "mkdir: cannot create directory ‘85_out’: File exists\n"
     ]
    },
    {
     "name": "stderr",
     "output_type": "stream",
     "text": [
      "\u001b[32m[I 2021-04-25 13:22:02,699]\u001b[0m Trial 180 finished with value: 1489451.0 and parameters: {'COEF_CENTER_L1': 78.2574006933859, 'COEF_CENTER_L1_SQ': 1.1311687770381704, 'COEF_POINT': 38.137971091687874, 'COEF_DIST': 7606.446567127518}. Best is trial 142 with value: 1556780.0.\u001b[0m\n"
     ]
    },
    {
     "name": "stdout",
     "output_type": "stream",
     "text": [
      "callback ok\n",
      "mkdir: cannot create directory ‘85_score’: File exists\n",
      "index_parallel=86\n",
      "mkdir: cannot create directory ‘86_out’: File exists\n",
      "mkdir: cannot create directory ‘86_score’: File exists\n",
      "sed -i 85_answer.cpp -e 's/^\t\tconstexpr double COEF_CENTER_L1 = .*;  \\/\\/ OPTIMIZE \\[-100\\.0, 100\\.0\\]$/\t\tconstexpr double COEF_CENTER_L1 = -0.7519190051358631;  \\/\\/ OPTIMIZE [-100.0, 100.0]/' -e 's/^\t\tconstexpr double COEF_CENTER_L1_SQ = .*;  \\/\\/ OPTIMIZE \\[0\\.0, 100\\.0\\]$/\t\tconstexpr double COEF_CENTER_L1_SQ = 6.216135737647295;  \\/\\/ OPTIMIZE [0.0, 100.0]/' -e 's/^\t\tconstexpr double COEF_POINT = .*;  \\/\\/ OPTIMIZE \\[0\\.0, 100\\.0\\]$/\t\tconstexpr double COEF_POINT = 34.678946514322334;  \\/\\/ OPTIMIZE [0.0, 100.0]/' -e 's/^\t\tconstexpr double COEF_DIST = .*;  \\/\\/ OPTIMIZE \\[0\\.0, 10000\\.0\\]$/\t\tconstexpr double COEF_DIST = 7948.458968672505;  \\/\\/ OPTIMIZE [0.0, 10000.0]/'\n",
      "g++ 85_answer.cpp -std=gnu++17 -O2 -DONLINE_JUDGE -o 85_answer.cpp.out\n"
     ]
    },
    {
     "name": "stderr",
     "output_type": "stream",
     "text": [
      "\u001b[32m[I 2021-04-25 13:22:04,925]\u001b[0m Trial 182 finished with value: 1441683.0 and parameters: {'COEF_CENTER_L1': 77.77999583294113, 'COEF_CENTER_L1_SQ': 6.133794823504109, 'COEF_POINT': 34.78362929931893, 'COEF_DIST': 7605.624299264852}. Best is trial 142 with value: 1556780.0.\u001b[0m\n"
     ]
    },
    {
     "name": "stdout",
     "output_type": "stream",
     "text": [
      "sed -i 86_answer.cpp -e 's/^\t\tconstexpr double COEF_CENTER_L1 = .*;  \\/\\/ OPTIMIZE \\[-100\\.0, 100\\.0\\]$/\t\tconstexpr double COEF_CENTER_L1 = -2.491324871262583;  \\/\\/ OPTIMIZE [-100.0, 100.0]/' -e 's/^\t\tconstexpr double COEF_CENTER_L1_SQ = .*;  \\/\\/ OPTIMIZE \\[0\\.0, 100\\.0\\]$/\t\tconstexpr double COEF_CENTER_L1_SQ = 6.011682154623494;  \\/\\/ OPTIMIZE [0.0, 100.0]/' -e 's/^\t\tconstexpr double COEF_POINT = .*;  \\/\\/ OPTIMIZE \\[0\\.0, 100\\.0\\]$/\t\tconstexpr double COEF_POINT = 41.86241014151423;  \\/\\/ OPTIMIZE [0.0, 100.0]/' -e 's/^\t\tconstexpr double COEF_DIST = .*;  \\/\\/ OPTIMIZE \\[0\\.0, 10000\\.0\\]$/\t\tconstexpr double COEF_DIST = 7119.330096059874;  \\/\\/ OPTIMIZE [0.0, 10000.0]/'\n"
     ]
    },
    {
     "name": "stderr",
     "output_type": "stream",
     "text": [
      "\u001b[32m[I 2021-04-25 13:22:04,989]\u001b[0m Trial 184 finished with value: 1529545.0 and parameters: {'COEF_CENTER_L1': -1.814713825919654, 'COEF_CENTER_L1_SQ': 1.2195148793132764, 'COEF_POINT': 34.87080264552069, 'COEF_DIST': 7189.881526950431}. Best is trial 142 with value: 1556780.0.\u001b[0m\n",
      "\u001b[32m[I 2021-04-25 13:22:05,002]\u001b[0m Trial 181 finished with value: 1502453.0 and parameters: {'COEF_CENTER_L1': 74.56845072555163, 'COEF_CENTER_L1_SQ': 1.2878699481335312, 'COEF_POINT': 34.50607630902381, 'COEF_DIST': 7633.745619279516}. Best is trial 142 with value: 1556780.0.\u001b[0m\n"
     ]
    },
    {
     "name": "stdout",
     "output_type": "stream",
     "text": [
      "callback ok\n",
      "callback ok\n",
      "callback ok\n",
      "index_parallel=87\n",
      "index_parallel=88\n",
      "g++ 86_answer.cpp -std=gnu++17 -O2 -DONLINE_JUDGE -o 86_answer.cpp.out\n",
      "mkdir: cannot create directory ‘88_out’: File exists\n",
      "mkdir: cannot create directory ‘87_out’: File exists\n",
      "index_parallel=89\n",
      "mkdir: cannot create directory ‘89_out’: File exists\n"
     ]
    },
    {
     "name": "stderr",
     "output_type": "stream",
     "text": [
      "\u001b[32m[I 2021-04-25 13:22:05,129]\u001b[0m Trial 183 finished with value: 1481378.0 and parameters: {'COEF_CENTER_L1': -2.3488821726084543, 'COEF_CENTER_L1_SQ': 1.3241303426664275, 'COEF_POINT': 3.0344793511694217, 'COEF_DIST': 7627.5095032755235}. Best is trial 142 with value: 1556780.0.\u001b[0m\n"
     ]
    },
    {
     "name": "stdout",
     "output_type": "stream",
     "text": [
      "callback ok\n",
      "index_parallel=90\n",
      "mkdir: cannot create directory ‘90_out’: File exists\n",
      "mkdir: cannot create directory ‘88_score’: File exists\n",
      "mkdir: cannot create directory ‘87_score’: File exists\n",
      "mkdir: cannot create directory ‘89_score’: File exists\n",
      "mkdir: cannot create directory ‘90_score’: File exists\n",
      "sed -i 87_answer.cpp -e 's/^\t\tconstexpr double COEF_CENTER_L1 = .*;  \\/\\/ OPTIMIZE \\[-100\\.0, 100\\.0\\]$/\t\tconstexpr double COEF_CENTER_L1 = 7.896203488319129;  \\/\\/ OPTIMIZE [-100.0, 100.0]/' -e 's/^\t\tconstexpr double COEF_CENTER_L1_SQ = .*;  \\/\\/ OPTIMIZE \\[0\\.0, 100\\.0\\]$/\t\tconstexpr double COEF_CENTER_L1_SQ = 4.104675509460552;  \\/\\/ OPTIMIZE [0.0, 100.0]/' -e 's/^\t\tconstexpr double COEF_POINT = .*;  \\/\\/ OPTIMIZE \\[0\\.0, 100\\.0\\]$/\t\tconstexpr double COEF_POINT = 40.51231898085373;  \\/\\/ OPTIMIZE [0.0, 100.0]/' -e 's/^\t\tconstexpr double COEF_DIST = .*;  \\/\\/ OPTIMIZE \\[0\\.0, 10000\\.0\\]$/\t\tconstexpr double COEF_DIST = 7180.559152380823;  \\/\\/ OPTIMIZE [0.0, 10000.0]/'\n",
      "sed -i 89_answer.cpp -e 's/^\t\tconstexpr double COEF_CENTER_L1 = .*;  \\/\\/ OPTIMIZE \\[-100\\.0, 100\\.0\\]$/\t\tconstexpr double COEF_CENTER_L1 = -0.8200681046666594;  \\/\\/ OPTIMIZE [-100.0, 100.0]/' -e 's/^\t\tconstexpr double COEF_CENTER_L1_SQ = .*;  \\/\\/ OPTIMIZE \\[0\\.0, 100\\.0\\]$/\t\tconstexpr double COEF_CENTER_L1_SQ = 3.815773161213083;  \\/\\/ OPTIMIZE [0.0, 100.0]/' -e 's/^\t\tconstexpr double COEF_POINT = .*;  \\/\\/ OPTIMIZE \\[0\\.0, 100\\.0\\]$/\t\tconstexpr double COEF_POINT = 32.611843301273865;  \\/\\/ OPTIMIZE [0.0, 100.0]/' -e 's/^\t\tconstexpr double COEF_DIST = .*;  \\/\\/ OPTIMIZE \\[0\\.0, 10000\\.0\\]$/\t\tconstexpr double COEF_DIST = 7146.74699499543;  \\/\\/ OPTIMIZE [0.0, 10000.0]/'\n",
      "g++ 87_answer.cpp -std=gnu++17 -O2 -DONLINE_JUDGE -o 87_answer.cpp.out\n",
      "sed -i 88_answer.cpp -e 's/^\t\tconstexpr double COEF_CENTER_L1 = .*;  \\/\\/ OPTIMIZE \\[-100\\.0, 100\\.0\\]$/\t\tconstexpr double COEF_CENTER_L1 = 7.653843741700684;  \\/\\/ OPTIMIZE [-100.0, 100.0]/' -e 's/^\t\tconstexpr double COEF_CENTER_L1_SQ = .*;  \\/\\/ OPTIMIZE \\[0\\.0, 100\\.0\\]$/\t\tconstexpr double COEF_CENTER_L1_SQ = 3.8505405791491722;  \\/\\/ OPTIMIZE [0.0, 100.0]/' -e 's/^\t\tconstexpr double COEF_POINT = .*;  \\/\\/ OPTIMIZE \\[0\\.0, 100\\.0\\]$/\t\tconstexpr double COEF_POINT = 41.601224338678506;  \\/\\/ OPTIMIZE [0.0, 100.0]/' -e 's/^\t\tconstexpr double COEF_DIST = .*;  \\/\\/ OPTIMIZE \\[0\\.0, 10000\\.0\\]$/\t\tconstexpr double COEF_DIST = 7167.142986217867;  \\/\\/ OPTIMIZE [0.0, 10000.0]/'\n",
      "sed -i 90_answer.cpp -e 's/^\t\tconstexpr double COEF_CENTER_L1 = .*;  \\/\\/ OPTIMIZE \\[-100\\.0, 100\\.0\\]$/\t\tconstexpr double COEF_CENTER_L1 = -0.7614306307376666;  \\/\\/ OPTIMIZE [-100.0, 100.0]/' -e 's/^\t\tconstexpr double COEF_CENTER_L1_SQ = .*;  \\/\\/ OPTIMIZE \\[0\\.0, 100\\.0\\]$/\t\tconstexpr double COEF_CENTER_L1_SQ = 4.682801526238619;  \\/\\/ OPTIMIZE [0.0, 100.0]/' -e 's/^\t\tconstexpr double COEF_POINT = .*;  \\/\\/ OPTIMIZE \\[0\\.0, 100\\.0\\]$/\t\tconstexpr double COEF_POINT = 42.603138814529565;  \\/\\/ OPTIMIZE [0.0, 100.0]/' -e 's/^\t\tconstexpr double COEF_DIST = .*;  \\/\\/ OPTIMIZE \\[0\\.0, 10000\\.0\\]$/\t\tconstexpr double COEF_DIST = 7229.981181139473;  \\/\\/ OPTIMIZE [0.0, 10000.0]/'\n",
      "g++ 89_answer.cpp -std=gnu++17 -O2 -DONLINE_JUDGE -o 89_answer.cpp.out\n",
      "g++ 88_answer.cpp -std=gnu++17 -O2 -DONLINE_JUDGE -o 88_answer.cpp.out\n",
      "g++ 90_answer.cpp -std=gnu++17 -O2 -DONLINE_JUDGE -o 90_answer.cpp.out\n"
     ]
    },
    {
     "name": "stderr",
     "output_type": "stream",
     "text": [
      "\u001b[32m[I 2021-04-25 13:22:13,801]\u001b[0m Trial 185 finished with value: 1482246.0 and parameters: {'COEF_CENTER_L1': -0.7519190051358631, 'COEF_CENTER_L1_SQ': 6.216135737647295, 'COEF_POINT': 34.678946514322334, 'COEF_DIST': 7948.458968672505}. Best is trial 142 with value: 1556780.0.\u001b[0m\n"
     ]
    },
    {
     "name": "stdout",
     "output_type": "stream",
     "text": [
      "callback ok\n",
      "index_parallel=91\n",
      "mkdir: cannot create directory ‘91_out’: File exists\n",
      "mkdir: cannot create directory ‘91_score’: File exists\n"
     ]
    },
    {
     "name": "stderr",
     "output_type": "stream",
     "text": [
      "\u001b[32m[I 2021-04-25 13:22:14,476]\u001b[0m Trial 186 finished with value: 1475654.0 and parameters: {'COEF_CENTER_L1': -2.491324871262583, 'COEF_CENTER_L1_SQ': 6.011682154623494, 'COEF_POINT': 41.86241014151423, 'COEF_DIST': 7119.330096059874}. Best is trial 142 with value: 1556780.0.\u001b[0m\n"
     ]
    },
    {
     "name": "stdout",
     "output_type": "stream",
     "text": [
      "callback ok\n",
      "index_parallel=92\n",
      "mkdir: cannot create directory ‘92_out’: File exists\n",
      "mkdir: cannot create directory ‘92_score’: File exists\n",
      "sed -i 91_answer.cpp -e 's/^\t\tconstexpr double COEF_CENTER_L1 = .*;  \\/\\/ OPTIMIZE \\[-100\\.0, 100\\.0\\]$/\t\tconstexpr double COEF_CENTER_L1 = 9.36078586849743;  \\/\\/ OPTIMIZE [-100.0, 100.0]/' -e 's/^\t\tconstexpr double COEF_CENTER_L1_SQ = .*;  \\/\\/ OPTIMIZE \\[0\\.0, 100\\.0\\]$/\t\tconstexpr double COEF_CENTER_L1_SQ = 3.7333876181388757;  \\/\\/ OPTIMIZE [0.0, 100.0]/' -e 's/^\t\tconstexpr double COEF_POINT = .*;  \\/\\/ OPTIMIZE \\[0\\.0, 100\\.0\\]$/\t\tconstexpr double COEF_POINT = 32.39539373277603;  \\/\\/ OPTIMIZE [0.0, 100.0]/' -e 's/^\t\tconstexpr double COEF_DIST = .*;  \\/\\/ OPTIMIZE \\[0\\.0, 10000\\.0\\]$/\t\tconstexpr double COEF_DIST = 7209.419129932185;  \\/\\/ OPTIMIZE [0.0, 10000.0]/'\n",
      "g++ 91_answer.cpp -std=gnu++17 -O2 -DONLINE_JUDGE -o 91_answer.cpp.out\n",
      "sed -i 92_answer.cpp -e 's/^\t\tconstexpr double COEF_CENTER_L1 = .*;  \\/\\/ OPTIMIZE \\[-100\\.0, 100\\.0\\]$/\t\tconstexpr double COEF_CENTER_L1 = -20.02768836323749;  \\/\\/ OPTIMIZE [-100.0, 100.0]/' -e 's/^\t\tconstexpr double COEF_CENTER_L1_SQ = .*;  \\/\\/ OPTIMIZE \\[0\\.0, 100\\.0\\]$/\t\tconstexpr double COEF_CENTER_L1_SQ = 3.621979831628174;  \\/\\/ OPTIMIZE [0.0, 100.0]/' -e 's/^\t\tconstexpr double COEF_POINT = .*;  \\/\\/ OPTIMIZE \\[0\\.0, 100\\.0\\]$/\t\tconstexpr double COEF_POINT = 31.906777654467696;  \\/\\/ OPTIMIZE [0.0, 100.0]/' -e 's/^\t\tconstexpr double COEF_DIST = .*;  \\/\\/ OPTIMIZE \\[0\\.0, 10000\\.0\\]$/\t\tconstexpr double COEF_DIST = 7195.575063454297;  \\/\\/ OPTIMIZE [0.0, 10000.0]/'\n",
      "g++ 92_answer.cpp -std=gnu++17 -O2 -DONLINE_JUDGE -o 92_answer.cpp.out\n"
     ]
    },
    {
     "name": "stderr",
     "output_type": "stream",
     "text": [
      "\u001b[32m[I 2021-04-25 13:22:16,629]\u001b[0m Trial 188 finished with value: 1512202.0 and parameters: {'COEF_CENTER_L1': 7.653843741700684, 'COEF_CENTER_L1_SQ': 3.8505405791491722, 'COEF_POINT': 41.601224338678506, 'COEF_DIST': 7167.142986217867}. Best is trial 142 with value: 1556780.0.\u001b[0m\n",
      "\u001b[32m[I 2021-04-25 13:22:16,644]\u001b[0m Trial 187 finished with value: 1528507.0 and parameters: {'COEF_CENTER_L1': 7.896203488319129, 'COEF_CENTER_L1_SQ': 4.104675509460552, 'COEF_POINT': 40.51231898085373, 'COEF_DIST': 7180.559152380823}. Best is trial 142 with value: 1556780.0.\u001b[0m\n",
      "\u001b[32m[I 2021-04-25 13:22:16,650]\u001b[0m Trial 190 finished with value: 1495559.0 and parameters: {'COEF_CENTER_L1': -0.7614306307376666, 'COEF_CENTER_L1_SQ': 4.682801526238619, 'COEF_POINT': 42.603138814529565, 'COEF_DIST': 7229.981181139473}. Best is trial 142 with value: 1556780.0.\u001b[0m\n",
      "\u001b[32m[I 2021-04-25 13:22:16,664]\u001b[0m Trial 189 finished with value: 1515496.0 and parameters: {'COEF_CENTER_L1': -0.8200681046666594, 'COEF_CENTER_L1_SQ': 3.815773161213083, 'COEF_POINT': 32.611843301273865, 'COEF_DIST': 7146.74699499543}. Best is trial 142 with value: 1556780.0.\u001b[0m\n"
     ]
    },
    {
     "name": "stdout",
     "output_type": "stream",
     "text": [
      "callback ok\n",
      "callback ok\n",
      "callback ok\n",
      "callback ok\n",
      "index_parallel=93index_parallel=95\n",
      "index_parallel=94\n",
      "\n",
      "mkdir: cannot create directory ‘94_out’: File exists\n",
      "index_parallel=96\n",
      "mkdir: cannot create directory ‘95_out’: File exists\n",
      "mkdir: cannot create directory ‘93_out’: File exists\n",
      "mkdir: cannot create directory ‘96_out’: File exists\n",
      "mkdir: cannot create directory ‘94_score’: File exists\n",
      "mkdir: cannot create directory ‘93_score’: File exists\n",
      "mkdir: cannot create directory ‘95_score’: File exists\n",
      "mkdir: cannot create directory ‘96_score’: File exists\n",
      "sed -i 94_answer.cpp -e 's/^\t\tconstexpr double COEF_CENTER_L1 = .*;  \\/\\/ OPTIMIZE \\[-100\\.0, 100\\.0\\]$/\t\tconstexpr double COEF_CENTER_L1 = -19.475495116326947;  \\/\\/ OPTIMIZE [-100.0, 100.0]/' -e 's/^\t\tconstexpr double COEF_CENTER_L1_SQ = .*;  \\/\\/ OPTIMIZE \\[0\\.0, 100\\.0\\]$/\t\tconstexpr double COEF_CENTER_L1_SQ = 11.312267605763875;  \\/\\/ OPTIMIZE [0.0, 100.0]/' -e 's/^\t\tconstexpr double COEF_POINT = .*;  \\/\\/ OPTIMIZE \\[0\\.0, 100\\.0\\]$/\t\tconstexpr double COEF_POINT = 32.51095186774746;  \\/\\/ OPTIMIZE [0.0, 100.0]/' -e 's/^\t\tconstexpr double COEF_DIST = .*;  \\/\\/ OPTIMIZE \\[0\\.0, 10000\\.0\\]$/\t\tconstexpr double COEF_DIST = 6732.732823288257;  \\/\\/ OPTIMIZE [0.0, 10000.0]/'\n",
      "g++ 94_answer.cpp -std=gnu++17 -O2 -DONLINE_JUDGE -o 94_answer.cpp.out\n",
      "sed -i 96_answer.cpp -e 's/^\t\tconstexpr double COEF_CENTER_L1 = .*;  \\/\\/ OPTIMIZE \\[-100\\.0, 100\\.0\\]$/\t\tconstexpr double COEF_CENTER_L1 = -8.393024416507988;  \\/\\/ OPTIMIZE [-100.0, 100.0]/' -e 's/^\t\tconstexpr double COEF_CENTER_L1_SQ = .*;  \\/\\/ OPTIMIZE \\[0\\.0, 100\\.0\\]$/\t\tconstexpr double COEF_CENTER_L1_SQ = 3.8371605591642757;  \\/\\/ OPTIMIZE [0.0, 100.0]/' -e 's/^\t\tconstexpr double COEF_POINT = .*;  \\/\\/ OPTIMIZE \\[0\\.0, 100\\.0\\]$/\t\tconstexpr double COEF_POINT = 37.091041414277235;  \\/\\/ OPTIMIZE [0.0, 100.0]/' -e 's/^\t\tconstexpr double COEF_DIST = .*;  \\/\\/ OPTIMIZE \\[0\\.0, 10000\\.0\\]$/\t\tconstexpr double COEF_DIST = 6676.80726846873;  \\/\\/ OPTIMIZE [0.0, 10000.0]/'\n",
      "g++ 96_answer.cpp -std=gnu++17 -O2 -DONLINE_JUDGE -o 96_answer.cpp.outsed -i 93_answer.cpp -e 's/^\t\tconstexpr double COEF_CENTER_L1 = .*;  \\/\\/ OPTIMIZE \\[-100\\.0, 100\\.0\\]$/\t\tconstexpr double COEF_CENTER_L1 = -7.2253587456669965;  \\/\\/ OPTIMIZE [-100.0, 100.0]/' -e 's/^\t\tconstexpr double COEF_CENTER_L1_SQ = .*;  \\/\\/ OPTIMIZE \\[0\\.0, 100\\.0\\]$/\t\tconstexpr double COEF_CENTER_L1_SQ = 11.402545908394965;  \\/\\/ OPTIMIZE [0.0, 100.0]/' -e 's/^\t\tconstexpr double COEF_POINT = .*;  \\/\\/ OPTIMIZE \\[0\\.0, 100\\.0\\]$/\t\tconstexpr double COEF_POINT = 32.593589575832794;  \\/\\/ OPTIMIZE [0.0, 100.0]/' -e 's/^\t\tconstexpr double COEF_DIST = .*;  \\/\\/ OPTIMIZE \\[0\\.0, 10000\\.0\\]$/\t\tconstexpr double COEF_DIST = 6701.836423637086;  \\/\\/ OPTIMIZE [0.0, 10000.0]/'\n",
      "\n",
      "g++ 93_answer.cpp -std=gnu++17 -O2 -DONLINE_JUDGE -o 93_answer.cpp.out\n",
      "sed -i 95_answer.cpp -e 's/^\t\tconstexpr double COEF_CENTER_L1 = .*;  \\/\\/ OPTIMIZE \\[-100\\.0, 100\\.0\\]$/\t\tconstexpr double COEF_CENTER_L1 = -10.900797299791634;  \\/\\/ OPTIMIZE [-100.0, 100.0]/' -e 's/^\t\tconstexpr double COEF_CENTER_L1_SQ = .*;  \\/\\/ OPTIMIZE \\[0\\.0, 100\\.0\\]$/\t\tconstexpr double COEF_CENTER_L1_SQ = 3.3626579744520453;  \\/\\/ OPTIMIZE [0.0, 100.0]/' -e 's/^\t\tconstexpr double COEF_POINT = .*;  \\/\\/ OPTIMIZE \\[0\\.0, 100\\.0\\]$/\t\tconstexpr double COEF_POINT = 36.93128606130552;  \\/\\/ OPTIMIZE [0.0, 100.0]/' -e 's/^\t\tconstexpr double COEF_DIST = .*;  \\/\\/ OPTIMIZE \\[0\\.0, 10000\\.0\\]$/\t\tconstexpr double COEF_DIST = 7389.334641001445;  \\/\\/ OPTIMIZE [0.0, 10000.0]/'\n",
      "g++ 95_answer.cpp -std=gnu++17 -O2 -DONLINE_JUDGE -o 95_answer.cpp.out\n"
     ]
    },
    {
     "name": "stderr",
     "output_type": "stream",
     "text": [
      "\u001b[32m[I 2021-04-25 13:22:24,965]\u001b[0m Trial 191 finished with value: 1521208.0 and parameters: {'COEF_CENTER_L1': 9.36078586849743, 'COEF_CENTER_L1_SQ': 3.7333876181388757, 'COEF_POINT': 32.39539373277603, 'COEF_DIST': 7209.419129932185}. Best is trial 142 with value: 1556780.0.\u001b[0m\n"
     ]
    },
    {
     "name": "stdout",
     "output_type": "stream",
     "text": [
      "callback ok\n",
      "index_parallel=97\n",
      "mkdir: cannot create directory ‘97_out’: File exists\n",
      "mkdir: cannot create directory ‘97_score’: File exists\n"
     ]
    },
    {
     "name": "stderr",
     "output_type": "stream",
     "text": [
      "\u001b[32m[I 2021-04-25 13:22:25,553]\u001b[0m Trial 192 finished with value: 1497863.0 and parameters: {'COEF_CENTER_L1': -20.02768836323749, 'COEF_CENTER_L1_SQ': 3.621979831628174, 'COEF_POINT': 31.906777654467696, 'COEF_DIST': 7195.575063454297}. Best is trial 142 with value: 1556780.0.\u001b[0m\n"
     ]
    },
    {
     "name": "stdout",
     "output_type": "stream",
     "text": [
      "callback ok\n",
      "index_parallel=98\n",
      "mkdir: cannot create directory ‘98_out’: File exists\n",
      "mkdir: cannot create directory ‘98_score’: File exists\n",
      "sed -i 97_answer.cpp -e 's/^\t\tconstexpr double COEF_CENTER_L1 = .*;  \\/\\/ OPTIMIZE \\[-100\\.0, 100\\.0\\]$/\t\tconstexpr double COEF_CENTER_L1 = 9.74028989703707;  \\/\\/ OPTIMIZE [-100.0, 100.0]/' -e 's/^\t\tconstexpr double COEF_CENTER_L1_SQ = .*;  \\/\\/ OPTIMIZE \\[0\\.0, 100\\.0\\]$/\t\tconstexpr double COEF_CENTER_L1_SQ = 11.535099452640136;  \\/\\/ OPTIMIZE [0.0, 100.0]/' -e 's/^\t\tconstexpr double COEF_POINT = .*;  \\/\\/ OPTIMIZE \\[0\\.0, 100\\.0\\]$/\t\tconstexpr double COEF_POINT = 37.29986299802339;  \\/\\/ OPTIMIZE [0.0, 100.0]/' -e 's/^\t\tconstexpr double COEF_DIST = .*;  \\/\\/ OPTIMIZE \\[0\\.0, 10000\\.0\\]$/\t\tconstexpr double COEF_DIST = 7065.178484151533;  \\/\\/ OPTIMIZE [0.0, 10000.0]/'\n",
      "g++ 97_answer.cpp -std=gnu++17 -O2 -DONLINE_JUDGE -o 97_answer.cpp.out\n",
      "sed -i 98_answer.cpp -e 's/^\t\tconstexpr double COEF_CENTER_L1 = .*;  \\/\\/ OPTIMIZE \\[-100\\.0, 100\\.0\\]$/\t\tconstexpr double COEF_CENTER_L1 = -9.041473977183813;  \\/\\/ OPTIMIZE [-100.0, 100.0]/' -e 's/^\t\tconstexpr double COEF_CENTER_L1_SQ = .*;  \\/\\/ OPTIMIZE \\[0\\.0, 100\\.0\\]$/\t\tconstexpr double COEF_CENTER_L1_SQ = 7.241683593622138;  \\/\\/ OPTIMIZE [0.0, 100.0]/' -e 's/^\t\tconstexpr double COEF_POINT = .*;  \\/\\/ OPTIMIZE \\[0\\.0, 100\\.0\\]$/\t\tconstexpr double COEF_POINT = 39.188449251860156;  \\/\\/ OPTIMIZE [0.0, 100.0]/' -e 's/^\t\tconstexpr double COEF_DIST = .*;  \\/\\/ OPTIMIZE \\[0\\.0, 10000\\.0\\]$/\t\tconstexpr double COEF_DIST = 6817.794759113122;  \\/\\/ OPTIMIZE [0.0, 10000.0]/'\n",
      "g++ 98_answer.cpp -std=gnu++17 -O2 -DONLINE_JUDGE -o 98_answer.cpp.out\n"
     ]
    },
    {
     "name": "stderr",
     "output_type": "stream",
     "text": [
      "\u001b[32m[I 2021-04-25 13:22:27,957]\u001b[0m Trial 194 finished with value: 1290222.0 and parameters: {'COEF_CENTER_L1': -19.475495116326947, 'COEF_CENTER_L1_SQ': 11.312267605763875, 'COEF_POINT': 32.51095186774746, 'COEF_DIST': 6732.732823288257}. Best is trial 142 with value: 1556780.0.\u001b[0m\n"
     ]
    },
    {
     "name": "stdout",
     "output_type": "stream",
     "text": [
      "callback ok\n",
      "index_parallel=99\n",
      "mkdir: cannot create directory ‘99_out’: File exists\n"
     ]
    },
    {
     "name": "stderr",
     "output_type": "stream",
     "text": [
      "\u001b[32m[I 2021-04-25 13:22:28,256]\u001b[0m Trial 196 finished with value: 1518354.0 and parameters: {'COEF_CENTER_L1': -8.393024416507988, 'COEF_CENTER_L1_SQ': 3.8371605591642757, 'COEF_POINT': 37.091041414277235, 'COEF_DIST': 6676.80726846873}. Best is trial 142 with value: 1556780.0.\u001b[0m\n",
      "\u001b[32m[I 2021-04-25 13:22:28,272]\u001b[0m Trial 193 finished with value: 1282159.0 and parameters: {'COEF_CENTER_L1': -7.2253587456669965, 'COEF_CENTER_L1_SQ': 11.402545908394965, 'COEF_POINT': 32.593589575832794, 'COEF_DIST': 6701.836423637086}. Best is trial 142 with value: 1556780.0.\u001b[0m\n"
     ]
    },
    {
     "name": "stdout",
     "output_type": "stream",
     "text": [
      "callback okcallback ok\n",
      "\n",
      "index_parallel=0\n",
      "mkdir: cannot create directory ‘0_out’: File exists\n",
      "mkdir: cannot create directory ‘99_score’: File exists\n",
      "index_parallel=1\n",
      "mkdir: cannot create directory ‘1_out’: File exists\n"
     ]
    },
    {
     "name": "stderr",
     "output_type": "stream",
     "text": [
      "\u001b[32m[I 2021-04-25 13:22:28,392]\u001b[0m Trial 195 finished with value: 1523987.0 and parameters: {'COEF_CENTER_L1': -10.900797299791634, 'COEF_CENTER_L1_SQ': 3.3626579744520453, 'COEF_POINT': 36.93128606130552, 'COEF_DIST': 7389.334641001445}. Best is trial 142 with value: 1556780.0.\u001b[0m\n"
     ]
    },
    {
     "name": "stdout",
     "output_type": "stream",
     "text": [
      "callback ok\n",
      "index_parallel=2\n",
      "mkdir: cannot create directory ‘2_out’: File exists\n",
      "mkdir: cannot create directory ‘0_score’: File exists\n",
      "mkdir: cannot create directory ‘1_score’: File exists\n",
      "mkdir: cannot create directory ‘2_score’: File exists\n",
      "sed -i 99_answer.cpp -e 's/^\t\tconstexpr double COEF_CENTER_L1 = .*;  \\/\\/ OPTIMIZE \\[-100\\.0, 100\\.0\\]$/\t\tconstexpr double COEF_CENTER_L1 = 10.501283987720912;  \\/\\/ OPTIMIZE [-100.0, 100.0]/' -e 's/^\t\tconstexpr double COEF_CENTER_L1_SQ = .*;  \\/\\/ OPTIMIZE \\[0\\.0, 100\\.0\\]$/\t\tconstexpr double COEF_CENTER_L1_SQ = 6.434644772427774;  \\/\\/ OPTIMIZE [0.0, 100.0]/' -e 's/^\t\tconstexpr double COEF_POINT = .*;  \\/\\/ OPTIMIZE \\[0\\.0, 100\\.0\\]$/\t\tconstexpr double COEF_POINT = 36.927940600870855;  \\/\\/ OPTIMIZE [0.0, 100.0]/' -e 's/^\t\tconstexpr double COEF_DIST = .*;  \\/\\/ OPTIMIZE \\[0\\.0, 10000\\.0\\]$/\t\tconstexpr double COEF_DIST = 7380.797078464147;  \\/\\/ OPTIMIZE [0.0, 10000.0]/'\n",
      "sed -i 1_answer.cpp -e 's/^\t\tconstexpr double COEF_CENTER_L1 = .*;  \\/\\/ OPTIMIZE \\[-100\\.0, 100\\.0\\]$/\t\tconstexpr double COEF_CENTER_L1 = -7.748831111704033;  \\/\\/ OPTIMIZE [-100.0, 100.0]/' -e 's/^\t\tconstexpr double COEF_CENTER_L1_SQ = .*;  \\/\\/ OPTIMIZE \\[0\\.0, 100\\.0\\]$/\t\tconstexpr double COEF_CENTER_L1_SQ = 6.947823966839571;  \\/\\/ OPTIMIZE [0.0, 100.0]/' -e 's/^\t\tconstexpr double COEF_POINT = .*;  \\/\\/ OPTIMIZE \\[0\\.0, 100\\.0\\]$/\t\tconstexpr double COEF_POINT = 38.79214281301171;  \\/\\/ OPTIMIZE [0.0, 100.0]/' -e 's/^\t\tconstexpr double COEF_DIST = .*;  \\/\\/ OPTIMIZE \\[0\\.0, 10000\\.0\\]$/\t\tconstexpr double COEF_DIST = 7364.5276912342;  \\/\\/ OPTIMIZE [0.0, 10000.0]/'\n",
      "g++ 99_answer.cpp -std=gnu++17 -O2 -DONLINE_JUDGE -o 99_answer.cpp.out\n",
      "g++ 1_answer.cpp -std=gnu++17 -O2 -DONLINE_JUDGE -o 1_answer.cpp.out\n",
      "sed -i 0_answer.cpp -e 's/^\t\tconstexpr double COEF_CENTER_L1 = .*;  \\/\\/ OPTIMIZE \\[-100\\.0, 100\\.0\\]$/\t\tconstexpr double COEF_CENTER_L1 = -11.271068841127876;  \\/\\/ OPTIMIZE [-100.0, 100.0]/' -e 's/^\t\tconstexpr double COEF_CENTER_L1_SQ = .*;  \\/\\/ OPTIMIZE \\[0\\.0, 100\\.0\\]$/\t\tconstexpr double COEF_CENTER_L1_SQ = 6.82970249712756;  \\/\\/ OPTIMIZE [0.0, 100.0]/' -e 's/^\t\tconstexpr double COEF_POINT = .*;  \\/\\/ OPTIMIZE \\[0\\.0, 100\\.0\\]$/\t\tconstexpr double COEF_POINT = 36.68857385695445;  \\/\\/ OPTIMIZE [0.0, 100.0]/' -e 's/^\t\tconstexpr double COEF_DIST = .*;  \\/\\/ OPTIMIZE \\[0\\.0, 10000\\.0\\]$/\t\tconstexpr double COEF_DIST = 7354.8928942211605;  \\/\\/ OPTIMIZE [0.0, 10000.0]/'\n",
      "g++ 0_answer.cpp -std=gnu++17 -O2 -DONLINE_JUDGE -o 0_answer.cpp.out\n",
      "sed -i 2_answer.cpp -e 's/^\t\tconstexpr double COEF_CENTER_L1 = .*;  \\/\\/ OPTIMIZE \\[-100\\.0, 100\\.0\\]$/\t\tconstexpr double COEF_CENTER_L1 = -12.779723694739834;  \\/\\/ OPTIMIZE [-100.0, 100.0]/' -e 's/^\t\tconstexpr double COEF_CENTER_L1_SQ = .*;  \\/\\/ OPTIMIZE \\[0\\.0, 100\\.0\\]$/\t\tconstexpr double COEF_CENTER_L1_SQ = 6.928554296866814;  \\/\\/ OPTIMIZE [0.0, 100.0]/' -e 's/^\t\tconstexpr double COEF_POINT = .*;  \\/\\/ OPTIMIZE \\[0\\.0, 100\\.0\\]$/\t\tconstexpr double COEF_POINT = 37.098641240733336;  \\/\\/ OPTIMIZE [0.0, 100.0]/' -e 's/^\t\tconstexpr double COEF_DIST = .*;  \\/\\/ OPTIMIZE \\[0\\.0, 10000\\.0\\]$/\t\tconstexpr double COEF_DIST = 7405.331274595457;  \\/\\/ OPTIMIZE [0.0, 10000.0]/'\n",
      "g++ 2_answer.cpp -std=gnu++17 -O2 -DONLINE_JUDGE -o 2_answer.cpp.out\n"
     ]
    },
    {
     "name": "stderr",
     "output_type": "stream",
     "text": [
      "\u001b[32m[I 2021-04-25 13:22:36,574]\u001b[0m Trial 197 finished with value: 1274402.0 and parameters: {'COEF_CENTER_L1': 9.74028989703707, 'COEF_CENTER_L1_SQ': 11.535099452640136, 'COEF_POINT': 37.29986299802339, 'COEF_DIST': 7065.178484151533}. Best is trial 142 with value: 1556780.0.\u001b[0m\n"
     ]
    },
    {
     "name": "stdout",
     "output_type": "stream",
     "text": [
      "callback ok\n",
      "index_parallel=3\n",
      "mkdir: cannot create directory ‘3_out’: File exists\n",
      "mkdir: cannot create directory ‘3_score’: File exists\n"
     ]
    },
    {
     "name": "stderr",
     "output_type": "stream",
     "text": [
      "\u001b[32m[I 2021-04-25 13:22:37,985]\u001b[0m Trial 198 finished with value: 1408927.0 and parameters: {'COEF_CENTER_L1': -9.041473977183813, 'COEF_CENTER_L1_SQ': 7.241683593622138, 'COEF_POINT': 39.188449251860156, 'COEF_DIST': 6817.794759113122}. Best is trial 142 with value: 1556780.0.\u001b[0m\n"
     ]
    },
    {
     "name": "stdout",
     "output_type": "stream",
     "text": [
      "callback ok\n",
      "index_parallel=4\n",
      "mkdir: cannot create directory ‘4_out’: File exists\n",
      "mkdir: cannot create directory ‘4_score’: File exists\n",
      "sed -i 3_answer.cpp -e 's/^\t\tconstexpr double COEF_CENTER_L1 = .*;  \\/\\/ OPTIMIZE \\[-100\\.0, 100\\.0\\]$/\t\tconstexpr double COEF_CENTER_L1 = -10.810892288848105;  \\/\\/ OPTIMIZE [-100.0, 100.0]/' -e 's/^\t\tconstexpr double COEF_CENTER_L1_SQ = .*;  \\/\\/ OPTIMIZE \\[0\\.0, 100\\.0\\]$/\t\tconstexpr double COEF_CENTER_L1_SQ = 6.703728573776205;  \\/\\/ OPTIMIZE [0.0, 100.0]/' -e 's/^\t\tconstexpr double COEF_POINT = .*;  \\/\\/ OPTIMIZE \\[0\\.0, 100\\.0\\]$/\t\tconstexpr double COEF_POINT = 36.68704942368189;  \\/\\/ OPTIMIZE [0.0, 100.0]/' -e 's/^\t\tconstexpr double COEF_DIST = .*;  \\/\\/ OPTIMIZE \\[0\\.0, 10000\\.0\\]$/\t\tconstexpr double COEF_DIST = 7377.648151703326;  \\/\\/ OPTIMIZE [0.0, 10000.0]/'\n",
      "g++ 3_answer.cpp -std=gnu++17 -O2 -DONLINE_JUDGE -o 3_answer.cpp.out\n",
      "sed -i 4_answer.cpp -e 's/^\t\tconstexpr double COEF_CENTER_L1 = .*;  \\/\\/ OPTIMIZE \\[-100\\.0, 100\\.0\\]$/\t\tconstexpr double COEF_CENTER_L1 = -4.853242349104411;  \\/\\/ OPTIMIZE [-100.0, 100.0]/' -e 's/^\t\tconstexpr double COEF_CENTER_L1_SQ = .*;  \\/\\/ OPTIMIZE \\[0\\.0, 100\\.0\\]$/\t\tconstexpr double COEF_CENTER_L1_SQ = 5.5210225513445055;  \\/\\/ OPTIMIZE [0.0, 100.0]/' -e 's/^\t\tconstexpr double COEF_POINT = .*;  \\/\\/ OPTIMIZE \\[0\\.0, 100\\.0\\]$/\t\tconstexpr double COEF_POINT = 36.62178967368414;  \\/\\/ OPTIMIZE [0.0, 100.0]/' -e 's/^\t\tconstexpr double COEF_DIST = .*;  \\/\\/ OPTIMIZE \\[0\\.0, 10000\\.0\\]$/\t\tconstexpr double COEF_DIST = 7410.591282423207;  \\/\\/ OPTIMIZE [0.0, 10000.0]/'\n",
      "g++ 4_answer.cpp -std=gnu++17 -O2 -DONLINE_JUDGE -o 4_answer.cpp.out\n"
     ]
    },
    {
     "name": "stderr",
     "output_type": "stream",
     "text": [
      "\u001b[32m[I 2021-04-25 13:22:42,510]\u001b[0m Trial 199 finished with value: 1466664.0 and parameters: {'COEF_CENTER_L1': 10.501283987720912, 'COEF_CENTER_L1_SQ': 6.434644772427774, 'COEF_POINT': 36.927940600870855, 'COEF_DIST': 7380.797078464147}. Best is trial 142 with value: 1556780.0.\u001b[0m\n"
     ]
    },
    {
     "name": "stdout",
     "output_type": "stream",
     "text": [
      "callback ok\n",
      "index_parallel=5\n",
      "mkdir: cannot create directory ‘5_out’: File exists\n",
      "mkdir: cannot create directory ‘5_score’: File exists\n"
     ]
    },
    {
     "name": "stderr",
     "output_type": "stream",
     "text": [
      "\u001b[32m[I 2021-04-25 13:22:43,203]\u001b[0m Trial 202 finished with value: 1451453.0 and parameters: {'COEF_CENTER_L1': -12.779723694739834, 'COEF_CENTER_L1_SQ': 6.928554296866814, 'COEF_POINT': 37.098641240733336, 'COEF_DIST': 7405.331274595457}. Best is trial 142 with value: 1556780.0.\u001b[0m\n",
      "\u001b[32m[I 2021-04-25 13:22:43,210]\u001b[0m Trial 200 finished with value: 1461631.0 and parameters: {'COEF_CENTER_L1': -11.271068841127876, 'COEF_CENTER_L1_SQ': 6.82970249712756, 'COEF_POINT': 36.68857385695445, 'COEF_DIST': 7354.8928942211605}. Best is trial 142 with value: 1556780.0.\u001b[0m\n",
      "\u001b[32m[I 2021-04-25 13:22:43,231]\u001b[0m Trial 201 finished with value: 1445093.0 and parameters: {'COEF_CENTER_L1': -7.748831111704033, 'COEF_CENTER_L1_SQ': 6.947823966839571, 'COEF_POINT': 38.79214281301171, 'COEF_DIST': 7364.5276912342}. Best is trial 142 with value: 1556780.0.\u001b[0m\n"
     ]
    },
    {
     "name": "stdout",
     "output_type": "stream",
     "text": [
      "callback ok\n",
      "callback ok\n",
      "index_parallel=6\n",
      "callback ok\n",
      "mkdir: cannot create directory ‘6_out’: File exists\n",
      "mkdir: cannot create directory ‘6_score’: File exists\n",
      "index_parallel=7index_parallel=8\n",
      "\n",
      "mkdir: cannot create directory ‘8_out’: File exists\n",
      "mkdir: cannot create directory ‘7_out’: File exists\n",
      "mkdir: cannot create directory ‘7_score’: File exists\n",
      "mkdir: cannot create directory ‘8_score’: File exists\n",
      "sed -i 5_answer.cpp -e 's/^\t\tconstexpr double COEF_CENTER_L1 = .*;  \\/\\/ OPTIMIZE \\[-100\\.0, 100\\.0\\]$/\t\tconstexpr double COEF_CENTER_L1 = 14.885008977536298;  \\/\\/ OPTIMIZE [-100.0, 100.0]/' -e 's/^\t\tconstexpr double COEF_CENTER_L1_SQ = .*;  \\/\\/ OPTIMIZE \\[0\\.0, 100\\.0\\]$/\t\tconstexpr double COEF_CENTER_L1_SQ = 3.932012864264708;  \\/\\/ OPTIMIZE [0.0, 100.0]/' -e 's/^\t\tconstexpr double COEF_POINT = .*;  \\/\\/ OPTIMIZE \\[0\\.0, 100\\.0\\]$/\t\tconstexpr double COEF_POINT = 40.3117762600043;  \\/\\/ OPTIMIZE [0.0, 100.0]/' -e 's/^\t\tconstexpr double COEF_DIST = .*;  \\/\\/ OPTIMIZE \\[0\\.0, 10000\\.0\\]$/\t\tconstexpr double COEF_DIST = 6909.411467423306;  \\/\\/ OPTIMIZE [0.0, 10000.0]/'\n",
      "g++ 5_answer.cpp -std=gnu++17 -O2 -DONLINE_JUDGE -o 5_answer.cpp.out\n",
      "sed -i 6_answer.cpp -e 's/^\t\tconstexpr double COEF_CENTER_L1 = .*;  \\/\\/ OPTIMIZE \\[-100\\.0, 100\\.0\\]$/\t\tconstexpr double COEF_CENTER_L1 = 15.297948146904645;  \\/\\/ OPTIMIZE [-100.0, 100.0]/' -e 's/^\t\tconstexpr double COEF_CENTER_L1_SQ = .*;  \\/\\/ OPTIMIZE \\[0\\.0, 100\\.0\\]$/\t\tconstexpr double COEF_CENTER_L1_SQ = 3.9347114511273062;  \\/\\/ OPTIMIZE [0.0, 100.0]/' -e 's/^\t\tconstexpr double COEF_POINT = .*;  \\/\\/ OPTIMIZE \\[0\\.0, 100\\.0\\]$/\t\tconstexpr double COEF_POINT = 45.91770006890759;  \\/\\/ OPTIMIZE [0.0, 100.0]/' -e 's/^\t\tconstexpr double COEF_DIST = .*;  \\/\\/ OPTIMIZE \\[0\\.0, 10000\\.0\\]$/\t\tconstexpr double COEF_DIST = 6950.12170759666;  \\/\\/ OPTIMIZE [0.0, 10000.0]/'\n",
      "g++ 6_answer.cpp -std=gnu++17 -O2 -DONLINE_JUDGE -o 6_answer.cpp.out\n",
      "sed -i 8_answer.cpp -e 's/^\t\tconstexpr double COEF_CENTER_L1 = .*;  \\/\\/ OPTIMIZE \\[-100\\.0, 100\\.0\\]$/\t\tconstexpr double COEF_CENTER_L1 = 13.292583051522548;  \\/\\/ OPTIMIZE [-100.0, 100.0]/' -e 's/^\t\tconstexpr double COEF_CENTER_L1_SQ = .*;  \\/\\/ OPTIMIZE \\[0\\.0, 100\\.0\\]$/\t\tconstexpr double COEF_CENTER_L1_SQ = 3.6347581498764363;  \\/\\/ OPTIMIZE [0.0, 100.0]/' -e 's/^\t\tconstexpr double COEF_POINT = .*;  \\/\\/ OPTIMIZE \\[0\\.0, 100\\.0\\]$/\t\tconstexpr double COEF_POINT = 40.705953268102014;  \\/\\/ OPTIMIZE [0.0, 100.0]/' -e 's/^\t\tconstexpr double COEF_DIST = .*;  \\/\\/ OPTIMIZE \\[0\\.0, 10000\\.0\\]$/\t\tconstexpr double COEF_DIST = 6916.8576708150085;  \\/\\/ OPTIMIZE [0.0, 10000.0]/'\n",
      "g++ 8_answer.cpp -std=gnu++17 -O2 -DONLINE_JUDGE -o 8_answer.cpp.out\n",
      "sed -i 7_answer.cpp -e 's/^\t\tconstexpr double COEF_CENTER_L1 = .*;  \\/\\/ OPTIMIZE \\[-100\\.0, 100\\.0\\]$/\t\tconstexpr double COEF_CENTER_L1 = 14.550613237914948;  \\/\\/ OPTIMIZE [-100.0, 100.0]/' -e 's/^\t\tconstexpr double COEF_CENTER_L1_SQ = .*;  \\/\\/ OPTIMIZE \\[0\\.0, 100\\.0\\]$/\t\tconstexpr double COEF_CENTER_L1_SQ = 0.028378769900476275;  \\/\\/ OPTIMIZE [0.0, 100.0]/' -e 's/^\t\tconstexpr double COEF_POINT = .*;  \\/\\/ OPTIMIZE \\[0\\.0, 100\\.0\\]$/\t\tconstexpr double COEF_POINT = 40.5957621021243;  \\/\\/ OPTIMIZE [0.0, 100.0]/' -e 's/^\t\tconstexpr double COEF_DIST = .*;  \\/\\/ OPTIMIZE \\[0\\.0, 10000\\.0\\]$/\t\tconstexpr double COEF_DIST = 6899.061844885308;  \\/\\/ OPTIMIZE [0.0, 10000.0]/'\n",
      "g++ 7_answer.cpp -std=gnu++17 -O2 -DONLINE_JUDGE -o 7_answer.cpp.out\n"
     ]
    },
    {
     "name": "stderr",
     "output_type": "stream",
     "text": [
      "\u001b[32m[I 2021-04-25 13:22:48,946]\u001b[0m Trial 203 finished with value: 1455792.0 and parameters: {'COEF_CENTER_L1': -10.810892288848105, 'COEF_CENTER_L1_SQ': 6.703728573776205, 'COEF_POINT': 36.68704942368189, 'COEF_DIST': 7377.648151703326}. Best is trial 142 with value: 1556780.0.\u001b[0m\n",
      "\u001b[32m[I 2021-04-25 13:22:48,957]\u001b[0m Trial 204 finished with value: 1460686.0 and parameters: {'COEF_CENTER_L1': -4.853242349104411, 'COEF_CENTER_L1_SQ': 5.5210225513445055, 'COEF_POINT': 36.62178967368414, 'COEF_DIST': 7410.591282423207}. Best is trial 142 with value: 1556780.0.\u001b[0m\n"
     ]
    },
    {
     "name": "stdout",
     "output_type": "stream",
     "text": [
      "callback ok\n",
      "callback ok\n",
      "index_parallel=9\n",
      "mkdir: cannot create directory ‘9_out’: File exists\n",
      "mkdir: cannot create directory ‘9_score’: File exists\n",
      "index_parallel=10\n",
      "mkdir: cannot create directory ‘10_out’: File exists\n",
      "mkdir: cannot create directory ‘10_score’: File exists\n",
      "sed -i 9_answer.cpp -e 's/^\t\tconstexpr double COEF_CENTER_L1 = .*;  \\/\\/ OPTIMIZE \\[-100\\.0, 100\\.0\\]$/\t\tconstexpr double COEF_CENTER_L1 = -26.09802493647402;  \\/\\/ OPTIMIZE [-100.0, 100.0]/' -e 's/^\t\tconstexpr double COEF_CENTER_L1_SQ = .*;  \\/\\/ OPTIMIZE \\[0\\.0, 100\\.0\\]$/\t\tconstexpr double COEF_CENTER_L1_SQ = 3.5986194910634626;  \\/\\/ OPTIMIZE [0.0, 100.0]/' -e 's/^\t\tconstexpr double COEF_POINT = .*;  \\/\\/ OPTIMIZE \\[0\\.0, 100\\.0\\]$/\t\tconstexpr double COEF_POINT = 89.84952089349878;  \\/\\/ OPTIMIZE [0.0, 100.0]/' -e 's/^\t\tconstexpr double COEF_DIST = .*;  \\/\\/ OPTIMIZE \\[0\\.0, 10000\\.0\\]$/\t\tconstexpr double COEF_DIST = 6934.242446657833;  \\/\\/ OPTIMIZE [0.0, 10000.0]/'\n",
      "g++ 9_answer.cpp -std=gnu++17 -O2 -DONLINE_JUDGE -o 9_answer.cpp.out\n",
      "sed -i 10_answer.cpp -e 's/^\t\tconstexpr double COEF_CENTER_L1 = .*;  \\/\\/ OPTIMIZE \\[-100\\.0, 100\\.0\\]$/\t\tconstexpr double COEF_CENTER_L1 = 4.49660549927874;  \\/\\/ OPTIMIZE [-100.0, 100.0]/' -e 's/^\t\tconstexpr double COEF_CENTER_L1_SQ = .*;  \\/\\/ OPTIMIZE \\[0\\.0, 100\\.0\\]$/\t\tconstexpr double COEF_CENTER_L1_SQ = 3.5657153078078516;  \\/\\/ OPTIMIZE [0.0, 100.0]/' -e 's/^\t\tconstexpr double COEF_POINT = .*;  \\/\\/ OPTIMIZE \\[0\\.0, 100\\.0\\]$/\t\tconstexpr double COEF_POINT = 40.033420495432274;  \\/\\/ OPTIMIZE [0.0, 100.0]/' -e 's/^\t\tconstexpr double COEF_DIST = .*;  \\/\\/ OPTIMIZE \\[0\\.0, 10000\\.0\\]$/\t\tconstexpr double COEF_DIST = 7012.205584115428;  \\/\\/ OPTIMIZE [0.0, 10000.0]/'\n",
      "g++ 10_answer.cpp -std=gnu++17 -O2 -DONLINE_JUDGE -o 10_answer.cpp.out\n"
     ]
    },
    {
     "name": "stderr",
     "output_type": "stream",
     "text": [
      "\u001b[32m[I 2021-04-25 13:22:56,454]\u001b[0m Trial 207 finished with value: 1443742.0 and parameters: {'COEF_CENTER_L1': 14.550613237914948, 'COEF_CENTER_L1_SQ': 0.028378769900476275, 'COEF_POINT': 40.5957621021243, 'COEF_DIST': 6899.061844885308}. Best is trial 142 with value: 1556780.0.\u001b[0m\n"
     ]
    },
    {
     "name": "stdout",
     "output_type": "stream",
     "text": [
      "callback ok\n",
      "index_parallel=11\n",
      "mkdir: cannot create directory ‘11_out’: File exists\n"
     ]
    },
    {
     "name": "stderr",
     "output_type": "stream",
     "text": [
      "\u001b[32m[I 2021-04-25 13:22:56,647]\u001b[0m Trial 206 finished with value: 1524823.0 and parameters: {'COEF_CENTER_L1': 15.297948146904645, 'COEF_CENTER_L1_SQ': 3.9347114511273062, 'COEF_POINT': 45.91770006890759, 'COEF_DIST': 6950.12170759666}. Best is trial 142 with value: 1556780.0.\u001b[0m\n"
     ]
    },
    {
     "name": "stdout",
     "output_type": "stream",
     "text": [
      "callback ok\n"
     ]
    },
    {
     "name": "stderr",
     "output_type": "stream",
     "text": [
      "\u001b[32m[I 2021-04-25 13:22:56,715]\u001b[0m Trial 205 finished with value: 1517074.0 and parameters: {'COEF_CENTER_L1': 14.885008977536298, 'COEF_CENTER_L1_SQ': 3.932012864264708, 'COEF_POINT': 40.3117762600043, 'COEF_DIST': 6909.411467423306}. Best is trial 142 with value: 1556780.0.\u001b[0m\n"
     ]
    },
    {
     "name": "stdout",
     "output_type": "stream",
     "text": [
      "index_parallel=12\n",
      "mkdir: cannot create directory ‘12_out’: File exists\n",
      "callback ok\n",
      "mkdir: cannot create directory ‘11_score’: File exists\n",
      "index_parallel=13\n",
      "mkdir: cannot create directory ‘12_score’: File exists\n",
      "mkdir: cannot create directory ‘13_out’: File exists\n"
     ]
    },
    {
     "name": "stderr",
     "output_type": "stream",
     "text": [
      "\u001b[32m[I 2021-04-25 13:22:56,902]\u001b[0m Trial 208 finished with value: 1507849.0 and parameters: {'COEF_CENTER_L1': 13.292583051522548, 'COEF_CENTER_L1_SQ': 3.6347581498764363, 'COEF_POINT': 40.705953268102014, 'COEF_DIST': 6916.8576708150085}. Best is trial 142 with value: 1556780.0.\u001b[0m\n"
     ]
    },
    {
     "name": "stdout",
     "output_type": "stream",
     "text": [
      "callback ok\n",
      "mkdir: cannot create directory ‘13_score’: File exists\n",
      "index_parallel=14\n",
      "mkdir: cannot create directory ‘14_out’: File exists\n",
      "mkdir: cannot create directory ‘14_score’: File exists\n",
      "sed -i 11_answer.cpp -e 's/^\t\tconstexpr double COEF_CENTER_L1 = .*;  \\/\\/ OPTIMIZE \\[-100\\.0, 100\\.0\\]$/\t\tconstexpr double COEF_CENTER_L1 = 2.029552277062722;  \\/\\/ OPTIMIZE [-100.0, 100.0]/' -e 's/^\t\tconstexpr double COEF_CENTER_L1_SQ = .*;  \\/\\/ OPTIMIZE \\[0\\.0, 100\\.0\\]$/\t\tconstexpr double COEF_CENTER_L1_SQ = 2.405165933035968;  \\/\\/ OPTIMIZE [0.0, 100.0]/' -e 's/^\t\tconstexpr double COEF_POINT = .*;  \\/\\/ OPTIMIZE \\[0\\.0, 100\\.0\\]$/\t\tconstexpr double COEF_POINT = 45.531519368917735;  \\/\\/ OPTIMIZE [0.0, 100.0]/' -e 's/^\t\tconstexpr double COEF_DIST = .*;  \\/\\/ OPTIMIZE \\[0\\.0, 10000\\.0\\]$/\t\tconstexpr double COEF_DIST = 6597.674448579231;  \\/\\/ OPTIMIZE [0.0, 10000.0]/'\n",
      "g++ 11_answer.cpp -std=gnu++17 -O2 -DONLINE_JUDGE -o 11_answer.cpp.out\n",
      "sed -i 12_answer.cpp -e 's/^\t\tconstexpr double COEF_CENTER_L1 = .*;  \\/\\/ OPTIMIZE \\[-100\\.0, 100\\.0\\]$/\t\tconstexpr double COEF_CENTER_L1 = 1.8555230029291014;  \\/\\/ OPTIMIZE [-100.0, 100.0]/' -e 's/^\t\tconstexpr double COEF_CENTER_L1_SQ = .*;  \\/\\/ OPTIMIZE \\[0\\.0, 100\\.0\\]$/\t\tconstexpr double COEF_CENTER_L1_SQ = 3.7380658538284663;  \\/\\/ OPTIMIZE [0.0, 100.0]/' -e 's/^\t\tconstexpr double COEF_POINT = .*;  \\/\\/ OPTIMIZE \\[0\\.0, 100\\.0\\]$/\t\tconstexpr double COEF_POINT = 46.08635140534697;  \\/\\/ OPTIMIZE [0.0, 100.0]/' -e 's/^\t\tconstexpr double COEF_DIST = .*;  \\/\\/ OPTIMIZE \\[0\\.0, 10000\\.0\\]$/\t\tconstexpr double COEF_DIST = 6616.169761963269;  \\/\\/ OPTIMIZE [0.0, 10000.0]/'\n",
      "g++ 12_answer.cpp -std=gnu++17 -O2 -DONLINE_JUDGE -o 12_answer.cpp.out\n",
      "sed -i 13_answer.cpp -e 's/^\t\tconstexpr double COEF_CENTER_L1 = .*;  \\/\\/ OPTIMIZE \\[-100\\.0, 100\\.0\\]$/\t\tconstexpr double COEF_CENTER_L1 = 3.3200734864498953;  \\/\\/ OPTIMIZE [-100.0, 100.0]/' -e 's/^\t\tconstexpr double COEF_CENTER_L1_SQ = .*;  \\/\\/ OPTIMIZE \\[0\\.0, 100\\.0\\]$/\t\tconstexpr double COEF_CENTER_L1_SQ = 2.132949752352726;  \\/\\/ OPTIMIZE [0.0, 100.0]/' -e 's/^\t\tconstexpr double COEF_POINT = .*;  \\/\\/ OPTIMIZE \\[0\\.0, 100\\.0\\]$/\t\tconstexpr double COEF_POINT = 44.87591619104772;  \\/\\/ OPTIMIZE [0.0, 100.0]/' -e 's/^\t\tconstexpr double COEF_DIST = .*;  \\/\\/ OPTIMIZE \\[0\\.0, 10000\\.0\\]$/\t\tconstexpr double COEF_DIST = 6493.376379099773;  \\/\\/ OPTIMIZE [0.0, 10000.0]/'\n",
      "sed -i 14_answer.cpp -e 's/^\t\tconstexpr double COEF_CENTER_L1 = .*;  \\/\\/ OPTIMIZE \\[-100\\.0, 100\\.0\\]$/\t\tconstexpr double COEF_CENTER_L1 = 1.9487096726356912;  \\/\\/ OPTIMIZE [-100.0, 100.0]/' -e 's/^\t\tconstexpr double COEF_CENTER_L1_SQ = .*;  \\/\\/ OPTIMIZE \\[0\\.0, 100\\.0\\]$/\t\tconstexpr double COEF_CENTER_L1_SQ = 2.5593499619481404;  \\/\\/ OPTIMIZE [0.0, 100.0]/' -e 's/^\t\tconstexpr double COEF_POINT = .*;  \\/\\/ OPTIMIZE \\[0\\.0, 100\\.0\\]$/\t\tconstexpr double COEF_POINT = 44.06464014330615;  \\/\\/ OPTIMIZE [0.0, 100.0]/' -e 's/^\t\tconstexpr double COEF_DIST = .*;  \\/\\/ OPTIMIZE \\[0\\.0, 10000\\.0\\]$/\t\tconstexpr double COEF_DIST = 6551.550128304529;  \\/\\/ OPTIMIZE [0.0, 10000.0]/'\n"
     ]
    },
    {
     "name": "stderr",
     "output_type": "stream",
     "text": [
      "\u001b[32m[I 2021-04-25 13:23:00,852]\u001b[0m Trial 209 finished with value: 1516108.0 and parameters: {'COEF_CENTER_L1': -26.09802493647402, 'COEF_CENTER_L1_SQ': 3.5986194910634626, 'COEF_POINT': 89.84952089349878, 'COEF_DIST': 6934.242446657833}. Best is trial 142 with value: 1556780.0.\u001b[0m\n"
     ]
    },
    {
     "name": "stdout",
     "output_type": "stream",
     "text": [
      "g++ 13_answer.cpp -std=gnu++17 -O2 -DONLINE_JUDGE -o 13_answer.cpp.out\n",
      "callback ok\n",
      "index_parallel=15\n",
      "mkdir: cannot create directory ‘15_out’: File exists\n",
      "g++ 14_answer.cpp -std=gnu++17 -O2 -DONLINE_JUDGE -o 14_answer.cpp.out\n"
     ]
    },
    {
     "name": "stderr",
     "output_type": "stream",
     "text": [
      "\u001b[32m[I 2021-04-25 13:23:00,948]\u001b[0m Trial 210 finished with value: 1521794.0 and parameters: {'COEF_CENTER_L1': 4.49660549927874, 'COEF_CENTER_L1_SQ': 3.5657153078078516, 'COEF_POINT': 40.033420495432274, 'COEF_DIST': 7012.205584115428}. Best is trial 142 with value: 1556780.0.\u001b[0m\n"
     ]
    },
    {
     "name": "stdout",
     "output_type": "stream",
     "text": [
      "callback ok\n",
      "index_parallel=16\n",
      "mkdir: cannot create directory ‘16_out’: File exists\n",
      "mkdir: cannot create directory ‘15_score’: File exists\n",
      "mkdir: cannot create directory ‘16_score’: File exists\n",
      "sed -i 15_answer.cpp -e 's/^\t\tconstexpr double COEF_CENTER_L1 = .*;  \\/\\/ OPTIMIZE \\[-100\\.0, 100\\.0\\]$/\t\tconstexpr double COEF_CENTER_L1 = -65.11374181172008;  \\/\\/ OPTIMIZE [-100.0, 100.0]/' -e 's/^\t\tconstexpr double COEF_CENTER_L1_SQ = .*;  \\/\\/ OPTIMIZE \\[0\\.0, 100\\.0\\]$/\t\tconstexpr double COEF_CENTER_L1_SQ = 0.17195745462150525;  \\/\\/ OPTIMIZE [0.0, 100.0]/' -e 's/^\t\tconstexpr double COEF_POINT = .*;  \\/\\/ OPTIMIZE \\[0\\.0, 100\\.0\\]$/\t\tconstexpr double COEF_POINT = 46.158970064422036;  \\/\\/ OPTIMIZE [0.0, 100.0]/' -e 's/^\t\tconstexpr double COEF_DIST = .*;  \\/\\/ OPTIMIZE \\[0\\.0, 10000\\.0\\]$/\t\tconstexpr double COEF_DIST = 6526.70444624223;  \\/\\/ OPTIMIZE [0.0, 10000.0]/'\n",
      "sed -i 16_answer.cpp -e 's/^\t\tconstexpr double COEF_CENTER_L1 = .*;  \\/\\/ OPTIMIZE \\[-100\\.0, 100\\.0\\]$/\t\tconstexpr double COEF_CENTER_L1 = 3.380872679588033;  \\/\\/ OPTIMIZE [-100.0, 100.0]/' -e 's/^\t\tconstexpr double COEF_CENTER_L1_SQ = .*;  \\/\\/ OPTIMIZE \\[0\\.0, 100\\.0\\]$/\t\tconstexpr double COEF_CENTER_L1_SQ = 39.039115570019234;  \\/\\/ OPTIMIZE [0.0, 100.0]/' -e 's/^\t\tconstexpr double COEF_POINT = .*;  \\/\\/ OPTIMIZE \\[0\\.0, 100\\.0\\]$/\t\tconstexpr double COEF_POINT = 45.280956996737146;  \\/\\/ OPTIMIZE [0.0, 100.0]/' -e 's/^\t\tconstexpr double COEF_DIST = .*;  \\/\\/ OPTIMIZE \\[0\\.0, 10000\\.0\\]$/\t\tconstexpr double COEF_DIST = 6596.37838316536;  \\/\\/ OPTIMIZE [0.0, 10000.0]/'\n",
      "g++ 15_answer.cpp -std=gnu++17 -O2 -DONLINE_JUDGE -o 15_answer.cpp.out\n",
      "g++ 16_answer.cpp -std=gnu++17 -O2 -DONLINE_JUDGE -o 16_answer.cpp.out\n"
     ]
    },
    {
     "name": "stderr",
     "output_type": "stream",
     "text": [
      "\u001b[32m[I 2021-04-25 13:23:09,960]\u001b[0m Trial 211 finished with value: 1512163.0 and parameters: {'COEF_CENTER_L1': 2.029552277062722, 'COEF_CENTER_L1_SQ': 2.405165933035968, 'COEF_POINT': 45.531519368917735, 'COEF_DIST': 6597.674448579231}. Best is trial 142 with value: 1556780.0.\u001b[0m\n"
     ]
    },
    {
     "name": "stdout",
     "output_type": "stream",
     "text": [
      "callback ok\n",
      "index_parallel=17\n",
      "mkdir: cannot create directory ‘17_out’: File exists\n",
      "mkdir: cannot create directory ‘17_score’: File exists\n"
     ]
    },
    {
     "name": "stderr",
     "output_type": "stream",
     "text": [
      "\u001b[32m[I 2021-04-25 13:23:11,893]\u001b[0m Trial 213 finished with value: 1515462.0 and parameters: {'COEF_CENTER_L1': 3.3200734864498953, 'COEF_CENTER_L1_SQ': 2.132949752352726, 'COEF_POINT': 44.87591619104772, 'COEF_DIST': 6493.376379099773}. Best is trial 142 with value: 1556780.0.\u001b[0m\n",
      "\u001b[32m[I 2021-04-25 13:23:11,958]\u001b[0m Trial 214 finished with value: 1509559.0 and parameters: {'COEF_CENTER_L1': 1.9487096726356912, 'COEF_CENTER_L1_SQ': 2.5593499619481404, 'COEF_POINT': 44.06464014330615, 'COEF_DIST': 6551.550128304529}. Best is trial 142 with value: 1556780.0.\u001b[0m\n",
      "\u001b[32m[I 2021-04-25 13:23:11,980]\u001b[0m Trial 212 finished with value: 1534361.0 and parameters: {'COEF_CENTER_L1': 1.8555230029291014, 'COEF_CENTER_L1_SQ': 3.7380658538284663, 'COEF_POINT': 46.08635140534697, 'COEF_DIST': 6616.169761963269}. Best is trial 142 with value: 1556780.0.\u001b[0m\n"
     ]
    },
    {
     "name": "stdout",
     "output_type": "stream",
     "text": [
      "sed -i 17_answer.cpp -e 's/^\t\tconstexpr double COEF_CENTER_L1 = .*;  \\/\\/ OPTIMIZE \\[-100\\.0, 100\\.0\\]$/\t\tconstexpr double COEF_CENTER_L1 = 20.514882014718655;  \\/\\/ OPTIMIZE [-100.0, 100.0]/' -e 's/^\t\tconstexpr double COEF_CENTER_L1_SQ = .*;  \\/\\/ OPTIMIZE \\[0\\.0, 100\\.0\\]$/\t\tconstexpr double COEF_CENTER_L1_SQ = 0.024376090672131312;  \\/\\/ OPTIMIZE [0.0, 100.0]/' -e 's/^\t\tconstexpr double COEF_POINT = .*;  \\/\\/ OPTIMIZE \\[0\\.0, 100\\.0\\]$/\t\tconstexpr double COEF_POINT = 45.9220425521872;  \\/\\/ OPTIMIZE [0.0, 100.0]/' -e 's/^\t\tconstexpr double COEF_DIST = .*;  \\/\\/ OPTIMIZE \\[0\\.0, 10000\\.0\\]$/\t\tconstexpr double COEF_DIST = 170.4575960762677;  \\/\\/ OPTIMIZE [0.0, 10000.0]/'\n",
      "callback ok\n",
      "callback ok\n",
      "callback ok\n",
      "g++ 17_answer.cpp -std=gnu++17 -O2 -DONLINE_JUDGE -o 17_answer.cpp.out\n",
      "index_parallel=18\n",
      "index_parallel=19\n",
      "mkdir: cannot create directory ‘18_out’: File exists\n",
      "mkdir: cannot create directory ‘19_out’: File exists\n",
      "index_parallel=20\n"
     ]
    },
    {
     "name": "stderr",
     "output_type": "stream",
     "text": [
      "\u001b[32m[I 2021-04-25 13:23:12,276]\u001b[0m Trial 216 finished with value: 765086.0 and parameters: {'COEF_CENTER_L1': 3.380872679588033, 'COEF_CENTER_L1_SQ': 39.039115570019234, 'COEF_POINT': 45.280956996737146, 'COEF_DIST': 6596.37838316536}. Best is trial 142 with value: 1556780.0.\u001b[0m\n"
     ]
    },
    {
     "name": "stdout",
     "output_type": "stream",
     "text": [
      "mkdir: cannot create directory ‘20_out’: File exists\n",
      "callback ok\n",
      "index_parallel=21\n",
      "mkdir: cannot create directory ‘21_out’: File exists\n",
      "mkdir: cannot create directory ‘18_score’: File exists\n",
      "mkdir: cannot create directory ‘19_score’: File exists\n"
     ]
    },
    {
     "name": "stderr",
     "output_type": "stream",
     "text": [
      "\u001b[32m[I 2021-04-25 13:23:12,379]\u001b[0m Trial 215 finished with value: 1500870.0 and parameters: {'COEF_CENTER_L1': -65.11374181172008, 'COEF_CENTER_L1_SQ': 0.17195745462150525, 'COEF_POINT': 46.158970064422036, 'COEF_DIST': 6526.70444624223}. Best is trial 142 with value: 1556780.0.\u001b[0m\n"
     ]
    },
    {
     "name": "stdout",
     "output_type": "stream",
     "text": [
      "callback ok\n",
      "mkdir: cannot create directory ‘20_score’: File exists\n",
      "index_parallel=22\n",
      "mkdir: cannot create directory ‘22_out’: File exists\n",
      "mkdir: cannot create directory ‘21_score’: File exists\n",
      "mkdir: cannot create directory ‘22_score’: File exists\n",
      "sed -i 18_answer.cpp -e 's/^\t\tconstexpr double COEF_CENTER_L1 = .*;  \\/\\/ OPTIMIZE \\[-100\\.0, 100\\.0\\]$/\t\tconstexpr double COEF_CENTER_L1 = 22.264265583272692;  \\/\\/ OPTIMIZE [-100.0, 100.0]/' -e 's/^\t\tconstexpr double COEF_CENTER_L1_SQ = .*;  \\/\\/ OPTIMIZE \\[0\\.0, 100\\.0\\]$/\t\tconstexpr double COEF_CENTER_L1_SQ = 4.71423715375422;  \\/\\/ OPTIMIZE [0.0, 100.0]/' -e 's/^\t\tconstexpr double COEF_POINT = .*;  \\/\\/ OPTIMIZE \\[0\\.0, 100\\.0\\]$/\t\tconstexpr double COEF_POINT = 34.72475332319302;  \\/\\/ OPTIMIZE [0.0, 100.0]/' -e 's/^\t\tconstexpr double COEF_DIST = .*;  \\/\\/ OPTIMIZE \\[0\\.0, 10000\\.0\\]$/\t\tconstexpr double COEF_DIST = 7086.074981819643;  \\/\\/ OPTIMIZE [0.0, 10000.0]/'\n",
      "sed -i 19_answer.cpp -e 's/^\t\tconstexpr double COEF_CENTER_L1 = .*;  \\/\\/ OPTIMIZE \\[-100\\.0, 100\\.0\\]$/\t\tconstexpr double COEF_CENTER_L1 = 8.179333345751163;  \\/\\/ OPTIMIZE [-100.0, 100.0]/' -e 's/^\t\tconstexpr double COEF_CENTER_L1_SQ = .*;  \\/\\/ OPTIMIZE \\[0\\.0, 100\\.0\\]$/\t\tconstexpr double COEF_CENTER_L1_SQ = 46.60166232233743;  \\/\\/ OPTIMIZE [0.0, 100.0]/' -e 's/^\t\tconstexpr double COEF_POINT = .*;  \\/\\/ OPTIMIZE \\[0\\.0, 100\\.0\\]$/\t\tconstexpr double COEF_POINT = 34.561090268160164;  \\/\\/ OPTIMIZE [0.0, 100.0]/' -e 's/^\t\tconstexpr double COEF_DIST = .*;  \\/\\/ OPTIMIZE \\[0\\.0, 10000\\.0\\]$/\t\tconstexpr double COEF_DIST = 7122.625178555073;  \\/\\/ OPTIMIZE [0.0, 10000.0]/'\n",
      "g++ 18_answer.cpp -std=gnu++17 -O2 -DONLINE_JUDGE -o 18_answer.cpp.out\n",
      "sed -i 20_answer.cpp -e 's/^\t\tconstexpr double COEF_CENTER_L1 = .*;  \\/\\/ OPTIMIZE \\[-100\\.0, 100\\.0\\]$/\t\tconstexpr double COEF_CENTER_L1 = 20.122507446505132;  \\/\\/ OPTIMIZE [-100.0, 100.0]/' -e 's/^\t\tconstexpr double COEF_CENTER_L1_SQ = .*;  \\/\\/ OPTIMIZE \\[0\\.0, 100\\.0\\]$/\t\tconstexpr double COEF_CENTER_L1_SQ = 4.44610835938483;  \\/\\/ OPTIMIZE [0.0, 100.0]/' -e 's/^\t\tconstexpr double COEF_POINT = .*;  \\/\\/ OPTIMIZE \\[0\\.0, 100\\.0\\]$/\t\tconstexpr double COEF_POINT = 34.6431222787316;  \\/\\/ OPTIMIZE [0.0, 100.0]/' -e 's/^\t\tconstexpr double COEF_DIST = .*;  \\/\\/ OPTIMIZE \\[0\\.0, 10000\\.0\\]$/\t\tconstexpr double COEF_DIST = 7121.745755322766;  \\/\\/ OPTIMIZE [0.0, 10000.0]/'\n",
      "sed -i 21_answer.cpp -e 's/^\t\tconstexpr double COEF_CENTER_L1 = .*;  \\/\\/ OPTIMIZE \\[-100\\.0, 100\\.0\\]$/\t\tconstexpr double COEF_CENTER_L1 = 21.15502166854717;  \\/\\/ OPTIMIZE [-100.0, 100.0]/' -e 's/^\t\tconstexpr double COEF_CENTER_L1_SQ = .*;  \\/\\/ OPTIMIZE \\[0\\.0, 100\\.0\\]$/\t\tconstexpr double COEF_CENTER_L1_SQ = 4.612041690316154;  \\/\\/ OPTIMIZE [0.0, 100.0]/' -e 's/^\t\tconstexpr double COEF_POINT = .*;  \\/\\/ OPTIMIZE \\[0\\.0, 100\\.0\\]$/\t\tconstexpr double COEF_POINT = 34.98414386890834;  \\/\\/ OPTIMIZE [0.0, 100.0]/' -e 's/^\t\tconstexpr double COEF_DIST = .*;  \\/\\/ OPTIMIZE \\[0\\.0, 10000\\.0\\]$/\t\tconstexpr double COEF_DIST = 7187.125453920245;  \\/\\/ OPTIMIZE [0.0, 10000.0]/'\n",
      "g++ 19_answer.cpp -std=gnu++17 -O2 -DONLINE_JUDGE -o 19_answer.cpp.out\n",
      "g++ 20_answer.cpp -std=gnu++17 -O2 -DONLINE_JUDGE -o 20_answer.cpp.out\n",
      "sed -i 22_answer.cpp -e 's/^\t\tconstexpr double COEF_CENTER_L1 = .*;  \\/\\/ OPTIMIZE \\[-100\\.0, 100\\.0\\]$/\t\tconstexpr double COEF_CENTER_L1 = 6.281479637248196;  \\/\\/ OPTIMIZE [-100.0, 100.0]/' -e 's/^\t\tconstexpr double COEF_CENTER_L1_SQ = .*;  \\/\\/ OPTIMIZE \\[0\\.0, 100\\.0\\]$/\t\tconstexpr double COEF_CENTER_L1_SQ = 4.747956566027943;  \\/\\/ OPTIMIZE [0.0, 100.0]/' -e 's/^\t\tconstexpr double COEF_POINT = .*;  \\/\\/ OPTIMIZE \\[0\\.0, 100\\.0\\]$/\t\tconstexpr double COEF_POINT = 34.55199975044199;  \\/\\/ OPTIMIZE [0.0, 100.0]/' -e 's/^\t\tconstexpr double COEF_DIST = .*;  \\/\\/ OPTIMIZE \\[0\\.0, 10000\\.0\\]$/\t\tconstexpr double COEF_DIST = 7092.589202911983;  \\/\\/ OPTIMIZE [0.0, 10000.0]/'\n",
      "g++ 21_answer.cpp -std=gnu++17 -O2 -DONLINE_JUDGE -o 21_answer.cpp.out\n",
      "g++ 22_answer.cpp -std=gnu++17 -O2 -DONLINE_JUDGE -o 22_answer.cpp.out\n"
     ]
    },
    {
     "name": "stderr",
     "output_type": "stream",
     "text": [
      "\u001b[32m[I 2021-04-25 13:23:19,910]\u001b[0m Trial 217 finished with value: 1247367.0 and parameters: {'COEF_CENTER_L1': 20.514882014718655, 'COEF_CENTER_L1_SQ': 0.024376090672131312, 'COEF_POINT': 45.9220425521872, 'COEF_DIST': 170.4575960762677}. Best is trial 142 with value: 1556780.0.\u001b[0m\n"
     ]
    },
    {
     "name": "stdout",
     "output_type": "stream",
     "text": [
      "callback ok\n",
      "index_parallel=23\n",
      "mkdir: cannot create directory ‘23_out’: File exists\n",
      "mkdir: cannot create directory ‘23_score’: File exists\n",
      "sed -i 23_answer.cpp -e 's/^\t\tconstexpr double COEF_CENTER_L1 = .*;  \\/\\/ OPTIMIZE \\[-100\\.0, 100\\.0\\]$/\t\tconstexpr double COEF_CENTER_L1 = 7.807551157031612;  \\/\\/ OPTIMIZE [-100.0, 100.0]/' -e 's/^\t\tconstexpr double COEF_CENTER_L1_SQ = .*;  \\/\\/ OPTIMIZE \\[0\\.0, 100\\.0\\]$/\t\tconstexpr double COEF_CENTER_L1_SQ = 4.944117874275974;  \\/\\/ OPTIMIZE [0.0, 100.0]/' -e 's/^\t\tconstexpr double COEF_POINT = .*;  \\/\\/ OPTIMIZE \\[0\\.0, 100\\.0\\]$/\t\tconstexpr double COEF_POINT = 42.67217187023107;  \\/\\/ OPTIMIZE [0.0, 100.0]/' -e 's/^\t\tconstexpr double COEF_DIST = .*;  \\/\\/ OPTIMIZE \\[0\\.0, 10000\\.0\\]$/\t\tconstexpr double COEF_DIST = 7173.739660636416;  \\/\\/ OPTIMIZE [0.0, 10000.0]/'\n",
      "g++ 23_answer.cpp -std=gnu++17 -O2 -DONLINE_JUDGE -o 23_answer.cpp.out\n"
     ]
    },
    {
     "name": "stderr",
     "output_type": "stream",
     "text": [
      "\u001b[32m[I 2021-04-25 13:23:22,978]\u001b[0m Trial 219 finished with value: 743954.0 and parameters: {'COEF_CENTER_L1': 8.179333345751163, 'COEF_CENTER_L1_SQ': 46.60166232233743, 'COEF_POINT': 34.561090268160164, 'COEF_DIST': 7122.625178555073}. Best is trial 142 with value: 1556780.0.\u001b[0m\n"
     ]
    },
    {
     "name": "stdout",
     "output_type": "stream",
     "text": [
      "callback ok\n",
      "index_parallel=24\n",
      "mkdir: cannot create directory ‘24_out’: File exists\n",
      "mkdir: cannot create directory ‘24_score’: File exists\n"
     ]
    },
    {
     "name": "stderr",
     "output_type": "stream",
     "text": [
      "\u001b[32m[I 2021-04-25 13:23:23,793]\u001b[0m Trial 218 finished with value: 1472921.0 and parameters: {'COEF_CENTER_L1': 22.264265583272692, 'COEF_CENTER_L1_SQ': 4.71423715375422, 'COEF_POINT': 34.72475332319302, 'COEF_DIST': 7086.074981819643}. Best is trial 142 with value: 1556780.0.\u001b[0m\n",
      "\u001b[32m[I 2021-04-25 13:23:23,797]\u001b[0m Trial 220 finished with value: 1530915.0 and parameters: {'COEF_CENTER_L1': 20.122507446505132, 'COEF_CENTER_L1_SQ': 4.44610835938483, 'COEF_POINT': 34.6431222787316, 'COEF_DIST': 7121.745755322766}. Best is trial 142 with value: 1556780.0.\u001b[0m\n"
     ]
    },
    {
     "name": "stdout",
     "output_type": "stream",
     "text": [
      "callback ok\n",
      "callback ok\n",
      "index_parallel=25\n",
      "mkdir: cannot create directory ‘25_out’: File exists\n",
      "index_parallel=26\n",
      "mkdir: cannot create directory ‘25_score’: File exists\n",
      "mkdir: cannot create directory ‘26_out’: File exists\n"
     ]
    },
    {
     "name": "stderr",
     "output_type": "stream",
     "text": [
      "\u001b[32m[I 2021-04-25 13:23:24,093]\u001b[0m Trial 222 finished with value: 1518908.0 and parameters: {'COEF_CENTER_L1': 6.281479637248196, 'COEF_CENTER_L1_SQ': 4.747956566027943, 'COEF_POINT': 34.55199975044199, 'COEF_DIST': 7092.589202911983}. Best is trial 142 with value: 1556780.0.\u001b[0m\n",
      "\u001b[32m[I 2021-04-25 13:23:24,142]\u001b[0m Trial 221 finished with value: 1506628.0 and parameters: {'COEF_CENTER_L1': 21.15502166854717, 'COEF_CENTER_L1_SQ': 4.612041690316154, 'COEF_POINT': 34.98414386890834, 'COEF_DIST': 7187.125453920245}. Best is trial 142 with value: 1556780.0.\u001b[0m\n"
     ]
    },
    {
     "name": "stdout",
     "output_type": "stream",
     "text": [
      "callback ok\n",
      "mkdir: cannot create directory ‘26_score’: File exists\n",
      "index_parallel=27\n",
      "mkdir: cannot create directory ‘27_out’: File exists\n",
      "callback ok\n",
      "index_parallel=28\n",
      "mkdir: cannot create directory ‘28_out’: File exists\n",
      "mkdir: cannot create directory ‘27_score’: File exists\n",
      "mkdir: cannot create directory ‘28_score’: File exists\n",
      "sed -i 24_answer.cpp -e 's/^\t\tconstexpr double COEF_CENTER_L1 = .*;  \\/\\/ OPTIMIZE \\[-100\\.0, 100\\.0\\]$/\t\tconstexpr double COEF_CENTER_L1 = 7.589997929775919;  \\/\\/ OPTIMIZE [-100.0, 100.0]/' -e 's/^\t\tconstexpr double COEF_CENTER_L1_SQ = .*;  \\/\\/ OPTIMIZE \\[0\\.0, 100\\.0\\]$/\t\tconstexpr double COEF_CENTER_L1_SQ = 8.88752715750016;  \\/\\/ OPTIMIZE [0.0, 100.0]/' -e 's/^\t\tconstexpr double COEF_POINT = .*;  \\/\\/ OPTIMIZE \\[0\\.0, 100\\.0\\]$/\t\tconstexpr double COEF_POINT = 38.94340502638852;  \\/\\/ OPTIMIZE [0.0, 100.0]/' -e 's/^\t\tconstexpr double COEF_DIST = .*;  \\/\\/ OPTIMIZE \\[0\\.0, 10000\\.0\\]$/\t\tconstexpr double COEF_DIST = 7536.501328604939;  \\/\\/ OPTIMIZE [0.0, 10000.0]/'\n",
      "g++ 24_answer.cpp -std=gnu++17 -O2 -DONLINE_JUDGE -o 24_answer.cpp.out\n",
      "sed -i 25_answer.cpp -e 's/^\t\tconstexpr double COEF_CENTER_L1 = .*;  \\/\\/ OPTIMIZE \\[-100\\.0, 100\\.0\\]$/\t\tconstexpr double COEF_CENTER_L1 = 8.056449540391245;  \\/\\/ OPTIMIZE [-100.0, 100.0]/' -e 's/^\t\tconstexpr double COEF_CENTER_L1_SQ = .*;  \\/\\/ OPTIMIZE \\[0\\.0, 100\\.0\\]$/\t\tconstexpr double COEF_CENTER_L1_SQ = 8.300096280711445;  \\/\\/ OPTIMIZE [0.0, 100.0]/' -e 's/^\t\tconstexpr double COEF_POINT = .*;  \\/\\/ OPTIMIZE \\[0\\.0, 100\\.0\\]$/\t\tconstexpr double COEF_POINT = 39.05928061111617;  \\/\\/ OPTIMIZE [0.0, 100.0]/' -e 's/^\t\tconstexpr double COEF_DIST = .*;  \\/\\/ OPTIMIZE \\[0\\.0, 10000\\.0\\]$/\t\tconstexpr double COEF_DIST = 7736.86380180123;  \\/\\/ OPTIMIZE [0.0, 10000.0]/'\n",
      "g++ 25_answer.cpp -std=gnu++17 -O2 -DONLINE_JUDGE -o 25_answer.cpp.out\n",
      "sed -i 26_answer.cpp -e 's/^\t\tconstexpr double COEF_CENTER_L1 = .*;  \\/\\/ OPTIMIZE \\[-100\\.0, 100\\.0\\]$/\t\tconstexpr double COEF_CENTER_L1 = 9.38191329876759;  \\/\\/ OPTIMIZE [-100.0, 100.0]/' -e 's/^\t\tconstexpr double COEF_CENTER_L1_SQ = .*;  \\/\\/ OPTIMIZE \\[0\\.0, 100\\.0\\]$/\t\tconstexpr double COEF_CENTER_L1_SQ = 7.9771661725923835;  \\/\\/ OPTIMIZE [0.0, 100.0]/' -e 's/^\t\tconstexpr double COEF_POINT = .*;  \\/\\/ OPTIMIZE \\[0\\.0, 100\\.0\\]$/\t\tconstexpr double COEF_POINT = 38.834525337844624;  \\/\\/ OPTIMIZE [0.0, 100.0]/' -e 's/^\t\tconstexpr double COEF_DIST = .*;  \\/\\/ OPTIMIZE \\[0\\.0, 10000\\.0\\]$/\t\tconstexpr double COEF_DIST = 7543.545559776223;  \\/\\/ OPTIMIZE [0.0, 10000.0]/'\n",
      "g++ 26_answer.cpp -std=gnu++17 -O2 -DONLINE_JUDGE -o 26_answer.cpp.out\n",
      "sed -i 27_answer.cpp -e 's/^\t\tconstexpr double COEF_CENTER_L1 = .*;  \\/\\/ OPTIMIZE \\[-100\\.0, 100\\.0\\]$/\t\tconstexpr double COEF_CENTER_L1 = -4.1870483084465455;  \\/\\/ OPTIMIZE [-100.0, 100.0]/' -e 's/^\t\tconstexpr double COEF_CENTER_L1_SQ = .*;  \\/\\/ OPTIMIZE \\[0\\.0, 100\\.0\\]$/\t\tconstexpr double COEF_CENTER_L1_SQ = 8.80676800703408;  \\/\\/ OPTIMIZE [0.0, 100.0]/' -e 's/^\t\tconstexpr double COEF_POINT = .*;  \\/\\/ OPTIMIZE \\[0\\.0, 100\\.0\\]$/\t\tconstexpr double COEF_POINT = 29.239296544775797;  \\/\\/ OPTIMIZE [0.0, 100.0]/' -e 's/^\t\tconstexpr double COEF_DIST = .*;  \\/\\/ OPTIMIZE \\[0\\.0, 10000\\.0\\]$/\t\tconstexpr double COEF_DIST = 7611.550415663452;  \\/\\/ OPTIMIZE [0.0, 10000.0]/'\n",
      "sed -i 28_answer.cpp -e 's/^\t\tconstexpr double COEF_CENTER_L1 = .*;  \\/\\/ OPTIMIZE \\[-100\\.0, 100\\.0\\]$/\t\tconstexpr double COEF_CENTER_L1 = 8.07290050944792;  \\/\\/ OPTIMIZE [-100.0, 100.0]/' -e 's/^\t\tconstexpr double COEF_CENTER_L1_SQ = .*;  \\/\\/ OPTIMIZE \\[0\\.0, 100\\.0\\]$/\t\tconstexpr double COEF_CENTER_L1_SQ = 9.061557721890182;  \\/\\/ OPTIMIZE [0.0, 100.0]/' -e 's/^\t\tconstexpr double COEF_POINT = .*;  \\/\\/ OPTIMIZE \\[0\\.0, 100\\.0\\]$/\t\tconstexpr double COEF_POINT = 39.06056422786005;  \\/\\/ OPTIMIZE [0.0, 100.0]/' -e 's/^\t\tconstexpr double COEF_DIST = .*;  \\/\\/ OPTIMIZE \\[0\\.0, 10000\\.0\\]$/\t\tconstexpr double COEF_DIST = 7756.938359695991;  \\/\\/ OPTIMIZE [0.0, 10000.0]/'\n",
      "g++ 27_answer.cpp -std=gnu++17 -O2 -DONLINE_JUDGE -o 27_answer.cpp.out\n",
      "g++ 28_answer.cpp -std=gnu++17 -O2 -DONLINE_JUDGE -o 28_answer.cpp.out\n"
     ]
    },
    {
     "name": "stderr",
     "output_type": "stream",
     "text": [
      "\u001b[32m[I 2021-04-25 13:23:30,025]\u001b[0m Trial 223 finished with value: 1479302.0 and parameters: {'COEF_CENTER_L1': 7.807551157031612, 'COEF_CENTER_L1_SQ': 4.944117874275974, 'COEF_POINT': 42.67217187023107, 'COEF_DIST': 7173.739660636416}. Best is trial 142 with value: 1556780.0.\u001b[0m\n"
     ]
    },
    {
     "name": "stdout",
     "output_type": "stream",
     "text": [
      "callback ok\n",
      "index_parallel=29\n",
      "mkdir: cannot create directory ‘29_out’: File exists\n",
      "mkdir: cannot create directory ‘29_score’: File exists\n",
      "sed -i 29_answer.cpp -e 's/^\t\tconstexpr double COEF_CENTER_L1 = .*;  \\/\\/ OPTIMIZE \\[-100\\.0, 100\\.0\\]$/\t\tconstexpr double COEF_CENTER_L1 = 37.331792156119974;  \\/\\/ OPTIMIZE [-100.0, 100.0]/' -e 's/^\t\tconstexpr double COEF_CENTER_L1_SQ = .*;  \\/\\/ OPTIMIZE \\[0\\.0, 100\\.0\\]$/\t\tconstexpr double COEF_CENTER_L1_SQ = 9.141348065249453;  \\/\\/ OPTIMIZE [0.0, 100.0]/' -e 's/^\t\tconstexpr double COEF_POINT = .*;  \\/\\/ OPTIMIZE \\[0\\.0, 100\\.0\\]$/\t\tconstexpr double COEF_POINT = 39.18991836869481;  \\/\\/ OPTIMIZE [0.0, 100.0]/' -e 's/^\t\tconstexpr double COEF_DIST = .*;  \\/\\/ OPTIMIZE \\[0\\.0, 10000\\.0\\]$/\t\tconstexpr double COEF_DIST = 7748.9512134097;  \\/\\/ OPTIMIZE [0.0, 10000.0]/'\n",
      "g++ 29_answer.cpp -std=gnu++17 -O2 -DONLINE_JUDGE -o 29_answer.cpp.out\n"
     ]
    },
    {
     "name": "stderr",
     "output_type": "stream",
     "text": [
      "\u001b[32m[I 2021-04-25 13:23:34,066]\u001b[0m Trial 224 finished with value: 1369154.0 and parameters: {'COEF_CENTER_L1': 7.589997929775919, 'COEF_CENTER_L1_SQ': 8.88752715750016, 'COEF_POINT': 38.94340502638852, 'COEF_DIST': 7536.501328604939}. Best is trial 142 with value: 1556780.0.\u001b[0m\n"
     ]
    },
    {
     "name": "stdout",
     "output_type": "stream",
     "text": [
      "callback ok\n",
      "index_parallel=30\n",
      "mkdir: cannot create directory ‘30_out’: File exists\n",
      "mkdir: cannot create directory ‘30_score’: File exists\n"
     ]
    },
    {
     "name": "stderr",
     "output_type": "stream",
     "text": [
      "\u001b[32m[I 2021-04-25 13:23:34,487]\u001b[0m Trial 225 finished with value: 1407250.0 and parameters: {'COEF_CENTER_L1': 8.056449540391245, 'COEF_CENTER_L1_SQ': 8.300096280711445, 'COEF_POINT': 39.05928061111617, 'COEF_DIST': 7736.86380180123}. Best is trial 142 with value: 1556780.0.\u001b[0m\n"
     ]
    },
    {
     "name": "stdout",
     "output_type": "stream",
     "text": [
      "callback ok\n",
      "index_parallel=31\n",
      "mkdir: cannot create directory ‘31_out’: File exists\n",
      "mkdir: cannot create directory ‘31_score’: File exists\n"
     ]
    },
    {
     "name": "stderr",
     "output_type": "stream",
     "text": [
      "\u001b[32m[I 2021-04-25 13:23:35,594]\u001b[0m Trial 226 finished with value: 1415907.0 and parameters: {'COEF_CENTER_L1': 9.38191329876759, 'COEF_CENTER_L1_SQ': 7.9771661725923835, 'COEF_POINT': 38.834525337844624, 'COEF_DIST': 7543.545559776223}. Best is trial 142 with value: 1556780.0.\u001b[0m\n",
      "\u001b[32m[I 2021-04-25 13:23:35,599]\u001b[0m Trial 227 finished with value: 1387803.0 and parameters: {'COEF_CENTER_L1': -4.1870483084465455, 'COEF_CENTER_L1_SQ': 8.80676800703408, 'COEF_POINT': 29.239296544775797, 'COEF_DIST': 7611.550415663452}. Best is trial 142 with value: 1556780.0.\u001b[0m\n",
      "\u001b[32m[I 2021-04-25 13:23:35,609]\u001b[0m Trial 228 finished with value: 1383418.0 and parameters: {'COEF_CENTER_L1': 8.07290050944792, 'COEF_CENTER_L1_SQ': 9.061557721890182, 'COEF_POINT': 39.06056422786005, 'COEF_DIST': 7756.938359695991}. Best is trial 142 with value: 1556780.0.\u001b[0m\n"
     ]
    },
    {
     "name": "stdout",
     "output_type": "stream",
     "text": [
      "callback ok\n",
      "callback ok\n",
      "callback ok\n",
      "index_parallel=32\n",
      "mkdir: cannot create directory ‘32_out’: File exists\n",
      "index_parallel=33\n",
      "mkdir: cannot create directory ‘33_out’: File exists\n",
      "mkdir: cannot create directory ‘32_score’: File exists\n",
      "index_parallel=34\n",
      "mkdir: cannot create directory ‘34_out’: File exists\n",
      "mkdir: cannot create directory ‘33_score’: File exists\n",
      "sed -i 30_answer.cpp -e 's/^\t\tconstexpr double COEF_CENTER_L1 = .*;  \\/\\/ OPTIMIZE \\[-100\\.0, 100\\.0\\]$/\t\tconstexpr double COEF_CENTER_L1 = 36.49510664939608;  \\/\\/ OPTIMIZE [-100.0, 100.0]/' -e 's/^\t\tconstexpr double COEF_CENTER_L1_SQ = .*;  \\/\\/ OPTIMIZE \\[0\\.0, 100\\.0\\]$/\t\tconstexpr double COEF_CENTER_L1_SQ = 3.6841632174775576;  \\/\\/ OPTIMIZE [0.0, 100.0]/' -e 's/^\t\tconstexpr double COEF_POINT = .*;  \\/\\/ OPTIMIZE \\[0\\.0, 100\\.0\\]$/\t\tconstexpr double COEF_POINT = 0.5979767071936859;  \\/\\/ OPTIMIZE [0.0, 100.0]/' -e 's/^\t\tconstexpr double COEF_DIST = .*;  \\/\\/ OPTIMIZE \\[0\\.0, 10000\\.0\\]$/\t\tconstexpr double COEF_DIST = 6799.629289523591;  \\/\\/ OPTIMIZE [0.0, 10000.0]/'\n",
      "sed -i 31_answer.cpp -e 's/^\t\tconstexpr double COEF_CENTER_L1 = .*;  \\/\\/ OPTIMIZE \\[-100\\.0, 100\\.0\\]$/\t\tconstexpr double COEF_CENTER_L1 = 40.95549193967951;  \\/\\/ OPTIMIZE [-100.0, 100.0]/' -e 's/^\t\tconstexpr double COEF_CENTER_L1_SQ = .*;  \\/\\/ OPTIMIZE \\[0\\.0, 100\\.0\\]$/\t\tconstexpr double COEF_CENTER_L1_SQ = 3.280918398687122;  \\/\\/ OPTIMIZE [0.0, 100.0]/' -e 's/^\t\tconstexpr double COEF_POINT = .*;  \\/\\/ OPTIMIZE \\[0\\.0, 100\\.0\\]$/\t\tconstexpr double COEF_POINT = 41.57172883809937;  \\/\\/ OPTIMIZE [0.0, 100.0]/' -e 's/^\t\tconstexpr double COEF_DIST = .*;  \\/\\/ OPTIMIZE \\[0\\.0, 10000\\.0\\]$/\t\tconstexpr double COEF_DIST = 6805.2560098165395;  \\/\\/ OPTIMIZE [0.0, 10000.0]/'\n",
      "mkdir: cannot create directory ‘34_score’: File exists\n",
      "g++ 30_answer.cpp -std=gnu++17 -O2 -DONLINE_JUDGE -o 30_answer.cpp.out\n",
      "g++ 31_answer.cpp -std=gnu++17 -O2 -DONLINE_JUDGE -o 31_answer.cpp.out\n",
      "sed -i 32_answer.cpp -e 's/^\t\tconstexpr double COEF_CENTER_L1 = .*;  \\/\\/ OPTIMIZE \\[-100\\.0, 100\\.0\\]$/\t\tconstexpr double COEF_CENTER_L1 = 38.55078864008808;  \\/\\/ OPTIMIZE [-100.0, 100.0]/' -e 's/^\t\tconstexpr double COEF_CENTER_L1_SQ = .*;  \\/\\/ OPTIMIZE \\[0\\.0, 100\\.0\\]$/\t\tconstexpr double COEF_CENTER_L1_SQ = 3.064092148794194;  \\/\\/ OPTIMIZE [0.0, 100.0]/' -e 's/^\t\tconstexpr double COEF_POINT = .*;  \\/\\/ OPTIMIZE \\[0\\.0, 100\\.0\\]$/\t\tconstexpr double COEF_POINT = 42.24311806145617;  \\/\\/ OPTIMIZE [0.0, 100.0]/' -e 's/^\t\tconstexpr double COEF_DIST = .*;  \\/\\/ OPTIMIZE \\[0\\.0, 10000\\.0\\]$/\t\tconstexpr double COEF_DIST = 6802.0017115092905;  \\/\\/ OPTIMIZE [0.0, 10000.0]/'\n",
      "g++ 32_answer.cpp -std=gnu++17 -O2 -DONLINE_JUDGE -o 32_answer.cpp.out\n",
      "sed -i 33_answer.cpp -e 's/^\t\tconstexpr double COEF_CENTER_L1 = .*;  \\/\\/ OPTIMIZE \\[-100\\.0, 100\\.0\\]$/\t\tconstexpr double COEF_CENTER_L1 = 35.97222215835715;  \\/\\/ OPTIMIZE [-100.0, 100.0]/' -e 's/^\t\tconstexpr double COEF_CENTER_L1_SQ = .*;  \\/\\/ OPTIMIZE \\[0\\.0, 100\\.0\\]$/\t\tconstexpr double COEF_CENTER_L1_SQ = 3.679043887849815;  \\/\\/ OPTIMIZE [0.0, 100.0]/' -e 's/^\t\tconstexpr double COEF_POINT = .*;  \\/\\/ OPTIMIZE \\[0\\.0, 100\\.0\\]$/\t\tconstexpr double COEF_POINT = 33.9452071599988;  \\/\\/ OPTIMIZE [0.0, 100.0]/' -e 's/^\t\tconstexpr double COEF_DIST = .*;  \\/\\/ OPTIMIZE \\[0\\.0, 10000\\.0\\]$/\t\tconstexpr double COEF_DIST = 6799.1463833138305;  \\/\\/ OPTIMIZE [0.0, 10000.0]/'\n",
      "g++ 33_answer.cpp -std=gnu++17 -O2 -DONLINE_JUDGE -o 33_answer.cpp.out\n",
      "sed -i 34_answer.cpp -e 's/^\t\tconstexpr double COEF_CENTER_L1 = .*;  \\/\\/ OPTIMIZE \\[-100\\.0, 100\\.0\\]$/\t\tconstexpr double COEF_CENTER_L1 = -71.44814243773179;  \\/\\/ OPTIMIZE [-100.0, 100.0]/' -e 's/^\t\tconstexpr double COEF_CENTER_L1_SQ = .*;  \\/\\/ OPTIMIZE \\[0\\.0, 100\\.0\\]$/\t\tconstexpr double COEF_CENTER_L1_SQ = 0.06722775590950292;  \\/\\/ OPTIMIZE [0.0, 100.0]/' -e 's/^\t\tconstexpr double COEF_POINT = .*;  \\/\\/ OPTIMIZE \\[0\\.0, 100\\.0\\]$/\t\tconstexpr double COEF_POINT = 41.170524261403095;  \\/\\/ OPTIMIZE [0.0, 100.0]/' -e 's/^\t\tconstexpr double COEF_DIST = .*;  \\/\\/ OPTIMIZE \\[0\\.0, 10000\\.0\\]$/\t\tconstexpr double COEF_DIST = 6893.093185365397;  \\/\\/ OPTIMIZE [0.0, 10000.0]/'\n",
      "g++ 34_answer.cpp -std=gnu++17 -O2 -DONLINE_JUDGE -o 34_answer.cpp.out\n"
     ]
    },
    {
     "name": "stderr",
     "output_type": "stream",
     "text": [
      "\u001b[32m[I 2021-04-25 13:23:39,878]\u001b[0m Trial 229 finished with value: 1396036.0 and parameters: {'COEF_CENTER_L1': 37.331792156119974, 'COEF_CENTER_L1_SQ': 9.141348065249453, 'COEF_POINT': 39.18991836869481, 'COEF_DIST': 7748.9512134097}. Best is trial 142 with value: 1556780.0.\u001b[0m\n"
     ]
    },
    {
     "name": "stdout",
     "output_type": "stream",
     "text": [
      "callback ok\n",
      "index_parallel=35\n",
      "mkdir: cannot create directory ‘35_out’: File exists\n",
      "mkdir: cannot create directory ‘35_score’: File exists\n",
      "sed -i 35_answer.cpp -e 's/^\t\tconstexpr double COEF_CENTER_L1 = .*;  \\/\\/ OPTIMIZE \\[-100\\.0, 100\\.0\\]$/\t\tconstexpr double COEF_CENTER_L1 = -3.466568780443601;  \\/\\/ OPTIMIZE [-100.0, 100.0]/' -e 's/^\t\tconstexpr double COEF_CENTER_L1_SQ = .*;  \\/\\/ OPTIMIZE \\[0\\.0, 100\\.0\\]$/\t\tconstexpr double COEF_CENTER_L1_SQ = 3.6210828473220795;  \\/\\/ OPTIMIZE [0.0, 100.0]/' -e 's/^\t\tconstexpr double COEF_POINT = .*;  \\/\\/ OPTIMIZE \\[0\\.0, 100\\.0\\]$/\t\tconstexpr double COEF_POINT = 42.40153863822007;  \\/\\/ OPTIMIZE [0.0, 100.0]/' -e 's/^\t\tconstexpr double COEF_DIST = .*;  \\/\\/ OPTIMIZE \\[0\\.0, 10000\\.0\\]$/\t\tconstexpr double COEF_DIST = 6797.511781237048;  \\/\\/ OPTIMIZE [0.0, 10000.0]/'\n",
      "g++ 35_answer.cpp -std=gnu++17 -O2 -DONLINE_JUDGE -o 35_answer.cpp.out\n"
     ]
    },
    {
     "name": "stderr",
     "output_type": "stream",
     "text": [
      "\u001b[32m[I 2021-04-25 13:23:45,775]\u001b[0m Trial 230 finished with value: 1390340.0 and parameters: {'COEF_CENTER_L1': 36.49510664939608, 'COEF_CENTER_L1_SQ': 3.6841632174775576, 'COEF_POINT': 0.5979767071936859, 'COEF_DIST': 6799.629289523591}. Best is trial 142 with value: 1556780.0.\u001b[0m\n",
      "\u001b[32m[I 2021-04-25 13:23:45,782]\u001b[0m Trial 231 finished with value: 1534129.0 and parameters: {'COEF_CENTER_L1': 40.95549193967951, 'COEF_CENTER_L1_SQ': 3.280918398687122, 'COEF_POINT': 41.57172883809937, 'COEF_DIST': 6805.2560098165395}. Best is trial 142 with value: 1556780.0.\u001b[0m\n"
     ]
    },
    {
     "name": "stdout",
     "output_type": "stream",
     "text": [
      "callback ok\n",
      "callback ok\n",
      "index_parallel=36\n",
      "mkdir: cannot create directory ‘36_out’: File exists\n",
      "mkdir: cannot create directory ‘36_score’: File exists\n",
      "index_parallel=37\n",
      "mkdir: cannot create directory ‘37_out’: File exists\n",
      "mkdir: cannot create directory ‘37_score’: File exists\n",
      "sed -i 36_answer.cpp -e 's/^\t\tconstexpr double COEF_CENTER_L1 = .*;  \\/\\/ OPTIMIZE \\[-100\\.0, 100\\.0\\]$/\t\tconstexpr double COEF_CENTER_L1 = -4.740115173879172;  \\/\\/ OPTIMIZE [-100.0, 100.0]/' -e 's/^\t\tconstexpr double COEF_CENTER_L1_SQ = .*;  \\/\\/ OPTIMIZE \\[0\\.0, 100\\.0\\]$/\t\tconstexpr double COEF_CENTER_L1_SQ = 5.17417643055619;  \\/\\/ OPTIMIZE [0.0, 100.0]/' -e 's/^\t\tconstexpr double COEF_POINT = .*;  \\/\\/ OPTIMIZE \\[0\\.0, 100\\.0\\]$/\t\tconstexpr double COEF_POINT = 33.78087809301586;  \\/\\/ OPTIMIZE [0.0, 100.0]/' -e 's/^\t\tconstexpr double COEF_DIST = .*;  \\/\\/ OPTIMIZE \\[0\\.0, 10000\\.0\\]$/\t\tconstexpr double COEF_DIST = 7309.313414595207;  \\/\\/ OPTIMIZE [0.0, 10000.0]/'\n",
      "g++ 36_answer.cpp -std=gnu++17 -O2 -DONLINE_JUDGE -o 36_answer.cpp.out\n"
     ]
    },
    {
     "name": "stderr",
     "output_type": "stream",
     "text": [
      "\u001b[32m[I 2021-04-25 13:23:49,311]\u001b[0m Trial 233 finished with value: 1518669.0 and parameters: {'COEF_CENTER_L1': 35.97222215835715, 'COEF_CENTER_L1_SQ': 3.679043887849815, 'COEF_POINT': 33.9452071599988, 'COEF_DIST': 6799.1463833138305}. Best is trial 142 with value: 1556780.0.\u001b[0m\n",
      "\u001b[32m[I 2021-04-25 13:23:49,315]\u001b[0m Trial 232 finished with value: 1523646.0 and parameters: {'COEF_CENTER_L1': 38.55078864008808, 'COEF_CENTER_L1_SQ': 3.064092148794194, 'COEF_POINT': 42.24311806145617, 'COEF_DIST': 6802.0017115092905}. Best is trial 142 with value: 1556780.0.\u001b[0m\n"
     ]
    },
    {
     "name": "stdout",
     "output_type": "stream",
     "text": [
      "sed -i 37_answer.cpp -e 's/^\t\tconstexpr double COEF_CENTER_L1 = .*;  \\/\\/ OPTIMIZE \\[-100\\.0, 100\\.0\\]$/\t\tconstexpr double COEF_CENTER_L1 = 53.029379774653954;  \\/\\/ OPTIMIZE [-100.0, 100.0]/' -e 's/^\t\tconstexpr double COEF_CENTER_L1_SQ = .*;  \\/\\/ OPTIMIZE \\[0\\.0, 100\\.0\\]$/\t\tconstexpr double COEF_CENTER_L1_SQ = 5.361893662186847;  \\/\\/ OPTIMIZE [0.0, 100.0]/' -e 's/^\t\tconstexpr double COEF_POINT = .*;  \\/\\/ OPTIMIZE \\[0\\.0, 100\\.0\\]$/\t\tconstexpr double COEF_POINT = 42.60735753446741;  \\/\\/ OPTIMIZE [0.0, 100.0]/' -e 's/^\t\tconstexpr double COEF_DIST = .*;  \\/\\/ OPTIMIZE \\[0\\.0, 10000\\.0\\]$/\t\tconstexpr double COEF_DIST = 7291.407061207803;  \\/\\/ OPTIMIZE [0.0, 10000.0]/'\n"
     ]
    },
    {
     "name": "stderr",
     "output_type": "stream",
     "text": [
      "\u001b[32m[I 2021-04-25 13:23:49,368]\u001b[0m Trial 234 finished with value: 1471357.0 and parameters: {'COEF_CENTER_L1': -71.44814243773179, 'COEF_CENTER_L1_SQ': 0.06722775590950292, 'COEF_POINT': 41.170524261403095, 'COEF_DIST': 6893.093185365397}. Best is trial 142 with value: 1556780.0.\u001b[0m\n"
     ]
    },
    {
     "name": "stdout",
     "output_type": "stream",
     "text": [
      "callback ok\n",
      "callback ok\n",
      "callback ok\n",
      "index_parallel=39index_parallel=38\n",
      "\n",
      "mkdir: cannot create directory ‘39_out’: File exists\n",
      "mkdir: cannot create directory ‘38_out’: File exists\n",
      "index_parallel=40\n",
      "g++ 37_answer.cpp -std=gnu++17 -O2 -DONLINE_JUDGE -o 37_answer.cpp.out\n",
      "mkdir: cannot create directory ‘40_out’: File exists\n",
      "mkdir: cannot create directory ‘39_score’: File exists\n",
      "mkdir: cannot create directory ‘38_score’: File exists\n",
      "mkdir: cannot create directory ‘40_score’: File exists\n",
      "sed -i 39_answer.cpp -e 's/^\t\tconstexpr double COEF_CENTER_L1 = .*;  \\/\\/ OPTIMIZE \\[-100\\.0, 100\\.0\\]$/\t\tconstexpr double COEF_CENTER_L1 = 35.71273076262733;  \\/\\/ OPTIMIZE [-100.0, 100.0]/' -e 's/^\t\tconstexpr double COEF_CENTER_L1_SQ = .*;  \\/\\/ OPTIMIZE \\[0\\.0, 100\\.0\\]$/\t\tconstexpr double COEF_CENTER_L1_SQ = 5.779121251249826;  \\/\\/ OPTIMIZE [0.0, 100.0]/' -e 's/^\t\tconstexpr double COEF_POINT = .*;  \\/\\/ OPTIMIZE \\[0\\.0, 100\\.0\\]$/\t\tconstexpr double COEF_POINT = 33.30852529335904;  \\/\\/ OPTIMIZE [0.0, 100.0]/' -e 's/^\t\tconstexpr double COEF_DIST = .*;  \\/\\/ OPTIMIZE \\[0\\.0, 10000\\.0\\]$/\t\tconstexpr double COEF_DIST = 7267.649180245481;  \\/\\/ OPTIMIZE [0.0, 10000.0]/'\n",
      "sed -i 38_answer.cpp -e 's/^\t\tconstexpr double COEF_CENTER_L1 = .*;  \\/\\/ OPTIMIZE \\[-100\\.0, 100\\.0\\]$/\t\tconstexpr double COEF_CENTER_L1 = 44.8382457646649;  \\/\\/ OPTIMIZE [-100.0, 100.0]/' -e 's/^\t\tconstexpr double COEF_CENTER_L1_SQ = .*;  \\/\\/ OPTIMIZE \\[0\\.0, 100\\.0\\]$/\t\tconstexpr double COEF_CENTER_L1_SQ = 5.257020187923556;  \\/\\/ OPTIMIZE [0.0, 100.0]/' -e 's/^\t\tconstexpr double COEF_POINT = .*;  \\/\\/ OPTIMIZE \\[0\\.0, 100\\.0\\]$/\t\tconstexpr double COEF_POINT = 33.16835057718413;  \\/\\/ OPTIMIZE [0.0, 100.0]/' -e 's/^\t\tconstexpr double COEF_DIST = .*;  \\/\\/ OPTIMIZE \\[0\\.0, 10000\\.0\\]$/\t\tconstexpr double COEF_DIST = 6298.506645863931;  \\/\\/ OPTIMIZE [0.0, 10000.0]/'\n",
      "sed -i 40_answer.cpp -e 's/^\t\tconstexpr double COEF_CENTER_L1 = .*;  \\/\\/ OPTIMIZE \\[-100\\.0, 100\\.0\\]$/\t\tconstexpr double COEF_CENTER_L1 = 40.36546670407644;  \\/\\/ OPTIMIZE [-100.0, 100.0]/' -e 's/^\t\tconstexpr double COEF_CENTER_L1_SQ = .*;  \\/\\/ OPTIMIZE \\[0\\.0, 100\\.0\\]$/\t\tconstexpr double COEF_CENTER_L1_SQ = 5.497952891375684;  \\/\\/ OPTIMIZE [0.0, 100.0]/' -e 's/^\t\tconstexpr double COEF_POINT = .*;  \\/\\/ OPTIMIZE \\[0\\.0, 100\\.0\\]$/\t\tconstexpr double COEF_POINT = 34.028975335344555;  \\/\\/ OPTIMIZE [0.0, 100.0]/' -e 's/^\t\tconstexpr double COEF_DIST = .*;  \\/\\/ OPTIMIZE \\[0\\.0, 10000\\.0\\]$/\t\tconstexpr double COEF_DIST = 7251.627237023919;  \\/\\/ OPTIMIZE [0.0, 10000.0]/'\n",
      "g++ 39_answer.cpp -std=gnu++17 -O2 -DONLINE_JUDGE -o 39_answer.cpp.out\n",
      "g++ 38_answer.cpp -std=gnu++17 -O2 -DONLINE_JUDGE -o 38_answer.cpp.out\n"
     ]
    },
    {
     "name": "stderr",
     "output_type": "stream",
     "text": [
      "\u001b[32m[I 2021-04-25 13:23:50,931]\u001b[0m Trial 235 finished with value: 1535991.0 and parameters: {'COEF_CENTER_L1': -3.466568780443601, 'COEF_CENTER_L1_SQ': 3.6210828473220795, 'COEF_POINT': 42.40153863822007, 'COEF_DIST': 6797.511781237048}. Best is trial 142 with value: 1556780.0.\u001b[0m\n"
     ]
    },
    {
     "name": "stdout",
     "output_type": "stream",
     "text": [
      "callback ok\n",
      "g++ 40_answer.cpp -std=gnu++17 -O2 -DONLINE_JUDGE -o 40_answer.cpp.out\n",
      "index_parallel=41\n",
      "mkdir: cannot create directory ‘41_out’: File exists\n",
      "mkdir: cannot create directory ‘41_score’: File exists\n",
      "sed -i 41_answer.cpp -e 's/^\t\tconstexpr double COEF_CENTER_L1 = .*;  \\/\\/ OPTIMIZE \\[-100\\.0, 100\\.0\\]$/\t\tconstexpr double COEF_CENTER_L1 = 44.03740185422446;  \\/\\/ OPTIMIZE [-100.0, 100.0]/' -e 's/^\t\tconstexpr double COEF_CENTER_L1_SQ = .*;  \\/\\/ OPTIMIZE \\[0\\.0, 100\\.0\\]$/\t\tconstexpr double COEF_CENTER_L1_SQ = 5.370445563705221;  \\/\\/ OPTIMIZE [0.0, 100.0]/' -e 's/^\t\tconstexpr double COEF_POINT = .*;  \\/\\/ OPTIMIZE \\[0\\.0, 100\\.0\\]$/\t\tconstexpr double COEF_POINT = 42.422917439732586;  \\/\\/ OPTIMIZE [0.0, 100.0]/' -e 's/^\t\tconstexpr double COEF_DIST = .*;  \\/\\/ OPTIMIZE \\[0\\.0, 10000\\.0\\]$/\t\tconstexpr double COEF_DIST = 6333.922829209287;  \\/\\/ OPTIMIZE [0.0, 10000.0]/'\n",
      "g++ 41_answer.cpp -std=gnu++17 -O2 -DONLINE_JUDGE -o 41_answer.cpp.out\n"
     ]
    },
    {
     "name": "stderr",
     "output_type": "stream",
     "text": [
      "\u001b[32m[I 2021-04-25 13:23:58,768]\u001b[0m Trial 236 finished with value: 1491142.0 and parameters: {'COEF_CENTER_L1': -4.740115173879172, 'COEF_CENTER_L1_SQ': 5.17417643055619, 'COEF_POINT': 33.78087809301586, 'COEF_DIST': 7309.313414595207}. Best is trial 142 with value: 1556780.0.\u001b[0m\n"
     ]
    },
    {
     "name": "stdout",
     "output_type": "stream",
     "text": [
      "callback ok\n",
      "index_parallel=42\n",
      "mkdir: cannot create directory ‘42_out’: File exists\n",
      "mkdir: cannot create directory ‘42_score’: File exists\n"
     ]
    },
    {
     "name": "stderr",
     "output_type": "stream",
     "text": [
      "\u001b[32m[I 2021-04-25 13:23:59,794]\u001b[0m Trial 237 finished with value: 1480350.0 and parameters: {'COEF_CENTER_L1': 53.029379774653954, 'COEF_CENTER_L1_SQ': 5.361893662186847, 'COEF_POINT': 42.60735753446741, 'COEF_DIST': 7291.407061207803}. Best is trial 142 with value: 1556780.0.\u001b[0m\n"
     ]
    },
    {
     "name": "stdout",
     "output_type": "stream",
     "text": [
      "callback ok\n",
      "index_parallel=43\n",
      "mkdir: cannot create directory ‘43_out’: File exists\n",
      "mkdir: cannot create directory ‘43_score’: File exists\n",
      "sed -i 42_answer.cpp -e 's/^\t\tconstexpr double COEF_CENTER_L1 = .*;  \\/\\/ OPTIMIZE \\[-100\\.0, 100\\.0\\]$/\t\tconstexpr double COEF_CENTER_L1 = 43.03259315446505;  \\/\\/ OPTIMIZE [-100.0, 100.0]/' -e 's/^\t\tconstexpr double COEF_CENTER_L1_SQ = .*;  \\/\\/ OPTIMIZE \\[0\\.0, 100\\.0\\]$/\t\tconstexpr double COEF_CENTER_L1_SQ = 3.000785485780547;  \\/\\/ OPTIMIZE [0.0, 100.0]/' -e 's/^\t\tconstexpr double COEF_POINT = .*;  \\/\\/ OPTIMIZE \\[0\\.0, 100\\.0\\]$/\t\tconstexpr double COEF_POINT = 47.9813096178554;  \\/\\/ OPTIMIZE [0.0, 100.0]/' -e 's/^\t\tconstexpr double COEF_DIST = .*;  \\/\\/ OPTIMIZE \\[0\\.0, 10000\\.0\\]$/\t\tconstexpr double COEF_DIST = 7012.814546743586;  \\/\\/ OPTIMIZE [0.0, 10000.0]/'\n",
      "g++ 42_answer.cpp -std=gnu++17 -O2 -DONLINE_JUDGE -o 42_answer.cpp.out\n",
      "sed -i 43_answer.cpp -e 's/^\t\tconstexpr double COEF_CENTER_L1 = .*;  \\/\\/ OPTIMIZE \\[-100\\.0, 100\\.0\\]$/\t\tconstexpr double COEF_CENTER_L1 = 32.11867521150892;  \\/\\/ OPTIMIZE [-100.0, 100.0]/' -e 's/^\t\tconstexpr double COEF_CENTER_L1_SQ = .*;  \\/\\/ OPTIMIZE \\[0\\.0, 100\\.0\\]$/\t\tconstexpr double COEF_CENTER_L1_SQ = 2.8511073302866152;  \\/\\/ OPTIMIZE [0.0, 100.0]/' -e 's/^\t\tconstexpr double COEF_POINT = .*;  \\/\\/ OPTIMIZE \\[0\\.0, 100\\.0\\]$/\t\tconstexpr double COEF_POINT = 48.24145273257008;  \\/\\/ OPTIMIZE [0.0, 100.0]/' -e 's/^\t\tconstexpr double COEF_DIST = .*;  \\/\\/ OPTIMIZE \\[0\\.0, 10000\\.0\\]$/\t\tconstexpr double COEF_DIST = 7100.250074982562;  \\/\\/ OPTIMIZE [0.0, 10000.0]/'\n",
      "g++ 43_answer.cpp -std=gnu++17 -O2 -DONLINE_JUDGE -o 43_answer.cpp.out\n"
     ]
    },
    {
     "name": "stderr",
     "output_type": "stream",
     "text": [
      "\u001b[32m[I 2021-04-25 13:24:02,095]\u001b[0m Trial 238 finished with value: 1407354.0 and parameters: {'COEF_CENTER_L1': 44.8382457646649, 'COEF_CENTER_L1_SQ': 5.257020187923556, 'COEF_POINT': 33.16835057718413, 'COEF_DIST': 6298.506645863931}. Best is trial 142 with value: 1556780.0.\u001b[0m\n"
     ]
    },
    {
     "name": "stdout",
     "output_type": "stream",
     "text": [
      "callback ok\n",
      "index_parallel=44\n",
      "mkdir: cannot create directory ‘44_out’: File exists\n"
     ]
    },
    {
     "name": "stderr",
     "output_type": "stream",
     "text": [
      "\u001b[32m[I 2021-04-25 13:24:02,316]\u001b[0m Trial 240 finished with value: 1472936.0 and parameters: {'COEF_CENTER_L1': 40.36546670407644, 'COEF_CENTER_L1_SQ': 5.497952891375684, 'COEF_POINT': 34.028975335344555, 'COEF_DIST': 7251.627237023919}. Best is trial 142 with value: 1556780.0.\u001b[0m\n",
      "\u001b[32m[I 2021-04-25 13:24:02,329]\u001b[0m Trial 239 finished with value: 1450144.0 and parameters: {'COEF_CENTER_L1': 35.71273076262733, 'COEF_CENTER_L1_SQ': 5.779121251249826, 'COEF_POINT': 33.30852529335904, 'COEF_DIST': 7267.649180245481}. Best is trial 142 with value: 1556780.0.\u001b[0m\n"
     ]
    },
    {
     "name": "stdout",
     "output_type": "stream",
     "text": [
      "callback ok\n",
      "callback ok\n",
      "mkdir: cannot create directory ‘44_score’: File exists\n",
      "index_parallel=45\n",
      "mkdir: cannot create directory ‘45_out’: File exists\n",
      "index_parallel=46\n",
      "mkdir: cannot create directory ‘46_out’: File exists\n",
      "mkdir: cannot create directory ‘45_score’: File exists\n",
      "mkdir: cannot create directory ‘46_score’: File exists\n"
     ]
    },
    {
     "name": "stderr",
     "output_type": "stream",
     "text": [
      "\u001b[32m[I 2021-04-25 13:24:02,759]\u001b[0m Trial 241 finished with value: 1430588.0 and parameters: {'COEF_CENTER_L1': 44.03740185422446, 'COEF_CENTER_L1_SQ': 5.370445563705221, 'COEF_POINT': 42.422917439732586, 'COEF_DIST': 6333.922829209287}. Best is trial 142 with value: 1556780.0.\u001b[0m\n"
     ]
    },
    {
     "name": "stdout",
     "output_type": "stream",
     "text": [
      "callback ok\n",
      "index_parallel=47\n",
      "mkdir: cannot create directory ‘47_out’: File exists\n",
      "mkdir: cannot create directory ‘47_score’: File exists\n",
      "sed -i 44_answer.cpp -e 's/^\t\tconstexpr double COEF_CENTER_L1 = .*;  \\/\\/ OPTIMIZE \\[-100\\.0, 100\\.0\\]$/\t\tconstexpr double COEF_CENTER_L1 = 50.43904791603145;  \\/\\/ OPTIMIZE [-100.0, 100.0]/' -e 's/^\t\tconstexpr double COEF_CENTER_L1_SQ = .*;  \\/\\/ OPTIMIZE \\[0\\.0, 100\\.0\\]$/\t\tconstexpr double COEF_CENTER_L1_SQ = 2.0537890348043626;  \\/\\/ OPTIMIZE [0.0, 100.0]/' -e 's/^\t\tconstexpr double COEF_POINT = .*;  \\/\\/ OPTIMIZE \\[0\\.0, 100\\.0\\]$/\t\tconstexpr double COEF_POINT = 47.42289155083351;  \\/\\/ OPTIMIZE [0.0, 100.0]/' -e 's/^\t\tconstexpr double COEF_DIST = .*;  \\/\\/ OPTIMIZE \\[0\\.0, 10000\\.0\\]$/\t\tconstexpr double COEF_DIST = 7022.516052923569;  \\/\\/ OPTIMIZE [0.0, 10000.0]/'\n",
      "g++ 44_answer.cpp -std=gnu++17 -O2 -DONLINE_JUDGE -o 44_answer.cpp.out\n",
      "sed -i 45_answer.cpp -e 's/^\t\tconstexpr double COEF_CENTER_L1 = .*;  \\/\\/ OPTIMIZE \\[-100\\.0, 100\\.0\\]$/\t\tconstexpr double COEF_CENTER_L1 = 31.041656314848264;  \\/\\/ OPTIMIZE [-100.0, 100.0]/' -e 's/^\t\tconstexpr double COEF_CENTER_L1_SQ = .*;  \\/\\/ OPTIMIZE \\[0\\.0, 100\\.0\\]$/\t\tconstexpr double COEF_CENTER_L1_SQ = 2.559646738173777;  \\/\\/ OPTIMIZE [0.0, 100.0]/' -e 's/^\t\tconstexpr double COEF_POINT = .*;  \\/\\/ OPTIMIZE \\[0\\.0, 100\\.0\\]$/\t\tconstexpr double COEF_POINT = 43.88836008588464;  \\/\\/ OPTIMIZE [0.0, 100.0]/' -e 's/^\t\tconstexpr double COEF_DIST = .*;  \\/\\/ OPTIMIZE \\[0\\.0, 10000\\.0\\]$/\t\tconstexpr double COEF_DIST = 7075.9900423186955;  \\/\\/ OPTIMIZE [0.0, 10000.0]/'\n",
      "sed -i 46_answer.cpp -e 's/^\t\tconstexpr double COEF_CENTER_L1 = .*;  \\/\\/ OPTIMIZE \\[-100\\.0, 100\\.0\\]$/\t\tconstexpr double COEF_CENTER_L1 = 30.1426742057877;  \\/\\/ OPTIMIZE [-100.0, 100.0]/' -e 's/^\t\tconstexpr double COEF_CENTER_L1_SQ = .*;  \\/\\/ OPTIMIZE \\[0\\.0, 100\\.0\\]$/\t\tconstexpr double COEF_CENTER_L1_SQ = 2.6436337090893898;  \\/\\/ OPTIMIZE [0.0, 100.0]/' -e 's/^\t\tconstexpr double COEF_POINT = .*;  \\/\\/ OPTIMIZE \\[0\\.0, 100\\.0\\]$/\t\tconstexpr double COEF_POINT = 46.76422008388041;  \\/\\/ OPTIMIZE [0.0, 100.0]/' -e 's/^\t\tconstexpr double COEF_DIST = .*;  \\/\\/ OPTIMIZE \\[0\\.0, 10000\\.0\\]$/\t\tconstexpr double COEF_DIST = 7018.5771804720425;  \\/\\/ OPTIMIZE [0.0, 10000.0]/'\n",
      "g++ 45_answer.cpp -std=gnu++17 -O2 -DONLINE_JUDGE -o 45_answer.cpp.out\n",
      "g++ 46_answer.cpp -std=gnu++17 -O2 -DONLINE_JUDGE -o 46_answer.cpp.out\n",
      "sed -i 47_answer.cpp -e 's/^\t\tconstexpr double COEF_CENTER_L1 = .*;  \\/\\/ OPTIMIZE \\[-100\\.0, 100\\.0\\]$/\t\tconstexpr double COEF_CENTER_L1 = 33.558903568613175;  \\/\\/ OPTIMIZE [-100.0, 100.0]/' -e 's/^\t\tconstexpr double COEF_CENTER_L1_SQ = .*;  \\/\\/ OPTIMIZE \\[0\\.0, 100\\.0\\]$/\t\tconstexpr double COEF_CENTER_L1_SQ = 2.1873243910247298;  \\/\\/ OPTIMIZE [0.0, 100.0]/' -e 's/^\t\tconstexpr double COEF_POINT = .*;  \\/\\/ OPTIMIZE \\[0\\.0, 100\\.0\\]$/\t\tconstexpr double COEF_POINT = 49.061495438096706;  \\/\\/ OPTIMIZE [0.0, 100.0]/' -e 's/^\t\tconstexpr double COEF_DIST = .*;  \\/\\/ OPTIMIZE \\[0\\.0, 10000\\.0\\]$/\t\tconstexpr double COEF_DIST = 7007.326742198625;  \\/\\/ OPTIMIZE [0.0, 10000.0]/'\n",
      "g++ 47_answer.cpp -std=gnu++17 -O2 -DONLINE_JUDGE -o 47_answer.cpp.out\n"
     ]
    },
    {
     "name": "stderr",
     "output_type": "stream",
     "text": [
      "\u001b[32m[I 2021-04-25 13:24:10,746]\u001b[0m Trial 242 finished with value: 1514850.0 and parameters: {'COEF_CENTER_L1': 43.03259315446505, 'COEF_CENTER_L1_SQ': 3.000785485780547, 'COEF_POINT': 47.9813096178554, 'COEF_DIST': 7012.814546743586}. Best is trial 142 with value: 1556780.0.\u001b[0m\n"
     ]
    },
    {
     "name": "stdout",
     "output_type": "stream",
     "text": [
      "callback ok\n",
      "index_parallel=48\n",
      "mkdir: cannot create directory ‘48_out’: File exists\n",
      "mkdir: cannot create directory ‘48_score’: File exists\n"
     ]
    },
    {
     "name": "stderr",
     "output_type": "stream",
     "text": [
      "\u001b[32m[I 2021-04-25 13:24:12,216]\u001b[0m Trial 243 finished with value: 1516834.0 and parameters: {'COEF_CENTER_L1': 32.11867521150892, 'COEF_CENTER_L1_SQ': 2.8511073302866152, 'COEF_POINT': 48.24145273257008, 'COEF_DIST': 7100.250074982562}. Best is trial 142 with value: 1556780.0.\u001b[0m\n"
     ]
    },
    {
     "name": "stdout",
     "output_type": "stream",
     "text": [
      "callback ok\n",
      "index_parallel=49\n",
      "mkdir: cannot create directory ‘49_out’: File exists\n",
      "mkdir: cannot create directory ‘49_score’: File exists\n",
      "sed -i 48_answer.cpp -e 's/^\t\tconstexpr double COEF_CENTER_L1 = .*;  \\/\\/ OPTIMIZE \\[-100\\.0, 100\\.0\\]$/\t\tconstexpr double COEF_CENTER_L1 = 51.071199463854015;  \\/\\/ OPTIMIZE [-100.0, 100.0]/' -e 's/^\t\tconstexpr double COEF_CENTER_L1_SQ = .*;  \\/\\/ OPTIMIZE \\[0\\.0, 100\\.0\\]$/\t\tconstexpr double COEF_CENTER_L1_SQ = 1.3604360269055138;  \\/\\/ OPTIMIZE [0.0, 100.0]/' -e 's/^\t\tconstexpr double COEF_POINT = .*;  \\/\\/ OPTIMIZE \\[0\\.0, 100\\.0\\]$/\t\tconstexpr double COEF_POINT = 30.572661528058905;  \\/\\/ OPTIMIZE [0.0, 100.0]/' -e 's/^\t\tconstexpr double COEF_DIST = .*;  \\/\\/ OPTIMIZE \\[0\\.0, 10000\\.0\\]$/\t\tconstexpr double COEF_DIST = 6743.994066798155;  \\/\\/ OPTIMIZE [0.0, 10000.0]/'\n",
      "g++ 48_answer.cpp -std=gnu++17 -O2 -DONLINE_JUDGE -o 48_answer.cpp.out\n",
      "sed -i 49_answer.cpp -e 's/^\t\tconstexpr double COEF_CENTER_L1 = .*;  \\/\\/ OPTIMIZE \\[-100\\.0, 100\\.0\\]$/\t\tconstexpr double COEF_CENTER_L1 = 50.97505166421828;  \\/\\/ OPTIMIZE [-100.0, 100.0]/' -e 's/^\t\tconstexpr double COEF_CENTER_L1_SQ = .*;  \\/\\/ OPTIMIZE \\[0\\.0, 100\\.0\\]$/\t\tconstexpr double COEF_CENTER_L1_SQ = 0.1571834420356631;  \\/\\/ OPTIMIZE [0.0, 100.0]/' -e 's/^\t\tconstexpr double COEF_POINT = .*;  \\/\\/ OPTIMIZE \\[0\\.0, 100\\.0\\]$/\t\tconstexpr double COEF_POINT = 43.70073680441419;  \\/\\/ OPTIMIZE [0.0, 100.0]/' -e 's/^\t\tconstexpr double COEF_DIST = .*;  \\/\\/ OPTIMIZE \\[0\\.0, 10000\\.0\\]$/\t\tconstexpr double COEF_DIST = 6718.116149861455;  \\/\\/ OPTIMIZE [0.0, 10000.0]/'\n",
      "g++ 49_answer.cpp -std=gnu++17 -O2 -DONLINE_JUDGE -o 49_answer.cpp.out\n"
     ]
    },
    {
     "name": "stderr",
     "output_type": "stream",
     "text": [
      "\u001b[32m[I 2021-04-25 13:24:14,121]\u001b[0m Trial 244 finished with value: 1496006.0 and parameters: {'COEF_CENTER_L1': 50.43904791603145, 'COEF_CENTER_L1_SQ': 2.0537890348043626, 'COEF_POINT': 47.42289155083351, 'COEF_DIST': 7022.516052923569}. Best is trial 142 with value: 1556780.0.\u001b[0m\n",
      "\u001b[32m[I 2021-04-25 13:24:14,136]\u001b[0m Trial 246 finished with value: 1500830.0 and parameters: {'COEF_CENTER_L1': 30.1426742057877, 'COEF_CENTER_L1_SQ': 2.6436337090893898, 'COEF_POINT': 46.76422008388041, 'COEF_DIST': 7018.5771804720425}. Best is trial 142 with value: 1556780.0.\u001b[0m\n"
     ]
    },
    {
     "name": "stdout",
     "output_type": "stream",
     "text": [
      "callback ok\n",
      "callback ok\n"
     ]
    },
    {
     "name": "stderr",
     "output_type": "stream",
     "text": [
      "\u001b[32m[I 2021-04-25 13:24:14,198]\u001b[0m Trial 245 finished with value: 1510791.0 and parameters: {'COEF_CENTER_L1': 31.041656314848264, 'COEF_CENTER_L1_SQ': 2.559646738173777, 'COEF_POINT': 43.88836008588464, 'COEF_DIST': 7075.9900423186955}. Best is trial 142 with value: 1556780.0.\u001b[0m\n"
     ]
    },
    {
     "name": "stdout",
     "output_type": "stream",
     "text": [
      "index_parallel=50\n",
      "mkdir: cannot create directory ‘50_out’: File exists\n",
      "index_parallel=51\n",
      "mkdir: cannot create directory ‘51_out’: File exists\n",
      "callback ok\n",
      "index_parallel=52\n",
      "mkdir: cannot create directory ‘52_out’: File exists\n"
     ]
    },
    {
     "name": "stderr",
     "output_type": "stream",
     "text": [
      "\u001b[32m[I 2021-04-25 13:24:14,312]\u001b[0m Trial 247 finished with value: 1505056.0 and parameters: {'COEF_CENTER_L1': 33.558903568613175, 'COEF_CENTER_L1_SQ': 2.1873243910247298, 'COEF_POINT': 49.061495438096706, 'COEF_DIST': 7007.326742198625}. Best is trial 142 with value: 1556780.0.\u001b[0m\n"
     ]
    },
    {
     "name": "stdout",
     "output_type": "stream",
     "text": [
      "callback ok\n",
      "mkdir: cannot create directory ‘50_score’: File exists\n",
      "index_parallel=53\n",
      "mkdir: cannot create directory ‘51_score’: File exists\n",
      "mkdir: cannot create directory ‘53_out’: File exists\n",
      "mkdir: cannot create directory ‘52_score’: File exists\n",
      "mkdir: cannot create directory ‘53_score’: File exists\n",
      "sed -i 50_answer.cpp -e 's/^\t\tconstexpr double COEF_CENTER_L1 = .*;  \\/\\/ OPTIMIZE \\[-100\\.0, 100\\.0\\]$/\t\tconstexpr double COEF_CENTER_L1 = 0.963693678069969;  \\/\\/ OPTIMIZE [-100.0, 100.0]/' -e 's/^\t\tconstexpr double COEF_CENTER_L1_SQ = .*;  \\/\\/ OPTIMIZE \\[0\\.0, 100\\.0\\]$/\t\tconstexpr double COEF_CENTER_L1_SQ = 0.09304128908307696;  \\/\\/ OPTIMIZE [0.0, 100.0]/' -e 's/^\t\tconstexpr double COEF_POINT = .*;  \\/\\/ OPTIMIZE \\[0\\.0, 100\\.0\\]$/\t\tconstexpr double COEF_POINT = 40.66097192545781;  \\/\\/ OPTIMIZE [0.0, 100.0]/' -e 's/^\t\tconstexpr double COEF_DIST = .*;  \\/\\/ OPTIMIZE \\[0\\.0, 10000\\.0\\]$/\t\tconstexpr double COEF_DIST = 6772.19340658747;  \\/\\/ OPTIMIZE [0.0, 10000.0]/'\n",
      "sed -i 51_answer.cpp -e 's/^\t\tconstexpr double COEF_CENTER_L1 = .*;  \\/\\/ OPTIMIZE \\[-100\\.0, 100\\.0\\]$/\t\tconstexpr double COEF_CENTER_L1 = 64.08374930430635;  \\/\\/ OPTIMIZE [-100.0, 100.0]/' -e 's/^\t\tconstexpr double COEF_CENTER_L1_SQ = .*;  \\/\\/ OPTIMIZE \\[0\\.0, 100\\.0\\]$/\t\tconstexpr double COEF_CENTER_L1_SQ = 0.3906471165098335;  \\/\\/ OPTIMIZE [0.0, 100.0]/' -e 's/^\t\tconstexpr double COEF_POINT = .*;  \\/\\/ OPTIMIZE \\[0\\.0, 100\\.0\\]$/\t\tconstexpr double COEF_POINT = 35.89461002739278;  \\/\\/ OPTIMIZE [0.0, 100.0]/' -e 's/^\t\tconstexpr double COEF_DIST = .*;  \\/\\/ OPTIMIZE \\[0\\.0, 10000\\.0\\]$/\t\tconstexpr double COEF_DIST = 7478.159971069932;  \\/\\/ OPTIMIZE [0.0, 10000.0]/'\n",
      "g++ 50_answer.cpp -std=gnu++17 -O2 -DONLINE_JUDGE -o 50_answer.cpp.out\n",
      "sed -i 52_answer.cpp -e 's/^\t\tconstexpr double COEF_CENTER_L1 = .*;  \\/\\/ OPTIMIZE \\[-100\\.0, 100\\.0\\]$/\t\tconstexpr double COEF_CENTER_L1 = 0.3318029526625641;  \\/\\/ OPTIMIZE [-100.0, 100.0]/' -e 's/^\t\tconstexpr double COEF_CENTER_L1_SQ = .*;  \\/\\/ OPTIMIZE \\[0\\.0, 100\\.0\\]$/\t\tconstexpr double COEF_CENTER_L1_SQ = 0.07421858919876882;  \\/\\/ OPTIMIZE [0.0, 100.0]/' -e 's/^\t\tconstexpr double COEF_POINT = .*;  \\/\\/ OPTIMIZE \\[0\\.0, 100\\.0\\]$/\t\tconstexpr double COEF_POINT = 36.22626149105386;  \\/\\/ OPTIMIZE [0.0, 100.0]/' -e 's/^\t\tconstexpr double COEF_DIST = .*;  \\/\\/ OPTIMIZE \\[0\\.0, 10000\\.0\\]$/\t\tconstexpr double COEF_DIST = 6786.400477585295;  \\/\\/ OPTIMIZE [0.0, 10000.0]/'\n",
      "g++ 51_answer.cpp -std=gnu++17 -O2 -DONLINE_JUDGE -o 51_answer.cpp.out\n",
      "g++ 52_answer.cpp -std=gnu++17 -O2 -DONLINE_JUDGE -o 52_answer.cpp.out\n",
      "sed -i 53_answer.cpp -e 's/^\t\tconstexpr double COEF_CENTER_L1 = .*;  \\/\\/ OPTIMIZE \\[-100\\.0, 100\\.0\\]$/\t\tconstexpr double COEF_CENTER_L1 = 17.34907588841014;  \\/\\/ OPTIMIZE [-100.0, 100.0]/' -e 's/^\t\tconstexpr double COEF_CENTER_L1_SQ = .*;  \\/\\/ OPTIMIZE \\[0\\.0, 100\\.0\\]$/\t\tconstexpr double COEF_CENTER_L1_SQ = 0.5947079929804158;  \\/\\/ OPTIMIZE [0.0, 100.0]/' -e 's/^\t\tconstexpr double COEF_POINT = .*;  \\/\\/ OPTIMIZE \\[0\\.0, 100\\.0\\]$/\t\tconstexpr double COEF_POINT = 40.498069040860734;  \\/\\/ OPTIMIZE [0.0, 100.0]/' -e 's/^\t\tconstexpr double COEF_DIST = .*;  \\/\\/ OPTIMIZE \\[0\\.0, 10000\\.0\\]$/\t\tconstexpr double COEF_DIST = 6746.211197391854;  \\/\\/ OPTIMIZE [0.0, 10000.0]/'\n",
      "g++ 53_answer.cpp -std=gnu++17 -O2 -DONLINE_JUDGE -o 53_answer.cpp.out\n"
     ]
    },
    {
     "name": "stderr",
     "output_type": "stream",
     "text": [
      "\u001b[32m[I 2021-04-25 13:24:22,133]\u001b[0m Trial 248 finished with value: 1509179.0 and parameters: {'COEF_CENTER_L1': 51.071199463854015, 'COEF_CENTER_L1_SQ': 1.3604360269055138, 'COEF_POINT': 30.572661528058905, 'COEF_DIST': 6743.994066798155}. Best is trial 142 with value: 1556780.0.\u001b[0m\n"
     ]
    },
    {
     "name": "stdout",
     "output_type": "stream",
     "text": [
      "callback ok\n",
      "index_parallel=54\n",
      "mkdir: cannot create directory ‘54_out’: File exists\n",
      "mkdir: cannot create directory ‘54_score’: File exists\n"
     ]
    },
    {
     "name": "stderr",
     "output_type": "stream",
     "text": [
      "\u001b[32m[I 2021-04-25 13:24:23,956]\u001b[0m Trial 249 finished with value: 1485199.0 and parameters: {'COEF_CENTER_L1': 50.97505166421828, 'COEF_CENTER_L1_SQ': 0.1571834420356631, 'COEF_POINT': 43.70073680441419, 'COEF_DIST': 6718.116149861455}. Best is trial 142 with value: 1556780.0.\u001b[0m\n"
     ]
    },
    {
     "name": "stdout",
     "output_type": "stream",
     "text": [
      "callback ok\n",
      "index_parallel=55\n",
      "mkdir: cannot create directory ‘55_out’: File exists\n",
      "sed -i 54_answer.cpp -e 's/^\t\tconstexpr double COEF_CENTER_L1 = .*;  \\/\\/ OPTIMIZE \\[-100\\.0, 100\\.0\\]$/\t\tconstexpr double COEF_CENTER_L1 = 64.37191804867535;  \\/\\/ OPTIMIZE [-100.0, 100.0]/' -e 's/^\t\tconstexpr double COEF_CENTER_L1_SQ = .*;  \\/\\/ OPTIMIZE \\[0\\.0, 100\\.0\\]$/\t\tconstexpr double COEF_CENTER_L1_SQ = 0.30929476482957163;  \\/\\/ OPTIMIZE [0.0, 100.0]/' -e 's/^\t\tconstexpr double COEF_POINT = .*;  \\/\\/ OPTIMIZE \\[0\\.0, 100\\.0\\]$/\t\tconstexpr double COEF_POINT = 35.91659852238014;  \\/\\/ OPTIMIZE [0.0, 100.0]/' -e 's/^\t\tconstexpr double COEF_DIST = .*;  \\/\\/ OPTIMIZE \\[0\\.0, 10000\\.0\\]$/\t\tconstexpr double COEF_DIST = 7475.614034461139;  \\/\\/ OPTIMIZE [0.0, 10000.0]/'\n",
      "mkdir: cannot create directory ‘55_score’: File exists\n",
      "g++ 54_answer.cpp -std=gnu++17 -O2 -DONLINE_JUDGE -o 54_answer.cpp.out\n"
     ]
    },
    {
     "name": "stderr",
     "output_type": "stream",
     "text": [
      "\u001b[32m[I 2021-04-25 13:24:25,379]\u001b[0m Trial 250 finished with value: 1395880.0 and parameters: {'COEF_CENTER_L1': 0.963693678069969, 'COEF_CENTER_L1_SQ': 0.09304128908307696, 'COEF_POINT': 40.66097192545781, 'COEF_DIST': 6772.19340658747}. Best is trial 142 with value: 1556780.0.\u001b[0m\n"
     ]
    },
    {
     "name": "stdout",
     "output_type": "stream",
     "text": [
      "callback ok\n"
     ]
    },
    {
     "name": "stderr",
     "output_type": "stream",
     "text": [
      "\u001b[32m[I 2021-04-25 13:24:25,505]\u001b[0m Trial 252 finished with value: 1410015.0 and parameters: {'COEF_CENTER_L1': 0.3318029526625641, 'COEF_CENTER_L1_SQ': 0.07421858919876882, 'COEF_POINT': 36.22626149105386, 'COEF_DIST': 6786.400477585295}. Best is trial 142 with value: 1556780.0.\u001b[0m\n"
     ]
    },
    {
     "name": "stdout",
     "output_type": "stream",
     "text": [
      "index_parallel=56\n",
      "mkdir: cannot create directory ‘56_out’: File exists\n",
      "callback ok\n",
      "sed -i 55_answer.cpp -e 's/^\t\tconstexpr double COEF_CENTER_L1 = .*;  \\/\\/ OPTIMIZE \\[-100\\.0, 100\\.0\\]$/\t\tconstexpr double COEF_CENTER_L1 = -2.035099704888564;  \\/\\/ OPTIMIZE [-100.0, 100.0]/' -e 's/^\t\tconstexpr double COEF_CENTER_L1_SQ = .*;  \\/\\/ OPTIMIZE \\[0\\.0, 100\\.0\\]$/\t\tconstexpr double COEF_CENTER_L1_SQ = 0.18082586367583575;  \\/\\/ OPTIMIZE [0.0, 100.0]/' -e 's/^\t\tconstexpr double COEF_POINT = .*;  \\/\\/ OPTIMIZE \\[0\\.0, 100\\.0\\]$/\t\tconstexpr double COEF_POINT = 36.145479763253356;  \\/\\/ OPTIMIZE [0.0, 100.0]/' -e 's/^\t\tconstexpr double COEF_DIST = .*;  \\/\\/ OPTIMIZE \\[0\\.0, 10000\\.0\\]$/\t\tconstexpr double COEF_DIST = 7437.304617725699;  \\/\\/ OPTIMIZE [0.0, 10000.0]/'\n"
     ]
    },
    {
     "name": "stderr",
     "output_type": "stream",
     "text": [
      "\u001b[32m[I 2021-04-25 13:24:25,620]\u001b[0m Trial 253 finished with value: 1521761.0 and parameters: {'COEF_CENTER_L1': 17.34907588841014, 'COEF_CENTER_L1_SQ': 0.5947079929804158, 'COEF_POINT': 40.498069040860734, 'COEF_DIST': 6746.211197391854}. Best is trial 142 with value: 1556780.0.\u001b[0m\n"
     ]
    },
    {
     "name": "stdout",
     "output_type": "stream",
     "text": [
      "index_parallel=57\n",
      "mkdir: cannot create directory ‘57_out’: File exists\n",
      "mkdir: cannot create directory ‘56_score’: File exists\n"
     ]
    },
    {
     "name": "stderr",
     "output_type": "stream",
     "text": [
      "\u001b[32m[I 2021-04-25 13:24:25,686]\u001b[0m Trial 251 finished with value: 1486203.0 and parameters: {'COEF_CENTER_L1': 64.08374930430635, 'COEF_CENTER_L1_SQ': 0.3906471165098335, 'COEF_POINT': 35.89461002739278, 'COEF_DIST': 7478.159971069932}. Best is trial 142 with value: 1556780.0.\u001b[0m\n"
     ]
    },
    {
     "name": "stdout",
     "output_type": "stream",
     "text": [
      "callback ok\n",
      "index_parallel=58\n",
      "mkdir: cannot create directory ‘58_out’: File exists\n",
      "g++ 55_answer.cpp -std=gnu++17 -O2 -DONLINE_JUDGE -o 55_answer.cpp.out\n",
      "callback ok\n",
      "index_parallel=59\n",
      "mkdir: cannot create directory ‘59_out’: File exists\n",
      "mkdir: cannot create directory ‘57_score’: File exists\n",
      "mkdir: cannot create directory ‘58_score’: File exists\n",
      "mkdir: cannot create directory ‘59_score’: File exists\n",
      "sed -i 56_answer.cpp -e 's/^\t\tconstexpr double COEF_CENTER_L1 = .*;  \\/\\/ OPTIMIZE \\[-100\\.0, 100\\.0\\]$/\t\tconstexpr double COEF_CENTER_L1 = 14.109752839110635;  \\/\\/ OPTIMIZE [-100.0, 100.0]/' -e 's/^\t\tconstexpr double COEF_CENTER_L1_SQ = .*;  \\/\\/ OPTIMIZE \\[0\\.0, 100\\.0\\]$/\t\tconstexpr double COEF_CENTER_L1_SQ = 3.867093551642332;  \\/\\/ OPTIMIZE [0.0, 100.0]/' -e 's/^\t\tconstexpr double COEF_POINT = .*;  \\/\\/ OPTIMIZE \\[0\\.0, 100\\.0\\]$/\t\tconstexpr double COEF_POINT = 41.063742905754914;  \\/\\/ OPTIMIZE [0.0, 100.0]/' -e 's/^\t\tconstexpr double COEF_DIST = .*;  \\/\\/ OPTIMIZE \\[0\\.0, 10000\\.0\\]$/\t\tconstexpr double COEF_DIST = 6474.130355001089;  \\/\\/ OPTIMIZE [0.0, 10000.0]/'\n",
      "g++ 56_answer.cpp -std=gnu++17 -O2 -DONLINE_JUDGE -o 56_answer.cpp.out\n",
      "sed -i 57_answer.cpp -e 's/^\t\tconstexpr double COEF_CENTER_L1 = .*;  \\/\\/ OPTIMIZE \\[-100\\.0, 100\\.0\\]$/\t\tconstexpr double COEF_CENTER_L1 = 17.446923395746335;  \\/\\/ OPTIMIZE [-100.0, 100.0]/' -e 's/^\t\tconstexpr double COEF_CENTER_L1_SQ = .*;  \\/\\/ OPTIMIZE \\[0\\.0, 100\\.0\\]$/\t\tconstexpr double COEF_CENTER_L1_SQ = 3.9115159491834577;  \\/\\/ OPTIMIZE [0.0, 100.0]/' -e 's/^\t\tconstexpr double COEF_POINT = .*;  \\/\\/ OPTIMIZE \\[0\\.0, 100\\.0\\]$/\t\tconstexpr double COEF_POINT = 39.3321296411521;  \\/\\/ OPTIMIZE [0.0, 100.0]/' -e 's/^\t\tconstexpr double COEF_DIST = .*;  \\/\\/ OPTIMIZE \\[0\\.0, 10000\\.0\\]$/\t\tconstexpr double COEF_DIST = 6417.17045555343;  \\/\\/ OPTIMIZE [0.0, 10000.0]/'\n",
      "sed -i 58_answer.cpp -e 's/^\t\tconstexpr double COEF_CENTER_L1 = .*;  \\/\\/ OPTIMIZE \\[-100\\.0, 100\\.0\\]$/\t\tconstexpr double COEF_CENTER_L1 = 13.180436431774059;  \\/\\/ OPTIMIZE [-100.0, 100.0]/' -e 's/^\t\tconstexpr double COEF_CENTER_L1_SQ = .*;  \\/\\/ OPTIMIZE \\[0\\.0, 100\\.0\\]$/\t\tconstexpr double COEF_CENTER_L1_SQ = 4.109557268201733;  \\/\\/ OPTIMIZE [0.0, 100.0]/' -e 's/^\t\tconstexpr double COEF_POINT = .*;  \\/\\/ OPTIMIZE \\[0\\.0, 100\\.0\\]$/\t\tconstexpr double COEF_POINT = 39.48492300024082;  \\/\\/ OPTIMIZE [0.0, 100.0]/' -e 's/^\t\tconstexpr double COEF_DIST = .*;  \\/\\/ OPTIMIZE \\[0\\.0, 10000\\.0\\]$/\t\tconstexpr double COEF_DIST = 6412.76075857028;  \\/\\/ OPTIMIZE [0.0, 10000.0]/'\n",
      "sed -i 59_answer.cpp -e 's/^\t\tconstexpr double COEF_CENTER_L1 = .*;  \\/\\/ OPTIMIZE \\[-100\\.0, 100\\.0\\]$/\t\tconstexpr double COEF_CENTER_L1 = 18.747337731870452;  \\/\\/ OPTIMIZE [-100.0, 100.0]/' -e 's/^\t\tconstexpr double COEF_CENTER_L1_SQ = .*;  \\/\\/ OPTIMIZE \\[0\\.0, 100\\.0\\]$/\t\tconstexpr double COEF_CENTER_L1_SQ = 4.076766010890484;  \\/\\/ OPTIMIZE [0.0, 100.0]/' -e 's/^\t\tconstexpr double COEF_POINT = .*;  \\/\\/ OPTIMIZE \\[0\\.0, 100\\.0\\]$/\t\tconstexpr double COEF_POINT = 41.02054427955187;  \\/\\/ OPTIMIZE [0.0, 100.0]/' -e 's/^\t\tconstexpr double COEF_DIST = .*;  \\/\\/ OPTIMIZE \\[0\\.0, 10000\\.0\\]$/\t\tconstexpr double COEF_DIST = 7463.086929139684;  \\/\\/ OPTIMIZE [0.0, 10000.0]/'\n",
      "g++ 57_answer.cpp -std=gnu++17 -O2 -DONLINE_JUDGE -o 57_answer.cpp.out\n",
      "g++ 58_answer.cpp -std=gnu++17 -O2 -DONLINE_JUDGE -o 58_answer.cpp.out\n",
      "g++ 59_answer.cpp -std=gnu++17 -O2 -DONLINE_JUDGE -o 59_answer.cpp.out\n"
     ]
    },
    {
     "name": "stderr",
     "output_type": "stream",
     "text": [
      "\u001b[32m[I 2021-04-25 13:24:34,046]\u001b[0m Trial 254 finished with value: 1484293.0 and parameters: {'COEF_CENTER_L1': 64.37191804867535, 'COEF_CENTER_L1_SQ': 0.30929476482957163, 'COEF_POINT': 35.91659852238014, 'COEF_DIST': 7475.614034461139}. Best is trial 142 with value: 1556780.0.\u001b[0m\n"
     ]
    },
    {
     "name": "stdout",
     "output_type": "stream",
     "text": [
      "callback ok\n",
      "index_parallel=60\n",
      "mkdir: cannot create directory ‘60_out’: File exists\n",
      "mkdir: cannot create directory ‘60_score’: File exists\n"
     ]
    },
    {
     "name": "stderr",
     "output_type": "stream",
     "text": [
      "\u001b[32m[I 2021-04-25 13:24:35,862]\u001b[0m Trial 255 finished with value: 1395390.0 and parameters: {'COEF_CENTER_L1': -2.035099704888564, 'COEF_CENTER_L1_SQ': 0.18082586367583575, 'COEF_POINT': 36.145479763253356, 'COEF_DIST': 7437.304617725699}. Best is trial 142 with value: 1556780.0.\u001b[0m\n"
     ]
    },
    {
     "name": "stdout",
     "output_type": "stream",
     "text": [
      "sed -i 60_answer.cpp -e 's/^\t\tconstexpr double COEF_CENTER_L1 = .*;  \\/\\/ OPTIMIZE \\[-100\\.0, 100\\.0\\]$/\t\tconstexpr double COEF_CENTER_L1 = 18.683305485458824;  \\/\\/ OPTIMIZE [-100.0, 100.0]/' -e 's/^\t\tconstexpr double COEF_CENTER_L1_SQ = .*;  \\/\\/ OPTIMIZE \\[0\\.0, 100\\.0\\]$/\t\tconstexpr double COEF_CENTER_L1_SQ = 4.057025468216855;  \\/\\/ OPTIMIZE [0.0, 100.0]/' -e 's/^\t\tconstexpr double COEF_POINT = .*;  \\/\\/ OPTIMIZE \\[0\\.0, 100\\.0\\]$/\t\tconstexpr double COEF_POINT = 42.244851627402085;  \\/\\/ OPTIMIZE [0.0, 100.0]/' -e 's/^\t\tconstexpr double COEF_DIST = .*;  \\/\\/ OPTIMIZE \\[0\\.0, 10000\\.0\\]$/\t\tconstexpr double COEF_DIST = 7273.014640527503;  \\/\\/ OPTIMIZE [0.0, 10000.0]/'\n",
      "callback ok\n",
      "g++ 60_answer.cpp -std=gnu++17 -O2 -DONLINE_JUDGE -o 60_answer.cpp.out\n",
      "index_parallel=61\n",
      "mkdir: cannot create directory ‘61_out’: File exists\n",
      "mkdir: cannot create directory ‘61_score’: File exists\n"
     ]
    },
    {
     "name": "stderr",
     "output_type": "stream",
     "text": [
      "\u001b[32m[I 2021-04-25 13:24:37,021]\u001b[0m Trial 256 finished with value: 1531136.0 and parameters: {'COEF_CENTER_L1': 14.109752839110635, 'COEF_CENTER_L1_SQ': 3.867093551642332, 'COEF_POINT': 41.063742905754914, 'COEF_DIST': 6474.130355001089}. Best is trial 142 with value: 1556780.0.\u001b[0m\n"
     ]
    },
    {
     "name": "stdout",
     "output_type": "stream",
     "text": [
      "callback ok\n",
      "index_parallel=62\n",
      "mkdir: cannot create directory ‘62_out’: File exists\n"
     ]
    },
    {
     "name": "stderr",
     "output_type": "stream",
     "text": [
      "\u001b[32m[I 2021-04-25 13:24:37,305]\u001b[0m Trial 258 finished with value: 1502317.0 and parameters: {'COEF_CENTER_L1': 13.180436431774059, 'COEF_CENTER_L1_SQ': 4.109557268201733, 'COEF_POINT': 39.48492300024082, 'COEF_DIST': 6412.76075857028}. Best is trial 142 with value: 1556780.0.\u001b[0m\n"
     ]
    },
    {
     "name": "stdout",
     "output_type": "stream",
     "text": [
      "mkdir: cannot create directory ‘62_score’: File exists\n",
      "callback ok\n"
     ]
    },
    {
     "name": "stderr",
     "output_type": "stream",
     "text": [
      "\u001b[32m[I 2021-04-25 13:24:37,433]\u001b[0m Trial 257 finished with value: 1486542.0 and parameters: {'COEF_CENTER_L1': 17.446923395746335, 'COEF_CENTER_L1_SQ': 3.9115159491834577, 'COEF_POINT': 39.3321296411521, 'COEF_DIST': 6417.17045555343}. Best is trial 142 with value: 1556780.0.\u001b[0m\n",
      "\u001b[32m[I 2021-04-25 13:24:37,437]\u001b[0m Trial 259 finished with value: 1518160.0 and parameters: {'COEF_CENTER_L1': 18.747337731870452, 'COEF_CENTER_L1_SQ': 4.076766010890484, 'COEF_POINT': 41.02054427955187, 'COEF_DIST': 7463.086929139684}. Best is trial 142 with value: 1556780.0.\u001b[0m\n"
     ]
    },
    {
     "name": "stdout",
     "output_type": "stream",
     "text": [
      "index_parallel=63\n",
      "callback ok\n",
      "mkdir: cannot create directory ‘63_out’: File exists\n",
      "callback ok\n",
      "index_parallel=64\n",
      "sed -i 61_answer.cpp -e 's/^\t\tconstexpr double COEF_CENTER_L1 = .*;  \\/\\/ OPTIMIZE \\[-100\\.0, 100\\.0\\]$/\t\tconstexpr double COEF_CENTER_L1 = 16.302324831730548;  \\/\\/ OPTIMIZE [-100.0, 100.0]/' -e 's/^\t\tconstexpr double COEF_CENTER_L1_SQ = .*;  \\/\\/ OPTIMIZE \\[0\\.0, 100\\.0\\]$/\t\tconstexpr double COEF_CENTER_L1_SQ = 6.4958146423775585;  \\/\\/ OPTIMIZE [0.0, 100.0]/' -e 's/^\t\tconstexpr double COEF_POINT = .*;  \\/\\/ OPTIMIZE \\[0\\.0, 100\\.0\\]$/\t\tconstexpr double COEF_POINT = 40.83133607409572;  \\/\\/ OPTIMIZE [0.0, 100.0]/' -e 's/^\t\tconstexpr double COEF_DIST = .*;  \\/\\/ OPTIMIZE \\[0\\.0, 10000\\.0\\]$/\t\tconstexpr double COEF_DIST = 6043.9622530174875;  \\/\\/ OPTIMIZE [0.0, 10000.0]/'\n",
      "mkdir: cannot create directory ‘64_out’: File exists\n",
      "mkdir: cannot create directory ‘63_score’: File exists\n",
      "mkdir: cannot create directory ‘64_score’: File exists\n",
      "g++ 61_answer.cpp -std=gnu++17 -O2 -DONLINE_JUDGE -o 61_answer.cpp.out\n",
      "index_parallel=65\n",
      "mkdir: cannot create directory ‘65_out’: File exists\n",
      "mkdir: cannot create directory ‘65_score’: File exists\n",
      "sed -i 64_answer.cpp -e 's/^\t\tconstexpr double COEF_CENTER_L1 = .*;  \\/\\/ OPTIMIZE \\[-100\\.0, 100\\.0\\]$/\t\tconstexpr double COEF_CENTER_L1 = 12.939720239133637;  \\/\\/ OPTIMIZE [-100.0, 100.0]/' -e 's/^\t\tconstexpr double COEF_CENTER_L1_SQ = .*;  \\/\\/ OPTIMIZE \\[0\\.0, 100\\.0\\]$/\t\tconstexpr double COEF_CENTER_L1_SQ = 7.0217020686870315;  \\/\\/ OPTIMIZE [0.0, 100.0]/' -e 's/^\t\tconstexpr double COEF_POINT = .*;  \\/\\/ OPTIMIZE \\[0\\.0, 100\\.0\\]$/\t\tconstexpr double COEF_POINT = 41.81907534142598;  \\/\\/ OPTIMIZE [0.0, 100.0]/' -e 's/^\t\tconstexpr double COEF_DIST = .*;  \\/\\/ OPTIMIZE \\[0\\.0, 10000\\.0\\]$/\t\tconstexpr double COEF_DIST = 7188.546317411869;  \\/\\/ OPTIMIZE [0.0, 10000.0]/'\n",
      "sed -i 62_answer.cpp -e 's/^\t\tconstexpr double COEF_CENTER_L1 = .*;  \\/\\/ OPTIMIZE \\[-100\\.0, 100\\.0\\]$/\t\tconstexpr double COEF_CENTER_L1 = 12.192143021434411;  \\/\\/ OPTIMIZE [-100.0, 100.0]/' -e 's/^\t\tconstexpr double COEF_CENTER_L1_SQ = .*;  \\/\\/ OPTIMIZE \\[0\\.0, 100\\.0\\]$/\t\tconstexpr double COEF_CENTER_L1_SQ = 6.995957805093974;  \\/\\/ OPTIMIZE [0.0, 100.0]/' -e 's/^\t\tconstexpr double COEF_POINT = .*;  \\/\\/ OPTIMIZE \\[0\\.0, 100\\.0\\]$/\t\tconstexpr double COEF_POINT = 41.776604049542485;  \\/\\/ OPTIMIZE [0.0, 100.0]/' -e 's/^\t\tconstexpr double COEF_DIST = .*;  \\/\\/ OPTIMIZE \\[0\\.0, 10000\\.0\\]$/\t\tconstexpr double COEF_DIST = 7205.90693355729;  \\/\\/ OPTIMIZE [0.0, 10000.0]/'\n",
      "g++ 64_answer.cpp -std=gnu++17 -O2 -DONLINE_JUDGE -o 64_answer.cpp.out\n",
      "sed -i 63_answer.cpp -e 's/^\t\tconstexpr double COEF_CENTER_L1 = .*;  \\/\\/ OPTIMIZE \\[-100\\.0, 100\\.0\\]$/\t\tconstexpr double COEF_CENTER_L1 = -58.81459892239429;  \\/\\/ OPTIMIZE [-100.0, 100.0]/' -e 's/^\t\tconstexpr double COEF_CENTER_L1_SQ = .*;  \\/\\/ OPTIMIZE \\[0\\.0, 100\\.0\\]$/\t\tconstexpr double COEF_CENTER_L1_SQ = 6.600653882200523;  \\/\\/ OPTIMIZE [0.0, 100.0]/' -e 's/^\t\tconstexpr double COEF_POINT = .*;  \\/\\/ OPTIMIZE \\[0\\.0, 100\\.0\\]$/\t\tconstexpr double COEF_POINT = 41.241094137117635;  \\/\\/ OPTIMIZE [0.0, 100.0]/' -e 's/^\t\tconstexpr double COEF_DIST = .*;  \\/\\/ OPTIMIZE \\[0\\.0, 10000\\.0\\]$/\t\tconstexpr double COEF_DIST = 7196.239969494102;  \\/\\/ OPTIMIZE [0.0, 10000.0]/'\n",
      "g++ 62_answer.cpp -std=gnu++17 -O2 -DONLINE_JUDGE -o 62_answer.cpp.out\n",
      "g++ 63_answer.cpp -std=gnu++17 -O2 -DONLINE_JUDGE -o 63_answer.cpp.out\n",
      "sed -i 65_answer.cpp -e 's/^\t\tconstexpr double COEF_CENTER_L1 = .*;  \\/\\/ OPTIMIZE \\[-100\\.0, 100\\.0\\]$/\t\tconstexpr double COEF_CENTER_L1 = 24.54945808425113;  \\/\\/ OPTIMIZE [-100.0, 100.0]/' -e 's/^\t\tconstexpr double COEF_CENTER_L1_SQ = .*;  \\/\\/ OPTIMIZE \\[0\\.0, 100\\.0\\]$/\t\tconstexpr double COEF_CENTER_L1_SQ = 6.92073738433768;  \\/\\/ OPTIMIZE [0.0, 100.0]/' -e 's/^\t\tconstexpr double COEF_POINT = .*;  \\/\\/ OPTIMIZE \\[0\\.0, 100\\.0\\]$/\t\tconstexpr double COEF_POINT = 41.89705566766503;  \\/\\/ OPTIMIZE [0.0, 100.0]/' -e 's/^\t\tconstexpr double COEF_DIST = .*;  \\/\\/ OPTIMIZE \\[0\\.0, 10000\\.0\\]$/\t\tconstexpr double COEF_DIST = 7286.788969851906;  \\/\\/ OPTIMIZE [0.0, 10000.0]/'\n",
      "g++ 65_answer.cpp -std=gnu++17 -O2 -DONLINE_JUDGE -o 65_answer.cpp.out\n"
     ]
    },
    {
     "name": "stderr",
     "output_type": "stream",
     "text": [
      "\u001b[32m[I 2021-04-25 13:24:45,767]\u001b[0m Trial 260 finished with value: 1508605.0 and parameters: {'COEF_CENTER_L1': 18.683305485458824, 'COEF_CENTER_L1_SQ': 4.057025468216855, 'COEF_POINT': 42.244851627402085, 'COEF_DIST': 7273.014640527503}. Best is trial 142 with value: 1556780.0.\u001b[0m\n"
     ]
    },
    {
     "name": "stdout",
     "output_type": "stream",
     "text": [
      "callback ok\n",
      "index_parallel=66\n",
      "mkdir: cannot create directory ‘66_out’: File exists\n",
      "mkdir: cannot create directory ‘66_score’: File exists\n",
      "sed -i 66_answer.cpp -e 's/^\t\tconstexpr double COEF_CENTER_L1 = .*;  \\/\\/ OPTIMIZE \\[-100\\.0, 100\\.0\\]$/\t\tconstexpr double COEF_CENTER_L1 = 14.261312124420527;  \\/\\/ OPTIMIZE [-100.0, 100.0]/' -e 's/^\t\tconstexpr double COEF_CENTER_L1_SQ = .*;  \\/\\/ OPTIMIZE \\[0\\.0, 100\\.0\\]$/\t\tconstexpr double COEF_CENTER_L1_SQ = 7.193634396372229;  \\/\\/ OPTIMIZE [0.0, 100.0]/' -e 's/^\t\tconstexpr double COEF_POINT = .*;  \\/\\/ OPTIMIZE \\[0\\.0, 100\\.0\\]$/\t\tconstexpr double COEF_POINT = 7.904239639122678;  \\/\\/ OPTIMIZE [0.0, 100.0]/' -e 's/^\t\tconstexpr double COEF_DIST = .*;  \\/\\/ OPTIMIZE \\[0\\.0, 10000\\.0\\]$/\t\tconstexpr double COEF_DIST = 6113.041600416767;  \\/\\/ OPTIMIZE [0.0, 10000.0]/'\n",
      "g++ 66_answer.cpp -std=gnu++17 -O2 -DONLINE_JUDGE -o 66_answer.cpp.out\n"
     ]
    },
    {
     "name": "stderr",
     "output_type": "stream",
     "text": [
      "\u001b[32m[I 2021-04-25 13:24:47,883]\u001b[0m Trial 261 finished with value: 1370692.0 and parameters: {'COEF_CENTER_L1': 16.302324831730548, 'COEF_CENTER_L1_SQ': 6.4958146423775585, 'COEF_POINT': 40.83133607409572, 'COEF_DIST': 6043.9622530174875}. Best is trial 142 with value: 1556780.0.\u001b[0m\n"
     ]
    },
    {
     "name": "stdout",
     "output_type": "stream",
     "text": [
      "callback ok\n",
      "index_parallel=67\n",
      "mkdir: cannot create directory ‘67_out’: File exists\n",
      "mkdir: cannot create directory ‘67_score’: File exists\n",
      "sed -i 67_answer.cpp -e 's/^\t\tconstexpr double COEF_CENTER_L1 = .*;  \\/\\/ OPTIMIZE \\[-100\\.0, 100\\.0\\]$/\t\tconstexpr double COEF_CENTER_L1 = 25.54401263887516;  \\/\\/ OPTIMIZE [-100.0, 100.0]/' -e 's/^\t\tconstexpr double COEF_CENTER_L1_SQ = .*;  \\/\\/ OPTIMIZE \\[0\\.0, 100\\.0\\]$/\t\tconstexpr double COEF_CENTER_L1_SQ = 6.906998897894798;  \\/\\/ OPTIMIZE [0.0, 100.0]/' -e 's/^\t\tconstexpr double COEF_POINT = .*;  \\/\\/ OPTIMIZE \\[0\\.0, 100\\.0\\]$/\t\tconstexpr double COEF_POINT = 42.06714793108834;  \\/\\/ OPTIMIZE [0.0, 100.0]/' -e 's/^\t\tconstexpr double COEF_DIST = .*;  \\/\\/ OPTIMIZE \\[0\\.0, 10000\\.0\\]$/\t\tconstexpr double COEF_DIST = 6922.976775236993;  \\/\\/ OPTIMIZE [0.0, 10000.0]/'\n",
      "g++ 67_answer.cpp -std=gnu++17 -O2 -DONLINE_JUDGE -o 67_answer.cpp.out\n"
     ]
    },
    {
     "name": "stderr",
     "output_type": "stream",
     "text": [
      "\u001b[32m[I 2021-04-25 13:24:50,777]\u001b[0m Trial 264 finished with value: 1426545.0 and parameters: {'COEF_CENTER_L1': 12.939720239133637, 'COEF_CENTER_L1_SQ': 7.0217020686870315, 'COEF_POINT': 41.81907534142598, 'COEF_DIST': 7188.546317411869}. Best is trial 142 with value: 1556780.0.\u001b[0m\n"
     ]
    },
    {
     "name": "stdout",
     "output_type": "stream",
     "text": [
      "callback ok\n",
      "index_parallel=68\n",
      "mkdir: cannot create directory ‘68_out’: File exists\n",
      "mkdir: cannot create directory ‘68_score’: File exists\n"
     ]
    },
    {
     "name": "stderr",
     "output_type": "stream",
     "text": [
      "\u001b[32m[I 2021-04-25 13:24:51,329]\u001b[0m Trial 265 finished with value: 1429905.0 and parameters: {'COEF_CENTER_L1': 24.54945808425113, 'COEF_CENTER_L1_SQ': 6.92073738433768, 'COEF_POINT': 41.89705566766503, 'COEF_DIST': 7286.788969851906}. Best is trial 142 with value: 1556780.0.\u001b[0m\n",
      "\u001b[32m[I 2021-04-25 13:24:51,342]\u001b[0m Trial 262 finished with value: 1427865.0 and parameters: {'COEF_CENTER_L1': 12.192143021434411, 'COEF_CENTER_L1_SQ': 6.995957805093974, 'COEF_POINT': 41.776604049542485, 'COEF_DIST': 7205.90693355729}. Best is trial 142 with value: 1556780.0.\u001b[0m\n",
      "\u001b[32m[I 2021-04-25 13:24:51,346]\u001b[0m Trial 263 finished with value: 1500019.0 and parameters: {'COEF_CENTER_L1': -58.81459892239429, 'COEF_CENTER_L1_SQ': 6.600653882200523, 'COEF_POINT': 41.241094137117635, 'COEF_DIST': 7196.239969494102}. Best is trial 142 with value: 1556780.0.\u001b[0m\n"
     ]
    },
    {
     "name": "stdout",
     "output_type": "stream",
     "text": [
      "callback ok\n",
      "callback ok\n",
      "callback ok\n",
      "index_parallel=69index_parallel=70\n",
      "\n",
      "mkdir: cannot create directory ‘70_out’: File exists\n",
      "mkdir: cannot create directory ‘69_out’: File exists\n",
      "index_parallel=71\n",
      "mkdir: cannot create directory ‘71_out’: File exists\n",
      "mkdir: cannot create directory ‘69_score’: File exists\n",
      "mkdir: cannot create directory ‘70_score’: File exists\n",
      "mkdir: cannot create directory ‘71_score’: File exists\n",
      "sed -i 68_answer.cpp -e 's/^\t\tconstexpr double COEF_CENTER_L1 = .*;  \\/\\/ OPTIMIZE \\[-100\\.0, 100\\.0\\]$/\t\tconstexpr double COEF_CENTER_L1 = 5.0594976488671675;  \\/\\/ OPTIMIZE [-100.0, 100.0]/' -e 's/^\t\tconstexpr double COEF_CENTER_L1_SQ = .*;  \\/\\/ OPTIMIZE \\[0\\.0, 100\\.0\\]$/\t\tconstexpr double COEF_CENTER_L1_SQ = 1.7231454308481302;  \\/\\/ OPTIMIZE [0.0, 100.0]/' -e 's/^\t\tconstexpr double COEF_POINT = .*;  \\/\\/ OPTIMIZE \\[0\\.0, 100\\.0\\]$/\t\tconstexpr double COEF_POINT = 44.20273208334889;  \\/\\/ OPTIMIZE [0.0, 100.0]/' -e 's/^\t\tconstexpr double COEF_DIST = .*;  \\/\\/ OPTIMIZE \\[0\\.0, 10000\\.0\\]$/\t\tconstexpr double COEF_DIST = 6595.925090457993;  \\/\\/ OPTIMIZE [0.0, 10000.0]/'\n",
      "g++ 68_answer.cpp -std=gnu++17 -O2 -DONLINE_JUDGE -o 68_answer.cpp.out\n",
      "sed -i 69_answer.cpp -e 's/^\t\tconstexpr double COEF_CENTER_L1 = .*;  \\/\\/ OPTIMIZE \\[-100\\.0, 100\\.0\\]$/\t\tconstexpr double COEF_CENTER_L1 = -65.49778778052;  \\/\\/ OPTIMIZE [-100.0, 100.0]/' -e 's/^\t\tconstexpr double COEF_CENTER_L1_SQ = .*;  \\/\\/ OPTIMIZE \\[0\\.0, 100\\.0\\]$/\t\tconstexpr double COEF_CENTER_L1_SQ = 2.031665093402861;  \\/\\/ OPTIMIZE [0.0, 100.0]/' -e 's/^\t\tconstexpr double COEF_POINT = .*;  \\/\\/ OPTIMIZE \\[0\\.0, 100\\.0\\]$/\t\tconstexpr double COEF_POINT = 44.99631128246867;  \\/\\/ OPTIMIZE [0.0, 100.0]/' -e 's/^\t\tconstexpr double COEF_DIST = .*;  \\/\\/ OPTIMIZE \\[0\\.0, 10000\\.0\\]$/\t\tconstexpr double COEF_DIST = 6942.634050736079;  \\/\\/ OPTIMIZE [0.0, 10000.0]/'\n",
      "sed -i 70_answer.cpp -e 's/^\t\tconstexpr double COEF_CENTER_L1 = .*;  \\/\\/ OPTIMIZE \\[-100\\.0, 100\\.0\\]$/\t\tconstexpr double COEF_CENTER_L1 = 4.344401963169794;  \\/\\/ OPTIMIZE [-100.0, 100.0]/' -e 's/^\t\tconstexpr double COEF_CENTER_L1_SQ = .*;  \\/\\/ OPTIMIZE \\[0\\.0, 100\\.0\\]$/\t\tconstexpr double COEF_CENTER_L1_SQ = 2.2135932227586017;  \\/\\/ OPTIMIZE [0.0, 100.0]/' -e 's/^\t\tconstexpr double COEF_POINT = .*;  \\/\\/ OPTIMIZE \\[0\\.0, 100\\.0\\]$/\t\tconstexpr double COEF_POINT = 44.50245462707039;  \\/\\/ OPTIMIZE [0.0, 100.0]/' -e 's/^\t\tconstexpr double COEF_DIST = .*;  \\/\\/ OPTIMIZE \\[0\\.0, 10000\\.0\\]$/\t\tconstexpr double COEF_DIST = 7982.286129154557;  \\/\\/ OPTIMIZE [0.0, 10000.0]/'\n",
      "g++ 69_answer.cpp -std=gnu++17 -O2 -DONLINE_JUDGE -o 69_answer.cpp.out\n",
      "g++ 70_answer.cpp -std=gnu++17 -O2 -DONLINE_JUDGE -o 70_answer.cpp.out\n",
      "sed -i 71_answer.cpp -e 's/^\t\tconstexpr double COEF_CENTER_L1 = .*;  \\/\\/ OPTIMIZE \\[-100\\.0, 100\\.0\\]$/\t\tconstexpr double COEF_CENTER_L1 = 5.296120774754957;  \\/\\/ OPTIMIZE [-100.0, 100.0]/' -e 's/^\t\tconstexpr double COEF_CENTER_L1_SQ = .*;  \\/\\/ OPTIMIZE \\[0\\.0, 100\\.0\\]$/\t\tconstexpr double COEF_CENTER_L1_SQ = 1.8495128764333792;  \\/\\/ OPTIMIZE [0.0, 100.0]/' -e 's/^\t\tconstexpr double COEF_POINT = .*;  \\/\\/ OPTIMIZE \\[0\\.0, 100\\.0\\]$/\t\tconstexpr double COEF_POINT = 45.607025439128044;  \\/\\/ OPTIMIZE [0.0, 100.0]/' -e 's/^\t\tconstexpr double COEF_DIST = .*;  \\/\\/ OPTIMIZE \\[0\\.0, 10000\\.0\\]$/\t\tconstexpr double COEF_DIST = 6605.763854123584;  \\/\\/ OPTIMIZE [0.0, 10000.0]/'\n",
      "g++ 71_answer.cpp -std=gnu++17 -O2 -DONLINE_JUDGE -o 71_answer.cpp.out\n"
     ]
    },
    {
     "name": "stderr",
     "output_type": "stream",
     "text": [
      "\u001b[32m[I 2021-04-25 13:24:56,999]\u001b[0m Trial 266 finished with value: 1294230.0 and parameters: {'COEF_CENTER_L1': 14.261312124420527, 'COEF_CENTER_L1_SQ': 7.193634396372229, 'COEF_POINT': 7.904239639122678, 'COEF_DIST': 6113.041600416767}. Best is trial 142 with value: 1556780.0.\u001b[0m\n"
     ]
    },
    {
     "name": "stdout",
     "output_type": "stream",
     "text": [
      "callback ok\n",
      "index_parallel=72\n",
      "mkdir: cannot create directory ‘72_out’: File exists\n",
      "mkdir: cannot create directory ‘72_score’: File exists\n",
      "sed -i 72_answer.cpp -e 's/^\t\tconstexpr double COEF_CENTER_L1 = .*;  \\/\\/ OPTIMIZE \\[-100\\.0, 100\\.0\\]$/\t\tconstexpr double COEF_CENTER_L1 = -65.51675462160352;  \\/\\/ OPTIMIZE [-100.0, 100.0]/' -e 's/^\t\tconstexpr double COEF_CENTER_L1_SQ = .*;  \\/\\/ OPTIMIZE \\[0\\.0, 100\\.0\\]$/\t\tconstexpr double COEF_CENTER_L1_SQ = 2.0962212679421848;  \\/\\/ OPTIMIZE [0.0, 100.0]/' -e 's/^\t\tconstexpr double COEF_POINT = .*;  \\/\\/ OPTIMIZE \\[0\\.0, 100\\.0\\]$/\t\tconstexpr double COEF_POINT = 44.64857776768438;  \\/\\/ OPTIMIZE [0.0, 100.0]/' -e 's/^\t\tconstexpr double COEF_DIST = .*;  \\/\\/ OPTIMIZE \\[0\\.0, 10000\\.0\\]$/\t\tconstexpr double COEF_DIST = 6612.608314101763;  \\/\\/ OPTIMIZE [0.0, 10000.0]/'\n",
      "g++ 72_answer.cpp -std=gnu++17 -O2 -DONLINE_JUDGE -o 72_answer.cpp.out\n"
     ]
    },
    {
     "name": "stderr",
     "output_type": "stream",
     "text": [
      "\u001b[32m[I 2021-04-25 13:25:00,122]\u001b[0m Trial 267 finished with value: 1399673.0 and parameters: {'COEF_CENTER_L1': 25.54401263887516, 'COEF_CENTER_L1_SQ': 6.906998897894798, 'COEF_POINT': 42.06714793108834, 'COEF_DIST': 6922.976775236993}. Best is trial 142 with value: 1556780.0.\u001b[0m\n"
     ]
    },
    {
     "name": "stdout",
     "output_type": "stream",
     "text": [
      "callback ok\n",
      "index_parallel=73\n",
      "mkdir: cannot create directory ‘73_out’: File exists\n",
      "mkdir: cannot create directory ‘73_score’: File exists\n",
      "sed -i 73_answer.cpp -e 's/^\t\tconstexpr double COEF_CENTER_L1 = .*;  \\/\\/ OPTIMIZE \\[-100\\.0, 100\\.0\\]$/\t\tconstexpr double COEF_CENTER_L1 = 4.583318836273132;  \\/\\/ OPTIMIZE [-100.0, 100.0]/' -e 's/^\t\tconstexpr double COEF_CENTER_L1_SQ = .*;  \\/\\/ OPTIMIZE \\[0\\.0, 100\\.0\\]$/\t\tconstexpr double COEF_CENTER_L1_SQ = 1.9618349235947083;  \\/\\/ OPTIMIZE [0.0, 100.0]/' -e 's/^\t\tconstexpr double COEF_POINT = .*;  \\/\\/ OPTIMIZE \\[0\\.0, 100\\.0\\]$/\t\tconstexpr double COEF_POINT = 4.8384467923112835;  \\/\\/ OPTIMIZE [0.0, 100.0]/' -e 's/^\t\tconstexpr double COEF_DIST = .*;  \\/\\/ OPTIMIZE \\[0\\.0, 10000\\.0\\]$/\t\tconstexpr double COEF_DIST = 6560.347681078641;  \\/\\/ OPTIMIZE [0.0, 10000.0]/'\n",
      "g++ 73_answer.cpp -std=gnu++17 -O2 -DONLINE_JUDGE -o 73_answer.cpp.out\n"
     ]
    },
    {
     "name": "stderr",
     "output_type": "stream",
     "text": [
      "\u001b[32m[I 2021-04-25 13:25:03,651]\u001b[0m Trial 268 finished with value: 1492898.0 and parameters: {'COEF_CENTER_L1': 5.0594976488671675, 'COEF_CENTER_L1_SQ': 1.7231454308481302, 'COEF_POINT': 44.20273208334889, 'COEF_DIST': 6595.925090457993}. Best is trial 142 with value: 1556780.0.\u001b[0m\n"
     ]
    },
    {
     "name": "stdout",
     "output_type": "stream",
     "text": [
      "callback ok\n",
      "index_parallel=74\n",
      "mkdir: cannot create directory ‘74_out’: File exists\n",
      "mkdir: cannot create directory ‘74_score’: File exists\n"
     ]
    },
    {
     "name": "stderr",
     "output_type": "stream",
     "text": [
      "\u001b[32m[I 2021-04-25 13:25:05,588]\u001b[0m Trial 269 finished with value: 1477726.0 and parameters: {'COEF_CENTER_L1': -65.49778778052, 'COEF_CENTER_L1_SQ': 2.031665093402861, 'COEF_POINT': 44.99631128246867, 'COEF_DIST': 6942.634050736079}. Best is trial 142 with value: 1556780.0.\u001b[0m\n"
     ]
    },
    {
     "name": "stdout",
     "output_type": "stream",
     "text": [
      "sed -i 74_answer.cpp -e 's/^\t\tconstexpr double COEF_CENTER_L1 = .*;  \\/\\/ OPTIMIZE \\[-100\\.0, 100\\.0\\]$/\t\tconstexpr double COEF_CENTER_L1 = -84.46316802877381;  \\/\\/ OPTIMIZE [-100.0, 100.0]/' -e 's/^\t\tconstexpr double COEF_CENTER_L1_SQ = .*;  \\/\\/ OPTIMIZE \\[0\\.0, 100\\.0\\]$/\t\tconstexpr double COEF_CENTER_L1_SQ = 1.986725025908635;  \\/\\/ OPTIMIZE [0.0, 100.0]/' -e 's/^\t\tconstexpr double COEF_POINT = .*;  \\/\\/ OPTIMIZE \\[0\\.0, 100\\.0\\]$/\t\tconstexpr double COEF_POINT = 37.74569954386434;  \\/\\/ OPTIMIZE [0.0, 100.0]/' -e 's/^\t\tconstexpr double COEF_DIST = .*;  \\/\\/ OPTIMIZE \\[0\\.0, 10000\\.0\\]$/\t\tconstexpr double COEF_DIST = 6635.827473543045;  \\/\\/ OPTIMIZE [0.0, 10000.0]/'\n",
      "callback ok\n"
     ]
    },
    {
     "name": "stderr",
     "output_type": "stream",
     "text": [
      "\u001b[32m[I 2021-04-25 13:25:05,642]\u001b[0m Trial 270 finished with value: 1502113.0 and parameters: {'COEF_CENTER_L1': 4.344401963169794, 'COEF_CENTER_L1_SQ': 2.2135932227586017, 'COEF_POINT': 44.50245462707039, 'COEF_DIST': 7982.286129154557}. Best is trial 142 with value: 1556780.0.\u001b[0m\n",
      "\u001b[32m[I 2021-04-25 13:25:05,647]\u001b[0m Trial 271 finished with value: 1483660.0 and parameters: {'COEF_CENTER_L1': 5.296120774754957, 'COEF_CENTER_L1_SQ': 1.8495128764333792, 'COEF_POINT': 45.607025439128044, 'COEF_DIST': 6605.763854123584}. Best is trial 142 with value: 1556780.0.\u001b[0m\n"
     ]
    },
    {
     "name": "stdout",
     "output_type": "stream",
     "text": [
      "index_parallel=75\n",
      "g++ 74_answer.cpp -std=gnu++17 -O2 -DONLINE_JUDGE -o 74_answer.cpp.out\n",
      "mkdir: cannot create directory ‘75_out’: File exists\n",
      "callback ok\n",
      "callback ok\n",
      "mkdir: cannot create directory ‘75_score’: File exists\n",
      "index_parallel=76\n",
      "mkdir: cannot create directory ‘76_out’: File exists\n",
      "mkdir: cannot create directory ‘76_score’: File exists\n",
      "index_parallel=77\n",
      "mkdir: cannot create directory ‘77_out’: File exists\n",
      "mkdir: cannot create directory ‘77_score’: File exists\n",
      "sed -i 75_answer.cpp -e 's/^\t\tconstexpr double COEF_CENTER_L1 = .*;  \\/\\/ OPTIMIZE \\[-100\\.0, 100\\.0\\]$/\t\tconstexpr double COEF_CENTER_L1 = -86.55158718351808;  \\/\\/ OPTIMIZE [-100.0, 100.0]/' -e 's/^\t\tconstexpr double COEF_CENTER_L1_SQ = .*;  \\/\\/ OPTIMIZE \\[0\\.0, 100\\.0\\]$/\t\tconstexpr double COEF_CENTER_L1_SQ = 27.336875656537213;  \\/\\/ OPTIMIZE [0.0, 100.0]/' -e 's/^\t\tconstexpr double COEF_POINT = .*;  \\/\\/ OPTIMIZE \\[0\\.0, 100\\.0\\]$/\t\tconstexpr double COEF_POINT = 38.214709139184954;  \\/\\/ OPTIMIZE [0.0, 100.0]/' -e 's/^\t\tconstexpr double COEF_DIST = .*;  \\/\\/ OPTIMIZE \\[0\\.0, 10000\\.0\\]$/\t\tconstexpr double COEF_DIST = 7674.318472769652;  \\/\\/ OPTIMIZE [0.0, 10000.0]/'\n",
      "g++ 75_answer.cpp -std=gnu++17 -O2 -DONLINE_JUDGE -o 75_answer.cpp.out\n",
      "sed -i 77_answer.cpp -e 's/^\t\tconstexpr double COEF_CENTER_L1 = .*;  \\/\\/ OPTIMIZE \\[-100\\.0, 100\\.0\\]$/\t\tconstexpr double COEF_CENTER_L1 = -72.8804731995701;  \\/\\/ OPTIMIZE [-100.0, 100.0]/' -e 's/^\t\tconstexpr double COEF_CENTER_L1_SQ = .*;  \\/\\/ OPTIMIZE \\[0\\.0, 100\\.0\\]$/\t\tconstexpr double COEF_CENTER_L1_SQ = 4.539835541276297;  \\/\\/ OPTIMIZE [0.0, 100.0]/' -e 's/^\t\tconstexpr double COEF_POINT = .*;  \\/\\/ OPTIMIZE \\[0\\.0, 100\\.0\\]$/\t\tconstexpr double COEF_POINT = 37.259963078420434;  \\/\\/ OPTIMIZE [0.0, 100.0]/' -e 's/^\t\tconstexpr double COEF_DIST = .*;  \\/\\/ OPTIMIZE \\[0\\.0, 10000\\.0\\]$/\t\tconstexpr double COEF_DIST = 8315.982848272775;  \\/\\/ OPTIMIZE [0.0, 10000.0]/'\n",
      "sed -i 76_answer.cpp -e 's/^\t\tconstexpr double COEF_CENTER_L1 = .*;  \\/\\/ OPTIMIZE \\[-100\\.0, 100\\.0\\]$/\t\tconstexpr double COEF_CENTER_L1 = 10.328652520348196;  \\/\\/ OPTIMIZE [-100.0, 100.0]/' -e 's/^\t\tconstexpr double COEF_CENTER_L1_SQ = .*;  \\/\\/ OPTIMIZE \\[0\\.0, 100\\.0\\]$/\t\tconstexpr double COEF_CENTER_L1_SQ = 4.628139277620064;  \\/\\/ OPTIMIZE [0.0, 100.0]/' -e 's/^\t\tconstexpr double COEF_POINT = .*;  \\/\\/ OPTIMIZE \\[0\\.0, 100\\.0\\]$/\t\tconstexpr double COEF_POINT = 38.22006959877848;  \\/\\/ OPTIMIZE [0.0, 100.0]/' -e 's/^\t\tconstexpr double COEF_DIST = .*;  \\/\\/ OPTIMIZE \\[0\\.0, 10000\\.0\\]$/\t\tconstexpr double COEF_DIST = 7656.64281799211;  \\/\\/ OPTIMIZE [0.0, 10000.0]/'\n",
      "g++ 77_answer.cpp -std=gnu++17 -O2 -DONLINE_JUDGE -o 77_answer.cpp.out\n",
      "g++ 76_answer.cpp -std=gnu++17 -O2 -DONLINE_JUDGE -o 76_answer.cpp.out\n"
     ]
    },
    {
     "name": "stderr",
     "output_type": "stream",
     "text": [
      "\u001b[32m[I 2021-04-25 13:25:09,546]\u001b[0m Trial 272 finished with value: 1480528.0 and parameters: {'COEF_CENTER_L1': -65.51675462160352, 'COEF_CENTER_L1_SQ': 2.0962212679421848, 'COEF_POINT': 44.64857776768438, 'COEF_DIST': 6612.608314101763}. Best is trial 142 with value: 1556780.0.\u001b[0m\n"
     ]
    },
    {
     "name": "stdout",
     "output_type": "stream",
     "text": [
      "callback ok\n",
      "index_parallel=78\n",
      "mkdir: cannot create directory ‘78_out’: File exists\n",
      "mkdir: cannot create directory ‘78_score’: File exists\n",
      "sed -i 78_answer.cpp -e 's/^\t\tconstexpr double COEF_CENTER_L1 = .*;  \\/\\/ OPTIMIZE \\[-100\\.0, 100\\.0\\]$/\t\tconstexpr double COEF_CENTER_L1 = 56.21934915127885;  \\/\\/ OPTIMIZE [-100.0, 100.0]/' -e 's/^\t\tconstexpr double COEF_CENTER_L1_SQ = .*;  \\/\\/ OPTIMIZE \\[0\\.0, 100\\.0\\]$/\t\tconstexpr double COEF_CENTER_L1_SQ = 4.599913609310046;  \\/\\/ OPTIMIZE [0.0, 100.0]/' -e 's/^\t\tconstexpr double COEF_POINT = .*;  \\/\\/ OPTIMIZE \\[0\\.0, 100\\.0\\]$/\t\tconstexpr double COEF_POINT = 4.582952091003339;  \\/\\/ OPTIMIZE [0.0, 100.0]/' -e 's/^\t\tconstexpr double COEF_DIST = .*;  \\/\\/ OPTIMIZE \\[0\\.0, 10000\\.0\\]$/\t\tconstexpr double COEF_DIST = 7658.130545247396;  \\/\\/ OPTIMIZE [0.0, 10000.0]/'\n",
      "g++ 78_answer.cpp -std=gnu++17 -O2 -DONLINE_JUDGE -o 78_answer.cpp.out\n"
     ]
    },
    {
     "name": "stderr",
     "output_type": "stream",
     "text": [
      "\u001b[32m[I 2021-04-25 13:25:12,578]\u001b[0m Trial 273 finished with value: 1461687.0 and parameters: {'COEF_CENTER_L1': 4.583318836273132, 'COEF_CENTER_L1_SQ': 1.9618349235947083, 'COEF_POINT': 4.8384467923112835, 'COEF_DIST': 6560.347681078641}. Best is trial 142 with value: 1556780.0.\u001b[0m\n"
     ]
    },
    {
     "name": "stdout",
     "output_type": "stream",
     "text": [
      "callback ok\n",
      "index_parallel=79\n",
      "mkdir: cannot create directory ‘79_out’: File exists\n",
      "mkdir: cannot create directory ‘79_score’: File exists\n",
      "sed -i 79_answer.cpp -e 's/^\t\tconstexpr double COEF_CENTER_L1 = .*;  \\/\\/ OPTIMIZE \\[-100\\.0, 100\\.0\\]$/\t\tconstexpr double COEF_CENTER_L1 = -72.80312334428243;  \\/\\/ OPTIMIZE [-100.0, 100.0]/' -e 's/^\t\tconstexpr double COEF_CENTER_L1_SQ = .*;  \\/\\/ OPTIMIZE \\[0\\.0, 100\\.0\\]$/\t\tconstexpr double COEF_CENTER_L1_SQ = 5.62148691881565;  \\/\\/ OPTIMIZE [0.0, 100.0]/' -e 's/^\t\tconstexpr double COEF_POINT = .*;  \\/\\/ OPTIMIZE \\[0\\.0, 100\\.0\\]$/\t\tconstexpr double COEF_POINT = 38.98404943418249;  \\/\\/ OPTIMIZE [0.0, 100.0]/' -e 's/^\t\tconstexpr double COEF_DIST = .*;  \\/\\/ OPTIMIZE \\[0\\.0, 10000\\.0\\]$/\t\tconstexpr double COEF_DIST = 8292.038832511736;  \\/\\/ OPTIMIZE [0.0, 10000.0]/'\n",
      "g++ 79_answer.cpp -std=gnu++17 -O2 -DONLINE_JUDGE -o 79_answer.cpp.out\n"
     ]
    },
    {
     "name": "stderr",
     "output_type": "stream",
     "text": [
      "\u001b[32m[I 2021-04-25 13:25:15,858]\u001b[0m Trial 274 finished with value: 1437791.0 and parameters: {'COEF_CENTER_L1': -84.46316802877381, 'COEF_CENTER_L1_SQ': 1.986725025908635, 'COEF_POINT': 37.74569954386434, 'COEF_DIST': 6635.827473543045}. Best is trial 142 with value: 1556780.0.\u001b[0m\n"
     ]
    },
    {
     "name": "stdout",
     "output_type": "stream",
     "text": [
      "callback ok\n",
      "index_parallel=80\n",
      "mkdir: cannot create directory ‘80_out’: File exists\n",
      "mkdir: cannot create directory ‘80_score’: File exists\n",
      "sed -i 80_answer.cpp -e 's/^\t\tconstexpr double COEF_CENTER_L1 = .*;  \\/\\/ OPTIMIZE \\[-100\\.0, 100\\.0\\]$/\t\tconstexpr double COEF_CENTER_L1 = 56.55400066518033;  \\/\\/ OPTIMIZE [-100.0, 100.0]/' -e 's/^\t\tconstexpr double COEF_CENTER_L1_SQ = .*;  \\/\\/ OPTIMIZE \\[0\\.0, 100\\.0\\]$/\t\tconstexpr double COEF_CENTER_L1_SQ = 4.341083921417614;  \\/\\/ OPTIMIZE [0.0, 100.0]/' -e 's/^\t\tconstexpr double COEF_POINT = .*;  \\/\\/ OPTIMIZE \\[0\\.0, 100\\.0\\]$/\t\tconstexpr double COEF_POINT = 37.30524115483734;  \\/\\/ OPTIMIZE [0.0, 100.0]/' -e 's/^\t\tconstexpr double COEF_DIST = .*;  \\/\\/ OPTIMIZE \\[0\\.0, 10000\\.0\\]$/\t\tconstexpr double COEF_DIST = 7683.230159354135;  \\/\\/ OPTIMIZE [0.0, 10000.0]/'\n"
     ]
    },
    {
     "name": "stderr",
     "output_type": "stream",
     "text": [
      "\u001b[32m[I 2021-04-25 13:25:17,648]\u001b[0m Trial 275 finished with value: 980507.0 and parameters: {'COEF_CENTER_L1': -86.55158718351808, 'COEF_CENTER_L1_SQ': 27.336875656537213, 'COEF_POINT': 38.214709139184954, 'COEF_DIST': 7674.318472769652}. Best is trial 142 with value: 1556780.0.\u001b[0m\n"
     ]
    },
    {
     "name": "stdout",
     "output_type": "stream",
     "text": [
      "g++ 80_answer.cpp -std=gnu++17 -O2 -DONLINE_JUDGE -o 80_answer.cpp.out\n",
      "callback ok\n",
      "index_parallel=81\n",
      "mkdir: cannot create directory ‘81_out’: File exists\n",
      "mkdir: cannot create directory ‘81_score’: File exists\n"
     ]
    },
    {
     "name": "stderr",
     "output_type": "stream",
     "text": [
      "\u001b[32m[I 2021-04-25 13:25:18,415]\u001b[0m Trial 277 finished with value: 1487941.0 and parameters: {'COEF_CENTER_L1': -72.8804731995701, 'COEF_CENTER_L1_SQ': 4.539835541276297, 'COEF_POINT': 37.259963078420434, 'COEF_DIST': 8315.982848272775}. Best is trial 142 with value: 1556780.0.\u001b[0m\n"
     ]
    },
    {
     "name": "stdout",
     "output_type": "stream",
     "text": [
      "callback ok\n",
      "index_parallel=82\n",
      "mkdir: cannot create directory ‘82_out’: File exists\n",
      "mkdir: cannot create directory ‘82_score’: File exists\n"
     ]
    },
    {
     "name": "stderr",
     "output_type": "stream",
     "text": [
      "\u001b[32m[I 2021-04-25 13:25:19,368]\u001b[0m Trial 276 finished with value: 1531441.0 and parameters: {'COEF_CENTER_L1': 10.328652520348196, 'COEF_CENTER_L1_SQ': 4.628139277620064, 'COEF_POINT': 38.22006959877848, 'COEF_DIST': 7656.64281799211}. Best is trial 142 with value: 1556780.0.\u001b[0m\n"
     ]
    },
    {
     "name": "stdout",
     "output_type": "stream",
     "text": [
      "sed -i 81_answer.cpp -e 's/^\t\tconstexpr double COEF_CENTER_L1 = .*;  \\/\\/ OPTIMIZE \\[-100\\.0, 100\\.0\\]$/\t\tconstexpr double COEF_CENTER_L1 = 11.311808794047606;  \\/\\/ OPTIMIZE [-100.0, 100.0]/' -e 's/^\t\tconstexpr double COEF_CENTER_L1_SQ = .*;  \\/\\/ OPTIMIZE \\[0\\.0, 100\\.0\\]$/\t\tconstexpr double COEF_CENTER_L1_SQ = 4.8943563295437045;  \\/\\/ OPTIMIZE [0.0, 100.0]/' -e 's/^\t\tconstexpr double COEF_POINT = .*;  \\/\\/ OPTIMIZE \\[0\\.0, 100\\.0\\]$/\t\tconstexpr double COEF_POINT = 39.591407398446904;  \\/\\/ OPTIMIZE [0.0, 100.0]/' -e 's/^\t\tconstexpr double COEF_DIST = .*;  \\/\\/ OPTIMIZE \\[0\\.0, 10000\\.0\\]$/\t\tconstexpr double COEF_DIST = 7601.405516469783;  \\/\\/ OPTIMIZE [0.0, 10000.0]/'\n",
      "callback ok\n",
      "g++ 81_answer.cpp -std=gnu++17 -O2 -DONLINE_JUDGE -o 81_answer.cpp.out\n",
      "index_parallel=83\n",
      "mkdir: cannot create directory ‘83_out’: File exists\n",
      "mkdir: cannot create directory ‘83_score’: File exists\n",
      "sed -i 82_answer.cpp -e 's/^\t\tconstexpr double COEF_CENTER_L1 = .*;  \\/\\/ OPTIMIZE \\[-100\\.0, 100\\.0\\]$/\t\tconstexpr double COEF_CENTER_L1 = 10.931466056729999;  \\/\\/ OPTIMIZE [-100.0, 100.0]/' -e 's/^\t\tconstexpr double COEF_CENTER_L1_SQ = .*;  \\/\\/ OPTIMIZE \\[0\\.0, 100\\.0\\]$/\t\tconstexpr double COEF_CENTER_L1_SQ = 4.207781066532675;  \\/\\/ OPTIMIZE [0.0, 100.0]/' -e 's/^\t\tconstexpr double COEF_POINT = .*;  \\/\\/ OPTIMIZE \\[0\\.0, 100\\.0\\]$/\t\tconstexpr double COEF_POINT = 39.691650601396546;  \\/\\/ OPTIMIZE [0.0, 100.0]/' -e 's/^\t\tconstexpr double COEF_DIST = .*;  \\/\\/ OPTIMIZE \\[0\\.0, 10000\\.0\\]$/\t\tconstexpr double COEF_DIST = 8031.93992994889;  \\/\\/ OPTIMIZE [0.0, 10000.0]/'\n",
      "g++ 82_answer.cpp -std=gnu++17 -O2 -DONLINE_JUDGE -o 82_answer.cpp.out\n",
      "sed -i 83_answer.cpp -e 's/^\t\tconstexpr double COEF_CENTER_L1 = .*;  \\/\\/ OPTIMIZE \\[-100\\.0, 100\\.0\\]$/\t\tconstexpr double COEF_CENTER_L1 = 21.368684893033706;  \\/\\/ OPTIMIZE [-100.0, 100.0]/' -e 's/^\t\tconstexpr double COEF_CENTER_L1_SQ = .*;  \\/\\/ OPTIMIZE \\[0\\.0, 100\\.0\\]$/\t\tconstexpr double COEF_CENTER_L1_SQ = 0.07322512186843966;  \\/\\/ OPTIMIZE [0.0, 100.0]/' -e 's/^\t\tconstexpr double COEF_POINT = .*;  \\/\\/ OPTIMIZE \\[0\\.0, 100\\.0\\]$/\t\tconstexpr double COEF_POINT = 40.0222983891984;  \\/\\/ OPTIMIZE [0.0, 100.0]/' -e 's/^\t\tconstexpr double COEF_DIST = .*;  \\/\\/ OPTIMIZE \\[0\\.0, 10000\\.0\\]$/\t\tconstexpr double COEF_DIST = 7849.344609314212;  \\/\\/ OPTIMIZE [0.0, 10000.0]/'\n"
     ]
    },
    {
     "name": "stderr",
     "output_type": "stream",
     "text": [
      "\u001b[32m[I 2021-04-25 13:25:22,328]\u001b[0m Trial 278 finished with value: 1389224.0 and parameters: {'COEF_CENTER_L1': 56.21934915127885, 'COEF_CENTER_L1_SQ': 4.599913609310046, 'COEF_POINT': 4.582952091003339, 'COEF_DIST': 7658.130545247396}. Best is trial 142 with value: 1556780.0.\u001b[0m\n"
     ]
    },
    {
     "name": "stdout",
     "output_type": "stream",
     "text": [
      "g++ 83_answer.cpp -std=gnu++17 -O2 -DONLINE_JUDGE -o 83_answer.cpp.out\n",
      "callback ok\n",
      "index_parallel=84\n",
      "mkdir: cannot create directory ‘84_out’: File exists\n",
      "mkdir: cannot create directory ‘84_score’: File exists\n"
     ]
    },
    {
     "name": "stderr",
     "output_type": "stream",
     "text": [
      "\u001b[32m[I 2021-04-25 13:25:24,007]\u001b[0m Trial 279 finished with value: 1535471.0 and parameters: {'COEF_CENTER_L1': -72.80312334428243, 'COEF_CENTER_L1_SQ': 5.62148691881565, 'COEF_POINT': 38.98404943418249, 'COEF_DIST': 8292.038832511736}. Best is trial 142 with value: 1556780.0.\u001b[0m\n"
     ]
    },
    {
     "name": "stdout",
     "output_type": "stream",
     "text": [
      "callback ok\n",
      "sed -i 84_answer.cpp -e 's/^\t\tconstexpr double COEF_CENTER_L1 = .*;  \\/\\/ OPTIMIZE \\[-100\\.0, 100\\.0\\]$/\t\tconstexpr double COEF_CENTER_L1 = 12.126151908917631;  \\/\\/ OPTIMIZE [-100.0, 100.0]/' -e 's/^\t\tconstexpr double COEF_CENTER_L1_SQ = .*;  \\/\\/ OPTIMIZE \\[0\\.0, 100\\.0\\]$/\t\tconstexpr double COEF_CENTER_L1_SQ = 10.008665778889874;  \\/\\/ OPTIMIZE [0.0, 100.0]/' -e 's/^\t\tconstexpr double COEF_POINT = .*;  \\/\\/ OPTIMIZE \\[0\\.0, 100\\.0\\]$/\t\tconstexpr double COEF_POINT = 38.76718680345128;  \\/\\/ OPTIMIZE [0.0, 100.0]/' -e 's/^\t\tconstexpr double COEF_DIST = .*;  \\/\\/ OPTIMIZE \\[0\\.0, 10000\\.0\\]$/\t\tconstexpr double COEF_DIST = 8158.152855069174;  \\/\\/ OPTIMIZE [0.0, 10000.0]/'\n",
      "g++ 84_answer.cpp -std=gnu++17 -O2 -DONLINE_JUDGE -o 84_answer.cpp.out\n",
      "index_parallel=85\n",
      "mkdir: cannot create directory ‘85_out’: File exists\n",
      "mkdir: cannot create directory ‘85_score’: File exists\n",
      "sed -i 85_answer.cpp -e 's/^\t\tconstexpr double COEF_CENTER_L1 = .*;  \\/\\/ OPTIMIZE \\[-100\\.0, 100\\.0\\]$/\t\tconstexpr double COEF_CENTER_L1 = 21.899194112250118;  \\/\\/ OPTIMIZE [-100.0, 100.0]/' -e 's/^\t\tconstexpr double COEF_CENTER_L1_SQ = .*;  \\/\\/ OPTIMIZE \\[0\\.0, 100\\.0\\]$/\t\tconstexpr double COEF_CENTER_L1_SQ = 9.883666505158054;  \\/\\/ OPTIMIZE [0.0, 100.0]/' -e 's/^\t\tconstexpr double COEF_POINT = .*;  \\/\\/ OPTIMIZE \\[0\\.0, 100\\.0\\]$/\t\tconstexpr double COEF_POINT = 39.4686392860935;  \\/\\/ OPTIMIZE [0.0, 100.0]/' -e 's/^\t\tconstexpr double COEF_DIST = .*;  \\/\\/ OPTIMIZE \\[0\\.0, 10000\\.0\\]$/\t\tconstexpr double COEF_DIST = 7923.41402990573;  \\/\\/ OPTIMIZE [0.0, 10000.0]/'\n",
      "g++ 85_answer.cpp -std=gnu++17 -O2 -DONLINE_JUDGE -o 85_answer.cpp.out\n"
     ]
    },
    {
     "name": "stderr",
     "output_type": "stream",
     "text": [
      "\u001b[32m[I 2021-04-25 13:25:28,098]\u001b[0m Trial 280 finished with value: 1506749.0 and parameters: {'COEF_CENTER_L1': 56.55400066518033, 'COEF_CENTER_L1_SQ': 4.341083921417614, 'COEF_POINT': 37.30524115483734, 'COEF_DIST': 7683.230159354135}. Best is trial 142 with value: 1556780.0.\u001b[0m\n"
     ]
    },
    {
     "name": "stdout",
     "output_type": "stream",
     "text": [
      "callback ok\n",
      "index_parallel=86\n",
      "mkdir: cannot create directory ‘86_out’: File exists\n",
      "mkdir: cannot create directory ‘86_score’: File exists\n",
      "sed -i 86_answer.cpp -e 's/^\t\tconstexpr double COEF_CENTER_L1 = .*;  \\/\\/ OPTIMIZE \\[-100\\.0, 100\\.0\\]$/\t\tconstexpr double COEF_CENTER_L1 = 10.616051342860132;  \\/\\/ OPTIMIZE [-100.0, 100.0]/' -e 's/^\t\tconstexpr double COEF_CENTER_L1_SQ = .*;  \\/\\/ OPTIMIZE \\[0\\.0, 100\\.0\\]$/\t\tconstexpr double COEF_CENTER_L1_SQ = 3.598416368232728;  \\/\\/ OPTIMIZE [0.0, 100.0]/' -e 's/^\t\tconstexpr double COEF_POINT = .*;  \\/\\/ OPTIMIZE \\[0\\.0, 100\\.0\\]$/\t\tconstexpr double COEF_POINT = 39.515075367164094;  \\/\\/ OPTIMIZE [0.0, 100.0]/' -e 's/^\t\tconstexpr double COEF_DIST = .*;  \\/\\/ OPTIMIZE \\[0\\.0, 10000\\.0\\]$/\t\tconstexpr double COEF_DIST = 8932.826791882368;  \\/\\/ OPTIMIZE [0.0, 10000.0]/'\n",
      "g++ 86_answer.cpp -std=gnu++17 -O2 -DONLINE_JUDGE -o 86_answer.cpp.out\n"
     ]
    },
    {
     "name": "stderr",
     "output_type": "stream",
     "text": [
      "\u001b[32m[I 2021-04-25 13:25:29,828]\u001b[0m Trial 281 finished with value: 1532301.0 and parameters: {'COEF_CENTER_L1': 11.311808794047606, 'COEF_CENTER_L1_SQ': 4.8943563295437045, 'COEF_POINT': 39.591407398446904, 'COEF_DIST': 7601.405516469783}. Best is trial 142 with value: 1556780.0.\u001b[0m\n"
     ]
    },
    {
     "name": "stdout",
     "output_type": "stream",
     "text": [
      "callback ok\n",
      "index_parallel=87\n",
      "mkdir: cannot create directory ‘87_out’: File exists\n",
      "mkdir: cannot create directory ‘87_score’: File exists\n"
     ]
    },
    {
     "name": "stderr",
     "output_type": "stream",
     "text": [
      "\u001b[32m[I 2021-04-25 13:25:30,420]\u001b[0m Trial 282 finished with value: 1510294.0 and parameters: {'COEF_CENTER_L1': 10.931466056729999, 'COEF_CENTER_L1_SQ': 4.207781066532675, 'COEF_POINT': 39.691650601396546, 'COEF_DIST': 8031.93992994889}. Best is trial 142 with value: 1556780.0.\u001b[0m\n"
     ]
    },
    {
     "name": "stdout",
     "output_type": "stream",
     "text": [
      "callback ok\n",
      "index_parallel=88\n",
      "mkdir: cannot create directory ‘88_out’: File exists\n",
      "mkdir: cannot create directory ‘88_score’: File exists\n",
      "sed -i 87_answer.cpp -e 's/^\t\tconstexpr double COEF_CENTER_L1 = .*;  \\/\\/ OPTIMIZE \\[-100\\.0, 100\\.0\\]$/\t\tconstexpr double COEF_CENTER_L1 = 20.576851192528316;  \\/\\/ OPTIMIZE [-100.0, 100.0]/' -e 's/^\t\tconstexpr double COEF_CENTER_L1_SQ = .*;  \\/\\/ OPTIMIZE \\[0\\.0, 100\\.0\\]$/\t\tconstexpr double COEF_CENTER_L1_SQ = 9.849436110557043;  \\/\\/ OPTIMIZE [0.0, 100.0]/' -e 's/^\t\tconstexpr double COEF_POINT = .*;  \\/\\/ OPTIMIZE \\[0\\.0, 100\\.0\\]$/\t\tconstexpr double COEF_POINT = 11.753763053437591;  \\/\\/ OPTIMIZE [0.0, 100.0]/' -e 's/^\t\tconstexpr double COEF_DIST = .*;  \\/\\/ OPTIMIZE \\[0\\.0, 10000\\.0\\]$/\t\tconstexpr double COEF_DIST = 7921.788341145429;  \\/\\/ OPTIMIZE [0.0, 10000.0]/'\n",
      "g++ 87_answer.cpp -std=gnu++17 -O2 -DONLINE_JUDGE -o 87_answer.cpp.out\n"
     ]
    },
    {
     "name": "stderr",
     "output_type": "stream",
     "text": [
      "\u001b[32m[I 2021-04-25 13:25:32,451]\u001b[0m Trial 283 finished with value: 1474507.0 and parameters: {'COEF_CENTER_L1': 21.368684893033706, 'COEF_CENTER_L1_SQ': 0.07322512186843966, 'COEF_POINT': 40.0222983891984, 'COEF_DIST': 7849.344609314212}. Best is trial 142 with value: 1556780.0.\u001b[0m\n"
     ]
    },
    {
     "name": "stdout",
     "output_type": "stream",
     "text": [
      "callback ok\n",
      "sed -i 88_answer.cpp -e 's/^\t\tconstexpr double COEF_CENTER_L1 = .*;  \\/\\/ OPTIMIZE \\[-100\\.0, 100\\.0\\]$/\t\tconstexpr double COEF_CENTER_L1 = 20.816522651455465;  \\/\\/ OPTIMIZE [-100.0, 100.0]/' -e 's/^\t\tconstexpr double COEF_CENTER_L1_SQ = .*;  \\/\\/ OPTIMIZE \\[0\\.0, 100\\.0\\]$/\t\tconstexpr double COEF_CENTER_L1_SQ = 9.276270649599589;  \\/\\/ OPTIMIZE [0.0, 100.0]/' -e 's/^\t\tconstexpr double COEF_POINT = .*;  \\/\\/ OPTIMIZE \\[0\\.0, 100\\.0\\]$/\t\tconstexpr double COEF_POINT = 11.75407748683439;  \\/\\/ OPTIMIZE [0.0, 100.0]/' -e 's/^\t\tconstexpr double COEF_DIST = .*;  \\/\\/ OPTIMIZE \\[0\\.0, 10000\\.0\\]$/\t\tconstexpr double COEF_DIST = 8384.045426564657;  \\/\\/ OPTIMIZE [0.0, 10000.0]/'\n",
      "g++ 88_answer.cpp -std=gnu++17 -O2 -DONLINE_JUDGE -o 88_answer.cpp.out\n",
      "index_parallel=89\n",
      "mkdir: cannot create directory ‘89_out’: File exists\n",
      "mkdir: cannot create directory ‘89_score’: File exists\n",
      "sed -i 89_answer.cpp -e 's/^\t\tconstexpr double COEF_CENTER_L1 = .*;  \\/\\/ OPTIMIZE \\[-100\\.0, 100\\.0\\]$/\t\tconstexpr double COEF_CENTER_L1 = 10.206672690968194;  \\/\\/ OPTIMIZE [-100.0, 100.0]/' -e 's/^\t\tconstexpr double COEF_CENTER_L1_SQ = .*;  \\/\\/ OPTIMIZE \\[0\\.0, 100\\.0\\]$/\t\tconstexpr double COEF_CENTER_L1_SQ = 9.632846189666129;  \\/\\/ OPTIMIZE [0.0, 100.0]/' -e 's/^\t\tconstexpr double COEF_POINT = .*;  \\/\\/ OPTIMIZE \\[0\\.0, 100\\.0\\]$/\t\tconstexpr double COEF_POINT = 51.82811765897155;  \\/\\/ OPTIMIZE [0.0, 100.0]/' -e 's/^\t\tconstexpr double COEF_DIST = .*;  \\/\\/ OPTIMIZE \\[0\\.0, 10000\\.0\\]$/\t\tconstexpr double COEF_DIST = 8223.187481500901;  \\/\\/ OPTIMIZE [0.0, 10000.0]/'\n"
     ]
    },
    {
     "name": "stderr",
     "output_type": "stream",
     "text": [
      "\u001b[32m[I 2021-04-25 13:25:35,712]\u001b[0m Trial 284 finished with value: 1368747.0 and parameters: {'COEF_CENTER_L1': 12.126151908917631, 'COEF_CENTER_L1_SQ': 10.008665778889874, 'COEF_POINT': 38.76718680345128, 'COEF_DIST': 8158.152855069174}. Best is trial 142 with value: 1556780.0.\u001b[0m\n"
     ]
    },
    {
     "name": "stdout",
     "output_type": "stream",
     "text": [
      "g++ 89_answer.cpp -std=gnu++17 -O2 -DONLINE_JUDGE -o 89_answer.cpp.out\n",
      "callback ok\n",
      "index_parallel=90\n",
      "mkdir: cannot create directory ‘90_out’: File exists\n",
      "mkdir: cannot create directory ‘90_score’: File exists\n"
     ]
    },
    {
     "name": "stderr",
     "output_type": "stream",
     "text": [
      "\u001b[32m[I 2021-04-25 13:25:36,804]\u001b[0m Trial 285 finished with value: 1383994.0 and parameters: {'COEF_CENTER_L1': 21.899194112250118, 'COEF_CENTER_L1_SQ': 9.883666505158054, 'COEF_POINT': 39.4686392860935, 'COEF_DIST': 7923.41402990573}. Best is trial 142 with value: 1556780.0.\u001b[0m\n"
     ]
    },
    {
     "name": "stdout",
     "output_type": "stream",
     "text": [
      "callback ok\n",
      "index_parallel=91\n",
      "mkdir: cannot create directory ‘91_out’: File exists\n",
      "mkdir: cannot create directory ‘91_score’: File exists\n",
      "sed -i 90_answer.cpp -e 's/^\t\tconstexpr double COEF_CENTER_L1 = .*;  \\/\\/ OPTIMIZE \\[-100\\.0, 100\\.0\\]$/\t\tconstexpr double COEF_CENTER_L1 = 47.262859487854215;  \\/\\/ OPTIMIZE [-100.0, 100.0]/' -e 's/^\t\tconstexpr double COEF_CENTER_L1_SQ = .*;  \\/\\/ OPTIMIZE \\[0\\.0, 100\\.0\\]$/\t\tconstexpr double COEF_CENTER_L1_SQ = 5.943034660744578;  \\/\\/ OPTIMIZE [0.0, 100.0]/' -e 's/^\t\tconstexpr double COEF_POINT = .*;  \\/\\/ OPTIMIZE \\[0\\.0, 100\\.0\\]$/\t\tconstexpr double COEF_POINT = 31.05633114729012;  \\/\\/ OPTIMIZE [0.0, 100.0]/' -e 's/^\t\tconstexpr double COEF_DIST = .*;  \\/\\/ OPTIMIZE \\[0\\.0, 10000\\.0\\]$/\t\tconstexpr double COEF_DIST = 8930.890223239301;  \\/\\/ OPTIMIZE [0.0, 10000.0]/'\n",
      "g++ 90_answer.cpp -std=gnu++17 -O2 -DONLINE_JUDGE -o 90_answer.cpp.out\n",
      "sed -i 91_answer.cpp -e 's/^\t\tconstexpr double COEF_CENTER_L1 = .*;  \\/\\/ OPTIMIZE \\[-100\\.0, 100\\.0\\]$/\t\tconstexpr double COEF_CENTER_L1 = 16.6817671716505;  \\/\\/ OPTIMIZE [-100.0, 100.0]/' -e 's/^\t\tconstexpr double COEF_CENTER_L1_SQ = .*;  \\/\\/ OPTIMIZE \\[0\\.0, 100\\.0\\]$/\t\tconstexpr double COEF_CENTER_L1_SQ = 0.025072301909756966;  \\/\\/ OPTIMIZE [0.0, 100.0]/' -e 's/^\t\tconstexpr double COEF_POINT = .*;  \\/\\/ OPTIMIZE \\[0\\.0, 100\\.0\\]$/\t\tconstexpr double COEF_POINT = 31.566202952165455;  \\/\\/ OPTIMIZE [0.0, 100.0]/' -e 's/^\t\tconstexpr double COEF_DIST = .*;  \\/\\/ OPTIMIZE \\[0\\.0, 10000\\.0\\]$/\t\tconstexpr double COEF_DIST = 8172.812749321005;  \\/\\/ OPTIMIZE [0.0, 10000.0]/'\n",
      "g++ 91_answer.cpp -std=gnu++17 -O2 -DONLINE_JUDGE -o 91_answer.cpp.out\n"
     ]
    },
    {
     "name": "stderr",
     "output_type": "stream",
     "text": [
      "\u001b[32m[I 2021-04-25 13:25:40,905]\u001b[0m Trial 286 finished with value: 1497102.0 and parameters: {'COEF_CENTER_L1': 10.616051342860132, 'COEF_CENTER_L1_SQ': 3.598416368232728, 'COEF_POINT': 39.515075367164094, 'COEF_DIST': 8932.826791882368}. Best is trial 142 with value: 1556780.0.\u001b[0m\n"
     ]
    },
    {
     "name": "stdout",
     "output_type": "stream",
     "text": [
      "callback ok\n",
      "index_parallel=92\n",
      "mkdir: cannot create directory ‘92_out’: File exists\n",
      "mkdir: cannot create directory ‘92_score’: File exists\n",
      "sed -i 92_answer.cpp -e 's/^\t\tconstexpr double COEF_CENTER_L1 = .*;  \\/\\/ OPTIMIZE \\[-100\\.0, 100\\.0\\]$/\t\tconstexpr double COEF_CENTER_L1 = 15.452290578731274;  \\/\\/ OPTIMIZE [-100.0, 100.0]/' -e 's/^\t\tconstexpr double COEF_CENTER_L1_SQ = .*;  \\/\\/ OPTIMIZE \\[0\\.0, 100\\.0\\]$/\t\tconstexpr double COEF_CENTER_L1_SQ = 0.20813296419778304;  \\/\\/ OPTIMIZE [0.0, 100.0]/' -e 's/^\t\tconstexpr double COEF_POINT = .*;  \\/\\/ OPTIMIZE \\[0\\.0, 100\\.0\\]$/\t\tconstexpr double COEF_POINT = 31.36888325092006;  \\/\\/ OPTIMIZE [0.0, 100.0]/' -e 's/^\t\tconstexpr double COEF_DIST = .*;  \\/\\/ OPTIMIZE \\[0\\.0, 10000\\.0\\]$/\t\tconstexpr double COEF_DIST = 8282.202522203514;  \\/\\/ OPTIMIZE [0.0, 10000.0]/'\n",
      "g++ 92_answer.cpp -std=gnu++17 -O2 -DONLINE_JUDGE -o 92_answer.cpp.out\n"
     ]
    },
    {
     "name": "stderr",
     "output_type": "stream",
     "text": [
      "\u001b[32m[I 2021-04-25 13:25:42,688]\u001b[0m Trial 287 finished with value: 1333780.0 and parameters: {'COEF_CENTER_L1': 20.576851192528316, 'COEF_CENTER_L1_SQ': 9.849436110557043, 'COEF_POINT': 11.753763053437591, 'COEF_DIST': 7921.788341145429}. Best is trial 142 with value: 1556780.0.\u001b[0m\n"
     ]
    },
    {
     "name": "stdout",
     "output_type": "stream",
     "text": [
      "callback ok\n",
      "index_parallel=93\n",
      "mkdir: cannot create directory ‘93_out’: File exists\n"
     ]
    },
    {
     "name": "stderr",
     "output_type": "stream",
     "text": [
      "\u001b[32m[I 2021-04-25 13:25:43,055]\u001b[0m Trial 288 finished with value: 1323572.0 and parameters: {'COEF_CENTER_L1': 20.816522651455465, 'COEF_CENTER_L1_SQ': 9.276270649599589, 'COEF_POINT': 11.75407748683439, 'COEF_DIST': 8384.045426564657}. Best is trial 142 with value: 1556780.0.\u001b[0m\n"
     ]
    },
    {
     "name": "stdout",
     "output_type": "stream",
     "text": [
      "callback ok\n",
      "index_parallel=94\n",
      "mkdir: cannot create directory ‘94_out’: File exists\n",
      "mkdir: cannot create directory ‘93_score’: File exists\n",
      "mkdir: cannot create directory ‘94_score’: File exists\n",
      "sed -i 93_answer.cpp -e 's/^\t\tconstexpr double COEF_CENTER_L1 = .*;  \\/\\/ OPTIMIZE \\[-100\\.0, 100\\.0\\]$/\t\tconstexpr double COEF_CENTER_L1 = -70.44319069384959;  \\/\\/ OPTIMIZE [-100.0, 100.0]/' -e 's/^\t\tconstexpr double COEF_CENTER_L1_SQ = .*;  \\/\\/ OPTIMIZE \\[0\\.0, 100\\.0\\]$/\t\tconstexpr double COEF_CENTER_L1_SQ = 32.00504704168796;  \\/\\/ OPTIMIZE [0.0, 100.0]/' -e 's/^\t\tconstexpr double COEF_POINT = .*;  \\/\\/ OPTIMIZE \\[0\\.0, 100\\.0\\]$/\t\tconstexpr double COEF_POINT = 52.99240001769568;  \\/\\/ OPTIMIZE [0.0, 100.0]/' -e 's/^\t\tconstexpr double COEF_DIST = .*;  \\/\\/ OPTIMIZE \\[0\\.0, 10000\\.0\\]$/\t\tconstexpr double COEF_DIST = 8171.687217951677;  \\/\\/ OPTIMIZE [0.0, 10000.0]/'\n",
      "g++ 93_answer.cpp -std=gnu++17 -O2 -DONLINE_JUDGE -o 93_answer.cpp.out\n",
      "sed -i 94_answer.cpp -e 's/^\t\tconstexpr double COEF_CENTER_L1 = .*;  \\/\\/ OPTIMIZE \\[-100\\.0, 100\\.0\\]$/\t\tconstexpr double COEF_CENTER_L1 = 15.630415331890493;  \\/\\/ OPTIMIZE [-100.0, 100.0]/' -e 's/^\t\tconstexpr double COEF_CENTER_L1_SQ = .*;  \\/\\/ OPTIMIZE \\[0\\.0, 100\\.0\\]$/\t\tconstexpr double COEF_CENTER_L1_SQ = 0.005762136059924039;  \\/\\/ OPTIMIZE [0.0, 100.0]/' -e 's/^\t\tconstexpr double COEF_POINT = .*;  \\/\\/ OPTIMIZE \\[0\\.0, 100\\.0\\]$/\t\tconstexpr double COEF_POINT = 52.65620117986773;  \\/\\/ OPTIMIZE [0.0, 100.0]/' -e 's/^\t\tconstexpr double COEF_DIST = .*;  \\/\\/ OPTIMIZE \\[0\\.0, 10000\\.0\\]$/\t\tconstexpr double COEF_DIST = 8488.545843796528;  \\/\\/ OPTIMIZE [0.0, 10000.0]/'\n",
      "g++ 94_answer.cpp -std=gnu++17 -O2 -DONLINE_JUDGE -o 94_answer.cpp.out\n"
     ]
    },
    {
     "name": "stderr",
     "output_type": "stream",
     "text": [
      "\u001b[32m[I 2021-04-25 13:25:45,444]\u001b[0m Trial 289 finished with value: 1388573.0 and parameters: {'COEF_CENTER_L1': 10.206672690968194, 'COEF_CENTER_L1_SQ': 9.632846189666129, 'COEF_POINT': 51.82811765897155, 'COEF_DIST': 8223.187481500901}. Best is trial 142 with value: 1556780.0.\u001b[0m\n"
     ]
    },
    {
     "name": "stdout",
     "output_type": "stream",
     "text": [
      "callback ok\n",
      "index_parallel=95\n",
      "mkdir: cannot create directory ‘95_out’: File exists\n",
      "mkdir: cannot create directory ‘95_score’: File exists\n",
      "sed -i 95_answer.cpp -e 's/^\t\tconstexpr double COEF_CENTER_L1 = .*;  \\/\\/ OPTIMIZE \\[-100\\.0, 100\\.0\\]$/\t\tconstexpr double COEF_CENTER_L1 = 15.900601440380596;  \\/\\/ OPTIMIZE [-100.0, 100.0]/' -e 's/^\t\tconstexpr double COEF_CENTER_L1_SQ = .*;  \\/\\/ OPTIMIZE \\[0\\.0, 100\\.0\\]$/\t\tconstexpr double COEF_CENTER_L1_SQ = 6.660670532067835;  \\/\\/ OPTIMIZE [0.0, 100.0]/' -e 's/^\t\tconstexpr double COEF_POINT = .*;  \\/\\/ OPTIMIZE \\[0\\.0, 100\\.0\\]$/\t\tconstexpr double COEF_POINT = 36.259043843782074;  \\/\\/ OPTIMIZE [0.0, 100.0]/' -e 's/^\t\tconstexpr double COEF_DIST = .*;  \\/\\/ OPTIMIZE \\[0\\.0, 10000\\.0\\]$/\t\tconstexpr double COEF_DIST = 6845.954364380164;  \\/\\/ OPTIMIZE [0.0, 10000.0]/'\n",
      "g++ 95_answer.cpp -std=gnu++17 -O2 -DONLINE_JUDGE -o 95_answer.cpp.out\n"
     ]
    },
    {
     "name": "stderr",
     "output_type": "stream",
     "text": [
      "\u001b[32m[I 2021-04-25 13:25:48,846]\u001b[0m Trial 290 finished with value: 1511860.0 and parameters: {'COEF_CENTER_L1': 47.262859487854215, 'COEF_CENTER_L1_SQ': 5.943034660744578, 'COEF_POINT': 31.05633114729012, 'COEF_DIST': 8930.890223239301}. Best is trial 142 with value: 1556780.0.\u001b[0m\n"
     ]
    },
    {
     "name": "stdout",
     "output_type": "stream",
     "text": [
      "callback ok\n",
      "index_parallel=96\n",
      "mkdir: cannot create directory ‘96_out’: File exists\n",
      "mkdir: cannot create directory ‘96_score’: File exists\n"
     ]
    },
    {
     "name": "stderr",
     "output_type": "stream",
     "text": [
      "\u001b[32m[I 2021-04-25 13:25:49,340]\u001b[0m Trial 291 finished with value: 1429602.0 and parameters: {'COEF_CENTER_L1': 16.6817671716505, 'COEF_CENTER_L1_SQ': 0.025072301909756966, 'COEF_POINT': 31.566202952165455, 'COEF_DIST': 8172.812749321005}. Best is trial 142 with value: 1556780.0.\u001b[0m\n"
     ]
    },
    {
     "name": "stdout",
     "output_type": "stream",
     "text": [
      "callback ok\n",
      "index_parallel=97\n",
      "mkdir: cannot create directory ‘97_out’: File exists\n",
      "mkdir: cannot create directory ‘97_score’: File exists\n",
      "sed -i 96_answer.cpp -e 's/^\t\tconstexpr double COEF_CENTER_L1 = .*;  \\/\\/ OPTIMIZE \\[-100\\.0, 100\\.0\\]$/\t\tconstexpr double COEF_CENTER_L1 = -61.111713052231345;  \\/\\/ OPTIMIZE [-100.0, 100.0]/' -e 's/^\t\tconstexpr double COEF_CENTER_L1_SQ = .*;  \\/\\/ OPTIMIZE \\[0\\.0, 100\\.0\\]$/\t\tconstexpr double COEF_CENTER_L1_SQ = 5.918164974501518;  \\/\\/ OPTIMIZE [0.0, 100.0]/' -e 's/^\t\tconstexpr double COEF_POINT = .*;  \\/\\/ OPTIMIZE \\[0\\.0, 100\\.0\\]$/\t\tconstexpr double COEF_POINT = 34.96144145349557;  \\/\\/ OPTIMIZE [0.0, 100.0]/' -e 's/^\t\tconstexpr double COEF_DIST = .*;  \\/\\/ OPTIMIZE \\[0\\.0, 10000\\.0\\]$/\t\tconstexpr double COEF_DIST = 8593.316271057402;  \\/\\/ OPTIMIZE [0.0, 10000.0]/'\n",
      "g++ 96_answer.cpp -std=gnu++17 -O2 -DONLINE_JUDGE -o 96_answer.cpp.out\n",
      "sed -i 97_answer.cpp -e 's/^\t\tconstexpr double COEF_CENTER_L1 = .*;  \\/\\/ OPTIMIZE \\[-100\\.0, 100\\.0\\]$/\t\tconstexpr double COEF_CENTER_L1 = -59.5361430237227;  \\/\\/ OPTIMIZE [-100.0, 100.0]/' -e 's/^\t\tconstexpr double COEF_CENTER_L1_SQ = .*;  \\/\\/ OPTIMIZE \\[0\\.0, 100\\.0\\]$/\t\tconstexpr double COEF_CENTER_L1_SQ = 6.098192350576312;  \\/\\/ OPTIMIZE [0.0, 100.0]/' -e 's/^\t\tconstexpr double COEF_POINT = .*;  \\/\\/ OPTIMIZE \\[0\\.0, 100\\.0\\]$/\t\tconstexpr double COEF_POINT = 35.6976798612254;  \\/\\/ OPTIMIZE [0.0, 100.0]/' -e 's/^\t\tconstexpr double COEF_DIST = .*;  \\/\\/ OPTIMIZE \\[0\\.0, 10000\\.0\\]$/\t\tconstexpr double COEF_DIST = 8540.757215360887;  \\/\\/ OPTIMIZE [0.0, 10000.0]/'\n",
      "g++ 97_answer.cpp -std=gnu++17 -O2 -DONLINE_JUDGE -o 97_answer.cpp.out\n"
     ]
    },
    {
     "name": "stderr",
     "output_type": "stream",
     "text": [
      "\u001b[32m[I 2021-04-25 13:25:53,849]\u001b[0m Trial 292 finished with value: 1518908.0 and parameters: {'COEF_CENTER_L1': 15.452290578731274, 'COEF_CENTER_L1_SQ': 0.20813296419778304, 'COEF_POINT': 31.36888325092006, 'COEF_DIST': 8282.202522203514}. Best is trial 142 with value: 1556780.0.\u001b[0m\n"
     ]
    },
    {
     "name": "stdout",
     "output_type": "stream",
     "text": [
      "callback ok\n",
      "index_parallel=98\n",
      "mkdir: cannot create directory ‘98_out’: File exists\n",
      "mkdir: cannot create directory ‘98_score’: File exists\n",
      "sed -i 98_answer.cpp -e 's/^\t\tconstexpr double COEF_CENTER_L1 = .*;  \\/\\/ OPTIMIZE \\[-100\\.0, 100\\.0\\]$/\t\tconstexpr double COEF_CENTER_L1 = 60.35317063401334;  \\/\\/ OPTIMIZE [-100.0, 100.0]/' -e 's/^\t\tconstexpr double COEF_CENTER_L1_SQ = .*;  \\/\\/ OPTIMIZE \\[0\\.0, 100\\.0\\]$/\t\tconstexpr double COEF_CENTER_L1_SQ = 6.150933433041936;  \\/\\/ OPTIMIZE [0.0, 100.0]/' -e 's/^\t\tconstexpr double COEF_POINT = .*;  \\/\\/ OPTIMIZE \\[0\\.0, 100\\.0\\]$/\t\tconstexpr double COEF_POINT = 35.697974150811085;  \\/\\/ OPTIMIZE [0.0, 100.0]/' -e 's/^\t\tconstexpr double COEF_DIST = .*;  \\/\\/ OPTIMIZE \\[0\\.0, 10000\\.0\\]$/\t\tconstexpr double COEF_DIST = 8571.351802926554;  \\/\\/ OPTIMIZE [0.0, 10000.0]/'\n",
      "g++ 98_answer.cpp -std=gnu++17 -O2 -DONLINE_JUDGE -o 98_answer.cpp.out\n"
     ]
    },
    {
     "name": "stderr",
     "output_type": "stream",
     "text": [
      "\u001b[32m[I 2021-04-25 13:25:55,455]\u001b[0m Trial 293 finished with value: 981453.0 and parameters: {'COEF_CENTER_L1': -70.44319069384959, 'COEF_CENTER_L1_SQ': 32.00504704168796, 'COEF_POINT': 52.99240001769568, 'COEF_DIST': 8171.687217951677}. Best is trial 142 with value: 1556780.0.\u001b[0m\n"
     ]
    },
    {
     "name": "stdout",
     "output_type": "stream",
     "text": [
      "callback ok\n",
      "index_parallel=99\n",
      "mkdir: cannot create directory ‘99_out’: File exists\n"
     ]
    },
    {
     "name": "stderr",
     "output_type": "stream",
     "text": [
      "\u001b[32m[I 2021-04-25 13:25:55,824]\u001b[0m Trial 294 finished with value: 1392195.0 and parameters: {'COEF_CENTER_L1': 15.630415331890493, 'COEF_CENTER_L1_SQ': 0.005762136059924039, 'COEF_POINT': 52.65620117986773, 'COEF_DIST': 8488.545843796528}. Best is trial 142 with value: 1556780.0.\u001b[0m\n"
     ]
    },
    {
     "name": "stdout",
     "output_type": "stream",
     "text": [
      "callback ok\n",
      "mkdir: cannot create directory ‘99_score’: File exists\n",
      "index_parallel=0\n",
      "mkdir: cannot create directory ‘0_out’: File exists\n",
      "mkdir: cannot create directory ‘0_score’: File exists\n",
      "sed -i 99_answer.cpp -e 's/^\t\tconstexpr double COEF_CENTER_L1 = .*;  \\/\\/ OPTIMIZE \\[-100\\.0, 100\\.0\\]$/\t\tconstexpr double COEF_CENTER_L1 = -62.08494147819305;  \\/\\/ OPTIMIZE [-100.0, 100.0]/' -e 's/^\t\tconstexpr double COEF_CENTER_L1_SQ = .*;  \\/\\/ OPTIMIZE \\[0\\.0, 100\\.0\\]$/\t\tconstexpr double COEF_CENTER_L1_SQ = 61.16451572869763;  \\/\\/ OPTIMIZE [0.0, 100.0]/' -e 's/^\t\tconstexpr double COEF_POINT = .*;  \\/\\/ OPTIMIZE \\[0\\.0, 100\\.0\\]$/\t\tconstexpr double COEF_POINT = 35.63137100551519;  \\/\\/ OPTIMIZE [0.0, 100.0]/' -e 's/^\t\tconstexpr double COEF_DIST = .*;  \\/\\/ OPTIMIZE \\[0\\.0, 10000\\.0\\]$/\t\tconstexpr double COEF_DIST = 6862.453717601931;  \\/\\/ OPTIMIZE [0.0, 10000.0]/'\n",
      "sed -i 0_answer.cpp -e 's/^\t\tconstexpr double COEF_CENTER_L1 = .*;  \\/\\/ OPTIMIZE \\[-100\\.0, 100\\.0\\]$/\t\tconstexpr double COEF_CENTER_L1 = 62.09634893425502;  \\/\\/ OPTIMIZE [-100.0, 100.0]/' -e 's/^\t\tconstexpr double COEF_CENTER_L1_SQ = .*;  \\/\\/ OPTIMIZE \\[0\\.0, 100\\.0\\]$/\t\tconstexpr double COEF_CENTER_L1_SQ = 3.4468828761558417;  \\/\\/ OPTIMIZE [0.0, 100.0]/' -e 's/^\t\tconstexpr double COEF_POINT = .*;  \\/\\/ OPTIMIZE \\[0\\.0, 100\\.0\\]$/\t\tconstexpr double COEF_POINT = 36.10965174796762;  \\/\\/ OPTIMIZE [0.0, 100.0]/' -e 's/^\t\tconstexpr double COEF_DIST = .*;  \\/\\/ OPTIMIZE \\[0\\.0, 10000\\.0\\]$/\t\tconstexpr double COEF_DIST = 7487.023553193101;  \\/\\/ OPTIMIZE [0.0, 10000.0]/'\n",
      "g++ 99_answer.cpp -std=gnu++17 -O2 -DONLINE_JUDGE -o 99_answer.cpp.out\n",
      "g++ 0_answer.cpp -std=gnu++17 -O2 -DONLINE_JUDGE -o 0_answer.cpp.out\n"
     ]
    },
    {
     "name": "stderr",
     "output_type": "stream",
     "text": [
      "\u001b[32m[I 2021-04-25 13:25:57,946]\u001b[0m Trial 295 finished with value: 1453808.0 and parameters: {'COEF_CENTER_L1': 15.900601440380596, 'COEF_CENTER_L1_SQ': 6.660670532067835, 'COEF_POINT': 36.259043843782074, 'COEF_DIST': 6845.954364380164}. Best is trial 142 with value: 1556780.0.\u001b[0m\n"
     ]
    },
    {
     "name": "stdout",
     "output_type": "stream",
     "text": [
      "callback ok\n",
      "index_parallel=1\n",
      "mkdir: cannot create directory ‘1_out’: File exists\n",
      "mkdir: cannot create directory ‘1_score’: File exists\n",
      "sed -i 1_answer.cpp -e 's/^\t\tconstexpr double COEF_CENTER_L1 = .*;  \\/\\/ OPTIMIZE \\[-100\\.0, 100\\.0\\]$/\t\tconstexpr double COEF_CENTER_L1 = -61.581893415121506;  \\/\\/ OPTIMIZE [-100.0, 100.0]/' -e 's/^\t\tconstexpr double COEF_CENTER_L1_SQ = .*;  \\/\\/ OPTIMIZE \\[0\\.0, 100\\.0\\]$/\t\tconstexpr double COEF_CENTER_L1_SQ = 3.3758957760679458;  \\/\\/ OPTIMIZE [0.0, 100.0]/' -e 's/^\t\tconstexpr double COEF_POINT = .*;  \\/\\/ OPTIMIZE \\[0\\.0, 100\\.0\\]$/\t\tconstexpr double COEF_POINT = 34.70125619780715;  \\/\\/ OPTIMIZE [0.0, 100.0]/' -e 's/^\t\tconstexpr double COEF_DIST = .*;  \\/\\/ OPTIMIZE \\[0\\.0, 10000\\.0\\]$/\t\tconstexpr double COEF_DIST = 1955.5743276663907;  \\/\\/ OPTIMIZE [0.0, 10000.0]/'\n",
      "g++ 1_answer.cpp -std=gnu++17 -O2 -DONLINE_JUDGE -o 1_answer.cpp.out\n"
     ]
    },
    {
     "name": "stderr",
     "output_type": "stream",
     "text": [
      "\u001b[32m[I 2021-04-25 13:26:01,912]\u001b[0m Trial 297 finished with value: 1463469.0 and parameters: {'COEF_CENTER_L1': -59.5361430237227, 'COEF_CENTER_L1_SQ': 6.098192350576312, 'COEF_POINT': 35.6976798612254, 'COEF_DIST': 8540.757215360887}. Best is trial 142 with value: 1556780.0.\u001b[0m\n",
      "\u001b[32m[I 2021-04-25 13:26:01,920]\u001b[0m Trial 296 finished with value: 1488726.0 and parameters: {'COEF_CENTER_L1': -61.111713052231345, 'COEF_CENTER_L1_SQ': 5.918164974501518, 'COEF_POINT': 34.96144145349557, 'COEF_DIST': 8593.316271057402}. Best is trial 142 with value: 1556780.0.\u001b[0m\n"
     ]
    },
    {
     "name": "stdout",
     "output_type": "stream",
     "text": [
      "callback ok\n",
      "callback ok\n",
      "index_parallel=2\n",
      "mkdir: cannot create directory ‘2_out’: File exists\n",
      "mkdir: cannot create directory ‘2_score’: File exists\n",
      "index_parallel=3\n",
      "mkdir: cannot create directory ‘3_out’: File exists\n",
      "mkdir: cannot create directory ‘3_score’: File exists\n",
      "sed -i 2_answer.cpp -e 's/^\t\tconstexpr double COEF_CENTER_L1 = .*;  \\/\\/ OPTIMIZE \\[-100\\.0, 100\\.0\\]$/\t\tconstexpr double COEF_CENTER_L1 = 8.327178987359115;  \\/\\/ OPTIMIZE [-100.0, 100.0]/' -e 's/^\t\tconstexpr double COEF_CENTER_L1_SQ = .*;  \\/\\/ OPTIMIZE \\[0\\.0, 100\\.0\\]$/\t\tconstexpr double COEF_CENTER_L1_SQ = 3.118403626265394;  \\/\\/ OPTIMIZE [0.0, 100.0]/' -e 's/^\t\tconstexpr double COEF_POINT = .*;  \\/\\/ OPTIMIZE \\[0\\.0, 100\\.0\\]$/\t\tconstexpr double COEF_POINT = 43.08677699431154;  \\/\\/ OPTIMIZE [0.0, 100.0]/' -e 's/^\t\tconstexpr double COEF_DIST = .*;  \\/\\/ OPTIMIZE \\[0\\.0, 10000\\.0\\]$/\t\tconstexpr double COEF_DIST = 7479.349954959294;  \\/\\/ OPTIMIZE [0.0, 10000.0]/'\n",
      "sed -i 3_answer.cpp -e 's/^\t\tconstexpr double COEF_CENTER_L1 = .*;  \\/\\/ OPTIMIZE \\[-100\\.0, 100\\.0\\]$/\t\tconstexpr double COEF_CENTER_L1 = -2.726820072516177;  \\/\\/ OPTIMIZE [-100.0, 100.0]/' -e 's/^\t\tconstexpr double COEF_CENTER_L1_SQ = .*;  \\/\\/ OPTIMIZE \\[0\\.0, 100\\.0\\]$/\t\tconstexpr double COEF_CENTER_L1_SQ = 3.2366789827411266;  \\/\\/ OPTIMIZE [0.0, 100.0]/' -e 's/^\t\tconstexpr double COEF_POINT = .*;  \\/\\/ OPTIMIZE \\[0\\.0, 100\\.0\\]$/\t\tconstexpr double COEF_POINT = 46.52884907722372;  \\/\\/ OPTIMIZE [0.0, 100.0]/' -e 's/^\t\tconstexpr double COEF_DIST = .*;  \\/\\/ OPTIMIZE \\[0\\.0, 10000\\.0\\]$/\t\tconstexpr double COEF_DIST = 2245.0950818731726;  \\/\\/ OPTIMIZE [0.0, 10000.0]/'\n",
      "g++ 2_answer.cpp -std=gnu++17 -O2 -DONLINE_JUDGE -o 2_answer.cpp.out\n",
      "g++ 3_answer.cpp -std=gnu++17 -O2 -DONLINE_JUDGE -o 3_answer.cpp.out\n"
     ]
    },
    {
     "name": "stderr",
     "output_type": "stream",
     "text": [
      "\u001b[32m[I 2021-04-25 13:26:06,692]\u001b[0m Trial 298 finished with value: 1485053.0 and parameters: {'COEF_CENTER_L1': 60.35317063401334, 'COEF_CENTER_L1_SQ': 6.150933433041936, 'COEF_POINT': 35.697974150811085, 'COEF_DIST': 8571.351802926554}. Best is trial 142 with value: 1556780.0.\u001b[0m\n"
     ]
    },
    {
     "name": "stdout",
     "output_type": "stream",
     "text": [
      "callback ok\n",
      "index_parallel=4\n",
      "mkdir: cannot create directory ‘4_out’: File exists\n",
      "mkdir: cannot create directory ‘4_score’: File exists\n"
     ]
    },
    {
     "name": "stderr",
     "output_type": "stream",
     "text": [
      "\u001b[32m[I 2021-04-25 13:26:08,329]\u001b[0m Trial 299 finished with value: 729313.0 and parameters: {'COEF_CENTER_L1': -62.08494147819305, 'COEF_CENTER_L1_SQ': 61.16451572869763, 'COEF_POINT': 35.63137100551519, 'COEF_DIST': 6862.453717601931}. Best is trial 142 with value: 1556780.0.\u001b[0m\n"
     ]
    },
    {
     "name": "stdout",
     "output_type": "stream",
     "text": [
      "sed -i 4_answer.cpp -e 's/^\t\tconstexpr double COEF_CENTER_L1 = .*;  \\/\\/ OPTIMIZE \\[-100\\.0, 100\\.0\\]$/\t\tconstexpr double COEF_CENTER_L1 = -68.43090262093189;  \\/\\/ OPTIMIZE [-100.0, 100.0]/' -e 's/^\t\tconstexpr double COEF_CENTER_L1_SQ = .*;  \\/\\/ OPTIMIZE \\[0\\.0, 100\\.0\\]$/\t\tconstexpr double COEF_CENTER_L1_SQ = 3.160954690334851;  \\/\\/ OPTIMIZE [0.0, 100.0]/' -e 's/^\t\tconstexpr double COEF_POINT = .*;  \\/\\/ OPTIMIZE \\[0\\.0, 100\\.0\\]$/\t\tconstexpr double COEF_POINT = 46.692203979479544;  \\/\\/ OPTIMIZE [0.0, 100.0]/' -e 's/^\t\tconstexpr double COEF_DIST = .*;  \\/\\/ OPTIMIZE \\[0\\.0, 10000\\.0\\]$/\t\tconstexpr double COEF_DIST = 7487.889396383738;  \\/\\/ OPTIMIZE [0.0, 10000.0]/'\n",
      "callback ok\n",
      "g++ 4_answer.cpp -std=gnu++17 -O2 -DONLINE_JUDGE -o 4_answer.cpp.out\n",
      "index_parallel=5\n",
      "mkdir: cannot create directory ‘5_out’: File exists\n",
      "mkdir: cannot create directory ‘5_score’: File exists\n"
     ]
    },
    {
     "name": "stderr",
     "output_type": "stream",
     "text": [
      "\u001b[32m[I 2021-04-25 13:26:08,844]\u001b[0m Trial 300 finished with value: 1519968.0 and parameters: {'COEF_CENTER_L1': 62.09634893425502, 'COEF_CENTER_L1_SQ': 3.4468828761558417, 'COEF_POINT': 36.10965174796762, 'COEF_DIST': 7487.023553193101}. Best is trial 142 with value: 1556780.0.\u001b[0m\n"
     ]
    },
    {
     "name": "stdout",
     "output_type": "stream",
     "text": [
      "callback ok\n",
      "index_parallel=6\n",
      "mkdir: cannot create directory ‘6_out’: File exists\n",
      "mkdir: cannot create directory ‘6_score’: File exists\n",
      "sed -i 5_answer.cpp -e 's/^\t\tconstexpr double COEF_CENTER_L1 = .*;  \\/\\/ OPTIMIZE \\[-100\\.0, 100\\.0\\]$/\t\tconstexpr double COEF_CENTER_L1 = -4.1227879482217995;  \\/\\/ OPTIMIZE [-100.0, 100.0]/' -e 's/^\t\tconstexpr double COEF_CENTER_L1_SQ = .*;  \\/\\/ OPTIMIZE \\[0\\.0, 100\\.0\\]$/\t\tconstexpr double COEF_CENTER_L1_SQ = 3.115406286016333;  \\/\\/ OPTIMIZE [0.0, 100.0]/' -e 's/^\t\tconstexpr double COEF_POINT = .*;  \\/\\/ OPTIMIZE \\[0\\.0, 100\\.0\\]$/\t\tconstexpr double COEF_POINT = 41.68306106529246;  \\/\\/ OPTIMIZE [0.0, 100.0]/' -e 's/^\t\tconstexpr double COEF_DIST = .*;  \\/\\/ OPTIMIZE \\[0\\.0, 10000\\.0\\]$/\t\tconstexpr double COEF_DIST = 6323.9361046491185;  \\/\\/ OPTIMIZE [0.0, 10000.0]/'\n",
      "g++ 5_answer.cpp -std=gnu++17 -O2 -DONLINE_JUDGE -o 5_answer.cpp.out\n"
     ]
    },
    {
     "name": "stderr",
     "output_type": "stream",
     "text": [
      "\u001b[32m[I 2021-04-25 13:26:10,865]\u001b[0m Trial 301 finished with value: 1420868.0 and parameters: {'COEF_CENTER_L1': -61.581893415121506, 'COEF_CENTER_L1_SQ': 3.3758957760679458, 'COEF_POINT': 34.70125619780715, 'COEF_DIST': 1955.5743276663907}. Best is trial 142 with value: 1556780.0.\u001b[0m\n"
     ]
    },
    {
     "name": "stdout",
     "output_type": "stream",
     "text": [
      "callback ok\n",
      "sed -i 6_answer.cpp -e 's/^\t\tconstexpr double COEF_CENTER_L1 = .*;  \\/\\/ OPTIMIZE \\[-100\\.0, 100\\.0\\]$/\t\tconstexpr double COEF_CENTER_L1 = 8.427779504493316;  \\/\\/ OPTIMIZE [-100.0, 100.0]/' -e 's/^\t\tconstexpr double COEF_CENTER_L1_SQ = .*;  \\/\\/ OPTIMIZE \\[0\\.0, 100\\.0\\]$/\t\tconstexpr double COEF_CENTER_L1_SQ = 2.9363548002144912;  \\/\\/ OPTIMIZE [0.0, 100.0]/' -e 's/^\t\tconstexpr double COEF_POINT = .*;  \\/\\/ OPTIMIZE \\[0\\.0, 100\\.0\\]$/\t\tconstexpr double COEF_POINT = 41.474294558481006;  \\/\\/ OPTIMIZE [0.0, 100.0]/' -e 's/^\t\tconstexpr double COEF_DIST = .*;  \\/\\/ OPTIMIZE \\[0\\.0, 10000\\.0\\]$/\t\tconstexpr double COEF_DIST = 7543.969410328449;  \\/\\/ OPTIMIZE [0.0, 10000.0]/'\n",
      "g++ 6_answer.cpp -std=gnu++17 -O2 -DONLINE_JUDGE -o 6_answer.cpp.out\n",
      "index_parallel=7\n",
      "mkdir: cannot create directory ‘7_out’: File exists\n",
      "mkdir: cannot create directory ‘7_score’: File exists\n",
      "sed -i 7_answer.cpp -e 's/^\t\tconstexpr double COEF_CENTER_L1 = .*;  \\/\\/ OPTIMIZE \\[-100\\.0, 100\\.0\\]$/\t\tconstexpr double COEF_CENTER_L1 = -3.8493758609757984;  \\/\\/ OPTIMIZE [-100.0, 100.0]/' -e 's/^\t\tconstexpr double COEF_CENTER_L1_SQ = .*;  \\/\\/ OPTIMIZE \\[0\\.0, 100\\.0\\]$/\t\tconstexpr double COEF_CENTER_L1_SQ = 1.6614674643282048;  \\/\\/ OPTIMIZE [0.0, 100.0]/' -e 's/^\t\tconstexpr double COEF_POINT = .*;  \\/\\/ OPTIMIZE \\[0\\.0, 100\\.0\\]$/\t\tconstexpr double COEF_POINT = 43.38117482590076;  \\/\\/ OPTIMIZE [0.0, 100.0]/' -e 's/^\t\tconstexpr double COEF_DIST = .*;  \\/\\/ OPTIMIZE \\[0\\.0, 10000\\.0\\]$/\t\tconstexpr double COEF_DIST = 6397.209453900595;  \\/\\/ OPTIMIZE [0.0, 10000.0]/'\n",
      "g++ 7_answer.cpp -std=gnu++17 -O2 -DONLINE_JUDGE -o 7_answer.cpp.out\n"
     ]
    },
    {
     "name": "stderr",
     "output_type": "stream",
     "text": [
      "\u001b[32m[I 2021-04-25 13:26:14,730]\u001b[0m Trial 303 finished with value: 1387762.0 and parameters: {'COEF_CENTER_L1': -2.726820072516177, 'COEF_CENTER_L1_SQ': 3.2366789827411266, 'COEF_POINT': 46.52884907722372, 'COEF_DIST': 2245.0950818731726}. Best is trial 142 with value: 1556780.0.\u001b[0m\n"
     ]
    },
    {
     "name": "stdout",
     "output_type": "stream",
     "text": [
      "callback ok\n",
      "index_parallel=8\n",
      "mkdir: cannot create directory ‘8_out’: File exists\n"
     ]
    },
    {
     "name": "stderr",
     "output_type": "stream",
     "text": [
      "\u001b[32m[I 2021-04-25 13:26:15,096]\u001b[0m Trial 302 finished with value: 1528028.0 and parameters: {'COEF_CENTER_L1': 8.327178987359115, 'COEF_CENTER_L1_SQ': 3.118403626265394, 'COEF_POINT': 43.08677699431154, 'COEF_DIST': 7479.349954959294}. Best is trial 142 with value: 1556780.0.\u001b[0m\n"
     ]
    },
    {
     "name": "stdout",
     "output_type": "stream",
     "text": [
      "callback ok\n",
      "mkdir: cannot create directory ‘8_score’: File exists\n",
      "index_parallel=9\n",
      "mkdir: cannot create directory ‘9_out’: File exists\n",
      "mkdir: cannot create directory ‘9_score’: File exists\n",
      "sed -i 8_answer.cpp -e 's/^\t\tconstexpr double COEF_CENTER_L1 = .*;  \\/\\/ OPTIMIZE \\[-100\\.0, 100\\.0\\]$/\t\tconstexpr double COEF_CENTER_L1 = 6.753428913607465;  \\/\\/ OPTIMIZE [-100.0, 100.0]/' -e 's/^\t\tconstexpr double COEF_CENTER_L1_SQ = .*;  \\/\\/ OPTIMIZE \\[0\\.0, 100\\.0\\]$/\t\tconstexpr double COEF_CENTER_L1_SQ = 0.033094388826517385;  \\/\\/ OPTIMIZE [0.0, 100.0]/' -e 's/^\t\tconstexpr double COEF_POINT = .*;  \\/\\/ OPTIMIZE \\[0\\.0, 100\\.0\\]$/\t\tconstexpr double COEF_POINT = 43.608700625544344;  \\/\\/ OPTIMIZE [0.0, 100.0]/' -e 's/^\t\tconstexpr double COEF_DIST = .*;  \\/\\/ OPTIMIZE \\[0\\.0, 10000\\.0\\]$/\t\tconstexpr double COEF_DIST = 7514.8593884252705;  \\/\\/ OPTIMIZE [0.0, 10000.0]/'\n",
      "g++ 8_answer.cpp -std=gnu++17 -O2 -DONLINE_JUDGE -o 8_answer.cpp.out\n",
      "sed -i 9_answer.cpp -e 's/^\t\tconstexpr double COEF_CENTER_L1 = .*;  \\/\\/ OPTIMIZE \\[-100\\.0, 100\\.0\\]$/\t\tconstexpr double COEF_CENTER_L1 = 9.708184192786069;  \\/\\/ OPTIMIZE [-100.0, 100.0]/' -e 's/^\t\tconstexpr double COEF_CENTER_L1_SQ = .*;  \\/\\/ OPTIMIZE \\[0\\.0, 100\\.0\\]$/\t\tconstexpr double COEF_CENTER_L1_SQ = 0.1009906321501477;  \\/\\/ OPTIMIZE [0.0, 100.0]/' -e 's/^\t\tconstexpr double COEF_POINT = .*;  \\/\\/ OPTIMIZE \\[0\\.0, 100\\.0\\]$/\t\tconstexpr double COEF_POINT = 42.071752247185785;  \\/\\/ OPTIMIZE [0.0, 100.0]/' -e 's/^\t\tconstexpr double COEF_DIST = .*;  \\/\\/ OPTIMIZE \\[0\\.0, 10000\\.0\\]$/\t\tconstexpr double COEF_DIST = 7474.462984070105;  \\/\\/ OPTIMIZE [0.0, 10000.0]/'\n",
      "g++ 9_answer.cpp -std=gnu++17 -O2 -DONLINE_JUDGE -o 9_answer.cpp.out\n"
     ]
    },
    {
     "name": "stderr",
     "output_type": "stream",
     "text": [
      "\u001b[32m[I 2021-04-25 13:26:19,457]\u001b[0m Trial 304 finished with value: 1466628.0 and parameters: {'COEF_CENTER_L1': -68.43090262093189, 'COEF_CENTER_L1_SQ': 3.160954690334851, 'COEF_POINT': 46.692203979479544, 'COEF_DIST': 7487.889396383738}. Best is trial 142 with value: 1556780.0.\u001b[0m\n"
     ]
    },
    {
     "name": "stdout",
     "output_type": "stream",
     "text": [
      "callback ok\n",
      "index_parallel=10\n",
      "mkdir: cannot create directory ‘10_out’: File exists\n",
      "mkdir: cannot create directory ‘10_score’: File exists\n",
      "sed -i 10_answer.cpp -e 's/^\t\tconstexpr double COEF_CENTER_L1 = .*;  \\/\\/ OPTIMIZE \\[-100\\.0, 100\\.0\\]$/\t\tconstexpr double COEF_CENTER_L1 = 7.325542483487022;  \\/\\/ OPTIMIZE [-100.0, 100.0]/' -e 's/^\t\tconstexpr double COEF_CENTER_L1_SQ = .*;  \\/\\/ OPTIMIZE \\[0\\.0, 100\\.0\\]$/\t\tconstexpr double COEF_CENTER_L1_SQ = 7.910471223030889;  \\/\\/ OPTIMIZE [0.0, 100.0]/' -e 's/^\t\tconstexpr double COEF_POINT = .*;  \\/\\/ OPTIMIZE \\[0\\.0, 100\\.0\\]$/\t\tconstexpr double COEF_POINT = 42.17110028674489;  \\/\\/ OPTIMIZE [0.0, 100.0]/' -e 's/^\t\tconstexpr double COEF_DIST = .*;  \\/\\/ OPTIMIZE \\[0\\.0, 10000\\.0\\]$/\t\tconstexpr double COEF_DIST = 7733.93080087853;  \\/\\/ OPTIMIZE [0.0, 10000.0]/'\n",
      "g++ 10_answer.cpp -std=gnu++17 -O2 -DONLINE_JUDGE -o 10_answer.cpp.out\n"
     ]
    },
    {
     "name": "stderr",
     "output_type": "stream",
     "text": [
      "\u001b[32m[I 2021-04-25 13:26:21,269]\u001b[0m Trial 306 finished with value: 1519631.0 and parameters: {'COEF_CENTER_L1': 8.427779504493316, 'COEF_CENTER_L1_SQ': 2.9363548002144912, 'COEF_POINT': 41.474294558481006, 'COEF_DIST': 7543.969410328449}. Best is trial 142 with value: 1556780.0.\u001b[0m\n"
     ]
    },
    {
     "name": "stdout",
     "output_type": "stream",
     "text": [
      "callback ok\n"
     ]
    },
    {
     "name": "stderr",
     "output_type": "stream",
     "text": [
      "\u001b[32m[I 2021-04-25 13:26:21,294]\u001b[0m Trial 305 finished with value: 1534274.0 and parameters: {'COEF_CENTER_L1': -4.1227879482217995, 'COEF_CENTER_L1_SQ': 3.115406286016333, 'COEF_POINT': 41.68306106529246, 'COEF_DIST': 6323.9361046491185}. Best is trial 142 with value: 1556780.0.\u001b[0m\n"
     ]
    },
    {
     "name": "stdout",
     "output_type": "stream",
     "text": [
      "index_parallel=11\n",
      "mkdir: cannot create directory ‘11_out’: File exists\n",
      "callback ok\n",
      "index_parallel=12\n",
      "mkdir: cannot create directory ‘11_score’: File exists\n",
      "mkdir: cannot create directory ‘12_out’: File exists\n",
      "mkdir: cannot create directory ‘12_score’: File exists\n",
      "sed -i 11_answer.cpp -e 's/^\t\tconstexpr double COEF_CENTER_L1 = .*;  \\/\\/ OPTIMIZE \\[-100\\.0, 100\\.0\\]$/\t\tconstexpr double COEF_CENTER_L1 = -4.8295198254444305;  \\/\\/ OPTIMIZE [-100.0, 100.0]/' -e 's/^\t\tconstexpr double COEF_CENTER_L1_SQ = .*;  \\/\\/ OPTIMIZE \\[0\\.0, 100\\.0\\]$/\t\tconstexpr double COEF_CENTER_L1_SQ = 0.08237963636814749;  \\/\\/ OPTIMIZE [0.0, 100.0]/' -e 's/^\t\tconstexpr double COEF_POINT = .*;  \\/\\/ OPTIMIZE \\[0\\.0, 100\\.0\\]$/\t\tconstexpr double COEF_POINT = 43.53567116154413;  \\/\\/ OPTIMIZE [0.0, 100.0]/' -e 's/^\t\tconstexpr double COEF_DIST = .*;  \\/\\/ OPTIMIZE \\[0\\.0, 10000\\.0\\]$/\t\tconstexpr double COEF_DIST = 6468.566208285907;  \\/\\/ OPTIMIZE [0.0, 10000.0]/'\n",
      "g++ 11_answer.cpp -std=gnu++17 -O2 -DONLINE_JUDGE -o 11_answer.cpp.out\n",
      "sed -i 12_answer.cpp -e 's/^\t\tconstexpr double COEF_CENTER_L1 = .*;  \\/\\/ OPTIMIZE \\[-100\\.0, 100\\.0\\]$/\t\tconstexpr double COEF_CENTER_L1 = -4.4136832316233825;  \\/\\/ OPTIMIZE [-100.0, 100.0]/' -e 's/^\t\tconstexpr double COEF_CENTER_L1_SQ = .*;  \\/\\/ OPTIMIZE \\[0\\.0, 100\\.0\\]$/\t\tconstexpr double COEF_CENTER_L1_SQ = 0.26786916699450014;  \\/\\/ OPTIMIZE [0.0, 100.0]/' -e 's/^\t\tconstexpr double COEF_POINT = .*;  \\/\\/ OPTIMIZE \\[0\\.0, 100\\.0\\]$/\t\tconstexpr double COEF_POINT = 43.584408950179224;  \\/\\/ OPTIMIZE [0.0, 100.0]/' -e 's/^\t\tconstexpr double COEF_DIST = .*;  \\/\\/ OPTIMIZE \\[0\\.0, 10000\\.0\\]$/\t\tconstexpr double COEF_DIST = 6434.423766955671;  \\/\\/ OPTIMIZE [0.0, 10000.0]/'\n",
      "g++ 12_answer.cpp -std=gnu++17 -O2 -DONLINE_JUDGE -o 12_answer.cpp.out\n"
     ]
    },
    {
     "name": "stderr",
     "output_type": "stream",
     "text": [
      "\u001b[32m[I 2021-04-25 13:26:23,688]\u001b[0m Trial 307 finished with value: 1515704.0 and parameters: {'COEF_CENTER_L1': -3.8493758609757984, 'COEF_CENTER_L1_SQ': 1.6614674643282048, 'COEF_POINT': 43.38117482590076, 'COEF_DIST': 6397.209453900595}. Best is trial 142 with value: 1556780.0.\u001b[0m\n"
     ]
    },
    {
     "name": "stdout",
     "output_type": "stream",
     "text": [
      "callback ok\n",
      "index_parallel=13\n",
      "mkdir: cannot create directory ‘13_out’: File exists\n",
      "mkdir: cannot create directory ‘13_score’: File exists\n",
      "sed -i 13_answer.cpp -e 's/^\t\tconstexpr double COEF_CENTER_L1 = .*;  \\/\\/ OPTIMIZE \\[-100\\.0, 100\\.0\\]$/\t\tconstexpr double COEF_CENTER_L1 = 1.7490442048396417;  \\/\\/ OPTIMIZE [-100.0, 100.0]/' -e 's/^\t\tconstexpr double COEF_CENTER_L1_SQ = .*;  \\/\\/ OPTIMIZE \\[0\\.0, 100\\.0\\]$/\t\tconstexpr double COEF_CENTER_L1_SQ = 7.581642724938236;  \\/\\/ OPTIMIZE [0.0, 100.0]/' -e 's/^\t\tconstexpr double COEF_POINT = .*;  \\/\\/ OPTIMIZE \\[0\\.0, 100\\.0\\]$/\t\tconstexpr double COEF_POINT = 43.20742739422028;  \\/\\/ OPTIMIZE [0.0, 100.0]/' -e 's/^\t\tconstexpr double COEF_DIST = .*;  \\/\\/ OPTIMIZE \\[0\\.0, 10000\\.0\\]$/\t\tconstexpr double COEF_DIST = 6348.78104838469;  \\/\\/ OPTIMIZE [0.0, 10000.0]/'\n",
      "g++ 13_answer.cpp -std=gnu++17 -O2 -DONLINE_JUDGE -o 13_answer.cpp.out\n"
     ]
    },
    {
     "name": "stderr",
     "output_type": "stream",
     "text": [
      "\u001b[32m[I 2021-04-25 13:26:28,018]\u001b[0m Trial 308 finished with value: 1387618.0 and parameters: {'COEF_CENTER_L1': 6.753428913607465, 'COEF_CENTER_L1_SQ': 0.033094388826517385, 'COEF_POINT': 43.608700625544344, 'COEF_DIST': 7514.8593884252705}. Best is trial 142 with value: 1556780.0.\u001b[0m\n"
     ]
    },
    {
     "name": "stdout",
     "output_type": "stream",
     "text": [
      "callback ok\n"
     ]
    },
    {
     "name": "stderr",
     "output_type": "stream",
     "text": [
      "\u001b[32m[I 2021-04-25 13:26:28,050]\u001b[0m Trial 309 finished with value: 1414885.0 and parameters: {'COEF_CENTER_L1': 9.708184192786069, 'COEF_CENTER_L1_SQ': 0.1009906321501477, 'COEF_POINT': 42.071752247185785, 'COEF_DIST': 7474.462984070105}. Best is trial 142 with value: 1556780.0.\u001b[0m\n"
     ]
    },
    {
     "name": "stdout",
     "output_type": "stream",
     "text": [
      "index_parallel=14\n",
      "callback ok\n",
      "mkdir: cannot create directory ‘14_out’: File exists\n",
      "mkdir: cannot create directory ‘14_score’: File exists\n",
      "index_parallel=15\n",
      "mkdir: cannot create directory ‘15_out’: File exists\n",
      "mkdir: cannot create directory ‘15_score’: File exists\n",
      "sed -i 14_answer.cpp -e 's/^\t\tconstexpr double COEF_CENTER_L1 = .*;  \\/\\/ OPTIMIZE \\[-100\\.0, 100\\.0\\]$/\t\tconstexpr double COEF_CENTER_L1 = 2.1470910341727096;  \\/\\/ OPTIMIZE [-100.0, 100.0]/' -e 's/^\t\tconstexpr double COEF_CENTER_L1_SQ = .*;  \\/\\/ OPTIMIZE \\[0\\.0, 100\\.0\\]$/\t\tconstexpr double COEF_CENTER_L1_SQ = 7.423844675598674;  \\/\\/ OPTIMIZE [0.0, 100.0]/' -e 's/^\t\tconstexpr double COEF_POINT = .*;  \\/\\/ OPTIMIZE \\[0\\.0, 100\\.0\\]$/\t\tconstexpr double COEF_POINT = 43.22959201764343;  \\/\\/ OPTIMIZE [0.0, 100.0]/' -e 's/^\t\tconstexpr double COEF_DIST = .*;  \\/\\/ OPTIMIZE \\[0\\.0, 10000\\.0\\]$/\t\tconstexpr double COEF_DIST = 6196.398091233959;  \\/\\/ OPTIMIZE [0.0, 10000.0]/'\n",
      "g++ 14_answer.cpp -std=gnu++17 -O2 -DONLINE_JUDGE -o 14_answer.cpp.out\n",
      "sed -i 15_answer.cpp -e 's/^\t\tconstexpr double COEF_CENTER_L1 = .*;  \\/\\/ OPTIMIZE \\[-100\\.0, 100\\.0\\]$/\t\tconstexpr double COEF_CENTER_L1 = 1.058286591678355;  \\/\\/ OPTIMIZE [-100.0, 100.0]/' -e 's/^\t\tconstexpr double COEF_CENTER_L1_SQ = .*;  \\/\\/ OPTIMIZE \\[0\\.0, 100\\.0\\]$/\t\tconstexpr double COEF_CENTER_L1_SQ = 8.09784697798712;  \\/\\/ OPTIMIZE [0.0, 100.0]/' -e 's/^\t\tconstexpr double COEF_POINT = .*;  \\/\\/ OPTIMIZE \\[0\\.0, 100\\.0\\]$/\t\tconstexpr double COEF_POINT = 43.396379702890535;  \\/\\/ OPTIMIZE [0.0, 100.0]/' -e 's/^\t\tconstexpr double COEF_DIST = .*;  \\/\\/ OPTIMIZE \\[0\\.0, 10000\\.0\\]$/\t\tconstexpr double COEF_DIST = 6376.573296547028;  \\/\\/ OPTIMIZE [0.0, 10000.0]/'\n",
      "g++ 15_answer.cpp -std=gnu++17 -O2 -DONLINE_JUDGE -o 15_answer.cpp.out\n"
     ]
    },
    {
     "name": "stderr",
     "output_type": "stream",
     "text": [
      "\u001b[32m[I 2021-04-25 13:26:32,698]\u001b[0m Trial 310 finished with value: 1441413.0 and parameters: {'COEF_CENTER_L1': 7.325542483487022, 'COEF_CENTER_L1_SQ': 7.910471223030889, 'COEF_POINT': 42.17110028674489, 'COEF_DIST': 7733.93080087853}. Best is trial 142 with value: 1556780.0.\u001b[0m\n"
     ]
    },
    {
     "name": "stdout",
     "output_type": "stream",
     "text": [
      "callback ok\n",
      "index_parallel=16\n",
      "mkdir: cannot create directory ‘16_out’: File exists\n",
      "mkdir: cannot create directory ‘16_score’: File exists\n"
     ]
    },
    {
     "name": "stderr",
     "output_type": "stream",
     "text": [
      "\u001b[32m[I 2021-04-25 13:26:34,360]\u001b[0m Trial 311 finished with value: 1424782.0 and parameters: {'COEF_CENTER_L1': -4.8295198254444305, 'COEF_CENTER_L1_SQ': 0.08237963636814749, 'COEF_POINT': 43.53567116154413, 'COEF_DIST': 6468.566208285907}. Best is trial 142 with value: 1556780.0.\u001b[0m\n"
     ]
    },
    {
     "name": "stdout",
     "output_type": "stream",
     "text": [
      "sed -i 16_answer.cpp -e 's/^\t\tconstexpr double COEF_CENTER_L1 = .*;  \\/\\/ OPTIMIZE \\[-100\\.0, 100\\.0\\]$/\t\tconstexpr double COEF_CENTER_L1 = 87.32975463065443;  \\/\\/ OPTIMIZE [-100.0, 100.0]/' -e 's/^\t\tconstexpr double COEF_CENTER_L1_SQ = .*;  \\/\\/ OPTIMIZE \\[0\\.0, 100\\.0\\]$/\t\tconstexpr double COEF_CENTER_L1_SQ = 5.119110605770788;  \\/\\/ OPTIMIZE [0.0, 100.0]/' -e 's/^\t\tconstexpr double COEF_POINT = .*;  \\/\\/ OPTIMIZE \\[0\\.0, 100\\.0\\]$/\t\tconstexpr double COEF_POINT = 44.56926824826157;  \\/\\/ OPTIMIZE [0.0, 100.0]/' -e 's/^\t\tconstexpr double COEF_DIST = .*;  \\/\\/ OPTIMIZE \\[0\\.0, 10000\\.0\\]$/\t\tconstexpr double COEF_DIST = 6198.5683898721445;  \\/\\/ OPTIMIZE [0.0, 10000.0]/'\n",
      "callback ok\n",
      "g++ 16_answer.cpp -std=gnu++17 -O2 -DONLINE_JUDGE -o 16_answer.cpp.out\n",
      "index_parallel=17\n",
      "mkdir: cannot create directory ‘17_out’: File exists\n"
     ]
    },
    {
     "name": "stderr",
     "output_type": "stream",
     "text": [
      "\u001b[32m[I 2021-04-25 13:26:34,676]\u001b[0m Trial 312 finished with value: 1392951.0 and parameters: {'COEF_CENTER_L1': -4.4136832316233825, 'COEF_CENTER_L1_SQ': 0.26786916699450014, 'COEF_POINT': 43.584408950179224, 'COEF_DIST': 6434.423766955671}. Best is trial 142 with value: 1556780.0.\u001b[0m\n"
     ]
    },
    {
     "name": "stdout",
     "output_type": "stream",
     "text": [
      "callback ok\n",
      "mkdir: cannot create directory ‘17_score’: File exists\n",
      "index_parallel=18\n",
      "mkdir: cannot create directory ‘18_out’: File exists\n",
      "mkdir: cannot create directory ‘18_score’: File exists\n",
      "sed -i 17_answer.cpp -e 's/^\t\tconstexpr double COEF_CENTER_L1 = .*;  \\/\\/ OPTIMIZE \\[-100\\.0, 100\\.0\\]$/\t\tconstexpr double COEF_CENTER_L1 = 2.471525996347637;  \\/\\/ OPTIMIZE [-100.0, 100.0]/' -e 's/^\t\tconstexpr double COEF_CENTER_L1_SQ = .*;  \\/\\/ OPTIMIZE \\[0\\.0, 100\\.0\\]$/\t\tconstexpr double COEF_CENTER_L1_SQ = 7.638470659027127;  \\/\\/ OPTIMIZE [0.0, 100.0]/' -e 's/^\t\tconstexpr double COEF_POINT = .*;  \\/\\/ OPTIMIZE \\[0\\.0, 100\\.0\\]$/\t\tconstexpr double COEF_POINT = 49.064687480196646;  \\/\\/ OPTIMIZE [0.0, 100.0]/' -e 's/^\t\tconstexpr double COEF_DIST = .*;  \\/\\/ OPTIMIZE \\[0\\.0, 10000\\.0\\]$/\t\tconstexpr double COEF_DIST = 6221.735876847329;  \\/\\/ OPTIMIZE [0.0, 10000.0]/'\n",
      "g++ 17_answer.cpp -std=gnu++17 -O2 -DONLINE_JUDGE -o 17_answer.cpp.out\n"
     ]
    },
    {
     "name": "stderr",
     "output_type": "stream",
     "text": [
      "\u001b[32m[I 2021-04-25 13:26:36,922]\u001b[0m Trial 313 finished with value: 1355240.0 and parameters: {'COEF_CENTER_L1': 1.7490442048396417, 'COEF_CENTER_L1_SQ': 7.581642724938236, 'COEF_POINT': 43.20742739422028, 'COEF_DIST': 6348.78104838469}. Best is trial 142 with value: 1556780.0.\u001b[0m\n"
     ]
    },
    {
     "name": "stdout",
     "output_type": "stream",
     "text": [
      "sed -i 18_answer.cpp -e 's/^\t\tconstexpr double COEF_CENTER_L1 = .*;  \\/\\/ OPTIMIZE \\[-100\\.0, 100\\.0\\]$/\t\tconstexpr double COEF_CENTER_L1 = 2.505064120400755;  \\/\\/ OPTIMIZE [-100.0, 100.0]/' -e 's/^\t\tconstexpr double COEF_CENTER_L1_SQ = .*;  \\/\\/ OPTIMIZE \\[0\\.0, 100\\.0\\]$/\t\tconstexpr double COEF_CENTER_L1_SQ = 5.443879475662299;  \\/\\/ OPTIMIZE [0.0, 100.0]/' -e 's/^\t\tconstexpr double COEF_POINT = .*;  \\/\\/ OPTIMIZE \\[0\\.0, 100\\.0\\]$/\t\tconstexpr double COEF_POINT = 49.55777524566762;  \\/\\/ OPTIMIZE [0.0, 100.0]/' -e 's/^\t\tconstexpr double COEF_DIST = .*;  \\/\\/ OPTIMIZE \\[0\\.0, 10000\\.0\\]$/\t\tconstexpr double COEF_DIST = 7023.955072468967;  \\/\\/ OPTIMIZE [0.0, 10000.0]/'\n",
      "callback ok\n",
      "index_parallel=19\n",
      "mkdir: cannot create directory ‘19_out’: File exists\n",
      "g++ 18_answer.cpp -std=gnu++17 -O2 -DONLINE_JUDGE -o 18_answer.cpp.out\n",
      "mkdir: cannot create directory ‘19_score’: File exists\n",
      "sed -i 19_answer.cpp -e 's/^\t\tconstexpr double COEF_CENTER_L1 = .*;  \\/\\/ OPTIMIZE \\[-100\\.0, 100\\.0\\]$/\t\tconstexpr double COEF_CENTER_L1 = 1.7278449636220736;  \\/\\/ OPTIMIZE [-100.0, 100.0]/' -e 's/^\t\tconstexpr double COEF_CENTER_L1_SQ = .*;  \\/\\/ OPTIMIZE \\[0\\.0, 100\\.0\\]$/\t\tconstexpr double COEF_CENTER_L1_SQ = 5.131095100955286;  \\/\\/ OPTIMIZE [0.0, 100.0]/' -e 's/^\t\tconstexpr double COEF_POINT = .*;  \\/\\/ OPTIMIZE \\[0\\.0, 100\\.0\\]$/\t\tconstexpr double COEF_POINT = 38.07882318431955;  \\/\\/ OPTIMIZE [0.0, 100.0]/' -e 's/^\t\tconstexpr double COEF_DIST = .*;  \\/\\/ OPTIMIZE \\[0\\.0, 10000\\.0\\]$/\t\tconstexpr double COEF_DIST = 6979.410288277165;  \\/\\/ OPTIMIZE [0.0, 10000.0]/'\n",
      "g++ 19_answer.cpp -std=gnu++17 -O2 -DONLINE_JUDGE -o 19_answer.cpp.out\n"
     ]
    },
    {
     "name": "stderr",
     "output_type": "stream",
     "text": [
      "\u001b[32m[I 2021-04-25 13:26:41,291]\u001b[0m Trial 314 finished with value: 1366714.0 and parameters: {'COEF_CENTER_L1': 2.1470910341727096, 'COEF_CENTER_L1_SQ': 7.423844675598674, 'COEF_POINT': 43.22959201764343, 'COEF_DIST': 6196.398091233959}. Best is trial 142 with value: 1556780.0.\u001b[0m\n"
     ]
    },
    {
     "name": "stdout",
     "output_type": "stream",
     "text": [
      "callback ok\n",
      "index_parallel=20\n",
      "mkdir: cannot create directory ‘20_out’: File exists\n"
     ]
    },
    {
     "name": "stderr",
     "output_type": "stream",
     "text": [
      "\u001b[32m[I 2021-04-25 13:26:41,749]\u001b[0m Trial 315 finished with value: 1419434.0 and parameters: {'COEF_CENTER_L1': 1.058286591678355, 'COEF_CENTER_L1_SQ': 8.09784697798712, 'COEF_POINT': 43.396379702890535, 'COEF_DIST': 6376.573296547028}. Best is trial 142 with value: 1556780.0.\u001b[0m\n"
     ]
    },
    {
     "name": "stdout",
     "output_type": "stream",
     "text": [
      "callback ok\n",
      "mkdir: cannot create directory ‘20_score’: File exists\n",
      "index_parallel=21\n",
      "mkdir: cannot create directory ‘21_out’: File exists\n",
      "mkdir: cannot create directory ‘21_score’: File exists\n",
      "sed -i 20_answer.cpp -e 's/^\t\tconstexpr double COEF_CENTER_L1 = .*;  \\/\\/ OPTIMIZE \\[-100\\.0, 100\\.0\\]$/\t\tconstexpr double COEF_CENTER_L1 = -15.293178555170382;  \\/\\/ OPTIMIZE [-100.0, 100.0]/' -e 's/^\t\tconstexpr double COEF_CENTER_L1_SQ = .*;  \\/\\/ OPTIMIZE \\[0\\.0, 100\\.0\\]$/\t\tconstexpr double COEF_CENTER_L1_SQ = 5.268572669238379;  \\/\\/ OPTIMIZE [0.0, 100.0]/' -e 's/^\t\tconstexpr double COEF_POINT = .*;  \\/\\/ OPTIMIZE \\[0\\.0, 100\\.0\\]$/\t\tconstexpr double COEF_POINT = 49.86314896934578;  \\/\\/ OPTIMIZE [0.0, 100.0]/' -e 's/^\t\tconstexpr double COEF_DIST = .*;  \\/\\/ OPTIMIZE \\[0\\.0, 10000\\.0\\]$/\t\tconstexpr double COEF_DIST = 6921.6903349398335;  \\/\\/ OPTIMIZE [0.0, 10000.0]/'\n",
      "g++ 20_answer.cpp -std=gnu++17 -O2 -DONLINE_JUDGE -o 20_answer.cpp.out\n",
      "sed -i 21_answer.cpp -e 's/^\t\tconstexpr double COEF_CENTER_L1 = .*;  \\/\\/ OPTIMIZE \\[-100\\.0, 100\\.0\\]$/\t\tconstexpr double COEF_CENTER_L1 = -49.93526663332068;  \\/\\/ OPTIMIZE [-100.0, 100.0]/' -e 's/^\t\tconstexpr double COEF_CENTER_L1_SQ = .*;  \\/\\/ OPTIMIZE \\[0\\.0, 100\\.0\\]$/\t\tconstexpr double COEF_CENTER_L1_SQ = 5.74578338400764;  \\/\\/ OPTIMIZE [0.0, 100.0]/' -e 's/^\t\tconstexpr double COEF_POINT = .*;  \\/\\/ OPTIMIZE \\[0\\.0, 100\\.0\\]$/\t\tconstexpr double COEF_POINT = 48.817393674288034;  \\/\\/ OPTIMIZE [0.0, 100.0]/' -e 's/^\t\tconstexpr double COEF_DIST = .*;  \\/\\/ OPTIMIZE \\[0\\.0, 10000\\.0\\]$/\t\tconstexpr double COEF_DIST = 7034.159093512591;  \\/\\/ OPTIMIZE [0.0, 10000.0]/'\n",
      "g++ 21_answer.cpp -std=gnu++17 -O2 -DONLINE_JUDGE -o 21_answer.cpp.out\n"
     ]
    },
    {
     "name": "stderr",
     "output_type": "stream",
     "text": [
      "\u001b[32m[I 2021-04-25 13:26:46,303]\u001b[0m Trial 316 finished with value: 1424048.0 and parameters: {'COEF_CENTER_L1': 87.32975463065443, 'COEF_CENTER_L1_SQ': 5.119110605770788, 'COEF_POINT': 44.56926824826157, 'COEF_DIST': 6198.5683898721445}. Best is trial 142 with value: 1556780.0.\u001b[0m\n"
     ]
    },
    {
     "name": "stdout",
     "output_type": "stream",
     "text": [
      "callback ok\n",
      "index_parallel=22\n",
      "mkdir: cannot create directory ‘22_out’: File exists\n",
      "mkdir: cannot create directory ‘22_score’: File exists\n"
     ]
    },
    {
     "name": "stderr",
     "output_type": "stream",
     "text": [
      "\u001b[32m[I 2021-04-25 13:26:47,986]\u001b[0m Trial 318 finished with value: 1461045.0 and parameters: {'COEF_CENTER_L1': 2.505064120400755, 'COEF_CENTER_L1_SQ': 5.443879475662299, 'COEF_POINT': 49.55777524566762, 'COEF_DIST': 7023.955072468967}. Best is trial 142 with value: 1556780.0.\u001b[0m\n",
      "\u001b[32m[I 2021-04-25 13:26:48,034]\u001b[0m Trial 317 finished with value: 1395395.0 and parameters: {'COEF_CENTER_L1': 2.471525996347637, 'COEF_CENTER_L1_SQ': 7.638470659027127, 'COEF_POINT': 49.064687480196646, 'COEF_DIST': 6221.735876847329}. Best is trial 142 with value: 1556780.0.\u001b[0m\n"
     ]
    },
    {
     "name": "stdout",
     "output_type": "stream",
     "text": [
      "callback ok\n",
      "index_parallel=23\n",
      "mkdir: cannot create directory ‘23_out’: File exists\n",
      "callback ok\n",
      "sed -i 22_answer.cpp -e 's/^\t\tconstexpr double COEF_CENTER_L1 = .*;  \\/\\/ OPTIMIZE \\[-100\\.0, 100\\.0\\]$/\t\tconstexpr double COEF_CENTER_L1 = -7.864596288128617;  \\/\\/ OPTIMIZE [-100.0, 100.0]/' -e 's/^\t\tconstexpr double COEF_CENTER_L1_SQ = .*;  \\/\\/ OPTIMIZE \\[0\\.0, 100\\.0\\]$/\t\tconstexpr double COEF_CENTER_L1_SQ = 73.40028730758019;  \\/\\/ OPTIMIZE [0.0, 100.0]/' -e 's/^\t\tconstexpr double COEF_POINT = .*;  \\/\\/ OPTIMIZE \\[0\\.0, 100\\.0\\]$/\t\tconstexpr double COEF_POINT = 38.01502016430484;  \\/\\/ OPTIMIZE [0.0, 100.0]/' -e 's/^\t\tconstexpr double COEF_DIST = .*;  \\/\\/ OPTIMIZE \\[0\\.0, 10000\\.0\\]$/\t\tconstexpr double COEF_DIST = 6987.396218575844;  \\/\\/ OPTIMIZE [0.0, 10000.0]/'\n",
      "mkdir: cannot create directory ‘23_score’: File exists\n",
      "index_parallel=24\n",
      "g++ 22_answer.cpp -std=gnu++17 -O2 -DONLINE_JUDGE -o 22_answer.cpp.out\n",
      "mkdir: cannot create directory ‘24_out’: File exists\n",
      "mkdir: cannot create directory ‘24_score’: File exists\n",
      "sed -i 23_answer.cpp -e 's/^\t\tconstexpr double COEF_CENTER_L1 = .*;  \\/\\/ OPTIMIZE \\[-100\\.0, 100\\.0\\]$/\t\tconstexpr double COEF_CENTER_L1 = 27.388880642559393;  \\/\\/ OPTIMIZE [-100.0, 100.0]/' -e 's/^\t\tconstexpr double COEF_CENTER_L1_SQ = .*;  \\/\\/ OPTIMIZE \\[0\\.0, 100\\.0\\]$/\t\tconstexpr double COEF_CENTER_L1_SQ = 1.745557707110401;  \\/\\/ OPTIMIZE [0.0, 100.0]/' -e 's/^\t\tconstexpr double COEF_POINT = .*;  \\/\\/ OPTIMIZE \\[0\\.0, 100\\.0\\]$/\t\tconstexpr double COEF_POINT = 38.42050248942834;  \\/\\/ OPTIMIZE [0.0, 100.0]/' -e 's/^\t\tconstexpr double COEF_DIST = .*;  \\/\\/ OPTIMIZE \\[0\\.0, 10000\\.0\\]$/\t\tconstexpr double COEF_DIST = 7849.811486193417;  \\/\\/ OPTIMIZE [0.0, 10000.0]/'\n",
      "g++ 23_answer.cpp -std=gnu++17 -O2 -DONLINE_JUDGE -o 23_answer.cpp.out\n"
     ]
    },
    {
     "name": "stderr",
     "output_type": "stream",
     "text": [
      "\u001b[32m[I 2021-04-25 13:26:50,809]\u001b[0m Trial 319 finished with value: 1483070.0 and parameters: {'COEF_CENTER_L1': 1.7278449636220736, 'COEF_CENTER_L1_SQ': 5.131095100955286, 'COEF_POINT': 38.07882318431955, 'COEF_DIST': 6979.410288277165}. Best is trial 142 with value: 1556780.0.\u001b[0m\n"
     ]
    },
    {
     "name": "stdout",
     "output_type": "stream",
     "text": [
      "callback ok\n",
      "sed -i 24_answer.cpp -e 's/^\t\tconstexpr double COEF_CENTER_L1 = .*;  \\/\\/ OPTIMIZE \\[-100\\.0, 100\\.0\\]$/\t\tconstexpr double COEF_CENTER_L1 = 25.90114734950115;  \\/\\/ OPTIMIZE [-100.0, 100.0]/' -e 's/^\t\tconstexpr double COEF_CENTER_L1_SQ = .*;  \\/\\/ OPTIMIZE \\[0\\.0, 100\\.0\\]$/\t\tconstexpr double COEF_CENTER_L1_SQ = 1.78279054331778;  \\/\\/ OPTIMIZE [0.0, 100.0]/' -e 's/^\t\tconstexpr double COEF_POINT = .*;  \\/\\/ OPTIMIZE \\[0\\.0, 100\\.0\\]$/\t\tconstexpr double COEF_POINT = 38.48046455554644;  \\/\\/ OPTIMIZE [0.0, 100.0]/' -e 's/^\t\tconstexpr double COEF_DIST = .*;  \\/\\/ OPTIMIZE \\[0\\.0, 10000\\.0\\]$/\t\tconstexpr double COEF_DIST = 7232.119349877391;  \\/\\/ OPTIMIZE [0.0, 10000.0]/'\n",
      "g++ 24_answer.cpp -std=gnu++17 -O2 -DONLINE_JUDGE -o 24_answer.cpp.out\n",
      "index_parallel=25\n",
      "mkdir: cannot create directory ‘25_out’: File exists\n",
      "mkdir: cannot create directory ‘25_score’: File exists\n",
      "sed -i 25_answer.cpp -e 's/^\t\tconstexpr double COEF_CENTER_L1 = .*;  \\/\\/ OPTIMIZE \\[-100\\.0, 100\\.0\\]$/\t\tconstexpr double COEF_CENTER_L1 = -73.99244494940719;  \\/\\/ OPTIMIZE [-100.0, 100.0]/' -e 's/^\t\tconstexpr double COEF_CENTER_L1_SQ = .*;  \\/\\/ OPTIMIZE \\[0\\.0, 100\\.0\\]$/\t\tconstexpr double COEF_CENTER_L1_SQ = 1.7607437500670466;  \\/\\/ OPTIMIZE [0.0, 100.0]/' -e 's/^\t\tconstexpr double COEF_POINT = .*;  \\/\\/ OPTIMIZE \\[0\\.0, 100\\.0\\]$/\t\tconstexpr double COEF_POINT = 39.960413658010324;  \\/\\/ OPTIMIZE [0.0, 100.0]/' -e 's/^\t\tconstexpr double COEF_DIST = .*;  \\/\\/ OPTIMIZE \\[0\\.0, 10000\\.0\\]$/\t\tconstexpr double COEF_DIST = 6735.563833935209;  \\/\\/ OPTIMIZE [0.0, 10000.0]/'\n",
      "g++ 25_answer.cpp -std=gnu++17 -O2 -DONLINE_JUDGE -o 25_answer.cpp.out\n"
     ]
    },
    {
     "name": "stderr",
     "output_type": "stream",
     "text": [
      "\u001b[32m[I 2021-04-25 13:26:54,136]\u001b[0m Trial 320 finished with value: 1476680.0 and parameters: {'COEF_CENTER_L1': -15.293178555170382, 'COEF_CENTER_L1_SQ': 5.268572669238379, 'COEF_POINT': 49.86314896934578, 'COEF_DIST': 6921.6903349398335}. Best is trial 142 with value: 1556780.0.\u001b[0m\n",
      "\u001b[32m[I 2021-04-25 13:26:54,156]\u001b[0m Trial 321 finished with value: 1493697.0 and parameters: {'COEF_CENTER_L1': -49.93526663332068, 'COEF_CENTER_L1_SQ': 5.74578338400764, 'COEF_POINT': 48.817393674288034, 'COEF_DIST': 7034.159093512591}. Best is trial 142 with value: 1556780.0.\u001b[0m\n"
     ]
    },
    {
     "name": "stdout",
     "output_type": "stream",
     "text": [
      "callback ok\n",
      "index_parallel=26\n",
      "callback ok\n",
      "mkdir: cannot create directory ‘26_out’: File exists\n",
      "index_parallel=27\n",
      "mkdir: cannot create directory ‘26_score’: File exists\n",
      "mkdir: cannot create directory ‘27_out’: File exists\n",
      "mkdir: cannot create directory ‘27_score’: File exists\n",
      "sed -i 26_answer.cpp -e 's/^\t\tconstexpr double COEF_CENTER_L1 = .*;  \\/\\/ OPTIMIZE \\[-100\\.0, 100\\.0\\]$/\t\tconstexpr double COEF_CENTER_L1 = -74.8553561593936;  \\/\\/ OPTIMIZE [-100.0, 100.0]/' -e 's/^\t\tconstexpr double COEF_CENTER_L1_SQ = .*;  \\/\\/ OPTIMIZE \\[0\\.0, 100\\.0\\]$/\t\tconstexpr double COEF_CENTER_L1_SQ = 2.1800118019471677;  \\/\\/ OPTIMIZE [0.0, 100.0]/' -e 's/^\t\tconstexpr double COEF_POINT = .*;  \\/\\/ OPTIMIZE \\[0\\.0, 100\\.0\\]$/\t\tconstexpr double COEF_POINT = 39.730024756094295;  \\/\\/ OPTIMIZE [0.0, 100.0]/' -e 's/^\t\tconstexpr double COEF_DIST = .*;  \\/\\/ OPTIMIZE \\[0\\.0, 10000\\.0\\]$/\t\tconstexpr double COEF_DIST = 7863.58855658143;  \\/\\/ OPTIMIZE [0.0, 10000.0]/'\n",
      "g++ 26_answer.cpp -std=gnu++17 -O2 -DONLINE_JUDGE -o 26_answer.cpp.out\n",
      "sed -i 27_answer.cpp -e 's/^\t\tconstexpr double COEF_CENTER_L1 = .*;  \\/\\/ OPTIMIZE \\[-100\\.0, 100\\.0\\]$/\t\tconstexpr double COEF_CENTER_L1 = -72.39866432796376;  \\/\\/ OPTIMIZE [-100.0, 100.0]/' -e 's/^\t\tconstexpr double COEF_CENTER_L1_SQ = .*;  \\/\\/ OPTIMIZE \\[0\\.0, 100\\.0\\]$/\t\tconstexpr double COEF_CENTER_L1_SQ = 1.9865875587578536;  \\/\\/ OPTIMIZE [0.0, 100.0]/' -e 's/^\t\tconstexpr double COEF_POINT = .*;  \\/\\/ OPTIMIZE \\[0\\.0, 100\\.0\\]$/\t\tconstexpr double COEF_POINT = 40.199275703925146;  \\/\\/ OPTIMIZE [0.0, 100.0]/' -e 's/^\t\tconstexpr double COEF_DIST = .*;  \\/\\/ OPTIMIZE \\[0\\.0, 10000\\.0\\]$/\t\tconstexpr double COEF_DIST = 6718.071871323711;  \\/\\/ OPTIMIZE [0.0, 10000.0]/'\n",
      "g++ 27_answer.cpp -std=gnu++17 -O2 -DONLINE_JUDGE -o 27_answer.cpp.out\n"
     ]
    },
    {
     "name": "stderr",
     "output_type": "stream",
     "text": [
      "\u001b[32m[I 2021-04-25 13:26:58,796]\u001b[0m Trial 322 finished with value: 826644.0 and parameters: {'COEF_CENTER_L1': -7.864596288128617, 'COEF_CENTER_L1_SQ': 73.40028730758019, 'COEF_POINT': 38.01502016430484, 'COEF_DIST': 6987.396218575844}. Best is trial 142 with value: 1556780.0.\u001b[0m\n"
     ]
    },
    {
     "name": "stdout",
     "output_type": "stream",
     "text": [
      "callback ok\n",
      "index_parallel=28\n",
      "mkdir: cannot create directory ‘28_out’: File exists\n",
      "mkdir: cannot create directory ‘28_score’: File exists\n",
      "sed -i 28_answer.cpp -e 's/^\t\tconstexpr double COEF_CENTER_L1 = .*;  \\/\\/ OPTIMIZE \\[-100\\.0, 100\\.0\\]$/\t\tconstexpr double COEF_CENTER_L1 = -74.04843610112661;  \\/\\/ OPTIMIZE [-100.0, 100.0]/' -e 's/^\t\tconstexpr double COEF_CENTER_L1_SQ = .*;  \\/\\/ OPTIMIZE \\[0\\.0, 100\\.0\\]$/\t\tconstexpr double COEF_CENTER_L1_SQ = 2.115699738591992;  \\/\\/ OPTIMIZE [0.0, 100.0]/' -e 's/^\t\tconstexpr double COEF_POINT = .*;  \\/\\/ OPTIMIZE \\[0\\.0, 100\\.0\\]$/\t\tconstexpr double COEF_POINT = 40.48109377954621;  \\/\\/ OPTIMIZE [0.0, 100.0]/' -e 's/^\t\tconstexpr double COEF_DIST = .*;  \\/\\/ OPTIMIZE \\[0\\.0, 10000\\.0\\]$/\t\tconstexpr double COEF_DIST = 7830.567683749667;  \\/\\/ OPTIMIZE [0.0, 10000.0]/'\n",
      "g++ 28_answer.cpp -std=gnu++17 -O2 -DONLINE_JUDGE -o 28_answer.cpp.out\n"
     ]
    },
    {
     "name": "stderr",
     "output_type": "stream",
     "text": [
      "\u001b[32m[I 2021-04-25 13:27:00,692]\u001b[0m Trial 323 finished with value: 1507346.0 and parameters: {'COEF_CENTER_L1': 27.388880642559393, 'COEF_CENTER_L1_SQ': 1.745557707110401, 'COEF_POINT': 38.42050248942834, 'COEF_DIST': 7849.811486193417}. Best is trial 142 with value: 1556780.0.\u001b[0m\n"
     ]
    },
    {
     "name": "stdout",
     "output_type": "stream",
     "text": [
      "callback ok\n",
      "index_parallel=29\n",
      "mkdir: cannot create directory ‘29_out’: File exists\n",
      "mkdir: cannot create directory ‘29_score’: File exists\n"
     ]
    },
    {
     "name": "stderr",
     "output_type": "stream",
     "text": [
      "\u001b[32m[I 2021-04-25 13:27:01,064]\u001b[0m Trial 324 finished with value: 1510833.0 and parameters: {'COEF_CENTER_L1': 25.90114734950115, 'COEF_CENTER_L1_SQ': 1.78279054331778, 'COEF_POINT': 38.48046455554644, 'COEF_DIST': 7232.119349877391}. Best is trial 142 with value: 1556780.0.\u001b[0m\n"
     ]
    },
    {
     "name": "stdout",
     "output_type": "stream",
     "text": [
      "callback ok\n",
      "index_parallel=30\n",
      "mkdir: cannot create directory ‘30_out’: File exists\n",
      "mkdir: cannot create directory ‘30_score’: File exists\n",
      "sed -i 29_answer.cpp -e 's/^\t\tconstexpr double COEF_CENTER_L1 = .*;  \\/\\/ OPTIMIZE \\[-100\\.0, 100\\.0\\]$/\t\tconstexpr double COEF_CENTER_L1 = -80.62340067549607;  \\/\\/ OPTIMIZE [-100.0, 100.0]/' -e 's/^\t\tconstexpr double COEF_CENTER_L1_SQ = .*;  \\/\\/ OPTIMIZE \\[0\\.0, 100\\.0\\]$/\t\tconstexpr double COEF_CENTER_L1_SQ = 3.6366968799973476;  \\/\\/ OPTIMIZE [0.0, 100.0]/' -e 's/^\t\tconstexpr double COEF_POINT = .*;  \\/\\/ OPTIMIZE \\[0\\.0, 100\\.0\\]$/\t\tconstexpr double COEF_POINT = 40.403901667178374;  \\/\\/ OPTIMIZE [0.0, 100.0]/' -e 's/^\t\tconstexpr double COEF_DIST = .*;  \\/\\/ OPTIMIZE \\[0\\.0, 10000\\.0\\]$/\t\tconstexpr double COEF_DIST = 6652.962318571254;  \\/\\/ OPTIMIZE [0.0, 10000.0]/'\n",
      "g++ 29_answer.cpp -std=gnu++17 -O2 -DONLINE_JUDGE -o 29_answer.cpp.out\n",
      "sed -i 30_answer.cpp -e 's/^\t\tconstexpr double COEF_CENTER_L1 = .*;  \\/\\/ OPTIMIZE \\[-100\\.0, 100\\.0\\]$/\t\tconstexpr double COEF_CENTER_L1 = 13.145812018911435;  \\/\\/ OPTIMIZE [-100.0, 100.0]/' -e 's/^\t\tconstexpr double COEF_CENTER_L1_SQ = .*;  \\/\\/ OPTIMIZE \\[0\\.0, 100\\.0\\]$/\t\tconstexpr double COEF_CENTER_L1_SQ = 3.388700212830411;  \\/\\/ OPTIMIZE [0.0, 100.0]/' -e 's/^\t\tconstexpr double COEF_POINT = .*;  \\/\\/ OPTIMIZE \\[0\\.0, 100\\.0\\]$/\t\tconstexpr double COEF_POINT = 40.58007937784651;  \\/\\/ OPTIMIZE [0.0, 100.0]/' -e 's/^\t\tconstexpr double COEF_DIST = .*;  \\/\\/ OPTIMIZE \\[0\\.0, 10000\\.0\\]$/\t\tconstexpr double COEF_DIST = 6769.553049732426;  \\/\\/ OPTIMIZE [0.0, 10000.0]/'\n",
      "g++ 30_answer.cpp -std=gnu++17 -O2 -DONLINE_JUDGE -o 30_answer.cpp.out\n"
     ]
    },
    {
     "name": "stderr",
     "output_type": "stream",
     "text": [
      "\u001b[32m[I 2021-04-25 13:27:04,507]\u001b[0m Trial 325 finished with value: 1425104.0 and parameters: {'COEF_CENTER_L1': -73.99244494940719, 'COEF_CENTER_L1_SQ': 1.7607437500670466, 'COEF_POINT': 39.960413658010324, 'COEF_DIST': 6735.563833935209}. Best is trial 142 with value: 1556780.0.\u001b[0m\n"
     ]
    },
    {
     "name": "stdout",
     "output_type": "stream",
     "text": [
      "callback ok\n",
      "index_parallel=31\n",
      "mkdir: cannot create directory ‘31_out’: File exists\n",
      "mkdir: cannot create directory ‘31_score’: File exists\n",
      "sed -i 31_answer.cpp -e 's/^\t\tconstexpr double COEF_CENTER_L1 = .*;  \\/\\/ OPTIMIZE \\[-100\\.0, 100\\.0\\]$/\t\tconstexpr double COEF_CENTER_L1 = 11.022769814928179;  \\/\\/ OPTIMIZE [-100.0, 100.0]/' -e 's/^\t\tconstexpr double COEF_CENTER_L1_SQ = .*;  \\/\\/ OPTIMIZE \\[0\\.0, 100\\.0\\]$/\t\tconstexpr double COEF_CENTER_L1_SQ = 3.5966037989300856;  \\/\\/ OPTIMIZE [0.0, 100.0]/' -e 's/^\t\tconstexpr double COEF_POINT = .*;  \\/\\/ OPTIMIZE \\[0\\.0, 100\\.0\\]$/\t\tconstexpr double COEF_POINT = 40.09311271361138;  \\/\\/ OPTIMIZE [0.0, 100.0]/' -e 's/^\t\tconstexpr double COEF_DIST = .*;  \\/\\/ OPTIMIZE \\[0\\.0, 10000\\.0\\]$/\t\tconstexpr double COEF_DIST = 7311.530049650111;  \\/\\/ OPTIMIZE [0.0, 10000.0]/'\n",
      "g++ 31_answer.cpp -std=gnu++17 -O2 -DONLINE_JUDGE -o 31_answer.cpp.out\n"
     ]
    },
    {
     "name": "stderr",
     "output_type": "stream",
     "text": [
      "\u001b[32m[I 2021-04-25 13:27:06,822]\u001b[0m Trial 326 finished with value: 1473991.0 and parameters: {'COEF_CENTER_L1': -74.8553561593936, 'COEF_CENTER_L1_SQ': 2.1800118019471677, 'COEF_POINT': 39.730024756094295, 'COEF_DIST': 7863.58855658143}. Best is trial 142 with value: 1556780.0.\u001b[0m\n",
      "\u001b[32m[I 2021-04-25 13:27:06,838]\u001b[0m Trial 327 finished with value: 1456594.0 and parameters: {'COEF_CENTER_L1': -72.39866432796376, 'COEF_CENTER_L1_SQ': 1.9865875587578536, 'COEF_POINT': 40.199275703925146, 'COEF_DIST': 6718.071871323711}. Best is trial 142 with value: 1556780.0.\u001b[0m\n"
     ]
    },
    {
     "name": "stdout",
     "output_type": "stream",
     "text": [
      "callback ok\n",
      "callback ok\n",
      "index_parallel=32\n",
      "mkdir: cannot create directory ‘32_out’: File exists\n",
      "mkdir: cannot create directory ‘32_score’: File exists\n",
      "index_parallel=33\n",
      "mkdir: cannot create directory ‘33_out’: File exists\n",
      "mkdir: cannot create directory ‘33_score’: File exists\n",
      "sed -i 32_answer.cpp -e 's/^\t\tconstexpr double COEF_CENTER_L1 = .*;  \\/\\/ OPTIMIZE \\[-100\\.0, 100\\.0\\]$/\t\tconstexpr double COEF_CENTER_L1 = -80.86173385544653;  \\/\\/ OPTIMIZE [-100.0, 100.0]/' -e 's/^\t\tconstexpr double COEF_CENTER_L1_SQ = .*;  \\/\\/ OPTIMIZE \\[0\\.0, 100\\.0\\]$/\t\tconstexpr double COEF_CENTER_L1_SQ = 3.678473331434441;  \\/\\/ OPTIMIZE [0.0, 100.0]/' -e 's/^\t\tconstexpr double COEF_POINT = .*;  \\/\\/ OPTIMIZE \\[0\\.0, 100\\.0\\]$/\t\tconstexpr double COEF_POINT = 46.75131147433353;  \\/\\/ OPTIMIZE [0.0, 100.0]/' -e 's/^\t\tconstexpr double COEF_DIST = .*;  \\/\\/ OPTIMIZE \\[0\\.0, 10000\\.0\\]$/\t\tconstexpr double COEF_DIST = 7255.13850043516;  \\/\\/ OPTIMIZE [0.0, 10000.0]/'\n",
      "g++ 32_answer.cpp -std=gnu++17 -O2 -DONLINE_JUDGE -o 32_answer.cpp.out\n",
      "sed -i 33_answer.cpp -e 's/^\t\tconstexpr double COEF_CENTER_L1 = .*;  \\/\\/ OPTIMIZE \\[-100\\.0, 100\\.0\\]$/\t\tconstexpr double COEF_CENTER_L1 = 68.29075771253962;  \\/\\/ OPTIMIZE [-100.0, 100.0]/' -e 's/^\t\tconstexpr double COEF_CENTER_L1_SQ = .*;  \\/\\/ OPTIMIZE \\[0\\.0, 100\\.0\\]$/\t\tconstexpr double COEF_CENTER_L1_SQ = 3.936595173864741;  \\/\\/ OPTIMIZE [0.0, 100.0]/' -e 's/^\t\tconstexpr double COEF_POINT = .*;  \\/\\/ OPTIMIZE \\[0\\.0, 100\\.0\\]$/\t\tconstexpr double COEF_POINT = 45.28436173639887;  \\/\\/ OPTIMIZE [0.0, 100.0]/' -e 's/^\t\tconstexpr double COEF_DIST = .*;  \\/\\/ OPTIMIZE \\[0\\.0, 10000\\.0\\]$/\t\tconstexpr double COEF_DIST = 7324.053566199321;  \\/\\/ OPTIMIZE [0.0, 10000.0]/'\n",
      "g++ 33_answer.cpp -std=gnu++17 -O2 -DONLINE_JUDGE -o 33_answer.cpp.out\n"
     ]
    },
    {
     "name": "stderr",
     "output_type": "stream",
     "text": [
      "\u001b[32m[I 2021-04-25 13:27:11,474]\u001b[0m Trial 328 finished with value: 1477695.0 and parameters: {'COEF_CENTER_L1': -74.04843610112661, 'COEF_CENTER_L1_SQ': 2.115699738591992, 'COEF_POINT': 40.48109377954621, 'COEF_DIST': 7830.567683749667}. Best is trial 142 with value: 1556780.0.\u001b[0m\n"
     ]
    },
    {
     "name": "stdout",
     "output_type": "stream",
     "text": [
      "callback ok\n",
      "index_parallel=34\n",
      "mkdir: cannot create directory ‘34_out’: File exists\n",
      "mkdir: cannot create directory ‘34_score’: File exists\n"
     ]
    },
    {
     "name": "stderr",
     "output_type": "stream",
     "text": [
      "\u001b[32m[I 2021-04-25 13:27:13,083]\u001b[0m Trial 330 finished with value: 1516399.0 and parameters: {'COEF_CENTER_L1': 13.145812018911435, 'COEF_CENTER_L1_SQ': 3.388700212830411, 'COEF_POINT': 40.58007937784651, 'COEF_DIST': 6769.553049732426}. Best is trial 142 with value: 1556780.0.\u001b[0m\n",
      "\u001b[32m[I 2021-04-25 13:27:13,088]\u001b[0m Trial 329 finished with value: 1471833.0 and parameters: {'COEF_CENTER_L1': -80.62340067549607, 'COEF_CENTER_L1_SQ': 3.6366968799973476, 'COEF_POINT': 40.403901667178374, 'COEF_DIST': 6652.962318571254}. Best is trial 142 with value: 1556780.0.\u001b[0m\n"
     ]
    },
    {
     "name": "stdout",
     "output_type": "stream",
     "text": [
      "callback ok\n",
      "callback ok\n",
      "sed -i 34_answer.cpp -e 's/^\t\tconstexpr double COEF_CENTER_L1 = .*;  \\/\\/ OPTIMIZE \\[-100\\.0, 100\\.0\\]$/\t\tconstexpr double COEF_CENTER_L1 = 12.436540679255085;  \\/\\/ OPTIMIZE [-100.0, 100.0]/' -e 's/^\t\tconstexpr double COEF_CENTER_L1_SQ = .*;  \\/\\/ OPTIMIZE \\[0\\.0, 100\\.0\\]$/\t\tconstexpr double COEF_CENTER_L1_SQ = 4.091820980411354;  \\/\\/ OPTIMIZE [0.0, 100.0]/' -e 's/^\t\tconstexpr double COEF_POINT = .*;  \\/\\/ OPTIMIZE \\[0\\.0, 100\\.0\\]$/\t\tconstexpr double COEF_POINT = 46.72948653246171;  \\/\\/ OPTIMIZE [0.0, 100.0]/' -e 's/^\t\tconstexpr double COEF_DIST = .*;  \\/\\/ OPTIMIZE \\[0\\.0, 10000\\.0\\]$/\t\tconstexpr double COEF_DIST = 7301.823093916192;  \\/\\/ OPTIMIZE [0.0, 10000.0]/'\n",
      "g++ 34_answer.cpp -std=gnu++17 -O2 -DONLINE_JUDGE -o 34_answer.cpp.out\n",
      "index_parallel=35\n",
      "mkdir: cannot create directory ‘35_out’: File exists\n",
      "mkdir: cannot create directory ‘35_score’: File exists\n",
      "index_parallel=36\n",
      "mkdir: cannot create directory ‘36_out’: File exists\n",
      "mkdir: cannot create directory ‘36_score’: File exists\n",
      "sed -i 35_answer.cpp -e 's/^\t\tconstexpr double COEF_CENTER_L1 = .*;  \\/\\/ OPTIMIZE \\[-100\\.0, 100\\.0\\]$/\t\tconstexpr double COEF_CENTER_L1 = -67.44132662528703;  \\/\\/ OPTIMIZE [-100.0, 100.0]/' -e 's/^\t\tconstexpr double COEF_CENTER_L1_SQ = .*;  \\/\\/ OPTIMIZE \\[0\\.0, 100\\.0\\]$/\t\tconstexpr double COEF_CENTER_L1_SQ = 0.17290157453882032;  \\/\\/ OPTIMIZE [0.0, 100.0]/' -e 's/^\t\tconstexpr double COEF_POINT = .*;  \\/\\/ OPTIMIZE \\[0\\.0, 100\\.0\\]$/\t\tconstexpr double COEF_POINT = 46.69059603713908;  \\/\\/ OPTIMIZE [0.0, 100.0]/' -e 's/^\t\tconstexpr double COEF_DIST = .*;  \\/\\/ OPTIMIZE \\[0\\.0, 10000\\.0\\]$/\t\tconstexpr double COEF_DIST = 7327.172883133349;  \\/\\/ OPTIMIZE [0.0, 10000.0]/'\n",
      "g++ 35_answer.cpp -std=gnu++17 -O2 -DONLINE_JUDGE -o 35_answer.cpp.out\n",
      "sed -i 36_answer.cpp -e 's/^\t\tconstexpr double COEF_CENTER_L1 = .*;  \\/\\/ OPTIMIZE \\[-100\\.0, 100\\.0\\]$/\t\tconstexpr double COEF_CENTER_L1 = 70.04217055198842;  \\/\\/ OPTIMIZE [-100.0, 100.0]/' -e 's/^\t\tconstexpr double COEF_CENTER_L1_SQ = .*;  \\/\\/ OPTIMIZE \\[0\\.0, 100\\.0\\]$/\t\tconstexpr double COEF_CENTER_L1_SQ = 0.021753975693176386;  \\/\\/ OPTIMIZE [0.0, 100.0]/' -e 's/^\t\tconstexpr double COEF_POINT = .*;  \\/\\/ OPTIMIZE \\[0\\.0, 100\\.0\\]$/\t\tconstexpr double COEF_POINT = 46.43085248086746;  \\/\\/ OPTIMIZE [0.0, 100.0]/' -e 's/^\t\tconstexpr double COEF_DIST = .*;  \\/\\/ OPTIMIZE \\[0\\.0, 10000\\.0\\]$/\t\tconstexpr double COEF_DIST = 7252.32923167032;  \\/\\/ OPTIMIZE [0.0, 10000.0]/'\n"
     ]
    },
    {
     "name": "stderr",
     "output_type": "stream",
     "text": [
      "\u001b[32m[I 2021-04-25 13:27:16,706]\u001b[0m Trial 331 finished with value: 1515845.0 and parameters: {'COEF_CENTER_L1': 11.022769814928179, 'COEF_CENTER_L1_SQ': 3.5966037989300856, 'COEF_POINT': 40.09311271361138, 'COEF_DIST': 7311.530049650111}. Best is trial 142 with value: 1556780.0.\u001b[0m\n"
     ]
    },
    {
     "name": "stdout",
     "output_type": "stream",
     "text": [
      "callback ok\n",
      "index_parallel=37\n",
      "mkdir: cannot create directory ‘37_out’: File exists\n",
      "g++ 36_answer.cpp -std=gnu++17 -O2 -DONLINE_JUDGE -o 36_answer.cpp.out\n",
      "mkdir: cannot create directory ‘37_score’: File exists\n",
      "sed -i 37_answer.cpp -e 's/^\t\tconstexpr double COEF_CENTER_L1 = .*;  \\/\\/ OPTIMIZE \\[-100\\.0, 100\\.0\\]$/\t\tconstexpr double COEF_CENTER_L1 = 18.06962858919975;  \\/\\/ OPTIMIZE [-100.0, 100.0]/' -e 's/^\t\tconstexpr double COEF_CENTER_L1_SQ = .*;  \\/\\/ OPTIMIZE \\[0\\.0, 100\\.0\\]$/\t\tconstexpr double COEF_CENTER_L1_SQ = 0.10242034871096589;  \\/\\/ OPTIMIZE [0.0, 100.0]/' -e 's/^\t\tconstexpr double COEF_POINT = .*;  \\/\\/ OPTIMIZE \\[0\\.0, 100\\.0\\]$/\t\tconstexpr double COEF_POINT = 45.663964904495394;  \\/\\/ OPTIMIZE [0.0, 100.0]/' -e 's/^\t\tconstexpr double COEF_DIST = .*;  \\/\\/ OPTIMIZE \\[0\\.0, 10000\\.0\\]$/\t\tconstexpr double COEF_DIST = 7303.75341870673;  \\/\\/ OPTIMIZE [0.0, 10000.0]/'\n",
      "g++ 37_answer.cpp -std=gnu++17 -O2 -DONLINE_JUDGE -o 37_answer.cpp.out\n"
     ]
    },
    {
     "name": "stderr",
     "output_type": "stream",
     "text": [
      "\u001b[32m[I 2021-04-25 13:27:18,263]\u001b[0m Trial 332 finished with value: 1456211.0 and parameters: {'COEF_CENTER_L1': -80.86173385544653, 'COEF_CENTER_L1_SQ': 3.678473331434441, 'COEF_POINT': 46.75131147433353, 'COEF_DIST': 7255.13850043516}. Best is trial 142 with value: 1556780.0.\u001b[0m\n"
     ]
    },
    {
     "name": "stdout",
     "output_type": "stream",
     "text": [
      "callback ok\n",
      "index_parallel=38\n",
      "mkdir: cannot create directory ‘38_out’: File exists\n",
      "mkdir: cannot create directory ‘38_score’: File exists\n"
     ]
    },
    {
     "name": "stderr",
     "output_type": "stream",
     "text": [
      "\u001b[32m[I 2021-04-25 13:27:18,995]\u001b[0m Trial 333 finished with value: 1505954.0 and parameters: {'COEF_CENTER_L1': 68.29075771253962, 'COEF_CENTER_L1_SQ': 3.936595173864741, 'COEF_POINT': 45.28436173639887, 'COEF_DIST': 7324.053566199321}. Best is trial 142 with value: 1556780.0.\u001b[0m\n"
     ]
    },
    {
     "name": "stdout",
     "output_type": "stream",
     "text": [
      "callback ok\n",
      "index_parallel=39\n",
      "mkdir: cannot create directory ‘39_out’: File exists\n",
      "mkdir: cannot create directory ‘39_score’: File exists\n",
      "sed -i 38_answer.cpp -e 's/^\t\tconstexpr double COEF_CENTER_L1 = .*;  \\/\\/ OPTIMIZE \\[-100\\.0, 100\\.0\\]$/\t\tconstexpr double COEF_CENTER_L1 = 5.230449284708391;  \\/\\/ OPTIMIZE [-100.0, 100.0]/' -e 's/^\t\tconstexpr double COEF_CENTER_L1_SQ = .*;  \\/\\/ OPTIMIZE \\[0\\.0, 100\\.0\\]$/\t\tconstexpr double COEF_CENTER_L1_SQ = 5.882762853773025;  \\/\\/ OPTIMIZE [0.0, 100.0]/' -e 's/^\t\tconstexpr double COEF_POINT = .*;  \\/\\/ OPTIMIZE \\[0\\.0, 100\\.0\\]$/\t\tconstexpr double COEF_POINT = 9.10450347185425;  \\/\\/ OPTIMIZE [0.0, 100.0]/' -e 's/^\t\tconstexpr double COEF_DIST = .*;  \\/\\/ OPTIMIZE \\[0\\.0, 10000\\.0\\]$/\t\tconstexpr double COEF_DIST = 7650.5900550731585;  \\/\\/ OPTIMIZE [0.0, 10000.0]/'\n",
      "g++ 38_answer.cpp -std=gnu++17 -O2 -DONLINE_JUDGE -o 38_answer.cpp.out\n",
      "sed -i 39_answer.cpp -e 's/^\t\tconstexpr double COEF_CENTER_L1 = .*;  \\/\\/ OPTIMIZE \\[-100\\.0, 100\\.0\\]$/\t\tconstexpr double COEF_CENTER_L1 = -1.6199223081226939;  \\/\\/ OPTIMIZE [-100.0, 100.0]/' -e 's/^\t\tconstexpr double COEF_CENTER_L1_SQ = .*;  \\/\\/ OPTIMIZE \\[0\\.0, 100\\.0\\]$/\t\tconstexpr double COEF_CENTER_L1_SQ = 0.05960220861631554;  \\/\\/ OPTIMIZE [0.0, 100.0]/' -e 's/^\t\tconstexpr double COEF_POINT = .*;  \\/\\/ OPTIMIZE \\[0\\.0, 100\\.0\\]$/\t\tconstexpr double COEF_POINT = 7.7410278551581815;  \\/\\/ OPTIMIZE [0.0, 100.0]/' -e 's/^\t\tconstexpr double COEF_DIST = .*;  \\/\\/ OPTIMIZE \\[0\\.0, 10000\\.0\\]$/\t\tconstexpr double COEF_DIST = 7713.690015886744;  \\/\\/ OPTIMIZE [0.0, 10000.0]/'\n",
      "g++ 39_answer.cpp -std=gnu++17 -O2 -DONLINE_JUDGE -o 39_answer.cpp.out\n"
     ]
    },
    {
     "name": "stderr",
     "output_type": "stream",
     "text": [
      "\u001b[32m[I 2021-04-25 13:27:24,649]\u001b[0m Trial 334 finished with value: 1539175.0 and parameters: {'COEF_CENTER_L1': 12.436540679255085, 'COEF_CENTER_L1_SQ': 4.091820980411354, 'COEF_POINT': 46.72948653246171, 'COEF_DIST': 7301.823093916192}. Best is trial 142 with value: 1556780.0.\u001b[0m\n"
     ]
    },
    {
     "name": "stdout",
     "output_type": "stream",
     "text": [
      "callback ok\n",
      "index_parallel=40\n",
      "mkdir: cannot create directory ‘40_out’: File exists\n",
      "mkdir: cannot create directory ‘40_score’: File exists\n"
     ]
    },
    {
     "name": "stderr",
     "output_type": "stream",
     "text": [
      "\u001b[32m[I 2021-04-25 13:27:26,102]\u001b[0m Trial 335 finished with value: 1503465.0 and parameters: {'COEF_CENTER_L1': -67.44132662528703, 'COEF_CENTER_L1_SQ': 0.17290157453882032, 'COEF_POINT': 46.69059603713908, 'COEF_DIST': 7327.172883133349}. Best is trial 142 with value: 1556780.0.\u001b[0m\n"
     ]
    },
    {
     "name": "stdout",
     "output_type": "stream",
     "text": [
      "callback ok\n",
      "index_parallel=41\n",
      "mkdir: cannot create directory ‘41_out’: File exists\n",
      "sed -i 40_answer.cpp -e 's/^\t\tconstexpr double COEF_CENTER_L1 = .*;  \\/\\/ OPTIMIZE \\[-100\\.0, 100\\.0\\]$/\t\tconstexpr double COEF_CENTER_L1 = -66.97137890681238;  \\/\\/ OPTIMIZE [-100.0, 100.0]/' -e 's/^\t\tconstexpr double COEF_CENTER_L1_SQ = .*;  \\/\\/ OPTIMIZE \\[0\\.0, 100\\.0\\]$/\t\tconstexpr double COEF_CENTER_L1_SQ = 11.47598874943275;  \\/\\/ OPTIMIZE [0.0, 100.0]/' -e 's/^\t\tconstexpr double COEF_POINT = .*;  \\/\\/ OPTIMIZE \\[0\\.0, 100\\.0\\]$/\t\tconstexpr double COEF_POINT = 8.819162205278271;  \\/\\/ OPTIMIZE [0.0, 100.0]/' -e 's/^\t\tconstexpr double COEF_DIST = .*;  \\/\\/ OPTIMIZE \\[0\\.0, 10000\\.0\\]$/\t\tconstexpr double COEF_DIST = 7675.7712968292635;  \\/\\/ OPTIMIZE [0.0, 10000.0]/'\n",
      "mkdir: cannot create directory ‘41_score’: File exists\n",
      "g++ 40_answer.cpp -std=gnu++17 -O2 -DONLINE_JUDGE -o 40_answer.cpp.out\n"
     ]
    },
    {
     "name": "stderr",
     "output_type": "stream",
     "text": [
      "\u001b[32m[I 2021-04-25 13:27:27,233]\u001b[0m Trial 336 finished with value: 1497879.0 and parameters: {'COEF_CENTER_L1': 70.04217055198842, 'COEF_CENTER_L1_SQ': 0.021753975693176386, 'COEF_POINT': 46.43085248086746, 'COEF_DIST': 7252.32923167032}. Best is trial 142 with value: 1556780.0.\u001b[0m\n"
     ]
    },
    {
     "name": "stdout",
     "output_type": "stream",
     "text": [
      "callback ok\n",
      "index_parallel=42\n",
      "mkdir: cannot create directory ‘42_out’: File exists\n",
      "mkdir: cannot create directory ‘42_score’: File exists\n",
      "sed -i 41_answer.cpp -e 's/^\t\tconstexpr double COEF_CENTER_L1 = .*;  \\/\\/ OPTIMIZE \\[-100\\.0, 100\\.0\\]$/\t\tconstexpr double COEF_CENTER_L1 = -2.824346053260377;  \\/\\/ OPTIMIZE [-100.0, 100.0]/' -e 's/^\t\tconstexpr double COEF_CENTER_L1_SQ = .*;  \\/\\/ OPTIMIZE \\[0\\.0, 100\\.0\\]$/\t\tconstexpr double COEF_CENTER_L1_SQ = 12.069118436291111;  \\/\\/ OPTIMIZE [0.0, 100.0]/' -e 's/^\t\tconstexpr double COEF_POINT = .*;  \\/\\/ OPTIMIZE \\[0\\.0, 100\\.0\\]$/\t\tconstexpr double COEF_POINT = 8.144585680605875;  \\/\\/ OPTIMIZE [0.0, 100.0]/' -e 's/^\t\tconstexpr double COEF_DIST = .*;  \\/\\/ OPTIMIZE \\[0\\.0, 10000\\.0\\]$/\t\tconstexpr double COEF_DIST = 7666.112799569931;  \\/\\/ OPTIMIZE [0.0, 10000.0]/'\n",
      "g++ 41_answer.cpp -std=gnu++17 -O2 -DONLINE_JUDGE -o 41_answer.cpp.out\n"
     ]
    },
    {
     "name": "stderr",
     "output_type": "stream",
     "text": [
      "\u001b[32m[I 2021-04-25 13:27:30,262]\u001b[0m Trial 337 finished with value: 1437794.0 and parameters: {'COEF_CENTER_L1': 18.06962858919975, 'COEF_CENTER_L1_SQ': 0.10242034871096589, 'COEF_POINT': 45.663964904495394, 'COEF_DIST': 7303.75341870673}. Best is trial 142 with value: 1556780.0.\u001b[0m\n"
     ]
    },
    {
     "name": "stdout",
     "output_type": "stream",
     "text": [
      "sed -i 42_answer.cpp -e 's/^\t\tconstexpr double COEF_CENTER_L1 = .*;  \\/\\/ OPTIMIZE \\[-100\\.0, 100\\.0\\]$/\t\tconstexpr double COEF_CENTER_L1 = -1.3792229297230467;  \\/\\/ OPTIMIZE [-100.0, 100.0]/' -e 's/^\t\tconstexpr double COEF_CENTER_L1_SQ = .*;  \\/\\/ OPTIMIZE \\[0\\.0, 100\\.0\\]$/\t\tconstexpr double COEF_CENTER_L1_SQ = 6.109624585694929;  \\/\\/ OPTIMIZE [0.0, 100.0]/' -e 's/^\t\tconstexpr double COEF_POINT = .*;  \\/\\/ OPTIMIZE \\[0\\.0, 100\\.0\\]$/\t\tconstexpr double COEF_POINT = 1.689298061908545;  \\/\\/ OPTIMIZE [0.0, 100.0]/' -e 's/^\t\tconstexpr double COEF_DIST = .*;  \\/\\/ OPTIMIZE \\[0\\.0, 10000\\.0\\]$/\t\tconstexpr double COEF_DIST = 7615.183002448114;  \\/\\/ OPTIMIZE [0.0, 10000.0]/'\n",
      "callback ok\n",
      "g++ 42_answer.cpp -std=gnu++17 -O2 -DONLINE_JUDGE -o 42_answer.cpp.out\n",
      "index_parallel=43\n",
      "mkdir: cannot create directory ‘43_out’: File exists\n",
      "mkdir: cannot create directory ‘43_score’: File exists\n"
     ]
    },
    {
     "name": "stderr",
     "output_type": "stream",
     "text": [
      "\u001b[32m[I 2021-04-25 13:27:31,512]\u001b[0m Trial 338 finished with value: 1435467.0 and parameters: {'COEF_CENTER_L1': 5.230449284708391, 'COEF_CENTER_L1_SQ': 5.882762853773025, 'COEF_POINT': 9.10450347185425, 'COEF_DIST': 7650.5900550731585}. Best is trial 142 with value: 1556780.0.\u001b[0m\n"
     ]
    },
    {
     "name": "stdout",
     "output_type": "stream",
     "text": [
      "callback ok\n",
      "index_parallel=44\n",
      "mkdir: cannot create directory ‘44_out’: File exists\n",
      "mkdir: cannot create directory ‘44_score’: File exists\n"
     ]
    },
    {
     "name": "stderr",
     "output_type": "stream",
     "text": [
      "\u001b[32m[I 2021-04-25 13:27:32,041]\u001b[0m Trial 339 finished with value: 1406014.0 and parameters: {'COEF_CENTER_L1': -1.6199223081226939, 'COEF_CENTER_L1_SQ': 0.05960220861631554, 'COEF_POINT': 7.7410278551581815, 'COEF_DIST': 7713.690015886744}. Best is trial 142 with value: 1556780.0.\u001b[0m\n"
     ]
    },
    {
     "name": "stdout",
     "output_type": "stream",
     "text": [
      "callback ok\n",
      "index_parallel=45\n",
      "mkdir: cannot create directory ‘45_out’: File exists\n",
      "sed -i 43_answer.cpp -e 's/^\t\tconstexpr double COEF_CENTER_L1 = .*;  \\/\\/ OPTIMIZE \\[-100\\.0, 100\\.0\\]$/\t\tconstexpr double COEF_CENTER_L1 = -1.922536829338803;  \\/\\/ OPTIMIZE [-100.0, 100.0]/' -e 's/^\t\tconstexpr double COEF_CENTER_L1_SQ = .*;  \\/\\/ OPTIMIZE \\[0\\.0, 100\\.0\\]$/\t\tconstexpr double COEF_CENTER_L1_SQ = 10.487395160650003;  \\/\\/ OPTIMIZE [0.0, 100.0]/' -e 's/^\t\tconstexpr double COEF_POINT = .*;  \\/\\/ OPTIMIZE \\[0\\.0, 100\\.0\\]$/\t\tconstexpr double COEF_POINT = 2.26400824157444;  \\/\\/ OPTIMIZE [0.0, 100.0]/' -e 's/^\t\tconstexpr double COEF_DIST = .*;  \\/\\/ OPTIMIZE \\[0\\.0, 10000\\.0\\]$/\t\tconstexpr double COEF_DIST = 7522.193432695604;  \\/\\/ OPTIMIZE [0.0, 10000.0]/'\n",
      "mkdir: cannot create directory ‘45_score’: File exists\n",
      "g++ 43_answer.cpp -std=gnu++17 -O2 -DONLINE_JUDGE -o 43_answer.cpp.out\n",
      "sed -i 44_answer.cpp -e 's/^\t\tconstexpr double COEF_CENTER_L1 = .*;  \\/\\/ OPTIMIZE \\[-100\\.0, 100\\.0\\]$/\t\tconstexpr double COEF_CENTER_L1 = -11.221560234668237;  \\/\\/ OPTIMIZE [-100.0, 100.0]/' -e 's/^\t\tconstexpr double COEF_CENTER_L1_SQ = .*;  \\/\\/ OPTIMIZE \\[0\\.0, 100\\.0\\]$/\t\tconstexpr double COEF_CENTER_L1_SQ = 11.017566009321555;  \\/\\/ OPTIMIZE [0.0, 100.0]/' -e 's/^\t\tconstexpr double COEF_POINT = .*;  \\/\\/ OPTIMIZE \\[0\\.0, 100\\.0\\]$/\t\tconstexpr double COEF_POINT = 37.09964812831393;  \\/\\/ OPTIMIZE [0.0, 100.0]/' -e 's/^\t\tconstexpr double COEF_DIST = .*;  \\/\\/ OPTIMIZE \\[0\\.0, 10000\\.0\\]$/\t\tconstexpr double COEF_DIST = 7594.786997200756;  \\/\\/ OPTIMIZE [0.0, 10000.0]/'\n",
      "g++ 44_answer.cpp -std=gnu++17 -O2 -DONLINE_JUDGE -o 44_answer.cpp.out\n",
      "sed -i 45_answer.cpp -e 's/^\t\tconstexpr double COEF_CENTER_L1 = .*;  \\/\\/ OPTIMIZE \\[-100\\.0, 100\\.0\\]$/\t\tconstexpr double COEF_CENTER_L1 = 12.348999130546586;  \\/\\/ OPTIMIZE [-100.0, 100.0]/' -e 's/^\t\tconstexpr double COEF_CENTER_L1_SQ = .*;  \\/\\/ OPTIMIZE \\[0\\.0, 100\\.0\\]$/\t\tconstexpr double COEF_CENTER_L1_SQ = 11.494386837733565;  \\/\\/ OPTIMIZE [0.0, 100.0]/' -e 's/^\t\tconstexpr double COEF_POINT = .*;  \\/\\/ OPTIMIZE \\[0\\.0, 100\\.0\\]$/\t\tconstexpr double COEF_POINT = 50.754811708110466;  \\/\\/ OPTIMIZE [0.0, 100.0]/' -e 's/^\t\tconstexpr double COEF_DIST = .*;  \\/\\/ OPTIMIZE \\[0\\.0, 10000\\.0\\]$/\t\tconstexpr double COEF_DIST = 8012.250806256683;  \\/\\/ OPTIMIZE [0.0, 10000.0]/'\n",
      "g++ 45_answer.cpp -std=gnu++17 -O2 -DONLINE_JUDGE -o 45_answer.cpp.out\n"
     ]
    },
    {
     "name": "stderr",
     "output_type": "stream",
     "text": [
      "\u001b[32m[I 2021-04-25 13:27:36,891]\u001b[0m Trial 340 finished with value: 1313033.0 and parameters: {'COEF_CENTER_L1': -66.97137890681238, 'COEF_CENTER_L1_SQ': 11.47598874943275, 'COEF_POINT': 8.819162205278271, 'COEF_DIST': 7675.7712968292635}. Best is trial 142 with value: 1556780.0.\u001b[0m\n"
     ]
    },
    {
     "name": "stdout",
     "output_type": "stream",
     "text": [
      "callback ok\n",
      "index_parallel=46\n",
      "mkdir: cannot create directory ‘46_out’: File exists\n",
      "mkdir: cannot create directory ‘46_score’: File exists\n",
      "sed -i 46_answer.cpp -e 's/^\t\tconstexpr double COEF_CENTER_L1 = .*;  \\/\\/ OPTIMIZE \\[-100\\.0, 100\\.0\\]$/\t\tconstexpr double COEF_CENTER_L1 = -11.253546327731907;  \\/\\/ OPTIMIZE [-100.0, 100.0]/' -e 's/^\t\tconstexpr double COEF_CENTER_L1_SQ = .*;  \\/\\/ OPTIMIZE \\[0\\.0, 100\\.0\\]$/\t\tconstexpr double COEF_CENTER_L1_SQ = 8.814506034075968;  \\/\\/ OPTIMIZE [0.0, 100.0]/' -e 's/^\t\tconstexpr double COEF_POINT = .*;  \\/\\/ OPTIMIZE \\[0\\.0, 100\\.0\\]$/\t\tconstexpr double COEF_POINT = 1.7355783327508432;  \\/\\/ OPTIMIZE [0.0, 100.0]/' -e 's/^\t\tconstexpr double COEF_DIST = .*;  \\/\\/ OPTIMIZE \\[0\\.0, 10000\\.0\\]$/\t\tconstexpr double COEF_DIST = 7976.124868754263;  \\/\\/ OPTIMIZE [0.0, 10000.0]/'\n",
      "g++ 46_answer.cpp -std=gnu++17 -O2 -DONLINE_JUDGE -o 46_answer.cpp.out\n"
     ]
    },
    {
     "name": "stderr",
     "output_type": "stream",
     "text": [
      "\u001b[32m[I 2021-04-25 13:27:39,590]\u001b[0m Trial 341 finished with value: 1298750.0 and parameters: {'COEF_CENTER_L1': -2.824346053260377, 'COEF_CENTER_L1_SQ': 12.069118436291111, 'COEF_POINT': 8.144585680605875, 'COEF_DIST': 7666.112799569931}. Best is trial 142 with value: 1556780.0.\u001b[0m\n"
     ]
    },
    {
     "name": "stdout",
     "output_type": "stream",
     "text": [
      "callback ok\n",
      "index_parallel=47\n",
      "mkdir: cannot create directory ‘47_out’: File exists\n",
      "mkdir: cannot create directory ‘47_score’: File exists\n"
     ]
    },
    {
     "name": "stderr",
     "output_type": "stream",
     "text": [
      "\u001b[32m[I 2021-04-25 13:27:40,621]\u001b[0m Trial 342 finished with value: 1400528.0 and parameters: {'COEF_CENTER_L1': -1.3792229297230467, 'COEF_CENTER_L1_SQ': 6.109624585694929, 'COEF_POINT': 1.689298061908545, 'COEF_DIST': 7615.183002448114}. Best is trial 142 with value: 1556780.0.\u001b[0m\n"
     ]
    },
    {
     "name": "stdout",
     "output_type": "stream",
     "text": [
      "callback ok\n",
      "index_parallel=48\n",
      "mkdir: cannot create directory ‘48_out’: File exists\n",
      "mkdir: cannot create directory ‘48_score’: File exists\n",
      "sed -i 47_answer.cpp -e 's/^\t\tconstexpr double COEF_CENTER_L1 = .*;  \\/\\/ OPTIMIZE \\[-100\\.0, 100\\.0\\]$/\t\tconstexpr double COEF_CENTER_L1 = 6.152027925591963;  \\/\\/ OPTIMIZE [-100.0, 100.0]/' -e 's/^\t\tconstexpr double COEF_CENTER_L1_SQ = .*;  \\/\\/ OPTIMIZE \\[0\\.0, 100\\.0\\]$/\t\tconstexpr double COEF_CENTER_L1_SQ = 8.508172622960503;  \\/\\/ OPTIMIZE [0.0, 100.0]/' -e 's/^\t\tconstexpr double COEF_POINT = .*;  \\/\\/ OPTIMIZE \\[0\\.0, 100\\.0\\]$/\t\tconstexpr double COEF_POINT = 37.49670593940305;  \\/\\/ OPTIMIZE [0.0, 100.0]/' -e 's/^\t\tconstexpr double COEF_DIST = .*;  \\/\\/ OPTIMIZE \\[0\\.0, 10000\\.0\\]$/\t\tconstexpr double COEF_DIST = 7994.66562473023;  \\/\\/ OPTIMIZE [0.0, 10000.0]/'\n",
      "g++ 47_answer.cpp -std=gnu++17 -O2 -DONLINE_JUDGE -o 47_answer.cpp.out\n",
      "sed -i 48_answer.cpp -e 's/^\t\tconstexpr double COEF_CENTER_L1 = .*;  \\/\\/ OPTIMIZE \\[-100\\.0, 100\\.0\\]$/\t\tconstexpr double COEF_CENTER_L1 = 5.900702034105109;  \\/\\/ OPTIMIZE [-100.0, 100.0]/' -e 's/^\t\tconstexpr double COEF_CENTER_L1_SQ = .*;  \\/\\/ OPTIMIZE \\[0\\.0, 100\\.0\\]$/\t\tconstexpr double COEF_CENTER_L1_SQ = 8.67063608287623;  \\/\\/ OPTIMIZE [0.0, 100.0]/' -e 's/^\t\tconstexpr double COEF_POINT = .*;  \\/\\/ OPTIMIZE \\[0\\.0, 100\\.0\\]$/\t\tconstexpr double COEF_POINT = 37.5663537708692;  \\/\\/ OPTIMIZE [0.0, 100.0]/' -e 's/^\t\tconstexpr double COEF_DIST = .*;  \\/\\/ OPTIMIZE \\[0\\.0, 10000\\.0\\]$/\t\tconstexpr double COEF_DIST = 7104.7159451692;  \\/\\/ OPTIMIZE [0.0, 10000.0]/'\n",
      "g++ 48_answer.cpp -std=gnu++17 -O2 -DONLINE_JUDGE -o 48_answer.cpp.out\n"
     ]
    },
    {
     "name": "stderr",
     "output_type": "stream",
     "text": [
      "\u001b[32m[I 2021-04-25 13:27:44,163]\u001b[0m Trial 344 finished with value: 1339992.0 and parameters: {'COEF_CENTER_L1': -11.221560234668237, 'COEF_CENTER_L1_SQ': 11.017566009321555, 'COEF_POINT': 37.09964812831393, 'COEF_DIST': 7594.786997200756}. Best is trial 142 with value: 1556780.0.\u001b[0m\n",
      "\u001b[32m[I 2021-04-25 13:27:44,189]\u001b[0m Trial 343 finished with value: 1323554.0 and parameters: {'COEF_CENTER_L1': -1.922536829338803, 'COEF_CENTER_L1_SQ': 10.487395160650003, 'COEF_POINT': 2.26400824157444, 'COEF_DIST': 7522.193432695604}. Best is trial 142 with value: 1556780.0.\u001b[0m\n"
     ]
    },
    {
     "name": "stdout",
     "output_type": "stream",
     "text": [
      "callback ok\n",
      "callback ok\n",
      "index_parallel=49\n",
      "mkdir: cannot create directory ‘49_out’: File exists\n",
      "index_parallel=50\n",
      "mkdir: cannot create directory ‘50_out’: File exists\n"
     ]
    },
    {
     "name": "stderr",
     "output_type": "stream",
     "text": [
      "\u001b[32m[I 2021-04-25 13:27:44,496]\u001b[0m Trial 345 finished with value: 1343229.0 and parameters: {'COEF_CENTER_L1': 12.348999130546586, 'COEF_CENTER_L1_SQ': 11.494386837733565, 'COEF_POINT': 50.754811708110466, 'COEF_DIST': 8012.250806256683}. Best is trial 142 with value: 1556780.0.\u001b[0m\n"
     ]
    },
    {
     "name": "stdout",
     "output_type": "stream",
     "text": [
      "callback ok\n",
      "mkdir: cannot create directory ‘49_score’: File exists\n",
      "index_parallel=51\n",
      "mkdir: cannot create directory ‘51_out’: File exists\n",
      "mkdir: cannot create directory ‘50_score’: File exists\n",
      "mkdir: cannot create directory ‘51_score’: File exists\n",
      "sed -i 51_answer.cpp -e 's/^\t\tconstexpr double COEF_CENTER_L1 = .*;  \\/\\/ OPTIMIZE \\[-100\\.0, 100\\.0\\]$/\t\tconstexpr double COEF_CENTER_L1 = 9.85141807718726;  \\/\\/ OPTIMIZE [-100.0, 100.0]/' -e 's/^\t\tconstexpr double COEF_CENTER_L1_SQ = .*;  \\/\\/ OPTIMIZE \\[0\\.0, 100\\.0\\]$/\t\tconstexpr double COEF_CENTER_L1_SQ = 7.966907099957109;  \\/\\/ OPTIMIZE [0.0, 100.0]/' -e 's/^\t\tconstexpr double COEF_POINT = .*;  \\/\\/ OPTIMIZE \\[0\\.0, 100\\.0\\]$/\t\tconstexpr double COEF_POINT = 47.3028494021711;  \\/\\/ OPTIMIZE [0.0, 100.0]/' -e 's/^\t\tconstexpr double COEF_DIST = .*;  \\/\\/ OPTIMIZE \\[0\\.0, 10000\\.0\\]$/\t\tconstexpr double COEF_DIST = 7134.075778918682;  \\/\\/ OPTIMIZE [0.0, 10000.0]/'\n",
      "g++ 51_answer.cpp -std=gnu++17 -O2 -DONLINE_JUDGE -o 51_answer.cpp.out\n",
      "sed -i 49_answer.cpp -e 's/^\t\tconstexpr double COEF_CENTER_L1 = .*;  \\/\\/ OPTIMIZE \\[-100\\.0, 100\\.0\\]$/\t\tconstexpr double COEF_CENTER_L1 = 6.316184340225106;  \\/\\/ OPTIMIZE [-100.0, 100.0]/' -e 's/^\t\tconstexpr double COEF_CENTER_L1_SQ = .*;  \\/\\/ OPTIMIZE \\[0\\.0, 100\\.0\\]$/\t\tconstexpr double COEF_CENTER_L1_SQ = 8.076945642054827;  \\/\\/ OPTIMIZE [0.0, 100.0]/' -e 's/^\t\tconstexpr double COEF_POINT = .*;  \\/\\/ OPTIMIZE \\[0\\.0, 100\\.0\\]$/\t\tconstexpr double COEF_POINT = 42.731641354040846;  \\/\\/ OPTIMIZE [0.0, 100.0]/' -e 's/^\t\tconstexpr double COEF_DIST = .*;  \\/\\/ OPTIMIZE \\[0\\.0, 10000\\.0\\]$/\t\tconstexpr double COEF_DIST = 7079.750630854661;  \\/\\/ OPTIMIZE [0.0, 10000.0]/'\n",
      "g++ 49_answer.cpp -std=gnu++17 -O2 -DONLINE_JUDGE -o 49_answer.cpp.out\n",
      "sed -i 50_answer.cpp -e 's/^\t\tconstexpr double COEF_CENTER_L1 = .*;  \\/\\/ OPTIMIZE \\[-100\\.0, 100\\.0\\]$/\t\tconstexpr double COEF_CENTER_L1 = 5.469051270863905;  \\/\\/ OPTIMIZE [-100.0, 100.0]/' -e 's/^\t\tconstexpr double COEF_CENTER_L1_SQ = .*;  \\/\\/ OPTIMIZE \\[0\\.0, 100\\.0\\]$/\t\tconstexpr double COEF_CENTER_L1_SQ = 8.104201255501849;  \\/\\/ OPTIMIZE [0.0, 100.0]/' -e 's/^\t\tconstexpr double COEF_POINT = .*;  \\/\\/ OPTIMIZE \\[0\\.0, 100\\.0\\]$/\t\tconstexpr double COEF_POINT = 37.64344862602015;  \\/\\/ OPTIMIZE [0.0, 100.0]/' -e 's/^\t\tconstexpr double COEF_DIST = .*;  \\/\\/ OPTIMIZE \\[0\\.0, 10000\\.0\\]$/\t\tconstexpr double COEF_DIST = 7125.485853831528;  \\/\\/ OPTIMIZE [0.0, 10000.0]/'\n",
      "g++ 50_answer.cpp -std=gnu++17 -O2 -DONLINE_JUDGE -o 50_answer.cpp.out\n"
     ]
    },
    {
     "name": "stderr",
     "output_type": "stream",
     "text": [
      "\u001b[32m[I 2021-04-25 13:27:49,181]\u001b[0m Trial 346 finished with value: 1310186.0 and parameters: {'COEF_CENTER_L1': -11.253546327731907, 'COEF_CENTER_L1_SQ': 8.814506034075968, 'COEF_POINT': 1.7355783327508432, 'COEF_DIST': 7976.124868754263}. Best is trial 142 with value: 1556780.0.\u001b[0m\n"
     ]
    },
    {
     "name": "stdout",
     "output_type": "stream",
     "text": [
      "callback ok\n",
      "index_parallel=52\n",
      "mkdir: cannot create directory ‘52_out’: File exists\n",
      "mkdir: cannot create directory ‘52_score’: File exists\n",
      "sed -i 52_answer.cpp -e 's/^\t\tconstexpr double COEF_CENTER_L1 = .*;  \\/\\/ OPTIMIZE \\[-100\\.0, 100\\.0\\]$/\t\tconstexpr double COEF_CENTER_L1 = 6.891760557379596;  \\/\\/ OPTIMIZE [-100.0, 100.0]/' -e 's/^\t\tconstexpr double COEF_CENTER_L1_SQ = .*;  \\/\\/ OPTIMIZE \\[0\\.0, 100\\.0\\]$/\t\tconstexpr double COEF_CENTER_L1_SQ = 8.016114104200573;  \\/\\/ OPTIMIZE [0.0, 100.0]/' -e 's/^\t\tconstexpr double COEF_POINT = .*;  \\/\\/ OPTIMIZE \\[0\\.0, 100\\.0\\]$/\t\tconstexpr double COEF_POINT = 42.1968691355828;  \\/\\/ OPTIMIZE [0.0, 100.0]/' -e 's/^\t\tconstexpr double COEF_DIST = .*;  \\/\\/ OPTIMIZE \\[0\\.0, 10000\\.0\\]$/\t\tconstexpr double COEF_DIST = 7145.981788232388;  \\/\\/ OPTIMIZE [0.0, 10000.0]/'\n",
      "g++ 52_answer.cpp -std=gnu++17 -O2 -DONLINE_JUDGE -o 52_answer.cpp.out\n"
     ]
    },
    {
     "name": "stderr",
     "output_type": "stream",
     "text": [
      "\u001b[32m[I 2021-04-25 13:27:52,406]\u001b[0m Trial 347 finished with value: 1403950.0 and parameters: {'COEF_CENTER_L1': 6.152027925591963, 'COEF_CENTER_L1_SQ': 8.508172622960503, 'COEF_POINT': 37.49670593940305, 'COEF_DIST': 7994.66562473023}. Best is trial 142 with value: 1556780.0.\u001b[0m\n"
     ]
    },
    {
     "name": "stdout",
     "output_type": "stream",
     "text": [
      "callback ok\n",
      "index_parallel=53\n",
      "mkdir: cannot create directory ‘53_out’: File exists\n",
      "mkdir: cannot create directory ‘53_score’: File exists\n"
     ]
    },
    {
     "name": "stderr",
     "output_type": "stream",
     "text": [
      "\u001b[32m[I 2021-04-25 13:27:54,654]\u001b[0m Trial 348 finished with value: 1391358.0 and parameters: {'COEF_CENTER_L1': 5.900702034105109, 'COEF_CENTER_L1_SQ': 8.67063608287623, 'COEF_POINT': 37.5663537708692, 'COEF_DIST': 7104.7159451692}. Best is trial 142 with value: 1556780.0.\u001b[0m\n"
     ]
    },
    {
     "name": "stdout",
     "output_type": "stream",
     "text": [
      "callback ok\n",
      "index_parallel=54\n",
      "mkdir: cannot create directory ‘54_out’: File exists\n",
      "mkdir: cannot create directory ‘54_score’: File exists\n",
      "sed -i 53_answer.cpp -e 's/^\t\tconstexpr double COEF_CENTER_L1 = .*;  \\/\\/ OPTIMIZE \\[-100\\.0, 100\\.0\\]$/\t\tconstexpr double COEF_CENTER_L1 = 6.17982447307954;  \\/\\/ OPTIMIZE [-100.0, 100.0]/' -e 's/^\t\tconstexpr double COEF_CENTER_L1_SQ = .*;  \\/\\/ OPTIMIZE \\[0\\.0, 100\\.0\\]$/\t\tconstexpr double COEF_CENTER_L1_SQ = 4.576236677696483;  \\/\\/ OPTIMIZE [0.0, 100.0]/' -e 's/^\t\tconstexpr double COEF_POINT = .*;  \\/\\/ OPTIMIZE \\[0\\.0, 100\\.0\\]$/\t\tconstexpr double COEF_POINT = 41.76156199889964;  \\/\\/ OPTIMIZE [0.0, 100.0]/' -e 's/^\t\tconstexpr double COEF_DIST = .*;  \\/\\/ OPTIMIZE \\[0\\.0, 10000\\.0\\]$/\t\tconstexpr double COEF_DIST = 7064.455302825089;  \\/\\/ OPTIMIZE [0.0, 10000.0]/'\n",
      "g++ 53_answer.cpp -std=gnu++17 -O2 -DONLINE_JUDGE -o 53_answer.cpp.out\n",
      "sed -i 54_answer.cpp -e 's/^\t\tconstexpr double COEF_CENTER_L1 = .*;  \\/\\/ OPTIMIZE \\[-100\\.0, 100\\.0\\]$/\t\tconstexpr double COEF_CENTER_L1 = -56.31330405119782;  \\/\\/ OPTIMIZE [-100.0, 100.0]/' -e 's/^\t\tconstexpr double COEF_CENTER_L1_SQ = .*;  \\/\\/ OPTIMIZE \\[0\\.0, 100\\.0\\]$/\t\tconstexpr double COEF_CENTER_L1_SQ = 5.247861595750024;  \\/\\/ OPTIMIZE [0.0, 100.0]/' -e 's/^\t\tconstexpr double COEF_POINT = .*;  \\/\\/ OPTIMIZE \\[0\\.0, 100\\.0\\]$/\t\tconstexpr double COEF_POINT = 44.90081053329063;  \\/\\/ OPTIMIZE [0.0, 100.0]/' -e 's/^\t\tconstexpr double COEF_DIST = .*;  \\/\\/ OPTIMIZE \\[0\\.0, 10000\\.0\\]$/\t\tconstexpr double COEF_DIST = 7064.615447101781;  \\/\\/ OPTIMIZE [0.0, 10000.0]/'\n",
      "g++ 54_answer.cpp -std=gnu++17 -O2 -DONLINE_JUDGE -o 54_answer.cpp.out\n"
     ]
    },
    {
     "name": "stderr",
     "output_type": "stream",
     "text": [
      "\u001b[32m[I 2021-04-25 13:27:56,809]\u001b[0m Trial 351 finished with value: 1361295.0 and parameters: {'COEF_CENTER_L1': 9.85141807718726, 'COEF_CENTER_L1_SQ': 7.966907099957109, 'COEF_POINT': 47.3028494021711, 'COEF_DIST': 7134.075778918682}. Best is trial 142 with value: 1556780.0.\u001b[0m\n",
      "\u001b[32m[I 2021-04-25 13:27:56,820]\u001b[0m Trial 349 finished with value: 1389143.0 and parameters: {'COEF_CENTER_L1': 6.316184340225106, 'COEF_CENTER_L1_SQ': 8.076945642054827, 'COEF_POINT': 42.731641354040846, 'COEF_DIST': 7079.750630854661}. Best is trial 142 with value: 1556780.0.\u001b[0m\n"
     ]
    },
    {
     "name": "stdout",
     "output_type": "stream",
     "text": [
      "callback ok\n",
      "callback ok\n",
      "index_parallel=55\n",
      "mkdir: cannot create directory ‘55_out’: File exists\n",
      "mkdir: cannot create directory ‘55_score’: File exists\n",
      "index_parallel=56\n",
      "mkdir: cannot create directory ‘56_out’: File exists\n",
      "mkdir: cannot create directory ‘56_score’: File exists\n"
     ]
    },
    {
     "name": "stderr",
     "output_type": "stream",
     "text": [
      "\u001b[32m[I 2021-04-25 13:27:58,697]\u001b[0m Trial 350 finished with value: 1397119.0 and parameters: {'COEF_CENTER_L1': 5.469051270863905, 'COEF_CENTER_L1_SQ': 8.104201255501849, 'COEF_POINT': 37.64344862602015, 'COEF_DIST': 7125.485853831528}. Best is trial 142 with value: 1556780.0.\u001b[0m\n"
     ]
    },
    {
     "name": "stdout",
     "output_type": "stream",
     "text": [
      "callback ok\n",
      "index_parallel=57\n",
      "mkdir: cannot create directory ‘57_out’: File exists\n",
      "sed -i 55_answer.cpp -e 's/^\t\tconstexpr double COEF_CENTER_L1 = .*;  \\/\\/ OPTIMIZE \\[-100\\.0, 100\\.0\\]$/\t\tconstexpr double COEF_CENTER_L1 = -5.806851377979735;  \\/\\/ OPTIMIZE [-100.0, 100.0]/' -e 's/^\t\tconstexpr double COEF_CENTER_L1_SQ = .*;  \\/\\/ OPTIMIZE \\[0\\.0, 100\\.0\\]$/\t\tconstexpr double COEF_CENTER_L1_SQ = 5.345161080964475;  \\/\\/ OPTIMIZE [0.0, 100.0]/' -e 's/^\t\tconstexpr double COEF_POINT = .*;  \\/\\/ OPTIMIZE \\[0\\.0, 100\\.0\\]$/\t\tconstexpr double COEF_POINT = 81.99383684301134;  \\/\\/ OPTIMIZE [0.0, 100.0]/' -e 's/^\t\tconstexpr double COEF_DIST = .*;  \\/\\/ OPTIMIZE \\[0\\.0, 10000\\.0\\]$/\t\tconstexpr double COEF_DIST = 8369.660856939976;  \\/\\/ OPTIMIZE [0.0, 10000.0]/'\n",
      "sed -i 56_answer.cpp -e 's/^\t\tconstexpr double COEF_CENTER_L1 = .*;  \\/\\/ OPTIMIZE \\[-100\\.0, 100\\.0\\]$/\t\tconstexpr double COEF_CENTER_L1 = 13.213923586034127;  \\/\\/ OPTIMIZE [-100.0, 100.0]/' -e 's/^\t\tconstexpr double COEF_CENTER_L1_SQ = .*;  \\/\\/ OPTIMIZE \\[0\\.0, 100\\.0\\]$/\t\tconstexpr double COEF_CENTER_L1_SQ = 4.880710266068556;  \\/\\/ OPTIMIZE [0.0, 100.0]/' -e 's/^\t\tconstexpr double COEF_POINT = .*;  \\/\\/ OPTIMIZE \\[0\\.0, 100\\.0\\]$/\t\tconstexpr double COEF_POINT = 32.87559863799341;  \\/\\/ OPTIMIZE [0.0, 100.0]/' -e 's/^\t\tconstexpr double COEF_DIST = .*;  \\/\\/ OPTIMIZE \\[0\\.0, 10000\\.0\\]$/\t\tconstexpr double COEF_DIST = 6895.111235941165;  \\/\\/ OPTIMIZE [0.0, 10000.0]/'\n",
      "mkdir: cannot create directory ‘57_score’: File exists\n",
      "g++ 55_answer.cpp -std=gnu++17 -O2 -DONLINE_JUDGE -o 55_answer.cpp.out\n",
      "g++ 56_answer.cpp -std=gnu++17 -O2 -DONLINE_JUDGE -o 56_answer.cpp.out\n"
     ]
    },
    {
     "name": "stderr",
     "output_type": "stream",
     "text": [
      "\u001b[32m[I 2021-04-25 13:28:01,988]\u001b[0m Trial 352 finished with value: 1401772.0 and parameters: {'COEF_CENTER_L1': 6.891760557379596, 'COEF_CENTER_L1_SQ': 8.016114104200573, 'COEF_POINT': 42.1968691355828, 'COEF_DIST': 7145.981788232388}. Best is trial 142 with value: 1556780.0.\u001b[0m\n"
     ]
    },
    {
     "name": "stdout",
     "output_type": "stream",
     "text": [
      "callback ok\n",
      "index_parallel=58\n",
      "mkdir: cannot create directory ‘58_out’: File exists\n",
      "mkdir: cannot create directory ‘58_score’: File exists\n",
      "sed -i 57_answer.cpp -e 's/^\t\tconstexpr double COEF_CENTER_L1 = .*;  \\/\\/ OPTIMIZE \\[-100\\.0, 100\\.0\\]$/\t\tconstexpr double COEF_CENTER_L1 = -6.224722139566753;  \\/\\/ OPTIMIZE [-100.0, 100.0]/' -e 's/^\t\tconstexpr double COEF_CENTER_L1_SQ = .*;  \\/\\/ OPTIMIZE \\[0\\.0, 100\\.0\\]$/\t\tconstexpr double COEF_CENTER_L1_SQ = 4.97464772484195;  \\/\\/ OPTIMIZE [0.0, 100.0]/' -e 's/^\t\tconstexpr double COEF_POINT = .*;  \\/\\/ OPTIMIZE \\[0\\.0, 100\\.0\\]$/\t\tconstexpr double COEF_POINT = 45.082576415624146;  \\/\\/ OPTIMIZE [0.0, 100.0]/' -e 's/^\t\tconstexpr double COEF_DIST = .*;  \\/\\/ OPTIMIZE \\[0\\.0, 10000\\.0\\]$/\t\tconstexpr double COEF_DIST = 8770.035341191842;  \\/\\/ OPTIMIZE [0.0, 10000.0]/'\n",
      "g++ 57_answer.cpp -std=gnu++17 -O2 -DONLINE_JUDGE -o 57_answer.cpp.out\n",
      "sed -i 58_answer.cpp -e 's/^\t\tconstexpr double COEF_CENTER_L1 = .*;  \\/\\/ OPTIMIZE \\[-100\\.0, 100\\.0\\]$/\t\tconstexpr double COEF_CENTER_L1 = -7.28296492679853;  \\/\\/ OPTIMIZE [-100.0, 100.0]/' -e 's/^\t\tconstexpr double COEF_CENTER_L1_SQ = .*;  \\/\\/ OPTIMIZE \\[0\\.0, 100\\.0\\]$/\t\tconstexpr double COEF_CENTER_L1_SQ = 5.145150215183917;  \\/\\/ OPTIMIZE [0.0, 100.0]/' -e 's/^\t\tconstexpr double COEF_POINT = .*;  \\/\\/ OPTIMIZE \\[0\\.0, 100\\.0\\]$/\t\tconstexpr double COEF_POINT = 44.972783721541575;  \\/\\/ OPTIMIZE [0.0, 100.0]/' -e 's/^\t\tconstexpr double COEF_DIST = .*;  \\/\\/ OPTIMIZE \\[0\\.0, 10000\\.0\\]$/\t\tconstexpr double COEF_DIST = 8429.089372471777;  \\/\\/ OPTIMIZE [0.0, 10000.0]/'\n",
      "g++ 58_answer.cpp -std=gnu++17 -O2 -DONLINE_JUDGE -o 58_answer.cpp.out\n"
     ]
    },
    {
     "name": "stderr",
     "output_type": "stream",
     "text": [
      "\u001b[32m[I 2021-04-25 13:28:05,171]\u001b[0m Trial 353 finished with value: 1498559.0 and parameters: {'COEF_CENTER_L1': 6.17982447307954, 'COEF_CENTER_L1_SQ': 4.576236677696483, 'COEF_POINT': 41.76156199889964, 'COEF_DIST': 7064.455302825089}. Best is trial 142 with value: 1556780.0.\u001b[0m\n"
     ]
    },
    {
     "name": "stdout",
     "output_type": "stream",
     "text": [
      "callback ok\n",
      "index_parallel=59\n",
      "mkdir: cannot create directory ‘59_out’: File exists\n",
      "mkdir: cannot create directory ‘59_score’: File exists\n",
      "sed -i 59_answer.cpp -e 's/^\t\tconstexpr double COEF_CENTER_L1 = .*;  \\/\\/ OPTIMIZE \\[-100\\.0, 100\\.0\\]$/\t\tconstexpr double COEF_CENTER_L1 = 11.360444440450346;  \\/\\/ OPTIMIZE [-100.0, 100.0]/' -e 's/^\t\tconstexpr double COEF_CENTER_L1_SQ = .*;  \\/\\/ OPTIMIZE \\[0\\.0, 100\\.0\\]$/\t\tconstexpr double COEF_CENTER_L1_SQ = 5.3521082997654625;  \\/\\/ OPTIMIZE [0.0, 100.0]/' -e 's/^\t\tconstexpr double COEF_POINT = .*;  \\/\\/ OPTIMIZE \\[0\\.0, 100\\.0\\]$/\t\tconstexpr double COEF_POINT = 45.06294944550348;  \\/\\/ OPTIMIZE [0.0, 100.0]/' -e 's/^\t\tconstexpr double COEF_DIST = .*;  \\/\\/ OPTIMIZE \\[0\\.0, 10000\\.0\\]$/\t\tconstexpr double COEF_DIST = 7455.071585710134;  \\/\\/ OPTIMIZE [0.0, 10000.0]/'\n",
      "g++ 59_answer.cpp -std=gnu++17 -O2 -DONLINE_JUDGE -o 59_answer.cpp.out\n"
     ]
    },
    {
     "name": "stderr",
     "output_type": "stream",
     "text": [
      "\u001b[32m[I 2021-04-25 13:28:07,570]\u001b[0m Trial 354 finished with value: 1518254.0 and parameters: {'COEF_CENTER_L1': -56.31330405119782, 'COEF_CENTER_L1_SQ': 5.247861595750024, 'COEF_POINT': 44.90081053329063, 'COEF_DIST': 7064.615447101781}. Best is trial 142 with value: 1556780.0.\u001b[0m\n"
     ]
    },
    {
     "name": "stdout",
     "output_type": "stream",
     "text": [
      "callback ok\n",
      "index_parallel=60\n",
      "mkdir: cannot create directory ‘60_out’: File exists\n",
      "mkdir: cannot create directory ‘60_score’: File exists\n",
      "sed -i 60_answer.cpp -e 's/^\t\tconstexpr double COEF_CENTER_L1 = .*;  \\/\\/ OPTIMIZE \\[-100\\.0, 100\\.0\\]$/\t\tconstexpr double COEF_CENTER_L1 = -5.970243267316533;  \\/\\/ OPTIMIZE [-100.0, 100.0]/' -e 's/^\t\tconstexpr double COEF_CENTER_L1_SQ = .*;  \\/\\/ OPTIMIZE \\[0\\.0, 100\\.0\\]$/\t\tconstexpr double COEF_CENTER_L1_SQ = 4.199454822206096;  \\/\\/ OPTIMIZE [0.0, 100.0]/' -e 's/^\t\tconstexpr double COEF_POINT = .*;  \\/\\/ OPTIMIZE \\[0\\.0, 100\\.0\\]$/\t\tconstexpr double COEF_POINT = 45.5235594318089;  \\/\\/ OPTIMIZE [0.0, 100.0]/' -e 's/^\t\tconstexpr double COEF_DIST = .*;  \\/\\/ OPTIMIZE \\[0\\.0, 10000\\.0\\]$/\t\tconstexpr double COEF_DIST = 8851.247891534227;  \\/\\/ OPTIMIZE [0.0, 10000.0]/'\n",
      "g++ 60_answer.cpp -std=gnu++17 -O2 -DONLINE_JUDGE -o 60_answer.cpp.out\n"
     ]
    },
    {
     "name": "stderr",
     "output_type": "stream",
     "text": [
      "\u001b[32m[I 2021-04-25 13:28:11,192]\u001b[0m Trial 356 finished with value: 1491888.0 and parameters: {'COEF_CENTER_L1': 13.213923586034127, 'COEF_CENTER_L1_SQ': 4.880710266068556, 'COEF_POINT': 32.87559863799341, 'COEF_DIST': 6895.111235941165}. Best is trial 142 with value: 1556780.0.\u001b[0m\n"
     ]
    },
    {
     "name": "stdout",
     "output_type": "stream",
     "text": [
      "callback ok\n",
      "index_parallel=61\n",
      "mkdir: cannot create directory ‘61_out’: File exists\n"
     ]
    },
    {
     "name": "stderr",
     "output_type": "stream",
     "text": [
      "\u001b[32m[I 2021-04-25 13:28:11,389]\u001b[0m Trial 355 finished with value: 1505721.0 and parameters: {'COEF_CENTER_L1': -5.806851377979735, 'COEF_CENTER_L1_SQ': 5.345161080964475, 'COEF_POINT': 81.99383684301134, 'COEF_DIST': 8369.660856939976}. Best is trial 142 with value: 1556780.0.\u001b[0m\n"
     ]
    },
    {
     "name": "stdout",
     "output_type": "stream",
     "text": [
      "callback ok\n",
      "mkdir: cannot create directory ‘61_score’: File exists\n",
      "index_parallel=62\n",
      "mkdir: cannot create directory ‘62_out’: File exists\n",
      "mkdir: cannot create directory ‘62_score’: File exists\n",
      "sed -i 61_answer.cpp -e 's/^\t\tconstexpr double COEF_CENTER_L1 = .*;  \\/\\/ OPTIMIZE \\[-100\\.0, 100\\.0\\]$/\t\tconstexpr double COEF_CENTER_L1 = 13.921100525231061;  \\/\\/ OPTIMIZE [-100.0, 100.0]/' -e 's/^\t\tconstexpr double COEF_CENTER_L1_SQ = .*;  \\/\\/ OPTIMIZE \\[0\\.0, 100\\.0\\]$/\t\tconstexpr double COEF_CENTER_L1_SQ = 3.1715157466959116;  \\/\\/ OPTIMIZE [0.0, 100.0]/' -e 's/^\t\tconstexpr double COEF_POINT = .*;  \\/\\/ OPTIMIZE \\[0\\.0, 100\\.0\\]$/\t\tconstexpr double COEF_POINT = 44.614162040163855;  \\/\\/ OPTIMIZE [0.0, 100.0]/' -e 's/^\t\tconstexpr double COEF_DIST = .*;  \\/\\/ OPTIMIZE \\[0\\.0, 10000\\.0\\]$/\t\tconstexpr double COEF_DIST = 7458.756825797575;  \\/\\/ OPTIMIZE [0.0, 10000.0]/'\n",
      "g++ 61_answer.cpp -std=gnu++17 -O2 -DONLINE_JUDGE -o 61_answer.cpp.out\n"
     ]
    },
    {
     "name": "stderr",
     "output_type": "stream",
     "text": [
      "\u001b[32m[I 2021-04-25 13:28:14,662]\u001b[0m Trial 357 finished with value: 1508221.0 and parameters: {'COEF_CENTER_L1': -6.224722139566753, 'COEF_CENTER_L1_SQ': 4.97464772484195, 'COEF_POINT': 45.082576415624146, 'COEF_DIST': 8770.035341191842}. Best is trial 142 with value: 1556780.0.\u001b[0m\n"
     ]
    },
    {
     "name": "stdout",
     "output_type": "stream",
     "text": [
      "sed -i 62_answer.cpp -e 's/^\t\tconstexpr double COEF_CENTER_L1 = .*;  \\/\\/ OPTIMIZE \\[-100\\.0, 100\\.0\\]$/\t\tconstexpr double COEF_CENTER_L1 = 39.51753041704602;  \\/\\/ OPTIMIZE [-100.0, 100.0]/' -e 's/^\t\tconstexpr double COEF_CENTER_L1_SQ = .*;  \\/\\/ OPTIMIZE \\[0\\.0, 100\\.0\\]$/\t\tconstexpr double COEF_CENTER_L1_SQ = 3.0961324938485335;  \\/\\/ OPTIMIZE [0.0, 100.0]/' -e 's/^\t\tconstexpr double COEF_POINT = .*;  \\/\\/ OPTIMIZE \\[0\\.0, 100\\.0\\]$/\t\tconstexpr double COEF_POINT = 34.46483046252461;  \\/\\/ OPTIMIZE [0.0, 100.0]/' -e 's/^\t\tconstexpr double COEF_DIST = .*;  \\/\\/ OPTIMIZE \\[0\\.0, 10000\\.0\\]$/\t\tconstexpr double COEF_DIST = 8850.294713703282;  \\/\\/ OPTIMIZE [0.0, 10000.0]/'\n",
      "callback ok\n",
      "g++ 62_answer.cpp -std=gnu++17 -O2 -DONLINE_JUDGE -o 62_answer.cpp.out\n",
      "index_parallel=63\n",
      "mkdir: cannot create directory ‘63_out’: File exists\n"
     ]
    },
    {
     "name": "stderr",
     "output_type": "stream",
     "text": [
      "\u001b[32m[I 2021-04-25 13:28:15,283]\u001b[0m Trial 358 finished with value: 1519852.0 and parameters: {'COEF_CENTER_L1': -7.28296492679853, 'COEF_CENTER_L1_SQ': 5.145150215183917, 'COEF_POINT': 44.972783721541575, 'COEF_DIST': 8429.089372471777}. Best is trial 142 with value: 1556780.0.\u001b[0m\n"
     ]
    },
    {
     "name": "stdout",
     "output_type": "stream",
     "text": [
      "callback ok\n",
      "index_parallel=64\n",
      "mkdir: cannot create directory ‘63_score’: File exists\n",
      "mkdir: cannot create directory ‘64_out’: File exists\n",
      "mkdir: cannot create directory ‘64_score’: File exists\n",
      "sed -i 63_answer.cpp -e 's/^\t\tconstexpr double COEF_CENTER_L1 = .*;  \\/\\/ OPTIMIZE \\[-100\\.0, 100\\.0\\]$/\t\tconstexpr double COEF_CENTER_L1 = 12.268058162341772;  \\/\\/ OPTIMIZE [-100.0, 100.0]/' -e 's/^\t\tconstexpr double COEF_CENTER_L1_SQ = .*;  \\/\\/ OPTIMIZE \\[0\\.0, 100\\.0\\]$/\t\tconstexpr double COEF_CENTER_L1_SQ = 2.8068362307924346;  \\/\\/ OPTIMIZE [0.0, 100.0]/' -e 's/^\t\tconstexpr double COEF_POINT = .*;  \\/\\/ OPTIMIZE \\[0\\.0, 100\\.0\\]$/\t\tconstexpr double COEF_POINT = 33.28667574266794;  \\/\\/ OPTIMIZE [0.0, 100.0]/' -e 's/^\t\tconstexpr double COEF_DIST = .*;  \\/\\/ OPTIMIZE \\[0\\.0, 10000\\.0\\]$/\t\tconstexpr double COEF_DIST = 7400.080594579123;  \\/\\/ OPTIMIZE [0.0, 10000.0]/'\n",
      "g++ 63_answer.cpp -std=gnu++17 -O2 -DONLINE_JUDGE -o 63_answer.cpp.out\n",
      "sed -i 64_answer.cpp -e 's/^\t\tconstexpr double COEF_CENTER_L1 = .*;  \\/\\/ OPTIMIZE \\[-100\\.0, 100\\.0\\]$/\t\tconstexpr double COEF_CENTER_L1 = 14.161306074105047;  \\/\\/ OPTIMIZE [-100.0, 100.0]/' -e 's/^\t\tconstexpr double COEF_CENTER_L1_SQ = .*;  \\/\\/ OPTIMIZE \\[0\\.0, 100\\.0\\]$/\t\tconstexpr double COEF_CENTER_L1_SQ = 2.731599771533811;  \\/\\/ OPTIMIZE [0.0, 100.0]/' -e 's/^\t\tconstexpr double COEF_POINT = .*;  \\/\\/ OPTIMIZE \\[0\\.0, 100\\.0\\]$/\t\tconstexpr double COEF_POINT = 34.31238566556843;  \\/\\/ OPTIMIZE [0.0, 100.0]/' -e 's/^\t\tconstexpr double COEF_DIST = .*;  \\/\\/ OPTIMIZE \\[0\\.0, 10000\\.0\\]$/\t\tconstexpr double COEF_DIST = 7400.932922479639;  \\/\\/ OPTIMIZE [0.0, 10000.0]/'\n"
     ]
    },
    {
     "name": "stderr",
     "output_type": "stream",
     "text": [
      "\u001b[32m[I 2021-04-25 13:28:17,772]\u001b[0m Trial 359 finished with value: 1485105.0 and parameters: {'COEF_CENTER_L1': 11.360444440450346, 'COEF_CENTER_L1_SQ': 5.3521082997654625, 'COEF_POINT': 45.06294944550348, 'COEF_DIST': 7455.071585710134}. Best is trial 142 with value: 1556780.0.\u001b[0m\n"
     ]
    },
    {
     "name": "stdout",
     "output_type": "stream",
     "text": [
      "g++ 64_answer.cpp -std=gnu++17 -O2 -DONLINE_JUDGE -o 64_answer.cpp.out\n",
      "callback ok\n",
      "index_parallel=65\n",
      "mkdir: cannot create directory ‘65_out’: File exists\n",
      "mkdir: cannot create directory ‘65_score’: File exists\n"
     ]
    },
    {
     "name": "stderr",
     "output_type": "stream",
     "text": [
      "\u001b[32m[I 2021-04-25 13:28:20,402]\u001b[0m Trial 360 finished with value: 1508937.0 and parameters: {'COEF_CENTER_L1': -5.970243267316533, 'COEF_CENTER_L1_SQ': 4.199454822206096, 'COEF_POINT': 45.5235594318089, 'COEF_DIST': 8851.247891534227}. Best is trial 142 with value: 1556780.0.\u001b[0m\n"
     ]
    },
    {
     "name": "stdout",
     "output_type": "stream",
     "text": [
      "callback ok\n",
      "index_parallel=66\n",
      "mkdir: cannot create directory ‘66_out’: File exists\n",
      "mkdir: cannot create directory ‘66_score’: File exists\n",
      "sed -i 65_answer.cpp -e 's/^\t\tconstexpr double COEF_CENTER_L1 = .*;  \\/\\/ OPTIMIZE \\[-100\\.0, 100\\.0\\]$/\t\tconstexpr double COEF_CENTER_L1 = 38.300434342112354;  \\/\\/ OPTIMIZE [-100.0, 100.0]/' -e 's/^\t\tconstexpr double COEF_CENTER_L1_SQ = .*;  \\/\\/ OPTIMIZE \\[0\\.0, 100\\.0\\]$/\t\tconstexpr double COEF_CENTER_L1_SQ = 2.51557532784024;  \\/\\/ OPTIMIZE [0.0, 100.0]/' -e 's/^\t\tconstexpr double COEF_POINT = .*;  \\/\\/ OPTIMIZE \\[0\\.0, 100\\.0\\]$/\t\tconstexpr double COEF_POINT = 34.12904678388051;  \\/\\/ OPTIMIZE [0.0, 100.0]/' -e 's/^\t\tconstexpr double COEF_DIST = .*;  \\/\\/ OPTIMIZE \\[0\\.0, 10000\\.0\\]$/\t\tconstexpr double COEF_DIST = 7441.617878284581;  \\/\\/ OPTIMIZE [0.0, 10000.0]/'\n",
      "g++ 65_answer.cpp -std=gnu++17 -O2 -DONLINE_JUDGE -o 65_answer.cpp.out\n",
      "sed -i 66_answer.cpp -e 's/^\t\tconstexpr double COEF_CENTER_L1 = .*;  \\/\\/ OPTIMIZE \\[-100\\.0, 100\\.0\\]$/\t\tconstexpr double COEF_CENTER_L1 = 38.07405028210057;  \\/\\/ OPTIMIZE [-100.0, 100.0]/' -e 's/^\t\tconstexpr double COEF_CENTER_L1_SQ = .*;  \\/\\/ OPTIMIZE \\[0\\.0, 100\\.0\\]$/\t\tconstexpr double COEF_CENTER_L1_SQ = 2.3276990335311876;  \\/\\/ OPTIMIZE [0.0, 100.0]/' -e 's/^\t\tconstexpr double COEF_POINT = .*;  \\/\\/ OPTIMIZE \\[0\\.0, 100\\.0\\]$/\t\tconstexpr double COEF_POINT = 33.97379050285156;  \\/\\/ OPTIMIZE [0.0, 100.0]/' -e 's/^\t\tconstexpr double COEF_DIST = .*;  \\/\\/ OPTIMIZE \\[0\\.0, 10000\\.0\\]$/\t\tconstexpr double COEF_DIST = 7349.498743836403;  \\/\\/ OPTIMIZE [0.0, 10000.0]/'\n",
      "g++ 66_answer.cpp -std=gnu++17 -O2 -DONLINE_JUDGE -o 66_answer.cpp.out\n"
     ]
    },
    {
     "name": "stderr",
     "output_type": "stream",
     "text": [
      "\u001b[32m[I 2021-04-25 13:28:25,270]\u001b[0m Trial 361 finished with value: 1509168.0 and parameters: {'COEF_CENTER_L1': 13.921100525231061, 'COEF_CENTER_L1_SQ': 3.1715157466959116, 'COEF_POINT': 44.614162040163855, 'COEF_DIST': 7458.756825797575}. Best is trial 142 with value: 1556780.0.\u001b[0m\n"
     ]
    },
    {
     "name": "stdout",
     "output_type": "stream",
     "text": [
      "callback ok\n",
      "index_parallel=67\n",
      "mkdir: cannot create directory ‘67_out’: File exists\n",
      "mkdir: cannot create directory ‘67_score’: File exists\n"
     ]
    },
    {
     "name": "stderr",
     "output_type": "stream",
     "text": [
      "\u001b[32m[I 2021-04-25 13:28:25,735]\u001b[0m Trial 362 finished with value: 1503917.0 and parameters: {'COEF_CENTER_L1': 39.51753041704602, 'COEF_CENTER_L1_SQ': 3.0961324938485335, 'COEF_POINT': 34.46483046252461, 'COEF_DIST': 8850.294713703282}. Best is trial 142 with value: 1556780.0.\u001b[0m\n"
     ]
    },
    {
     "name": "stdout",
     "output_type": "stream",
     "text": [
      "callback ok\n",
      "index_parallel=68\n",
      "mkdir: cannot create directory ‘68_out’: File exists\n",
      "mkdir: cannot create directory ‘68_score’: File exists\n",
      "sed -i 67_answer.cpp -e 's/^\t\tconstexpr double COEF_CENTER_L1 = .*;  \\/\\/ OPTIMIZE \\[-100\\.0, 100\\.0\\]$/\t\tconstexpr double COEF_CENTER_L1 = 23.7119459694285;  \\/\\/ OPTIMIZE [-100.0, 100.0]/' -e 's/^\t\tconstexpr double COEF_CENTER_L1_SQ = .*;  \\/\\/ OPTIMIZE \\[0\\.0, 100\\.0\\]$/\t\tconstexpr double COEF_CENTER_L1_SQ = 1.856700681122535;  \\/\\/ OPTIMIZE [0.0, 100.0]/' -e 's/^\t\tconstexpr double COEF_POINT = .*;  \\/\\/ OPTIMIZE \\[0\\.0, 100\\.0\\]$/\t\tconstexpr double COEF_POINT = 42.161039205317905;  \\/\\/ OPTIMIZE [0.0, 100.0]/' -e 's/^\t\tconstexpr double COEF_DIST = .*;  \\/\\/ OPTIMIZE \\[0\\.0, 10000\\.0\\]$/\t\tconstexpr double COEF_DIST = 6832.186889557379;  \\/\\/ OPTIMIZE [0.0, 10000.0]/'\n",
      "g++ 67_answer.cpp -std=gnu++17 -O2 -DONLINE_JUDGE -o 67_answer.cpp.out\n"
     ]
    },
    {
     "name": "stderr",
     "output_type": "stream",
     "text": [
      "\u001b[32m[I 2021-04-25 13:28:27,605]\u001b[0m Trial 363 finished with value: 1482445.0 and parameters: {'COEF_CENTER_L1': 12.268058162341772, 'COEF_CENTER_L1_SQ': 2.8068362307924346, 'COEF_POINT': 33.28667574266794, 'COEF_DIST': 7400.080594579123}. Best is trial 142 with value: 1556780.0.\u001b[0m\n"
     ]
    },
    {
     "name": "stdout",
     "output_type": "stream",
     "text": [
      "sed -i 68_answer.cpp -e 's/^\t\tconstexpr double COEF_CENTER_L1 = .*;  \\/\\/ OPTIMIZE \\[-100\\.0, 100\\.0\\]$/\t\tconstexpr double COEF_CENTER_L1 = 46.08089239898813;  \\/\\/ OPTIMIZE [-100.0, 100.0]/' -e 's/^\t\tconstexpr double COEF_CENTER_L1_SQ = .*;  \\/\\/ OPTIMIZE \\[0\\.0, 100\\.0\\]$/\t\tconstexpr double COEF_CENTER_L1_SQ = 1.365359106711833;  \\/\\/ OPTIMIZE [0.0, 100.0]/' -e 's/^\t\tconstexpr double COEF_POINT = .*;  \\/\\/ OPTIMIZE \\[0\\.0, 100\\.0\\]$/\t\tconstexpr double COEF_POINT = 47.576476073299496;  \\/\\/ OPTIMIZE [0.0, 100.0]/' -e 's/^\t\tconstexpr double COEF_DIST = .*;  \\/\\/ OPTIMIZE \\[0\\.0, 10000\\.0\\]$/\t\tconstexpr double COEF_DIST = 6769.835517917453;  \\/\\/ OPTIMIZE [0.0, 10000.0]/'\n",
      "callback ok\n",
      "g++ 68_answer.cpp -std=gnu++17 -O2 -DONLINE_JUDGE -o 68_answer.cpp.out\n",
      "index_parallel=69\n",
      "mkdir: cannot create directory ‘69_out’: File exists\n"
     ]
    },
    {
     "name": "stderr",
     "output_type": "stream",
     "text": [
      "\u001b[32m[I 2021-04-25 13:28:27,868]\u001b[0m Trial 364 finished with value: 1488338.0 and parameters: {'COEF_CENTER_L1': 14.161306074105047, 'COEF_CENTER_L1_SQ': 2.731599771533811, 'COEF_POINT': 34.31238566556843, 'COEF_DIST': 7400.932922479639}. Best is trial 142 with value: 1556780.0.\u001b[0m\n"
     ]
    },
    {
     "name": "stdout",
     "output_type": "stream",
     "text": [
      "callback ok\n",
      "index_parallel=70\n",
      "mkdir: cannot create directory ‘70_out’: File exists\n",
      "mkdir: cannot create directory ‘69_score’: File exists\n",
      "mkdir: cannot create directory ‘70_score’: File exists\n",
      "sed -i 69_answer.cpp -e 's/^\t\tconstexpr double COEF_CENTER_L1 = .*;  \\/\\/ OPTIMIZE \\[-100\\.0, 100\\.0\\]$/\t\tconstexpr double COEF_CENTER_L1 = 2.103240870554382;  \\/\\/ OPTIMIZE [-100.0, 100.0]/' -e 's/^\t\tconstexpr double COEF_CENTER_L1_SQ = .*;  \\/\\/ OPTIMIZE \\[0\\.0, 100\\.0\\]$/\t\tconstexpr double COEF_CENTER_L1_SQ = 1.5817581148308562;  \\/\\/ OPTIMIZE [0.0, 100.0]/' -e 's/^\t\tconstexpr double COEF_POINT = .*;  \\/\\/ OPTIMIZE \\[0\\.0, 100\\.0\\]$/\t\tconstexpr double COEF_POINT = 41.60716546974469;  \\/\\/ OPTIMIZE [0.0, 100.0]/' -e 's/^\t\tconstexpr double COEF_DIST = .*;  \\/\\/ OPTIMIZE \\[0\\.0, 10000\\.0\\]$/\t\tconstexpr double COEF_DIST = 5982.090331997074;  \\/\\/ OPTIMIZE [0.0, 10000.0]/'\n",
      "g++ 69_answer.cpp -std=gnu++17 -O2 -DONLINE_JUDGE -o 69_answer.cpp.out\n",
      "sed -i 70_answer.cpp -e 's/^\t\tconstexpr double COEF_CENTER_L1 = .*;  \\/\\/ OPTIMIZE \\[-100\\.0, 100\\.0\\]$/\t\tconstexpr double COEF_CENTER_L1 = 46.84775141045824;  \\/\\/ OPTIMIZE [-100.0, 100.0]/' -e 's/^\t\tconstexpr double COEF_CENTER_L1_SQ = .*;  \\/\\/ OPTIMIZE \\[0\\.0, 100\\.0\\]$/\t\tconstexpr double COEF_CENTER_L1_SQ = 1.3872238291515582;  \\/\\/ OPTIMIZE [0.0, 100.0]/' -e 's/^\t\tconstexpr double COEF_POINT = .*;  \\/\\/ OPTIMIZE \\[0\\.0, 100\\.0\\]$/\t\tconstexpr double COEF_POINT = 15.721181257882696;  \\/\\/ OPTIMIZE [0.0, 100.0]/' -e 's/^\t\tconstexpr double COEF_DIST = .*;  \\/\\/ OPTIMIZE \\[0\\.0, 10000\\.0\\]$/\t\tconstexpr double COEF_DIST = 923.3703796097188;  \\/\\/ OPTIMIZE [0.0, 10000.0]/'\n",
      "g++ 70_answer.cpp -std=gnu++17 -O2 -DONLINE_JUDGE -o 70_answer.cpp.out\n"
     ]
    },
    {
     "name": "stderr",
     "output_type": "stream",
     "text": [
      "\u001b[32m[I 2021-04-25 13:28:31,715]\u001b[0m Trial 365 finished with value: 1512921.0 and parameters: {'COEF_CENTER_L1': 38.300434342112354, 'COEF_CENTER_L1_SQ': 2.51557532784024, 'COEF_POINT': 34.12904678388051, 'COEF_DIST': 7441.617878284581}. Best is trial 142 with value: 1556780.0.\u001b[0m\n"
     ]
    },
    {
     "name": "stdout",
     "output_type": "stream",
     "text": [
      "callback ok\n",
      "index_parallel=71\n",
      "mkdir: cannot create directory ‘71_out’: File exists\n",
      "mkdir: cannot create directory ‘71_score’: File exists\n"
     ]
    },
    {
     "name": "stderr",
     "output_type": "stream",
     "text": [
      "\u001b[32m[I 2021-04-25 13:28:32,548]\u001b[0m Trial 366 finished with value: 1520845.0 and parameters: {'COEF_CENTER_L1': 38.07405028210057, 'COEF_CENTER_L1_SQ': 2.3276990335311876, 'COEF_POINT': 33.97379050285156, 'COEF_DIST': 7349.498743836403}. Best is trial 142 with value: 1556780.0.\u001b[0m\n"
     ]
    },
    {
     "name": "stdout",
     "output_type": "stream",
     "text": [
      "callback ok\n",
      "index_parallel=72\n",
      "mkdir: cannot create directory ‘72_out’: File exists\n",
      "mkdir: cannot create directory ‘72_score’: File exists\n",
      "sed -i 71_answer.cpp -e 's/^\t\tconstexpr double COEF_CENTER_L1 = .*;  \\/\\/ OPTIMIZE \\[-100\\.0, 100\\.0\\]$/\t\tconstexpr double COEF_CENTER_L1 = 0.9756764635020247;  \\/\\/ OPTIMIZE [-100.0, 100.0]/' -e 's/^\t\tconstexpr double COEF_CENTER_L1_SQ = .*;  \\/\\/ OPTIMIZE \\[0\\.0, 100\\.0\\]$/\t\tconstexpr double COEF_CENTER_L1_SQ = 6.883786654442101;  \\/\\/ OPTIMIZE [0.0, 100.0]/' -e 's/^\t\tconstexpr double COEF_POINT = .*;  \\/\\/ OPTIMIZE \\[0\\.0, 100\\.0\\]$/\t\tconstexpr double COEF_POINT = 42.13922191214732;  \\/\\/ OPTIMIZE [0.0, 100.0]/' -e 's/^\t\tconstexpr double COEF_DIST = .*;  \\/\\/ OPTIMIZE \\[0\\.0, 10000\\.0\\]$/\t\tconstexpr double COEF_DIST = 5957.706571014747;  \\/\\/ OPTIMIZE [0.0, 10000.0]/'\n",
      "g++ 71_answer.cpp -std=gnu++17 -O2 -DONLINE_JUDGE -o 71_answer.cpp.out\n",
      "sed -i 72_answer.cpp -e 's/^\t\tconstexpr double COEF_CENTER_L1 = .*;  \\/\\/ OPTIMIZE \\[-100\\.0, 100\\.0\\]$/\t\tconstexpr double COEF_CENTER_L1 = 2.246656077213956;  \\/\\/ OPTIMIZE [-100.0, 100.0]/' -e 's/^\t\tconstexpr double COEF_CENTER_L1_SQ = .*;  \\/\\/ OPTIMIZE \\[0\\.0, 100\\.0\\]$/\t\tconstexpr double COEF_CENTER_L1_SQ = 0.07817685182990441;  \\/\\/ OPTIMIZE [0.0, 100.0]/' -e 's/^\t\tconstexpr double COEF_POINT = .*;  \\/\\/ OPTIMIZE \\[0\\.0, 100\\.0\\]$/\t\tconstexpr double COEF_POINT = 29.166180092211878;  \\/\\/ OPTIMIZE [0.0, 100.0]/' -e 's/^\t\tconstexpr double COEF_DIST = .*;  \\/\\/ OPTIMIZE \\[0\\.0, 10000\\.0\\]$/\t\tconstexpr double COEF_DIST = 6871.286989265218;  \\/\\/ OPTIMIZE [0.0, 10000.0]/'\n",
      "g++ 72_answer.cpp -std=gnu++17 -O2 -DONLINE_JUDGE -o 72_answer.cpp.out\n"
     ]
    },
    {
     "name": "stderr",
     "output_type": "stream",
     "text": [
      "\u001b[32m[I 2021-04-25 13:28:37,330]\u001b[0m Trial 367 finished with value: 1489506.0 and parameters: {'COEF_CENTER_L1': 23.7119459694285, 'COEF_CENTER_L1_SQ': 1.856700681122535, 'COEF_POINT': 42.161039205317905, 'COEF_DIST': 6832.186889557379}. Best is trial 142 with value: 1556780.0.\u001b[0m\n"
     ]
    },
    {
     "name": "stdout",
     "output_type": "stream",
     "text": [
      "callback ok\n",
      "index_parallel=73\n",
      "mkdir: cannot create directory ‘73_out’: File exists\n",
      "mkdir: cannot create directory ‘73_score’: File exists\n"
     ]
    },
    {
     "name": "stderr",
     "output_type": "stream",
     "text": [
      "\u001b[32m[I 2021-04-25 13:28:38,741]\u001b[0m Trial 368 finished with value: 1505750.0 and parameters: {'COEF_CENTER_L1': 46.08089239898813, 'COEF_CENTER_L1_SQ': 1.365359106711833, 'COEF_POINT': 47.576476073299496, 'COEF_DIST': 6769.835517917453}. Best is trial 142 with value: 1556780.0.\u001b[0m\n"
     ]
    },
    {
     "name": "stdout",
     "output_type": "stream",
     "text": [
      "callback ok\n",
      "index_parallel=74\n",
      "mkdir: cannot create directory ‘74_out’: File exists\n",
      "mkdir: cannot create directory ‘74_score’: File exists\n",
      "sed -i 73_answer.cpp -e 's/^\t\tconstexpr double COEF_CENTER_L1 = .*;  \\/\\/ OPTIMIZE \\[-100\\.0, 100\\.0\\]$/\t\tconstexpr double COEF_CENTER_L1 = 19.305462736810696;  \\/\\/ OPTIMIZE [-100.0, 100.0]/' -e 's/^\t\tconstexpr double COEF_CENTER_L1_SQ = .*;  \\/\\/ OPTIMIZE \\[0\\.0, 100\\.0\\]$/\t\tconstexpr double COEF_CENTER_L1_SQ = 6.580146561832292;  \\/\\/ OPTIMIZE [0.0, 100.0]/' -e 's/^\t\tconstexpr double COEF_POINT = .*;  \\/\\/ OPTIMIZE \\[0\\.0, 100\\.0\\]$/\t\tconstexpr double COEF_POINT = 16.928016122896288;  \\/\\/ OPTIMIZE [0.0, 100.0]/' -e 's/^\t\tconstexpr double COEF_DIST = .*;  \\/\\/ OPTIMIZE \\[0\\.0, 10000\\.0\\]$/\t\tconstexpr double COEF_DIST = 8129.599587083512;  \\/\\/ OPTIMIZE [0.0, 10000.0]/'\n",
      "g++ 73_answer.cpp -std=gnu++17 -O2 -DONLINE_JUDGE -o 73_answer.cpp.out\n"
     ]
    },
    {
     "name": "stderr",
     "output_type": "stream",
     "text": [
      "\u001b[32m[I 2021-04-25 13:28:39,961]\u001b[0m Trial 369 finished with value: 1508063.0 and parameters: {'COEF_CENTER_L1': 2.103240870554382, 'COEF_CENTER_L1_SQ': 1.5817581148308562, 'COEF_POINT': 41.60716546974469, 'COEF_DIST': 5982.090331997074}. Best is trial 142 with value: 1556780.0.\u001b[0m\n"
     ]
    },
    {
     "name": "stdout",
     "output_type": "stream",
     "text": [
      "callback ok\n",
      "index_parallel=75\n",
      "mkdir: cannot create directory ‘75_out’: File exists\n",
      "mkdir: cannot create directory ‘75_score’: File exists\n"
     ]
    },
    {
     "name": "stderr",
     "output_type": "stream",
     "text": [
      "\u001b[32m[I 2021-04-25 13:28:40,794]\u001b[0m Trial 370 finished with value: 1162614.0 and parameters: {'COEF_CENTER_L1': 46.84775141045824, 'COEF_CENTER_L1_SQ': 1.3872238291515582, 'COEF_POINT': 15.721181257882696, 'COEF_DIST': 923.3703796097188}. Best is trial 142 with value: 1556780.0.\u001b[0m\n"
     ]
    },
    {
     "name": "stdout",
     "output_type": "stream",
     "text": [
      "sed -i 74_answer.cpp -e 's/^\t\tconstexpr double COEF_CENTER_L1 = .*;  \\/\\/ OPTIMIZE \\[-100\\.0, 100\\.0\\]$/\t\tconstexpr double COEF_CENTER_L1 = 2.2057017955297193;  \\/\\/ OPTIMIZE [-100.0, 100.0]/' -e 's/^\t\tconstexpr double COEF_CENTER_L1_SQ = .*;  \\/\\/ OPTIMIZE \\[0\\.0, 100\\.0\\]$/\t\tconstexpr double COEF_CENTER_L1_SQ = 6.139112726634412;  \\/\\/ OPTIMIZE [0.0, 100.0]/' -e 's/^\t\tconstexpr double COEF_POINT = .*;  \\/\\/ OPTIMIZE \\[0\\.0, 100\\.0\\]$/\t\tconstexpr double COEF_POINT = 15.706831299371707;  \\/\\/ OPTIMIZE [0.0, 100.0]/' -e 's/^\t\tconstexpr double COEF_DIST = .*;  \\/\\/ OPTIMIZE \\[0\\.0, 10000\\.0\\]$/\t\tconstexpr double COEF_DIST = 8242.755583141348;  \\/\\/ OPTIMIZE [0.0, 10000.0]/'\n",
      "callback ok\n",
      "g++ 74_answer.cpp -std=gnu++17 -O2 -DONLINE_JUDGE -o 74_answer.cpp.out\n",
      "index_parallel=76\n",
      "mkdir: cannot create directory ‘76_out’: File exists\n",
      "mkdir: cannot create directory ‘76_score’: File exists\n",
      "sed -i 75_answer.cpp -e 's/^\t\tconstexpr double COEF_CENTER_L1 = .*;  \\/\\/ OPTIMIZE \\[-100\\.0, 100\\.0\\]$/\t\tconstexpr double COEF_CENTER_L1 = 17.28905191398038;  \\/\\/ OPTIMIZE [-100.0, 100.0]/' -e 's/^\t\tconstexpr double COEF_CENTER_L1_SQ = .*;  \\/\\/ OPTIMIZE \\[0\\.0, 100\\.0\\]$/\t\tconstexpr double COEF_CENTER_L1_SQ = 6.6739599482901735;  \\/\\/ OPTIMIZE [0.0, 100.0]/' -e 's/^\t\tconstexpr double COEF_POINT = .*;  \\/\\/ OPTIMIZE \\[0\\.0, 100\\.0\\]$/\t\tconstexpr double COEF_POINT = 37.96248935406454;  \\/\\/ OPTIMIZE [0.0, 100.0]/' -e 's/^\t\tconstexpr double COEF_DIST = .*;  \\/\\/ OPTIMIZE \\[0\\.0, 10000\\.0\\]$/\t\tconstexpr double COEF_DIST = 6522.306416408633;  \\/\\/ OPTIMIZE [0.0, 10000.0]/'\n",
      "g++ 75_answer.cpp -std=gnu++17 -O2 -DONLINE_JUDGE -o 75_answer.cpp.out\n",
      "sed -i 76_answer.cpp -e 's/^\t\tconstexpr double COEF_CENTER_L1 = .*;  \\/\\/ OPTIMIZE \\[-100\\.0, 100\\.0\\]$/\t\tconstexpr double COEF_CENTER_L1 = -23.452858906263707;  \\/\\/ OPTIMIZE [-100.0, 100.0]/' -e 's/^\t\tconstexpr double COEF_CENTER_L1_SQ = .*;  \\/\\/ OPTIMIZE \\[0\\.0, 100\\.0\\]$/\t\tconstexpr double COEF_CENTER_L1_SQ = 6.933979567259197;  \\/\\/ OPTIMIZE [0.0, 100.0]/' -e 's/^\t\tconstexpr double COEF_POINT = .*;  \\/\\/ OPTIMIZE \\[0\\.0, 100\\.0\\]$/\t\tconstexpr double COEF_POINT = 38.6351613197937;  \\/\\/ OPTIMIZE [0.0, 100.0]/' -e 's/^\t\tconstexpr double COEF_DIST = .*;  \\/\\/ OPTIMIZE \\[0\\.0, 10000\\.0\\]$/\t\tconstexpr double COEF_DIST = 8152.164666408826;  \\/\\/ OPTIMIZE [0.0, 10000.0]/'\n",
      "g++ 76_answer.cpp -std=gnu++17 -O2 -DONLINE_JUDGE -o 76_answer.cpp.out\n"
     ]
    },
    {
     "name": "stderr",
     "output_type": "stream",
     "text": [
      "\u001b[32m[I 2021-04-25 13:28:44,762]\u001b[0m Trial 371 finished with value: 1360986.0 and parameters: {'COEF_CENTER_L1': 0.9756764635020247, 'COEF_CENTER_L1_SQ': 6.883786654442101, 'COEF_POINT': 42.13922191214732, 'COEF_DIST': 5957.706571014747}. Best is trial 142 with value: 1556780.0.\u001b[0m\n"
     ]
    },
    {
     "name": "stdout",
     "output_type": "stream",
     "text": [
      "callback ok\n",
      "index_parallel=77\n",
      "mkdir: cannot create directory ‘77_out’: File exists\n"
     ]
    },
    {
     "name": "stderr",
     "output_type": "stream",
     "text": [
      "\u001b[32m[I 2021-04-25 13:28:45,028]\u001b[0m Trial 372 finished with value: 1380303.0 and parameters: {'COEF_CENTER_L1': 2.246656077213956, 'COEF_CENTER_L1_SQ': 0.07817685182990441, 'COEF_POINT': 29.166180092211878, 'COEF_DIST': 6871.286989265218}. Best is trial 142 with value: 1556780.0.\u001b[0m\n"
     ]
    },
    {
     "name": "stdout",
     "output_type": "stream",
     "text": [
      "callback ok\n",
      "index_parallel=78\n",
      "mkdir: cannot create directory ‘78_out’: File exists\n",
      "mkdir: cannot create directory ‘77_score’: File exists\n",
      "mkdir: cannot create directory ‘78_score’: File exists\n",
      "sed -i 77_answer.cpp -e 's/^\t\tconstexpr double COEF_CENTER_L1 = .*;  \\/\\/ OPTIMIZE \\[-100\\.0, 100\\.0\\]$/\t\tconstexpr double COEF_CENTER_L1 = 20.303722697167686;  \\/\\/ OPTIMIZE [-100.0, 100.0]/' -e 's/^\t\tconstexpr double COEF_CENTER_L1_SQ = .*;  \\/\\/ OPTIMIZE \\[0\\.0, 100\\.0\\]$/\t\tconstexpr double COEF_CENTER_L1_SQ = 6.4864179635776145;  \\/\\/ OPTIMIZE [0.0, 100.0]/' -e 's/^\t\tconstexpr double COEF_POINT = .*;  \\/\\/ OPTIMIZE \\[0\\.0, 100\\.0\\]$/\t\tconstexpr double COEF_POINT = 54.77183586699189;  \\/\\/ OPTIMIZE [0.0, 100.0]/' -e 's/^\t\tconstexpr double COEF_DIST = .*;  \\/\\/ OPTIMIZE \\[0\\.0, 10000\\.0\\]$/\t\tconstexpr double COEF_DIST = 8118.946428369637;  \\/\\/ OPTIMIZE [0.0, 10000.0]/'\n",
      "g++ 77_answer.cpp -std=gnu++17 -O2 -DONLINE_JUDGE -o 77_answer.cpp.out\n",
      "sed -i 78_answer.cpp -e 's/^\t\tconstexpr double COEF_CENTER_L1 = .*;  \\/\\/ OPTIMIZE \\[-100\\.0, 100\\.0\\]$/\t\tconstexpr double COEF_CENTER_L1 = -23.13155183408172;  \\/\\/ OPTIMIZE [-100.0, 100.0]/' -e 's/^\t\tconstexpr double COEF_CENTER_L1_SQ = .*;  \\/\\/ OPTIMIZE \\[0\\.0, 100\\.0\\]$/\t\tconstexpr double COEF_CENTER_L1_SQ = 6.72561941383215;  \\/\\/ OPTIMIZE [0.0, 100.0]/' -e 's/^\t\tconstexpr double COEF_POINT = .*;  \\/\\/ OPTIMIZE \\[0\\.0, 100\\.0\\]$/\t\tconstexpr double COEF_POINT = 38.26329895376223;  \\/\\/ OPTIMIZE [0.0, 100.0]/' -e 's/^\t\tconstexpr double COEF_DIST = .*;  \\/\\/ OPTIMIZE \\[0\\.0, 10000\\.0\\]$/\t\tconstexpr double COEF_DIST = 8189.200629841434;  \\/\\/ OPTIMIZE [0.0, 10000.0]/'\n",
      "g++ 78_answer.cpp -std=gnu++17 -O2 -DONLINE_JUDGE -o 78_answer.cpp.out\n"
     ]
    },
    {
     "name": "stderr",
     "output_type": "stream",
     "text": [
      "\u001b[32m[I 2021-04-25 13:28:49,819]\u001b[0m Trial 373 finished with value: 1444985.0 and parameters: {'COEF_CENTER_L1': 19.305462736810696, 'COEF_CENTER_L1_SQ': 6.580146561832292, 'COEF_POINT': 16.928016122896288, 'COEF_DIST': 8129.599587083512}. Best is trial 142 with value: 1556780.0.\u001b[0m\n"
     ]
    },
    {
     "name": "stdout",
     "output_type": "stream",
     "text": [
      "callback ok\n",
      "index_parallel=79\n",
      "mkdir: cannot create directory ‘79_out’: File exists\n",
      "mkdir: cannot create directory ‘79_score’: File exists\n"
     ]
    },
    {
     "name": "stderr",
     "output_type": "stream",
     "text": [
      "\u001b[32m[I 2021-04-25 13:28:51,341]\u001b[0m Trial 374 finished with value: 1444542.0 and parameters: {'COEF_CENTER_L1': 2.2057017955297193, 'COEF_CENTER_L1_SQ': 6.139112726634412, 'COEF_POINT': 15.706831299371707, 'COEF_DIST': 8242.755583141348}. Best is trial 142 with value: 1556780.0.\u001b[0m\n"
     ]
    },
    {
     "name": "stdout",
     "output_type": "stream",
     "text": [
      "callback ok\n",
      "index_parallel=80\n",
      "mkdir: cannot create directory ‘80_out’: File exists\n",
      "mkdir: cannot create directory ‘80_score’: File exists\n"
     ]
    },
    {
     "name": "stderr",
     "output_type": "stream",
     "text": [
      "\u001b[32m[I 2021-04-25 13:28:51,942]\u001b[0m Trial 375 finished with value: 1393989.0 and parameters: {'COEF_CENTER_L1': 17.28905191398038, 'COEF_CENTER_L1_SQ': 6.6739599482901735, 'COEF_POINT': 37.96248935406454, 'COEF_DIST': 6522.306416408633}. Best is trial 142 with value: 1556780.0.\u001b[0m\n"
     ]
    },
    {
     "name": "stdout",
     "output_type": "stream",
     "text": [
      "sed -i 79_answer.cpp -e 's/^\t\tconstexpr double COEF_CENTER_L1 = .*;  \\/\\/ OPTIMIZE \\[-100\\.0, 100\\.0\\]$/\t\tconstexpr double COEF_CENTER_L1 = 8.943561340479063;  \\/\\/ OPTIMIZE [-100.0, 100.0]/' -e 's/^\t\tconstexpr double COEF_CENTER_L1_SQ = .*;  \\/\\/ OPTIMIZE \\[0\\.0, 100\\.0\\]$/\t\tconstexpr double COEF_CENTER_L1_SQ = 4.355014749472804;  \\/\\/ OPTIMIZE [0.0, 100.0]/' -e 's/^\t\tconstexpr double COEF_POINT = .*;  \\/\\/ OPTIMIZE \\[0\\.0, 100\\.0\\]$/\t\tconstexpr double COEF_POINT = 38.55808749453933;  \\/\\/ OPTIMIZE [0.0, 100.0]/' -e 's/^\t\tconstexpr double COEF_DIST = .*;  \\/\\/ OPTIMIZE \\[0\\.0, 10000\\.0\\]$/\t\tconstexpr double COEF_DIST = 6533.440247886518;  \\/\\/ OPTIMIZE [0.0, 10000.0]/'\n",
      "callback ok\n",
      "index_parallel=81\n",
      "mkdir: cannot create directory ‘81_out’: File exists\n",
      "g++ 79_answer.cpp -std=gnu++17 -O2 -DONLINE_JUDGE -o 79_answer.cpp.out\n",
      "mkdir: cannot create directory ‘81_score’: File exists\n",
      "sed -i 80_answer.cpp -e 's/^\t\tconstexpr double COEF_CENTER_L1 = .*;  \\/\\/ OPTIMIZE \\[-100\\.0, 100\\.0\\]$/\t\tconstexpr double COEF_CENTER_L1 = 9.709953183034536;  \\/\\/ OPTIMIZE [-100.0, 100.0]/' -e 's/^\t\tconstexpr double COEF_CENTER_L1_SQ = .*;  \\/\\/ OPTIMIZE \\[0\\.0, 100\\.0\\]$/\t\tconstexpr double COEF_CENTER_L1_SQ = 3.847166235251441;  \\/\\/ OPTIMIZE [0.0, 100.0]/' -e 's/^\t\tconstexpr double COEF_POINT = .*;  \\/\\/ OPTIMIZE \\[0\\.0, 100\\.0\\]$/\t\tconstexpr double COEF_POINT = 38.90633203900244;  \\/\\/ OPTIMIZE [0.0, 100.0]/' -e 's/^\t\tconstexpr double COEF_DIST = .*;  \\/\\/ OPTIMIZE \\[0\\.0, 10000\\.0\\]$/\t\tconstexpr double COEF_DIST = 7734.428958277094;  \\/\\/ OPTIMIZE [0.0, 10000.0]/'\n",
      "g++ 80_answer.cpp -std=gnu++17 -O2 -DONLINE_JUDGE -o 80_answer.cpp.out\n"
     ]
    },
    {
     "name": "stderr",
     "output_type": "stream",
     "text": [
      "\u001b[32m[I 2021-04-25 13:28:53,504]\u001b[0m Trial 376 finished with value: 1478509.0 and parameters: {'COEF_CENTER_L1': -23.452858906263707, 'COEF_CENTER_L1_SQ': 6.933979567259197, 'COEF_POINT': 38.6351613197937, 'COEF_DIST': 8152.164666408826}. Best is trial 142 with value: 1556780.0.\u001b[0m\n"
     ]
    },
    {
     "name": "stdout",
     "output_type": "stream",
     "text": [
      "callback ok\n",
      "index_parallel=82\n",
      "mkdir: cannot create directory ‘82_out’: File exists\n",
      "mkdir: cannot create directory ‘82_score’: File exists\n",
      "sed -i 81_answer.cpp -e 's/^\t\tconstexpr double COEF_CENTER_L1 = .*;  \\/\\/ OPTIMIZE \\[-100\\.0, 100\\.0\\]$/\t\tconstexpr double COEF_CENTER_L1 = -63.61927665134491;  \\/\\/ OPTIMIZE [-100.0, 100.0]/' -e 's/^\t\tconstexpr double COEF_CENTER_L1_SQ = .*;  \\/\\/ OPTIMIZE \\[0\\.0, 100\\.0\\]$/\t\tconstexpr double COEF_CENTER_L1_SQ = 4.038172939333438;  \\/\\/ OPTIMIZE [0.0, 100.0]/' -e 's/^\t\tconstexpr double COEF_POINT = .*;  \\/\\/ OPTIMIZE \\[0\\.0, 100\\.0\\]$/\t\tconstexpr double COEF_POINT = 36.710342679595975;  \\/\\/ OPTIMIZE [0.0, 100.0]/' -e 's/^\t\tconstexpr double COEF_DIST = .*;  \\/\\/ OPTIMIZE \\[0\\.0, 10000\\.0\\]$/\t\tconstexpr double COEF_DIST = 7764.431631608017;  \\/\\/ OPTIMIZE [0.0, 10000.0]/'\n",
      "g++ 81_answer.cpp -std=gnu++17 -O2 -DONLINE_JUDGE -o 81_answer.cpp.out\n",
      "sed -i 82_answer.cpp -e 's/^\t\tconstexpr double COEF_CENTER_L1 = .*;  \\/\\/ OPTIMIZE \\[-100\\.0, 100\\.0\\]$/\t\tconstexpr double COEF_CENTER_L1 = 74.36070678207808;  \\/\\/ OPTIMIZE [-100.0, 100.0]/' -e 's/^\t\tconstexpr double COEF_CENTER_L1_SQ = .*;  \\/\\/ OPTIMIZE \\[0\\.0, 100\\.0\\]$/\t\tconstexpr double COEF_CENTER_L1_SQ = 0.016055840057968812;  \\/\\/ OPTIMIZE [0.0, 100.0]/' -e 's/^\t\tconstexpr double COEF_POINT = .*;  \\/\\/ OPTIMIZE \\[0\\.0, 100\\.0\\]$/\t\tconstexpr double COEF_POINT = 48.97328359944622;  \\/\\/ OPTIMIZE [0.0, 100.0]/' -e 's/^\t\tconstexpr double COEF_DIST = .*;  \\/\\/ OPTIMIZE \\[0\\.0, 10000\\.0\\]$/\t\tconstexpr double COEF_DIST = 7841.143538841578;  \\/\\/ OPTIMIZE [0.0, 10000.0]/'\n",
      "g++ 82_answer.cpp -std=gnu++17 -O2 -DONLINE_JUDGE -o 82_answer.cpp.out\n"
     ]
    },
    {
     "name": "stderr",
     "output_type": "stream",
     "text": [
      "\u001b[32m[I 2021-04-25 13:28:57,475]\u001b[0m Trial 378 finished with value: 1484364.0 and parameters: {'COEF_CENTER_L1': -23.13155183408172, 'COEF_CENTER_L1_SQ': 6.72561941383215, 'COEF_POINT': 38.26329895376223, 'COEF_DIST': 8189.200629841434}. Best is trial 142 with value: 1556780.0.\u001b[0m\n",
      "\u001b[32m[I 2021-04-25 13:28:57,504]\u001b[0m Trial 377 finished with value: 1485629.0 and parameters: {'COEF_CENTER_L1': 20.303722697167686, 'COEF_CENTER_L1_SQ': 6.4864179635776145, 'COEF_POINT': 54.77183586699189, 'COEF_DIST': 8118.946428369637}. Best is trial 142 with value: 1556780.0.\u001b[0m\n"
     ]
    },
    {
     "name": "stdout",
     "output_type": "stream",
     "text": [
      "callback ok\n",
      "index_parallel=83\n",
      "mkdir: cannot create directory ‘83_out’: File exists\n",
      "callback ok\n",
      "mkdir: cannot create directory ‘83_score’: File exists\n",
      "index_parallel=84\n",
      "mkdir: cannot create directory ‘84_out’: File exists\n",
      "mkdir: cannot create directory ‘84_score’: File exists\n",
      "sed -i 83_answer.cpp -e 's/^\t\tconstexpr double COEF_CENTER_L1 = .*;  \\/\\/ OPTIMIZE \\[-100\\.0, 100\\.0\\]$/\t\tconstexpr double COEF_CENTER_L1 = -65.13940517841122;  \\/\\/ OPTIMIZE [-100.0, 100.0]/' -e 's/^\t\tconstexpr double COEF_CENTER_L1_SQ = .*;  \\/\\/ OPTIMIZE \\[0\\.0, 100\\.0\\]$/\t\tconstexpr double COEF_CENTER_L1_SQ = 0.08881450205827912;  \\/\\/ OPTIMIZE [0.0, 100.0]/' -e 's/^\t\tconstexpr double COEF_POINT = .*;  \\/\\/ OPTIMIZE \\[0\\.0, 100\\.0\\]$/\t\tconstexpr double COEF_POINT = 48.36768528430811;  \\/\\/ OPTIMIZE [0.0, 100.0]/' -e 's/^\t\tconstexpr double COEF_DIST = .*;  \\/\\/ OPTIMIZE \\[0\\.0, 10000\\.0\\]$/\t\tconstexpr double COEF_DIST = 6623.101362096558;  \\/\\/ OPTIMIZE [0.0, 10000.0]/'\n",
      "g++ 83_answer.cpp -std=gnu++17 -O2 -DONLINE_JUDGE -o 83_answer.cpp.out\n",
      "sed -i 84_answer.cpp -e 's/^\t\tconstexpr double COEF_CENTER_L1 = .*;  \\/\\/ OPTIMIZE \\[-100\\.0, 100\\.0\\]$/\t\tconstexpr double COEF_CENTER_L1 = -63.92450979513112;  \\/\\/ OPTIMIZE [-100.0, 100.0]/' -e 's/^\t\tconstexpr double COEF_CENTER_L1_SQ = .*;  \\/\\/ OPTIMIZE \\[0\\.0, 100\\.0\\]$/\t\tconstexpr double COEF_CENTER_L1_SQ = 0.01586125182097317;  \\/\\/ OPTIMIZE [0.0, 100.0]/' -e 's/^\t\tconstexpr double COEF_POINT = .*;  \\/\\/ OPTIMIZE \\[0\\.0, 100\\.0\\]$/\t\tconstexpr double COEF_POINT = 49.8261260443851;  \\/\\/ OPTIMIZE [0.0, 100.0]/' -e 's/^\t\tconstexpr double COEF_DIST = .*;  \\/\\/ OPTIMIZE \\[0\\.0, 10000\\.0\\]$/\t\tconstexpr double COEF_DIST = 6618.215955840671;  \\/\\/ OPTIMIZE [0.0, 10000.0]/'\n",
      "g++ 84_answer.cpp -std=gnu++17 -O2 -DONLINE_JUDGE -o 84_answer.cpp.out\n"
     ]
    },
    {
     "name": "stderr",
     "output_type": "stream",
     "text": [
      "\u001b[32m[I 2021-04-25 13:29:03,061]\u001b[0m Trial 379 finished with value: 1496126.0 and parameters: {'COEF_CENTER_L1': 8.943561340479063, 'COEF_CENTER_L1_SQ': 4.355014749472804, 'COEF_POINT': 38.55808749453933, 'COEF_DIST': 6533.440247886518}. Best is trial 142 with value: 1556780.0.\u001b[0m\n"
     ]
    },
    {
     "name": "stdout",
     "output_type": "stream",
     "text": [
      "callback ok\n",
      "index_parallel=85\n",
      "mkdir: cannot create directory ‘85_out’: File exists\n",
      "mkdir: cannot create directory ‘85_score’: File exists\n"
     ]
    },
    {
     "name": "stderr",
     "output_type": "stream",
     "text": [
      "\u001b[32m[I 2021-04-25 13:29:04,410]\u001b[0m Trial 380 finished with value: 1517842.0 and parameters: {'COEF_CENTER_L1': 9.709953183034536, 'COEF_CENTER_L1_SQ': 3.847166235251441, 'COEF_POINT': 38.90633203900244, 'COEF_DIST': 7734.428958277094}. Best is trial 142 with value: 1556780.0.\u001b[0m\n",
      "\u001b[32m[I 2021-04-25 13:29:04,423]\u001b[0m Trial 381 finished with value: 1488244.0 and parameters: {'COEF_CENTER_L1': -63.61927665134491, 'COEF_CENTER_L1_SQ': 4.038172939333438, 'COEF_POINT': 36.710342679595975, 'COEF_DIST': 7764.431631608017}. Best is trial 142 with value: 1556780.0.\u001b[0m\n"
     ]
    },
    {
     "name": "stdout",
     "output_type": "stream",
     "text": [
      "callback ok\n",
      "callback ok\n",
      "index_parallel=86\n",
      "index_parallel=87\n",
      "mkdir: cannot create directory ‘86_out’: File exists\n",
      "mkdir: cannot create directory ‘87_out’: File exists\n",
      "mkdir: cannot create directory ‘86_score’: File exists\n",
      "mkdir: cannot create directory ‘87_score’: File exists\n",
      "sed -i 85_answer.cpp -e 's/^\t\tconstexpr double COEF_CENTER_L1 = .*;  \\/\\/ OPTIMIZE \\[-100\\.0, 100\\.0\\]$/\t\tconstexpr double COEF_CENTER_L1 = -69.38326538433736;  \\/\\/ OPTIMIZE [-100.0, 100.0]/' -e 's/^\t\tconstexpr double COEF_CENTER_L1_SQ = .*;  \\/\\/ OPTIMIZE \\[0\\.0, 100\\.0\\]$/\t\tconstexpr double COEF_CENTER_L1_SQ = 0.17425495046363526;  \\/\\/ OPTIMIZE [0.0, 100.0]/' -e 's/^\t\tconstexpr double COEF_POINT = .*;  \\/\\/ OPTIMIZE \\[0\\.0, 100\\.0\\]$/\t\tconstexpr double COEF_POINT = 48.25576766619554;  \\/\\/ OPTIMIZE [0.0, 100.0]/' -e 's/^\t\tconstexpr double COEF_DIST = .*;  \\/\\/ OPTIMIZE \\[0\\.0, 10000\\.0\\]$/\t\tconstexpr double COEF_DIST = 7246.94054520528;  \\/\\/ OPTIMIZE [0.0, 10000.0]/'\n",
      "g++ 85_answer.cpp -std=gnu++17 -O2 -DONLINE_JUDGE -o 85_answer.cpp.out\n"
     ]
    },
    {
     "name": "stderr",
     "output_type": "stream",
     "text": [
      "\u001b[32m[I 2021-04-25 13:29:07,957]\u001b[0m Trial 382 finished with value: 1493382.0 and parameters: {'COEF_CENTER_L1': 74.36070678207808, 'COEF_CENTER_L1_SQ': 0.016055840057968812, 'COEF_POINT': 48.97328359944622, 'COEF_DIST': 7841.143538841578}. Best is trial 142 with value: 1556780.0.\u001b[0m\n"
     ]
    },
    {
     "name": "stdout",
     "output_type": "stream",
     "text": [
      "callback ok\n",
      "sed -i 86_answer.cpp -e 's/^\t\tconstexpr double COEF_CENTER_L1 = .*;  \\/\\/ OPTIMIZE \\[-100\\.0, 100\\.0\\]$/\t\tconstexpr double COEF_CENTER_L1 = -2.1955981954629773;  \\/\\/ OPTIMIZE [-100.0, 100.0]/' -e 's/^\t\tconstexpr double COEF_CENTER_L1_SQ = .*;  \\/\\/ OPTIMIZE \\[0\\.0, 100\\.0\\]$/\t\tconstexpr double COEF_CENTER_L1_SQ = 1.5663384331551713;  \\/\\/ OPTIMIZE [0.0, 100.0]/' -e 's/^\t\tconstexpr double COEF_POINT = .*;  \\/\\/ OPTIMIZE \\[0\\.0, 100\\.0\\]$/\t\tconstexpr double COEF_POINT = 47.74442488146673;  \\/\\/ OPTIMIZE [0.0, 100.0]/' -e 's/^\t\tconstexpr double COEF_DIST = .*;  \\/\\/ OPTIMIZE \\[0\\.0, 10000\\.0\\]$/\t\tconstexpr double COEF_DIST = 8521.671140860617;  \\/\\/ OPTIMIZE [0.0, 10000.0]/'\n",
      "g++ 86_answer.cpp -std=gnu++17 -O2 -DONLINE_JUDGE -o 86_answer.cpp.out\n",
      "index_parallel=88\n",
      "mkdir: cannot create directory ‘88_out’: File exists\n",
      "sed -i 87_answer.cpp -e 's/^\t\tconstexpr double COEF_CENTER_L1 = .*;  \\/\\/ OPTIMIZE \\[-100\\.0, 100\\.0\\]$/\t\tconstexpr double COEF_CENTER_L1 = -69.83165434687349;  \\/\\/ OPTIMIZE [-100.0, 100.0]/' -e 's/^\t\tconstexpr double COEF_CENTER_L1_SQ = .*;  \\/\\/ OPTIMIZE \\[0\\.0, 100\\.0\\]$/\t\tconstexpr double COEF_CENTER_L1_SQ = 0.041690242381497544;  \\/\\/ OPTIMIZE [0.0, 100.0]/' -e 's/^\t\tconstexpr double COEF_POINT = .*;  \\/\\/ OPTIMIZE \\[0\\.0, 100\\.0\\]$/\t\tconstexpr double COEF_POINT = 43.24723832039733;  \\/\\/ OPTIMIZE [0.0, 100.0]/' -e 's/^\t\tconstexpr double COEF_DIST = .*;  \\/\\/ OPTIMIZE \\[0\\.0, 10000\\.0\\]$/\t\tconstexpr double COEF_DIST = 8557.473958639943;  \\/\\/ OPTIMIZE [0.0, 10000.0]/'\n",
      "mkdir: cannot create directory ‘88_score’: File exists\n",
      "g++ 87_answer.cpp -std=gnu++17 -O2 -DONLINE_JUDGE -o 87_answer.cpp.out\n",
      "sed -i 88_answer.cpp -e 's/^\t\tconstexpr double COEF_CENTER_L1 = .*;  \\/\\/ OPTIMIZE \\[-100\\.0, 100\\.0\\]$/\t\tconstexpr double COEF_CENTER_L1 = -1.8976559277792473;  \\/\\/ OPTIMIZE [-100.0, 100.0]/' -e 's/^\t\tconstexpr double COEF_CENTER_L1_SQ = .*;  \\/\\/ OPTIMIZE \\[0\\.0, 100\\.0\\]$/\t\tconstexpr double COEF_CENTER_L1_SQ = 13.625735679088557;  \\/\\/ OPTIMIZE [0.0, 100.0]/' -e 's/^\t\tconstexpr double COEF_POINT = .*;  \\/\\/ OPTIMIZE \\[0\\.0, 100\\.0\\]$/\t\tconstexpr double COEF_POINT = 40.773646568554554;  \\/\\/ OPTIMIZE [0.0, 100.0]/' -e 's/^\t\tconstexpr double COEF_DIST = .*;  \\/\\/ OPTIMIZE \\[0\\.0, 10000\\.0\\]$/\t\tconstexpr double COEF_DIST = 8542.88972869879;  \\/\\/ OPTIMIZE [0.0, 10000.0]/'\n"
     ]
    },
    {
     "name": "stderr",
     "output_type": "stream",
     "text": [
      "\u001b[32m[I 2021-04-25 13:29:10,330]\u001b[0m Trial 383 finished with value: 1503359.0 and parameters: {'COEF_CENTER_L1': -65.13940517841122, 'COEF_CENTER_L1_SQ': 0.08881450205827912, 'COEF_POINT': 48.36768528430811, 'COEF_DIST': 6623.101362096558}. Best is trial 142 with value: 1556780.0.\u001b[0m\n",
      "\u001b[32m[I 2021-04-25 13:29:10,341]\u001b[0m Trial 384 finished with value: 1505643.0 and parameters: {'COEF_CENTER_L1': -63.92450979513112, 'COEF_CENTER_L1_SQ': 0.01586125182097317, 'COEF_POINT': 49.8261260443851, 'COEF_DIST': 6618.215955840671}. Best is trial 142 with value: 1556780.0.\u001b[0m\n"
     ]
    },
    {
     "name": "stdout",
     "output_type": "stream",
     "text": [
      "callback ok\n",
      "callback ok\n",
      "g++ 88_answer.cpp -std=gnu++17 -O2 -DONLINE_JUDGE -o 88_answer.cpp.out\n",
      "index_parallel=89\n",
      "mkdir: cannot create directory ‘89_out’: File exists\n",
      "index_parallel=90\n",
      "mkdir: cannot create directory ‘90_out’: File exists\n",
      "mkdir: cannot create directory ‘89_score’: File exists\n",
      "mkdir: cannot create directory ‘90_score’: File exists\n",
      "sed -i 89_answer.cpp -e 's/^\t\tconstexpr double COEF_CENTER_L1 = .*;  \\/\\/ OPTIMIZE \\[-100\\.0, 100\\.0\\]$/\t\tconstexpr double COEF_CENTER_L1 = -70.73948498638725;  \\/\\/ OPTIMIZE [-100.0, 100.0]/' -e 's/^\t\tconstexpr double COEF_CENTER_L1_SQ = .*;  \\/\\/ OPTIMIZE \\[0\\.0, 100\\.0\\]$/\t\tconstexpr double COEF_CENTER_L1_SQ = 3.685635264920011;  \\/\\/ OPTIMIZE [0.0, 100.0]/' -e 's/^\t\tconstexpr double COEF_POINT = .*;  \\/\\/ OPTIMIZE \\[0\\.0, 100\\.0\\]$/\t\tconstexpr double COEF_POINT = 40.70671714521147;  \\/\\/ OPTIMIZE [0.0, 100.0]/' -e 's/^\t\tconstexpr double COEF_DIST = .*;  \\/\\/ OPTIMIZE \\[0\\.0, 10000\\.0\\]$/\t\tconstexpr double COEF_DIST = 6928.693171218941;  \\/\\/ OPTIMIZE [0.0, 10000.0]/'\n",
      "g++ 89_answer.cpp -std=gnu++17 -O2 -DONLINE_JUDGE -o 89_answer.cpp.out\n",
      "sed -i 90_answer.cpp -e 's/^\t\tconstexpr double COEF_CENTER_L1 = .*;  \\/\\/ OPTIMIZE \\[-100\\.0, 100\\.0\\]$/\t\tconstexpr double COEF_CENTER_L1 = -1.128153077627458;  \\/\\/ OPTIMIZE [-100.0, 100.0]/' -e 's/^\t\tconstexpr double COEF_CENTER_L1_SQ = .*;  \\/\\/ OPTIMIZE \\[0\\.0, 100\\.0\\]$/\t\tconstexpr double COEF_CENTER_L1_SQ = 3.5748658920985146;  \\/\\/ OPTIMIZE [0.0, 100.0]/' -e 's/^\t\tconstexpr double COEF_POINT = .*;  \\/\\/ OPTIMIZE \\[0\\.0, 100\\.0\\]$/\t\tconstexpr double COEF_POINT = 41.15222970363076;  \\/\\/ OPTIMIZE [0.0, 100.0]/' -e 's/^\t\tconstexpr double COEF_DIST = .*;  \\/\\/ OPTIMIZE \\[0\\.0, 10000\\.0\\]$/\t\tconstexpr double COEF_DIST = 7241.949687312377;  \\/\\/ OPTIMIZE [0.0, 10000.0]/'\n",
      "g++ 90_answer.cpp -std=gnu++17 -O2 -DONLINE_JUDGE -o 90_answer.cpp.out\n"
     ]
    },
    {
     "name": "stderr",
     "output_type": "stream",
     "text": [
      "\u001b[32m[I 2021-04-25 13:29:15,077]\u001b[0m Trial 385 finished with value: 1508399.0 and parameters: {'COEF_CENTER_L1': -69.38326538433736, 'COEF_CENTER_L1_SQ': 0.17425495046363526, 'COEF_POINT': 48.25576766619554, 'COEF_DIST': 7246.94054520528}. Best is trial 142 with value: 1556780.0.\u001b[0m\n"
     ]
    },
    {
     "name": "stdout",
     "output_type": "stream",
     "text": [
      "callback ok\n",
      "index_parallel=91\n",
      "mkdir: cannot create directory ‘91_out’: File exists\n",
      "mkdir: cannot create directory ‘91_score’: File exists\n",
      "sed -i 91_answer.cpp -e 's/^\t\tconstexpr double COEF_CENTER_L1 = .*;  \\/\\/ OPTIMIZE \\[-100\\.0, 100\\.0\\]$/\t\tconstexpr double COEF_CENTER_L1 = -14.559499613760469;  \\/\\/ OPTIMIZE [-100.0, 100.0]/' -e 's/^\t\tconstexpr double COEF_CENTER_L1_SQ = .*;  \\/\\/ OPTIMIZE \\[0\\.0, 100\\.0\\]$/\t\tconstexpr double COEF_CENTER_L1_SQ = 14.516204787224279;  \\/\\/ OPTIMIZE [0.0, 100.0]/' -e 's/^\t\tconstexpr double COEF_POINT = .*;  \\/\\/ OPTIMIZE \\[0\\.0, 100\\.0\\]$/\t\tconstexpr double COEF_POINT = 40.72070365451573;  \\/\\/ OPTIMIZE [0.0, 100.0]/' -e 's/^\t\tconstexpr double COEF_DIST = .*;  \\/\\/ OPTIMIZE \\[0\\.0, 10000\\.0\\]$/\t\tconstexpr double COEF_DIST = 6911.590079672393;  \\/\\/ OPTIMIZE [0.0, 10000.0]/'\n",
      "g++ 91_answer.cpp -std=gnu++17 -O2 -DONLINE_JUDGE -o 91_answer.cpp.out\n"
     ]
    },
    {
     "name": "stderr",
     "output_type": "stream",
     "text": [
      "\u001b[32m[I 2021-04-25 13:29:18,182]\u001b[0m Trial 386 finished with value: 1520473.0 and parameters: {'COEF_CENTER_L1': -2.1955981954629773, 'COEF_CENTER_L1_SQ': 1.5663384331551713, 'COEF_POINT': 47.74442488146673, 'COEF_DIST': 8521.671140860617}. Best is trial 142 with value: 1556780.0.\u001b[0m\n"
     ]
    },
    {
     "name": "stdout",
     "output_type": "stream",
     "text": [
      "callback ok\n",
      "index_parallel=92\n",
      "mkdir: cannot create directory ‘92_out’: File exists\n",
      "mkdir: cannot create directory ‘92_score’: File exists\n"
     ]
    },
    {
     "name": "stderr",
     "output_type": "stream",
     "text": [
      "\u001b[32m[I 2021-04-25 13:29:19,043]\u001b[0m Trial 387 finished with value: 1476084.0 and parameters: {'COEF_CENTER_L1': -69.83165434687349, 'COEF_CENTER_L1_SQ': 0.041690242381497544, 'COEF_POINT': 43.24723832039733, 'COEF_DIST': 8557.473958639943}. Best is trial 142 with value: 1556780.0.\u001b[0m\n"
     ]
    },
    {
     "name": "stdout",
     "output_type": "stream",
     "text": [
      "callback ok\n",
      "index_parallel=93\n",
      "mkdir: cannot create directory ‘93_out’: File exists\n",
      "mkdir: cannot create directory ‘93_score’: File exists\n",
      "sed -i 92_answer.cpp -e 's/^\t\tconstexpr double COEF_CENTER_L1 = .*;  \\/\\/ OPTIMIZE \\[-100\\.0, 100\\.0\\]$/\t\tconstexpr double COEF_CENTER_L1 = -43.975403636691865;  \\/\\/ OPTIMIZE [-100.0, 100.0]/' -e 's/^\t\tconstexpr double COEF_CENTER_L1_SQ = .*;  \\/\\/ OPTIMIZE \\[0\\.0, 100\\.0\\]$/\t\tconstexpr double COEF_CENTER_L1_SQ = 3.8654334709738674;  \\/\\/ OPTIMIZE [0.0, 100.0]/' -e 's/^\t\tconstexpr double COEF_POINT = .*;  \\/\\/ OPTIMIZE \\[0\\.0, 100\\.0\\]$/\t\tconstexpr double COEF_POINT = 41.34949112627126;  \\/\\/ OPTIMIZE [0.0, 100.0]/' -e 's/^\t\tconstexpr double COEF_DIST = .*;  \\/\\/ OPTIMIZE \\[0\\.0, 10000\\.0\\]$/\t\tconstexpr double COEF_DIST = 6858.645704035682;  \\/\\/ OPTIMIZE [0.0, 10000.0]/'\n",
      "g++ 92_answer.cpp -std=gnu++17 -O2 -DONLINE_JUDGE -o 92_answer.cpp.out\n"
     ]
    },
    {
     "name": "stderr",
     "output_type": "stream",
     "text": [
      "\u001b[32m[I 2021-04-25 13:29:21,215]\u001b[0m Trial 388 finished with value: 1296247.0 and parameters: {'COEF_CENTER_L1': -1.8976559277792473, 'COEF_CENTER_L1_SQ': 13.625735679088557, 'COEF_POINT': 40.773646568554554, 'COEF_DIST': 8542.88972869879}. Best is trial 142 with value: 1556780.0.\u001b[0m\n"
     ]
    },
    {
     "name": "stdout",
     "output_type": "stream",
     "text": [
      "callback ok\n",
      "index_parallel=94\n",
      "mkdir: cannot create directory ‘94_out’: File exists\n",
      "sed -i 93_answer.cpp -e 's/^\t\tconstexpr double COEF_CENTER_L1 = .*;  \\/\\/ OPTIMIZE \\[-100\\.0, 100\\.0\\]$/\t\tconstexpr double COEF_CENTER_L1 = 4.927170209820336;  \\/\\/ OPTIMIZE [-100.0, 100.0]/' -e 's/^\t\tconstexpr double COEF_CENTER_L1_SQ = .*;  \\/\\/ OPTIMIZE \\[0\\.0, 100\\.0\\]$/\t\tconstexpr double COEF_CENTER_L1_SQ = 3.804008099046817;  \\/\\/ OPTIMIZE [0.0, 100.0]/' -e 's/^\t\tconstexpr double COEF_POINT = .*;  \\/\\/ OPTIMIZE \\[0\\.0, 100\\.0\\]$/\t\tconstexpr double COEF_POINT = 36.056854835751736;  \\/\\/ OPTIMIZE [0.0, 100.0]/' -e 's/^\t\tconstexpr double COEF_DIST = .*;  \\/\\/ OPTIMIZE \\[0\\.0, 10000\\.0\\]$/\t\tconstexpr double COEF_DIST = 7010.04737606112;  \\/\\/ OPTIMIZE [0.0, 10000.0]/'\n",
      "mkdir: cannot create directory ‘94_score’: File exists\n",
      "g++ 93_answer.cpp -std=gnu++17 -O2 -DONLINE_JUDGE -o 93_answer.cpp.out\n"
     ]
    },
    {
     "name": "stderr",
     "output_type": "stream",
     "text": [
      "\u001b[32m[I 2021-04-25 13:29:22,555]\u001b[0m Trial 389 finished with value: 1473759.0 and parameters: {'COEF_CENTER_L1': -70.73948498638725, 'COEF_CENTER_L1_SQ': 3.685635264920011, 'COEF_POINT': 40.70671714521147, 'COEF_DIST': 6928.693171218941}. Best is trial 142 with value: 1556780.0.\u001b[0m\n"
     ]
    },
    {
     "name": "stdout",
     "output_type": "stream",
     "text": [
      "callback ok\n"
     ]
    },
    {
     "name": "stderr",
     "output_type": "stream",
     "text": [
      "\u001b[32m[I 2021-04-25 13:29:22,649]\u001b[0m Trial 390 finished with value: 1496195.0 and parameters: {'COEF_CENTER_L1': -1.128153077627458, 'COEF_CENTER_L1_SQ': 3.5748658920985146, 'COEF_POINT': 41.15222970363076, 'COEF_DIST': 7241.949687312377}. Best is trial 142 with value: 1556780.0.\u001b[0m\n"
     ]
    },
    {
     "name": "stdout",
     "output_type": "stream",
     "text": [
      "callback ok\n",
      "index_parallel=96index_parallel=95\n",
      "\n",
      "mkdir: cannot create directory ‘96_out’: File exists\n",
      "mkdir: cannot create directory ‘95_out’: File exists\n",
      "sed -i 94_answer.cpp -e 's/^\t\tconstexpr double COEF_CENTER_L1 = .*;  \\/\\/ OPTIMIZE \\[-100\\.0, 100\\.0\\]$/\t\tconstexpr double COEF_CENTER_L1 = 28.41209151613313;  \\/\\/ OPTIMIZE [-100.0, 100.0]/' -e 's/^\t\tconstexpr double COEF_CENTER_L1_SQ = .*;  \\/\\/ OPTIMIZE \\[0\\.0, 100\\.0\\]$/\t\tconstexpr double COEF_CENTER_L1_SQ = 4.276796173952251;  \\/\\/ OPTIMIZE [0.0, 100.0]/' -e 's/^\t\tconstexpr double COEF_POINT = .*;  \\/\\/ OPTIMIZE \\[0\\.0, 100\\.0\\]$/\t\tconstexpr double COEF_POINT = 36.93749767199713;  \\/\\/ OPTIMIZE [0.0, 100.0]/' -e 's/^\t\tconstexpr double COEF_DIST = .*;  \\/\\/ OPTIMIZE \\[0\\.0, 10000\\.0\\]$/\t\tconstexpr double COEF_DIST = 6950.553426305375;  \\/\\/ OPTIMIZE [0.0, 10000.0]/'\n",
      "mkdir: cannot create directory ‘96_score’: File exists\n",
      "mkdir: cannot create directory ‘95_score’: File exists\n",
      "g++ 94_answer.cpp -std=gnu++17 -O2 -DONLINE_JUDGE -o 94_answer.cpp.out\n",
      "sed -i 96_answer.cpp -e 's/^\t\tconstexpr double COEF_CENTER_L1 = .*;  \\/\\/ OPTIMIZE \\[-100\\.0, 100\\.0\\]$/\t\tconstexpr double COEF_CENTER_L1 = 28.820711339170934;  \\/\\/ OPTIMIZE [-100.0, 100.0]/' -e 's/^\t\tconstexpr double COEF_CENTER_L1_SQ = .*;  \\/\\/ OPTIMIZE \\[0\\.0, 100\\.0\\]$/\t\tconstexpr double COEF_CENTER_L1_SQ = 4.9250588357487635;  \\/\\/ OPTIMIZE [0.0, 100.0]/' -e 's/^\t\tconstexpr double COEF_POINT = .*;  \\/\\/ OPTIMIZE \\[0\\.0, 100\\.0\\]$/\t\tconstexpr double COEF_POINT = 36.43349547886416;  \\/\\/ OPTIMIZE [0.0, 100.0]/' -e 's/^\t\tconstexpr double COEF_DIST = .*;  \\/\\/ OPTIMIZE \\[0\\.0, 10000\\.0\\]$/\t\tconstexpr double COEF_DIST = 6928.58838804002;  \\/\\/ OPTIMIZE [0.0, 10000.0]/'\n",
      "sed -i 95_answer.cpp -e 's/^\t\tconstexpr double COEF_CENTER_L1 = .*;  \\/\\/ OPTIMIZE \\[-100\\.0, 100\\.0\\]$/\t\tconstexpr double COEF_CENTER_L1 = -15.055348089813368;  \\/\\/ OPTIMIZE [-100.0, 100.0]/' -e 's/^\t\tconstexpr double COEF_CENTER_L1_SQ = .*;  \\/\\/ OPTIMIZE \\[0\\.0, 100\\.0\\]$/\t\tconstexpr double COEF_CENTER_L1_SQ = 5.111543297817482;  \\/\\/ OPTIMIZE [0.0, 100.0]/' -e 's/^\t\tconstexpr double COEF_POINT = .*;  \\/\\/ OPTIMIZE \\[0\\.0, 100\\.0\\]$/\t\tconstexpr double COEF_POINT = 36.35128406815354;  \\/\\/ OPTIMIZE [0.0, 100.0]/' -e 's/^\t\tconstexpr double COEF_DIST = .*;  \\/\\/ OPTIMIZE \\[0\\.0, 10000\\.0\\]$/\t\tconstexpr double COEF_DIST = 7551.659678140938;  \\/\\/ OPTIMIZE [0.0, 10000.0]/'\n",
      "g++ 96_answer.cpp -std=gnu++17 -O2 -DONLINE_JUDGE -o 96_answer.cpp.out\n",
      "g++ 95_answer.cpp -std=gnu++17 -O2 -DONLINE_JUDGE -o 95_answer.cpp.out\n"
     ]
    },
    {
     "name": "stderr",
     "output_type": "stream",
     "text": [
      "\u001b[32m[I 2021-04-25 13:29:26,509]\u001b[0m Trial 391 finished with value: 1263996.0 and parameters: {'COEF_CENTER_L1': -14.559499613760469, 'COEF_CENTER_L1_SQ': 14.516204787224279, 'COEF_POINT': 40.72070365451573, 'COEF_DIST': 6911.590079672393}. Best is trial 142 with value: 1556780.0.\u001b[0m\n"
     ]
    },
    {
     "name": "stdout",
     "output_type": "stream",
     "text": [
      "callback ok\n",
      "index_parallel=97\n",
      "mkdir: cannot create directory ‘97_out’: File exists\n",
      "mkdir: cannot create directory ‘97_score’: File exists\n",
      "sed -i 97_answer.cpp -e 's/^\t\tconstexpr double COEF_CENTER_L1 = .*;  \\/\\/ OPTIMIZE \\[-100\\.0, 100\\.0\\]$/\t\tconstexpr double COEF_CENTER_L1 = 8.843805412760723;  \\/\\/ OPTIMIZE [-100.0, 100.0]/' -e 's/^\t\tconstexpr double COEF_CENTER_L1_SQ = .*;  \\/\\/ OPTIMIZE \\[0\\.0, 100\\.0\\]$/\t\tconstexpr double COEF_CENTER_L1_SQ = 5.036592018119377;  \\/\\/ OPTIMIZE [0.0, 100.0]/' -e 's/^\t\tconstexpr double COEF_POINT = .*;  \\/\\/ OPTIMIZE \\[0\\.0, 100\\.0\\]$/\t\tconstexpr double COEF_POINT = 36.146892008773996;  \\/\\/ OPTIMIZE [0.0, 100.0]/' -e 's/^\t\tconstexpr double COEF_DIST = .*;  \\/\\/ OPTIMIZE \\[0\\.0, 10000\\.0\\]$/\t\tconstexpr double COEF_DIST = 7535.2702870841;  \\/\\/ OPTIMIZE [0.0, 10000.0]/'\n",
      "g++ 97_answer.cpp -std=gnu++17 -O2 -DONLINE_JUDGE -o 97_answer.cpp.out\n"
     ]
    },
    {
     "name": "stderr",
     "output_type": "stream",
     "text": [
      "\u001b[32m[I 2021-04-25 13:29:30,296]\u001b[0m Trial 392 finished with value: 1514577.0 and parameters: {'COEF_CENTER_L1': -43.975403636691865, 'COEF_CENTER_L1_SQ': 3.8654334709738674, 'COEF_POINT': 41.34949112627126, 'COEF_DIST': 6858.645704035682}. Best is trial 142 with value: 1556780.0.\u001b[0m\n"
     ]
    },
    {
     "name": "stdout",
     "output_type": "stream",
     "text": [
      "callback ok\n",
      "index_parallel=98\n",
      "mkdir: cannot create directory ‘98_out’: File exists\n",
      "mkdir: cannot create directory ‘98_score’: File exists\n"
     ]
    },
    {
     "name": "stderr",
     "output_type": "stream",
     "text": [
      "\u001b[32m[I 2021-04-25 13:29:32,399]\u001b[0m Trial 393 finished with value: 1500262.0 and parameters: {'COEF_CENTER_L1': 4.927170209820336, 'COEF_CENTER_L1_SQ': 3.804008099046817, 'COEF_POINT': 36.056854835751736, 'COEF_DIST': 7010.04737606112}. Best is trial 142 with value: 1556780.0.\u001b[0m\n"
     ]
    },
    {
     "name": "stdout",
     "output_type": "stream",
     "text": [
      "callback ok\n",
      "index_parallel=99\n",
      "mkdir: cannot create directory ‘99_out’: File exists\n",
      "sed -i 98_answer.cpp -e 's/^\t\tconstexpr double COEF_CENTER_L1 = .*;  \\/\\/ OPTIMIZE \\[-100\\.0, 100\\.0\\]$/\t\tconstexpr double COEF_CENTER_L1 = 9.884890824656917;  \\/\\/ OPTIMIZE [-100.0, 100.0]/' -e 's/^\t\tconstexpr double COEF_CENTER_L1_SQ = .*;  \\/\\/ OPTIMIZE \\[0\\.0, 100\\.0\\]$/\t\tconstexpr double COEF_CENTER_L1_SQ = 9.28735159388048;  \\/\\/ OPTIMIZE [0.0, 100.0]/' -e 's/^\t\tconstexpr double COEF_POINT = .*;  \\/\\/ OPTIMIZE \\[0\\.0, 100\\.0\\]$/\t\tconstexpr double COEF_POINT = 35.811044755698084;  \\/\\/ OPTIMIZE [0.0, 100.0]/' -e 's/^\t\tconstexpr double COEF_DIST = .*;  \\/\\/ OPTIMIZE \\[0\\.0, 10000\\.0\\]$/\t\tconstexpr double COEF_DIST = 7536.8767083321145;  \\/\\/ OPTIMIZE [0.0, 10000.0]/'\n",
      "mkdir: cannot create directory ‘99_score’: File exists\n",
      "g++ 98_answer.cpp -std=gnu++17 -O2 -DONLINE_JUDGE -o 98_answer.cpp.out\n"
     ]
    },
    {
     "name": "stderr",
     "output_type": "stream",
     "text": [
      "\u001b[32m[I 2021-04-25 13:29:33,803]\u001b[0m Trial 394 finished with value: 1498580.0 and parameters: {'COEF_CENTER_L1': 28.41209151613313, 'COEF_CENTER_L1_SQ': 4.276796173952251, 'COEF_POINT': 36.93749767199713, 'COEF_DIST': 6950.553426305375}. Best is trial 142 with value: 1556780.0.\u001b[0m\n"
     ]
    },
    {
     "name": "stdout",
     "output_type": "stream",
     "text": [
      "callback ok\n",
      "index_parallel=0\n",
      "mkdir: cannot create directory ‘0_out’: File exists\n",
      "mkdir: cannot create directory ‘0_score’: File exists\n",
      "sed -i 99_answer.cpp -e 's/^\t\tconstexpr double COEF_CENTER_L1 = .*;  \\/\\/ OPTIMIZE \\[-100\\.0, 100\\.0\\]$/\t\tconstexpr double COEF_CENTER_L1 = 15.03921526698604;  \\/\\/ OPTIMIZE [-100.0, 100.0]/' -e 's/^\t\tconstexpr double COEF_CENTER_L1_SQ = .*;  \\/\\/ OPTIMIZE \\[0\\.0, 100\\.0\\]$/\t\tconstexpr double COEF_CENTER_L1_SQ = 9.015002244730349;  \\/\\/ OPTIMIZE [0.0, 100.0]/' -e 's/^\t\tconstexpr double COEF_POINT = .*;  \\/\\/ OPTIMIZE \\[0\\.0, 100\\.0\\]$/\t\tconstexpr double COEF_POINT = 5.689085773615722;  \\/\\/ OPTIMIZE [0.0, 100.0]/' -e 's/^\t\tconstexpr double COEF_DIST = .*;  \\/\\/ OPTIMIZE \\[0\\.0, 10000\\.0\\]$/\t\tconstexpr double COEF_DIST = 7525.665097042409;  \\/\\/ OPTIMIZE [0.0, 10000.0]/'\n",
      "g++ 99_answer.cpp -std=gnu++17 -O2 -DONLINE_JUDGE -o 99_answer.cpp.out\n",
      "sed -i 0_answer.cpp -e 's/^\t\tconstexpr double COEF_CENTER_L1 = .*;  \\/\\/ OPTIMIZE \\[-100\\.0, 100\\.0\\]$/\t\tconstexpr double COEF_CENTER_L1 = 14.67709795917306;  \\/\\/ OPTIMIZE [-100.0, 100.0]/' -e 's/^\t\tconstexpr double COEF_CENTER_L1_SQ = .*;  \\/\\/ OPTIMIZE \\[0\\.0, 100\\.0\\]$/\t\tconstexpr double COEF_CENTER_L1_SQ = 9.601638067580781;  \\/\\/ OPTIMIZE [0.0, 100.0]/' -e 's/^\t\tconstexpr double COEF_POINT = .*;  \\/\\/ OPTIMIZE \\[0\\.0, 100\\.0\\]$/\t\tconstexpr double COEF_POINT = 44.1378090859849;  \\/\\/ OPTIMIZE [0.0, 100.0]/' -e 's/^\t\tconstexpr double COEF_DIST = .*;  \\/\\/ OPTIMIZE \\[0\\.0, 10000\\.0\\]$/\t\tconstexpr double COEF_DIST = 7605.745097964091;  \\/\\/ OPTIMIZE [0.0, 10000.0]/'\n",
      "g++ 0_answer.cpp -std=gnu++17 -O2 -DONLINE_JUDGE -o 0_answer.cpp.out\n"
     ]
    },
    {
     "name": "stderr",
     "output_type": "stream",
     "text": [
      "\u001b[32m[I 2021-04-25 13:29:35,731]\u001b[0m Trial 396 finished with value: 1460136.0 and parameters: {'COEF_CENTER_L1': 28.820711339170934, 'COEF_CENTER_L1_SQ': 4.9250588357487635, 'COEF_POINT': 36.43349547886416, 'COEF_DIST': 6928.58838804002}. Best is trial 142 with value: 1556780.0.\u001b[0m\n"
     ]
    },
    {
     "name": "stdout",
     "output_type": "stream",
     "text": [
      "callback ok\n",
      "index_parallel=1\n",
      "mkdir: cannot create directory ‘1_out’: File exists\n"
     ]
    },
    {
     "name": "stderr",
     "output_type": "stream",
     "text": [
      "\u001b[32m[I 2021-04-25 13:29:36,352]\u001b[0m Trial 395 finished with value: 1518866.0 and parameters: {'COEF_CENTER_L1': -15.055348089813368, 'COEF_CENTER_L1_SQ': 5.111543297817482, 'COEF_POINT': 36.35128406815354, 'COEF_DIST': 7551.659678140938}. Best is trial 142 with value: 1556780.0.\u001b[0m\n"
     ]
    },
    {
     "name": "stdout",
     "output_type": "stream",
     "text": [
      "callback ok\n",
      "mkdir: cannot create directory ‘1_score’: File exists\n",
      "index_parallel=2\n",
      "mkdir: cannot create directory ‘2_out’: File exists\n",
      "mkdir: cannot create directory ‘2_score’: File exists\n",
      "sed -i 1_answer.cpp -e 's/^\t\tconstexpr double COEF_CENTER_L1 = .*;  \\/\\/ OPTIMIZE \\[-100\\.0, 100\\.0\\]$/\t\tconstexpr double COEF_CENTER_L1 = 15.456774197540984;  \\/\\/ OPTIMIZE [-100.0, 100.0]/' -e 's/^\t\tconstexpr double COEF_CENTER_L1_SQ = .*;  \\/\\/ OPTIMIZE \\[0\\.0, 100\\.0\\]$/\t\tconstexpr double COEF_CENTER_L1_SQ = 8.483723919574182;  \\/\\/ OPTIMIZE [0.0, 100.0]/' -e 's/^\t\tconstexpr double COEF_POINT = .*;  \\/\\/ OPTIMIZE \\[0\\.0, 100\\.0\\]$/\t\tconstexpr double COEF_POINT = 43.94988667450562;  \\/\\/ OPTIMIZE [0.0, 100.0]/' -e 's/^\t\tconstexpr double COEF_DIST = .*;  \\/\\/ OPTIMIZE \\[0\\.0, 10000\\.0\\]$/\t\tconstexpr double COEF_DIST = 7275.490522906335;  \\/\\/ OPTIMIZE [0.0, 10000.0]/'\n",
      "g++ 1_answer.cpp -std=gnu++17 -O2 -DONLINE_JUDGE -o 1_answer.cpp.out\n",
      "sed -i 2_answer.cpp -e 's/^\t\tconstexpr double COEF_CENTER_L1 = .*;  \\/\\/ OPTIMIZE \\[-100\\.0, 100\\.0\\]$/\t\tconstexpr double COEF_CENTER_L1 = 7.5143963783085965;  \\/\\/ OPTIMIZE [-100.0, 100.0]/' -e 's/^\t\tconstexpr double COEF_CENTER_L1_SQ = .*;  \\/\\/ OPTIMIZE \\[0\\.0, 100\\.0\\]$/\t\tconstexpr double COEF_CENTER_L1_SQ = 9.50378923021616;  \\/\\/ OPTIMIZE [0.0, 100.0]/' -e 's/^\t\tconstexpr double COEF_POINT = .*;  \\/\\/ OPTIMIZE \\[0\\.0, 100\\.0\\]$/\t\tconstexpr double COEF_POINT = 43.899902463830756;  \\/\\/ OPTIMIZE [0.0, 100.0]/' -e 's/^\t\tconstexpr double COEF_DIST = .*;  \\/\\/ OPTIMIZE \\[0\\.0, 10000\\.0\\]$/\t\tconstexpr double COEF_DIST = 7205.900432804093;  \\/\\/ OPTIMIZE [0.0, 10000.0]/'\n"
     ]
    },
    {
     "name": "stderr",
     "output_type": "stream",
     "text": [
      "\u001b[32m[I 2021-04-25 13:29:39,758]\u001b[0m Trial 397 finished with value: 1485332.0 and parameters: {'COEF_CENTER_L1': 8.843805412760723, 'COEF_CENTER_L1_SQ': 5.036592018119377, 'COEF_POINT': 36.146892008773996, 'COEF_DIST': 7535.2702870841}. Best is trial 142 with value: 1556780.0.\u001b[0m\n"
     ]
    },
    {
     "name": "stdout",
     "output_type": "stream",
     "text": [
      "callback ok\n",
      "g++ 2_answer.cpp -std=gnu++17 -O2 -DONLINE_JUDGE -o 2_answer.cpp.out\n",
      "index_parallel=3\n",
      "mkdir: cannot create directory ‘3_out’: File exists\n",
      "mkdir: cannot create directory ‘3_score’: File exists\n",
      "sed -i 3_answer.cpp -e 's/^\t\tconstexpr double COEF_CENTER_L1 = .*;  \\/\\/ OPTIMIZE \\[-100\\.0, 100\\.0\\]$/\t\tconstexpr double COEF_CENTER_L1 = 17.264051765710995;  \\/\\/ OPTIMIZE [-100.0, 100.0]/' -e 's/^\t\tconstexpr double COEF_CENTER_L1_SQ = .*;  \\/\\/ OPTIMIZE \\[0\\.0, 100\\.0\\]$/\t\tconstexpr double COEF_CENTER_L1_SQ = 8.565423532387634;  \\/\\/ OPTIMIZE [0.0, 100.0]/' -e 's/^\t\tconstexpr double COEF_POINT = .*;  \\/\\/ OPTIMIZE \\[0\\.0, 100\\.0\\]$/\t\tconstexpr double COEF_POINT = 43.92550871211442;  \\/\\/ OPTIMIZE [0.0, 100.0]/' -e 's/^\t\tconstexpr double COEF_DIST = .*;  \\/\\/ OPTIMIZE \\[0\\.0, 10000\\.0\\]$/\t\tconstexpr double COEF_DIST = 7178.598783269228;  \\/\\/ OPTIMIZE [0.0, 10000.0]/'\n",
      "g++ 3_answer.cpp -std=gnu++17 -O2 -DONLINE_JUDGE -o 3_answer.cpp.out\n"
     ]
    },
    {
     "name": "stderr",
     "output_type": "stream",
     "text": [
      "\u001b[32m[I 2021-04-25 13:29:42,687]\u001b[0m Trial 398 finished with value: 1365633.0 and parameters: {'COEF_CENTER_L1': 9.884890824656917, 'COEF_CENTER_L1_SQ': 9.28735159388048, 'COEF_POINT': 35.811044755698084, 'COEF_DIST': 7536.8767083321145}. Best is trial 142 with value: 1556780.0.\u001b[0m\n"
     ]
    },
    {
     "name": "stdout",
     "output_type": "stream",
     "text": [
      "callback ok\n",
      "index_parallel=4\n",
      "mkdir: cannot create directory ‘4_out’: File exists\n",
      "mkdir: cannot create directory ‘4_score’: File exists\n",
      "sed -i 4_answer.cpp -e 's/^\t\tconstexpr double COEF_CENTER_L1 = .*;  \\/\\/ OPTIMIZE \\[-100\\.0, 100\\.0\\]$/\t\tconstexpr double COEF_CENTER_L1 = 17.124397352857947;  \\/\\/ OPTIMIZE [-100.0, 100.0]/' -e 's/^\t\tconstexpr double COEF_CENTER_L1_SQ = .*;  \\/\\/ OPTIMIZE \\[0\\.0, 100\\.0\\]$/\t\tconstexpr double COEF_CENTER_L1_SQ = 2.253995757694417;  \\/\\/ OPTIMIZE [0.0, 100.0]/' -e 's/^\t\tconstexpr double COEF_POINT = .*;  \\/\\/ OPTIMIZE \\[0\\.0, 100\\.0\\]$/\t\tconstexpr double COEF_POINT = 5.886770841597488;  \\/\\/ OPTIMIZE [0.0, 100.0]/' -e 's/^\t\tconstexpr double COEF_DIST = .*;  \\/\\/ OPTIMIZE \\[0\\.0, 10000\\.0\\]$/\t\tconstexpr double COEF_DIST = 7221.14224128038;  \\/\\/ OPTIMIZE [0.0, 10000.0]/'\n",
      "g++ 4_answer.cpp -std=gnu++17 -O2 -DONLINE_JUDGE -o 4_answer.cpp.out\n"
     ]
    },
    {
     "name": "stderr",
     "output_type": "stream",
     "text": [
      "\u001b[32m[I 2021-04-25 13:29:45,790]\u001b[0m Trial 399 finished with value: 1284555.0 and parameters: {'COEF_CENTER_L1': 15.03921526698604, 'COEF_CENTER_L1_SQ': 9.015002244730349, 'COEF_POINT': 5.689085773615722, 'COEF_DIST': 7525.665097042409}. Best is trial 142 with value: 1556780.0.\u001b[0m\n"
     ]
    },
    {
     "name": "stdout",
     "output_type": "stream",
     "text": [
      "callback ok\n",
      "index_parallel=5\n",
      "mkdir: cannot create directory ‘5_out’: File exists\n",
      "mkdir: cannot create directory ‘5_score’: File exists\n"
     ]
    },
    {
     "name": "stderr",
     "output_type": "stream",
     "text": [
      "\u001b[32m[I 2021-04-25 13:29:46,255]\u001b[0m Trial 400 finished with value: 1423273.0 and parameters: {'COEF_CENTER_L1': 14.67709795917306, 'COEF_CENTER_L1_SQ': 9.601638067580781, 'COEF_POINT': 44.1378090859849, 'COEF_DIST': 7605.745097964091}. Best is trial 142 with value: 1556780.0.\u001b[0m\n"
     ]
    },
    {
     "name": "stdout",
     "output_type": "stream",
     "text": [
      "callback ok\n",
      "index_parallel=6\n",
      "mkdir: cannot create directory ‘6_out’: File exists\n",
      "mkdir: cannot create directory ‘6_score’: File exists\n",
      "sed -i 5_answer.cpp -e 's/^\t\tconstexpr double COEF_CENTER_L1 = .*;  \\/\\/ OPTIMIZE \\[-100\\.0, 100\\.0\\]$/\t\tconstexpr double COEF_CENTER_L1 = 54.57876582693584;  \\/\\/ OPTIMIZE [-100.0, 100.0]/' -e 's/^\t\tconstexpr double COEF_CENTER_L1_SQ = .*;  \\/\\/ OPTIMIZE \\[0\\.0, 100\\.0\\]$/\t\tconstexpr double COEF_CENTER_L1_SQ = 1.939246223829087;  \\/\\/ OPTIMIZE [0.0, 100.0]/' -e 's/^\t\tconstexpr double COEF_POINT = .*;  \\/\\/ OPTIMIZE \\[0\\.0, 100\\.0\\]$/\t\tconstexpr double COEF_POINT = 42.9462304216933;  \\/\\/ OPTIMIZE [0.0, 100.0]/' -e 's/^\t\tconstexpr double COEF_DIST = .*;  \\/\\/ OPTIMIZE \\[0\\.0, 10000\\.0\\]$/\t\tconstexpr double COEF_DIST = 7303.838761797495;  \\/\\/ OPTIMIZE [0.0, 10000.0]/'\n",
      "g++ 5_answer.cpp -std=gnu++17 -O2 -DONLINE_JUDGE -o 5_answer.cpp.out\n",
      "sed -i 6_answer.cpp -e 's/^\t\tconstexpr double COEF_CENTER_L1 = .*;  \\/\\/ OPTIMIZE \\[-100\\.0, 100\\.0\\]$/\t\tconstexpr double COEF_CENTER_L1 = -86.82769276615403;  \\/\\/ OPTIMIZE [-100.0, 100.0]/' -e 's/^\t\tconstexpr double COEF_CENTER_L1_SQ = .*;  \\/\\/ OPTIMIZE \\[0\\.0, 100\\.0\\]$/\t\tconstexpr double COEF_CENTER_L1_SQ = 2.1523627764477737;  \\/\\/ OPTIMIZE [0.0, 100.0]/' -e 's/^\t\tconstexpr double COEF_POINT = .*;  \\/\\/ OPTIMIZE \\[0\\.0, 100\\.0\\]$/\t\tconstexpr double COEF_POINT = 31.704272620067876;  \\/\\/ OPTIMIZE [0.0, 100.0]/' -e 's/^\t\tconstexpr double COEF_DIST = .*;  \\/\\/ OPTIMIZE \\[0\\.0, 10000\\.0\\]$/\t\tconstexpr double COEF_DIST = 7196.08140114894;  \\/\\/ OPTIMIZE [0.0, 10000.0]/'\n",
      "g++ 6_answer.cpp -std=gnu++17 -O2 -DONLINE_JUDGE -o 6_answer.cpp.out\n"
     ]
    },
    {
     "name": "stderr",
     "output_type": "stream",
     "text": [
      "\u001b[32m[I 2021-04-25 13:29:51,320]\u001b[0m Trial 401 finished with value: 1395307.0 and parameters: {'COEF_CENTER_L1': 15.456774197540984, 'COEF_CENTER_L1_SQ': 8.483723919574182, 'COEF_POINT': 43.94988667450562, 'COEF_DIST': 7275.490522906335}. Best is trial 142 with value: 1556780.0.\u001b[0m\n"
     ]
    },
    {
     "name": "stdout",
     "output_type": "stream",
     "text": [
      "callback ok\n",
      "index_parallel=7\n",
      "mkdir: cannot create directory ‘7_out’: File exists\n"
     ]
    },
    {
     "name": "stderr",
     "output_type": "stream",
     "text": [
      "\u001b[32m[I 2021-04-25 13:29:51,460]\u001b[0m Trial 402 finished with value: 1406589.0 and parameters: {'COEF_CENTER_L1': 7.5143963783085965, 'COEF_CENTER_L1_SQ': 9.50378923021616, 'COEF_POINT': 43.899902463830756, 'COEF_DIST': 7205.900432804093}. Best is trial 142 with value: 1556780.0.\u001b[0m\n"
     ]
    },
    {
     "name": "stdout",
     "output_type": "stream",
     "text": [
      "callback ok\n",
      "mkdir: cannot create directory ‘7_score’: File exists\n",
      "index_parallel=8\n",
      "mkdir: cannot create directory ‘8_out’: File exists\n",
      "mkdir: cannot create directory ‘8_score’: File exists\n"
     ]
    },
    {
     "name": "stderr",
     "output_type": "stream",
     "text": [
      "\u001b[32m[I 2021-04-25 13:29:53,449]\u001b[0m Trial 403 finished with value: 1409310.0 and parameters: {'COEF_CENTER_L1': 17.264051765710995, 'COEF_CENTER_L1_SQ': 8.565423532387634, 'COEF_POINT': 43.92550871211442, 'COEF_DIST': 7178.598783269228}. Best is trial 142 with value: 1556780.0.\u001b[0m\n"
     ]
    },
    {
     "name": "stdout",
     "output_type": "stream",
     "text": [
      "callback ok\n",
      "sed -i 7_answer.cpp -e 's/^\t\tconstexpr double COEF_CENTER_L1 = .*;  \\/\\/ OPTIMIZE \\[-100\\.0, 100\\.0\\]$/\t\tconstexpr double COEF_CENTER_L1 = -87.80449505873463;  \\/\\/ OPTIMIZE [-100.0, 100.0]/' -e 's/^\t\tconstexpr double COEF_CENTER_L1_SQ = .*;  \\/\\/ OPTIMIZE \\[0\\.0, 100\\.0\\]$/\t\tconstexpr double COEF_CENTER_L1_SQ = 1.8024168309710658;  \\/\\/ OPTIMIZE [0.0, 100.0]/' -e 's/^\t\tconstexpr double COEF_POINT = .*;  \\/\\/ OPTIMIZE \\[0\\.0, 100\\.0\\]$/\t\tconstexpr double COEF_POINT = 32.78302381417497;  \\/\\/ OPTIMIZE [0.0, 100.0]/' -e 's/^\t\tconstexpr double COEF_DIST = .*;  \\/\\/ OPTIMIZE \\[0\\.0, 10000\\.0\\]$/\t\tconstexpr double COEF_DIST = 9085.27375387657;  \\/\\/ OPTIMIZE [0.0, 10000.0]/'\n",
      "g++ 7_answer.cpp -std=gnu++17 -O2 -DONLINE_JUDGE -o 7_answer.cpp.out\n",
      "index_parallel=9\n",
      "mkdir: cannot create directory ‘9_out’: File exists\n",
      "sed -i 8_answer.cpp -e 's/^\t\tconstexpr double COEF_CENTER_L1 = .*;  \\/\\/ OPTIMIZE \\[-100\\.0, 100\\.0\\]$/\t\tconstexpr double COEF_CENTER_L1 = -9.961911275559444;  \\/\\/ OPTIMIZE [-100.0, 100.0]/' -e 's/^\t\tconstexpr double COEF_CENTER_L1_SQ = .*;  \\/\\/ OPTIMIZE \\[0\\.0, 100\\.0\\]$/\t\tconstexpr double COEF_CENTER_L1_SQ = 1.1975389005168453;  \\/\\/ OPTIMIZE [0.0, 100.0]/' -e 's/^\t\tconstexpr double COEF_POINT = .*;  \\/\\/ OPTIMIZE \\[0\\.0, 100\\.0\\]$/\t\tconstexpr double COEF_POINT = 46.52113304158178;  \\/\\/ OPTIMIZE [0.0, 100.0]/' -e 's/^\t\tconstexpr double COEF_DIST = .*;  \\/\\/ OPTIMIZE \\[0\\.0, 10000\\.0\\]$/\t\tconstexpr double COEF_DIST = 6712.886110848791;  \\/\\/ OPTIMIZE [0.0, 10000.0]/'\n",
      "mkdir: cannot create directory ‘9_score’: File exists\n",
      "g++ 8_answer.cpp -std=gnu++17 -O2 -DONLINE_JUDGE -o 8_answer.cpp.out\n",
      "sed -i 9_answer.cpp -e 's/^\t\tconstexpr double COEF_CENTER_L1 = .*;  \\/\\/ OPTIMIZE \\[-100\\.0, 100\\.0\\]$/\t\tconstexpr double COEF_CENTER_L1 = -87.09584309231786;  \\/\\/ OPTIMIZE [-100.0, 100.0]/' -e 's/^\t\tconstexpr double COEF_CENTER_L1_SQ = .*;  \\/\\/ OPTIMIZE \\[0\\.0, 100\\.0\\]$/\t\tconstexpr double COEF_CENTER_L1_SQ = 1.5525222932347642;  \\/\\/ OPTIMIZE [0.0, 100.0]/' -e 's/^\t\tconstexpr double COEF_POINT = .*;  \\/\\/ OPTIMIZE \\[0\\.0, 100\\.0\\]$/\t\tconstexpr double COEF_POINT = 10.399312715292934;  \\/\\/ OPTIMIZE [0.0, 100.0]/' -e 's/^\t\tconstexpr double COEF_DIST = .*;  \\/\\/ OPTIMIZE \\[0\\.0, 10000\\.0\\]$/\t\tconstexpr double COEF_DIST = 9071.342527956836;  \\/\\/ OPTIMIZE [0.0, 10000.0]/'\n",
      "g++ 9_answer.cpp -std=gnu++17 -O2 -DONLINE_JUDGE -o 9_answer.cpp.out\n"
     ]
    },
    {
     "name": "stderr",
     "output_type": "stream",
     "text": [
      "\u001b[32m[I 2021-04-25 13:29:55,580]\u001b[0m Trial 404 finished with value: 1446958.0 and parameters: {'COEF_CENTER_L1': 17.124397352857947, 'COEF_CENTER_L1_SQ': 2.253995757694417, 'COEF_POINT': 5.886770841597488, 'COEF_DIST': 7221.14224128038}. Best is trial 142 with value: 1556780.0.\u001b[0m\n"
     ]
    },
    {
     "name": "stdout",
     "output_type": "stream",
     "text": [
      "callback ok\n",
      "index_parallel=10\n",
      "mkdir: cannot create directory ‘10_out’: File exists\n",
      "mkdir: cannot create directory ‘10_score’: File exists\n",
      "sed -i 10_answer.cpp -e 's/^\t\tconstexpr double COEF_CENTER_L1 = .*;  \\/\\/ OPTIMIZE \\[-100\\.0, 100\\.0\\]$/\t\tconstexpr double COEF_CENTER_L1 = 64.91188723143802;  \\/\\/ OPTIMIZE [-100.0, 100.0]/' -e 's/^\t\tconstexpr double COEF_CENTER_L1_SQ = .*;  \\/\\/ OPTIMIZE \\[0\\.0, 100\\.0\\]$/\t\tconstexpr double COEF_CENTER_L1_SQ = 1.719109608919227;  \\/\\/ OPTIMIZE [0.0, 100.0]/' -e 's/^\t\tconstexpr double COEF_POINT = .*;  \\/\\/ OPTIMIZE \\[0\\.0, 100\\.0\\]$/\t\tconstexpr double COEF_POINT = 13.546736724160757;  \\/\\/ OPTIMIZE [0.0, 100.0]/' -e 's/^\t\tconstexpr double COEF_DIST = .*;  \\/\\/ OPTIMIZE \\[0\\.0, 10000\\.0\\]$/\t\tconstexpr double COEF_DIST = 9026.621470340973;  \\/\\/ OPTIMIZE [0.0, 10000.0]/'\n",
      "g++ 10_answer.cpp -std=gnu++17 -O2 -DONLINE_JUDGE -o 10_answer.cpp.out\n"
     ]
    },
    {
     "name": "stderr",
     "output_type": "stream",
     "text": [
      "\u001b[32m[I 2021-04-25 13:29:59,113]\u001b[0m Trial 405 finished with value: 1489239.0 and parameters: {'COEF_CENTER_L1': 54.57876582693584, 'COEF_CENTER_L1_SQ': 1.939246223829087, 'COEF_POINT': 42.9462304216933, 'COEF_DIST': 7303.838761797495}. Best is trial 142 with value: 1556780.0.\u001b[0m\n"
     ]
    },
    {
     "name": "stdout",
     "output_type": "stream",
     "text": [
      "callback ok\n",
      "index_parallel=11\n",
      "mkdir: cannot create directory ‘11_out’: File exists\n"
     ]
    },
    {
     "name": "stderr",
     "output_type": "stream",
     "text": [
      "\u001b[32m[I 2021-04-25 13:29:59,422]\u001b[0m Trial 406 finished with value: 1459605.0 and parameters: {'COEF_CENTER_L1': -86.82769276615403, 'COEF_CENTER_L1_SQ': 2.1523627764477737, 'COEF_POINT': 31.704272620067876, 'COEF_DIST': 7196.08140114894}. Best is trial 142 with value: 1556780.0.\u001b[0m\n"
     ]
    },
    {
     "name": "stdout",
     "output_type": "stream",
     "text": [
      "callback ok\n",
      "mkdir: cannot create directory ‘11_score’: File exists\n",
      "index_parallel=12\n",
      "mkdir: cannot create directory ‘12_out’: File exists\n",
      "mkdir: cannot create directory ‘12_score’: File exists\n",
      "sed -i 11_answer.cpp -e 's/^\t\tconstexpr double COEF_CENTER_L1 = .*;  \\/\\/ OPTIMIZE \\[-100\\.0, 100\\.0\\]$/\t\tconstexpr double COEF_CENTER_L1 = 59.001340133167915;  \\/\\/ OPTIMIZE [-100.0, 100.0]/' -e 's/^\t\tconstexpr double COEF_CENTER_L1_SQ = .*;  \\/\\/ OPTIMIZE \\[0\\.0, 100\\.0\\]$/\t\tconstexpr double COEF_CENTER_L1_SQ = 6.464816426785582;  \\/\\/ OPTIMIZE [0.0, 100.0]/' -e 's/^\t\tconstexpr double COEF_POINT = .*;  \\/\\/ OPTIMIZE \\[0\\.0, 100\\.0\\]$/\t\tconstexpr double COEF_POINT = 10.627732215333983;  \\/\\/ OPTIMIZE [0.0, 100.0]/' -e 's/^\t\tconstexpr double COEF_DIST = .*;  \\/\\/ OPTIMIZE \\[0\\.0, 10000\\.0\\]$/\t\tconstexpr double COEF_DIST = 7869.601058810619;  \\/\\/ OPTIMIZE [0.0, 10000.0]/'\n",
      "g++ 11_answer.cpp -std=gnu++17 -O2 -DONLINE_JUDGE -o 11_answer.cpp.out\n",
      "sed -i 12_answer.cpp -e 's/^\t\tconstexpr double COEF_CENTER_L1 = .*;  \\/\\/ OPTIMIZE \\[-100\\.0, 100\\.0\\]$/\t\tconstexpr double COEF_CENTER_L1 = 65.23159122932026;  \\/\\/ OPTIMIZE [-100.0, 100.0]/' -e 's/^\t\tconstexpr double COEF_CENTER_L1_SQ = .*;  \\/\\/ OPTIMIZE \\[0\\.0, 100\\.0\\]$/\t\tconstexpr double COEF_CENTER_L1_SQ = 6.389673519678724;  \\/\\/ OPTIMIZE [0.0, 100.0]/' -e 's/^\t\tconstexpr double COEF_POINT = .*;  \\/\\/ OPTIMIZE \\[0\\.0, 100\\.0\\]$/\t\tconstexpr double COEF_POINT = 12.900321117447445;  \\/\\/ OPTIMIZE [0.0, 100.0]/' -e 's/^\t\tconstexpr double COEF_DIST = .*;  \\/\\/ OPTIMIZE \\[0\\.0, 10000\\.0\\]$/\t\tconstexpr double COEF_DIST = 5730.811466419187;  \\/\\/ OPTIMIZE [0.0, 10000.0]/'\n",
      "g++ 12_answer.cpp -std=gnu++17 -O2 -DONLINE_JUDGE -o 12_answer.cpp.out\n"
     ]
    },
    {
     "name": "stderr",
     "output_type": "stream",
     "text": [
      "\u001b[32m[I 2021-04-25 13:30:06,114]\u001b[0m Trial 409 finished with value: 1318200.0 and parameters: {'COEF_CENTER_L1': -87.09584309231786, 'COEF_CENTER_L1_SQ': 1.5525222932347642, 'COEF_POINT': 10.399312715292934, 'COEF_DIST': 9071.342527956836}. Best is trial 142 with value: 1556780.0.\u001b[0m\n",
      "\u001b[32m[I 2021-04-25 13:30:06,136]\u001b[0m Trial 408 finished with value: 1481891.0 and parameters: {'COEF_CENTER_L1': -9.961911275559444, 'COEF_CENTER_L1_SQ': 1.1975389005168453, 'COEF_POINT': 46.52113304158178, 'COEF_DIST': 6712.886110848791}. Best is trial 142 with value: 1556780.0.\u001b[0m\n",
      "\u001b[32m[I 2021-04-25 13:30:06,137]\u001b[0m Trial 407 finished with value: 1447432.0 and parameters: {'COEF_CENTER_L1': -87.80449505873463, 'COEF_CENTER_L1_SQ': 1.8024168309710658, 'COEF_POINT': 32.78302381417497, 'COEF_DIST': 9085.27375387657}. Best is trial 142 with value: 1556780.0.\u001b[0m\n"
     ]
    },
    {
     "name": "stdout",
     "output_type": "stream",
     "text": [
      "callback ok\n",
      "callback ok\n",
      "callback ok\n",
      "index_parallel=13index_parallel=14\n",
      "\n",
      "mkdir: cannot create directory ‘14_out’: File exists\n",
      "mkdir: cannot create directory ‘13_out’: File exists\n",
      "index_parallel=15\n",
      "mkdir: cannot create directory ‘15_out’: File exists\n",
      "mkdir: cannot create directory ‘13_score’: File exists\n",
      "mkdir: cannot create directory ‘14_score’: File exists\n",
      "mkdir: cannot create directory ‘15_score’: File exists\n",
      "sed -i 13_answer.cpp -e 's/^\t\tconstexpr double COEF_CENTER_L1 = .*;  \\/\\/ OPTIMIZE \\[-100\\.0, 100\\.0\\]$/\t\tconstexpr double COEF_CENTER_L1 = 64.37134707132971;  \\/\\/ OPTIMIZE [-100.0, 100.0]/' -e 's/^\t\tconstexpr double COEF_CENTER_L1_SQ = .*;  \\/\\/ OPTIMIZE \\[0\\.0, 100\\.0\\]$/\t\tconstexpr double COEF_CENTER_L1_SQ = 6.645060395697454;  \\/\\/ OPTIMIZE [0.0, 100.0]/' -e 's/^\t\tconstexpr double COEF_POINT = .*;  \\/\\/ OPTIMIZE \\[0\\.0, 100\\.0\\]$/\t\tconstexpr double COEF_POINT = 50.98929316593607;  \\/\\/ OPTIMIZE [0.0, 100.0]/' -e 's/^\t\tconstexpr double COEF_DIST = .*;  \\/\\/ OPTIMIZE \\[0\\.0, 10000\\.0\\]$/\t\tconstexpr double COEF_DIST = 7768.071575227801;  \\/\\/ OPTIMIZE [0.0, 10000.0]/'\n",
      "sed -i 14_answer.cpp -e 's/^\t\tconstexpr double COEF_CENTER_L1 = .*;  \\/\\/ OPTIMIZE \\[-100\\.0, 100\\.0\\]$/\t\tconstexpr double COEF_CENTER_L1 = 64.87525870865619;  \\/\\/ OPTIMIZE [-100.0, 100.0]/' -e 's/^\t\tconstexpr double COEF_CENTER_L1_SQ = .*;  \\/\\/ OPTIMIZE \\[0\\.0, 100\\.0\\]$/\t\tconstexpr double COEF_CENTER_L1_SQ = 6.496953632503853;  \\/\\/ OPTIMIZE [0.0, 100.0]/' -e 's/^\t\tconstexpr double COEF_POINT = .*;  \\/\\/ OPTIMIZE \\[0\\.0, 100\\.0\\]$/\t\tconstexpr double COEF_POINT = 40.06002080257563;  \\/\\/ OPTIMIZE [0.0, 100.0]/' -e 's/^\t\tconstexpr double COEF_DIST = .*;  \\/\\/ OPTIMIZE \\[0\\.0, 10000\\.0\\]$/\t\tconstexpr double COEF_DIST = 7927.77195703939;  \\/\\/ OPTIMIZE [0.0, 10000.0]/'\n",
      "g++ 13_answer.cpp -std=gnu++17 -O2 -DONLINE_JUDGE -o 13_answer.cpp.out\n",
      "g++ 14_answer.cpp -std=gnu++17 -O2 -DONLINE_JUDGE -o 14_answer.cpp.out\n"
     ]
    },
    {
     "name": "stderr",
     "output_type": "stream",
     "text": [
      "\u001b[32m[I 2021-04-25 13:30:10,188]\u001b[0m Trial 410 finished with value: 1520949.0 and parameters: {'COEF_CENTER_L1': 64.91188723143802, 'COEF_CENTER_L1_SQ': 1.719109608919227, 'COEF_POINT': 13.546736724160757, 'COEF_DIST': 9026.621470340973}. Best is trial 142 with value: 1556780.0.\u001b[0m\n"
     ]
    },
    {
     "name": "stdout",
     "output_type": "stream",
     "text": [
      "callback ok\n",
      "index_parallel=16\n",
      "mkdir: cannot create directory ‘16_out’: File exists\n",
      "sed -i 15_answer.cpp -e 's/^\t\tconstexpr double COEF_CENTER_L1 = .*;  \\/\\/ OPTIMIZE \\[-100\\.0, 100\\.0\\]$/\t\tconstexpr double COEF_CENTER_L1 = -82.6914324047938;  \\/\\/ OPTIMIZE [-100.0, 100.0]/' -e 's/^\t\tconstexpr double COEF_CENTER_L1_SQ = .*;  \\/\\/ OPTIMIZE \\[0\\.0, 100\\.0\\]$/\t\tconstexpr double COEF_CENTER_L1_SQ = 6.38397162789307;  \\/\\/ OPTIMIZE [0.0, 100.0]/' -e 's/^\t\tconstexpr double COEF_POINT = .*;  \\/\\/ OPTIMIZE \\[0\\.0, 100\\.0\\]$/\t\tconstexpr double COEF_POINT = 51.534566253186576;  \\/\\/ OPTIMIZE [0.0, 100.0]/' -e 's/^\t\tconstexpr double COEF_DIST = .*;  \\/\\/ OPTIMIZE \\[0\\.0, 10000\\.0\\]$/\t\tconstexpr double COEF_DIST = 7843.321245993985;  \\/\\/ OPTIMIZE [0.0, 10000.0]/'\n",
      "mkdir: cannot create directory ‘16_score’: File exists\n",
      "g++ 15_answer.cpp -std=gnu++17 -O2 -DONLINE_JUDGE -o 15_answer.cpp.out\n"
     ]
    },
    {
     "name": "stderr",
     "output_type": "stream",
     "text": [
      "\u001b[32m[I 2021-04-25 13:30:11,602]\u001b[0m Trial 412 finished with value: 1324533.0 and parameters: {'COEF_CENTER_L1': 65.23159122932026, 'COEF_CENTER_L1_SQ': 6.389673519678724, 'COEF_POINT': 12.900321117447445, 'COEF_DIST': 5730.811466419187}. Best is trial 142 with value: 1556780.0.\u001b[0m\n"
     ]
    },
    {
     "name": "stdout",
     "output_type": "stream",
     "text": [
      "callback oksed -i 16_answer.cpp -e 's/^\t\tconstexpr double COEF_CENTER_L1 = .*;  \\/\\/ OPTIMIZE \\[-100\\.0, 100\\.0\\]$/\t\tconstexpr double COEF_CENTER_L1 = -57.65483635812006;  \\/\\/ OPTIMIZE [-100.0, 100.0]/' -e 's/^\t\tconstexpr double COEF_CENTER_L1_SQ = .*;  \\/\\/ OPTIMIZE \\[0\\.0, 100\\.0\\]$/\t\tconstexpr double COEF_CENTER_L1_SQ = 6.8887071316331925;  \\/\\/ OPTIMIZE [0.0, 100.0]/' -e 's/^\t\tconstexpr double COEF_POINT = .*;  \\/\\/ OPTIMIZE \\[0\\.0, 100\\.0\\]$/\t\tconstexpr double COEF_POINT = 39.59759175099475;  \\/\\/ OPTIMIZE [0.0, 100.0]/' -e 's/^\t\tconstexpr double COEF_DIST = .*;  \\/\\/ OPTIMIZE \\[0\\.0, 10000\\.0\\]$/\t\tconstexpr double COEF_DIST = 6287.191951869132;  \\/\\/ OPTIMIZE [0.0, 10000.0]/'\n",
      "\n"
     ]
    },
    {
     "name": "stderr",
     "output_type": "stream",
     "text": [
      "\u001b[32m[I 2021-04-25 13:30:11,696]\u001b[0m Trial 411 finished with value: 1347430.0 and parameters: {'COEF_CENTER_L1': 59.001340133167915, 'COEF_CENTER_L1_SQ': 6.464816426785582, 'COEF_POINT': 10.627732215333983, 'COEF_DIST': 7869.601058810619}. Best is trial 142 with value: 1556780.0.\u001b[0m\n"
     ]
    },
    {
     "name": "stdout",
     "output_type": "stream",
     "text": [
      "index_parallel=17\n",
      "callback ok\n",
      "mkdir: cannot create directory ‘17_out’: File exists\n",
      "index_parallel=18\n",
      "mkdir: cannot create directory ‘18_out’: File exists\n",
      "g++ 16_answer.cpp -std=gnu++17 -O2 -DONLINE_JUDGE -o 16_answer.cpp.out\n",
      "mkdir: cannot create directory ‘17_score’: File exists\n",
      "mkdir: cannot create directory ‘18_score’: File exists\n",
      "sed -i 17_answer.cpp -e 's/^\t\tconstexpr double COEF_CENTER_L1 = .*;  \\/\\/ OPTIMIZE \\[-100\\.0, 100\\.0\\]$/\t\tconstexpr double COEF_CENTER_L1 = -56.61614777986003;  \\/\\/ OPTIMIZE [-100.0, 100.0]/' -e 's/^\t\tconstexpr double COEF_CENTER_L1_SQ = .*;  \\/\\/ OPTIMIZE \\[0\\.0, 100\\.0\\]$/\t\tconstexpr double COEF_CENTER_L1_SQ = 6.127773361637068;  \\/\\/ OPTIMIZE [0.0, 100.0]/' -e 's/^\t\tconstexpr double COEF_POINT = .*;  \\/\\/ OPTIMIZE \\[0\\.0, 100\\.0\\]$/\t\tconstexpr double COEF_POINT = 51.603709601179595;  \\/\\/ OPTIMIZE [0.0, 100.0]/' -e 's/^\t\tconstexpr double COEF_DIST = .*;  \\/\\/ OPTIMIZE \\[0\\.0, 10000\\.0\\]$/\t\tconstexpr double COEF_DIST = 6378.335262446261;  \\/\\/ OPTIMIZE [0.0, 10000.0]/'\n",
      "sed -i 18_answer.cpp -e 's/^\t\tconstexpr double COEF_CENTER_L1 = .*;  \\/\\/ OPTIMIZE \\[-100\\.0, 100\\.0\\]$/\t\tconstexpr double COEF_CENTER_L1 = 3.5014601717238154;  \\/\\/ OPTIMIZE [-100.0, 100.0]/' -e 's/^\t\tconstexpr double COEF_CENTER_L1_SQ = .*;  \\/\\/ OPTIMIZE \\[0\\.0, 100\\.0\\]$/\t\tconstexpr double COEF_CENTER_L1_SQ = 5.741970268190796;  \\/\\/ OPTIMIZE [0.0, 100.0]/' -e 's/^\t\tconstexpr double COEF_POINT = .*;  \\/\\/ OPTIMIZE \\[0\\.0, 100\\.0\\]$/\t\tconstexpr double COEF_POINT = 39.48219864588045;  \\/\\/ OPTIMIZE [0.0, 100.0]/' -e 's/^\t\tconstexpr double COEF_DIST = .*;  \\/\\/ OPTIMIZE \\[0\\.0, 10000\\.0\\]$/\t\tconstexpr double COEF_DIST = 6305.954272063731;  \\/\\/ OPTIMIZE [0.0, 10000.0]/'\n",
      "g++ 17_answer.cpp -std=gnu++17 -O2 -DONLINE_JUDGE -o 17_answer.cpp.out\n",
      "g++ 18_answer.cpp -std=gnu++17 -O2 -DONLINE_JUDGE -o 18_answer.cpp.out\n"
     ]
    },
    {
     "name": "stderr",
     "output_type": "stream",
     "text": [
      "\u001b[32m[I 2021-04-25 13:30:20,353]\u001b[0m Trial 414 finished with value: 1406576.0 and parameters: {'COEF_CENTER_L1': 64.87525870865619, 'COEF_CENTER_L1_SQ': 6.496953632503853, 'COEF_POINT': 40.06002080257563, 'COEF_DIST': 7927.77195703939}. Best is trial 142 with value: 1556780.0.\u001b[0m\n"
     ]
    },
    {
     "name": "stdout",
     "output_type": "stream",
     "text": [
      "callback ok\n",
      "index_parallel=19\n",
      "mkdir: cannot create directory ‘19_out’: File exists\n"
     ]
    },
    {
     "name": "stderr",
     "output_type": "stream",
     "text": [
      "\u001b[32m[I 2021-04-25 13:30:20,551]\u001b[0m Trial 413 finished with value: 1421001.0 and parameters: {'COEF_CENTER_L1': 64.37134707132971, 'COEF_CENTER_L1_SQ': 6.645060395697454, 'COEF_POINT': 50.98929316593607, 'COEF_DIST': 7768.071575227801}. Best is trial 142 with value: 1556780.0.\u001b[0m\n"
     ]
    },
    {
     "name": "stdout",
     "output_type": "stream",
     "text": [
      "callback ok\n",
      "mkdir: cannot create directory ‘19_score’: File exists\n",
      "index_parallel=20\n",
      "mkdir: cannot create directory ‘20_out’: File exists\n",
      "mkdir: cannot create directory ‘20_score’: File exists\n"
     ]
    },
    {
     "name": "stderr",
     "output_type": "stream",
     "text": [
      "\u001b[32m[I 2021-04-25 13:30:20,835]\u001b[0m Trial 415 finished with value: 1511643.0 and parameters: {'COEF_CENTER_L1': -82.6914324047938, 'COEF_CENTER_L1_SQ': 6.38397162789307, 'COEF_POINT': 51.534566253186576, 'COEF_DIST': 7843.321245993985}. Best is trial 142 with value: 1556780.0.\u001b[0m\n"
     ]
    },
    {
     "name": "stdout",
     "output_type": "stream",
     "text": [
      "callback ok\n",
      "index_parallel=21\n",
      "mkdir: cannot create directory ‘21_out’: File exists\n",
      "mkdir: cannot create directory ‘21_score’: File exists\n"
     ]
    },
    {
     "name": "stderr",
     "output_type": "stream",
     "text": [
      "\u001b[32m[I 2021-04-25 13:30:22,862]\u001b[0m Trial 416 finished with value: 1411840.0 and parameters: {'COEF_CENTER_L1': -57.65483635812006, 'COEF_CENTER_L1_SQ': 6.8887071316331925, 'COEF_POINT': 39.59759175099475, 'COEF_DIST': 6287.191951869132}. Best is trial 142 with value: 1556780.0.\u001b[0m\n"
     ]
    },
    {
     "name": "stdout",
     "output_type": "stream",
     "text": [
      "sed -i 19_answer.cpp -e 's/^\t\tconstexpr double COEF_CENTER_L1 = .*;  \\/\\/ OPTIMIZE \\[-100\\.0, 100\\.0\\]$/\t\tconstexpr double COEF_CENTER_L1 = 4.676364705055078;  \\/\\/ OPTIMIZE [-100.0, 100.0]/' -e 's/^\t\tconstexpr double COEF_CENTER_L1_SQ = .*;  \\/\\/ OPTIMIZE \\[0\\.0, 100\\.0\\]$/\t\tconstexpr double COEF_CENTER_L1_SQ = 3.8212418739341207;  \\/\\/ OPTIMIZE [0.0, 100.0]/' -e 's/^\t\tconstexpr double COEF_POINT = .*;  \\/\\/ OPTIMIZE \\[0\\.0, 100\\.0\\]$/\t\tconstexpr double COEF_POINT = 38.9057770157778;  \\/\\/ OPTIMIZE [0.0, 100.0]/' -e 's/^\t\tconstexpr double COEF_DIST = .*;  \\/\\/ OPTIMIZE \\[0\\.0, 10000\\.0\\]$/\t\tconstexpr double COEF_DIST = 6409.403171934251;  \\/\\/ OPTIMIZE [0.0, 10000.0]/'\n",
      "g++ 19_answer.cpp -std=gnu++17 -O2 -DONLINE_JUDGE -o 19_answer.cpp.out\n",
      "callback ok\n",
      "sed -i 20_answer.cpp -e 's/^\t\tconstexpr double COEF_CENTER_L1 = .*;  \\/\\/ OPTIMIZE \\[-100\\.0, 100\\.0\\]$/\t\tconstexpr double COEF_CENTER_L1 = 3.5973746945392717;  \\/\\/ OPTIMIZE [-100.0, 100.0]/' -e 's/^\t\tconstexpr double COEF_CENTER_L1_SQ = .*;  \\/\\/ OPTIMIZE \\[0\\.0, 100\\.0\\]$/\t\tconstexpr double COEF_CENTER_L1_SQ = 3.752581564083682;  \\/\\/ OPTIMIZE [0.0, 100.0]/' -e 's/^\t\tconstexpr double COEF_POINT = .*;  \\/\\/ OPTIMIZE \\[0\\.0, 100\\.0\\]$/\t\tconstexpr double COEF_POINT = 38.65569170379429;  \\/\\/ OPTIMIZE [0.0, 100.0]/' -e 's/^\t\tconstexpr double COEF_DIST = .*;  \\/\\/ OPTIMIZE \\[0\\.0, 10000\\.0\\]$/\t\tconstexpr double COEF_DIST = 8313.506046103888;  \\/\\/ OPTIMIZE [0.0, 10000.0]/'\n",
      "g++ 20_answer.cpp -std=gnu++17 -O2 -DONLINE_JUDGE -o 20_answer.cpp.out\n",
      "index_parallel=22\n",
      "mkdir: cannot create directory ‘22_out’: File exists\n"
     ]
    },
    {
     "name": "stderr",
     "output_type": "stream",
     "text": [
      "\u001b[32m[I 2021-04-25 13:30:23,427]\u001b[0m Trial 417 finished with value: 1464493.0 and parameters: {'COEF_CENTER_L1': -56.61614777986003, 'COEF_CENTER_L1_SQ': 6.127773361637068, 'COEF_POINT': 51.603709601179595, 'COEF_DIST': 6378.335262446261}. Best is trial 142 with value: 1556780.0.\u001b[0m\n"
     ]
    },
    {
     "name": "stdout",
     "output_type": "stream",
     "text": [
      "callback ok\n",
      "mkdir: cannot create directory ‘22_score’: File exists\n",
      "sed -i 21_answer.cpp -e 's/^\t\tconstexpr double COEF_CENTER_L1 = .*;  \\/\\/ OPTIMIZE \\[-100\\.0, 100\\.0\\]$/\t\tconstexpr double COEF_CENTER_L1 = 23.771893286604254;  \\/\\/ OPTIMIZE [-100.0, 100.0]/' -e 's/^\t\tconstexpr double COEF_CENTER_L1_SQ = .*;  \\/\\/ OPTIMIZE \\[0\\.0, 100\\.0\\]$/\t\tconstexpr double COEF_CENTER_L1_SQ = 3.6495020856392957;  \\/\\/ OPTIMIZE [0.0, 100.0]/' -e 's/^\t\tconstexpr double COEF_POINT = .*;  \\/\\/ OPTIMIZE \\[0\\.0, 100\\.0\\]$/\t\tconstexpr double COEF_POINT = 38.73060013413794;  \\/\\/ OPTIMIZE [0.0, 100.0]/' -e 's/^\t\tconstexpr double COEF_DIST = .*;  \\/\\/ OPTIMIZE \\[0\\.0, 10000\\.0\\]$/\t\tconstexpr double COEF_DIST = 8354.653977884396;  \\/\\/ OPTIMIZE [0.0, 10000.0]/'\n",
      "index_parallel=23\n",
      "mkdir: cannot create directory ‘23_out’: File exists\n"
     ]
    },
    {
     "name": "stderr",
     "output_type": "stream",
     "text": [
      "\u001b[32m[I 2021-04-25 13:30:23,582]\u001b[0m Trial 418 finished with value: 1424947.0 and parameters: {'COEF_CENTER_L1': 3.5014601717238154, 'COEF_CENTER_L1_SQ': 5.741970268190796, 'COEF_POINT': 39.48219864588045, 'COEF_DIST': 6305.954272063731}. Best is trial 142 with value: 1556780.0.\u001b[0m\n"
     ]
    },
    {
     "name": "stdout",
     "output_type": "stream",
     "text": [
      "callback ok\n",
      "index_parallel=24\n",
      "mkdir: cannot create directory ‘24_out’: File exists\n",
      "g++ 21_answer.cpp -std=gnu++17 -O2 -DONLINE_JUDGE -o 21_answer.cpp.out\n",
      "mkdir: cannot create directory ‘23_score’: File exists\n",
      "mkdir: cannot create directory ‘24_score’: File exists\n",
      "sed -i 22_answer.cpp -e 's/^\t\tconstexpr double COEF_CENTER_L1 = .*;  \\/\\/ OPTIMIZE \\[-100\\.0, 100\\.0\\]$/\t\tconstexpr double COEF_CENTER_L1 = 22.902210175984273;  \\/\\/ OPTIMIZE [-100.0, 100.0]/' -e 's/^\t\tconstexpr double COEF_CENTER_L1_SQ = .*;  \\/\\/ OPTIMIZE \\[0\\.0, 100\\.0\\]$/\t\tconstexpr double COEF_CENTER_L1_SQ = 0.0255374964677726;  \\/\\/ OPTIMIZE [0.0, 100.0]/' -e 's/^\t\tconstexpr double COEF_POINT = .*;  \\/\\/ OPTIMIZE \\[0\\.0, 100\\.0\\]$/\t\tconstexpr double COEF_POINT = 38.167439175264434;  \\/\\/ OPTIMIZE [0.0, 100.0]/' -e 's/^\t\tconstexpr double COEF_DIST = .*;  \\/\\/ OPTIMIZE \\[0\\.0, 10000\\.0\\]$/\t\tconstexpr double COEF_DIST = 8428.122617181121;  \\/\\/ OPTIMIZE [0.0, 10000.0]/'\n",
      "g++ 22_answer.cpp -std=gnu++17 -O2 -DONLINE_JUDGE -o 22_answer.cpp.out\n",
      "sed -i 23_answer.cpp -e 's/^\t\tconstexpr double COEF_CENTER_L1 = .*;  \\/\\/ OPTIMIZE \\[-100\\.0, 100\\.0\\]$/\t\tconstexpr double COEF_CENTER_L1 = -0.6387420749757897;  \\/\\/ OPTIMIZE [-100.0, 100.0]/' -e 's/^\t\tconstexpr double COEF_CENTER_L1_SQ = .*;  \\/\\/ OPTIMIZE \\[0\\.0, 100\\.0\\]$/\t\tconstexpr double COEF_CENTER_L1_SQ = 55.16087328250492;  \\/\\/ OPTIMIZE [0.0, 100.0]/' -e 's/^\t\tconstexpr double COEF_POINT = .*;  \\/\\/ OPTIMIZE \\[0\\.0, 100\\.0\\]$/\t\tconstexpr double COEF_POINT = 46.60481087438392;  \\/\\/ OPTIMIZE [0.0, 100.0]/' -e 's/^\t\tconstexpr double COEF_DIST = .*;  \\/\\/ OPTIMIZE \\[0\\.0, 10000\\.0\\]$/\t\tconstexpr double COEF_DIST = 8365.623611020714;  \\/\\/ OPTIMIZE [0.0, 10000.0]/'\n",
      "sed -i 24_answer.cpp -e 's/^\t\tconstexpr double COEF_CENTER_L1 = .*;  \\/\\/ OPTIMIZE \\[-100\\.0, 100\\.0\\]$/\t\tconstexpr double COEF_CENTER_L1 = -5.512742273055204;  \\/\\/ OPTIMIZE [-100.0, 100.0]/' -e 's/^\t\tconstexpr double COEF_CENTER_L1_SQ = .*;  \\/\\/ OPTIMIZE \\[0\\.0, 100\\.0\\]$/\t\tconstexpr double COEF_CENTER_L1_SQ = 3.570335405664518;  \\/\\/ OPTIMIZE [0.0, 100.0]/' -e 's/^\t\tconstexpr double COEF_POINT = .*;  \\/\\/ OPTIMIZE \\[0\\.0, 100\\.0\\]$/\t\tconstexpr double COEF_POINT = 46.27242641434375;  \\/\\/ OPTIMIZE [0.0, 100.0]/' -e 's/^\t\tconstexpr double COEF_DIST = .*;  \\/\\/ OPTIMIZE \\[0\\.0, 10000\\.0\\]$/\t\tconstexpr double COEF_DIST = 8682.59266916461;  \\/\\/ OPTIMIZE [0.0, 10000.0]/'\n",
      "g++ 23_answer.cpp -std=gnu++17 -O2 -DONLINE_JUDGE -o 23_answer.cpp.out\n",
      "g++ 24_answer.cpp -std=gnu++17 -O2 -DONLINE_JUDGE -o 24_answer.cpp.out\n"
     ]
    },
    {
     "name": "stderr",
     "output_type": "stream",
     "text": [
      "\u001b[32m[I 2021-04-25 13:30:33,350]\u001b[0m Trial 419 finished with value: 1514045.0 and parameters: {'COEF_CENTER_L1': 4.676364705055078, 'COEF_CENTER_L1_SQ': 3.8212418739341207, 'COEF_POINT': 38.9057770157778, 'COEF_DIST': 6409.403171934251}. Best is trial 142 with value: 1556780.0.\u001b[0m\n"
     ]
    },
    {
     "name": "stdout",
     "output_type": "stream",
     "text": [
      "callback ok\n",
      "index_parallel=25\n",
      "mkdir: cannot create directory ‘25_out’: File exists\n",
      "mkdir: cannot create directory ‘25_score’: File exists\n"
     ]
    },
    {
     "name": "stderr",
     "output_type": "stream",
     "text": [
      "\u001b[32m[I 2021-04-25 13:30:34,026]\u001b[0m Trial 420 finished with value: 1498297.0 and parameters: {'COEF_CENTER_L1': 3.5973746945392717, 'COEF_CENTER_L1_SQ': 3.752581564083682, 'COEF_POINT': 38.65569170379429, 'COEF_DIST': 8313.506046103888}. Best is trial 142 with value: 1556780.0.\u001b[0m\n"
     ]
    },
    {
     "name": "stdout",
     "output_type": "stream",
     "text": [
      "callback ok\n",
      "index_parallel=26\n",
      "mkdir: cannot create directory ‘26_out’: File exists\n",
      "mkdir: cannot create directory ‘26_score’: File exists\n"
     ]
    },
    {
     "name": "stderr",
     "output_type": "stream",
     "text": [
      "\u001b[32m[I 2021-04-25 13:30:34,925]\u001b[0m Trial 421 finished with value: 1498677.0 and parameters: {'COEF_CENTER_L1': 23.771893286604254, 'COEF_CENTER_L1_SQ': 3.6495020856392957, 'COEF_POINT': 38.73060013413794, 'COEF_DIST': 8354.653977884396}. Best is trial 142 with value: 1556780.0.\u001b[0m\n"
     ]
    },
    {
     "name": "stdout",
     "output_type": "stream",
     "text": [
      "callback ok\n"
     ]
    },
    {
     "name": "stderr",
     "output_type": "stream",
     "text": [
      "\u001b[32m[I 2021-04-25 13:30:35,084]\u001b[0m Trial 423 finished with value: 739267.0 and parameters: {'COEF_CENTER_L1': -0.6387420749757897, 'COEF_CENTER_L1_SQ': 55.16087328250492, 'COEF_POINT': 46.60481087438392, 'COEF_DIST': 8365.623611020714}. Best is trial 142 with value: 1556780.0.\u001b[0m\n",
      "\u001b[32m[I 2021-04-25 13:30:35,121]\u001b[0m Trial 422 finished with value: 1457288.0 and parameters: {'COEF_CENTER_L1': 22.902210175984273, 'COEF_CENTER_L1_SQ': 0.0255374964677726, 'COEF_POINT': 38.167439175264434, 'COEF_DIST': 8428.122617181121}. Best is trial 142 with value: 1556780.0.\u001b[0m\n"
     ]
    },
    {
     "name": "stdout",
     "output_type": "stream",
     "text": [
      "callback ok\n",
      "callback ok\n",
      "index_parallel=27\n",
      "mkdir: cannot create directory ‘27_out’: File exists\n",
      "index_parallel=28\n",
      "mkdir: cannot create directory ‘28_out’: File exists\n",
      "mkdir: cannot create directory ‘27_score’: File exists\n",
      "index_parallel=29\n",
      "mkdir: cannot create directory ‘29_out’: File exists\n"
     ]
    },
    {
     "name": "stderr",
     "output_type": "stream",
     "text": [
      "\u001b[32m[I 2021-04-25 13:30:35,441]\u001b[0m Trial 424 finished with value: 1526385.0 and parameters: {'COEF_CENTER_L1': -5.512742273055204, 'COEF_CENTER_L1_SQ': 3.570335405664518, 'COEF_POINT': 46.27242641434375, 'COEF_DIST': 8682.59266916461}. Best is trial 142 with value: 1556780.0.\u001b[0m\n"
     ]
    },
    {
     "name": "stdout",
     "output_type": "stream",
     "text": [
      "sed -i 25_answer.cpp -e 's/^\t\tconstexpr double COEF_CENTER_L1 = .*;  \\/\\/ OPTIMIZE \\[-100\\.0, 100\\.0\\]$/\t\tconstexpr double COEF_CENTER_L1 = 24.209385663760674;  \\/\\/ OPTIMIZE [-100.0, 100.0]/' -e 's/^\t\tconstexpr double COEF_CENTER_L1_SQ = .*;  \\/\\/ OPTIMIZE \\[0\\.0, 100\\.0\\]$/\t\tconstexpr double COEF_CENTER_L1_SQ = 54.92737457435021;  \\/\\/ OPTIMIZE [0.0, 100.0]/' -e 's/^\t\tconstexpr double COEF_POINT = .*;  \\/\\/ OPTIMIZE \\[0\\.0, 100\\.0\\]$/\t\tconstexpr double COEF_POINT = 42.24756757894296;  \\/\\/ OPTIMIZE [0.0, 100.0]/' -e 's/^\t\tconstexpr double COEF_DIST = .*;  \\/\\/ OPTIMIZE \\[0\\.0, 10000\\.0\\]$/\t\tconstexpr double COEF_DIST = 7409.825269975837;  \\/\\/ OPTIMIZE [0.0, 10000.0]/'\n",
      "mkdir: cannot create directory ‘28_score’: File exists\n",
      "callback ok\n",
      "index_parallel=30\n",
      "mkdir: cannot create directory ‘29_score’: File exists\n",
      "mkdir: cannot create directory ‘30_out’: File exists\n",
      "sed -i 26_answer.cpp -e 's/^\t\tconstexpr double COEF_CENTER_L1 = .*;  \\/\\/ OPTIMIZE \\[-100\\.0, 100\\.0\\]$/\t\tconstexpr double COEF_CENTER_L1 = -78.74267185658408;  \\/\\/ OPTIMIZE [-100.0, 100.0]/' -e 's/^\t\tconstexpr double COEF_CENTER_L1_SQ = .*;  \\/\\/ OPTIMIZE \\[0\\.0, 100\\.0\\]$/\t\tconstexpr double COEF_CENTER_L1_SQ = 3.328895677872427;  \\/\\/ OPTIMIZE [0.0, 100.0]/' -e 's/^\t\tconstexpr double COEF_POINT = .*;  \\/\\/ OPTIMIZE \\[0\\.0, 100\\.0\\]$/\t\tconstexpr double COEF_POINT = 45.62574834068211;  \\/\\/ OPTIMIZE [0.0, 100.0]/' -e 's/^\t\tconstexpr double COEF_DIST = .*;  \\/\\/ OPTIMIZE \\[0\\.0, 10000\\.0\\]$/\t\tconstexpr double COEF_DIST = 8716.300627887786;  \\/\\/ OPTIMIZE [0.0, 10000.0]/'\n",
      "g++ 25_answer.cpp -std=gnu++17 -O2 -DONLINE_JUDGE -o 25_answer.cpp.out\n",
      "mkdir: cannot create directory ‘30_score’: File exists\n",
      "g++ 26_answer.cpp -std=gnu++17 -O2 -DONLINE_JUDGE -o 26_answer.cpp.out\n",
      "sed -i 27_answer.cpp -e 's/^\t\tconstexpr double COEF_CENTER_L1 = .*;  \\/\\/ OPTIMIZE \\[-100\\.0, 100\\.0\\]$/\t\tconstexpr double COEF_CENTER_L1 = -6.994057453471204;  \\/\\/ OPTIMIZE [-100.0, 100.0]/' -e 's/^\t\tconstexpr double COEF_CENTER_L1_SQ = .*;  \\/\\/ OPTIMIZE \\[0\\.0, 100\\.0\\]$/\t\tconstexpr double COEF_CENTER_L1_SQ = 0.09845275696580558;  \\/\\/ OPTIMIZE [0.0, 100.0]/' -e 's/^\t\tconstexpr double COEF_POINT = .*;  \\/\\/ OPTIMIZE \\[0\\.0, 100\\.0\\]$/\t\tconstexpr double COEF_POINT = 46.44588305413515;  \\/\\/ OPTIMIZE [0.0, 100.0]/' -e 's/^\t\tconstexpr double COEF_DIST = .*;  \\/\\/ OPTIMIZE \\[0\\.0, 10000\\.0\\]$/\t\tconstexpr double COEF_DIST = 8659.379780444884;  \\/\\/ OPTIMIZE [0.0, 10000.0]/'\n",
      "g++ 27_answer.cpp -std=gnu++17 -O2 -DONLINE_JUDGE -o 27_answer.cpp.out\n",
      "sed -i 28_answer.cpp -e 's/^\t\tconstexpr double COEF_CENTER_L1 = .*;  \\/\\/ OPTIMIZE \\[-100\\.0, 100\\.0\\]$/\t\tconstexpr double COEF_CENTER_L1 = -6.351526640714063;  \\/\\/ OPTIMIZE [-100.0, 100.0]/' -e 's/^\t\tconstexpr double COEF_CENTER_L1_SQ = .*;  \\/\\/ OPTIMIZE \\[0\\.0, 100\\.0\\]$/\t\tconstexpr double COEF_CENTER_L1_SQ = 0.21096151774395056;  \\/\\/ OPTIMIZE [0.0, 100.0]/' -e 's/^\t\tconstexpr double COEF_POINT = .*;  \\/\\/ OPTIMIZE \\[0\\.0, 100\\.0\\]$/\t\tconstexpr double COEF_POINT = 46.39909153341502;  \\/\\/ OPTIMIZE [0.0, 100.0]/' -e 's/^\t\tconstexpr double COEF_DIST = .*;  \\/\\/ OPTIMIZE \\[0\\.0, 10000\\.0\\]$/\t\tconstexpr double COEF_DIST = 8692.523935419968;  \\/\\/ OPTIMIZE [0.0, 10000.0]/'\n",
      "g++ 28_answer.cpp -std=gnu++17 -O2 -DONLINE_JUDGE -o 28_answer.cpp.out\n",
      "sed -i 29_answer.cpp -e 's/^\t\tconstexpr double COEF_CENTER_L1 = .*;  \\/\\/ OPTIMIZE \\[-100\\.0, 100\\.0\\]$/\t\tconstexpr double COEF_CENTER_L1 = -8.44309430159949;  \\/\\/ OPTIMIZE [-100.0, 100.0]/' -e 's/^\t\tconstexpr double COEF_CENTER_L1_SQ = .*;  \\/\\/ OPTIMIZE \\[0\\.0, 100\\.0\\]$/\t\tconstexpr double COEF_CENTER_L1_SQ = 3.0963467433963485;  \\/\\/ OPTIMIZE [0.0, 100.0]/' -e 's/^\t\tconstexpr double COEF_POINT = .*;  \\/\\/ OPTIMIZE \\[0\\.0, 100\\.0\\]$/\t\tconstexpr double COEF_POINT = 48.18148461807432;  \\/\\/ OPTIMIZE [0.0, 100.0]/' -e 's/^\t\tconstexpr double COEF_DIST = .*;  \\/\\/ OPTIMIZE \\[0\\.0, 10000\\.0\\]$/\t\tconstexpr double COEF_DIST = 8951.345214452178;  \\/\\/ OPTIMIZE [0.0, 10000.0]/'\n",
      "sed -i 30_answer.cpp -e 's/^\t\tconstexpr double COEF_CENTER_L1 = .*;  \\/\\/ OPTIMIZE \\[-100\\.0, 100\\.0\\]$/\t\tconstexpr double COEF_CENTER_L1 = -7.204297365343394;  \\/\\/ OPTIMIZE [-100.0, 100.0]/' -e 's/^\t\tconstexpr double COEF_CENTER_L1_SQ = .*;  \\/\\/ OPTIMIZE \\[0\\.0, 100\\.0\\]$/\t\tconstexpr double COEF_CENTER_L1_SQ = 3.0978889101157767;  \\/\\/ OPTIMIZE [0.0, 100.0]/' -e 's/^\t\tconstexpr double COEF_POINT = .*;  \\/\\/ OPTIMIZE \\[0\\.0, 100\\.0\\]$/\t\tconstexpr double COEF_POINT = 47.88339614383813;  \\/\\/ OPTIMIZE [0.0, 100.0]/' -e 's/^\t\tconstexpr double COEF_DIST = .*;  \\/\\/ OPTIMIZE \\[0\\.0, 10000\\.0\\]$/\t\tconstexpr double COEF_DIST = 8676.107017581806;  \\/\\/ OPTIMIZE [0.0, 10000.0]/'\n",
      "g++ 29_answer.cpp -std=gnu++17 -O2 -DONLINE_JUDGE -o 29_answer.cpp.out\n",
      "g++ 30_answer.cpp -std=gnu++17 -O2 -DONLINE_JUDGE -o 30_answer.cpp.out\n"
     ]
    },
    {
     "name": "stderr",
     "output_type": "stream",
     "text": [
      "\u001b[32m[I 2021-04-25 13:30:44,343]\u001b[0m Trial 425 finished with value: 808584.0 and parameters: {'COEF_CENTER_L1': 24.209385663760674, 'COEF_CENTER_L1_SQ': 54.92737457435021, 'COEF_POINT': 42.24756757894296, 'COEF_DIST': 7409.825269975837}. Best is trial 142 with value: 1556780.0.\u001b[0m\n"
     ]
    },
    {
     "name": "stdout",
     "output_type": "stream",
     "text": [
      "callback ok\n",
      "index_parallel=31\n",
      "mkdir: cannot create directory ‘31_out’: File exists\n",
      "mkdir: cannot create directory ‘31_score’: File exists\n"
     ]
    },
    {
     "name": "stderr",
     "output_type": "stream",
     "text": [
      "\u001b[32m[I 2021-04-25 13:30:45,135]\u001b[0m Trial 426 finished with value: 1476995.0 and parameters: {'COEF_CENTER_L1': -78.74267185658408, 'COEF_CENTER_L1_SQ': 3.328895677872427, 'COEF_POINT': 45.62574834068211, 'COEF_DIST': 8716.300627887786}. Best is trial 142 with value: 1556780.0.\u001b[0m\n"
     ]
    },
    {
     "name": "stdout",
     "output_type": "stream",
     "text": [
      "callback ok\n",
      "index_parallel=32\n",
      "mkdir: cannot create directory ‘32_out’: File exists\n",
      "mkdir: cannot create directory ‘32_score’: File exists\n",
      "sed -i 31_answer.cpp -e 's/^\t\tconstexpr double COEF_CENTER_L1 = .*;  \\/\\/ OPTIMIZE \\[-100\\.0, 100\\.0\\]$/\t\tconstexpr double COEF_CENTER_L1 = -7.918850144187536;  \\/\\/ OPTIMIZE [-100.0, 100.0]/' -e 's/^\t\tconstexpr double COEF_CENTER_L1_SQ = .*;  \\/\\/ OPTIMIZE \\[0\\.0, 100\\.0\\]$/\t\tconstexpr double COEF_CENTER_L1_SQ = 0.2670660134880921;  \\/\\/ OPTIMIZE [0.0, 100.0]/' -e 's/^\t\tconstexpr double COEF_POINT = .*;  \\/\\/ OPTIMIZE \\[0\\.0, 100\\.0\\]$/\t\tconstexpr double COEF_POINT = 47.4542885307395;  \\/\\/ OPTIMIZE [0.0, 100.0]/' -e 's/^\t\tconstexpr double COEF_DIST = .*;  \\/\\/ OPTIMIZE \\[0\\.0, 10000\\.0\\]$/\t\tconstexpr double COEF_DIST = 8655.66634734604;  \\/\\/ OPTIMIZE [0.0, 10000.0]/'\n"
     ]
    },
    {
     "name": "stderr",
     "output_type": "stream",
     "text": [
      "\u001b[32m[I 2021-04-25 13:30:46,561]\u001b[0m Trial 427 finished with value: 1435926.0 and parameters: {'COEF_CENTER_L1': -6.994057453471204, 'COEF_CENTER_L1_SQ': 0.09845275696580558, 'COEF_POINT': 46.44588305413515, 'COEF_DIST': 8659.379780444884}. Best is trial 142 with value: 1556780.0.\u001b[0m\n"
     ]
    },
    {
     "name": "stdout",
     "output_type": "stream",
     "text": [
      "g++ 31_answer.cpp -std=gnu++17 -O2 -DONLINE_JUDGE -o 31_answer.cpp.out\n",
      "callback ok"
     ]
    },
    {
     "name": "stderr",
     "output_type": "stream",
     "text": [
      "\u001b[32m[I 2021-04-25 13:30:46,642]\u001b[0m Trial 428 finished with value: 1428250.0 and parameters: {'COEF_CENTER_L1': -6.351526640714063, 'COEF_CENTER_L1_SQ': 0.21096151774395056, 'COEF_POINT': 46.39909153341502, 'COEF_DIST': 8692.523935419968}. Best is trial 142 with value: 1556780.0.\u001b[0m\n"
     ]
    },
    {
     "name": "stdout",
     "output_type": "stream",
     "text": [
      "\n",
      "callback ok\n",
      "index_parallel=33\n",
      "mkdir: cannot create directory ‘33_out’: File exists\n",
      "index_parallel=34\n",
      "mkdir: cannot create directory ‘34_out’: File exists\n"
     ]
    },
    {
     "name": "stderr",
     "output_type": "stream",
     "text": [
      "\u001b[32m[I 2021-04-25 13:30:46,877]\u001b[0m Trial 429 finished with value: 1507527.0 and parameters: {'COEF_CENTER_L1': -8.44309430159949, 'COEF_CENTER_L1_SQ': 3.0963467433963485, 'COEF_POINT': 48.18148461807432, 'COEF_DIST': 8951.345214452178}. Best is trial 142 with value: 1556780.0.\u001b[0m\n",
      "\u001b[32m[I 2021-04-25 13:30:46,883]\u001b[0m Trial 430 finished with value: 1521834.0 and parameters: {'COEF_CENTER_L1': -7.204297365343394, 'COEF_CENTER_L1_SQ': 3.0978889101157767, 'COEF_POINT': 47.88339614383813, 'COEF_DIST': 8676.107017581806}. Best is trial 142 with value: 1556780.0.\u001b[0m\n"
     ]
    },
    {
     "name": "stdout",
     "output_type": "stream",
     "text": [
      "mkdir: cannot create directory ‘33_score’: File exists\n",
      "sed -i 32_answer.cpp -e 's/^\t\tconstexpr double COEF_CENTER_L1 = .*;  \\/\\/ OPTIMIZE \\[-100\\.0, 100\\.0\\]$/\t\tconstexpr double COEF_CENTER_L1 = -7.435612383731325;  \\/\\/ OPTIMIZE [-100.0, 100.0]/' -e 's/^\t\tconstexpr double COEF_CENTER_L1_SQ = .*;  \\/\\/ OPTIMIZE \\[0\\.0, 100\\.0\\]$/\t\tconstexpr double COEF_CENTER_L1_SQ = 0.056659781237060614;  \\/\\/ OPTIMIZE [0.0, 100.0]/' -e 's/^\t\tconstexpr double COEF_POINT = .*;  \\/\\/ OPTIMIZE \\[0\\.0, 100\\.0\\]$/\t\tconstexpr double COEF_POINT = 47.94410724923761;  \\/\\/ OPTIMIZE [0.0, 100.0]/' -e 's/^\t\tconstexpr double COEF_DIST = .*;  \\/\\/ OPTIMIZE \\[0\\.0, 10000\\.0\\]$/\t\tconstexpr double COEF_DIST = 7678.922768080703;  \\/\\/ OPTIMIZE [0.0, 10000.0]/'\n",
      "mkdir: cannot create directory ‘34_score’: File exists\n",
      "callback ok\n",
      "callback ok\n",
      "index_parallel=35\n",
      "mkdir: cannot create directory ‘35_out’: File exists\n",
      "index_parallel=36\n",
      "mkdir: cannot create directory ‘36_out’: File exists\n",
      "g++ 32_answer.cpp -std=gnu++17 -O2 -DONLINE_JUDGE -o 32_answer.cpp.out\n",
      "mkdir: cannot create directory ‘35_score’: File exists\n",
      "mkdir: cannot create directory ‘36_score’: File exists\n",
      "sed -i 33_answer.cpp -e 's/^\t\tconstexpr double COEF_CENTER_L1 = .*;  \\/\\/ OPTIMIZE \\[-100\\.0, 100\\.0\\]$/\t\tconstexpr double COEF_CENTER_L1 = 33.20207830762869;  \\/\\/ OPTIMIZE [-100.0, 100.0]/' -e 's/^\t\tconstexpr double COEF_CENTER_L1_SQ = .*;  \\/\\/ OPTIMIZE \\[0\\.0, 100\\.0\\]$/\t\tconstexpr double COEF_CENTER_L1_SQ = 4.938389197494071;  \\/\\/ OPTIMIZE [0.0, 100.0]/' -e 's/^\t\tconstexpr double COEF_POINT = .*;  \\/\\/ OPTIMIZE \\[0\\.0, 100\\.0\\]$/\t\tconstexpr double COEF_POINT = 42.98090138986756;  \\/\\/ OPTIMIZE [0.0, 100.0]/' -e 's/^\t\tconstexpr double COEF_DIST = .*;  \\/\\/ OPTIMIZE \\[0\\.0, 10000\\.0\\]$/\t\tconstexpr double COEF_DIST = 8079.659764871414;  \\/\\/ OPTIMIZE [0.0, 10000.0]/'\n",
      "g++ 33_answer.cpp -std=gnu++17 -O2 -DONLINE_JUDGE -o 33_answer.cpp.out\n",
      "sed -i 34_answer.cpp -e 's/^\t\tconstexpr double COEF_CENTER_L1 = .*;  \\/\\/ OPTIMIZE \\[-100\\.0, 100\\.0\\]$/\t\tconstexpr double COEF_CENTER_L1 = -11.42982414207524;  \\/\\/ OPTIMIZE [-100.0, 100.0]/' -e 's/^\t\tconstexpr double COEF_CENTER_L1_SQ = .*;  \\/\\/ OPTIMIZE \\[0\\.0, 100\\.0\\]$/\t\tconstexpr double COEF_CENTER_L1_SQ = 5.12525698066565;  \\/\\/ OPTIMIZE [0.0, 100.0]/' -e 's/^\t\tconstexpr double COEF_POINT = .*;  \\/\\/ OPTIMIZE \\[0\\.0, 100\\.0\\]$/\t\tconstexpr double COEF_POINT = 42.93426436684961;  \\/\\/ OPTIMIZE [0.0, 100.0]/' -e 's/^\t\tconstexpr double COEF_DIST = .*;  \\/\\/ OPTIMIZE \\[0\\.0, 10000\\.0\\]$/\t\tconstexpr double COEF_DIST = 6701.020837083332;  \\/\\/ OPTIMIZE [0.0, 10000.0]/'\n",
      "sed -i 35_answer.cpp -e 's/^\t\tconstexpr double COEF_CENTER_L1 = .*;  \\/\\/ OPTIMIZE \\[-100\\.0, 100\\.0\\]$/\t\tconstexpr double COEF_CENTER_L1 = -1.83193414209439;  \\/\\/ OPTIMIZE [-100.0, 100.0]/' -e 's/^\t\tconstexpr double COEF_CENTER_L1_SQ = .*;  \\/\\/ OPTIMIZE \\[0\\.0, 100\\.0\\]$/\t\tconstexpr double COEF_CENTER_L1_SQ = 5.374421911550778;  \\/\\/ OPTIMIZE [0.0, 100.0]/' -e 's/^\t\tconstexpr double COEF_POINT = .*;  \\/\\/ OPTIMIZE \\[0\\.0, 100\\.0\\]$/\t\tconstexpr double COEF_POINT = 29.758132583136522;  \\/\\/ OPTIMIZE [0.0, 100.0]/' -e 's/^\t\tconstexpr double COEF_DIST = .*;  \\/\\/ OPTIMIZE \\[0\\.0, 10000\\.0\\]$/\t\tconstexpr double COEF_DIST = 8044.169225301562;  \\/\\/ OPTIMIZE [0.0, 10000.0]/'\n",
      "g++ 34_answer.cpp -std=gnu++17 -O2 -DONLINE_JUDGE -o 34_answer.cpp.out\n",
      "sed -i 36_answer.cpp -e 's/^\t\tconstexpr double COEF_CENTER_L1 = .*;  \\/\\/ OPTIMIZE \\[-100\\.0, 100\\.0\\]$/\t\tconstexpr double COEF_CENTER_L1 = -18.25956430729897;  \\/\\/ OPTIMIZE [-100.0, 100.0]/' -e 's/^\t\tconstexpr double COEF_CENTER_L1_SQ = .*;  \\/\\/ OPTIMIZE \\[0\\.0, 100\\.0\\]$/\t\tconstexpr double COEF_CENTER_L1_SQ = 5.04722995368128;  \\/\\/ OPTIMIZE [0.0, 100.0]/' -e 's/^\t\tconstexpr double COEF_POINT = .*;  \\/\\/ OPTIMIZE \\[0\\.0, 100\\.0\\]$/\t\tconstexpr double COEF_POINT = 42.59283094530006;  \\/\\/ OPTIMIZE [0.0, 100.0]/' -e 's/^\t\tconstexpr double COEF_DIST = .*;  \\/\\/ OPTIMIZE \\[0\\.0, 10000\\.0\\]$/\t\tconstexpr double COEF_DIST = 8047.185227606963;  \\/\\/ OPTIMIZE [0.0, 10000.0]/'\n",
      "g++ 35_answer.cpp -std=gnu++17 -O2 -DONLINE_JUDGE -o 35_answer.cpp.out\n",
      "g++ 36_answer.cpp -std=gnu++17 -O2 -DONLINE_JUDGE -o 36_answer.cpp.out\n"
     ]
    },
    {
     "name": "stderr",
     "output_type": "stream",
     "text": [
      "\u001b[32m[I 2021-04-25 13:30:56,481]\u001b[0m Trial 431 finished with value: 1427732.0 and parameters: {'COEF_CENTER_L1': -7.918850144187536, 'COEF_CENTER_L1_SQ': 0.2670660134880921, 'COEF_POINT': 47.4542885307395, 'COEF_DIST': 8655.66634734604}. Best is trial 142 with value: 1556780.0.\u001b[0m\n"
     ]
    },
    {
     "name": "stdout",
     "output_type": "stream",
     "text": [
      "callback ok\n",
      "index_parallel=37\n",
      "mkdir: cannot create directory ‘37_out’: File exists\n",
      "mkdir: cannot create directory ‘37_score’: File exists\n"
     ]
    },
    {
     "name": "stderr",
     "output_type": "stream",
     "text": [
      "\u001b[32m[I 2021-04-25 13:30:57,065]\u001b[0m Trial 432 finished with value: 1437835.0 and parameters: {'COEF_CENTER_L1': -7.435612383731325, 'COEF_CENTER_L1_SQ': 0.056659781237060614, 'COEF_POINT': 47.94410724923761, 'COEF_DIST': 7678.922768080703}. Best is trial 142 with value: 1556780.0.\u001b[0m\n"
     ]
    },
    {
     "name": "stdout",
     "output_type": "stream",
     "text": [
      "callback ok\n",
      "index_parallel=38\n",
      "mkdir: cannot create directory ‘38_out’: File exists\n",
      "mkdir: cannot create directory ‘38_score’: File exists\n",
      "sed -i 37_answer.cpp -e 's/^\t\tconstexpr double COEF_CENTER_L1 = .*;  \\/\\/ OPTIMIZE \\[-100\\.0, 100\\.0\\]$/\t\tconstexpr double COEF_CENTER_L1 = -33.663164730565605;  \\/\\/ OPTIMIZE [-100.0, 100.0]/' -e 's/^\t\tconstexpr double COEF_CENTER_L1_SQ = .*;  \\/\\/ OPTIMIZE \\[0\\.0, 100\\.0\\]$/\t\tconstexpr double COEF_CENTER_L1_SQ = 4.737204623394583;  \\/\\/ OPTIMIZE [0.0, 100.0]/' -e 's/^\t\tconstexpr double COEF_POINT = .*;  \\/\\/ OPTIMIZE \\[0\\.0, 100\\.0\\]$/\t\tconstexpr double COEF_POINT = 42.67011589969325;  \\/\\/ OPTIMIZE [0.0, 100.0]/' -e 's/^\t\tconstexpr double COEF_DIST = .*;  \\/\\/ OPTIMIZE \\[0\\.0, 10000\\.0\\]$/\t\tconstexpr double COEF_DIST = 6708.165851980046;  \\/\\/ OPTIMIZE [0.0, 10000.0]/'\n",
      "g++ 37_answer.cpp -std=gnu++17 -O2 -DONLINE_JUDGE -o 37_answer.cpp.out\n",
      "sed -i 38_answer.cpp -e 's/^\t\tconstexpr double COEF_CENTER_L1 = .*;  \\/\\/ OPTIMIZE \\[-100\\.0, 100\\.0\\]$/\t\tconstexpr double COEF_CENTER_L1 = -1.7147507369461232;  \\/\\/ OPTIMIZE [-100.0, 100.0]/' -e 's/^\t\tconstexpr double COEF_CENTER_L1_SQ = .*;  \\/\\/ OPTIMIZE \\[0\\.0, 100\\.0\\]$/\t\tconstexpr double COEF_CENTER_L1_SQ = 5.039430469720403;  \\/\\/ OPTIMIZE [0.0, 100.0]/' -e 's/^\t\tconstexpr double COEF_POINT = .*;  \\/\\/ OPTIMIZE \\[0\\.0, 100\\.0\\]$/\t\tconstexpr double COEF_POINT = 42.72753919534932;  \\/\\/ OPTIMIZE [0.0, 100.0]/' -e 's/^\t\tconstexpr double COEF_DIST = .*;  \\/\\/ OPTIMIZE \\[0\\.0, 10000\\.0\\]$/\t\tconstexpr double COEF_DIST = 7420.444658486861;  \\/\\/ OPTIMIZE [0.0, 10000.0]/'\n"
     ]
    },
    {
     "name": "stderr",
     "output_type": "stream",
     "text": [
      "\u001b[32m[I 2021-04-25 13:30:59,043]\u001b[0m Trial 433 finished with value: 1495061.0 and parameters: {'COEF_CENTER_L1': 33.20207830762869, 'COEF_CENTER_L1_SQ': 4.938389197494071, 'COEF_POINT': 42.98090138986756, 'COEF_DIST': 8079.659764871414}. Best is trial 142 with value: 1556780.0.\u001b[0m\n",
      "\u001b[32m[I 2021-04-25 13:30:59,044]\u001b[0m Trial 434 finished with value: 1467240.0 and parameters: {'COEF_CENTER_L1': -11.42982414207524, 'COEF_CENTER_L1_SQ': 5.12525698066565, 'COEF_POINT': 42.93426436684961, 'COEF_DIST': 6701.020837083332}. Best is trial 142 with value: 1556780.0.\u001b[0m\n",
      "\u001b[32m[I 2021-04-25 13:30:59,065]\u001b[0m Trial 435 finished with value: 1529455.0 and parameters: {'COEF_CENTER_L1': -1.83193414209439, 'COEF_CENTER_L1_SQ': 5.374421911550778, 'COEF_POINT': 29.758132583136522, 'COEF_DIST': 8044.169225301562}. Best is trial 142 with value: 1556780.0.\u001b[0m\n",
      "\u001b[32m[I 2021-04-25 13:30:59,085]\u001b[0m Trial 436 finished with value: 1525654.0 and parameters: {'COEF_CENTER_L1': -18.25956430729897, 'COEF_CENTER_L1_SQ': 5.04722995368128, 'COEF_POINT': 42.59283094530006, 'COEF_DIST': 8047.185227606963}. Best is trial 142 with value: 1556780.0.\u001b[0m\n"
     ]
    },
    {
     "name": "stdout",
     "output_type": "stream",
     "text": [
      "callback ok\n",
      "callback ok\n",
      "callback ok\n",
      "g++ 38_answer.cpp -std=gnu++17 -O2 -DONLINE_JUDGE -o 38_answer.cpp.out\n",
      "index_parallel=39\n",
      "mkdir: cannot create directory ‘39_out’: File exists\n",
      "index_parallel=40\n",
      "mkdir: cannot create directory ‘40_out’: File exists\n",
      "index_parallel=41\n",
      "callback ok\n",
      "mkdir: cannot create directory ‘41_out’: File exists\n",
      "index_parallel=42\n",
      "mkdir: cannot create directory ‘42_out’: File exists\n",
      "mkdir: cannot create directory ‘39_score’: File exists\n",
      "mkdir: cannot create directory ‘40_score’: File exists\n",
      "mkdir: cannot create directory ‘41_score’: File exists\n",
      "mkdir: cannot create directory ‘42_score’: File exists\n",
      "sed -i 39_answer.cpp -e 's/^\t\tconstexpr double COEF_CENTER_L1 = .*;  \\/\\/ OPTIMIZE \\[-100\\.0, 100\\.0\\]$/\t\tconstexpr double COEF_CENTER_L1 = -0.5164246926192941;  \\/\\/ OPTIMIZE [-100.0, 100.0]/' -e 's/^\t\tconstexpr double COEF_CENTER_L1_SQ = .*;  \\/\\/ OPTIMIZE \\[0\\.0, 100\\.0\\]$/\t\tconstexpr double COEF_CENTER_L1_SQ = 10.060594204759585;  \\/\\/ OPTIMIZE [0.0, 100.0]/' -e 's/^\t\tconstexpr double COEF_POINT = .*;  \\/\\/ OPTIMIZE \\[0\\.0, 100\\.0\\]$/\t\tconstexpr double COEF_POINT = 29.48462189405935;  \\/\\/ OPTIMIZE [0.0, 100.0]/' -e 's/^\t\tconstexpr double COEF_DIST = .*;  \\/\\/ OPTIMIZE \\[0\\.0, 10000\\.0\\]$/\t\tconstexpr double COEF_DIST = 8049.368279595854;  \\/\\/ OPTIMIZE [0.0, 10000.0]/'\n",
      "g++ 39_answer.cpp -std=gnu++17 -O2 -DONLINE_JUDGE -o 39_answer.cpp.out\n",
      "sed -i 41_answer.cpp -e 's/^\t\tconstexpr double COEF_CENTER_L1 = .*;  \\/\\/ OPTIMIZE \\[-100\\.0, 100\\.0\\]$/\t\tconstexpr double COEF_CENTER_L1 = -2.889143795846583;  \\/\\/ OPTIMIZE [-100.0, 100.0]/' -e 's/^\t\tconstexpr double COEF_CENTER_L1_SQ = .*;  \\/\\/ OPTIMIZE \\[0\\.0, 100\\.0\\]$/\t\tconstexpr double COEF_CENTER_L1_SQ = 10.418023562359492;  \\/\\/ OPTIMIZE [0.0, 100.0]/' -e 's/^\t\tconstexpr double COEF_POINT = .*;  \\/\\/ OPTIMIZE \\[0\\.0, 100\\.0\\]$/\t\tconstexpr double COEF_POINT = 29.412416018984693;  \\/\\/ OPTIMIZE [0.0, 100.0]/' -e 's/^\t\tconstexpr double COEF_DIST = .*;  \\/\\/ OPTIMIZE \\[0\\.0, 10000\\.0\\]$/\t\tconstexpr double COEF_DIST = 8033.947234072753;  \\/\\/ OPTIMIZE [0.0, 10000.0]/'\n",
      "g++ 41_answer.cpp -std=gnu++17 -O2 -DONLINE_JUDGE -o 41_answer.cpp.out\n",
      "sed -i 42_answer.cpp -e 's/^\t\tconstexpr double COEF_CENTER_L1 = .*;  \\/\\/ OPTIMIZE \\[-100\\.0, 100\\.0\\]$/\t\tconstexpr double COEF_CENTER_L1 = -18.38057392042566;  \\/\\/ OPTIMIZE [-100.0, 100.0]/' -e 's/^\t\tconstexpr double COEF_CENTER_L1_SQ = .*;  \\/\\/ OPTIMIZE \\[0\\.0, 100\\.0\\]$/\t\tconstexpr double COEF_CENTER_L1_SQ = 10.927508628754238;  \\/\\/ OPTIMIZE [0.0, 100.0]/' -e 's/^\t\tconstexpr double COEF_POINT = .*;  \\/\\/ OPTIMIZE \\[0\\.0, 100\\.0\\]$/\t\tconstexpr double COEF_POINT = 31.672537940983972;  \\/\\/ OPTIMIZE [0.0, 100.0]/' -e 's/^\t\tconstexpr double COEF_DIST = .*;  \\/\\/ OPTIMIZE \\[0\\.0, 10000\\.0\\]$/\t\tconstexpr double COEF_DIST = 7992.677776539447;  \\/\\/ OPTIMIZE [0.0, 10000.0]/'\n",
      "sed -i 40_answer.cpp -e 's/^\t\tconstexpr double COEF_CENTER_L1 = .*;  \\/\\/ OPTIMIZE \\[-100\\.0, 100\\.0\\]$/\t\tconstexpr double COEF_CENTER_L1 = -31.09960959285158;  \\/\\/ OPTIMIZE [-100.0, 100.0]/' -e 's/^\t\tconstexpr double COEF_CENTER_L1_SQ = .*;  \\/\\/ OPTIMIZE \\[0\\.0, 100\\.0\\]$/\t\tconstexpr double COEF_CENTER_L1_SQ = 7.798710047835736;  \\/\\/ OPTIMIZE [0.0, 100.0]/' -e 's/^\t\tconstexpr double COEF_POINT = .*;  \\/\\/ OPTIMIZE \\[0\\.0, 100\\.0\\]$/\t\tconstexpr double COEF_POINT = 28.151609073806753;  \\/\\/ OPTIMIZE [0.0, 100.0]/' -e 's/^\t\tconstexpr double COEF_DIST = .*;  \\/\\/ OPTIMIZE \\[0\\.0, 10000\\.0\\]$/\t\tconstexpr double COEF_DIST = 8133.937393741835;  \\/\\/ OPTIMIZE [0.0, 10000.0]/'\n",
      "g++ 42_answer.cpp -std=gnu++17 -O2 -DONLINE_JUDGE -o 42_answer.cpp.out\n",
      "g++ 40_answer.cpp -std=gnu++17 -O2 -DONLINE_JUDGE -o 40_answer.cpp.out\n"
     ]
    },
    {
     "name": "stderr",
     "output_type": "stream",
     "text": [
      "\u001b[32m[I 2021-04-25 13:31:07,569]\u001b[0m Trial 437 finished with value: 1538022.0 and parameters: {'COEF_CENTER_L1': -33.663164730565605, 'COEF_CENTER_L1_SQ': 4.737204623394583, 'COEF_POINT': 42.67011589969325, 'COEF_DIST': 6708.165851980046}. Best is trial 142 with value: 1556780.0.\u001b[0m\n"
     ]
    },
    {
     "name": "stdout",
     "output_type": "stream",
     "text": [
      "callback ok\n",
      "index_parallel=43\n",
      "mkdir: cannot create directory ‘43_out’: File exists\n",
      "mkdir: cannot create directory ‘43_score’: File exists\n"
     ]
    },
    {
     "name": "stderr",
     "output_type": "stream",
     "text": [
      "\u001b[32m[I 2021-04-25 13:31:07,908]\u001b[0m Trial 438 finished with value: 1499765.0 and parameters: {'COEF_CENTER_L1': -1.7147507369461232, 'COEF_CENTER_L1_SQ': 5.039430469720403, 'COEF_POINT': 42.72753919534932, 'COEF_DIST': 7420.444658486861}. Best is trial 142 with value: 1556780.0.\u001b[0m\n"
     ]
    },
    {
     "name": "stdout",
     "output_type": "stream",
     "text": [
      "callback ok\n",
      "index_parallel=44\n",
      "mkdir: cannot create directory ‘44_out’: File exists\n",
      "mkdir: cannot create directory ‘44_score’: File exists\n",
      "sed -i 43_answer.cpp -e 's/^\t\tconstexpr double COEF_CENTER_L1 = .*;  \\/\\/ OPTIMIZE \\[-100\\.0, 100\\.0\\]$/\t\tconstexpr double COEF_CENTER_L1 = -0.08879065586416957;  \\/\\/ OPTIMIZE [-100.0, 100.0]/' -e 's/^\t\tconstexpr double COEF_CENTER_L1_SQ = .*;  \\/\\/ OPTIMIZE \\[0\\.0, 100\\.0\\]$/\t\tconstexpr double COEF_CENTER_L1_SQ = 7.820021524906503;  \\/\\/ OPTIMIZE [0.0, 100.0]/' -e 's/^\t\tconstexpr double COEF_POINT = .*;  \\/\\/ OPTIMIZE \\[0\\.0, 100\\.0\\]$/\t\tconstexpr double COEF_POINT = 30.189995920402456;  \\/\\/ OPTIMIZE [0.0, 100.0]/' -e 's/^\t\tconstexpr double COEF_DIST = .*;  \\/\\/ OPTIMIZE \\[0\\.0, 10000\\.0\\]$/\t\tconstexpr double COEF_DIST = 8118.279680096165;  \\/\\/ OPTIMIZE [0.0, 10000.0]/'\n",
      "g++ 43_answer.cpp -std=gnu++17 -O2 -DONLINE_JUDGE -o 43_answer.cpp.out\n",
      "sed -i 44_answer.cpp -e 's/^\t\tconstexpr double COEF_CENTER_L1 = .*;  \\/\\/ OPTIMIZE \\[-100\\.0, 100\\.0\\]$/\t\tconstexpr double COEF_CENTER_L1 = -18.14564931657341;  \\/\\/ OPTIMIZE [-100.0, 100.0]/' -e 's/^\t\tconstexpr double COEF_CENTER_L1_SQ = .*;  \\/\\/ OPTIMIZE \\[0\\.0, 100\\.0\\]$/\t\tconstexpr double COEF_CENTER_L1_SQ = 7.727055069331836;  \\/\\/ OPTIMIZE [0.0, 100.0]/' -e 's/^\t\tconstexpr double COEF_POINT = .*;  \\/\\/ OPTIMIZE \\[0\\.0, 100\\.0\\]$/\t\tconstexpr double COEF_POINT = 30.060982741856094;  \\/\\/ OPTIMIZE [0.0, 100.0]/' -e 's/^\t\tconstexpr double COEF_DIST = .*;  \\/\\/ OPTIMIZE \\[0\\.0, 10000\\.0\\]$/\t\tconstexpr double COEF_DIST = 8011.53758213526;  \\/\\/ OPTIMIZE [0.0, 10000.0]/'\n",
      "g++ 44_answer.cpp -std=gnu++17 -O2 -DONLINE_JUDGE -o 44_answer.cpp.out\n"
     ]
    },
    {
     "name": "stderr",
     "output_type": "stream",
     "text": [
      "\u001b[32m[I 2021-04-25 13:31:15,489]\u001b[0m Trial 441 finished with value: 1360380.0 and parameters: {'COEF_CENTER_L1': -2.889143795846583, 'COEF_CENTER_L1_SQ': 10.418023562359492, 'COEF_POINT': 29.412416018984693, 'COEF_DIST': 8033.947234072753}. Best is trial 142 with value: 1556780.0.\u001b[0m\n",
      "\u001b[32m[I 2021-04-25 13:31:15,499]\u001b[0m Trial 442 finished with value: 1343033.0 and parameters: {'COEF_CENTER_L1': -18.38057392042566, 'COEF_CENTER_L1_SQ': 10.927508628754238, 'COEF_POINT': 31.672537940983972, 'COEF_DIST': 7992.677776539447}. Best is trial 142 with value: 1556780.0.\u001b[0m\n",
      "\u001b[32m[I 2021-04-25 13:31:15,506]\u001b[0m Trial 439 finished with value: 1369386.0 and parameters: {'COEF_CENTER_L1': -0.5164246926192941, 'COEF_CENTER_L1_SQ': 10.060594204759585, 'COEF_POINT': 29.48462189405935, 'COEF_DIST': 8049.368279595854}. Best is trial 142 with value: 1556780.0.\u001b[0m\n"
     ]
    },
    {
     "name": "stdout",
     "output_type": "stream",
     "text": [
      "callback ok\n",
      "callback ok\n",
      "callback ok\n",
      "index_parallel=45\n",
      "mkdir: cannot create directory ‘45_out’: File exists\n",
      "mkdir: cannot create directory ‘45_score’: File exists\n",
      "index_parallel=47index_parallel=46\n",
      "\n",
      "mkdir: cannot create directory ‘47_out’: File exists\n",
      "mkdir: cannot create directory ‘46_out’: File exists\n"
     ]
    },
    {
     "name": "stderr",
     "output_type": "stream",
     "text": [
      "\u001b[32m[I 2021-04-25 13:31:16,037]\u001b[0m Trial 440 finished with value: 1442325.0 and parameters: {'COEF_CENTER_L1': -31.09960959285158, 'COEF_CENTER_L1_SQ': 7.798710047835736, 'COEF_POINT': 28.151609073806753, 'COEF_DIST': 8133.937393741835}. Best is trial 142 with value: 1556780.0.\u001b[0m\n"
     ]
    },
    {
     "name": "stdout",
     "output_type": "stream",
     "text": [
      "callback ok\n",
      "mkdir: cannot create directory ‘47_score’: File exists\n",
      "mkdir: cannot create directory ‘46_score’: File exists\n",
      "index_parallel=48\n",
      "mkdir: cannot create directory ‘48_out’: File exists\n",
      "mkdir: cannot create directory ‘48_score’: File exists\n",
      "sed -i 45_answer.cpp -e 's/^\t\tconstexpr double COEF_CENTER_L1 = .*;  \\/\\/ OPTIMIZE \\[-100\\.0, 100\\.0\\]$/\t\tconstexpr double COEF_CENTER_L1 = -37.779301480262674;  \\/\\/ OPTIMIZE [-100.0, 100.0]/' -e 's/^\t\tconstexpr double COEF_CENTER_L1_SQ = .*;  \\/\\/ OPTIMIZE \\[0\\.0, 100\\.0\\]$/\t\tconstexpr double COEF_CENTER_L1_SQ = 7.874589085569879;  \\/\\/ OPTIMIZE [0.0, 100.0]/' -e 's/^\t\tconstexpr double COEF_POINT = .*;  \\/\\/ OPTIMIZE \\[0\\.0, 100\\.0\\]$/\t\tconstexpr double COEF_POINT = 34.233619667833345;  \\/\\/ OPTIMIZE [0.0, 100.0]/' -e 's/^\t\tconstexpr double COEF_DIST = .*;  \\/\\/ OPTIMIZE \\[0\\.0, 10000\\.0\\]$/\t\tconstexpr double COEF_DIST = 8310.169682269521;  \\/\\/ OPTIMIZE [0.0, 10000.0]/'\n",
      "g++ 45_answer.cpp -std=gnu++17 -O2 -DONLINE_JUDGE -o 45_answer.cpp.out\n",
      "sed -i 46_answer.cpp -e 's/^\t\tconstexpr double COEF_CENTER_L1 = .*;  \\/\\/ OPTIMIZE \\[-100\\.0, 100\\.0\\]$/\t\tconstexpr double COEF_CENTER_L1 = -51.26261171133548;  \\/\\/ OPTIMIZE [-100.0, 100.0]/' -e 's/^\t\tconstexpr double COEF_CENTER_L1_SQ = .*;  \\/\\/ OPTIMIZE \\[0\\.0, 100\\.0\\]$/\t\tconstexpr double COEF_CENTER_L1_SQ = 7.771828831056994;  \\/\\/ OPTIMIZE [0.0, 100.0]/' -e 's/^\t\tconstexpr double COEF_POINT = .*;  \\/\\/ OPTIMIZE \\[0\\.0, 100\\.0\\]$/\t\tconstexpr double COEF_POINT = 34.11751776539903;  \\/\\/ OPTIMIZE [0.0, 100.0]/' -e 's/^\t\tconstexpr double COEF_DIST = .*;  \\/\\/ OPTIMIZE \\[0\\.0, 10000\\.0\\]$/\t\tconstexpr double COEF_DIST = 8201.794652793018;  \\/\\/ OPTIMIZE [0.0, 10000.0]/'\n",
      "g++ 46_answer.cpp -std=gnu++17 -O2 -DONLINE_JUDGE -o 46_answer.cpp.out\n",
      "sed -i 47_answer.cpp -e 's/^\t\tconstexpr double COEF_CENTER_L1 = .*;  \\/\\/ OPTIMIZE \\[-100\\.0, 100\\.0\\]$/\t\tconstexpr double COEF_CENTER_L1 = -38.944556697803954;  \\/\\/ OPTIMIZE [-100.0, 100.0]/' -e 's/^\t\tconstexpr double COEF_CENTER_L1_SQ = .*;  \\/\\/ OPTIMIZE \\[0\\.0, 100\\.0\\]$/\t\tconstexpr double COEF_CENTER_L1_SQ = 7.626670098996249;  \\/\\/ OPTIMIZE [0.0, 100.0]/' -e 's/^\t\tconstexpr double COEF_POINT = .*;  \\/\\/ OPTIMIZE \\[0\\.0, 100\\.0\\]$/\t\tconstexpr double COEF_POINT = 34.100861876100836;  \\/\\/ OPTIMIZE [0.0, 100.0]/' -e 's/^\t\tconstexpr double COEF_DIST = .*;  \\/\\/ OPTIMIZE \\[0\\.0, 10000\\.0\\]$/\t\tconstexpr double COEF_DIST = 8480.743809560485;  \\/\\/ OPTIMIZE [0.0, 10000.0]/'\n",
      "g++ 47_answer.cpp -std=gnu++17 -O2 -DONLINE_JUDGE -o 47_answer.cpp.out\n",
      "sed -i 48_answer.cpp -e 's/^\t\tconstexpr double COEF_CENTER_L1 = .*;  \\/\\/ OPTIMIZE \\[-100\\.0, 100\\.0\\]$/\t\tconstexpr double COEF_CENTER_L1 = -50.16274230464076;  \\/\\/ OPTIMIZE [-100.0, 100.0]/' -e 's/^\t\tconstexpr double COEF_CENTER_L1_SQ = .*;  \\/\\/ OPTIMIZE \\[0\\.0, 100\\.0\\]$/\t\tconstexpr double COEF_CENTER_L1_SQ = 7.63251312350377;  \\/\\/ OPTIMIZE [0.0, 100.0]/' -e 's/^\t\tconstexpr double COEF_POINT = .*;  \\/\\/ OPTIMIZE \\[0\\.0, 100\\.0\\]$/\t\tconstexpr double COEF_POINT = 33.045274681447815;  \\/\\/ OPTIMIZE [0.0, 100.0]/' -e 's/^\t\tconstexpr double COEF_DIST = .*;  \\/\\/ OPTIMIZE \\[0\\.0, 10000\\.0\\]$/\t\tconstexpr double COEF_DIST = 8361.498464584944;  \\/\\/ OPTIMIZE [0.0, 10000.0]/'\n"
     ]
    },
    {
     "name": "stderr",
     "output_type": "stream",
     "text": [
      "\u001b[32m[I 2021-04-25 13:31:20,222]\u001b[0m Trial 443 finished with value: 1409391.0 and parameters: {'COEF_CENTER_L1': -0.08879065586416957, 'COEF_CENTER_L1_SQ': 7.820021524906503, 'COEF_POINT': 30.189995920402456, 'COEF_DIST': 8118.279680096165}. Best is trial 142 with value: 1556780.0.\u001b[0m\n"
     ]
    },
    {
     "name": "stdout",
     "output_type": "stream",
     "text": [
      "callback ok\n",
      "g++ 48_answer.cpp -std=gnu++17 -O2 -DONLINE_JUDGE -o 48_answer.cpp.out\n",
      "index_parallel=49\n",
      "mkdir: cannot create directory ‘49_out’: File exists\n"
     ]
    },
    {
     "name": "stderr",
     "output_type": "stream",
     "text": [
      "\u001b[32m[I 2021-04-25 13:31:20,328]\u001b[0m Trial 444 finished with value: 1439543.0 and parameters: {'COEF_CENTER_L1': -18.14564931657341, 'COEF_CENTER_L1_SQ': 7.727055069331836, 'COEF_POINT': 30.060982741856094, 'COEF_DIST': 8011.53758213526}. Best is trial 142 with value: 1556780.0.\u001b[0m\n"
     ]
    },
    {
     "name": "stdout",
     "output_type": "stream",
     "text": [
      "callback ok\n",
      "index_parallel=50\n",
      "mkdir: cannot create directory ‘50_out’: File exists\n",
      "mkdir: cannot create directory ‘49_score’: File exists\n",
      "mkdir: cannot create directory ‘50_score’: File exists\n",
      "sed -i 49_answer.cpp -e 's/^\t\tconstexpr double COEF_CENTER_L1 = .*;  \\/\\/ OPTIMIZE \\[-100\\.0, 100\\.0\\]$/\t\tconstexpr double COEF_CENTER_L1 = -50.9592790294662;  \\/\\/ OPTIMIZE [-100.0, 100.0]/' -e 's/^\t\tconstexpr double COEF_CENTER_L1_SQ = .*;  \\/\\/ OPTIMIZE \\[0\\.0, 100\\.0\\]$/\t\tconstexpr double COEF_CENTER_L1_SQ = 5.571351793745933;  \\/\\/ OPTIMIZE [0.0, 100.0]/' -e 's/^\t\tconstexpr double COEF_POINT = .*;  \\/\\/ OPTIMIZE \\[0\\.0, 100\\.0\\]$/\t\tconstexpr double COEF_POINT = 33.747602993196814;  \\/\\/ OPTIMIZE [0.0, 100.0]/' -e 's/^\t\tconstexpr double COEF_DIST = .*;  \\/\\/ OPTIMIZE \\[0\\.0, 10000\\.0\\]$/\t\tconstexpr double COEF_DIST = 8250.56491345751;  \\/\\/ OPTIMIZE [0.0, 10000.0]/'\n",
      "sed -i 50_answer.cpp -e 's/^\t\tconstexpr double COEF_CENTER_L1 = .*;  \\/\\/ OPTIMIZE \\[-100\\.0, 100\\.0\\]$/\t\tconstexpr double COEF_CENTER_L1 = -13.667551257981202;  \\/\\/ OPTIMIZE [-100.0, 100.0]/' -e 's/^\t\tconstexpr double COEF_CENTER_L1_SQ = .*;  \\/\\/ OPTIMIZE \\[0\\.0, 100\\.0\\]$/\t\tconstexpr double COEF_CENTER_L1_SQ = 5.577798077601111;  \\/\\/ OPTIMIZE [0.0, 100.0]/' -e 's/^\t\tconstexpr double COEF_POINT = .*;  \\/\\/ OPTIMIZE \\[0\\.0, 100\\.0\\]$/\t\tconstexpr double COEF_POINT = 33.71534165978431;  \\/\\/ OPTIMIZE [0.0, 100.0]/' -e 's/^\t\tconstexpr double COEF_DIST = .*;  \\/\\/ OPTIMIZE \\[0\\.0, 10000\\.0\\]$/\t\tconstexpr double COEF_DIST = 8505.520488958213;  \\/\\/ OPTIMIZE [0.0, 10000.0]/'\n",
      "g++ 49_answer.cpp -std=gnu++17 -O2 -DONLINE_JUDGE -o 49_answer.cpp.out\n",
      "g++ 50_answer.cpp -std=gnu++17 -O2 -DONLINE_JUDGE -o 50_answer.cpp.out\n"
     ]
    },
    {
     "name": "stderr",
     "output_type": "stream",
     "text": [
      "\u001b[32m[I 2021-04-25 13:31:28,336]\u001b[0m Trial 445 finished with value: 1467375.0 and parameters: {'COEF_CENTER_L1': -37.779301480262674, 'COEF_CENTER_L1_SQ': 7.874589085569879, 'COEF_POINT': 34.233619667833345, 'COEF_DIST': 8310.169682269521}. Best is trial 142 with value: 1556780.0.\u001b[0m\n"
     ]
    },
    {
     "name": "stdout",
     "output_type": "stream",
     "text": [
      "callback ok\n",
      "index_parallel=51\n",
      "mkdir: cannot create directory ‘51_out’: File exists\n",
      "mkdir: cannot create directory ‘51_score’: File exists\n",
      "sed -i 51_answer.cpp -e 's/^\t\tconstexpr double COEF_CENTER_L1 = .*;  \\/\\/ OPTIMIZE \\[-100\\.0, 100\\.0\\]$/\t\tconstexpr double COEF_CENTER_L1 = -12.077159073677507;  \\/\\/ OPTIMIZE [-100.0, 100.0]/' -e 's/^\t\tconstexpr double COEF_CENTER_L1_SQ = .*;  \\/\\/ OPTIMIZE \\[0\\.0, 100\\.0\\]$/\t\tconstexpr double COEF_CENTER_L1_SQ = 5.293346257354135;  \\/\\/ OPTIMIZE [0.0, 100.0]/' -e 's/^\t\tconstexpr double COEF_POINT = .*;  \\/\\/ OPTIMIZE \\[0\\.0, 100\\.0\\]$/\t\tconstexpr double COEF_POINT = 40.938169416035294;  \\/\\/ OPTIMIZE [0.0, 100.0]/' -e 's/^\t\tconstexpr double COEF_DIST = .*;  \\/\\/ OPTIMIZE \\[0\\.0, 10000\\.0\\]$/\t\tconstexpr double COEF_DIST = 8457.000364548598;  \\/\\/ OPTIMIZE [0.0, 10000.0]/'\n",
      "g++ 51_answer.cpp -std=gnu++17 -O2 -DONLINE_JUDGE -o 51_answer.cpp.out\n"
     ]
    },
    {
     "name": "stderr",
     "output_type": "stream",
     "text": [
      "\u001b[32m[I 2021-04-25 13:31:31,389]\u001b[0m Trial 446 finished with value: 1468791.0 and parameters: {'COEF_CENTER_L1': -51.26261171133548, 'COEF_CENTER_L1_SQ': 7.771828831056994, 'COEF_POINT': 34.11751776539903, 'COEF_DIST': 8201.794652793018}. Best is trial 142 with value: 1556780.0.\u001b[0m\n",
      "\u001b[32m[I 2021-04-25 13:31:31,404]\u001b[0m Trial 447 finished with value: 1488395.0 and parameters: {'COEF_CENTER_L1': -38.944556697803954, 'COEF_CENTER_L1_SQ': 7.626670098996249, 'COEF_POINT': 34.100861876100836, 'COEF_DIST': 8480.743809560485}. Best is trial 142 with value: 1556780.0.\u001b[0m\n"
     ]
    },
    {
     "name": "stdout",
     "output_type": "stream",
     "text": [
      "callback ok\n",
      "callback ok\n",
      "index_parallel=52\n",
      "mkdir: cannot create directory ‘52_out’: File exists\n",
      "index_parallel=53\n",
      "mkdir: cannot create directory ‘53_out’: File exists\n",
      "mkdir: cannot create directory ‘52_score’: File exists\n"
     ]
    },
    {
     "name": "stderr",
     "output_type": "stream",
     "text": [
      "\u001b[32m[I 2021-04-25 13:31:31,703]\u001b[0m Trial 448 finished with value: 1491224.0 and parameters: {'COEF_CENTER_L1': -50.16274230464076, 'COEF_CENTER_L1_SQ': 7.63251312350377, 'COEF_POINT': 33.045274681447815, 'COEF_DIST': 8361.498464584944}. Best is trial 142 with value: 1556780.0.\u001b[0m\n"
     ]
    },
    {
     "name": "stdout",
     "output_type": "stream",
     "text": [
      "callback ok\n",
      "index_parallel=54\n",
      "mkdir: cannot create directory ‘54_out’: File exists\n",
      "mkdir: cannot create directory ‘53_score’: File exists\n",
      "mkdir: cannot create directory ‘54_score’: File exists\n"
     ]
    },
    {
     "name": "stderr",
     "output_type": "stream",
     "text": [
      "\u001b[32m[I 2021-04-25 13:31:33,399]\u001b[0m Trial 450 finished with value: 1529149.0 and parameters: {'COEF_CENTER_L1': -13.667551257981202, 'COEF_CENTER_L1_SQ': 5.577798077601111, 'COEF_POINT': 33.71534165978431, 'COEF_DIST': 8505.520488958213}. Best is trial 142 with value: 1556780.0.\u001b[0m\n",
      "\u001b[32m[I 2021-04-25 13:31:33,434]\u001b[0m Trial 449 finished with value: 1490417.0 and parameters: {'COEF_CENTER_L1': -50.9592790294662, 'COEF_CENTER_L1_SQ': 5.571351793745933, 'COEF_POINT': 33.747602993196814, 'COEF_DIST': 8250.56491345751}. Best is trial 142 with value: 1556780.0.\u001b[0m\n"
     ]
    },
    {
     "name": "stdout",
     "output_type": "stream",
     "text": [
      "callback ok\n",
      "sed -i 53_answer.cpp -e 's/^\t\tconstexpr double COEF_CENTER_L1 = .*;  \\/\\/ OPTIMIZE \\[-100\\.0, 100\\.0\\]$/\t\tconstexpr double COEF_CENTER_L1 = -15.931076315561105;  \\/\\/ OPTIMIZE [-100.0, 100.0]/' -e 's/^\t\tconstexpr double COEF_CENTER_L1_SQ = .*;  \\/\\/ OPTIMIZE \\[0\\.0, 100\\.0\\]$/\t\tconstexpr double COEF_CENTER_L1_SQ = 5.334570032882574;  \\/\\/ OPTIMIZE [0.0, 100.0]/' -e 's/^\t\tconstexpr double COEF_POINT = .*;  \\/\\/ OPTIMIZE \\[0\\.0, 100\\.0\\]$/\t\tconstexpr double COEF_POINT = 31.55072923412675;  \\/\\/ OPTIMIZE [0.0, 100.0]/' -e 's/^\t\tconstexpr double COEF_DIST = .*;  \\/\\/ OPTIMIZE \\[0\\.0, 10000\\.0\\]$/\t\tconstexpr double COEF_DIST = 8894.4445923021;  \\/\\/ OPTIMIZE [0.0, 10000.0]/'\n",
      "callback ok\n",
      "g++ 53_answer.cpp -std=gnu++17 -O2 -DONLINE_JUDGE -o 53_answer.cpp.out\n",
      "sed -i 52_answer.cpp -e 's/^\t\tconstexpr double COEF_CENTER_L1 = .*;  \\/\\/ OPTIMIZE \\[-100\\.0, 100\\.0\\]$/\t\tconstexpr double COEF_CENTER_L1 = -3.5325215183561856;  \\/\\/ OPTIMIZE [-100.0, 100.0]/' -e 's/^\t\tconstexpr double COEF_CENTER_L1_SQ = .*;  \\/\\/ OPTIMIZE \\[0\\.0, 100\\.0\\]$/\t\tconstexpr double COEF_CENTER_L1_SQ = 5.52763024910432;  \\/\\/ OPTIMIZE [0.0, 100.0]/' -e 's/^\t\tconstexpr double COEF_POINT = .*;  \\/\\/ OPTIMIZE \\[0\\.0, 100\\.0\\]$/\t\tconstexpr double COEF_POINT = 35.80662401283626;  \\/\\/ OPTIMIZE [0.0, 100.0]/' -e 's/^\t\tconstexpr double COEF_DIST = .*;  \\/\\/ OPTIMIZE \\[0\\.0, 10000\\.0\\]$/\t\tconstexpr double COEF_DIST = 8865.168050962588;  \\/\\/ OPTIMIZE [0.0, 10000.0]/'\n",
      "index_parallel=55\n",
      "index_parallel=56\n",
      "mkdir: cannot create directory ‘56_out’: File exists\n",
      "mkdir: cannot create directory ‘55_out’: File exists\n",
      "g++ 52_answer.cpp -std=gnu++17 -O2 -DONLINE_JUDGE -o 52_answer.cpp.out\n",
      "mkdir: cannot create directory ‘56_score’: File exists\n",
      "mkdir: cannot create directory ‘55_score’: File exists\n",
      "sed -i 54_answer.cpp -e 's/^\t\tconstexpr double COEF_CENTER_L1 = .*;  \\/\\/ OPTIMIZE \\[-100\\.0, 100\\.0\\]$/\t\tconstexpr double COEF_CENTER_L1 = -33.39672004933975;  \\/\\/ OPTIMIZE [-100.0, 100.0]/' -e 's/^\t\tconstexpr double COEF_CENTER_L1_SQ = .*;  \\/\\/ OPTIMIZE \\[0\\.0, 100\\.0\\]$/\t\tconstexpr double COEF_CENTER_L1_SQ = 1.9954765114792328;  \\/\\/ OPTIMIZE [0.0, 100.0]/' -e 's/^\t\tconstexpr double COEF_POINT = .*;  \\/\\/ OPTIMIZE \\[0\\.0, 100\\.0\\]$/\t\tconstexpr double COEF_POINT = 36.278103340471866;  \\/\\/ OPTIMIZE [0.0, 100.0]/' -e 's/^\t\tconstexpr double COEF_DIST = .*;  \\/\\/ OPTIMIZE \\[0\\.0, 10000\\.0\\]$/\t\tconstexpr double COEF_DIST = 8553.993358683885;  \\/\\/ OPTIMIZE [0.0, 10000.0]/'\n",
      "g++ 54_answer.cpp -std=gnu++17 -O2 -DONLINE_JUDGE -o 54_answer.cpp.out\n",
      "sed -i 56_answer.cpp -e 's/^\t\tconstexpr double COEF_CENTER_L1 = .*;  \\/\\/ OPTIMIZE \\[-100\\.0, 100\\.0\\]$/\t\tconstexpr double COEF_CENTER_L1 = -28.64952300127318;  \\/\\/ OPTIMIZE [-100.0, 100.0]/' -e 's/^\t\tconstexpr double COEF_CENTER_L1_SQ = .*;  \\/\\/ OPTIMIZE \\[0\\.0, 100\\.0\\]$/\t\tconstexpr double COEF_CENTER_L1_SQ = 1.9351656389851357;  \\/\\/ OPTIMIZE [0.0, 100.0]/' -e 's/^\t\tconstexpr double COEF_POINT = .*;  \\/\\/ OPTIMIZE \\[0\\.0, 100\\.0\\]$/\t\tconstexpr double COEF_POINT = 35.60419810186025;  \\/\\/ OPTIMIZE [0.0, 100.0]/' -e 's/^\t\tconstexpr double COEF_DIST = .*;  \\/\\/ OPTIMIZE \\[0\\.0, 10000\\.0\\]$/\t\tconstexpr double COEF_DIST = 8517.666722466902;  \\/\\/ OPTIMIZE [0.0, 10000.0]/'\n",
      "sed -i 55_answer.cpp -e 's/^\t\tconstexpr double COEF_CENTER_L1 = .*;  \\/\\/ OPTIMIZE \\[-100\\.0, 100\\.0\\]$/\t\tconstexpr double COEF_CENTER_L1 = -5.0862766811083215;  \\/\\/ OPTIMIZE [-100.0, 100.0]/' -e 's/^\t\tconstexpr double COEF_CENTER_L1_SQ = .*;  \\/\\/ OPTIMIZE \\[0\\.0, 100\\.0\\]$/\t\tconstexpr double COEF_CENTER_L1_SQ = 1.7687387055169115;  \\/\\/ OPTIMIZE [0.0, 100.0]/' -e 's/^\t\tconstexpr double COEF_POINT = .*;  \\/\\/ OPTIMIZE \\[0\\.0, 100\\.0\\]$/\t\tconstexpr double COEF_POINT = 36.05443796724453;  \\/\\/ OPTIMIZE [0.0, 100.0]/' -e 's/^\t\tconstexpr double COEF_DIST = .*;  \\/\\/ OPTIMIZE \\[0\\.0, 10000\\.0\\]$/\t\tconstexpr double COEF_DIST = 8819.732068432466;  \\/\\/ OPTIMIZE [0.0, 10000.0]/'\n",
      "g++ 56_answer.cpp -std=gnu++17 -O2 -DONLINE_JUDGE -o 56_answer.cpp.out\n",
      "g++ 55_answer.cpp -std=gnu++17 -O2 -DONLINE_JUDGE -o 55_answer.cpp.out\n"
     ]
    },
    {
     "name": "stderr",
     "output_type": "stream",
     "text": [
      "\u001b[32m[I 2021-04-25 13:31:38,558]\u001b[0m Trial 451 finished with value: 1510040.0 and parameters: {'COEF_CENTER_L1': -12.077159073677507, 'COEF_CENTER_L1_SQ': 5.293346257354135, 'COEF_POINT': 40.938169416035294, 'COEF_DIST': 8457.000364548598}. Best is trial 142 with value: 1556780.0.\u001b[0m\n"
     ]
    },
    {
     "name": "stdout",
     "output_type": "stream",
     "text": [
      "callback ok\n",
      "index_parallel=57\n",
      "mkdir: cannot create directory ‘57_out’: File exists\n",
      "mkdir: cannot create directory ‘57_score’: File exists\n",
      "sed -i 57_answer.cpp -e 's/^\t\tconstexpr double COEF_CENTER_L1 = .*;  \\/\\/ OPTIMIZE \\[-100\\.0, 100\\.0\\]$/\t\tconstexpr double COEF_CENTER_L1 = -4.242407825727253;  \\/\\/ OPTIMIZE [-100.0, 100.0]/' -e 's/^\t\tconstexpr double COEF_CENTER_L1_SQ = .*;  \\/\\/ OPTIMIZE \\[0\\.0, 100\\.0\\]$/\t\tconstexpr double COEF_CENTER_L1_SQ = 12.731353454189119;  \\/\\/ OPTIMIZE [0.0, 100.0]/' -e 's/^\t\tconstexpr double COEF_POINT = .*;  \\/\\/ OPTIMIZE \\[0\\.0, 100\\.0\\]$/\t\tconstexpr double COEF_POINT = 36.02568092132526;  \\/\\/ OPTIMIZE [0.0, 100.0]/' -e 's/^\t\tconstexpr double COEF_DIST = .*;  \\/\\/ OPTIMIZE \\[0\\.0, 10000\\.0\\]$/\t\tconstexpr double COEF_DIST = 8927.324127880536;  \\/\\/ OPTIMIZE [0.0, 10000.0]/'\n",
      "g++ 57_answer.cpp -std=gnu++17 -O2 -DONLINE_JUDGE -o 57_answer.cpp.out\n"
     ]
    },
    {
     "name": "stderr",
     "output_type": "stream",
     "text": [
      "\u001b[32m[I 2021-04-25 13:31:44,306]\u001b[0m Trial 453 finished with value: 1529737.0 and parameters: {'COEF_CENTER_L1': -15.931076315561105, 'COEF_CENTER_L1_SQ': 5.334570032882574, 'COEF_POINT': 31.55072923412675, 'COEF_DIST': 8894.4445923021}. Best is trial 142 with value: 1556780.0.\u001b[0m\n"
     ]
    },
    {
     "name": "stdout",
     "output_type": "stream",
     "text": [
      "callback ok\n",
      "index_parallel=58\n",
      "mkdir: cannot create directory ‘58_out’: File exists\n",
      "mkdir: cannot create directory ‘58_score’: File exists\n"
     ]
    },
    {
     "name": "stderr",
     "output_type": "stream",
     "text": [
      "\u001b[32m[I 2021-04-25 13:31:44,621]\u001b[0m Trial 452 finished with value: 1516130.0 and parameters: {'COEF_CENTER_L1': -3.5325215183561856, 'COEF_CENTER_L1_SQ': 5.52763024910432, 'COEF_POINT': 35.80662401283626, 'COEF_DIST': 8865.168050962588}. Best is trial 142 with value: 1556780.0.\u001b[0m\n"
     ]
    },
    {
     "name": "stdout",
     "output_type": "stream",
     "text": [
      "callback ok\n",
      "index_parallel=59\n",
      "mkdir: cannot create directory ‘59_out’: File exists\n",
      "mkdir: cannot create directory ‘59_score’: File exists\n"
     ]
    },
    {
     "name": "stderr",
     "output_type": "stream",
     "text": [
      "\u001b[32m[I 2021-04-25 13:31:45,275]\u001b[0m Trial 454 finished with value: 1473711.0 and parameters: {'COEF_CENTER_L1': -33.39672004933975, 'COEF_CENTER_L1_SQ': 1.9954765114792328, 'COEF_POINT': 36.278103340471866, 'COEF_DIST': 8553.993358683885}. Best is trial 142 with value: 1556780.0.\u001b[0m\n"
     ]
    },
    {
     "name": "stdout",
     "output_type": "stream",
     "text": [
      "callback ok\n",
      "index_parallel=60\n",
      "mkdir: cannot create directory ‘60_out’: File exists\n",
      "mkdir: cannot create directory ‘60_score’: File exists\n"
     ]
    },
    {
     "name": "stderr",
     "output_type": "stream",
     "text": [
      "\u001b[32m[I 2021-04-25 13:31:46,292]\u001b[0m Trial 456 finished with value: 1517822.0 and parameters: {'COEF_CENTER_L1': -28.64952300127318, 'COEF_CENTER_L1_SQ': 1.9351656389851357, 'COEF_POINT': 35.60419810186025, 'COEF_DIST': 8517.666722466902}. Best is trial 142 with value: 1556780.0.\u001b[0m\n",
      "\u001b[32m[I 2021-04-25 13:31:46,482]\u001b[0m Trial 455 finished with value: 1516955.0 and parameters: {'COEF_CENTER_L1': -5.0862766811083215, 'COEF_CENTER_L1_SQ': 1.7687387055169115, 'COEF_POINT': 36.05443796724453, 'COEF_DIST': 8819.732068432466}. Best is trial 142 with value: 1556780.0.\u001b[0m\n"
     ]
    },
    {
     "name": "stdout",
     "output_type": "stream",
     "text": [
      "callback ok\n",
      "sed -i 58_answer.cpp -e 's/^\t\tconstexpr double COEF_CENTER_L1 = .*;  \\/\\/ OPTIMIZE \\[-100\\.0, 100\\.0\\]$/\t\tconstexpr double COEF_CENTER_L1 = -23.148245723446557;  \\/\\/ OPTIMIZE [-100.0, 100.0]/' -e 's/^\t\tconstexpr double COEF_CENTER_L1_SQ = .*;  \\/\\/ OPTIMIZE \\[0\\.0, 100\\.0\\]$/\t\tconstexpr double COEF_CENTER_L1_SQ = 10.461098486931428;  \\/\\/ OPTIMIZE [0.0, 100.0]/' -e 's/^\t\tconstexpr double COEF_POINT = .*;  \\/\\/ OPTIMIZE \\[0\\.0, 100\\.0\\]$/\t\tconstexpr double COEF_POINT = 26.181183860113418;  \\/\\/ OPTIMIZE [0.0, 100.0]/' -e 's/^\t\tconstexpr double COEF_DIST = .*;  \\/\\/ OPTIMIZE \\[0\\.0, 10000\\.0\\]$/\t\tconstexpr double COEF_DIST = 8852.246243824698;  \\/\\/ OPTIMIZE [0.0, 10000.0]/'\n",
      "g++ 58_answer.cpp -std=gnu++17 -O2 -DONLINE_JUDGE -o 58_answer.cpp.out\n",
      "index_parallel=61\n",
      "mkdir: cannot create directory ‘61_out’: File exists\n",
      "callback ok\n",
      "index_parallel=62\n",
      "mkdir: cannot create directory ‘62_out’: File exists\n",
      "mkdir: cannot create directory ‘61_score’: File exists\n",
      "mkdir: cannot create directory ‘62_score’: File exists\n",
      "sed -i 59_answer.cpp -e 's/^\t\tconstexpr double COEF_CENTER_L1 = .*;  \\/\\/ OPTIMIZE \\[-100\\.0, 100\\.0\\]$/\t\tconstexpr double COEF_CENTER_L1 = -22.01533393168416;  \\/\\/ OPTIMIZE [-100.0, 100.0]/' -e 's/^\t\tconstexpr double COEF_CENTER_L1_SQ = .*;  \\/\\/ OPTIMIZE \\[0\\.0, 100\\.0\\]$/\t\tconstexpr double COEF_CENTER_L1_SQ = 10.346977981427663;  \\/\\/ OPTIMIZE [0.0, 100.0]/' -e 's/^\t\tconstexpr double COEF_POINT = .*;  \\/\\/ OPTIMIZE \\[0\\.0, 100\\.0\\]$/\t\tconstexpr double COEF_POINT = 33.52588690987478;  \\/\\/ OPTIMIZE [0.0, 100.0]/' -e 's/^\t\tconstexpr double COEF_DIST = .*;  \\/\\/ OPTIMIZE \\[0\\.0, 10000\\.0\\]$/\t\tconstexpr double COEF_DIST = 9143.239338529354;  \\/\\/ OPTIMIZE [0.0, 10000.0]/'\n",
      "sed -i 60_answer.cpp -e 's/^\t\tconstexpr double COEF_CENTER_L1 = .*;  \\/\\/ OPTIMIZE \\[-100\\.0, 100\\.0\\]$/\t\tconstexpr double COEF_CENTER_L1 = -76.3065266386429;  \\/\\/ OPTIMIZE [-100.0, 100.0]/' -e 's/^\t\tconstexpr double COEF_CENTER_L1_SQ = .*;  \\/\\/ OPTIMIZE \\[0\\.0, 100\\.0\\]$/\t\tconstexpr double COEF_CENTER_L1_SQ = 3.4131761036322;  \\/\\/ OPTIMIZE [0.0, 100.0]/' -e 's/^\t\tconstexpr double COEF_POINT = .*;  \\/\\/ OPTIMIZE \\[0\\.0, 100\\.0\\]$/\t\tconstexpr double COEF_POINT = 26.792002252403442;  \\/\\/ OPTIMIZE [0.0, 100.0]/' -e 's/^\t\tconstexpr double COEF_DIST = .*;  \\/\\/ OPTIMIZE \\[0\\.0, 10000\\.0\\]$/\t\tconstexpr double COEF_DIST = 9369.962443048484;  \\/\\/ OPTIMIZE [0.0, 10000.0]/'\n",
      "g++ 59_answer.cpp -std=gnu++17 -O2 -DONLINE_JUDGE -o 59_answer.cpp.out\n",
      "g++ 60_answer.cpp -std=gnu++17 -O2 -DONLINE_JUDGE -o 60_answer.cpp.out\n",
      "sed -i 61_answer.cpp -e 's/^\t\tconstexpr double COEF_CENTER_L1 = .*;  \\/\\/ OPTIMIZE \\[-100\\.0, 100\\.0\\]$/\t\tconstexpr double COEF_CENTER_L1 = -21.74357484115705;  \\/\\/ OPTIMIZE [-100.0, 100.0]/' -e 's/^\t\tconstexpr double COEF_CENTER_L1_SQ = .*;  \\/\\/ OPTIMIZE \\[0\\.0, 100\\.0\\]$/\t\tconstexpr double COEF_CENTER_L1_SQ = 13.074925016520755;  \\/\\/ OPTIMIZE [0.0, 100.0]/' -e 's/^\t\tconstexpr double COEF_POINT = .*;  \\/\\/ OPTIMIZE \\[0\\.0, 100\\.0\\]$/\t\tconstexpr double COEF_POINT = 27.016299942385675;  \\/\\/ OPTIMIZE [0.0, 100.0]/' -e 's/^\t\tconstexpr double COEF_DIST = .*;  \\/\\/ OPTIMIZE \\[0\\.0, 10000\\.0\\]$/\t\tconstexpr double COEF_DIST = 8829.689925308592;  \\/\\/ OPTIMIZE [0.0, 10000.0]/'\n",
      "g++ 61_answer.cpp -std=gnu++17 -O2 -DONLINE_JUDGE -o 61_answer.cpp.out\n",
      "sed -i 62_answer.cpp -e 's/^\t\tconstexpr double COEF_CENTER_L1 = .*;  \\/\\/ OPTIMIZE \\[-100\\.0, 100\\.0\\]$/\t\tconstexpr double COEF_CENTER_L1 = -14.833066654729453;  \\/\\/ OPTIMIZE [-100.0, 100.0]/' -e 's/^\t\tconstexpr double COEF_CENTER_L1_SQ = .*;  \\/\\/ OPTIMIZE \\[0\\.0, 100\\.0\\]$/\t\tconstexpr double COEF_CENTER_L1_SQ = 24.96843653794023;  \\/\\/ OPTIMIZE [0.0, 100.0]/' -e 's/^\t\tconstexpr double COEF_POINT = .*;  \\/\\/ OPTIMIZE \\[0\\.0, 100\\.0\\]$/\t\tconstexpr double COEF_POINT = 32.10367465892656;  \\/\\/ OPTIMIZE [0.0, 100.0]/' -e 's/^\t\tconstexpr double COEF_DIST = .*;  \\/\\/ OPTIMIZE \\[0\\.0, 10000\\.0\\]$/\t\tconstexpr double COEF_DIST = 9221.100645214214;  \\/\\/ OPTIMIZE [0.0, 10000.0]/'\n",
      "g++ 62_answer.cpp -std=gnu++17 -O2 -DONLINE_JUDGE -o 62_answer.cpp.out\n"
     ]
    },
    {
     "name": "stderr",
     "output_type": "stream",
     "text": [
      "\u001b[32m[I 2021-04-25 13:31:49,559]\u001b[0m Trial 457 finished with value: 1356893.0 and parameters: {'COEF_CENTER_L1': -4.242407825727253, 'COEF_CENTER_L1_SQ': 12.731353454189119, 'COEF_POINT': 36.02568092132526, 'COEF_DIST': 8927.324127880536}. Best is trial 142 with value: 1556780.0.\u001b[0m\n"
     ]
    },
    {
     "name": "stdout",
     "output_type": "stream",
     "text": [
      "callback ok\n",
      "index_parallel=63\n",
      "mkdir: cannot create directory ‘63_out’: File exists\n",
      "mkdir: cannot create directory ‘63_score’: File exists\n",
      "sed -i 63_answer.cpp -e 's/^\t\tconstexpr double COEF_CENTER_L1 = .*;  \\/\\/ OPTIMIZE \\[-100\\.0, 100\\.0\\]$/\t\tconstexpr double COEF_CENTER_L1 = -16.37347800910736;  \\/\\/ OPTIMIZE [-100.0, 100.0]/' -e 's/^\t\tconstexpr double COEF_CENTER_L1_SQ = .*;  \\/\\/ OPTIMIZE \\[0\\.0, 100\\.0\\]$/\t\tconstexpr double COEF_CENTER_L1_SQ = 10.255673261137018;  \\/\\/ OPTIMIZE [0.0, 100.0]/' -e 's/^\t\tconstexpr double COEF_POINT = .*;  \\/\\/ OPTIMIZE \\[0\\.0, 100\\.0\\]$/\t\tconstexpr double COEF_POINT = 27.52437813996102;  \\/\\/ OPTIMIZE [0.0, 100.0]/' -e 's/^\t\tconstexpr double COEF_DIST = .*;  \\/\\/ OPTIMIZE \\[0\\.0, 10000\\.0\\]$/\t\tconstexpr double COEF_DIST = 9128.153146251863;  \\/\\/ OPTIMIZE [0.0, 10000.0]/'\n",
      "g++ 63_answer.cpp -std=gnu++17 -O2 -DONLINE_JUDGE -o 63_answer.cpp.out\n"
     ]
    },
    {
     "name": "stderr",
     "output_type": "stream",
     "text": [
      "\u001b[32m[I 2021-04-25 13:31:56,818]\u001b[0m Trial 458 finished with value: 1348025.0 and parameters: {'COEF_CENTER_L1': -23.148245723446557, 'COEF_CENTER_L1_SQ': 10.461098486931428, 'COEF_POINT': 26.181183860113418, 'COEF_DIST': 8852.246243824698}. Best is trial 142 with value: 1556780.0.\u001b[0m\n"
     ]
    },
    {
     "name": "stdout",
     "output_type": "stream",
     "text": [
      "callback ok\n",
      "index_parallel=64\n",
      "mkdir: cannot create directory ‘64_out’: File exists\n",
      "mkdir: cannot create directory ‘64_score’: File exists\n"
     ]
    },
    {
     "name": "stderr",
     "output_type": "stream",
     "text": [
      "\u001b[32m[I 2021-04-25 13:31:58,016]\u001b[0m Trial 459 finished with value: 1395671.0 and parameters: {'COEF_CENTER_L1': -22.01533393168416, 'COEF_CENTER_L1_SQ': 10.346977981427663, 'COEF_POINT': 33.52588690987478, 'COEF_DIST': 9143.239338529354}. Best is trial 142 with value: 1556780.0.\u001b[0m\n",
      "\u001b[32m[I 2021-04-25 13:31:58,037]\u001b[0m Trial 460 finished with value: 1450740.0 and parameters: {'COEF_CENTER_L1': -76.3065266386429, 'COEF_CENTER_L1_SQ': 3.4131761036322, 'COEF_POINT': 26.792002252403442, 'COEF_DIST': 9369.962443048484}. Best is trial 142 with value: 1556780.0.\u001b[0m\n",
      "\u001b[32m[I 2021-04-25 13:31:58,054]\u001b[0m Trial 462 finished with value: 1056775.0 and parameters: {'COEF_CENTER_L1': -14.833066654729453, 'COEF_CENTER_L1_SQ': 24.96843653794023, 'COEF_POINT': 32.10367465892656, 'COEF_DIST': 9221.100645214214}. Best is trial 142 with value: 1556780.0.\u001b[0m\n"
     ]
    },
    {
     "name": "stdout",
     "output_type": "stream",
     "text": [
      "callback ok"
     ]
    },
    {
     "name": "stderr",
     "output_type": "stream",
     "text": [
      "\u001b[32m[I 2021-04-25 13:31:58,115]\u001b[0m Trial 461 finished with value: 1349821.0 and parameters: {'COEF_CENTER_L1': -21.74357484115705, 'COEF_CENTER_L1_SQ': 13.074925016520755, 'COEF_POINT': 27.016299942385675, 'COEF_DIST': 8829.689925308592}. Best is trial 142 with value: 1556780.0.\u001b[0m\n"
     ]
    },
    {
     "name": "stdout",
     "output_type": "stream",
     "text": [
      "\n",
      "callback ok\n",
      "callback ok\n",
      "index_parallel=66\n",
      "index_parallel=65\n",
      "index_parallel=67\n",
      "mkdir: cannot create directory ‘65_out’: File exists\n",
      "mkdir: cannot create directory ‘66_out’: File exists\n",
      "mkdir: cannot create directory ‘67_out’: File exists\n",
      "callback ok\n",
      "mkdir: cannot create directory ‘65_score’: File exists\n",
      "mkdir: cannot create directory ‘66_score’: File exists\n",
      "index_parallel=68\n",
      "mkdir: cannot create directory ‘67_score’: File exists\n",
      "mkdir: cannot create directory ‘68_out’: File exists\n",
      "sed -i 64_answer.cpp -e 's/^\t\tconstexpr double COEF_CENTER_L1 = .*;  \\/\\/ OPTIMIZE \\[-100\\.0, 100\\.0\\]$/\t\tconstexpr double COEF_CENTER_L1 = -13.723432726230458;  \\/\\/ OPTIMIZE [-100.0, 100.0]/' -e 's/^\t\tconstexpr double COEF_CENTER_L1_SQ = .*;  \\/\\/ OPTIMIZE \\[0\\.0, 100\\.0\\]$/\t\tconstexpr double COEF_CENTER_L1_SQ = 6.081882173449842;  \\/\\/ OPTIMIZE [0.0, 100.0]/' -e 's/^\t\tconstexpr double COEF_POINT = .*;  \\/\\/ OPTIMIZE \\[0\\.0, 100\\.0\\]$/\t\tconstexpr double COEF_POINT = 31.336800746432715;  \\/\\/ OPTIMIZE [0.0, 100.0]/' -e 's/^\t\tconstexpr double COEF_DIST = .*;  \\/\\/ OPTIMIZE \\[0\\.0, 10000\\.0\\]$/\t\tconstexpr double COEF_DIST = 8590.919633976071;  \\/\\/ OPTIMIZE [0.0, 10000.0]/'\n",
      "mkdir: cannot create directory ‘68_score’: File exists\n",
      "g++ 64_answer.cpp -std=gnu++17 -O2 -DONLINE_JUDGE -o 64_answer.cpp.out\n",
      "sed -i 65_answer.cpp -e 's/^\t\tconstexpr double COEF_CENTER_L1 = .*;  \\/\\/ OPTIMIZE \\[-100\\.0, 100\\.0\\]$/\t\tconstexpr double COEF_CENTER_L1 = -10.995894549222358;  \\/\\/ OPTIMIZE [-100.0, 100.0]/' -e 's/^\t\tconstexpr double COEF_CENTER_L1_SQ = .*;  \\/\\/ OPTIMIZE \\[0\\.0, 100\\.0\\]$/\t\tconstexpr double COEF_CENTER_L1_SQ = 5.763426168696248;  \\/\\/ OPTIMIZE [0.0, 100.0]/' -e 's/^\t\tconstexpr double COEF_POINT = .*;  \\/\\/ OPTIMIZE \\[0\\.0, 100\\.0\\]$/\t\tconstexpr double COEF_POINT = 31.333593270269454;  \\/\\/ OPTIMIZE [0.0, 100.0]/' -e 's/^\t\tconstexpr double COEF_DIST = .*;  \\/\\/ OPTIMIZE \\[0\\.0, 10000\\.0\\]$/\t\tconstexpr double COEF_DIST = 8763.327326755423;  \\/\\/ OPTIMIZE [0.0, 10000.0]/'\n",
      "g++ 65_answer.cpp -std=gnu++17 -O2 -DONLINE_JUDGE -o 65_answer.cpp.out\n",
      "sed -i 67_answer.cpp -e 's/^\t\tconstexpr double COEF_CENTER_L1 = .*;  \\/\\/ OPTIMIZE \\[-100\\.0, 100\\.0\\]$/\t\tconstexpr double COEF_CENTER_L1 = -15.320977938679974;  \\/\\/ OPTIMIZE [-100.0, 100.0]/' -e 's/^\t\tconstexpr double COEF_CENTER_L1_SQ = .*;  \\/\\/ OPTIMIZE \\[0\\.0, 100\\.0\\]$/\t\tconstexpr double COEF_CENTER_L1_SQ = 5.677206213865224;  \\/\\/ OPTIMIZE [0.0, 100.0]/' -e 's/^\t\tconstexpr double COEF_POINT = .*;  \\/\\/ OPTIMIZE \\[0\\.0, 100\\.0\\]$/\t\tconstexpr double COEF_POINT = 31.031155492149594;  \\/\\/ OPTIMIZE [0.0, 100.0]/' -e 's/^\t\tconstexpr double COEF_DIST = .*;  \\/\\/ OPTIMIZE \\[0\\.0, 10000\\.0\\]$/\t\tconstexpr double COEF_DIST = 3039.293202327176;  \\/\\/ OPTIMIZE [0.0, 10000.0]/'\n",
      "sed -i 66_answer.cpp -e 's/^\t\tconstexpr double COEF_CENTER_L1 = .*;  \\/\\/ OPTIMIZE \\[-100\\.0, 100\\.0\\]$/\t\tconstexpr double COEF_CENTER_L1 = -9.679762100890562;  \\/\\/ OPTIMIZE [-100.0, 100.0]/' -e 's/^\t\tconstexpr double COEF_CENTER_L1_SQ = .*;  \\/\\/ OPTIMIZE \\[0\\.0, 100\\.0\\]$/\t\tconstexpr double COEF_CENTER_L1_SQ = 6.350027347739421;  \\/\\/ OPTIMIZE [0.0, 100.0]/' -e 's/^\t\tconstexpr double COEF_POINT = .*;  \\/\\/ OPTIMIZE \\[0\\.0, 100\\.0\\]$/\t\tconstexpr double COEF_POINT = 3.449765158797276;  \\/\\/ OPTIMIZE [0.0, 100.0]/' -e 's/^\t\tconstexpr double COEF_DIST = .*;  \\/\\/ OPTIMIZE \\[0\\.0, 10000\\.0\\]$/\t\tconstexpr double COEF_DIST = 8637.80156105388;  \\/\\/ OPTIMIZE [0.0, 10000.0]/'\n",
      "g++ 67_answer.cpp -std=gnu++17 -O2 -DONLINE_JUDGE -o 67_answer.cpp.out\n",
      "g++ 66_answer.cpp -std=gnu++17 -O2 -DONLINE_JUDGE -o 66_answer.cpp.out\n",
      "sed -i 68_answer.cpp -e 's/^\t\tconstexpr double COEF_CENTER_L1 = .*;  \\/\\/ OPTIMIZE \\[-100\\.0, 100\\.0\\]$/\t\tconstexpr double COEF_CENTER_L1 = -12.898690438519601;  \\/\\/ OPTIMIZE [-100.0, 100.0]/' -e 's/^\t\tconstexpr double COEF_CENTER_L1_SQ = .*;  \\/\\/ OPTIMIZE \\[0\\.0, 100\\.0\\]$/\t\tconstexpr double COEF_CENTER_L1_SQ = 5.920942656872908;  \\/\\/ OPTIMIZE [0.0, 100.0]/' -e 's/^\t\tconstexpr double COEF_POINT = .*;  \\/\\/ OPTIMIZE \\[0\\.0, 100\\.0\\]$/\t\tconstexpr double COEF_POINT = 31.05876647582833;  \\/\\/ OPTIMIZE [0.0, 100.0]/' -e 's/^\t\tconstexpr double COEF_DIST = .*;  \\/\\/ OPTIMIZE \\[0\\.0, 10000\\.0\\]$/\t\tconstexpr double COEF_DIST = 8605.095838311649;  \\/\\/ OPTIMIZE [0.0, 10000.0]/'\n"
     ]
    },
    {
     "name": "stderr",
     "output_type": "stream",
     "text": [
      "\u001b[32m[I 2021-04-25 13:32:01,464]\u001b[0m Trial 463 finished with value: 1397127.0 and parameters: {'COEF_CENTER_L1': -16.37347800910736, 'COEF_CENTER_L1_SQ': 10.255673261137018, 'COEF_POINT': 27.52437813996102, 'COEF_DIST': 9128.153146251863}. Best is trial 142 with value: 1556780.0.\u001b[0m\n"
     ]
    },
    {
     "name": "stdout",
     "output_type": "stream",
     "text": [
      "callback ok\n",
      "index_parallel=69\n",
      "mkdir: cannot create directory ‘69_out’: File exists\n",
      "g++ 68_answer.cpp -std=gnu++17 -O2 -DONLINE_JUDGE -o 68_answer.cpp.out\n",
      "mkdir: cannot create directory ‘69_score’: File exists\n",
      "sed -i 69_answer.cpp -e 's/^\t\tconstexpr double COEF_CENTER_L1 = .*;  \\/\\/ OPTIMIZE \\[-100\\.0, 100\\.0\\]$/\t\tconstexpr double COEF_CENTER_L1 = -11.777011516471987;  \\/\\/ OPTIMIZE [-100.0, 100.0]/' -e 's/^\t\tconstexpr double COEF_CENTER_L1_SQ = .*;  \\/\\/ OPTIMIZE \\[0\\.0, 100\\.0\\]$/\t\tconstexpr double COEF_CENTER_L1_SQ = 5.076200636947377;  \\/\\/ OPTIMIZE [0.0, 100.0]/' -e 's/^\t\tconstexpr double COEF_POINT = .*;  \\/\\/ OPTIMIZE \\[0\\.0, 100\\.0\\]$/\t\tconstexpr double COEF_POINT = 30.547473023682183;  \\/\\/ OPTIMIZE [0.0, 100.0]/' -e 's/^\t\tconstexpr double COEF_DIST = .*;  \\/\\/ OPTIMIZE \\[0\\.0, 10000\\.0\\]$/\t\tconstexpr double COEF_DIST = 8486.558608387546;  \\/\\/ OPTIMIZE [0.0, 10000.0]/'\n",
      "g++ 69_answer.cpp -std=gnu++17 -O2 -DONLINE_JUDGE -o 69_answer.cpp.out\n"
     ]
    },
    {
     "name": "stderr",
     "output_type": "stream",
     "text": [
      "\u001b[32m[I 2021-04-25 13:32:09,359]\u001b[0m Trial 464 finished with value: 1509086.0 and parameters: {'COEF_CENTER_L1': -13.723432726230458, 'COEF_CENTER_L1_SQ': 6.081882173449842, 'COEF_POINT': 31.336800746432715, 'COEF_DIST': 8590.919633976071}. Best is trial 142 with value: 1556780.0.\u001b[0m\n"
     ]
    },
    {
     "name": "stdout",
     "output_type": "stream",
     "text": [
      "callback ok\n",
      "index_parallel=70\n",
      "mkdir: cannot create directory ‘70_out’: File exists\n",
      "mkdir: cannot create directory ‘70_score’: File exists\n"
     ]
    },
    {
     "name": "stderr",
     "output_type": "stream",
     "text": [
      "\u001b[32m[I 2021-04-25 13:32:10,033]\u001b[0m Trial 467 finished with value: 1280835.0 and parameters: {'COEF_CENTER_L1': -15.320977938679974, 'COEF_CENTER_L1_SQ': 5.677206213865224, 'COEF_POINT': 31.031155492149594, 'COEF_DIST': 3039.293202327176}. Best is trial 142 with value: 1556780.0.\u001b[0m\n"
     ]
    },
    {
     "name": "stdout",
     "output_type": "stream",
     "text": [
      "callback ok\n",
      "index_parallel=71\n",
      "mkdir: cannot create directory ‘71_out’: File exists\n",
      "mkdir: cannot create directory ‘71_score’: File exists\n"
     ]
    },
    {
     "name": "stderr",
     "output_type": "stream",
     "text": [
      "\u001b[32m[I 2021-04-25 13:32:10,818]\u001b[0m Trial 465 finished with value: 1530441.0 and parameters: {'COEF_CENTER_L1': -10.995894549222358, 'COEF_CENTER_L1_SQ': 5.763426168696248, 'COEF_POINT': 31.333593270269454, 'COEF_DIST': 8763.327326755423}. Best is trial 142 with value: 1556780.0.\u001b[0m\n",
      "\u001b[32m[I 2021-04-25 13:32:10,835]\u001b[0m Trial 466 finished with value: 1387628.0 and parameters: {'COEF_CENTER_L1': -9.679762100890562, 'COEF_CENTER_L1_SQ': 6.350027347739421, 'COEF_POINT': 3.449765158797276, 'COEF_DIST': 8637.80156105388}. Best is trial 142 with value: 1556780.0.\u001b[0m\n"
     ]
    },
    {
     "name": "stdout",
     "output_type": "stream",
     "text": [
      "callback ok\n",
      "callback ok\n",
      "index_parallel=72\n",
      "index_parallel=73\n",
      "mkdir: cannot create directory ‘72_out’: File exists\n",
      "mkdir: cannot create directory ‘73_out’: File exists\n",
      "mkdir: cannot create directory ‘72_score’: File exists\n",
      "mkdir: cannot create directory ‘73_score’: File exists\n"
     ]
    },
    {
     "name": "stderr",
     "output_type": "stream",
     "text": [
      "\u001b[32m[I 2021-04-25 13:32:12,896]\u001b[0m Trial 468 finished with value: 1531661.0 and parameters: {'COEF_CENTER_L1': -12.898690438519601, 'COEF_CENTER_L1_SQ': 5.920942656872908, 'COEF_POINT': 31.05876647582833, 'COEF_DIST': 8605.095838311649}. Best is trial 142 with value: 1556780.0.\u001b[0m\n"
     ]
    },
    {
     "name": "stdout",
     "output_type": "stream",
     "text": [
      "callback ok\n",
      "sed -i 70_answer.cpp -e 's/^\t\tconstexpr double COEF_CENTER_L1 = .*;  \\/\\/ OPTIMIZE \\[-100\\.0, 100\\.0\\]$/\t\tconstexpr double COEF_CENTER_L1 = -61.443393975484305;  \\/\\/ OPTIMIZE [-100.0, 100.0]/' -e 's/^\t\tconstexpr double COEF_CENTER_L1_SQ = .*;  \\/\\/ OPTIMIZE \\[0\\.0, 100\\.0\\]$/\t\tconstexpr double COEF_CENTER_L1_SQ = 48.078745112752195;  \\/\\/ OPTIMIZE [0.0, 100.0]/' -e 's/^\t\tconstexpr double COEF_POINT = .*;  \\/\\/ OPTIMIZE \\[0\\.0, 100\\.0\\]$/\t\tconstexpr double COEF_POINT = 32.00901626319466;  \\/\\/ OPTIMIZE [0.0, 100.0]/' -e 's/^\t\tconstexpr double COEF_DIST = .*;  \\/\\/ OPTIMIZE \\[0\\.0, 10000\\.0\\]$/\t\tconstexpr double COEF_DIST = 8409.84885221101;  \\/\\/ OPTIMIZE [0.0, 10000.0]/'\n",
      "index_parallel=74\n",
      "g++ 70_answer.cpp -std=gnu++17 -O2 -DONLINE_JUDGE -o 70_answer.cpp.out\n",
      "mkdir: cannot create directory ‘74_out’: File exists\n",
      "sed -i 71_answer.cpp -e 's/^\t\tconstexpr double COEF_CENTER_L1 = .*;  \\/\\/ OPTIMIZE \\[-100\\.0, 100\\.0\\]$/\t\tconstexpr double COEF_CENTER_L1 = -66.75871425157185;  \\/\\/ OPTIMIZE [-100.0, 100.0]/' -e 's/^\t\tconstexpr double COEF_CENTER_L1_SQ = .*;  \\/\\/ OPTIMIZE \\[0\\.0, 100\\.0\\]$/\t\tconstexpr double COEF_CENTER_L1_SQ = 8.648098840225426;  \\/\\/ OPTIMIZE [0.0, 100.0]/' -e 's/^\t\tconstexpr double COEF_POINT = .*;  \\/\\/ OPTIMIZE \\[0\\.0, 100\\.0\\]$/\t\tconstexpr double COEF_POINT = 28.777429865519714;  \\/\\/ OPTIMIZE [0.0, 100.0]/' -e 's/^\t\tconstexpr double COEF_DIST = .*;  \\/\\/ OPTIMIZE \\[0\\.0, 10000\\.0\\]$/\t\tconstexpr double COEF_DIST = 8954.947300987604;  \\/\\/ OPTIMIZE [0.0, 10000.0]/'\n",
      "mkdir: cannot create directory ‘74_score’: File exists\n",
      "g++ 71_answer.cpp -std=gnu++17 -O2 -DONLINE_JUDGE -o 71_answer.cpp.out\n"
     ]
    },
    {
     "name": "stderr",
     "output_type": "stream",
     "text": [
      "\u001b[32m[I 2021-04-25 13:32:13,459]\u001b[0m Trial 469 finished with value: 1535929.0 and parameters: {'COEF_CENTER_L1': -11.777011516471987, 'COEF_CENTER_L1_SQ': 5.076200636947377, 'COEF_POINT': 30.547473023682183, 'COEF_DIST': 8486.558608387546}. Best is trial 142 with value: 1556780.0.\u001b[0m\n"
     ]
    },
    {
     "name": "stdout",
     "output_type": "stream",
     "text": [
      "callback ok\n",
      "index_parallel=75\n",
      "mkdir: cannot create directory ‘75_out’: File exists\n",
      "mkdir: cannot create directory ‘75_score’: File exists\n",
      "sed -i 72_answer.cpp -e 's/^\t\tconstexpr double COEF_CENTER_L1 = .*;  \\/\\/ OPTIMIZE \\[-100\\.0, 100\\.0\\]$/\t\tconstexpr double COEF_CENTER_L1 = -27.116734257773203;  \\/\\/ OPTIMIZE [-100.0, 100.0]/' -e 's/^\t\tconstexpr double COEF_CENTER_L1_SQ = .*;  \\/\\/ OPTIMIZE \\[0\\.0, 100\\.0\\]$/\t\tconstexpr double COEF_CENTER_L1_SQ = 8.241280604485532;  \\/\\/ OPTIMIZE [0.0, 100.0]/' -e 's/^\t\tconstexpr double COEF_POINT = .*;  \\/\\/ OPTIMIZE \\[0\\.0, 100\\.0\\]$/\t\tconstexpr double COEF_POINT = 29.659886100843224;  \\/\\/ OPTIMIZE [0.0, 100.0]/' -e 's/^\t\tconstexpr double COEF_DIST = .*;  \\/\\/ OPTIMIZE \\[0\\.0, 10000\\.0\\]$/\t\tconstexpr double COEF_DIST = 8342.708753673835;  \\/\\/ OPTIMIZE [0.0, 10000.0]/'\n",
      "sed -i 73_answer.cpp -e 's/^\t\tconstexpr double COEF_CENTER_L1 = .*;  \\/\\/ OPTIMIZE \\[-100\\.0, 100\\.0\\]$/\t\tconstexpr double COEF_CENTER_L1 = -11.962004385913609;  \\/\\/ OPTIMIZE [-100.0, 100.0]/' -e 's/^\t\tconstexpr double COEF_CENTER_L1_SQ = .*;  \\/\\/ OPTIMIZE \\[0\\.0, 100\\.0\\]$/\t\tconstexpr double COEF_CENTER_L1_SQ = 8.025415834670426;  \\/\\/ OPTIMIZE [0.0, 100.0]/' -e 's/^\t\tconstexpr double COEF_POINT = .*;  \\/\\/ OPTIMIZE \\[0\\.0, 100\\.0\\]$/\t\tconstexpr double COEF_POINT = 28.64201830548313;  \\/\\/ OPTIMIZE [0.0, 100.0]/' -e 's/^\t\tconstexpr double COEF_DIST = .*;  \\/\\/ OPTIMIZE \\[0\\.0, 10000\\.0\\]$/\t\tconstexpr double COEF_DIST = 8397.278535519461;  \\/\\/ OPTIMIZE [0.0, 10000.0]/'\n",
      "g++ 72_answer.cpp -std=gnu++17 -O2 -DONLINE_JUDGE -o 72_answer.cpp.out\n",
      "g++ 73_answer.cpp -std=gnu++17 -O2 -DONLINE_JUDGE -o 73_answer.cpp.out\n",
      "sed -i 74_answer.cpp -e 's/^\t\tconstexpr double COEF_CENTER_L1 = .*;  \\/\\/ OPTIMIZE \\[-100\\.0, 100\\.0\\]$/\t\tconstexpr double COEF_CENTER_L1 = -10.989531795646101;  \\/\\/ OPTIMIZE [-100.0, 100.0]/' -e 's/^\t\tconstexpr double COEF_CENTER_L1_SQ = .*;  \\/\\/ OPTIMIZE \\[0\\.0, 100\\.0\\]$/\t\tconstexpr double COEF_CENTER_L1_SQ = 8.23913298338168;  \\/\\/ OPTIMIZE [0.0, 100.0]/' -e 's/^\t\tconstexpr double COEF_POINT = .*;  \\/\\/ OPTIMIZE \\[0\\.0, 100\\.0\\]$/\t\tconstexpr double COEF_POINT = 28.465893304965352;  \\/\\/ OPTIMIZE [0.0, 100.0]/' -e 's/^\t\tconstexpr double COEF_DIST = .*;  \\/\\/ OPTIMIZE \\[0\\.0, 10000\\.0\\]$/\t\tconstexpr double COEF_DIST = 8322.695503382316;  \\/\\/ OPTIMIZE [0.0, 10000.0]/'\n",
      "g++ 74_answer.cpp -std=gnu++17 -O2 -DONLINE_JUDGE -o 74_answer.cpp.out\n",
      "sed -i 75_answer.cpp -e 's/^\t\tconstexpr double COEF_CENTER_L1 = .*;  \\/\\/ OPTIMIZE \\[-100\\.0, 100\\.0\\]$/\t\tconstexpr double COEF_CENTER_L1 = -12.035250588571634;  \\/\\/ OPTIMIZE [-100.0, 100.0]/' -e 's/^\t\tconstexpr double COEF_CENTER_L1_SQ = .*;  \\/\\/ OPTIMIZE \\[0\\.0, 100\\.0\\]$/\t\tconstexpr double COEF_CENTER_L1_SQ = 9.056845475209558;  \\/\\/ OPTIMIZE [0.0, 100.0]/' -e 's/^\t\tconstexpr double COEF_POINT = .*;  \\/\\/ OPTIMIZE \\[0\\.0, 100\\.0\\]$/\t\tconstexpr double COEF_POINT = 30.415611135915658;  \\/\\/ OPTIMIZE [0.0, 100.0]/' -e 's/^\t\tconstexpr double COEF_DIST = .*;  \\/\\/ OPTIMIZE \\[0\\.0, 10000\\.0\\]$/\t\tconstexpr double COEF_DIST = 8405.87343726513;  \\/\\/ OPTIMIZE [0.0, 10000.0]/'\n",
      "g++ 75_answer.cpp -std=gnu++17 -O2 -DONLINE_JUDGE -o 75_answer.cpp.out\n"
     ]
    },
    {
     "name": "stderr",
     "output_type": "stream",
     "text": [
      "\u001b[32m[I 2021-04-25 13:32:22,286]\u001b[0m Trial 470 finished with value: 773193.0 and parameters: {'COEF_CENTER_L1': -61.443393975484305, 'COEF_CENTER_L1_SQ': 48.078745112752195, 'COEF_POINT': 32.00901626319466, 'COEF_DIST': 8409.84885221101}. Best is trial 142 with value: 1556780.0.\u001b[0m\n"
     ]
    },
    {
     "name": "stdout",
     "output_type": "stream",
     "text": [
      "callback ok\n",
      "index_parallel=76\n",
      "mkdir: cannot create directory ‘76_out’: File exists\n",
      "mkdir: cannot create directory ‘76_score’: File exists\n"
     ]
    },
    {
     "name": "stderr",
     "output_type": "stream",
     "text": [
      "\u001b[32m[I 2021-04-25 13:32:24,448]\u001b[0m Trial 471 finished with value: 1477940.0 and parameters: {'COEF_CENTER_L1': -66.75871425157185, 'COEF_CENTER_L1_SQ': 8.648098840225426, 'COEF_POINT': 28.777429865519714, 'COEF_DIST': 8954.947300987604}. Best is trial 142 with value: 1556780.0.\u001b[0m\n"
     ]
    },
    {
     "name": "stdout",
     "output_type": "stream",
     "text": [
      "callback ok\n",
      "sed -i 76_answer.cpp -e 's/^\t\tconstexpr double COEF_CENTER_L1 = .*;  \\/\\/ OPTIMIZE \\[-100\\.0, 100\\.0\\]$/\t\tconstexpr double COEF_CENTER_L1 = -13.868967524576547;  \\/\\/ OPTIMIZE [-100.0, 100.0]/' -e 's/^\t\tconstexpr double COEF_CENTER_L1_SQ = .*;  \\/\\/ OPTIMIZE \\[0\\.0, 100\\.0\\]$/\t\tconstexpr double COEF_CENTER_L1_SQ = 8.945132130449737;  \\/\\/ OPTIMIZE [0.0, 100.0]/' -e 's/^\t\tconstexpr double COEF_POINT = .*;  \\/\\/ OPTIMIZE \\[0\\.0, 100\\.0\\]$/\t\tconstexpr double COEF_POINT = 28.38796260092347;  \\/\\/ OPTIMIZE [0.0, 100.0]/' -e 's/^\t\tconstexpr double COEF_DIST = .*;  \\/\\/ OPTIMIZE \\[0\\.0, 10000\\.0\\]$/\t\tconstexpr double COEF_DIST = 8832.897805464121;  \\/\\/ OPTIMIZE [0.0, 10000.0]/'\n",
      "index_parallel=77\n",
      "mkdir: cannot create directory ‘77_out’: File exists\n",
      "g++ 76_answer.cpp -std=gnu++17 -O2 -DONLINE_JUDGE -o 76_answer.cpp.out\n",
      "mkdir: cannot create directory ‘77_score’: File exists\n"
     ]
    },
    {
     "name": "stderr",
     "output_type": "stream",
     "text": [
      "\u001b[32m[I 2021-04-25 13:32:25,251]\u001b[0m Trial 473 finished with value: 1401149.0 and parameters: {'COEF_CENTER_L1': -11.962004385913609, 'COEF_CENTER_L1_SQ': 8.025415834670426, 'COEF_POINT': 28.64201830548313, 'COEF_DIST': 8397.278535519461}. Best is trial 142 with value: 1556780.0.\u001b[0m\n",
      "\u001b[32m[I 2021-04-25 13:32:25,305]\u001b[0m Trial 472 finished with value: 1446111.0 and parameters: {'COEF_CENTER_L1': -27.116734257773203, 'COEF_CENTER_L1_SQ': 8.241280604485532, 'COEF_POINT': 29.659886100843224, 'COEF_DIST': 8342.708753673835}. Best is trial 142 with value: 1556780.0.\u001b[0m\n"
     ]
    },
    {
     "name": "stdout",
     "output_type": "stream",
     "text": [
      "callback ok\n",
      "callback ok\n",
      "index_parallel=78\n",
      "mkdir: cannot create directory ‘78_out’: File exists\n",
      "index_parallel=79\n",
      "mkdir: cannot create directory ‘79_out’: File exists\n",
      "mkdir: cannot create directory ‘78_score’: File exists\n"
     ]
    },
    {
     "name": "stderr",
     "output_type": "stream",
     "text": [
      "\u001b[32m[I 2021-04-25 13:32:25,592]\u001b[0m Trial 474 finished with value: 1383765.0 and parameters: {'COEF_CENTER_L1': -10.989531795646101, 'COEF_CENTER_L1_SQ': 8.23913298338168, 'COEF_POINT': 28.465893304965352, 'COEF_DIST': 8322.695503382316}. Best is trial 142 with value: 1556780.0.\u001b[0m\n"
     ]
    },
    {
     "name": "stdout",
     "output_type": "stream",
     "text": [
      "mkdir: cannot create directory ‘79_score’: File exists\n",
      "callback ok\n",
      "index_parallel=80\n",
      "mkdir: cannot create directory ‘80_out’: File exists\n"
     ]
    },
    {
     "name": "stderr",
     "output_type": "stream",
     "text": [
      "\u001b[32m[I 2021-04-25 13:32:25,816]\u001b[0m Trial 475 finished with value: 1380903.0 and parameters: {'COEF_CENTER_L1': -12.035250588571634, 'COEF_CENTER_L1_SQ': 9.056845475209558, 'COEF_POINT': 30.415611135915658, 'COEF_DIST': 8405.87343726513}. Best is trial 142 with value: 1556780.0.\u001b[0m\n"
     ]
    },
    {
     "name": "stdout",
     "output_type": "stream",
     "text": [
      "mkdir: cannot create directory ‘80_score’: File exists\n",
      "callback ok\n",
      "index_parallel=81\n",
      "mkdir: cannot create directory ‘81_out’: File exists\n",
      "sed -i 77_answer.cpp -e 's/^\t\tconstexpr double COEF_CENTER_L1 = .*;  \\/\\/ OPTIMIZE \\[-100\\.0, 100\\.0\\]$/\t\tconstexpr double COEF_CENTER_L1 = -18.79180465203968;  \\/\\/ OPTIMIZE [-100.0, 100.0]/' -e 's/^\t\tconstexpr double COEF_CENTER_L1_SQ = .*;  \\/\\/ OPTIMIZE \\[0\\.0, 100\\.0\\]$/\t\tconstexpr double COEF_CENTER_L1_SQ = 5.926365613549671;  \\/\\/ OPTIMIZE [0.0, 100.0]/' -e 's/^\t\tconstexpr double COEF_POINT = .*;  \\/\\/ OPTIMIZE \\[0\\.0, 100\\.0\\]$/\t\tconstexpr double COEF_POINT = 32.75788294394294;  \\/\\/ OPTIMIZE [0.0, 100.0]/' -e 's/^\t\tconstexpr double COEF_DIST = .*;  \\/\\/ OPTIMIZE \\[0\\.0, 10000\\.0\\]$/\t\tconstexpr double COEF_DIST = 8566.748361126025;  \\/\\/ OPTIMIZE [0.0, 10000.0]/'\n",
      "mkdir: cannot create directory ‘81_score’: File exists\n",
      "g++ 77_answer.cpp -std=gnu++17 -O2 -DONLINE_JUDGE -o 77_answer.cpp.out\n",
      "sed -i 78_answer.cpp -e 's/^\t\tconstexpr double COEF_CENTER_L1 = .*;  \\/\\/ OPTIMIZE \\[-100\\.0, 100\\.0\\]$/\t\tconstexpr double COEF_CENTER_L1 = -19.383794033587613;  \\/\\/ OPTIMIZE [-100.0, 100.0]/' -e 's/^\t\tconstexpr double COEF_CENTER_L1_SQ = .*;  \\/\\/ OPTIMIZE \\[0\\.0, 100\\.0\\]$/\t\tconstexpr double COEF_CENTER_L1_SQ = 4.9369676548790435;  \\/\\/ OPTIMIZE [0.0, 100.0]/' -e 's/^\t\tconstexpr double COEF_POINT = .*;  \\/\\/ OPTIMIZE \\[0\\.0, 100\\.0\\]$/\t\tconstexpr double COEF_POINT = 31.66438144738213;  \\/\\/ OPTIMIZE [0.0, 100.0]/' -e 's/^\t\tconstexpr double COEF_DIST = .*;  \\/\\/ OPTIMIZE \\[0\\.0, 10000\\.0\\]$/\t\tconstexpr double COEF_DIST = 8864.527022819795;  \\/\\/ OPTIMIZE [0.0, 10000.0]/'\n",
      "g++ 78_answer.cpp -std=gnu++17 -O2 -DONLINE_JUDGE -o 78_answer.cpp.out\n",
      "sed -i 79_answer.cpp -e 's/^\t\tconstexpr double COEF_CENTER_L1 = .*;  \\/\\/ OPTIMIZE \\[-100\\.0, 100\\.0\\]$/\t\tconstexpr double COEF_CENTER_L1 = -18.118034647614373;  \\/\\/ OPTIMIZE [-100.0, 100.0]/' -e 's/^\t\tconstexpr double COEF_CENTER_L1_SQ = .*;  \\/\\/ OPTIMIZE \\[0\\.0, 100\\.0\\]$/\t\tconstexpr double COEF_CENTER_L1_SQ = 5.606876584085583;  \\/\\/ OPTIMIZE [0.0, 100.0]/' -e 's/^\t\tconstexpr double COEF_POINT = .*;  \\/\\/ OPTIMIZE \\[0\\.0, 100\\.0\\]$/\t\tconstexpr double COEF_POINT = 32.349753088107704;  \\/\\/ OPTIMIZE [0.0, 100.0]/' -e 's/^\t\tconstexpr double COEF_DIST = .*;  \\/\\/ OPTIMIZE \\[0\\.0, 10000\\.0\\]$/\t\tconstexpr double COEF_DIST = 8771.58512618411;  \\/\\/ OPTIMIZE [0.0, 10000.0]/'\n",
      "g++ 79_answer.cpp -std=gnu++17 -O2 -DONLINE_JUDGE -o 79_answer.cpp.out\n",
      "sed -i 80_answer.cpp -e 's/^\t\tconstexpr double COEF_CENTER_L1 = .*;  \\/\\/ OPTIMIZE \\[-100\\.0, 100\\.0\\]$/\t\tconstexpr double COEF_CENTER_L1 = -17.82402454996645;  \\/\\/ OPTIMIZE [-100.0, 100.0]/' -e 's/^\t\tconstexpr double COEF_CENTER_L1_SQ = .*;  \\/\\/ OPTIMIZE \\[0\\.0, 100\\.0\\]$/\t\tconstexpr double COEF_CENTER_L1_SQ = 5.403197072159584;  \\/\\/ OPTIMIZE [0.0, 100.0]/' -e 's/^\t\tconstexpr double COEF_POINT = .*;  \\/\\/ OPTIMIZE \\[0\\.0, 100\\.0\\]$/\t\tconstexpr double COEF_POINT = 30.80091016959762;  \\/\\/ OPTIMIZE [0.0, 100.0]/' -e 's/^\t\tconstexpr double COEF_DIST = .*;  \\/\\/ OPTIMIZE \\[0\\.0, 10000\\.0\\]$/\t\tconstexpr double COEF_DIST = 8925.003661506817;  \\/\\/ OPTIMIZE [0.0, 10000.0]/'\n",
      "g++ 80_answer.cpp -std=gnu++17 -O2 -DONLINE_JUDGE -o 80_answer.cpp.out\n",
      "sed -i 81_answer.cpp -e 's/^\t\tconstexpr double COEF_CENTER_L1 = .*;  \\/\\/ OPTIMIZE \\[-100\\.0, 100\\.0\\]$/\t\tconstexpr double COEF_CENTER_L1 = -12.788211031858346;  \\/\\/ OPTIMIZE [-100.0, 100.0]/' -e 's/^\t\tconstexpr double COEF_CENTER_L1_SQ = .*;  \\/\\/ OPTIMIZE \\[0\\.0, 100\\.0\\]$/\t\tconstexpr double COEF_CENTER_L1_SQ = 5.558053971386988;  \\/\\/ OPTIMIZE [0.0, 100.0]/' -e 's/^\t\tconstexpr double COEF_POINT = .*;  \\/\\/ OPTIMIZE \\[0\\.0, 100\\.0\\]$/\t\tconstexpr double COEF_POINT = 32.50938279037925;  \\/\\/ OPTIMIZE [0.0, 100.0]/' -e 's/^\t\tconstexpr double COEF_DIST = .*;  \\/\\/ OPTIMIZE \\[0\\.0, 10000\\.0\\]$/\t\tconstexpr double COEF_DIST = 8765.165631641186;  \\/\\/ OPTIMIZE [0.0, 10000.0]/'\n",
      "g++ 81_answer.cpp -std=gnu++17 -O2 -DONLINE_JUDGE -o 81_answer.cpp.out\n"
     ]
    },
    {
     "name": "stderr",
     "output_type": "stream",
     "text": [
      "\u001b[32m[I 2021-04-25 13:32:33,934]\u001b[0m Trial 476 finished with value: 1403051.0 and parameters: {'COEF_CENTER_L1': -13.868967524576547, 'COEF_CENTER_L1_SQ': 8.945132130449737, 'COEF_POINT': 28.38796260092347, 'COEF_DIST': 8832.897805464121}. Best is trial 142 with value: 1556780.0.\u001b[0m\n"
     ]
    },
    {
     "name": "stdout",
     "output_type": "stream",
     "text": [
      "callback ok\n",
      "index_parallel=82\n",
      "mkdir: cannot create directory ‘82_out’: File exists\n",
      "mkdir: cannot create directory ‘82_score’: File exists\n",
      "sed -i 82_answer.cpp -e 's/^\t\tconstexpr double COEF_CENTER_L1 = .*;  \\/\\/ OPTIMIZE \\[-100\\.0, 100\\.0\\]$/\t\tconstexpr double COEF_CENTER_L1 = -15.927325190982913;  \\/\\/ OPTIMIZE [-100.0, 100.0]/' -e 's/^\t\tconstexpr double COEF_CENTER_L1_SQ = .*;  \\/\\/ OPTIMIZE \\[0\\.0, 100\\.0\\]$/\t\tconstexpr double COEF_CENTER_L1_SQ = 5.206353049183459;  \\/\\/ OPTIMIZE [0.0, 100.0]/' -e 's/^\t\tconstexpr double COEF_POINT = .*;  \\/\\/ OPTIMIZE \\[0\\.0, 100\\.0\\]$/\t\tconstexpr double COEF_POINT = 32.19189624458441;  \\/\\/ OPTIMIZE [0.0, 100.0]/' -e 's/^\t\tconstexpr double COEF_DIST = .*;  \\/\\/ OPTIMIZE \\[0\\.0, 10000\\.0\\]$/\t\tconstexpr double COEF_DIST = 8828.170862080853;  \\/\\/ OPTIMIZE [0.0, 10000.0]/'\n",
      "g++ 82_answer.cpp -std=gnu++17 -O2 -DONLINE_JUDGE -o 82_answer.cpp.out\n"
     ]
    },
    {
     "name": "stderr",
     "output_type": "stream",
     "text": [
      "\u001b[32m[I 2021-04-25 13:32:36,777]\u001b[0m Trial 477 finished with value: 1527175.0 and parameters: {'COEF_CENTER_L1': -18.79180465203968, 'COEF_CENTER_L1_SQ': 5.926365613549671, 'COEF_POINT': 32.75788294394294, 'COEF_DIST': 8566.748361126025}. Best is trial 142 with value: 1556780.0.\u001b[0m\n"
     ]
    },
    {
     "name": "stdout",
     "output_type": "stream",
     "text": [
      "callback ok\n",
      "index_parallel=83\n",
      "mkdir: cannot create directory ‘83_out’: File exists\n",
      "mkdir: cannot create directory ‘83_score’: File exists\n"
     ]
    },
    {
     "name": "stderr",
     "output_type": "stream",
     "text": [
      "\u001b[32m[I 2021-04-25 13:32:37,812]\u001b[0m Trial 478 finished with value: 1486033.0 and parameters: {'COEF_CENTER_L1': -19.383794033587613, 'COEF_CENTER_L1_SQ': 4.9369676548790435, 'COEF_POINT': 31.66438144738213, 'COEF_DIST': 8864.527022819795}. Best is trial 142 with value: 1556780.0.\u001b[0m\n"
     ]
    },
    {
     "name": "stdout",
     "output_type": "stream",
     "text": [
      "callback ok\n",
      "index_parallel=84\n",
      "mkdir: cannot create directory ‘84_out’: File exists\n",
      "mkdir: cannot create directory ‘84_score’: File exists\n"
     ]
    },
    {
     "name": "stderr",
     "output_type": "stream",
     "text": [
      "\u001b[32m[I 2021-04-25 13:32:38,217]\u001b[0m Trial 479 finished with value: 1510043.0 and parameters: {'COEF_CENTER_L1': -18.118034647614373, 'COEF_CENTER_L1_SQ': 5.606876584085583, 'COEF_POINT': 32.349753088107704, 'COEF_DIST': 8771.58512618411}. Best is trial 142 with value: 1556780.0.\u001b[0m\n",
      "\u001b[32m[I 2021-04-25 13:32:38,219]\u001b[0m Trial 480 finished with value: 1523875.0 and parameters: {'COEF_CENTER_L1': -17.82402454996645, 'COEF_CENTER_L1_SQ': 5.403197072159584, 'COEF_POINT': 30.80091016959762, 'COEF_DIST': 8925.003661506817}. Best is trial 142 with value: 1556780.0.\u001b[0m\n"
     ]
    },
    {
     "name": "stdout",
     "output_type": "stream",
     "text": [
      "callback ok\n",
      "callback ok\n",
      "sed -i 83_answer.cpp -e 's/^\t\tconstexpr double COEF_CENTER_L1 = .*;  \\/\\/ OPTIMIZE \\[-100\\.0, 100\\.0\\]$/\t\tconstexpr double COEF_CENTER_L1 = -16.891299081125766;  \\/\\/ OPTIMIZE [-100.0, 100.0]/' -e 's/^\t\tconstexpr double COEF_CENTER_L1_SQ = .*;  \\/\\/ OPTIMIZE \\[0\\.0, 100\\.0\\]$/\t\tconstexpr double COEF_CENTER_L1_SQ = 6.63067581284996;  \\/\\/ OPTIMIZE [0.0, 100.0]/' -e 's/^\t\tconstexpr double COEF_POINT = .*;  \\/\\/ OPTIMIZE \\[0\\.0, 100\\.0\\]$/\t\tconstexpr double COEF_POINT = 32.35800585973627;  \\/\\/ OPTIMIZE [0.0, 100.0]/' -e 's/^\t\tconstexpr double COEF_DIST = .*;  \\/\\/ OPTIMIZE \\[0\\.0, 10000\\.0\\]$/\t\tconstexpr double COEF_DIST = 8715.123417506873;  \\/\\/ OPTIMIZE [0.0, 10000.0]/'\n",
      "index_parallel=85\n",
      "index_parallel=86\n",
      "mkdir: cannot create directory ‘86_out’: File exists\n",
      "mkdir: cannot create directory ‘85_out’: File exists\n"
     ]
    },
    {
     "name": "stderr",
     "output_type": "stream",
     "text": [
      "\u001b[32m[I 2021-04-25 13:32:38,436]\u001b[0m Trial 481 finished with value: 1510200.0 and parameters: {'COEF_CENTER_L1': -12.788211031858346, 'COEF_CENTER_L1_SQ': 5.558053971386988, 'COEF_POINT': 32.50938279037925, 'COEF_DIST': 8765.165631641186}. Best is trial 142 with value: 1556780.0.\u001b[0m\n"
     ]
    },
    {
     "name": "stdout",
     "output_type": "stream",
     "text": [
      "g++ 83_answer.cpp -std=gnu++17 -O2 -DONLINE_JUDGE -o 83_answer.cpp.out\n",
      "callback ok\n",
      "index_parallel=87\n",
      "mkdir: cannot create directory ‘87_out’: File exists\n",
      "mkdir: cannot create directory ‘86_score’: File exists\n",
      "mkdir: cannot create directory ‘85_score’: File exists\n",
      "mkdir: cannot create directory ‘87_score’: File exists\n",
      "sed -i 84_answer.cpp -e 's/^\t\tconstexpr double COEF_CENTER_L1 = .*;  \\/\\/ OPTIMIZE \\[-100\\.0, 100\\.0\\]$/\t\tconstexpr double COEF_CENTER_L1 = -8.915667723634343;  \\/\\/ OPTIMIZE [-100.0, 100.0]/' -e 's/^\t\tconstexpr double COEF_CENTER_L1_SQ = .*;  \\/\\/ OPTIMIZE \\[0\\.0, 100\\.0\\]$/\t\tconstexpr double COEF_CENTER_L1_SQ = 1.9661104345903735;  \\/\\/ OPTIMIZE [0.0, 100.0]/' -e 's/^\t\tconstexpr double COEF_POINT = .*;  \\/\\/ OPTIMIZE \\[0\\.0, 100\\.0\\]$/\t\tconstexpr double COEF_POINT = 30.533148998824604;  \\/\\/ OPTIMIZE [0.0, 100.0]/' -e 's/^\t\tconstexpr double COEF_DIST = .*;  \\/\\/ OPTIMIZE \\[0\\.0, 10000\\.0\\]$/\t\tconstexpr double COEF_DIST = 8598.456730117754;  \\/\\/ OPTIMIZE [0.0, 10000.0]/'\n",
      "g++ 84_answer.cpp -std=gnu++17 -O2 -DONLINE_JUDGE -o 84_answer.cpp.out\n",
      "sed -i 86_answer.cpp -e 's/^\t\tconstexpr double COEF_CENTER_L1 = .*;  \\/\\/ OPTIMIZE \\[-100\\.0, 100\\.0\\]$/\t\tconstexpr double COEF_CENTER_L1 = -9.72119706577961;  \\/\\/ OPTIMIZE [-100.0, 100.0]/' -e 's/^\t\tconstexpr double COEF_CENTER_L1_SQ = .*;  \\/\\/ OPTIMIZE \\[0\\.0, 100\\.0\\]$/\t\tconstexpr double COEF_CENTER_L1_SQ = 2.854193340861315;  \\/\\/ OPTIMIZE [0.0, 100.0]/' -e 's/^\t\tconstexpr double COEF_POINT = .*;  \\/\\/ OPTIMIZE \\[0\\.0, 100\\.0\\]$/\t\tconstexpr double COEF_POINT = 30.13641792100518;  \\/\\/ OPTIMIZE [0.0, 100.0]/' -e 's/^\t\tconstexpr double COEF_DIST = .*;  \\/\\/ OPTIMIZE \\[0\\.0, 10000\\.0\\]$/\t\tconstexpr double COEF_DIST = 9285.015959695844;  \\/\\/ OPTIMIZE [0.0, 10000.0]/'\n",
      "sed -i 85_answer.cpp -e 's/^\t\tconstexpr double COEF_CENTER_L1 = .*;  \\/\\/ OPTIMIZE \\[-100\\.0, 100\\.0\\]$/\t\tconstexpr double COEF_CENTER_L1 = -25.47314433659313;  \\/\\/ OPTIMIZE [-100.0, 100.0]/' -e 's/^\t\tconstexpr double COEF_CENTER_L1_SQ = .*;  \\/\\/ OPTIMIZE \\[0\\.0, 100\\.0\\]$/\t\tconstexpr double COEF_CENTER_L1_SQ = 1.9041247129555376;  \\/\\/ OPTIMIZE [0.0, 100.0]/' -e 's/^\t\tconstexpr double COEF_POINT = .*;  \\/\\/ OPTIMIZE \\[0\\.0, 100\\.0\\]$/\t\tconstexpr double COEF_POINT = 25.003809660844215;  \\/\\/ OPTIMIZE [0.0, 100.0]/' -e 's/^\t\tconstexpr double COEF_DIST = .*;  \\/\\/ OPTIMIZE \\[0\\.0, 10000\\.0\\]$/\t\tconstexpr double COEF_DIST = 9569.291875048872;  \\/\\/ OPTIMIZE [0.0, 10000.0]/'\n",
      "sed -i 87_answer.cpp -e 's/^\t\tconstexpr double COEF_CENTER_L1 = .*;  \\/\\/ OPTIMIZE \\[-100\\.0, 100\\.0\\]$/\t\tconstexpr double COEF_CENTER_L1 = -10.975076583645123;  \\/\\/ OPTIMIZE [-100.0, 100.0]/' -e 's/^\t\tconstexpr double COEF_CENTER_L1_SQ = .*;  \\/\\/ OPTIMIZE \\[0\\.0, 100\\.0\\]$/\t\tconstexpr double COEF_CENTER_L1_SQ = 36.55916054533465;  \\/\\/ OPTIMIZE [0.0, 100.0]/' -e 's/^\t\tconstexpr double COEF_POINT = .*;  \\/\\/ OPTIMIZE \\[0\\.0, 100\\.0\\]$/\t\tconstexpr double COEF_POINT = 30.492999660922422;  \\/\\/ OPTIMIZE [0.0, 100.0]/' -e 's/^\t\tconstexpr double COEF_DIST = .*;  \\/\\/ OPTIMIZE \\[0\\.0, 10000\\.0\\]$/\t\tconstexpr double COEF_DIST = 8541.48943163392;  \\/\\/ OPTIMIZE [0.0, 10000.0]/'\n",
      "g++ 86_answer.cpp -std=gnu++17 -O2 -DONLINE_JUDGE -o 86_answer.cpp.out\n",
      "g++ 85_answer.cpp -std=gnu++17 -O2 -DONLINE_JUDGE -o 85_answer.cpp.out\n",
      "g++ 87_answer.cpp -std=gnu++17 -O2 -DONLINE_JUDGE -o 87_answer.cpp.out\n"
     ]
    },
    {
     "name": "stderr",
     "output_type": "stream",
     "text": [
      "\u001b[32m[I 2021-04-25 13:32:45,836]\u001b[0m Trial 482 finished with value: 1511661.0 and parameters: {'COEF_CENTER_L1': -15.927325190982913, 'COEF_CENTER_L1_SQ': 5.206353049183459, 'COEF_POINT': 32.19189624458441, 'COEF_DIST': 8828.170862080853}. Best is trial 142 with value: 1556780.0.\u001b[0m\n"
     ]
    },
    {
     "name": "stdout",
     "output_type": "stream",
     "text": [
      "callback ok\n",
      "index_parallel=88\n",
      "mkdir: cannot create directory ‘88_out’: File exists\n",
      "mkdir: cannot create directory ‘88_score’: File exists\n",
      "sed -i 88_answer.cpp -e 's/^\t\tconstexpr double COEF_CENTER_L1 = .*;  \\/\\/ OPTIMIZE \\[-100\\.0, 100\\.0\\]$/\t\tconstexpr double COEF_CENTER_L1 = -7.95670956710428;  \\/\\/ OPTIMIZE [-100.0, 100.0]/' -e 's/^\t\tconstexpr double COEF_CENTER_L1_SQ = .*;  \\/\\/ OPTIMIZE \\[0\\.0, 100\\.0\\]$/\t\tconstexpr double COEF_CENTER_L1_SQ = 1.9665789452589357;  \\/\\/ OPTIMIZE [0.0, 100.0]/' -e 's/^\t\tconstexpr double COEF_POINT = .*;  \\/\\/ OPTIMIZE \\[0\\.0, 100\\.0\\]$/\t\tconstexpr double COEF_POINT = 34.36762760371016;  \\/\\/ OPTIMIZE [0.0, 100.0]/' -e 's/^\t\tconstexpr double COEF_DIST = .*;  \\/\\/ OPTIMIZE \\[0\\.0, 10000\\.0\\]$/\t\tconstexpr double COEF_DIST = 9422.076609561449;  \\/\\/ OPTIMIZE [0.0, 10000.0]/'\n",
      "g++ 88_answer.cpp -std=gnu++17 -O2 -DONLINE_JUDGE -o 88_answer.cpp.out\n"
     ]
    },
    {
     "name": "stderr",
     "output_type": "stream",
     "text": [
      "\u001b[32m[I 2021-04-25 13:32:49,001]\u001b[0m Trial 483 finished with value: 1501130.0 and parameters: {'COEF_CENTER_L1': -16.891299081125766, 'COEF_CENTER_L1_SQ': 6.63067581284996, 'COEF_POINT': 32.35800585973627, 'COEF_DIST': 8715.123417506873}. Best is trial 142 with value: 1556780.0.\u001b[0m\n"
     ]
    },
    {
     "name": "stdout",
     "output_type": "stream",
     "text": [
      "callback ok\n",
      "index_parallel=89\n",
      "mkdir: cannot create directory ‘89_out’: File exists\n",
      "mkdir: cannot create directory ‘89_score’: File exists\n"
     ]
    },
    {
     "name": "stderr",
     "output_type": "stream",
     "text": [
      "\u001b[32m[I 2021-04-25 13:32:50,409]\u001b[0m Trial 484 finished with value: 1508153.0 and parameters: {'COEF_CENTER_L1': -8.915667723634343, 'COEF_CENTER_L1_SQ': 1.9661104345903735, 'COEF_POINT': 30.533148998824604, 'COEF_DIST': 8598.456730117754}. Best is trial 142 with value: 1556780.0.\u001b[0m\n",
      "\u001b[32m[I 2021-04-25 13:32:50,417]\u001b[0m Trial 487 finished with value: 933075.0 and parameters: {'COEF_CENTER_L1': -10.975076583645123, 'COEF_CENTER_L1_SQ': 36.55916054533465, 'COEF_POINT': 30.492999660922422, 'COEF_DIST': 8541.48943163392}. Best is trial 142 with value: 1556780.0.\u001b[0m\n"
     ]
    },
    {
     "name": "stdout",
     "output_type": "stream",
     "text": [
      "callback ok\n",
      "callback ok\n",
      "index_parallel=90\n",
      "mkdir: cannot create directory ‘90_out’: File exists\n",
      "index_parallel=91\n",
      "mkdir: cannot create directory ‘91_out’: File exists\n",
      "mkdir: cannot create directory ‘90_score’: File exists\n"
     ]
    },
    {
     "name": "stderr",
     "output_type": "stream",
     "text": [
      "\u001b[32m[I 2021-04-25 13:32:50,918]\u001b[0m Trial 486 finished with value: 1532524.0 and parameters: {'COEF_CENTER_L1': -9.72119706577961, 'COEF_CENTER_L1_SQ': 2.854193340861315, 'COEF_POINT': 30.13641792100518, 'COEF_DIST': 9285.015959695844}. Best is trial 142 with value: 1556780.0.\u001b[0m\n",
      "\u001b[32m[I 2021-04-25 13:32:50,933]\u001b[0m Trial 485 finished with value: 1512772.0 and parameters: {'COEF_CENTER_L1': -25.47314433659313, 'COEF_CENTER_L1_SQ': 1.9041247129555376, 'COEF_POINT': 25.003809660844215, 'COEF_DIST': 9569.291875048872}. Best is trial 142 with value: 1556780.0.\u001b[0m\n"
     ]
    },
    {
     "name": "stdout",
     "output_type": "stream",
     "text": [
      "mkdir: cannot create directory ‘91_score’: File exists\n",
      "callback oksed -i 89_answer.cpp -e 's/^\t\tconstexpr double COEF_CENTER_L1 = .*;  \\/\\/ OPTIMIZE \\[-100\\.0, 100\\.0\\]$/\t\tconstexpr double COEF_CENTER_L1 = -8.770851239310419;  \\/\\/ OPTIMIZE [-100.0, 100.0]/' -e 's/^\t\tconstexpr double COEF_CENTER_L1_SQ = .*;  \\/\\/ OPTIMIZE \\[0\\.0, 100\\.0\\]$/\t\tconstexpr double COEF_CENTER_L1_SQ = 0.02655930461103045;  \\/\\/ OPTIMIZE [0.0, 100.0]/' -e 's/^\t\tconstexpr double COEF_POINT = .*;  \\/\\/ OPTIMIZE \\[0\\.0, 100\\.0\\]$/\t\tconstexpr double COEF_POINT = 25.288227578467648;  \\/\\/ OPTIMIZE [0.0, 100.0]/' -e 's/^\t\tconstexpr double COEF_DIST = .*;  \\/\\/ OPTIMIZE \\[0\\.0, 10000\\.0\\]$/\t\tconstexpr double COEF_DIST = 9398.667810273399;  \\/\\/ OPTIMIZE [0.0, 10000.0]/'\n",
      "\n",
      "callback ok\n",
      "index_parallel=92\n",
      "mkdir: cannot create directory ‘92_out’: File exists\n",
      "index_parallel=93\n",
      "g++ 89_answer.cpp -std=gnu++17 -O2 -DONLINE_JUDGE -o 89_answer.cpp.out\n",
      "mkdir: cannot create directory ‘93_out’: File exists\n",
      "mkdir: cannot create directory ‘92_score’: File exists\n",
      "mkdir: cannot create directory ‘93_score’: File exists\n",
      "sed -i 90_answer.cpp -e 's/^\t\tconstexpr double COEF_CENTER_L1 = .*;  \\/\\/ OPTIMIZE \\[-100\\.0, 100\\.0\\]$/\t\tconstexpr double COEF_CENTER_L1 = -74.16856909823267;  \\/\\/ OPTIMIZE [-100.0, 100.0]/' -e 's/^\t\tconstexpr double COEF_CENTER_L1_SQ = .*;  \\/\\/ OPTIMIZE \\[0\\.0, 100\\.0\\]$/\t\tconstexpr double COEF_CENTER_L1_SQ = 0.027954118842382303;  \\/\\/ OPTIMIZE [0.0, 100.0]/' -e 's/^\t\tconstexpr double COEF_POINT = .*;  \\/\\/ OPTIMIZE \\[0\\.0, 100\\.0\\]$/\t\tconstexpr double COEF_POINT = 28.2153027249104;  \\/\\/ OPTIMIZE [0.0, 100.0]/' -e 's/^\t\tconstexpr double COEF_DIST = .*;  \\/\\/ OPTIMIZE \\[0\\.0, 10000\\.0\\]$/\t\tconstexpr double COEF_DIST = 9290.940165454807;  \\/\\/ OPTIMIZE [0.0, 10000.0]/'\n",
      "g++ 90_answer.cpp -std=gnu++17 -O2 -DONLINE_JUDGE -o 90_answer.cpp.out\n",
      "sed -i 91_answer.cpp -e 's/^\t\tconstexpr double COEF_CENTER_L1 = .*;  \\/\\/ OPTIMIZE \\[-100\\.0, 100\\.0\\]$/\t\tconstexpr double COEF_CENTER_L1 = -72.37510305725999;  \\/\\/ OPTIMIZE [-100.0, 100.0]/' -e 's/^\t\tconstexpr double COEF_CENTER_L1_SQ = .*;  \\/\\/ OPTIMIZE \\[0\\.0, 100\\.0\\]$/\t\tconstexpr double COEF_CENTER_L1_SQ = 3.1602733553818103;  \\/\\/ OPTIMIZE [0.0, 100.0]/' -e 's/^\t\tconstexpr double COEF_POINT = .*;  \\/\\/ OPTIMIZE \\[0\\.0, 100\\.0\\]$/\t\tconstexpr double COEF_POINT = 26.896108451483467;  \\/\\/ OPTIMIZE [0.0, 100.0]/' -e 's/^\t\tconstexpr double COEF_DIST = .*;  \\/\\/ OPTIMIZE \\[0\\.0, 10000\\.0\\]$/\t\tconstexpr double COEF_DIST = 9547.251148913809;  \\/\\/ OPTIMIZE [0.0, 10000.0]/'\n",
      "g++ 91_answer.cpp -std=gnu++17 -O2 -DONLINE_JUDGE -o 91_answer.cpp.out\n",
      "sed -i 92_answer.cpp -e 's/^\t\tconstexpr double COEF_CENTER_L1 = .*;  \\/\\/ OPTIMIZE \\[-100\\.0, 100\\.0\\]$/\t\tconstexpr double COEF_CENTER_L1 = -5.9976072049480385;  \\/\\/ OPTIMIZE [-100.0, 100.0]/' -e 's/^\t\tconstexpr double COEF_CENTER_L1_SQ = .*;  \\/\\/ OPTIMIZE \\[0\\.0, 100\\.0\\]$/\t\tconstexpr double COEF_CENTER_L1_SQ = 0.48516927994553827;  \\/\\/ OPTIMIZE [0.0, 100.0]/' -e 's/^\t\tconstexpr double COEF_POINT = .*;  \\/\\/ OPTIMIZE \\[0\\.0, 100\\.0\\]$/\t\tconstexpr double COEF_POINT = 29.469762910083002;  \\/\\/ OPTIMIZE [0.0, 100.0]/' -e 's/^\t\tconstexpr double COEF_DIST = .*;  \\/\\/ OPTIMIZE \\[0\\.0, 10000\\.0\\]$/\t\tconstexpr double COEF_DIST = 9158.90245232985;  \\/\\/ OPTIMIZE [0.0, 10000.0]/'\n",
      "sed -i 93_answer.cpp -e 's/^\t\tconstexpr double COEF_CENTER_L1 = .*;  \\/\\/ OPTIMIZE \\[-100\\.0, 100\\.0\\]$/\t\tconstexpr double COEF_CENTER_L1 = -73.8411337073803;  \\/\\/ OPTIMIZE [-100.0, 100.0]/' -e 's/^\t\tconstexpr double COEF_CENTER_L1_SQ = .*;  \\/\\/ OPTIMIZE \\[0\\.0, 100\\.0\\]$/\t\tconstexpr double COEF_CENTER_L1_SQ = 0.04481181649380672;  \\/\\/ OPTIMIZE [0.0, 100.0]/' -e 's/^\t\tconstexpr double COEF_POINT = .*;  \\/\\/ OPTIMIZE \\[0\\.0, 100\\.0\\]$/\t\tconstexpr double COEF_POINT = 18.22234469866826;  \\/\\/ OPTIMIZE [0.0, 100.0]/' -e 's/^\t\tconstexpr double COEF_DIST = .*;  \\/\\/ OPTIMIZE \\[0\\.0, 10000\\.0\\]$/\t\tconstexpr double COEF_DIST = 9494.991454536603;  \\/\\/ OPTIMIZE [0.0, 10000.0]/'\n",
      "g++ 92_answer.cpp -std=gnu++17 -O2 -DONLINE_JUDGE -o 92_answer.cpp.out\n",
      "g++ 93_answer.cpp -std=gnu++17 -O2 -DONLINE_JUDGE -o 93_answer.cpp.out\n"
     ]
    },
    {
     "name": "stderr",
     "output_type": "stream",
     "text": [
      "\u001b[32m[I 2021-04-25 13:32:57,335]\u001b[0m Trial 488 finished with value: 1493379.0 and parameters: {'COEF_CENTER_L1': -7.95670956710428, 'COEF_CENTER_L1_SQ': 1.9665789452589357, 'COEF_POINT': 34.36762760371016, 'COEF_DIST': 9422.076609561449}. Best is trial 142 with value: 1556780.0.\u001b[0m\n"
     ]
    },
    {
     "name": "stdout",
     "output_type": "stream",
     "text": [
      "callback ok\n",
      "index_parallel=94\n",
      "mkdir: cannot create directory ‘94_out’: File exists\n",
      "mkdir: cannot create directory ‘94_score’: File exists\n",
      "sed -i 94_answer.cpp -e 's/^\t\tconstexpr double COEF_CENTER_L1 = .*;  \\/\\/ OPTIMIZE \\[-100\\.0, 100\\.0\\]$/\t\tconstexpr double COEF_CENTER_L1 = -81.31817827049053;  \\/\\/ OPTIMIZE [-100.0, 100.0]/' -e 's/^\t\tconstexpr double COEF_CENTER_L1_SQ = .*;  \\/\\/ OPTIMIZE \\[0\\.0, 100\\.0\\]$/\t\tconstexpr double COEF_CENTER_L1_SQ = 0.3976472292658393;  \\/\\/ OPTIMIZE [0.0, 100.0]/' -e 's/^\t\tconstexpr double COEF_POINT = .*;  \\/\\/ OPTIMIZE \\[0\\.0, 100\\.0\\]$/\t\tconstexpr double COEF_POINT = 27.90780460506086;  \\/\\/ OPTIMIZE [0.0, 100.0]/' -e 's/^\t\tconstexpr double COEF_DIST = .*;  \\/\\/ OPTIMIZE \\[0\\.0, 10000\\.0\\]$/\t\tconstexpr double COEF_DIST = 9001.160041764928;  \\/\\/ OPTIMIZE [0.0, 10000.0]/'\n",
      "g++ 94_answer.cpp -std=gnu++17 -O2 -DONLINE_JUDGE -o 94_answer.cpp.out\n"
     ]
    },
    {
     "name": "stderr",
     "output_type": "stream",
     "text": [
      "\u001b[32m[I 2021-04-25 13:33:01,647]\u001b[0m Trial 489 finished with value: 1470805.0 and parameters: {'COEF_CENTER_L1': -8.770851239310419, 'COEF_CENTER_L1_SQ': 0.02655930461103045, 'COEF_POINT': 25.288227578467648, 'COEF_DIST': 9398.667810273399}. Best is trial 142 with value: 1556780.0.\u001b[0m\n"
     ]
    },
    {
     "name": "stdout",
     "output_type": "stream",
     "text": [
      "callback ok\n",
      "index_parallel=95\n",
      "mkdir: cannot create directory ‘95_out’: File exists\n",
      "mkdir: cannot create directory ‘95_score’: File exists\n"
     ]
    },
    {
     "name": "stderr",
     "output_type": "stream",
     "text": [
      "\u001b[32m[I 2021-04-25 13:33:02,595]\u001b[0m Trial 491 finished with value: 1456827.0 and parameters: {'COEF_CENTER_L1': -72.37510305725999, 'COEF_CENTER_L1_SQ': 3.1602733553818103, 'COEF_POINT': 26.896108451483467, 'COEF_DIST': 9547.251148913809}. Best is trial 142 with value: 1556780.0.\u001b[0m\n",
      "\u001b[32m[I 2021-04-25 13:33:02,651]\u001b[0m Trial 490 finished with value: 1397592.0 and parameters: {'COEF_CENTER_L1': -74.16856909823267, 'COEF_CENTER_L1_SQ': 0.027954118842382303, 'COEF_POINT': 28.2153027249104, 'COEF_DIST': 9290.940165454807}. Best is trial 142 with value: 1556780.0.\u001b[0m\n"
     ]
    },
    {
     "name": "stdout",
     "output_type": "stream",
     "text": [
      "callback ok\n"
     ]
    },
    {
     "name": "stderr",
     "output_type": "stream",
     "text": [
      "\u001b[32m[I 2021-04-25 13:33:02,657]\u001b[0m Trial 492 finished with value: 1441772.0 and parameters: {'COEF_CENTER_L1': -5.9976072049480385, 'COEF_CENTER_L1_SQ': 0.48516927994553827, 'COEF_POINT': 29.469762910083002, 'COEF_DIST': 9158.90245232985}. Best is trial 142 with value: 1556780.0.\u001b[0m\n"
     ]
    },
    {
     "name": "stdout",
     "output_type": "stream",
     "text": [
      "callback ok\n",
      "index_parallel=96\n",
      "mkdir: cannot create directory ‘96_out’: File exists\n",
      "callback ok\n"
     ]
    },
    {
     "name": "stderr",
     "output_type": "stream",
     "text": [
      "\u001b[32m[I 2021-04-25 13:33:02,834]\u001b[0m Trial 493 finished with value: 1381651.0 and parameters: {'COEF_CENTER_L1': -73.8411337073803, 'COEF_CENTER_L1_SQ': 0.04481181649380672, 'COEF_POINT': 18.22234469866826, 'COEF_DIST': 9494.991454536603}. Best is trial 142 with value: 1556780.0.\u001b[0m\n"
     ]
    },
    {
     "name": "stdout",
     "output_type": "stream",
     "text": [
      "mkdir: cannot create directory ‘96_score’: File exists\n",
      "index_parallel=98\n",
      "index_parallel=97\n",
      "mkdir: cannot create directory ‘97_out’: File exists\n",
      "mkdir: cannot create directory ‘98_out’: File exists\n",
      "callback ok\n",
      "index_parallel=99\n",
      "mkdir: cannot create directory ‘99_out’: File exists\n",
      "mkdir: cannot create directory ‘98_score’: File exists\n",
      "mkdir: cannot create directory ‘97_score’: File exists\n",
      "mkdir: cannot create directory ‘99_score’: File exists\n",
      "sed -i 95_answer.cpp -e 's/^\t\tconstexpr double COEF_CENTER_L1 = .*;  \\/\\/ OPTIMIZE \\[-100\\.0, 100\\.0\\]$/\t\tconstexpr double COEF_CENTER_L1 = -46.54810787850717;  \\/\\/ OPTIMIZE [-100.0, 100.0]/' -e 's/^\t\tconstexpr double COEF_CENTER_L1_SQ = .*;  \\/\\/ OPTIMIZE \\[0\\.0, 100\\.0\\]$/\t\tconstexpr double COEF_CENTER_L1_SQ = 4.007575368920712;  \\/\\/ OPTIMIZE [0.0, 100.0]/' -e 's/^\t\tconstexpr double COEF_POINT = .*;  \\/\\/ OPTIMIZE \\[0\\.0, 100\\.0\\]$/\t\tconstexpr double COEF_POINT = 21.689221888354904;  \\/\\/ OPTIMIZE [0.0, 100.0]/' -e 's/^\t\tconstexpr double COEF_DIST = .*;  \\/\\/ OPTIMIZE \\[0\\.0, 10000\\.0\\]$/\t\tconstexpr double COEF_DIST = 6107.248042525436;  \\/\\/ OPTIMIZE [0.0, 10000.0]/'\n",
      "g++ 95_answer.cpp -std=gnu++17 -O2 -DONLINE_JUDGE -o 95_answer.cpp.out\n",
      "sed -i 96_answer.cpp -e 's/^\t\tconstexpr double COEF_CENTER_L1 = .*;  \\/\\/ OPTIMIZE \\[-100\\.0, 100\\.0\\]$/\t\tconstexpr double COEF_CENTER_L1 = -3.980616738748288;  \\/\\/ OPTIMIZE [-100.0, 100.0]/' -e 's/^\t\tconstexpr double COEF_CENTER_L1_SQ = .*;  \\/\\/ OPTIMIZE \\[0\\.0, 100\\.0\\]$/\t\tconstexpr double COEF_CENTER_L1_SQ = 3.8397164266629975;  \\/\\/ OPTIMIZE [0.0, 100.0]/' -e 's/^\t\tconstexpr double COEF_POINT = .*;  \\/\\/ OPTIMIZE \\[0\\.0, 100\\.0\\]$/\t\tconstexpr double COEF_POINT = 33.97243570109476;  \\/\\/ OPTIMIZE [0.0, 100.0]/' -e 's/^\t\tconstexpr double COEF_DIST = .*;  \\/\\/ OPTIMIZE \\[0\\.0, 10000\\.0\\]$/\t\tconstexpr double COEF_DIST = 9060.201793771694;  \\/\\/ OPTIMIZE [0.0, 10000.0]/'\n",
      "g++ 96_answer.cpp -std=gnu++17 -O2 -DONLINE_JUDGE -o 96_answer.cpp.out\n",
      "sed -i 97_answer.cpp -e 's/^\t\tconstexpr double COEF_CENTER_L1 = .*;  \\/\\/ OPTIMIZE \\[-100\\.0, 100\\.0\\]$/\t\tconstexpr double COEF_CENTER_L1 = 72.09961991405737;  \\/\\/ OPTIMIZE [-100.0, 100.0]/' -e 's/^\t\tconstexpr double COEF_CENTER_L1_SQ = .*;  \\/\\/ OPTIMIZE \\[0\\.0, 100\\.0\\]$/\t\tconstexpr double COEF_CENTER_L1_SQ = 41.124137002438765;  \\/\\/ OPTIMIZE [0.0, 100.0]/' -e 's/^\t\tconstexpr double COEF_POINT = .*;  \\/\\/ OPTIMIZE \\[0\\.0, 100\\.0\\]$/\t\tconstexpr double COEF_POINT = 34.12194472013656;  \\/\\/ OPTIMIZE [0.0, 100.0]/' -e 's/^\t\tconstexpr double COEF_DIST = .*;  \\/\\/ OPTIMIZE \\[0\\.0, 10000\\.0\\]$/\t\tconstexpr double COEF_DIST = 6094.906432480166;  \\/\\/ OPTIMIZE [0.0, 10000.0]/'\n",
      "g++ 97_answer.cpp -std=gnu++17 -O2 -DONLINE_JUDGE -o 97_answer.cpp.out\n",
      "sed -i 98_answer.cpp -e 's/^\t\tconstexpr double COEF_CENTER_L1 = .*;  \\/\\/ OPTIMIZE \\[-100\\.0, 100\\.0\\]$/\t\tconstexpr double COEF_CENTER_L1 = -4.529858282213281;  \\/\\/ OPTIMIZE [-100.0, 100.0]/' -e 's/^\t\tconstexpr double COEF_CENTER_L1_SQ = .*;  \\/\\/ OPTIMIZE \\[0\\.0, 100\\.0\\]$/\t\tconstexpr double COEF_CENTER_L1_SQ = 3.332041281311314;  \\/\\/ OPTIMIZE [0.0, 100.0]/' -e 's/^\t\tconstexpr double COEF_POINT = .*;  \\/\\/ OPTIMIZE \\[0\\.0, 100\\.0\\]$/\t\tconstexpr double COEF_POINT = 35.04435871563287;  \\/\\/ OPTIMIZE [0.0, 100.0]/' -e 's/^\t\tconstexpr double COEF_DIST = .*;  \\/\\/ OPTIMIZE \\[0\\.0, 10000\\.0\\]$/\t\tconstexpr double COEF_DIST = 9846.150925056083;  \\/\\/ OPTIMIZE [0.0, 10000.0]/'\n",
      "sed -i 99_answer.cpp -e 's/^\t\tconstexpr double COEF_CENTER_L1 = .*;  \\/\\/ OPTIMIZE \\[-100\\.0, 100\\.0\\]$/\t\tconstexpr double COEF_CENTER_L1 = -3.304821576780025;  \\/\\/ OPTIMIZE [-100.0, 100.0]/' -e 's/^\t\tconstexpr double COEF_CENTER_L1_SQ = .*;  \\/\\/ OPTIMIZE \\[0\\.0, 100\\.0\\]$/\t\tconstexpr double COEF_CENTER_L1_SQ = 3.5257600746645665;  \\/\\/ OPTIMIZE [0.0, 100.0]/' -e 's/^\t\tconstexpr double COEF_POINT = .*;  \\/\\/ OPTIMIZE \\[0\\.0, 100\\.0\\]$/\t\tconstexpr double COEF_POINT = 33.90890933758584;  \\/\\/ OPTIMIZE [0.0, 100.0]/' -e 's/^\t\tconstexpr double COEF_DIST = .*;  \\/\\/ OPTIMIZE \\[0\\.0, 10000\\.0\\]$/\t\tconstexpr double COEF_DIST = 7812.597569579949;  \\/\\/ OPTIMIZE [0.0, 10000.0]/'\n",
      "g++ 98_answer.cpp -std=gnu++17 -O2 -DONLINE_JUDGE -o 98_answer.cpp.out\n",
      "g++ 99_answer.cpp -std=gnu++17 -O2 -DONLINE_JUDGE -o 99_answer.cpp.out\n"
     ]
    },
    {
     "name": "stderr",
     "output_type": "stream",
     "text": [
      "\u001b[32m[I 2021-04-25 13:33:08,223]\u001b[0m Trial 494 finished with value: 1416720.0 and parameters: {'COEF_CENTER_L1': -81.31817827049053, 'COEF_CENTER_L1_SQ': 0.3976472292658393, 'COEF_POINT': 27.90780460506086, 'COEF_DIST': 9001.160041764928}. Best is trial 142 with value: 1556780.0.\u001b[0m\n"
     ]
    },
    {
     "name": "stdout",
     "output_type": "stream",
     "text": [
      "callback ok\n",
      "index_parallel=0\n",
      "mkdir: cannot create directory ‘0_out’: File exists\n",
      "mkdir: cannot create directory ‘0_score’: File exists\n",
      "sed -i 0_answer.cpp -e 's/^\t\tconstexpr double COEF_CENTER_L1 = .*;  \\/\\/ OPTIMIZE \\[-100\\.0, 100\\.0\\]$/\t\tconstexpr double COEF_CENTER_L1 = -4.390723134944916;  \\/\\/ OPTIMIZE [-100.0, 100.0]/' -e 's/^\t\tconstexpr double COEF_CENTER_L1_SQ = .*;  \\/\\/ OPTIMIZE \\[0\\.0, 100\\.0\\]$/\t\tconstexpr double COEF_CENTER_L1_SQ = 4.018605116541636;  \\/\\/ OPTIMIZE [0.0, 100.0]/' -e 's/^\t\tconstexpr double COEF_POINT = .*;  \\/\\/ OPTIMIZE \\[0\\.0, 100\\.0\\]$/\t\tconstexpr double COEF_POINT = 33.99562849288479;  \\/\\/ OPTIMIZE [0.0, 100.0]/' -e 's/^\t\tconstexpr double COEF_DIST = .*;  \\/\\/ OPTIMIZE \\[0\\.0, 10000\\.0\\]$/\t\tconstexpr double COEF_DIST = 7868.648298610374;  \\/\\/ OPTIMIZE [0.0, 10000.0]/'\n",
      "g++ 0_answer.cpp -std=gnu++17 -O2 -DONLINE_JUDGE -o 0_answer.cpp.out\n"
     ]
    },
    {
     "name": "stderr",
     "output_type": "stream",
     "text": [
      "\u001b[32m[I 2021-04-25 13:33:14,297]\u001b[0m Trial 495 finished with value: 1474668.0 and parameters: {'COEF_CENTER_L1': -46.54810787850717, 'COEF_CENTER_L1_SQ': 4.007575368920712, 'COEF_POINT': 21.689221888354904, 'COEF_DIST': 6107.248042525436}. Best is trial 142 with value: 1556780.0.\u001b[0m\n"
     ]
    },
    {
     "name": "stdout",
     "output_type": "stream",
     "text": [
      "callback ok\n",
      "index_parallel=1\n",
      "mkdir: cannot create directory ‘1_out’: File exists\n"
     ]
    },
    {
     "name": "stderr",
     "output_type": "stream",
     "text": [
      "\u001b[32m[I 2021-04-25 13:33:14,677]\u001b[0m Trial 496 finished with value: 1497414.0 and parameters: {'COEF_CENTER_L1': -3.980616738748288, 'COEF_CENTER_L1_SQ': 3.8397164266629975, 'COEF_POINT': 33.97243570109476, 'COEF_DIST': 9060.201793771694}. Best is trial 142 with value: 1556780.0.\u001b[0m\n"
     ]
    },
    {
     "name": "stdout",
     "output_type": "stream",
     "text": [
      "callback ok\n",
      "index_parallel=2\n",
      "mkdir: cannot create directory ‘2_out’: File exists\n",
      "mkdir: cannot create directory ‘1_score’: File exists\n",
      "mkdir: cannot create directory ‘2_score’: File exists\n"
     ]
    },
    {
     "name": "stderr",
     "output_type": "stream",
     "text": [
      "\u001b[32m[I 2021-04-25 13:33:17,358]\u001b[0m Trial 497 finished with value: 807806.0 and parameters: {'COEF_CENTER_L1': 72.09961991405737, 'COEF_CENTER_L1_SQ': 41.124137002438765, 'COEF_POINT': 34.12194472013656, 'COEF_DIST': 6094.906432480166}. Best is trial 142 with value: 1556780.0.\u001b[0m\n"
     ]
    },
    {
     "name": "stdout",
     "output_type": "stream",
     "text": [
      "callback ok\n",
      "sed -i 1_answer.cpp -e 's/^\t\tconstexpr double COEF_CENTER_L1 = .*;  \\/\\/ OPTIMIZE \\[-100\\.0, 100\\.0\\]$/\t\tconstexpr double COEF_CENTER_L1 = -66.49421711158415;  \\/\\/ OPTIMIZE [-100.0, 100.0]/' -e 's/^\t\tconstexpr double COEF_CENTER_L1_SQ = .*;  \\/\\/ OPTIMIZE \\[0\\.0, 100\\.0\\]$/\t\tconstexpr double COEF_CENTER_L1_SQ = 12.16581019758797;  \\/\\/ OPTIMIZE [0.0, 100.0]/' -e 's/^\t\tconstexpr double COEF_POINT = .*;  \\/\\/ OPTIMIZE \\[0\\.0, 100\\.0\\]$/\t\tconstexpr double COEF_POINT = 31.03236352050317;  \\/\\/ OPTIMIZE [0.0, 100.0]/' -e 's/^\t\tconstexpr double COEF_DIST = .*;  \\/\\/ OPTIMIZE \\[0\\.0, 10000\\.0\\]$/\t\tconstexpr double COEF_DIST = 4772.497751167573;  \\/\\/ OPTIMIZE [0.0, 10000.0]/'\n",
      "index_parallel=3\n",
      "g++ 1_answer.cpp -std=gnu++17 -O2 -DONLINE_JUDGE -o 1_answer.cpp.out\n",
      "mkdir: cannot create directory ‘3_out’: File exists\n",
      "sed -i 2_answer.cpp -e 's/^\t\tconstexpr double COEF_CENTER_L1 = .*;  \\/\\/ OPTIMIZE \\[-100\\.0, 100\\.0\\]$/\t\tconstexpr double COEF_CENTER_L1 = 82.44085263659485;  \\/\\/ OPTIMIZE [-100.0, 100.0]/' -e 's/^\t\tconstexpr double COEF_CENTER_L1_SQ = .*;  \\/\\/ OPTIMIZE \\[0\\.0, 100\\.0\\]$/\t\tconstexpr double COEF_CENTER_L1_SQ = 2.7966355385750035;  \\/\\/ OPTIMIZE [0.0, 100.0]/' -e 's/^\t\tconstexpr double COEF_POINT = .*;  \\/\\/ OPTIMIZE \\[0\\.0, 100\\.0\\]$/\t\tconstexpr double COEF_POINT = 6.793303258462788;  \\/\\/ OPTIMIZE [0.0, 100.0]/' -e 's/^\t\tconstexpr double COEF_DIST = .*;  \\/\\/ OPTIMIZE \\[0\\.0, 10000\\.0\\]$/\t\tconstexpr double COEF_DIST = 6576.174777826446;  \\/\\/ OPTIMIZE [0.0, 10000.0]/'\n"
     ]
    },
    {
     "name": "stderr",
     "output_type": "stream",
     "text": [
      "\u001b[32m[I 2021-04-25 13:33:17,813]\u001b[0m Trial 499 finished with value: 1503782.0 and parameters: {'COEF_CENTER_L1': -3.304821576780025, 'COEF_CENTER_L1_SQ': 3.5257600746645665, 'COEF_POINT': 33.90890933758584, 'COEF_DIST': 7812.597569579949}. Best is trial 142 with value: 1556780.0.\u001b[0m\n"
     ]
    },
    {
     "name": "stdout",
     "output_type": "stream",
     "text": [
      "mkdir: cannot create directory ‘3_score’: File exists\r\n"
     ]
    },
    {
     "name": "stderr",
     "output_type": "stream",
     "text": [
      "\u001b[32m[I 2021-04-25 13:33:17,820]\u001b[0m Trial 498 finished with value: 1524899.0 and parameters: {'COEF_CENTER_L1': -4.529858282213281, 'COEF_CENTER_L1_SQ': 3.332041281311314, 'COEF_POINT': 35.04435871563287, 'COEF_DIST': 9846.150925056083}. Best is trial 142 with value: 1556780.0.\u001b[0m\n"
     ]
    },
    {
     "name": "stdout",
     "output_type": "stream",
     "text": [
      "callback ok\n",
      "callback ok\n",
      "index_parallel=4\n",
      "mkdir: cannot create directory ‘4_out’: File exists\n",
      "g++ 2_answer.cpp -std=gnu++17 -O2 -DONLINE_JUDGE -o 2_answer.cpp.out\n",
      "index_parallel=5\n",
      "mkdir: cannot create directory ‘5_out’: File exists\n",
      "mkdir: cannot create directory ‘4_score’: File exists\n",
      "mkdir: cannot create directory ‘5_score’: File exists\n",
      "sed -i 3_answer.cpp -e 's/^\t\tconstexpr double COEF_CENTER_L1 = .*;  \\/\\/ OPTIMIZE \\[-100\\.0, 100\\.0\\]$/\t\tconstexpr double COEF_CENTER_L1 = -67.81360791974718;  \\/\\/ OPTIMIZE [-100.0, 100.0]/' -e 's/^\t\tconstexpr double COEF_CENTER_L1_SQ = .*;  \\/\\/ OPTIMIZE \\[0\\.0, 100\\.0\\]$/\t\tconstexpr double COEF_CENTER_L1_SQ = 11.67454393389424;  \\/\\/ OPTIMIZE [0.0, 100.0]/' -e 's/^\t\tconstexpr double COEF_POINT = .*;  \\/\\/ OPTIMIZE \\[0\\.0, 100\\.0\\]$/\t\tconstexpr double COEF_POINT = 29.50028593431674;  \\/\\/ OPTIMIZE [0.0, 100.0]/' -e 's/^\t\tconstexpr double COEF_DIST = .*;  \\/\\/ OPTIMIZE \\[0\\.0, 10000\\.0\\]$/\t\tconstexpr double COEF_DIST = 6632.828296777553;  \\/\\/ OPTIMIZE [0.0, 10000.0]/'\n",
      "g++ 3_answer.cpp -std=gnu++17 -O2 -DONLINE_JUDGE -o 3_answer.cpp.out\n",
      "sed -i 4_answer.cpp -e 's/^\t\tconstexpr double COEF_CENTER_L1 = .*;  \\/\\/ OPTIMIZE \\[-100\\.0, 100\\.0\\]$/\t\tconstexpr double COEF_CENTER_L1 = -64.20705972754847;  \\/\\/ OPTIMIZE [-100.0, 100.0]/' -e 's/^\t\tconstexpr double COEF_CENTER_L1_SQ = .*;  \\/\\/ OPTIMIZE \\[0\\.0, 100\\.0\\]$/\t\tconstexpr double COEF_CENTER_L1_SQ = 79.10401833427753;  \\/\\/ OPTIMIZE [0.0, 100.0]/' -e 's/^\t\tconstexpr double COEF_POINT = .*;  \\/\\/ OPTIMIZE \\[0\\.0, 100\\.0\\]$/\t\tconstexpr double COEF_POINT = 31.340759047396816;  \\/\\/ OPTIMIZE [0.0, 100.0]/' -e 's/^\t\tconstexpr double COEF_DIST = .*;  \\/\\/ OPTIMIZE \\[0\\.0, 10000\\.0\\]$/\t\tconstexpr double COEF_DIST = 6550.230963203723;  \\/\\/ OPTIMIZE [0.0, 10000.0]/'\n",
      "g++ 4_answer.cpp -std=gnu++17 -O2 -DONLINE_JUDGE -o 4_answer.cpp.out\n",
      "sed -i 5_answer.cpp -e 's/^\t\tconstexpr double COEF_CENTER_L1 = .*;  \\/\\/ OPTIMIZE \\[-100\\.0, 100\\.0\\]$/\t\tconstexpr double COEF_CENTER_L1 = -42.11252900856734;  \\/\\/ OPTIMIZE [-100.0, 100.0]/' -e 's/^\t\tconstexpr double COEF_CENTER_L1_SQ = .*;  \\/\\/ OPTIMIZE \\[0\\.0, 100\\.0\\]$/\t\tconstexpr double COEF_CENTER_L1_SQ = 12.185592068015573;  \\/\\/ OPTIMIZE [0.0, 100.0]/' -e 's/^\t\tconstexpr double COEF_POINT = .*;  \\/\\/ OPTIMIZE \\[0\\.0, 100\\.0\\]$/\t\tconstexpr double COEF_POINT = 30.568678121913955;  \\/\\/ OPTIMIZE [0.0, 100.0]/' -e 's/^\t\tconstexpr double COEF_DIST = .*;  \\/\\/ OPTIMIZE \\[0\\.0, 10000\\.0\\]$/\t\tconstexpr double COEF_DIST = 4779.837739930972;  \\/\\/ OPTIMIZE [0.0, 10000.0]/'\n"
     ]
    },
    {
     "name": "stderr",
     "output_type": "stream",
     "text": [
      "\u001b[32m[I 2021-04-25 13:33:19,160]\u001b[0m Trial 500 finished with value: 1509855.0 and parameters: {'COEF_CENTER_L1': -4.390723134944916, 'COEF_CENTER_L1_SQ': 4.018605116541636, 'COEF_POINT': 33.99562849288479, 'COEF_DIST': 7868.648298610374}. Best is trial 142 with value: 1556780.0.\u001b[0m\n"
     ]
    },
    {
     "name": "stdout",
     "output_type": "stream",
     "text": [
      "callback ok\n",
      "index_parallel=6\n",
      "mkdir: cannot create directory ‘6_out’: File exists\n",
      "g++ 5_answer.cpp -std=gnu++17 -O2 -DONLINE_JUDGE -o 5_answer.cpp.out\n",
      "mkdir: cannot create directory ‘6_score’: File exists\n",
      "sed -i 6_answer.cpp -e 's/^\t\tconstexpr double COEF_CENTER_L1 = .*;  \\/\\/ OPTIMIZE \\[-100\\.0, 100\\.0\\]$/\t\tconstexpr double COEF_CENTER_L1 = -66.47369885446416;  \\/\\/ OPTIMIZE [-100.0, 100.0]/' -e 's/^\t\tconstexpr double COEF_CENTER_L1_SQ = .*;  \\/\\/ OPTIMIZE \\[0\\.0, 100\\.0\\]$/\t\tconstexpr double COEF_CENTER_L1_SQ = 7.354866487817192;  \\/\\/ OPTIMIZE [0.0, 100.0]/' -e 's/^\t\tconstexpr double COEF_POINT = .*;  \\/\\/ OPTIMIZE \\[0\\.0, 100\\.0\\]$/\t\tconstexpr double COEF_POINT = 6.932776407470518;  \\/\\/ OPTIMIZE [0.0, 100.0]/' -e 's/^\t\tconstexpr double COEF_DIST = .*;  \\/\\/ OPTIMIZE \\[0\\.0, 10000\\.0\\]$/\t\tconstexpr double COEF_DIST = 6612.0383824596065;  \\/\\/ OPTIMIZE [0.0, 10000.0]/'\n",
      "g++ 6_answer.cpp -std=gnu++17 -O2 -DONLINE_JUDGE -o 6_answer.cpp.out\n"
     ]
    },
    {
     "name": "stderr",
     "output_type": "stream",
     "text": [
      "\u001b[32m[I 2021-04-25 13:33:27,448]\u001b[0m Trial 501 finished with value: 1158894.0 and parameters: {'COEF_CENTER_L1': -66.49421711158415, 'COEF_CENTER_L1_SQ': 12.16581019758797, 'COEF_POINT': 31.03236352050317, 'COEF_DIST': 4772.497751167573}. Best is trial 142 with value: 1556780.0.\u001b[0m\n"
     ]
    },
    {
     "name": "stdout",
     "output_type": "stream",
     "text": [
      "callback ok\n",
      "index_parallel=7\n",
      "mkdir: cannot create directory ‘7_out’: File exists\n",
      "mkdir: cannot create directory ‘7_score’: File exists\n"
     ]
    },
    {
     "name": "stderr",
     "output_type": "stream",
     "text": [
      "\u001b[32m[I 2021-04-25 13:33:28,105]\u001b[0m Trial 502 finished with value: 1421322.0 and parameters: {'COEF_CENTER_L1': 82.44085263659485, 'COEF_CENTER_L1_SQ': 2.7966355385750035, 'COEF_POINT': 6.793303258462788, 'COEF_DIST': 6576.174777826446}. Best is trial 142 with value: 1556780.0.\u001b[0m\n"
     ]
    },
    {
     "name": "stdout",
     "output_type": "stream",
     "text": [
      "callback ok\n",
      "index_parallel=8\n",
      "mkdir: cannot create directory ‘8_out’: File exists\n",
      "mkdir: cannot create directory ‘8_score’: File exists\n"
     ]
    },
    {
     "ename": "KeyboardInterrupt",
     "evalue": "",
     "output_type": "error",
     "traceback": [
      "\u001b[0;31m---------------------------------------------------------------------------\u001b[0m",
      "\u001b[0;31mKeyboardInterrupt\u001b[0m                         Traceback (most recent call last)",
      "\u001b[0;32m~/anaconda3/lib/python3.8/site-packages/optuna/_optimize.py\u001b[0m in \u001b[0;36m_optimize\u001b[0;34m(study, func, n_trials, timeout, n_jobs, catch, callbacks, gc_after_trial, show_progress_bar)\u001b[0m\n\u001b[1;32m    102\u001b[0m                     \u001b[0;32mif\u001b[0m \u001b[0mlen\u001b[0m\u001b[0;34m(\u001b[0m\u001b[0mfutures\u001b[0m\u001b[0;34m)\u001b[0m \u001b[0;34m>=\u001b[0m \u001b[0mn_jobs\u001b[0m\u001b[0;34m:\u001b[0m\u001b[0;34m\u001b[0m\u001b[0;34m\u001b[0m\u001b[0m\n\u001b[0;32m--> 103\u001b[0;31m                         \u001b[0mcompleted\u001b[0m\u001b[0;34m,\u001b[0m \u001b[0mfutures\u001b[0m \u001b[0;34m=\u001b[0m \u001b[0mwait\u001b[0m\u001b[0;34m(\u001b[0m\u001b[0mfutures\u001b[0m\u001b[0;34m,\u001b[0m \u001b[0mreturn_when\u001b[0m\u001b[0;34m=\u001b[0m\u001b[0mFIRST_COMPLETED\u001b[0m\u001b[0;34m)\u001b[0m\u001b[0;34m\u001b[0m\u001b[0;34m\u001b[0m\u001b[0m\n\u001b[0m\u001b[1;32m    104\u001b[0m                         \u001b[0;31m# Raise if exception occurred in executing the completed futures.\u001b[0m\u001b[0;34m\u001b[0m\u001b[0;34m\u001b[0m\u001b[0;34m\u001b[0m\u001b[0m\n",
      "\u001b[0;32m~/anaconda3/lib/python3.8/concurrent/futures/_base.py\u001b[0m in \u001b[0;36mwait\u001b[0;34m(fs, timeout, return_when)\u001b[0m\n\u001b[1;32m    304\u001b[0m \u001b[0;34m\u001b[0m\u001b[0m\n\u001b[0;32m--> 305\u001b[0;31m     \u001b[0mwaiter\u001b[0m\u001b[0;34m.\u001b[0m\u001b[0mevent\u001b[0m\u001b[0;34m.\u001b[0m\u001b[0mwait\u001b[0m\u001b[0;34m(\u001b[0m\u001b[0mtimeout\u001b[0m\u001b[0;34m)\u001b[0m\u001b[0;34m\u001b[0m\u001b[0;34m\u001b[0m\u001b[0m\n\u001b[0m\u001b[1;32m    306\u001b[0m     \u001b[0;32mfor\u001b[0m \u001b[0mf\u001b[0m \u001b[0;32min\u001b[0m \u001b[0mfs\u001b[0m\u001b[0;34m:\u001b[0m\u001b[0;34m\u001b[0m\u001b[0;34m\u001b[0m\u001b[0m\n",
      "\u001b[0;32m~/anaconda3/lib/python3.8/threading.py\u001b[0m in \u001b[0;36mwait\u001b[0;34m(self, timeout)\u001b[0m\n\u001b[1;32m    557\u001b[0m             \u001b[0;32mif\u001b[0m \u001b[0;32mnot\u001b[0m \u001b[0msignaled\u001b[0m\u001b[0;34m:\u001b[0m\u001b[0;34m\u001b[0m\u001b[0;34m\u001b[0m\u001b[0m\n\u001b[0;32m--> 558\u001b[0;31m                 \u001b[0msignaled\u001b[0m \u001b[0;34m=\u001b[0m \u001b[0mself\u001b[0m\u001b[0;34m.\u001b[0m\u001b[0m_cond\u001b[0m\u001b[0;34m.\u001b[0m\u001b[0mwait\u001b[0m\u001b[0;34m(\u001b[0m\u001b[0mtimeout\u001b[0m\u001b[0;34m)\u001b[0m\u001b[0;34m\u001b[0m\u001b[0;34m\u001b[0m\u001b[0m\n\u001b[0m\u001b[1;32m    559\u001b[0m             \u001b[0;32mreturn\u001b[0m \u001b[0msignaled\u001b[0m\u001b[0;34m\u001b[0m\u001b[0;34m\u001b[0m\u001b[0m\n",
      "\u001b[0;32m~/anaconda3/lib/python3.8/threading.py\u001b[0m in \u001b[0;36mwait\u001b[0;34m(self, timeout)\u001b[0m\n\u001b[1;32m    301\u001b[0m             \u001b[0;32mif\u001b[0m \u001b[0mtimeout\u001b[0m \u001b[0;32mis\u001b[0m \u001b[0;32mNone\u001b[0m\u001b[0;34m:\u001b[0m\u001b[0;34m\u001b[0m\u001b[0;34m\u001b[0m\u001b[0m\n\u001b[0;32m--> 302\u001b[0;31m                 \u001b[0mwaiter\u001b[0m\u001b[0;34m.\u001b[0m\u001b[0macquire\u001b[0m\u001b[0;34m(\u001b[0m\u001b[0;34m)\u001b[0m\u001b[0;34m\u001b[0m\u001b[0;34m\u001b[0m\u001b[0m\n\u001b[0m\u001b[1;32m    303\u001b[0m                 \u001b[0mgotit\u001b[0m \u001b[0;34m=\u001b[0m \u001b[0;32mTrue\u001b[0m\u001b[0;34m\u001b[0m\u001b[0;34m\u001b[0m\u001b[0m\n",
      "\u001b[0;31mKeyboardInterrupt\u001b[0m: ",
      "\nDuring handling of the above exception, another exception occurred:\n",
      "\u001b[0;31mKeyboardInterrupt\u001b[0m                         Traceback (most recent call last)",
      "\u001b[0;32m<ipython-input-20-4b2ebb3e5863>\u001b[0m in \u001b[0;36m<module>\u001b[0;34m\u001b[0m\n\u001b[1;32m     16\u001b[0m \u001b[0;34m\u001b[0m\u001b[0m\n\u001b[1;32m     17\u001b[0m \u001b[0mobjective\u001b[0m \u001b[0;34m=\u001b[0m \u001b[0mpartial\u001b[0m\u001b[0;34m(\u001b[0m\u001b[0mobjective_with_index\u001b[0m\u001b[0;34m,\u001b[0m \u001b[0mn_internal_parallel\u001b[0m\u001b[0;34m=\u001b[0m\u001b[0;36m4\u001b[0m\u001b[0;34m)\u001b[0m\u001b[0;34m\u001b[0m\u001b[0;34m\u001b[0m\u001b[0m\n\u001b[0;32m---> 18\u001b[0;31m \u001b[0mstudy\u001b[0m\u001b[0;34m.\u001b[0m\u001b[0moptimize\u001b[0m\u001b[0;34m(\u001b[0m\u001b[0mobjective\u001b[0m\u001b[0;34m,\u001b[0m \u001b[0mn_trials\u001b[0m\u001b[0;34m=\u001b[0m\u001b[0;36m3000\u001b[0m\u001b[0;34m,\u001b[0m \u001b[0mtimeout\u001b[0m\u001b[0;34m=\u001b[0m\u001b[0;36m3600\u001b[0m\u001b[0;34m,\u001b[0m \u001b[0mn_jobs\u001b[0m\u001b[0;34m=\u001b[0m\u001b[0;36m6\u001b[0m\u001b[0;34m,\u001b[0m \u001b[0mcallbacks\u001b[0m\u001b[0;34m=\u001b[0m\u001b[0;34m[\u001b[0m\u001b[0mcallback\u001b[0m\u001b[0;34m]\u001b[0m\u001b[0;34m)\u001b[0m\u001b[0;34m\u001b[0m\u001b[0;34m\u001b[0m\u001b[0m\n\u001b[0m",
      "\u001b[0;32m~/anaconda3/lib/python3.8/site-packages/optuna/study.py\u001b[0m in \u001b[0;36moptimize\u001b[0;34m(self, func, n_trials, timeout, n_jobs, catch, callbacks, gc_after_trial, show_progress_bar)\u001b[0m\n\u001b[1;32m    398\u001b[0m             )\n\u001b[1;32m    399\u001b[0m \u001b[0;34m\u001b[0m\u001b[0m\n\u001b[0;32m--> 400\u001b[0;31m         _optimize(\n\u001b[0m\u001b[1;32m    401\u001b[0m             \u001b[0mstudy\u001b[0m\u001b[0;34m=\u001b[0m\u001b[0mself\u001b[0m\u001b[0;34m,\u001b[0m\u001b[0;34m\u001b[0m\u001b[0;34m\u001b[0m\u001b[0m\n\u001b[1;32m    402\u001b[0m             \u001b[0mfunc\u001b[0m\u001b[0;34m=\u001b[0m\u001b[0mfunc\u001b[0m\u001b[0;34m,\u001b[0m\u001b[0;34m\u001b[0m\u001b[0;34m\u001b[0m\u001b[0m\n",
      "\u001b[0;32m~/anaconda3/lib/python3.8/site-packages/optuna/_optimize.py\u001b[0m in \u001b[0;36m_optimize\u001b[0;34m(study, func, n_trials, timeout, n_jobs, catch, callbacks, gc_after_trial, show_progress_bar)\u001b[0m\n\u001b[1;32m    106\u001b[0m                             \u001b[0mf\u001b[0m\u001b[0;34m.\u001b[0m\u001b[0mresult\u001b[0m\u001b[0;34m(\u001b[0m\u001b[0;34m)\u001b[0m\u001b[0;34m\u001b[0m\u001b[0;34m\u001b[0m\u001b[0m\n\u001b[1;32m    107\u001b[0m \u001b[0;34m\u001b[0m\u001b[0m\n\u001b[0;32m--> 108\u001b[0;31m                     futures.add(\n\u001b[0m\u001b[1;32m    109\u001b[0m                         executor.submit(\n\u001b[1;32m    110\u001b[0m                             \u001b[0m_optimize_sequential\u001b[0m\u001b[0;34m,\u001b[0m\u001b[0;34m\u001b[0m\u001b[0;34m\u001b[0m\u001b[0m\n",
      "\u001b[0;32m~/anaconda3/lib/python3.8/concurrent/futures/_base.py\u001b[0m in \u001b[0;36m__exit__\u001b[0;34m(self, exc_type, exc_val, exc_tb)\u001b[0m\n\u001b[1;32m    634\u001b[0m \u001b[0;34m\u001b[0m\u001b[0m\n\u001b[1;32m    635\u001b[0m     \u001b[0;32mdef\u001b[0m \u001b[0m__exit__\u001b[0m\u001b[0;34m(\u001b[0m\u001b[0mself\u001b[0m\u001b[0;34m,\u001b[0m \u001b[0mexc_type\u001b[0m\u001b[0;34m,\u001b[0m \u001b[0mexc_val\u001b[0m\u001b[0;34m,\u001b[0m \u001b[0mexc_tb\u001b[0m\u001b[0;34m)\u001b[0m\u001b[0;34m:\u001b[0m\u001b[0;34m\u001b[0m\u001b[0;34m\u001b[0m\u001b[0m\n\u001b[0;32m--> 636\u001b[0;31m         \u001b[0mself\u001b[0m\u001b[0;34m.\u001b[0m\u001b[0mshutdown\u001b[0m\u001b[0;34m(\u001b[0m\u001b[0mwait\u001b[0m\u001b[0;34m=\u001b[0m\u001b[0;32mTrue\u001b[0m\u001b[0;34m)\u001b[0m\u001b[0;34m\u001b[0m\u001b[0;34m\u001b[0m\u001b[0m\n\u001b[0m\u001b[1;32m    637\u001b[0m         \u001b[0;32mreturn\u001b[0m \u001b[0;32mFalse\u001b[0m\u001b[0;34m\u001b[0m\u001b[0;34m\u001b[0m\u001b[0m\n\u001b[1;32m    638\u001b[0m \u001b[0;34m\u001b[0m\u001b[0m\n",
      "\u001b[0;32m~/anaconda3/lib/python3.8/concurrent/futures/thread.py\u001b[0m in \u001b[0;36mshutdown\u001b[0;34m(self, wait)\u001b[0m\n\u001b[1;32m    234\u001b[0m         \u001b[0;32mif\u001b[0m \u001b[0mwait\u001b[0m\u001b[0;34m:\u001b[0m\u001b[0;34m\u001b[0m\u001b[0;34m\u001b[0m\u001b[0m\n\u001b[1;32m    235\u001b[0m             \u001b[0;32mfor\u001b[0m \u001b[0mt\u001b[0m \u001b[0;32min\u001b[0m \u001b[0mself\u001b[0m\u001b[0;34m.\u001b[0m\u001b[0m_threads\u001b[0m\u001b[0;34m:\u001b[0m\u001b[0;34m\u001b[0m\u001b[0;34m\u001b[0m\u001b[0m\n\u001b[0;32m--> 236\u001b[0;31m                 \u001b[0mt\u001b[0m\u001b[0;34m.\u001b[0m\u001b[0mjoin\u001b[0m\u001b[0;34m(\u001b[0m\u001b[0;34m)\u001b[0m\u001b[0;34m\u001b[0m\u001b[0;34m\u001b[0m\u001b[0m\n\u001b[0m\u001b[1;32m    237\u001b[0m     \u001b[0mshutdown\u001b[0m\u001b[0;34m.\u001b[0m\u001b[0m__doc__\u001b[0m \u001b[0;34m=\u001b[0m \u001b[0m_base\u001b[0m\u001b[0;34m.\u001b[0m\u001b[0mExecutor\u001b[0m\u001b[0;34m.\u001b[0m\u001b[0mshutdown\u001b[0m\u001b[0;34m.\u001b[0m\u001b[0m__doc__\u001b[0m\u001b[0;34m\u001b[0m\u001b[0;34m\u001b[0m\u001b[0m\n",
      "\u001b[0;32m~/anaconda3/lib/python3.8/threading.py\u001b[0m in \u001b[0;36mjoin\u001b[0;34m(self, timeout)\u001b[0m\n\u001b[1;32m   1009\u001b[0m \u001b[0;34m\u001b[0m\u001b[0m\n\u001b[1;32m   1010\u001b[0m         \u001b[0;32mif\u001b[0m \u001b[0mtimeout\u001b[0m \u001b[0;32mis\u001b[0m \u001b[0;32mNone\u001b[0m\u001b[0;34m:\u001b[0m\u001b[0;34m\u001b[0m\u001b[0;34m\u001b[0m\u001b[0m\n\u001b[0;32m-> 1011\u001b[0;31m             \u001b[0mself\u001b[0m\u001b[0;34m.\u001b[0m\u001b[0m_wait_for_tstate_lock\u001b[0m\u001b[0;34m(\u001b[0m\u001b[0;34m)\u001b[0m\u001b[0;34m\u001b[0m\u001b[0;34m\u001b[0m\u001b[0m\n\u001b[0m\u001b[1;32m   1012\u001b[0m         \u001b[0;32melse\u001b[0m\u001b[0;34m:\u001b[0m\u001b[0;34m\u001b[0m\u001b[0;34m\u001b[0m\u001b[0m\n\u001b[1;32m   1013\u001b[0m             \u001b[0;31m# the behavior of a negative timeout isn't documented, but\u001b[0m\u001b[0;34m\u001b[0m\u001b[0;34m\u001b[0m\u001b[0;34m\u001b[0m\u001b[0m\n",
      "\u001b[0;32m~/anaconda3/lib/python3.8/threading.py\u001b[0m in \u001b[0;36m_wait_for_tstate_lock\u001b[0;34m(self, block, timeout)\u001b[0m\n\u001b[1;32m   1025\u001b[0m         \u001b[0;32mif\u001b[0m \u001b[0mlock\u001b[0m \u001b[0;32mis\u001b[0m \u001b[0;32mNone\u001b[0m\u001b[0;34m:\u001b[0m  \u001b[0;31m# already determined that the C code is done\u001b[0m\u001b[0;34m\u001b[0m\u001b[0;34m\u001b[0m\u001b[0m\n\u001b[1;32m   1026\u001b[0m             \u001b[0;32massert\u001b[0m \u001b[0mself\u001b[0m\u001b[0;34m.\u001b[0m\u001b[0m_is_stopped\u001b[0m\u001b[0;34m\u001b[0m\u001b[0;34m\u001b[0m\u001b[0m\n\u001b[0;32m-> 1027\u001b[0;31m         \u001b[0;32melif\u001b[0m \u001b[0mlock\u001b[0m\u001b[0;34m.\u001b[0m\u001b[0macquire\u001b[0m\u001b[0;34m(\u001b[0m\u001b[0mblock\u001b[0m\u001b[0;34m,\u001b[0m \u001b[0mtimeout\u001b[0m\u001b[0;34m)\u001b[0m\u001b[0;34m:\u001b[0m\u001b[0;34m\u001b[0m\u001b[0;34m\u001b[0m\u001b[0m\n\u001b[0m\u001b[1;32m   1028\u001b[0m             \u001b[0mlock\u001b[0m\u001b[0;34m.\u001b[0m\u001b[0mrelease\u001b[0m\u001b[0;34m(\u001b[0m\u001b[0;34m)\u001b[0m\u001b[0;34m\u001b[0m\u001b[0;34m\u001b[0m\u001b[0m\n\u001b[1;32m   1029\u001b[0m             \u001b[0mself\u001b[0m\u001b[0;34m.\u001b[0m\u001b[0m_stop\u001b[0m\u001b[0;34m(\u001b[0m\u001b[0;34m)\u001b[0m\u001b[0;34m\u001b[0m\u001b[0;34m\u001b[0m\u001b[0m\n",
      "\u001b[0;31mKeyboardInterrupt\u001b[0m: "
     ]
    }
   ],
   "source": [
    "storage_path = f\"study.db\"\n",
    "storage = f\"sqlite:///{storage_path}\"\n",
    "study_name = \"study\"\n",
    "study = optuna.create_study(storage=storage, load_if_exists=True, study_name=study_name, direction=\"maximize\")\n",
    "\n",
    "def callback(study, trial):\n",
    "    try:\n",
    "        if study.best_value == trial.value:  ############# 要変更\n",
    "            print(f\"Updated! {study.best_value} -> {trial.value}\")\n",
    "            index_parallel = trial.number % 100\n",
    "            parameters_changed_filename = f\"{index_parallel}_{FILENAME}\"\n",
    "            !cp {parameters_changed_filename} 00000optimized.cpp\n",
    "        print(\"callback ok\")\n",
    "    except:\n",
    "        print(\":(\")\n",
    "\n",
    "objective = partial(objective_with_index, n_internal_parallel=4)\n",
    "study.optimize(objective, n_trials=3000, timeout=3600, n_jobs=6, callbacks=[callback])"
   ]
  },
  {
   "cell_type": "code",
   "execution_count": null,
   "metadata": {},
   "outputs": [],
   "source": [
    "# $ apt install sysstat\n",
    "# $ mpstat -P ALL 5\n",
    "# とかやると CPU 負荷を見られる"
   ]
  },
  {
   "cell_type": "code",
   "execution_count": 19,
   "metadata": {},
   "outputs": [
    {
     "name": "stdout",
     "output_type": "stream",
     "text": [
      "48621734068.0\n",
      "{'ANNEALING_A': -9.663753766636084,\n",
      " 'ANNEALING_B': 0.23708439451937813,\n",
      " 'ANNEALING_END': 0.004139552269746777,\n",
      " 'ANNEALING_START': 0.4830473145504588,\n",
      " 'GRADIENT_CLIPPING': 0.00019811172822438805,\n",
      " 'GRADIENT_DESCENT_LR': 10380014.948175553,\n",
      " 'GRADIENT_DESCENT_MOMENTUM': 0.3276696959783839,\n",
      " 'GRADIENT_DESCENT_STEPS': 30,\n",
      " 'GRADIENT_DESCENT_STEPS_STEPPING_PROGRESS_RATE': 0.9031609842262478,\n",
      " 'LINE_LENGTH_LOSS_STEPPING_PROGRESS_RATE': 0.021698592868210798,\n",
      " 'LINE_LENGTH_LOSS_WEIGHT': 9.614201554394316e-07,\n",
      " 'N_RANDOM_FACE_CHOICE': 8,\n",
      " 'hoge': '\"ooo\"'}\n"
     ]
    }
   ],
   "source": [
    "print(f\"{study.best_value}\")\n",
    "pprint(study.best_params)"
   ]
  },
  {
   "cell_type": "code",
   "execution_count": null,
   "metadata": {},
   "outputs": [],
   "source": []
  }
 ],
 "metadata": {
  "kernelspec": {
   "display_name": "Python 3",
   "language": "python",
   "name": "python3"
  },
  "language_info": {
   "codemirror_mode": {
    "name": "ipython",
    "version": 3
   },
   "file_extension": ".py",
   "mimetype": "text/x-python",
   "name": "python",
   "nbconvert_exporter": "python",
   "pygments_lexer": "ipython3",
   "version": "3.8.5"
  }
 },
 "nbformat": 4,
 "nbformat_minor": 4
}
