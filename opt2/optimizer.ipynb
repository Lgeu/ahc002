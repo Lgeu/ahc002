{
 "cells": [
  {
   "cell_type": "markdown",
   "metadata": {},
   "source": [
    "こういう感じのコメントを付ける\n",
    "\n",
    "```\n",
    "constexpr double LINE_LENGTH_LOSS_STEPPING_PROGRESS_RATE = 0.7001976706415303;  // OPTIMIZE [0.0, 1.0]\n",
    "constexpr double  LINE_LENGTH_LOSS_WEIGHT = 8.009299591633644e-06;  // OPTIMIZE [1e-8, 1e-4] LOG\n",
    "constexpr int N_RANDOM_FACE_CHOICE = 3;  // OPTIMIZE [1, 10]\n",
    "std::string hoge=\"hoge\";//OPTIMIZE{\"11\", \"unnn\" ,\"ooo\"}\n",
    "```\n",
    "\n",
    "`[` と `,` の間の文字列が Python の式として評価され、その結果の型が最適化に使われる\n",
    "\n",
    "/* でのコメントアウトは効かないので注意"
   ]
  },
  {
   "cell_type": "code",
   "execution_count": 1,
   "metadata": {},
   "outputs": [],
   "source": [
    "import re\n",
    "import sys\n",
    "from time import sleep\n",
    "from pprint import pprint\n",
    "from functools import partial\n",
    "\n",
    "import optuna\n",
    "try:\n",
    "    import pandas as pd\n",
    "except:\n",
    "    pass\n",
    "\n",
    "\n",
    "FILENAME = \"answer.cpp\""
   ]
  },
  {
   "cell_type": "code",
   "execution_count": 2,
   "metadata": {},
   "outputs": [],
   "source": [
    "!mkdir optimize_tmp"
   ]
  },
  {
   "cell_type": "code",
   "execution_count": 3,
   "metadata": {},
   "outputs": [
    {
     "name": "stdout",
     "output_type": "stream",
     "text": [
      "\u001b[01m\u001b[Kanswer.cpp:386:2:\u001b[m\u001b[K \u001b[01;35m\u001b[Kwarning: \u001b[m\u001b[K\"/*\" within comment [\u001b[01;35m\u001b[K-Wcomment\u001b[m\u001b[K]\n",
      "  386 |  /**/\n",
      "      |   \n",
      "\u001b[01m\u001b[Kanswer.cpp:1676:3:\u001b[m\u001b[K \u001b[01;35m\u001b[Kwarning: \u001b[m\u001b[K\"/*\" within comment [\u001b[01;35m\u001b[K-Wcomment\u001b[m\u001b[K]\n",
      " 1676 |   /**\n",
      "      |    \n",
      "\u001b[01m\u001b[Kanswer.cpp:1681:3:\u001b[m\u001b[K \u001b[01;35m\u001b[Kwarning: \u001b[m\u001b[K\"/*\" within comment [\u001b[01;35m\u001b[K-Wcomment\u001b[m\u001b[K]\n",
      " 1681 |   /**\n",
      "      |    \n",
      "\u001b[01m\u001b[Kanswer.cpp:1686:3:\u001b[m\u001b[K \u001b[01;35m\u001b[Kwarning: \u001b[m\u001b[K\"/*\" within comment [\u001b[01;35m\u001b[K-Wcomment\u001b[m\u001b[K]\n",
      " 1686 |   /**\n",
      "      |    \n",
      "\u001b[01m\u001b[Kanswer.cpp:1796:2:\u001b[m\u001b[K \u001b[01;35m\u001b[Kwarning: \u001b[m\u001b[K\"/*\" within comment [\u001b[01;35m\u001b[K-Wcomment\u001b[m\u001b[K]\n",
      " 1796 |  /**/\n",
      "      |   \n",
      "\u001b[01m\u001b[Kanswer.cpp:\u001b[m\u001b[K In function ‘\u001b[01m\u001b[Kint main()\u001b[m\u001b[K’:\n",
      "\u001b[01m\u001b[Kanswer.cpp:1802:6:\u001b[m\u001b[K \u001b[01;35m\u001b[Kwarning: \u001b[m\u001b[Kunused variable ‘\u001b[01m\u001b[Ka\u001b[m\u001b[K’ [\u001b[01;35m\u001b[K-Wunused-variable\u001b[m\u001b[K]\n",
      " 1802 |  int \u001b[01;35m\u001b[Ka\u001b[m\u001b[K = 0;\n",
      "      |      \u001b[01;35m\u001b[K^\u001b[m\u001b[K\n",
      "answer.cpp: In instantiation of ‘\u001b[01m\u001b[Kvoid FloorplanState<max_n>::undo() [with int max_n = 200]\u001b[m\u001b[K’:\n",
      "\u001b[01m\u001b[Kanswer.cpp:1725:25:\u001b[m\u001b[K   required from here\n",
      "\u001b[01m\u001b[Kanswer.cpp:1563:11:\u001b[m\u001b[K \u001b[01;35m\u001b[Kwarning: \u001b[m\u001b[Kunused variable ‘\u001b[01m\u001b[Kr\u001b[m\u001b[K’ [\u001b[01;35m\u001b[K-Wunused-variable\u001b[m\u001b[K]\n",
      " 1563 |   Vertex* \u001b[01;35m\u001b[Kr\u001b[m\u001b[K = update_trial(last_update);\n",
      "      |           \u001b[01;35m\u001b[K^\u001b[m\u001b[K\n",
      "answer.cpp: In instantiation of ‘\u001b[01m\u001b[KSolution FloorplanState<max_n>::construct_exact_solution() [with bool debug = false; int max_n = 60]\u001b[m\u001b[K’:\n",
      "\u001b[01m\u001b[Kanswer.cpp:1767:24:\u001b[m\u001b[K   required from here\n",
      "\u001b[01m\u001b[Kanswer.cpp:963:7:\u001b[m\u001b[K \u001b[01;35m\u001b[Kwarning: \u001b[m\u001b[Kunused variable ‘\u001b[01m\u001b[Kn_edges\u001b[m\u001b[K’ [\u001b[01;35m\u001b[K-Wunused-variable\u001b[m\u001b[K]\n",
      "  963 |   int \u001b[01;35m\u001b[Kn_edges\u001b[m\u001b[K = x_val.size();\n",
      "      |       \u001b[01;35m\u001b[K^~~~~~~\u001b[m\u001b[K\n",
      "answer.cpp: In instantiation of ‘\u001b[01m\u001b[KSolution FloorplanState<max_n>::construct_exact_solution() [with bool debug = false; int max_n = 70]\u001b[m\u001b[K’:\n",
      "\u001b[01m\u001b[Kanswer.cpp:1768:29:\u001b[m\u001b[K   required from here\n",
      "\u001b[01m\u001b[Kanswer.cpp:963:7:\u001b[m\u001b[K \u001b[01;35m\u001b[Kwarning: \u001b[m\u001b[Kunused variable ‘\u001b[01m\u001b[Kn_edges\u001b[m\u001b[K’ [\u001b[01;35m\u001b[K-Wunused-variable\u001b[m\u001b[K]\n",
      "answer.cpp: In instantiation of ‘\u001b[01m\u001b[KSolution FloorplanState<max_n>::construct_exact_solution() [with bool debug = false; int max_n = 80]\u001b[m\u001b[K’:\n",
      "\u001b[01m\u001b[Kanswer.cpp:1769:29:\u001b[m\u001b[K   required from here\n",
      "\u001b[01m\u001b[Kanswer.cpp:963:7:\u001b[m\u001b[K \u001b[01;35m\u001b[Kwarning: \u001b[m\u001b[Kunused variable ‘\u001b[01m\u001b[Kn_edges\u001b[m\u001b[K’ [\u001b[01;35m\u001b[K-Wunused-variable\u001b[m\u001b[K]\n",
      "answer.cpp: In instantiation of ‘\u001b[01m\u001b[KSolution FloorplanState<max_n>::construct_exact_solution() [with bool debug = false; int max_n = 90]\u001b[m\u001b[K’:\n",
      "\u001b[01m\u001b[Kanswer.cpp:1770:29:\u001b[m\u001b[K   required from here\n",
      "\u001b[01m\u001b[Kanswer.cpp:963:7:\u001b[m\u001b[K \u001b[01;35m\u001b[Kwarning: \u001b[m\u001b[Kunused variable ‘\u001b[01m\u001b[Kn_edges\u001b[m\u001b[K’ [\u001b[01;35m\u001b[K-Wunused-variable\u001b[m\u001b[K]\n",
      "answer.cpp: In instantiation of ‘\u001b[01m\u001b[KSolution FloorplanState<max_n>::construct_exact_solution() [with bool debug = false; int max_n = 100]\u001b[m\u001b[K’:\n",
      "\u001b[01m\u001b[Kanswer.cpp:1771:30:\u001b[m\u001b[K   required from here\n",
      "\u001b[01m\u001b[Kanswer.cpp:963:7:\u001b[m\u001b[K \u001b[01;35m\u001b[Kwarning: \u001b[m\u001b[Kunused variable ‘\u001b[01m\u001b[Kn_edges\u001b[m\u001b[K’ [\u001b[01;35m\u001b[K-Wunused-variable\u001b[m\u001b[K]\n",
      "answer.cpp: In instantiation of ‘\u001b[01m\u001b[KSolution FloorplanState<max_n>::construct_exact_solution() [with bool debug = false; int max_n = 110]\u001b[m\u001b[K’:\n",
      "\u001b[01m\u001b[Kanswer.cpp:1772:30:\u001b[m\u001b[K   required from here\n",
      "\u001b[01m\u001b[Kanswer.cpp:963:7:\u001b[m\u001b[K \u001b[01;35m\u001b[Kwarning: \u001b[m\u001b[Kunused variable ‘\u001b[01m\u001b[Kn_edges\u001b[m\u001b[K’ [\u001b[01;35m\u001b[K-Wunused-variable\u001b[m\u001b[K]\n",
      "answer.cpp: In instantiation of ‘\u001b[01m\u001b[KSolution FloorplanState<max_n>::construct_exact_solution() [with bool debug = false; int max_n = 120]\u001b[m\u001b[K’:\n",
      "\u001b[01m\u001b[Kanswer.cpp:1773:30:\u001b[m\u001b[K   required from here\n",
      "\u001b[01m\u001b[Kanswer.cpp:963:7:\u001b[m\u001b[K \u001b[01;35m\u001b[Kwarning: \u001b[m\u001b[Kunused variable ‘\u001b[01m\u001b[Kn_edges\u001b[m\u001b[K’ [\u001b[01;35m\u001b[K-Wunused-variable\u001b[m\u001b[K]\n",
      "answer.cpp: In instantiation of ‘\u001b[01m\u001b[KSolution FloorplanState<max_n>::construct_exact_solution() [with bool debug = false; int max_n = 130]\u001b[m\u001b[K’:\n",
      "\u001b[01m\u001b[Kanswer.cpp:1774:30:\u001b[m\u001b[K   required from here\n",
      "\u001b[01m\u001b[Kanswer.cpp:963:7:\u001b[m\u001b[K \u001b[01;35m\u001b[Kwarning: \u001b[m\u001b[Kunused variable ‘\u001b[01m\u001b[Kn_edges\u001b[m\u001b[K’ [\u001b[01;35m\u001b[K-Wunused-variable\u001b[m\u001b[K]\n",
      "answer.cpp: In instantiation of ‘\u001b[01m\u001b[KSolution FloorplanState<max_n>::construct_exact_solution() [with bool debug = false; int max_n = 140]\u001b[m\u001b[K’:\n",
      "\u001b[01m\u001b[Kanswer.cpp:1775:30:\u001b[m\u001b[K   required from here\n",
      "\u001b[01m\u001b[Kanswer.cpp:963:7:\u001b[m\u001b[K \u001b[01;35m\u001b[Kwarning: \u001b[m\u001b[Kunused variable ‘\u001b[01m\u001b[Kn_edges\u001b[m\u001b[K’ [\u001b[01;35m\u001b[K-Wunused-variable\u001b[m\u001b[K]\n",
      "answer.cpp: In instantiation of ‘\u001b[01m\u001b[KSolution FloorplanState<max_n>::construct_exact_solution() [with bool debug = false; int max_n = 150]\u001b[m\u001b[K’:\n",
      "\u001b[01m\u001b[Kanswer.cpp:1776:30:\u001b[m\u001b[K   required from here\n",
      "\u001b[01m\u001b[Kanswer.cpp:963:7:\u001b[m\u001b[K \u001b[01;35m\u001b[Kwarning: \u001b[m\u001b[Kunused variable ‘\u001b[01m\u001b[Kn_edges\u001b[m\u001b[K’ [\u001b[01;35m\u001b[K-Wunused-variable\u001b[m\u001b[K]\n",
      "answer.cpp: In instantiation of ‘\u001b[01m\u001b[KSolution FloorplanState<max_n>::construct_exact_solution() [with bool debug = false; int max_n = 160]\u001b[m\u001b[K’:\n",
      "\u001b[01m\u001b[Kanswer.cpp:1777:30:\u001b[m\u001b[K   required from here\n",
      "\u001b[01m\u001b[Kanswer.cpp:963:7:\u001b[m\u001b[K \u001b[01;35m\u001b[Kwarning: \u001b[m\u001b[Kunused variable ‘\u001b[01m\u001b[Kn_edges\u001b[m\u001b[K’ [\u001b[01;35m\u001b[K-Wunused-variable\u001b[m\u001b[K]\n",
      "answer.cpp: In instantiation of ‘\u001b[01m\u001b[KSolution FloorplanState<max_n>::construct_exact_solution() [with bool debug = false; int max_n = 170]\u001b[m\u001b[K’:\n",
      "\u001b[01m\u001b[Kanswer.cpp:1778:30:\u001b[m\u001b[K   required from here\n",
      "\u001b[01m\u001b[Kanswer.cpp:963:7:\u001b[m\u001b[K \u001b[01;35m\u001b[Kwarning: \u001b[m\u001b[Kunused variable ‘\u001b[01m\u001b[Kn_edges\u001b[m\u001b[K’ [\u001b[01;35m\u001b[K-Wunused-variable\u001b[m\u001b[K]\n",
      "answer.cpp: In instantiation of ‘\u001b[01m\u001b[KSolution FloorplanState<max_n>::construct_exact_solution() [with bool debug = false; int max_n = 180]\u001b[m\u001b[K’:\n",
      "\u001b[01m\u001b[Kanswer.cpp:1779:30:\u001b[m\u001b[K   required from here\n",
      "\u001b[01m\u001b[Kanswer.cpp:963:7:\u001b[m\u001b[K \u001b[01;35m\u001b[Kwarning: \u001b[m\u001b[Kunused variable ‘\u001b[01m\u001b[Kn_edges\u001b[m\u001b[K’ [\u001b[01;35m\u001b[K-Wunused-variable\u001b[m\u001b[K]\n",
      "answer.cpp: In instantiation of ‘\u001b[01m\u001b[KSolution FloorplanState<max_n>::construct_exact_solution() [with bool debug = false; int max_n = 190]\u001b[m\u001b[K’:\n",
      "\u001b[01m\u001b[Kanswer.cpp:1780:30:\u001b[m\u001b[K   required from here\n",
      "\u001b[01m\u001b[Kanswer.cpp:963:7:\u001b[m\u001b[K \u001b[01;35m\u001b[Kwarning: \u001b[m\u001b[Kunused variable ‘\u001b[01m\u001b[Kn_edges\u001b[m\u001b[K’ [\u001b[01;35m\u001b[K-Wunused-variable\u001b[m\u001b[K]\n",
      "answer.cpp: In instantiation of ‘\u001b[01m\u001b[KSolution FloorplanState<max_n>::construct_exact_solution() [with bool debug = false; int max_n = 200]\u001b[m\u001b[K’:\n",
      "\u001b[01m\u001b[Kanswer.cpp:1781:30:\u001b[m\u001b[K   required from here\n",
      "\u001b[01m\u001b[Kanswer.cpp:963:7:\u001b[m\u001b[K \u001b[01;35m\u001b[Kwarning: \u001b[m\u001b[Kunused variable ‘\u001b[01m\u001b[Kn_edges\u001b[m\u001b[K’ [\u001b[01;35m\u001b[K-Wunused-variable\u001b[m\u001b[K]\n",
      "answer.cpp: In instantiation of ‘\u001b[01m\u001b[Kvoid FloorplanState<max_n>::undo() [with int max_n = 60]\u001b[m\u001b[K’:\n",
      "\u001b[01m\u001b[Kanswer.cpp:1606:5:\u001b[m\u001b[K   required from ‘\u001b[01m\u001b[Kvoid SimulatedAnnealing<State>::optimize(double) [with double (* temperature_schedule)(const double&) = annealing_temperature_schedule; State = FloorplanState<60>]\u001b[m\u001b[K’\n",
      "\u001b[01m\u001b[Kanswer.cpp:1767:24:\u001b[m\u001b[K   required from here\n",
      "\u001b[01m\u001b[Kanswer.cpp:1563:11:\u001b[m\u001b[K \u001b[01;35m\u001b[Kwarning: \u001b[m\u001b[Kunused variable ‘\u001b[01m\u001b[Kr\u001b[m\u001b[K’ [\u001b[01;35m\u001b[K-Wunused-variable\u001b[m\u001b[K]\n",
      " 1563 |   Vertex* \u001b[01;35m\u001b[Kr\u001b[m\u001b[K = update_trial(last_update);\n",
      "      |           \u001b[01;35m\u001b[K^\u001b[m\u001b[K\n",
      "answer.cpp: In instantiation of ‘\u001b[01m\u001b[Kvoid FloorplanState<max_n>::undo() [with int max_n = 70]\u001b[m\u001b[K’:\n",
      "\u001b[01m\u001b[Kanswer.cpp:1606:5:\u001b[m\u001b[K   required from ‘\u001b[01m\u001b[Kvoid SimulatedAnnealing<State>::optimize(double) [with double (* temperature_schedule)(const double&) = annealing_temperature_schedule; State = FloorplanState<70>]\u001b[m\u001b[K’\n",
      "\u001b[01m\u001b[Kanswer.cpp:1768:29:\u001b[m\u001b[K   required from here\n",
      "\u001b[01m\u001b[Kanswer.cpp:1563:11:\u001b[m\u001b[K \u001b[01;35m\u001b[Kwarning: \u001b[m\u001b[Kunused variable ‘\u001b[01m\u001b[Kr\u001b[m\u001b[K’ [\u001b[01;35m\u001b[K-Wunused-variable\u001b[m\u001b[K]\n",
      "answer.cpp: In instantiation of ‘\u001b[01m\u001b[Kvoid FloorplanState<max_n>::undo() [with int max_n = 80]\u001b[m\u001b[K’:\n",
      "\u001b[01m\u001b[Kanswer.cpp:1606:5:\u001b[m\u001b[K   required from ‘\u001b[01m\u001b[Kvoid SimulatedAnnealing<State>::optimize(double) [with double (* temperature_schedule)(const double&) = annealing_temperature_schedule; State = FloorplanState<80>]\u001b[m\u001b[K’\n",
      "\u001b[01m\u001b[Kanswer.cpp:1769:29:\u001b[m\u001b[K   required from here\n",
      "\u001b[01m\u001b[Kanswer.cpp:1563:11:\u001b[m\u001b[K \u001b[01;35m\u001b[Kwarning: \u001b[m\u001b[Kunused variable ‘\u001b[01m\u001b[Kr\u001b[m\u001b[K’ [\u001b[01;35m\u001b[K-Wunused-variable\u001b[m\u001b[K]\n",
      "answer.cpp: In instantiation of ‘\u001b[01m\u001b[Kvoid FloorplanState<max_n>::undo() [with int max_n = 90]\u001b[m\u001b[K’:\n",
      "\u001b[01m\u001b[Kanswer.cpp:1606:5:\u001b[m\u001b[K   required from ‘\u001b[01m\u001b[Kvoid SimulatedAnnealing<State>::optimize(double) [with double (* temperature_schedule)(const double&) = annealing_temperature_schedule; State = FloorplanState<90>]\u001b[m\u001b[K’\n",
      "\u001b[01m\u001b[Kanswer.cpp:1770:29:\u001b[m\u001b[K   required from here\n",
      "\u001b[01m\u001b[Kanswer.cpp:1563:11:\u001b[m\u001b[K \u001b[01;35m\u001b[Kwarning: \u001b[m\u001b[Kunused variable ‘\u001b[01m\u001b[Kr\u001b[m\u001b[K’ [\u001b[01;35m\u001b[K-Wunused-variable\u001b[m\u001b[K]\n",
      "answer.cpp: In instantiation of ‘\u001b[01m\u001b[Kvoid FloorplanState<max_n>::undo() [with int max_n = 100]\u001b[m\u001b[K’:\n",
      "\u001b[01m\u001b[Kanswer.cpp:1606:5:\u001b[m\u001b[K   required from ‘\u001b[01m\u001b[Kvoid SimulatedAnnealing<State>::optimize(double) [with double (* temperature_schedule)(const double&) = annealing_temperature_schedule; State = FloorplanState<100>]\u001b[m\u001b[K’\n",
      "\u001b[01m\u001b[Kanswer.cpp:1771:30:\u001b[m\u001b[K   required from here\n",
      "\u001b[01m\u001b[Kanswer.cpp:1563:11:\u001b[m\u001b[K \u001b[01;35m\u001b[Kwarning: \u001b[m\u001b[Kunused variable ‘\u001b[01m\u001b[Kr\u001b[m\u001b[K’ [\u001b[01;35m\u001b[K-Wunused-variable\u001b[m\u001b[K]\n",
      "answer.cpp: In instantiation of ‘\u001b[01m\u001b[Kvoid FloorplanState<max_n>::undo() [with int max_n = 110]\u001b[m\u001b[K’:\n",
      "\u001b[01m\u001b[Kanswer.cpp:1606:5:\u001b[m\u001b[K   required from ‘\u001b[01m\u001b[Kvoid SimulatedAnnealing<State>::optimize(double) [with double (* temperature_schedule)(const double&) = annealing_temperature_schedule; State = FloorplanState<110>]\u001b[m\u001b[K’\n",
      "\u001b[01m\u001b[Kanswer.cpp:1772:30:\u001b[m\u001b[K   required from here\n",
      "\u001b[01m\u001b[Kanswer.cpp:1563:11:\u001b[m\u001b[K \u001b[01;35m\u001b[Kwarning: \u001b[m\u001b[Kunused variable ‘\u001b[01m\u001b[Kr\u001b[m\u001b[K’ [\u001b[01;35m\u001b[K-Wunused-variable\u001b[m\u001b[K]\n",
      "answer.cpp: In instantiation of ‘\u001b[01m\u001b[Kvoid FloorplanState<max_n>::undo() [with int max_n = 120]\u001b[m\u001b[K’:\n",
      "\u001b[01m\u001b[Kanswer.cpp:1606:5:\u001b[m\u001b[K   required from ‘\u001b[01m\u001b[Kvoid SimulatedAnnealing<State>::optimize(double) [with double (* temperature_schedule)(const double&) = annealing_temperature_schedule; State = FloorplanState<120>]\u001b[m\u001b[K’\n",
      "\u001b[01m\u001b[Kanswer.cpp:1773:30:\u001b[m\u001b[K   required from here\n",
      "\u001b[01m\u001b[Kanswer.cpp:1563:11:\u001b[m\u001b[K \u001b[01;35m\u001b[Kwarning: \u001b[m\u001b[Kunused variable ‘\u001b[01m\u001b[Kr\u001b[m\u001b[K’ [\u001b[01;35m\u001b[K-Wunused-variable\u001b[m\u001b[K]\n",
      "answer.cpp: In instantiation of ‘\u001b[01m\u001b[Kvoid FloorplanState<max_n>::undo() [with int max_n = 130]\u001b[m\u001b[K’:\n",
      "\u001b[01m\u001b[Kanswer.cpp:1606:5:\u001b[m\u001b[K   required from ‘\u001b[01m\u001b[Kvoid SimulatedAnnealing<State>::optimize(double) [with double (* temperature_schedule)(const double&) = annealing_temperature_schedule; State = FloorplanState<130>]\u001b[m\u001b[K’\n",
      "\u001b[01m\u001b[Kanswer.cpp:1774:30:\u001b[m\u001b[K   required from here\n",
      "\u001b[01m\u001b[Kanswer.cpp:1563:11:\u001b[m\u001b[K \u001b[01;35m\u001b[Kwarning: \u001b[m\u001b[Kunused variable ‘\u001b[01m\u001b[Kr\u001b[m\u001b[K’ [\u001b[01;35m\u001b[K-Wunused-variable\u001b[m\u001b[K]\n",
      "answer.cpp: In instantiation of ‘\u001b[01m\u001b[Kvoid FloorplanState<max_n>::undo() [with int max_n = 140]\u001b[m\u001b[K’:\n",
      "\u001b[01m\u001b[Kanswer.cpp:1606:5:\u001b[m\u001b[K   required from ‘\u001b[01m\u001b[Kvoid SimulatedAnnealing<State>::optimize(double) [with double (* temperature_schedule)(const double&) = annealing_temperature_schedule; State = FloorplanState<140>]\u001b[m\u001b[K’\n",
      "\u001b[01m\u001b[Kanswer.cpp:1775:30:\u001b[m\u001b[K   required from here\n",
      "\u001b[01m\u001b[Kanswer.cpp:1563:11:\u001b[m\u001b[K \u001b[01;35m\u001b[Kwarning: \u001b[m\u001b[Kunused variable ‘\u001b[01m\u001b[Kr\u001b[m\u001b[K’ [\u001b[01;35m\u001b[K-Wunused-variable\u001b[m\u001b[K]\n",
      "answer.cpp: In instantiation of ‘\u001b[01m\u001b[Kvoid FloorplanState<max_n>::undo() [with int max_n = 150]\u001b[m\u001b[K’:\n",
      "\u001b[01m\u001b[Kanswer.cpp:1606:5:\u001b[m\u001b[K   required from ‘\u001b[01m\u001b[Kvoid SimulatedAnnealing<State>::optimize(double) [with double (* temperature_schedule)(const double&) = annealing_temperature_schedule; State = FloorplanState<150>]\u001b[m\u001b[K’\n",
      "\u001b[01m\u001b[Kanswer.cpp:1776:30:\u001b[m\u001b[K   required from here\n",
      "\u001b[01m\u001b[Kanswer.cpp:1563:11:\u001b[m\u001b[K \u001b[01;35m\u001b[Kwarning: \u001b[m\u001b[Kunused variable ‘\u001b[01m\u001b[Kr\u001b[m\u001b[K’ [\u001b[01;35m\u001b[K-Wunused-variable\u001b[m\u001b[K]\n",
      "answer.cpp: In instantiation of ‘\u001b[01m\u001b[Kvoid FloorplanState<max_n>::undo() [with int max_n = 160]\u001b[m\u001b[K’:\n",
      "\u001b[01m\u001b[Kanswer.cpp:1606:5:\u001b[m\u001b[K   required from ‘\u001b[01m\u001b[Kvoid SimulatedAnnealing<State>::optimize(double) [with double (* temperature_schedule)(const double&) = annealing_temperature_schedule; State = FloorplanState<160>]\u001b[m\u001b[K’\n",
      "\u001b[01m\u001b[Kanswer.cpp:1777:30:\u001b[m\u001b[K   required from here\n",
      "\u001b[01m\u001b[Kanswer.cpp:1563:11:\u001b[m\u001b[K \u001b[01;35m\u001b[Kwarning: \u001b[m\u001b[Kunused variable ‘\u001b[01m\u001b[Kr\u001b[m\u001b[K’ [\u001b[01;35m\u001b[K-Wunused-variable\u001b[m\u001b[K]\n"
     ]
    },
    {
     "name": "stdout",
     "output_type": "stream",
     "text": [
      "answer.cpp: In instantiation of ‘\u001b[01m\u001b[Kvoid FloorplanState<max_n>::undo() [with int max_n = 170]\u001b[m\u001b[K’:\n",
      "\u001b[01m\u001b[Kanswer.cpp:1606:5:\u001b[m\u001b[K   required from ‘\u001b[01m\u001b[Kvoid SimulatedAnnealing<State>::optimize(double) [with double (* temperature_schedule)(const double&) = annealing_temperature_schedule; State = FloorplanState<170>]\u001b[m\u001b[K’\n",
      "\u001b[01m\u001b[Kanswer.cpp:1778:30:\u001b[m\u001b[K   required from here\n",
      "\u001b[01m\u001b[Kanswer.cpp:1563:11:\u001b[m\u001b[K \u001b[01;35m\u001b[Kwarning: \u001b[m\u001b[Kunused variable ‘\u001b[01m\u001b[Kr\u001b[m\u001b[K’ [\u001b[01;35m\u001b[K-Wunused-variable\u001b[m\u001b[K]\n",
      "answer.cpp: In instantiation of ‘\u001b[01m\u001b[Kvoid FloorplanState<max_n>::undo() [with int max_n = 180]\u001b[m\u001b[K’:\n",
      "\u001b[01m\u001b[Kanswer.cpp:1606:5:\u001b[m\u001b[K   required from ‘\u001b[01m\u001b[Kvoid SimulatedAnnealing<State>::optimize(double) [with double (* temperature_schedule)(const double&) = annealing_temperature_schedule; State = FloorplanState<180>]\u001b[m\u001b[K’\n",
      "\u001b[01m\u001b[Kanswer.cpp:1779:30:\u001b[m\u001b[K   required from here\n",
      "\u001b[01m\u001b[Kanswer.cpp:1563:11:\u001b[m\u001b[K \u001b[01;35m\u001b[Kwarning: \u001b[m\u001b[Kunused variable ‘\u001b[01m\u001b[Kr\u001b[m\u001b[K’ [\u001b[01;35m\u001b[K-Wunused-variable\u001b[m\u001b[K]\n",
      "answer.cpp: In instantiation of ‘\u001b[01m\u001b[Kvoid FloorplanState<max_n>::undo() [with int max_n = 190]\u001b[m\u001b[K’:\n",
      "\u001b[01m\u001b[Kanswer.cpp:1606:5:\u001b[m\u001b[K   required from ‘\u001b[01m\u001b[Kvoid SimulatedAnnealing<State>::optimize(double) [with double (* temperature_schedule)(const double&) = annealing_temperature_schedule; State = FloorplanState<190>]\u001b[m\u001b[K’\n",
      "\u001b[01m\u001b[Kanswer.cpp:1780:30:\u001b[m\u001b[K   required from here\n",
      "\u001b[01m\u001b[Kanswer.cpp:1563:11:\u001b[m\u001b[K \u001b[01;35m\u001b[Kwarning: \u001b[m\u001b[Kunused variable ‘\u001b[01m\u001b[Kr\u001b[m\u001b[K’ [\u001b[01;35m\u001b[K-Wunused-variable\u001b[m\u001b[K]\n",
      "answer.cpp: In instantiation of ‘\u001b[01m\u001b[Kdouble FloorplanState<max_n>::calc_face_score(int) [with int max_n = 200]\u001b[m\u001b[K’:\n",
      "\u001b[01m\u001b[Kanswer.cpp:1091:55:\u001b[m\u001b[K   required from ‘\u001b[01m\u001b[KVertex* FloorplanState<max_n>::update_trial(Vertex*) [with int max_n = 200]\u001b[m\u001b[K’\n",
      "\u001b[01m\u001b[Kanswer.cpp:1028:16:\u001b[m\u001b[K   required from ‘\u001b[01m\u001b[Kvoid FloorplanState<max_n>::update() [with int max_n = 200]\u001b[m\u001b[K’\n",
      "\u001b[01m\u001b[Kanswer.cpp:1720:27:\u001b[m\u001b[K   required from here\n",
      "\u001b[01m\u001b[Kanswer.cpp:1046:13:\u001b[m\u001b[K \u001b[01;35m\u001b[Kwarning: \u001b[m\u001b[Kunused variable ‘\u001b[01m\u001b[Kn_edges\u001b[m\u001b[K’ [\u001b[01;35m\u001b[K-Wunused-variable\u001b[m\u001b[K]\n",
      " 1046 |   const int \u001b[01;35m\u001b[Kn_edges\u001b[m\u001b[K = board.edges.size();\n",
      "      |             \u001b[01;35m\u001b[K^~~~~~~\u001b[m\u001b[K\n",
      "answer.cpp: In instantiation of ‘\u001b[01m\u001b[Kdouble FloorplanState<max_n>::calc_face_score(int) [with int max_n = 60]\u001b[m\u001b[K’:\n",
      "\u001b[01m\u001b[Kanswer.cpp:1091:55:\u001b[m\u001b[K   required from ‘\u001b[01m\u001b[KVertex* FloorplanState<max_n>::update_trial(Vertex*) [with int max_n = 60]\u001b[m\u001b[K’\n",
      "\u001b[01m\u001b[Kanswer.cpp:1028:16:\u001b[m\u001b[K   required from ‘\u001b[01m\u001b[Kvoid FloorplanState<max_n>::update() [with int max_n = 60]\u001b[m\u001b[K’\n",
      "\u001b[01m\u001b[Kanswer.cpp:1590:4:\u001b[m\u001b[K   required from ‘\u001b[01m\u001b[Kvoid SimulatedAnnealing<State>::optimize(double) [with double (* temperature_schedule)(const double&) = annealing_temperature_schedule; State = FloorplanState<60>]\u001b[m\u001b[K’\n",
      "\u001b[01m\u001b[Kanswer.cpp:1767:24:\u001b[m\u001b[K   required from here\n",
      "\u001b[01m\u001b[Kanswer.cpp:1046:13:\u001b[m\u001b[K \u001b[01;35m\u001b[Kwarning: \u001b[m\u001b[Kunused variable ‘\u001b[01m\u001b[Kn_edges\u001b[m\u001b[K’ [\u001b[01;35m\u001b[K-Wunused-variable\u001b[m\u001b[K]\n",
      "answer.cpp: In instantiation of ‘\u001b[01m\u001b[Kdouble FloorplanState<max_n>::calc_face_score(int) [with int max_n = 70]\u001b[m\u001b[K’:\n",
      "\u001b[01m\u001b[Kanswer.cpp:1091:55:\u001b[m\u001b[K   required from ‘\u001b[01m\u001b[KVertex* FloorplanState<max_n>::update_trial(Vertex*) [with int max_n = 70]\u001b[m\u001b[K’\n",
      "\u001b[01m\u001b[Kanswer.cpp:1028:16:\u001b[m\u001b[K   required from ‘\u001b[01m\u001b[Kvoid FloorplanState<max_n>::update() [with int max_n = 70]\u001b[m\u001b[K’\n",
      "\u001b[01m\u001b[Kanswer.cpp:1590:4:\u001b[m\u001b[K   required from ‘\u001b[01m\u001b[Kvoid SimulatedAnnealing<State>::optimize(double) [with double (* temperature_schedule)(const double&) = annealing_temperature_schedule; State = FloorplanState<70>]\u001b[m\u001b[K’\n",
      "\u001b[01m\u001b[Kanswer.cpp:1768:29:\u001b[m\u001b[K   required from here\n",
      "\u001b[01m\u001b[Kanswer.cpp:1046:13:\u001b[m\u001b[K \u001b[01;35m\u001b[Kwarning: \u001b[m\u001b[Kunused variable ‘\u001b[01m\u001b[Kn_edges\u001b[m\u001b[K’ [\u001b[01;35m\u001b[K-Wunused-variable\u001b[m\u001b[K]\n",
      "answer.cpp: In instantiation of ‘\u001b[01m\u001b[Kdouble FloorplanState<max_n>::calc_face_score(int) [with int max_n = 80]\u001b[m\u001b[K’:\n",
      "\u001b[01m\u001b[Kanswer.cpp:1091:55:\u001b[m\u001b[K   required from ‘\u001b[01m\u001b[KVertex* FloorplanState<max_n>::update_trial(Vertex*) [with int max_n = 80]\u001b[m\u001b[K’\n",
      "\u001b[01m\u001b[Kanswer.cpp:1028:16:\u001b[m\u001b[K   required from ‘\u001b[01m\u001b[Kvoid FloorplanState<max_n>::update() [with int max_n = 80]\u001b[m\u001b[K’\n",
      "\u001b[01m\u001b[Kanswer.cpp:1590:4:\u001b[m\u001b[K   required from ‘\u001b[01m\u001b[Kvoid SimulatedAnnealing<State>::optimize(double) [with double (* temperature_schedule)(const double&) = annealing_temperature_schedule; State = FloorplanState<80>]\u001b[m\u001b[K’\n",
      "\u001b[01m\u001b[Kanswer.cpp:1769:29:\u001b[m\u001b[K   required from here\n",
      "\u001b[01m\u001b[Kanswer.cpp:1046:13:\u001b[m\u001b[K \u001b[01;35m\u001b[Kwarning: \u001b[m\u001b[Kunused variable ‘\u001b[01m\u001b[Kn_edges\u001b[m\u001b[K’ [\u001b[01;35m\u001b[K-Wunused-variable\u001b[m\u001b[K]\n",
      "answer.cpp: In instantiation of ‘\u001b[01m\u001b[Kdouble FloorplanState<max_n>::calc_face_score(int) [with int max_n = 90]\u001b[m\u001b[K’:\n",
      "\u001b[01m\u001b[Kanswer.cpp:1091:55:\u001b[m\u001b[K   required from ‘\u001b[01m\u001b[KVertex* FloorplanState<max_n>::update_trial(Vertex*) [with int max_n = 90]\u001b[m\u001b[K’\n",
      "\u001b[01m\u001b[Kanswer.cpp:1028:16:\u001b[m\u001b[K   required from ‘\u001b[01m\u001b[Kvoid FloorplanState<max_n>::update() [with int max_n = 90]\u001b[m\u001b[K’\n",
      "\u001b[01m\u001b[Kanswer.cpp:1590:4:\u001b[m\u001b[K   required from ‘\u001b[01m\u001b[Kvoid SimulatedAnnealing<State>::optimize(double) [with double (* temperature_schedule)(const double&) = annealing_temperature_schedule; State = FloorplanState<90>]\u001b[m\u001b[K’\n",
      "\u001b[01m\u001b[Kanswer.cpp:1770:29:\u001b[m\u001b[K   required from here\n",
      "\u001b[01m\u001b[Kanswer.cpp:1046:13:\u001b[m\u001b[K \u001b[01;35m\u001b[Kwarning: \u001b[m\u001b[Kunused variable ‘\u001b[01m\u001b[Kn_edges\u001b[m\u001b[K’ [\u001b[01;35m\u001b[K-Wunused-variable\u001b[m\u001b[K]\n",
      "answer.cpp: In instantiation of ‘\u001b[01m\u001b[Kdouble FloorplanState<max_n>::calc_face_score(int) [with int max_n = 100]\u001b[m\u001b[K’:\n",
      "\u001b[01m\u001b[Kanswer.cpp:1091:55:\u001b[m\u001b[K   required from ‘\u001b[01m\u001b[KVertex* FloorplanState<max_n>::update_trial(Vertex*) [with int max_n = 100]\u001b[m\u001b[K’\n",
      "\u001b[01m\u001b[Kanswer.cpp:1028:16:\u001b[m\u001b[K   required from ‘\u001b[01m\u001b[Kvoid FloorplanState<max_n>::update() [with int max_n = 100]\u001b[m\u001b[K’\n",
      "\u001b[01m\u001b[Kanswer.cpp:1590:4:\u001b[m\u001b[K   required from ‘\u001b[01m\u001b[Kvoid SimulatedAnnealing<State>::optimize(double) [with double (* temperature_schedule)(const double&) = annealing_temperature_schedule; State = FloorplanState<100>]\u001b[m\u001b[K’\n",
      "\u001b[01m\u001b[Kanswer.cpp:1771:30:\u001b[m\u001b[K   required from here\n",
      "\u001b[01m\u001b[Kanswer.cpp:1046:13:\u001b[m\u001b[K \u001b[01;35m\u001b[Kwarning: \u001b[m\u001b[Kunused variable ‘\u001b[01m\u001b[Kn_edges\u001b[m\u001b[K’ [\u001b[01;35m\u001b[K-Wunused-variable\u001b[m\u001b[K]\n",
      "answer.cpp: In instantiation of ‘\u001b[01m\u001b[Kdouble FloorplanState<max_n>::calc_face_score(int) [with int max_n = 110]\u001b[m\u001b[K’:\n",
      "\u001b[01m\u001b[Kanswer.cpp:1091:55:\u001b[m\u001b[K   required from ‘\u001b[01m\u001b[KVertex* FloorplanState<max_n>::update_trial(Vertex*) [with int max_n = 110]\u001b[m\u001b[K’\n",
      "\u001b[01m\u001b[Kanswer.cpp:1028:16:\u001b[m\u001b[K   required from ‘\u001b[01m\u001b[Kvoid FloorplanState<max_n>::update() [with int max_n = 110]\u001b[m\u001b[K’\n",
      "\u001b[01m\u001b[Kanswer.cpp:1590:4:\u001b[m\u001b[K   required from ‘\u001b[01m\u001b[Kvoid SimulatedAnnealing<State>::optimize(double) [with double (* temperature_schedule)(const double&) = annealing_temperature_schedule; State = FloorplanState<110>]\u001b[m\u001b[K’\n",
      "\u001b[01m\u001b[Kanswer.cpp:1772:30:\u001b[m\u001b[K   required from here\n",
      "\u001b[01m\u001b[Kanswer.cpp:1046:13:\u001b[m\u001b[K \u001b[01;35m\u001b[Kwarning: \u001b[m\u001b[Kunused variable ‘\u001b[01m\u001b[Kn_edges\u001b[m\u001b[K’ [\u001b[01;35m\u001b[K-Wunused-variable\u001b[m\u001b[K]\n",
      "answer.cpp: In instantiation of ‘\u001b[01m\u001b[Kdouble FloorplanState<max_n>::calc_face_score(int) [with int max_n = 120]\u001b[m\u001b[K’:\n",
      "\u001b[01m\u001b[Kanswer.cpp:1091:55:\u001b[m\u001b[K   required from ‘\u001b[01m\u001b[KVertex* FloorplanState<max_n>::update_trial(Vertex*) [with int max_n = 120]\u001b[m\u001b[K’\n",
      "\u001b[01m\u001b[Kanswer.cpp:1028:16:\u001b[m\u001b[K   required from ‘\u001b[01m\u001b[Kvoid FloorplanState<max_n>::update() [with int max_n = 120]\u001b[m\u001b[K’\n",
      "\u001b[01m\u001b[Kanswer.cpp:1590:4:\u001b[m\u001b[K   required from ‘\u001b[01m\u001b[Kvoid SimulatedAnnealing<State>::optimize(double) [with double (* temperature_schedule)(const double&) = annealing_temperature_schedule; State = FloorplanState<120>]\u001b[m\u001b[K’\n",
      "\u001b[01m\u001b[Kanswer.cpp:1773:30:\u001b[m\u001b[K   required from here\n",
      "\u001b[01m\u001b[Kanswer.cpp:1046:13:\u001b[m\u001b[K \u001b[01;35m\u001b[Kwarning: \u001b[m\u001b[Kunused variable ‘\u001b[01m\u001b[Kn_edges\u001b[m\u001b[K’ [\u001b[01;35m\u001b[K-Wunused-variable\u001b[m\u001b[K]\n",
      "answer.cpp: In instantiation of ‘\u001b[01m\u001b[Kdouble FloorplanState<max_n>::calc_face_score(int) [with int max_n = 130]\u001b[m\u001b[K’:\n",
      "\u001b[01m\u001b[Kanswer.cpp:1091:55:\u001b[m\u001b[K   required from ‘\u001b[01m\u001b[KVertex* FloorplanState<max_n>::update_trial(Vertex*) [with int max_n = 130]\u001b[m\u001b[K’\n",
      "\u001b[01m\u001b[Kanswer.cpp:1028:16:\u001b[m\u001b[K   required from ‘\u001b[01m\u001b[Kvoid FloorplanState<max_n>::update() [with int max_n = 130]\u001b[m\u001b[K’\n",
      "\u001b[01m\u001b[Kanswer.cpp:1590:4:\u001b[m\u001b[K   required from ‘\u001b[01m\u001b[Kvoid SimulatedAnnealing<State>::optimize(double) [with double (* temperature_schedule)(const double&) = annealing_temperature_schedule; State = FloorplanState<130>]\u001b[m\u001b[K’\n",
      "\u001b[01m\u001b[Kanswer.cpp:1774:30:\u001b[m\u001b[K   required from here\n",
      "\u001b[01m\u001b[Kanswer.cpp:1046:13:\u001b[m\u001b[K \u001b[01;35m\u001b[Kwarning: \u001b[m\u001b[Kunused variable ‘\u001b[01m\u001b[Kn_edges\u001b[m\u001b[K’ [\u001b[01;35m\u001b[K-Wunused-variable\u001b[m\u001b[K]\n",
      "answer.cpp: In instantiation of ‘\u001b[01m\u001b[Kdouble FloorplanState<max_n>::calc_face_score(int) [with int max_n = 140]\u001b[m\u001b[K’:\n",
      "\u001b[01m\u001b[Kanswer.cpp:1091:55:\u001b[m\u001b[K   required from ‘\u001b[01m\u001b[KVertex* FloorplanState<max_n>::update_trial(Vertex*) [with int max_n = 140]\u001b[m\u001b[K’\n",
      "\u001b[01m\u001b[Kanswer.cpp:1028:16:\u001b[m\u001b[K   required from ‘\u001b[01m\u001b[Kvoid FloorplanState<max_n>::update() [with int max_n = 140]\u001b[m\u001b[K’\n",
      "\u001b[01m\u001b[Kanswer.cpp:1590:4:\u001b[m\u001b[K   required from ‘\u001b[01m\u001b[Kvoid SimulatedAnnealing<State>::optimize(double) [with double (* temperature_schedule)(const double&) = annealing_temperature_schedule; State = FloorplanState<140>]\u001b[m\u001b[K’\n",
      "\u001b[01m\u001b[Kanswer.cpp:1775:30:\u001b[m\u001b[K   required from here\n",
      "\u001b[01m\u001b[Kanswer.cpp:1046:13:\u001b[m\u001b[K \u001b[01;35m\u001b[Kwarning: \u001b[m\u001b[Kunused variable ‘\u001b[01m\u001b[Kn_edges\u001b[m\u001b[K’ [\u001b[01;35m\u001b[K-Wunused-variable\u001b[m\u001b[K]\n",
      "answer.cpp: In instantiation of ‘\u001b[01m\u001b[Kdouble FloorplanState<max_n>::calc_face_score(int) [with int max_n = 150]\u001b[m\u001b[K’:\n",
      "\u001b[01m\u001b[Kanswer.cpp:1091:55:\u001b[m\u001b[K   required from ‘\u001b[01m\u001b[KVertex* FloorplanState<max_n>::update_trial(Vertex*) [with int max_n = 150]\u001b[m\u001b[K’\n",
      "\u001b[01m\u001b[Kanswer.cpp:1028:16:\u001b[m\u001b[K   required from ‘\u001b[01m\u001b[Kvoid FloorplanState<max_n>::update() [with int max_n = 150]\u001b[m\u001b[K’\n",
      "\u001b[01m\u001b[Kanswer.cpp:1590:4:\u001b[m\u001b[K   required from ‘\u001b[01m\u001b[Kvoid SimulatedAnnealing<State>::optimize(double) [with double (* temperature_schedule)(const double&) = annealing_temperature_schedule; State = FloorplanState<150>]\u001b[m\u001b[K’\n",
      "\u001b[01m\u001b[Kanswer.cpp:1776:30:\u001b[m\u001b[K   required from here\n",
      "\u001b[01m\u001b[Kanswer.cpp:1046:13:\u001b[m\u001b[K \u001b[01;35m\u001b[Kwarning: \u001b[m\u001b[Kunused variable ‘\u001b[01m\u001b[Kn_edges\u001b[m\u001b[K’ [\u001b[01;35m\u001b[K-Wunused-variable\u001b[m\u001b[K]\n",
      "answer.cpp: In instantiation of ‘\u001b[01m\u001b[Kdouble FloorplanState<max_n>::calc_face_score(int) [with int max_n = 160]\u001b[m\u001b[K’:\n",
      "\u001b[01m\u001b[Kanswer.cpp:1091:55:\u001b[m\u001b[K   required from ‘\u001b[01m\u001b[KVertex* FloorplanState<max_n>::update_trial(Vertex*) [with int max_n = 160]\u001b[m\u001b[K’\n",
      "\u001b[01m\u001b[Kanswer.cpp:1028:16:\u001b[m\u001b[K   required from ‘\u001b[01m\u001b[Kvoid FloorplanState<max_n>::update() [with int max_n = 160]\u001b[m\u001b[K’\n",
      "\u001b[01m\u001b[Kanswer.cpp:1590:4:\u001b[m\u001b[K   required from ‘\u001b[01m\u001b[Kvoid SimulatedAnnealing<State>::optimize(double) [with double (* temperature_schedule)(const double&) = annealing_temperature_schedule; State = FloorplanState<160>]\u001b[m\u001b[K’\n",
      "\u001b[01m\u001b[Kanswer.cpp:1777:30:\u001b[m\u001b[K   required from here\n",
      "\u001b[01m\u001b[Kanswer.cpp:1046:13:\u001b[m\u001b[K \u001b[01;35m\u001b[Kwarning: \u001b[m\u001b[Kunused variable ‘\u001b[01m\u001b[Kn_edges\u001b[m\u001b[K’ [\u001b[01;35m\u001b[K-Wunused-variable\u001b[m\u001b[K]\n",
      "answer.cpp: In instantiation of ‘\u001b[01m\u001b[Kdouble FloorplanState<max_n>::calc_face_score(int) [with int max_n = 170]\u001b[m\u001b[K’:\n",
      "\u001b[01m\u001b[Kanswer.cpp:1091:55:\u001b[m\u001b[K   required from ‘\u001b[01m\u001b[KVertex* FloorplanState<max_n>::update_trial(Vertex*) [with int max_n = 170]\u001b[m\u001b[K’\n",
      "\u001b[01m\u001b[Kanswer.cpp:1028:16:\u001b[m\u001b[K   required from ‘\u001b[01m\u001b[Kvoid FloorplanState<max_n>::update() [with int max_n = 170]\u001b[m\u001b[K’\n",
      "\u001b[01m\u001b[Kanswer.cpp:1590:4:\u001b[m\u001b[K   required from ‘\u001b[01m\u001b[Kvoid SimulatedAnnealing<State>::optimize(double) [with double (* temperature_schedule)(const double&) = annealing_temperature_schedule; State = FloorplanState<170>]\u001b[m\u001b[K’\n",
      "\u001b[01m\u001b[Kanswer.cpp:1778:30:\u001b[m\u001b[K   required from here\n",
      "\u001b[01m\u001b[Kanswer.cpp:1046:13:\u001b[m\u001b[K \u001b[01;35m\u001b[Kwarning: \u001b[m\u001b[Kunused variable ‘\u001b[01m\u001b[Kn_edges\u001b[m\u001b[K’ [\u001b[01;35m\u001b[K-Wunused-variable\u001b[m\u001b[K]\n",
      "answer.cpp: In instantiation of ‘\u001b[01m\u001b[Kdouble FloorplanState<max_n>::calc_face_score(int) [with int max_n = 180]\u001b[m\u001b[K’:\n",
      "\u001b[01m\u001b[Kanswer.cpp:1091:55:\u001b[m\u001b[K   required from ‘\u001b[01m\u001b[KVertex* FloorplanState<max_n>::update_trial(Vertex*) [with int max_n = 180]\u001b[m\u001b[K’\n",
      "\u001b[01m\u001b[Kanswer.cpp:1028:16:\u001b[m\u001b[K   required from ‘\u001b[01m\u001b[Kvoid FloorplanState<max_n>::update() [with int max_n = 180]\u001b[m\u001b[K’\n",
      "\u001b[01m\u001b[Kanswer.cpp:1590:4:\u001b[m\u001b[K   required from ‘\u001b[01m\u001b[Kvoid SimulatedAnnealing<State>::optimize(double) [with double (* temperature_schedule)(const double&) = annealing_temperature_schedule; State = FloorplanState<180>]\u001b[m\u001b[K’\n",
      "\u001b[01m\u001b[Kanswer.cpp:1779:30:\u001b[m\u001b[K   required from here\n",
      "\u001b[01m\u001b[Kanswer.cpp:1046:13:\u001b[m\u001b[K \u001b[01;35m\u001b[Kwarning: \u001b[m\u001b[Kunused variable ‘\u001b[01m\u001b[Kn_edges\u001b[m\u001b[K’ [\u001b[01;35m\u001b[K-Wunused-variable\u001b[m\u001b[K]\n",
      "answer.cpp: In instantiation of ‘\u001b[01m\u001b[Kdouble FloorplanState<max_n>::calc_face_score(int) [with int max_n = 190]\u001b[m\u001b[K’:\n",
      "\u001b[01m\u001b[Kanswer.cpp:1091:55:\u001b[m\u001b[K   required from ‘\u001b[01m\u001b[KVertex* FloorplanState<max_n>::update_trial(Vertex*) [with int max_n = 190]\u001b[m\u001b[K’\n",
      "\u001b[01m\u001b[Kanswer.cpp:1028:16:\u001b[m\u001b[K   required from ‘\u001b[01m\u001b[Kvoid FloorplanState<max_n>::update() [with int max_n = 190]\u001b[m\u001b[K’\n",
      "\u001b[01m\u001b[Kanswer.cpp:1590:4:\u001b[m\u001b[K   required from ‘\u001b[01m\u001b[Kvoid SimulatedAnnealing<State>::optimize(double) [with double (* temperature_schedule)(const double&) = annealing_temperature_schedule; State = FloorplanState<190>]\u001b[m\u001b[K’\n",
      "\u001b[01m\u001b[Kanswer.cpp:1780:30:\u001b[m\u001b[K   required from here\n",
      "\u001b[01m\u001b[Kanswer.cpp:1046:13:\u001b[m\u001b[K \u001b[01;35m\u001b[Kwarning: \u001b[m\u001b[Kunused variable ‘\u001b[01m\u001b[Kn_edges\u001b[m\u001b[K’ [\u001b[01;35m\u001b[K-Wunused-variable\u001b[m\u001b[K]\n"
     ]
    }
   ],
   "source": [
    "# 元のファイルのコンパイル\n",
    "!g++ {FILENAME} -std=gnu++17 -Wall -Wextra -O2 -DONLINE_JUDGE -o {FILENAME}.out"
   ]
  },
  {
   "cell_type": "code",
   "execution_count": 4,
   "metadata": {
    "scrolled": true
   },
   "outputs": [
    {
     "name": "stdout",
     "output_type": "stream",
     "text": [
      "--2021-04-25 09:25:36--  https://img.atcoder.jp/ahc001/ded8fd3366b4ff0b0d7d053f553cdb84.zip\n",
      "Resolving img.atcoder.jp (img.atcoder.jp)... 13.249.87.24, 13.249.87.58, 13.249.87.33, ...\n",
      "Connecting to img.atcoder.jp (img.atcoder.jp)|13.249.87.24|:443... connected.\n",
      "HTTP request sent, awaiting response... 200 OK\n",
      "Length: 63776 (62K) [application/zip]\n",
      "Saving to: ‘ded8fd3366b4ff0b0d7d053f553cdb84.zip’\n",
      "\n",
      "ded8fd3366b4ff0b0d7 100%[===================>]  62.28K  --.-KB/s    in 0.01s   \n",
      "\n",
      "2021-04-25 09:25:36 (4.69 MB/s) - ‘ded8fd3366b4ff0b0d7d053f553cdb84.zip’ saved [63776/63776]\n",
      "\n",
      "Archive:  ded8fd3366b4ff0b0d7d053f553cdb84.zip\n",
      "   creating: tools/\n",
      "  inflating: tools/Cargo.lock        \n",
      "  inflating: tools/Cargo.toml        \n",
      "  inflating: tools/vis.html          \n",
      "  inflating: tools/README.txt        \n",
      "  inflating: tools/seeds.txt         \n",
      "  inflating: tools/README.ja.txt     \n",
      "  inflating: tools/out.svg           \n",
      "  inflating: tools/example.in        \n",
      "  inflating: tools/example.out       \n",
      "   creating: tools/src/\n",
      "   creating: tools/src/bin/\n",
      "  inflating: tools/src/bin/vis.rs    \n",
      "  inflating: tools/src/bin/gen.rs    \n",
      "   creating: tools/in/\n",
      "  inflating: tools/in/0000.txt       \n",
      "  inflating: tools/in/0001.txt       \n",
      "  inflating: tools/in/0002.txt       \n",
      "  inflating: tools/in/0003.txt       \n",
      "  inflating: tools/in/0004.txt       \n",
      "  inflating: tools/in/0005.txt       \n",
      "  inflating: tools/in/0006.txt       \n",
      "  inflating: tools/in/0007.txt       \n",
      "  inflating: tools/in/0008.txt       \n",
      "  inflating: tools/in/0009.txt       \n",
      "  inflating: tools/in/0010.txt       \n",
      "  inflating: tools/in/0011.txt       \n",
      "  inflating: tools/in/0012.txt       \n",
      "  inflating: tools/in/0013.txt       \n",
      "  inflating: tools/in/0014.txt       \n",
      "  inflating: tools/in/0015.txt       \n",
      "  inflating: tools/in/0016.txt       \n",
      "  inflating: tools/in/0017.txt       \n",
      "  inflating: tools/in/0018.txt       \n",
      "  inflating: tools/in/0019.txt       \n",
      "  inflating: tools/in/0020.txt       \n",
      "  inflating: tools/in/0021.txt       \n",
      "  inflating: tools/in/0022.txt       \n",
      "  inflating: tools/in/0023.txt       \n",
      "  inflating: tools/in/0024.txt       \n",
      "  inflating: tools/in/0025.txt       \n",
      "  inflating: tools/in/0026.txt       \n",
      "  inflating: tools/in/0027.txt       \n",
      "  inflating: tools/in/0028.txt       \n",
      "  inflating: tools/in/0029.txt       \n",
      "  inflating: tools/in/0030.txt       \n",
      "  inflating: tools/in/0031.txt       \n",
      "  inflating: tools/in/0032.txt       \n",
      "  inflating: tools/in/0033.txt       \n",
      "  inflating: tools/in/0034.txt       \n",
      "  inflating: tools/in/0035.txt       \n",
      "  inflating: tools/in/0036.txt       \n",
      "  inflating: tools/in/0037.txt       \n",
      "  inflating: tools/in/0038.txt       \n",
      "  inflating: tools/in/0039.txt       \n",
      "  inflating: tools/in/0040.txt       \n",
      "  inflating: tools/in/0041.txt       \n",
      "  inflating: tools/in/0042.txt       \n",
      "  inflating: tools/in/0043.txt       \n",
      "  inflating: tools/in/0044.txt       \n",
      "  inflating: tools/in/0045.txt       \n",
      "  inflating: tools/in/0046.txt       \n",
      "  inflating: tools/in/0047.txt       \n",
      "  inflating: tools/in/0048.txt       \n",
      "  inflating: tools/in/0049.txt       \n",
      "\u001b[0m\u001b[0m\u001b[1m\u001b[32m   Compiling\u001b[0m libc v0.2.88\n",
      "\u001b[0m\u001b[0m\u001b[1m\u001b[32m   Compiling\u001b[0m getrandom v0.1.16\n",
      "\u001b[0m\u001b[0m\u001b[1m\u001b[32m   Compiling\u001b[0m proc-macro2 v0.4.30\n",
      "\u001b[0m\u001b[0m\u001b[1m\u001b[32m   Compiling\u001b[0m unicode-xid v0.1.0\n",
      "\u001b[0m\u001b[0m\u001b[1m\u001b[32m   Compiling\u001b[0m cfg-if v1.0.0\n",
      "\u001b[0m\u001b[0m\u001b[1m\u001b[32m   Compiling\u001b[0m syn v0.15.44\n",
      "\u001b[0m\u001b[0m\u001b[1m\u001b[32m   Compiling\u001b[0m ppv-lite86 v0.2.10\n",
      "\u001b[0m\u001b[0m\u001b[1m\u001b[32m   Compiling\u001b[0m lazy_static v1.4.0\n",
      "\u001b[K\u001b[0m\u001b[0m\u001b[1m\u001b[32m   Compiling\u001b[0m svg v0.9.1                ] 0/25: proc-macro2(build.rs), pp...\n",
      "\u001b[K\u001b[0m\u001b[0m\u001b[1m\u001b[32m   Compiling\u001b[0m quote v0.6.13            ] 12/25: proc-macro2, libc, svg      \n",
      "\u001b[K\u001b[0m\u001b[0m\u001b[1m\u001b[32m   Compiling\u001b[0m rand_core v0.5.1         ] 16/25: getrandom, syn              \n",
      "\u001b[K\u001b[0m\u001b[0m\u001b[1m\u001b[32m   Compiling\u001b[0m rand_pcg v0.2.1>         ] 17/25: syn, rand_core              \n",
      "\u001b[0m\u001b[0m\u001b[1m\u001b[32m   Compiling\u001b[0m rand_chacha v0.2.2\n",
      "\u001b[K\u001b[0m\u001b[0m\u001b[1m\u001b[32m   Compiling\u001b[0m rand v0.7.3======>       ] 19/25: syn, rand_chacha            \n",
      "\u001b[K\u001b[0m\u001b[0m\u001b[1m\u001b[32m   Compiling\u001b[0m proconio-derive v0.1.6   ] 21/25: syn                         \n",
      "\u001b[K\u001b[0m\u001b[0m\u001b[1m\u001b[32m   Compiling\u001b[0m proconio v0.3.6=====>    ] 22/25: proconio-derive             \n",
      "\u001b[K\u001b[0m\u001b[0m\u001b[1m\u001b[32m   Compiling\u001b[0m tools v1.0.0 (/home/nagis/opt2/tools)conio                    \n",
      "\u001b[K\u001b[0m\u001b[0m\u001b[1m\u001b[32m    Finished\u001b[0m release [optimized] target(s) in 11.66sin)                    \n",
      "\u001b[0m\u001b[0m\u001b[1m\u001b[32m     Running\u001b[0m `tools/target/release/gen`\n",
      "generating 0000.txt\n",
      "generating 0001.txt\n",
      "generating 0002.txt\n",
      "generating 0003.txt\n",
      "generating 0004.txt\n",
      "generating 0005.txt\n",
      "generating 0006.txt\n",
      "generating 0007.txt\n",
      "generating 0008.txt\n",
      "generating 0009.txt\n",
      "generating 0010.txt\n",
      "generating 0011.txt\n",
      "generating 0012.txt\n",
      "generating 0013.txt\n",
      "generating 0014.txt\n",
      "generating 0015.txt\n",
      "generating 0016.txt\n",
      "generating 0017.txt\n",
      "generating 0018.txt\n",
      "generating 0019.txt\n",
      "generating 0020.txt\n",
      "generating 0021.txt\n",
      "generating 0022.txt\n",
      "generating 0023.txt\n",
      "generating 0024.txt\n",
      "generating 0025.txt\n",
      "generating 0026.txt\n",
      "generating 0027.txt\n",
      "generating 0028.txt\n",
      "generating 0029.txt\n",
      "generating 0030.txt\n",
      "generating 0031.txt\n",
      "generating 0032.txt\n",
      "generating 0033.txt\n",
      "generating 0034.txt\n",
      "generating 0035.txt\n",
      "generating 0036.txt\n",
      "generating 0037.txt\n",
      "generating 0038.txt\n",
      "generating 0039.txt\n",
      "generating 0040.txt\n",
      "generating 0041.txt\n",
      "generating 0042.txt\n",
      "generating 0043.txt\n",
      "generating 0044.txt\n",
      "generating 0045.txt\n",
      "generating 0046.txt\n",
      "generating 0047.txt\n",
      "generating 0048.txt\n",
      "generating 0049.txt\n"
     ]
    }
   ],
   "source": [
    "# テストケース生成\n",
    "!wget https://img.atcoder.jp/ahc001/ded8fd3366b4ff0b0d7d053f553cdb84.zip\n",
    "!unzip ded8fd3366b4ff0b0d7d053f553cdb84.zip\n",
    "\n",
    "SEED = 201\n",
    "N_TESTCASES = 50\n",
    "!seq {SEED} {SEED+N_TESTCASES-1} | cargo run --release --manifest-path ./tools/Cargo.toml --bin gen"
   ]
  },
  {
   "cell_type": "code",
   "execution_count": 5,
   "metadata": {},
   "outputs": [
    {
     "name": "stdout",
     "output_type": "stream",
     "text": [
      "answer.cpp\tded8fd3366b4ff0b0d7d053f553cdb84.zip  optimize_tmp     tools\r\n",
      "answer.cpp.out\tin\t\t\t\t      optimizer.ipynb\r\n"
     ]
    }
   ],
   "source": [
    "!ls"
   ]
  },
  {
   "cell_type": "code",
   "execution_count": 6,
   "metadata": {
    "scrolled": true
   },
   "outputs": [
    {
     "name": "stdout",
     "output_type": "stream",
     "text": [
      "13 variables were found.\n"
     ]
    },
    {
     "data": {
      "text/html": [
       "<div>\n",
       "<style scoped>\n",
       "    .dataframe tbody tr th:only-of-type {\n",
       "        vertical-align: middle;\n",
       "    }\n",
       "\n",
       "    .dataframe tbody tr th {\n",
       "        vertical-align: top;\n",
       "    }\n",
       "\n",
       "    .dataframe thead th {\n",
       "        text-align: right;\n",
       "    }\n",
       "</style>\n",
       "<table border=\"1\" class=\"dataframe\">\n",
       "  <thead>\n",
       "    <tr style=\"text-align: right;\">\n",
       "      <th></th>\n",
       "      <th>name</th>\n",
       "      <th>method</th>\n",
       "      <th>min</th>\n",
       "      <th>max</th>\n",
       "      <th>log</th>\n",
       "      <th>left</th>\n",
       "      <th>right</th>\n",
       "      <th>choices</th>\n",
       "    </tr>\n",
       "  </thead>\n",
       "  <tbody>\n",
       "    <tr>\n",
       "      <th>0</th>\n",
       "      <td>ANNEALING_A</td>\n",
       "      <td>suggest_float</td>\n",
       "      <td>-1.000000e+01</td>\n",
       "      <td>0.000000e+00</td>\n",
       "      <td>False</td>\n",
       "      <td>constexpr double ANNEALING_A =</td>\n",
       "      <td>;  // OPTIMIZE [-10.0, 0.0]</td>\n",
       "      <td>NaN</td>\n",
       "    </tr>\n",
       "    <tr>\n",
       "      <th>1</th>\n",
       "      <td>ANNEALING_B</td>\n",
       "      <td>suggest_float</td>\n",
       "      <td>0.000000e+00</td>\n",
       "      <td>7.000000e+00</td>\n",
       "      <td>False</td>\n",
       "      <td>constexpr double ANNEALING_B =</td>\n",
       "      <td>;  // OPTIMIZE [0.0, 7.0]</td>\n",
       "      <td>NaN</td>\n",
       "    </tr>\n",
       "    <tr>\n",
       "      <th>2</th>\n",
       "      <td>ANNEALING_END</td>\n",
       "      <td>suggest_float</td>\n",
       "      <td>1.000000e-04</td>\n",
       "      <td>5.000000e-03</td>\n",
       "      <td>True</td>\n",
       "      <td>constexpr double ANNEALING_END =</td>\n",
       "      <td>;  // OPTIMIZE [1e-4, 0.005] LOG</td>\n",
       "      <td>NaN</td>\n",
       "    </tr>\n",
       "    <tr>\n",
       "      <th>3</th>\n",
       "      <td>ANNEALING_START</td>\n",
       "      <td>suggest_float</td>\n",
       "      <td>1.000000e-03</td>\n",
       "      <td>5.000000e-01</td>\n",
       "      <td>True</td>\n",
       "      <td>constexpr double ANNEALING_START =</td>\n",
       "      <td>;  // OPTIMIZE [0.001, 0.5] LOG</td>\n",
       "      <td>NaN</td>\n",
       "    </tr>\n",
       "    <tr>\n",
       "      <th>4</th>\n",
       "      <td>GRADIENT_CLIPPING</td>\n",
       "      <td>suggest_float</td>\n",
       "      <td>1.000000e-07</td>\n",
       "      <td>2.000000e-04</td>\n",
       "      <td>True</td>\n",
       "      <td>constexpr double GRADIENT_CLIPPING =</td>\n",
       "      <td>;  // OPTIMIZE [1e-7, 2e-4] LOG</td>\n",
       "      <td>NaN</td>\n",
       "    </tr>\n",
       "    <tr>\n",
       "      <th>5</th>\n",
       "      <td>GRADIENT_DESCENT_LR</td>\n",
       "      <td>suggest_float</td>\n",
       "      <td>1.000000e+05</td>\n",
       "      <td>5.000000e+07</td>\n",
       "      <td>True</td>\n",
       "      <td>constexpr double GRADIENT_DESCENT_LR =</td>\n",
       "      <td>;  // OPTIMIZE [100000.0, 50000000.0] LOG</td>\n",
       "      <td>NaN</td>\n",
       "    </tr>\n",
       "    <tr>\n",
       "      <th>6</th>\n",
       "      <td>GRADIENT_DESCENT_MOMENTUM</td>\n",
       "      <td>suggest_float</td>\n",
       "      <td>0.000000e+00</td>\n",
       "      <td>1.000000e+00</td>\n",
       "      <td>False</td>\n",
       "      <td>constexpr double GRADIENT_DESCENT_MOMENTUM =</td>\n",
       "      <td>;  // OPTIMIZE [0.0, 1.0]</td>\n",
       "      <td>NaN</td>\n",
       "    </tr>\n",
       "    <tr>\n",
       "      <th>7</th>\n",
       "      <td>GRADIENT_DESCENT_STEPS</td>\n",
       "      <td>suggest_int</td>\n",
       "      <td>1.000000e+00</td>\n",
       "      <td>3.000000e+01</td>\n",
       "      <td>False</td>\n",
       "      <td>constexpr int GRADIENT_DESCENT_STEPS =</td>\n",
       "      <td>;  // OPTIMIZE [1, 30]</td>\n",
       "      <td>NaN</td>\n",
       "    </tr>\n",
       "    <tr>\n",
       "      <th>8</th>\n",
       "      <td>GRADIENT_DESCENT_STEPS_STEPPING_PROGRESS_RATE</td>\n",
       "      <td>suggest_float</td>\n",
       "      <td>0.000000e+00</td>\n",
       "      <td>1.000000e+00</td>\n",
       "      <td>False</td>\n",
       "      <td>constexpr double GRADIENT_DESCENT_STEPS_STEPPI...</td>\n",
       "      <td>;  // OPTIMIZE [0.0, 1.0]</td>\n",
       "      <td>NaN</td>\n",
       "    </tr>\n",
       "    <tr>\n",
       "      <th>9</th>\n",
       "      <td>LINE_LENGTH_LOSS_STEPPING_PROGRESS_RATE</td>\n",
       "      <td>suggest_float</td>\n",
       "      <td>0.000000e+00</td>\n",
       "      <td>1.000000e+00</td>\n",
       "      <td>False</td>\n",
       "      <td>constexpr double LINE_LENGTH_LOSS_STEPPING_PRO...</td>\n",
       "      <td>;  // OPTIMIZE [0.0, 1.0]</td>\n",
       "      <td>NaN</td>\n",
       "    </tr>\n",
       "    <tr>\n",
       "      <th>10</th>\n",
       "      <td>LINE_LENGTH_LOSS_WEIGHT</td>\n",
       "      <td>suggest_float</td>\n",
       "      <td>1.000000e-08</td>\n",
       "      <td>1.000000e-04</td>\n",
       "      <td>True</td>\n",
       "      <td>constexpr double  LINE_LENGTH_LOSS_WEIGHT =</td>\n",
       "      <td>;  // OPTIMIZE [1e-8, 1e-4] LOG</td>\n",
       "      <td>NaN</td>\n",
       "    </tr>\n",
       "    <tr>\n",
       "      <th>11</th>\n",
       "      <td>N_RANDOM_FACE_CHOICE</td>\n",
       "      <td>suggest_int</td>\n",
       "      <td>1.000000e+00</td>\n",
       "      <td>1.000000e+01</td>\n",
       "      <td>False</td>\n",
       "      <td>constexpr int N_RANDOM_FACE_CHOICE =</td>\n",
       "      <td>;  // OPTIMIZE [1, 10]</td>\n",
       "      <td>NaN</td>\n",
       "    </tr>\n",
       "    <tr>\n",
       "      <th>12</th>\n",
       "      <td>hoge</td>\n",
       "      <td>suggest_categorical</td>\n",
       "      <td>NaN</td>\n",
       "      <td>NaN</td>\n",
       "      <td>NaN</td>\n",
       "      <td>std::string hoge=</td>\n",
       "      <td>; //OPTIMIZE{\"11\", \"unnn\" ,\"ooo\"}</td>\n",
       "      <td>[\"11\", \"unnn\", \"ooo\"]</td>\n",
       "    </tr>\n",
       "  </tbody>\n",
       "</table>\n",
       "</div>"
      ],
      "text/plain": [
       "                                             name               method  \\\n",
       "0                                     ANNEALING_A        suggest_float   \n",
       "1                                     ANNEALING_B        suggest_float   \n",
       "2                                   ANNEALING_END        suggest_float   \n",
       "3                                 ANNEALING_START        suggest_float   \n",
       "4                               GRADIENT_CLIPPING        suggest_float   \n",
       "5                             GRADIENT_DESCENT_LR        suggest_float   \n",
       "6                       GRADIENT_DESCENT_MOMENTUM        suggest_float   \n",
       "7                          GRADIENT_DESCENT_STEPS          suggest_int   \n",
       "8   GRADIENT_DESCENT_STEPS_STEPPING_PROGRESS_RATE        suggest_float   \n",
       "9         LINE_LENGTH_LOSS_STEPPING_PROGRESS_RATE        suggest_float   \n",
       "10                        LINE_LENGTH_LOSS_WEIGHT        suggest_float   \n",
       "11                           N_RANDOM_FACE_CHOICE          suggest_int   \n",
       "12                                           hoge  suggest_categorical   \n",
       "\n",
       "             min           max    log  \\\n",
       "0  -1.000000e+01  0.000000e+00  False   \n",
       "1   0.000000e+00  7.000000e+00  False   \n",
       "2   1.000000e-04  5.000000e-03   True   \n",
       "3   1.000000e-03  5.000000e-01   True   \n",
       "4   1.000000e-07  2.000000e-04   True   \n",
       "5   1.000000e+05  5.000000e+07   True   \n",
       "6   0.000000e+00  1.000000e+00  False   \n",
       "7   1.000000e+00  3.000000e+01  False   \n",
       "8   0.000000e+00  1.000000e+00  False   \n",
       "9   0.000000e+00  1.000000e+00  False   \n",
       "10  1.000000e-08  1.000000e-04   True   \n",
       "11  1.000000e+00  1.000000e+01  False   \n",
       "12           NaN           NaN    NaN   \n",
       "\n",
       "                                                 left  \\\n",
       "0                     constexpr double ANNEALING_A =    \n",
       "1                     constexpr double ANNEALING_B =    \n",
       "2                   constexpr double ANNEALING_END =    \n",
       "3                 constexpr double ANNEALING_START =    \n",
       "4               constexpr double GRADIENT_CLIPPING =    \n",
       "5             constexpr double GRADIENT_DESCENT_LR =    \n",
       "6       constexpr double GRADIENT_DESCENT_MOMENTUM =    \n",
       "7             constexpr int GRADIENT_DESCENT_STEPS =    \n",
       "8   constexpr double GRADIENT_DESCENT_STEPS_STEPPI...   \n",
       "9   constexpr double LINE_LENGTH_LOSS_STEPPING_PRO...   \n",
       "10       constexpr double  LINE_LENGTH_LOSS_WEIGHT =    \n",
       "11              constexpr int N_RANDOM_FACE_CHOICE =    \n",
       "12                                  std::string hoge=   \n",
       "\n",
       "                                        right                choices  \n",
       "0                 ;  // OPTIMIZE [-10.0, 0.0]                    NaN  \n",
       "1                   ;  // OPTIMIZE [0.0, 7.0]                    NaN  \n",
       "2            ;  // OPTIMIZE [1e-4, 0.005] LOG                    NaN  \n",
       "3             ;  // OPTIMIZE [0.001, 0.5] LOG                    NaN  \n",
       "4             ;  // OPTIMIZE [1e-7, 2e-4] LOG                    NaN  \n",
       "5   ;  // OPTIMIZE [100000.0, 50000000.0] LOG                    NaN  \n",
       "6                   ;  // OPTIMIZE [0.0, 1.0]                    NaN  \n",
       "7                      ;  // OPTIMIZE [1, 30]                    NaN  \n",
       "8                   ;  // OPTIMIZE [0.0, 1.0]                    NaN  \n",
       "9                   ;  // OPTIMIZE [0.0, 1.0]                    NaN  \n",
       "10            ;  // OPTIMIZE [1e-8, 1e-4] LOG                    NaN  \n",
       "11                     ;  // OPTIMIZE [1, 10]                    NaN  \n",
       "12          ; //OPTIMIZE{\"11\", \"unnn\" ,\"ooo\"}  [\"11\", \"unnn\", \"ooo\"]  "
      ]
     },
     "metadata": {},
     "output_type": "display_data"
    }
   ],
   "source": [
    "# ここでエラー出力は何かおかしいかもしれない\n",
    "\n",
    "\n",
    "# パラメータ抽出\n",
    "with open(FILENAME) as f:\n",
    "    answer = f.read()\n",
    "\n",
    "\n",
    "variables_optimize = []\n",
    "\n",
    "for left, value, right, options in re.findall(r\"^([^/\\n]*=\\s*)(.+?)(\\s*;\\s*//(?:.*\\W)?OPTIMIZE(\\W.*))$\", answer, re.MULTILINE):\n",
    "    name = left.replace(\"=\", \"\").strip().split()[-1]\n",
    "    \n",
    "    searched = re.search(r\".*\\[(?P<min>.*),(?P<max>.*)\\].*\", options)\n",
    "    if searched:\n",
    "        min_value = max_value = None\n",
    "        try:\n",
    "            min_value = eval(searched.group(\"min\"))\n",
    "            max_value = eval(searched.group(\"max\"))\n",
    "            assert min_value <= max_value\n",
    "        except Exception as e:\n",
    "            print(f\"searched={searched}\", file=sys.stderr)\n",
    "            print(e, file=sys.stderr)\n",
    "            continue\n",
    "        log = \"LOG\" in options  # 雑、直したほうが良い\n",
    "        if type(min_value) != type(max_value):\n",
    "            print(f\"searched={searched}\", file=sys.stderr)\n",
    "            print(\"types not matched\", file=sys.stderr)\n",
    "            continue\n",
    "        if isinstance(min_value, int):\n",
    "            method = \"suggest_int\"\n",
    "        elif isinstance(min_value, float):\n",
    "            method = \"suggest_float\"\n",
    "        else:\n",
    "            print(f\"searched={searched}\", file=sys.stderr)\n",
    "            print(f\"unknown type ({type(min_value)})\", file=sys.stderr)\n",
    "            continue\n",
    "        variables_optimize.append({\n",
    "            \"name\": name,\n",
    "            \"method\": method,\n",
    "            \"min\": min_value,\n",
    "            \"max\": max_value,\n",
    "            \"log\": log,\n",
    "            \"left\": left,\n",
    "            \"right\": right,\n",
    "        })\n",
    "    elif searched := re.search(r\".*\\{(?P<choices>.*?)\\}.*\", options):\n",
    "        choices = list(map(lambda x: x.strip(), searched.group(\"choices\").split(\",\")))\n",
    "        variables_optimize.append({\n",
    "            \"name\": name,\n",
    "            \"method\": \"suggest_categorical\",\n",
    "            \"choices\": choices,\n",
    "            \"left\": left,\n",
    "            \"right\": right,\n",
    "        })\n",
    "    else:\n",
    "        print(f\"searched={searched}\", file=sys.stderr)\n",
    "        print(f\"pattern was matched but options are incorrect.\", file=sys.stderr)\n",
    "\n",
    "print(len(variables_optimize), \"variables were found.\")\n",
    "if globals().get(\"pd\"):\n",
    "    display(pd.DataFrame(variables_optimize))\n",
    "else:\n",
    "    pprint(variables_optimize)"
   ]
  },
  {
   "cell_type": "code",
   "execution_count": 7,
   "metadata": {},
   "outputs": [],
   "source": [
    "def escape(string):  # 正規表現の中でそのまま使いたい文字列をエスケープ\n",
    "    res = !echo '{string}' | sed -e 's/[]\\/$*.^[]/\\\\&/g'\n",
    "    return res[0]\n",
    "\n",
    "def escape_sed(string):  # sed の置換後の文字列用のエスケープ\n",
    "    res = !echo '{string}' | sed -e 's/[\\/&]/\\\\&/g'\n",
    "    return res[0]\n",
    "\n",
    "\n",
    "def objective_with_index(trial, n_internal_parallel):\n",
    "    index_parallel = trial.number % 100\n",
    "    print(f\"{index_parallel=}\")\n",
    "    \n",
    "    parameters_changed_filename = f\"{index_parallel}_{FILENAME}\"\n",
    "    directory_input = \"./in\"  # \"/\" をつけない\n",
    "    \n",
    "    !mkdir {index_parallel}_out\n",
    "    !mkdir {index_parallel}_score\n",
    "    !rm {index_parallel}_out/*\n",
    "    !rm {index_parallel}_score/*\n",
    "    \n",
    "    # ファイル作成\n",
    "    !cp {FILENAME} {parameters_changed_filename}\n",
    "    sed_options = [f\"-i {parameters_changed_filename}\"]\n",
    "    for variable in variables_optimize:\n",
    "        if variable[\"method\"] == \"suggest_categorical\":\n",
    "            val =  trial.suggest_categorical(variable[\"name\"], variable[\"choices\"])\n",
    "        else:\n",
    "            val = getattr(trial, variable[\"method\"])(variable[\"name\"], variable[\"min\"], variable[\"max\"])\n",
    "        left = variable[\"left\"]\n",
    "        right = variable[\"right\"]\n",
    "        sed_options.append(f\"\"\"-e 's/^{escape(left)}.*{escape(right)}$/{escape_sed(left)}{val}{escape_sed(right)}/'\"\"\")\n",
    "    command_sed = f\"sed {' '.join(sed_options)}\"\n",
    "    print(command_sed)\n",
    "    !{command_sed}\n",
    "    \n",
    "    # コンパイル\n",
    "    command_compile = f\"g++ {parameters_changed_filename} -std=gnu++17 -O2 -DONLINE_JUDGE -o {parameters_changed_filename}.out\"\n",
    "    print(command_compile)\n",
    "    !{command_compile}\n",
    "    # 実行・採点コマンド (@ はファイル名)\n",
    "    command_exec = (\n",
    "        f\"./{parameters_changed_filename}.out < {directory_input}/@ > ./{index_parallel}_out/@;\"\n",
    "        f\"cargo run --release --manifest-path ./tools/Cargo.toml --bin vis {directory_input}/@ ./{index_parallel}_out/@ 2> /dev/null > ./{index_parallel}_score/@;\"\n",
    "    )\n",
    "    # 並列実行 (sed はパスのディレクトリ部分を消してファイル名にしてる)\n",
    "    !find {directory_input}/* | sed 's!^.*/!!' | xargs -I@ -P {n_internal_parallel} sh -c '{command_exec}'\n",
    "    \n",
    "    # 集計\n",
    "    file_paths = !find ./{index_parallel}_score/*\n",
    "    sum_score = 0\n",
    "    for file_path in file_paths:  \n",
    "        with open(file_path) as f:\n",
    "            sum_score += int(f.read())\n",
    "    return sum_score\n",
    "\n"
   ]
  },
  {
   "cell_type": "code",
   "execution_count": null,
   "metadata": {
    "scrolled": true
   },
   "outputs": [
    {
     "name": "stderr",
     "output_type": "stream",
     "text": [
      "\u001b[32m[I 2021-04-25 09:26:26,815]\u001b[0m A new study created in RDB with name: study\u001b[0m\n"
     ]
    },
    {
     "name": "stdout",
     "output_type": "stream",
     "text": [
      "index_parallel=0\n",
      "index_parallel=1\n"
     ]
    },
    {
     "name": "stderr",
     "output_type": "stream",
     "text": [
      "/home/nagis/anaconda3/lib/python3.8/site-packages/optuna/study.py:393: FutureWarning: `n_jobs` argument has been deprecated in v2.7.0. This feature will be removed in v4.0.0. See https://github.com/optuna/optuna/releases/tag/v2.7.0.\n",
      "  warnings.warn(\n"
     ]
    },
    {
     "name": "stdout",
     "output_type": "stream",
     "text": [
      "rm: cannot remove '0_out/*': No such file or directory\n",
      "rm: cannot remove '1_out/*': No such file or directory\n",
      "rm: cannot remove '0_score/*': No such file or directory\n",
      "rm: cannot remove '1_score/*': No such file or directory\n",
      "sed -i 0_answer.cpp -e 's/^constexpr double ANNEALING_A = .*;  \\/\\/ OPTIMIZE \\[-10\\.0, 0\\.0\\]$/constexpr double ANNEALING_A = -4.764964219777016;  \\/\\/ OPTIMIZE [-10.0, 0.0]/' -e 's/^constexpr double ANNEALING_B = .*;  \\/\\/ OPTIMIZE \\[0\\.0, 7\\.0\\]$/constexpr double ANNEALING_B = 6.379199589914459;  \\/\\/ OPTIMIZE [0.0, 7.0]/' -e 's/^constexpr double ANNEALING_END = .*;  \\/\\/ OPTIMIZE \\[1e-4, 0\\.005\\] LOG$/constexpr double ANNEALING_END = 0.0036366400940570933;  \\/\\/ OPTIMIZE [1e-4, 0.005] LOG/' -e 's/^constexpr double ANNEALING_START = .*;  \\/\\/ OPTIMIZE \\[0\\.001, 0\\.5\\] LOG$/constexpr double ANNEALING_START = 0.1194795995308193;  \\/\\/ OPTIMIZE [0.001, 0.5] LOG/' -e 's/^constexpr double GRADIENT_CLIPPING = .*;  \\/\\/ OPTIMIZE \\[1e-7, 2e-4\\] LOG$/constexpr double GRADIENT_CLIPPING = 4.286479241727656e-05;  \\/\\/ OPTIMIZE [1e-7, 2e-4] LOG/' -e 's/^constexpr double GRADIENT_DESCENT_LR = .*;  \\/\\/ OPTIMIZE \\[100000\\.0, 50000000\\.0\\] LOG$/constexpr double GRADIENT_DESCENT_LR = 21599021.185847394;  \\/\\/ OPTIMIZE [100000.0, 50000000.0] LOG/' -e 's/^constexpr double GRADIENT_DESCENT_MOMENTUM = .*;  \\/\\/ OPTIMIZE \\[0\\.0, 1\\.0\\]$/constexpr double GRADIENT_DESCENT_MOMENTUM = 0.1786813648093042;  \\/\\/ OPTIMIZE [0.0, 1.0]/' -e 's/^constexpr int GRADIENT_DESCENT_STEPS = .*;  \\/\\/ OPTIMIZE \\[1, 30\\]$/constexpr int GRADIENT_DESCENT_STEPS = 23;  \\/\\/ OPTIMIZE [1, 30]/' -e 's/^constexpr double GRADIENT_DESCENT_STEPS_STEPPING_PROGRESS_RATE = .*;  \\/\\/ OPTIMIZE \\[0\\.0, 1\\.0\\]$/constexpr double GRADIENT_DESCENT_STEPS_STEPPING_PROGRESS_RATE = 0.9725005215053089;  \\/\\/ OPTIMIZE [0.0, 1.0]/' -e 's/^constexpr double LINE_LENGTH_LOSS_STEPPING_PROGRESS_RATE = .*;  \\/\\/ OPTIMIZE \\[0\\.0, 1\\.0\\]$/constexpr double LINE_LENGTH_LOSS_STEPPING_PROGRESS_RATE = 0.24936016732460342;  \\/\\/ OPTIMIZE [0.0, 1.0]/' -e 's/^constexpr double  LINE_LENGTH_LOSS_WEIGHT = .*;  \\/\\/ OPTIMIZE \\[1e-8, 1e-4\\] LOG$/constexpr double  LINE_LENGTH_LOSS_WEIGHT = 7.433180025970222e-05;  \\/\\/ OPTIMIZE [1e-8, 1e-4] LOG/' -e 's/^constexpr int N_RANDOM_FACE_CHOICE = .*;  \\/\\/ OPTIMIZE \\[1, 10\\]$/constexpr int N_RANDOM_FACE_CHOICE = 3;  \\/\\/ OPTIMIZE [1, 10]/' -e 's/^std::string hoge=.*; \\/\\/OPTIMIZE{\"11\", \"unnn\" ,\"ooo\"}$/std::string hoge=\"11\"; \\/\\/OPTIMIZE{\"11\", \"unnn\" ,\"ooo\"}/'\n",
      "sed -i 1_answer.cpp -e 's/^constexpr double ANNEALING_A = .*;  \\/\\/ OPTIMIZE \\[-10\\.0, 0\\.0\\]$/constexpr double ANNEALING_A = -7.648392798272839;  \\/\\/ OPTIMIZE [-10.0, 0.0]/' -e 's/^constexpr double ANNEALING_B = .*;  \\/\\/ OPTIMIZE \\[0\\.0, 7\\.0\\]$/constexpr double ANNEALING_B = 0.45079521986618876;  \\/\\/ OPTIMIZE [0.0, 7.0]/' -e 's/^constexpr double ANNEALING_END = .*;  \\/\\/ OPTIMIZE \\[1e-4, 0\\.005\\] LOG$/constexpr double ANNEALING_END = 0.0010631567136784902;  \\/\\/ OPTIMIZE [1e-4, 0.005] LOG/' -e 's/^constexpr double ANNEALING_START = .*;  \\/\\/ OPTIMIZE \\[0\\.001, 0\\.5\\] LOG$/constexpr double ANNEALING_START = 0.4286618835265182;  \\/\\/ OPTIMIZE [0.001, 0.5] LOG/' -e 's/^constexpr double GRADIENT_CLIPPING = .*;  \\/\\/ OPTIMIZE \\[1e-7, 2e-4\\] LOG$/constexpr double GRADIENT_CLIPPING = 0.0001950423603620829;  \\/\\/ OPTIMIZE [1e-7, 2e-4] LOG/' -e 's/^constexpr double GRADIENT_DESCENT_LR = .*;  \\/\\/ OPTIMIZE \\[100000\\.0, 50000000\\.0\\] LOG$/constexpr double GRADIENT_DESCENT_LR = 32182031.70880079;  \\/\\/ OPTIMIZE [100000.0, 50000000.0] LOG/' -e 's/^constexpr double GRADIENT_DESCENT_MOMENTUM = .*;  \\/\\/ OPTIMIZE \\[0\\.0, 1\\.0\\]$/constexpr double GRADIENT_DESCENT_MOMENTUM = 0.051497581745743926;  \\/\\/ OPTIMIZE [0.0, 1.0]/' -e 's/^constexpr int GRADIENT_DESCENT_STEPS = .*;  \\/\\/ OPTIMIZE \\[1, 30\\]$/constexpr int GRADIENT_DESCENT_STEPS = 5;  \\/\\/ OPTIMIZE [1, 30]/' -e 's/^constexpr double GRADIENT_DESCENT_STEPS_STEPPING_PROGRESS_RATE = .*;  \\/\\/ OPTIMIZE \\[0\\.0, 1\\.0\\]$/constexpr double GRADIENT_DESCENT_STEPS_STEPPING_PROGRESS_RATE = 0.10958708680769813;  \\/\\/ OPTIMIZE [0.0, 1.0]/' -e 's/^constexpr double LINE_LENGTH_LOSS_STEPPING_PROGRESS_RATE = .*;  \\/\\/ OPTIMIZE \\[0\\.0, 1\\.0\\]$/constexpr double LINE_LENGTH_LOSS_STEPPING_PROGRESS_RATE = 0.8362030532692839;  \\/\\/ OPTIMIZE [0.0, 1.0]/' -e 's/^constexpr double  LINE_LENGTH_LOSS_WEIGHT = .*;  \\/\\/ OPTIMIZE \\[1e-8, 1e-4\\] LOG$/constexpr double  LINE_LENGTH_LOSS_WEIGHT = 7.758662653061312e-05;  \\/\\/ OPTIMIZE [1e-8, 1e-4] LOG/' -e 's/^constexpr int N_RANDOM_FACE_CHOICE = .*;  \\/\\/ OPTIMIZE \\[1, 10\\]$/constexpr int N_RANDOM_FACE_CHOICE = 8;  \\/\\/ OPTIMIZE [1, 10]/' -e 's/^std::string hoge=.*; \\/\\/OPTIMIZE{\"11\", \"unnn\" ,\"ooo\"}$/std::string hoge=\"unnn\"; \\/\\/OPTIMIZE{\"11\", \"unnn\" ,\"ooo\"}/'\n",
      "g++ 0_answer.cpp -std=gnu++17 -O2 -DONLINE_JUDGE -o 0_answer.cpp.out\n",
      "g++ 1_answer.cpp -std=gnu++17 -O2 -DONLINE_JUDGE -o 1_answer.cpp.out\n"
     ]
    },
    {
     "name": "stderr",
     "output_type": "stream",
     "text": [
      "\u001b[32m[I 2021-04-25 09:27:45,490]\u001b[0m Trial 0 finished with value: 48259422915.0 and parameters: {'ANNEALING_A': -4.764964219777016, 'ANNEALING_B': 6.379199589914459, 'ANNEALING_END': 0.0036366400940570933, 'ANNEALING_START': 0.1194795995308193, 'GRADIENT_CLIPPING': 4.286479241727656e-05, 'GRADIENT_DESCENT_LR': 21599021.185847394, 'GRADIENT_DESCENT_MOMENTUM': 0.1786813648093042, 'GRADIENT_DESCENT_STEPS': 23, 'GRADIENT_DESCENT_STEPS_STEPPING_PROGRESS_RATE': 0.9725005215053089, 'LINE_LENGTH_LOSS_STEPPING_PROGRESS_RATE': 0.24936016732460342, 'LINE_LENGTH_LOSS_WEIGHT': 7.433180025970222e-05, 'N_RANDOM_FACE_CHOICE': 3, 'hoge': '\"11\"'}. Best is trial 0 with value: 48259422915.0.\u001b[0m\n"
     ]
    },
    {
     "name": "stdout",
     "output_type": "stream",
     "text": [
      "Updated! 48259422915.0 -> 48259422915.0\n"
     ]
    },
    {
     "name": "stderr",
     "output_type": "stream",
     "text": [
      "\u001b[32m[I 2021-04-25 09:27:45,557]\u001b[0m Trial 1 finished with value: 48159304454.0 and parameters: {'ANNEALING_A': -7.648392798272839, 'ANNEALING_B': 0.45079521986618876, 'ANNEALING_END': 0.0010631567136784902, 'ANNEALING_START': 0.4286618835265182, 'GRADIENT_CLIPPING': 0.0001950423603620829, 'GRADIENT_DESCENT_LR': 32182031.70880079, 'GRADIENT_DESCENT_MOMENTUM': 0.051497581745743926, 'GRADIENT_DESCENT_STEPS': 5, 'GRADIENT_DESCENT_STEPS_STEPPING_PROGRESS_RATE': 0.10958708680769813, 'LINE_LENGTH_LOSS_STEPPING_PROGRESS_RATE': 0.8362030532692839, 'LINE_LENGTH_LOSS_WEIGHT': 7.758662653061312e-05, 'N_RANDOM_FACE_CHOICE': 8, 'hoge': '\"unnn\"'}. Best is trial 0 with value: 48259422915.0.\u001b[0m\n"
     ]
    },
    {
     "name": "stdout",
     "output_type": "stream",
     "text": [
      "callback ok\n",
      "index_parallel=2\n",
      "callback ok\n",
      "index_parallel=3\n",
      "rm: cannot remove '2_out/*': No such file or directory\n",
      "rm: cannot remove '3_out/*': No such file or directory\n",
      "rm: cannot remove '2_score/*': No such file or directory\n",
      "rm: cannot remove '3_score/*': No such file or directory\n",
      "sed -i 2_answer.cpp -e 's/^constexpr double ANNEALING_A = .*;  \\/\\/ OPTIMIZE \\[-10\\.0, 0\\.0\\]$/constexpr double ANNEALING_A = -5.241446025698329;  \\/\\/ OPTIMIZE [-10.0, 0.0]/' -e 's/^constexpr double ANNEALING_B = .*;  \\/\\/ OPTIMIZE \\[0\\.0, 7\\.0\\]$/constexpr double ANNEALING_B = 4.802817458963445;  \\/\\/ OPTIMIZE [0.0, 7.0]/' -e 's/^constexpr double ANNEALING_END = .*;  \\/\\/ OPTIMIZE \\[1e-4, 0\\.005\\] LOG$/constexpr double ANNEALING_END = 0.003052122850574861;  \\/\\/ OPTIMIZE [1e-4, 0.005] LOG/' -e 's/^constexpr double ANNEALING_START = .*;  \\/\\/ OPTIMIZE \\[0\\.001, 0\\.5\\] LOG$/constexpr double ANNEALING_START = 0.05969329776072295;  \\/\\/ OPTIMIZE [0.001, 0.5] LOG/' -e 's/^constexpr double GRADIENT_CLIPPING = .*;  \\/\\/ OPTIMIZE \\[1e-7, 2e-4\\] LOG$/constexpr double GRADIENT_CLIPPING = 8.65374668159218e-05;  \\/\\/ OPTIMIZE [1e-7, 2e-4] LOG/' -e 's/^constexpr double GRADIENT_DESCENT_LR = .*;  \\/\\/ OPTIMIZE \\[100000\\.0, 50000000\\.0\\] LOG$/constexpr double GRADIENT_DESCENT_LR = 48725010.88097447;  \\/\\/ OPTIMIZE [100000.0, 50000000.0] LOG/' -e 's/^constexpr double GRADIENT_DESCENT_MOMENTUM = .*;  \\/\\/ OPTIMIZE \\[0\\.0, 1\\.0\\]$/constexpr double GRADIENT_DESCENT_MOMENTUM = 0.6138226040596845;  \\/\\/ OPTIMIZE [0.0, 1.0]/' -e 's/^constexpr int GRADIENT_DESCENT_STEPS = .*;  \\/\\/ OPTIMIZE \\[1, 30\\]$/constexpr int GRADIENT_DESCENT_STEPS = 10;  \\/\\/ OPTIMIZE [1, 30]/' -e 's/^constexpr double GRADIENT_DESCENT_STEPS_STEPPING_PROGRESS_RATE = .*;  \\/\\/ OPTIMIZE \\[0\\.0, 1\\.0\\]$/constexpr double GRADIENT_DESCENT_STEPS_STEPPING_PROGRESS_RATE = 0.24006753909176393;  \\/\\/ OPTIMIZE [0.0, 1.0]/' -e 's/^constexpr double LINE_LENGTH_LOSS_STEPPING_PROGRESS_RATE = .*;  \\/\\/ OPTIMIZE \\[0\\.0, 1\\.0\\]$/constexpr double LINE_LENGTH_LOSS_STEPPING_PROGRESS_RATE = 0.3086971708924976;  \\/\\/ OPTIMIZE [0.0, 1.0]/' -e 's/^constexpr double  LINE_LENGTH_LOSS_WEIGHT = .*;  \\/\\/ OPTIMIZE \\[1e-8, 1e-4\\] LOG$/constexpr double  LINE_LENGTH_LOSS_WEIGHT = 8.434507027363982e-05;  \\/\\/ OPTIMIZE [1e-8, 1e-4] LOG/' -e 's/^constexpr int N_RANDOM_FACE_CHOICE = .*;  \\/\\/ OPTIMIZE \\[1, 10\\]$/constexpr int N_RANDOM_FACE_CHOICE = 4;  \\/\\/ OPTIMIZE [1, 10]/' -e 's/^std::string hoge=.*; \\/\\/OPTIMIZE{\"11\", \"unnn\" ,\"ooo\"}$/std::string hoge=\"ooo\"; \\/\\/OPTIMIZE{\"11\", \"unnn\" ,\"ooo\"}/'\n",
      "sed -i 3_answer.cpp -e 's/^constexpr double ANNEALING_A = .*;  \\/\\/ OPTIMIZE \\[-10\\.0, 0\\.0\\]$/constexpr double ANNEALING_A = -0.5063454978241904;  \\/\\/ OPTIMIZE [-10.0, 0.0]/' -e 's/^constexpr double ANNEALING_B = .*;  \\/\\/ OPTIMIZE \\[0\\.0, 7\\.0\\]$/constexpr double ANNEALING_B = 0.46416066032446357;  \\/\\/ OPTIMIZE [0.0, 7.0]/' -e 's/^constexpr double ANNEALING_END = .*;  \\/\\/ OPTIMIZE \\[1e-4, 0\\.005\\] LOG$/constexpr double ANNEALING_END = 0.0005006995383283706;  \\/\\/ OPTIMIZE [1e-4, 0.005] LOG/' -e 's/^constexpr double ANNEALING_START = .*;  \\/\\/ OPTIMIZE \\[0\\.001, 0\\.5\\] LOG$/constexpr double ANNEALING_START = 0.011164005345954516;  \\/\\/ OPTIMIZE [0.001, 0.5] LOG/' -e 's/^constexpr double GRADIENT_CLIPPING = .*;  \\/\\/ OPTIMIZE \\[1e-7, 2e-4\\] LOG$/constexpr double GRADIENT_CLIPPING = 0.00015779741710720137;  \\/\\/ OPTIMIZE [1e-7, 2e-4] LOG/' -e 's/^constexpr double GRADIENT_DESCENT_LR = .*;  \\/\\/ OPTIMIZE \\[100000\\.0, 50000000\\.0\\] LOG$/constexpr double GRADIENT_DESCENT_LR = 30648204.515426267;  \\/\\/ OPTIMIZE [100000.0, 50000000.0] LOG/' -e 's/^constexpr double GRADIENT_DESCENT_MOMENTUM = .*;  \\/\\/ OPTIMIZE \\[0\\.0, 1\\.0\\]$/constexpr double GRADIENT_DESCENT_MOMENTUM = 0.9077812526876334;  \\/\\/ OPTIMIZE [0.0, 1.0]/' -e 's/^constexpr int GRADIENT_DESCENT_STEPS = .*;  \\/\\/ OPTIMIZE \\[1, 30\\]$/constexpr int GRADIENT_DESCENT_STEPS = 5;  \\/\\/ OPTIMIZE [1, 30]/' -e 's/^constexpr double GRADIENT_DESCENT_STEPS_STEPPING_PROGRESS_RATE = .*;  \\/\\/ OPTIMIZE \\[0\\.0, 1\\.0\\]$/constexpr double GRADIENT_DESCENT_STEPS_STEPPING_PROGRESS_RATE = 0.2937479542657073;  \\/\\/ OPTIMIZE [0.0, 1.0]/' -e 's/^constexpr double LINE_LENGTH_LOSS_STEPPING_PROGRESS_RATE = .*;  \\/\\/ OPTIMIZE \\[0\\.0, 1\\.0\\]$/constexpr double LINE_LENGTH_LOSS_STEPPING_PROGRESS_RATE = 0.004602070697473759;  \\/\\/ OPTIMIZE [0.0, 1.0]/' -e 's/^constexpr double  LINE_LENGTH_LOSS_WEIGHT = .*;  \\/\\/ OPTIMIZE \\[1e-8, 1e-4\\] LOG$/constexpr double  LINE_LENGTH_LOSS_WEIGHT = 2.9786445942048333e-05;  \\/\\/ OPTIMIZE [1e-8, 1e-4] LOG/' -e 's/^constexpr int N_RANDOM_FACE_CHOICE = .*;  \\/\\/ OPTIMIZE \\[1, 10\\]$/constexpr int N_RANDOM_FACE_CHOICE = 5;  \\/\\/ OPTIMIZE [1, 10]/' -e 's/^std::string hoge=.*; \\/\\/OPTIMIZE{\"11\", \"unnn\" ,\"ooo\"}$/std::string hoge=\"unnn\"; \\/\\/OPTIMIZE{\"11\", \"unnn\" ,\"ooo\"}/'\n",
      "g++ 2_answer.cpp -std=gnu++17 -O2 -DONLINE_JUDGE -o 2_answer.cpp.out\n",
      "g++ 3_answer.cpp -std=gnu++17 -O2 -DONLINE_JUDGE -o 3_answer.cpp.out\n"
     ]
    },
    {
     "name": "stderr",
     "output_type": "stream",
     "text": [
      "\u001b[32m[I 2021-04-25 09:29:02,901]\u001b[0m Trial 2 finished with value: 45095249726.0 and parameters: {'ANNEALING_A': -5.241446025698329, 'ANNEALING_B': 4.802817458963445, 'ANNEALING_END': 0.003052122850574861, 'ANNEALING_START': 0.05969329776072295, 'GRADIENT_CLIPPING': 8.65374668159218e-05, 'GRADIENT_DESCENT_LR': 48725010.88097447, 'GRADIENT_DESCENT_MOMENTUM': 0.6138226040596845, 'GRADIENT_DESCENT_STEPS': 10, 'GRADIENT_DESCENT_STEPS_STEPPING_PROGRESS_RATE': 0.24006753909176393, 'LINE_LENGTH_LOSS_STEPPING_PROGRESS_RATE': 0.3086971708924976, 'LINE_LENGTH_LOSS_WEIGHT': 8.434507027363982e-05, 'N_RANDOM_FACE_CHOICE': 4, 'hoge': '\"ooo\"'}. Best is trial 0 with value: 48259422915.0.\u001b[0m\n",
      "\u001b[32m[I 2021-04-25 09:29:02,907]\u001b[0m Trial 3 finished with value: 46810751424.0 and parameters: {'ANNEALING_A': -0.5063454978241904, 'ANNEALING_B': 0.46416066032446357, 'ANNEALING_END': 0.0005006995383283706, 'ANNEALING_START': 0.011164005345954516, 'GRADIENT_CLIPPING': 0.00015779741710720137, 'GRADIENT_DESCENT_LR': 30648204.515426267, 'GRADIENT_DESCENT_MOMENTUM': 0.9077812526876334, 'GRADIENT_DESCENT_STEPS': 5, 'GRADIENT_DESCENT_STEPS_STEPPING_PROGRESS_RATE': 0.2937479542657073, 'LINE_LENGTH_LOSS_STEPPING_PROGRESS_RATE': 0.004602070697473759, 'LINE_LENGTH_LOSS_WEIGHT': 2.9786445942048333e-05, 'N_RANDOM_FACE_CHOICE': 5, 'hoge': '\"unnn\"'}. Best is trial 0 with value: 48259422915.0.\u001b[0m\n"
     ]
    },
    {
     "name": "stdout",
     "output_type": "stream",
     "text": [
      "callback ok\n",
      "callback ok\n",
      "index_parallel=4\n",
      "index_parallel=5\n",
      "rm: cannot remove '4_out/*': No such file or directory\n",
      "rm: cannot remove '5_out/*': No such file or directory\n",
      "rm: cannot remove '4_score/*': No such file or directory\n",
      "rm: cannot remove '5_score/*': No such file or directory\n",
      "sed -i 4_answer.cpp -e 's/^constexpr double ANNEALING_A = .*;  \\/\\/ OPTIMIZE \\[-10\\.0, 0\\.0\\]$/constexpr double ANNEALING_A = -1.4287536044157392;  \\/\\/ OPTIMIZE [-10.0, 0.0]/' -e 's/^constexpr double ANNEALING_B = .*;  \\/\\/ OPTIMIZE \\[0\\.0, 7\\.0\\]$/constexpr double ANNEALING_B = 2.8069334509290154;  \\/\\/ OPTIMIZE [0.0, 7.0]/' -e 's/^constexpr double ANNEALING_END = .*;  \\/\\/ OPTIMIZE \\[1e-4, 0\\.005\\] LOG$/constexpr double ANNEALING_END = 0.002129127433508606;  \\/\\/ OPTIMIZE [1e-4, 0.005] LOG/' -e 's/^constexpr double ANNEALING_START = .*;  \\/\\/ OPTIMIZE \\[0\\.001, 0\\.5\\] LOG$/constexpr double ANNEALING_START = 0.3355086578341872;  \\/\\/ OPTIMIZE [0.001, 0.5] LOG/' -e 's/^constexpr double GRADIENT_CLIPPING = .*;  \\/\\/ OPTIMIZE \\[1e-7, 2e-4\\] LOG$/constexpr double GRADIENT_CLIPPING = 0.00014132769647995437;  \\/\\/ OPTIMIZE [1e-7, 2e-4] LOG/' -e 's/^constexpr double GRADIENT_DESCENT_LR = .*;  \\/\\/ OPTIMIZE \\[100000\\.0, 50000000\\.0\\] LOG$/constexpr double GRADIENT_DESCENT_LR = 3097710.170719764;  \\/\\/ OPTIMIZE [100000.0, 50000000.0] LOG/' -e 's/^constexpr double GRADIENT_DESCENT_MOMENTUM = .*;  \\/\\/ OPTIMIZE \\[0\\.0, 1\\.0\\]$/constexpr double GRADIENT_DESCENT_MOMENTUM = 0.4767007634140118;  \\/\\/ OPTIMIZE [0.0, 1.0]/' -e 's/^constexpr int GRADIENT_DESCENT_STEPS = .*;  \\/\\/ OPTIMIZE \\[1, 30\\]$/constexpr int GRADIENT_DESCENT_STEPS = 19;  \\/\\/ OPTIMIZE [1, 30]/' -e 's/^constexpr double GRADIENT_DESCENT_STEPS_STEPPING_PROGRESS_RATE = .*;  \\/\\/ OPTIMIZE \\[0\\.0, 1\\.0\\]$/constexpr double GRADIENT_DESCENT_STEPS_STEPPING_PROGRESS_RATE = 0.562306430464224;  \\/\\/ OPTIMIZE [0.0, 1.0]/' -e 's/^constexpr double LINE_LENGTH_LOSS_STEPPING_PROGRESS_RATE = .*;  \\/\\/ OPTIMIZE \\[0\\.0, 1\\.0\\]$/constexpr double LINE_LENGTH_LOSS_STEPPING_PROGRESS_RATE = 0.6809231320124118;  \\/\\/ OPTIMIZE [0.0, 1.0]/' -e 's/^constexpr double  LINE_LENGTH_LOSS_WEIGHT = .*;  \\/\\/ OPTIMIZE \\[1e-8, 1e-4\\] LOG$/constexpr double  LINE_LENGTH_LOSS_WEIGHT = 9.874320222409156e-05;  \\/\\/ OPTIMIZE [1e-8, 1e-4] LOG/' -e 's/^constexpr int N_RANDOM_FACE_CHOICE = .*;  \\/\\/ OPTIMIZE \\[1, 10\\]$/constexpr int N_RANDOM_FACE_CHOICE = 3;  \\/\\/ OPTIMIZE [1, 10]/' -e 's/^std::string hoge=.*; \\/\\/OPTIMIZE{\"11\", \"unnn\" ,\"ooo\"}$/std::string hoge=\"unnn\"; \\/\\/OPTIMIZE{\"11\", \"unnn\" ,\"ooo\"}/'\n",
      "sed -i 5_answer.cpp -e 's/^constexpr double ANNEALING_A = .*;  \\/\\/ OPTIMIZE \\[-10\\.0, 0\\.0\\]$/constexpr double ANNEALING_A = -2.2410760852132867;  \\/\\/ OPTIMIZE [-10.0, 0.0]/' -e 's/^constexpr double ANNEALING_B = .*;  \\/\\/ OPTIMIZE \\[0\\.0, 7\\.0\\]$/constexpr double ANNEALING_B = 0.4254605095992452;  \\/\\/ OPTIMIZE [0.0, 7.0]/' -e 's/^constexpr double ANNEALING_END = .*;  \\/\\/ OPTIMIZE \\[1e-4, 0\\.005\\] LOG$/constexpr double ANNEALING_END = 0.004498714367695646;  \\/\\/ OPTIMIZE [1e-4, 0.005] LOG/' -e 's/^constexpr double ANNEALING_START = .*;  \\/\\/ OPTIMIZE \\[0\\.001, 0\\.5\\] LOG$/constexpr double ANNEALING_START = 0.234619989308765;  \\/\\/ OPTIMIZE [0.001, 0.5] LOG/' -e 's/^constexpr double GRADIENT_CLIPPING = .*;  \\/\\/ OPTIMIZE \\[1e-7, 2e-4\\] LOG$/constexpr double GRADIENT_CLIPPING = 1.0767953368140986e-06;  \\/\\/ OPTIMIZE [1e-7, 2e-4] LOG/' -e 's/^constexpr double GRADIENT_DESCENT_LR = .*;  \\/\\/ OPTIMIZE \\[100000\\.0, 50000000\\.0\\] LOG$/constexpr double GRADIENT_DESCENT_LR = 27255322.147798315;  \\/\\/ OPTIMIZE [100000.0, 50000000.0] LOG/' -e 's/^constexpr double GRADIENT_DESCENT_MOMENTUM = .*;  \\/\\/ OPTIMIZE \\[0\\.0, 1\\.0\\]$/constexpr double GRADIENT_DESCENT_MOMENTUM = 0.38550027832100586;  \\/\\/ OPTIMIZE [0.0, 1.0]/' -e 's/^constexpr int GRADIENT_DESCENT_STEPS = .*;  \\/\\/ OPTIMIZE \\[1, 30\\]$/constexpr int GRADIENT_DESCENT_STEPS = 16;  \\/\\/ OPTIMIZE [1, 30]/' -e 's/^constexpr double GRADIENT_DESCENT_STEPS_STEPPING_PROGRESS_RATE = .*;  \\/\\/ OPTIMIZE \\[0\\.0, 1\\.0\\]$/constexpr double GRADIENT_DESCENT_STEPS_STEPPING_PROGRESS_RATE = 0.37866955767947785;  \\/\\/ OPTIMIZE [0.0, 1.0]/' -e 's/^constexpr double LINE_LENGTH_LOSS_STEPPING_PROGRESS_RATE = .*;  \\/\\/ OPTIMIZE \\[0\\.0, 1\\.0\\]$/constexpr double LINE_LENGTH_LOSS_STEPPING_PROGRESS_RATE = 0.6994306229008975;  \\/\\/ OPTIMIZE [0.0, 1.0]/' -e 's/^constexpr double  LINE_LENGTH_LOSS_WEIGHT = .*;  \\/\\/ OPTIMIZE \\[1e-8, 1e-4\\] LOG$/constexpr double  LINE_LENGTH_LOSS_WEIGHT = 7.43162160183371e-05;  \\/\\/ OPTIMIZE [1e-8, 1e-4] LOG/' -e 's/^constexpr int N_RANDOM_FACE_CHOICE = .*;  \\/\\/ OPTIMIZE \\[1, 10\\]$/constexpr int N_RANDOM_FACE_CHOICE = 1;  \\/\\/ OPTIMIZE [1, 10]/' -e 's/^std::string hoge=.*; \\/\\/OPTIMIZE{\"11\", \"unnn\" ,\"ooo\"}$/std::string hoge=\"11\"; \\/\\/OPTIMIZE{\"11\", \"unnn\" ,\"ooo\"}/'\n",
      "g++ 4_answer.cpp -std=gnu++17 -O2 -DONLINE_JUDGE -o 4_answer.cpp.out\n",
      "g++ 5_answer.cpp -std=gnu++17 -O2 -DONLINE_JUDGE -o 5_answer.cpp.out\n"
     ]
    },
    {
     "name": "stderr",
     "output_type": "stream",
     "text": [
      "\u001b[32m[I 2021-04-25 09:30:20,258]\u001b[0m Trial 4 finished with value: 47587843568.0 and parameters: {'ANNEALING_A': -1.4287536044157392, 'ANNEALING_B': 2.8069334509290154, 'ANNEALING_END': 0.002129127433508606, 'ANNEALING_START': 0.3355086578341872, 'GRADIENT_CLIPPING': 0.00014132769647995437, 'GRADIENT_DESCENT_LR': 3097710.170719764, 'GRADIENT_DESCENT_MOMENTUM': 0.4767007634140118, 'GRADIENT_DESCENT_STEPS': 19, 'GRADIENT_DESCENT_STEPS_STEPPING_PROGRESS_RATE': 0.562306430464224, 'LINE_LENGTH_LOSS_STEPPING_PROGRESS_RATE': 0.6809231320124118, 'LINE_LENGTH_LOSS_WEIGHT': 9.874320222409156e-05, 'N_RANDOM_FACE_CHOICE': 3, 'hoge': '\"unnn\"'}. Best is trial 0 with value: 48259422915.0.\u001b[0m\n"
     ]
    },
    {
     "name": "stdout",
     "output_type": "stream",
     "text": [
      "callback ok\n",
      "index_parallel=6\n",
      "rm: cannot remove '6_out/*': No such file or directory\n",
      "rm: cannot remove '6_score/*': No such file or directory\n",
      "sed -i 6_answer.cpp -e 's/^constexpr double ANNEALING_A = .*;  \\/\\/ OPTIMIZE \\[-10\\.0, 0\\.0\\]$/constexpr double ANNEALING_A = -2.978436853359005;  \\/\\/ OPTIMIZE [-10.0, 0.0]/' -e 's/^constexpr double ANNEALING_B = .*;  \\/\\/ OPTIMIZE \\[0\\.0, 7\\.0\\]$/constexpr double ANNEALING_B = 1.2932894981502714;  \\/\\/ OPTIMIZE [0.0, 7.0]/' -e 's/^constexpr double ANNEALING_END = .*;  \\/\\/ OPTIMIZE \\[1e-4, 0\\.005\\] LOG$/constexpr double ANNEALING_END = 0.00033792217881173576;  \\/\\/ OPTIMIZE [1e-4, 0.005] LOG/' -e 's/^constexpr double ANNEALING_START = .*;  \\/\\/ OPTIMIZE \\[0\\.001, 0\\.5\\] LOG$/constexpr double ANNEALING_START = 0.11597586190978855;  \\/\\/ OPTIMIZE [0.001, 0.5] LOG/' -e 's/^constexpr double GRADIENT_CLIPPING = .*;  \\/\\/ OPTIMIZE \\[1e-7, 2e-4\\] LOG$/constexpr double GRADIENT_CLIPPING = 1.5868997838911777e-05;  \\/\\/ OPTIMIZE [1e-7, 2e-4] LOG/' -e 's/^constexpr double GRADIENT_DESCENT_LR = .*;  \\/\\/ OPTIMIZE \\[100000\\.0, 50000000\\.0\\] LOG$/constexpr double GRADIENT_DESCENT_LR = 10214000.571560178;  \\/\\/ OPTIMIZE [100000.0, 50000000.0] LOG/' -e 's/^constexpr double GRADIENT_DESCENT_MOMENTUM = .*;  \\/\\/ OPTIMIZE \\[0\\.0, 1\\.0\\]$/constexpr double GRADIENT_DESCENT_MOMENTUM = 0.4900163766875223;  \\/\\/ OPTIMIZE [0.0, 1.0]/' -e 's/^constexpr int GRADIENT_DESCENT_STEPS = .*;  \\/\\/ OPTIMIZE \\[1, 30\\]$/constexpr int GRADIENT_DESCENT_STEPS = 28;  \\/\\/ OPTIMIZE [1, 30]/' -e 's/^constexpr double GRADIENT_DESCENT_STEPS_STEPPING_PROGRESS_RATE = .*;  \\/\\/ OPTIMIZE \\[0\\.0, 1\\.0\\]$/constexpr double GRADIENT_DESCENT_STEPS_STEPPING_PROGRESS_RATE = 0.44295676813972684;  \\/\\/ OPTIMIZE [0.0, 1.0]/' -e 's/^constexpr double LINE_LENGTH_LOSS_STEPPING_PROGRESS_RATE = .*;  \\/\\/ OPTIMIZE \\[0\\.0, 1\\.0\\]$/constexpr double LINE_LENGTH_LOSS_STEPPING_PROGRESS_RATE = 0.11981478397655965;  \\/\\/ OPTIMIZE [0.0, 1.0]/' -e 's/^constexpr double  LINE_LENGTH_LOSS_WEIGHT = .*;  \\/\\/ OPTIMIZE \\[1e-8, 1e-4\\] LOG$/constexpr double  LINE_LENGTH_LOSS_WEIGHT = 3.895485533087094e-05;  \\/\\/ OPTIMIZE [1e-8, 1e-4] LOG/' -e 's/^constexpr int N_RANDOM_FACE_CHOICE = .*;  \\/\\/ OPTIMIZE \\[1, 10\\]$/constexpr int N_RANDOM_FACE_CHOICE = 5;  \\/\\/ OPTIMIZE [1, 10]/' -e 's/^std::string hoge=.*; \\/\\/OPTIMIZE{\"11\", \"unnn\" ,\"ooo\"}$/std::string hoge=\"11\"; \\/\\/OPTIMIZE{\"11\", \"unnn\" ,\"ooo\"}/'\n"
     ]
    },
    {
     "name": "stderr",
     "output_type": "stream",
     "text": [
      "\u001b[32m[I 2021-04-25 09:30:21,670]\u001b[0m Trial 5 finished with value: 46773789830.0 and parameters: {'ANNEALING_A': -2.2410760852132867, 'ANNEALING_B': 0.4254605095992452, 'ANNEALING_END': 0.004498714367695646, 'ANNEALING_START': 0.234619989308765, 'GRADIENT_CLIPPING': 1.0767953368140986e-06, 'GRADIENT_DESCENT_LR': 27255322.147798315, 'GRADIENT_DESCENT_MOMENTUM': 0.38550027832100586, 'GRADIENT_DESCENT_STEPS': 16, 'GRADIENT_DESCENT_STEPS_STEPPING_PROGRESS_RATE': 0.37866955767947785, 'LINE_LENGTH_LOSS_STEPPING_PROGRESS_RATE': 0.6994306229008975, 'LINE_LENGTH_LOSS_WEIGHT': 7.43162160183371e-05, 'N_RANDOM_FACE_CHOICE': 1, 'hoge': '\"11\"'}. Best is trial 0 with value: 48259422915.0.\u001b[0m\n"
     ]
    },
    {
     "name": "stdout",
     "output_type": "stream",
     "text": [
      "callback ok\n",
      "index_parallel=7\n",
      "g++ 6_answer.cpp -std=gnu++17 -O2 -DONLINE_JUDGE -o 6_answer.cpp.out\n",
      "rm: cannot remove '7_out/*': No such file or directory\n",
      "rm: cannot remove '7_score/*': No such file or directory\n",
      "sed -i 7_answer.cpp -e 's/^constexpr double ANNEALING_A = .*;  \\/\\/ OPTIMIZE \\[-10\\.0, 0\\.0\\]$/constexpr double ANNEALING_A = -7.069294536778774;  \\/\\/ OPTIMIZE [-10.0, 0.0]/' -e 's/^constexpr double ANNEALING_B = .*;  \\/\\/ OPTIMIZE \\[0\\.0, 7\\.0\\]$/constexpr double ANNEALING_B = 0.5765920778552777;  \\/\\/ OPTIMIZE [0.0, 7.0]/' -e 's/^constexpr double ANNEALING_END = .*;  \\/\\/ OPTIMIZE \\[1e-4, 0\\.005\\] LOG$/constexpr double ANNEALING_END = 0.0016500597991740214;  \\/\\/ OPTIMIZE [1e-4, 0.005] LOG/' -e 's/^constexpr double ANNEALING_START = .*;  \\/\\/ OPTIMIZE \\[0\\.001, 0\\.5\\] LOG$/constexpr double ANNEALING_START = 0.1411466672566266;  \\/\\/ OPTIMIZE [0.001, 0.5] LOG/' -e 's/^constexpr double GRADIENT_CLIPPING = .*;  \\/\\/ OPTIMIZE \\[1e-7, 2e-4\\] LOG$/constexpr double GRADIENT_CLIPPING = 0.000163396769605017;  \\/\\/ OPTIMIZE [1e-7, 2e-4] LOG/' -e 's/^constexpr double GRADIENT_DESCENT_LR = .*;  \\/\\/ OPTIMIZE \\[100000\\.0, 50000000\\.0\\] LOG$/constexpr double GRADIENT_DESCENT_LR = 27280091.38776756;  \\/\\/ OPTIMIZE [100000.0, 50000000.0] LOG/' -e 's/^constexpr double GRADIENT_DESCENT_MOMENTUM = .*;  \\/\\/ OPTIMIZE \\[0\\.0, 1\\.0\\]$/constexpr double GRADIENT_DESCENT_MOMENTUM = 0.6101509809004514;  \\/\\/ OPTIMIZE [0.0, 1.0]/' -e 's/^constexpr int GRADIENT_DESCENT_STEPS = .*;  \\/\\/ OPTIMIZE \\[1, 30\\]$/constexpr int GRADIENT_DESCENT_STEPS = 1;  \\/\\/ OPTIMIZE [1, 30]/' -e 's/^constexpr double GRADIENT_DESCENT_STEPS_STEPPING_PROGRESS_RATE = .*;  \\/\\/ OPTIMIZE \\[0\\.0, 1\\.0\\]$/constexpr double GRADIENT_DESCENT_STEPS_STEPPING_PROGRESS_RATE = 0.7090078096730456;  \\/\\/ OPTIMIZE [0.0, 1.0]/' -e 's/^constexpr double LINE_LENGTH_LOSS_STEPPING_PROGRESS_RATE = .*;  \\/\\/ OPTIMIZE \\[0\\.0, 1\\.0\\]$/constexpr double LINE_LENGTH_LOSS_STEPPING_PROGRESS_RATE = 0.6221460069067171;  \\/\\/ OPTIMIZE [0.0, 1.0]/' -e 's/^constexpr double  LINE_LENGTH_LOSS_WEIGHT = .*;  \\/\\/ OPTIMIZE \\[1e-8, 1e-4\\] LOG$/constexpr double  LINE_LENGTH_LOSS_WEIGHT = 2.7183927147119438e-05;  \\/\\/ OPTIMIZE [1e-8, 1e-4] LOG/' -e 's/^constexpr int N_RANDOM_FACE_CHOICE = .*;  \\/\\/ OPTIMIZE \\[1, 10\\]$/constexpr int N_RANDOM_FACE_CHOICE = 8;  \\/\\/ OPTIMIZE [1, 10]/' -e 's/^std::string hoge=.*; \\/\\/OPTIMIZE{\"11\", \"unnn\" ,\"ooo\"}$/std::string hoge=\"11\"; \\/\\/OPTIMIZE{\"11\", \"unnn\" ,\"ooo\"}/'\n",
      "g++ 7_answer.cpp -std=gnu++17 -O2 -DONLINE_JUDGE -o 7_answer.cpp.out\n"
     ]
    },
    {
     "name": "stderr",
     "output_type": "stream",
     "text": [
      "\u001b[32m[I 2021-04-25 09:31:37,312]\u001b[0m Trial 6 finished with value: 48485435847.0 and parameters: {'ANNEALING_A': -2.978436853359005, 'ANNEALING_B': 1.2932894981502714, 'ANNEALING_END': 0.00033792217881173576, 'ANNEALING_START': 0.11597586190978855, 'GRADIENT_CLIPPING': 1.5868997838911777e-05, 'GRADIENT_DESCENT_LR': 10214000.571560178, 'GRADIENT_DESCENT_MOMENTUM': 0.4900163766875223, 'GRADIENT_DESCENT_STEPS': 28, 'GRADIENT_DESCENT_STEPS_STEPPING_PROGRESS_RATE': 0.44295676813972684, 'LINE_LENGTH_LOSS_STEPPING_PROGRESS_RATE': 0.11981478397655965, 'LINE_LENGTH_LOSS_WEIGHT': 3.895485533087094e-05, 'N_RANDOM_FACE_CHOICE': 5, 'hoge': '\"11\"'}. Best is trial 6 with value: 48485435847.0.\u001b[0m\n"
     ]
    },
    {
     "name": "stdout",
     "output_type": "stream",
     "text": [
      "Updated! 48485435847.0 -> 48485435847.0\n",
      "callback ok\n",
      "index_parallel=8\n",
      "rm: cannot remove '8_out/*': No such file or directory\n",
      "rm: cannot remove '8_score/*': No such file or directory\n",
      "sed -i 8_answer.cpp -e 's/^constexpr double ANNEALING_A = .*;  \\/\\/ OPTIMIZE \\[-10\\.0, 0\\.0\\]$/constexpr double ANNEALING_A = -1.695627733232568;  \\/\\/ OPTIMIZE [-10.0, 0.0]/' -e 's/^constexpr double ANNEALING_B = .*;  \\/\\/ OPTIMIZE \\[0\\.0, 7\\.0\\]$/constexpr double ANNEALING_B = 5.921669526185888;  \\/\\/ OPTIMIZE [0.0, 7.0]/' -e 's/^constexpr double ANNEALING_END = .*;  \\/\\/ OPTIMIZE \\[1e-4, 0\\.005\\] LOG$/constexpr double ANNEALING_END = 0.004127700565590024;  \\/\\/ OPTIMIZE [1e-4, 0.005] LOG/' -e 's/^constexpr double ANNEALING_START = .*;  \\/\\/ OPTIMIZE \\[0\\.001, 0\\.5\\] LOG$/constexpr double ANNEALING_START = 0.09879746915991572;  \\/\\/ OPTIMIZE [0.001, 0.5] LOG/' -e 's/^constexpr double GRADIENT_CLIPPING = .*;  \\/\\/ OPTIMIZE \\[1e-7, 2e-4\\] LOG$/constexpr double GRADIENT_CLIPPING = 3.452832137596631e-05;  \\/\\/ OPTIMIZE [1e-7, 2e-4] LOG/' -e 's/^constexpr double GRADIENT_DESCENT_LR = .*;  \\/\\/ OPTIMIZE \\[100000\\.0, 50000000\\.0\\] LOG$/constexpr double GRADIENT_DESCENT_LR = 12966457.624464266;  \\/\\/ OPTIMIZE [100000.0, 50000000.0] LOG/' -e 's/^constexpr double GRADIENT_DESCENT_MOMENTUM = .*;  \\/\\/ OPTIMIZE \\[0\\.0, 1\\.0\\]$/constexpr double GRADIENT_DESCENT_MOMENTUM = 0.6527759253593505;  \\/\\/ OPTIMIZE [0.0, 1.0]/' -e 's/^constexpr int GRADIENT_DESCENT_STEPS = .*;  \\/\\/ OPTIMIZE \\[1, 30\\]$/constexpr int GRADIENT_DESCENT_STEPS = 5;  \\/\\/ OPTIMIZE [1, 30]/' -e 's/^constexpr double GRADIENT_DESCENT_STEPS_STEPPING_PROGRESS_RATE = .*;  \\/\\/ OPTIMIZE \\[0\\.0, 1\\.0\\]$/constexpr double GRADIENT_DESCENT_STEPS_STEPPING_PROGRESS_RATE = 0.6646823203167569;  \\/\\/ OPTIMIZE [0.0, 1.0]/' -e 's/^constexpr double LINE_LENGTH_LOSS_STEPPING_PROGRESS_RATE = .*;  \\/\\/ OPTIMIZE \\[0\\.0, 1\\.0\\]$/constexpr double LINE_LENGTH_LOSS_STEPPING_PROGRESS_RATE = 0.45937752322643466;  \\/\\/ OPTIMIZE [0.0, 1.0]/' -e 's/^constexpr double  LINE_LENGTH_LOSS_WEIGHT = .*;  \\/\\/ OPTIMIZE \\[1e-8, 1e-4\\] LOG$/constexpr double  LINE_LENGTH_LOSS_WEIGHT = 5.6469955970788876e-05;  \\/\\/ OPTIMIZE [1e-8, 1e-4] LOG/' -e 's/^constexpr int N_RANDOM_FACE_CHOICE = .*;  \\/\\/ OPTIMIZE \\[1, 10\\]$/constexpr int N_RANDOM_FACE_CHOICE = 2;  \\/\\/ OPTIMIZE [1, 10]/' -e 's/^std::string hoge=.*; \\/\\/OPTIMIZE{\"11\", \"unnn\" ,\"ooo\"}$/std::string hoge=\"unnn\"; \\/\\/OPTIMIZE{\"11\", \"unnn\" ,\"ooo\"}/'\n"
     ]
    },
    {
     "name": "stderr",
     "output_type": "stream",
     "text": [
      "\u001b[32m[I 2021-04-25 09:31:38,989]\u001b[0m Trial 7 finished with value: 47028590924.0 and parameters: {'ANNEALING_A': -7.069294536778774, 'ANNEALING_B': 0.5765920778552777, 'ANNEALING_END': 0.0016500597991740214, 'ANNEALING_START': 0.1411466672566266, 'GRADIENT_CLIPPING': 0.000163396769605017, 'GRADIENT_DESCENT_LR': 27280091.38776756, 'GRADIENT_DESCENT_MOMENTUM': 0.6101509809004514, 'GRADIENT_DESCENT_STEPS': 1, 'GRADIENT_DESCENT_STEPS_STEPPING_PROGRESS_RATE': 0.7090078096730456, 'LINE_LENGTH_LOSS_STEPPING_PROGRESS_RATE': 0.6221460069067171, 'LINE_LENGTH_LOSS_WEIGHT': 2.7183927147119438e-05, 'N_RANDOM_FACE_CHOICE': 8, 'hoge': '\"11\"'}. Best is trial 6 with value: 48485435847.0.\u001b[0m\n"
     ]
    },
    {
     "name": "stdout",
     "output_type": "stream",
     "text": [
      "g++ 8_answer.cpp -std=gnu++17 -O2 -DONLINE_JUDGE -o 8_answer.cpp.out\n",
      "callback ok\n",
      "index_parallel=9\n",
      "rm: cannot remove '9_out/*': No such file or directory\n",
      "rm: cannot remove '9_score/*': No such file or directory\n",
      "sed -i 9_answer.cpp -e 's/^constexpr double ANNEALING_A = .*;  \\/\\/ OPTIMIZE \\[-10\\.0, 0\\.0\\]$/constexpr double ANNEALING_A = -7.196140660715445;  \\/\\/ OPTIMIZE [-10.0, 0.0]/' -e 's/^constexpr double ANNEALING_B = .*;  \\/\\/ OPTIMIZE \\[0\\.0, 7\\.0\\]$/constexpr double ANNEALING_B = 2.8663459871038084;  \\/\\/ OPTIMIZE [0.0, 7.0]/' -e 's/^constexpr double ANNEALING_END = .*;  \\/\\/ OPTIMIZE \\[1e-4, 0\\.005\\] LOG$/constexpr double ANNEALING_END = 0.0035963051908820373;  \\/\\/ OPTIMIZE [1e-4, 0.005] LOG/' -e 's/^constexpr double ANNEALING_START = .*;  \\/\\/ OPTIMIZE \\[0\\.001, 0\\.5\\] LOG$/constexpr double ANNEALING_START = 0.14036023537360587;  \\/\\/ OPTIMIZE [0.001, 0.5] LOG/' -e 's/^constexpr double GRADIENT_CLIPPING = .*;  \\/\\/ OPTIMIZE \\[1e-7, 2e-4\\] LOG$/constexpr double GRADIENT_CLIPPING = 7.508255981687119e-05;  \\/\\/ OPTIMIZE [1e-7, 2e-4] LOG/' -e 's/^constexpr double GRADIENT_DESCENT_LR = .*;  \\/\\/ OPTIMIZE \\[100000\\.0, 50000000\\.0\\] LOG$/constexpr double GRADIENT_DESCENT_LR = 12046531.197803022;  \\/\\/ OPTIMIZE [100000.0, 50000000.0] LOG/' -e 's/^constexpr double GRADIENT_DESCENT_MOMENTUM = .*;  \\/\\/ OPTIMIZE \\[0\\.0, 1\\.0\\]$/constexpr double GRADIENT_DESCENT_MOMENTUM = 0.9780773508532273;  \\/\\/ OPTIMIZE [0.0, 1.0]/' -e 's/^constexpr int GRADIENT_DESCENT_STEPS = .*;  \\/\\/ OPTIMIZE \\[1, 30\\]$/constexpr int GRADIENT_DESCENT_STEPS = 26;  \\/\\/ OPTIMIZE [1, 30]/' -e 's/^constexpr double GRADIENT_DESCENT_STEPS_STEPPING_PROGRESS_RATE = .*;  \\/\\/ OPTIMIZE \\[0\\.0, 1\\.0\\]$/constexpr double GRADIENT_DESCENT_STEPS_STEPPING_PROGRESS_RATE = 0.22805766848322706;  \\/\\/ OPTIMIZE [0.0, 1.0]/' -e 's/^constexpr double LINE_LENGTH_LOSS_STEPPING_PROGRESS_RATE = .*;  \\/\\/ OPTIMIZE \\[0\\.0, 1\\.0\\]$/constexpr double LINE_LENGTH_LOSS_STEPPING_PROGRESS_RATE = 0.3227115046265434;  \\/\\/ OPTIMIZE [0.0, 1.0]/' -e 's/^constexpr double  LINE_LENGTH_LOSS_WEIGHT = .*;  \\/\\/ OPTIMIZE \\[1e-8, 1e-4\\] LOG$/constexpr double  LINE_LENGTH_LOSS_WEIGHT = 6.070648982230877e-05;  \\/\\/ OPTIMIZE [1e-8, 1e-4] LOG/' -e 's/^constexpr int N_RANDOM_FACE_CHOICE = .*;  \\/\\/ OPTIMIZE \\[1, 10\\]$/constexpr int N_RANDOM_FACE_CHOICE = 2;  \\/\\/ OPTIMIZE [1, 10]/' -e 's/^std::string hoge=.*; \\/\\/OPTIMIZE{\"11\", \"unnn\" ,\"ooo\"}$/std::string hoge=\"unnn\"; \\/\\/OPTIMIZE{\"11\", \"unnn\" ,\"ooo\"}/'\n",
      "g++ 9_answer.cpp -std=gnu++17 -O2 -DONLINE_JUDGE -o 9_answer.cpp.out\n"
     ]
    },
    {
     "name": "stderr",
     "output_type": "stream",
     "text": [
      "\u001b[32m[I 2021-04-25 09:32:54,423]\u001b[0m Trial 8 finished with value: 45898927956.0 and parameters: {'ANNEALING_A': -1.695627733232568, 'ANNEALING_B': 5.921669526185888, 'ANNEALING_END': 0.004127700565590024, 'ANNEALING_START': 0.09879746915991572, 'GRADIENT_CLIPPING': 3.452832137596631e-05, 'GRADIENT_DESCENT_LR': 12966457.624464266, 'GRADIENT_DESCENT_MOMENTUM': 0.6527759253593505, 'GRADIENT_DESCENT_STEPS': 5, 'GRADIENT_DESCENT_STEPS_STEPPING_PROGRESS_RATE': 0.6646823203167569, 'LINE_LENGTH_LOSS_STEPPING_PROGRESS_RATE': 0.45937752322643466, 'LINE_LENGTH_LOSS_WEIGHT': 5.6469955970788876e-05, 'N_RANDOM_FACE_CHOICE': 2, 'hoge': '\"unnn\"'}. Best is trial 6 with value: 48485435847.0.\u001b[0m\n"
     ]
    },
    {
     "name": "stdout",
     "output_type": "stream",
     "text": [
      "callback ok\n",
      "index_parallel=10\n",
      "rm: cannot remove '10_out/*': No such file or directory\n",
      "rm: cannot remove '10_score/*': No such file or directory\n",
      "sed -i 10_answer.cpp -e 's/^constexpr double ANNEALING_A = .*;  \\/\\/ OPTIMIZE \\[-10\\.0, 0\\.0\\]$/constexpr double ANNEALING_A = -7.904828346409132;  \\/\\/ OPTIMIZE [-10.0, 0.0]/' -e 's/^constexpr double ANNEALING_B = .*;  \\/\\/ OPTIMIZE \\[0\\.0, 7\\.0\\]$/constexpr double ANNEALING_B = 1.0158534426457155;  \\/\\/ OPTIMIZE [0.0, 7.0]/' -e 's/^constexpr double ANNEALING_END = .*;  \\/\\/ OPTIMIZE \\[1e-4, 0\\.005\\] LOG$/constexpr double ANNEALING_END = 0.0013169823348428119;  \\/\\/ OPTIMIZE [1e-4, 0.005] LOG/' -e 's/^constexpr double ANNEALING_START = .*;  \\/\\/ OPTIMIZE \\[0\\.001, 0\\.5\\] LOG$/constexpr double ANNEALING_START = 0.1225813078315626;  \\/\\/ OPTIMIZE [0.001, 0.5] LOG/' -e 's/^constexpr double GRADIENT_CLIPPING = .*;  \\/\\/ OPTIMIZE \\[1e-7, 2e-4\\] LOG$/constexpr double GRADIENT_CLIPPING = 3.2198140115173904e-05;  \\/\\/ OPTIMIZE [1e-7, 2e-4] LOG/' -e 's/^constexpr double GRADIENT_DESCENT_LR = .*;  \\/\\/ OPTIMIZE \\[100000\\.0, 50000000\\.0\\] LOG$/constexpr double GRADIENT_DESCENT_LR = 12333255.126348559;  \\/\\/ OPTIMIZE [100000.0, 50000000.0] LOG/' -e 's/^constexpr double GRADIENT_DESCENT_MOMENTUM = .*;  \\/\\/ OPTIMIZE \\[0\\.0, 1\\.0\\]$/constexpr double GRADIENT_DESCENT_MOMENTUM = 0.5383119744789536;  \\/\\/ OPTIMIZE [0.0, 1.0]/' -e 's/^constexpr int GRADIENT_DESCENT_STEPS = .*;  \\/\\/ OPTIMIZE \\[1, 30\\]$/constexpr int GRADIENT_DESCENT_STEPS = 30;  \\/\\/ OPTIMIZE [1, 30]/' -e 's/^constexpr double GRADIENT_DESCENT_STEPS_STEPPING_PROGRESS_RATE = .*;  \\/\\/ OPTIMIZE \\[0\\.0, 1\\.0\\]$/constexpr double GRADIENT_DESCENT_STEPS_STEPPING_PROGRESS_RATE = 0.9351416532421497;  \\/\\/ OPTIMIZE [0.0, 1.0]/' -e 's/^constexpr double LINE_LENGTH_LOSS_STEPPING_PROGRESS_RATE = .*;  \\/\\/ OPTIMIZE \\[0\\.0, 1\\.0\\]$/constexpr double LINE_LENGTH_LOSS_STEPPING_PROGRESS_RATE = 0.09080938253105375;  \\/\\/ OPTIMIZE [0.0, 1.0]/' -e 's/^constexpr double  LINE_LENGTH_LOSS_WEIGHT = .*;  \\/\\/ OPTIMIZE \\[1e-8, 1e-4\\] LOG$/constexpr double  LINE_LENGTH_LOSS_WEIGHT = 9.739566719070859e-05;  \\/\\/ OPTIMIZE [1e-8, 1e-4] LOG/' -e 's/^constexpr int N_RANDOM_FACE_CHOICE = .*;  \\/\\/ OPTIMIZE \\[1, 10\\]$/constexpr int N_RANDOM_FACE_CHOICE = 1;  \\/\\/ OPTIMIZE [1, 10]/' -e 's/^std::string hoge=.*; \\/\\/OPTIMIZE{\"11\", \"unnn\" ,\"ooo\"}$/std::string hoge=\"ooo\"; \\/\\/OPTIMIZE{\"11\", \"unnn\" ,\"ooo\"}/'\n",
      "g++ 10_answer.cpp -std=gnu++17 -O2 -DONLINE_JUDGE -o 10_answer.cpp.out\n"
     ]
    },
    {
     "name": "stderr",
     "output_type": "stream",
     "text": [
      "\u001b[32m[I 2021-04-25 09:32:56,738]\u001b[0m Trial 9 finished with value: 47875769326.0 and parameters: {'ANNEALING_A': -7.196140660715445, 'ANNEALING_B': 2.8663459871038084, 'ANNEALING_END': 0.0035963051908820373, 'ANNEALING_START': 0.14036023537360587, 'GRADIENT_CLIPPING': 7.508255981687119e-05, 'GRADIENT_DESCENT_LR': 12046531.197803022, 'GRADIENT_DESCENT_MOMENTUM': 0.9780773508532273, 'GRADIENT_DESCENT_STEPS': 26, 'GRADIENT_DESCENT_STEPS_STEPPING_PROGRESS_RATE': 0.22805766848322706, 'LINE_LENGTH_LOSS_STEPPING_PROGRESS_RATE': 0.3227115046265434, 'LINE_LENGTH_LOSS_WEIGHT': 6.070648982230877e-05, 'N_RANDOM_FACE_CHOICE': 2, 'hoge': '\"unnn\"'}. Best is trial 6 with value: 48485435847.0.\u001b[0m\n"
     ]
    },
    {
     "name": "stdout",
     "output_type": "stream",
     "text": [
      "callback ok\n",
      "index_parallel=11\n",
      "rm: cannot remove '11_out/*': No such file or directory\n",
      "rm: cannot remove '11_score/*': No such file or directory\n",
      "sed -i 11_answer.cpp -e 's/^constexpr double ANNEALING_A = .*;  \\/\\/ OPTIMIZE \\[-10\\.0, 0\\.0\\]$/constexpr double ANNEALING_A = -3.757223885596126;  \\/\\/ OPTIMIZE [-10.0, 0.0]/' -e 's/^constexpr double ANNEALING_B = .*;  \\/\\/ OPTIMIZE \\[0\\.0, 7\\.0\\]$/constexpr double ANNEALING_B = 1.959386418225532;  \\/\\/ OPTIMIZE [0.0, 7.0]/' -e 's/^constexpr double ANNEALING_END = .*;  \\/\\/ OPTIMIZE \\[1e-4, 0\\.005\\] LOG$/constexpr double ANNEALING_END = 0.0002480477713196873;  \\/\\/ OPTIMIZE [1e-4, 0.005] LOG/' -e 's/^constexpr double ANNEALING_START = .*;  \\/\\/ OPTIMIZE \\[0\\.001, 0\\.5\\] LOG$/constexpr double ANNEALING_START = 0.24204849703021453;  \\/\\/ OPTIMIZE [0.001, 0.5] LOG/' -e 's/^constexpr double GRADIENT_CLIPPING = .*;  \\/\\/ OPTIMIZE \\[1e-7, 2e-4\\] LOG$/constexpr double GRADIENT_CLIPPING = 5.995352875292635e-06;  \\/\\/ OPTIMIZE [1e-7, 2e-4] LOG/' -e 's/^constexpr double GRADIENT_DESCENT_LR = .*;  \\/\\/ OPTIMIZE \\[100000\\.0, 50000000\\.0\\] LOG$/constexpr double GRADIENT_DESCENT_LR = 720890.6056090556;  \\/\\/ OPTIMIZE [100000.0, 50000000.0] LOG/' -e 's/^constexpr double GRADIENT_DESCENT_MOMENTUM = .*;  \\/\\/ OPTIMIZE \\[0\\.0, 1\\.0\\]$/constexpr double GRADIENT_DESCENT_MOMENTUM = 0.2692516460395207;  \\/\\/ OPTIMIZE [0.0, 1.0]/' -e 's/^constexpr int GRADIENT_DESCENT_STEPS = .*;  \\/\\/ OPTIMIZE \\[1, 30\\]$/constexpr int GRADIENT_DESCENT_STEPS = 30;  \\/\\/ OPTIMIZE [1, 30]/' -e 's/^constexpr double GRADIENT_DESCENT_STEPS_STEPPING_PROGRESS_RATE = .*;  \\/\\/ OPTIMIZE \\[0\\.0, 1\\.0\\]$/constexpr double GRADIENT_DESCENT_STEPS_STEPPING_PROGRESS_RATE = 0.9559797747734003;  \\/\\/ OPTIMIZE [0.0, 1.0]/' -e 's/^constexpr double LINE_LENGTH_LOSS_STEPPING_PROGRESS_RATE = .*;  \\/\\/ OPTIMIZE \\[0\\.0, 1\\.0\\]$/constexpr double LINE_LENGTH_LOSS_STEPPING_PROGRESS_RATE = 0.007146350655746314;  \\/\\/ OPTIMIZE [0.0, 1.0]/' -e 's/^constexpr double  LINE_LENGTH_LOSS_WEIGHT = .*;  \\/\\/ OPTIMIZE \\[1e-8, 1e-4\\] LOG$/constexpr double  LINE_LENGTH_LOSS_WEIGHT = 7.195665704748462e-07;  \\/\\/ OPTIMIZE [1e-8, 1e-4] LOG/' -e 's/^constexpr int N_RANDOM_FACE_CHOICE = .*;  \\/\\/ OPTIMIZE \\[1, 10\\]$/constexpr int N_RANDOM_FACE_CHOICE = 10;  \\/\\/ OPTIMIZE [1, 10]/' -e 's/^std::string hoge=.*; \\/\\/OPTIMIZE{\"11\", \"unnn\" ,\"ooo\"}$/std::string hoge=\"11\"; \\/\\/OPTIMIZE{\"11\", \"unnn\" ,\"ooo\"}/'\n",
      "g++ 11_answer.cpp -std=gnu++17 -O2 -DONLINE_JUDGE -o 11_answer.cpp.out\n"
     ]
    },
    {
     "name": "stderr",
     "output_type": "stream",
     "text": [
      "\u001b[32m[I 2021-04-25 09:34:12,478]\u001b[0m Trial 10 finished with value: 48593941593.0 and parameters: {'ANNEALING_A': -7.904828346409132, 'ANNEALING_B': 1.0158534426457155, 'ANNEALING_END': 0.0013169823348428119, 'ANNEALING_START': 0.1225813078315626, 'GRADIENT_CLIPPING': 3.2198140115173904e-05, 'GRADIENT_DESCENT_LR': 12333255.126348559, 'GRADIENT_DESCENT_MOMENTUM': 0.5383119744789536, 'GRADIENT_DESCENT_STEPS': 30, 'GRADIENT_DESCENT_STEPS_STEPPING_PROGRESS_RATE': 0.9351416532421497, 'LINE_LENGTH_LOSS_STEPPING_PROGRESS_RATE': 0.09080938253105375, 'LINE_LENGTH_LOSS_WEIGHT': 9.739566719070859e-05, 'N_RANDOM_FACE_CHOICE': 1, 'hoge': '\"ooo\"'}. Best is trial 10 with value: 48593941593.0.\u001b[0m\n"
     ]
    },
    {
     "name": "stdout",
     "output_type": "stream",
     "text": [
      "Updated! 48593941593.0 -> 48593941593.0\n",
      "callback ok\n",
      "index_parallel=12\n",
      "rm: cannot remove '12_out/*': No such file or directory\n",
      "rm: cannot remove '12_score/*': No such file or directory\n",
      "sed -i 12_answer.cpp -e 's/^constexpr double ANNEALING_A = .*;  \\/\\/ OPTIMIZE \\[-10\\.0, 0\\.0\\]$/constexpr double ANNEALING_A = -9.768600557242658;  \\/\\/ OPTIMIZE [-10.0, 0.0]/' -e 's/^constexpr double ANNEALING_B = .*;  \\/\\/ OPTIMIZE \\[0\\.0, 7\\.0\\]$/constexpr double ANNEALING_B = 1.817193838883804;  \\/\\/ OPTIMIZE [0.0, 7.0]/' -e 's/^constexpr double ANNEALING_END = .*;  \\/\\/ OPTIMIZE \\[1e-4, 0\\.005\\] LOG$/constexpr double ANNEALING_END = 0.00019559901442543054;  \\/\\/ OPTIMIZE [1e-4, 0.005] LOG/' -e 's/^constexpr double ANNEALING_START = .*;  \\/\\/ OPTIMIZE \\[0\\.001, 0\\.5\\] LOG$/constexpr double ANNEALING_START = 0.22661132668012923;  \\/\\/ OPTIMIZE [0.001, 0.5] LOG/' -e 's/^constexpr double GRADIENT_CLIPPING = .*;  \\/\\/ OPTIMIZE \\[1e-7, 2e-4\\] LOG$/constexpr double GRADIENT_CLIPPING = 2.056170981136227e-06;  \\/\\/ OPTIMIZE [1e-7, 2e-4] LOG/' -e 's/^constexpr double GRADIENT_DESCENT_LR = .*;  \\/\\/ OPTIMIZE \\[100000\\.0, 50000000\\.0\\] LOG$/constexpr double GRADIENT_DESCENT_LR = 937499.5713244379;  \\/\\/ OPTIMIZE [100000.0, 50000000.0] LOG/' -e 's/^constexpr double GRADIENT_DESCENT_MOMENTUM = .*;  \\/\\/ OPTIMIZE \\[0\\.0, 1\\.0\\]$/constexpr double GRADIENT_DESCENT_MOMENTUM = 0.3234829485262906;  \\/\\/ OPTIMIZE [0.0, 1.0]/' -e 's/^constexpr int GRADIENT_DESCENT_STEPS = .*;  \\/\\/ OPTIMIZE \\[1, 30\\]$/constexpr int GRADIENT_DESCENT_STEPS = 30;  \\/\\/ OPTIMIZE [1, 30]/' -e 's/^constexpr double GRADIENT_DESCENT_STEPS_STEPPING_PROGRESS_RATE = .*;  \\/\\/ OPTIMIZE \\[0\\.0, 1\\.0\\]$/constexpr double GRADIENT_DESCENT_STEPS_STEPPING_PROGRESS_RATE = 0.9126912921334078;  \\/\\/ OPTIMIZE [0.0, 1.0]/' -e 's/^constexpr double LINE_LENGTH_LOSS_STEPPING_PROGRESS_RATE = .*;  \\/\\/ OPTIMIZE \\[0\\.0, 1\\.0\\]$/constexpr double LINE_LENGTH_LOSS_STEPPING_PROGRESS_RATE = 0.03035978775670236;  \\/\\/ OPTIMIZE [0.0, 1.0]/' -e 's/^constexpr double  LINE_LENGTH_LOSS_WEIGHT = .*;  \\/\\/ OPTIMIZE \\[1e-8, 1e-4\\] LOG$/constexpr double  LINE_LENGTH_LOSS_WEIGHT = 9.507101971282549e-07;  \\/\\/ OPTIMIZE [1e-8, 1e-4] LOG/' -e 's/^constexpr int N_RANDOM_FACE_CHOICE = .*;  \\/\\/ OPTIMIZE \\[1, 10\\]$/constexpr int N_RANDOM_FACE_CHOICE = 10;  \\/\\/ OPTIMIZE [1, 10]/' -e 's/^std::string hoge=.*; \\/\\/OPTIMIZE{\"11\", \"unnn\" ,\"ooo\"}$/std::string hoge=\"ooo\"; \\/\\/OPTIMIZE{\"11\", \"unnn\" ,\"ooo\"}/'\n",
      "g++ 12_answer.cpp -std=gnu++17 -O2 -DONLINE_JUDGE -o 12_answer.cpp.out\n"
     ]
    },
    {
     "name": "stderr",
     "output_type": "stream",
     "text": [
      "\u001b[32m[I 2021-04-25 09:34:14,385]\u001b[0m Trial 11 finished with value: 48486945813.0 and parameters: {'ANNEALING_A': -3.757223885596126, 'ANNEALING_B': 1.959386418225532, 'ANNEALING_END': 0.0002480477713196873, 'ANNEALING_START': 0.24204849703021453, 'GRADIENT_CLIPPING': 5.995352875292635e-06, 'GRADIENT_DESCENT_LR': 720890.6056090556, 'GRADIENT_DESCENT_MOMENTUM': 0.2692516460395207, 'GRADIENT_DESCENT_STEPS': 30, 'GRADIENT_DESCENT_STEPS_STEPPING_PROGRESS_RATE': 0.9559797747734003, 'LINE_LENGTH_LOSS_STEPPING_PROGRESS_RATE': 0.007146350655746314, 'LINE_LENGTH_LOSS_WEIGHT': 7.195665704748462e-07, 'N_RANDOM_FACE_CHOICE': 10, 'hoge': '\"11\"'}. Best is trial 10 with value: 48593941593.0.\u001b[0m\n"
     ]
    },
    {
     "name": "stdout",
     "output_type": "stream",
     "text": [
      "callback ok\n",
      "index_parallel=13\n",
      "rm: cannot remove '13_out/*': No such file or directory\n",
      "rm: cannot remove '13_score/*': No such file or directory\n",
      "sed -i 13_answer.cpp -e 's/^constexpr double ANNEALING_A = .*;  \\/\\/ OPTIMIZE \\[-10\\.0, 0\\.0\\]$/constexpr double ANNEALING_A = -9.665348403137543;  \\/\\/ OPTIMIZE [-10.0, 0.0]/' -e 's/^constexpr double ANNEALING_B = .*;  \\/\\/ OPTIMIZE \\[0\\.0, 7\\.0\\]$/constexpr double ANNEALING_B = 1.8747124734953136;  \\/\\/ OPTIMIZE [0.0, 7.0]/' -e 's/^constexpr double ANNEALING_END = .*;  \\/\\/ OPTIMIZE \\[1e-4, 0\\.005\\] LOG$/constexpr double ANNEALING_END = 0.0011743891055072992;  \\/\\/ OPTIMIZE [1e-4, 0.005] LOG/' -e 's/^constexpr double ANNEALING_START = .*;  \\/\\/ OPTIMIZE \\[0\\.001, 0\\.5\\] LOG$/constexpr double ANNEALING_START = 0.25386721153179725;  \\/\\/ OPTIMIZE [0.001, 0.5] LOG/' -e 's/^constexpr double GRADIENT_CLIPPING = .*;  \\/\\/ OPTIMIZE \\[1e-7, 2e-4\\] LOG$/constexpr double GRADIENT_CLIPPING = 5.404094019576928e-05;  \\/\\/ OPTIMIZE [1e-7, 2e-4] LOG/' -e 's/^constexpr double GRADIENT_DESCENT_LR = .*;  \\/\\/ OPTIMIZE \\[100000\\.0, 50000000\\.0\\] LOG$/constexpr double GRADIENT_DESCENT_LR = 3519123.7496940307;  \\/\\/ OPTIMIZE [100000.0, 50000000.0] LOG/' -e 's/^constexpr double GRADIENT_DESCENT_MOMENTUM = .*;  \\/\\/ OPTIMIZE \\[0\\.0, 1\\.0\\]$/constexpr double GRADIENT_DESCENT_MOMENTUM = 0.28085509957776117;  \\/\\/ OPTIMIZE [0.0, 1.0]/' -e 's/^constexpr int GRADIENT_DESCENT_STEPS = .*;  \\/\\/ OPTIMIZE \\[1, 30\\]$/constexpr int GRADIENT_DESCENT_STEPS = 29;  \\/\\/ OPTIMIZE [1, 30]/' -e 's/^constexpr double GRADIENT_DESCENT_STEPS_STEPPING_PROGRESS_RATE = .*;  \\/\\/ OPTIMIZE \\[0\\.0, 1\\.0\\]$/constexpr double GRADIENT_DESCENT_STEPS_STEPPING_PROGRESS_RATE = 0.994704600712483;  \\/\\/ OPTIMIZE [0.0, 1.0]/' -e 's/^constexpr double LINE_LENGTH_LOSS_STEPPING_PROGRESS_RATE = .*;  \\/\\/ OPTIMIZE \\[0\\.0, 1\\.0\\]$/constexpr double LINE_LENGTH_LOSS_STEPPING_PROGRESS_RATE = 0.007008194211382811;  \\/\\/ OPTIMIZE [0.0, 1.0]/' -e 's/^constexpr double  LINE_LENGTH_LOSS_WEIGHT = .*;  \\/\\/ OPTIMIZE \\[1e-8, 1e-4\\] LOG$/constexpr double  LINE_LENGTH_LOSS_WEIGHT = 7.195860431702021e-07;  \\/\\/ OPTIMIZE [1e-8, 1e-4] LOG/' -e 's/^constexpr int N_RANDOM_FACE_CHOICE = .*;  \\/\\/ OPTIMIZE \\[1, 10\\]$/constexpr int N_RANDOM_FACE_CHOICE = 9;  \\/\\/ OPTIMIZE [1, 10]/' -e 's/^std::string hoge=.*; \\/\\/OPTIMIZE{\"11\", \"unnn\" ,\"ooo\"}$/std::string hoge=\"ooo\"; \\/\\/OPTIMIZE{\"11\", \"unnn\" ,\"ooo\"}/'\n",
      "g++ 13_answer.cpp -std=gnu++17 -O2 -DONLINE_JUDGE -o 13_answer.cpp.out\n"
     ]
    },
    {
     "name": "stderr",
     "output_type": "stream",
     "text": [
      "\u001b[32m[I 2021-04-25 09:35:29,726]\u001b[0m Trial 12 finished with value: 48789844148.0 and parameters: {'ANNEALING_A': -9.768600557242658, 'ANNEALING_B': 1.817193838883804, 'ANNEALING_END': 0.00019559901442543054, 'ANNEALING_START': 0.22661132668012923, 'GRADIENT_CLIPPING': 2.056170981136227e-06, 'GRADIENT_DESCENT_LR': 937499.5713244379, 'GRADIENT_DESCENT_MOMENTUM': 0.3234829485262906, 'GRADIENT_DESCENT_STEPS': 30, 'GRADIENT_DESCENT_STEPS_STEPPING_PROGRESS_RATE': 0.9126912921334078, 'LINE_LENGTH_LOSS_STEPPING_PROGRESS_RATE': 0.03035978775670236, 'LINE_LENGTH_LOSS_WEIGHT': 9.507101971282549e-07, 'N_RANDOM_FACE_CHOICE': 10, 'hoge': '\"ooo\"'}. Best is trial 12 with value: 48789844148.0.\u001b[0m\n"
     ]
    },
    {
     "name": "stdout",
     "output_type": "stream",
     "text": [
      "Updated! 48789844148.0 -> 48789844148.0\n",
      "callback ok\n",
      "index_parallel=14\n",
      "rm: cannot remove '14_out/*': No such file or directory\n",
      "rm: cannot remove '14_score/*': No such file or directory\n",
      "sed -i 14_answer.cpp -e 's/^constexpr double ANNEALING_A = .*;  \\/\\/ OPTIMIZE \\[-10\\.0, 0\\.0\\]$/constexpr double ANNEALING_A = -9.617850548222334;  \\/\\/ OPTIMIZE [-10.0, 0.0]/' -e 's/^constexpr double ANNEALING_B = .*;  \\/\\/ OPTIMIZE \\[0\\.0, 7\\.0\\]$/constexpr double ANNEALING_B = 3.9647752567188155;  \\/\\/ OPTIMIZE [0.0, 7.0]/' -e 's/^constexpr double ANNEALING_END = .*;  \\/\\/ OPTIMIZE \\[1e-4, 0\\.005\\] LOG$/constexpr double ANNEALING_END = 0.001394142320002781;  \\/\\/ OPTIMIZE [1e-4, 0.005] LOG/' -e 's/^constexpr double ANNEALING_START = .*;  \\/\\/ OPTIMIZE \\[0\\.001, 0\\.5\\] LOG$/constexpr double ANNEALING_START = 0.3028333228456048;  \\/\\/ OPTIMIZE [0.001, 0.5] LOG/' -e 's/^constexpr double GRADIENT_CLIPPING = .*;  \\/\\/ OPTIMIZE \\[1e-7, 2e-4\\] LOG$/constexpr double GRADIENT_CLIPPING = 5.556756263657168e-05;  \\/\\/ OPTIMIZE [1e-7, 2e-4] LOG/' -e 's/^constexpr double GRADIENT_DESCENT_LR = .*;  \\/\\/ OPTIMIZE \\[100000\\.0, 50000000\\.0\\] LOG$/constexpr double GRADIENT_DESCENT_LR = 5424223.291392336;  \\/\\/ OPTIMIZE [100000.0, 50000000.0] LOG/' -e 's/^constexpr double GRADIENT_DESCENT_MOMENTUM = .*;  \\/\\/ OPTIMIZE \\[0\\.0, 1\\.0\\]$/constexpr double GRADIENT_DESCENT_MOMENTUM = 0.8137247190267701;  \\/\\/ OPTIMIZE [0.0, 1.0]/' -e 's/^constexpr int GRADIENT_DESCENT_STEPS = .*;  \\/\\/ OPTIMIZE \\[1, 30\\]$/constexpr int GRADIENT_DESCENT_STEPS = 24;  \\/\\/ OPTIMIZE [1, 30]/' -e 's/^constexpr double GRADIENT_DESCENT_STEPS_STEPPING_PROGRESS_RATE = .*;  \\/\\/ OPTIMIZE \\[0\\.0, 1\\.0\\]$/constexpr double GRADIENT_DESCENT_STEPS_STEPPING_PROGRESS_RATE = 0.8350051097522228;  \\/\\/ OPTIMIZE [0.0, 1.0]/' -e 's/^constexpr double LINE_LENGTH_LOSS_STEPPING_PROGRESS_RATE = .*;  \\/\\/ OPTIMIZE \\[0\\.0, 1\\.0\\]$/constexpr double LINE_LENGTH_LOSS_STEPPING_PROGRESS_RATE = 0.09941843018397017;  \\/\\/ OPTIMIZE [0.0, 1.0]/' -e 's/^constexpr double  LINE_LENGTH_LOSS_WEIGHT = .*;  \\/\\/ OPTIMIZE \\[1e-8, 1e-4\\] LOG$/constexpr double  LINE_LENGTH_LOSS_WEIGHT = 3.8111937805205144e-06;  \\/\\/ OPTIMIZE [1e-8, 1e-4] LOG/' -e 's/^constexpr int N_RANDOM_FACE_CHOICE = .*;  \\/\\/ OPTIMIZE \\[1, 10\\]$/constexpr int N_RANDOM_FACE_CHOICE = 10;  \\/\\/ OPTIMIZE [1, 10]/' -e 's/^std::string hoge=.*; \\/\\/OPTIMIZE{\"11\", \"unnn\" ,\"ooo\"}$/std::string hoge=\"ooo\"; \\/\\/OPTIMIZE{\"11\", \"unnn\" ,\"ooo\"}/'\n",
      "g++ 14_answer.cpp -std=gnu++17 -O2 -DONLINE_JUDGE -o 14_answer.cpp.out\n"
     ]
    },
    {
     "name": "stderr",
     "output_type": "stream",
     "text": [
      "\u001b[32m[I 2021-04-25 09:35:32,158]\u001b[0m Trial 13 finished with value: 49079458860.0 and parameters: {'ANNEALING_A': -9.665348403137543, 'ANNEALING_B': 1.8747124734953136, 'ANNEALING_END': 0.0011743891055072992, 'ANNEALING_START': 0.25386721153179725, 'GRADIENT_CLIPPING': 5.404094019576928e-05, 'GRADIENT_DESCENT_LR': 3519123.7496940307, 'GRADIENT_DESCENT_MOMENTUM': 0.28085509957776117, 'GRADIENT_DESCENT_STEPS': 29, 'GRADIENT_DESCENT_STEPS_STEPPING_PROGRESS_RATE': 0.994704600712483, 'LINE_LENGTH_LOSS_STEPPING_PROGRESS_RATE': 0.007008194211382811, 'LINE_LENGTH_LOSS_WEIGHT': 7.195860431702021e-07, 'N_RANDOM_FACE_CHOICE': 9, 'hoge': '\"ooo\"'}. Best is trial 13 with value: 49079458860.0.\u001b[0m\n"
     ]
    },
    {
     "name": "stdout",
     "output_type": "stream",
     "text": [
      "Updated! 49079458860.0 -> 49079458860.0\n",
      "callback ok\n",
      "index_parallel=15\n",
      "rm: cannot remove '15_out/*': No such file or directory\n",
      "rm: cannot remove '15_score/*': No such file or directory\n",
      "sed -i 15_answer.cpp -e 's/^constexpr double ANNEALING_A = .*;  \\/\\/ OPTIMIZE \\[-10\\.0, 0\\.0\\]$/constexpr double ANNEALING_A = -9.944924400818945;  \\/\\/ OPTIMIZE [-10.0, 0.0]/' -e 's/^constexpr double ANNEALING_B = .*;  \\/\\/ OPTIMIZE \\[0\\.0, 7\\.0\\]$/constexpr double ANNEALING_B = 4.4995241966485535;  \\/\\/ OPTIMIZE [0.0, 7.0]/' -e 's/^constexpr double ANNEALING_END = .*;  \\/\\/ OPTIMIZE \\[1e-4, 0\\.005\\] LOG$/constexpr double ANNEALING_END = 0.0009147112433401987;  \\/\\/ OPTIMIZE [1e-4, 0.005] LOG/' -e 's/^constexpr double ANNEALING_START = .*;  \\/\\/ OPTIMIZE \\[0\\.001, 0\\.5\\] LOG$/constexpr double ANNEALING_START = 0.31691700974875775;  \\/\\/ OPTIMIZE [0.001, 0.5] LOG/' -e 's/^constexpr double GRADIENT_CLIPPING = .*;  \\/\\/ OPTIMIZE \\[1e-7, 2e-4\\] LOG$/constexpr double GRADIENT_CLIPPING = 5.955189154486271e-05;  \\/\\/ OPTIMIZE [1e-7, 2e-4] LOG/' -e 's/^constexpr double GRADIENT_DESCENT_LR = .*;  \\/\\/ OPTIMIZE \\[100000\\.0, 50000000\\.0\\] LOG$/constexpr double GRADIENT_DESCENT_LR = 1437982.814287559;  \\/\\/ OPTIMIZE [100000.0, 50000000.0] LOG/' -e 's/^constexpr double GRADIENT_DESCENT_MOMENTUM = .*;  \\/\\/ OPTIMIZE \\[0\\.0, 1\\.0\\]$/constexpr double GRADIENT_DESCENT_MOMENTUM = 0.06386766899432145;  \\/\\/ OPTIMIZE [0.0, 1.0]/' -e 's/^constexpr int GRADIENT_DESCENT_STEPS = .*;  \\/\\/ OPTIMIZE \\[1, 30\\]$/constexpr int GRADIENT_DESCENT_STEPS = 24;  \\/\\/ OPTIMIZE [1, 30]/' -e 's/^constexpr double GRADIENT_DESCENT_STEPS_STEPPING_PROGRESS_RATE = .*;  \\/\\/ OPTIMIZE \\[0\\.0, 1\\.0\\]$/constexpr double GRADIENT_DESCENT_STEPS_STEPPING_PROGRESS_RATE = 0.8148243855749495;  \\/\\/ OPTIMIZE [0.0, 1.0]/' -e 's/^constexpr double LINE_LENGTH_LOSS_STEPPING_PROGRESS_RATE = .*;  \\/\\/ OPTIMIZE \\[0\\.0, 1\\.0\\]$/constexpr double LINE_LENGTH_LOSS_STEPPING_PROGRESS_RATE = 0.9934926490964265;  \\/\\/ OPTIMIZE [0.0, 1.0]/' -e 's/^constexpr double  LINE_LENGTH_LOSS_WEIGHT = .*;  \\/\\/ OPTIMIZE \\[1e-8, 1e-4\\] LOG$/constexpr double  LINE_LENGTH_LOSS_WEIGHT = 1.0561641748657974e-05;  \\/\\/ OPTIMIZE [1e-8, 1e-4] LOG/' -e 's/^constexpr int N_RANDOM_FACE_CHOICE = .*;  \\/\\/ OPTIMIZE \\[1, 10\\]$/constexpr int N_RANDOM_FACE_CHOICE = 10;  \\/\\/ OPTIMIZE [1, 10]/' -e 's/^std::string hoge=.*; \\/\\/OPTIMIZE{\"11\", \"unnn\" ,\"ooo\"}$/std::string hoge=\"ooo\"; \\/\\/OPTIMIZE{\"11\", \"unnn\" ,\"ooo\"}/'\n",
      "g++ 15_answer.cpp -std=gnu++17 -O2 -DONLINE_JUDGE -o 15_answer.cpp.out\n"
     ]
    },
    {
     "name": "stderr",
     "output_type": "stream",
     "text": [
      "\u001b[32m[I 2021-04-25 09:36:46,962]\u001b[0m Trial 14 finished with value: 49021636468.0 and parameters: {'ANNEALING_A': -9.617850548222334, 'ANNEALING_B': 3.9647752567188155, 'ANNEALING_END': 0.001394142320002781, 'ANNEALING_START': 0.3028333228456048, 'GRADIENT_CLIPPING': 5.556756263657168e-05, 'GRADIENT_DESCENT_LR': 5424223.291392336, 'GRADIENT_DESCENT_MOMENTUM': 0.8137247190267701, 'GRADIENT_DESCENT_STEPS': 24, 'GRADIENT_DESCENT_STEPS_STEPPING_PROGRESS_RATE': 0.8350051097522228, 'LINE_LENGTH_LOSS_STEPPING_PROGRESS_RATE': 0.09941843018397017, 'LINE_LENGTH_LOSS_WEIGHT': 3.8111937805205144e-06, 'N_RANDOM_FACE_CHOICE': 10, 'hoge': '\"ooo\"'}. Best is trial 13 with value: 49079458860.0.\u001b[0m\n"
     ]
    },
    {
     "name": "stdout",
     "output_type": "stream",
     "text": [
      "callback ok\n",
      "index_parallel=16\n",
      "rm: cannot remove '16_out/*': No such file or directory\n",
      "rm: cannot remove '16_score/*': No such file or directory\n",
      "sed -i 16_answer.cpp -e 's/^constexpr double ANNEALING_A = .*;  \\/\\/ OPTIMIZE \\[-10\\.0, 0\\.0\\]$/constexpr double ANNEALING_A = -9.833393944280944;  \\/\\/ OPTIMIZE [-10.0, 0.0]/' -e 's/^constexpr double ANNEALING_B = .*;  \\/\\/ OPTIMIZE \\[0\\.0, 7\\.0\\]$/constexpr double ANNEALING_B = 4.372627313702221;  \\/\\/ OPTIMIZE [0.0, 7.0]/' -e 's/^constexpr double ANNEALING_END = .*;  \\/\\/ OPTIMIZE \\[1e-4, 0\\.005\\] LOG$/constexpr double ANNEALING_END = 0.0021785039850571756;  \\/\\/ OPTIMIZE [1e-4, 0.005] LOG/' -e 's/^constexpr double ANNEALING_START = .*;  \\/\\/ OPTIMIZE \\[0\\.001, 0\\.5\\] LOG$/constexpr double ANNEALING_START = 0.33494882202938653;  \\/\\/ OPTIMIZE [0.001, 0.5] LOG/' -e 's/^constexpr double GRADIENT_CLIPPING = .*;  \\/\\/ OPTIMIZE \\[1e-7, 2e-4\\] LOG$/constexpr double GRADIENT_CLIPPING = 5.947388283969244e-05;  \\/\\/ OPTIMIZE [1e-7, 2e-4] LOG/' -e 's/^constexpr double GRADIENT_DESCENT_LR = .*;  \\/\\/ OPTIMIZE \\[100000\\.0, 50000000\\.0\\] LOG$/constexpr double GRADIENT_DESCENT_LR = 6219963.566067475;  \\/\\/ OPTIMIZE [100000.0, 50000000.0] LOG/' -e 's/^constexpr double GRADIENT_DESCENT_MOMENTUM = .*;  \\/\\/ OPTIMIZE \\[0\\.0, 1\\.0\\]$/constexpr double GRADIENT_DESCENT_MOMENTUM = 0.8812989742990459;  \\/\\/ OPTIMIZE [0.0, 1.0]/' -e 's/^constexpr int GRADIENT_DESCENT_STEPS = .*;  \\/\\/ OPTIMIZE \\[1, 30\\]$/constexpr int GRADIENT_DESCENT_STEPS = 23;  \\/\\/ OPTIMIZE [1, 30]/' -e 's/^constexpr double GRADIENT_DESCENT_STEPS_STEPPING_PROGRESS_RATE = .*;  \\/\\/ OPTIMIZE \\[0\\.0, 1\\.0\\]$/constexpr double GRADIENT_DESCENT_STEPS_STEPPING_PROGRESS_RATE = 0.7635675974254363;  \\/\\/ OPTIMIZE [0.0, 1.0]/' -e 's/^constexpr double LINE_LENGTH_LOSS_STEPPING_PROGRESS_RATE = .*;  \\/\\/ OPTIMIZE \\[0\\.0, 1\\.0\\]$/constexpr double LINE_LENGTH_LOSS_STEPPING_PROGRESS_RATE = 0.1573463169579638;  \\/\\/ OPTIMIZE [0.0, 1.0]/' -e 's/^constexpr double  LINE_LENGTH_LOSS_WEIGHT = .*;  \\/\\/ OPTIMIZE \\[1e-8, 1e-4\\] LOG$/constexpr double  LINE_LENGTH_LOSS_WEIGHT = 1.6982073536797746e-05;  \\/\\/ OPTIMIZE [1e-8, 1e-4] LOG/' -e 's/^constexpr int N_RANDOM_FACE_CHOICE = .*;  \\/\\/ OPTIMIZE \\[1, 10\\]$/constexpr int N_RANDOM_FACE_CHOICE = 8;  \\/\\/ OPTIMIZE [1, 10]/' -e 's/^std::string hoge=.*; \\/\\/OPTIMIZE{\"11\", \"unnn\" ,\"ooo\"}$/std::string hoge=\"ooo\"; \\/\\/OPTIMIZE{\"11\", \"unnn\" ,\"ooo\"}/'\n",
      "g++ 16_answer.cpp -std=gnu++17 -O2 -DONLINE_JUDGE -o 16_answer.cpp.out\n"
     ]
    },
    {
     "name": "stderr",
     "output_type": "stream",
     "text": [
      "\u001b[32m[I 2021-04-25 09:36:50,675]\u001b[0m Trial 15 finished with value: 48982062815.0 and parameters: {'ANNEALING_A': -9.944924400818945, 'ANNEALING_B': 4.4995241966485535, 'ANNEALING_END': 0.0009147112433401987, 'ANNEALING_START': 0.31691700974875775, 'GRADIENT_CLIPPING': 5.955189154486271e-05, 'GRADIENT_DESCENT_LR': 1437982.814287559, 'GRADIENT_DESCENT_MOMENTUM': 0.06386766899432145, 'GRADIENT_DESCENT_STEPS': 24, 'GRADIENT_DESCENT_STEPS_STEPPING_PROGRESS_RATE': 0.8148243855749495, 'LINE_LENGTH_LOSS_STEPPING_PROGRESS_RATE': 0.9934926490964265, 'LINE_LENGTH_LOSS_WEIGHT': 1.0561641748657974e-05, 'N_RANDOM_FACE_CHOICE': 10, 'hoge': '\"ooo\"'}. Best is trial 13 with value: 49079458860.0.\u001b[0m\n"
     ]
    },
    {
     "name": "stdout",
     "output_type": "stream",
     "text": [
      "callback ok\n",
      "index_parallel=17\n",
      "rm: cannot remove '17_out/*': No such file or directory\n",
      "rm: cannot remove '17_score/*': No such file or directory\n",
      "sed -i 17_answer.cpp -e 's/^constexpr double ANNEALING_A = .*;  \\/\\/ OPTIMIZE \\[-10\\.0, 0\\.0\\]$/constexpr double ANNEALING_A = -8.901115161235833;  \\/\\/ OPTIMIZE [-10.0, 0.0]/' -e 's/^constexpr double ANNEALING_B = .*;  \\/\\/ OPTIMIZE \\[0\\.0, 7\\.0\\]$/constexpr double ANNEALING_B = 4.040147153387507;  \\/\\/ OPTIMIZE [0.0, 7.0]/' -e 's/^constexpr double ANNEALING_END = .*;  \\/\\/ OPTIMIZE \\[1e-4, 0\\.005\\] LOG$/constexpr double ANNEALING_END = 0.002337670935330703;  \\/\\/ OPTIMIZE [1e-4, 0.005] LOG/' -e 's/^constexpr double ANNEALING_START = .*;  \\/\\/ OPTIMIZE \\[0\\.001, 0\\.5\\] LOG$/constexpr double ANNEALING_START = 0.41012507413505495;  \\/\\/ OPTIMIZE [0.001, 0.5] LOG/' -e 's/^constexpr double GRADIENT_CLIPPING = .*;  \\/\\/ OPTIMIZE \\[1e-7, 2e-4\\] LOG$/constexpr double GRADIENT_CLIPPING = 0.00011012441957618578;  \\/\\/ OPTIMIZE [1e-7, 2e-4] LOG/' -e 's/^constexpr double GRADIENT_DESCENT_LR = .*;  \\/\\/ OPTIMIZE \\[100000\\.0, 50000000\\.0\\] LOG$/constexpr double GRADIENT_DESCENT_LR = 19144202.843681607;  \\/\\/ OPTIMIZE [100000.0, 50000000.0] LOG/' -e 's/^constexpr double GRADIENT_DESCENT_MOMENTUM = .*;  \\/\\/ OPTIMIZE \\[0\\.0, 1\\.0\\]$/constexpr double GRADIENT_DESCENT_MOMENTUM = 0.8196030660981145;  \\/\\/ OPTIMIZE [0.0, 1.0]/' -e 's/^constexpr int GRADIENT_DESCENT_STEPS = .*;  \\/\\/ OPTIMIZE \\[1, 30\\]$/constexpr int GRADIENT_DESCENT_STEPS = 20;  \\/\\/ OPTIMIZE [1, 30]/' -e 's/^constexpr double GRADIENT_DESCENT_STEPS_STEPPING_PROGRESS_RATE = .*;  \\/\\/ OPTIMIZE \\[0\\.0, 1\\.0\\]$/constexpr double GRADIENT_DESCENT_STEPS_STEPPING_PROGRESS_RATE = 0.8027153150209235;  \\/\\/ OPTIMIZE [0.0, 1.0]/' -e 's/^constexpr double LINE_LENGTH_LOSS_STEPPING_PROGRESS_RATE = .*;  \\/\\/ OPTIMIZE \\[0\\.0, 1\\.0\\]$/constexpr double LINE_LENGTH_LOSS_STEPPING_PROGRESS_RATE = 0.18059508540177205;  \\/\\/ OPTIMIZE [0.0, 1.0]/' -e 's/^constexpr double  LINE_LENGTH_LOSS_WEIGHT = .*;  \\/\\/ OPTIMIZE \\[1e-8, 1e-4\\] LOG$/constexpr double  LINE_LENGTH_LOSS_WEIGHT = 1.4974054910967669e-05;  \\/\\/ OPTIMIZE [1e-8, 1e-4] LOG/' -e 's/^constexpr int N_RANDOM_FACE_CHOICE = .*;  \\/\\/ OPTIMIZE \\[1, 10\\]$/constexpr int N_RANDOM_FACE_CHOICE = 8;  \\/\\/ OPTIMIZE [1, 10]/' -e 's/^std::string hoge=.*; \\/\\/OPTIMIZE{\"11\", \"unnn\" ,\"ooo\"}$/std::string hoge=\"ooo\"; \\/\\/OPTIMIZE{\"11\", \"unnn\" ,\"ooo\"}/'\n",
      "g++ 17_answer.cpp -std=gnu++17 -O2 -DONLINE_JUDGE -o 17_answer.cpp.out\n"
     ]
    },
    {
     "name": "stderr",
     "output_type": "stream",
     "text": [
      "\u001b[32m[I 2021-04-25 09:38:03,950]\u001b[0m Trial 16 finished with value: 48814415378.0 and parameters: {'ANNEALING_A': -9.833393944280944, 'ANNEALING_B': 4.372627313702221, 'ANNEALING_END': 0.0021785039850571756, 'ANNEALING_START': 0.33494882202938653, 'GRADIENT_CLIPPING': 5.947388283969244e-05, 'GRADIENT_DESCENT_LR': 6219963.566067475, 'GRADIENT_DESCENT_MOMENTUM': 0.8812989742990459, 'GRADIENT_DESCENT_STEPS': 23, 'GRADIENT_DESCENT_STEPS_STEPPING_PROGRESS_RATE': 0.7635675974254363, 'LINE_LENGTH_LOSS_STEPPING_PROGRESS_RATE': 0.1573463169579638, 'LINE_LENGTH_LOSS_WEIGHT': 1.6982073536797746e-05, 'N_RANDOM_FACE_CHOICE': 8, 'hoge': '\"ooo\"'}. Best is trial 13 with value: 49079458860.0.\u001b[0m\n"
     ]
    },
    {
     "name": "stdout",
     "output_type": "stream",
     "text": [
      "callback ok\n",
      "index_parallel=18\n",
      "rm: cannot remove '18_out/*': No such file or directory\n",
      "rm: cannot remove '18_score/*': No such file or directory\n",
      "sed -i 18_answer.cpp -e 's/^constexpr double ANNEALING_A = .*;  \\/\\/ OPTIMIZE \\[-10\\.0, 0\\.0\\]$/constexpr double ANNEALING_A = -8.800771367501968;  \\/\\/ OPTIMIZE [-10.0, 0.0]/' -e 's/^constexpr double ANNEALING_B = .*;  \\/\\/ OPTIMIZE \\[0\\.0, 7\\.0\\]$/constexpr double ANNEALING_B = 3.4085293118426887;  \\/\\/ OPTIMIZE [0.0, 7.0]/' -e 's/^constexpr double ANNEALING_END = .*;  \\/\\/ OPTIMIZE \\[1e-4, 0\\.005\\] LOG$/constexpr double ANNEALING_END = 0.001856247820264914;  \\/\\/ OPTIMIZE [1e-4, 0.005] LOG/' -e 's/^constexpr double ANNEALING_START = .*;  \\/\\/ OPTIMIZE \\[0\\.001, 0\\.5\\] LOG$/constexpr double ANNEALING_START = 0.48797224484614565;  \\/\\/ OPTIMIZE [0.001, 0.5] LOG/' -e 's/^constexpr double GRADIENT_CLIPPING = .*;  \\/\\/ OPTIMIZE \\[1e-7, 2e-4\\] LOG$/constexpr double GRADIENT_CLIPPING = 0.00011341079201838841;  \\/\\/ OPTIMIZE [1e-7, 2e-4] LOG/' -e 's/^constexpr double GRADIENT_DESCENT_LR = .*;  \\/\\/ OPTIMIZE \\[100000\\.0, 50000000\\.0\\] LOG$/constexpr double GRADIENT_DESCENT_LR = 18703416.004195496;  \\/\\/ OPTIMIZE [100000.0, 50000000.0] LOG/' -e 's/^constexpr double GRADIENT_DESCENT_MOMENTUM = .*;  \\/\\/ OPTIMIZE \\[0\\.0, 1\\.0\\]$/constexpr double GRADIENT_DESCENT_MOMENTUM = 0.7472322262769376;  \\/\\/ OPTIMIZE [0.0, 1.0]/' -e 's/^constexpr int GRADIENT_DESCENT_STEPS = .*;  \\/\\/ OPTIMIZE \\[1, 30\\]$/constexpr int GRADIENT_DESCENT_STEPS = 19;  \\/\\/ OPTIMIZE [1, 30]/' -e 's/^constexpr double GRADIENT_DESCENT_STEPS_STEPPING_PROGRESS_RATE = .*;  \\/\\/ OPTIMIZE \\[0\\.0, 1\\.0\\]$/constexpr double GRADIENT_DESCENT_STEPS_STEPPING_PROGRESS_RATE = 0.8361644873728388;  \\/\\/ OPTIMIZE [0.0, 1.0]/' -e 's/^constexpr double LINE_LENGTH_LOSS_STEPPING_PROGRESS_RATE = .*;  \\/\\/ OPTIMIZE \\[0\\.0, 1\\.0\\]$/constexpr double LINE_LENGTH_LOSS_STEPPING_PROGRESS_RATE = 0.21326404055306328;  \\/\\/ OPTIMIZE [0.0, 1.0]/' -e 's/^constexpr double  LINE_LENGTH_LOSS_WEIGHT = .*;  \\/\\/ OPTIMIZE \\[1e-8, 1e-4\\] LOG$/constexpr double  LINE_LENGTH_LOSS_WEIGHT = 1.1712495164090512e-05;  \\/\\/ OPTIMIZE [1e-8, 1e-4] LOG/' -e 's/^constexpr int N_RANDOM_FACE_CHOICE = .*;  \\/\\/ OPTIMIZE \\[1, 10\\]$/constexpr int N_RANDOM_FACE_CHOICE = 7;  \\/\\/ OPTIMIZE [1, 10]/' -e 's/^std::string hoge=.*; \\/\\/OPTIMIZE{\"11\", \"unnn\" ,\"ooo\"}$/std::string hoge=\"ooo\"; \\/\\/OPTIMIZE{\"11\", \"unnn\" ,\"ooo\"}/'\n",
      "g++ 18_answer.cpp -std=gnu++17 -O2 -DONLINE_JUDGE -o 18_answer.cpp.out\n"
     ]
    },
    {
     "name": "stderr",
     "output_type": "stream",
     "text": [
      "\u001b[32m[I 2021-04-25 09:38:07,560]\u001b[0m Trial 17 finished with value: 48539624184.0 and parameters: {'ANNEALING_A': -8.901115161235833, 'ANNEALING_B': 4.040147153387507, 'ANNEALING_END': 0.002337670935330703, 'ANNEALING_START': 0.41012507413505495, 'GRADIENT_CLIPPING': 0.00011012441957618578, 'GRADIENT_DESCENT_LR': 19144202.843681607, 'GRADIENT_DESCENT_MOMENTUM': 0.8196030660981145, 'GRADIENT_DESCENT_STEPS': 20, 'GRADIENT_DESCENT_STEPS_STEPPING_PROGRESS_RATE': 0.8027153150209235, 'LINE_LENGTH_LOSS_STEPPING_PROGRESS_RATE': 0.18059508540177205, 'LINE_LENGTH_LOSS_WEIGHT': 1.4974054910967669e-05, 'N_RANDOM_FACE_CHOICE': 8, 'hoge': '\"ooo\"'}. Best is trial 13 with value: 49079458860.0.\u001b[0m\n"
     ]
    },
    {
     "name": "stdout",
     "output_type": "stream",
     "text": [
      "callback ok\n",
      "index_parallel=19\n",
      "rm: cannot remove '19_out/*': No such file or directory\n",
      "rm: cannot remove '19_score/*': No such file or directory\n",
      "sed -i 19_answer.cpp -e 's/^constexpr double ANNEALING_A = .*;  \\/\\/ OPTIMIZE \\[-10\\.0, 0\\.0\\]$/constexpr double ANNEALING_A = -6.002354267578215;  \\/\\/ OPTIMIZE [-10.0, 0.0]/' -e 's/^constexpr double ANNEALING_B = .*;  \\/\\/ OPTIMIZE \\[0\\.0, 7\\.0\\]$/constexpr double ANNEALING_B = 2.8916874570281053;  \\/\\/ OPTIMIZE [0.0, 7.0]/' -e 's/^constexpr double ANNEALING_END = .*;  \\/\\/ OPTIMIZE \\[1e-4, 0\\.005\\] LOG$/constexpr double ANNEALING_END = 0.0016745741662537055;  \\/\\/ OPTIMIZE [1e-4, 0.005] LOG/' -e 's/^constexpr double ANNEALING_START = .*;  \\/\\/ OPTIMIZE \\[0\\.001, 0\\.5\\] LOG$/constexpr double ANNEALING_START = 0.48234821500127467;  \\/\\/ OPTIMIZE [0.001, 0.5] LOG/' -e 's/^constexpr double GRADIENT_CLIPPING = .*;  \\/\\/ OPTIMIZE \\[1e-7, 2e-4\\] LOG$/constexpr double GRADIENT_CLIPPING = 0.00010900373347143914;  \\/\\/ OPTIMIZE [1e-7, 2e-4] LOG/' -e 's/^constexpr double GRADIENT_DESCENT_LR = .*;  \\/\\/ OPTIMIZE \\[100000\\.0, 50000000\\.0\\] LOG$/constexpr double GRADIENT_DESCENT_LR = 40597179.16085057;  \\/\\/ OPTIMIZE [100000.0, 50000000.0] LOG/' -e 's/^constexpr double GRADIENT_DESCENT_MOMENTUM = .*;  \\/\\/ OPTIMIZE \\[0\\.0, 1\\.0\\]$/constexpr double GRADIENT_DESCENT_MOMENTUM = 0.18195165064861946;  \\/\\/ OPTIMIZE [0.0, 1.0]/' -e 's/^constexpr int GRADIENT_DESCENT_STEPS = .*;  \\/\\/ OPTIMIZE \\[1, 30\\]$/constexpr int GRADIENT_DESCENT_STEPS = 13;  \\/\\/ OPTIMIZE [1, 30]/' -e 's/^constexpr double GRADIENT_DESCENT_STEPS_STEPPING_PROGRESS_RATE = .*;  \\/\\/ OPTIMIZE \\[0\\.0, 1\\.0\\]$/constexpr double GRADIENT_DESCENT_STEPS_STEPPING_PROGRESS_RATE = 0.568328307926781;  \\/\\/ OPTIMIZE [0.0, 1.0]/' -e 's/^constexpr double LINE_LENGTH_LOSS_STEPPING_PROGRESS_RATE = .*;  \\/\\/ OPTIMIZE \\[0\\.0, 1\\.0\\]$/constexpr double LINE_LENGTH_LOSS_STEPPING_PROGRESS_RATE = 0.42435899627155116;  \\/\\/ OPTIMIZE [0.0, 1.0]/' -e 's/^constexpr double  LINE_LENGTH_LOSS_WEIGHT = .*;  \\/\\/ OPTIMIZE \\[1e-8, 1e-4\\] LOG$/constexpr double  LINE_LENGTH_LOSS_WEIGHT = 2.015522354868408e-06;  \\/\\/ OPTIMIZE [1e-8, 1e-4] LOG/' -e 's/^constexpr int N_RANDOM_FACE_CHOICE = .*;  \\/\\/ OPTIMIZE \\[1, 10\\]$/constexpr int N_RANDOM_FACE_CHOICE = 7;  \\/\\/ OPTIMIZE [1, 10]/' -e 's/^std::string hoge=.*; \\/\\/OPTIMIZE{\"11\", \"unnn\" ,\"ooo\"}$/std::string hoge=\"ooo\"; \\/\\/OPTIMIZE{\"11\", \"unnn\" ,\"ooo\"}/'\n",
      "g++ 19_answer.cpp -std=gnu++17 -O2 -DONLINE_JUDGE -o 19_answer.cpp.out\n"
     ]
    },
    {
     "name": "stderr",
     "output_type": "stream",
     "text": [
      "\u001b[32m[I 2021-04-25 09:39:20,924]\u001b[0m Trial 18 finished with value: 48618941621.0 and parameters: {'ANNEALING_A': -8.800771367501968, 'ANNEALING_B': 3.4085293118426887, 'ANNEALING_END': 0.001856247820264914, 'ANNEALING_START': 0.48797224484614565, 'GRADIENT_CLIPPING': 0.00011341079201838841, 'GRADIENT_DESCENT_LR': 18703416.004195496, 'GRADIENT_DESCENT_MOMENTUM': 0.7472322262769376, 'GRADIENT_DESCENT_STEPS': 19, 'GRADIENT_DESCENT_STEPS_STEPPING_PROGRESS_RATE': 0.8361644873728388, 'LINE_LENGTH_LOSS_STEPPING_PROGRESS_RATE': 0.21326404055306328, 'LINE_LENGTH_LOSS_WEIGHT': 1.1712495164090512e-05, 'N_RANDOM_FACE_CHOICE': 7, 'hoge': '\"ooo\"'}. Best is trial 13 with value: 49079458860.0.\u001b[0m\n"
     ]
    },
    {
     "name": "stdout",
     "output_type": "stream",
     "text": [
      "callback ok\n",
      "index_parallel=20\n",
      "rm: cannot remove '20_out/*': No such file or directory\n",
      "rm: cannot remove '20_score/*': No such file or directory\n",
      "sed -i 20_answer.cpp -e 's/^constexpr double ANNEALING_A = .*;  \\/\\/ OPTIMIZE \\[-10\\.0, 0\\.0\\]$/constexpr double ANNEALING_A = -6.221900044194928;  \\/\\/ OPTIMIZE [-10.0, 0.0]/' -e 's/^constexpr double ANNEALING_B = .*;  \\/\\/ OPTIMIZE \\[0\\.0, 7\\.0\\]$/constexpr double ANNEALING_B = 5.472051327451531;  \\/\\/ OPTIMIZE [0.0, 7.0]/' -e 's/^constexpr double ANNEALING_END = .*;  \\/\\/ OPTIMIZE \\[1e-4, 0\\.005\\] LOG$/constexpr double ANNEALING_END = 0.002764291868652043;  \\/\\/ OPTIMIZE [1e-4, 0.005] LOG/' -e 's/^constexpr double ANNEALING_START = .*;  \\/\\/ OPTIMIZE \\[0\\.001, 0\\.5\\] LOG$/constexpr double ANNEALING_START = 0.28981722099477814;  \\/\\/ OPTIMIZE [0.001, 0.5] LOG/' -e 's/^constexpr double GRADIENT_CLIPPING = .*;  \\/\\/ OPTIMIZE \\[1e-7, 2e-4\\] LOG$/constexpr double GRADIENT_CLIPPING = 8.82574282212107e-05;  \\/\\/ OPTIMIZE [1e-7, 2e-4] LOG/' -e 's/^constexpr double GRADIENT_DESCENT_LR = .*;  \\/\\/ OPTIMIZE \\[100000\\.0, 50000000\\.0\\] LOG$/constexpr double GRADIENT_DESCENT_LR = 38529017.75781362;  \\/\\/ OPTIMIZE [100000.0, 50000000.0] LOG/' -e 's/^constexpr double GRADIENT_DESCENT_MOMENTUM = .*;  \\/\\/ OPTIMIZE \\[0\\.0, 1\\.0\\]$/constexpr double GRADIENT_DESCENT_MOMENTUM = 0.17391192045690756;  \\/\\/ OPTIMIZE [0.0, 1.0]/' -e 's/^constexpr int GRADIENT_DESCENT_STEPS = .*;  \\/\\/ OPTIMIZE \\[1, 30\\]$/constexpr int GRADIENT_DESCENT_STEPS = 13;  \\/\\/ OPTIMIZE [1, 30]/' -e 's/^constexpr double GRADIENT_DESCENT_STEPS_STEPPING_PROGRESS_RATE = .*;  \\/\\/ OPTIMIZE \\[0\\.0, 1\\.0\\]$/constexpr double GRADIENT_DESCENT_STEPS_STEPPING_PROGRESS_RATE = 0.5922256681072561;  \\/\\/ OPTIMIZE [0.0, 1.0]/' -e 's/^constexpr double LINE_LENGTH_LOSS_STEPPING_PROGRESS_RATE = .*;  \\/\\/ OPTIMIZE \\[0\\.0, 1\\.0\\]$/constexpr double LINE_LENGTH_LOSS_STEPPING_PROGRESS_RATE = 0.48221214846485316;  \\/\\/ OPTIMIZE [0.0, 1.0]/' -e 's/^constexpr double  LINE_LENGTH_LOSS_WEIGHT = .*;  \\/\\/ OPTIMIZE \\[1e-8, 1e-4\\] LOG$/constexpr double  LINE_LENGTH_LOSS_WEIGHT = 3.910738626069726e-07;  \\/\\/ OPTIMIZE [1e-8, 1e-4] LOG/' -e 's/^constexpr int N_RANDOM_FACE_CHOICE = .*;  \\/\\/ OPTIMIZE \\[1, 10\\]$/constexpr int N_RANDOM_FACE_CHOICE = 9;  \\/\\/ OPTIMIZE [1, 10]/' -e 's/^std::string hoge=.*; \\/\\/OPTIMIZE{\"11\", \"unnn\" ,\"ooo\"}$/std::string hoge=\"ooo\"; \\/\\/OPTIMIZE{\"11\", \"unnn\" ,\"ooo\"}/'\n",
      "g++ 20_answer.cpp -std=gnu++17 -O2 -DONLINE_JUDGE -o 20_answer.cpp.out\n"
     ]
    },
    {
     "name": "stderr",
     "output_type": "stream",
     "text": [
      "\u001b[32m[I 2021-04-25 09:39:24,479]\u001b[0m Trial 19 finished with value: 48220013999.0 and parameters: {'ANNEALING_A': -6.002354267578215, 'ANNEALING_B': 2.8916874570281053, 'ANNEALING_END': 0.0016745741662537055, 'ANNEALING_START': 0.48234821500127467, 'GRADIENT_CLIPPING': 0.00010900373347143914, 'GRADIENT_DESCENT_LR': 40597179.16085057, 'GRADIENT_DESCENT_MOMENTUM': 0.18195165064861946, 'GRADIENT_DESCENT_STEPS': 13, 'GRADIENT_DESCENT_STEPS_STEPPING_PROGRESS_RATE': 0.568328307926781, 'LINE_LENGTH_LOSS_STEPPING_PROGRESS_RATE': 0.42435899627155116, 'LINE_LENGTH_LOSS_WEIGHT': 2.015522354868408e-06, 'N_RANDOM_FACE_CHOICE': 7, 'hoge': '\"ooo\"'}. Best is trial 13 with value: 49079458860.0.\u001b[0m\n"
     ]
    },
    {
     "name": "stdout",
     "output_type": "stream",
     "text": [
      "callback ok\n",
      "index_parallel=21\n",
      "rm: cannot remove '21_out/*': No such file or directory\n",
      "rm: cannot remove '21_score/*': No such file or directory\n",
      "sed -i 21_answer.cpp -e 's/^constexpr double ANNEALING_A = .*;  \\/\\/ OPTIMIZE \\[-10\\.0, 0\\.0\\]$/constexpr double ANNEALING_A = -8.678293589115244;  \\/\\/ OPTIMIZE [-10.0, 0.0]/' -e 's/^constexpr double ANNEALING_B = .*;  \\/\\/ OPTIMIZE \\[0\\.0, 7\\.0\\]$/constexpr double ANNEALING_B = 5.415748114837036;  \\/\\/ OPTIMIZE [0.0, 7.0]/' -e 's/^constexpr double ANNEALING_END = .*;  \\/\\/ OPTIMIZE \\[1e-4, 0\\.005\\] LOG$/constexpr double ANNEALING_END = 0.0007413751446407967;  \\/\\/ OPTIMIZE [1e-4, 0.005] LOG/' -e 's/^constexpr double ANNEALING_START = .*;  \\/\\/ OPTIMIZE \\[0\\.001, 0\\.5\\] LOG$/constexpr double ANNEALING_START = 0.29303418783979257;  \\/\\/ OPTIMIZE [0.001, 0.5] LOG/' -e 's/^constexpr double GRADIENT_CLIPPING = .*;  \\/\\/ OPTIMIZE \\[1e-7, 2e-4\\] LOG$/constexpr double GRADIENT_CLIPPING = 6.59124105635486e-05;  \\/\\/ OPTIMIZE [1e-7, 2e-4] LOG/' -e 's/^constexpr double GRADIENT_DESCENT_LR = .*;  \\/\\/ OPTIMIZE \\[100000\\.0, 50000000\\.0\\] LOG$/constexpr double GRADIENT_DESCENT_LR = 6583005.604951629;  \\/\\/ OPTIMIZE [100000.0, 50000000.0] LOG/' -e 's/^constexpr double GRADIENT_DESCENT_MOMENTUM = .*;  \\/\\/ OPTIMIZE \\[0\\.0, 1\\.0\\]$/constexpr double GRADIENT_DESCENT_MOMENTUM = 0.7347465850241965;  \\/\\/ OPTIMIZE [0.0, 1.0]/' -e 's/^constexpr int GRADIENT_DESCENT_STEPS = .*;  \\/\\/ OPTIMIZE \\[1, 30\\]$/constexpr int GRADIENT_DESCENT_STEPS = 27;  \\/\\/ OPTIMIZE [1, 30]/' -e 's/^constexpr double GRADIENT_DESCENT_STEPS_STEPPING_PROGRESS_RATE = .*;  \\/\\/ OPTIMIZE \\[0\\.0, 1\\.0\\]$/constexpr double GRADIENT_DESCENT_STEPS_STEPPING_PROGRESS_RATE = 0.9985127711154865;  \\/\\/ OPTIMIZE [0.0, 1.0]/' -e 's/^constexpr double LINE_LENGTH_LOSS_STEPPING_PROGRESS_RATE = .*;  \\/\\/ OPTIMIZE \\[0\\.0, 1\\.0\\]$/constexpr double LINE_LENGTH_LOSS_STEPPING_PROGRESS_RATE = 0.37649817375906797;  \\/\\/ OPTIMIZE [0.0, 1.0]/' -e 's/^constexpr double  LINE_LENGTH_LOSS_WEIGHT = .*;  \\/\\/ OPTIMIZE \\[1e-8, 1e-4\\] LOG$/constexpr double  LINE_LENGTH_LOSS_WEIGHT = 4.445019245957763e-05;  \\/\\/ OPTIMIZE [1e-8, 1e-4] LOG/' -e 's/^constexpr int N_RANDOM_FACE_CHOICE = .*;  \\/\\/ OPTIMIZE \\[1, 10\\]$/constexpr int N_RANDOM_FACE_CHOICE = 9;  \\/\\/ OPTIMIZE [1, 10]/' -e 's/^std::string hoge=.*; \\/\\/OPTIMIZE{\"11\", \"unnn\" ,\"ooo\"}$/std::string hoge=\"ooo\"; \\/\\/OPTIMIZE{\"11\", \"unnn\" ,\"ooo\"}/'\n",
      "g++ 21_answer.cpp -std=gnu++17 -O2 -DONLINE_JUDGE -o 21_answer.cpp.out\n"
     ]
    },
    {
     "name": "stderr",
     "output_type": "stream",
     "text": [
      "\u001b[32m[I 2021-04-25 09:40:38,014]\u001b[0m Trial 20 finished with value: 48326030447.0 and parameters: {'ANNEALING_A': -6.221900044194928, 'ANNEALING_B': 5.472051327451531, 'ANNEALING_END': 0.002764291868652043, 'ANNEALING_START': 0.28981722099477814, 'GRADIENT_CLIPPING': 8.82574282212107e-05, 'GRADIENT_DESCENT_LR': 38529017.75781362, 'GRADIENT_DESCENT_MOMENTUM': 0.17391192045690756, 'GRADIENT_DESCENT_STEPS': 13, 'GRADIENT_DESCENT_STEPS_STEPPING_PROGRESS_RATE': 0.5922256681072561, 'LINE_LENGTH_LOSS_STEPPING_PROGRESS_RATE': 0.48221214846485316, 'LINE_LENGTH_LOSS_WEIGHT': 3.910738626069726e-07, 'N_RANDOM_FACE_CHOICE': 9, 'hoge': '\"ooo\"'}. Best is trial 13 with value: 49079458860.0.\u001b[0m\n"
     ]
    },
    {
     "name": "stdout",
     "output_type": "stream",
     "text": [
      "callback ok\n",
      "index_parallel=22\n",
      "rm: cannot remove '22_out/*': No such file or directory\n",
      "rm: cannot remove '22_score/*': No such file or directory\n",
      "sed -i 22_answer.cpp -e 's/^constexpr double ANNEALING_A = .*;  \\/\\/ OPTIMIZE \\[-10\\.0, 0\\.0\\]$/constexpr double ANNEALING_A = -9.024439764217052;  \\/\\/ OPTIMIZE [-10.0, 0.0]/' -e 's/^constexpr double ANNEALING_B = .*;  \\/\\/ OPTIMIZE \\[0\\.0, 7\\.0\\]$/constexpr double ANNEALING_B = 5.049769381278523;  \\/\\/ OPTIMIZE [0.0, 7.0]/' -e 's/^constexpr double ANNEALING_END = .*;  \\/\\/ OPTIMIZE \\[1e-4, 0\\.005\\] LOG$/constexpr double ANNEALING_END = 0.0009457165012418626;  \\/\\/ OPTIMIZE [1e-4, 0.005] LOG/' -e 's/^constexpr double ANNEALING_START = .*;  \\/\\/ OPTIMIZE \\[0\\.001, 0\\.5\\] LOG$/constexpr double ANNEALING_START = 0.2992861493196748;  \\/\\/ OPTIMIZE [0.001, 0.5] LOG/' -e 's/^constexpr double GRADIENT_CLIPPING = .*;  \\/\\/ OPTIMIZE \\[1e-7, 2e-4\\] LOG$/constexpr double GRADIENT_CLIPPING = 5.8717643870373e-05;  \\/\\/ OPTIMIZE [1e-7, 2e-4] LOG/' -e 's/^constexpr double GRADIENT_DESCENT_LR = .*;  \\/\\/ OPTIMIZE \\[100000\\.0, 50000000\\.0\\] LOG$/constexpr double GRADIENT_DESCENT_LR = 5501526.98875717;  \\/\\/ OPTIMIZE [100000.0, 50000000.0] LOG/' -e 's/^constexpr double GRADIENT_DESCENT_MOMENTUM = .*;  \\/\\/ OPTIMIZE \\[0\\.0, 1\\.0\\]$/constexpr double GRADIENT_DESCENT_MOMENTUM = 0.027245672816910566;  \\/\\/ OPTIMIZE [0.0, 1.0]/' -e 's/^constexpr int GRADIENT_DESCENT_STEPS = .*;  \\/\\/ OPTIMIZE \\[1, 30\\]$/constexpr int GRADIENT_DESCENT_STEPS = 25;  \\/\\/ OPTIMIZE [1, 30]/' -e 's/^constexpr double GRADIENT_DESCENT_STEPS_STEPPING_PROGRESS_RATE = .*;  \\/\\/ OPTIMIZE \\[0\\.0, 1\\.0\\]$/constexpr double GRADIENT_DESCENT_STEPS_STEPPING_PROGRESS_RATE = 0.8833067907059718;  \\/\\/ OPTIMIZE [0.0, 1.0]/' -e 's/^constexpr double LINE_LENGTH_LOSS_STEPPING_PROGRESS_RATE = .*;  \\/\\/ OPTIMIZE \\[0\\.0, 1\\.0\\]$/constexpr double LINE_LENGTH_LOSS_STEPPING_PROGRESS_RATE = 0.8558306005161234;  \\/\\/ OPTIMIZE [0.0, 1.0]/' -e 's/^constexpr double  LINE_LENGTH_LOSS_WEIGHT = .*;  \\/\\/ OPTIMIZE \\[1e-8, 1e-4\\] LOG$/constexpr double  LINE_LENGTH_LOSS_WEIGHT = 9.802101750401743e-06;  \\/\\/ OPTIMIZE [1e-8, 1e-4] LOG/' -e 's/^constexpr int N_RANDOM_FACE_CHOICE = .*;  \\/\\/ OPTIMIZE \\[1, 10\\]$/constexpr int N_RANDOM_FACE_CHOICE = 10;  \\/\\/ OPTIMIZE [1, 10]/' -e 's/^std::string hoge=.*; \\/\\/OPTIMIZE{\"11\", \"unnn\" ,\"ooo\"}$/std::string hoge=\"ooo\"; \\/\\/OPTIMIZE{\"11\", \"unnn\" ,\"ooo\"}/'\n",
      "g++ 22_answer.cpp -std=gnu++17 -O2 -DONLINE_JUDGE -o 22_answer.cpp.out\n"
     ]
    },
    {
     "name": "stderr",
     "output_type": "stream",
     "text": [
      "\u001b[32m[I 2021-04-25 09:40:43,248]\u001b[0m Trial 21 finished with value: 49145196093.0 and parameters: {'ANNEALING_A': -8.678293589115244, 'ANNEALING_B': 5.415748114837036, 'ANNEALING_END': 0.0007413751446407967, 'ANNEALING_START': 0.29303418783979257, 'GRADIENT_CLIPPING': 6.59124105635486e-05, 'GRADIENT_DESCENT_LR': 6583005.604951629, 'GRADIENT_DESCENT_MOMENTUM': 0.7347465850241965, 'GRADIENT_DESCENT_STEPS': 27, 'GRADIENT_DESCENT_STEPS_STEPPING_PROGRESS_RATE': 0.9985127711154865, 'LINE_LENGTH_LOSS_STEPPING_PROGRESS_RATE': 0.37649817375906797, 'LINE_LENGTH_LOSS_WEIGHT': 4.445019245957763e-05, 'N_RANDOM_FACE_CHOICE': 9, 'hoge': '\"ooo\"'}. Best is trial 21 with value: 49145196093.0.\u001b[0m\n"
     ]
    },
    {
     "name": "stdout",
     "output_type": "stream",
     "text": [
      "Updated! 49145196093.0 -> 49145196093.0\n",
      "callback ok\n",
      "index_parallel=23\n",
      "rm: cannot remove '23_out/*': No such file or directory\n",
      "rm: cannot remove '23_score/*': No such file or directory\n",
      "sed -i 23_answer.cpp -e 's/^constexpr double ANNEALING_A = .*;  \\/\\/ OPTIMIZE \\[-10\\.0, 0\\.0\\]$/constexpr double ANNEALING_A = -8.805337306623281;  \\/\\/ OPTIMIZE [-10.0, 0.0]/' -e 's/^constexpr double ANNEALING_B = .*;  \\/\\/ OPTIMIZE \\[0\\.0, 7\\.0\\]$/constexpr double ANNEALING_B = 5.183612394287282;  \\/\\/ OPTIMIZE [0.0, 7.0]/' -e 's/^constexpr double ANNEALING_END = .*;  \\/\\/ OPTIMIZE \\[1e-4, 0\\.005\\] LOG$/constexpr double ANNEALING_END = 0.0007715235390246653;  \\/\\/ OPTIMIZE [1e-4, 0.005] LOG/' -e 's/^constexpr double ANNEALING_START = .*;  \\/\\/ OPTIMIZE \\[0\\.001, 0\\.5\\] LOG$/constexpr double ANNEALING_START = 0.38535529355736886;  \\/\\/ OPTIMIZE [0.001, 0.5] LOG/' -e 's/^constexpr double GRADIENT_CLIPPING = .*;  \\/\\/ OPTIMIZE \\[1e-7, 2e-4\\] LOG$/constexpr double GRADIENT_CLIPPING = 6.079127092098969e-05;  \\/\\/ OPTIMIZE [1e-7, 2e-4] LOG/' -e 's/^constexpr double GRADIENT_DESCENT_LR = .*;  \\/\\/ OPTIMIZE \\[100000\\.0, 50000000\\.0\\] LOG$/constexpr double GRADIENT_DESCENT_LR = 7201407.337144727;  \\/\\/ OPTIMIZE [100000.0, 50000000.0] LOG/' -e 's/^constexpr double GRADIENT_DESCENT_MOMENTUM = .*;  \\/\\/ OPTIMIZE \\[0\\.0, 1\\.0\\]$/constexpr double GRADIENT_DESCENT_MOMENTUM = 0.7397068959636272;  \\/\\/ OPTIMIZE [0.0, 1.0]/' -e 's/^constexpr int GRADIENT_DESCENT_STEPS = .*;  \\/\\/ OPTIMIZE \\[1, 30\\]$/constexpr int GRADIENT_DESCENT_STEPS = 28;  \\/\\/ OPTIMIZE [1, 30]/' -e 's/^constexpr double GRADIENT_DESCENT_STEPS_STEPPING_PROGRESS_RATE = .*;  \\/\\/ OPTIMIZE \\[0\\.0, 1\\.0\\]$/constexpr double GRADIENT_DESCENT_STEPS_STEPPING_PROGRESS_RATE = 0.8829588644573735;  \\/\\/ OPTIMIZE [0.0, 1.0]/' -e 's/^constexpr double LINE_LENGTH_LOSS_STEPPING_PROGRESS_RATE = .*;  \\/\\/ OPTIMIZE \\[0\\.0, 1\\.0\\]$/constexpr double LINE_LENGTH_LOSS_STEPPING_PROGRESS_RATE = 0.3717478453674887;  \\/\\/ OPTIMIZE [0.0, 1.0]/' -e 's/^constexpr double  LINE_LENGTH_LOSS_WEIGHT = .*;  \\/\\/ OPTIMIZE \\[1e-8, 1e-4\\] LOG$/constexpr double  LINE_LENGTH_LOSS_WEIGHT = 4.362225392061458e-05;  \\/\\/ OPTIMIZE [1e-8, 1e-4] LOG/' -e 's/^constexpr int N_RANDOM_FACE_CHOICE = .*;  \\/\\/ OPTIMIZE \\[1, 10\\]$/constexpr int N_RANDOM_FACE_CHOICE = 9;  \\/\\/ OPTIMIZE [1, 10]/' -e 's/^std::string hoge=.*; \\/\\/OPTIMIZE{\"11\", \"unnn\" ,\"ooo\"}$/std::string hoge=\"ooo\"; \\/\\/OPTIMIZE{\"11\", \"unnn\" ,\"ooo\"}/'\n",
      "g++ 23_answer.cpp -std=gnu++17 -O2 -DONLINE_JUDGE -o 23_answer.cpp.out\n"
     ]
    },
    {
     "name": "stderr",
     "output_type": "stream",
     "text": [
      "\u001b[32m[I 2021-04-25 09:41:55,051]\u001b[0m Trial 22 finished with value: 49059358497.0 and parameters: {'ANNEALING_A': -9.024439764217052, 'ANNEALING_B': 5.049769381278523, 'ANNEALING_END': 0.0009457165012418626, 'ANNEALING_START': 0.2992861493196748, 'GRADIENT_CLIPPING': 5.8717643870373e-05, 'GRADIENT_DESCENT_LR': 5501526.98875717, 'GRADIENT_DESCENT_MOMENTUM': 0.027245672816910566, 'GRADIENT_DESCENT_STEPS': 25, 'GRADIENT_DESCENT_STEPS_STEPPING_PROGRESS_RATE': 0.8833067907059718, 'LINE_LENGTH_LOSS_STEPPING_PROGRESS_RATE': 0.8558306005161234, 'LINE_LENGTH_LOSS_WEIGHT': 9.802101750401743e-06, 'N_RANDOM_FACE_CHOICE': 10, 'hoge': '\"ooo\"'}. Best is trial 21 with value: 49145196093.0.\u001b[0m\n"
     ]
    },
    {
     "name": "stdout",
     "output_type": "stream",
     "text": [
      "callback ok\n",
      "index_parallel=24\n",
      "rm: cannot remove '24_out/*': No such file or directory\n",
      "rm: cannot remove '24_score/*': No such file or directory\n",
      "sed -i 24_answer.cpp -e 's/^constexpr double ANNEALING_A = .*;  \\/\\/ OPTIMIZE \\[-10\\.0, 0\\.0\\]$/constexpr double ANNEALING_A = -8.647913770813608;  \\/\\/ OPTIMIZE [-10.0, 0.0]/' -e 's/^constexpr double ANNEALING_B = .*;  \\/\\/ OPTIMIZE \\[0\\.0, 7\\.0\\]$/constexpr double ANNEALING_B = 5.2184214438310095;  \\/\\/ OPTIMIZE [0.0, 7.0]/' -e 's/^constexpr double ANNEALING_END = .*;  \\/\\/ OPTIMIZE \\[1e-4, 0\\.005\\] LOG$/constexpr double ANNEALING_END = 0.0007070899207424885;  \\/\\/ OPTIMIZE [1e-4, 0.005] LOG/' -e 's/^constexpr double ANNEALING_START = .*;  \\/\\/ OPTIMIZE \\[0\\.001, 0\\.5\\] LOG$/constexpr double ANNEALING_START = 0.1883018111651435;  \\/\\/ OPTIMIZE [0.001, 0.5] LOG/' -e 's/^constexpr double GRADIENT_CLIPPING = .*;  \\/\\/ OPTIMIZE \\[1e-7, 2e-4\\] LOG$/constexpr double GRADIENT_CLIPPING = 7.380205842139578e-05;  \\/\\/ OPTIMIZE [1e-7, 2e-4] LOG/' -e 's/^constexpr double GRADIENT_DESCENT_LR = .*;  \\/\\/ OPTIMIZE \\[100000\\.0, 50000000\\.0\\] LOG$/constexpr double GRADIENT_DESCENT_LR = 8174436.678216142;  \\/\\/ OPTIMIZE [100000.0, 50000000.0] LOG/' -e 's/^constexpr double GRADIENT_DESCENT_MOMENTUM = .*;  \\/\\/ OPTIMIZE \\[0\\.0, 1\\.0\\]$/constexpr double GRADIENT_DESCENT_MOMENTUM = 0.020357906211356247;  \\/\\/ OPTIMIZE [0.0, 1.0]/' -e 's/^constexpr int GRADIENT_DESCENT_STEPS = .*;  \\/\\/ OPTIMIZE \\[1, 30\\]$/constexpr int GRADIENT_DESCENT_STEPS = 27;  \\/\\/ OPTIMIZE [1, 30]/' -e 's/^constexpr double GRADIENT_DESCENT_STEPS_STEPPING_PROGRESS_RATE = .*;  \\/\\/ OPTIMIZE \\[0\\.0, 1\\.0\\]$/constexpr double GRADIENT_DESCENT_STEPS_STEPPING_PROGRESS_RATE = 0.9906751875190893;  \\/\\/ OPTIMIZE [0.0, 1.0]/' -e 's/^constexpr double LINE_LENGTH_LOSS_STEPPING_PROGRESS_RATE = .*;  \\/\\/ OPTIMIZE \\[0\\.0, 1\\.0\\]$/constexpr double LINE_LENGTH_LOSS_STEPPING_PROGRESS_RATE = 0.6029170377279248;  \\/\\/ OPTIMIZE [0.0, 1.0]/' -e 's/^constexpr double  LINE_LENGTH_LOSS_WEIGHT = .*;  \\/\\/ OPTIMIZE \\[1e-8, 1e-4\\] LOG$/constexpr double  LINE_LENGTH_LOSS_WEIGHT = 4.7107455567605295e-05;  \\/\\/ OPTIMIZE [1e-8, 1e-4] LOG/' -e 's/^constexpr int N_RANDOM_FACE_CHOICE = .*;  \\/\\/ OPTIMIZE \\[1, 10\\]$/constexpr int N_RANDOM_FACE_CHOICE = 9;  \\/\\/ OPTIMIZE [1, 10]/' -e 's/^std::string hoge=.*; \\/\\/OPTIMIZE{\"11\", \"unnn\" ,\"ooo\"}$/std::string hoge=\"ooo\"; \\/\\/OPTIMIZE{\"11\", \"unnn\" ,\"ooo\"}/'\n",
      "g++ 24_answer.cpp -std=gnu++17 -O2 -DONLINE_JUDGE -o 24_answer.cpp.out\n"
     ]
    },
    {
     "name": "stderr",
     "output_type": "stream",
     "text": [
      "\u001b[32m[I 2021-04-25 09:42:02,196]\u001b[0m Trial 23 finished with value: 49075570440.0 and parameters: {'ANNEALING_A': -8.805337306623281, 'ANNEALING_B': 5.183612394287282, 'ANNEALING_END': 0.0007715235390246653, 'ANNEALING_START': 0.38535529355736886, 'GRADIENT_CLIPPING': 6.079127092098969e-05, 'GRADIENT_DESCENT_LR': 7201407.337144727, 'GRADIENT_DESCENT_MOMENTUM': 0.7397068959636272, 'GRADIENT_DESCENT_STEPS': 28, 'GRADIENT_DESCENT_STEPS_STEPPING_PROGRESS_RATE': 0.8829588644573735, 'LINE_LENGTH_LOSS_STEPPING_PROGRESS_RATE': 0.3717478453674887, 'LINE_LENGTH_LOSS_WEIGHT': 4.362225392061458e-05, 'N_RANDOM_FACE_CHOICE': 9, 'hoge': '\"ooo\"'}. Best is trial 21 with value: 49145196093.0.\u001b[0m\n"
     ]
    },
    {
     "name": "stdout",
     "output_type": "stream",
     "text": [
      "callback ok\n",
      "index_parallel=25\n",
      "rm: cannot remove '25_out/*': No such file or directory\n",
      "rm: cannot remove '25_score/*': No such file or directory\n",
      "sed -i 25_answer.cpp -e 's/^constexpr double ANNEALING_A = .*;  \\/\\/ OPTIMIZE \\[-10\\.0, 0\\.0\\]$/constexpr double ANNEALING_A = -8.153273921401926;  \\/\\/ OPTIMIZE [-10.0, 0.0]/' -e 's/^constexpr double ANNEALING_B = .*;  \\/\\/ OPTIMIZE \\[0\\.0, 7\\.0\\]$/constexpr double ANNEALING_B = 6.952466369845539;  \\/\\/ OPTIMIZE [0.0, 7.0]/' -e 's/^constexpr double ANNEALING_END = .*;  \\/\\/ OPTIMIZE \\[1e-4, 0\\.005\\] LOG$/constexpr double ANNEALING_END = 0.0005650243839972697;  \\/\\/ OPTIMIZE [1e-4, 0.005] LOG/' -e 's/^constexpr double ANNEALING_START = .*;  \\/\\/ OPTIMIZE \\[0\\.001, 0\\.5\\] LOG$/constexpr double ANNEALING_START = 0.38401082528172414;  \\/\\/ OPTIMIZE [0.001, 0.5] LOG/' -e 's/^constexpr double GRADIENT_CLIPPING = .*;  \\/\\/ OPTIMIZE \\[1e-7, 2e-4\\] LOG$/constexpr double GRADIENT_CLIPPING = 7.523053476422483e-05;  \\/\\/ OPTIMIZE [1e-7, 2e-4] LOG/' -e 's/^constexpr double GRADIENT_DESCENT_LR = .*;  \\/\\/ OPTIMIZE \\[100000\\.0, 50000000\\.0\\] LOG$/constexpr double GRADIENT_DESCENT_LR = 8523622.433850182;  \\/\\/ OPTIMIZE [100000.0, 50000000.0] LOG/' -e 's/^constexpr double GRADIENT_DESCENT_MOMENTUM = .*;  \\/\\/ OPTIMIZE \\[0\\.0, 1\\.0\\]$/constexpr double GRADIENT_DESCENT_MOMENTUM = 0.718870811288914;  \\/\\/ OPTIMIZE [0.0, 1.0]/' -e 's/^constexpr int GRADIENT_DESCENT_STEPS = .*;  \\/\\/ OPTIMIZE \\[1, 30\\]$/constexpr int GRADIENT_DESCENT_STEPS = 27;  \\/\\/ OPTIMIZE [1, 30]/' -e 's/^constexpr double GRADIENT_DESCENT_STEPS_STEPPING_PROGRESS_RATE = .*;  \\/\\/ OPTIMIZE \\[0\\.0, 1\\.0\\]$/constexpr double GRADIENT_DESCENT_STEPS_STEPPING_PROGRESS_RATE = 0.976888211024794;  \\/\\/ OPTIMIZE [0.0, 1.0]/' -e 's/^constexpr double LINE_LENGTH_LOSS_STEPPING_PROGRESS_RATE = .*;  \\/\\/ OPTIMIZE \\[0\\.0, 1\\.0\\]$/constexpr double LINE_LENGTH_LOSS_STEPPING_PROGRESS_RATE = 0.40031112529143337;  \\/\\/ OPTIMIZE [0.0, 1.0]/' -e 's/^constexpr double  LINE_LENGTH_LOSS_WEIGHT = .*;  \\/\\/ OPTIMIZE \\[1e-8, 1e-4\\] LOG$/constexpr double  LINE_LENGTH_LOSS_WEIGHT = 4.242517126122377e-05;  \\/\\/ OPTIMIZE [1e-8, 1e-4] LOG/' -e 's/^constexpr int N_RANDOM_FACE_CHOICE = .*;  \\/\\/ OPTIMIZE \\[1, 10\\]$/constexpr int N_RANDOM_FACE_CHOICE = 9;  \\/\\/ OPTIMIZE [1, 10]/' -e 's/^std::string hoge=.*; \\/\\/OPTIMIZE{\"11\", \"unnn\" ,\"ooo\"}$/std::string hoge=\"ooo\"; \\/\\/OPTIMIZE{\"11\", \"unnn\" ,\"ooo\"}/'\n",
      "g++ 25_answer.cpp -std=gnu++17 -O2 -DONLINE_JUDGE -o 25_answer.cpp.out\n"
     ]
    },
    {
     "name": "stderr",
     "output_type": "stream",
     "text": [
      "\u001b[32m[I 2021-04-25 09:43:12,183]\u001b[0m Trial 24 finished with value: 49076368206.0 and parameters: {'ANNEALING_A': -8.647913770813608, 'ANNEALING_B': 5.2184214438310095, 'ANNEALING_END': 0.0007070899207424885, 'ANNEALING_START': 0.1883018111651435, 'GRADIENT_CLIPPING': 7.380205842139578e-05, 'GRADIENT_DESCENT_LR': 8174436.678216142, 'GRADIENT_DESCENT_MOMENTUM': 0.020357906211356247, 'GRADIENT_DESCENT_STEPS': 27, 'GRADIENT_DESCENT_STEPS_STEPPING_PROGRESS_RATE': 0.9906751875190893, 'LINE_LENGTH_LOSS_STEPPING_PROGRESS_RATE': 0.6029170377279248, 'LINE_LENGTH_LOSS_WEIGHT': 4.7107455567605295e-05, 'N_RANDOM_FACE_CHOICE': 9, 'hoge': '\"ooo\"'}. Best is trial 21 with value: 49145196093.0.\u001b[0m\n"
     ]
    },
    {
     "name": "stdout",
     "output_type": "stream",
     "text": [
      "callback ok\n",
      "index_parallel=26\n",
      "rm: cannot remove '26_out/*': No such file or directory\n",
      "rm: cannot remove '26_score/*': No such file or directory\n",
      "sed -i 26_answer.cpp -e 's/^constexpr double ANNEALING_A = .*;  \\/\\/ OPTIMIZE \\[-10\\.0, 0\\.0\\]$/constexpr double ANNEALING_A = -8.253167042667062;  \\/\\/ OPTIMIZE [-10.0, 0.0]/' -e 's/^constexpr double ANNEALING_B = .*;  \\/\\/ OPTIMIZE \\[0\\.0, 7\\.0\\]$/constexpr double ANNEALING_B = 6.947461257576155;  \\/\\/ OPTIMIZE [0.0, 7.0]/' -e 's/^constexpr double ANNEALING_END = .*;  \\/\\/ OPTIMIZE \\[1e-4, 0\\.005\\] LOG$/constexpr double ANNEALING_END = 0.0007530994908928043;  \\/\\/ OPTIMIZE [1e-4, 0.005] LOG/' -e 's/^constexpr double ANNEALING_START = .*;  \\/\\/ OPTIMIZE \\[0\\.001, 0\\.5\\] LOG$/constexpr double ANNEALING_START = 0.17879432576993104;  \\/\\/ OPTIMIZE [0.001, 0.5] LOG/' -e 's/^constexpr double GRADIENT_CLIPPING = .*;  \\/\\/ OPTIMIZE \\[1e-7, 2e-4\\] LOG$/constexpr double GRADIENT_CLIPPING = 7.965332943165584e-05;  \\/\\/ OPTIMIZE [1e-7, 2e-4] LOG/' -e 's/^constexpr double GRADIENT_DESCENT_LR = .*;  \\/\\/ OPTIMIZE \\[100000\\.0, 50000000\\.0\\] LOG$/constexpr double GRADIENT_DESCENT_LR = 17081879.43406224;  \\/\\/ OPTIMIZE [100000.0, 50000000.0] LOG/' -e 's/^constexpr double GRADIENT_DESCENT_MOMENTUM = .*;  \\/\\/ OPTIMIZE \\[0\\.0, 1\\.0\\]$/constexpr double GRADIENT_DESCENT_MOMENTUM = 0.39402917571002605;  \\/\\/ OPTIMIZE [0.0, 1.0]/' -e 's/^constexpr int GRADIENT_DESCENT_STEPS = .*;  \\/\\/ OPTIMIZE \\[1, 30\\]$/constexpr int GRADIENT_DESCENT_STEPS = 27;  \\/\\/ OPTIMIZE [1, 30]/' -e 's/^constexpr double GRADIENT_DESCENT_STEPS_STEPPING_PROGRESS_RATE = .*;  \\/\\/ OPTIMIZE \\[0\\.0, 1\\.0\\]$/constexpr double GRADIENT_DESCENT_STEPS_STEPPING_PROGRESS_RATE = 0.9986561137416161;  \\/\\/ OPTIMIZE [0.0, 1.0]/' -e 's/^constexpr double LINE_LENGTH_LOSS_STEPPING_PROGRESS_RATE = .*;  \\/\\/ OPTIMIZE \\[0\\.0, 1\\.0\\]$/constexpr double LINE_LENGTH_LOSS_STEPPING_PROGRESS_RATE = 0.5499427544399687;  \\/\\/ OPTIMIZE [0.0, 1.0]/' -e 's/^constexpr double  LINE_LENGTH_LOSS_WEIGHT = .*;  \\/\\/ OPTIMIZE \\[1e-8, 1e-4\\] LOG$/constexpr double  LINE_LENGTH_LOSS_WEIGHT = 6.086264798146383e-05;  \\/\\/ OPTIMIZE [1e-8, 1e-4] LOG/' -e 's/^constexpr int N_RANDOM_FACE_CHOICE = .*;  \\/\\/ OPTIMIZE \\[1, 10\\]$/constexpr int N_RANDOM_FACE_CHOICE = 7;  \\/\\/ OPTIMIZE [1, 10]/' -e 's/^std::string hoge=.*; \\/\\/OPTIMIZE{\"11\", \"unnn\" ,\"ooo\"}$/std::string hoge=\"ooo\"; \\/\\/OPTIMIZE{\"11\", \"unnn\" ,\"ooo\"}/'\n",
      "g++ 26_answer.cpp -std=gnu++17 -O2 -DONLINE_JUDGE -o 26_answer.cpp.out\n"
     ]
    },
    {
     "name": "stderr",
     "output_type": "stream",
     "text": [
      "\u001b[32m[I 2021-04-25 09:43:19,223]\u001b[0m Trial 25 finished with value: 49081388548.0 and parameters: {'ANNEALING_A': -8.153273921401926, 'ANNEALING_B': 6.952466369845539, 'ANNEALING_END': 0.0005650243839972697, 'ANNEALING_START': 0.38401082528172414, 'GRADIENT_CLIPPING': 7.523053476422483e-05, 'GRADIENT_DESCENT_LR': 8523622.433850182, 'GRADIENT_DESCENT_MOMENTUM': 0.718870811288914, 'GRADIENT_DESCENT_STEPS': 27, 'GRADIENT_DESCENT_STEPS_STEPPING_PROGRESS_RATE': 0.976888211024794, 'LINE_LENGTH_LOSS_STEPPING_PROGRESS_RATE': 0.40031112529143337, 'LINE_LENGTH_LOSS_WEIGHT': 4.242517126122377e-05, 'N_RANDOM_FACE_CHOICE': 9, 'hoge': '\"ooo\"'}. Best is trial 21 with value: 49145196093.0.\u001b[0m\n"
     ]
    },
    {
     "name": "stdout",
     "output_type": "stream",
     "text": [
      "callback ok\n",
      "index_parallel=27\n",
      "rm: cannot remove '27_out/*': No such file or directory\n",
      "rm: cannot remove '27_score/*': No such file or directory\n",
      "sed -i 27_answer.cpp -e 's/^constexpr double ANNEALING_A = .*;  \\/\\/ OPTIMIZE \\[-10\\.0, 0\\.0\\]$/constexpr double ANNEALING_A = -8.05072014059497;  \\/\\/ OPTIMIZE [-10.0, 0.0]/' -e 's/^constexpr double ANNEALING_B = .*;  \\/\\/ OPTIMIZE \\[0\\.0, 7\\.0\\]$/constexpr double ANNEALING_B = 6.586173010421421;  \\/\\/ OPTIMIZE [0.0, 7.0]/' -e 's/^constexpr double ANNEALING_END = .*;  \\/\\/ OPTIMIZE \\[1e-4, 0\\.005\\] LOG$/constexpr double ANNEALING_END = 0.00013677094031736242;  \\/\\/ OPTIMIZE [1e-4, 0.005] LOG/' -e 's/^constexpr double ANNEALING_START = .*;  \\/\\/ OPTIMIZE \\[0\\.001, 0\\.5\\] LOG$/constexpr double ANNEALING_START = 0.3709388403434251;  \\/\\/ OPTIMIZE [0.001, 0.5] LOG/' -e 's/^constexpr double GRADIENT_CLIPPING = .*;  \\/\\/ OPTIMIZE \\[1e-7, 2e-4\\] LOG$/constexpr double GRADIENT_CLIPPING = 0.00012939093947293592;  \\/\\/ OPTIMIZE [1e-7, 2e-4] LOG/' -e 's/^constexpr double GRADIENT_DESCENT_LR = .*;  \\/\\/ OPTIMIZE \\[100000\\.0, 50000000\\.0\\] LOG$/constexpr double GRADIENT_DESCENT_LR = 15386933.95130712;  \\/\\/ OPTIMIZE [100000.0, 50000000.0] LOG/' -e 's/^constexpr double GRADIENT_DESCENT_MOMENTUM = .*;  \\/\\/ OPTIMIZE \\[0\\.0, 1\\.0\\]$/constexpr double GRADIENT_DESCENT_MOMENTUM = 0.6869997847047014;  \\/\\/ OPTIMIZE [0.0, 1.0]/' -e 's/^constexpr int GRADIENT_DESCENT_STEPS = .*;  \\/\\/ OPTIMIZE \\[1, 30\\]$/constexpr int GRADIENT_DESCENT_STEPS = 21;  \\/\\/ OPTIMIZE [1, 30]/' -e 's/^constexpr double GRADIENT_DESCENT_STEPS_STEPPING_PROGRESS_RATE = .*;  \\/\\/ OPTIMIZE \\[0\\.0, 1\\.0\\]$/constexpr double GRADIENT_DESCENT_STEPS_STEPPING_PROGRESS_RATE = 0.9980826578139435;  \\/\\/ OPTIMIZE [0.0, 1.0]/' -e 's/^constexpr double LINE_LENGTH_LOSS_STEPPING_PROGRESS_RATE = .*;  \\/\\/ OPTIMIZE \\[0\\.0, 1\\.0\\]$/constexpr double LINE_LENGTH_LOSS_STEPPING_PROGRESS_RATE = 0.553713927237562;  \\/\\/ OPTIMIZE [0.0, 1.0]/' -e 's/^constexpr double  LINE_LENGTH_LOSS_WEIGHT = .*;  \\/\\/ OPTIMIZE \\[1e-8, 1e-4\\] LOG$/constexpr double  LINE_LENGTH_LOSS_WEIGHT = 3.388156187225381e-05;  \\/\\/ OPTIMIZE [1e-8, 1e-4] LOG/' -e 's/^constexpr int N_RANDOM_FACE_CHOICE = .*;  \\/\\/ OPTIMIZE \\[1, 10\\]$/constexpr int N_RANDOM_FACE_CHOICE = 7;  \\/\\/ OPTIMIZE [1, 10]/' -e 's/^std::string hoge=.*; \\/\\/OPTIMIZE{\"11\", \"unnn\" ,\"ooo\"}$/std::string hoge=\"ooo\"; \\/\\/OPTIMIZE{\"11\", \"unnn\" ,\"ooo\"}/'\n",
      "g++ 27_answer.cpp -std=gnu++17 -O2 -DONLINE_JUDGE -o 27_answer.cpp.out\n"
     ]
    },
    {
     "name": "stderr",
     "output_type": "stream",
     "text": [
      "\u001b[32m[I 2021-04-25 09:44:29,488]\u001b[0m Trial 26 finished with value: 49001490453.0 and parameters: {'ANNEALING_A': -8.253167042667062, 'ANNEALING_B': 6.947461257576155, 'ANNEALING_END': 0.0007530994908928043, 'ANNEALING_START': 0.17879432576993104, 'GRADIENT_CLIPPING': 7.965332943165584e-05, 'GRADIENT_DESCENT_LR': 17081879.43406224, 'GRADIENT_DESCENT_MOMENTUM': 0.39402917571002605, 'GRADIENT_DESCENT_STEPS': 27, 'GRADIENT_DESCENT_STEPS_STEPPING_PROGRESS_RATE': 0.9986561137416161, 'LINE_LENGTH_LOSS_STEPPING_PROGRESS_RATE': 0.5499427544399687, 'LINE_LENGTH_LOSS_WEIGHT': 6.086264798146383e-05, 'N_RANDOM_FACE_CHOICE': 7, 'hoge': '\"ooo\"'}. Best is trial 21 with value: 49145196093.0.\u001b[0m\n"
     ]
    },
    {
     "name": "stdout",
     "output_type": "stream",
     "text": [
      "callback ok\n",
      "index_parallel=28\n",
      "rm: cannot remove '28_out/*': No such file or directory\n",
      "rm: cannot remove '28_score/*': No such file or directory\n",
      "sed -i 28_answer.cpp -e 's/^constexpr double ANNEALING_A = .*;  \\/\\/ OPTIMIZE \\[-10\\.0, 0\\.0\\]$/constexpr double ANNEALING_A = -6.4970611621769745;  \\/\\/ OPTIMIZE [-10.0, 0.0]/' -e 's/^constexpr double ANNEALING_B = .*;  \\/\\/ OPTIMIZE \\[0\\.0, 7\\.0\\]$/constexpr double ANNEALING_B = 6.870719130967376;  \\/\\/ OPTIMIZE [0.0, 7.0]/' -e 's/^constexpr double ANNEALING_END = .*;  \\/\\/ OPTIMIZE \\[1e-4, 0\\.005\\] LOG$/constexpr double ANNEALING_END = 0.0013314035284319413;  \\/\\/ OPTIMIZE [1e-4, 0.005] LOG/' -e 's/^constexpr double ANNEALING_START = .*;  \\/\\/ OPTIMIZE \\[0\\.001, 0\\.5\\] LOG$/constexpr double ANNEALING_START = 0.36456546704165455;  \\/\\/ OPTIMIZE [0.001, 0.5] LOG/' -e 's/^constexpr double GRADIENT_CLIPPING = .*;  \\/\\/ OPTIMIZE \\[1e-7, 2e-4\\] LOG$/constexpr double GRADIENT_CLIPPING = 0.00012690087214209741;  \\/\\/ OPTIMIZE [1e-7, 2e-4] LOG/' -e 's/^constexpr double GRADIENT_DESCENT_LR = .*;  \\/\\/ OPTIMIZE \\[100000\\.0, 50000000\\.0\\] LOG$/constexpr double GRADIENT_DESCENT_LR = 15153423.25647835;  \\/\\/ OPTIMIZE [100000.0, 50000000.0] LOG/' -e 's/^constexpr double GRADIENT_DESCENT_MOMENTUM = .*;  \\/\\/ OPTIMIZE \\[0\\.0, 1\\.0\\]$/constexpr double GRADIENT_DESCENT_MOMENTUM = 0.7020295863308871;  \\/\\/ OPTIMIZE [0.0, 1.0]/' -e 's/^constexpr int GRADIENT_DESCENT_STEPS = .*;  \\/\\/ OPTIMIZE \\[1, 30\\]$/constexpr int GRADIENT_DESCENT_STEPS = 22;  \\/\\/ OPTIMIZE [1, 30]/' -e 's/^constexpr double GRADIENT_DESCENT_STEPS_STEPPING_PROGRESS_RATE = .*;  \\/\\/ OPTIMIZE \\[0\\.0, 1\\.0\\]$/constexpr double GRADIENT_DESCENT_STEPS_STEPPING_PROGRESS_RATE = 0.9992423670939334;  \\/\\/ OPTIMIZE [0.0, 1.0]/' -e 's/^constexpr double LINE_LENGTH_LOSS_STEPPING_PROGRESS_RATE = .*;  \\/\\/ OPTIMIZE \\[0\\.0, 1\\.0\\]$/constexpr double LINE_LENGTH_LOSS_STEPPING_PROGRESS_RATE = 0.3698619754648743;  \\/\\/ OPTIMIZE [0.0, 1.0]/' -e 's/^constexpr double  LINE_LENGTH_LOSS_WEIGHT = .*;  \\/\\/ OPTIMIZE \\[1e-8, 1e-4\\] LOG$/constexpr double  LINE_LENGTH_LOSS_WEIGHT = 2.7177009154261083e-05;  \\/\\/ OPTIMIZE [1e-8, 1e-4] LOG/' -e 's/^constexpr int N_RANDOM_FACE_CHOICE = .*;  \\/\\/ OPTIMIZE \\[1, 10\\]$/constexpr int N_RANDOM_FACE_CHOICE = 9;  \\/\\/ OPTIMIZE [1, 10]/' -e 's/^std::string hoge=.*; \\/\\/OPTIMIZE{\"11\", \"unnn\" ,\"ooo\"}$/std::string hoge=\"ooo\"; \\/\\/OPTIMIZE{\"11\", \"unnn\" ,\"ooo\"}/'\n",
      "g++ 28_answer.cpp -std=gnu++17 -O2 -DONLINE_JUDGE -o 28_answer.cpp.out\n"
     ]
    },
    {
     "name": "stderr",
     "output_type": "stream",
     "text": [
      "\u001b[32m[I 2021-04-25 09:44:36,197]\u001b[0m Trial 27 finished with value: 48631146766.0 and parameters: {'ANNEALING_A': -8.05072014059497, 'ANNEALING_B': 6.586173010421421, 'ANNEALING_END': 0.00013677094031736242, 'ANNEALING_START': 0.3709388403434251, 'GRADIENT_CLIPPING': 0.00012939093947293592, 'GRADIENT_DESCENT_LR': 15386933.95130712, 'GRADIENT_DESCENT_MOMENTUM': 0.6869997847047014, 'GRADIENT_DESCENT_STEPS': 21, 'GRADIENT_DESCENT_STEPS_STEPPING_PROGRESS_RATE': 0.9980826578139435, 'LINE_LENGTH_LOSS_STEPPING_PROGRESS_RATE': 0.553713927237562, 'LINE_LENGTH_LOSS_WEIGHT': 3.388156187225381e-05, 'N_RANDOM_FACE_CHOICE': 7, 'hoge': '\"ooo\"'}. Best is trial 21 with value: 49145196093.0.\u001b[0m\n"
     ]
    },
    {
     "name": "stdout",
     "output_type": "stream",
     "text": [
      "callback ok\n",
      "index_parallel=29\n",
      "rm: cannot remove '29_out/*': No such file or directory\n",
      "rm: cannot remove '29_score/*': No such file or directory\n",
      "sed -i 29_answer.cpp -e 's/^constexpr double ANNEALING_A = .*;  \\/\\/ OPTIMIZE \\[-10\\.0, 0\\.0\\]$/constexpr double ANNEALING_A = -6.700144408045546;  \\/\\/ OPTIMIZE [-10.0, 0.0]/' -e 's/^constexpr double ANNEALING_B = .*;  \\/\\/ OPTIMIZE \\[0\\.0, 7\\.0\\]$/constexpr double ANNEALING_B = 6.949971954989909;  \\/\\/ OPTIMIZE [0.0, 7.0]/' -e 's/^constexpr double ANNEALING_END = .*;  \\/\\/ OPTIMIZE \\[1e-4, 0\\.005\\] LOG$/constexpr double ANNEALING_END = 0.0014342309661374343;  \\/\\/ OPTIMIZE [1e-4, 0.005] LOG/' -e 's/^constexpr double ANNEALING_START = .*;  \\/\\/ OPTIMIZE \\[0\\.001, 0\\.5\\] LOG$/constexpr double ANNEALING_START = 0.27466536230555966;  \\/\\/ OPTIMIZE [0.001, 0.5] LOG/' -e 's/^constexpr double GRADIENT_CLIPPING = .*;  \\/\\/ OPTIMIZE \\[1e-7, 2e-4\\] LOG$/constexpr double GRADIENT_CLIPPING = 2.3486959219451e-05;  \\/\\/ OPTIMIZE [1e-7, 2e-4] LOG/' -e 's/^constexpr double GRADIENT_DESCENT_LR = .*;  \\/\\/ OPTIMIZE \\[100000\\.0, 50000000\\.0\\] LOG$/constexpr double GRADIENT_DESCENT_LR = 9398531.820073549;  \\/\\/ OPTIMIZE [100000.0, 50000000.0] LOG/' -e 's/^constexpr double GRADIENT_DESCENT_MOMENTUM = .*;  \\/\\/ OPTIMIZE \\[0\\.0, 1\\.0\\]$/constexpr double GRADIENT_DESCENT_MOMENTUM = 0.5394728639475276;  \\/\\/ OPTIMIZE [0.0, 1.0]/' -e 's/^constexpr int GRADIENT_DESCENT_STEPS = .*;  \\/\\/ OPTIMIZE \\[1, 30\\]$/constexpr int GRADIENT_DESCENT_STEPS = 30;  \\/\\/ OPTIMIZE [1, 30]/' -e 's/^constexpr double GRADIENT_DESCENT_STEPS_STEPPING_PROGRESS_RATE = .*;  \\/\\/ OPTIMIZE \\[0\\.0, 1\\.0\\]$/constexpr double GRADIENT_DESCENT_STEPS_STEPPING_PROGRESS_RATE = 0.7110040088632252;  \\/\\/ OPTIMIZE [0.0, 1.0]/' -e 's/^constexpr double LINE_LENGTH_LOSS_STEPPING_PROGRESS_RATE = .*;  \\/\\/ OPTIMIZE \\[0\\.0, 1\\.0\\]$/constexpr double LINE_LENGTH_LOSS_STEPPING_PROGRESS_RATE = 0.38977219591960655;  \\/\\/ OPTIMIZE [0.0, 1.0]/' -e 's/^constexpr double  LINE_LENGTH_LOSS_WEIGHT = .*;  \\/\\/ OPTIMIZE \\[1e-8, 1e-4\\] LOG$/constexpr double  LINE_LENGTH_LOSS_WEIGHT = 2.5455862723285263e-05;  \\/\\/ OPTIMIZE [1e-8, 1e-4] LOG/' -e 's/^constexpr int N_RANDOM_FACE_CHOICE = .*;  \\/\\/ OPTIMIZE \\[1, 10\\]$/constexpr int N_RANDOM_FACE_CHOICE = 6;  \\/\\/ OPTIMIZE [1, 10]/' -e 's/^std::string hoge=.*; \\/\\/OPTIMIZE{\"11\", \"unnn\" ,\"ooo\"}$/std::string hoge=\"ooo\"; \\/\\/OPTIMIZE{\"11\", \"unnn\" ,\"ooo\"}/'\n",
      "g++ 29_answer.cpp -std=gnu++17 -O2 -DONLINE_JUDGE -o 29_answer.cpp.out\n"
     ]
    },
    {
     "name": "stderr",
     "output_type": "stream",
     "text": [
      "\u001b[32m[I 2021-04-25 09:45:46,671]\u001b[0m Trial 28 finished with value: 48953517210.0 and parameters: {'ANNEALING_A': -6.4970611621769745, 'ANNEALING_B': 6.870719130967376, 'ANNEALING_END': 0.0013314035284319413, 'ANNEALING_START': 0.36456546704165455, 'GRADIENT_CLIPPING': 0.00012690087214209741, 'GRADIENT_DESCENT_LR': 15153423.25647835, 'GRADIENT_DESCENT_MOMENTUM': 0.7020295863308871, 'GRADIENT_DESCENT_STEPS': 22, 'GRADIENT_DESCENT_STEPS_STEPPING_PROGRESS_RATE': 0.9992423670939334, 'LINE_LENGTH_LOSS_STEPPING_PROGRESS_RATE': 0.3698619754648743, 'LINE_LENGTH_LOSS_WEIGHT': 2.7177009154261083e-05, 'N_RANDOM_FACE_CHOICE': 9, 'hoge': '\"ooo\"'}. Best is trial 21 with value: 49145196093.0.\u001b[0m\n"
     ]
    },
    {
     "name": "stdout",
     "output_type": "stream",
     "text": [
      "callback ok\n",
      "index_parallel=30\n",
      "rm: cannot remove '30_out/*': No such file or directory\n",
      "rm: cannot remove '30_score/*': No such file or directory\n",
      "sed -i 30_answer.cpp -e 's/^constexpr double ANNEALING_A = .*;  \\/\\/ OPTIMIZE \\[-10\\.0, 0\\.0\\]$/constexpr double ANNEALING_A = -4.447034213865254;  \\/\\/ OPTIMIZE [-10.0, 0.0]/' -e 's/^constexpr double ANNEALING_B = .*;  \\/\\/ OPTIMIZE \\[0\\.0, 7\\.0\\]$/constexpr double ANNEALING_B = 6.080532156608449;  \\/\\/ OPTIMIZE [0.0, 7.0]/' -e 's/^constexpr double ANNEALING_END = .*;  \\/\\/ OPTIMIZE \\[1e-4, 0\\.005\\] LOG$/constexpr double ANNEALING_END = 0.0011851636385482116;  \\/\\/ OPTIMIZE [1e-4, 0.005] LOG/' -e 's/^constexpr double ANNEALING_START = .*;  \\/\\/ OPTIMIZE \\[0\\.001, 0\\.5\\] LOG$/constexpr double ANNEALING_START = 0.2696082031519989;  \\/\\/ OPTIMIZE [0.001, 0.5] LOG/' -e 's/^constexpr double GRADIENT_CLIPPING = .*;  \\/\\/ OPTIMIZE \\[1e-7, 2e-4\\] LOG$/constexpr double GRADIENT_CLIPPING = 4.2374551319479325e-05;  \\/\\/ OPTIMIZE [1e-7, 2e-4] LOG/' -e 's/^constexpr double GRADIENT_DESCENT_LR = .*;  \\/\\/ OPTIMIZE \\[100000\\.0, 50000000\\.0\\] LOG$/constexpr double GRADIENT_DESCENT_LR = 22007679.20028241;  \\/\\/ OPTIMIZE [100000.0, 50000000.0] LOG/' -e 's/^constexpr double GRADIENT_DESCENT_MOMENTUM = .*;  \\/\\/ OPTIMIZE \\[0\\.0, 1\\.0\\]$/constexpr double GRADIENT_DESCENT_MOMENTUM = 0.995316568051669;  \\/\\/ OPTIMIZE [0.0, 1.0]/' -e 's/^constexpr int GRADIENT_DESCENT_STEPS = .*;  \\/\\/ OPTIMIZE \\[1, 30\\]$/constexpr int GRADIENT_DESCENT_STEPS = 17;  \\/\\/ OPTIMIZE [1, 30]/' -e 's/^constexpr double GRADIENT_DESCENT_STEPS_STEPPING_PROGRESS_RATE = .*;  \\/\\/ OPTIMIZE \\[0\\.0, 1\\.0\\]$/constexpr double GRADIENT_DESCENT_STEPS_STEPPING_PROGRESS_RATE = 0.0004413937994544592;  \\/\\/ OPTIMIZE [0.0, 1.0]/' -e 's/^constexpr double LINE_LENGTH_LOSS_STEPPING_PROGRESS_RATE = .*;  \\/\\/ OPTIMIZE \\[0\\.0, 1\\.0\\]$/constexpr double LINE_LENGTH_LOSS_STEPPING_PROGRESS_RATE = 0.26933049313958146;  \\/\\/ OPTIMIZE [0.0, 1.0]/' -e 's/^constexpr double  LINE_LENGTH_LOSS_WEIGHT = .*;  \\/\\/ OPTIMIZE \\[1e-8, 1e-4\\] LOG$/constexpr double  LINE_LENGTH_LOSS_WEIGHT = 5.0029460535004546e-05;  \\/\\/ OPTIMIZE [1e-8, 1e-4] LOG/' -e 's/^constexpr int N_RANDOM_FACE_CHOICE = .*;  \\/\\/ OPTIMIZE \\[1, 10\\]$/constexpr int N_RANDOM_FACE_CHOICE = 6;  \\/\\/ OPTIMIZE [1, 10]/' -e 's/^std::string hoge=.*; \\/\\/OPTIMIZE{\"11\", \"unnn\" ,\"ooo\"}$/std::string hoge=\"ooo\"; \\/\\/OPTIMIZE{\"11\", \"unnn\" ,\"ooo\"}/'\n",
      "g++ 30_answer.cpp -std=gnu++17 -O2 -DONLINE_JUDGE -o 30_answer.cpp.out\n"
     ]
    },
    {
     "name": "stderr",
     "output_type": "stream",
     "text": [
      "\u001b[32m[I 2021-04-25 09:45:55,015]\u001b[0m Trial 29 finished with value: 49029801545.0 and parameters: {'ANNEALING_A': -6.700144408045546, 'ANNEALING_B': 6.949971954989909, 'ANNEALING_END': 0.0014342309661374343, 'ANNEALING_START': 0.27466536230555966, 'GRADIENT_CLIPPING': 2.3486959219451e-05, 'GRADIENT_DESCENT_LR': 9398531.820073549, 'GRADIENT_DESCENT_MOMENTUM': 0.5394728639475276, 'GRADIENT_DESCENT_STEPS': 30, 'GRADIENT_DESCENT_STEPS_STEPPING_PROGRESS_RATE': 0.7110040088632252, 'LINE_LENGTH_LOSS_STEPPING_PROGRESS_RATE': 0.38977219591960655, 'LINE_LENGTH_LOSS_WEIGHT': 2.5455862723285263e-05, 'N_RANDOM_FACE_CHOICE': 6, 'hoge': '\"ooo\"'}. Best is trial 21 with value: 49145196093.0.\u001b[0m\n"
     ]
    },
    {
     "name": "stdout",
     "output_type": "stream",
     "text": [
      "callback ok\n",
      "index_parallel=31\n",
      "rm: cannot remove '31_out/*': No such file or directory\n",
      "rm: cannot remove '31_score/*': No such file or directory\n",
      "sed -i 31_answer.cpp -e 's/^constexpr double ANNEALING_A = .*;  \\/\\/ OPTIMIZE \\[-10\\.0, 0\\.0\\]$/constexpr double ANNEALING_A = -5.089189648273306;  \\/\\/ OPTIMIZE [-10.0, 0.0]/' -e 's/^constexpr double ANNEALING_B = .*;  \\/\\/ OPTIMIZE \\[0\\.0, 7\\.0\\]$/constexpr double ANNEALING_B = 6.029641039408888;  \\/\\/ OPTIMIZE [0.0, 7.0]/' -e 's/^constexpr double ANNEALING_END = .*;  \\/\\/ OPTIMIZE \\[1e-4, 0\\.005\\] LOG$/constexpr double ANNEALING_END = 0.0005030056929794663;  \\/\\/ OPTIMIZE [1e-4, 0.005] LOG/' -e 's/^constexpr double ANNEALING_START = .*;  \\/\\/ OPTIMIZE \\[0\\.001, 0\\.5\\] LOG$/constexpr double ANNEALING_START = 0.43440970693046965;  \\/\\/ OPTIMIZE [0.001, 0.5] LOG/' -e 's/^constexpr double GRADIENT_CLIPPING = .*;  \\/\\/ OPTIMIZE \\[1e-7, 2e-4\\] LOG$/constexpr double GRADIENT_CLIPPING = 4.2689948727356696e-05;  \\/\\/ OPTIMIZE [1e-7, 2e-4] LOG/' -e 's/^constexpr double GRADIENT_DESCENT_LR = .*;  \\/\\/ OPTIMIZE \\[100000\\.0, 50000000\\.0\\] LOG$/constexpr double GRADIENT_DESCENT_LR = 3214456.250317107;  \\/\\/ OPTIMIZE [100000.0, 50000000.0] LOG/' -e 's/^constexpr double GRADIENT_DESCENT_MOMENTUM = .*;  \\/\\/ OPTIMIZE \\[0\\.0, 1\\.0\\]$/constexpr double GRADIENT_DESCENT_MOMENTUM = 0.9806095788304167;  \\/\\/ OPTIMIZE [0.0, 1.0]/' -e 's/^constexpr int GRADIENT_DESCENT_STEPS = .*;  \\/\\/ OPTIMIZE \\[1, 30\\]$/constexpr int GRADIENT_DESCENT_STEPS = 17;  \\/\\/ OPTIMIZE [1, 30]/' -e 's/^constexpr double GRADIENT_DESCENT_STEPS_STEPPING_PROGRESS_RATE = .*;  \\/\\/ OPTIMIZE \\[0\\.0, 1\\.0\\]$/constexpr double GRADIENT_DESCENT_STEPS_STEPPING_PROGRESS_RATE = 0.9073665278230126;  \\/\\/ OPTIMIZE [0.0, 1.0]/' -e 's/^constexpr double LINE_LENGTH_LOSS_STEPPING_PROGRESS_RATE = .*;  \\/\\/ OPTIMIZE \\[0\\.0, 1\\.0\\]$/constexpr double LINE_LENGTH_LOSS_STEPPING_PROGRESS_RATE = 0.2750266135672505;  \\/\\/ OPTIMIZE [0.0, 1.0]/' -e 's/^constexpr double  LINE_LENGTH_LOSS_WEIGHT = .*;  \\/\\/ OPTIMIZE \\[1e-8, 1e-4\\] LOG$/constexpr double  LINE_LENGTH_LOSS_WEIGHT = 5.476996960274673e-05;  \\/\\/ OPTIMIZE [1e-8, 1e-4] LOG/' -e 's/^constexpr int N_RANDOM_FACE_CHOICE = .*;  \\/\\/ OPTIMIZE \\[1, 10\\]$/constexpr int N_RANDOM_FACE_CHOICE = 6;  \\/\\/ OPTIMIZE [1, 10]/' -e 's/^std::string hoge=.*; \\/\\/OPTIMIZE{\"11\", \"unnn\" ,\"ooo\"}$/std::string hoge=\"ooo\"; \\/\\/OPTIMIZE{\"11\", \"unnn\" ,\"ooo\"}/'\n",
      "g++ 31_answer.cpp -std=gnu++17 -O2 -DONLINE_JUDGE -o 31_answer.cpp.out\n"
     ]
    },
    {
     "name": "stderr",
     "output_type": "stream",
     "text": [
      "\u001b[32m[I 2021-04-25 09:47:04,187]\u001b[0m Trial 30 finished with value: 46282820131.0 and parameters: {'ANNEALING_A': -4.447034213865254, 'ANNEALING_B': 6.080532156608449, 'ANNEALING_END': 0.0011851636385482116, 'ANNEALING_START': 0.2696082031519989, 'GRADIENT_CLIPPING': 4.2374551319479325e-05, 'GRADIENT_DESCENT_LR': 22007679.20028241, 'GRADIENT_DESCENT_MOMENTUM': 0.995316568051669, 'GRADIENT_DESCENT_STEPS': 17, 'GRADIENT_DESCENT_STEPS_STEPPING_PROGRESS_RATE': 0.0004413937994544592, 'LINE_LENGTH_LOSS_STEPPING_PROGRESS_RATE': 0.26933049313958146, 'LINE_LENGTH_LOSS_WEIGHT': 5.0029460535004546e-05, 'N_RANDOM_FACE_CHOICE': 6, 'hoge': '\"ooo\"'}. Best is trial 21 with value: 49145196093.0.\u001b[0m\n"
     ]
    },
    {
     "name": "stdout",
     "output_type": "stream",
     "text": [
      "callback ok\n",
      "index_parallel=32\n",
      "rm: cannot remove '32_out/*': No such file or directory\n",
      "rm: cannot remove '32_score/*': No such file or directory\n",
      "sed -i 32_answer.cpp -e 's/^constexpr double ANNEALING_A = .*;  \\/\\/ OPTIMIZE \\[-10\\.0, 0\\.0\\]$/constexpr double ANNEALING_A = -9.153536793703541;  \\/\\/ OPTIMIZE [-10.0, 0.0]/' -e 's/^constexpr double ANNEALING_B = .*;  \\/\\/ OPTIMIZE \\[0\\.0, 7\\.0\\]$/constexpr double ANNEALING_B = 5.952884918692481;  \\/\\/ OPTIMIZE [0.0, 7.0]/' -e 's/^constexpr double ANNEALING_END = .*;  \\/\\/ OPTIMIZE \\[1e-4, 0\\.005\\] LOG$/constexpr double ANNEALING_END = 0.0005686194714617082;  \\/\\/ OPTIMIZE [1e-4, 0.005] LOG/' -e 's/^constexpr double ANNEALING_START = .*;  \\/\\/ OPTIMIZE \\[0\\.001, 0\\.5\\] LOG$/constexpr double ANNEALING_START = 0.21537306905052866;  \\/\\/ OPTIMIZE [0.001, 0.5] LOG/' -e 's/^constexpr double GRADIENT_CLIPPING = .*;  \\/\\/ OPTIMIZE \\[1e-7, 2e-4\\] LOG$/constexpr double GRADIENT_CLIPPING = 7.162063252291666e-05;  \\/\\/ OPTIMIZE [1e-7, 2e-4] LOG/' -e 's/^constexpr double GRADIENT_DESCENT_LR = .*;  \\/\\/ OPTIMIZE \\[100000\\.0, 50000000\\.0\\] LOG$/constexpr double GRADIENT_DESCENT_LR = 3803649.632076926;  \\/\\/ OPTIMIZE [100000.0, 50000000.0] LOG/' -e 's/^constexpr double GRADIENT_DESCENT_MOMENTUM = .*;  \\/\\/ OPTIMIZE \\[0\\.0, 1\\.0\\]$/constexpr double GRADIENT_DESCENT_MOMENTUM = 0.1675355747173434;  \\/\\/ OPTIMIZE [0.0, 1.0]/' -e 's/^constexpr int GRADIENT_DESCENT_STEPS = .*;  \\/\\/ OPTIMIZE \\[1, 30\\]$/constexpr int GRADIENT_DESCENT_STEPS = 28;  \\/\\/ OPTIMIZE [1, 30]/' -e 's/^constexpr double GRADIENT_DESCENT_STEPS_STEPPING_PROGRESS_RATE = .*;  \\/\\/ OPTIMIZE \\[0\\.0, 1\\.0\\]$/constexpr double GRADIENT_DESCENT_STEPS_STEPPING_PROGRESS_RATE = 0.9946275223737252;  \\/\\/ OPTIMIZE [0.0, 1.0]/' -e 's/^constexpr double LINE_LENGTH_LOSS_STEPPING_PROGRESS_RATE = .*;  \\/\\/ OPTIMIZE \\[0\\.0, 1\\.0\\]$/constexpr double LINE_LENGTH_LOSS_STEPPING_PROGRESS_RATE = 0.5320686843054536;  \\/\\/ OPTIMIZE [0.0, 1.0]/' -e 's/^constexpr double  LINE_LENGTH_LOSS_WEIGHT = .*;  \\/\\/ OPTIMIZE \\[1e-8, 1e-4\\] LOG$/constexpr double  LINE_LENGTH_LOSS_WEIGHT = 5.0552258696051715e-05;  \\/\\/ OPTIMIZE [1e-8, 1e-4] LOG/' -e 's/^constexpr int N_RANDOM_FACE_CHOICE = .*;  \\/\\/ OPTIMIZE \\[1, 10\\]$/constexpr int N_RANDOM_FACE_CHOICE = 9;  \\/\\/ OPTIMIZE [1, 10]/' -e 's/^std::string hoge=.*; \\/\\/OPTIMIZE{\"11\", \"unnn\" ,\"ooo\"}$/std::string hoge=\"ooo\"; \\/\\/OPTIMIZE{\"11\", \"unnn\" ,\"ooo\"}/'\n",
      "g++ 32_answer.cpp -std=gnu++17 -O2 -DONLINE_JUDGE -o 32_answer.cpp.out\n"
     ]
    },
    {
     "name": "stderr",
     "output_type": "stream",
     "text": [
      "\u001b[32m[I 2021-04-25 09:47:15,451]\u001b[0m Trial 31 finished with value: 45143207915.0 and parameters: {'ANNEALING_A': -5.089189648273306, 'ANNEALING_B': 6.029641039408888, 'ANNEALING_END': 0.0005030056929794663, 'ANNEALING_START': 0.43440970693046965, 'GRADIENT_CLIPPING': 4.2689948727356696e-05, 'GRADIENT_DESCENT_LR': 3214456.250317107, 'GRADIENT_DESCENT_MOMENTUM': 0.9806095788304167, 'GRADIENT_DESCENT_STEPS': 17, 'GRADIENT_DESCENT_STEPS_STEPPING_PROGRESS_RATE': 0.9073665278230126, 'LINE_LENGTH_LOSS_STEPPING_PROGRESS_RATE': 0.2750266135672505, 'LINE_LENGTH_LOSS_WEIGHT': 5.476996960274673e-05, 'N_RANDOM_FACE_CHOICE': 6, 'hoge': '\"ooo\"'}. Best is trial 21 with value: 49145196093.0.\u001b[0m\n"
     ]
    },
    {
     "name": "stdout",
     "output_type": "stream",
     "text": [
      "callback ok\n",
      "index_parallel=33\n",
      "rm: cannot remove '33_out/*': No such file or directory\n",
      "rm: cannot remove '33_score/*': No such file or directory\n",
      "sed -i 33_answer.cpp -e 's/^constexpr double ANNEALING_A = .*;  \\/\\/ OPTIMIZE \\[-10\\.0, 0\\.0\\]$/constexpr double ANNEALING_A = -9.249913969103302;  \\/\\/ OPTIMIZE [-10.0, 0.0]/' -e 's/^constexpr double ANNEALING_B = .*;  \\/\\/ OPTIMIZE \\[0\\.0, 7\\.0\\]$/constexpr double ANNEALING_B = 5.56758102572398;  \\/\\/ OPTIMIZE [0.0, 7.0]/' -e 's/^constexpr double ANNEALING_END = .*;  \\/\\/ OPTIMIZE \\[1e-4, 0\\.005\\] LOG$/constexpr double ANNEALING_END = 0.0006612547530768137;  \\/\\/ OPTIMIZE [1e-4, 0.005] LOG/' -e 's/^constexpr double ANNEALING_START = .*;  \\/\\/ OPTIMIZE \\[0\\.001, 0\\.5\\] LOG$/constexpr double ANNEALING_START = 0.1915299069419689;  \\/\\/ OPTIMIZE [0.001, 0.5] LOG/' -e 's/^constexpr double GRADIENT_CLIPPING = .*;  \\/\\/ OPTIMIZE \\[1e-7, 2e-4\\] LOG$/constexpr double GRADIENT_CLIPPING = 7.099716125191624e-05;  \\/\\/ OPTIMIZE [1e-7, 2e-4] LOG/' -e 's/^constexpr double GRADIENT_DESCENT_LR = .*;  \\/\\/ OPTIMIZE \\[100000\\.0, 50000000\\.0\\] LOG$/constexpr double GRADIENT_DESCENT_LR = 8763307.157426309;  \\/\\/ OPTIMIZE [100000.0, 50000000.0] LOG/' -e 's/^constexpr double GRADIENT_DESCENT_MOMENTUM = .*;  \\/\\/ OPTIMIZE \\[0\\.0, 1\\.0\\]$/constexpr double GRADIENT_DESCENT_MOMENTUM = 0.11155663343247296;  \\/\\/ OPTIMIZE [0.0, 1.0]/' -e 's/^constexpr int GRADIENT_DESCENT_STEPS = .*;  \\/\\/ OPTIMIZE \\[1, 30\\]$/constexpr int GRADIENT_DESCENT_STEPS = 28;  \\/\\/ OPTIMIZE [1, 30]/' -e 's/^constexpr double GRADIENT_DESCENT_STEPS_STEPPING_PROGRESS_RATE = .*;  \\/\\/ OPTIMIZE \\[0\\.0, 1\\.0\\]$/constexpr double GRADIENT_DESCENT_STEPS_STEPPING_PROGRESS_RATE = 0.9774752265466032;  \\/\\/ OPTIMIZE [0.0, 1.0]/' -e 's/^constexpr double LINE_LENGTH_LOSS_STEPPING_PROGRESS_RATE = .*;  \\/\\/ OPTIMIZE \\[0\\.0, 1\\.0\\]$/constexpr double LINE_LENGTH_LOSS_STEPPING_PROGRESS_RATE = 0.7601393794227898;  \\/\\/ OPTIMIZE [0.0, 1.0]/' -e 's/^constexpr double  LINE_LENGTH_LOSS_WEIGHT = .*;  \\/\\/ OPTIMIZE \\[1e-8, 1e-4\\] LOG$/constexpr double  LINE_LENGTH_LOSS_WEIGHT = 4.36630645116474e-05;  \\/\\/ OPTIMIZE [1e-8, 1e-4] LOG/' -e 's/^constexpr int N_RANDOM_FACE_CHOICE = .*;  \\/\\/ OPTIMIZE \\[1, 10\\]$/constexpr int N_RANDOM_FACE_CHOICE = 9;  \\/\\/ OPTIMIZE [1, 10]/' -e 's/^std::string hoge=.*; \\/\\/OPTIMIZE{\"11\", \"unnn\" ,\"ooo\"}$/std::string hoge=\"ooo\"; \\/\\/OPTIMIZE{\"11\", \"unnn\" ,\"ooo\"}/'\n",
      "g++ 33_answer.cpp -std=gnu++17 -O2 -DONLINE_JUDGE -o 33_answer.cpp.out\n"
     ]
    },
    {
     "name": "stderr",
     "output_type": "stream",
     "text": [
      "\u001b[32m[I 2021-04-25 09:48:22,624]\u001b[0m Trial 32 finished with value: 49240807952.0 and parameters: {'ANNEALING_A': -9.153536793703541, 'ANNEALING_B': 5.952884918692481, 'ANNEALING_END': 0.0005686194714617082, 'ANNEALING_START': 0.21537306905052866, 'GRADIENT_CLIPPING': 7.162063252291666e-05, 'GRADIENT_DESCENT_LR': 3803649.632076926, 'GRADIENT_DESCENT_MOMENTUM': 0.1675355747173434, 'GRADIENT_DESCENT_STEPS': 28, 'GRADIENT_DESCENT_STEPS_STEPPING_PROGRESS_RATE': 0.9946275223737252, 'LINE_LENGTH_LOSS_STEPPING_PROGRESS_RATE': 0.5320686843054536, 'LINE_LENGTH_LOSS_WEIGHT': 5.0552258696051715e-05, 'N_RANDOM_FACE_CHOICE': 9, 'hoge': '\"ooo\"'}. Best is trial 32 with value: 49240807952.0.\u001b[0m\n"
     ]
    },
    {
     "name": "stdout",
     "output_type": "stream",
     "text": [
      "Updated! 49240807952.0 -> 49240807952.0\n",
      "callback ok\n",
      "index_parallel=34\n",
      "rm: cannot remove '34_out/*': No such file or directory\n",
      "rm: cannot remove '34_score/*': No such file or directory\n",
      "sed -i 34_answer.cpp -e 's/^constexpr double ANNEALING_A = .*;  \\/\\/ OPTIMIZE \\[-10\\.0, 0\\.0\\]$/constexpr double ANNEALING_A = -9.17412830330527;  \\/\\/ OPTIMIZE [-10.0, 0.0]/' -e 's/^constexpr double ANNEALING_B = .*;  \\/\\/ OPTIMIZE \\[0\\.0, 7\\.0\\]$/constexpr double ANNEALING_B = 5.609396164998655;  \\/\\/ OPTIMIZE [0.0, 7.0]/' -e 's/^constexpr double ANNEALING_END = .*;  \\/\\/ OPTIMIZE \\[1e-4, 0\\.005\\] LOG$/constexpr double ANNEALING_END = 0.0005243623734880215;  \\/\\/ OPTIMIZE [1e-4, 0.005] LOG/' -e 's/^constexpr double ANNEALING_START = .*;  \\/\\/ OPTIMIZE \\[0\\.001, 0\\.5\\] LOG$/constexpr double ANNEALING_START = 0.19882240665909306;  \\/\\/ OPTIMIZE [0.001, 0.5] LOG/' -e 's/^constexpr double GRADIENT_CLIPPING = .*;  \\/\\/ OPTIMIZE \\[1e-7, 2e-4\\] LOG$/constexpr double GRADIENT_CLIPPING = 9.429118129249128e-05;  \\/\\/ OPTIMIZE [1e-7, 2e-4] LOG/' -e 's/^constexpr double GRADIENT_DESCENT_LR = .*;  \\/\\/ OPTIMIZE \\[100000\\.0, 50000000\\.0\\] LOG$/constexpr double GRADIENT_DESCENT_LR = 4558526.424713252;  \\/\\/ OPTIMIZE [100000.0, 50000000.0] LOG/' -e 's/^constexpr double GRADIENT_DESCENT_MOMENTUM = .*;  \\/\\/ OPTIMIZE \\[0\\.0, 1\\.0\\]$/constexpr double GRADIENT_DESCENT_MOMENTUM = 0.13408540286322873;  \\/\\/ OPTIMIZE [0.0, 1.0]/' -e 's/^constexpr int GRADIENT_DESCENT_STEPS = .*;  \\/\\/ OPTIMIZE \\[1, 30\\]$/constexpr int GRADIENT_DESCENT_STEPS = 29;  \\/\\/ OPTIMIZE [1, 30]/' -e 's/^constexpr double GRADIENT_DESCENT_STEPS_STEPPING_PROGRESS_RATE = .*;  \\/\\/ OPTIMIZE \\[0\\.0, 1\\.0\\]$/constexpr double GRADIENT_DESCENT_STEPS_STEPPING_PROGRESS_RATE = 0.9989438623887718;  \\/\\/ OPTIMIZE [0.0, 1.0]/' -e 's/^constexpr double LINE_LENGTH_LOSS_STEPPING_PROGRESS_RATE = .*;  \\/\\/ OPTIMIZE \\[0\\.0, 1\\.0\\]$/constexpr double LINE_LENGTH_LOSS_STEPPING_PROGRESS_RATE = 0.7589173606771626;  \\/\\/ OPTIMIZE [0.0, 1.0]/' -e 's/^constexpr double  LINE_LENGTH_LOSS_WEIGHT = .*;  \\/\\/ OPTIMIZE \\[1e-8, 1e-4\\] LOG$/constexpr double  LINE_LENGTH_LOSS_WEIGHT = 7.053474919135911e-05;  \\/\\/ OPTIMIZE [1e-8, 1e-4] LOG/' -e 's/^constexpr int N_RANDOM_FACE_CHOICE = .*;  \\/\\/ OPTIMIZE \\[1, 10\\]$/constexpr int N_RANDOM_FACE_CHOICE = 9;  \\/\\/ OPTIMIZE [1, 10]/' -e 's/^std::string hoge=.*; \\/\\/OPTIMIZE{\"11\", \"unnn\" ,\"ooo\"}$/std::string hoge=\"ooo\"; \\/\\/OPTIMIZE{\"11\", \"unnn\" ,\"ooo\"}/'\n",
      "g++ 34_answer.cpp -std=gnu++17 -O2 -DONLINE_JUDGE -o 34_answer.cpp.out\n"
     ]
    },
    {
     "name": "stderr",
     "output_type": "stream",
     "text": [
      "\u001b[32m[I 2021-04-25 09:48:33,775]\u001b[0m Trial 33 finished with value: 49100414004.0 and parameters: {'ANNEALING_A': -9.249913969103302, 'ANNEALING_B': 5.56758102572398, 'ANNEALING_END': 0.0006612547530768137, 'ANNEALING_START': 0.1915299069419689, 'GRADIENT_CLIPPING': 7.099716125191624e-05, 'GRADIENT_DESCENT_LR': 8763307.157426309, 'GRADIENT_DESCENT_MOMENTUM': 0.11155663343247296, 'GRADIENT_DESCENT_STEPS': 28, 'GRADIENT_DESCENT_STEPS_STEPPING_PROGRESS_RATE': 0.9774752265466032, 'LINE_LENGTH_LOSS_STEPPING_PROGRESS_RATE': 0.7601393794227898, 'LINE_LENGTH_LOSS_WEIGHT': 4.36630645116474e-05, 'N_RANDOM_FACE_CHOICE': 9, 'hoge': '\"ooo\"'}. Best is trial 32 with value: 49240807952.0.\u001b[0m\n"
     ]
    },
    {
     "name": "stdout",
     "output_type": "stream",
     "text": [
      "callback ok\n",
      "index_parallel=35\n",
      "rm: cannot remove '35_out/*': No such file or directory\n",
      "rm: cannot remove '35_score/*': No such file or directory\n",
      "sed -i 35_answer.cpp -e 's/^constexpr double ANNEALING_A = .*;  \\/\\/ OPTIMIZE \\[-10\\.0, 0\\.0\\]$/constexpr double ANNEALING_A = -9.33748846314267;  \\/\\/ OPTIMIZE [-10.0, 0.0]/' -e 's/^constexpr double ANNEALING_B = .*;  \\/\\/ OPTIMIZE \\[0\\.0, 7\\.0\\]$/constexpr double ANNEALING_B = 5.645788415747478;  \\/\\/ OPTIMIZE [0.0, 7.0]/' -e 's/^constexpr double ANNEALING_END = .*;  \\/\\/ OPTIMIZE \\[1e-4, 0\\.005\\] LOG$/constexpr double ANNEALING_END = 0.0004898824297053792;  \\/\\/ OPTIMIZE [1e-4, 0.005] LOG/' -e 's/^constexpr double ANNEALING_START = .*;  \\/\\/ OPTIMIZE \\[0\\.001, 0\\.5\\] LOG$/constexpr double ANNEALING_START = 0.20541320249457254;  \\/\\/ OPTIMIZE [0.001, 0.5] LOG/' -e 's/^constexpr double GRADIENT_CLIPPING = .*;  \\/\\/ OPTIMIZE \\[1e-7, 2e-4\\] LOG$/constexpr double GRADIENT_CLIPPING = 9.64500390106963e-05;  \\/\\/ OPTIMIZE [1e-7, 2e-4] LOG/' -e 's/^constexpr double GRADIENT_DESCENT_LR = .*;  \\/\\/ OPTIMIZE \\[100000\\.0, 50000000\\.0\\] LOG$/constexpr double GRADIENT_DESCENT_LR = 10124476.883062288;  \\/\\/ OPTIMIZE [100000.0, 50000000.0] LOG/' -e 's/^constexpr double GRADIENT_DESCENT_MOMENTUM = .*;  \\/\\/ OPTIMIZE \\[0\\.0, 1\\.0\\]$/constexpr double GRADIENT_DESCENT_MOMENTUM = 0.11280736952212975;  \\/\\/ OPTIMIZE [0.0, 1.0]/' -e 's/^constexpr int GRADIENT_DESCENT_STEPS = .*;  \\/\\/ OPTIMIZE \\[1, 30\\]$/constexpr int GRADIENT_DESCENT_STEPS = 26;  \\/\\/ OPTIMIZE [1, 30]/' -e 's/^constexpr double GRADIENT_DESCENT_STEPS_STEPPING_PROGRESS_RATE = .*;  \\/\\/ OPTIMIZE \\[0\\.0, 1\\.0\\]$/constexpr double GRADIENT_DESCENT_STEPS_STEPPING_PROGRESS_RATE = 0.8707373338810047;  \\/\\/ OPTIMIZE [0.0, 1.0]/' -e 's/^constexpr double LINE_LENGTH_LOSS_STEPPING_PROGRESS_RATE = .*;  \\/\\/ OPTIMIZE \\[0\\.0, 1\\.0\\]$/constexpr double LINE_LENGTH_LOSS_STEPPING_PROGRESS_RATE = 0.8090636549538555;  \\/\\/ OPTIMIZE [0.0, 1.0]/' -e 's/^constexpr double  LINE_LENGTH_LOSS_WEIGHT = .*;  \\/\\/ OPTIMIZE \\[1e-8, 1e-4\\] LOG$/constexpr double  LINE_LENGTH_LOSS_WEIGHT = 3.862344516593295e-05;  \\/\\/ OPTIMIZE [1e-8, 1e-4] LOG/' -e 's/^constexpr int N_RANDOM_FACE_CHOICE = .*;  \\/\\/ OPTIMIZE \\[1, 10\\]$/constexpr int N_RANDOM_FACE_CHOICE = 8;  \\/\\/ OPTIMIZE [1, 10]/' -e 's/^std::string hoge=.*; \\/\\/OPTIMIZE{\"11\", \"unnn\" ,\"ooo\"}$/std::string hoge=\"ooo\"; \\/\\/OPTIMIZE{\"11\", \"unnn\" ,\"ooo\"}/'\n",
      "g++ 35_answer.cpp -std=gnu++17 -O2 -DONLINE_JUDGE -o 35_answer.cpp.out\n"
     ]
    },
    {
     "name": "stderr",
     "output_type": "stream",
     "text": [
      "\u001b[32m[I 2021-04-25 09:49:41,124]\u001b[0m Trial 34 finished with value: 49080305281.0 and parameters: {'ANNEALING_A': -9.17412830330527, 'ANNEALING_B': 5.609396164998655, 'ANNEALING_END': 0.0005243623734880215, 'ANNEALING_START': 0.19882240665909306, 'GRADIENT_CLIPPING': 9.429118129249128e-05, 'GRADIENT_DESCENT_LR': 4558526.424713252, 'GRADIENT_DESCENT_MOMENTUM': 0.13408540286322873, 'GRADIENT_DESCENT_STEPS': 29, 'GRADIENT_DESCENT_STEPS_STEPPING_PROGRESS_RATE': 0.9989438623887718, 'LINE_LENGTH_LOSS_STEPPING_PROGRESS_RATE': 0.7589173606771626, 'LINE_LENGTH_LOSS_WEIGHT': 7.053474919135911e-05, 'N_RANDOM_FACE_CHOICE': 9, 'hoge': '\"ooo\"'}. Best is trial 32 with value: 49240807952.0.\u001b[0m\n"
     ]
    },
    {
     "name": "stdout",
     "output_type": "stream",
     "text": [
      "callback ok\n",
      "index_parallel=36\n",
      "rm: cannot remove '36_out/*': No such file or directory\n",
      "rm: cannot remove '36_score/*': No such file or directory\n",
      "sed -i 36_answer.cpp -e 's/^constexpr double ANNEALING_A = .*;  \\/\\/ OPTIMIZE \\[-10\\.0, 0\\.0\\]$/constexpr double ANNEALING_A = -7.643209625532087;  \\/\\/ OPTIMIZE [-10.0, 0.0]/' -e 's/^constexpr double ANNEALING_B = .*;  \\/\\/ OPTIMIZE \\[0\\.0, 7\\.0\\]$/constexpr double ANNEALING_B = 6.410783316594234;  \\/\\/ OPTIMIZE [0.0, 7.0]/' -e 's/^constexpr double ANNEALING_END = .*;  \\/\\/ OPTIMIZE \\[1e-4, 0\\.005\\] LOG$/constexpr double ANNEALING_END = 0.0004944995196355355;  \\/\\/ OPTIMIZE [1e-4, 0.005] LOG/' -e 's/^constexpr double ANNEALING_START = .*;  \\/\\/ OPTIMIZE \\[0\\.001, 0\\.5\\] LOG$/constexpr double ANNEALING_START = 0.21541846558666175;  \\/\\/ OPTIMIZE [0.001, 0.5] LOG/' -e 's/^constexpr double GRADIENT_CLIPPING = .*;  \\/\\/ OPTIMIZE \\[1e-7, 2e-4\\] LOG$/constexpr double GRADIENT_CLIPPING = 9.964594280343272e-05;  \\/\\/ OPTIMIZE [1e-7, 2e-4] LOG/' -e 's/^constexpr double GRADIENT_DESCENT_LR = .*;  \\/\\/ OPTIMIZE \\[100000\\.0, 50000000\\.0\\] LOG$/constexpr double GRADIENT_DESCENT_LR = 10297904.48432894;  \\/\\/ OPTIMIZE [100000.0, 50000000.0] LOG/' -e 's/^constexpr double GRADIENT_DESCENT_MOMENTUM = .*;  \\/\\/ OPTIMIZE \\[0\\.0, 1\\.0\\]$/constexpr double GRADIENT_DESCENT_MOMENTUM = 0.08197903815669141;  \\/\\/ OPTIMIZE [0.0, 1.0]/' -e 's/^constexpr int GRADIENT_DESCENT_STEPS = .*;  \\/\\/ OPTIMIZE \\[1, 30\\]$/constexpr int GRADIENT_DESCENT_STEPS = 26;  \\/\\/ OPTIMIZE [1, 30]/' -e 's/^constexpr double GRADIENT_DESCENT_STEPS_STEPPING_PROGRESS_RATE = .*;  \\/\\/ OPTIMIZE \\[0\\.0, 1\\.0\\]$/constexpr double GRADIENT_DESCENT_STEPS_STEPPING_PROGRESS_RATE = 0.9396149430890133;  \\/\\/ OPTIMIZE [0.0, 1.0]/' -e 's/^constexpr double LINE_LENGTH_LOSS_STEPPING_PROGRESS_RATE = .*;  \\/\\/ OPTIMIZE \\[0\\.0, 1\\.0\\]$/constexpr double LINE_LENGTH_LOSS_STEPPING_PROGRESS_RATE = 0.9367410257427166;  \\/\\/ OPTIMIZE [0.0, 1.0]/' -e 's/^constexpr double  LINE_LENGTH_LOSS_WEIGHT = .*;  \\/\\/ OPTIMIZE \\[1e-8, 1e-4\\] LOG$/constexpr double  LINE_LENGTH_LOSS_WEIGHT = 3.983264520694029e-05;  \\/\\/ OPTIMIZE [1e-8, 1e-4] LOG/' -e 's/^constexpr int N_RANDOM_FACE_CHOICE = .*;  \\/\\/ OPTIMIZE \\[1, 10\\]$/constexpr int N_RANDOM_FACE_CHOICE = 8;  \\/\\/ OPTIMIZE [1, 10]/' -e 's/^std::string hoge=.*; \\/\\/OPTIMIZE{\"11\", \"unnn\" ,\"ooo\"}$/std::string hoge=\"ooo\"; \\/\\/OPTIMIZE{\"11\", \"unnn\" ,\"ooo\"}/'\n",
      "g++ 36_answer.cpp -std=gnu++17 -O2 -DONLINE_JUDGE -o 36_answer.cpp.out\n"
     ]
    },
    {
     "name": "stderr",
     "output_type": "stream",
     "text": [
      "\u001b[32m[I 2021-04-25 09:49:52,194]\u001b[0m Trial 35 finished with value: 49055398232.0 and parameters: {'ANNEALING_A': -9.33748846314267, 'ANNEALING_B': 5.645788415747478, 'ANNEALING_END': 0.0004898824297053792, 'ANNEALING_START': 0.20541320249457254, 'GRADIENT_CLIPPING': 9.64500390106963e-05, 'GRADIENT_DESCENT_LR': 10124476.883062288, 'GRADIENT_DESCENT_MOMENTUM': 0.11280736952212975, 'GRADIENT_DESCENT_STEPS': 26, 'GRADIENT_DESCENT_STEPS_STEPPING_PROGRESS_RATE': 0.8707373338810047, 'LINE_LENGTH_LOSS_STEPPING_PROGRESS_RATE': 0.8090636549538555, 'LINE_LENGTH_LOSS_WEIGHT': 3.862344516593295e-05, 'N_RANDOM_FACE_CHOICE': 8, 'hoge': '\"ooo\"'}. Best is trial 32 with value: 49240807952.0.\u001b[0m\n"
     ]
    },
    {
     "name": "stdout",
     "output_type": "stream",
     "text": [
      "callback ok\n",
      "index_parallel=37\n",
      "rm: cannot remove '37_out/*': No such file or directory\n",
      "rm: cannot remove '37_score/*': No such file or directory\n",
      "sed -i 37_answer.cpp -e 's/^constexpr double ANNEALING_A = .*;  \\/\\/ OPTIMIZE \\[-10\\.0, 0\\.0\\]$/constexpr double ANNEALING_A = -7.707022174563042;  \\/\\/ OPTIMIZE [-10.0, 0.0]/' -e 's/^constexpr double ANNEALING_B = .*;  \\/\\/ OPTIMIZE \\[0\\.0, 7\\.0\\]$/constexpr double ANNEALING_B = 6.449761365760253;  \\/\\/ OPTIMIZE [0.0, 7.0]/' -e 's/^constexpr double ANNEALING_END = .*;  \\/\\/ OPTIMIZE \\[1e-4, 0\\.005\\] LOG$/constexpr double ANNEALING_END = 0.00017510598999459503;  \\/\\/ OPTIMIZE [1e-4, 0.005] LOG/' -e 's/^constexpr double ANNEALING_START = .*;  \\/\\/ OPTIMIZE \\[0\\.001, 0\\.5\\] LOG$/constexpr double ANNEALING_START = 0.16463220976433052;  \\/\\/ OPTIMIZE [0.001, 0.5] LOG/' -e 's/^constexpr double GRADIENT_CLIPPING = .*;  \\/\\/ OPTIMIZE \\[1e-7, 2e-4\\] LOG$/constexpr double GRADIENT_CLIPPING = 7.207825824547356e-05;  \\/\\/ OPTIMIZE [1e-7, 2e-4] LOG/' -e 's/^constexpr double GRADIENT_DESCENT_LR = .*;  \\/\\/ OPTIMIZE \\[100000\\.0, 50000000\\.0\\] LOG$/constexpr double GRADIENT_DESCENT_LR = 561063.1217593839;  \\/\\/ OPTIMIZE [100000.0, 50000000.0] LOG/' -e 's/^constexpr double GRADIENT_DESCENT_MOMENTUM = .*;  \\/\\/ OPTIMIZE \\[0\\.0, 1\\.0\\]$/constexpr double GRADIENT_DESCENT_MOMENTUM = 0.7790441863372259;  \\/\\/ OPTIMIZE [0.0, 1.0]/' -e 's/^constexpr int GRADIENT_DESCENT_STEPS = .*;  \\/\\/ OPTIMIZE \\[1, 30\\]$/constexpr int GRADIENT_DESCENT_STEPS = 25;  \\/\\/ OPTIMIZE [1, 30]/' -e 's/^constexpr double GRADIENT_DESCENT_STEPS_STEPPING_PROGRESS_RATE = .*;  \\/\\/ OPTIMIZE \\[0\\.0, 1\\.0\\]$/constexpr double GRADIENT_DESCENT_STEPS_STEPPING_PROGRESS_RATE = 0.9337000871205396;  \\/\\/ OPTIMIZE [0.0, 1.0]/' -e 's/^constexpr double LINE_LENGTH_LOSS_STEPPING_PROGRESS_RATE = .*;  \\/\\/ OPTIMIZE \\[0\\.0, 1\\.0\\]$/constexpr double LINE_LENGTH_LOSS_STEPPING_PROGRESS_RATE = 0.48989492361257136;  \\/\\/ OPTIMIZE [0.0, 1.0]/' -e 's/^constexpr double  LINE_LENGTH_LOSS_WEIGHT = .*;  \\/\\/ OPTIMIZE \\[1e-8, 1e-4\\] LOG$/constexpr double  LINE_LENGTH_LOSS_WEIGHT = 6.560925311066177e-05;  \\/\\/ OPTIMIZE [1e-8, 1e-4] LOG/' -e 's/^constexpr int N_RANDOM_FACE_CHOICE = .*;  \\/\\/ OPTIMIZE \\[1, 10\\]$/constexpr int N_RANDOM_FACE_CHOICE = 8;  \\/\\/ OPTIMIZE [1, 10]/' -e 's/^std::string hoge=.*; \\/\\/OPTIMIZE{\"11\", \"unnn\" ,\"ooo\"}$/std::string hoge=\"unnn\"; \\/\\/OPTIMIZE{\"11\", \"unnn\" ,\"ooo\"}/'\n",
      "g++ 37_answer.cpp -std=gnu++17 -O2 -DONLINE_JUDGE -o 37_answer.cpp.out\n"
     ]
    },
    {
     "name": "stderr",
     "output_type": "stream",
     "text": [
      "\u001b[32m[I 2021-04-25 09:50:59,486]\u001b[0m Trial 36 finished with value: 49015386638.0 and parameters: {'ANNEALING_A': -7.643209625532087, 'ANNEALING_B': 6.410783316594234, 'ANNEALING_END': 0.0004944995196355355, 'ANNEALING_START': 0.21541846558666175, 'GRADIENT_CLIPPING': 9.964594280343272e-05, 'GRADIENT_DESCENT_LR': 10297904.48432894, 'GRADIENT_DESCENT_MOMENTUM': 0.08197903815669141, 'GRADIENT_DESCENT_STEPS': 26, 'GRADIENT_DESCENT_STEPS_STEPPING_PROGRESS_RATE': 0.9396149430890133, 'LINE_LENGTH_LOSS_STEPPING_PROGRESS_RATE': 0.9367410257427166, 'LINE_LENGTH_LOSS_WEIGHT': 3.983264520694029e-05, 'N_RANDOM_FACE_CHOICE': 8, 'hoge': '\"ooo\"'}. Best is trial 32 with value: 49240807952.0.\u001b[0m\n"
     ]
    },
    {
     "name": "stdout",
     "output_type": "stream",
     "text": [
      "callback ok\n",
      "index_parallel=38\n",
      "rm: cannot remove '38_out/*': No such file or directory\n",
      "rm: cannot remove '38_score/*': No such file or directory\n",
      "sed -i 38_answer.cpp -e 's/^constexpr double ANNEALING_A = .*;  \\/\\/ OPTIMIZE \\[-10\\.0, 0\\.0\\]$/constexpr double ANNEALING_A = -7.534738319033272;  \\/\\/ OPTIMIZE [-10.0, 0.0]/' -e 's/^constexpr double ANNEALING_B = .*;  \\/\\/ OPTIMIZE \\[0\\.0, 7\\.0\\]$/constexpr double ANNEALING_B = 6.379302243142035;  \\/\\/ OPTIMIZE [0.0, 7.0]/' -e 's/^constexpr double ANNEALING_END = .*;  \\/\\/ OPTIMIZE \\[1e-4, 0\\.005\\] LOG$/constexpr double ANNEALING_END = 0.0009482231127117306;  \\/\\/ OPTIMIZE [1e-4, 0.005] LOG/' -e 's/^constexpr double ANNEALING_START = .*;  \\/\\/ OPTIMIZE \\[0\\.001, 0\\.5\\] LOG$/constexpr double ANNEALING_START = 0.17335135971962384;  \\/\\/ OPTIMIZE [0.001, 0.5] LOG/' -e 's/^constexpr double GRADIENT_CLIPPING = .*;  \\/\\/ OPTIMIZE \\[1e-7, 2e-4\\] LOG$/constexpr double GRADIENT_CLIPPING = 7.028452984544617e-05;  \\/\\/ OPTIMIZE [1e-7, 2e-4] LOG/' -e 's/^constexpr double GRADIENT_DESCENT_LR = .*;  \\/\\/ OPTIMIZE \\[100000\\.0, 50000000\\.0\\] LOG$/constexpr double GRADIENT_DESCENT_LR = 396220.9889563294;  \\/\\/ OPTIMIZE [100000.0, 50000000.0] LOG/' -e 's/^constexpr double GRADIENT_DESCENT_MOMENTUM = .*;  \\/\\/ OPTIMIZE \\[0\\.0, 1\\.0\\]$/constexpr double GRADIENT_DESCENT_MOMENTUM = 0.596941543107866;  \\/\\/ OPTIMIZE [0.0, 1.0]/' -e 's/^constexpr int GRADIENT_DESCENT_STEPS = .*;  \\/\\/ OPTIMIZE \\[1, 30\\]$/constexpr int GRADIENT_DESCENT_STEPS = 23;  \\/\\/ OPTIMIZE [1, 30]/' -e 's/^constexpr double GRADIENT_DESCENT_STEPS_STEPPING_PROGRESS_RATE = .*;  \\/\\/ OPTIMIZE \\[0\\.0, 1\\.0\\]$/constexpr double GRADIENT_DESCENT_STEPS_STEPPING_PROGRESS_RATE = 0.7516402238716373;  \\/\\/ OPTIMIZE [0.0, 1.0]/' -e 's/^constexpr double LINE_LENGTH_LOSS_STEPPING_PROGRESS_RATE = .*;  \\/\\/ OPTIMIZE \\[0\\.0, 1\\.0\\]$/constexpr double LINE_LENGTH_LOSS_STEPPING_PROGRESS_RATE = 0.7050176081653097;  \\/\\/ OPTIMIZE [0.0, 1.0]/' -e 's/^constexpr double  LINE_LENGTH_LOSS_WEIGHT = .*;  \\/\\/ OPTIMIZE \\[1e-8, 1e-4\\] LOG$/constexpr double  LINE_LENGTH_LOSS_WEIGHT = 6.704740938230985e-05;  \\/\\/ OPTIMIZE [1e-8, 1e-4] LOG/' -e 's/^constexpr int N_RANDOM_FACE_CHOICE = .*;  \\/\\/ OPTIMIZE \\[1, 10\\]$/constexpr int N_RANDOM_FACE_CHOICE = 9;  \\/\\/ OPTIMIZE [1, 10]/' -e 's/^std::string hoge=.*; \\/\\/OPTIMIZE{\"11\", \"unnn\" ,\"ooo\"}$/std::string hoge=\"11\"; \\/\\/OPTIMIZE{\"11\", \"unnn\" ,\"ooo\"}/'\n",
      "g++ 38_answer.cpp -std=gnu++17 -O2 -DONLINE_JUDGE -o 38_answer.cpp.out\n"
     ]
    },
    {
     "name": "stderr",
     "output_type": "stream",
     "text": [
      "\u001b[32m[I 2021-04-25 09:51:10,841]\u001b[0m Trial 37 finished with value: 49103106908.0 and parameters: {'ANNEALING_A': -7.707022174563042, 'ANNEALING_B': 6.449761365760253, 'ANNEALING_END': 0.00017510598999459503, 'ANNEALING_START': 0.16463220976433052, 'GRADIENT_CLIPPING': 7.207825824547356e-05, 'GRADIENT_DESCENT_LR': 561063.1217593839, 'GRADIENT_DESCENT_MOMENTUM': 0.7790441863372259, 'GRADIENT_DESCENT_STEPS': 25, 'GRADIENT_DESCENT_STEPS_STEPPING_PROGRESS_RATE': 0.9337000871205396, 'LINE_LENGTH_LOSS_STEPPING_PROGRESS_RATE': 0.48989492361257136, 'LINE_LENGTH_LOSS_WEIGHT': 6.560925311066177e-05, 'N_RANDOM_FACE_CHOICE': 8, 'hoge': '\"unnn\"'}. Best is trial 32 with value: 49240807952.0.\u001b[0m\n"
     ]
    },
    {
     "name": "stdout",
     "output_type": "stream",
     "text": [
      "callback ok\n",
      "index_parallel=39\n",
      "rm: cannot remove '39_out/*': No such file or directory\n",
      "rm: cannot remove '39_score/*': No such file or directory\n",
      "sed -i 39_answer.cpp -e 's/^constexpr double ANNEALING_A = .*;  \\/\\/ OPTIMIZE \\[-10\\.0, 0\\.0\\]$/constexpr double ANNEALING_A = -7.604949019420109;  \\/\\/ OPTIMIZE [-10.0, 0.0]/' -e 's/^constexpr double ANNEALING_B = .*;  \\/\\/ OPTIMIZE \\[0\\.0, 7\\.0\\]$/constexpr double ANNEALING_B = 4.727901015339171;  \\/\\/ OPTIMIZE [0.0, 7.0]/' -e 's/^constexpr double ANNEALING_END = .*;  \\/\\/ OPTIMIZE \\[1e-4, 0\\.005\\] LOG$/constexpr double ANNEALING_END = 0.00011824558544823514;  \\/\\/ OPTIMIZE [1e-4, 0.005] LOG/' -e 's/^constexpr double ANNEALING_START = .*;  \\/\\/ OPTIMIZE \\[0\\.001, 0\\.5\\] LOG$/constexpr double ANNEALING_START = 0.037422689197348175;  \\/\\/ OPTIMIZE [0.001, 0.5] LOG/' -e 's/^constexpr double GRADIENT_CLIPPING = .*;  \\/\\/ OPTIMIZE \\[1e-7, 2e-4\\] LOG$/constexpr double GRADIENT_CLIPPING = 6.851114743443468e-05;  \\/\\/ OPTIMIZE [1e-7, 2e-4] LOG/' -e 's/^constexpr double GRADIENT_DESCENT_LR = .*;  \\/\\/ OPTIMIZE \\[100000\\.0, 50000000\\.0\\] LOG$/constexpr double GRADIENT_DESCENT_LR = 693032.732648476;  \\/\\/ OPTIMIZE [100000.0, 50000000.0] LOG/' -e 's/^constexpr double GRADIENT_DESCENT_MOMENTUM = .*;  \\/\\/ OPTIMIZE \\[0\\.0, 1\\.0\\]$/constexpr double GRADIENT_DESCENT_MOMENTUM = 0.8262586914220322;  \\/\\/ OPTIMIZE [0.0, 1.0]/' -e 's/^constexpr int GRADIENT_DESCENT_STEPS = .*;  \\/\\/ OPTIMIZE \\[1, 30\\]$/constexpr int GRADIENT_DESCENT_STEPS = 23;  \\/\\/ OPTIMIZE [1, 30]/' -e 's/^constexpr double GRADIENT_DESCENT_STEPS_STEPPING_PROGRESS_RATE = .*;  \\/\\/ OPTIMIZE \\[0\\.0, 1\\.0\\]$/constexpr double GRADIENT_DESCENT_STEPS_STEPPING_PROGRESS_RATE = 0.7518104059952472;  \\/\\/ OPTIMIZE [0.0, 1.0]/' -e 's/^constexpr double LINE_LENGTH_LOSS_STEPPING_PROGRESS_RATE = .*;  \\/\\/ OPTIMIZE \\[0\\.0, 1\\.0\\]$/constexpr double LINE_LENGTH_LOSS_STEPPING_PROGRESS_RATE = 0.522063637051414;  \\/\\/ OPTIMIZE [0.0, 1.0]/' -e 's/^constexpr double  LINE_LENGTH_LOSS_WEIGHT = .*;  \\/\\/ OPTIMIZE \\[1e-8, 1e-4\\] LOG$/constexpr double  LINE_LENGTH_LOSS_WEIGHT = 6.752799181672707e-05;  \\/\\/ OPTIMIZE [1e-8, 1e-4] LOG/' -e 's/^constexpr int N_RANDOM_FACE_CHOICE = .*;  \\/\\/ OPTIMIZE \\[1, 10\\]$/constexpr int N_RANDOM_FACE_CHOICE = 8;  \\/\\/ OPTIMIZE [1, 10]/' -e 's/^std::string hoge=.*; \\/\\/OPTIMIZE{\"11\", \"unnn\" ,\"ooo\"}$/std::string hoge=\"unnn\"; \\/\\/OPTIMIZE{\"11\", \"unnn\" ,\"ooo\"}/'\n",
      "g++ 39_answer.cpp -std=gnu++17 -O2 -DONLINE_JUDGE -o 39_answer.cpp.out\n"
     ]
    },
    {
     "name": "stderr",
     "output_type": "stream",
     "text": [
      "\u001b[32m[I 2021-04-25 09:52:17,965]\u001b[0m Trial 38 finished with value: 49162535750.0 and parameters: {'ANNEALING_A': -7.534738319033272, 'ANNEALING_B': 6.379302243142035, 'ANNEALING_END': 0.0009482231127117306, 'ANNEALING_START': 0.17335135971962384, 'GRADIENT_CLIPPING': 7.028452984544617e-05, 'GRADIENT_DESCENT_LR': 396220.9889563294, 'GRADIENT_DESCENT_MOMENTUM': 0.596941543107866, 'GRADIENT_DESCENT_STEPS': 23, 'GRADIENT_DESCENT_STEPS_STEPPING_PROGRESS_RATE': 0.7516402238716373, 'LINE_LENGTH_LOSS_STEPPING_PROGRESS_RATE': 0.7050176081653097, 'LINE_LENGTH_LOSS_WEIGHT': 6.704740938230985e-05, 'N_RANDOM_FACE_CHOICE': 9, 'hoge': '\"11\"'}. Best is trial 32 with value: 49240807952.0.\u001b[0m\n"
     ]
    },
    {
     "name": "stdout",
     "output_type": "stream",
     "text": [
      "callback ok\n",
      "index_parallel=40\n",
      "rm: cannot remove '40_out/*': No such file or directory\n",
      "rm: cannot remove '40_score/*': No such file or directory\n",
      "sed -i 40_answer.cpp -e 's/^constexpr double ANNEALING_A = .*;  \\/\\/ OPTIMIZE \\[-10\\.0, 0\\.0\\]$/constexpr double ANNEALING_A = -7.3451953844041284;  \\/\\/ OPTIMIZE [-10.0, 0.0]/' -e 's/^constexpr double ANNEALING_B = .*;  \\/\\/ OPTIMIZE \\[0\\.0, 7\\.0\\]$/constexpr double ANNEALING_B = 6.339297732544367;  \\/\\/ OPTIMIZE [0.0, 7.0]/' -e 's/^constexpr double ANNEALING_END = .*;  \\/\\/ OPTIMIZE \\[1e-4, 0\\.005\\] LOG$/constexpr double ANNEALING_END = 0.0001230410315351664;  \\/\\/ OPTIMIZE [1e-4, 0.005] LOG/' -e 's/^constexpr double ANNEALING_START = .*;  \\/\\/ OPTIMIZE \\[0\\.001, 0\\.5\\] LOG$/constexpr double ANNEALING_START = 0.05585446547887998;  \\/\\/ OPTIMIZE [0.001, 0.5] LOG/' -e 's/^constexpr double GRADIENT_CLIPPING = .*;  \\/\\/ OPTIMIZE \\[1e-7, 2e-4\\] LOG$/constexpr double GRADIENT_CLIPPING = 8.357890352567124e-05;  \\/\\/ OPTIMIZE [1e-7, 2e-4] LOG/' -e 's/^constexpr double GRADIENT_DESCENT_LR = .*;  \\/\\/ OPTIMIZE \\[100000\\.0, 50000000\\.0\\] LOG$/constexpr double GRADIENT_DESCENT_LR = 999710.3291191313;  \\/\\/ OPTIMIZE [100000.0, 50000000.0] LOG/' -e 's/^constexpr double GRADIENT_DESCENT_MOMENTUM = .*;  \\/\\/ OPTIMIZE \\[0\\.0, 1\\.0\\]$/constexpr double GRADIENT_DESCENT_MOMENTUM = 0.5995175390411323;  \\/\\/ OPTIMIZE [0.0, 1.0]/' -e 's/^constexpr int GRADIENT_DESCENT_STEPS = .*;  \\/\\/ OPTIMIZE \\[1, 30\\]$/constexpr int GRADIENT_DESCENT_STEPS = 22;  \\/\\/ OPTIMIZE [1, 30]/' -e 's/^constexpr double GRADIENT_DESCENT_STEPS_STEPPING_PROGRESS_RATE = .*;  \\/\\/ OPTIMIZE \\[0\\.0, 1\\.0\\]$/constexpr double GRADIENT_DESCENT_STEPS_STEPPING_PROGRESS_RATE = 0.6336254932274513;  \\/\\/ OPTIMIZE [0.0, 1.0]/' -e 's/^constexpr double LINE_LENGTH_LOSS_STEPPING_PROGRESS_RATE = .*;  \\/\\/ OPTIMIZE \\[0\\.0, 1\\.0\\]$/constexpr double LINE_LENGTH_LOSS_STEPPING_PROGRESS_RATE = 0.6601114106609615;  \\/\\/ OPTIMIZE [0.0, 1.0]/' -e 's/^constexpr double  LINE_LENGTH_LOSS_WEIGHT = .*;  \\/\\/ OPTIMIZE \\[1e-8, 1e-4\\] LOG$/constexpr double  LINE_LENGTH_LOSS_WEIGHT = 8.19159785189997e-05;  \\/\\/ OPTIMIZE [1e-8, 1e-4] LOG/' -e 's/^constexpr int N_RANDOM_FACE_CHOICE = .*;  \\/\\/ OPTIMIZE \\[1, 10\\]$/constexpr int N_RANDOM_FACE_CHOICE = 8;  \\/\\/ OPTIMIZE [1, 10]/' -e 's/^std::string hoge=.*; \\/\\/OPTIMIZE{\"11\", \"unnn\" ,\"ooo\"}$/std::string hoge=\"unnn\"; \\/\\/OPTIMIZE{\"11\", \"unnn\" ,\"ooo\"}/'\n",
      "g++ 40_answer.cpp -std=gnu++17 -O2 -DONLINE_JUDGE -o 40_answer.cpp.out\n"
     ]
    },
    {
     "name": "stderr",
     "output_type": "stream",
     "text": [
      "\u001b[32m[I 2021-04-25 09:52:32,222]\u001b[0m Trial 39 finished with value: 47003181750.0 and parameters: {'ANNEALING_A': -7.604949019420109, 'ANNEALING_B': 4.727901015339171, 'ANNEALING_END': 0.00011824558544823514, 'ANNEALING_START': 0.037422689197348175, 'GRADIENT_CLIPPING': 6.851114743443468e-05, 'GRADIENT_DESCENT_LR': 693032.732648476, 'GRADIENT_DESCENT_MOMENTUM': 0.8262586914220322, 'GRADIENT_DESCENT_STEPS': 23, 'GRADIENT_DESCENT_STEPS_STEPPING_PROGRESS_RATE': 0.7518104059952472, 'LINE_LENGTH_LOSS_STEPPING_PROGRESS_RATE': 0.522063637051414, 'LINE_LENGTH_LOSS_WEIGHT': 6.752799181672707e-05, 'N_RANDOM_FACE_CHOICE': 8, 'hoge': '\"unnn\"'}. Best is trial 32 with value: 49240807952.0.\u001b[0m\n"
     ]
    },
    {
     "name": "stdout",
     "output_type": "stream",
     "text": [
      "callback ok\n",
      "index_parallel=41\n",
      "rm: cannot remove '41_out/*': No such file or directory\n",
      "rm: cannot remove '41_score/*': No such file or directory\n",
      "sed -i 41_answer.cpp -e 's/^constexpr double ANNEALING_A = .*;  \\/\\/ OPTIMIZE \\[-10\\.0, 0\\.0\\]$/constexpr double ANNEALING_A = -7.323671505190099;  \\/\\/ OPTIMIZE [-10.0, 0.0]/' -e 's/^constexpr double ANNEALING_B = .*;  \\/\\/ OPTIMIZE \\[0\\.0, 7\\.0\\]$/constexpr double ANNEALING_B = 6.439210632575185;  \\/\\/ OPTIMIZE [0.0, 7.0]/' -e 's/^constexpr double ANNEALING_END = .*;  \\/\\/ OPTIMIZE \\[1e-4, 0\\.005\\] LOG$/constexpr double ANNEALING_END = 0.0010281915854514973;  \\/\\/ OPTIMIZE [1e-4, 0.005] LOG/' -e 's/^constexpr double ANNEALING_START = .*;  \\/\\/ OPTIMIZE \\[0\\.001, 0\\.5\\] LOG$/constexpr double ANNEALING_START = 0.1623149665625046;  \\/\\/ OPTIMIZE [0.001, 0.5] LOG/' -e 's/^constexpr double GRADIENT_CLIPPING = .*;  \\/\\/ OPTIMIZE \\[1e-7, 2e-4\\] LOG$/constexpr double GRADIENT_CLIPPING = 8.301627193799473e-05;  \\/\\/ OPTIMIZE [1e-7, 2e-4] LOG/' -e 's/^constexpr double GRADIENT_DESCENT_LR = .*;  \\/\\/ OPTIMIZE \\[100000\\.0, 50000000\\.0\\] LOG$/constexpr double GRADIENT_DESCENT_LR = 240358.80316443805;  \\/\\/ OPTIMIZE [100000.0, 50000000.0] LOG/' -e 's/^constexpr double GRADIENT_DESCENT_MOMENTUM = .*;  \\/\\/ OPTIMIZE \\[0\\.0, 1\\.0\\]$/constexpr double GRADIENT_DESCENT_MOMENTUM = 0.5874564564331755;  \\/\\/ OPTIMIZE [0.0, 1.0]/' -e 's/^constexpr int GRADIENT_DESCENT_STEPS = .*;  \\/\\/ OPTIMIZE \\[1, 30\\]$/constexpr int GRADIENT_DESCENT_STEPS = 21;  \\/\\/ OPTIMIZE [1, 30]/' -e 's/^constexpr double GRADIENT_DESCENT_STEPS_STEPPING_PROGRESS_RATE = .*;  \\/\\/ OPTIMIZE \\[0\\.0, 1\\.0\\]$/constexpr double GRADIENT_DESCENT_STEPS_STEPPING_PROGRESS_RATE = 0.7023467836819004;  \\/\\/ OPTIMIZE [0.0, 1.0]/' -e 's/^constexpr double LINE_LENGTH_LOSS_STEPPING_PROGRESS_RATE = .*;  \\/\\/ OPTIMIZE \\[0\\.0, 1\\.0\\]$/constexpr double LINE_LENGTH_LOSS_STEPPING_PROGRESS_RATE = 0.6720944819808066;  \\/\\/ OPTIMIZE [0.0, 1.0]/' -e 's/^constexpr double  LINE_LENGTH_LOSS_WEIGHT = .*;  \\/\\/ OPTIMIZE \\[1e-8, 1e-4\\] LOG$/constexpr double  LINE_LENGTH_LOSS_WEIGHT = 9.233075878789434e-05;  \\/\\/ OPTIMIZE [1e-8, 1e-4] LOG/' -e 's/^constexpr int N_RANDOM_FACE_CHOICE = .*;  \\/\\/ OPTIMIZE \\[1, 10\\]$/constexpr int N_RANDOM_FACE_CHOICE = 4;  \\/\\/ OPTIMIZE [1, 10]/' -e 's/^std::string hoge=.*; \\/\\/OPTIMIZE{\"11\", \"unnn\" ,\"ooo\"}$/std::string hoge=\"11\"; \\/\\/OPTIMIZE{\"11\", \"unnn\" ,\"ooo\"}/'\n",
      "g++ 41_answer.cpp -std=gnu++17 -O2 -DONLINE_JUDGE -o 41_answer.cpp.out\n"
     ]
    },
    {
     "name": "stderr",
     "output_type": "stream",
     "text": [
      "\u001b[32m[I 2021-04-25 09:53:37,392]\u001b[0m Trial 40 finished with value: 46927995487.0 and parameters: {'ANNEALING_A': -7.3451953844041284, 'ANNEALING_B': 6.339297732544367, 'ANNEALING_END': 0.0001230410315351664, 'ANNEALING_START': 0.05585446547887998, 'GRADIENT_CLIPPING': 8.357890352567124e-05, 'GRADIENT_DESCENT_LR': 999710.3291191313, 'GRADIENT_DESCENT_MOMENTUM': 0.5995175390411323, 'GRADIENT_DESCENT_STEPS': 22, 'GRADIENT_DESCENT_STEPS_STEPPING_PROGRESS_RATE': 0.6336254932274513, 'LINE_LENGTH_LOSS_STEPPING_PROGRESS_RATE': 0.6601114106609615, 'LINE_LENGTH_LOSS_WEIGHT': 8.19159785189997e-05, 'N_RANDOM_FACE_CHOICE': 8, 'hoge': '\"unnn\"'}. Best is trial 32 with value: 49240807952.0.\u001b[0m\n"
     ]
    },
    {
     "name": "stdout",
     "output_type": "stream",
     "text": [
      "callback ok\n",
      "index_parallel=42\n",
      "rm: cannot remove '42_out/*': No such file or directory\n",
      "rm: cannot remove '42_score/*': No such file or directory\n",
      "sed -i 42_answer.cpp -e 's/^constexpr double ANNEALING_A = .*;  \\/\\/ OPTIMIZE \\[-10\\.0, 0\\.0\\]$/constexpr double ANNEALING_A = -8.45660693100378;  \\/\\/ OPTIMIZE [-10.0, 0.0]/' -e 's/^constexpr double ANNEALING_B = .*;  \\/\\/ OPTIMIZE \\[0\\.0, 7\\.0\\]$/constexpr double ANNEALING_B = 6.506926918911796;  \\/\\/ OPTIMIZE [0.0, 7.0]/' -e 's/^constexpr double ANNEALING_END = .*;  \\/\\/ OPTIMIZE \\[1e-4, 0\\.005\\] LOG$/constexpr double ANNEALING_END = 0.000961212138485138;  \\/\\/ OPTIMIZE [1e-4, 0.005] LOG/' -e 's/^constexpr double ANNEALING_START = .*;  \\/\\/ OPTIMIZE \\[0\\.001, 0\\.5\\] LOG$/constexpr double ANNEALING_START = 0.15658781729366944;  \\/\\/ OPTIMIZE [0.001, 0.5] LOG/' -e 's/^constexpr double GRADIENT_CLIPPING = .*;  \\/\\/ OPTIMIZE \\[1e-7, 2e-4\\] LOG$/constexpr double GRADIENT_CLIPPING = 8.819662651302143e-05;  \\/\\/ OPTIMIZE [1e-7, 2e-4] LOG/' -e 's/^constexpr double GRADIENT_DESCENT_LR = .*;  \\/\\/ OPTIMIZE \\[100000\\.0, 50000000\\.0\\] LOG$/constexpr double GRADIENT_DESCENT_LR = 242033.15124768863;  \\/\\/ OPTIMIZE [100000.0, 50000000.0] LOG/' -e 's/^constexpr double GRADIENT_DESCENT_MOMENTUM = .*;  \\/\\/ OPTIMIZE \\[0\\.0, 1\\.0\\]$/constexpr double GRADIENT_DESCENT_MOMENTUM = 0.6459489501620828;  \\/\\/ OPTIMIZE [0.0, 1.0]/' -e 's/^constexpr int GRADIENT_DESCENT_STEPS = .*;  \\/\\/ OPTIMIZE \\[1, 30\\]$/constexpr int GRADIENT_DESCENT_STEPS = 25;  \\/\\/ OPTIMIZE [1, 30]/' -e 's/^constexpr double GRADIENT_DESCENT_STEPS_STEPPING_PROGRESS_RATE = .*;  \\/\\/ OPTIMIZE \\[0\\.0, 1\\.0\\]$/constexpr double GRADIENT_DESCENT_STEPS_STEPPING_PROGRESS_RATE = 0.4565164111620706;  \\/\\/ OPTIMIZE [0.0, 1.0]/' -e 's/^constexpr double LINE_LENGTH_LOSS_STEPPING_PROGRESS_RATE = .*;  \\/\\/ OPTIMIZE \\[0\\.0, 1\\.0\\]$/constexpr double LINE_LENGTH_LOSS_STEPPING_PROGRESS_RATE = 0.736547001987784;  \\/\\/ OPTIMIZE [0.0, 1.0]/' -e 's/^constexpr double  LINE_LENGTH_LOSS_WEIGHT = .*;  \\/\\/ OPTIMIZE \\[1e-8, 1e-4\\] LOG$/constexpr double  LINE_LENGTH_LOSS_WEIGHT = 6.296397163348198e-05;  \\/\\/ OPTIMIZE [1e-8, 1e-4] LOG/' -e 's/^constexpr int N_RANDOM_FACE_CHOICE = .*;  \\/\\/ OPTIMIZE \\[1, 10\\]$/constexpr int N_RANDOM_FACE_CHOICE = 10;  \\/\\/ OPTIMIZE [1, 10]/' -e 's/^std::string hoge=.*; \\/\\/OPTIMIZE{\"11\", \"unnn\" ,\"ooo\"}$/std::string hoge=\"11\"; \\/\\/OPTIMIZE{\"11\", \"unnn\" ,\"ooo\"}/'\n",
      "g++ 42_answer.cpp -std=gnu++17 -O2 -DONLINE_JUDGE -o 42_answer.cpp.out\n"
     ]
    },
    {
     "name": "stderr",
     "output_type": "stream",
     "text": [
      "\u001b[32m[I 2021-04-25 09:53:51,757]\u001b[0m Trial 41 finished with value: 49055026749.0 and parameters: {'ANNEALING_A': -7.323671505190099, 'ANNEALING_B': 6.439210632575185, 'ANNEALING_END': 0.0010281915854514973, 'ANNEALING_START': 0.1623149665625046, 'GRADIENT_CLIPPING': 8.301627193799473e-05, 'GRADIENT_DESCENT_LR': 240358.80316443805, 'GRADIENT_DESCENT_MOMENTUM': 0.5874564564331755, 'GRADIENT_DESCENT_STEPS': 21, 'GRADIENT_DESCENT_STEPS_STEPPING_PROGRESS_RATE': 0.7023467836819004, 'LINE_LENGTH_LOSS_STEPPING_PROGRESS_RATE': 0.6720944819808066, 'LINE_LENGTH_LOSS_WEIGHT': 9.233075878789434e-05, 'N_RANDOM_FACE_CHOICE': 4, 'hoge': '\"11\"'}. Best is trial 32 with value: 49240807952.0.\u001b[0m\n"
     ]
    },
    {
     "name": "stdout",
     "output_type": "stream",
     "text": [
      "callback ok\n",
      "index_parallel=43\n",
      "rm: cannot remove '43_out/*': No such file or directory\n",
      "rm: cannot remove '43_score/*': No such file or directory\n",
      "sed -i 43_answer.cpp -e 's/^constexpr double ANNEALING_A = .*;  \\/\\/ OPTIMIZE \\[-10\\.0, 0\\.0\\]$/constexpr double ANNEALING_A = -8.22873762024205;  \\/\\/ OPTIMIZE [-10.0, 0.0]/' -e 's/^constexpr double ANNEALING_B = .*;  \\/\\/ OPTIMIZE \\[0\\.0, 7\\.0\\]$/constexpr double ANNEALING_B = 5.815977842733664;  \\/\\/ OPTIMIZE [0.0, 7.0]/' -e 's/^constexpr double ANNEALING_END = .*;  \\/\\/ OPTIMIZE \\[1e-4, 0\\.005\\] LOG$/constexpr double ANNEALING_END = 0.0008712524531175465;  \\/\\/ OPTIMIZE [1e-4, 0.005] LOG/' -e 's/^constexpr double ANNEALING_START = .*;  \\/\\/ OPTIMIZE \\[0\\.001, 0\\.5\\] LOG$/constexpr double ANNEALING_START = 0.09726973535451365;  \\/\\/ OPTIMIZE [0.001, 0.5] LOG/' -e 's/^constexpr double GRADIENT_CLIPPING = .*;  \\/\\/ OPTIMIZE \\[1e-7, 2e-4\\] LOG$/constexpr double GRADIENT_CLIPPING = 6.76827361845025e-05;  \\/\\/ OPTIMIZE [1e-7, 2e-4] LOG/' -e 's/^constexpr double GRADIENT_DESCENT_LR = .*;  \\/\\/ OPTIMIZE \\[100000\\.0, 50000000\\.0\\] LOG$/constexpr double GRADIENT_DESCENT_LR = 3935919.4921779945;  \\/\\/ OPTIMIZE [100000.0, 50000000.0] LOG/' -e 's/^constexpr double GRADIENT_DESCENT_MOMENTUM = .*;  \\/\\/ OPTIMIZE \\[0\\.0, 1\\.0\\]$/constexpr double GRADIENT_DESCENT_MOMENTUM = 0.45112395138352357;  \\/\\/ OPTIMIZE [0.0, 1.0]/' -e 's/^constexpr int GRADIENT_DESCENT_STEPS = .*;  \\/\\/ OPTIMIZE \\[1, 30\\]$/constexpr int GRADIENT_DESCENT_STEPS = 25;  \\/\\/ OPTIMIZE [1, 30]/' -e 's/^constexpr double GRADIENT_DESCENT_STEPS_STEPPING_PROGRESS_RATE = .*;  \\/\\/ OPTIMIZE \\[0\\.0, 1\\.0\\]$/constexpr double GRADIENT_DESCENT_STEPS_STEPPING_PROGRESS_RATE = 0.4334988002374179;  \\/\\/ OPTIMIZE [0.0, 1.0]/' -e 's/^constexpr double LINE_LENGTH_LOSS_STEPPING_PROGRESS_RATE = .*;  \\/\\/ OPTIMIZE \\[0\\.0, 1\\.0\\]$/constexpr double LINE_LENGTH_LOSS_STEPPING_PROGRESS_RATE = 0.7248144651454627;  \\/\\/ OPTIMIZE [0.0, 1.0]/' -e 's/^constexpr double  LINE_LENGTH_LOSS_WEIGHT = .*;  \\/\\/ OPTIMIZE \\[1e-8, 1e-4\\] LOG$/constexpr double  LINE_LENGTH_LOSS_WEIGHT = 6.528753325152422e-05;  \\/\\/ OPTIMIZE [1e-8, 1e-4] LOG/' -e 's/^constexpr int N_RANDOM_FACE_CHOICE = .*;  \\/\\/ OPTIMIZE \\[1, 10\\]$/constexpr int N_RANDOM_FACE_CHOICE = 10;  \\/\\/ OPTIMIZE [1, 10]/' -e 's/^std::string hoge=.*; \\/\\/OPTIMIZE{\"11\", \"unnn\" ,\"ooo\"}$/std::string hoge=\"11\"; \\/\\/OPTIMIZE{\"11\", \"unnn\" ,\"ooo\"}/'\n",
      "g++ 43_answer.cpp -std=gnu++17 -O2 -DONLINE_JUDGE -o 43_answer.cpp.out\n"
     ]
    },
    {
     "name": "stderr",
     "output_type": "stream",
     "text": [
      "\u001b[32m[I 2021-04-25 09:54:55,264]\u001b[0m Trial 42 finished with value: 49078384830.0 and parameters: {'ANNEALING_A': -8.45660693100378, 'ANNEALING_B': 6.506926918911796, 'ANNEALING_END': 0.000961212138485138, 'ANNEALING_START': 0.15658781729366944, 'GRADIENT_CLIPPING': 8.819662651302143e-05, 'GRADIENT_DESCENT_LR': 242033.15124768863, 'GRADIENT_DESCENT_MOMENTUM': 0.6459489501620828, 'GRADIENT_DESCENT_STEPS': 25, 'GRADIENT_DESCENT_STEPS_STEPPING_PROGRESS_RATE': 0.4565164111620706, 'LINE_LENGTH_LOSS_STEPPING_PROGRESS_RATE': 0.736547001987784, 'LINE_LENGTH_LOSS_WEIGHT': 6.296397163348198e-05, 'N_RANDOM_FACE_CHOICE': 10, 'hoge': '\"11\"'}. Best is trial 32 with value: 49240807952.0.\u001b[0m\n"
     ]
    },
    {
     "name": "stdout",
     "output_type": "stream",
     "text": [
      "callback ok\n",
      "index_parallel=44\n",
      "rm: cannot remove '44_out/*': No such file or directory\n",
      "rm: cannot remove '44_score/*': No such file or directory\n",
      "sed -i 44_answer.cpp -e 's/^constexpr double ANNEALING_A = .*;  \\/\\/ OPTIMIZE \\[-10\\.0, 0\\.0\\]$/constexpr double ANNEALING_A = -5.969070198163061;  \\/\\/ OPTIMIZE [-10.0, 0.0]/' -e 's/^constexpr double ANNEALING_B = .*;  \\/\\/ OPTIMIZE \\[0\\.0, 7\\.0\\]$/constexpr double ANNEALING_B = 5.88702126495365;  \\/\\/ OPTIMIZE [0.0, 7.0]/' -e 's/^constexpr double ANNEALING_END = .*;  \\/\\/ OPTIMIZE \\[1e-4, 0\\.005\\] LOG$/constexpr double ANNEALING_END = 0.00028309933964219765;  \\/\\/ OPTIMIZE [1e-4, 0.005] LOG/' -e 's/^constexpr double ANNEALING_START = .*;  \\/\\/ OPTIMIZE \\[0\\.001, 0\\.5\\] LOG$/constexpr double ANNEALING_START = 0.10643187610482946;  \\/\\/ OPTIMIZE [0.001, 0.5] LOG/' -e 's/^constexpr double GRADIENT_CLIPPING = .*;  \\/\\/ OPTIMIZE \\[1e-7, 2e-4\\] LOG$/constexpr double GRADIENT_CLIPPING = 6.951949953760502e-05;  \\/\\/ OPTIMIZE [1e-7, 2e-4] LOG/' -e 's/^constexpr double GRADIENT_DESCENT_LR = .*;  \\/\\/ OPTIMIZE \\[100000\\.0, 50000000\\.0\\] LOG$/constexpr double GRADIENT_DESCENT_LR = 3418126.4568686076;  \\/\\/ OPTIMIZE [100000.0, 50000000.0] LOG/' -e 's/^constexpr double GRADIENT_DESCENT_MOMENTUM = .*;  \\/\\/ OPTIMIZE \\[0\\.0, 1\\.0\\]$/constexpr double GRADIENT_DESCENT_MOMENTUM = 0.43561049196673546;  \\/\\/ OPTIMIZE [0.0, 1.0]/' -e 's/^constexpr int GRADIENT_DESCENT_STEPS = .*;  \\/\\/ OPTIMIZE \\[1, 30\\]$/constexpr int GRADIENT_DESCENT_STEPS = 28;  \\/\\/ OPTIMIZE [1, 30]/' -e 's/^constexpr double GRADIENT_DESCENT_STEPS_STEPPING_PROGRESS_RATE = .*;  \\/\\/ OPTIMIZE \\[0\\.0, 1\\.0\\]$/constexpr double GRADIENT_DESCENT_STEPS_STEPPING_PROGRESS_RATE = 0.9362261082889516;  \\/\\/ OPTIMIZE [0.0, 1.0]/' -e 's/^constexpr double LINE_LENGTH_LOSS_STEPPING_PROGRESS_RATE = .*;  \\/\\/ OPTIMIZE \\[0\\.0, 1\\.0\\]$/constexpr double LINE_LENGTH_LOSS_STEPPING_PROGRESS_RATE = 0.6148413055518497;  \\/\\/ OPTIMIZE [0.0, 1.0]/' -e 's/^constexpr double  LINE_LENGTH_LOSS_WEIGHT = .*;  \\/\\/ OPTIMIZE \\[1e-8, 1e-4\\] LOG$/constexpr double  LINE_LENGTH_LOSS_WEIGHT = 5.2752879337788015e-05;  \\/\\/ OPTIMIZE [1e-8, 1e-4] LOG/' -e 's/^constexpr int N_RANDOM_FACE_CHOICE = .*;  \\/\\/ OPTIMIZE \\[1, 10\\]$/constexpr int N_RANDOM_FACE_CHOICE = 9;  \\/\\/ OPTIMIZE [1, 10]/' -e 's/^std::string hoge=.*; \\/\\/OPTIMIZE{\"11\", \"unnn\" ,\"ooo\"}$/std::string hoge=\"unnn\"; \\/\\/OPTIMIZE{\"11\", \"unnn\" ,\"ooo\"}/'\n",
      "g++ 44_answer.cpp -std=gnu++17 -O2 -DONLINE_JUDGE -o 44_answer.cpp.out\n"
     ]
    },
    {
     "name": "stderr",
     "output_type": "stream",
     "text": [
      "\u001b[32m[I 2021-04-25 09:55:10,594]\u001b[0m Trial 43 finished with value: 47017369026.0 and parameters: {'ANNEALING_A': -8.22873762024205, 'ANNEALING_B': 5.815977842733664, 'ANNEALING_END': 0.0008712524531175465, 'ANNEALING_START': 0.09726973535451365, 'GRADIENT_CLIPPING': 6.76827361845025e-05, 'GRADIENT_DESCENT_LR': 3935919.4921779945, 'GRADIENT_DESCENT_MOMENTUM': 0.45112395138352357, 'GRADIENT_DESCENT_STEPS': 25, 'GRADIENT_DESCENT_STEPS_STEPPING_PROGRESS_RATE': 0.4334988002374179, 'LINE_LENGTH_LOSS_STEPPING_PROGRESS_RATE': 0.7248144651454627, 'LINE_LENGTH_LOSS_WEIGHT': 6.528753325152422e-05, 'N_RANDOM_FACE_CHOICE': 10, 'hoge': '\"11\"'}. Best is trial 32 with value: 49240807952.0.\u001b[0m\n"
     ]
    },
    {
     "name": "stdout",
     "output_type": "stream",
     "text": [
      "callback ok\n",
      "index_parallel=45\n",
      "rm: cannot remove '45_out/*': No such file or directory\n",
      "rm: cannot remove '45_score/*': No such file or directory\n",
      "sed -i 45_answer.cpp -e 's/^constexpr double ANNEALING_A = .*;  \\/\\/ OPTIMIZE \\[-10\\.0, 0\\.0\\]$/constexpr double ANNEALING_A = -6.781695061638815;  \\/\\/ OPTIMIZE [-10.0, 0.0]/' -e 's/^constexpr double ANNEALING_B = .*;  \\/\\/ OPTIMIZE \\[0\\.0, 7\\.0\\]$/constexpr double ANNEALING_B = 6.1333839862435475;  \\/\\/ OPTIMIZE [0.0, 7.0]/' -e 's/^constexpr double ANNEALING_END = .*;  \\/\\/ OPTIMIZE \\[1e-4, 0\\.005\\] LOG$/constexpr double ANNEALING_END = 0.004994974363198512;  \\/\\/ OPTIMIZE [1e-4, 0.005] LOG/' -e 's/^constexpr double ANNEALING_START = .*;  \\/\\/ OPTIMIZE \\[0\\.001, 0\\.5\\] LOG$/constexpr double ANNEALING_START = 0.17428092086696265;  \\/\\/ OPTIMIZE [0.001, 0.5] LOG/' -e 's/^constexpr double GRADIENT_CLIPPING = .*;  \\/\\/ OPTIMIZE \\[1e-7, 2e-4\\] LOG$/constexpr double GRADIENT_CLIPPING = 4.8111110823500036e-05;  \\/\\/ OPTIMIZE [1e-7, 2e-4] LOG/' -e 's/^constexpr double GRADIENT_DESCENT_LR = .*;  \\/\\/ OPTIMIZE \\[100000\\.0, 50000000\\.0\\] LOG$/constexpr double GRADIENT_DESCENT_LR = 2779781.9757116972;  \\/\\/ OPTIMIZE [100000.0, 50000000.0] LOG/' -e 's/^constexpr double GRADIENT_DESCENT_MOMENTUM = .*;  \\/\\/ OPTIMIZE \\[0\\.0, 1\\.0\\]$/constexpr double GRADIENT_DESCENT_MOMENTUM = 0.7851208456280918;  \\/\\/ OPTIMIZE [0.0, 1.0]/' -e 's/^constexpr int GRADIENT_DESCENT_STEPS = .*;  \\/\\/ OPTIMIZE \\[1, 30\\]$/constexpr int GRADIENT_DESCENT_STEPS = 29;  \\/\\/ OPTIMIZE [1, 30]/' -e 's/^constexpr double GRADIENT_DESCENT_STEPS_STEPPING_PROGRESS_RATE = .*;  \\/\\/ OPTIMIZE \\[0\\.0, 1\\.0\\]$/constexpr double GRADIENT_DESCENT_STEPS_STEPPING_PROGRESS_RATE = 0.9347541596870534;  \\/\\/ OPTIMIZE [0.0, 1.0]/' -e 's/^constexpr double LINE_LENGTH_LOSS_STEPPING_PROGRESS_RATE = .*;  \\/\\/ OPTIMIZE \\[0\\.0, 1\\.0\\]$/constexpr double LINE_LENGTH_LOSS_STEPPING_PROGRESS_RATE = 0.5893483942383583;  \\/\\/ OPTIMIZE [0.0, 1.0]/' -e 's/^constexpr double  LINE_LENGTH_LOSS_WEIGHT = .*;  \\/\\/ OPTIMIZE \\[1e-8, 1e-4\\] LOG$/constexpr double  LINE_LENGTH_LOSS_WEIGHT = 5.523145357257979e-05;  \\/\\/ OPTIMIZE [1e-8, 1e-4] LOG/' -e 's/^constexpr int N_RANDOM_FACE_CHOICE = .*;  \\/\\/ OPTIMIZE \\[1, 10\\]$/constexpr int N_RANDOM_FACE_CHOICE = 9;  \\/\\/ OPTIMIZE [1, 10]/' -e 's/^std::string hoge=.*; \\/\\/OPTIMIZE{\"11\", \"unnn\" ,\"ooo\"}$/std::string hoge=\"unnn\"; \\/\\/OPTIMIZE{\"11\", \"unnn\" ,\"ooo\"}/'\n",
      "g++ 45_answer.cpp -std=gnu++17 -O2 -DONLINE_JUDGE -o 45_answer.cpp.out\n"
     ]
    },
    {
     "name": "stderr",
     "output_type": "stream",
     "text": [
      "\u001b[32m[I 2021-04-25 09:56:14,989]\u001b[0m Trial 44 finished with value: 48918987464.0 and parameters: {'ANNEALING_A': -5.969070198163061, 'ANNEALING_B': 5.88702126495365, 'ANNEALING_END': 0.00028309933964219765, 'ANNEALING_START': 0.10643187610482946, 'GRADIENT_CLIPPING': 6.951949953760502e-05, 'GRADIENT_DESCENT_LR': 3418126.4568686076, 'GRADIENT_DESCENT_MOMENTUM': 0.43561049196673546, 'GRADIENT_DESCENT_STEPS': 28, 'GRADIENT_DESCENT_STEPS_STEPPING_PROGRESS_RATE': 0.9362261082889516, 'LINE_LENGTH_LOSS_STEPPING_PROGRESS_RATE': 0.6148413055518497, 'LINE_LENGTH_LOSS_WEIGHT': 5.2752879337788015e-05, 'N_RANDOM_FACE_CHOICE': 9, 'hoge': '\"unnn\"'}. Best is trial 32 with value: 49240807952.0.\u001b[0m\n"
     ]
    },
    {
     "name": "stdout",
     "output_type": "stream",
     "text": [
      "callback ok\n",
      "index_parallel=46\n",
      "rm: cannot remove '46_out/*': No such file or directory\n",
      "rm: cannot remove '46_score/*': No such file or directory\n",
      "sed -i 46_answer.cpp -e 's/^constexpr double ANNEALING_A = .*;  \\/\\/ OPTIMIZE \\[-10\\.0, 0\\.0\\]$/constexpr double ANNEALING_A = -6.8050367482603;  \\/\\/ OPTIMIZE [-10.0, 0.0]/' -e 's/^constexpr double ANNEALING_B = .*;  \\/\\/ OPTIMIZE \\[0\\.0, 7\\.0\\]$/constexpr double ANNEALING_B = 6.212776106727079;  \\/\\/ OPTIMIZE [0.0, 7.0]/' -e 's/^constexpr double ANNEALING_END = .*;  \\/\\/ OPTIMIZE \\[1e-4, 0\\.005\\] LOG$/constexpr double ANNEALING_END = 0.0016741458038641458;  \\/\\/ OPTIMIZE [1e-4, 0.005] LOG/' -e 's/^constexpr double ANNEALING_START = .*;  \\/\\/ OPTIMIZE \\[0\\.001, 0\\.5\\] LOG$/constexpr double ANNEALING_START = 0.1728474298755245;  \\/\\/ OPTIMIZE [0.001, 0.5] LOG/' -e 's/^constexpr double GRADIENT_CLIPPING = .*;  \\/\\/ OPTIMIZE \\[1e-7, 2e-4\\] LOG$/constexpr double GRADIENT_CLIPPING = 4.972837634115961e-05;  \\/\\/ OPTIMIZE [1e-7, 2e-4] LOG/' -e 's/^constexpr double GRADIENT_DESCENT_LR = .*;  \\/\\/ OPTIMIZE \\[100000\\.0, 50000000\\.0\\] LOG$/constexpr double GRADIENT_DESCENT_LR = 7041226.204706829;  \\/\\/ OPTIMIZE [100000.0, 50000000.0] LOG/' -e 's/^constexpr double GRADIENT_DESCENT_MOMENTUM = .*;  \\/\\/ OPTIMIZE \\[0\\.0, 1\\.0\\]$/constexpr double GRADIENT_DESCENT_MOMENTUM = 0.9036259519315895;  \\/\\/ OPTIMIZE [0.0, 1.0]/' -e 's/^constexpr int GRADIENT_DESCENT_STEPS = .*;  \\/\\/ OPTIMIZE \\[1, 30\\]$/constexpr int GRADIENT_DESCENT_STEPS = 29;  \\/\\/ OPTIMIZE [1, 30]/' -e 's/^constexpr double GRADIENT_DESCENT_STEPS_STEPPING_PROGRESS_RATE = .*;  \\/\\/ OPTIMIZE \\[0\\.0, 1\\.0\\]$/constexpr double GRADIENT_DESCENT_STEPS_STEPPING_PROGRESS_RATE = 0.848081831196317;  \\/\\/ OPTIMIZE [0.0, 1.0]/' -e 's/^constexpr double LINE_LENGTH_LOSS_STEPPING_PROGRESS_RATE = .*;  \\/\\/ OPTIMIZE \\[0\\.0, 1\\.0\\]$/constexpr double LINE_LENGTH_LOSS_STEPPING_PROGRESS_RATE = 0.8697779498051845;  \\/\\/ OPTIMIZE [0.0, 1.0]/' -e 's/^constexpr double  LINE_LENGTH_LOSS_WEIGHT = .*;  \\/\\/ OPTIMIZE \\[1e-8, 1e-4\\] LOG$/constexpr double  LINE_LENGTH_LOSS_WEIGHT = 7.482442781380589e-05;  \\/\\/ OPTIMIZE [1e-8, 1e-4] LOG/' -e 's/^constexpr int N_RANDOM_FACE_CHOICE = .*;  \\/\\/ OPTIMIZE \\[1, 10\\]$/constexpr int N_RANDOM_FACE_CHOICE = 9;  \\/\\/ OPTIMIZE [1, 10]/' -e 's/^std::string hoge=.*; \\/\\/OPTIMIZE{\"11\", \"unnn\" ,\"ooo\"}$/std::string hoge=\"unnn\"; \\/\\/OPTIMIZE{\"11\", \"unnn\" ,\"ooo\"}/'\n",
      "g++ 46_answer.cpp -std=gnu++17 -O2 -DONLINE_JUDGE -o 46_answer.cpp.out\n"
     ]
    },
    {
     "name": "stderr",
     "output_type": "stream",
     "text": [
      "\u001b[32m[I 2021-04-25 09:56:28,199]\u001b[0m Trial 45 finished with value: 48654010124.0 and parameters: {'ANNEALING_A': -6.781695061638815, 'ANNEALING_B': 6.1333839862435475, 'ANNEALING_END': 0.004994974363198512, 'ANNEALING_START': 0.17428092086696265, 'GRADIENT_CLIPPING': 4.8111110823500036e-05, 'GRADIENT_DESCENT_LR': 2779781.9757116972, 'GRADIENT_DESCENT_MOMENTUM': 0.7851208456280918, 'GRADIENT_DESCENT_STEPS': 29, 'GRADIENT_DESCENT_STEPS_STEPPING_PROGRESS_RATE': 0.9347541596870534, 'LINE_LENGTH_LOSS_STEPPING_PROGRESS_RATE': 0.5893483942383583, 'LINE_LENGTH_LOSS_WEIGHT': 5.523145357257979e-05, 'N_RANDOM_FACE_CHOICE': 9, 'hoge': '\"unnn\"'}. Best is trial 32 with value: 49240807952.0.\u001b[0m\n"
     ]
    },
    {
     "name": "stdout",
     "output_type": "stream",
     "text": [
      "callback ok\n",
      "index_parallel=47\n",
      "rm: cannot remove '47_out/*': No such file or directory\n",
      "rm: cannot remove '47_score/*': No such file or directory\n",
      "sed -i 47_answer.cpp -e 's/^constexpr double ANNEALING_A = .*;  \\/\\/ OPTIMIZE \\[-10\\.0, 0\\.0\\]$/constexpr double ANNEALING_A = -9.525713976271565;  \\/\\/ OPTIMIZE [-10.0, 0.0]/' -e 's/^constexpr double ANNEALING_B = .*;  \\/\\/ OPTIMIZE \\[0\\.0, 7\\.0\\]$/constexpr double ANNEALING_B = 5.399437404773775;  \\/\\/ OPTIMIZE [0.0, 7.0]/' -e 's/^constexpr double ANNEALING_END = .*;  \\/\\/ OPTIMIZE \\[1e-4, 0\\.005\\] LOG$/constexpr double ANNEALING_END = 0.0017740952918407888;  \\/\\/ OPTIMIZE [1e-4, 0.005] LOG/' -e 's/^constexpr double ANNEALING_START = .*;  \\/\\/ OPTIMIZE \\[0\\.001, 0\\.5\\] LOG$/constexpr double ANNEALING_START = 0.14135929930914384;  \\/\\/ OPTIMIZE [0.001, 0.5] LOG/' -e 's/^constexpr double GRADIENT_CLIPPING = .*;  \\/\\/ OPTIMIZE \\[1e-7, 2e-4\\] LOG$/constexpr double GRADIENT_CLIPPING = 2.86840389606166e-05;  \\/\\/ OPTIMIZE [1e-7, 2e-4] LOG/' -e 's/^constexpr double GRADIENT_DESCENT_LR = .*;  \\/\\/ OPTIMIZE \\[100000\\.0, 50000000\\.0\\] LOG$/constexpr double GRADIENT_DESCENT_LR = 6786914.645119064;  \\/\\/ OPTIMIZE [100000.0, 50000000.0] LOG/' -e 's/^constexpr double GRADIENT_DESCENT_MOMENTUM = .*;  \\/\\/ OPTIMIZE \\[0\\.0, 1\\.0\\]$/constexpr double GRADIENT_DESCENT_MOMENTUM = 0.6519546505477752;  \\/\\/ OPTIMIZE [0.0, 1.0]/' -e 's/^constexpr int GRADIENT_DESCENT_STEPS = .*;  \\/\\/ OPTIMIZE \\[1, 30\\]$/constexpr int GRADIENT_DESCENT_STEPS = 24;  \\/\\/ OPTIMIZE [1, 30]/' -e 's/^constexpr double GRADIENT_DESCENT_STEPS_STEPPING_PROGRESS_RATE = .*;  \\/\\/ OPTIMIZE \\[0\\.0, 1\\.0\\]$/constexpr double GRADIENT_DESCENT_STEPS_STEPPING_PROGRESS_RATE = 0.776919084786988;  \\/\\/ OPTIMIZE [0.0, 1.0]/' -e 's/^constexpr double LINE_LENGTH_LOSS_STEPPING_PROGRESS_RATE = .*;  \\/\\/ OPTIMIZE \\[0\\.0, 1\\.0\\]$/constexpr double LINE_LENGTH_LOSS_STEPPING_PROGRESS_RATE = 0.84483654558492;  \\/\\/ OPTIMIZE [0.0, 1.0]/' -e 's/^constexpr double  LINE_LENGTH_LOSS_WEIGHT = .*;  \\/\\/ OPTIMIZE \\[1e-8, 1e-4\\] LOG$/constexpr double  LINE_LENGTH_LOSS_WEIGHT = 7.598117565805732e-05;  \\/\\/ OPTIMIZE [1e-8, 1e-4] LOG/' -e 's/^constexpr int N_RANDOM_FACE_CHOICE = .*;  \\/\\/ OPTIMIZE \\[1, 10\\]$/constexpr int N_RANDOM_FACE_CHOICE = 8;  \\/\\/ OPTIMIZE [1, 10]/' -e 's/^std::string hoge=.*; \\/\\/OPTIMIZE{\"11\", \"unnn\" ,\"ooo\"}$/std::string hoge=\"11\"; \\/\\/OPTIMIZE{\"11\", \"unnn\" ,\"ooo\"}/'\n",
      "g++ 47_answer.cpp -std=gnu++17 -O2 -DONLINE_JUDGE -o 47_answer.cpp.out\n"
     ]
    }
   ],
   "source": [
    "storage_path = f\"study.db\"\n",
    "storage = f\"sqlite:///{storage_path}\"\n",
    "study_name = \"study\"\n",
    "study = optuna.create_study(storage=storage, load_if_exists=True, study_name=study_name, direction=\"maximize\")\n",
    "\n",
    "def callback(study, trial):\n",
    "    try:\n",
    "        if study.best_value == trial.value:\n",
    "            print(f\"Updated! {study.best_value}\")\n",
    "            index_parallel = trial.number % 100\n",
    "            parameters_changed_filename = f\"{index_parallel}_{FILENAME}\"\n",
    "            !cp {parameters_changed_filename} 00000optimized.cpp\n",
    "        print(\"callback ok\")\n",
    "    except:\n",
    "        print(\":(\")\n",
    "\n",
    "objective = partial(objective_with_index, n_internal_parallel=4)\n",
    "study.optimize(objective, n_trials=3000, timeout=3600, n_jobs=2, callbacks=[callback])"
   ]
  },
  {
   "cell_type": "code",
   "execution_count": null,
   "metadata": {},
   "outputs": [],
   "source": [
    "# $ apt install sysstat\n",
    "# $ mpstat -P ALL 5\n",
    "# とかやると CPU 負荷を見られる"
   ]
  },
  {
   "cell_type": "code",
   "execution_count": null,
   "metadata": {},
   "outputs": [],
   "source": [
    "print(f\"{study.best_value}\")\n",
    "pprint(study.best_params)"
   ]
  },
  {
   "cell_type": "code",
   "execution_count": null,
   "metadata": {},
   "outputs": [],
   "source": []
  }
 ],
 "metadata": {
  "kernelspec": {
   "display_name": "Python 3",
   "language": "python",
   "name": "python3"
  },
  "language_info": {
   "codemirror_mode": {
    "name": "ipython",
    "version": 3
   },
   "file_extension": ".py",
   "mimetype": "text/x-python",
   "name": "python",
   "nbconvert_exporter": "python",
   "pygments_lexer": "ipython3",
   "version": "3.8.5"
  }
 },
 "nbformat": 4,
 "nbformat_minor": 4
}
